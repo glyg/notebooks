{
 "metadata": {
  "name": "",
  "signature": "sha256:14b203134ac3db6670d4a3865c4587d467fcf8a367d5a7025b7a04b806a58017"
 },
 "nbformat": 3,
 "nbformat_minor": 0,
 "worksheets": [
  {
   "cells": [
    {
     "cell_type": "code",
     "collapsed": false,
     "input": [
      "%load_ext autoreload\n",
      "%autoreload 2"
     ],
     "language": "python",
     "metadata": {},
     "outputs": [],
     "prompt_number": 1
    },
    {
     "cell_type": "code",
     "collapsed": false,
     "input": [
      "import pandas as pd\n",
      "\n",
      "## !ln -s /usr/lib/python3/dist-packages/graph_tool\\\n",
      "## $HOME/anaconda/envs/python3/lib/python3.4/site-packages/graph_tool\n",
      "import graph_tool.all as gt\n",
      "import hdfgraph\n",
      "import leg_joint as lj"
     ],
     "language": "python",
     "metadata": {},
     "outputs": [
      {
       "output_type": "stream",
       "stream": "stderr",
       "text": [
        "2014-12-01 19:49:38,838 -leg_joint -INFO -successfully imported leg_joint\n"
       ]
      }
     ],
     "prompt_number": 2
    },
    {
     "cell_type": "code",
     "collapsed": false,
     "input": [
      "%matplotlib inline"
     ],
     "language": "python",
     "metadata": {},
     "outputs": [],
     "prompt_number": 3
    },
    {
     "cell_type": "heading",
     "level": 1,
     "metadata": {},
     "source": [
      " Representing a dynamical 3D+t graph with pandas and vispy"
     ]
    },
    {
     "cell_type": "markdown",
     "metadata": {},
     "source": [
      "## Introduction\n",
      "\n"
     ]
    },
    {
     "cell_type": "code",
     "collapsed": false,
     "input": [],
     "language": "python",
     "metadata": {},
     "outputs": []
    },
    {
     "cell_type": "code",
     "collapsed": false,
     "input": [
      "h5_path = '/home/guillaume/Notebooks/small/eptm_small_2014-09-15T16_45_46.h5'"
     ],
     "language": "python",
     "metadata": {},
     "outputs": [],
     "prompt_number": 4
    },
    {
     "cell_type": "code",
     "collapsed": false,
     "input": [
      "vertices_df, edges_df = hdfgraph.frames_from_hdf(h5_path)"
     ],
     "language": "python",
     "metadata": {},
     "outputs": [],
     "prompt_number": 5
    },
    {
     "cell_type": "code",
     "collapsed": false,
     "input": [
      "edges_df.index.names"
     ],
     "language": "python",
     "metadata": {},
     "outputs": [
      {
       "metadata": {},
       "output_type": "pyout",
       "prompt_number": 6,
       "text": [
        "FrozenList(['stamp', 'source', 'target'])"
       ]
      }
     ],
     "prompt_number": 6
    },
    {
     "cell_type": "code",
     "collapsed": false,
     "input": [
      "jes = edges_df[edges_df['is_junction_edge'] == 1]"
     ],
     "language": "python",
     "metadata": {},
     "outputs": [],
     "prompt_number": 7
    },
    {
     "cell_type": "code",
     "collapsed": false,
     "input": [
      "for je_idx, je_df in jes.groupby(level=['source', 'target']):\n",
      "    \n",
      "    stamps = je_df.index.get_level_values(level='stamp')\n",
      "\n",
      "    print(stamps)\n",
      "    break"
     ],
     "language": "python",
     "metadata": {},
     "outputs": [
      {
       "output_type": "stream",
       "stream": "stdout",
       "text": [
        "Int64Index([2, 5, 7, 9, 10], dtype='int64')\n"
       ]
      }
     ],
     "prompt_number": 8
    },
    {
     "cell_type": "code",
     "collapsed": false,
     "input": [
      "vertices_df = hdfgraph.vertices_time_slice(h5_path, None, None)\n",
      "print(vertices_df.index.get_level_values('stamp').unique())\n",
      "print(vertices_df.zeds.min())\n",
      "edges_df = hdfgraph.edges_time_slice(h5_path, 2, 5)\n",
      "print(edges_df.index.get_level_values('stamp').unique())\n"
     ],
     "language": "python",
     "metadata": {},
     "outputs": [
      {
       "output_type": "stream",
       "stream": "stdout",
       "text": [
        "[ 1  2  3  4  5  6  7  8  9 10]\n",
        "-7.67978553233\n",
        "[2 3 4]"
       ]
      },
      {
       "output_type": "stream",
       "stream": "stdout",
       "text": [
        "\n"
       ]
      }
     ],
     "prompt_number": 9
    },
    {
     "cell_type": "code",
     "collapsed": false,
     "input": [
      "%pdb"
     ],
     "language": "python",
     "metadata": {},
     "outputs": [
      {
       "output_type": "stream",
       "stream": "stdout",
       "text": [
        "Automatic pdb calling has been turned ON\n"
       ]
      }
     ],
     "prompt_number": 22
    },
    {
     "cell_type": "code",
     "collapsed": false,
     "input": [
      "def slice_data(vertices_df, edges_df, v_bounds={}):\n",
      "\n",
      "    for col, (v_min, v_max) in v_bounds.items():\n",
      "        vertices_df = vertices_df[vertices_df[col] >= v_min]\n",
      "        vertices_df = vertices_df[vertices_df[col] <= v_max]\n",
      "    vertex_index = set(vertices_df.index.get_level_values('vertex_index'))\n",
      "\n",
      "    src_index = set(edges_df.index.get_level_values('source'))\n",
      "    trgt_index = set(edges_df.index.get_level_values('target'))\n",
      "    srcs = src_index.intersection(vertex_index)\n",
      "    trgts = trgt_index.intersection(vertex_index)\n",
      "    edges_df['keep'] = True\n",
      "    keep = edges_df.groupby(level='source', group_keys=False).apply(select_idx_, 'source', srcs)\n",
      "    edges_df = edges_df[keep.values]\n",
      "    keep = edges_df.groupby(level='target', group_keys=False).apply(select_idx_, 'target', trgts)\n",
      "    edges_df = edges_df[keep.values]\n",
      "    return vertices_df, edges_df\n",
      "\n",
      "\n",
      "def select_idx_(df, idx_name, valids):\n",
      "    idx = df.index.get_level_values(idx_name)[0]\n",
      "    keep = df['keep'].copy()\n",
      "    keep.loc[:] = True\n",
      "    if idx not in valids:\n",
      "        keep.loc[:] = False\n",
      "    return keep\n",
      "\n",
      "def load_vertices(fname, start_stamp, stop_stamp, cols=None):\n",
      "\n",
      "    vertices = hdfgraph.vertices_time_slice(fname, start_stamp, stop_stamp)\n",
      "    if cols is not None:\n",
      "        vertices = vertices[cols]\n",
      "    return vertices.swaplevel(0, 1).sortlevel()\n",
      "\n",
      "def load_edges(fname, start_stamp, stop_stamp, cols=None):\n",
      "\n",
      "    edges = hdfgraph.edges_time_slice(fname, start_stamp, stop_stamp)\n",
      "    if cols is not None:\n",
      "        edges = edges[cols]\n",
      "    return edges.swaplevel(0,1).swaplevel(1,2).sortlevel()\n"
     ],
     "language": "python",
     "metadata": {},
     "outputs": [],
     "prompt_number": 10
    },
    {
     "cell_type": "code",
     "collapsed": false,
     "input": [
      "\n",
      "h5_path = '/media/data/Simulations/0001_2014-05-24T09_04_38/eptm_0001_2014-05-24T09_04_38.h5'"
     ],
     "language": "python",
     "metadata": {},
     "outputs": [],
     "prompt_number": 12
    },
    {
     "cell_type": "code",
     "collapsed": false,
     "input": [
      "%pdb"
     ],
     "language": "python",
     "metadata": {},
     "outputs": [
      {
       "output_type": "stream",
       "stream": "stdout",
       "text": [
        "Automatic pdb calling has been turned ON\n"
       ]
      }
     ],
     "prompt_number": 61
    },
    {
     "cell_type": "code",
     "collapsed": false,
     "input": [
      "vertices_df = load_vertices(h5_path, 0, 1)\n"
     ],
     "language": "python",
     "metadata": {},
     "outputs": [],
     "prompt_number": 13
    },
    {
     "cell_type": "code",
     "collapsed": false,
     "input": [
      "vertices_df.index.get_level_values('stamp').max()"
     ],
     "language": "python",
     "metadata": {},
     "outputs": [
      {
       "metadata": {},
       "output_type": "pyout",
       "prompt_number": 14,
       "text": [
        "18389"
       ]
      }
     ],
     "prompt_number": 14
    },
    {
     "cell_type": "code",
     "collapsed": false,
     "input": [
      "import numpy as np"
     ],
     "language": "python",
     "metadata": {},
     "outputs": [],
     "prompt_number": 16
    },
    {
     "cell_type": "code",
     "collapsed": false,
     "input": [
      "start_stamp, stop_stamp = 18380, 18389 \n",
      "vertices_df = load_vertices(fname, start_stamp, stop_stamp)\n",
      "edges_df = load_edges(fname, start_stamp, stop_stamp)\n",
      "v_bounds = {}#{'zeds': (-8, 8), 'thetas': (-np.pi/6, np.pi/6)}\n",
      "\n",
      "if len(v_bounds):\n",
      "    vertices_df, edges_df = slice_data(vertices_df, edges_df, v_bounds)\n"
     ],
     "language": "python",
     "metadata": {},
     "outputs": [],
     "prompt_number": 32
    },
    {
     "cell_type": "code",
     "collapsed": false,
     "input": [
      "vertices_df.shape\n"
     ],
     "language": "python",
     "metadata": {},
     "outputs": [
      {
       "metadata": {},
       "output_type": "pyout",
       "prompt_number": 33,
       "text": [
        "(724, 28)"
       ]
      }
     ],
     "prompt_number": 33
    },
    {
     "cell_type": "code",
     "collapsed": false,
     "input": [
      "src_index = set(edges_df.index.get_level_values('source'))\n",
      "trgt_index = set(edges_df.index.get_level_values('target'))\n",
      "\n",
      "vertex_index = set(vertices_df.index.get_level_values('vertex_index'))\n"
     ],
     "language": "python",
     "metadata": {},
     "outputs": [],
     "prompt_number": 34
    },
    {
     "cell_type": "code",
     "collapsed": false,
     "input": [
      "vertices_df.columns\n",
      "edges_df.columns"
     ],
     "language": "python",
     "metadata": {},
     "outputs": [
      {
       "metadata": {},
       "output_type": "pyout",
       "prompt_number": 75,
       "text": [
        "Index(['at_boundary', 'dixs', 'drhos', 'dsigmas', 'dthetas', 'dwys', 'dzeds', 'edge_lengths', 'is_active_edge', 'is_ctoj_edge', 'is_junction_edge', 'is_local_edge', 'is_new_edge', 'line_tensions', 'u_dixs', 'u_drhos', 'u_dsigmas', 'u_dwys', 'u_dzeds'], dtype='object')"
       ]
      }
     ],
     "prompt_number": 75
    },
    {
     "cell_type": "code",
     "collapsed": false,
     "input": [
      "cells_df = vertices_df[vertices_df['is_cell_vert']==1].swaplevel(0, 1).sortlevel()\n",
      "vertices_df = vertices_df.swaplevel(0, 1).sortlevel()\n",
      "edges_df = edges_df.swaplevel(0,1).swaplevel(1,2).sortlevel()\n",
      "cells_df = vertices_df[vertices_df['is_cell_vert'] == 1]\n",
      "jvs_df = vertices_df[vertices_df['is_cell_vert'] == 0]\n",
      "jes_df = edges_df[edges_df['is_junction_edge'] == 1]\n",
      "ctojs_df = edges_df[edges_df['is_junction_edge'] == 0]\n"
     ],
     "language": "python",
     "metadata": {},
     "outputs": [],
     "prompt_number": 36
    },
    {
     "cell_type": "code",
     "collapsed": false,
     "input": [
      "def out_neighbours(cell_idx, ctoj_df, jv_df):\n",
      "    '''returns the chunk of the vertices dataframe containing the data\n",
      "    for the cell's neighboursd\n",
      "    '''\n",
      "    neighb_idx = ctoj_df.xs(cell_idx, level='source').index.set_names(['vertex_index', 'stamp'])\n",
      "    return jv_df.loc[neighb_idx]\n"
     ],
     "language": "python",
     "metadata": {},
     "outputs": [],
     "prompt_number": 66
    },
    {
     "cell_type": "code",
     "collapsed": false,
     "input": [
      "\n",
      "for cell_idx, cell_df in cells_df.groupby(level='vertex_index'):\n",
      "    t0 = cell_df.index.get_level_values('stamp')[0]\n",
      "    coords = ['ixs', 'wys', 'zeds']\n",
      "    x, y, z = cell_df[coords].iloc[0]\n",
      "    neighbs_df = out_neighbours(cell_idx, ctoj_df, jv_df).xs(t0, level='stamp')\n",
      "    j_xx, j_yy, j_zz = neighbs_df[coords].values.T\n",
      "\n",
      "    print(x, y, z)\n",
      "    break\n",
      "\n",
      "    "
     ],
     "language": "python",
     "metadata": {},
     "outputs": [
      {
       "output_type": "stream",
       "stream": "stdout",
       "text": [
        "2.84385621563 0.890191622357 -6.79467441318\n"
       ]
      }
     ],
     "prompt_number": 67
    },
    {
     "cell_type": "code",
     "collapsed": false,
     "input": [
      "j_xx"
     ],
     "language": "python",
     "metadata": {},
     "outputs": [
      {
       "metadata": {},
       "output_type": "pyout",
       "prompt_number": 59,
       "text": [
        "array([ 3.29108543,  3.41210877,  3.31819856,  3.94207371,  4.49434467,\n",
        "        4.26442492])"
       ]
      }
     ],
     "prompt_number": 59
    },
    {
     "cell_type": "code",
     "collapsed": false,
     "input": [
      "\n",
      "import matplotlib.pyplot as plt\n",
      "\n",
      "plt.plot(j_xx, j_yy, 'go')\n",
      "plt.plot(x, y, 'ro')\n"
     ],
     "language": "python",
     "metadata": {},
     "outputs": [
      {
       "metadata": {},
       "output_type": "pyout",
       "prompt_number": 68,
       "text": [
        "[<matplotlib.lines.Line2D at 0x7fb7816717f0>]"
       ]
      },
      {
       "metadata": {},
       "output_type": "display_data",
       "png": "[encoded data removed]",
       "text": [
        "<matplotlib.figure.Figure at 0x7fb78161a278>"
       ]
      }
     ],
     "prompt_number": 68
    },
    {
     "cell_type": "code",
     "collapsed": false,
     "input": [
      "jvs_df_ = jvs_df.loc[18380]\n",
      "jes_df_ = jes_df.loc[18380]"
     ],
     "language": "python",
     "metadata": {},
     "outputs": [],
     "prompt_number": 43
    },
    {
     "cell_type": "code",
     "collapsed": false,
     "input": [
      "import numpy as np\n",
      "import vispy\n",
      "import vispy.gloo as gloo\n",
      "from vispy import app\n",
      "from vispy.util.transforms import perspective, translate, rotate\n",
      "app.use_app('ipynb_webgl');"
     ],
     "language": "python",
     "metadata": {},
     "outputs": [
      {
       "output_type": "stream",
       "stream": "stdout",
       "text": [
        "copying /home/guillaume/anaconda/envs/python3/lib/python3.4/site-packages/vispy-0.3.0-py3.4.egg/vispy/app/backends/../../html/static/js/vispy.min.js -> /home/guillaume/.ipython/nbextensions/vispy.min.js\n",
        "copying /home/guillaume/anaconda/envs/python3/lib/python3.4/site-packages/vispy-0.3.0-py3.4.egg/vispy/app/backends/../../html/static/js/jquery.mousewheel.min.js -> /home/guillaume/.ipython/nbextensions/jquery.mousewheel.min.js\n"
       ]
      },
      {
       "javascript": [
        "// Load Vispy.js in the notebook.\n",
        "IPython.load_extensions(\"vispy.min\");\n",
        "IPython.load_extensions(\"jquery.mousewheel.min\");\n",
        "\n",
        "// HACK: this is UGLY but I didn't find a better way to do it\n",
        "var _vispy_loaded = function(vispy) {\n",
        "    window.vispy = vispy;\n",
        "    vispy.start_event_loop();\n",
        "};\n",
        "window.setTimeout(function() {\n",
        "    require([\"vispy\"], _vispy_loaded, _vispy_loaded);\n",
        "}, 100);\n",
        "\n",
        "function _inline_glir_commands(commands, buffers) {\n",
        "    // Put back the buffers within the GLIR commands before passing them\n",
        "    // to the GLIR JavaScript interpretor.\n",
        "    for (var i = 0; i < commands.length; i++) {\n",
        "        var command = commands[i];\n",
        "        if (command[0] == 'DATA') {\n",
        "            var buffer_index = command[3]['buffer_index'];\n",
        "            command[3] = buffers[buffer_index];\n",
        "        }\n",
        "    }\n",
        "    return commands;\n",
        "}\n",
        "\n",
        "// VispyWidget code\n",
        "require([\"widgets/js/widget\", \"widgets/js/manager\"],\n",
        "    function(widget, manager){\n",
        "        var VispyView = IPython.DOMWidgetView.extend({\n",
        "            render: function(){\n",
        "                var that = this;\n",
        "\n",
        "                var canvas = $('<canvas></canvas>');\n",
        "                // canvas.css('border', '1px solid rgb(171, 171, 171)');\n",
        "                canvas.css('background-color', '#000');\n",
        "                canvas.attr('tabindex', '1');\n",
        "                this.$el.append(canvas);\n",
        "                this.$canvas = canvas;\n",
        "\n",
        "                // Initialize the VispyCanvas.\n",
        "                this.c = vispy.init(canvas);\n",
        "\n",
        "                this.c.on_resize(function (e) {\n",
        "                    that.model.set('width', e.size[0]);\n",
        "                    that.model.set('height', e.size[1]);\n",
        "                    that.touch();\n",
        "                });\n",
        "\n",
        "                // Make sure the size is correctly set up upon first display.\n",
        "                this.size_changed();\n",
        "                this.c.resize();\n",
        "                this.c.resizable();\n",
        "\n",
        "                // Track canvas size changes.\n",
        "                this.model.on('change:width', this.size_changed, this);\n",
        "                this.model.on('change:height', this.size_changed, this);\n",
        "\n",
        "                // WARNING: necessary on IPython >= 3.0dev.\n",
        "                this.model.comm.on_msg($.proxy(this.on_msg, this));\n",
        "\n",
        "                window.VISPY_DEBUG = false;\n",
        "\n",
        "                // Start the event loop.\n",
        "                this.c.event_tick = function() {\n",
        "\n",
        "                    // Retrieve and flush the event queue.\n",
        "                    var events = that.c.event_queue.get();\n",
        "\n",
        "                    that.c.event_queue.clear();\n",
        "                    // Send the events if the queue is not empty.\n",
        "                    if (events.length > 0) {\n",
        "                        // Create the message.\n",
        "                        var msg = {\n",
        "                            msg_type: 'events',\n",
        "                            contents: events\n",
        "                        };\n",
        "                        // console.debug(events);\n",
        "                        // Send the message with the events to Python.\n",
        "                        that.send(msg);\n",
        "                    }\n",
        "\n",
        "                    // Execute the pending GLIR commands.\n",
        "                    that.c.execute_pending_commands();\n",
        "                };\n",
        "            },\n",
        "\n",
        "            on_msg: function(comm_msg) {\n",
        "                var buffers = comm_msg.buffers;\n",
        "                var msg = comm_msg.content.data.content;\n",
        "                // Receive and execute the GLIR commands.\n",
        "                if (msg.msg_type == 'glir_commands') {\n",
        "                    var commands = msg.commands;\n",
        "                    // Get the buffers messages.\n",
        "                    if (msg.array_serialization == 'base64') {\n",
        "                        var buffers_msg = msg.buffers;\n",
        "                    }\n",
        "                    else if (msg.array_serialization == 'binary') {\n",
        "                        // Need to put the raw binary buffers in JavaScript\n",
        "                        // objects for the inline commands.\n",
        "                        var buffers_msg = [];\n",
        "                        for (var i = 0; i < buffers.length; i++) {\n",
        "                            buffers_msg[i] = {\n",
        "                                'storage_type': 'binary',\n",
        "                                'buffer': buffers[i]\n",
        "                            };\n",
        "                        }\n",
        "                    }\n",
        "\n",
        "                    // Make the GLIR commands ready for the JavaScript parser\n",
        "                    // by inlining the buffers.\n",
        "                    var commands_inlined = _inline_glir_commands(\n",
        "                        commands, buffers_msg);\n",
        "                    for (var i = 0; i < commands_inlined.length; i++) {\n",
        "                        var command = commands[i];\n",
        "                        // Replace\n",
        "                        // console.debug(command);\n",
        "                        this.c.command(command);\n",
        "                    }\n",
        "                }\n",
        "            },\n",
        "\n",
        "            // When the model's size changes.\n",
        "            size_changed: function() {\n",
        "                var size = [this.model.get('width'), this.model.get('height')];\n",
        "                this.$canvas.css('width', size[0] + 'px');\n",
        "                this.$canvas.css('height', size[1] + 'px');\n",
        "            }\n",
        "        });\n",
        "\n",
        "        IPython.WidgetManager.register_widget_view('VispyView', VispyView);\n",
        "});\n",
        "\n"
       ],
       "metadata": {},
       "output_type": "display_data",
       "text": [
        "<IPython.core.display.Javascript at 0x7f7094b9cb70>"
       ]
      }
     ],
     "prompt_number": 46
    },
    {
     "cell_type": "code",
     "collapsed": false,
     "input": [
      "a_position = np.array(jvs_df_[['ixs', 'wys', 'zeds']])\n",
      "a_position /= np.abs(a_position).max()\n",
      "a_id = np.array(jvs_df_.index.get_level_values('vertex_index'))\n",
      "a_id = np.sort(a_id, axis=0).astype(np.float32)"
     ],
     "language": "python",
     "metadata": {},
     "outputs": [],
     "prompt_number": 66
    },
    {
     "cell_type": "code",
     "collapsed": false,
     "input": [
      "a_id.dtype\n"
     ],
     "language": "python",
     "metadata": {},
     "outputs": [
      {
       "metadata": {},
       "output_type": "pyout",
       "prompt_number": 67,
       "text": [
        "dtype('float32')"
       ]
      }
     ],
     "prompt_number": 67
    },
    {
     "cell_type": "code",
     "collapsed": false,
     "input": [
      "VERT_SHADER = \"\"\"\n",
      "uniform mat4 u_model;\n",
      "uniform mat4 u_view;\n",
      "uniform mat4 u_projection;\n",
      "attribute vec3 a_position;\n",
      "attribute float a_id;\n",
      "varying float v_id;\n",
      "void main (void) {\n",
      "    v_id = a_id;\n",
      "    gl_Position = u_projection * u_view * u_model * vec4(a_position,1.0);\n",
      "}\n",
      "\"\"\"\n",
      "\n",
      "FRAG_SHADER = \"\"\"\n",
      "varying float v_id;\n",
      "void main()\n",
      "{\n",
      "    float f = fract(v_id);\n",
      "    // The second useless test is needed on OSX 10.8 (fuck)\n",
      "    if( (f > 0.0001) && (f < .9999) )\n",
      "        discard;\n",
      "    else\n",
      "        gl_FragColor = vec4(0,0,0,1);\n",
      "}\n",
      "\"\"\""
     ],
     "language": "python",
     "metadata": {},
     "outputs": [],
     "prompt_number": 68
    },
    {
     "cell_type": "code",
     "collapsed": false,
     "input": [
      "class Canvas(app.Canvas):\n",
      "    def on_initialize(self, event):\n",
      "        self.program = gloo.Program(VERT_SHADER, FRAG_SHADER)\n",
      "\n",
      "        # Set uniform and attribute\n",
      "        self.program['a_id'] = gloo.VertexBuffer(a_id)\n",
      "        self.program['a_position'] = gloo.VertexBuffer(a_position)\n",
      "\n",
      "        self.view = np.eye(4, dtype=np.float32)\n",
      "        self.model = np.eye(4, dtype=np.float32)\n",
      "        self.projection = np.eye(4, dtype=np.float32)\n",
      "\n",
      "        self.translate = 5\n",
      "        translate(self.view, 0, 0, -self.translate)\n",
      "        self.program['u_model'] = self.model\n",
      "        self.program['u_view'] = self.view\n",
      "\n",
      "        self.theta = 0\n",
      "        self.phi = 0\n",
      "\n",
      "        gloo.set_clear_color('white')\n",
      "        gloo.set_state('translucent')\n",
      "        \n",
      "         #self.timer = app.Timer('auto', connect=self.on_timer, \n",
      "         #                      start=True)\n",
      "\n",
      "    def on_timer(self, event):\n",
      "        self.theta += .0\n",
      "        self.phi += .0\n",
      "        self.model = np.eye(4, dtype=np.float32)\n",
      "        rotate(self.model, self.theta, 0, 0, 1)\n",
      "        rotate(self.model, self.phi, 0, 1, 0)\n",
      "        self.program['u_model'] = self.model\n",
      "        self.update()\n",
      "\n",
      "    def on_resize(self, event):\n",
      "        width, height = event.size\n",
      "        gloo.set_viewport(0, 0, width, height)\n",
      "        self.projection = perspective(45.0, width / float(height), 1.0, 1000.0)\n",
      "        self.program['u_projection'] = self.projection\n",
      "        \n",
      "    def on_mouse_wheel(self, event):\n",
      "        self.translate += event.delta[1]\n",
      "        self.translate = max(2, self.translate)\n",
      "        self.view = np.eye(4, dtype=np.float32)\n",
      "        translate(self.view, 0, 0, -self.translate)\n",
      "        self.program['u_view'] = self.view\n",
      "        self.update()\n",
      "\n",
      "    def on_draw(self, event):\n",
      "        gloo.clear()\n",
      "        self.program.draw('points')"
     ],
     "language": "python",
     "metadata": {},
     "outputs": [],
     "prompt_number": 73
    },
    {
     "cell_type": "code",
     "collapsed": false,
     "input": [],
     "language": "python",
     "metadata": {},
     "outputs": []
    },
    {
     "cell_type": "code",
     "collapsed": false,
     "input": [
      "c = Canvas(size=(600, 600))\n",
      "c.show()"
     ],
     "language": "python",
     "metadata": {},
     "outputs": [
      {
       "output_type": "stream",
       "stream": "stderr",
       "text": [
        "WARNING: Copying discontiguous data for struct dtype:\n",
        "  File \"<string>\", line 1, in <module>\n",
        "\n"
       ]
      },
      {
       "output_type": "stream",
       "stream": "stderr",
       "text": [
        "WARNING:vispy:Copying discontiguous data for struct dtype:\n",
        "  File \"<string>\", line 1, in <module>\n",
        "\n"
       ]
      }
     ],
     "prompt_number": 74
    },
    {
     "cell_type": "code",
     "collapsed": false,
     "input": [],
     "language": "python",
     "metadata": {},
     "outputs": []
    }
   ],
   "metadata": {}
  }
 ]
}