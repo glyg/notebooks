{
 "cells": [
  {
   "cell_type": "code",
   "execution_count": 1,
   "metadata": {
    "collapsed": false
   },
   "outputs": [],
   "source": [
    "%load_ext autoreload\n",
    "%autoreload 2"
   ]
  },
  {
   "cell_type": "code",
   "execution_count": 2,
   "metadata": {
    "collapsed": false
   },
   "outputs": [],
   "source": [
    "import numpy as np"
   ]
  },
  {
   "cell_type": "code",
   "execution_count": 3,
   "metadata": {
    "collapsed": false
   },
   "outputs": [
    {
     "name": "stderr",
     "output_type": "stream",
     "text": [
      "/home/guillaume/anaconda/envs/python3/lib/python3.4/site-packages/graph_tool/draw/cairo_draw.py:1340: RuntimeWarning: Error importing Gtk module: No module named 'gi'; GTK+ drawing will not work.\n",
      "  warnings.warn(msg, RuntimeWarning)\n"
     ]
    }
   ],
   "source": [
    "import pandas as pd\n",
    "\n",
    "## !ln -s /usr/lib/python3/dist-packages/graph_tool\\\n",
    "## $HOME/anaconda/envs/python3/lib/python3.4/site-packages/graph_tool\n",
    "import graph_tool.all as gt\n",
    "import hdfgraph\n",
    "import leg_joint as lj"
   ]
  },
  {
   "cell_type": "code",
   "execution_count": 4,
   "metadata": {
    "collapsed": false
   },
   "outputs": [],
   "source": [
    "%matplotlib inline"
   ]
  },
  {
   "cell_type": "markdown",
   "metadata": {},
   "source": [
    "#  Representing a dynamical 3D+t graph with pandas and vispy"
   ]
  },
  {
   "cell_type": "markdown",
   "metadata": {},
   "source": [
    "## Introduction\n",
    "\n"
   ]
  },
  {
   "cell_type": "code",
   "execution_count": 5,
   "metadata": {
    "collapsed": false
   },
   "outputs": [],
   "source": [
    "h5_path = '/media/data/Simulations/0001_2014-05-24T09_04_38/eptm_0001_2014-05-24T09_04_38.h5'\n",
    "#h5_path = '/home/guillaume/Notebooks/small/eptm_small_2014-09-15T16_45_46.h5'"
   ]
  },
  {
   "cell_type": "code",
   "execution_count": 6,
   "metadata": {
    "collapsed": false
   },
   "outputs": [
    {
     "name": "stdout",
     "output_type": "stream",
     "text": [
      "[4]\n",
      "-48.94449105155271\n",
      "[4]\n"
     ]
    }
   ],
   "source": [
    "vertices_df = hdfgraph.vertices_time_slice(h5_path, 4, 5)\n",
    "print(vertices_df.index.get_level_values('stamp').unique())\n",
    "print(vertices_df.zeds.min())\n",
    "edges_df = hdfgraph.edges_time_slice(h5_path, 4, 5)\n",
    "print(edges_df.index.get_level_values('stamp').unique())\n"
   ]
  },
  {
   "cell_type": "code",
   "execution_count": 7,
   "metadata": {
    "collapsed": false
   },
   "outputs": [],
   "source": [
    "jes = edges_df[edges_df['is_junction_edge'] == 1]"
   ]
  },
  {
   "cell_type": "code",
   "execution_count": 8,
   "metadata": {
    "collapsed": false
   },
   "outputs": [
    {
     "name": "stdout",
     "output_type": "stream",
     "text": [
      "Automatic pdb calling has been turned ON\n"
     ]
    }
   ],
   "source": [
    "%pdb"
   ]
  },
  {
   "cell_type": "code",
   "execution_count": 9,
   "metadata": {
    "collapsed": false
   },
   "outputs": [],
   "source": [
    "def slice_data(vertices_df, edges_df, v_bounds={}):\n",
    "\n",
    "    for col, (v_min, v_max) in v_bounds.items():\n",
    "        vertices_df = vertices_df[vertices_df[col] >= v_min]\n",
    "        vertices_df = vertices_df[vertices_df[col] <= v_max]\n",
    "    vertex_index = set(vertices_df.index.get_level_values('vertex_index'))\n",
    "\n",
    "    src_index = set(edges_df.index.get_level_values('source'))\n",
    "    trgt_index = set(edges_df.index.get_level_values('target'))\n",
    "    srcs = src_index.intersection(vertex_index)\n",
    "    trgts = trgt_index.intersection(vertex_index)\n",
    "    edges_df['keep'] = True\n",
    "    keep = edges_df.groupby(level='source', group_keys=False).apply(select_idx_, 'source', srcs)\n",
    "    edges_df = edges_df[keep.values]\n",
    "    keep = edges_df.groupby(level='target', group_keys=False).apply(select_idx_, 'target', trgts)\n",
    "    edges_df = edges_df[keep.values]\n",
    "    return vertices_df, edges_df\n",
    "\n",
    "\n",
    "def select_idx_(df, idx_name, valids):\n",
    "    idx = df.index.get_level_values(idx_name)[0]\n",
    "    keep = df['keep'].copy()\n",
    "    keep.loc[:] = True\n",
    "    if idx not in valids:\n",
    "        keep.loc[:] = False\n",
    "    return keep\n",
    "\n",
    "def load_vertices(fname, start_stamp, stop_stamp, cols=None):\n",
    "\n",
    "    vertices = hdfgraph.vertices_time_slice(fname, start_stamp, stop_stamp)\n",
    "    if cols is not None:\n",
    "        vertices = vertices[cols]\n",
    "    return vertices.swaplevel(0, 1).sortlevel()\n",
    "\n",
    "def load_edges(fname, start_stamp, stop_stamp, cols=None):\n",
    "\n",
    "    edges = hdfgraph.edges_time_slice(fname, start_stamp, stop_stamp)\n",
    "    if cols is not None:\n",
    "        edges = edges[cols]\n",
    "    return edges.swaplevel(0,1).swaplevel(1,2).sortlevel()\n"
   ]
  },
  {
   "cell_type": "code",
   "execution_count": 10,
   "metadata": {
    "collapsed": false
   },
   "outputs": [
    {
     "name": "stdout",
     "output_type": "stream",
     "text": [
      "Automatic pdb calling has been turned OFF\n"
     ]
    }
   ],
   "source": [
    "%pdb"
   ]
  },
  {
   "cell_type": "code",
   "execution_count": 11,
   "metadata": {
    "collapsed": false
   },
   "outputs": [],
   "source": [
    "start_stamp, stop_stamp = 4, 5 \n",
    "vertices_df = load_vertices(h5_path, start_stamp, stop_stamp)\n",
    "edges_df = load_edges(h5_path, start_stamp, stop_stamp)\n",
    "v_bounds = {}#{'zeds': (-8, 8), 'thetas': (-np.pi/6, np.pi/6)}\n",
    "\n",
    "if len(v_bounds):\n",
    "    vertices_df, edges_df = slice_data(vertices_df, edges_df, v_bounds)\n"
   ]
  },
  {
   "cell_type": "code",
   "execution_count": 12,
   "metadata": {
    "collapsed": false
   },
   "outputs": [
    {
     "data": {
      "text/plain": [
       "(5202, 28)"
      ]
     },
     "execution_count": 12,
     "metadata": {},
     "output_type": "execute_result"
    }
   ],
   "source": [
    "vertices_df.shape\n"
   ]
  },
  {
   "cell_type": "code",
   "execution_count": 13,
   "metadata": {
    "collapsed": false
   },
   "outputs": [],
   "source": [
    "src_index = set(edges_df.index.get_level_values('source'))\n",
    "trgt_index = set(edges_df.index.get_level_values('target'))\n",
    "\n",
    "vertex_index = set(vertices_df.index.get_level_values('vertex_index'))\n"
   ]
  },
  {
   "cell_type": "code",
   "execution_count": 14,
   "metadata": {
    "collapsed": false
   },
   "outputs": [
    {
     "data": {
      "text/plain": [
       "Index(['at_boundary', 'dixs', 'drhos', 'dsigmas', 'dthetas', 'dwys', 'dzeds',\n",
       "       'edge_lengths', 'is_active_edge', 'is_ctoj_edge', 'is_junction_edge',\n",
       "       'is_local_edge', 'is_new_edge', 'line_tensions', 'u_dixs', 'u_drhos',\n",
       "       'u_dsigmas', 'u_dwys', 'u_dzeds'],\n",
       "      dtype='object')"
      ]
     },
     "execution_count": 14,
     "metadata": {},
     "output_type": "execute_result"
    }
   ],
   "source": [
    "vertices_df.columns\n",
    "edges_df.columns"
   ]
  },
  {
   "cell_type": "code",
   "execution_count": 15,
   "metadata": {
    "collapsed": false
   },
   "outputs": [],
   "source": [
    "#cells_df = vertices_df[vertices_df['is_cell_vert']==1]#\n",
    "cells_df = vertices_df[vertices_df['is_cell_vert'] == 1].sortlevel()\n",
    "jvs_df = vertices_df[vertices_df['is_cell_vert'] == 0].sortlevel()\n",
    "jes_df = edges_df[edges_df['is_junction_edge'] == 1].sortlevel()\n",
    "ctojs_df = edges_df[edges_df['is_junction_edge'] == 0].sortlevel()\n"
   ]
  },
  {
   "cell_type": "code",
   "execution_count": 16,
   "metadata": {
    "collapsed": false
   },
   "outputs": [],
   "source": [
    "def out_neighbours(cell_idx, ctojs_df, jvs_df):\n",
    "    '''returns the chunk of the vertices dataframe containing the data\n",
    "    for the cell's neighboursd\n",
    "    '''\n",
    "    neighbs_idx = ctojs_df.xs(cell_idx, level='source').index.set_names(['vertex_index', 'stamp'])\n",
    "    return neighbs_idx, jvs_df.loc[neighbs_idx]\n"
   ]
  },
  {
   "cell_type": "code",
   "execution_count": 17,
   "metadata": {
    "collapsed": false
   },
   "outputs": [
    {
     "name": "stdout",
     "output_type": "stream",
     "text": [
      "[ 26.6937399   26.99722709  26.29604362] [-0.38740591  1.99460153  4.35428995] [-47.05046535 -46.38536802 -47.33699084]\n"
     ]
    }
   ],
   "source": [
    "\n",
    "for cell_idx, cell_df in cells_df.groupby(level='vertex_index'):\n",
    "    t0 = cell_df.index.get_level_values('stamp')[0]\n",
    "    coords = ['ixs', 'wys', 'zeds']\n",
    "    x, y, z = cell_df[coords].iloc[0]\n",
    "    neighbs_idx, neighbs_jvs = out_neighbours(cell_idx, ctojs_df, jvs_df)\n",
    "    \n",
    "    j_xx, j_yy, j_zz = neighbs_jvs[coords].values.T\n",
    "\n",
    "    print(j_xx, j_yy, j_zz)\n",
    "    break\n",
    "\n",
    "    "
   ]
  },
  {
   "cell_type": "code",
   "execution_count": 18,
   "metadata": {
    "collapsed": false
   },
   "outputs": [
    {
     "data": {
      "text/plain": [
       "[<matplotlib.lines.Line2D at 0x7fa52705bc88>]"
      ]
     },
     "execution_count": 18,
     "metadata": {},
     "output_type": "execute_result"
    },
    {
     "data": {
      "image/png": "[encoded data removed]",
      "text/plain": [
       "<matplotlib.figure.Figure at 0x7fa52705b5f8>"
      ]
     },
     "metadata": {},
     "output_type": "display_data"
    }
   ],
   "source": [
    "\n",
    "import matplotlib.pyplot as plt\n",
    "\n",
    "plt.plot(j_xx, j_yy, 'go')\n",
    "plt.plot(x, y, 'ro')\n"
   ]
  },
  {
   "cell_type": "code",
   "execution_count": 19,
   "metadata": {
    "collapsed": false
   },
   "outputs": [],
   "source": [
    "import numpy as np\n",
    "import vispy\n",
    "import vispy.gloo as gloo\n",
    "from vispy import app\n",
    "from vispy.util.transforms import perspective, translate, rotate\n",
    "app.use_app('PyQt4');"
   ]
  },
  {
   "cell_type": "code",
   "execution_count": 20,
   "metadata": {
    "collapsed": false
   },
   "outputs": [],
   "source": [
    "a_position = np.array(jvs_df[['ixs', 'wys', 'zeds']])\n",
    "a_position /= np.abs(a_position).max()\n",
    "a_id = np.array(jvs_df.index.get_level_values('vertex_index'))\n",
    "a_id = np.sort(a_id, axis=0).astype(np.float32)"
   ]
  },
  {
   "cell_type": "code",
   "execution_count": 21,
   "metadata": {
    "collapsed": false
   },
   "outputs": [
    {
     "data": {
      "text/plain": [
       "dtype('float32')"
      ]
     },
     "execution_count": 21,
     "metadata": {},
     "output_type": "execute_result"
    }
   ],
   "source": [
    "a_id.dtype\n"
   ]
  },
  {
   "cell_type": "code",
   "execution_count": 22,
   "metadata": {
    "collapsed": false
   },
   "outputs": [],
   "source": [
    "VERT_SHADER = \"\"\"\n",
    "uniform mat4 u_model;\n",
    "uniform mat4 u_view;\n",
    "uniform mat4 u_projection;\n",
    "attribute vec3 a_position;\n",
    "attribute float a_id;\n",
    "varying float v_id;\n",
    "void main (void) {\n",
    "    v_id = a_id;\n",
    "    gl_Position = u_projection * u_view * u_model * vec4(a_position,1.0);\n",
    "}\n",
    "\"\"\"\n",
    "\n",
    "FRAG_SHADER = \"\"\"\n",
    "varying float v_id;\n",
    "void main()\n",
    "{\n",
    "    float f = fract(v_id);\n",
    "    // The second useless test is needed on OSX 10.8 (fuck)\n",
    "    if( (f > 0.0001) && (f < .9999) )\n",
    "        discard;\n",
    "    else\n",
    "        gl_FragColor = vec4(0,0,0,1);\n",
    "}\n",
    "\"\"\""
   ]
  },
  {
   "cell_type": "code",
   "execution_count": 23,
   "metadata": {
    "collapsed": false
   },
   "outputs": [],
   "source": [
    "class Canvas(app.Canvas):\n",
    "    def on_initialize(self, event):\n",
    "        self.program = gloo.Program(VERT_SHADER, FRAG_SHADER)\n",
    "\n",
    "        # Set uniform and attribute\n",
    "        self.program['a_id'] = gloo.VertexBuffer(a_id)\n",
    "        self.program['a_position'] = gloo.VertexBuffer(a_position)\n",
    "\n",
    "        self.view = np.eye(4, dtype=np.float32)\n",
    "        self.model = np.eye(4, dtype=np.float32)\n",
    "        self.projection = np.eye(4, dtype=np.float32)\n",
    "\n",
    "        self.translate = 5\n",
    "        translate(self.view, 0, 0, -self.translate)\n",
    "        self.program['u_model'] = self.model\n",
    "        self.program['u_view'] = self.view\n",
    "\n",
    "        self.theta = 0\n",
    "        self.phi = 0\n",
    "\n",
    "        gloo.set_clear_color('white')\n",
    "        gloo.set_state('translucent')\n",
    "        \n",
    "        self.timer = app.Timer('auto', connect=self.on_timer, \n",
    "                              start=True)\n",
    "\n",
    "    def on_timer(self, event):\n",
    "        self.theta += .0\n",
    "        self.phi += .0\n",
    "        self.model = np.eye(4, dtype=np.float32)\n",
    "        rotate(self.model, self.theta, 0, 0, 1)\n",
    "        rotate(self.model, self.phi, 0, 1, 0)\n",
    "        self.program['u_model'] = self.model\n",
    "        self.update()\n",
    "\n",
    "    def on_resize(self, event):\n",
    "        width, height = event.size\n",
    "        gloo.set_viewport(0, 0, width, height)\n",
    "        self.projection = perspective(45.0, width / float(height), 1.0, 1000.0)\n",
    "        self.program['u_projection'] = self.projection\n",
    "        \n",
    "    def on_mouse_wheel(self, event):\n",
    "        self.translate += event.delta[1]\n",
    "        self.translate = max(2, self.translate)\n",
    "        self.view = np.eye(4, dtype=np.float32)\n",
    "        translate(self.view, 0, 0, -self.translate)\n",
    "        self.program['u_view'] = self.view\n",
    "        self.update()\n",
    "\n",
    "    def on_draw(self, event):\n",
    "        gloo.clear()\n",
    "        self.program.draw('line')"
   ]
  },
  {
   "cell_type": "code",
   "execution_count": 24,
   "metadata": {
    "collapsed": false
   },
   "outputs": [
    {
     "name": "stderr",
     "output_type": "stream",
     "text": [
      "WARNING: Traceback (most recent call last):\n",
      "  File \"/home/guillaume/anaconda/envs/python3/lib/python3.4/runpy.py\", line 170, in _run_module_as_main\n",
      "    \"__main__\", mod_spec)\n",
      "  File \"/home/guillaume/anaconda/envs/python3/lib/python3.4/runpy.py\", line 85, in _run_code\n",
      "    exec(code, run_globals)\n",
      "  File \"/home/guillaume/anaconda/envs/python3/lib/python3.4/site-packages/ipykernel/__main__.py\", line 3, in <module>\n",
      "    app.launch_new_instance()\n",
      "  File \"/home/guillaume/anaconda/envs/python3/lib/python3.4/site-packages/traitlets/config/application.py\", line 592, in launch_instance\n",
      "    app.start()\n",
      "  File \"/home/guillaume/anaconda/envs/python3/lib/python3.4/site-packages/ipykernel/kernelapp.py\", line 389, in start\n",
      "    ioloop.IOLoop.instance().start()\n",
      "  File \"/home/guillaume/anaconda/envs/python3/lib/python3.4/site-packages/zmq/eventloop/ioloop.py\", line 151, in start\n",
      "    super(ZMQIOLoop, self).start()\n",
      "  File \"/home/guillaume/anaconda/envs/python3/lib/python3.4/site-packages/tornado/ioloop.py\", line 866, in start\n",
      "    handler_func(fd_obj, events)\n",
      "  File \"/home/guillaume/anaconda/envs/python3/lib/python3.4/site-packages/tornado/stack_context.py\", line 275, in null_wrapper\n",
      "    return fn(*args, **kwargs)\n",
      "  File \"/home/guillaume/anaconda/envs/python3/lib/python3.4/site-packages/zmq/eventloop/zmqstream.py\", line 433, in _handle_events\n",
      "    self._handle_recv()\n",
      "  File \"/home/guillaume/anaconda/envs/python3/lib/python3.4/site-packages/zmq/eventloop/zmqstream.py\", line 465, in _handle_recv\n",
      "    self._run_callback(callback, msg)\n",
      "  File \"/home/guillaume/anaconda/envs/python3/lib/python3.4/site-packages/zmq/eventloop/zmqstream.py\", line 407, in _run_callback\n",
      "    callback(*args, **kwargs)\n",
      "  File \"/home/guillaume/anaconda/envs/python3/lib/python3.4/site-packages/tornado/stack_context.py\", line 275, in null_wrapper\n",
      "    return fn(*args, **kwargs)\n",
      "  File \"/home/guillaume/anaconda/envs/python3/lib/python3.4/site-packages/ipykernel/kernelbase.py\", line 252, in dispatcher\n",
      "    return self.dispatch_shell(stream, msg)\n",
      "  File \"/home/guillaume/anaconda/envs/python3/lib/python3.4/site-packages/ipykernel/kernelbase.py\", line 213, in dispatch_shell\n",
      "    handler(stream, idents, msg)\n",
      "  File \"/home/guillaume/anaconda/envs/python3/lib/python3.4/site-packages/ipykernel/kernelbase.py\", line 362, in execute_request\n",
      "    user_expressions, allow_stdin)\n",
      "  File \"/home/guillaume/anaconda/envs/python3/lib/python3.4/site-packages/ipykernel/ipkernel.py\", line 175, in do_execute\n",
      "    shell.run_cell(code, store_history=store_history, silent=silent)\n",
      "  File \"/home/guillaume/anaconda/envs/python3/lib/python3.4/site-packages/IPython/core/interactiveshell.py\", line 2902, in run_cell\n",
      "    interactivity=interactivity, compiler=compiler, result=result)\n",
      "  File \"/home/guillaume/anaconda/envs/python3/lib/python3.4/site-packages/IPython/core/interactiveshell.py\", line 3012, in run_ast_nodes\n",
      "    if self.run_code(code, result):\n",
      "  File \"/home/guillaume/anaconda/envs/python3/lib/python3.4/site-packages/IPython/core/interactiveshell.py\", line 3066, in run_code\n",
      "    exec(code_obj, self.user_global_ns, self.user_ns)\n",
      "  File \"<ipython-input-24-c4fb2d199675>\", line 2, in <module>\n",
      "    c.show()\n",
      "  File \"/home/guillaume/usr/src/vispy/vispy/app/canvas.py\", line 429, in show\n",
      "    self._backend._vispy_set_visible(visible)\n",
      "  File \"/home/guillaume/usr/src/vispy/vispy/app/backends/_qt.py\", line 314, in _vispy_set_visible\n",
      "    self.showNormal()\n",
      "  File \"/home/guillaume/usr/src/vispy/vispy/app/backends/_qt.py\", line 634, in initializeGL\n",
      "    self._vispy_canvas.events.initialize()\n",
      "  File \"/home/guillaume/usr/src/vispy/vispy/util/event.py\", line 455, in __call__\n",
      "    self._invoke_callback(cb, event)\n",
      "  File \"/home/guillaume/usr/src/vispy/vispy/util/event.py\", line 475, in _invoke_callback\n",
      "    self, cb_event=(cb, event))\n",
      "  << caught exception here: >>\n",
      "  File \"/home/guillaume/usr/src/vispy/vispy/util/event.py\", line 471, in _invoke_callback\n",
      "    cb(event)\n",
      "  File \"<ipython-input-23-ddf193e433af>\", line 7, in on_initialize\n",
      "    self.program['a_position'] = gloo.VertexBuffer(a_position)\n",
      "  File \"/home/guillaume/usr/src/vispy/vispy/gloo/buffer.py\", line 149, in __init__\n",
      "    Buffer.__init__(self, data)\n",
      "  File \"/home/guillaume/usr/src/vispy/vispy/gloo/buffer.py\", line 51, in __init__\n",
      "    self.set_data(data, copy=False)\n",
      "  File \"/home/guillaume/usr/src/vispy/vispy/gloo/buffer.py\", line 192, in set_data\n",
      "    data = self._prepare_data(data, **kwargs)\n",
      "  File \"/home/guillaume/usr/src/vispy/vispy/gloo/buffer.py\", line 440, in _prepare_data\n",
      "    % data.dtype)\n",
      "TypeError: data must be 32-bit not float64\n",
      "WARNING:vispy:Traceback (most recent call last):\n",
      "  File \"/home/guillaume/anaconda/envs/python3/lib/python3.4/runpy.py\", line 170, in _run_module_as_main\n",
      "    \"__main__\", mod_spec)\n",
      "  File \"/home/guillaume/anaconda/envs/python3/lib/python3.4/runpy.py\", line 85, in _run_code\n",
      "    exec(code, run_globals)\n",
      "  File \"/home/guillaume/anaconda/envs/python3/lib/python3.4/site-packages/ipykernel/__main__.py\", line 3, in <module>\n",
      "    app.launch_new_instance()\n",
      "  File \"/home/guillaume/anaconda/envs/python3/lib/python3.4/site-packages/traitlets/config/application.py\", line 592, in launch_instance\n",
      "    app.start()\n",
      "  File \"/home/guillaume/anaconda/envs/python3/lib/python3.4/site-packages/ipykernel/kernelapp.py\", line 389, in start\n",
      "    ioloop.IOLoop.instance().start()\n",
      "  File \"/home/guillaume/anaconda/envs/python3/lib/python3.4/site-packages/zmq/eventloop/ioloop.py\", line 151, in start\n",
      "    super(ZMQIOLoop, self).start()\n",
      "  File \"/home/guillaume/anaconda/envs/python3/lib/python3.4/site-packages/tornado/ioloop.py\", line 866, in start\n",
      "    handler_func(fd_obj, events)\n",
      "  File \"/home/guillaume/anaconda/envs/python3/lib/python3.4/site-packages/tornado/stack_context.py\", line 275, in null_wrapper\n",
      "    return fn(*args, **kwargs)\n",
      "  File \"/home/guillaume/anaconda/envs/python3/lib/python3.4/site-packages/zmq/eventloop/zmqstream.py\", line 433, in _handle_events\n",
      "    self._handle_recv()\n",
      "  File \"/home/guillaume/anaconda/envs/python3/lib/python3.4/site-packages/zmq/eventloop/zmqstream.py\", line 465, in _handle_recv\n",
      "    self._run_callback(callback, msg)\n",
      "  File \"/home/guillaume/anaconda/envs/python3/lib/python3.4/site-packages/zmq/eventloop/zmqstream.py\", line 407, in _run_callback\n",
      "    callback(*args, **kwargs)\n",
      "  File \"/home/guillaume/anaconda/envs/python3/lib/python3.4/site-packages/tornado/stack_context.py\", line 275, in null_wrapper\n",
      "    return fn(*args, **kwargs)\n",
      "  File \"/home/guillaume/anaconda/envs/python3/lib/python3.4/site-packages/ipykernel/kernelbase.py\", line 252, in dispatcher\n",
      "    return self.dispatch_shell(stream, msg)\n",
      "  File \"/home/guillaume/anaconda/envs/python3/lib/python3.4/site-packages/ipykernel/kernelbase.py\", line 213, in dispatch_shell\n",
      "    handler(stream, idents, msg)\n",
      "  File \"/home/guillaume/anaconda/envs/python3/lib/python3.4/site-packages/ipykernel/kernelbase.py\", line 362, in execute_request\n",
      "    user_expressions, allow_stdin)\n",
      "  File \"/home/guillaume/anaconda/envs/python3/lib/python3.4/site-packages/ipykernel/ipkernel.py\", line 175, in do_execute\n",
      "    shell.run_cell(code, store_history=store_history, silent=silent)\n",
      "  File \"/home/guillaume/anaconda/envs/python3/lib/python3.4/site-packages/IPython/core/interactiveshell.py\", line 2902, in run_cell\n",
      "    interactivity=interactivity, compiler=compiler, result=result)\n",
      "  File \"/home/guillaume/anaconda/envs/python3/lib/python3.4/site-packages/IPython/core/interactiveshell.py\", line 3012, in run_ast_nodes\n",
      "    if self.run_code(code, result):\n",
      "  File \"/home/guillaume/anaconda/envs/python3/lib/python3.4/site-packages/IPython/core/interactiveshell.py\", line 3066, in run_code\n",
      "    exec(code_obj, self.user_global_ns, self.user_ns)\n",
      "  File \"<ipython-input-24-c4fb2d199675>\", line 2, in <module>\n",
      "    c.show()\n",
      "  File \"/home/guillaume/usr/src/vispy/vispy/app/canvas.py\", line 429, in show\n",
      "    self._backend._vispy_set_visible(visible)\n",
      "  File \"/home/guillaume/usr/src/vispy/vispy/app/backends/_qt.py\", line 314, in _vispy_set_visible\n",
      "    self.showNormal()\n",
      "  File \"/home/guillaume/usr/src/vispy/vispy/app/backends/_qt.py\", line 634, in initializeGL\n",
      "    self._vispy_canvas.events.initialize()\n",
      "  File \"/home/guillaume/usr/src/vispy/vispy/util/event.py\", line 455, in __call__\n",
      "    self._invoke_callback(cb, event)\n",
      "  File \"/home/guillaume/usr/src/vispy/vispy/util/event.py\", line 475, in _invoke_callback\n",
      "    self, cb_event=(cb, event))\n",
      "  << caught exception here: >>\n",
      "  File \"/home/guillaume/usr/src/vispy/vispy/util/event.py\", line 471, in _invoke_callback\n",
      "    cb(event)\n",
      "  File \"<ipython-input-23-ddf193e433af>\", line 7, in on_initialize\n",
      "    self.program['a_position'] = gloo.VertexBuffer(a_position)\n",
      "  File \"/home/guillaume/usr/src/vispy/vispy/gloo/buffer.py\", line 149, in __init__\n",
      "    Buffer.__init__(self, data)\n",
      "  File \"/home/guillaume/usr/src/vispy/vispy/gloo/buffer.py\", line 51, in __init__\n",
      "    self.set_data(data, copy=False)\n",
      "  File \"/home/guillaume/usr/src/vispy/vispy/gloo/buffer.py\", line 192, in set_data\n",
      "    data = self._prepare_data(data, **kwargs)\n",
      "  File \"/home/guillaume/usr/src/vispy/vispy/gloo/buffer.py\", line 440, in _prepare_data\n",
      "    % data.dtype)\n",
      "TypeError: data must be 32-bit not float64\n",
      "ERROR: Invoking <bound method Canvas.on_initialize of <Canvas (PyQt4) at 0x7fa52517b6a0>> for Event\n",
      "ERROR:vispy:Invoking <bound method Canvas.on_initialize of <Canvas (PyQt4) at 0x7fa52517b6a0>> for Event\n"
     ]
    }
   ],
   "source": [
    "c = Canvas(size=(600, 600))\n",
    "c.show()"
   ]
  },
  {
   "cell_type": "code",
   "execution_count": null,
   "metadata": {
    "collapsed": true
   },
   "outputs": [],
   "source": [
    "/media/data/Simulations/0001_2014-05-24T09_04_38/eptm_0001_2014-05-24T09_04_38.h5"
   ]
  },
  {
   "cell_type": "code",
   "execution_count": 1,
   "metadata": {
    "collapsed": false
   },
   "outputs": [
    {
     "name": "stderr",
     "output_type": "stream",
     "text": [
      "WARNING: Traceback (most recent call last):\n",
      "  File \"<string>\", line 1, in <module>\n",
      "  File \"/home/guillaume/anaconda/envs/python3/lib/python3.4/site-packages/IPython/kernel/zmq/kernelapp.py\", line 469, in main\n",
      "    app.start()\n",
      "  File \"/home/guillaume/anaconda/envs/python3/lib/python3.4/site-packages/IPython/kernel/zmq/kernelapp.py\", line 459, in start\n",
      "    ioloop.IOLoop.instance().start()\n",
      "  File \"/home/guillaume/anaconda/envs/python3/lib/python3.4/site-packages/zmq/eventloop/ioloop.py\", line 151, in start\n",
      "    super(ZMQIOLoop, self).start()\n",
      "  File \"/home/guillaume/anaconda/envs/python3/lib/python3.4/site-packages/tornado/ioloop.py\", line 837, in start\n",
      "    handler_func(fd_obj, events)\n",
      "  File \"/home/guillaume/anaconda/envs/python3/lib/python3.4/site-packages/tornado/stack_context.py\", line 275, in null_wrapper\n",
      "    return fn(*args, **kwargs)\n",
      "  File \"/home/guillaume/anaconda/envs/python3/lib/python3.4/site-packages/zmq/eventloop/zmqstream.py\", line 433, in _handle_events\n",
      "    self._handle_recv()\n",
      "  File \"/home/guillaume/anaconda/envs/python3/lib/python3.4/site-packages/zmq/eventloop/zmqstream.py\", line 465, in _handle_recv\n",
      "    self._run_callback(callback, msg)\n",
      "  File \"/home/guillaume/anaconda/envs/python3/lib/python3.4/site-packages/zmq/eventloop/zmqstream.py\", line 407, in _run_callback\n",
      "    callback(*args, **kwargs)\n",
      "  File \"/home/guillaume/anaconda/envs/python3/lib/python3.4/site-packages/tornado/stack_context.py\", line 275, in null_wrapper\n",
      "    return fn(*args, **kwargs)\n",
      "  File \"/home/guillaume/anaconda/envs/python3/lib/python3.4/site-packages/IPython/kernel/zmq/ipkernel.py\", line 281, in dispatcher\n",
      "    return self.dispatch_shell(stream, msg)\n",
      "  File \"/home/guillaume/anaconda/envs/python3/lib/python3.4/site-packages/IPython/kernel/zmq/ipkernel.py\", line 245, in dispatch_shell\n",
      "    handler(stream, idents, msg)\n",
      "  File \"/home/guillaume/anaconda/envs/python3/lib/python3.4/site-packages/IPython/kernel/zmq/ipkernel.py\", line 389, in execute_request\n",
      "    shell.run_cell(code, store_history=store_history, silent=silent)\n",
      "  File \"/home/guillaume/anaconda/envs/python3/lib/python3.4/site-packages/IPython/core/interactiveshell.py\", line 2741, in run_cell\n",
      "    interactivity=interactivity, compiler=compiler)\n",
      "  File \"/home/guillaume/anaconda/envs/python3/lib/python3.4/site-packages/IPython/core/interactiveshell.py\", line 2827, in run_ast_nodes\n",
      "    if self.run_code(code):\n",
      "  File \"/home/guillaume/anaconda/envs/python3/lib/python3.4/site-packages/IPython/core/interactiveshell.py\", line 2883, in run_code\n",
      "    exec(code_obj, self.user_global_ns, self.user_ns)\n",
      "  File \"<ipython-input-1-58700c82bc32>\", line 42, in <module>\n",
      "    canvas.app.run()\n",
      "  File \"/home/guillaume/anaconda/envs/python3/lib/python3.4/site-packages/vispy-0.3.0-py3.4.egg/vispy/app/application.py\", line 88, in run\n",
      "    return self._backend._vispy_run()\n",
      "  File \"/home/guillaume/anaconda/envs/python3/lib/python3.4/site-packages/vispy-0.3.0-py3.4.egg/vispy/app/backends/_qt.py\", line 216, in _vispy_run\n",
      "    return app.exec_()\n",
      "  File \"/home/guillaume/anaconda/envs/python3/lib/python3.4/site-packages/vispy-0.3.0-py3.4.egg/vispy/app/backends/_qt.py\", line 615, in paintGL\n",
      "    self._vispy_canvas.events.draw(region=None)\n",
      "  File \"/home/guillaume/anaconda/envs/python3/lib/python3.4/site-packages/vispy-0.3.0-py3.4.egg/vispy/util/event.py\", line 418, in __call__\n",
      "    self._invoke_callback(cb, event)\n",
      "  File \"/home/guillaume/anaconda/envs/python3/lib/python3.4/site-packages/vispy-0.3.0-py3.4.egg/vispy/util/event.py\", line 439, in _invoke_callback\n",
      "    self, cb_event=(cb, event))\n",
      "  << caught exception here: >>\n",
      "  File \"/home/guillaume/anaconda/envs/python3/lib/python3.4/urllib/request.py\", line 1174, in do_open\n",
      "    h.request(req.get_method(), req.selector, req.data, headers)\n",
      "  File \"/home/guillaume/anaconda/envs/python3/lib/python3.4/http/client.py\", line 1090, in request\n",
      "    self._send_request(method, url, body, headers)\n",
      "  File \"/home/guillaume/anaconda/envs/python3/lib/python3.4/http/client.py\", line 1128, in _send_request\n",
      "    self.endheaders(body)\n",
      "  File \"/home/guillaume/anaconda/envs/python3/lib/python3.4/http/client.py\", line 1086, in endheaders\n",
      "    self._send_output(message_body)\n",
      "  File \"/home/guillaume/anaconda/envs/python3/lib/python3.4/http/client.py\", line 924, in _send_output\n",
      "    self.send(msg)\n",
      "  File \"/home/guillaume/anaconda/envs/python3/lib/python3.4/http/client.py\", line 859, in send\n",
      "    self.connect()\n",
      "  File \"/home/guillaume/anaconda/envs/python3/lib/python3.4/http/client.py\", line 1221, in connect\n",
      "    super().connect()\n",
      "  File \"/home/guillaume/anaconda/envs/python3/lib/python3.4/http/client.py\", line 836, in connect\n",
      "    self.timeout, self.source_address)\n",
      "  File \"/home/guillaume/anaconda/envs/python3/lib/python3.4/socket.py\", line 491, in create_connection\n",
      "    for res in getaddrinfo(host, port, 0, SOCK_STREAM):\n",
      "  File \"/home/guillaume/anaconda/envs/python3/lib/python3.4/socket.py\", line 530, in getaddrinfo\n",
      "    for res in _socket.getaddrinfo(host, port, family, type, proto, flags):\n",
      "socket.gaierror: [Errno -2] Nom ou service inconnu\n",
      "\n",
      "During handling of the above exception, another exception occurred:\n",
      "\n",
      "Traceback (most recent call last):\n",
      "  File \"/home/guillaume/anaconda/envs/python3/lib/python3.4/site-packages/vispy-0.3.0-py3.4.egg/vispy/util/fetching.py\", line 277, in _fetch_file\n",
      "    u = urllib.request.urlopen(url, timeout=5.)\n",
      "  File \"/home/guillaume/anaconda/envs/python3/lib/python3.4/urllib/request.py\", line 153, in urlopen\n",
      "    return opener.open(url, data, timeout)\n",
      "  File \"/home/guillaume/anaconda/envs/python3/lib/python3.4/urllib/request.py\", line 455, in open\n",
      "    response = self._open(req, data)\n",
      "  File \"/home/guillaume/anaconda/envs/python3/lib/python3.4/urllib/request.py\", line 473, in _open\n",
      "    '_open', req)\n",
      "  File \"/home/guillaume/anaconda/envs/python3/lib/python3.4/urllib/request.py\", line 433, in _call_chain\n",
      "    result = func(*args)\n",
      "  File \"/home/guillaume/anaconda/envs/python3/lib/python3.4/urllib/request.py\", line 1217, in https_open\n",
      "    context=self._context, check_hostname=self._check_hostname)\n",
      "  File \"/home/guillaume/anaconda/envs/python3/lib/python3.4/urllib/request.py\", line 1176, in do_open\n",
      "    raise URLError(err)\n",
      "urllib.error.URLError: <urlopen error [Errno -2] Nom ou service inconnu>\n",
      "\n",
      "During handling of the above exception, another exception occurred:\n",
      "\n",
      "Traceback (most recent call last):\n",
      "  File \"/home/guillaume/anaconda/envs/python3/lib/python3.4/site-packages/vispy-0.3.0-py3.4.egg/vispy/util/event.py\", line 435, in _invoke_callback\n",
      "    cb(event)\n",
      "  File \"/home/guillaume/anaconda/envs/python3/lib/python3.4/site-packages/vispy-0.3.0-py3.4.egg/vispy/scene/canvas.py\", line 145, in on_draw\n",
      "    self._draw_scene()\n",
      "  File \"/home/guillaume/anaconda/envs/python3/lib/python3.4/site-packages/vispy-0.3.0-py3.4.egg/vispy/scene/canvas.py\", line 188, in _draw_scene\n",
      "    self.draw_visual(self.scene)\n",
      "  File \"/home/guillaume/anaconda/envs/python3/lib/python3.4/site-packages/vispy-0.3.0-py3.4.egg/vispy/scene/canvas.py\", line 227, in draw_visual\n",
      "    visual.draw(scene_event)\n",
      "  File \"/home/guillaume/anaconda/envs/python3/lib/python3.4/site-packages/vispy-0.3.0-py3.4.egg/vispy/scene/subscene.py\", line 50, in draw\n",
      "    self.process_system(event, 'draw')\n",
      "  File \"/home/guillaume/anaconda/envs/python3/lib/python3.4/site-packages/vispy-0.3.0-py3.4.egg/vispy/scene/subscene.py\", line 60, in process_system\n",
      "    self._systems[system_name].process(event, self)\n",
      "  File \"/home/guillaume/anaconda/envs/python3/lib/python3.4/site-packages/vispy-0.3.0-py3.4.egg/vispy/scene/systems.py\", line 35, in process\n",
      "    self.process(event, sub_node)\n",
      "  File \"/home/guillaume/anaconda/envs/python3/lib/python3.4/site-packages/vispy-0.3.0-py3.4.egg/vispy/scene/systems.py\", line 35, in process\n",
      "    self.process(event, sub_node)\n",
      "  File \"/home/guillaume/anaconda/envs/python3/lib/python3.4/site-packages/vispy-0.3.0-py3.4.egg/vispy/scene/systems.py\", line 26, in process\n",
      "    _handle_exception(False, 'reminders', self, node=node)\n",
      "  File \"/home/guillaume/anaconda/envs/python3/lib/python3.4/site-packages/vispy-0.3.0-py3.4.egg/vispy/scene/systems.py\", line 22, in process\n",
      "    node.draw(event)\n",
      "  File \"/home/guillaume/anaconda/envs/python3/lib/python3.4/site-packages/vispy-0.3.0-py3.4.egg/vispy/visuals/text/text.py\", line 451, in draw\n",
      "    self._font._lowres_size)\n",
      "  File \"/home/guillaume/anaconda/envs/python3/lib/python3.4/site-packages/vispy-0.3.0-py3.4.egg/vispy/visuals/text/text.py\", line 152, in _text_to_vbo\n",
      "    glyph = font[char]\n",
      "  File \"/home/guillaume/anaconda/envs/python3/lib/python3.4/site-packages/vispy-0.3.0-py3.4.egg/vispy/visuals/text/text.py\", line 71, in __getitem__\n",
      "    self._load_char(char)\n",
      "  File \"/home/guillaume/anaconda/envs/python3/lib/python3.4/site-packages/vispy-0.3.0-py3.4.egg/vispy/visuals/text/text.py\", line 85, in _load_char\n",
      "    _load_glyph(self._font, char, self._glyphs)\n",
      "  File \"/home/guillaume/anaconda/envs/python3/lib/python3.4/site-packages/vispy-0.3.0-py3.4.egg/vispy/util/fonts/_freetype.py\", line 47, in _load_glyph\n",
      "    face = _load_font(f['face'], f['bold'], f['italic'])\n",
      "  File \"/home/guillaume/anaconda/envs/python3/lib/python3.4/site-packages/vispy-0.3.0-py3.4.egg/vispy/util/fonts/_freetype.py\", line 34, in _load_font\n",
      "    fname = _get_vispy_font_filename(face, bold, italic)\n",
      "  File \"/home/guillaume/anaconda/envs/python3/lib/python3.4/site-packages/vispy-0.3.0-py3.4.egg/vispy/util/fonts/_vispy_fonts.py\", line 20, in _get_vispy_font_filename\n",
      "    return load_data_file('fonts/%s' % name)\n",
      "  File \"/home/guillaume/anaconda/envs/python3/lib/python3.4/site-packages/vispy-0.3.0-py3.4.egg/vispy/util/fetching.py\", line 68, in load_data_file\n",
      "    _fetch_file(url, fname)\n",
      "  File \"/home/guillaume/anaconda/envs/python3/lib/python3.4/site-packages/vispy-0.3.0-py3.4.egg/vispy/util/fetching.py\", line 292, in _fetch_file\n",
      "    'Dataset fetching aborted (%s)' % (url, e))\n",
      "RuntimeError: Error while fetching file https://github.com/vispy/demo-data/raw/master/fonts/OpenSans-Bold.ttf.\n",
      "Dataset fetching aborted (<urlopen error [Errno -2] Nom ou service inconnu>)\n",
      "WARNING:vispy:Traceback (most recent call last):\n",
      "  File \"<string>\", line 1, in <module>\n",
      "  File \"/home/guillaume/anaconda/envs/python3/lib/python3.4/site-packages/IPython/kernel/zmq/kernelapp.py\", line 469, in main\n",
      "    app.start()\n",
      "  File \"/home/guillaume/anaconda/envs/python3/lib/python3.4/site-packages/IPython/kernel/zmq/kernelapp.py\", line 459, in start\n",
      "    ioloop.IOLoop.instance().start()\n",
      "  File \"/home/guillaume/anaconda/envs/python3/lib/python3.4/site-packages/zmq/eventloop/ioloop.py\", line 151, in start\n",
      "    super(ZMQIOLoop, self).start()\n",
      "  File \"/home/guillaume/anaconda/envs/python3/lib/python3.4/site-packages/tornado/ioloop.py\", line 837, in start\n",
      "    handler_func(fd_obj, events)\n",
      "  File \"/home/guillaume/anaconda/envs/python3/lib/python3.4/site-packages/tornado/stack_context.py\", line 275, in null_wrapper\n",
      "    return fn(*args, **kwargs)\n",
      "  File \"/home/guillaume/anaconda/envs/python3/lib/python3.4/site-packages/zmq/eventloop/zmqstream.py\", line 433, in _handle_events\n",
      "    self._handle_recv()\n",
      "  File \"/home/guillaume/anaconda/envs/python3/lib/python3.4/site-packages/zmq/eventloop/zmqstream.py\", line 465, in _handle_recv\n",
      "    self._run_callback(callback, msg)\n",
      "  File \"/home/guillaume/anaconda/envs/python3/lib/python3.4/site-packages/zmq/eventloop/zmqstream.py\", line 407, in _run_callback\n",
      "    callback(*args, **kwargs)\n",
      "  File \"/home/guillaume/anaconda/envs/python3/lib/python3.4/site-packages/tornado/stack_context.py\", line 275, in null_wrapper\n",
      "    return fn(*args, **kwargs)\n",
      "  File \"/home/guillaume/anaconda/envs/python3/lib/python3.4/site-packages/IPython/kernel/zmq/ipkernel.py\", line 281, in dispatcher\n",
      "    return self.dispatch_shell(stream, msg)\n",
      "  File \"/home/guillaume/anaconda/envs/python3/lib/python3.4/site-packages/IPython/kernel/zmq/ipkernel.py\", line 245, in dispatch_shell\n",
      "    handler(stream, idents, msg)\n",
      "  File \"/home/guillaume/anaconda/envs/python3/lib/python3.4/site-packages/IPython/kernel/zmq/ipkernel.py\", line 389, in execute_request\n",
      "    shell.run_cell(code, store_history=store_history, silent=silent)\n",
      "  File \"/home/guillaume/anaconda/envs/python3/lib/python3.4/site-packages/IPython/core/interactiveshell.py\", line 2741, in run_cell\n",
      "    interactivity=interactivity, compiler=compiler)\n",
      "  File \"/home/guillaume/anaconda/envs/python3/lib/python3.4/site-packages/IPython/core/interactiveshell.py\", line 2827, in run_ast_nodes\n",
      "    if self.run_code(code):\n",
      "  File \"/home/guillaume/anaconda/envs/python3/lib/python3.4/site-packages/IPython/core/interactiveshell.py\", line 2883, in run_code\n",
      "    exec(code_obj, self.user_global_ns, self.user_ns)\n",
      "  File \"<ipython-input-1-58700c82bc32>\", line 42, in <module>\n",
      "    canvas.app.run()\n",
      "  File \"/home/guillaume/anaconda/envs/python3/lib/python3.4/site-packages/vispy-0.3.0-py3.4.egg/vispy/app/application.py\", line 88, in run\n",
      "    return self._backend._vispy_run()\n",
      "  File \"/home/guillaume/anaconda/envs/python3/lib/python3.4/site-packages/vispy-0.3.0-py3.4.egg/vispy/app/backends/_qt.py\", line 216, in _vispy_run\n",
      "    return app.exec_()\n",
      "  File \"/home/guillaume/anaconda/envs/python3/lib/python3.4/site-packages/vispy-0.3.0-py3.4.egg/vispy/app/backends/_qt.py\", line 615, in paintGL\n",
      "    self._vispy_canvas.events.draw(region=None)\n",
      "  File \"/home/guillaume/anaconda/envs/python3/lib/python3.4/site-packages/vispy-0.3.0-py3.4.egg/vispy/util/event.py\", line 418, in __call__\n",
      "    self._invoke_callback(cb, event)\n",
      "  File \"/home/guillaume/anaconda/envs/python3/lib/python3.4/site-packages/vispy-0.3.0-py3.4.egg/vispy/util/event.py\", line 439, in _invoke_callback\n",
      "    self, cb_event=(cb, event))\n",
      "  << caught exception here: >>\n",
      "  File \"/home/guillaume/anaconda/envs/python3/lib/python3.4/urllib/request.py\", line 1174, in do_open\n",
      "    h.request(req.get_method(), req.selector, req.data, headers)\n",
      "  File \"/home/guillaume/anaconda/envs/python3/lib/python3.4/http/client.py\", line 1090, in request\n",
      "    self._send_request(method, url, body, headers)\n",
      "  File \"/home/guillaume/anaconda/envs/python3/lib/python3.4/http/client.py\", line 1128, in _send_request\n",
      "    self.endheaders(body)\n",
      "  File \"/home/guillaume/anaconda/envs/python3/lib/python3.4/http/client.py\", line 1086, in endheaders\n",
      "    self._send_output(message_body)\n",
      "  File \"/home/guillaume/anaconda/envs/python3/lib/python3.4/http/client.py\", line 924, in _send_output\n",
      "    self.send(msg)\n",
      "  File \"/home/guillaume/anaconda/envs/python3/lib/python3.4/http/client.py\", line 859, in send\n",
      "    self.connect()\n",
      "  File \"/home/guillaume/anaconda/envs/python3/lib/python3.4/http/client.py\", line 1221, in connect\n",
      "    super().connect()\n",
      "  File \"/home/guillaume/anaconda/envs/python3/lib/python3.4/http/client.py\", line 836, in connect\n",
      "    self.timeout, self.source_address)\n",
      "  File \"/home/guillaume/anaconda/envs/python3/lib/python3.4/socket.py\", line 491, in create_connection\n",
      "    for res in getaddrinfo(host, port, 0, SOCK_STREAM):\n",
      "  File \"/home/guillaume/anaconda/envs/python3/lib/python3.4/socket.py\", line 530, in getaddrinfo\n",
      "    for res in _socket.getaddrinfo(host, port, family, type, proto, flags):\n",
      "socket.gaierror: [Errno -2] Nom ou service inconnu\n",
      "\n",
      "During handling of the above exception, another exception occurred:\n",
      "\n",
      "Traceback (most recent call last):\n",
      "  File \"/home/guillaume/anaconda/envs/python3/lib/python3.4/site-packages/vispy-0.3.0-py3.4.egg/vispy/util/fetching.py\", line 277, in _fetch_file\n",
      "    u = urllib.request.urlopen(url, timeout=5.)\n",
      "  File \"/home/guillaume/anaconda/envs/python3/lib/python3.4/urllib/request.py\", line 153, in urlopen\n",
      "    return opener.open(url, data, timeout)\n",
      "  File \"/home/guillaume/anaconda/envs/python3/lib/python3.4/urllib/request.py\", line 455, in open\n",
      "    response = self._open(req, data)\n",
      "  File \"/home/guillaume/anaconda/envs/python3/lib/python3.4/urllib/request.py\", line 473, in _open\n",
      "    '_open', req)\n",
      "  File \"/home/guillaume/anaconda/envs/python3/lib/python3.4/urllib/request.py\", line 433, in _call_chain\n",
      "    result = func(*args)\n",
      "  File \"/home/guillaume/anaconda/envs/python3/lib/python3.4/urllib/request.py\", line 1217, in https_open\n",
      "    context=self._context, check_hostname=self._check_hostname)\n",
      "  File \"/home/guillaume/anaconda/envs/python3/lib/python3.4/urllib/request.py\", line 1176, in do_open\n",
      "    raise URLError(err)\n",
      "urllib.error.URLError: <urlopen error [Errno -2] Nom ou service inconnu>\n",
      "\n",
      "During handling of the above exception, another exception occurred:\n",
      "\n",
      "Traceback (most recent call last):\n",
      "  File \"/home/guillaume/anaconda/envs/python3/lib/python3.4/site-packages/vispy-0.3.0-py3.4.egg/vispy/util/event.py\", line 435, in _invoke_callback\n",
      "    cb(event)\n",
      "  File \"/home/guillaume/anaconda/envs/python3/lib/python3.4/site-packages/vispy-0.3.0-py3.4.egg/vispy/scene/canvas.py\", line 145, in on_draw\n",
      "    self._draw_scene()\n",
      "  File \"/home/guillaume/anaconda/envs/python3/lib/python3.4/site-packages/vispy-0.3.0-py3.4.egg/vispy/scene/canvas.py\", line 188, in _draw_scene\n",
      "    self.draw_visual(self.scene)\n",
      "  File \"/home/guillaume/anaconda/envs/python3/lib/python3.4/site-packages/vispy-0.3.0-py3.4.egg/vispy/scene/canvas.py\", line 227, in draw_visual\n",
      "    visual.draw(scene_event)\n",
      "  File \"/home/guillaume/anaconda/envs/python3/lib/python3.4/site-packages/vispy-0.3.0-py3.4.egg/vispy/scene/subscene.py\", line 50, in draw\n",
      "    self.process_system(event, 'draw')\n",
      "  File \"/home/guillaume/anaconda/envs/python3/lib/python3.4/site-packages/vispy-0.3.0-py3.4.egg/vispy/scene/subscene.py\", line 60, in process_system\n",
      "    self._systems[system_name].process(event, self)\n",
      "  File \"/home/guillaume/anaconda/envs/python3/lib/python3.4/site-packages/vispy-0.3.0-py3.4.egg/vispy/scene/systems.py\", line 35, in process\n",
      "    self.process(event, sub_node)\n",
      "  File \"/home/guillaume/anaconda/envs/python3/lib/python3.4/site-packages/vispy-0.3.0-py3.4.egg/vispy/scene/systems.py\", line 35, in process\n",
      "    self.process(event, sub_node)\n",
      "  File \"/home/guillaume/anaconda/envs/python3/lib/python3.4/site-packages/vispy-0.3.0-py3.4.egg/vispy/scene/systems.py\", line 26, in process\n",
      "    _handle_exception(False, 'reminders', self, node=node)\n",
      "  File \"/home/guillaume/anaconda/envs/python3/lib/python3.4/site-packages/vispy-0.3.0-py3.4.egg/vispy/scene/systems.py\", line 22, in process\n",
      "    node.draw(event)\n",
      "  File \"/home/guillaume/anaconda/envs/python3/lib/python3.4/site-packages/vispy-0.3.0-py3.4.egg/vispy/visuals/text/text.py\", line 451, in draw\n",
      "    self._font._lowres_size)\n",
      "  File \"/home/guillaume/anaconda/envs/python3/lib/python3.4/site-packages/vispy-0.3.0-py3.4.egg/vispy/visuals/text/text.py\", line 152, in _text_to_vbo\n",
      "    glyph = font[char]\n",
      "  File \"/home/guillaume/anaconda/envs/python3/lib/python3.4/site-packages/vispy-0.3.0-py3.4.egg/vispy/visuals/text/text.py\", line 71, in __getitem__\n",
      "    self._load_char(char)\n",
      "  File \"/home/guillaume/anaconda/envs/python3/lib/python3.4/site-packages/vispy-0.3.0-py3.4.egg/vispy/visuals/text/text.py\", line 85, in _load_char\n",
      "    _load_glyph(self._font, char, self._glyphs)\n",
      "  File \"/home/guillaume/anaconda/envs/python3/lib/python3.4/site-packages/vispy-0.3.0-py3.4.egg/vispy/util/fonts/_freetype.py\", line 47, in _load_glyph\n",
      "    face = _load_font(f['face'], f['bold'], f['italic'])\n",
      "  File \"/home/guillaume/anaconda/envs/python3/lib/python3.4/site-packages/vispy-0.3.0-py3.4.egg/vispy/util/fonts/_freetype.py\", line 34, in _load_font\n",
      "    fname = _get_vispy_font_filename(face, bold, italic)\n",
      "  File \"/home/guillaume/anaconda/envs/python3/lib/python3.4/site-packages/vispy-0.3.0-py3.4.egg/vispy/util/fonts/_vispy_fonts.py\", line 20, in _get_vispy_font_filename\n",
      "    return load_data_file('fonts/%s' % name)\n",
      "  File \"/home/guillaume/anaconda/envs/python3/lib/python3.4/site-packages/vispy-0.3.0-py3.4.egg/vispy/util/fetching.py\", line 68, in load_data_file\n",
      "    _fetch_file(url, fname)\n",
      "  File \"/home/guillaume/anaconda/envs/python3/lib/python3.4/site-packages/vispy-0.3.0-py3.4.egg/vispy/util/fetching.py\", line 292, in _fetch_file\n",
      "    'Dataset fetching aborted (%s)' % (url, e))\n",
      "RuntimeError: Error while fetching file https://github.com/vispy/demo-data/raw/master/fonts/OpenSans-Bold.ttf.\n",
      "Dataset fetching aborted (<urlopen error [Errno -2] Nom ou service inconnu>)\n",
      "WARNING: Error invoking callback <bound method SceneCanvas.on_draw of <Vispy canvas (PyQt4 (qt) backend) at 0x7f1e60560128>> for event: <DrawEvent blocked=False handled=False native=None region=None source=<Vispy canvas (PyQt4 (qt) backend) at 0x7f1e60560128> sources=[<Vispy canvas (PyQt4 (qt) backend) at 0x7f1e60560128>] type=draw>\n",
      "WARNING:vispy:Error invoking callback <bound method SceneCanvas.on_draw of <Vispy canvas (PyQt4 (qt) backend) at 0x7f1e60560128>> for event: <DrawEvent blocked=False handled=False native=None region=None source=<Vispy canvas (PyQt4 (qt) backend) at 0x7f1e60560128> sources=[<Vispy canvas (PyQt4 (qt) backend) at 0x7f1e60560128>] type=draw>\n",
      "WARNING: Error invoking callback <bound method SceneCanvas.on_draw of <Vispy canvas (PyQt4 (qt) backend) at 0x7f1e60560128>> repeat 2\n",
      "WARNING:vispy:Error invoking callback <bound method SceneCanvas.on_draw of <Vispy canvas (PyQt4 (qt) backend) at 0x7f1e60560128>> repeat 2\n",
      "WARNING: Error invoking callback <bound method SceneCanvas.on_draw of <Vispy canvas (PyQt4 (qt) backend) at 0x7f1e60560128>> repeat 3\n",
      "WARNING:vispy:Error invoking callback <bound method SceneCanvas.on_draw of <Vispy canvas (PyQt4 (qt) backend) at 0x7f1e60560128>> repeat 3\n",
      "WARNING: Error invoking callback <bound method SceneCanvas.on_draw of <Vispy canvas (PyQt4 (qt) backend) at 0x7f1e60560128>> repeat 4\n",
      "WARNING:vispy:Error invoking callback <bound method SceneCanvas.on_draw of <Vispy canvas (PyQt4 (qt) backend) at 0x7f1e60560128>> repeat 4\n",
      "WARNING: Error invoking callback <bound method SceneCanvas.on_draw of <Vispy canvas (PyQt4 (qt) backend) at 0x7f1e60560128>> repeat 5\n",
      "WARNING:vispy:Error invoking callback <bound method SceneCanvas.on_draw of <Vispy canvas (PyQt4 (qt) backend) at 0x7f1e60560128>> repeat 5\n",
      "WARNING: Error invoking callback <bound method SceneCanvas.on_draw of <Vispy canvas (PyQt4 (qt) backend) at 0x7f1e60560128>> repeat 6\n",
      "WARNING:vispy:Error invoking callback <bound method SceneCanvas.on_draw of <Vispy canvas (PyQt4 (qt) backend) at 0x7f1e60560128>> repeat 6\n",
      "WARNING: Error invoking callback <bound method SceneCanvas.on_draw of <Vispy canvas (PyQt4 (qt) backend) at 0x7f1e60560128>> repeat 7\n",
      "WARNING:vispy:Error invoking callback <bound method SceneCanvas.on_draw of <Vispy canvas (PyQt4 (qt) backend) at 0x7f1e60560128>> repeat 7\n",
      "WARNING: Error invoking callback <bound method SceneCanvas.on_draw of <Vispy canvas (PyQt4 (qt) backend) at 0x7f1e60560128>> repeat 8\n",
      "WARNING:vispy:Error invoking callback <bound method SceneCanvas.on_draw of <Vispy canvas (PyQt4 (qt) backend) at 0x7f1e60560128>> repeat 8\n",
      "WARNING: Error invoking callback <bound method SceneCanvas.on_draw of <Vispy canvas (PyQt4 (qt) backend) at 0x7f1e60560128>> repeat 9\n",
      "WARNING:vispy:Error invoking callback <bound method SceneCanvas.on_draw of <Vispy canvas (PyQt4 (qt) backend) at 0x7f1e60560128>> repeat 9\n",
      "WARNING: Error invoking callback <bound method SceneCanvas.on_draw of <Vispy canvas (PyQt4 (qt) backend) at 0x7f1e60560128>> repeat 10\n",
      "WARNING:vispy:Error invoking callback <bound method SceneCanvas.on_draw of <Vispy canvas (PyQt4 (qt) backend) at 0x7f1e60560128>> repeat 10\n",
      "WARNING: Error invoking callback <bound method SceneCanvas.on_draw of <Vispy canvas (PyQt4 (qt) backend) at 0x7f1e60560128>> repeat 20\n",
      "WARNING:vispy:Error invoking callback <bound method SceneCanvas.on_draw of <Vispy canvas (PyQt4 (qt) backend) at 0x7f1e60560128>> repeat 20\n",
      "WARNING: Error invoking callback <bound method SceneCanvas.on_draw of <Vispy canvas (PyQt4 (qt) backend) at 0x7f1e60560128>> repeat 30\n",
      "WARNING:vispy:Error invoking callback <bound method SceneCanvas.on_draw of <Vispy canvas (PyQt4 (qt) backend) at 0x7f1e60560128>> repeat 30\n",
      "WARNING: Error invoking callback <bound method SceneCanvas.on_draw of <Vispy canvas (PyQt4 (qt) backend) at 0x7f1e60560128>> repeat 40\n",
      "WARNING:vispy:Error invoking callback <bound method SceneCanvas.on_draw of <Vispy canvas (PyQt4 (qt) backend) at 0x7f1e60560128>> repeat 40\n"
     ]
    }
   ],
   "source": [
    "import itertools\n",
    "import numpy as np\n",
    "import sys\n",
    "\n",
    "from vispy import app, scene\n",
    "from vispy.color import colormaps\n",
    "from vispy.visuals.transforms import STTransform\n",
    "from vispy.ext.six import next\n",
    "\n",
    "colormaps = itertools.cycle(colormaps)\n",
    "\n",
    "# vertex positions of data to draw\n",
    "N = 200\n",
    "pos = np.zeros((N, 2), dtype=np.float32)\n",
    "pos[:, 0] = np.linspace(10, 390, N)\n",
    "pos[:, 1] = np.random.normal(size=N, scale=20, loc=0)\n",
    "\n",
    "\n",
    "canvas = scene.SceneCanvas(keys='interactive', size=(400, 200), show=True)\n",
    "\n",
    "# Create a visual that updates the line with different colormaps\n",
    "color = next(colormaps)\n",
    "line = scene.Line(pos=pos, color=color, mode='gl')\n",
    "line.transform = STTransform(translate=[0, 140])\n",
    "line.parent = canvas.central_widget\n",
    "\n",
    "text = scene.Text(color, bold=True, font_size=24, color='w',\n",
    "                  pos=(200, 40), parent=canvas.central_widget)\n",
    "\n",
    "\n",
    "def on_timer(event):\n",
    "    global colormaps, line, text, pos\n",
    "    color = next(colormaps)\n",
    "    line.set_data(pos=pos, color=color)\n",
    "    text.text = color\n",
    "    \n",
    "timer = app.Timer(2.0, connect=on_timer, start=True)\n",
    "\n",
    "\n",
    "if __name__ == '__main__':\n",
    "    if sys.flags.interactive != 1:\n",
    "        canvas.app.run()\n"
   ]
  },
  {
   "cell_type": "code",
   "execution_count": null,
   "metadata": {
    "collapsed": false
   },
   "outputs": [],
   "source": []
  }
 ],
 "metadata": {
  "kernelspec": {
   "display_name": "Python 3",
   "language": "python",
   "name": "python3"
  },
  "language_info": {
   "codemirror_mode": {
    "name": "ipython",
    "version": 3
   },
   "file_extension": ".py",
   "mimetype": "text/x-python",
   "name": "python",
   "nbconvert_exporter": "python",
   "pygments_lexer": "ipython3",
   "version": "3.4.3"
  }
 },
 "nbformat": 4,
 "nbformat_minor": 0
}
