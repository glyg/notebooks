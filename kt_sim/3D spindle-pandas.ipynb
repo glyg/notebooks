{
 "cells": [
  {
   "cell_type": "code",
   "execution_count": 1,
   "metadata": {
    "collapsed": false
   },
   "outputs": [],
   "source": [
    "%load_ext autoreload\n",
    "%autoreload 2\n",
    "\n",
    "import sys\n",
    "# change this to suit your path\n",
    "sys.path.append('/home/guillaume/Python/kt_simul/')\n",
    "#from kt_simul.smp_spindle.smp_spindle import SympySpindle, parameters\n",
    "\n",
    "\n",
    "import IPython.display as disp\n",
    "import os"
   ]
  },
  {
   "cell_type": "markdown",
   "metadata": {
    "collapsed": false
   },
   "source": [
    "### Visualisation using openscad\n",
    "\n",
    "This has the advangtage of being simple to use\n",
    "\n",
    "```python\n",
    "import solid as solid\n",
    "import tempfile\n",
    "solid.use('spindle.scad')\n",
    "spindle_length = 4\n",
    "ch_pos = [-0.4, 0.1, 1]\n",
    "stretch = 0.3\n",
    "ch_theta = 30\n",
    "ch_phi = 10\n",
    "\n",
    "scad_spindle = (spindle_midzone(spindle_length) +\n",
    "                chromosome(ch_pos, stretch, ch_theta, ch_phi))\n",
    "def show_scad(scad_spindle, img_name='spindle_scad.png'):\n",
    "    if os.path.isfile(img_name):\n",
    "        os.remove(img_name)\n",
    "    with tempfile.NamedTemporaryFile('w', suffix='.scad') as tmp_scad:\n",
    "        solid.scad_render_to_file(scad_spindle, tmp_scad.name)\n",
    "        os.system('openscad -o {} {}'.format(img_name, tmp_scad.name))\n",
    "    return disp.Image(img_name)\n",
    "show_scad(scad_spindle)\n",
    "```"
   ]
  },
  {
   "cell_type": "markdown",
   "metadata": {},
   "source": [
    "### Model description\n",
    "\n",
    "We're looking at a simple mechanical system\n",
    "\n",
    "![3D spindle](3d_spindle.svg)\n",
    "\n",
    "\n",
    "\n",
    "#### Points and coordiantes\n",
    "\n",
    "Point is the physical location of an element.\n",
    "\n",
    "In the method we use to write the equations of motion of the system, we use what is caled **generalized coordinates** and **generalized speeds**. The generic letter for a gen. coordinate is **q** and **u** for the speeds. Those are the quantities marked in red on the sketch.\n",
    "\n",
    "As a starting point to a 3D description of the spindle, we assume that the chromosomes are 'aligned', thus there is a single extra reference frame, noted $\\mathbf{C}$, for each chromosome.\n",
    "\n",
    "\n"
   ]
  },
  {
   "cell_type": "markdown",
   "metadata": {},
   "source": [
    "### Parameters "
   ]
  },
  {
   "cell_type": "code",
   "execution_count": 2,
   "metadata": {
    "collapsed": false
   },
   "outputs": [],
   "source": [
    "from kt_simul.core.parameters import get_default_paramtree"
   ]
  },
  {
   "cell_type": "code",
   "execution_count": 3,
   "metadata": {
    "collapsed": true
   },
   "outputs": [],
   "source": [
    "params = get_default_paramtree().relative_dic"
   ]
  },
  {
   "cell_type": "code",
   "execution_count": 4,
   "metadata": {
    "collapsed": false
   },
   "outputs": [
    {
     "data": {
      "text/plain": [
       "array([ 0.   ,  2.453,  3.125])"
      ]
     },
     "execution_count": 4,
     "metadata": {},
     "output_type": "execute_result"
    }
   ],
   "source": [
    "import numpy as np\n",
    "np.round(np.array([0, 2.4534, 3.1247526]), 3)"
   ]
  },
  {
   "cell_type": "code",
   "execution_count": 5,
   "metadata": {
    "collapsed": true
   },
   "outputs": [],
   "source": [
    "from kt_simul.core.simul_spindle import Metaphase\n"
   ]
  },
  {
   "cell_type": "code",
   "execution_count": 23,
   "metadata": {
    "collapsed": false
   },
   "outputs": [
    {
     "ename": "LinAlgError",
     "evalue": "Singular matrix",
     "output_type": "error",
     "traceback": [
      "\u001b[1;31m---------------------------------------------------------------------------\u001b[0m",
      "\u001b[1;31mLinAlgError\u001b[0m                               Traceback (most recent call last)",
      "\u001b[1;32m<ipython-input-23-af415c299cf6>\u001b[0m in \u001b[0;36m<module>\u001b[1;34m()\u001b[0m\n\u001b[0;32m      1\u001b[0m \u001b[0mmeta\u001b[0m \u001b[1;33m=\u001b[0m \u001b[0mMetaphase\u001b[0m\u001b[1;33m(\u001b[0m\u001b[1;33m)\u001b[0m\u001b[1;33m\u001b[0m\u001b[0m\n\u001b[1;32m----> 2\u001b[1;33m \u001b[0mmeta\u001b[0m\u001b[1;33m.\u001b[0m\u001b[0msimul\u001b[0m\u001b[1;33m(\u001b[0m\u001b[1;33m)\u001b[0m\u001b[1;33m\u001b[0m\u001b[0m\n\u001b[0m",
      "\u001b[1;32m/home/guillaume/Python/kt_simul/kt_simul/core/simul_spindle.py\u001b[0m in \u001b[0;36msimul\u001b[1;34m(self, ablat, ablat_pos)\u001b[0m\n\u001b[0;32m    228\u001b[0m                                  (time_point, self.num_steps))\n\u001b[0;32m    229\u001b[0m                     \u001b[0mlog_anaphase_onset\u001b[0m \u001b[1;33m=\u001b[0m \u001b[1;32mTrue\u001b[0m\u001b[1;33m\u001b[0m\u001b[0m\n\u001b[1;32m--> 230\u001b[1;33m             \u001b[0mself\u001b[0m\u001b[1;33m.\u001b[0m\u001b[0mmodel\u001b[0m\u001b[1;33m.\u001b[0m\u001b[0mone_step\u001b[0m\u001b[1;33m(\u001b[0m\u001b[0mtime_point\u001b[0m\u001b[1;33m)\u001b[0m\u001b[1;33m\u001b[0m\u001b[0m\n\u001b[0m\u001b[0;32m    231\u001b[0m \u001b[1;33m\u001b[0m\u001b[0m\n\u001b[0;32m    232\u001b[0m         \u001b[1;32mif\u001b[0m \u001b[0mself\u001b[0m\u001b[1;33m.\u001b[0m\u001b[0mverbose\u001b[0m\u001b[1;33m:\u001b[0m\u001b[1;33m\u001b[0m\u001b[0m\n",
      "\u001b[1;32m/home/guillaume/Python/kt_simul/kt_simul/core/dynamics.py\u001b[0m in \u001b[0;36mone_step\u001b[1;34m(self, step)\u001b[0m\n\u001b[0;32m    128\u001b[0m                 \u001b[0mplugsite\u001b[0m\u001b[1;33m.\u001b[0m\u001b[0mplug_unplug\u001b[0m\u001b[1;33m(\u001b[0m\u001b[1;33m)\u001b[0m\u001b[1;33m\u001b[0m\u001b[0m\n\u001b[0;32m    129\u001b[0m         \u001b[0mself\u001b[0m\u001b[1;33m.\u001b[0m\u001b[0mupdate_AB\u001b[0m\u001b[1;33m(\u001b[0m\u001b[1;33m)\u001b[0m\u001b[1;33m\u001b[0m\u001b[0m\n\u001b[1;32m--> 130\u001b[1;33m         \u001b[0mself\u001b[0m\u001b[1;33m.\u001b[0m\u001b[0msolve\u001b[0m\u001b[1;33m(\u001b[0m\u001b[1;33m)\u001b[0m\u001b[1;33m\u001b[0m\u001b[0m\n\u001b[0m\u001b[0;32m    131\u001b[0m         \u001b[0mself\u001b[0m\u001b[1;33m.\u001b[0m\u001b[0mspindle\u001b[0m\u001b[1;33m.\u001b[0m\u001b[0mregister_history\u001b[0m\u001b[1;33m(\u001b[0m\u001b[1;33m)\u001b[0m\u001b[1;33m\u001b[0m\u001b[0m\n",
      "\u001b[1;32m/home/guillaume/Python/kt_simul/kt_simul/core/dynamics.py\u001b[0m in \u001b[0;36msolve\u001b[1;34m(self)\u001b[0m\n\u001b[0;32m     14\u001b[0m \u001b[1;33m\u001b[0m\u001b[0m\n\u001b[0;32m     15\u001b[0m     \u001b[1;32mdef\u001b[0m \u001b[0msolve\u001b[0m\u001b[1;33m(\u001b[0m\u001b[0mself\u001b[0m\u001b[1;33m)\u001b[0m\u001b[1;33m:\u001b[0m\u001b[1;33m\u001b[0m\u001b[0m\n\u001b[1;32m---> 16\u001b[1;33m         \u001b[0mspeeds\u001b[0m \u001b[1;33m=\u001b[0m \u001b[0mnp\u001b[0m\u001b[1;33m.\u001b[0m\u001b[0mlinalg\u001b[0m\u001b[1;33m.\u001b[0m\u001b[0msolve\u001b[0m\u001b[1;33m(\u001b[0m\u001b[0mself\u001b[0m\u001b[1;33m.\u001b[0m\u001b[0mAmat\u001b[0m\u001b[1;33m,\u001b[0m \u001b[1;33m-\u001b[0m\u001b[0mself\u001b[0m\u001b[1;33m.\u001b[0m\u001b[0mBvect\u001b[0m\u001b[1;33m)\u001b[0m\u001b[1;33m\u001b[0m\u001b[0m\n\u001b[0m\u001b[0;32m     17\u001b[0m         \u001b[1;32mfor\u001b[0m \u001b[0mi\u001b[0m\u001b[1;33m,\u001b[0m \u001b[0mc\u001b[0m \u001b[1;32min\u001b[0m \u001b[0menumerate\u001b[0m\u001b[1;33m(\u001b[0m\u001b[0mcoords\u001b[0m\u001b[1;33m)\u001b[0m\u001b[1;33m:\u001b[0m\u001b[1;33m\u001b[0m\u001b[0m\n\u001b[0;32m     18\u001b[0m             \u001b[0mself\u001b[0m\u001b[1;33m.\u001b[0m\u001b[0mstructure\u001b[0m\u001b[1;33m.\u001b[0m\u001b[0mpoint_df\u001b[0m\u001b[1;33m[\u001b[0m\u001b[1;34m'v'\u001b[0m\u001b[1;33m+\u001b[0m\u001b[0mc\u001b[0m\u001b[1;33m]\u001b[0m \u001b[1;33m=\u001b[0m \u001b[0mspeeds\u001b[0m\u001b[1;33m[\u001b[0m\u001b[0mi\u001b[0m\u001b[1;33m:\u001b[0m\u001b[1;33m:\u001b[0m\u001b[1;36m3\u001b[0m\u001b[1;33m]\u001b[0m\u001b[1;33m\u001b[0m\u001b[0m\n",
      "\u001b[1;32m/home/guillaume/anaconda/envs/tyssue/lib/python3.4/site-packages/numpy/linalg/linalg.py\u001b[0m in \u001b[0;36msolve\u001b[1;34m(a, b)\u001b[0m\n\u001b[0;32m    379\u001b[0m     \u001b[0msignature\u001b[0m \u001b[1;33m=\u001b[0m \u001b[1;34m'DD->D'\u001b[0m \u001b[1;32mif\u001b[0m \u001b[0misComplexType\u001b[0m\u001b[1;33m(\u001b[0m\u001b[0mt\u001b[0m\u001b[1;33m)\u001b[0m \u001b[1;32melse\u001b[0m \u001b[1;34m'dd->d'\u001b[0m\u001b[1;33m\u001b[0m\u001b[0m\n\u001b[0;32m    380\u001b[0m     \u001b[0mextobj\u001b[0m \u001b[1;33m=\u001b[0m \u001b[0mget_linalg_error_extobj\u001b[0m\u001b[1;33m(\u001b[0m\u001b[0m_raise_linalgerror_singular\u001b[0m\u001b[1;33m)\u001b[0m\u001b[1;33m\u001b[0m\u001b[0m\n\u001b[1;32m--> 381\u001b[1;33m     \u001b[0mr\u001b[0m \u001b[1;33m=\u001b[0m \u001b[0mgufunc\u001b[0m\u001b[1;33m(\u001b[0m\u001b[0ma\u001b[0m\u001b[1;33m,\u001b[0m \u001b[0mb\u001b[0m\u001b[1;33m,\u001b[0m \u001b[0msignature\u001b[0m\u001b[1;33m=\u001b[0m\u001b[0msignature\u001b[0m\u001b[1;33m,\u001b[0m \u001b[0mextobj\u001b[0m\u001b[1;33m=\u001b[0m\u001b[0mextobj\u001b[0m\u001b[1;33m)\u001b[0m\u001b[1;33m\u001b[0m\u001b[0m\n\u001b[0m\u001b[0;32m    382\u001b[0m \u001b[1;33m\u001b[0m\u001b[0m\n\u001b[0;32m    383\u001b[0m     \u001b[1;32mreturn\u001b[0m \u001b[0mwrap\u001b[0m\u001b[1;33m(\u001b[0m\u001b[0mr\u001b[0m\u001b[1;33m.\u001b[0m\u001b[0mastype\u001b[0m\u001b[1;33m(\u001b[0m\u001b[0mresult_t\u001b[0m\u001b[1;33m)\u001b[0m\u001b[1;33m)\u001b[0m\u001b[1;33m\u001b[0m\u001b[0m\n",
      "\u001b[1;32m/home/guillaume/anaconda/envs/tyssue/lib/python3.4/site-packages/numpy/linalg/linalg.py\u001b[0m in \u001b[0;36m_raise_linalgerror_singular\u001b[1;34m(err, flag)\u001b[0m\n\u001b[0;32m     88\u001b[0m \u001b[1;33m\u001b[0m\u001b[0m\n\u001b[0;32m     89\u001b[0m \u001b[1;32mdef\u001b[0m \u001b[0m_raise_linalgerror_singular\u001b[0m\u001b[1;33m(\u001b[0m\u001b[0merr\u001b[0m\u001b[1;33m,\u001b[0m \u001b[0mflag\u001b[0m\u001b[1;33m)\u001b[0m\u001b[1;33m:\u001b[0m\u001b[1;33m\u001b[0m\u001b[0m\n\u001b[1;32m---> 90\u001b[1;33m     \u001b[1;32mraise\u001b[0m \u001b[0mLinAlgError\u001b[0m\u001b[1;33m(\u001b[0m\u001b[1;34m\"Singular matrix\"\u001b[0m\u001b[1;33m)\u001b[0m\u001b[1;33m\u001b[0m\u001b[0m\n\u001b[0m\u001b[0;32m     91\u001b[0m \u001b[1;33m\u001b[0m\u001b[0m\n\u001b[0;32m     92\u001b[0m \u001b[1;32mdef\u001b[0m \u001b[0m_raise_linalgerror_nonposdef\u001b[0m\u001b[1;33m(\u001b[0m\u001b[0merr\u001b[0m\u001b[1;33m,\u001b[0m \u001b[0mflag\u001b[0m\u001b[1;33m)\u001b[0m\u001b[1;33m:\u001b[0m\u001b[1;33m\u001b[0m\u001b[0m\n",
      "\u001b[1;31mLinAlgError\u001b[0m: Singular matrix"
     ]
    }
   ],
   "source": [
    "meta = Metaphase()\n",
    "meta.simul()"
   ]
  },
  {
   "cell_type": "code",
   "execution_count": 15,
   "metadata": {
    "collapsed": false
   },
   "outputs": [
    {
     "ename": "TypeError",
     "evalue": "plug_unplug() missing 1 required positional argument: 'time_point'",
     "output_type": "error",
     "traceback": [
      "\u001b[1;31m---------------------------------------------------------------------------\u001b[0m",
      "\u001b[1;31mTypeError\u001b[0m                                 Traceback (most recent call last)",
      "\u001b[1;32m<ipython-input-15-d7b63696149d>\u001b[0m in \u001b[0;36m<module>\u001b[1;34m()\u001b[0m\n\u001b[1;32m----> 1\u001b[1;33m \u001b[0mmeta\u001b[0m\u001b[1;33m.\u001b[0m\u001b[0msimul\u001b[0m\u001b[1;33m(\u001b[0m\u001b[1;33m)\u001b[0m\u001b[1;33m\u001b[0m\u001b[0m\n\u001b[0m",
      "\u001b[1;32m/home/guillaume/Python/kt_simul/kt_simul/core/simul_spindle.py\u001b[0m in \u001b[0;36msimul\u001b[1;34m(self, ablat, ablat_pos)\u001b[0m\n\u001b[0;32m    228\u001b[0m                                  (time_point, self.num_steps))\n\u001b[0;32m    229\u001b[0m                     \u001b[0mlog_anaphase_onset\u001b[0m \u001b[1;33m=\u001b[0m \u001b[1;32mTrue\u001b[0m\u001b[1;33m\u001b[0m\u001b[0m\n\u001b[1;32m--> 230\u001b[1;33m             \u001b[0mself\u001b[0m\u001b[1;33m.\u001b[0m\u001b[0mmodel\u001b[0m\u001b[1;33m.\u001b[0m\u001b[0mone_step\u001b[0m\u001b[1;33m(\u001b[0m\u001b[0mtime_point\u001b[0m\u001b[1;33m)\u001b[0m\u001b[1;33m\u001b[0m\u001b[0m\n\u001b[0m\u001b[0;32m    231\u001b[0m \u001b[1;33m\u001b[0m\u001b[0m\n\u001b[0;32m    232\u001b[0m         \u001b[1;32mif\u001b[0m \u001b[0mself\u001b[0m\u001b[1;33m.\u001b[0m\u001b[0mverbose\u001b[0m\u001b[1;33m:\u001b[0m\u001b[1;33m\u001b[0m\u001b[0m\n",
      "\u001b[1;32m/home/guillaume/Python/kt_simul/kt_simul/core/dynamics.py\u001b[0m in \u001b[0;36mone_step\u001b[1;34m(self, step)\u001b[0m\n\u001b[0;32m    126\u001b[0m         \u001b[1;32mif\u001b[0m \u001b[1;32mnot\u001b[0m \u001b[0mself\u001b[0m\u001b[1;33m.\u001b[0m\u001b[0manaphase\u001b[0m\u001b[1;33m:\u001b[0m\u001b[1;33m\u001b[0m\u001b[0m\n\u001b[0;32m    127\u001b[0m             \u001b[1;32mfor\u001b[0m \u001b[0mplugsite\u001b[0m \u001b[1;32min\u001b[0m \u001b[0mself\u001b[0m\u001b[1;33m.\u001b[0m\u001b[0mspindle\u001b[0m\u001b[1;33m.\u001b[0m\u001b[0mall_plugsites\u001b[0m\u001b[1;33m(\u001b[0m\u001b[1;33m)\u001b[0m\u001b[1;33m:\u001b[0m\u001b[1;33m\u001b[0m\u001b[0m\n\u001b[1;32m--> 128\u001b[1;33m                 \u001b[0mplugsite\u001b[0m\u001b[1;33m.\u001b[0m\u001b[0mplug_unplug\u001b[0m\u001b[1;33m(\u001b[0m\u001b[1;33m)\u001b[0m\u001b[1;33m\u001b[0m\u001b[0m\n\u001b[0m\u001b[0;32m    129\u001b[0m         \u001b[0mself\u001b[0m\u001b[1;33m.\u001b[0m\u001b[0mupate_AB\u001b[0m\u001b[1;33m(\u001b[0m\u001b[1;33m)\u001b[0m\u001b[1;33m\u001b[0m\u001b[0m\n\u001b[0;32m    130\u001b[0m         \u001b[0mself\u001b[0m\u001b[1;33m.\u001b[0m\u001b[0msolve\u001b[0m\u001b[1;33m(\u001b[0m\u001b[1;33m)\u001b[0m\u001b[1;33m\u001b[0m\u001b[0m\n",
      "\u001b[1;31mTypeError\u001b[0m: plug_unplug() missing 1 required positional argument: 'time_point'"
     ]
    }
   ],
   "source": []
  },
  {
   "cell_type": "code",
   "execution_count": 4,
   "metadata": {
    "collapsed": false
   },
   "outputs": [
    {
     "data": {
      "text/plain": [
       "{'Fk': 1.0,\n",
       " 'Fmz': 10.0,\n",
       " 'L0': 0.3,\n",
       " 'Mk': 3.0,\n",
       " 'N': 3.0,\n",
       " 'Vk': 1.0,\n",
       " 'Vmz': 1.0,\n",
       " 'd0': 0.05,\n",
       " 'd_alpha': 0.05,\n",
       " 'dt': 1.0,\n",
       " 'k_a': 0.059999999999999998,\n",
       " 'k_cat': 0.059999999999999998,\n",
       " 'k_d0': 0.059999999999999998,\n",
       " 'k_res': 0.59999999999999998,\n",
       " 'kappa_c': 4.0,\n",
       " 'kappa_k': 5.0,\n",
       " 'ldep': 0.0,\n",
       " 'ldep_balance': 1.0,\n",
       " 'ldep_for_attachment_N_mt': 0.0,\n",
       " 'ldep_for_attachment_gamma': 0.0,\n",
       " 'ldep_for_attachment_mu': 0.0,\n",
       " 'muc': 1.2,\n",
       " 'muco': 0.0,\n",
       " 'muk': 1.5,\n",
       " 'mus': 1.5,\n",
       " 'orientation': 1.0,\n",
       " 'sac': 1.0,\n",
       " 'span': 1000.0,\n",
       " 't_A': 750.0,\n",
       " 'vg': 1.0,\n",
       " 'vs': 1.0}"
      ]
     },
     "execution_count": 4,
     "metadata": {},
     "output_type": "execute_result"
    }
   ],
   "source": [
    "params"
   ]
  },
  {
   "cell_type": "markdown",
   "metadata": {},
   "source": [
    "## Spindle class instanciation\n",
    "\n"
   ]
  },
  {
   "cell_type": "markdown",
   "metadata": {},
   "source": [
    "$$\\frac{d}{dt}\\left(d_{ij}\\frac{r_{ij}}{d_{ij}}\\right)$$"
   ]
  },
  {
   "cell_type": "code",
   "execution_count": 4,
   "metadata": {
    "collapsed": true
   },
   "outputs": [],
   "source": [
    "import pandas as pd\n",
    "import numpy as np"
   ]
  },
  {
   "cell_type": "code",
   "execution_count": 6,
   "metadata": {
    "collapsed": false
   },
   "outputs": [],
   "source": [
    "coords = ['x', 'y', 'z']\n",
    "speed_coords = ['v'+c for c in coords]\n",
    "dcoords = ['d'+c for c in coords]\n",
    "ucoords = ['u'+c for c in coords]\n",
    "\n",
    "\n",
    "point_cols = coords + speed_coords\n",
    "link_cols = dcoords + ucoords + ['length',]\n",
    "\n",
    "def _to_3d(df):\n",
    "    df_3d = np.asarray(df).repeat(3).reshape((df.size, 3))\n",
    "    return df_3d\n",
    "\n",
    "\n",
    "class Structure:\n",
    "    \n",
    "    def __init__(self, name):\n",
    "        self.name = name\n",
    "        self.points = {}\n",
    "        self.links = {}\n",
    "        self.point_df = pd.DataFrame(columns=point_cols)\n",
    "        _link_idx = pd.MultiIndex(levels=[[],[]], \n",
    "                                  labels=[[],[]],\n",
    "                                  names=['srce', 'trgt'])\n",
    "        self.link_df = pd.DataFrame(columns=link_cols, index=_link_idx)\n",
    "        self.point_hist = pd.Panel()\n",
    "        \n",
    "    def add_point(self, idx, pos0=None, speed0=None):\n",
    "        \n",
    "        if pos0 is None:\n",
    "            pos0 = np.zeros(len(coords))\n",
    "        if speed0 is None:\n",
    "            speed0 = np.zeros(len(coords))\n",
    "        \n",
    "        state = np.concatenate((pos0, speed0)).reshape((1, len(coords)*2))\n",
    "        self.point_df = self.point_df.append(pd.DataFrame(index=[idx,],\n",
    "                                                          data=state,\n",
    "                                                          columns=point_cols))\n",
    "        p = Point(idx, self)\n",
    "        self.points[idx] = p\n",
    "        return p\n",
    "    \n",
    "    def add_link(self, point_i, point_j):\n",
    "        \n",
    "        state = np.zeros((1, len(self.link_df.columns)))\n",
    "        self.link_df = self.link_df.append(pd.DataFrame(index=[(point_i.idx, point_j.idx)],\n",
    "                                                        data=state,\n",
    "                                                        columns=self.link_df.columns))\n",
    "        link = Link(point_i, point_j, self)\n",
    "        self.links[(point_i.idx, point_j.idx)] = link\n",
    "        return link\n",
    "\n",
    "    @property\n",
    "    def srce_idx(self):\n",
    "        return self.link_df.index.get_level_values('srce')\n",
    "    \n",
    "    @property\n",
    "    def trgt_idx(self):\n",
    "        return spindle.link_df.index.get_level_values('trgt')\n",
    "\n",
    "    \n",
    "    def update_geometry(self):\n",
    "        \n",
    "        for c in coords:\n",
    "            self.link_df['d'+c] = (self.point_df[c].loc[self.trgt_idx].values \n",
    "                                   - self.point_df[c].loc[self.srce_idx].values)\n",
    "        \n",
    "        self.link_df['length'] = (self.link_df[dcoords]**2).sum(axis=1)**0.5\n",
    "        self.link_df[ucoords] = self.link_df[dcoords] / _to_3d(self.link_df['length'])\n",
    "        for link in self.links.values():\n",
    "            link.update_outer()\n",
    "    \n",
    "class Point:\n",
    "    \n",
    "    def __init__(self, idx, structure):\n",
    "        \n",
    "        self.idx = idx\n",
    "        self.idxs = slice(idx*3, idx*3 + 3)\n",
    "\n",
    "        self.structure = structure\n",
    "        \n",
    "    @property\n",
    "    def pos(self):\n",
    "        return self.structure.point_df.loc[self.idx, coords]\n",
    "\n",
    "    @property\n",
    "    def speed(self):\n",
    "        return self.structure.point_df.loc[self.idx, speed_coords]\n",
    "    \n",
    "    def dist(self, other):\n",
    "        return np.linalg.norm(self.pos - other.pos)\n",
    "            \n",
    "class Link:\n",
    "    \n",
    "    def __init__(self, point_i, point_j, structure):\n",
    "\n",
    "        self.structure = structure\n",
    "        \n",
    "        self.point_i = point_i\n",
    "        self.point_j = point_j\n",
    "        idx_i = point_i.idx\n",
    "        idx_j = point_j.idx\n",
    "      \n",
    "        self.idx = (idx_i, idx_j)\n",
    "        self.idxs_i = point_i.idxs\n",
    "        self.idxs_j = point_j.idxs\n",
    "\n",
    "        self.idxs_ii = (self.idxs_i, self.idxs_i)\n",
    "        self.idxs_ij = (self.idxs_i, self.idxs_j)\n",
    "        self.idxs_jj = (self.idxs_j, self.idxs_j)\n",
    "        self.idxs_ji = (self.idxs_j, self.idxs_i)\n",
    "        \n",
    "    @property\n",
    "    def data(self):\n",
    "        return self.structure.link_df.loc[self.idx]\n",
    "    \n",
    "    @property\n",
    "    def dcoords(self):\n",
    "        return self.structure.link_df.loc[self.idx, dcoords]\n",
    "\n",
    "    @property\n",
    "    def length(self):\n",
    "        return self.structure.link_df.loc[self.idx, 'length']\n",
    "\n",
    "    @property\n",
    "    def speed(self):\n",
    "        return self.structure.link_df.loc[self.idx, dspeeds]\n",
    "\n",
    "    @property\n",
    "    def unit(self):\n",
    "        return self.structure.link_df.loc[self.idx, ucoords]\n",
    "    \n",
    "    def update_outer(self):\n",
    "        self.outer = np.outer(self.unit, self.unit)\n",
    "    \n",
    "\n"
   ]
  },
  {
   "cell_type": "code",
   "execution_count": 13,
   "metadata": {
    "collapsed": true
   },
   "outputs": [],
   "source": [
    "class Model:\n",
    "    \n",
    "    def __init__(self, structure, dt=1):\n",
    "        \n",
    "        self.structure = structure\n",
    "        self.dt = dt\n",
    "        self.dim = len(self.structure.points)\n",
    "        self.Amat = np.zeros((self.dim * 3, self.dim * 3))\n",
    "        self.Bvect = np.zeros(self.dim * 3)\n",
    "\n",
    "    def solve(self):\n",
    "        speeds = np.linalg.solve(self.Amat, -self.Bvect)\n",
    "        for i, c in enumerate(coords):\n",
    "            self.structure.point_df['v'+c] = speeds[i::3]\n",
    "            self.structure.point_df[c] += speeds[i::3] * self.dt\n",
    "        self.structure.update_geometry()\n",
    "        \n",
    "def viscous(model, point, mu):\n",
    "    \n",
    "    mat = - np.eye(3) * mu\n",
    "    model.Amat[point.idxs, point.idxs] += - np.eye(3) * mu\n",
    "\n",
    "def dashpot(model, link, mu):\n",
    "\n",
    " \n",
    "    block = mu * link.outer\n",
    "    model.Amat[link.idxs_ii] += block\n",
    "    model.Amat[link.idxs_ij] -= block\n",
    "    model.Amat[link.idxs_jj] -= block\n",
    "    model.Amat[link.idxs_ji] += block\n",
    "\n",
    "def spring(model, link, kappa, d_eq=0):\n",
    "\n",
    "    idx_i, idx_j = link.idx\n",
    "    idxs_i = slice(idx_i*3, idx_i*3 + 3)\n",
    "    idxs_j = slice(idx_j*3, idx_j*3 + 3)\n",
    "    \n",
    "    F = -kappa * (link.length -d_eq) * link.unit\n",
    "    model.Bvect[link.idxs_i] += F\n",
    "    model.Bvect[link.idxs_j] -= F\n",
    "    \n",
    "def dampedspring(model, link, mu, kappa, d_eq=0):\n",
    "\n",
    "    dashpot(model, link, mu)\n",
    "    spring(model, link, kappa, d_eq)\n",
    "\n",
    "def contraction(model, link, F):\n",
    "    \n",
    "    model.Bvect[link.idxs_i] += F * link.unit\n",
    "    model.Bvect[link.idxs_j] -= F * link.unit\n",
    "    \n",
    "def linear_fv(model, link, F_stall, v_max, gamma=-1):\n",
    "\n",
    "    dashpot(model, link, F_stall / v_max)\n",
    "    contraction(model, link, gamma * F_stall)\n",
    "    "
   ]
  },
  {
   "cell_type": "code",
   "execution_count": 37,
   "metadata": {
    "collapsed": false
   },
   "outputs": [
    {
     "data": {
      "text/plain": [
       "(0, 6)"
      ]
     },
     "execution_count": 37,
     "metadata": {},
     "output_type": "execute_result"
    }
   ],
   "source": [
    "s = Structure('bleh')\n",
    "s.point_df.shape"
   ]
  },
  {
   "cell_type": "code",
   "execution_count": 14,
   "metadata": {
    "collapsed": true
   },
   "outputs": [],
   "source": [
    "class Spindle(Structure):\n",
    "    \n",
    "    def __init__(self, N, Mk, paramtree):\n",
    "        \n",
    "        \n",
    "        \n",
    "\n",
    "\n",
    "spindle = Structure('df_spindle_1_1')\n",
    "\n",
    "spbL = spindle.add_point(0, [-1, 0, 0])\n",
    "spbR = spindle.add_point(1, [1, 0, 0])\n",
    "cenA = spindle.add_point(2, [-0.2, 0, 0])\n",
    "cenB = spindle.add_point(3, [0.2, 0, 0])\n",
    "\n",
    "psA = spindle.add_point(4, [-0.3, 0, 0])\n",
    "psB = spindle.add_point(5, [0.3, 0, 0])\n",
    "\n",
    "mz = spindle.add_link(spbL, spbR)\n",
    "chromatin = spindle.add_link(cenA, cenB)\n",
    "ktA = spindle.add_link(cenA, psA)\n",
    "ktB = spindle.add_link(cenB, psB)\n",
    "\n",
    "spindle.update_geometry()\n",
    "\n",
    "metaphase = Model(spindle)"
   ]
  },
  {
   "cell_type": "code",
   "execution_count": 15,
   "metadata": {
    "collapsed": false
   },
   "outputs": [],
   "source": [
    "params['muco'] = 1.\n",
    "\n",
    "for cen in (cenA, cenB):\n",
    "    viscous(metaphase, cen, params['muc'])\n",
    "\n",
    "for ps in (psA, psB):\n",
    "    viscous(metaphase, ps, 0.01)\n",
    "\n",
    "    \n",
    "for spb in (spbR, spbL):\n",
    "    viscous(metaphase, spb, params['mus'])\n",
    "\n",
    "dampedspring(metaphase, chromatin, \n",
    "             params['muc'],\n",
    "             params['kappa_c'],\n",
    "             params['d0'])\n",
    "\n",
    "for kt in (ktA, ktB):\n",
    "    dampedspring(metaphase, kt, \n",
    "                 params['muk'],\n",
    "                 params['kappa_k'],\n",
    "                 params['d0'])\n",
    "\n",
    "linear_fv(metaphase, mz, \n",
    "          params['Fmz'],\n",
    "          params['Vmz'],\n",
    "          gamma=1)"
   ]
  },
  {
   "cell_type": "code",
   "execution_count": 10,
   "metadata": {
    "collapsed": false
   },
   "outputs": [
    {
     "data": {
      "text/plain": [
       "array([ 10.  ,   0.  ,   0.  , -10.  ,   0.  ,   0.  ,  -1.15,   0.  ,\n",
       "         0.  ,   1.15,   0.  ,   0.  ,  -0.25,   0.  ,   0.  ,   0.25,\n",
       "         0.  ,   0.  ])"
      ]
     },
     "execution_count": 10,
     "metadata": {},
     "output_type": "execute_result"
    }
   ],
   "source": [
    "metaphase.Bvect"
   ]
  },
  {
   "cell_type": "code",
   "execution_count": 16,
   "metadata": {
    "collapsed": false
   },
   "outputs": [
    {
     "data": {
      "text/plain": [
       "<matplotlib.image.AxesImage at 0x7fc902477908>"
      ]
     },
     "execution_count": 16,
     "metadata": {},
     "output_type": "execute_result"
    },
    {
     "data": {
      "image/png": "[encoded data removed]",
      "text/plain": [
       "<matplotlib.figure.Figure at 0x7fc907d2f710>"
      ]
     },
     "metadata": {},
     "output_type": "display_data"
    }
   ],
   "source": [
    "import matplotlib.pyplot as plt\n",
    "%matplotlib inline\n",
    "plt.imshow(metaphase.Amat, interpolation='nearest', cmap='Greys')"
   ]
  },
  {
   "cell_type": "code",
   "execution_count": 30,
   "metadata": {
    "collapsed": false
   },
   "outputs": [],
   "source": [
    "metaphase.solve()"
   ]
  },
  {
   "cell_type": "code",
   "execution_count": 24,
   "metadata": {
    "collapsed": false
   },
   "outputs": [
    {
     "data": {
      "text/html": [
       "<div>\n",
       "<table border=\"1\" class=\"dataframe\">\n",
       "  <thead>\n",
       "    <tr style=\"text-align: right;\">\n",
       "      <th></th>\n",
       "      <th>x</th>\n",
       "      <th>y</th>\n",
       "      <th>z</th>\n",
       "      <th>vx</th>\n",
       "      <th>vy</th>\n",
       "      <th>vz</th>\n",
       "    </tr>\n",
       "  </thead>\n",
       "  <tbody>\n",
       "    <tr>\n",
       "      <th>0</th>\n",
       "      <td>285.666667</td>\n",
       "      <td>0</td>\n",
       "      <td>0</td>\n",
       "      <td>95.555556</td>\n",
       "      <td>-0</td>\n",
       "      <td>-0</td>\n",
       "    </tr>\n",
       "    <tr>\n",
       "      <th>1</th>\n",
       "      <td>247.666667</td>\n",
       "      <td>0</td>\n",
       "      <td>0</td>\n",
       "      <td>82.222222</td>\n",
       "      <td>-0</td>\n",
       "      <td>-0</td>\n",
       "    </tr>\n",
       "    <tr>\n",
       "      <th>2</th>\n",
       "      <td>-7.056811</td>\n",
       "      <td>0</td>\n",
       "      <td>0</td>\n",
       "      <td>-2.285604</td>\n",
       "      <td>-0</td>\n",
       "      <td>-0</td>\n",
       "    </tr>\n",
       "    <tr>\n",
       "      <th>3</th>\n",
       "      <td>-2.110901</td>\n",
       "      <td>0</td>\n",
       "      <td>0</td>\n",
       "      <td>-0.770300</td>\n",
       "      <td>-0</td>\n",
       "      <td>-0</td>\n",
       "    </tr>\n",
       "    <tr>\n",
       "      <th>4</th>\n",
       "      <td>-7.608090</td>\n",
       "      <td>0</td>\n",
       "      <td>0</td>\n",
       "      <td>-2.436030</td>\n",
       "      <td>-0</td>\n",
       "      <td>-0</td>\n",
       "    </tr>\n",
       "    <tr>\n",
       "      <th>5</th>\n",
       "      <td>-1.498908</td>\n",
       "      <td>0</td>\n",
       "      <td>0</td>\n",
       "      <td>-0.599636</td>\n",
       "      <td>-0</td>\n",
       "      <td>-0</td>\n",
       "    </tr>\n",
       "  </tbody>\n",
       "</table>\n",
       "</div>"
      ],
      "text/plain": [
       "            x  y  z         vx  vy  vz\n",
       "0  285.666667  0  0  95.555556  -0  -0\n",
       "1  247.666667  0  0  82.222222  -0  -0\n",
       "2   -7.056811  0  0  -2.285604  -0  -0\n",
       "3   -2.110901  0  0  -0.770300  -0  -0\n",
       "4   -7.608090  0  0  -2.436030  -0  -0\n",
       "5   -1.498908  0  0  -0.599636  -0  -0"
      ]
     },
     "execution_count": 24,
     "metadata": {},
     "output_type": "execute_result"
    }
   ],
   "source": [
    "spindle.point_df"
   ]
  },
  {
   "cell_type": "code",
   "execution_count": 27,
   "metadata": {
    "collapsed": false
   },
   "outputs": [],
   "source": [
    "spindle.point_hist = pd.Panel({0: spindle.point_df})"
   ]
  },
  {
   "cell_type": "code",
   "execution_count": 31,
   "metadata": {
    "collapsed": false
   },
   "outputs": [],
   "source": [
    "spindle.point_hist[1] = spindle.point_df"
   ]
  },
  {
   "cell_type": "code",
   "execution_count": 39,
   "metadata": {
    "collapsed": false
   },
   "outputs": [],
   "source": [
    "traj_spbl = spindle.point_hist.xs(spbL.idx, axis='major').T[coords]\n",
    "traj_spbr = spindle.point_hist.xs(spbR.idx, axis='major').T[coords]"
   ]
  },
  {
   "cell_type": "code",
   "execution_count": 43,
   "metadata": {
    "collapsed": false
   },
   "outputs": [
    {
     "data": {
      "text/plain": [
       "array([ 38.        ,  51.33333333])"
      ]
     },
     "execution_count": 43,
     "metadata": {},
     "output_type": "execute_result"
    }
   ],
   "source": [
    "np.linalg.norm(traj_spbl - traj_spbr, axis=1)"
   ]
  },
  {
   "cell_type": "code",
   "execution_count": 76,
   "metadata": {
    "collapsed": false
   },
   "outputs": [
    {
     "data": {
      "text/plain": [
       "6"
      ]
     },
     "execution_count": 76,
     "metadata": {},
     "output_type": "execute_result"
    }
   ],
   "source": [
    "len(spindle.points)"
   ]
  },
  {
   "cell_type": "code",
   "execution_count": 50,
   "metadata": {
    "collapsed": false
   },
   "outputs": [
    {
     "data": {
      "text/plain": [
       "array([[ 1.,  0.,  0.],\n",
       "       [ 0.,  0.,  0.],\n",
       "       [ 0.,  0.,  0.]])"
      ]
     },
     "execution_count": 50,
     "metadata": {},
     "output_type": "execute_result"
    }
   ],
   "source": [
    "chromatin.get_outer()"
   ]
  },
  {
   "cell_type": "code",
   "execution_count": 40,
   "metadata": {
    "collapsed": false
   },
   "outputs": [
    {
     "data": {
      "text/html": [
       "<div>\n",
       "<table border=\"1\" class=\"dataframe\">\n",
       "  <thead>\n",
       "    <tr style=\"text-align: right;\">\n",
       "      <th></th>\n",
       "      <th>x</th>\n",
       "      <th>y</th>\n",
       "      <th>z</th>\n",
       "      <th>vx</th>\n",
       "      <th>vy</th>\n",
       "      <th>vz</th>\n",
       "    </tr>\n",
       "  </thead>\n",
       "  <tbody>\n",
       "    <tr>\n",
       "      <th>0</th>\n",
       "      <td>-1.0</td>\n",
       "      <td>0</td>\n",
       "      <td>0</td>\n",
       "      <td>0</td>\n",
       "      <td>0</td>\n",
       "      <td>0</td>\n",
       "    </tr>\n",
       "    <tr>\n",
       "      <th>1</th>\n",
       "      <td>1.0</td>\n",
       "      <td>0</td>\n",
       "      <td>0</td>\n",
       "      <td>0</td>\n",
       "      <td>0</td>\n",
       "      <td>0</td>\n",
       "    </tr>\n",
       "    <tr>\n",
       "      <th>2</th>\n",
       "      <td>-0.2</td>\n",
       "      <td>0</td>\n",
       "      <td>0</td>\n",
       "      <td>0</td>\n",
       "      <td>0</td>\n",
       "      <td>0</td>\n",
       "    </tr>\n",
       "    <tr>\n",
       "      <th>3</th>\n",
       "      <td>0.2</td>\n",
       "      <td>0</td>\n",
       "      <td>0</td>\n",
       "      <td>0</td>\n",
       "      <td>0</td>\n",
       "      <td>0</td>\n",
       "    </tr>\n",
       "    <tr>\n",
       "      <th>4</th>\n",
       "      <td>-0.3</td>\n",
       "      <td>0</td>\n",
       "      <td>0</td>\n",
       "      <td>0</td>\n",
       "      <td>0</td>\n",
       "      <td>0</td>\n",
       "    </tr>\n",
       "    <tr>\n",
       "      <th>5</th>\n",
       "      <td>0.3</td>\n",
       "      <td>0</td>\n",
       "      <td>0</td>\n",
       "      <td>0</td>\n",
       "      <td>0</td>\n",
       "      <td>0</td>\n",
       "    </tr>\n",
       "  </tbody>\n",
       "</table>\n",
       "</div>"
      ],
      "text/plain": [
       "     x  y  z  vx  vy  vz\n",
       "0 -1.0  0  0   0   0   0\n",
       "1  1.0  0  0   0   0   0\n",
       "2 -0.2  0  0   0   0   0\n",
       "3  0.2  0  0   0   0   0\n",
       "4 -0.3  0  0   0   0   0\n",
       "5  0.3  0  0   0   0   0"
      ]
     },
     "execution_count": 40,
     "metadata": {},
     "output_type": "execute_result"
    }
   ],
   "source": [
    "\n",
    "spindle.point_df"
   ]
  },
  {
   "cell_type": "code",
   "execution_count": 44,
   "metadata": {
    "collapsed": false
   },
   "outputs": [
    {
     "data": {
      "text/html": [
       "<div>\n",
       "<table border=\"1\" class=\"dataframe\">\n",
       "  <thead>\n",
       "    <tr style=\"text-align: right;\">\n",
       "      <th></th>\n",
       "      <th></th>\n",
       "      <th>dx</th>\n",
       "      <th>dy</th>\n",
       "      <th>dz</th>\n",
       "      <th>ux</th>\n",
       "      <th>uy</th>\n",
       "      <th>uz</th>\n",
       "      <th>length</th>\n",
       "    </tr>\n",
       "    <tr>\n",
       "      <th>srce</th>\n",
       "      <th>trgt</th>\n",
       "      <th></th>\n",
       "      <th></th>\n",
       "      <th></th>\n",
       "      <th></th>\n",
       "      <th></th>\n",
       "      <th></th>\n",
       "      <th></th>\n",
       "    </tr>\n",
       "  </thead>\n",
       "  <tbody>\n",
       "    <tr>\n",
       "      <th>0</th>\n",
       "      <th>1</th>\n",
       "      <td>2.0</td>\n",
       "      <td>0</td>\n",
       "      <td>0</td>\n",
       "      <td>1</td>\n",
       "      <td>0</td>\n",
       "      <td>0</td>\n",
       "      <td>2.0</td>\n",
       "    </tr>\n",
       "    <tr>\n",
       "      <th>2</th>\n",
       "      <th>3</th>\n",
       "      <td>0.4</td>\n",
       "      <td>0</td>\n",
       "      <td>0</td>\n",
       "      <td>1</td>\n",
       "      <td>0</td>\n",
       "      <td>0</td>\n",
       "      <td>0.4</td>\n",
       "    </tr>\n",
       "  </tbody>\n",
       "</table>\n",
       "</div>"
      ],
      "text/plain": [
       "            dx  dy  dz  ux  uy  uz  length\n",
       "srce trgt                                 \n",
       "0    1     2.0   0   0   1   0   0     2.0\n",
       "2    3     0.4   0   0   1   0   0     0.4"
      ]
     },
     "execution_count": 44,
     "metadata": {},
     "output_type": "execute_result"
    }
   ],
   "source": [
    "\n",
    "spindle.link_df"
   ]
  },
  {
   "cell_type": "code",
   "execution_count": 34,
   "metadata": {
    "collapsed": false
   },
   "outputs": [],
   "source": [
    "cenA"
   ]
  },
  {
   "cell_type": "code",
   "execution_count": null,
   "metadata": {
    "collapsed": true
   },
   "outputs": [],
   "source": []
  },
  {
   "cell_type": "code",
   "execution_count": 43,
   "metadata": {
    "collapsed": false
   },
   "outputs": [],
   "source": [
    "from kt_simul.io.parameters_io import ParamTree\n",
    "from kt_simul.core.simul_spindle import Metaphase"
   ]
  },
  {
   "cell_type": "code",
   "execution_count": null,
   "metadata": {
    "collapsed": true
   },
   "outputs": [],
   "source": []
  }
 ],
 "metadata": {
  "kernelspec": {
   "display_name": "Python 3",
   "language": "python",
   "name": "python3"
  },
  "language_info": {
   "codemirror_mode": {
    "name": "ipython",
    "version": 3
   },
   "file_extension": ".py",
   "mimetype": "text/x-python",
   "name": "python",
   "nbconvert_exporter": "python",
   "pygments_lexer": "ipython3",
   "version": "3.4.3"
  }
 },
 "nbformat": 4,
 "nbformat_minor": 0
}
