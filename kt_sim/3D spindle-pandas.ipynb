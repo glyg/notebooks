{
 "cells": [
  {
   "cell_type": "code",
   "execution_count": 1,
   "metadata": {
    "collapsed": false
   },
   "outputs": [],
   "source": [
    "%load_ext autoreload\n",
    "%autoreload 2\n",
    "%load_ext snakeviz\n",
    "import pandas as pd\n",
    "import numpy as np\n",
    "\n",
    "\n",
    "from vispy import app, gloo, visuals, scene\n",
    "from vispy.color import Color\n",
    "\n",
    "from vispy.visuals.transforms import MatrixTransform\n",
    "\n",
    "import sys\n",
    "# change this to suit your path\n",
    "sys.path.append('/home/guillaume/Python/kt_simul/')\n",
    "#from kt_simul.smp_spindle.smp_spindle import SympySpindle, parameters\n",
    "\n",
    "\n",
    "import IPython.display as disp\n",
    "import os\n",
    "import matplotlib.pylab as plt\n",
    "%matplotlib qt\n"
   ]
  },
  {
   "cell_type": "markdown",
   "metadata": {},
   "source": [
    "### Parameters "
   ]
  },
  {
   "cell_type": "code",
   "execution_count": 22,
   "metadata": {
    "collapsed": true
   },
   "outputs": [],
   "source": [
    "from kt_simul.core.components import Structure, Point, Link\n",
    "from kt_simul.core.dynamics import Model, dampedspring, viscous\n",
    "from kt_simul.core.dynamics import spring, dashpot, linear_fv, contraction\n",
    "\n",
    "import pandas as pd\n",
    "\n",
    "from numpy.testing import assert_almost_equal\n",
    "# This is an example test, not functional yet, should\n",
    "# put some effort in implementing for all forces\n",
    "\n",
    "\n",
    "def test_spring():\n",
    "\n",
    "    sprg = Structure('simple spring')\n",
    "    p0 = Point(0, sprg)\n",
    "    sprg.add_point(p0, pos0=[0, 1, 0])\n",
    "    p1 = Point(1, sprg)\n",
    "    sprg.add_point(p1, pos0=[2, 0, 0])\n",
    "    lnk = sprg.add_link(p0, p1)\n",
    "    sprg.update_geometry()\n",
    "    m = Model(sprg)\n",
    "    viscous(m, p0, 1)\n",
    "    viscous(m, p1, 1)\n",
    "    sprg.point_hist = pd.Panel({0: sprg.point_df})\n",
    "\n",
    "    def model_update(step):\n",
    "\n",
    "        m.Bvect *= 0\n",
    "        spring(m, lnk, 0.1, 1)\n",
    "        sprg.register_history(step)\n",
    "\n",
    "    for i in range(30):\n",
    "        m.solve()\n",
    "        model_update(i)\n",
    "\n",
    "    assert_almost_equal(p0.dist(p1), 1, decimal=2)\n",
    "    \n",
    "\n",
    "def test_dashpot():\n",
    "\n",
    "    sprg = Structure('simple spring')\n",
    "    p0 = Point(0, sprg)\n",
    "    sprg.add_point(p0, pos0=[0, 1, 0])\n",
    "    p1 = Point(1, sprg)\n",
    "    sprg.add_point(p1, pos0=[2, 0, 0])\n",
    "    lnk = sprg.add_link(p0, p1)\n",
    "    sprg.update_geometry()\n",
    "    m = Model(sprg)\n",
    "    viscous(m, p0, 0.01)\n",
    "    viscous(m, p1, 0.01)\n",
    "    sprg.point_hist = pd.Panel({0: sprg.point_df})\n",
    "    \n",
    "    def model_update(step):\n",
    "\n",
    "        m.Bvect *= 0\n",
    "\n",
    "        dampedspring(m, lnk, 2, 1, 0.5)\n",
    "        sprg.register_history(step)\n",
    "\n",
    "    for i in range(300):\n",
    "        m.solve()\n",
    "        model_update(i)\n",
    "    return sprg\n",
    "    \n",
    "fig, ax = plt.subplots()\n",
    "colors = ['r', 'b']\n",
    "for n, p in sprg.points.items():\n",
    "    ax.plot(p.traj.x, p.traj.y, colors[n]+'o-')\n",
    "    "
   ]
  },
  {
   "cell_type": "code",
   "execution_count": 23,
   "metadata": {
    "collapsed": false
   },
   "outputs": [],
   "source": [
    "\n",
    "sprg = test_dashpot()"
   ]
  },
  {
   "cell_type": "code",
   "execution_count": 24,
   "metadata": {
    "collapsed": false
   },
   "outputs": [],
   "source": [
    "fig, ax = plt.subplots()\n",
    "colors = ['r', 'b']\n",
    "for n, p in sprg.points.items():\n",
    "    ax.plot(p.traj.x, colors[n]+'o-')\n",
    "    ax.plot(p.traj.y, colors[n]+'v-')\n",
    "    ax.plot(p.traj.z, colors[n]+'^-')"
   ]
  },
  {
   "cell_type": "code",
   "execution_count": 26,
   "metadata": {
    "collapsed": true
   },
   "outputs": [],
   "source": [
    "fig, ax = plt.subplots()\n",
    "colors = ['r', 'b']\n",
    "for n, p in sprg.points.items():\n",
    "    ax.plot(p.traj.x, p.traj.y, colors[n]+'o-')\n"
   ]
  },
  {
   "cell_type": "code",
   "execution_count": 25,
   "metadata": {
    "collapsed": false
   },
   "outputs": [
    {
     "data": {
      "text/plain": [
       "0.56635318743695606"
      ]
     },
     "execution_count": 25,
     "metadata": {},
     "output_type": "execute_result"
    }
   ],
   "source": [
    "sprg.points[0].dist(sprg.points[1])"
   ]
  },
  {
   "cell_type": "code",
   "execution_count": 14,
   "metadata": {
    "collapsed": false
   },
   "outputs": [
    {
     "data": {
      "text/plain": [
       "0     2\n",
       "1     2\n",
       "2     2\n",
       "3     2\n",
       "4     2\n",
       "5     2\n",
       "6     2\n",
       "7     2\n",
       "8     2\n",
       "9     2\n",
       "10    2\n",
       "11    2\n",
       "12    2\n",
       "13    2\n",
       "14    2\n",
       "15    2\n",
       "16    2\n",
       "17    2\n",
       "18    2\n",
       "19    2\n",
       "20    2\n",
       "21    2\n",
       "22    2\n",
       "23    2\n",
       "24    2\n",
       "25    2\n",
       "26    2\n",
       "27    2\n",
       "28    2\n",
       "29    2\n",
       "Name: x, dtype: float64"
      ]
     },
     "execution_count": 14,
     "metadata": {},
     "output_type": "execute_result"
    }
   ],
   "source": [
    "\n",
    "p.traj.x"
   ]
  },
  {
   "cell_type": "code",
   "execution_count": 3,
   "metadata": {
    "collapsed": false
   },
   "outputs": [],
   "source": [
    "from kt_simul.core.simul_spindle import Metaphase"
   ]
  },
  {
   "cell_type": "code",
   "execution_count": 4,
   "metadata": {
    "collapsed": false
   },
   "outputs": [],
   "source": [
    "meta = Metaphase(initial_plug='amphitelic')\n",
    "\n"
   ]
  },
  {
   "cell_type": "code",
   "execution_count": 5,
   "metadata": {
    "collapsed": false
   },
   "outputs": [
    {
     "name": "stdout",
     "output_type": "stream",
     "text": [
      "\r",
      "                                                                                \r",
      "\r"
     ]
    }
   ],
   "source": [
    "\n",
    "meta.simul()"
   ]
  },
  {
   "cell_type": "code",
   "execution_count": 7,
   "metadata": {
    "collapsed": true
   },
   "outputs": [],
   "source": [
    "fig = meta.show()"
   ]
  },
  {
   "cell_type": "code",
   "execution_count": 17,
   "metadata": {
    "collapsed": true
   },
   "outputs": [],
   "source": [
    "import vispy.io as vp_io"
   ]
  },
  {
   "cell_type": "code",
   "execution_count": 22,
   "metadata": {
    "collapsed": false
   },
   "outputs": [
    {
     "data": {
      "text/plain": [
       "'spindle_010.png'"
      ]
     },
     "execution_count": 22,
     "metadata": {},
     "output_type": "execute_result"
    }
   ],
   "source": [
    "'spindle_{0:03d}.png'.format(10)"
   ]
  },
  {
   "cell_type": "code",
   "execution_count": 26,
   "metadata": {
    "collapsed": false
   },
   "outputs": [],
   "source": [
    "img = win.render()"
   ]
  },
  {
   "cell_type": "code",
   "execution_count": 29,
   "metadata": {
    "collapsed": false
   },
   "outputs": [
    {
     "data": {
      "text/plain": [
       "(800, 800, 4)"
      ]
     },
     "execution_count": 29,
     "metadata": {},
     "output_type": "execute_result"
    }
   ],
   "source": [
    "img.shape"
   ]
  },
  {
   "cell_type": "code",
   "execution_count": 11,
   "metadata": {
    "collapsed": false,
    "scrolled": true
   },
   "outputs": [],
   "source": [
    "\"\"\"\n",
    "Simple demonstration of Box visual.\n",
    "\"\"\"\n",
    "from vispy import scene\n",
    "\n",
    "spindle = meta.spindle\n",
    "spindle.point_df['radius'] = 0.1\n",
    "spindle.point_df['color'] = '#a1a1a1'\n",
    "\n",
    "\n",
    "spindle.point_df.loc[spindle.spbR.idx, 'radius'] = 0.1\n",
    "spindle.point_df.loc[spindle.spbR.idx, 'color'] = '#000000'\n",
    "spindle.point_df.loc[spindle.spbL.idx, 'radius'] = 0.1\n",
    "spindle.point_df.loc[spindle.spbL.idx, 'color'] = '#000000'\n",
    "\n",
    "\n",
    "\n",
    "ch_colors = ['#00ffaa', '#5500cc', '#77aaee']\n",
    "for ch, color in zip(spindle.chromosomes, ch_colors):\n",
    "    spindle.point_df.loc[ch.cen_A.idx, 'radius'] = 0.2\n",
    "    spindle.point_df.loc[ch.cen_A.idx, 'color'] = color\n",
    "    spindle.point_df.loc[ch.cen_B.idx, 'radius'] = 0.2\n",
    "    spindle.point_df.loc[ch.cen_B.idx, 'color'] = color\n",
    "\n",
    "\n",
    "class VispyOrganite():\n",
    "    \n",
    "    def __init__(self, point, spindle):\n",
    "        self.point = point\n",
    "        radius, color = spindle.point_df.loc[point.idx, ['radius', 'color']]\n",
    "        self.sphere = scene.visuals.Sphere(radius=radius, method='ico', \n",
    "                                           subdivisions=4, color=color, parent=view.scene)\n",
    "\n",
    "        self.transform = MatrixTransform()\n",
    "        self.sphere.transform = self.transform\n",
    "        self.traj = point.traj * 0.1\n",
    "        \n",
    "        \n",
    "class VispyLink():\n",
    "    \n",
    "    def __init__(self, link, spindle):\n",
    "        visuals.LineVisual()\n",
    "\n",
    "from vispy.color import Color\n",
    "canvas = scene.SceneCanvas(keys='interactive', size=(800, 600), show=True)\n",
    "\n",
    "# Set up a viewbox to display the cube with interactive arcball\n",
    "view = canvas.central_widget.add_view()\n",
    "view.bgcolor = '#efefef'\n",
    "view.camera = 'turntable'\n",
    "view.padding = 100\n",
    "\n",
    "color = Color(\"#3f51b5\")\n",
    "objects = []\n",
    "for point in spindle.points.values():\n",
    "    objects.append(VispyOrganite(point, spindle))\n",
    "t = 0\n",
    "    \n",
    "def move(app):\n",
    "    global t\n",
    "    if t >= spindle.point_hist.shape[0]:\n",
    "        t = 0\n",
    "    for obj in objects:\n",
    "        obj.sphere.transform.reset()\n",
    "        x, y, z = obj.traj.loc[t]\n",
    "        obj.sphere.transform.translate([x, y, z])#, z))\n",
    "    img = canvas.render()\n",
    "    vp_io.write_png('movie/spindle_{0:03d}.png'.format(t), img)\n",
    "    t += 1\n",
    "        \n",
    "timer = app.Timer(connect=move)\n",
    "timer.start(0.1)"
   ]
  },
  {
   "cell_type": "code",
   "execution_count": 14,
   "metadata": {
    "collapsed": true
   },
   "outputs": [],
   "source": [
    "app.set_interactive(True)\n"
   ]
  },
  {
   "cell_type": "code",
   "execution_count": 8,
   "metadata": {
    "collapsed": false
   },
   "outputs": [],
   "source": [
    "img = canvas.render()"
   ]
  },
  {
   "cell_type": "code",
   "execution_count": 9,
   "metadata": {
    "collapsed": true
   },
   "outputs": [],
   "source": []
  },
  {
   "cell_type": "code",
   "execution_count": 10,
   "metadata": {
    "collapsed": true
   },
   "outputs": [],
   "source": [
    "vp_io.write_png('test.png', img)"
   ]
  },
  {
   "cell_type": "code",
   "execution_count": 79,
   "metadata": {
    "collapsed": true
   },
   "outputs": [],
   "source": [
    "visuals.SphereVisual?"
   ]
  },
  {
   "cell_type": "code",
   "execution_count": 43,
   "metadata": {
    "collapsed": false
   },
   "outputs": [],
   "source": [
    "from kt_simul.io.parameters_io import ParamTree\n",
    "from kt_simul.core.simul_spindle import Metaphase"
   ]
  },
  {
   "cell_type": "code",
   "execution_count": 24,
   "metadata": {
    "collapsed": false
   },
   "outputs": [
    {
     "ename": "NameError",
     "evalue": "name 'img' is not defined",
     "output_type": "error",
     "traceback": [
      "\u001b[1;31m---------------------------------------------------------------------------\u001b[0m",
      "\u001b[1;31mNameError\u001b[0m                                 Traceback (most recent call last)",
      "\u001b[1;32m<ipython-input-24-c670894d1e54>\u001b[0m in \u001b[0;36m<module>\u001b[1;34m()\u001b[0m\n\u001b[1;32m----> 1\u001b[1;33m \u001b[0mimg\u001b[0m\u001b[1;33m\u001b[0m\u001b[0m\n\u001b[0m",
      "\u001b[1;31mNameError\u001b[0m: name 'img' is not defined"
     ]
    },
    {
     "name": "stderr",
     "output_type": "stream",
     "text": [
      "ERROR: Invoking <bound method Canvas.move of <Canvas (PyQt4) at 0x7f430cc8ce48>> repeat 256\n",
      "ERROR:vispy:Invoking <bound method Canvas.move of <Canvas (PyQt4) at 0x7f430cc8ce48>> repeat 256\n"
     ]
    }
   ],
   "source": [
    "img"
   ]
  },
  {
   "cell_type": "code",
   "execution_count": null,
   "metadata": {
    "collapsed": true
   },
   "outputs": [],
   "source": []
  }
 ],
 "metadata": {
  "kernelspec": {
   "display_name": "Python 3",
   "language": "python",
   "name": "python3"
  },
  "language_info": {
   "codemirror_mode": {
    "name": "ipython",
    "version": 3
   },
   "file_extension": ".py",
   "mimetype": "text/x-python",
   "name": "python",
   "nbconvert_exporter": "python",
   "pygments_lexer": "ipython3",
   "version": "3.4.3"
  }
 },
 "nbformat": 4,
 "nbformat_minor": 0
}
