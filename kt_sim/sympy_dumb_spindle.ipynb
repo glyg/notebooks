{
 "metadata": {
  "name": "",
  "signature": "sha256:b4b92a080cfe4e3fc66dd3eb42226cbac46e123952696849374aa473e1418585"
 },
 "nbformat": 3,
 "nbformat_minor": 0,
 "worksheets": [
  {
   "cells": [
    {
     "cell_type": "heading",
     "level": 1,
     "metadata": {},
     "source": [
      "A dumb spindle in sympy"
     ]
    },
    {
     "cell_type": "code",
     "collapsed": false,
     "input": [
      "import IPython.display as disp\n",
      "\n",
      "from sympy import symbols, Matrix\n",
      "from sympy.physics.mechanics import dynamicsymbols\n",
      "from sympy.physics.mechanics import ReferenceFrame, Point, Particle\n",
      "from sympy.physics.mechanics import LagrangesMethod, Lagrangian\n",
      "\n",
      "from sympy.physics.mechanics import mechanics_printing\n",
      "mechanics_printing(pretty_print=True) # Shinny\n"
     ],
     "language": "python",
     "metadata": {},
     "outputs": [],
     "prompt_number": 1
    },
    {
     "cell_type": "markdown",
     "metadata": {},
     "source": [
      "### Model description\n",
      "\n",
      "We're looking at a simple mechanical system\n",
      "\n",
      "![dumb spindle](dumb_spindle.svg)\n",
      "\n",
      "\n"
     ]
    },
    {
     "cell_type": "markdown",
     "metadata": {},
     "source": [
      "## Generalized coordinates\n",
      "\n",
      "* $L$ - the spindle length\n",
      "* $c_n$ - position of the chromosome center \n",
      "* $l_n$ - the distance between centromere A and centromere B.\n",
      "  Note that $l_n$ is *corrected for the equilibrium distance* between the centromeres,\n",
      "   such that $l_n = x_A - x_B - d_0$\n",
      "* $d_A$, $d_B$ - the distance between centromere A and attachment site A (resp. B)\n",
      "  \n",
      "Generalized speeds are simply the time derivatives of the above coordinates."
     ]
    },
    {
     "cell_type": "code",
     "collapsed": false,
     "input": [
      "### generalized coordinates\n",
      "qs = L, c_n, l_n, d_A, d_B = dynamicsymbols('L, c_n, l_n, d_A, d_B')\n",
      "### State vector\n",
      "state_v = Matrix(list(qs))\n",
      "\n",
      "### generalized speeds\n",
      "qds = Ld, c_nd, l_nd, d_Ad, d_Bd = dynamicsymbols('L, c_n, l_n, d_A, d_B', 1)\n",
      "\n",
      "### parameter\n",
      "d_0 = symbols('d_0')\n",
      "\n",
      "# no use (yet ?)\n",
      "## V_SA, V_SB = dynamicsymbols('V_SA, V_SB')"
     ],
     "language": "python",
     "metadata": {},
     "outputs": [],
     "prompt_number": 63
    },
    {
     "cell_type": "markdown",
     "metadata": {},
     "source": [
      "## Points and Reference frame\n",
      "\n",
      "* $S$ is a simple 1D reference frame\n",
      "* spc - spindle center - the origin\n",
      "* spb - spindle pole bodies\n",
      "* ch - chromosome centers\n",
      "* cen - centromeres\n",
      "* as - attachment sites\n",
      "\n",
      "Set a position and a speed for each"
     ]
    },
    {
     "cell_type": "code",
     "collapsed": false,
     "input": [
      "S = ReferenceFrame('S')\n",
      "spc = Point('spc') # spindle center\n",
      "spc.set_vel(S, 0)\n",
      "\n",
      "spbR = spc.locatenew('spbR', L * S.x / 2)\n",
      "spbR.set_vel(S, Ld * S.x / 2)\n",
      "             \n",
      "spbL = spc.locatenew('spbL', -L * S.x / 2)\n",
      "spbL.set_vel(S, -Ld * S.x / 2)\n",
      "\n",
      "ch = spc.locatenew('ch', c_n * S.x)\n",
      "ch.set_vel(S, c_nd * S.x)\n",
      "\n",
      "cenA = ch.locatenew('cenA', -(l_n + d_0)/2 * S.x)\n",
      "cenA.set_vel(S, cenA.pos_from(spc).dt(S))\n",
      "\n",
      "as_A = cenA.locatenew('as_A', - d_A * S.x)\n",
      "as_A.set_vel(S, as_A.pos_from(spc).dt(S))\n",
      "\n",
      "cenB = ch.locatenew('cenB', (l_n + d_0)/2 * S.x)\n",
      "cenB.set_vel(S, cenB.pos_from(spc).dt(S))\n",
      "\n",
      "as_B = cenB.locatenew('as_B', d_B * S.x)\n",
      "as_B.set_vel(S, as_B.pos_from(spc).dt(S))"
     ],
     "language": "python",
     "metadata": {},
     "outputs": [],
     "prompt_number": 3
    },
    {
     "cell_type": "markdown",
     "metadata": {},
     "source": [
      "#### access a relative speed"
     ]
    },
    {
     "cell_type": "code",
     "collapsed": false,
     "input": [
      "cenA.pos_from(spbR).dt(S)"
     ],
     "language": "python",
     "metadata": {},
     "outputs": [
      {
       "latex": [
        "$$(- \\frac{\\dot{L}}{2} + \\dot{c}_{n} - \\frac{\\dot{l}_{n}}{2})\\mathbf{\\hat{s}_x}$$"
       ],
       "metadata": {},
       "output_type": "pyout",
       "png": "[encoded data removed]",
       "prompt_number": 5,
       "text": [
        "\u239b  L\u0307          l_\u0307n\u239e\n",
        "\u239c- \u2500\u2500 + c_\u0307n - \u2500\u2500\u2500\u2500\u239f\n",
        "\u239d  2            2  \u23a0 s_x"
       ]
      }
     ],
     "prompt_number": 5
    },
    {
     "cell_type": "markdown",
     "metadata": {},
     "source": [
      "## Forces and energies"
     ]
    },
    {
     "cell_type": "code",
     "collapsed": false,
     "input": [
      "## damped springs\n",
      "kappa_c, kappa_k, mu_s, mu_k, mu_ch, mu_ce = symbols(\"kappa_c, kappa_k, mu_s, mu_k, mu_ch, mu_ce\")\n",
      "\n",
      "## force velocity\n",
      "F_mz, F_k = symbols(\"F_mz, F_k\")\n",
      "V_mz, V_k = symbols(\"V_mz, V_k\")\n",
      "\n",
      "\n",
      "particles = {point.name: Particle('p{}'.format(point.name), point, 0) # zero mass\n",
      "             for point in (spbR, spbL, ch, cenA, as_A, cenB, as_B)}\n",
      "\n",
      "particles['ch'].set_potential_energy(kappa_c * l_n**2 / 2)\n",
      "particles['as_A'].set_potential_energy(kappa_k * d_A**2 / 2)\n",
      "particles['as_B'].set_potential_energy(kappa_k * d_B**2 / 2)\n",
      "\n",
      "\n",
      "## Frictions\n",
      "Fr_spb = - mu_s * Ld * S.x / 2\n",
      "Fr_ch = - mu_ch * c_nd * S.x\n",
      "Fr_ce = - mu_ce * l_nd * S.x\n",
      "Fr_A = - mu_k * d_Ad * S.x\n",
      "Fr_B = - mu_k * d_Bd * S.x\n",
      "\n",
      "## Force generators\n",
      "F_mid = F_mz * (1 - Ld / V_mz) * S.x\n",
      "F_ktA = F_k * (- S.x - as_A.pos_from(spbL).dt(S) / V_k)\n",
      "F_ktB = F_k * (S.x - as_B.pos_from(spbR).dt(S) / V_k)\n",
      "\n",
      "\n",
      "forcelist = [(spbR, F_mid + Fr_spb - F_ktB),\n",
      "             (spbL, - F_mid - Fr_spb - F_ktA),\n",
      "             (as_A, F_ktA + Fr_A),\n",
      "             (as_B, F_ktB + Fr_B),\n",
      "             (ch, Fr_ch + Fr_ce),\n",
      "             ]\n",
      "\n"
     ],
     "language": "python",
     "metadata": {},
     "outputs": [],
     "prompt_number": 6
    },
    {
     "cell_type": "markdown",
     "metadata": {},
     "source": [
      "### Lagrangian"
     ]
    },
    {
     "cell_type": "code",
     "collapsed": false,
     "input": [
      "lag = Lagrangian(S, *particles.values())\n",
      "l_method = LagrangesMethod(lag, qs, forcelist=forcelist, frame=S)"
     ],
     "language": "python",
     "metadata": {},
     "outputs": [],
     "prompt_number": 9
    },
    {
     "cell_type": "code",
     "collapsed": false,
     "input": [
      "eoms = l_method.form_lagranges_equations()\n",
      "# l_method.eom.simplify()"
     ],
     "language": "python",
     "metadata": {},
     "outputs": [],
     "prompt_number": 10
    },
    {
     "cell_type": "code",
     "collapsed": false,
     "input": [
      "eoms.simplify()\n",
      "eoms.subs([(V_k, 1), (F_k, 1)])"
     ],
     "language": "python",
     "metadata": {},
     "outputs": [
      {
       "latex": [
        "$$\\left[\\begin{matrix}\\frac{1}{2 V_{mz}} \\left(- 2 F_{mz} \\left(V_{mz} - \\dot{L}\\right) + V_{mz} \\mu_{s} \\dot{L} - V_{mz} \\left(- \\dot{L} + \\dot{d}_{A} + \\dot{d}_{B} + \\dot{l}_{n} - 2\\right)\\right)\\\\\\mu_{ce} \\dot{l}_{n} + \\mu_{ch} \\dot{c}_{n} + \\mu_{k} \\dot{d}_{A} + \\mu_{k} \\dot{d}_{B} + 2 \\dot{c}_{n} - \\dot{d}_{A} + \\dot{d}_{B}\\\\\\kappa_{c} l_{n} - \\frac{\\mu_{k} \\dot{d}_{A}}{2} + \\frac{\\mu_{k} \\dot{d}_{B}}{2} - \\frac{\\dot{L}}{2} + \\frac{\\dot{d}_{A}}{2} + \\frac{\\dot{d}_{B}}{2} + \\frac{\\dot{l}_{n}}{2} - 1\\\\\\kappa_{k} d_{A} - \\mu_{k} \\dot{d}_{A} - \\frac{\\dot{L}}{2} - \\dot{c}_{n} + \\dot{d}_{A} + \\frac{\\dot{l}_{n}}{2} - 1\\\\\\kappa_{k} d_{B} + \\mu_{k} \\dot{d}_{B} - \\frac{\\dot{L}}{2} + \\dot{c}_{n} + \\dot{d}_{B} + \\frac{\\dot{l}_{n}}{2} - 1\\end{matrix}\\right]$$"
       ],
       "metadata": {},
       "output_type": "pyout",
       "png": "[encoded data removed]",
       "prompt_number": 71,
       "text": [
        "\u23a1-2\u22c5F_mz\u22c5(V_mz - L\u0307) + V_mz\u22c5\u03bc_s\u22c5L\u0307 - V_mz\u22c5(-L\u0307 + d_\u0307A + d_\u0307B + l_\u0307n - 2)\u23a4\n",
        "\u23a2\u2500\u2500\u2500\u2500\u2500\u2500\u2500\u2500\u2500\u2500\u2500\u2500\u2500\u2500\u2500\u2500\u2500\u2500\u2500\u2500\u2500\u2500\u2500\u2500\u2500\u2500\u2500\u2500\u2500\u2500\u2500\u2500\u2500\u2500\u2500\u2500\u2500\u2500\u2500\u2500\u2500\u2500\u2500\u2500\u2500\u2500\u2500\u2500\u2500\u2500\u2500\u2500\u2500\u2500\u2500\u2500\u2500\u2500\u2500\u2500\u2500\u2500\u2500\u2500\u2500\u2500\u2500\u2500\u2500\u2500\u2500\u23a5\n",
        "\u23a2                                 2\u22c5V_mz                                \u23a5\n",
        "\u23a2                                                                       \u23a5\n",
        "\u23a2  \u03bc_ce\u22c5l_\u0307n + \u03bc_ch\u22c5c_\u0307n + \u03bc_k\u22c5d_\u0307A + \u03bc_k\u22c5d_\u0307B + 2\u22c5c_\u0307n - d_\u0307A + d_\u0307B   \u23a5\n",
        "\u23a2                                                                       \u23a5\n",
        "\u23a2                \u03bc_k\u22c5d_\u0307A   \u03bc_k\u22c5d_\u0307B   L\u0307   d_\u0307A   d_\u0307B   l_\u0307n          \u23a5\n",
        "\u23a2      \u03ba_c\u22c5l_n - \u2500\u2500\u2500\u2500\u2500\u2500\u2500\u2500 + \u2500\u2500\u2500\u2500\u2500\u2500\u2500\u2500 - \u2500\u2500 + \u2500\u2500\u2500\u2500 + \u2500\u2500\u2500\u2500 + \u2500\u2500\u2500\u2500 - 1      \u23a5\n",
        "\u23a2                   2          2       2     2      2      2            \u23a5\n",
        "\u23a2                                                                       \u23a5\n",
        "\u23a2                                L\u0307                 l_\u0307n                \u23a5\n",
        "\u23a2           \u03ba_k\u22c5d_A - \u03bc_k\u22c5d_\u0307A - \u2500\u2500 - c_\u0307n + d_\u0307A + \u2500\u2500\u2500\u2500 - 1            \u23a5\n",
        "\u23a2                                2                   2                  \u23a5\n",
        "\u23a2                                                                       \u23a5\n",
        "\u23a2                                L\u0307                 l_\u0307n                \u23a5\n",
        "\u23a2           \u03ba_k\u22c5d_B + \u03bc_k\u22c5d_\u0307B - \u2500\u2500 + c_\u0307n + d_\u0307B + \u2500\u2500\u2500\u2500 - 1            \u23a5\n",
        "\u23a3                                2                   2                  \u23a6"
       ]
      }
     ],
     "prompt_number": 71
    },
    {
     "cell_type": "code",
     "collapsed": false,
     "input": [
      "eoms_u = eoms.subs([(V_k, 1), (F_k, 1)])\n",
      "eq_spb = eoms_u[0]\n",
      "eq_spb"
     ],
     "language": "python",
     "metadata": {},
     "outputs": [
      {
       "latex": [
        "$$\\frac{1}{2 V_{mz}} \\left(- 2 F_{mz} \\left(V_{mz} - \\dot{L}\\right) + V_{mz} \\mu_{s} \\dot{L} + V_{mz} \\left(\\dot{L} - \\dot{d}_{A} - \\dot{d}_{B} - \\dot{l}_{n} + 2\\right)\\right)$$"
       ],
       "metadata": {},
       "output_type": "pyout",
       "png": "[encoded data removed]",
       "prompt_number": 12,
       "text": [
        "-2\u22c5F_mz\u22c5(V_mz - L\u0307) + V_mz\u22c5\u03bc_s\u22c5L\u0307 + V_mz\u22c5(L\u0307 - d_\u0307A - d_\u0307B - l_\u0307n + 2)\n",
        "\u2500\u2500\u2500\u2500\u2500\u2500\u2500\u2500\u2500\u2500\u2500\u2500\u2500\u2500\u2500\u2500\u2500\u2500\u2500\u2500\u2500\u2500\u2500\u2500\u2500\u2500\u2500\u2500\u2500\u2500\u2500\u2500\u2500\u2500\u2500\u2500\u2500\u2500\u2500\u2500\u2500\u2500\u2500\u2500\u2500\u2500\u2500\u2500\u2500\u2500\u2500\u2500\u2500\u2500\u2500\u2500\u2500\u2500\u2500\u2500\u2500\u2500\u2500\u2500\u2500\u2500\u2500\u2500\u2500\u2500\n",
        "                                2\u22c5V_mz                                "
       ]
      }
     ],
     "prompt_number": 12
    },
    {
     "cell_type": "code",
     "collapsed": false,
     "input": [
      "#### Original coordinates\n",
      "x_kA, x_kB, x_s, x_cA, x_cB = dynamicsymbols(\"x_kA, x_kB, x_s, x_cA, x_cB\")\n",
      "x_kAd, x_kBd, x_sd, x_cAd, x_cBd = dynamicsymbols(\"x_kA, x_kB, x_s, x_cA, x_cB\", 1)\n",
      "\n",
      "\n",
      "### Substitutions to come back to the original variables (assuming d_0 = 0 for simplicity)\n",
      "\n",
      "to_subs = [(L, 2*x_s),\n",
      "           (c_n, x_cB/2 + x_cA/2),\n",
      "           (l_n, x_cB - x_cA),\n",
      "           (d_A, x_cA - x_kA),\n",
      "           (d_B, x_kB - x_cB)]\n",
      "\n",
      "### Corresponding transition matrix (muliplied by 2 to avoid fractions)\n",
      "trans = Matrix([[4,  0,  0,  0, 0],\n",
      "                [0,  1,  0,  1, 0],\n",
      "                [0, -2,  0,  2, 0],\n",
      "                [0,  2, -2,  0, 0],\n",
      "                [0,  0,  0, -2, 2]])\n",
      "\n",
      "### Chack we're back on our feets\n",
      "trans.inv().multiply(state_v).subs(to_subs) * 2"
     ],
     "language": "python",
     "metadata": {},
     "outputs": [
      {
       "latex": [
        "$$\\left[\\begin{matrix}x_{s}\\\\x_{cA}\\\\x_{kA}\\\\x_{cB}\\\\x_{kB}\\end{matrix}\\right]$$"
       ],
       "metadata": {},
       "output_type": "pyout",
       "png": "[encoded data removed]",
       "prompt_number": 65,
       "text": [
        "\u23a1x_s \u23a4\n",
        "\u23a2    \u23a5\n",
        "\u23a2x_cA\u23a5\n",
        "\u23a2    \u23a5\n",
        "\u23a2x_kA\u23a5\n",
        "\u23a2    \u23a5\n",
        "\u23a2x_cB\u23a5\n",
        "\u23a2    \u23a5\n",
        "\u23a3x_kB\u23a6"
       ]
      }
     ],
     "prompt_number": 65
    },
    {
     "cell_type": "code",
     "collapsed": false,
     "input": [
      "linearizer = l_method.to_linearizer(q_ind=qs,\n",
      "                                     qd_ind=qds)\n"
     ],
     "language": "python",
     "metadata": {},
     "outputs": [],
     "prompt_number": 66
    },
    {
     "cell_type": "code",
     "collapsed": false,
     "input": [
      "M, A, B = linearizer.linearize(A_and_B=False)"
     ],
     "language": "python",
     "metadata": {},
     "outputs": [],
     "prompt_number": 67
    },
    {
     "cell_type": "code",
     "collapsed": false,
     "input": [
      "linearizer.u"
     ],
     "language": "python",
     "metadata": {},
     "outputs": [
      {
       "latex": [
        "$$\\left[\\begin{matrix}\\dot{L}\\\\\\dot{c}_{n}\\\\\\dot{l}_{n}\\\\\\dot{d}_{A}\\\\\\dot{d}_{B}\\end{matrix}\\right]$$"
       ],
       "metadata": {},
       "output_type": "pyout",
       "png": "[encoded data removed]",
       "prompt_number": 79,
       "text": [
        "\u23a1 L\u0307 \u23a4\n",
        "\u23a2    \u23a5\n",
        "\u23a2c_\u0307n\u23a5\n",
        "\u23a2    \u23a5\n",
        "\u23a2l_\u0307n\u23a5\n",
        "\u23a2    \u23a5\n",
        "\u23a2d_\u0307A\u23a5\n",
        "\u23a2    \u23a5\n",
        "\u23a3d_\u0307B\u23a6"
       ]
      }
     ],
     "prompt_number": 79
    },
    {
     "cell_type": "code",
     "collapsed": false,
     "input": [
      "M"
     ],
     "language": "python",
     "metadata": {},
     "outputs": [
      {
       "latex": [
        "$$\\left[\\begin{matrix}1 & 0 & 0 & 0 & 0 & 0 & 0 & 0 & 0 & 0\\\\0 & 1 & 0 & 0 & 0 & 0 & 0 & 0 & 0 & 0\\\\0 & 0 & 1 & 0 & 0 & 0 & 0 & 0 & 0 & 0\\\\0 & 0 & 0 & 1 & 0 & 0 & 0 & 0 & 0 & 0\\\\0 & 0 & 0 & 0 & 1 & 0 & 0 & 0 & 0 & 0\\\\0 & 0 & 0 & 0 & 0 & 0 & 0 & 0 & 0 & 0\\\\0 & 0 & 0 & 0 & 0 & 0 & 0 & 0 & 0 & 0\\\\0 & 0 & 0 & 0 & 0 & 0 & 0 & 0 & 0 & 0\\\\0 & 0 & 0 & 0 & 0 & 0 & 0 & 0 & 0 & 0\\\\0 & 0 & 0 & 0 & 0 & 0 & 0 & 0 & 0 & 0\\end{matrix}\\right]$$"
       ],
       "metadata": {},
       "output_type": "pyout",
       "png": "[encoded data removed]",
       "prompt_number": 68,
       "text": [
        "\u23a11  0  0  0  0  0  0  0  0  0\u23a4\n",
        "\u23a2                            \u23a5\n",
        "\u23a20  1  0  0  0  0  0  0  0  0\u23a5\n",
        "\u23a2                            \u23a5\n",
        "\u23a20  0  1  0  0  0  0  0  0  0\u23a5\n",
        "\u23a2                            \u23a5\n",
        "\u23a20  0  0  1  0  0  0  0  0  0\u23a5\n",
        "\u23a2                            \u23a5\n",
        "\u23a20  0  0  0  1  0  0  0  0  0\u23a5\n",
        "\u23a2                            \u23a5\n",
        "\u23a20  0  0  0  0  0  0  0  0  0\u23a5\n",
        "\u23a2                            \u23a5\n",
        "\u23a20  0  0  0  0  0  0  0  0  0\u23a5\n",
        "\u23a2                            \u23a5\n",
        "\u23a20  0  0  0  0  0  0  0  0  0\u23a5\n",
        "\u23a2                            \u23a5\n",
        "\u23a20  0  0  0  0  0  0  0  0  0\u23a5\n",
        "\u23a2                            \u23a5\n",
        "\u23a30  0  0  0  0  0  0  0  0  0\u23a6"
       ]
      }
     ],
     "prompt_number": 68
    },
    {
     "cell_type": "code",
     "collapsed": false,
     "input": [
      "A "
     ],
     "language": "python",
     "metadata": {},
     "outputs": [
      {
       "latex": [
        "$$\\left[\\begin{matrix}0 & 0 & 0 & 0 & 0 & 1 & 0 & 0 & 0 & 0\\\\0 & 0 & 0 & 0 & 0 & 0 & 1 & 0 & 0 & 0\\\\0 & 0 & 0 & 0 & 0 & 0 & 0 & 1 & 0 & 0\\\\0 & 0 & 0 & 0 & 0 & 0 & 0 & 0 & 1 & 0\\\\0 & 0 & 0 & 0 & 0 & 0 & 0 & 0 & 0 & 1\\\\0 & 0 & 0 & 0 & 0 & - \\frac{F_{k}}{2 V_{k}} - \\frac{F_{mz}}{V_{mz}} - \\frac{\\mu_{s}}{2} & 0 & \\frac{F_{k}}{2 V_{k}} & \\frac{F_{k}}{2 V_{k}} & \\frac{F_{k}}{2 V_{k}}\\\\0 & 0 & 0 & 0 & 0 & 0 & - \\frac{2 F_{k}}{V_{k}} - \\mu_{ch} & - \\mu_{ce} & \\frac{F_{k}}{V_{k}} - \\mu_{k} & - \\frac{F_{k}}{V_{k}} - \\mu_{k}\\\\0 & 0 & - \\kappa_{c} & 0 & 0 & \\frac{F_{k}}{2 V_{k}} & 0 & - \\frac{F_{k}}{2 V_{k}} & - \\frac{F_{k}}{2 V_{k}} + \\frac{\\mu_{k}}{2} & - \\frac{F_{k}}{2 V_{k}} - \\frac{\\mu_{k}}{2}\\\\0 & 0 & 0 & - \\kappa_{k} & 0 & \\frac{F_{k}}{2 V_{k}} & \\frac{F_{k}}{V_{k}} & - \\frac{F_{k}}{2 V_{k}} & - \\frac{F_{k}}{V_{k}} + \\mu_{k} & 0\\\\0 & 0 & 0 & 0 & - \\kappa_{k} & \\frac{F_{k}}{2 V_{k}} & - \\frac{F_{k}}{V_{k}} & - \\frac{F_{k}}{2 V_{k}} & 0 & - \\frac{F_{k}}{V_{k}} - \\mu_{k}\\end{matrix}\\right]$$"
       ],
       "metadata": {},
       "output_type": "pyout",
       "png": "[encoded data removed]",
       "prompt_number": 69,
       "text": [
        "\u23a10  0   0     0     0             1                  0           0          0 \n",
        "\u23a2                                                                             \n",
        "\u23a20  0   0     0     0             0                  1           0          0 \n",
        "\u23a2                                                                             \n",
        "\u23a20  0   0     0     0             0                  0           1          0 \n",
        "\u23a2                                                                             \n",
        "\u23a20  0   0     0     0             0                  0           0          1 \n",
        "\u23a2                                                                             \n",
        "\u23a20  0   0     0     0             0                  0           0          0 \n",
        "\u23a2                                                                             \n",
        "\u23a2                           F_k    F_mz   \u03bc_s                   F_k        F_k\n",
        "\u23a20  0   0     0     0    - \u2500\u2500\u2500\u2500\u2500 - \u2500\u2500\u2500\u2500 - \u2500\u2500\u2500        0         \u2500\u2500\u2500\u2500\u2500      \u2500\u2500\u2500\u2500\n",
        "\u23a2                          2\u22c5V_k   V_mz    2                   2\u22c5V_k      2\u22c5V_\n",
        "\u23a2                                                                             \n",
        "\u23a2                                                2\u22c5F_k                  F_k   \n",
        "\u23a20  0   0     0     0             0            - \u2500\u2500\u2500\u2500\u2500 - \u03bc_ch  -\u03bc_ce    \u2500\u2500\u2500 - \n",
        "\u23a2                                                 V_k                   V_k   \n",
        "\u23a2                                                                             \n",
        "\u23a2                                F_k                           -F_k      F_k  \n",
        "\u23a20  0  -\u03ba_c   0     0           \u2500\u2500\u2500\u2500\u2500                0         \u2500\u2500\u2500\u2500\u2500  - \u2500\u2500\u2500\u2500\u2500 \n",
        "\u23a2                               2\u22c5V_k                          2\u22c5V_k    2\u22c5V_k \n",
        "\u23a2                                                                             \n",
        "\u23a2                                F_k                F_k        -F_k      F_k  \n",
        "\u23a20  0   0    -\u03ba_k   0           \u2500\u2500\u2500\u2500\u2500               \u2500\u2500\u2500        \u2500\u2500\u2500\u2500\u2500   - \u2500\u2500\u2500 +\n",
        "\u23a2                               2\u22c5V_k               V_k        2\u22c5V_k     V_k  \n",
        "\u23a2                                                                             \n",
        "\u23a2                                F_k               -F_k        -F_k           \n",
        "\u23a20  0   0     0    -\u03ba_k         \u2500\u2500\u2500\u2500\u2500              \u2500\u2500\u2500\u2500\u2500       \u2500\u2500\u2500\u2500\u2500        0 \n",
        "\u23a3                               2\u22c5V_k               V_k        2\u22c5V_k          \n",
        "\n",
        "             0      \u23a4\n",
        "                    \u23a5\n",
        "             0      \u23a5\n",
        "                    \u23a5\n",
        "             0      \u23a5\n",
        "                    \u23a5\n",
        "             0      \u23a5\n",
        "                    \u23a5\n",
        "             1      \u23a5\n",
        "                    \u23a5\n",
        "            F_k     \u23a5\n",
        "\u2500          \u2500\u2500\u2500\u2500\u2500    \u23a5\n",
        "k          2\u22c5V_k    \u23a5\n",
        "                    \u23a5\n",
        "          F_k       \u23a5\n",
        "\u03bc_k     - \u2500\u2500\u2500 - \u03bc_k \u23a5\n",
        "          V_k       \u23a5\n",
        "                    \u23a5\n",
        "  \u03bc_k     F_k    \u03bc_k\u23a5\n",
        "+ \u2500\u2500\u2500  - \u2500\u2500\u2500\u2500\u2500 - \u2500\u2500\u2500\u23a5\n",
        "   2     2\u22c5V_k    2 \u23a5\n",
        "                    \u23a5\n",
        "                    \u23a5\n",
        " \u03bc_k         0      \u23a5\n",
        "                    \u23a5\n",
        "                    \u23a5\n",
        "          F_k       \u23a5\n",
        "        - \u2500\u2500\u2500 - \u03bc_k \u23a5\n",
        "          V_k       \u23a6"
       ]
      }
     ],
     "prompt_number": 69
    },
    {
     "cell_type": "code",
     "collapsed": false,
     "input": [
      "n = len(qs)\n",
      "A[n:, n:].multiply(trans)"
     ],
     "language": "python",
     "metadata": {},
     "outputs": [
      {
       "latex": [
        "$$\\left[\\begin{matrix}- \\frac{2 F_{k}}{V_{k}} - \\frac{4 F_{mz}}{V_{mz}} - 2 \\mu_{s} & 0 & - \\frac{F_{k}}{V_{k}} & 0 & \\frac{F_{k}}{V_{k}}\\\\0 & 2 \\mu_{ce} - \\mu_{ch} - 2 \\mu_{k} & - \\frac{2 F_{k}}{V_{k}} + 2 \\mu_{k} & - 2 \\mu_{ce} - \\mu_{ch} + 2 \\mu_{k} & - \\frac{2 F_{k}}{V_{k}} - 2 \\mu_{k}\\\\\\frac{2 F_{k}}{V_{k}} & \\mu_{k} & \\frac{F_{k}}{V_{k}} - \\mu_{k} & \\mu_{k} & - \\frac{F_{k}}{V_{k}} - \\mu_{k}\\\\\\frac{2 F_{k}}{V_{k}} & 2 \\mu_{k} & \\frac{2 F_{k}}{V_{k}} - 2 \\mu_{k} & 0 & 0\\\\\\frac{2 F_{k}}{V_{k}} & 0 & 0 & 2 \\mu_{k} & - \\frac{2 F_{k}}{V_{k}} - 2 \\mu_{k}\\end{matrix}\\right]$$"
       ],
       "metadata": {},
       "output_type": "pyout",
       "png": "[encoded data removed]",
       "prompt_number": 70,
       "text": [
        "\u23a1  2\u22c5F_k   4\u22c5F_mz                                      -F_k                   \n",
        "\u23a2- \u2500\u2500\u2500\u2500\u2500 - \u2500\u2500\u2500\u2500\u2500\u2500 - 2\u22c5\u03bc_s            0                 \u2500\u2500\u2500\u2500\u2500                 0\n",
        "\u23a2   V_k     V_mz                                        V_k                   \n",
        "\u23a2                                                                             \n",
        "\u23a2                                                   2\u22c5F_k                     \n",
        "\u23a2           0              2\u22c5\u03bc_ce - \u03bc_ch - 2\u22c5\u03bc_k  - \u2500\u2500\u2500\u2500\u2500 + 2\u22c5\u03bc_k  -2\u22c5\u03bc_ce - \u03bc\n",
        "\u23a2                                                    V_k                      \n",
        "\u23a2                                                                             \n",
        "\u23a2         2\u22c5F_k                                      F_k                      \n",
        "\u23a2         \u2500\u2500\u2500\u2500\u2500                     \u03bc_k              \u2500\u2500\u2500 - \u03bc_k              \u03bc_\n",
        "\u23a2          V_k                                       V_k                      \n",
        "\u23a2                                                                             \n",
        "\u23a2         2\u22c5F_k                                    2\u22c5F_k                      \n",
        "\u23a2         \u2500\u2500\u2500\u2500\u2500                    2\u22c5\u03bc_k           \u2500\u2500\u2500\u2500\u2500 - 2\u22c5\u03bc_k             0\n",
        "\u23a2          V_k                                      V_k                       \n",
        "\u23a2                                                                             \n",
        "\u23a2         2\u22c5F_k                                                               \n",
        "\u23a2         \u2500\u2500\u2500\u2500\u2500                      0                   0                 2\u22c5\u03bc\n",
        "\u23a3          V_k                                                                \n",
        "\n",
        "                   F_k      \u23a4\n",
        "                   \u2500\u2500\u2500      \u23a5\n",
        "                   V_k      \u23a5\n",
        "                            \u23a5\n",
        "               2\u22c5F_k        \u23a5\n",
        "_ch + 2\u22c5\u03bc_k  - \u2500\u2500\u2500\u2500\u2500 - 2\u22c5\u03bc_k\u23a5\n",
        "                V_k         \u23a5\n",
        "                            \u23a5\n",
        "                 F_k        \u23a5\n",
        "k              - \u2500\u2500\u2500 - \u03bc_k  \u23a5\n",
        "                 V_k        \u23a5\n",
        "                            \u23a5\n",
        "                            \u23a5\n",
        "                    0       \u23a5\n",
        "                            \u23a5\n",
        "                            \u23a5\n",
        "               2\u22c5F_k        \u23a5\n",
        "_k           - \u2500\u2500\u2500\u2500\u2500 - 2\u22c5\u03bc_k\u23a5\n",
        "                V_k         \u23a6"
       ]
      }
     ],
     "prompt_number": 70
    },
    {
     "cell_type": "code",
     "collapsed": false,
     "input": [
      "-A[n:, :n].multiply(trans)/2"
     ],
     "language": "python",
     "metadata": {},
     "outputs": [
      {
       "latex": [
        "$$\\left[\\begin{matrix}0 & 0 & 0 & 0 & 0\\\\0 & 0 & 0 & 0 & 0\\\\0 & - \\kappa_{c} & 0 & \\kappa_{c} & 0\\\\0 & \\kappa_{k} & - \\kappa_{k} & 0 & 0\\\\0 & 0 & 0 & - \\kappa_{k} & \\kappa_{k}\\end{matrix}\\right]$$"
       ],
       "metadata": {},
       "output_type": "pyout",
       "png": "[encoded data removed]",
       "prompt_number": 76,
       "text": [
        "\u23a10   0     0     0     0 \u23a4\n",
        "\u23a2                        \u23a5\n",
        "\u23a20   0     0     0     0 \u23a5\n",
        "\u23a2                        \u23a5\n",
        "\u23a20  -\u03ba_c   0    \u03ba_c    0 \u23a5\n",
        "\u23a2                        \u23a5\n",
        "\u23a20  \u03ba_k   -\u03ba_k   0     0 \u23a5\n",
        "\u23a2                        \u23a5\n",
        "\u23a30   0     0    -\u03ba_k  \u03ba_k\u23a6"
       ]
      }
     ],
     "prompt_number": 76
    },
    {
     "cell_type": "code",
     "collapsed": false,
     "input": [],
     "language": "python",
     "metadata": {},
     "outputs": []
    }
   ],
   "metadata": {}
  }
 ]
}