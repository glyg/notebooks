{
 "metadata": {
  "name": "",
  "signature": "sha256:252bcd51ee6164b8eb4ed6493dcbd3c0fccdd4ed6eb594d518bdd53d7cc686e2"
 },
 "nbformat": 3,
 "nbformat_minor": 0,
 "worksheets": [
  {
   "cells": [
    {
     "cell_type": "markdown",
     "metadata": {},
     "source": [
      "#### Imports and utilities"
     ]
    },
    {
     "cell_type": "code",
     "collapsed": false,
     "input": [
      "import IPython.display as disp\n",
      "\n",
      "from sympy import symbols, Matrix\n",
      "from sympy import sympify\n",
      "from sympy.physics.mechanics import dynamicsymbols\n",
      "from sympy.physics.mechanics import ReferenceFrame, Point, Particle\n",
      "from sympy.physics.mechanics import LagrangesMethod, Lagrangian\n",
      "\n",
      "from sympy.physics.mechanics import mechanics_printing\n",
      "mechanics_printing(pretty_print=True) # Shinny\n",
      "\n",
      "from collections import defaultdict\n",
      "\n",
      "def indexer(name, index=None, expo=None):\n",
      "    '''Small utility to append an index  and\n",
      "    an exponent to the string `name`\n",
      "    '''\n",
      "    if index is not None:\n",
      "        name = name + '_' + index\n",
      "    if expo is not None:\n",
      "        name = name + '^' + expo\n",
      "    return name"
     ],
     "language": "python",
     "metadata": {},
     "outputs": [],
     "prompt_number": 1
    },
    {
     "cell_type": "heading",
     "level": 1,
     "metadata": {},
     "source": [
      "A dumb spindle in sympy"
     ]
    },
    {
     "cell_type": "code",
     "collapsed": false,
     "input": [
      "class SympySpindle:\n",
      "    '''\n",
      "    container class\n",
      "    \n",
      "    to collect all we instanciate at the sympy level\n",
      "    '''\n",
      "    \n",
      "    def __init__(self, name):\n",
      "        self.name = name\n",
      "        ### dictionary\n",
      "        self.forcebalance = defaultdict(list)\n",
      "        \n",
      "    @property\n",
      "    def lagrangian(self):\n",
      "        return sympify(sum(self.forcebalance['lagrangian']))\n",
      "    \n",
      "    @property\n",
      "    def qs(self):\n",
      "        return self.forcebalance['q_ind'] + self.forcebalance['q_dep']\n",
      "        \n",
      "spindle = SympySpindle('Dumb')"
     ],
     "language": "python",
     "metadata": {},
     "outputs": [],
     "prompt_number": 2
    },
    {
     "cell_type": "markdown",
     "metadata": {},
     "source": [
      "### Model description\n",
      "\n",
      "We're looking at a simple mechanical system\n",
      "\n",
      "![dumb spindle](dumb_spindle.svg)\n",
      "\n",
      "\n",
      "#### Particles and positions\n",
      "\n",
      "_correct for bad order_\n",
      "We have $x_{sL}, x_{sR}, x_{kA}, x_{kB},  x_{cA}, x_{cB}$ the positions of left and right spindle pole bodies, A & B attachment sites (aka the kinetochore), A & B centromeres, respectively.\n",
      "\n",
      "\n",
      "\n"
     ]
    },
    {
     "cell_type": "code",
     "collapsed": false,
     "input": [
      "#### Spindle referential frame coordinates (1D)\n",
      "xs = x_s, x_cA, x_kA, x_cB, x_kB = dynamicsymbols(\"x_s, x_cA, x_kA, x_cB, x_kB\")\n",
      "\n",
      "## Speeds\n",
      "xds = x_sd, x_cAd, x_kAd, x_cBd, x_kBd = dynamicsymbols(\"x_sd, x_cAd, x_kAd, x_cBd, x_kBd\", 1)"
     ],
     "language": "python",
     "metadata": {},
     "outputs": [],
     "prompt_number": 3
    },
    {
     "cell_type": "markdown",
     "metadata": {},
     "source": [
      "\n",
      "## Independant generalized coordinates\n",
      "\n",
      "* $L$ - the spindle length\n",
      "* $c_n$ - position of the chromosome center \n",
      "* $l_n$ - the distance between centromere A and centromere B.\n",
      "  Note that $l_n$ is *corrected for the equilibrium distance* between the centromeres,\n",
      "   such that $l_n = x_A - x_B - d_0$, where $x_0$ is the rest length of the cohesin spring.\n",
      "* $d_A$, $d_B$ - the distance between centromere A and attachment site A (resp. B) \n",
      "\n",
      "Generalized speeds are simply the time derivatives of the above coordinates.\n",
      "\n",
      "\n",
      "We'll describe the dependant coordinates below while defining the forces\n",
      "\n"
     ]
    },
    {
     "cell_type": "code",
     "collapsed": false,
     "input": [],
     "language": "python",
     "metadata": {},
     "outputs": []
    },
    {
     "cell_type": "markdown",
     "metadata": {},
     "source": [
      "<iframe>"
     ]
    },
    {
     "cell_type": "code",
     "collapsed": false,
     "input": [
      "### independant generalized coordinates\n",
      "q_ind = L, c_n, l_n, d_A, d_B = dynamicsymbols('L, c_n, l_n, d_A, d_B')\n",
      "### generalized speeds\n",
      "qd_ind = Ld, c_nd, l_nd, d_Ad, d_Bd = dynamicsymbols('L, c_n, l_n, d_A, d_B', 1)\n",
      "\n",
      "### generalized speed - Kanes formalism\n",
      "u_ind = vL, vc_n, vl_n, vd_A, vd_B = dynamicsymbols('^vL, ^vc_n, ^vl_n, ^vd_A, ^vd_B')\n",
      "ud_ind = vLd, vc_nd, vl_nd, vd_Ad, vd_Bd = dynamicsymbols('^vL, ^vc_n, ^vl_n, ^vd_A, ^vd_B', 1)\n",
      "\n",
      "\n",
      "### Register in the container's dictionary\n",
      "spindle.forcebalance['q_ind'] = q_ind\n",
      "spindle.forcebalance['qd_ind'] = qd_ind\n",
      "\n",
      "### Kanes method\n",
      "spindle.forcebalance['u_ind'] = u_ind\n",
      "spindle.forcebalance['ud_ind'] = ud_ind\n",
      "### Kinematics // \n",
      "spindle.forcebalance['kd'].extend((qd - u for (qd, u) in\n",
      "                                   zip(qd_ind, u_ind)))\n"
     ],
     "language": "python",
     "metadata": {},
     "outputs": [],
     "prompt_number": 28
    },
    {
     "cell_type": "markdown",
     "metadata": {},
     "source": [
      "#### Transformation matrix from independant generalized to original coordinates\n",
      "\n",
      "\n",
      "We write matrix T such that $q = Tx$ or $T^{-1}q = x$, which we check below. "
     ]
    },
    {
     "cell_type": "code",
     "collapsed": false,
     "input": [
      "### Substitutions to come back to the original variables (assuming d_0 = 0 for simplicity)\n",
      "to_subs = [(L, 2*x_s),\n",
      "           (c_n, x_cB/2 + x_cA/2),\n",
      "           (l_n, x_cB - x_cA),\n",
      "           (d_A, x_cA - x_kA),\n",
      "           (d_B, x_kB - x_cB)]\n",
      "\n",
      "### Corresponding transition matrix (muliplied by 2 to avoid fractions)\n",
      "trans = Matrix([[4,  0,  0,  0, 0],\n",
      "                [0,  1,  0,  1, 0],\n",
      "                [0, -2,  0,  2, 0],\n",
      "                [0,  2, -2,  0, 0],\n",
      "                [0,  0,  0, -2, 2]])\n",
      "\n",
      "### Check we're back on our feets\n",
      "back_transform = trans.inv().multiply(Matrix(q_ind)).subs(to_subs) * 2\n",
      "assert Matrix(xs) == back_transform\n",
      "\n",
      "Matrix(q_ind), trans,  Matrix(xs), back_transform"
     ],
     "language": "python",
     "metadata": {},
     "outputs": [
      {
       "latex": [
        "$$\\left ( \\left[\\begin{matrix}L\\\\c_{n}\\\\l_{n}\\\\d_{A}\\\\d_{B}\\end{matrix}\\right], \\quad \\left[\\begin{matrix}4 & 0 & 0 & 0 & 0\\\\0 & 1 & 0 & 1 & 0\\\\0 & -2 & 0 & 2 & 0\\\\0 & 2 & -2 & 0 & 0\\\\0 & 0 & 0 & -2 & 2\\end{matrix}\\right], \\quad \\left[\\begin{matrix}x_{s}\\\\x_{cA}\\\\x_{kA}\\\\x_{cB}\\\\x_{kB}\\end{matrix}\\right], \\quad \\left[\\begin{matrix}x_{s}\\\\x_{cA}\\\\x_{kA}\\\\x_{cB}\\\\x_{kB}\\end{matrix}\\right]\\right )$$"
       ],
       "metadata": {},
       "output_type": "pyout",
       "png": "[encoded data removed]",
       "prompt_number": 5,
       "text": [
        "\u239b\u23a1 L \u23a4, \u23a14  0   0   0   0\u23a4, \u23a1x_s \u23a4, \u23a1x_s \u23a4\u239e\n",
        "\u239c\u23a2   \u23a5  \u23a2                \u23a5  \u23a2    \u23a5  \u23a2    \u23a5\u239f\n",
        "\u239c\u23a2c_n\u23a5  \u23a20  1   0   1   0\u23a5  \u23a2x_cA\u23a5  \u23a2x_cA\u23a5\u239f\n",
        "\u239c\u23a2   \u23a5  \u23a2                \u23a5  \u23a2    \u23a5  \u23a2    \u23a5\u239f\n",
        "\u239c\u23a2l_n\u23a5  \u23a20  -2  0   2   0\u23a5  \u23a2x_kA\u23a5  \u23a2x_kA\u23a5\u239f\n",
        "\u239c\u23a2   \u23a5  \u23a2                \u23a5  \u23a2    \u23a5  \u23a2    \u23a5\u239f\n",
        "\u239c\u23a2d_A\u23a5  \u23a20  2   -2  0   0\u23a5  \u23a2x_cB\u23a5  \u23a2x_cB\u23a5\u239f\n",
        "\u239c\u23a2   \u23a5  \u23a2                \u23a5  \u23a2    \u23a5  \u23a2    \u23a5\u239f\n",
        "\u239d\u23a3d_B\u23a6  \u23a30  0   0   -2  2\u23a6  \u23a3x_kB\u23a6  \u23a3x_kB\u23a6\u23a0"
       ]
      }
     ],
     "prompt_number": 5
    },
    {
     "cell_type": "markdown",
     "metadata": {},
     "source": [
      "### Parameters"
     ]
    },
    {
     "cell_type": "markdown",
     "metadata": {},
     "source": [
      "#### Dambed springs"
     ]
    },
    {
     "cell_type": "code",
     "collapsed": false,
     "input": [
      "### Chromatin\n",
      "kappa_c, d_0, mu_c = symbols(\"kappa_c, d_0, mu_c\")\n",
      "### Kinetochore - centromere\n",
      "kappa_k, mu_k = symbols(\"kappa_k, mu_k\")"
     ],
     "language": "python",
     "metadata": {},
     "outputs": [],
     "prompt_number": 6
    },
    {
     "cell_type": "markdown",
     "metadata": {},
     "source": [
      "#### Viscous drags"
     ]
    },
    {
     "cell_type": "code",
     "collapsed": false,
     "input": [
      "### Chromosomes\n",
      "mu_ch =  symbols(\"mu_ch\")\n",
      "### SPBs\n",
      "mu_s = symbols(\"mu_s\")"
     ],
     "language": "python",
     "metadata": {},
     "outputs": [],
     "prompt_number": 7
    },
    {
     "cell_type": "markdown",
     "metadata": {},
     "source": [
      "#### Force velocity"
     ]
    },
    {
     "cell_type": "code",
     "collapsed": false,
     "input": [
      "### Interdigitated microtubules\n",
      "F_mz, V_mz =  symbols(\"F_mz, V_mz\")\n",
      "### kinteochore microtubules\n",
      "F_k, V_k =  symbols(\"F_k, V_k\")"
     ],
     "language": "python",
     "metadata": {},
     "outputs": [],
     "prompt_number": 24
    },
    {
     "cell_type": "markdown",
     "metadata": {},
     "source": [
      "## Points and Reference frame\n",
      "\n",
      "* $S$ is a simple 1D reference frame\n",
      "* spc - spindle center - the origin\n",
      "* spb - spindle pole bodies\n",
      "* ch - chromosome centers\n",
      "* cen - centromeres\n",
      "* as - attachment sites\n",
      "\n",
      "Below we define them and set a position and a speed for each"
     ]
    },
    {
     "cell_type": "code",
     "collapsed": false,
     "input": [
      "S = ReferenceFrame('S')\n",
      "spindle.referenceframe = S\n",
      "\n",
      "## spindle center\n",
      "spc = Point('spc')\n",
      "spc.set_vel(S, 0)\n",
      "\n",
      "### Spindle pole bodies\n",
      "spbR = spc.locatenew('spbR', L * S.x / 2)\n",
      "spbR.set_vel(S, Ld * S.x / 2)\n",
      "             \n",
      "spbL = spc.locatenew('spbL', -L * S.x / 2)\n",
      "spbL.set_vel(S, -Ld * S.x / 2)\n",
      "\n",
      "### Chromosomes\n",
      "ch = spc.locatenew('ch', c_n * S.x)\n",
      "ch.set_vel(S, c_nd * S.x)\n",
      "\n",
      "### centromere and attachment site A\n",
      "cenA = ch.locatenew('cenA', -(l_n + d_0)/2 * S.x)\n",
      "cenA.set_vel(S, cenA.pos_from(spc).dt(S))\n",
      "\n",
      "as_A = cenA.locatenew('as_A', - d_A * S.x)\n",
      "as_A.set_vel(S, as_A.pos_from(spc).dt(S))\n",
      "\n",
      "### centromere and attachment site A\n",
      "cenB = ch.locatenew('cenB', (l_n + d_0)/2 * S.x)\n",
      "cenB.set_vel(S, cenB.pos_from(spc).dt(S))\n",
      "\n",
      "as_B = cenB.locatenew('as_B', d_B * S.x)\n",
      "as_B.set_vel(S, as_B.pos_from(spc).dt(S))\n",
      "\n",
      "\n",
      "spindle.forcebalance['points'] = [spbR, spbL, ch, cenA, as_A, cenB, as_B]"
     ],
     "language": "python",
     "metadata": {},
     "outputs": [],
     "prompt_number": 9
    },
    {
     "cell_type": "markdown",
     "metadata": {},
     "source": [
      "#### access a relative speed"
     ]
    },
    {
     "cell_type": "code",
     "collapsed": false,
     "input": [
      "v_AR = cenA.pos_from(spbR).dt(S)\n",
      "## uncomment to project along S.x \n",
      "#v_AR = v_AR & S.x\n",
      "v_AR"
     ],
     "language": "python",
     "metadata": {},
     "outputs": [
      {
       "latex": [
        "$$(- \\frac{\\dot{L}}{2} + \\dot{c}_{n} - \\frac{\\dot{l}_{n}}{2})\\mathbf{\\hat{s}_x}$$"
       ],
       "metadata": {},
       "output_type": "pyout",
       "png": "[encoded data removed]",
       "prompt_number": 10,
       "text": [
        "\u239b  L\u0307          l_\u0307n\u239e\n",
        "\u239c- \u2500\u2500 + c_\u0307n - \u2500\u2500\u2500\u2500\u239f\n",
        "\u239d  2            2  \u23a0 s_x"
       ]
      }
     ],
     "prompt_number": 10
    },
    {
     "cell_type": "markdown",
     "metadata": {},
     "source": [
      "## Forces and energies"
     ]
    },
    {
     "cell_type": "markdown",
     "metadata": {},
     "source": [
      "### Viscous drag\n",
      "\n",
      "* Spindle length:\n",
      "$$F^r_s = -\\mu_s \\dot{L}$$\n",
      "\n",
      "* Chromosome:\n",
      "$$F^r_{ch} = -\\mu_{ch} \\dot{c_n}$$\n"
     ]
    },
    {
     "cell_type": "markdown",
     "metadata": {},
     "source": [
      "### Damped springs\n",
      "\n",
      "* Centromere pair\n",
      "$$F^s_c = \\kappa_c l_n - \\mu_c \\dot{l_n}$$\n",
      "\n",
      "* Kinetochore (cenA)\n",
      "$$F^s_k = \\kappa_k d_A - \\mu_k \\dot{d_A}$$\n",
      "Note that all equations are identical for A and B."
     ]
    },
    {
     "cell_type": "code",
     "collapsed": false,
     "input": [
      "class Damped_spring:\n",
      "    \n",
      "    def __init__(self, length, kappa, mu,\n",
      "                 point1, point2, e_F):\n",
      "        \n",
      "        self.length = length\n",
      "        self.F_k = kappa * self.length * e_F\n",
      "        self.F_v = - mu * self.length.diff() * e_F\n",
      "        self.point1 = point1\n",
      "        self.point2 = point2\n",
      "        self.lagrangian = kappa * self.length**2 / 2\n",
      "        \n",
      "    @classmethod\n",
      "    def new(cls, forcebalance, *args, **kwargs):\n",
      "        \n",
      "        spring = Damped_spring(*args, **kwargs)\n",
      "        forcebalance['forces'].extend([(spring.point1, spring.F_v),\n",
      "                                       (spring.point2, -spring.F_v)])\n",
      "        forcebalance['lagrangian'].append(spring.lagrangian)\n",
      "        return spring"
     ],
     "language": "python",
     "metadata": {},
     "outputs": [],
     "prompt_number": 11
    },
    {
     "cell_type": "markdown",
     "metadata": {},
     "source": [
      "### Linear force-velocity relationship\n",
      "\n",
      "#### Definition\n",
      "\n",
      "A linear force velocity relationship is used to model the traction exerted \n",
      "by molecular motors between two objects. To do so, we consider the distance $\\ell$\n",
      "between the two objects as a generalized coordinate; $\\ell$ is a dependant generalized coordinate. The force can be\n",
      "extending ($\\gamma = 1$) or reducing ($\\gamma = -1$) this distance. It depends linearly\n",
      "on the time derivative of $\\ell$. We have:\n",
      "\n",
      "$$ F = F_{max} ( 1 - \\gamma \\frac{\\dot{\\ell}}{V_{max}}) \\mathbf{e}_F $$\n",
      "\n",
      "where $F_{max}$ is the stall force and $V_{max}$ the maximum speed (in the intended regime).\n",
      "\n",
      "In order two work with affine relations between speeds and forces (generalized friction<superscipt>*<superscipt/>), we define\n",
      "the generalized speed $v_g$ such that $v_g = V_{max} - \\gamma \\dot{\\ell}$. Then:\n",
      "\n",
      "$$ F = \\frac{F_{max}}{V_{max}}v_g \\mathbf{e}_F $$\n",
      "\n",
      "\n",
      "\n",
      "\n",
      "<hr/>\n",
      "<superscipt>*<superscipt/> See the discution here:\n",
      "+ https://en.wikipedia.org/wiki/Lagrangian_mechanics#Lagrange_equations_of_the_second_kind\n",
      "+ https://en.wikipedia.org/wiki/Rayleigh_dissipation_function\n",
      "and in more details below."
     ]
    },
    {
     "cell_type": "markdown",
     "metadata": {},
     "source": [
      "### Dependant coordinates\n",
      "\n",
      "For each of the motors, we define the generalized distance and the generalized speed associated."
     ]
    },
    {
     "cell_type": "code",
     "collapsed": false,
     "input": [
      "class Linear_FV():\n",
      "    '''\n",
      "    Linear Force velocity relationship\n",
      "    \n",
      "    In order to use methods such as Lagrange or Kanes, on must\n",
      "    get rid of constant terms in force expressions. This is achieved\n",
      "    through the definition of constrained generalized speeds.\n",
      "    In this class, both the generalized speed and the force vector\n",
      "    are computed.\n",
      "    \n",
      "    Attributes\n",
      "    ----------\n",
      "    \n",
      "    ell : dependant generalized coordinate\n",
      "    v_g : dependant generalized speed\n",
      "    coord_constraint: relation between the generalized coordinate\n",
      "      and the input positions\n",
      "    speed_constraint : relation between the generalized speed\n",
      "      and the input parameters\n",
      "    F : force vector, as a function of the generalized speed and coordinate\n",
      "      \n",
      "    We have\n",
      "    ..math:\n",
      "        F = F_{max} ( 1 - \\gamma \\frac{\\dot{l}}{V_{max}})\n",
      "    and\n",
      "    ..math:\n",
      "        F = \\frac{F_{max} v_g}{V_{max}} \\mathbf{e}_F\n",
      "\n",
      "    '''\n",
      "    \n",
      "    def __init__(self, point1, point2, F_max, \n",
      "                 V_max, gamma, e_F,\n",
      "                 index=None, expo=None):\n",
      "        \n",
      "        '''\n",
      "        point1, point2: points\n",
      "            between which the force is applied.\n",
      "        F_max: symbol,\n",
      "          the stall force\n",
      "        V_max: symbol,\n",
      "         the maximum speed (in intended regime)\n",
      "        gamma: int\n",
      "         if gamma = 1, force tends to extend the distance ell\n",
      "         if gamma = 0, force tends to reduce ell\n",
      "        e_F : unit vector\n",
      "         the unit vector along which the force is applied\n",
      "         (should probably be  in the reference frame used to \n",
      "          compute ld)\n",
      "        '''\n",
      "\n",
      "        self.point1 = point1\n",
      "        self.point2 = point2\n",
      "        \n",
      "        ## generalized coordinate\n",
      "        ell_name = indexer('ell', index, expo)\n",
      "        self.ell = dynamicsymbols(ell_name)\n",
      "        self.elld = dynamicsymbols(ell_name, 1)\n",
      "        ## coordinate constraint\n",
      "        self.coord_constraint  = self.ell - (point1.pos_from(point2) & e_F)\n",
      "        \n",
      "        ## generalized speed\n",
      "        self.v_g = dynamicsymbols(indexer('v_g', index, expo))\n",
      "        ## speed constraint (v_g = V_max - gamma * ld)\n",
      "        self.speed_constraint = self.v_g + gamma * self.elld - V_max # == 0\n",
      "        \n",
      "        ## Force\n",
      "        self.F = (F_max / V_max) * self.v_g * e_F\n",
      "        \n",
      "        self.F_ = self.F.subs(self.v_g, V_max - gamma * self.elld)\n",
      "        \n",
      "    @classmethod\n",
      "    def new(cls, forcebalance, *args, **kwargs):\n",
      "        lfv = cls(*args, **kwargs)\n",
      "        \n",
      "        ## Register\n",
      "        forcebalance['forces'].extend([(lfv.point1, lfv.F),\n",
      "                                        (lfv.point2, - lfv.F)])\n",
      "        \n",
      "        forcebalance['q_dep'].append(lfv.ell)\n",
      "        forcebalance['qd_dep'].append(lfv.v_g)\n",
      "        forcebalance['hol_coneqs'].append(lfv.coord_constraint)\n",
      "        forcebalance['nonhol_coneqs'].append(lfv.speed_constraint)\n",
      "        return lfv\n",
      "        "
     ],
     "language": "python",
     "metadata": {},
     "outputs": [],
     "prompt_number": 25
    },
    {
     "cell_type": "markdown",
     "metadata": {},
     "source": [
      "<hr/>\n",
      "#### Self contained example"
     ]
    },
    {
     "cell_type": "code",
     "collapsed": false,
     "input": [
      "### container\n",
      "forcebalance = defaultdict(list)\n",
      "\n",
      "### coordinates\n",
      "q1, q2 = dynamicsymbols(\"q1, q2\")\n",
      "q1d, q2d = dynamicsymbols(\"q1d, q2d\")\n",
      "\n",
      "N = ReferenceFrame('N')\n",
      "\n",
      "### points\n",
      "O = Point('O')\n",
      "O.set_vel(N, 0)\n",
      "\n",
      "p1 = O.locatenew('p1', q1 * N.x)\n",
      "p1.set_vel(N, q1d * N.x)\n",
      "\n",
      "p2 = O.locatenew('p2', q2 * N.x)\n",
      "p2.set_vel(N, q2d * N.x)\n",
      "\n",
      "## Motor Parameters\n",
      "F_m, V_m = symbols(\"F_m, V_m\")\n",
      "\n",
      "### Add to the container\n",
      "lfv = Linear_FV.new(forcebalance,\n",
      "                    p1, p2, F_m, V_m, gamma=1,\n",
      "                    e_F=N.x, index='o',  expo='ex')\n"
     ],
     "language": "python",
     "metadata": {},
     "outputs": [],
     "prompt_number": 13
    },
    {
     "cell_type": "code",
     "collapsed": false,
     "input": [
      "lfv.coord_constraint,  lfv.speed_constraint"
     ],
     "language": "python",
     "metadata": {},
     "outputs": [
      {
       "latex": [
        "$$\\left ( \\ell^{ex}_{o} - q_{1} + q_{2}, \\quad - V_{m} + v^{ex}_{go} + \\dot{\\ell^{ex}}_{o}\\right )$$"
       ],
       "metadata": {},
       "output_type": "pyout",
       "png": "[encoded data removed]",
       "prompt_number": 14,
       "text": [
        "(ell_o__ex - q\u2081 + q\u2082, -V_m + v_g_o__ex + ell_o\u0307__ex)"
       ]
      }
     ],
     "prompt_number": 14
    },
    {
     "cell_type": "code",
     "collapsed": false,
     "input": [
      "lfv.F"
     ],
     "language": "python",
     "metadata": {},
     "outputs": [
      {
       "latex": [
        "$$\\frac{F_{m} v^{ex}_{go}}{V_{m}}\\mathbf{\\hat{n}_x}$$"
       ],
       "metadata": {},
       "output_type": "pyout",
       "png": "[encoded data removed]",
       "prompt_number": 15,
       "text": [
        "F_m\u22c5v_g_o__ex\n",
        "\u2500\u2500\u2500\u2500\u2500\u2500\u2500\u2500\u2500\u2500\u2500\u2500\u2500\n",
        "     V_m      n_x"
       ]
      }
     ],
     "prompt_number": 15
    },
    {
     "cell_type": "code",
     "collapsed": false,
     "input": [
      "lfv.ell.diff() == lfv.elld"
     ],
     "language": "python",
     "metadata": {},
     "outputs": [
      {
       "metadata": {},
       "output_type": "pyout",
       "prompt_number": 16,
       "text": [
        "True"
       ]
      }
     ],
     "prompt_number": 16
    },
    {
     "cell_type": "markdown",
     "metadata": {},
     "source": [
      "end of the example\n",
      "<hr/>"
     ]
    },
    {
     "cell_type": "markdown",
     "metadata": {},
     "source": [
      "### Application to the spindle"
     ]
    },
    {
     "cell_type": "code",
     "collapsed": false,
     "input": [
      "%pdb"
     ],
     "language": "python",
     "metadata": {},
     "outputs": [
      {
       "output_type": "stream",
       "stream": "stdout",
       "text": [
        "Automatic pdb calling has been turned ON\n"
       ]
      }
     ],
     "prompt_number": 17
    },
    {
     "cell_type": "code",
     "collapsed": false,
     "input": [
      "\n",
      "### only inertial terms in there, no use for us\n",
      "#particles = {point.name: Particle('p{}'.format(point.name), point, 0) # zero mass\n",
      "#             for point in spindle.forcebalance['points']}\n",
      "\n",
      "#particles['ch'].set_potential_energy(kappa_c * l_n**2 / 2)\n",
      "#particles['as_A'].set_potential_energy(kappa_k * d_A**2 / 2)\n",
      "#particles['as_B'].set_potential_energy(kappa_k * d_B**2 / 2)\n",
      "\n",
      "\n",
      "spring_ch = Damped_spring.new(spindle.forcebalance,\n",
      "                              l_n, kappa_c, mu_c, cenA, cenB, S.x)\n",
      "\n",
      "spring_cA = Damped_spring.new(spindle.forcebalance,\n",
      "                              d_A, kappa_k, mu_k, as_A, cenA, S.x)\n",
      "\n",
      "spring_cB = Damped_spring.new(spindle.forcebalance,\n",
      "                              d_B, kappa_k, mu_k, as_B, cenB, S.x)\n",
      "\n",
      "## Frictions\n",
      "Fr_spb = - mu_s * Ld * S.x /2\n",
      "Fr_ch = - mu_ch * c_nd * S.x\n",
      "\n",
      "spindle.forcebalance['forces'].extend([(spbL, -Fr_spb),\n",
      "                                       (spbR, Fr_spb),\n",
      "                                       (ch, Fr_ch)])\n",
      "\n",
      "## Linear force velocity relationships\n",
      "lfv_mz = Linear_FV.new(spindle.forcebalance,\n",
      "                       spbL, spbR,\n",
      "                       F_mz, V_mz,\n",
      "                       1, S.x, index='mz')\n",
      "\n",
      "\n",
      "lfv_ktA = Linear_FV.new(spindle.forcebalance,\n",
      "                        spbL, as_A,\n",
      "                        F_k, V_k,\n",
      "                        -1, -S.x, index='k', expo='A')\n",
      "\n",
      "\n",
      "lfv_ktB = Linear_FV.new(spindle.forcebalance,\n",
      "                        spbR, as_B,\n",
      "                        F_k, V_k,\n",
      "                        -1, S.x, index='k', expo='B')\n",
      "\n",
      "\n",
      "#forcelist = [(spbL, - lfv_mz.F - Fr_spb - lfv_ktA.F),\n",
      "#             (spbR, lfv_mz.F + Fr_spb - lfv_ktB.F),\n",
      "#             (as_A, lfv_ktA.F + Fr_A),\n",
      "#             (as_B, lfv_ktB.F + Fr_B),\n",
      "#             (ch, Fr_ch),# + Fr_ce),\n",
      "#             ]\n",
      "\n"
     ],
     "language": "python",
     "metadata": {},
     "outputs": [],
     "prompt_number": 18
    },
    {
     "cell_type": "code",
     "collapsed": false,
     "input": [
      "for key, val in spindle.forcebalance.items():\n",
      "    print(key, val)\n",
      "    print('\\n')"
     ],
     "language": "python",
     "metadata": {},
     "outputs": [
      {
       "output_type": "stream",
       "stream": "stdout",
       "text": [
        "hol_coneqs [L(t) + ell_mz(t), d_0/2 - L(t)/2 - c_n(t) + d_A(t) + ell_k^A(t) + l_n(t)/2, d_0/2 - L(t)/2 + c_n(t) + d_B(t) + ell_k^B(t) + l_n(t)/2]\n",
        "\n",
        "\n",
        "points [spbR, spbL, ch, cenA, as_A, cenB, as_B]\n",
        "\n",
        "\n",
        "lagrangian [kappa_c*l_n(t)**2/2, kappa_k*d_A(t)**2/2, kappa_k*d_B(t)**2/2]\n",
        "\n",
        "\n",
        "forces [(cenA, - mu_c*l_n'*S.x), (cenB, mu_c*l_n'*S.x), (as_A, - mu_k*d_A'*S.x), (cenA, mu_k*d_A'*S.x), (as_B, - mu_k*d_B'*S.x), (cenB, mu_k*d_B'*S.x), (spbL, mu_s*L'/2*S.x), (spbR, - mu_s*L'/2*S.x), (ch, - mu_ch*c_n'*S.x), (spbL, F_mz*v_g_mz/V_mz*S.x), (spbR, - F_mz*v_g_mz/V_mz*S.x), (spbL, - F_mz*v_g_k^A/V_mz*S.x), (as_A, F_mz*v_g_k^A/V_mz*S.x), (spbR, F_mz*v_g_k^B/V_mz*S.x), (as_B, - F_mz*v_g_k^B/V_mz*S.x)]\n",
        "\n",
        "\n",
        "nonhol_coneqs [-V_mz + v_g_mz(t) + Derivative(ell_mz(t), t), -V_mz + v_g_k^A(t) - Derivative(ell_k^A(t), t), -V_mz + v_g_k^B(t) - Derivative(ell_k^B(t), t)]\n",
        "\n",
        "\n",
        "q_dep [ell_mz(t), ell_k^A(t), ell_k^B(t)]\n",
        "\n",
        "\n",
        "qd_ind [Derivative(L(t), t), Derivative(c_n(t), t), Derivative(l_n(t), t), Derivative(d_A(t), t), Derivative(d_B(t), t)]\n",
        "\n",
        "\n",
        "qd_dep [v_g_mz(t), v_g_k^A(t), v_g_k^B(t)]\n",
        "\n",
        "\n",
        "q_ind [L(t), c_n(t), l_n(t), d_A(t), d_B(t)]\n",
        "\n",
        "\n"
       ]
      }
     ],
     "prompt_number": 19
    },
    {
     "cell_type": "code",
     "collapsed": false,
     "input": [
      "spindle.forcebalance['lagrangian']"
     ],
     "language": "python",
     "metadata": {},
     "outputs": [
      {
       "latex": [
        "$$\\left [ \\frac{\\kappa_{c} l^{2}_{n}}{2}, \\quad \\frac{\\kappa_{k} d^{2}_{A}}{2}, \\quad \\frac{\\kappa_{k} d^{2}_{B}}{2}\\right ]$$"
       ],
       "metadata": {},
       "output_type": "pyout",
       "png": "[encoded data removed]",
       "prompt_number": 20,
       "text": [
        "\u23a1       2         2         2\u23a4\n",
        "\u23a2\u03ba_c\u22c5l_n   \u03ba_k\u22c5d_A   \u03ba_k\u22c5d_B \u23a5\n",
        "\u23a2\u2500\u2500\u2500\u2500\u2500\u2500\u2500\u2500, \u2500\u2500\u2500\u2500\u2500\u2500\u2500\u2500, \u2500\u2500\u2500\u2500\u2500\u2500\u2500\u2500\u23a5\n",
        "\u23a3   2         2         2    \u23a6"
       ]
      }
     ],
     "prompt_number": 20
    },
    {
     "cell_type": "markdown",
     "metadata": {},
     "source": [
      "### Lagrange Method"
     ]
    },
    {
     "cell_type": "code",
     "collapsed": false,
     "input": [
      "spindle.qs, spindle.forcebalance['qd_ind'], spindle.forcebalance['qd_dep']"
     ],
     "language": "python",
     "metadata": {},
     "outputs": [
      {
       "latex": [
        "$$\\left ( \\left [ L, \\quad c_{n}, \\quad l_{n}, \\quad d_{A}, \\quad d_{B}, \\quad \\ell_{mz}, \\quad \\ell^{A}_{k}, \\quad \\ell^{B}_{k}\\right ], \\quad \\left [ \\dot{L}, \\quad \\dot{c}_{n}, \\quad \\dot{l}_{n}, \\quad \\dot{d}_{A}, \\quad \\dot{d}_{B}\\right ], \\quad \\left [ v_{gmz}, \\quad v^{A}_{gk}, \\quad v^{B}_{gk}\\right ]\\right )$$"
       ],
       "metadata": {},
       "output_type": "pyout",
       "png": "[encoded data removed]",
       "prompt_number": 22,
       "text": [
        "([L, c_n, l_n, d_A, d_B, ell_mz, ell_k__A, ell_k__B], [L\u0307, c_\u0307n, l_\u0307n, d_\u0307A, d\n",
        "_\u0307B], [v_g_mz, v_g_k__A, v_g_k__B])"
       ]
      }
     ],
     "prompt_number": 22
    },
    {
     "cell_type": "code",
     "collapsed": false,
     "input": [
      "l_method = LagrangesMethod(spindle.lagrangian, spindle.qs, frame=S,\n",
      "                           forcelist=spindle.forcebalance['forcelist'],\n",
      "                           hol_coneqs=spindle.forcebalance['hol_coneqs'],\n",
      "                           nonhol_coneqs=spindle.forcebalance['nonhol_coneqs'])\n",
      "eoms = l_method.form_lagranges_equations()\n",
      "\n",
      "linearizer = l_method.to_linearizer(q_ind=spindle.forcebalance['q_ind'],\n",
      "                                    q_dep=spindle.forcebalance['q_dep'],\n",
      "                                    qd_ind=spindle.forcebalance['qd_ind'],\n",
      "                                    qd_dep=spindle.forcebalance['qd_dep'])"
     ],
     "language": "python",
     "metadata": {},
     "outputs": [
      {
       "ename": "ValueError",
       "evalue": "Must supply 3 dependent coordinates, and 6 dependent speeds",
       "output_type": "pyerr",
       "traceback": [
        "\u001b[1;31m---------------------------------------------------------------------------\u001b[0m\n\u001b[1;31mValueError\u001b[0m                                Traceback (most recent call last)",
        "\u001b[1;32m<ipython-input-23-e8e01ed38ebd>\u001b[0m in \u001b[0;36m<module>\u001b[1;34m()\u001b[0m\n\u001b[0;32m      8\u001b[0m                                     \u001b[0mq_dep\u001b[0m\u001b[1;33m=\u001b[0m\u001b[0mspindle\u001b[0m\u001b[1;33m.\u001b[0m\u001b[0mforcebalance\u001b[0m\u001b[1;33m[\u001b[0m\u001b[1;34m'q_dep'\u001b[0m\u001b[1;33m]\u001b[0m\u001b[1;33m,\u001b[0m\u001b[1;33m\u001b[0m\u001b[0m\n\u001b[0;32m      9\u001b[0m                                     \u001b[0mqd_ind\u001b[0m\u001b[1;33m=\u001b[0m\u001b[0mspindle\u001b[0m\u001b[1;33m.\u001b[0m\u001b[0mforcebalance\u001b[0m\u001b[1;33m[\u001b[0m\u001b[1;34m'qd_ind'\u001b[0m\u001b[1;33m]\u001b[0m\u001b[1;33m,\u001b[0m\u001b[1;33m\u001b[0m\u001b[0m\n\u001b[1;32m---> 10\u001b[1;33m                                     qd_dep=spindle.forcebalance['qd_dep'])\n\u001b[0m",
        "\u001b[1;32m/home/guillaume/anaconda/envs/python3/lib/python3.4/site-packages/sympy/physics/mechanics/lagrange.py\u001b[0m in \u001b[0;36mto_linearizer\u001b[1;34m(self, q_ind, qd_ind, q_dep, qd_dep)\u001b[0m\n\u001b[0;32m    324\u001b[0m         \u001b[1;32mif\u001b[0m \u001b[0mlen\u001b[0m\u001b[1;33m(\u001b[0m\u001b[0mq_d\u001b[0m\u001b[1;33m)\u001b[0m \u001b[1;33m!=\u001b[0m \u001b[0mlen\u001b[0m\u001b[1;33m(\u001b[0m\u001b[0mf_c\u001b[0m\u001b[1;33m)\u001b[0m \u001b[1;32mor\u001b[0m \u001b[0mlen\u001b[0m\u001b[1;33m(\u001b[0m\u001b[0mu_d\u001b[0m\u001b[1;33m)\u001b[0m \u001b[1;33m!=\u001b[0m \u001b[0mlen\u001b[0m\u001b[1;33m(\u001b[0m\u001b[0mf_v\u001b[0m\u001b[1;33m)\u001b[0m\u001b[1;33m:\u001b[0m\u001b[1;33m\u001b[0m\u001b[0m\n\u001b[0;32m    325\u001b[0m             raise ValueError((\"Must supply {:} dependent coordinates, and \" +\n\u001b[1;32m--> 326\u001b[1;33m                     \"{:} dependent speeds\").format(len(f_c), len(f_v)))\n\u001b[0m\u001b[0;32m    327\u001b[0m         \u001b[1;32mif\u001b[0m \u001b[0mset\u001b[0m\u001b[1;33m(\u001b[0m\u001b[0mMatrix\u001b[0m\u001b[1;33m(\u001b[0m\u001b[1;33m[\u001b[0m\u001b[0mq_i\u001b[0m\u001b[1;33m,\u001b[0m \u001b[0mq_d\u001b[0m\u001b[1;33m]\u001b[0m\u001b[1;33m)\u001b[0m\u001b[1;33m)\u001b[0m \u001b[1;33m!=\u001b[0m \u001b[0mset\u001b[0m\u001b[1;33m(\u001b[0m\u001b[0mq\u001b[0m\u001b[1;33m)\u001b[0m\u001b[1;33m:\u001b[0m\u001b[1;33m\u001b[0m\u001b[0m\n\u001b[0;32m    328\u001b[0m             raise ValueError(\"Must partition q into q_ind and q_dep, with \" +\n",
        "\u001b[1;31mValueError\u001b[0m: Must supply 3 dependent coordinates, and 6 dependent speeds"
       ]
      },
      {
       "output_type": "stream",
       "stream": "stdout",
       "text": [
        "> \u001b[1;32m/home/guillaume/anaconda/envs/python3/lib/python3.4/site-packages/sympy/physics/mechanics/lagrange.py\u001b[0m(326)\u001b[0;36mto_linearizer\u001b[1;34m()\u001b[0m\n",
        "\u001b[1;32m    325 \u001b[1;33m            raise ValueError((\"Must supply {:} dependent coordinates, and \" +\n",
        "\u001b[0m\u001b[1;32m--> 326 \u001b[1;33m                    \"{:} dependent speeds\").format(len(f_c), len(f_v)))\n",
        "\u001b[0m\u001b[1;32m    327 \u001b[1;33m        \u001b[1;32mif\u001b[0m \u001b[0mset\u001b[0m\u001b[1;33m(\u001b[0m\u001b[0mMatrix\u001b[0m\u001b[1;33m(\u001b[0m\u001b[1;33m[\u001b[0m\u001b[0mq_i\u001b[0m\u001b[1;33m,\u001b[0m \u001b[0mq_d\u001b[0m\u001b[1;33m]\u001b[0m\u001b[1;33m)\u001b[0m\u001b[1;33m)\u001b[0m \u001b[1;33m!=\u001b[0m \u001b[0mset\u001b[0m\u001b[1;33m(\u001b[0m\u001b[0mq\u001b[0m\u001b[1;33m)\u001b[0m\u001b[1;33m:\u001b[0m\u001b[1;33m\u001b[0m\u001b[0m\n",
        "\u001b[0m\n"
       ]
      },
      {
       "name": "stdout",
       "output_type": "stream",
       "stream": "stdout",
       "text": [
        "ipdb> c\n"
       ]
      }
     ],
     "prompt_number": 23
    },
    {
     "cell_type": "code",
     "collapsed": false,
     "input": [
      "eoms.simplify()\n",
      "eoms.subs([(V_k, 1), (F_k, 1)])"
     ],
     "language": "python",
     "metadata": {},
     "outputs": []
    },
    {
     "cell_type": "code",
     "collapsed": false,
     "input": [
      "eoms_u = eoms.subs([(V_k, 1), (F_k, 1)])\n",
      "eq_spb = eoms_u[0]\n",
      "eq_spb"
     ],
     "language": "python",
     "metadata": {},
     "outputs": []
    },
    {
     "cell_type": "code",
     "collapsed": false,
     "input": [
      "eoms_u_orig = trans.inv().multiply(eoms_u.subs(to_subs))\n",
      "\n",
      "e_spb = eoms_u_orig[0]\n"
     ],
     "language": "python",
     "metadata": {},
     "outputs": []
    },
    {
     "cell_type": "code",
     "collapsed": false,
     "input": [
      "e_spb.simplify()\n",
      "e_spb"
     ],
     "language": "python",
     "metadata": {},
     "outputs": []
    },
    {
     "cell_type": "code",
     "collapsed": false,
     "input": [
      "eoms_u_orig.jacobian(qds)"
     ],
     "language": "python",
     "metadata": {},
     "outputs": []
    },
    {
     "cell_type": "code",
     "collapsed": false,
     "input": [
      "eoms_u.jacobian(qs).multiply(trans)"
     ],
     "language": "python",
     "metadata": {},
     "outputs": []
    },
    {
     "cell_type": "code",
     "collapsed": false,
     "input": [],
     "language": "python",
     "metadata": {},
     "outputs": []
    },
    {
     "cell_type": "code",
     "collapsed": false,
     "input": [
      "from sympy import diff, jacobian"
     ],
     "language": "python",
     "metadata": {},
     "outputs": []
    },
    {
     "cell_type": "code",
     "collapsed": false,
     "input": [
      "e_spb.simplify()\n"
     ],
     "language": "python",
     "metadata": {},
     "outputs": []
    },
    {
     "cell_type": "markdown",
     "metadata": {},
     "source": [
      "In [sympy's doc on linearization](http://docs.sympy.org/latest/modules/physics/mechanics/linearize.html), the equations are linearized by writing them in the form:\n",
      "$$\n",
      "\\begin{split}\n",
      "M \\begin{bmatrix}\n",
      "    \\delta \\dot{q} \\\\\n",
      "    \\delta \\dot{u} \\\\\n",
      "    \\delta \\lambda \\end{bmatrix} = A \\begin{bmatrix} \\delta q_i \\\\\n",
      "    \\delta u_i\n",
      "    \\end{bmatrix}\n",
      "        + B \\begin{bmatrix} \n",
      "            \\delta r\n",
      "        \\end{bmatrix}\n",
      "\\end{split}\n",
      "$$\n",
      "\n",
      "Problem is, we have constant terms in the linear velocity relationships, so the system of equations won't fit in this scope.\n",
      "\n",
      "\n"
     ]
    },
    {
     "cell_type": "code",
     "collapsed": false,
     "input": [
      "M, A, B = linearizer.linearize(A_and_B=False)"
     ],
     "language": "python",
     "metadata": {},
     "outputs": []
    },
    {
     "cell_type": "code",
     "collapsed": false,
     "input": [
      "linearizer.u"
     ],
     "language": "python",
     "metadata": {},
     "outputs": []
    },
    {
     "cell_type": "code",
     "collapsed": false,
     "input": [
      "M"
     ],
     "language": "python",
     "metadata": {},
     "outputs": []
    },
    {
     "cell_type": "code",
     "collapsed": false,
     "input": [
      "A "
     ],
     "language": "python",
     "metadata": {},
     "outputs": []
    },
    {
     "cell_type": "code",
     "collapsed": false,
     "input": [
      "n = len(qs)\n",
      "A[n:, n:].multiply(trans)"
     ],
     "language": "python",
     "metadata": {},
     "outputs": []
    },
    {
     "cell_type": "code",
     "collapsed": false,
     "input": [
      "prev_B = A[n:, :n].multiply(trans)/2"
     ],
     "language": "python",
     "metadata": {},
     "outputs": []
    },
    {
     "cell_type": "code",
     "collapsed": false,
     "input": [
      "prev_B"
     ],
     "language": "python",
     "metadata": {},
     "outputs": []
    },
    {
     "cell_type": "code",
     "collapsed": false,
     "input": [
      "-A[n:, :n]"
     ],
     "language": "python",
     "metadata": {},
     "outputs": []
    },
    {
     "cell_type": "code",
     "collapsed": false,
     "input": [
      "B"
     ],
     "language": "python",
     "metadata": {},
     "outputs": []
    },
    {
     "cell_type": "code",
     "collapsed": false,
     "input": [],
     "language": "python",
     "metadata": {},
     "outputs": []
    }
   ],
   "metadata": {}
  }
 ]
}
