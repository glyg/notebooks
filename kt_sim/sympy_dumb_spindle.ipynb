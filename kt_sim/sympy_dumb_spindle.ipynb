{
 "cells": [
  {
   "cell_type": "markdown",
   "metadata": {},
   "source": [
    "#### Imports and utilities"
   ]
  },
  {
   "cell_type": "code",
   "execution_count": 2,
   "metadata": {
    "collapsed": false
   },
   "outputs": [],
   "source": [
    "%load_ext autoreload\n",
    "%autoreload 2\n",
    "\n",
    "import sys\n",
    "# change this to suit your path\n",
    "sys.path.append('/home/guillaume/Python/kt_simul/')"
   ]
  },
  {
   "cell_type": "code",
   "execution_count": null,
   "metadata": {
    "collapsed": true
   },
   "outputs": [],
   "source": [
    "\n"
   ]
  },
  {
   "cell_type": "code",
   "execution_count": 3,
   "metadata": {
    "collapsed": false
   },
   "outputs": [],
   "source": [
    "import IPython.display as disp\n",
    "\n",
    "from sympy import symbols, Matrix\n",
    "from sympy import sympify\n",
    "from sympy.physics.mechanics import dynamicsymbols\n",
    "from sympy.physics.mechanics import ReferenceFrame, Point, Particle\n",
    "from sympy.physics.mechanics import LagrangesMethod, Lagrangian, KanesMethod\n",
    "from sympy.physics.mechanics import mechanics_printing\n",
    "mechanics_printing(pretty_print=True) # Shinny\n",
    "\n",
    "from collections import defaultdict\n",
    "from kt_simul.smp_spindle.smp_spindle import SympySpindle\n",
    "from kt_simul.smp_spindle.forces import DampedSpring, LinearFV, ViscousDrag\n",
    "\n",
    "def indexer(name, index=None, expo=None):\n",
    "    '''Small utility to append an index  and\n",
    "    an exponent to the string `name`\n",
    "    '''\n",
    "    if index is not None:\n",
    "        name = name + '_' + index\n",
    "    if expo is not None:\n",
    "        name = name + '^' + expo\n",
    "    return name"
   ]
  },
  {
   "cell_type": "markdown",
   "metadata": {},
   "source": [
    "# A dumb spindle in sympy"
   ]
  },
  {
   "cell_type": "code",
   "execution_count": 4,
   "metadata": {
    "collapsed": false
   },
   "outputs": [],
   "source": [
    "spindle = SympySpindle('Dumb')\n"
   ]
  },
  {
   "cell_type": "markdown",
   "metadata": {},
   "source": [
    "### Model description\n",
    "\n",
    "We're looking at a simple mechanical system\n",
    "\n",
    "![dumb spindle](dumb_spindle.svg)\n",
    "\n",
    "\n",
    "#### Particles and positions\n",
    "\n",
    "_correct for bad order_\n",
    "We have $x_{sL}, x_{sR}, x_{kA}, x_{kB},  x_{cA}, x_{cB}$ the positions of left and right spindle pole bodies, A & B attachment sites (aka the kinetochore), A & B centromeres, respectively.\n",
    "\n",
    "\n",
    "\n"
   ]
  },
  {
   "cell_type": "code",
   "execution_count": 5,
   "metadata": {
    "collapsed": false
   },
   "outputs": [],
   "source": [
    "#### Spindle referential frame coordinates (1D)\n",
    "xs = x_s, x_cA, x_kA, x_cB, x_kB = dynamicsymbols(\"x_s, x_cA, x_kA, x_cB, x_kB\")\n",
    "\n",
    "## Speeds\n",
    "xds = x_sd, x_cAd, x_kAd, x_cBd, x_kBd = dynamicsymbols(\"x_s, x_cA, x_kA, x_cB, x_kB\", 1)"
   ]
  },
  {
   "cell_type": "markdown",
   "metadata": {},
   "source": [
    "\n",
    "## Independant generalized coordinates\n",
    "\n",
    "* $L$ - the spindle length\n",
    "* $c_n$ - position of the chromosome center \n",
    "* $l_n$ - the distance between centromere A and centromere B.\n",
    "  Note that $l_n$ is *corrected for the equilibrium distance* between the centromeres,\n",
    "   such that $l_n = x_A - x_B - d_0$, where $x_0$ is the rest length of the cohesin spring.\n",
    "* $d_A$, $d_B$ - the distance between centromere A and attachment site A (resp. B) \n",
    "\n",
    "Generalized speeds are simply the time derivatives of the above coordinates.\n",
    "\n",
    "\n",
    "We'll describe the dependant coordinates below while defining the forces\n",
    "\n"
   ]
  },
  {
   "cell_type": "code",
   "execution_count": 6,
   "metadata": {
    "collapsed": false
   },
   "outputs": [],
   "source": [
    "### independant generalized coordinates\n",
    "q_ind = L, c_n, l_n, d_A, d_B = dynamicsymbols('L, c_n, l_n, d_A, d_B')\n",
    "### generalized speeds (coordinates derivatives)\n",
    "qd_ind = Ld, c_nd, l_nd, d_Ad, d_Bd = dynamicsymbols('L, c_n, l_n, d_A, d_B', 1)\n",
    "\n",
    "### generalized speed - Kanes formalism\n",
    "u_ind = vL, vc_n, vl_n, vd_A, vd_B = dynamicsymbols('^vL, ^vc_n, ^vl_n, ^vd_A, ^vd_B')\n",
    "\n",
    "\n",
    "### Register in the container\n",
    "spindle.q_ind = q_ind\n",
    "spindle.qd_ind = qd_ind\n",
    "\n",
    "### Kanes method\n",
    "spindle.u_ind = u_ind\n",
    "\n",
    "### Kinematics\n",
    "spindle.kd.extend((qd - u for (qd, u) in\n",
    "                   zip(qd_ind, u_ind)))\n"
   ]
  },
  {
   "cell_type": "code",
   "execution_count": 7,
   "metadata": {
    "collapsed": false
   },
   "outputs": [
    {
     "data": {
      "image/png": "[encoded data removed]",
      "text/latex": [
       "$$\\left [ - ^vL + \\dot{L}, \\quad - ^vc_{n} + \\dot{c}_{n}, \\quad - ^vl_{n} + \\dot{l}_{n}, \\quad - ^vd_{A} + \\dot{d}_{A}, \\quad - ^vd_{B} + \\dot{d}_{B}\\right ]$$"
      ],
      "text/plain": [
       "[-^vL + L̇, -^vc_n + c_̇n, -^vl_n + l_̇n, -^vd_A + d_̇A, -^vd_B + d_̇B]"
      ]
     },
     "execution_count": 7,
     "metadata": {},
     "output_type": "execute_result"
    }
   ],
   "source": [
    "spindle.kd"
   ]
  },
  {
   "cell_type": "markdown",
   "metadata": {},
   "source": [
    "#### Transformation matrix from independant generalized to original coordinates\n",
    "\n",
    "\n",
    "We write matrix T such that $q = Tx$ or $T^{-1}q = x$, which we check below. "
   ]
  },
  {
   "cell_type": "code",
   "execution_count": 8,
   "metadata": {
    "collapsed": false
   },
   "outputs": [
    {
     "data": {
      "image/png": "[encoded data removed]",
      "text/latex": [
       "$$\\left ( \\left[\\begin{matrix}L\\\\c_{n}\\\\l_{n}\\\\d_{A}\\\\d_{B}\\end{matrix}\\right], \\quad \\left[\\begin{matrix}2 & 0 & 0 & 0 & 0\\\\0 & \\frac{1}{2} & 0 & \\frac{1}{2} & 0\\\\0 & -1 & 0 & 1 & 0\\\\0 & 1 & -1 & 0 & 0\\\\0 & 0 & 0 & -1 & 1\\end{matrix}\\right], \\quad \\left[\\begin{matrix}x_{s}\\\\x_{cA}\\\\x_{kA}\\\\x_{cB}\\\\x_{kB}\\end{matrix}\\right], \\quad \\left[\\begin{matrix}x_{s}\\\\x_{cA}\\\\x_{kA}\\\\x_{cB}\\\\x_{kB}\\end{matrix}\\right]\\right )$$"
      ],
      "text/plain": [
       "⎛⎡ L ⎤, ⎡2   0   0    0   0⎤, ⎡x_s ⎤, ⎡x_s ⎤⎞\n",
       "⎜⎢   ⎥  ⎢                  ⎥  ⎢    ⎥  ⎢    ⎥⎟\n",
       "⎜⎢c_n⎥  ⎢0  1/2  0   1/2  0⎥  ⎢x_cA⎥  ⎢x_cA⎥⎟\n",
       "⎜⎢   ⎥  ⎢                  ⎥  ⎢    ⎥  ⎢    ⎥⎟\n",
       "⎜⎢l_n⎥  ⎢0  -1   0    1   0⎥  ⎢x_kA⎥  ⎢x_kA⎥⎟\n",
       "⎜⎢   ⎥  ⎢                  ⎥  ⎢    ⎥  ⎢    ⎥⎟\n",
       "⎜⎢d_A⎥  ⎢0   1   -1   0   0⎥  ⎢x_cB⎥  ⎢x_cB⎥⎟\n",
       "⎜⎢   ⎥  ⎢                  ⎥  ⎢    ⎥  ⎢    ⎥⎟\n",
       "⎝⎣d_B⎦  ⎣0   0   0   -1   1⎦  ⎣x_kB⎦  ⎣x_kB⎦⎠"
      ]
     },
     "execution_count": 8,
     "metadata": {},
     "output_type": "execute_result"
    }
   ],
   "source": [
    "### Substitutions to come back to the original variables (assuming d_0 = 0 for simplicity)\n",
    "to_subs = [(L, 2*x_s),\n",
    "           (c_n, x_cB/2 + x_cA/2),\n",
    "           (l_n, x_cB - x_cA),\n",
    "           (d_A, x_cA - x_kA),\n",
    "           (d_B, x_kB - x_cB)]\n",
    "\n",
    "### Corresponding transition matrix\n",
    "trans = Matrix([[4,  0,  0,  0, 0],\n",
    "                [0,  1,  0,  1, 0],\n",
    "                [0, -2,  0,  2, 0],\n",
    "                [0,  2, -2,  0, 0],\n",
    "                [0,  0,  0, -2, 2]]) / 2\n",
    "\n",
    "### Check we're back on our feets\n",
    "back_transform = trans.inv().multiply(Matrix(q_ind)).subs(to_subs)\n",
    "assert Matrix(xs) == back_transform\n",
    "\n",
    "Matrix(q_ind), trans,  Matrix(xs), back_transform"
   ]
  },
  {
   "cell_type": "markdown",
   "metadata": {},
   "source": [
    "### Parameters"
   ]
  },
  {
   "cell_type": "markdown",
   "metadata": {},
   "source": [
    "#### Dambed springs"
   ]
  },
  {
   "cell_type": "code",
   "execution_count": 9,
   "metadata": {
    "collapsed": false
   },
   "outputs": [],
   "source": [
    "### Chromatin\n",
    "kappa_c, d_0, mu_c = symbols(\"kappa_c, d_0, mu_c\")\n",
    "### Kinetochore - centromere\n",
    "kappa_k, mu_k = symbols(\"kappa_k, mu_k\")"
   ]
  },
  {
   "cell_type": "markdown",
   "metadata": {},
   "source": [
    "#### Viscous drags"
   ]
  },
  {
   "cell_type": "code",
   "execution_count": 10,
   "metadata": {
    "collapsed": false
   },
   "outputs": [],
   "source": [
    "### Chromosomes\n",
    "mu_ch =  symbols(\"mu_ch\")\n",
    "### SPBs\n",
    "mu_s = symbols(\"mu_s\")"
   ]
  },
  {
   "cell_type": "markdown",
   "metadata": {},
   "source": [
    "#### Force velocity"
   ]
  },
  {
   "cell_type": "code",
   "execution_count": 11,
   "metadata": {
    "collapsed": false
   },
   "outputs": [],
   "source": [
    "### Interdigitated microtubules\n",
    "F_mz, V_mz =  symbols(\"F_mz, V_mz\")\n",
    "### kinteochore microtubules\n",
    "F_k, V_k =  symbols(\"F_k, V_k\")"
   ]
  },
  {
   "cell_type": "markdown",
   "metadata": {},
   "source": [
    "## Points and Reference frame\n",
    "\n",
    "* $S$ is a simple 1D reference frame\n",
    "* spc - spindle center - the origin\n",
    "* spb - spindle pole bodies\n",
    "* ch - chromosome centers\n",
    "* cen - centromeres\n",
    "* as - attachment sites\n",
    "\n",
    "Below we define them and set a position and a speed for each"
   ]
  },
  {
   "cell_type": "code",
   "execution_count": 12,
   "metadata": {
    "collapsed": false
   },
   "outputs": [],
   "source": [
    "S = ReferenceFrame('S')\n",
    "spindle.referenceframe = S\n",
    "\n",
    "## spindle center\n",
    "spc = Point('spc')\n",
    "spc.set_vel(S, 0)\n",
    "\n",
    "### Spindle pole bodies\n",
    "spbR = spc.locatenew('spbR', L * S.x / 2)\n",
    "spbR.set_vel(S, vL * S.x / 2)\n",
    "             \n",
    "spbL = spc.locatenew('spbL', -L * S.x / 2)\n",
    "spbL.set_vel(S, -vL * S.x / 2)\n",
    "\n",
    "### Chromosomes\n",
    "ch = spc.locatenew('ch', c_n * S.x)\n",
    "ch.set_vel(S, vc_n * S.x)\n",
    "\n",
    "### centromere and attachment site A\n",
    "cenA = ch.locatenew('cenA', -(l_n + d_0)/2 * S.x)\n",
    "cenA.set_vel(S, ch.vel(S) - vl_n/2 * S.x)\n",
    "\n",
    "as_A = cenA.locatenew('as_A', - d_A * S.x)\n",
    "as_A.set_vel(S, cenA.vel(S) - vd_A * S.x)\n",
    "\n",
    "### centromere and attachment site A\n",
    "cenB = ch.locatenew('cenB', (l_n + d_0)/2 * S.x)\n",
    "cenB.set_vel(S, ch.vel(S) + vl_n/2 * S.x)\n",
    "\n",
    "as_B = cenB.locatenew('as_B', d_B * S.x)\n",
    "as_B.set_vel(S, cenB.vel(S) + vd_B * S.x)\n",
    "\n",
    "\n",
    "spindle.points = [spbR, spbL, ch, cenA, as_A, cenB, as_B]"
   ]
  },
  {
   "cell_type": "markdown",
   "metadata": {},
   "source": [
    "#### access a relative speed"
   ]
  },
  {
   "cell_type": "code",
   "execution_count": 13,
   "metadata": {
    "collapsed": false
   },
   "outputs": [
    {
     "data": {
      "image/png": "[encoded data removed]",
      "text/latex": [
       "$$(- \\frac{\\dot{L}}{2} + \\dot{c}_{n} - \\frac{\\dot{l}_{n}}{2})\\mathbf{\\hat{s}_x}$$"
      ],
      "text/plain": [
       "⎛  L̇          l_̇n⎞\n",
       "⎜- ── + c_̇n - ────⎟\n",
       "⎝  2            2  ⎠ s_x"
      ]
     },
     "execution_count": 13,
     "metadata": {},
     "output_type": "execute_result"
    }
   ],
   "source": [
    "v_AR = cenA.pos_from(spbR).dt(S)\n",
    "## uncomment to project along S.x \n",
    "#v_AR = v_AR & S.x\n",
    "v_AR"
   ]
  },
  {
   "cell_type": "markdown",
   "metadata": {},
   "source": [
    "## Forces and energies"
   ]
  },
  {
   "cell_type": "markdown",
   "metadata": {},
   "source": [
    "### Viscous drag\n",
    "\n",
    "* Spindle length:\n",
    "$$F^r_s = -\\mu_s \\dot{L}$$\n",
    "\n",
    "* Chromosome:\n",
    "$$F^r_{ch} = -\\mu_{ch} \\dot{c_n}$$\n"
   ]
  },
  {
   "cell_type": "markdown",
   "metadata": {},
   "source": [
    "### Damped springs\n",
    "\n",
    "* Centromere pair\n",
    "$$F^s_c = \\kappa_c l_n - \\mu_c \\dot{l_n}$$\n",
    "\n",
    "* Kinetochore (cenA)\n",
    "$$F^s_k = \\kappa_k d_A - \\mu_k \\dot{d_A}$$\n",
    "Note that all equations are identical for A and B.\n",
    "\n",
    "\n",
    "This is implemented in the class DampedSpring"
   ]
  },
  {
   "cell_type": "code",
   "execution_count": 14,
   "metadata": {
    "collapsed": false
   },
   "outputs": [
    {
     "name": "stdout",
     "output_type": "stream",
     "text": [
      "Adds an over-damped spring in `spindle`\n",
      "\n",
      "        Parameters\n",
      "        ----------\n",
      "        spindle: a :class:`kt_simul.SympySpinde` instance\n",
      "        length : dynamicsymbol\n",
      "          the extension of the spring corrected for eq. distance.\n",
      "        lengthd : dynamicsymbol\n",
      "          the damped speed\n",
      "        kappa : Young modulus\n",
      "        mu : friction coefficient\n",
      "        poitn1, point2: extremities of the spring\n",
      "        e_F : unit vector allong the force axis\n",
      "        \n"
     ]
    }
   ],
   "source": [
    "print(DampedSpring.new.__doc__)\n"
   ]
  },
  {
   "cell_type": "markdown",
   "metadata": {},
   "source": [
    "### Linear force-velocity relationship\n",
    "\n",
    "#### Definition\n",
    "\n",
    "A linear force velocity relationship is used to model the traction exerted \n",
    "by molecular motors between two objects. We have:\n",
    "\n",
    "$$ F = F_{max} \\gamma ( 1 -  \\frac{u2 - u1}{V_{max}}) \\mathbf{e}_F $$\n",
    "\n",
    "where $F_{max}$ is the stall force and $V_{max}$ the maximum speed (in the intended regime).\n"
   ]
  },
  {
   "cell_type": "markdown",
   "metadata": {},
   "source": [
    "For each of the motors, we define the generalized distance and the generalized speed associated."
   ]
  },
  {
   "cell_type": "code",
   "execution_count": 15,
   "metadata": {
    "collapsed": false
   },
   "outputs": [
    {
     "name": "stdout",
     "output_type": "stream",
     "text": [
      "\n",
      "    Linear Force velocity relationship\n",
      "    F = F_max(1 - gamma * (u2 - u1)/V_max)e_F\n",
      "\n",
      "        p1      p2\n",
      "          .____.\n",
      "       <--     -->\n",
      "        -F      F gamma = 1\n",
      "\n",
      "        -->   <--\n",
      "        -F      F gamma = -1\n",
      "\n",
      "    Attributes\n",
      "    ----------\n",
      "\n",
      "    F : force vector\n",
      "    v: expression\n",
      "         the relative speed of point2 wrt to point 1\n",
      "\n",
      "    We have\n",
      "    ..math:\n",
      "        F = \\gamma F_{max} ( 1 - \f",
      "rac{v}{V_{max}})\n",
      "\n",
      "    \n"
     ]
    }
   ],
   "source": [
    "print(LinearFV.__doc__)"
   ]
  },
  {
   "cell_type": "markdown",
   "metadata": {},
   "source": [
    "### Application to the spindle"
   ]
  },
  {
   "cell_type": "code",
   "execution_count": 16,
   "metadata": {
    "collapsed": false
   },
   "outputs": [],
   "source": [
    "### reset forces\n",
    "spindle.forces = []\n",
    "\n",
    "spring_ch = DampedSpring.new(spindle, S, cenA, cenB,\n",
    "                             kappa_c, mu_c, d_0, e_F=S.x)\n",
    "\n",
    "spring_cA = DampedSpring.new(spindle, S, as_A, cenA,\n",
    "                             kappa_k, mu_k, 0, e_F=S.x)\n",
    "\n",
    "spring_cB = DampedSpring.new(spindle, S, as_B, cenB,\n",
    "                             kappa_k, mu_k, 0, e_F=-S.x)\n",
    "\n",
    "## Frictions\n",
    "viscous_spbL = ViscousDrag.new(spindle, S, spbL, mu_s)\n",
    "viscous_spbR = ViscousDrag.new(spindle, S, spbR, mu_s)\n",
    "\n",
    "### just to be coherent with the original problem - maybe we can apply those forces to the entire chromosome\n",
    "viscous_cenA = ViscousDrag.new(spindle, S, cenA, mu_ch)\n",
    "viscous_cenB = ViscousDrag.new(spindle, S, cenB, mu_ch)\n",
    "\n",
    "\n",
    "## Linear force velocity relationships\n",
    "\n",
    "## Midzone (expanding)\n",
    "lfv_mz = LinearFV.new(spindle, S,\n",
    "                      spbL, spbR,\n",
    "                      F_mz, V_mz, 1, e_F=S.x)\n",
    "### attachment site A to spbL (retracting)\n",
    "lfv_ktA = LinearFV.new(spindle, S,\n",
    "                       spbL, as_A,\n",
    "                       F_k, V_k, -1, e_F=S.x)\n",
    "\n",
    "### attachment site B to spbR (retracting)\n",
    "lfv_ktB = LinearFV.new(spindle, S,\n",
    "                       spbR, as_B,\n",
    "                       F_k, V_k, -1, e_F=-S.x)\n"
   ]
  },
  {
   "cell_type": "code",
   "execution_count": 17,
   "metadata": {
    "collapsed": false
   },
   "outputs": [
    {
     "data": {
      "image/png": "[encoded data removed]",
      "text/latex": [
       "$$-  F_{k} \\left(-1 - \\frac{1}{V_{k}} \\left(\\frac{^vL}{2} - ^vc_{n} - ^vd_{B} - \\frac{^vl_{n}}{2}\\right)\\right)\\mathbf{\\hat{s}_x}$$"
      ],
      "text/plain": [
       "     ⎛     ^vL                   ^vl_n⎞\n",
       "     ⎜     ─── - ^vc_n - ^vd_B - ─────⎟\n",
       "     ⎜      2                      2  ⎟\n",
       "-F_k⋅⎜-1 - ───────────────────────────⎟\n",
       "     ⎝                 V_k            ⎠ s_x"
      ]
     },
     "execution_count": 17,
     "metadata": {},
     "output_type": "execute_result"
    }
   ],
   "source": [
    "lfv_ktB.F"
   ]
  },
  {
   "cell_type": "code",
   "execution_count": 18,
   "metadata": {
    "collapsed": false
   },
   "outputs": [
    {
     "data": {
      "image/png": "[encoded data removed]",
      "text/latex": [
       "$$-  \\kappa_{c} l_{n}\\mathbf{\\hat{s}_x}$$"
      ],
      "text/plain": [
       "- κ_c⋅l_n s_x"
      ]
     },
     "execution_count": 18,
     "metadata": {},
     "output_type": "execute_result"
    }
   ],
   "source": [
    "spring_ch.F_k"
   ]
  },
  {
   "cell_type": "markdown",
   "metadata": {},
   "source": [
    "### Kanes Method"
   ]
  },
  {
   "cell_type": "code",
   "execution_count": 19,
   "metadata": {
    "collapsed": false
   },
   "outputs": [
    {
     "data": {
      "image/png": "[encoded data removed]",
      "text/latex": [
       "$$\\left ( \\left [ L, \\quad c_{n}, \\quad l_{n}, \\quad d_{A}, \\quad d_{B}\\right ], \\quad \\left [ ^vL, \\quad ^vc_{n}, \\quad ^vl_{n}, \\quad ^vd_{A}, \\quad ^vd_{B}\\right ]\\right )$$"
      ],
      "text/plain": [
       "([L, c_n, l_n, d_A, d_B], [^vL, ^vc_n, ^vl_n, ^vd_A, ^vd_B])"
      ]
     },
     "execution_count": 19,
     "metadata": {},
     "output_type": "execute_result"
    }
   ],
   "source": [
    "spindle.q_ind, spindle.u_ind"
   ]
  },
  {
   "cell_type": "code",
   "execution_count": 20,
   "metadata": {
    "collapsed": false
   },
   "outputs": [
    {
     "data": {
      "image/png": "[encoded data removed]",
      "text/latex": [
       "$$\\left [ - ^vL + \\dot{L}, \\quad - ^vc_{n} + \\dot{c}_{n}, \\quad - ^vl_{n} + \\dot{l}_{n}, \\quad - ^vd_{A} + \\dot{d}_{A}, \\quad - ^vd_{B} + \\dot{d}_{B}\\right ]$$"
      ],
      "text/plain": [
       "[-^vL + L̇, -^vc_n + c_̇n, -^vl_n + l_̇n, -^vd_A + d_̇A, -^vd_B + d_̇B]"
      ]
     },
     "execution_count": 20,
     "metadata": {},
     "output_type": "execute_result"
    }
   ],
   "source": [
    "spindle.kd"
   ]
  },
  {
   "cell_type": "code",
   "execution_count": 21,
   "metadata": {
    "collapsed": false
   },
   "outputs": [
    {
     "data": {
      "text/plain": [
       "[(cenA, kappa_c*l_n*S.x),\n",
       " (cenB, - kappa_c*l_n*S.x),\n",
       " (cenA, mu_c*^vl_n*S.x),\n",
       " (cenB, - mu_c*^vl_n*S.x),\n",
       " (as_A, kappa_k*d_A*S.x),\n",
       " (cenA, - kappa_k*d_A*S.x),\n",
       " (as_A, mu_k*^vd_A*S.x),\n",
       " (cenA, - mu_k*^vd_A*S.x),\n",
       " (as_B, - kappa_k*d_B*S.x),\n",
       " (cenB, kappa_k*d_B*S.x),\n",
       " (as_B, - mu_k*^vd_B*S.x),\n",
       " (cenB, mu_k*^vd_B*S.x),\n",
       " (spbL, mu_s*^vL/2*S.x),\n",
       " (spbR, - mu_s*^vL/2*S.x),\n",
       " (cenA, - mu_ch*(^vc_n - ^vl_n/2)*S.x),\n",
       " (cenB, - mu_ch*(^vc_n + ^vl_n/2)*S.x),\n",
       " (spbL, - F_mz*(1 - ^vL/V_mz)*S.x),\n",
       " (spbR, F_mz*(1 - ^vL/V_mz)*S.x),\n",
       " (spbL, F_k*(1 - (-^vL/2 - ^vc_n + ^vd_A + ^vl_n/2)/V_k)*S.x),\n",
       " (as_A, - F_k*(1 - (-^vL/2 - ^vc_n + ^vd_A + ^vl_n/2)/V_k)*S.x),\n",
       " (spbR, F_k*(-1 - (^vL/2 - ^vc_n - ^vd_B - ^vl_n/2)/V_k)*S.x),\n",
       " (as_B, - F_k*(-1 - (^vL/2 - ^vc_n - ^vd_B - ^vl_n/2)/V_k)*S.x)]"
      ]
     },
     "execution_count": 21,
     "metadata": {},
     "output_type": "execute_result"
    }
   ],
   "source": [
    "spindle.forces"
   ]
  },
  {
   "cell_type": "code",
   "execution_count": 22,
   "metadata": {
    "collapsed": false
   },
   "outputs": [],
   "source": [
    "KM = KanesMethod(S, spindle.q_ind, spindle.u_ind, spindle.kd,)"
   ]
  },
  {
   "cell_type": "code",
   "execution_count": 23,
   "metadata": {
    "collapsed": false
   },
   "outputs": [],
   "source": [
    "particles = [Particle('p{}'.format(point.name), point, 0) # zero mass\n",
    "             for point in set(spindle.points)]\n",
    "\n",
    "(eoms, frstar) = KM.kanes_equations(spindle.forces,\n",
    "                                    particles)"
   ]
  },
  {
   "cell_type": "code",
   "execution_count": 24,
   "metadata": {
    "collapsed": false
   },
   "outputs": [
    {
     "data": {
      "image/png": "[encoded data removed]",
      "text/latex": [
       "$$\\left[\\begin{matrix}\\frac{F_{k}}{2} \\left(-1 - \\frac{1}{V_{k}} \\left(\\frac{\\dot{L}}{2} - \\dot{c}_{n} - \\dot{d}_{B} - \\frac{\\dot{l}_{n}}{2}\\right)\\right) - \\frac{F_{k}}{2} \\left(1 - \\frac{1}{V_{k}} \\left(- \\frac{\\dot{L}}{2} - \\dot{c}_{n} + \\dot{d}_{A} + \\frac{\\dot{l}_{n}}{2}\\right)\\right) + F_{mz} \\left(1 - \\frac{\\dot{L}}{V_{mz}}\\right) - \\frac{\\mu_{s} \\dot{L}}{2}\\\\- F_{k} \\left(-1 - \\frac{1}{V_{k}} \\left(\\frac{\\dot{L}}{2} - \\dot{c}_{n} - \\dot{d}_{B} - \\frac{\\dot{l}_{n}}{2}\\right)\\right) - F_{k} \\left(1 - \\frac{1}{V_{k}} \\left(- \\frac{\\dot{L}}{2} - \\dot{c}_{n} + \\dot{d}_{A} + \\frac{\\dot{l}_{n}}{2}\\right)\\right) - \\mu_{ch} \\left(\\dot{c}_{n} - \\frac{\\dot{l}_{n}}{2}\\right) - \\mu_{ch} \\left(\\dot{c}_{n} + \\frac{\\dot{l}_{n}}{2}\\right)\\\\- \\frac{F_{k}}{2} \\left(-1 - \\frac{1}{V_{k}} \\left(\\frac{\\dot{L}}{2} - \\dot{c}_{n} - \\dot{d}_{B} - \\frac{\\dot{l}_{n}}{2}\\right)\\right) + \\frac{F_{k}}{2} \\left(1 - \\frac{1}{V_{k}} \\left(- \\frac{\\dot{L}}{2} - \\dot{c}_{n} + \\dot{d}_{A} + \\frac{\\dot{l}_{n}}{2}\\right)\\right) - \\kappa_{c} l_{n} - \\mu_{c} \\dot{l}_{n} + \\frac{\\mu_{ch}}{2} \\left(\\dot{c}_{n} - \\frac{\\dot{l}_{n}}{2}\\right) - \\frac{\\mu_{ch}}{2} \\left(\\dot{c}_{n} + \\frac{\\dot{l}_{n}}{2}\\right)\\\\F_{k} \\left(1 - \\frac{1}{V_{k}} \\left(- \\frac{\\dot{L}}{2} - \\dot{c}_{n} + \\dot{d}_{A} + \\frac{\\dot{l}_{n}}{2}\\right)\\right) - \\kappa_{k} d_{A} - \\mu_{k} \\dot{d}_{A}\\\\- F_{k} \\left(-1 - \\frac{1}{V_{k}} \\left(\\frac{\\dot{L}}{2} - \\dot{c}_{n} - \\dot{d}_{B} - \\frac{\\dot{l}_{n}}{2}\\right)\\right) - \\kappa_{k} d_{B} - \\mu_{k} \\dot{d}_{B}\\end{matrix}\\right]$$"
      ],
      "text/plain": [
       "⎡                       ⎛     L̇                 l_̇n⎞       ⎛      L̇        \n",
       "⎢                       ⎜     ── - c_̇n - d_̇B - ────⎟       ⎜    - ── - c_̇n \n",
       "⎢                       ⎜     2                   2  ⎟       ⎜      2         \n",
       "⎢                   F_k⋅⎜-1 - ───────────────────────⎟   F_k⋅⎜1 - ────────────\n",
       "⎢                       ⎝               V_k          ⎠       ⎝               V\n",
       "⎢                   ────────────────────────────────── - ─────────────────────\n",
       "⎢                                   2                                     2   \n",
       "⎢                                                                             \n",
       "⎢                ⎛     L̇                 l_̇n⎞       ⎛      L̇               \n",
       "⎢                ⎜     ── - c_̇n - d_̇B - ────⎟       ⎜    - ── - c_̇n + d_̇A \n",
       "⎢                ⎜     2                   2  ⎟       ⎜      2                \n",
       "⎢          - F_k⋅⎜-1 - ───────────────────────⎟ - F_k⋅⎜1 - ───────────────────\n",
       "⎢                ⎝               V_k          ⎠       ⎝               V_k     \n",
       "⎢                                                                             \n",
       "⎢      ⎛     L̇                 l_̇n⎞       ⎛      L̇                 l_̇n⎞   \n",
       "⎢      ⎜     ── - c_̇n - d_̇B - ────⎟       ⎜    - ── - c_̇n + d_̇A + ────⎟   \n",
       "⎢      ⎜     2                   2  ⎟       ⎜      2                   2  ⎟   \n",
       "⎢  F_k⋅⎜-1 - ───────────────────────⎟   F_k⋅⎜1 - ─────────────────────────⎟   \n",
       "⎢      ⎝               V_k          ⎠       ⎝               V_k           ⎠   \n",
       "⎢- ────────────────────────────────── + ─────────────────────────────────── - \n",
       "⎢                  2                                     2                    \n",
       "⎢                                                                             \n",
       "⎢                                            ⎛      L̇                 l_̇n⎞  \n",
       "⎢                                            ⎜    - ── - c_̇n + d_̇A + ────⎟  \n",
       "⎢                                            ⎜      2                   2  ⎟  \n",
       "⎢                                        F_k⋅⎜1 - ─────────────────────────⎟ -\n",
       "⎢                                            ⎝               V_k           ⎠  \n",
       "⎢                                                                             \n",
       "⎢                                              ⎛     L̇                 l_̇n⎞ \n",
       "⎢                                              ⎜     ── - c_̇n - d_̇B - ────⎟ \n",
       "⎢                                              ⎜     2                   2  ⎟ \n",
       "⎢                                        - F_k⋅⎜-1 - ───────────────────────⎟ \n",
       "⎣                                              ⎝               V_k          ⎠ \n",
       "\n",
       "         l_̇n⎞                                              ⎤\n",
       "+ d_̇A + ────⎟                                              ⎥\n",
       "          2  ⎟                                              ⎥\n",
       "─────────────⎟                                              ⎥\n",
       "_k           ⎠        ⎛     L̇ ⎞   μ_s⋅L̇                   ⎥\n",
       "────────────── + F_mz⋅⎜1 - ────⎟ - ──────                   ⎥\n",
       "                      ⎝    V_mz⎠     2                      ⎥\n",
       "                                                            ⎥\n",
       "  l_̇n⎞                                                     ⎥\n",
       "+ ────⎟                                                     ⎥\n",
       "   2  ⎟        ⎛       l_̇n⎞        ⎛       l_̇n⎞           ⎥\n",
       "──────⎟ - μ_ch⋅⎜c_̇n - ────⎟ - μ_ch⋅⎜c_̇n + ────⎟           ⎥\n",
       "      ⎠        ⎝        2  ⎠        ⎝        2  ⎠           ⎥\n",
       "                                                            ⎥\n",
       "                                                            ⎥\n",
       "                                                            ⎥\n",
       "                          ⎛       l_̇n⎞        ⎛       l_̇n⎞⎥\n",
       "                     μ_ch⋅⎜c_̇n - ────⎟   μ_ch⋅⎜c_̇n + ────⎟⎥\n",
       "                          ⎝        2  ⎠        ⎝        2  ⎠⎥\n",
       "κ_c⋅l_n - μ_c⋅l_̇n + ────────────────── - ──────────────────⎥\n",
       "                             2                    2         ⎥\n",
       "                                                            ⎥\n",
       "                                                            ⎥\n",
       "                                                            ⎥\n",
       "                                                            ⎥\n",
       " κ_k⋅d_A - μ_k⋅d_̇A                                         ⎥\n",
       "                                                            ⎥\n",
       "                                                            ⎥\n",
       "                                                            ⎥\n",
       "                                                            ⎥\n",
       "                                                            ⎥\n",
       "- κ_k⋅d_B - μ_k⋅d_̇B                                        ⎥\n",
       "                                                            ⎦"
      ]
     },
     "execution_count": 24,
     "metadata": {},
     "output_type": "execute_result"
    }
   ],
   "source": [
    "rev_kddict = {v:k for k, v in KM.kindiffdict().items()}\n",
    "eoms.subs(rev_kddict)"
   ]
  },
  {
   "cell_type": "code",
   "execution_count": 25,
   "metadata": {
    "collapsed": false
   },
   "outputs": [
    {
     "data": {
      "image/png": "[encoded data removed]",
      "text/latex": [
       "$$\\left[\\begin{matrix}\\frac{F_{k}}{2} \\left(-1 - \\frac{1}{V_{k}} \\left(\\frac{^vL}{2} - ^vc_{n} - ^vd_{B} - \\frac{^vl_{n}}{2}\\right)\\right) - \\frac{F_{k}}{2} \\left(1 - \\frac{1}{V_{k}} \\left(- \\frac{^vL}{2} - ^vc_{n} + ^vd_{A} + \\frac{^vl_{n}}{2}\\right)\\right) + F_{mz} \\left(1 - \\frac{^vL}{V_{mz}}\\right) - \\frac{\\mu_{s} ^vL}{2}\\\\- F_{k} \\left(-1 - \\frac{1}{V_{k}} \\left(\\frac{^vL}{2} - ^vc_{n} - ^vd_{B} - \\frac{^vl_{n}}{2}\\right)\\right) - F_{k} \\left(1 - \\frac{1}{V_{k}} \\left(- \\frac{^vL}{2} - ^vc_{n} + ^vd_{A} + \\frac{^vl_{n}}{2}\\right)\\right) - \\mu_{ch} \\left(^vc_{n} - \\frac{^vl_{n}}{2}\\right) - \\mu_{ch} \\left(^vc_{n} + \\frac{^vl_{n}}{2}\\right)\\\\- \\frac{F_{k}}{2} \\left(-1 - \\frac{1}{V_{k}} \\left(\\frac{^vL}{2} - ^vc_{n} - ^vd_{B} - \\frac{^vl_{n}}{2}\\right)\\right) + \\frac{F_{k}}{2} \\left(1 - \\frac{1}{V_{k}} \\left(- \\frac{^vL}{2} - ^vc_{n} + ^vd_{A} + \\frac{^vl_{n}}{2}\\right)\\right) - \\kappa_{c} l_{n} - \\mu_{c} ^vl_{n} + \\frac{\\mu_{ch}}{2} \\left(^vc_{n} - \\frac{^vl_{n}}{2}\\right) - \\frac{\\mu_{ch}}{2} \\left(^vc_{n} + \\frac{^vl_{n}}{2}\\right)\\\\F_{k} \\left(1 - \\frac{1}{V_{k}} \\left(- \\frac{^vL}{2} - ^vc_{n} + ^vd_{A} + \\frac{^vl_{n}}{2}\\right)\\right) - \\kappa_{k} d_{A} - \\mu_{k} ^vd_{A}\\\\- F_{k} \\left(-1 - \\frac{1}{V_{k}} \\left(\\frac{^vL}{2} - ^vc_{n} - ^vd_{B} - \\frac{^vl_{n}}{2}\\right)\\right) - \\kappa_{k} d_{B} - \\mu_{k} ^vd_{B}\\end{matrix}\\right]$$"
      ],
      "text/plain": [
       "⎡                         ⎛     ^vL                   ^vl_n⎞       ⎛      ^vL \n",
       "⎢                         ⎜     ─── - ^vc_n - ^vd_B - ─────⎟       ⎜    - ─── \n",
       "⎢                         ⎜      2                      2  ⎟       ⎜       2  \n",
       "⎢                     F_k⋅⎜-1 - ───────────────────────────⎟   F_k⋅⎜1 - ──────\n",
       "⎢                         ⎝                 V_k            ⎠       ⎝          \n",
       "⎢                     ────────────────────────────────────── - ───────────────\n",
       "⎢                                       2                                     \n",
       "⎢                                                                             \n",
       "⎢                 ⎛     ^vL                   ^vl_n⎞       ⎛      ^vL         \n",
       "⎢                 ⎜     ─── - ^vc_n - ^vd_B - ─────⎟       ⎜    - ─── - ^vc_n \n",
       "⎢                 ⎜      2                      2  ⎟       ⎜       2          \n",
       "⎢           - F_k⋅⎜-1 - ───────────────────────────⎟ - F_k⋅⎜1 - ──────────────\n",
       "⎢                 ⎝                 V_k            ⎠       ⎝                 V\n",
       "⎢                                                                             \n",
       "⎢      ⎛     ^vL                   ^vl_n⎞       ⎛      ^vL                   ^\n",
       "⎢      ⎜     ─── - ^vc_n - ^vd_B - ─────⎟       ⎜    - ─── - ^vc_n + ^vd_A + ─\n",
       "⎢      ⎜      2                      2  ⎟       ⎜       2                     \n",
       "⎢  F_k⋅⎜-1 - ───────────────────────────⎟   F_k⋅⎜1 - ─────────────────────────\n",
       "⎢      ⎝                 V_k            ⎠       ⎝                 V_k         \n",
       "⎢- ────────────────────────────────────── + ──────────────────────────────────\n",
       "⎢                    2                                         2              \n",
       "⎢                                                                             \n",
       "⎢                                                ⎛      ^vL                   \n",
       "⎢                                                ⎜    - ─── - ^vc_n + ^vd_A + \n",
       "⎢                                                ⎜       2                    \n",
       "⎢                                            F_k⋅⎜1 - ────────────────────────\n",
       "⎢                                                ⎝                 V_k        \n",
       "⎢                                                                             \n",
       "⎢                                                  ⎛     ^vL                  \n",
       "⎢                                                  ⎜     ─── - ^vc_n - ^vd_B -\n",
       "⎢                                                  ⎜      2                   \n",
       "⎢                                            - F_k⋅⎜-1 - ─────────────────────\n",
       "⎣                                                  ⎝                 V_k      \n",
       "\n",
       "                  ^vl_n⎞                                                 ⎤\n",
       "- ^vc_n + ^vd_A + ─────⎟                                                 ⎥\n",
       "                    2  ⎟                                                 ⎥\n",
       "───────────────────────⎟                                                 ⎥\n",
       "       V_k             ⎠        ⎛    ^vL ⎞   μ_s⋅^vL                     ⎥\n",
       "──────────────────────── + F_mz⋅⎜1 - ────⎟ - ───────                     ⎥\n",
       "    2                           ⎝    V_mz⎠      2                        ⎥\n",
       "                                                                         ⎥\n",
       "          ^vl_n⎞                                                         ⎥\n",
       "+ ^vd_A + ─────⎟                                                         ⎥\n",
       "            2  ⎟        ⎛        ^vl_n⎞        ⎛        ^vl_n⎞           ⎥\n",
       "───────────────⎟ - μ_ch⋅⎜^vc_n - ─────⎟ - μ_ch⋅⎜^vc_n + ─────⎟           ⎥\n",
       "_k             ⎠        ⎝          2  ⎠        ⎝          2  ⎠           ⎥\n",
       "                                                                         ⎥\n",
       "vl_n⎞                                                                    ⎥\n",
       "────⎟                                                                    ⎥\n",
       " 2  ⎟                              ⎛        ^vl_n⎞        ⎛        ^vl_n⎞⎥\n",
       "────⎟                         μ_ch⋅⎜^vc_n - ─────⎟   μ_ch⋅⎜^vc_n + ─────⎟⎥\n",
       "    ⎠                              ⎝          2  ⎠        ⎝          2  ⎠⎥\n",
       "───── - κ_c⋅l_n - μ_c⋅^vl_n + ──────────────────── - ────────────────────⎥\n",
       "                                       2                      2          ⎥\n",
       "                                                                         ⎥\n",
       "^vl_n⎞                                                                   ⎥\n",
       "─────⎟                                                                   ⎥\n",
       "  2  ⎟                                                                   ⎥\n",
       "─────⎟ - κ_k⋅d_A - μ_k⋅^vd_A                                             ⎥\n",
       "     ⎠                                                                   ⎥\n",
       "                                                                         ⎥\n",
       " ^vl_n⎞                                                                  ⎥\n",
       " ─────⎟                                                                  ⎥\n",
       "   2  ⎟                                                                  ⎥\n",
       "──────⎟ - κ_k⋅d_B - μ_k⋅^vd_B                                            ⎥\n",
       "      ⎠                                                                  ⎦"
      ]
     },
     "execution_count": 25,
     "metadata": {},
     "output_type": "execute_result"
    }
   ],
   "source": [
    "eoms"
   ]
  },
  {
   "cell_type": "code",
   "execution_count": 26,
   "metadata": {
    "collapsed": false
   },
   "outputs": [],
   "source": [
    "A_uu = eoms.jacobian(Matrix(spindle.u_ind))"
   ]
  },
  {
   "cell_type": "code",
   "execution_count": 27,
   "metadata": {
    "collapsed": false
   },
   "outputs": [
    {
     "data": {
      "image/png": "[encoded data removed]",
      "text/latex": [
       "$$\\left[\\begin{matrix}- \\frac{F_{mz}}{V_{mz}} - \\frac{\\mu_{s}}{2} - \\frac{1}{2} & 0 & \\frac{1}{2} & \\frac{1}{2} & \\frac{1}{2}\\\\0 & - 2 \\mu_{ch} - 2 & 0 & 1 & -1\\\\\\frac{1}{2} & 0 & - \\mu_{c} - \\frac{\\mu_{ch}}{2} - \\frac{1}{2} & - \\frac{1}{2} & - \\frac{1}{2}\\\\\\frac{1}{2} & 1 & - \\frac{1}{2} & - \\mu_{k} - 1 & 0\\\\\\frac{1}{2} & -1 & - \\frac{1}{2} & 0 & - \\mu_{k} - 1\\end{matrix}\\right]$$"
      ],
      "text/plain": [
       "⎡  F_mz   μ_s   1                                                  ⎤\n",
       "⎢- ──── - ─── - ─       0             1/2          1/2       1/2   ⎥\n",
       "⎢  V_mz    2    2                                                  ⎥\n",
       "⎢                                                                  ⎥\n",
       "⎢       0          -2⋅μ_ch - 2         0            1         -1   ⎥\n",
       "⎢                                                                  ⎥\n",
       "⎢                                      μ_ch   1                    ⎥\n",
       "⎢      1/2              0       -μ_c - ──── - ─    -1/2      -1/2  ⎥\n",
       "⎢                                       2     2                    ⎥\n",
       "⎢                                                                  ⎥\n",
       "⎢      1/2              1            -1/2        -μ_k - 1     0    ⎥\n",
       "⎢                                                                  ⎥\n",
       "⎣      1/2             -1            -1/2           0      -μ_k - 1⎦"
      ]
     },
     "execution_count": 27,
     "metadata": {},
     "output_type": "execute_result"
    }
   ],
   "source": [
    "A_uu.subs({F_k:1, V_k:1})"
   ]
  },
  {
   "cell_type": "code",
   "execution_count": 28,
   "metadata": {
    "collapsed": false
   },
   "outputs": [],
   "source": [
    "A_vv = trans.T.multiply(A_uu.multiply(trans))"
   ]
  },
  {
   "cell_type": "code",
   "execution_count": 29,
   "metadata": {
    "collapsed": false
   },
   "outputs": [
    {
     "data": {
      "image/png": "[encoded data removed]",
      "text/latex": [
       "$$\\left[\\begin{matrix}- \\frac{2 F_{k}}{V_{k}} - \\frac{4 F_{mz}}{V_{mz}} - 2 \\mu_{s} & 0 & - \\frac{F_{k}}{V_{k}} & 0 & \\frac{F_{k}}{V_{k}}\\\\0 & - \\mu_{c} - \\mu_{ch} - \\mu_{k} & \\mu_{k} & \\mu_{c} & 0\\\\- \\frac{F_{k}}{V_{k}} & \\mu_{k} & - \\frac{F_{k}}{V_{k}} - \\mu_{k} & 0 & 0\\\\0 & \\mu_{c} & 0 & - \\mu_{c} - \\mu_{ch} - \\mu_{k} & \\mu_{k}\\\\\\frac{F_{k}}{V_{k}} & 0 & 0 & \\mu_{k} & - \\frac{F_{k}}{V_{k}} - \\mu_{k}\\end{matrix}\\right]$$"
      ],
      "text/plain": [
       "⎡  2⋅F_k   4⋅F_mz                                -F_k                         \n",
       "⎢- ───── - ────── - 2⋅μ_s          0             ─────             0          \n",
       "⎢   V_k     V_mz                                  V_k                         \n",
       "⎢                                                                             \n",
       "⎢           0              -μ_c - μ_ch - μ_k      μ_k             μ_c         \n",
       "⎢                                                                             \n",
       "⎢         -F_k                                  F_k                           \n",
       "⎢         ─────                   μ_k         - ─── - μ_k          0          \n",
       "⎢          V_k                                  V_k                           \n",
       "⎢                                                                             \n",
       "⎢           0                     μ_c              0       -μ_c - μ_ch - μ_k  \n",
       "⎢                                                                             \n",
       "⎢          F_k                                                                \n",
       "⎢          ───                     0               0              μ_k         \n",
       "⎣          V_k                                                                \n",
       "\n",
       "    F_k    ⎤\n",
       "    ───    ⎥\n",
       "    V_k    ⎥\n",
       "           ⎥\n",
       "     0     ⎥\n",
       "           ⎥\n",
       "           ⎥\n",
       "     0     ⎥\n",
       "           ⎥\n",
       "           ⎥\n",
       "    μ_k    ⎥\n",
       "           ⎥\n",
       "  F_k      ⎥\n",
       "- ─── - μ_k⎥\n",
       "  V_k      ⎦"
      ]
     },
     "execution_count": 29,
     "metadata": {},
     "output_type": "execute_result"
    }
   ],
   "source": [
    "A_vv"
   ]
  },
  {
   "cell_type": "code",
   "execution_count": 30,
   "metadata": {
    "collapsed": false
   },
   "outputs": [],
   "source": [
    "B_qq = eoms.jacobian(Matrix(spindle.q_ind))"
   ]
  },
  {
   "cell_type": "code",
   "execution_count": 31,
   "metadata": {
    "collapsed": false
   },
   "outputs": [],
   "source": [
    "B_xx = trans.T.multiply(B_qq.multiply(trans))\n"
   ]
  },
  {
   "cell_type": "code",
   "execution_count": 32,
   "metadata": {
    "collapsed": false
   },
   "outputs": [
    {
     "data": {
      "image/png": "[encoded data removed]",
      "text/latex": [
       "$$\\left[\\begin{matrix}0 & 0 & 0 & 0 & 0\\\\0 & - \\kappa_{c} - \\kappa_{k} & \\kappa_{k} & \\kappa_{c} & 0\\\\0 & \\kappa_{k} & - \\kappa_{k} & 0 & 0\\\\0 & \\kappa_{c} & 0 & - \\kappa_{c} - \\kappa_{k} & \\kappa_{k}\\\\0 & 0 & 0 & \\kappa_{k} & - \\kappa_{k}\\end{matrix}\\right]$$"
      ],
      "text/plain": [
       "⎡0      0        0        0        0  ⎤\n",
       "⎢                                     ⎥\n",
       "⎢0  -κ_c - κ_k  κ_k      κ_c       0  ⎥\n",
       "⎢                                     ⎥\n",
       "⎢0     κ_k      -κ_k      0        0  ⎥\n",
       "⎢                                     ⎥\n",
       "⎢0     κ_c       0    -κ_c - κ_k  κ_k ⎥\n",
       "⎢                                     ⎥\n",
       "⎣0      0        0       κ_k      -κ_k⎦"
      ]
     },
     "execution_count": 32,
     "metadata": {},
     "output_type": "execute_result"
    }
   ],
   "source": [
    "B_xx"
   ]
  },
  {
   "cell_type": "code",
   "execution_count": 33,
   "metadata": {
    "collapsed": false
   },
   "outputs": [],
   "source": [
    "u_zero = {u:0 for u in spindle.u_ind}\n",
    "q_zero = {q:0 for q in spindle.q_ind}\n",
    "C = eoms.subs(u_zero).subs(q_zero)\n"
   ]
  },
  {
   "cell_type": "code",
   "execution_count": 34,
   "metadata": {
    "collapsed": false
   },
   "outputs": [
    {
     "data": {
      "image/png": "[encoded data removed]",
      "text/latex": [
       "$$\\dot{L}$$"
      ],
      "text/plain": [
       "L̇"
      ]
     },
     "execution_count": 34,
     "metadata": {},
     "output_type": "execute_result"
    }
   ],
   "source": [
    "L.diff()"
   ]
  },
  {
   "cell_type": "code",
   "execution_count": 35,
   "metadata": {
    "collapsed": false
   },
   "outputs": [
    {
     "data": {
      "image/png": "[encoded data removed]",
      "text/latex": [
       "$$\\left[\\begin{matrix}0 & 0 & 0 & 0 & 0\\\\0 & 0 & 0 & 0 & 0\\\\0 & 0 & - \\kappa_{c} & 0 & 0\\\\0 & 0 & 0 & - \\kappa_{k} & 0\\\\0 & 0 & 0 & 0 & - \\kappa_{k}\\end{matrix}\\right]$$"
      ],
      "text/plain": [
       "⎡0  0   0     0     0  ⎤\n",
       "⎢                      ⎥\n",
       "⎢0  0   0     0     0  ⎥\n",
       "⎢                      ⎥\n",
       "⎢0  0  -κ_c   0     0  ⎥\n",
       "⎢                      ⎥\n",
       "⎢0  0   0    -κ_k   0  ⎥\n",
       "⎢                      ⎥\n",
       "⎣0  0   0     0    -κ_k⎦"
      ]
     },
     "execution_count": 35,
     "metadata": {},
     "output_type": "execute_result"
    }
   ],
   "source": [
    "B_qq"
   ]
  },
  {
   "cell_type": "code",
   "execution_count": 36,
   "metadata": {
    "collapsed": false
   },
   "outputs": [
    {
     "data": {
      "image/png": "[encoded data removed]",
      "text/latex": [
       "$$\\left[\\begin{matrix}- F_{k} + F_{mz}\\\\0\\\\F_{k}\\\\F_{k}\\\\F_{k}\\end{matrix}\\right]$$"
      ],
      "text/plain": [
       "⎡-F_k + F_mz⎤\n",
       "⎢           ⎥\n",
       "⎢     0     ⎥\n",
       "⎢           ⎥\n",
       "⎢    F_k    ⎥\n",
       "⎢           ⎥\n",
       "⎢    F_k    ⎥\n",
       "⎢           ⎥\n",
       "⎣    F_k    ⎦"
      ]
     },
     "execution_count": 36,
     "metadata": {},
     "output_type": "execute_result"
    }
   ],
   "source": [
    "C"
   ]
  },
  {
   "cell_type": "code",
   "execution_count": 37,
   "metadata": {
    "collapsed": false
   },
   "outputs": [],
   "source": [
    "from sympy import solve"
   ]
  },
  {
   "cell_type": "code",
   "execution_count": 38,
   "metadata": {
    "collapsed": false
   },
   "outputs": [],
   "source": [
    "sol = solve(eoms.subs({F_k:1, V_k:1}), spindle.u_ind) "
   ]
  },
  {
   "cell_type": "code",
   "execution_count": null,
   "metadata": {
    "collapsed": false
   },
   "outputs": [],
   "source": []
  },
  {
   "cell_type": "code",
   "execution_count": 39,
   "metadata": {
    "collapsed": false
   },
   "outputs": [],
   "source": [
    "from sympy import lambdify"
   ]
  },
  {
   "cell_type": "code",
   "execution_count": 40,
   "metadata": {
    "collapsed": false
   },
   "outputs": [],
   "source": [
    "A_args = [F_mz, V_mz, F_k, V_k, mu_s, mu_c, mu_ch, mu_k]"
   ]
  },
  {
   "cell_type": "code",
   "execution_count": 41,
   "metadata": {
    "collapsed": false
   },
   "outputs": [
    {
     "data": {
      "image/png": "[encoded data removed]",
      "text/latex": [
       "$$F_{mz}$$"
      ],
      "text/plain": [
       "F_mz"
      ]
     },
     "execution_count": 41,
     "metadata": {},
     "output_type": "execute_result"
    }
   ],
   "source": [
    "F_mz"
   ]
  },
  {
   "cell_type": "code",
   "execution_count": 42,
   "metadata": {
    "collapsed": false
   },
   "outputs": [],
   "source": [
    "A_np = lambdify(A_args, A_uu, modules=\"numpy\", dummify=False)"
   ]
  },
  {
   "cell_type": "code",
   "execution_count": 43,
   "metadata": {
    "collapsed": true
   },
   "outputs": [],
   "source": [
    "A_np?"
   ]
  },
  {
   "cell_type": "code",
   "execution_count": 51,
   "metadata": {
    "collapsed": false
   },
   "outputs": [],
   "source": [
    "\n",
    "Anp = A_np(1, 2, 3, 4, 5, 6, 7, 8)"
   ]
  },
  {
   "cell_type": "code",
   "execution_count": null,
   "metadata": {
    "collapsed": false
   },
   "outputs": [],
   "source": []
  }
 ],
 "metadata": {
  "kernelspec": {
   "display_name": "Python 3",
   "language": "python",
   "name": "python3"
  },
  "language_info": {
   "codemirror_mode": {
    "name": "ipython",
    "version": 3
   },
   "file_extension": ".py",
   "mimetype": "text/x-python",
   "name": "python",
   "nbconvert_exporter": "python",
   "pygments_lexer": "ipython3",
   "version": "3.4.3"
  }
 },
 "nbformat": 4,
 "nbformat_minor": 0
}
