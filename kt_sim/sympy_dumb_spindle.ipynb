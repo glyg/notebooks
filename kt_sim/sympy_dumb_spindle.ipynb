{
 "metadata": {
  "name": "",
  "signature": "sha256:608a065fec58db2e2bc438ebb0f1f6976313878bb8031f9d118c6ec9beef018c"
 },
 "nbformat": 3,
 "nbformat_minor": 0,
 "worksheets": [
  {
   "cells": [
    {
     "cell_type": "markdown",
     "metadata": {},
     "source": [
      "#### Imports and utilities"
     ]
    },
    {
     "cell_type": "code",
     "collapsed": false,
     "input": [
      "import IPython.display as disp\n",
      "\n",
      "from sympy import symbols, Matrix\n",
      "from sympy.physics.mechanics import dynamicsymbols\n",
      "from sympy.physics.mechanics import ReferenceFrame, Point, Particle\n",
      "from sympy.physics.mechanics import LagrangesMethod, Lagrangian\n",
      "\n",
      "from sympy.physics.mechanics import mechanics_printing\n",
      "mechanics_printing(pretty_print=True) # Shinny\n",
      "\n",
      "\n",
      "def indexer(name, index=None, expo=None):\n",
      "    '''Small utility to append an index  and\n",
      "    an exponent to the string `name`\n",
      "    '''\n",
      "    if index is not None:\n",
      "        name = name + '_' + index\n",
      "    if expo is not None:\n",
      "        name = name + '^' + expo\n",
      "    return name"
     ],
     "language": "python",
     "metadata": {},
     "outputs": [],
     "prompt_number": 1
    },
    {
     "cell_type": "heading",
     "level": 1,
     "metadata": {},
     "source": [
      "A dumb spindle in sympy"
     ]
    },
    {
     "cell_type": "markdown",
     "metadata": {},
     "source": [
      "### Model description\n",
      "\n",
      "We're looking at a simple mechanical system\n",
      "\n",
      "![dumb spindle](dumb_spindle.svg)\n",
      "\n",
      "\n"
     ]
    },
    {
     "cell_type": "markdown",
     "metadata": {},
     "source": [
      "## Particles and positions\n",
      "\n",
      "We have $x_sL, x_sR, x_kA, x_kB,  x_cA, x_cB$ \n",
      "\n",
      "\n",
      "## Generalized coordinates\n",
      "\n",
      "* $L$ - the spindle length\n",
      "* $c_n$ - position of the chromosome center \n",
      "* $l_n$ - the distance between centromere A and centromere B.\n",
      "  Note that $l_n$ is *corrected for the equilibrium distance* between the centromeres,\n",
      "   such that $l_n = x_A - x_B - d_0$, where $x_0$ is the rest length of the cohesin spring.\n",
      "* $d_A$, $d_B$ - the distance between centromere A and attachment site A (resp. B) \n",
      "  \n",
      "Generalized speeds are simply the time derivatives of the above coordinates.\n",
      "\n",
      "\n",
      "\n"
     ]
    },
    {
     "cell_type": "code",
     "collapsed": false,
     "input": [
      "#### Original coordinates\n",
      "x_kA, x_kB, x_s, x_cA, x_cB = dynamicsymbols(\"x_kA, x_kB, x_s, x_cA, x_cB\")\n",
      "x_kAd, x_kBd, x_sd, x_cAd, x_cBd = dynamicsymbols(\"x_kA, x_kB, x_s, x_cA, x_cB\", 1)\n",
      "\n",
      "\n",
      "### Substitutions to come back to the original variables (assuming d_0 = 0 for simplicity)\n",
      "\n",
      "to_subs = [(L, 2*x_s),\n",
      "           (c_n, x_cB/2 + x_cA/2),\n",
      "           (l_n, x_cB - x_cA),\n",
      "           (d_A, x_cA - x_kA),\n",
      "           (d_B, x_kB - x_cB)]\n",
      "\n",
      "### Corresponding transition matrix (muliplied by 2 to avoid fractions)\n",
      "trans = Matrix([[4,  0,  0,  0, 0],\n",
      "                [0,  1,  0,  1, 0],\n",
      "                [0, -2,  0,  2, 0],\n",
      "                [0,  2, -2,  0, 0],\n",
      "                [0,  0,  0, -2, 2]])\n",
      "\n",
      "### Check we're back on our feets\n",
      "trans.inv().multiply(state_v).subs(to_subs) * 2"
     ],
     "language": "python",
     "metadata": {},
     "outputs": [
      {
       "latex": [
        "$$\\left[\\begin{matrix}x_{s}\\\\x_{cA}\\\\x_{kA}\\\\x_{cB}\\\\x_{kB}\\end{matrix}\\right]$$"
       ],
       "metadata": {},
       "output_type": "pyout",
       "png": "[encoded data removed]",
       "prompt_number": 134,
       "text": [
        "\u23a1x_s \u23a4\n",
        "\u23a2    \u23a5\n",
        "\u23a2x_cA\u23a5\n",
        "\u23a2    \u23a5\n",
        "\u23a2x_kA\u23a5\n",
        "\u23a2    \u23a5\n",
        "\u23a2x_cB\u23a5\n",
        "\u23a2    \u23a5\n",
        "\u23a3x_kB\u23a6"
       ]
      }
     ],
     "prompt_number": 134
    },
    {
     "cell_type": "code",
     "collapsed": false,
     "input": [
      "### generalized coordinates\n",
      "qs = L, c_n, l_n, d_A, d_B = dynamicsymbols('L, c_n, l_n, d_A, d_B')\n",
      "### State vector\n",
      "state_v = Matrix(list(qs))\n",
      "\n",
      "### generalized speeds\n",
      "qds = Ld, c_nd, l_nd, d_Ad, d_Bd = dynamicsymbols('L, c_n, l_n, d_A, d_B', 1)\n",
      "\n"
     ],
     "language": "python",
     "metadata": {},
     "outputs": [],
     "prompt_number": 3
    },
    {
     "cell_type": "markdown",
     "metadata": {},
     "source": [
      "### Parameters"
     ]
    },
    {
     "cell_type": "markdown",
     "metadata": {},
     "source": [
      "#### Dambed springs"
     ]
    },
    {
     "cell_type": "code",
     "collapsed": false,
     "input": [
      "### Chromatin\n",
      "kappa_c, d_0, mu_c = symbols(\"kappa_c, d_0, mu_c\")\n",
      "### Kinetochore - centromere\n",
      "kappa_k, mu_k = symbols(\"kappa_k, mu_k\")"
     ],
     "language": "python",
     "metadata": {},
     "outputs": [],
     "prompt_number": 85
    },
    {
     "cell_type": "markdown",
     "metadata": {},
     "source": [
      "#### Viscous drags"
     ]
    },
    {
     "cell_type": "code",
     "collapsed": false,
     "input": [
      "### Chromosomes\n",
      "mu_ch =  symbols(\"mu_ch\")\n",
      "### SPBs\n",
      "mu_s = symbols(\"mu_s\")"
     ],
     "language": "python",
     "metadata": {},
     "outputs": [],
     "prompt_number": 101
    },
    {
     "cell_type": "markdown",
     "metadata": {},
     "source": [
      "#### Force velocity"
     ]
    },
    {
     "cell_type": "code",
     "collapsed": false,
     "input": [
      "### Interdigitated microtubules\n",
      "F_mz, V_mz =  symbols(\"F_mz, V_mz\")\n",
      "### kinteochore microtubules\n",
      "F_k, V_k =  symbols(\"F_mz, V_mz\")"
     ],
     "language": "python",
     "metadata": {},
     "outputs": [],
     "prompt_number": 84
    },
    {
     "cell_type": "markdown",
     "metadata": {},
     "source": [
      "## Points and Reference frame\n",
      "\n",
      "* $S$ is a simple 1D reference frame\n",
      "* spc - spindle center - the origin\n",
      "* spb - spindle pole bodies\n",
      "* ch - chromosome centers\n",
      "* cen - centromeres\n",
      "* as - attachment sites\n",
      "\n",
      "Set a position and a speed for each"
     ]
    },
    {
     "cell_type": "code",
     "collapsed": false,
     "input": [
      "S = ReferenceFrame('S')\n",
      "\n",
      "## spindle center\n",
      "spc = Point('spc')\n",
      "spc.set_vel(S, 0)\n",
      "\n",
      "### Spindle pole bodies\n",
      "spbR = spc.locatenew('spbR', L * S.x / 2)\n",
      "spbR.set_vel(S, Ld * S.x / 2)\n",
      "             \n",
      "spbL = spc.locatenew('spbL', -L * S.x / 2)\n",
      "spbL.set_vel(S, -Ld * S.x / 2)\n",
      "\n",
      "### Chromosomes\n",
      "ch = spc.locatenew('ch', c_n * S.x)\n",
      "ch.set_vel(S, c_nd * S.x)\n",
      "\n",
      "### centromere and attachment site A\n",
      "cenA = ch.locatenew('cenA', -(l_n + d_0)/2 * S.x)\n",
      "cenA.set_vel(S, cenA.pos_from(spc).dt(S))\n",
      "\n",
      "as_A = cenA.locatenew('as_A', - d_A * S.x)\n",
      "as_A.set_vel(S, as_A.pos_from(spc).dt(S))\n",
      "\n",
      "### centromere and attachment site A\n",
      "cenB = ch.locatenew('cenB', (l_n + d_0)/2 * S.x)\n",
      "cenB.set_vel(S, cenB.pos_from(spc).dt(S))\n",
      "\n",
      "as_B = cenB.locatenew('as_B', d_B * S.x)\n",
      "as_B.set_vel(S, as_B.pos_from(spc).dt(S))"
     ],
     "language": "python",
     "metadata": {},
     "outputs": [],
     "prompt_number": 86
    },
    {
     "cell_type": "markdown",
     "metadata": {},
     "source": [
      "#### access a relative speed"
     ]
    },
    {
     "cell_type": "code",
     "collapsed": false,
     "input": [
      "v_AR = cenA.pos_from(spbR).dt(S) & S.x\n",
      "v_AR"
     ],
     "language": "python",
     "metadata": {},
     "outputs": [
      {
       "latex": [
        "$$- \\frac{\\dot{L}}{2} + \\dot{c}_{n} - \\frac{\\dot{l}_{n}}{2}$$"
       ],
       "metadata": {},
       "output_type": "pyout",
       "png": "[encoded data removed]",
       "prompt_number": 122,
       "text": [
        "  L\u0307          l_\u0307n\n",
        "- \u2500\u2500 + c_\u0307n - \u2500\u2500\u2500\u2500\n",
        "  2            2  "
       ]
      }
     ],
     "prompt_number": 122
    },
    {
     "cell_type": "markdown",
     "metadata": {},
     "source": [
      "## Forces and energies\n",
      "\n",
      "### Linear force-velocity relationship\n",
      "\n"
     ]
    },
    {
     "cell_type": "markdown",
     "metadata": {},
     "source": [
      "#### Definition"
     ]
    },
    {
     "cell_type": "markdown",
     "metadata": {},
     "source": [
      "A linear force velocity relationship is used to model the traction exerted \n",
      "by molecular motors between two objects. To do so, we consider the distance $\\ell$\n",
      "between the two objects as a generalized coordinate. The force can be\n",
      "extending ($\\gamma = 1$) or reducing ($\\gamma = -1$) this distance. It depends linearly\n",
      "on the time derivative of $\\ell$. We have\n",
      "\n",
      "$$ F = F_{max} ( 1 - \\gamma \\frac{\\dot{\\ell}}{V_{max}}) \\mathbf{e}_F $$\n",
      "\n",
      "where $F_{max}$ is the stall force and $V_{max}$ the maximum speed (in the intended regime).\n",
      "\n",
      "In order two work with affine relations between speeds and forces (generalized friction), we define\n",
      "the generalized speed $v_g$ such that $v_g = V_{max} - \\gamma \\dot{\\ell}$. Then:\n",
      "\n",
      "$$ F = \\frac{F_{max} v_g}{V_{max}} \\mathbf{e}_F $$\n",
      "\n",
      "\n"
     ]
    },
    {
     "cell_type": "code",
     "collapsed": false,
     "input": [
      "class Linear_FV():\n",
      "    '''\n",
      "    Linear Force velocity relationship\n",
      "    \n",
      "    In order to use methods such as Lagrange or Kanes, on must\n",
      "    get rid of constant terms in force expressions. This is achieved\n",
      "    through the definition of constrained generalized speeds.\n",
      "    In this class, both the generalized speed and the force vector\n",
      "    are computed.\n",
      "    \n",
      "    \n",
      "    \n",
      "    Call arguments\n",
      "    --------------\n",
      "\n",
      "    ld: dynamicsymbol \n",
      "      time derivative of the distance between the\n",
      "      two interacting objects.\n",
      "    F_max: symbol,\n",
      "      the stall force\n",
      "    V_max: symbol,\n",
      "     the maximum speed (in intended regime)\n",
      "    gamma: int\n",
      "     if gamma = 1, force tends to extend the distance l\n",
      "     if gamma = 0, force tends to reduce l\n",
      "    e_F : unit vector\n",
      "     the vector along which the force is applied\n",
      "    \n",
      "    Attributes\n",
      "    ----------\n",
      "    \n",
      "    F : force vector, as a function of the generalized speed\n",
      "    v_g : generalized speed\n",
      "    speed_constraint : relation between the generalized speed\n",
      "      and the input parameters\n",
      "      \n",
      "    We have\n",
      "    ..math:\n",
      "        F = F_{max} ( 1 - \\gamma \\frac{\\dot{l}}{V_{max}})\n",
      "    and\n",
      "    ..math:\n",
      "        F = \\frac{F_{max} v_g}{V_{max}} \\mathbf{e}_F\n",
      "\n",
      "    '''\n",
      "    \n",
      "    def __init__(self, ld, F_max, \n",
      "                 V_max, gamma, e_F,\n",
      "                 index=None, expo=None):\n",
      "        \n",
      "        '''\n",
      "        ld: dynamicsymbol \n",
      "          time derivative of the distance between the\n",
      "          two interacting objects.\n",
      "        F_max: symbol,\n",
      "          the stall force\n",
      "        V_max: symbol,\n",
      "         the maximum speed (in intended regime)\n",
      "        gamma: int\n",
      "         if gamma = 1, force tends to extend the distance l\n",
      "         if gamma = 0, force tends to reduce l\n",
      "        e_F : unit vector\n",
      "         the unit vector along which the force is applied\n",
      "         (should probably be  in the reference frame used to \n",
      "          compute ld)\n",
      "        '''\n",
      "        \n",
      "        ## generalized speed (symbol)\n",
      "        self.v_g = dynamicsymbols(indexer('v', index, expo))\n",
      "        \n",
      "        ## Force\n",
      "        self.F = (F_max / V_max) * self.v_g * e_F\n",
      "                \n",
      "        ## Speed constraint\n",
      "        #### v_g = V_max - gamma * ld\n",
      "        self.speed_constraint = self.v_g + gamma * ld - V_max # == 0\n",
      "        \n",
      "        self.F_ = self.F.subs(self.v_g, V_max - gamma * ld)\n",
      "        \n",
      "        "
     ],
     "language": "python",
     "metadata": {},
     "outputs": [],
     "prompt_number": 88
    },
    {
     "cell_type": "markdown",
     "metadata": {},
     "source": [
      "#### Example"
     ]
    },
    {
     "cell_type": "code",
     "collapsed": false,
     "input": [
      "F_m, V_m = symbols(\"F_m, V_m\")\n",
      "ell = dynamicsymbols(\"ell\")\n",
      "elld = dynamicsymbols(\"ell\", 1)\n",
      "\n",
      "lfv = Linear_FV(elld, F_m, V_m, gamma=1, e_F=S.x)\n",
      "\n",
      "for expr in (lfv.speed_constraint, lfv.F, lfv.F_, lfv.v_g):\n",
      "    print(expr)"
     ],
     "language": "python",
     "metadata": {},
     "outputs": [
      {
       "output_type": "stream",
       "stream": "stdout",
       "text": [
        "-V_m + v(t) + Derivative(ell(t), t)\n",
        "F_m*v/V_m*S.x\n",
        "F_m*(V_m - ell')/V_m*S.x\n",
        "v(t)\n"
       ]
      }
     ],
     "prompt_number": 113
    },
    {
     "cell_type": "code",
     "collapsed": false,
     "input": [
      "lfv.speed_constraint"
     ],
     "language": "python",
     "metadata": {},
     "outputs": [
      {
       "latex": [
        "$$- V_{m} + v + \\dot{\\ell}$$"
       ],
       "metadata": {},
       "output_type": "pyout",
       "png": "[encoded data removed]",
       "prompt_number": 99,
       "text": [
        "-V_m + v + el\u0307l"
       ]
      }
     ],
     "prompt_number": 99
    },
    {
     "cell_type": "code",
     "collapsed": false,
     "input": [
      "\n",
      "\n",
      "particles = {point.name: Particle('p{}'.format(point.name), point, 0) # zero mass\n",
      "             for point in (spbR, spbL, ch, cenA, as_A, cenB, as_B)}\n",
      "\n",
      "## springs\n",
      "particles['ch'].set_potential_energy(kappa_c * l_n**2 / 2)\n",
      "particles['as_A'].set_potential_energy(kappa_k * d_A**2 / 2)\n",
      "particles['as_B'].set_potential_energy(kappa_k * d_B**2 / 2)\n",
      "\n",
      "### Damping\n",
      "Fr_c = - mu_c * l_nd * S.x\n",
      "Fr_A = - mu_k * d_Ad * S.x\n",
      "Fr_B = - mu_k * d_Bd * S.x\n",
      "\n",
      "## Frictions\n",
      "Fr_spb = - mu_s * Ld * S.x / 2\n",
      "Fr_ch = - mu_ch * c_nd * S.x\n",
      "\n",
      "## Linear force velocity\n",
      "lfv_mz = Linear_FV(Ld, F_mz, V_mz, 1, S.x, index='mz')\n",
      "\n",
      "v_AL = as_A.pos_from(spbL).dt(S)\n",
      "lfv_ktA = Linear_FV(v_AL & S.x,\n",
      "                    F_k, V_k, -1, -S.x, index='k', expo='A')\n",
      "\n",
      "v_BR = as_B.pos_from(spbR).dt(S)\n",
      "lfv_ktB = Linear_FV(v_BR & S.x, \n",
      "                    F_k, V_k, -1, S.x, index='k', expo='B')\n",
      "\n",
      "forcelist = [(spbL, - lfv_mz.F_ - Fr_spb - lfv_ktA.F_),\n",
      "             (spbR, lfv_mz.F_ + Fr_spb - lfv_ktB.F_),\n",
      "             (as_A, lfv_ktA.F_ + Fr_A),\n",
      "             (as_B, lfv_ktB.F_ + Fr_B),\n",
      "             (ch, Fr_ch),# + Fr_ce),\n",
      "             ]\n",
      "\n"
     ],
     "language": "python",
     "metadata": {},
     "outputs": [],
     "prompt_number": 130
    },
    {
     "cell_type": "markdown",
     "metadata": {},
     "source": [
      "### Lagrangian"
     ]
    },
    {
     "cell_type": "code",
     "collapsed": false,
     "input": [
      "lag = Lagrangian(S, *particles.values())\n",
      "l_method = LagrangesMethod(lag, qs, forcelist=forcelist, frame=S)\n",
      "eoms = l_method.form_lagranges_equations()\n",
      "\n",
      "linearizer = l_method.to_linearizer(q_ind=qs,\n",
      "                                     qd_ind=qds)\n"
     ],
     "language": "python",
     "metadata": {},
     "outputs": [],
     "prompt_number": 131
    },
    {
     "cell_type": "code",
     "collapsed": false,
     "input": [
      "eoms.simplify()\n",
      "eoms.subs([(V_k, 1), (F_k, 1)])"
     ],
     "language": "python",
     "metadata": {},
     "outputs": [
      {
       "latex": [
        "$$\\left[\\begin{matrix}- F_{mz} + \\frac{F_{mz} \\dot{L}}{V_{mz}} + \\frac{\\mu_{s} \\dot{L}}{2} + \\dot{c}_{n} - \\frac{\\dot{d}_{A}}{2} + \\frac{\\dot{d}_{B}}{2} + 1\\\\\\mu_{ch} \\dot{c}_{n} + \\mu_{k} \\dot{d}_{A} + \\mu_{k} \\dot{d}_{B} + \\dot{L} - \\dot{d}_{A} - \\dot{d}_{B} - \\dot{l}_{n}\\\\\\kappa_{c} l_{n} - \\frac{\\mu_{k} \\dot{d}_{A}}{2} + \\frac{\\mu_{k} \\dot{d}_{B}}{2} - \\dot{c}_{n} + \\frac{\\dot{d}_{A}}{2} - \\frac{\\dot{d}_{B}}{2} - 1\\\\\\kappa_{k} d_{A} - \\mu_{k} \\dot{d}_{A} - \\frac{\\dot{L}}{2} - \\dot{c}_{n} + \\dot{d}_{A} + \\frac{\\dot{l}_{n}}{2} - 1\\\\\\kappa_{k} d_{B} + \\mu_{k} \\dot{d}_{B} + \\frac{\\dot{L}}{2} - \\dot{c}_{n} - \\dot{d}_{B} - \\frac{\\dot{l}_{n}}{2} - 1\\end{matrix}\\right]$$"
       ],
       "metadata": {},
       "output_type": "pyout",
       "png": "[encoded data removed]",
       "prompt_number": 132,
       "text": [
        "\u23a1            F_mz\u22c5L\u0307   \u03bc_s\u22c5L\u0307          d_\u0307A   d_\u0307B        \u23a4\n",
        "\u23a2    -F_mz + \u2500\u2500\u2500\u2500\u2500\u2500\u2500 + \u2500\u2500\u2500\u2500\u2500\u2500 + c_\u0307n - \u2500\u2500\u2500\u2500 + \u2500\u2500\u2500\u2500 + 1    \u23a5\n",
        "\u23a2              V_mz      2              2      2          \u23a5\n",
        "\u23a2                                                         \u23a5\n",
        "\u23a2\u03bc_ch\u22c5c_\u0307n + \u03bc_k\u22c5d_\u0307A + \u03bc_k\u22c5d_\u0307B + L\u0307 - d_\u0307A - d_\u0307B - l_\u0307n\u23a5\n",
        "\u23a2                                                         \u23a5\n",
        "\u23a2           \u03bc_k\u22c5d_\u0307A   \u03bc_k\u22c5d_\u0307B          d_\u0307A   d_\u0307B      \u23a5\n",
        "\u23a2 \u03ba_c\u22c5l_n - \u2500\u2500\u2500\u2500\u2500\u2500\u2500\u2500 + \u2500\u2500\u2500\u2500\u2500\u2500\u2500\u2500 - c_\u0307n + \u2500\u2500\u2500\u2500 - \u2500\u2500\u2500\u2500 - 1  \u23a5\n",
        "\u23a2              2          2               2      2        \u23a5\n",
        "\u23a2                                                         \u23a5\n",
        "\u23a2                         L\u0307                 l_\u0307n         \u23a5\n",
        "\u23a2    \u03ba_k\u22c5d_A - \u03bc_k\u22c5d_\u0307A - \u2500\u2500 - c_\u0307n + d_\u0307A + \u2500\u2500\u2500\u2500 - 1     \u23a5\n",
        "\u23a2                         2                   2           \u23a5\n",
        "\u23a2                                                         \u23a5\n",
        "\u23a2                         L\u0307                 l_\u0307n         \u23a5\n",
        "\u23a2    \u03ba_k\u22c5d_B + \u03bc_k\u22c5d_\u0307B + \u2500\u2500 - c_\u0307n - d_\u0307B - \u2500\u2500\u2500\u2500 - 1     \u23a5\n",
        "\u23a3                         2                   2           \u23a6"
       ]
      }
     ],
     "prompt_number": 132
    },
    {
     "cell_type": "code",
     "collapsed": false,
     "input": [
      "eoms_u = eoms.subs([(V_k, 1), (F_k, 1)])\n",
      "eq_spb = eoms_u[0]\n",
      "eq_spb"
     ],
     "language": "python",
     "metadata": {},
     "outputs": [
      {
       "latex": [
        "$$- F_{mz} + \\frac{F_{mz} \\dot{L}}{V_{mz}} + \\frac{\\mu_{s} \\dot{L}}{2} + \\dot{c}_{n} - \\frac{\\dot{d}_{A}}{2} + \\frac{\\dot{d}_{B}}{2} + 1$$"
       ],
       "metadata": {},
       "output_type": "pyout",
       "png": "[encoded data removed]",
       "prompt_number": 133,
       "text": [
        "        F_mz\u22c5L\u0307   \u03bc_s\u22c5L\u0307          d_\u0307A   d_\u0307B    \n",
        "-F_mz + \u2500\u2500\u2500\u2500\u2500\u2500\u2500 + \u2500\u2500\u2500\u2500\u2500\u2500 + c_\u0307n - \u2500\u2500\u2500\u2500 + \u2500\u2500\u2500\u2500 + 1\n",
        "          V_mz      2              2      2      "
       ]
      }
     ],
     "prompt_number": 133
    },
    {
     "cell_type": "code",
     "collapsed": false,
     "input": [
      "eoms_u_orig = trans.inv().multiply(eoms_u.subs(to_subs))\n",
      "\n",
      "e_spb = eoms_u_orig[0]\n"
     ],
     "language": "python",
     "metadata": {},
     "outputs": [],
     "prompt_number": 135
    },
    {
     "cell_type": "code",
     "collapsed": false,
     "input": [
      "e_spb.simplify()\n",
      "e_spb"
     ],
     "language": "python",
     "metadata": {},
     "outputs": [
      {
       "latex": [
        "$$- \\frac{F_{mz}}{4} + \\frac{F_{mz} 2 \\dot{x}_{s}}{4 V_{mz}} + \\frac{\\mu_{s}}{8} 2 \\dot{x}_{s} + \\frac{1}{4} \\frac{\\dot{x}_{cA}}{2} + \\frac{\\dot{x}_{cB}}{2} - \\frac{1}{8} \\dot{x}_{cA} - \\dot{x}_{kA} + \\frac{1}{8} - \\dot{x}_{cB} + \\dot{x}_{kB} + \\frac{1}{4}$$"
       ],
       "metadata": {},
       "output_type": "pyout",
       "png": "[encoded data removed]",
       "prompt_number": 137,
       "text": [
        "              d               d           d \u239bx_cA   x_cB\u239e   d                 \n",
        "         F_mz\u22c5\u2500\u2500(2\u22c5x_s)   \u03bc_s\u22c5\u2500\u2500(2\u22c5x_s)   \u2500\u2500\u239c\u2500\u2500\u2500\u2500 + \u2500\u2500\u2500\u2500\u239f   \u2500\u2500(x_cA - x_kA)   \n",
        "  F_mz        dt              dt          dt\u239d 2      2  \u23a0   dt                \n",
        "- \u2500\u2500\u2500\u2500 + \u2500\u2500\u2500\u2500\u2500\u2500\u2500\u2500\u2500\u2500\u2500\u2500\u2500\u2500 + \u2500\u2500\u2500\u2500\u2500\u2500\u2500\u2500\u2500\u2500\u2500\u2500\u2500 + \u2500\u2500\u2500\u2500\u2500\u2500\u2500\u2500\u2500\u2500\u2500\u2500\u2500\u2500\u2500 - \u2500\u2500\u2500\u2500\u2500\u2500\u2500\u2500\u2500\u2500\u2500\u2500\u2500\u2500\u2500 + \n",
        "   4         4\u22c5V_mz             8                4                 8          \n",
        "\n",
        "d                   \n",
        "\u2500\u2500(-x_cB + x_kB)    \n",
        "dt                 1\n",
        "\u2500\u2500\u2500\u2500\u2500\u2500\u2500\u2500\u2500\u2500\u2500\u2500\u2500\u2500\u2500\u2500 + \u2500\n",
        "       8           4"
       ]
      }
     ],
     "prompt_number": 137
    },
    {
     "cell_type": "code",
     "collapsed": false,
     "input": [
      "eoms_u_orig.jacobian(qds)"
     ],
     "language": "python",
     "metadata": {},
     "outputs": [
      {
       "latex": [
        "$$\\left[\\begin{matrix}0 & 0 & 0 & 0 & 0\\\\0 & 0 & 0 & 0 & 0\\\\0 & 0 & 0 & 0 & 0\\\\0 & 0 & 0 & 0 & 0\\\\0 & 0 & 0 & 0 & 0\\end{matrix}\\right]$$"
       ],
       "metadata": {},
       "output_type": "pyout",
       "png": "[encoded data removed]",
       "prompt_number": 110,
       "text": [
        "\u23a10  0  0  0  0\u23a4\n",
        "\u23a2             \u23a5\n",
        "\u23a20  0  0  0  0\u23a5\n",
        "\u23a2             \u23a5\n",
        "\u23a20  0  0  0  0\u23a5\n",
        "\u23a2             \u23a5\n",
        "\u23a20  0  0  0  0\u23a5\n",
        "\u23a2             \u23a5\n",
        "\u23a30  0  0  0  0\u23a6"
       ]
      }
     ],
     "prompt_number": 110
    },
    {
     "cell_type": "code",
     "collapsed": false,
     "input": [
      "eoms_u.jacobian(qs).multiply(trans)"
     ],
     "language": "python",
     "metadata": {},
     "outputs": [
      {
       "latex": [
        "$$\\left[\\begin{matrix}0 & 0 & 0 & 0 & 0\\\\0 & 0 & 0 & 0 & 0\\\\0 & - 2 \\kappa_{c} & 0 & 2 \\kappa_{c} & 0\\\\0 & 2 \\kappa_{k} & - 2 \\kappa_{k} & 0 & 0\\\\0 & 0 & 0 & - 2 \\kappa_{k} & 2 \\kappa_{k}\\end{matrix}\\right]$$"
       ],
       "metadata": {},
       "output_type": "pyout",
       "png": "[encoded data removed]",
       "prompt_number": 111,
       "text": [
        "\u23a10    0       0       0       0  \u23a4\n",
        "\u23a2                                \u23a5\n",
        "\u23a20    0       0       0       0  \u23a5\n",
        "\u23a2                                \u23a5\n",
        "\u23a20  -2\u22c5\u03ba_c    0     2\u22c5\u03ba_c     0  \u23a5\n",
        "\u23a2                                \u23a5\n",
        "\u23a20  2\u22c5\u03ba_k   -2\u22c5\u03ba_k    0       0  \u23a5\n",
        "\u23a2                                \u23a5\n",
        "\u23a30    0       0     -2\u22c5\u03ba_k  2\u22c5\u03ba_k\u23a6"
       ]
      }
     ],
     "prompt_number": 111
    },
    {
     "cell_type": "code",
     "collapsed": false,
     "input": [],
     "language": "python",
     "metadata": {},
     "outputs": []
    },
    {
     "cell_type": "code",
     "collapsed": false,
     "input": [
      "from sympy import diff, jacobian"
     ],
     "language": "python",
     "metadata": {},
     "outputs": [
      {
       "ename": "ImportError",
       "evalue": "cannot import name 'jacobian'",
       "output_type": "pyerr",
       "traceback": [
        "\u001b[1;31m---------------------------------------------------------------------------\u001b[0m\n\u001b[1;31mImportError\u001b[0m                               Traceback (most recent call last)",
        "\u001b[1;32m<ipython-input-32-896277c3e7f3>\u001b[0m in \u001b[0;36m<module>\u001b[1;34m()\u001b[0m\n\u001b[1;32m----> 1\u001b[1;33m \u001b[1;32mfrom\u001b[0m \u001b[0msympy\u001b[0m \u001b[1;32mimport\u001b[0m \u001b[0mdiff\u001b[0m\u001b[1;33m,\u001b[0m \u001b[0mjacobian\u001b[0m\u001b[1;33m\u001b[0m\u001b[0m\n\u001b[0m",
        "\u001b[1;31mImportError\u001b[0m: cannot import name 'jacobian'"
       ]
      }
     ],
     "prompt_number": 32
    },
    {
     "cell_type": "code",
     "collapsed": false,
     "input": [
      "e_spb.simplify()\n"
     ],
     "language": "python",
     "metadata": {},
     "outputs": [
      {
       "latex": [
        "$$0$$"
       ],
       "metadata": {},
       "output_type": "pyout",
       "png": "[encoded data removed]",
       "prompt_number": 31,
       "text": [
        "0"
       ]
      }
     ],
     "prompt_number": 31
    },
    {
     "cell_type": "markdown",
     "metadata": {},
     "source": [
      "In [sympy's doc on linearization](http://docs.sympy.org/latest/modules/physics/mechanics/linearize.html), the equations are linearized by writing them in the form:\n",
      "$$\n",
      "\\begin{split}\n",
      "M \\begin{bmatrix}\n",
      "    \\delta \\dot{q} \\\\\n",
      "    \\delta \\dot{u} \\\\\n",
      "    \\delta \\lambda \\end{bmatrix} = A \\begin{bmatrix} \\delta q_i \\\\\n",
      "    \\delta u_i\n",
      "    \\end{bmatrix}\n",
      "        + B \\begin{bmatrix} \n",
      "            \\delta r\n",
      "        \\end{bmatrix}\n",
      "\\end{split}\n",
      "$$\n",
      "\n",
      "Problem is, we have constant terms in the linear velocity relationships, so the system of equations won't fit in this scope.\n",
      "\n",
      "\n"
     ]
    },
    {
     "cell_type": "code",
     "collapsed": false,
     "input": [
      "M, A, B = linearizer.linearize(A_and_B=False)"
     ],
     "language": "python",
     "metadata": {},
     "outputs": [],
     "prompt_number": 12
    },
    {
     "cell_type": "code",
     "collapsed": false,
     "input": [
      "linearizer.u"
     ],
     "language": "python",
     "metadata": {},
     "outputs": [
      {
       "latex": [
        "$$\\left[\\begin{matrix}\\dot{L}\\\\\\dot{c}_{n}\\\\\\dot{l}_{n}\\\\\\dot{d}_{A}\\\\\\dot{d}_{B}\\end{matrix}\\right]$$"
       ],
       "metadata": {},
       "output_type": "pyout",
       "png": "[encoded data removed]",
       "prompt_number": 13,
       "text": [
        "\u23a1 L\u0307 \u23a4\n",
        "\u23a2    \u23a5\n",
        "\u23a2c_\u0307n\u23a5\n",
        "\u23a2    \u23a5\n",
        "\u23a2l_\u0307n\u23a5\n",
        "\u23a2    \u23a5\n",
        "\u23a2d_\u0307A\u23a5\n",
        "\u23a2    \u23a5\n",
        "\u23a3d_\u0307B\u23a6"
       ]
      }
     ],
     "prompt_number": 13
    },
    {
     "cell_type": "code",
     "collapsed": false,
     "input": [
      "M"
     ],
     "language": "python",
     "metadata": {},
     "outputs": [
      {
       "latex": [
        "$$\\left[\\begin{matrix}1 & 0 & 0 & 0 & 0 & 0 & 0 & 0 & 0 & 0\\\\0 & 1 & 0 & 0 & 0 & 0 & 0 & 0 & 0 & 0\\\\0 & 0 & 1 & 0 & 0 & 0 & 0 & 0 & 0 & 0\\\\0 & 0 & 0 & 1 & 0 & 0 & 0 & 0 & 0 & 0\\\\0 & 0 & 0 & 0 & 1 & 0 & 0 & 0 & 0 & 0\\\\0 & 0 & 0 & 0 & 0 & 0 & 0 & 0 & 0 & 0\\\\0 & 0 & 0 & 0 & 0 & 0 & 0 & 0 & 0 & 0\\\\0 & 0 & 0 & 0 & 0 & 0 & 0 & 0 & 0 & 0\\\\0 & 0 & 0 & 0 & 0 & 0 & 0 & 0 & 0 & 0\\\\0 & 0 & 0 & 0 & 0 & 0 & 0 & 0 & 0 & 0\\end{matrix}\\right]$$"
       ],
       "metadata": {},
       "output_type": "pyout",
       "png": "[encoded data removed]",
       "prompt_number": 109,
       "text": [
        "\u23a11  0  0  0  0  0  0  0  0  0\u23a4\n",
        "\u23a2                            \u23a5\n",
        "\u23a20  1  0  0  0  0  0  0  0  0\u23a5\n",
        "\u23a2                            \u23a5\n",
        "\u23a20  0  1  0  0  0  0  0  0  0\u23a5\n",
        "\u23a2                            \u23a5\n",
        "\u23a20  0  0  1  0  0  0  0  0  0\u23a5\n",
        "\u23a2                            \u23a5\n",
        "\u23a20  0  0  0  1  0  0  0  0  0\u23a5\n",
        "\u23a2                            \u23a5\n",
        "\u23a20  0  0  0  0  0  0  0  0  0\u23a5\n",
        "\u23a2                            \u23a5\n",
        "\u23a20  0  0  0  0  0  0  0  0  0\u23a5\n",
        "\u23a2                            \u23a5\n",
        "\u23a20  0  0  0  0  0  0  0  0  0\u23a5\n",
        "\u23a2                            \u23a5\n",
        "\u23a20  0  0  0  0  0  0  0  0  0\u23a5\n",
        "\u23a2                            \u23a5\n",
        "\u23a30  0  0  0  0  0  0  0  0  0\u23a6"
       ]
      }
     ],
     "prompt_number": 109
    },
    {
     "cell_type": "code",
     "collapsed": false,
     "input": [
      "A "
     ],
     "language": "python",
     "metadata": {},
     "outputs": [
      {
       "latex": [
        "$$\\left[\\begin{matrix}0 & 0 & 0 & 0 & 0 & 1 & 0 & 0 & 0 & 0\\\\0 & 0 & 0 & 0 & 0 & 0 & 1 & 0 & 0 & 0\\\\0 & 0 & 0 & 0 & 0 & 0 & 0 & 1 & 0 & 0\\\\0 & 0 & 0 & 0 & 0 & 0 & 0 & 0 & 1 & 0\\\\0 & 0 & 0 & 0 & 0 & 0 & 0 & 0 & 0 & 1\\\\0 & 0 & 0 & 0 & 0 & 0 & 0 & 0 & 0 & 0\\\\0 & 0 & 0 & 0 & 0 & 0 & 0 & 0 & 0 & 0\\\\0 & 0 & - \\kappa_{c} & 0 & 0 & 0 & 0 & 0 & 0 & 0\\\\0 & 0 & 0 & - \\kappa_{k} & 0 & 0 & 0 & 0 & 0 & 0\\\\0 & 0 & 0 & 0 & - \\kappa_{k} & 0 & 0 & 0 & 0 & 0\\end{matrix}\\right]$$"
       ],
       "metadata": {},
       "output_type": "pyout",
       "png": "[encoded data removed]",
       "prompt_number": 110,
       "text": [
        "\u23a10  0   0     0     0    1  0  0  0  0\u23a4\n",
        "\u23a2                                     \u23a5\n",
        "\u23a20  0   0     0     0    0  1  0  0  0\u23a5\n",
        "\u23a2                                     \u23a5\n",
        "\u23a20  0   0     0     0    0  0  1  0  0\u23a5\n",
        "\u23a2                                     \u23a5\n",
        "\u23a20  0   0     0     0    0  0  0  1  0\u23a5\n",
        "\u23a2                                     \u23a5\n",
        "\u23a20  0   0     0     0    0  0  0  0  1\u23a5\n",
        "\u23a2                                     \u23a5\n",
        "\u23a20  0   0     0     0    0  0  0  0  0\u23a5\n",
        "\u23a2                                     \u23a5\n",
        "\u23a20  0   0     0     0    0  0  0  0  0\u23a5\n",
        "\u23a2                                     \u23a5\n",
        "\u23a20  0  -\u03ba_c   0     0    0  0  0  0  0\u23a5\n",
        "\u23a2                                     \u23a5\n",
        "\u23a20  0   0    -\u03ba_k   0    0  0  0  0  0\u23a5\n",
        "\u23a2                                     \u23a5\n",
        "\u23a30  0   0     0    -\u03ba_k  0  0  0  0  0\u23a6"
       ]
      }
     ],
     "prompt_number": 110
    },
    {
     "cell_type": "code",
     "collapsed": false,
     "input": [
      "n = len(qs)\n",
      "A[n:, n:].multiply(trans)"
     ],
     "language": "python",
     "metadata": {},
     "outputs": [
      {
       "latex": [
        "$$\\left[\\begin{matrix}0 & 0 & 0 & 0 & 0\\\\0 & 0 & 0 & 0 & 0\\\\0 & 0 & 0 & 0 & 0\\\\0 & 0 & 0 & 0 & 0\\\\0 & 0 & 0 & 0 & 0\\end{matrix}\\right]$$"
       ],
       "metadata": {},
       "output_type": "pyout",
       "png": "[encoded data removed]",
       "prompt_number": 101,
       "text": [
        "\u23a10  0  0  0  0\u23a4\n",
        "\u23a2             \u23a5\n",
        "\u23a20  0  0  0  0\u23a5\n",
        "\u23a2             \u23a5\n",
        "\u23a20  0  0  0  0\u23a5\n",
        "\u23a2             \u23a5\n",
        "\u23a20  0  0  0  0\u23a5\n",
        "\u23a2             \u23a5\n",
        "\u23a30  0  0  0  0\u23a6"
       ]
      }
     ],
     "prompt_number": 101
    },
    {
     "cell_type": "code",
     "collapsed": false,
     "input": [
      "prev_B = A[n:, :n].multiply(trans)/2"
     ],
     "language": "python",
     "metadata": {},
     "outputs": [],
     "prompt_number": 104
    },
    {
     "cell_type": "code",
     "collapsed": false,
     "input": [
      "prev_B"
     ],
     "language": "python",
     "metadata": {},
     "outputs": [
      {
       "latex": [
        "$$\\left[\\begin{matrix}0 & 0 & 0 & 0 & 0\\\\0 & 0 & 0 & 0 & 0\\\\0 & \\kappa_{c} & 0 & - \\kappa_{c} & 0\\\\0 & - \\kappa_{k} & \\kappa_{k} & 0 & 0\\\\0 & 0 & 0 & \\kappa_{k} & - \\kappa_{k}\\end{matrix}\\right]$$"
       ],
       "metadata": {},
       "output_type": "pyout",
       "png": "[encoded data removed]",
       "prompt_number": 105,
       "text": [
        "\u23a10   0     0    0     0  \u23a4\n",
        "\u23a2                        \u23a5\n",
        "\u23a20   0     0    0     0  \u23a5\n",
        "\u23a2                        \u23a5\n",
        "\u23a20  \u03ba_c    0   -\u03ba_c   0  \u23a5\n",
        "\u23a2                        \u23a5\n",
        "\u23a20  -\u03ba_k  \u03ba_k   0     0  \u23a5\n",
        "\u23a2                        \u23a5\n",
        "\u23a30   0     0   \u03ba_k   -\u03ba_k\u23a6"
       ]
      }
     ],
     "prompt_number": 105
    },
    {
     "cell_type": "code",
     "collapsed": false,
     "input": [
      "-A[n:, :n]"
     ],
     "language": "python",
     "metadata": {},
     "outputs": [
      {
       "latex": [
        "$$\\left[\\begin{matrix}0 & 0 & 0 & 0 & 0\\\\0 & 0 & 0 & 0 & 0\\\\0 & 0 & \\kappa_{c} & 0 & 0\\\\0 & 0 & 0 & \\kappa_{k} & 0\\\\0 & 0 & 0 & 0 & \\kappa_{k}\\end{matrix}\\right]$$"
       ],
       "metadata": {},
       "output_type": "pyout",
       "png": "[encoded data removed]",
       "prompt_number": 85,
       "text": [
        "\u23a10  0   0    0    0 \u23a4\n",
        "\u23a2                   \u23a5\n",
        "\u23a20  0   0    0    0 \u23a5\n",
        "\u23a2                   \u23a5\n",
        "\u23a20  0  \u03ba_c   0    0 \u23a5\n",
        "\u23a2                   \u23a5\n",
        "\u23a20  0   0   \u03ba_k   0 \u23a5\n",
        "\u23a2                   \u23a5\n",
        "\u23a30  0   0    0   \u03ba_k\u23a6"
       ]
      }
     ],
     "prompt_number": 85
    },
    {
     "cell_type": "code",
     "collapsed": false,
     "input": [
      "B"
     ],
     "language": "python",
     "metadata": {},
     "outputs": [
      {
       "latex": [
        "$$\\left[\\begin{matrix}\\end{matrix}\\right]$$"
       ],
       "metadata": {},
       "output_type": "pyout",
       "png": "[encoded data removed]",
       "prompt_number": 111,
       "text": [
        "[]"
       ]
      }
     ],
     "prompt_number": 111
    },
    {
     "cell_type": "code",
     "collapsed": false,
     "input": [],
     "language": "python",
     "metadata": {},
     "outputs": []
    }
   ],
   "metadata": {}
  }
 ]
}