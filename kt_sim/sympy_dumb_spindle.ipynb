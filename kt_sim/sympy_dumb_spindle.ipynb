{
 "metadata": {
  "name": "",
  "signature": "sha256:c293222b2703847438dd079a59984e295628d407c203b8b304cc9f42d4c441e3"
 },
 "nbformat": 3,
 "nbformat_minor": 0,
 "worksheets": [
  {
   "cells": [
    {
     "cell_type": "code",
     "collapsed": false,
     "input": [
      "#### Imports and utilities"
     ],
     "language": "python",
     "metadata": {},
     "outputs": [],
     "prompt_number": 1
    },
    {
     "cell_type": "code",
     "collapsed": false,
     "input": [
      "%load_ext autoreload\n",
      "%autoreload 2\n",
      "\n",
      "import sys\n",
      "# change this to suit your path\n",
      "sys.path.append('/home/guillaume/Python/kt_simul/')"
     ],
     "language": "python",
     "metadata": {},
     "outputs": [],
     "prompt_number": 2
    },
    {
     "cell_type": "code",
     "collapsed": false,
     "input": [
      "import IPython.display as disp\n",
      "\n",
      "from sympy import symbols, Matrix\n",
      "from sympy import sympify\n",
      "from sympy.physics.mechanics import dynamicsymbols\n",
      "from sympy.physics.mechanics import ReferenceFrame, Point, Particle\n",
      "from sympy.physics.mechanics import LagrangesMethod, Lagrangian, KanesMethod\n",
      "\n",
      "from sympy.physics.mechanics import mechanics_printing\n",
      "mechanics_printing(pretty_print=True) # Shinny\n",
      "\n",
      "from collections import defaultdict\n",
      "from kt_simul.smp_spindle.smp_spindle import SympySpindle\n",
      "from kt_simul.smp_spindle.forces import DampedSpring, LinearFV, ViscousDrag\n",
      "\n",
      "def indexer(name, index=None, expo=None):\n",
      "    '''Small utility to append an index  and\n",
      "    an exponent to the string `name`\n",
      "    '''\n",
      "    if index is not None:\n",
      "        name = name + '_' + index\n",
      "    if expo is not None:\n",
      "        name = name + '^' + expo\n",
      "    return name"
     ],
     "language": "python",
     "metadata": {},
     "outputs": [],
     "prompt_number": 3
    },
    {
     "cell_type": "heading",
     "level": 1,
     "metadata": {},
     "source": [
      "A dumb spindle in sympy"
     ]
    },
    {
     "cell_type": "code",
     "collapsed": false,
     "input": [
      "spindle = SympySpindle('Dumb')\n"
     ],
     "language": "python",
     "metadata": {},
     "outputs": [],
     "prompt_number": 4
    },
    {
     "cell_type": "markdown",
     "metadata": {},
     "source": [
      "### Model description\n",
      "\n",
      "We're looking at a simple mechanical system\n",
      "\n",
      "![dumb spindle](dumb_spindle.svg)\n",
      "\n",
      "\n",
      "#### Particles and positions\n",
      "\n",
      "_correct for bad order_\n",
      "We have $x_{sL}, x_{sR}, x_{kA}, x_{kB},  x_{cA}, x_{cB}$ the positions of left and right spindle pole bodies, A & B attachment sites (aka the kinetochore), A & B centromeres, respectively.\n",
      "\n",
      "\n",
      "\n"
     ]
    },
    {
     "cell_type": "code",
     "collapsed": false,
     "input": [
      "#### Spindle referential frame coordinates (1D)\n",
      "xs = x_s, x_cA, x_kA, x_cB, x_kB = dynamicsymbols(\"x_s, x_cA, x_kA, x_cB, x_kB\")\n",
      "\n",
      "## Speeds\n",
      "xds = x_sd, x_cAd, x_kAd, x_cBd, x_kBd = dynamicsymbols(\"x_s, x_cA, x_kA, x_cB, x_kB\", 1)"
     ],
     "language": "python",
     "metadata": {},
     "outputs": [],
     "prompt_number": 5
    },
    {
     "cell_type": "markdown",
     "metadata": {},
     "source": [
      "\n",
      "## Independant generalized coordinates\n",
      "\n",
      "* $L$ - the spindle length\n",
      "* $c_n$ - position of the chromosome center \n",
      "* $l_n$ - the distance between centromere A and centromere B.\n",
      "  Note that $l_n$ is *corrected for the equilibrium distance* between the centromeres,\n",
      "   such that $l_n = x_A - x_B - d_0$, where $x_0$ is the rest length of the cohesin spring.\n",
      "* $d_A$, $d_B$ - the distance between centromere A and attachment site A (resp. B) \n",
      "\n",
      "Generalized speeds are simply the time derivatives of the above coordinates.\n",
      "\n",
      "\n",
      "We'll describe the dependant coordinates below while defining the forces\n",
      "\n"
     ]
    },
    {
     "cell_type": "code",
     "collapsed": false,
     "input": [
      "### independant generalized coordinates\n",
      "q_ind = L, c_n, l_n, d_A, d_B = dynamicsymbols('L, c_n, l_n, d_A, d_B')\n",
      "### generalized speeds (coordinates derivatives)\n",
      "qd_ind = Ld, c_nd, l_nd, d_Ad, d_Bd = dynamicsymbols('L, c_n, l_n, d_A, d_B', 1)\n",
      "\n",
      "### generalized speed - Kanes formalism\n",
      "u_ind = vL, vc_n, vl_n, vd_A, vd_B = dynamicsymbols('^vL, ^vc_n, ^vl_n, ^vd_A, ^vd_B')\n",
      "\n",
      "\n",
      "### Register in the container\n",
      "spindle.q_ind = q_ind\n",
      "spindle.qd_ind = qd_ind\n",
      "\n",
      "### Kanes method\n",
      "spindle.u_ind = u_ind\n",
      "\n",
      "### Kinematics\n",
      "spindle.kd.extend((qd - u for (qd, u) in\n",
      "                   zip(qd_ind, u_ind)))\n"
     ],
     "language": "python",
     "metadata": {},
     "outputs": [],
     "prompt_number": 6
    },
    {
     "cell_type": "code",
     "collapsed": false,
     "input": [
      "spindle.kd"
     ],
     "language": "python",
     "metadata": {},
     "outputs": [
      {
       "latex": [
        "$$\\left [ - ^vL + \\dot{L}, \\quad - ^vc_{n} + \\dot{c}_{n}, \\quad - ^vl_{n} + \\dot{l}_{n}, \\quad - ^vd_{A} + \\dot{d}_{A}, \\quad - ^vd_{B} + \\dot{d}_{B}\\right ]$$"
       ],
       "metadata": {},
       "output_type": "pyout",
       "png": "[encoded data removed]",
       "prompt_number": 7,
       "text": [
        "[-^vL + L\u0307, -^vc_n + c_\u0307n, -^vl_n + l_\u0307n, -^vd_A + d_\u0307A, -^vd_B + d_\u0307B]"
       ]
      }
     ],
     "prompt_number": 7
    },
    {
     "cell_type": "markdown",
     "metadata": {},
     "source": [
      "#### Transformation matrix from independant generalized to original coordinates\n",
      "\n",
      "\n",
      "We write matrix T such that $q = Tx$ or $T^{-1}q = x$, which we check below. "
     ]
    },
    {
     "cell_type": "code",
     "collapsed": false,
     "input": [
      "### Substitutions to come back to the original variables (assuming d_0 = 0 for simplicity)\n",
      "to_subs = [(L, 2*x_s),\n",
      "           (c_n, x_cB/2 + x_cA/2),\n",
      "           (l_n, x_cB - x_cA),\n",
      "           (d_A, x_cA - x_kA),\n",
      "           (d_B, x_kB - x_cB)]\n",
      "\n",
      "### Corresponding transition matrix\n",
      "trans = Matrix([[4,  0,  0,  0, 0],\n",
      "                [0,  1,  0,  1, 0],\n",
      "                [0, -2,  0,  2, 0],\n",
      "                [0,  2, -2,  0, 0],\n",
      "                [0,  0,  0, -2, 2]]) / 2\n",
      "\n",
      "### Check we're back on our feets\n",
      "back_transform = trans.inv().multiply(Matrix(q_ind)).subs(to_subs)\n",
      "assert Matrix(xs) == back_transform\n",
      "\n",
      "Matrix(q_ind), trans,  Matrix(xs), back_transform"
     ],
     "language": "python",
     "metadata": {},
     "outputs": [
      {
       "latex": [
        "$$\\left ( \\left[\\begin{matrix}L\\\\c_{n}\\\\l_{n}\\\\d_{A}\\\\d_{B}\\end{matrix}\\right], \\quad \\left[\\begin{matrix}2 & 0 & 0 & 0 & 0\\\\0 & \\frac{1}{2} & 0 & \\frac{1}{2} & 0\\\\0 & -1 & 0 & 1 & 0\\\\0 & 1 & -1 & 0 & 0\\\\0 & 0 & 0 & -1 & 1\\end{matrix}\\right], \\quad \\left[\\begin{matrix}x_{s}\\\\x_{cA}\\\\x_{kA}\\\\x_{cB}\\\\x_{kB}\\end{matrix}\\right], \\quad \\left[\\begin{matrix}x_{s}\\\\x_{cA}\\\\x_{kA}\\\\x_{cB}\\\\x_{kB}\\end{matrix}\\right]\\right )$$"
       ],
       "metadata": {},
       "output_type": "pyout",
       "png": "[encoded data removed]",
       "prompt_number": 8,
       "text": [
        "\u239b\u23a1 L \u23a4, \u23a12   0   0    0   0\u23a4, \u23a1x_s \u23a4, \u23a1x_s \u23a4\u239e\n",
        "\u239c\u23a2   \u23a5  \u23a2                  \u23a5  \u23a2    \u23a5  \u23a2    \u23a5\u239f\n",
        "\u239c\u23a2c_n\u23a5  \u23a20  1/2  0   1/2  0\u23a5  \u23a2x_cA\u23a5  \u23a2x_cA\u23a5\u239f\n",
        "\u239c\u23a2   \u23a5  \u23a2                  \u23a5  \u23a2    \u23a5  \u23a2    \u23a5\u239f\n",
        "\u239c\u23a2l_n\u23a5  \u23a20  -1   0    1   0\u23a5  \u23a2x_kA\u23a5  \u23a2x_kA\u23a5\u239f\n",
        "\u239c\u23a2   \u23a5  \u23a2                  \u23a5  \u23a2    \u23a5  \u23a2    \u23a5\u239f\n",
        "\u239c\u23a2d_A\u23a5  \u23a20   1   -1   0   0\u23a5  \u23a2x_cB\u23a5  \u23a2x_cB\u23a5\u239f\n",
        "\u239c\u23a2   \u23a5  \u23a2                  \u23a5  \u23a2    \u23a5  \u23a2    \u23a5\u239f\n",
        "\u239d\u23a3d_B\u23a6  \u23a30   0   0   -1   1\u23a6  \u23a3x_kB\u23a6  \u23a3x_kB\u23a6\u23a0"
       ]
      }
     ],
     "prompt_number": 8
    },
    {
     "cell_type": "markdown",
     "metadata": {},
     "source": [
      "### Parameters"
     ]
    },
    {
     "cell_type": "markdown",
     "metadata": {},
     "source": [
      "#### Dambed springs"
     ]
    },
    {
     "cell_type": "code",
     "collapsed": false,
     "input": [
      "### Chromatin\n",
      "kappa_c, d_0, mu_c = symbols(\"kappa_c, d_0, mu_c\")\n",
      "### Kinetochore - centromere\n",
      "kappa_k, mu_k = symbols(\"kappa_k, mu_k\")"
     ],
     "language": "python",
     "metadata": {},
     "outputs": [],
     "prompt_number": 9
    },
    {
     "cell_type": "markdown",
     "metadata": {},
     "source": [
      "#### Viscous drags"
     ]
    },
    {
     "cell_type": "code",
     "collapsed": false,
     "input": [
      "### Chromosomes\n",
      "mu_ch =  symbols(\"mu_ch\")\n",
      "### SPBs\n",
      "mu_s = symbols(\"mu_s\")"
     ],
     "language": "python",
     "metadata": {},
     "outputs": [],
     "prompt_number": 10
    },
    {
     "cell_type": "markdown",
     "metadata": {},
     "source": [
      "#### Force velocity"
     ]
    },
    {
     "cell_type": "code",
     "collapsed": false,
     "input": [
      "### Interdigitated microtubules\n",
      "F_mz, V_mz =  symbols(\"F_mz, V_mz\")\n",
      "### kinteochore microtubules\n",
      "F_k, V_k =  symbols(\"F_k, V_k\")"
     ],
     "language": "python",
     "metadata": {},
     "outputs": [],
     "prompt_number": 11
    },
    {
     "cell_type": "markdown",
     "metadata": {},
     "source": [
      "## Points and Reference frame\n",
      "\n",
      "* $S$ is a simple 1D reference frame\n",
      "* spc - spindle center - the origin\n",
      "* spb - spindle pole bodies\n",
      "* ch - chromosome centers\n",
      "* cen - centromeres\n",
      "* as - attachment sites\n",
      "\n",
      "Below we define them and set a position and a speed for each"
     ]
    },
    {
     "cell_type": "code",
     "collapsed": false,
     "input": [
      "S = ReferenceFrame('S')\n",
      "spindle.referenceframe = S\n",
      "\n",
      "## spindle center\n",
      "spc = Point('spc')\n",
      "spc.set_vel(S, 0)\n",
      "\n",
      "### Spindle pole bodies\n",
      "spbR = spc.locatenew('spbR', L * S.x / 2)\n",
      "spbR.set_vel(S, vL * S.x / 2)\n",
      "             \n",
      "spbL = spc.locatenew('spbL', -L * S.x / 2)\n",
      "spbL.set_vel(S, -vL * S.x / 2)\n",
      "\n",
      "### Chromosomes\n",
      "ch = spc.locatenew('ch', c_n * S.x)\n",
      "ch.set_vel(S, vc_n * S.x)\n",
      "\n",
      "### centromere and attachment site A\n",
      "cenA = ch.locatenew('cenA', -(l_n + d_0)/2 * S.x)\n",
      "cenA.set_vel(S, ch.vel(S) - vl_n/2 * S.x)\n",
      "\n",
      "as_A = cenA.locatenew('as_A', - d_A * S.x)\n",
      "as_A.set_vel(S, cenA.vel(S) - vd_A * S.x)\n",
      "\n",
      "### centromere and attachment site A\n",
      "cenB = ch.locatenew('cenB', (l_n + d_0)/2 * S.x)\n",
      "cenB.set_vel(S, ch.vel(S) + vl_n/2 * S.x)\n",
      "\n",
      "as_B = cenB.locatenew('as_B', d_B * S.x)\n",
      "as_B.set_vel(S, cenB.vel(S) + vd_B * S.x)\n",
      "\n",
      "\n",
      "spindle.points = [spbR, spbL, ch, cenA, as_A, cenB, as_B]"
     ],
     "language": "python",
     "metadata": {},
     "outputs": [],
     "prompt_number": 12
    },
    {
     "cell_type": "markdown",
     "metadata": {},
     "source": [
      "#### access a relative speed"
     ]
    },
    {
     "cell_type": "code",
     "collapsed": false,
     "input": [
      "v_AR = cenA.pos_from(spbR).dt(S)\n",
      "## uncomment to project along S.x \n",
      "#v_AR = v_AR & S.x\n",
      "v_AR"
     ],
     "language": "python",
     "metadata": {},
     "outputs": [
      {
       "latex": [
        "$$(- \\frac{\\dot{L}}{2} + \\dot{c}_{n} - \\frac{\\dot{l}_{n}}{2})\\mathbf{\\hat{s}_x}$$"
       ],
       "metadata": {},
       "output_type": "pyout",
       "png": "[encoded data removed]",
       "prompt_number": 13,
       "text": [
        "\u239b  L\u0307          l_\u0307n\u239e\n",
        "\u239c- \u2500\u2500 + c_\u0307n - \u2500\u2500\u2500\u2500\u239f\n",
        "\u239d  2            2  \u23a0 s_x"
       ]
      }
     ],
     "prompt_number": 13
    },
    {
     "cell_type": "markdown",
     "metadata": {},
     "source": [
      "## Forces and energies"
     ]
    },
    {
     "cell_type": "markdown",
     "metadata": {},
     "source": [
      "### Viscous drag\n",
      "\n",
      "* Spindle length:\n",
      "$$F^r_s = -\\mu_s \\dot{L}$$\n",
      "\n",
      "* Chromosome:\n",
      "$$F^r_{ch} = -\\mu_{ch} \\dot{c_n}$$\n"
     ]
    },
    {
     "cell_type": "markdown",
     "metadata": {},
     "source": [
      "### Damped springs\n",
      "\n",
      "* Centromere pair\n",
      "$$F^s_c = \\kappa_c l_n - \\mu_c \\dot{l_n}$$\n",
      "\n",
      "* Kinetochore (cenA)\n",
      "$$F^s_k = \\kappa_k d_A - \\mu_k \\dot{d_A}$$\n",
      "Note that all equations are identical for A and B.\n",
      "\n",
      "\n",
      "This is implemented in the class DampedSpring"
     ]
    },
    {
     "cell_type": "code",
     "collapsed": false,
     "input": [
      "print(DampedSpring.new.__doc__)\n"
     ],
     "language": "python",
     "metadata": {},
     "outputs": [
      {
       "output_type": "stream",
       "stream": "stdout",
       "text": [
        "Adds an over-damped spring in `spindle`\n",
        "\n",
        "        Parameters\n",
        "        ----------\n",
        "        spindle: a :class:`kt_simul.SympySpinde` instance\n",
        "        length : dynamicsymbol\n",
        "          the extension of the spring corrected for eq. distance.\n",
        "        lengthd : dynamicsymbol\n",
        "          the damped speed\n",
        "        kappa : Young modulus\n",
        "        mu : friction coefficient\n",
        "        poitn1, point2: extremities of the spring\n",
        "        e_F : unit vector allong the force axis\n",
        "        \n"
       ]
      }
     ],
     "prompt_number": 14
    },
    {
     "cell_type": "markdown",
     "metadata": {},
     "source": [
      "### Linear force-velocity relationship\n",
      "\n",
      "#### Definition\n",
      "\n",
      "A linear force velocity relationship is used to model the traction exerted \n",
      "by molecular motors between two objects. We have:\n",
      "\n",
      "$$ F = F_{max} \\gamma ( 1 -  \\frac{u2 - u1}{V_{max}}) \\mathbf{e}_F $$\n",
      "\n",
      "where $F_{max}$ is the stall force and $V_{max}$ the maximum speed (in the intended regime).\n"
     ]
    },
    {
     "cell_type": "markdown",
     "metadata": {},
     "source": [
      "For each of the motors, we define the generalized distance and the generalized speed associated."
     ]
    },
    {
     "cell_type": "code",
     "collapsed": false,
     "input": [
      "print(LinearFV.__doc__)"
     ],
     "language": "python",
     "metadata": {},
     "outputs": [
      {
       "output_type": "stream",
       "stream": "stdout",
       "text": [
        "\n",
        "    Linear Force velocity relationship\n",
        "    F = F_max(1 - gamma * (u2 - u1)/V_max)e_F\n",
        "\n",
        "        p1      p2\n",
        "          .____.\n",
        "       <--     -->\n",
        "        -F      F gamma = 1\n",
        "\n",
        "        -->   <--\n",
        "        -F      F gamma = -1\n",
        "\n",
        "    Attributes\n",
        "    ----------\n",
        "\n",
        "    F : force vector\n",
        "    v: expression\n",
        "         the relative speed of point2 wrt to point 1\n",
        "\n",
        "    We have\n",
        "    ..math:\n",
        "        F = \\gamma F_{max} ( 1 - \f",
        "rac{v}{V_{max}})\n",
        "\n",
        "    \n"
       ]
      }
     ],
     "prompt_number": 15
    },
    {
     "cell_type": "markdown",
     "metadata": {},
     "source": [
      "### Application to the spindle"
     ]
    },
    {
     "cell_type": "code",
     "collapsed": false,
     "input": [
      "### reset forces\n",
      "spindle.forces = []\n",
      "\n",
      "spring_ch = DampedSpring.new(spindle, S, cenA, cenB,\n",
      "                             kappa_c, mu_c, d_0, e_F=S.x)\n",
      "\n",
      "spring_cA = DampedSpring.new(spindle, S, as_A, cenA,\n",
      "                             kappa_k, mu_k, 0, e_F=S.x)\n",
      "\n",
      "spring_cB = DampedSpring.new(spindle, S, as_B, cenB,\n",
      "                             kappa_k, mu_k, 0, e_F=-S.x)\n",
      "\n",
      "## Frictions\n",
      "viscous_spbL = ViscousDrag.new(spindle, S, spbL, mu_s)\n",
      "viscous_spbR = ViscousDrag.new(spindle, S, spbR, mu_s)\n",
      "\n",
      "### just to be coherent with the original problem - maybe we can apply those forces to the entire chromosome\n",
      "viscous_cenA = ViscousDrag.new(spindle, S, cenA, mu_ch)\n",
      "viscous_cenB = ViscousDrag.new(spindle, S, cenB, mu_ch)\n",
      "\n",
      "\n",
      "## Linear force velocity relationships\n",
      "\n",
      "## Midzone (expanding)\n",
      "lfv_mz = LinearFV.new(spindle, S,\n",
      "                      spbL, spbR,\n",
      "                      F_mz, V_mz, 1, e_F=S.x)\n",
      "### attachment site A to spbL (retracting)\n",
      "lfv_ktA = LinearFV.new(spindle, S,\n",
      "                       spbL, as_A,\n",
      "                       F_k, V_k, -1, e_F=S.x)\n",
      "\n",
      "### attachment site B to spbR (retracting)\n",
      "lfv_ktB = LinearFV.new(spindle, S,\n",
      "                       spbR, as_B,\n",
      "                       F_k, V_k, -1, e_F=-S.x)\n"
     ],
     "language": "python",
     "metadata": {},
     "outputs": [],
     "prompt_number": 16
    },
    {
     "cell_type": "code",
     "collapsed": false,
     "input": [
      "lfv_ktB.F"
     ],
     "language": "python",
     "metadata": {},
     "outputs": [
      {
       "latex": [
        "$$-  F_{k} \\left(-1 - \\frac{1}{V_{k}} \\left(\\frac{^vL}{2} - ^vc_{n} - ^vd_{B} - \\frac{^vl_{n}}{2}\\right)\\right)\\mathbf{\\hat{s}_x}$$"
       ],
       "metadata": {},
       "output_type": "pyout",
       "png": "[encoded data removed]",
       "prompt_number": 17,
       "text": [
        "     \u239b     ^vL                   ^vl_n\u239e\n",
        "     \u239c     \u2500\u2500\u2500 - ^vc_n - ^vd_B - \u2500\u2500\u2500\u2500\u2500\u239f\n",
        "     \u239c      2                      2  \u239f\n",
        "-F_k\u22c5\u239c-1 - \u2500\u2500\u2500\u2500\u2500\u2500\u2500\u2500\u2500\u2500\u2500\u2500\u2500\u2500\u2500\u2500\u2500\u2500\u2500\u2500\u2500\u2500\u2500\u2500\u2500\u2500\u2500\u239f\n",
        "     \u239d                 V_k            \u23a0 s_x"
       ]
      }
     ],
     "prompt_number": 17
    },
    {
     "cell_type": "code",
     "collapsed": false,
     "input": [
      "spring_ch.F_k"
     ],
     "language": "python",
     "metadata": {},
     "outputs": [
      {
       "latex": [
        "$$-  \\kappa_{c} l_{n}\\mathbf{\\hat{s}_x}$$"
       ],
       "metadata": {},
       "output_type": "pyout",
       "png": "[encoded data removed]",
       "prompt_number": 18,
       "text": [
        "- \u03ba_c\u22c5l_n s_x"
       ]
      }
     ],
     "prompt_number": 18
    },
    {
     "cell_type": "markdown",
     "metadata": {},
     "source": [
      "### Kanes Method"
     ]
    },
    {
     "cell_type": "code",
     "collapsed": false,
     "input": [
      "spindle.q_ind, spindle.u_ind"
     ],
     "language": "python",
     "metadata": {},
     "outputs": [
      {
       "latex": [
        "$$\\left ( \\left [ L, \\quad c_{n}, \\quad l_{n}, \\quad d_{A}, \\quad d_{B}\\right ], \\quad \\left [ ^vL, \\quad ^vc_{n}, \\quad ^vl_{n}, \\quad ^vd_{A}, \\quad ^vd_{B}\\right ]\\right )$$"
       ],
       "metadata": {},
       "output_type": "pyout",
       "png": "[encoded data removed]",
       "prompt_number": 19,
       "text": [
        "([L, c_n, l_n, d_A, d_B], [^vL, ^vc_n, ^vl_n, ^vd_A, ^vd_B])"
       ]
      }
     ],
     "prompt_number": 19
    },
    {
     "cell_type": "code",
     "collapsed": false,
     "input": [
      "spindle.kd"
     ],
     "language": "python",
     "metadata": {},
     "outputs": [
      {
       "latex": [
        "$$\\left [ - ^vL + \\dot{L}, \\quad - ^vc_{n} + \\dot{c}_{n}, \\quad - ^vl_{n} + \\dot{l}_{n}, \\quad - ^vd_{A} + \\dot{d}_{A}, \\quad - ^vd_{B} + \\dot{d}_{B}\\right ]$$"
       ],
       "metadata": {},
       "output_type": "pyout",
       "png": "[encoded data removed]",
       "prompt_number": 20,
       "text": [
        "[-^vL + L\u0307, -^vc_n + c_\u0307n, -^vl_n + l_\u0307n, -^vd_A + d_\u0307A, -^vd_B + d_\u0307B]"
       ]
      }
     ],
     "prompt_number": 20
    },
    {
     "cell_type": "code",
     "collapsed": false,
     "input": [
      "KM = KanesMethod(S, spindle.q_ind, spindle.u_ind, spindle.kd,)"
     ],
     "language": "python",
     "metadata": {},
     "outputs": [],
     "prompt_number": 21
    },
    {
     "cell_type": "code",
     "collapsed": false,
     "input": [
      "particles = [Particle('p{}'.format(point.name), point, 0) # zero mass\n",
      "             for point in set(spindle.points)]\n",
      "\n",
      "(eoms, frstar) = KM.kanes_equations(spindle.forces,\n",
      "                                    particles)"
     ],
     "language": "python",
     "metadata": {},
     "outputs": [],
     "prompt_number": 22
    },
    {
     "cell_type": "code",
     "collapsed": false,
     "input": [
      "eoms"
     ],
     "language": "python",
     "metadata": {},
     "outputs": [
      {
       "latex": [
        "$$\\left[\\begin{matrix}\\frac{F_{k}}{2} \\left(-1 - \\frac{1}{V_{k}} \\left(\\frac{^vL}{2} - ^vc_{n} - ^vd_{B} - \\frac{^vl_{n}}{2}\\right)\\right) - \\frac{F_{k}}{2} \\left(1 - \\frac{1}{V_{k}} \\left(- \\frac{^vL}{2} - ^vc_{n} + ^vd_{A} + \\frac{^vl_{n}}{2}\\right)\\right) + F_{mz} \\left(1 - \\frac{^vL}{V_{mz}}\\right) - \\frac{\\mu_{s} ^vL}{2}\\\\- F_{k} \\left(-1 - \\frac{1}{V_{k}} \\left(\\frac{^vL}{2} - ^vc_{n} - ^vd_{B} - \\frac{^vl_{n}}{2}\\right)\\right) - F_{k} \\left(1 - \\frac{1}{V_{k}} \\left(- \\frac{^vL}{2} - ^vc_{n} + ^vd_{A} + \\frac{^vl_{n}}{2}\\right)\\right) - \\mu_{ch} \\left(^vc_{n} - \\frac{^vl_{n}}{2}\\right) - \\mu_{ch} \\left(^vc_{n} + \\frac{^vl_{n}}{2}\\right)\\\\- \\frac{F_{k}}{2} \\left(-1 - \\frac{1}{V_{k}} \\left(\\frac{^vL}{2} - ^vc_{n} - ^vd_{B} - \\frac{^vl_{n}}{2}\\right)\\right) + \\frac{F_{k}}{2} \\left(1 - \\frac{1}{V_{k}} \\left(- \\frac{^vL}{2} - ^vc_{n} + ^vd_{A} + \\frac{^vl_{n}}{2}\\right)\\right) - \\kappa_{c} l_{n} - \\mu_{c} ^vl_{n} + \\frac{\\mu_{ch}}{2} \\left(^vc_{n} - \\frac{^vl_{n}}{2}\\right) - \\frac{\\mu_{ch}}{2} \\left(^vc_{n} + \\frac{^vl_{n}}{2}\\right)\\\\F_{k} \\left(1 - \\frac{1}{V_{k}} \\left(- \\frac{^vL}{2} - ^vc_{n} + ^vd_{A} + \\frac{^vl_{n}}{2}\\right)\\right) - \\kappa_{k} d_{A} - \\mu_{k} ^vd_{A}\\\\- F_{k} \\left(-1 - \\frac{1}{V_{k}} \\left(\\frac{^vL}{2} - ^vc_{n} - ^vd_{B} - \\frac{^vl_{n}}{2}\\right)\\right) - \\kappa_{k} d_{B} - \\mu_{k} ^vd_{B}\\end{matrix}\\right]$$"
       ],
       "metadata": {},
       "output_type": "pyout",
       "png": "[encoded data removed]",
       "prompt_number": 23,
       "text": [
        "\u23a1                         \u239b     ^vL                   ^vl_n\u239e       \u239b      ^vL \n",
        "\u23a2                         \u239c     \u2500\u2500\u2500 - ^vc_n - ^vd_B - \u2500\u2500\u2500\u2500\u2500\u239f       \u239c    - \u2500\u2500\u2500 \n",
        "\u23a2                         \u239c      2                      2  \u239f       \u239c       2  \n",
        "\u23a2                     F_k\u22c5\u239c-1 - \u2500\u2500\u2500\u2500\u2500\u2500\u2500\u2500\u2500\u2500\u2500\u2500\u2500\u2500\u2500\u2500\u2500\u2500\u2500\u2500\u2500\u2500\u2500\u2500\u2500\u2500\u2500\u239f   F_k\u22c5\u239c1 - \u2500\u2500\u2500\u2500\u2500\u2500\n",
        "\u23a2                         \u239d                 V_k            \u23a0       \u239d          \n",
        "\u23a2                     \u2500\u2500\u2500\u2500\u2500\u2500\u2500\u2500\u2500\u2500\u2500\u2500\u2500\u2500\u2500\u2500\u2500\u2500\u2500\u2500\u2500\u2500\u2500\u2500\u2500\u2500\u2500\u2500\u2500\u2500\u2500\u2500\u2500\u2500\u2500\u2500\u2500\u2500 - \u2500\u2500\u2500\u2500\u2500\u2500\u2500\u2500\u2500\u2500\u2500\u2500\u2500\u2500\u2500\n",
        "\u23a2                                       2                                     \n",
        "\u23a2                                                                             \n",
        "\u23a2                 \u239b     ^vL                   ^vl_n\u239e       \u239b      ^vL         \n",
        "\u23a2                 \u239c     \u2500\u2500\u2500 - ^vc_n - ^vd_B - \u2500\u2500\u2500\u2500\u2500\u239f       \u239c    - \u2500\u2500\u2500 - ^vc_n \n",
        "\u23a2                 \u239c      2                      2  \u239f       \u239c       2          \n",
        "\u23a2           - F_k\u22c5\u239c-1 - \u2500\u2500\u2500\u2500\u2500\u2500\u2500\u2500\u2500\u2500\u2500\u2500\u2500\u2500\u2500\u2500\u2500\u2500\u2500\u2500\u2500\u2500\u2500\u2500\u2500\u2500\u2500\u239f - F_k\u22c5\u239c1 - \u2500\u2500\u2500\u2500\u2500\u2500\u2500\u2500\u2500\u2500\u2500\u2500\u2500\u2500\n",
        "\u23a2                 \u239d                 V_k            \u23a0       \u239d                 V\n",
        "\u23a2                                                                             \n",
        "\u23a2      \u239b     ^vL                   ^vl_n\u239e       \u239b      ^vL                   ^\n",
        "\u23a2      \u239c     \u2500\u2500\u2500 - ^vc_n - ^vd_B - \u2500\u2500\u2500\u2500\u2500\u239f       \u239c    - \u2500\u2500\u2500 - ^vc_n + ^vd_A + \u2500\n",
        "\u23a2      \u239c      2                      2  \u239f       \u239c       2                     \n",
        "\u23a2  F_k\u22c5\u239c-1 - \u2500\u2500\u2500\u2500\u2500\u2500\u2500\u2500\u2500\u2500\u2500\u2500\u2500\u2500\u2500\u2500\u2500\u2500\u2500\u2500\u2500\u2500\u2500\u2500\u2500\u2500\u2500\u239f   F_k\u22c5\u239c1 - \u2500\u2500\u2500\u2500\u2500\u2500\u2500\u2500\u2500\u2500\u2500\u2500\u2500\u2500\u2500\u2500\u2500\u2500\u2500\u2500\u2500\u2500\u2500\u2500\u2500\n",
        "\u23a2      \u239d                 V_k            \u23a0       \u239d                 V_k         \n",
        "\u23a2- \u2500\u2500\u2500\u2500\u2500\u2500\u2500\u2500\u2500\u2500\u2500\u2500\u2500\u2500\u2500\u2500\u2500\u2500\u2500\u2500\u2500\u2500\u2500\u2500\u2500\u2500\u2500\u2500\u2500\u2500\u2500\u2500\u2500\u2500\u2500\u2500\u2500\u2500 + \u2500\u2500\u2500\u2500\u2500\u2500\u2500\u2500\u2500\u2500\u2500\u2500\u2500\u2500\u2500\u2500\u2500\u2500\u2500\u2500\u2500\u2500\u2500\u2500\u2500\u2500\u2500\u2500\u2500\u2500\u2500\u2500\u2500\u2500\n",
        "\u23a2                    2                                         2              \n",
        "\u23a2                                                                             \n",
        "\u23a2                                                \u239b      ^vL                   \n",
        "\u23a2                                                \u239c    - \u2500\u2500\u2500 - ^vc_n + ^vd_A + \n",
        "\u23a2                                                \u239c       2                    \n",
        "\u23a2                                            F_k\u22c5\u239c1 - \u2500\u2500\u2500\u2500\u2500\u2500\u2500\u2500\u2500\u2500\u2500\u2500\u2500\u2500\u2500\u2500\u2500\u2500\u2500\u2500\u2500\u2500\u2500\u2500\n",
        "\u23a2                                                \u239d                 V_k        \n",
        "\u23a2                                                                             \n",
        "\u23a2                                                  \u239b     ^vL                  \n",
        "\u23a2                                                  \u239c     \u2500\u2500\u2500 - ^vc_n - ^vd_B -\n",
        "\u23a2                                                  \u239c      2                   \n",
        "\u23a2                                            - F_k\u22c5\u239c-1 - \u2500\u2500\u2500\u2500\u2500\u2500\u2500\u2500\u2500\u2500\u2500\u2500\u2500\u2500\u2500\u2500\u2500\u2500\u2500\u2500\u2500\n",
        "\u23a3                                                  \u239d                 V_k      \n",
        "\n",
        "                  ^vl_n\u239e                                                 \u23a4\n",
        "- ^vc_n + ^vd_A + \u2500\u2500\u2500\u2500\u2500\u239f                                                 \u23a5\n",
        "                    2  \u239f                                                 \u23a5\n",
        "\u2500\u2500\u2500\u2500\u2500\u2500\u2500\u2500\u2500\u2500\u2500\u2500\u2500\u2500\u2500\u2500\u2500\u2500\u2500\u2500\u2500\u2500\u2500\u239f                                                 \u23a5\n",
        "       V_k             \u23a0        \u239b    ^vL \u239e   \u03bc_s\u22c5^vL                     \u23a5\n",
        "\u2500\u2500\u2500\u2500\u2500\u2500\u2500\u2500\u2500\u2500\u2500\u2500\u2500\u2500\u2500\u2500\u2500\u2500\u2500\u2500\u2500\u2500\u2500\u2500 + F_mz\u22c5\u239c1 - \u2500\u2500\u2500\u2500\u239f - \u2500\u2500\u2500\u2500\u2500\u2500\u2500                     \u23a5\n",
        "    2                           \u239d    V_mz\u23a0      2                        \u23a5\n",
        "                                                                         \u23a5\n",
        "          ^vl_n\u239e                                                         \u23a5\n",
        "+ ^vd_A + \u2500\u2500\u2500\u2500\u2500\u239f                                                         \u23a5\n",
        "            2  \u239f        \u239b        ^vl_n\u239e        \u239b        ^vl_n\u239e           \u23a5\n",
        "\u2500\u2500\u2500\u2500\u2500\u2500\u2500\u2500\u2500\u2500\u2500\u2500\u2500\u2500\u2500\u239f - \u03bc_ch\u22c5\u239c^vc_n - \u2500\u2500\u2500\u2500\u2500\u239f - \u03bc_ch\u22c5\u239c^vc_n + \u2500\u2500\u2500\u2500\u2500\u239f           \u23a5\n",
        "_k             \u23a0        \u239d          2  \u23a0        \u239d          2  \u23a0           \u23a5\n",
        "                                                                         \u23a5\n",
        "vl_n\u239e                                                                    \u23a5\n",
        "\u2500\u2500\u2500\u2500\u239f                                                                    \u23a5\n",
        " 2  \u239f                              \u239b        ^vl_n\u239e        \u239b        ^vl_n\u239e\u23a5\n",
        "\u2500\u2500\u2500\u2500\u239f                         \u03bc_ch\u22c5\u239c^vc_n - \u2500\u2500\u2500\u2500\u2500\u239f   \u03bc_ch\u22c5\u239c^vc_n + \u2500\u2500\u2500\u2500\u2500\u239f\u23a5\n",
        "    \u23a0                              \u239d          2  \u23a0        \u239d          2  \u23a0\u23a5\n",
        "\u2500\u2500\u2500\u2500\u2500 - \u03ba_c\u22c5l_n - \u03bc_c\u22c5^vl_n + \u2500\u2500\u2500\u2500\u2500\u2500\u2500\u2500\u2500\u2500\u2500\u2500\u2500\u2500\u2500\u2500\u2500\u2500\u2500\u2500 - \u2500\u2500\u2500\u2500\u2500\u2500\u2500\u2500\u2500\u2500\u2500\u2500\u2500\u2500\u2500\u2500\u2500\u2500\u2500\u2500\u23a5\n",
        "                                       2                      2          \u23a5\n",
        "                                                                         \u23a5\n",
        "^vl_n\u239e                                                                   \u23a5\n",
        "\u2500\u2500\u2500\u2500\u2500\u239f                                                                   \u23a5\n",
        "  2  \u239f                                                                   \u23a5\n",
        "\u2500\u2500\u2500\u2500\u2500\u239f - \u03ba_k\u22c5d_A - \u03bc_k\u22c5^vd_A                                             \u23a5\n",
        "     \u23a0                                                                   \u23a5\n",
        "                                                                         \u23a5\n",
        " ^vl_n\u239e                                                                  \u23a5\n",
        " \u2500\u2500\u2500\u2500\u2500\u239f                                                                  \u23a5\n",
        "   2  \u239f                                                                  \u23a5\n",
        "\u2500\u2500\u2500\u2500\u2500\u2500\u239f - \u03ba_k\u22c5d_B - \u03bc_k\u22c5^vd_B                                            \u23a5\n",
        "      \u23a0                                                                  \u23a6"
       ]
      }
     ],
     "prompt_number": 23
    },
    {
     "cell_type": "code",
     "collapsed": false,
     "input": [
      "A_uu = eoms.jacobian(Matrix(spindle.u_ind))"
     ],
     "language": "python",
     "metadata": {},
     "outputs": [],
     "prompt_number": 24
    },
    {
     "cell_type": "code",
     "collapsed": false,
     "input": [
      "A_vv = trans.T.multiply(A_uu.multiply(trans))\n"
     ],
     "language": "python",
     "metadata": {},
     "outputs": [],
     "prompt_number": 25
    },
    {
     "cell_type": "code",
     "collapsed": false,
     "input": [
      "A_vv"
     ],
     "language": "python",
     "metadata": {},
     "outputs": [
      {
       "latex": [
        "$$\\left[\\begin{matrix}- \\frac{2 F_{k}}{V_{k}} - \\frac{4 F_{mz}}{V_{mz}} - 2 \\mu_{s} & 0 & - \\frac{F_{k}}{V_{k}} & 0 & \\frac{F_{k}}{V_{k}}\\\\0 & - \\mu_{c} - \\mu_{ch} - \\mu_{k} & \\mu_{k} & \\mu_{c} & 0\\\\- \\frac{F_{k}}{V_{k}} & \\mu_{k} & - \\frac{F_{k}}{V_{k}} - \\mu_{k} & 0 & 0\\\\0 & \\mu_{c} & 0 & - \\mu_{c} - \\mu_{ch} - \\mu_{k} & \\mu_{k}\\\\\\frac{F_{k}}{V_{k}} & 0 & 0 & \\mu_{k} & - \\frac{F_{k}}{V_{k}} - \\mu_{k}\\end{matrix}\\right]$$"
       ],
       "metadata": {},
       "output_type": "pyout",
       "png": "[encoded data removed]",
       "prompt_number": 26,
       "text": [
        "\u23a1  2\u22c5F_k   4\u22c5F_mz                                -F_k                         \n",
        "\u23a2- \u2500\u2500\u2500\u2500\u2500 - \u2500\u2500\u2500\u2500\u2500\u2500 - 2\u22c5\u03bc_s          0             \u2500\u2500\u2500\u2500\u2500             0          \n",
        "\u23a2   V_k     V_mz                                  V_k                         \n",
        "\u23a2                                                                             \n",
        "\u23a2           0              -\u03bc_c - \u03bc_ch - \u03bc_k      \u03bc_k             \u03bc_c         \n",
        "\u23a2                                                                             \n",
        "\u23a2         -F_k                                  F_k                           \n",
        "\u23a2         \u2500\u2500\u2500\u2500\u2500                   \u03bc_k         - \u2500\u2500\u2500 - \u03bc_k          0          \n",
        "\u23a2          V_k                                  V_k                           \n",
        "\u23a2                                                                             \n",
        "\u23a2           0                     \u03bc_c              0       -\u03bc_c - \u03bc_ch - \u03bc_k  \n",
        "\u23a2                                                                             \n",
        "\u23a2          F_k                                                                \n",
        "\u23a2          \u2500\u2500\u2500                     0               0              \u03bc_k         \n",
        "\u23a3          V_k                                                                \n",
        "\n",
        "    F_k    \u23a4\n",
        "    \u2500\u2500\u2500    \u23a5\n",
        "    V_k    \u23a5\n",
        "           \u23a5\n",
        "     0     \u23a5\n",
        "           \u23a5\n",
        "           \u23a5\n",
        "     0     \u23a5\n",
        "           \u23a5\n",
        "           \u23a5\n",
        "    \u03bc_k    \u23a5\n",
        "           \u23a5\n",
        "  F_k      \u23a5\n",
        "- \u2500\u2500\u2500 - \u03bc_k\u23a5\n",
        "  V_k      \u23a6"
       ]
      }
     ],
     "prompt_number": 26
    },
    {
     "cell_type": "code",
     "collapsed": false,
     "input": [
      "B_qq = eoms.jacobian(Matrix(spindle.q_ind))"
     ],
     "language": "python",
     "metadata": {},
     "outputs": [],
     "prompt_number": 27
    },
    {
     "cell_type": "code",
     "collapsed": false,
     "input": [
      "B_xx = trans.T.multiply(B_qq.multiply(trans))\n"
     ],
     "language": "python",
     "metadata": {},
     "outputs": [],
     "prompt_number": 28
    },
    {
     "cell_type": "code",
     "collapsed": false,
     "input": [
      "B_xx"
     ],
     "language": "python",
     "metadata": {},
     "outputs": [
      {
       "latex": [
        "$$\\left[\\begin{matrix}0 & 0 & 0 & 0 & 0\\\\0 & - \\kappa_{c} - \\kappa_{k} & \\kappa_{k} & \\kappa_{c} & 0\\\\0 & \\kappa_{k} & - \\kappa_{k} & 0 & 0\\\\0 & \\kappa_{c} & 0 & - \\kappa_{c} - \\kappa_{k} & \\kappa_{k}\\\\0 & 0 & 0 & \\kappa_{k} & - \\kappa_{k}\\end{matrix}\\right]$$"
       ],
       "metadata": {},
       "output_type": "pyout",
       "png": "[encoded data removed]",
       "prompt_number": 29,
       "text": [
        "\u23a10      0        0        0        0  \u23a4\n",
        "\u23a2                                     \u23a5\n",
        "\u23a20  -\u03ba_c - \u03ba_k  \u03ba_k      \u03ba_c       0  \u23a5\n",
        "\u23a2                                     \u23a5\n",
        "\u23a20     \u03ba_k      -\u03ba_k      0        0  \u23a5\n",
        "\u23a2                                     \u23a5\n",
        "\u23a20     \u03ba_c       0    -\u03ba_c - \u03ba_k  \u03ba_k \u23a5\n",
        "\u23a2                                     \u23a5\n",
        "\u23a30      0        0       \u03ba_k      -\u03ba_k\u23a6"
       ]
      }
     ],
     "prompt_number": 29
    },
    {
     "cell_type": "code",
     "collapsed": false,
     "input": [
      "u_zero = {u:0 for u in spindle.u_ind}\n",
      "q_zero = {q:0 for q in spindle.q_ind}\n"
     ],
     "language": "python",
     "metadata": {},
     "outputs": [],
     "prompt_number": 30
    },
    {
     "cell_type": "code",
     "collapsed": false,
     "input": [
      "C = eoms.subs(u_zero).subs(q_zero)"
     ],
     "language": "python",
     "metadata": {},
     "outputs": [],
     "prompt_number": 31
    },
    {
     "cell_type": "code",
     "collapsed": false,
     "input": [
      "C"
     ],
     "language": "python",
     "metadata": {},
     "outputs": [
      {
       "latex": [
        "$$\\left[\\begin{matrix}- F_{k} + F_{mz}\\\\0\\\\F_{k}\\\\F_{k}\\\\F_{k}\\end{matrix}\\right]$$"
       ],
       "metadata": {},
       "output_type": "pyout",
       "png": "[encoded data removed]",
       "prompt_number": 32,
       "text": [
        "\u23a1-F_k + F_mz\u23a4\n",
        "\u23a2           \u23a5\n",
        "\u23a2     0     \u23a5\n",
        "\u23a2           \u23a5\n",
        "\u23a2    F_k    \u23a5\n",
        "\u23a2           \u23a5\n",
        "\u23a2    F_k    \u23a5\n",
        "\u23a2           \u23a5\n",
        "\u23a3    F_k    \u23a6"
       ]
      }
     ],
     "prompt_number": 32
    },
    {
     "cell_type": "code",
     "collapsed": false,
     "input": [
      "from sympy import solve"
     ],
     "language": "python",
     "metadata": {},
     "outputs": [],
     "prompt_number": 33
    },
    {
     "cell_type": "code",
     "collapsed": false,
     "input": [
      "sol = solve(eoms.subs({F_k:1, V_k:1}), spindle.u_ind) "
     ],
     "language": "python",
     "metadata": {},
     "outputs": [],
     "prompt_number": 38
    },
    {
     "cell_type": "code",
     "collapsed": false,
     "input": [
      "sol"
     ],
     "language": "python",
     "metadata": {},
     "outputs": [
      {
       "latex": [
        "$$\\left \\{ ^vL : \\frac{V_{mz} \\left(4 F_{mz} \\mu_{c} \\mu_{k} + 4 F_{mz} \\mu_{c} + 2 F_{mz} \\mu_{ch} \\mu_{k} + 2 F_{mz} \\mu_{ch} + 2 F_{mz} \\mu_{k} - 2 \\kappa_{c} \\mu_{k} l_{n} - 2 \\kappa_{k} \\mu_{c} d_{A} - 2 \\kappa_{k} \\mu_{c} d_{B} - \\kappa_{k} \\mu_{ch} d_{A} - \\kappa_{k} \\mu_{ch} d_{B} - 4 \\mu_{c} \\mu_{k} - 2 \\mu_{ch} \\mu_{k}\\right)}{4 F_{mz} \\mu_{c} \\mu_{k} + 4 F_{mz} \\mu_{c} + 2 F_{mz} \\mu_{ch} \\mu_{k} + 2 F_{mz} \\mu_{ch} + 2 F_{mz} \\mu_{k} + 2 V_{mz} \\mu_{c} \\mu_{k} \\mu_{s} + 2 V_{mz} \\mu_{c} \\mu_{k} + 2 V_{mz} \\mu_{c} \\mu_{s} + V_{mz} \\mu_{ch} \\mu_{k} \\mu_{s} + V_{mz} \\mu_{ch} \\mu_{k} + V_{mz} \\mu_{ch} \\mu_{s} + V_{mz} \\mu_{k} \\mu_{s}}, \\quad ^vc_{n} : - \\frac{\\kappa_{k} \\left(d_{A} - d_{B}\\right)}{2 \\mu_{ch} \\mu_{k} + 2 \\mu_{ch} + 2 \\mu_{k}}, \\quad ^vd_{A} : \\frac{- V_{mz} \\left(F_{mz} - 1\\right) \\left(2 \\mu_{c} \\left(\\mu_{ch} + 1\\right) - 2 \\mu_{c} + \\mu_{ch} \\left(\\mu_{ch} + 1\\right) - \\mu_{ch} + \\mu_{k} \\left(\\mu_{ch} + 1\\right) \\left(2 \\mu_{c} + \\mu_{ch} + 1\\right) - \\mu_{k} \\left(\\mu_{ch} + 1\\right)\\right) + \\left(\\kappa_{c} l_{n} - 1\\right) \\left(V_{mz} \\mu_{ch} + V_{mz} \\mu_{k} \\left(\\mu_{ch} + 1\\right) - \\mu_{ch} \\left(2 F_{mz} + V_{mz} \\mu_{s} + V_{mz}\\right) - \\mu_{k} \\left(\\mu_{ch} + 1\\right) \\left(2 F_{mz} + V_{mz} \\mu_{s} + V_{mz}\\right)\\right) - \\frac{1}{2} \\left(\\kappa_{k} d_{A} - 1\\right) \\left(4 F_{mz} + 2 V_{mz} \\mu_{c} \\left(\\mu_{ch} + 1\\right) + V_{mz} \\mu_{ch} \\left(\\mu_{ch} + 1\\right) + V_{mz} \\mu_{ch} + 2 V_{mz} \\mu_{k} \\left(\\mu_{ch} + 1\\right) + 2 V_{mz} \\mu_{s} + 2 V_{mz} + 2 \\mu_{c} \\left(2 F_{mz} + V_{mz} \\mu_{s} + V_{mz}\\right) + 2 \\mu_{ch} \\left(2 F_{mz} + V_{mz} \\mu_{s} + V_{mz}\\right) - 2 \\left(\\mu_{ch} + 1\\right) \\left(\\mu_{k} + 1\\right) \\left(2 F_{mz} + V_{mz} \\mu_{s} + V_{mz}\\right) \\left(2 \\mu_{c} + \\mu_{ch} + 1\\right)\\right) + \\frac{1}{2} \\left(\\kappa_{k} d_{B} - 1\\right) \\left(2 V_{mz} \\mu_{c} \\left(\\mu_{ch} + 1\\right) + V_{mz} \\mu_{ch} \\left(\\mu_{ch} + 1\\right) - V_{mz} \\mu_{ch} - 2 \\mu_{c} \\left(2 F_{mz} + V_{mz} \\mu_{s} + V_{mz}\\right)\\right)}{2 F_{mz} + 2 V_{mz} \\mu_{c} \\left(\\mu_{ch} + 1\\right) - 2 V_{mz} \\mu_{c} + V_{mz} \\mu_{ch} \\left(\\mu_{ch} + 1\\right) - 2 V_{mz} \\mu_{ch} + V_{mz} \\mu_{k} \\left(\\mu_{ch} + 1\\right) \\left(2 \\mu_{c} + \\mu_{ch} + 1\\right) - 2 V_{mz} \\mu_{k} \\left(\\mu_{ch} + 1\\right) - V_{mz} \\mu_{k} + V_{mz} \\mu_{s} + V_{mz} \\left(\\mu_{ch} + 1\\right) \\left(\\mu_{k} + 1\\right)^{2} + 2 \\mu_{c} \\left(2 F_{mz} + V_{mz} \\mu_{s} + V_{mz}\\right) + 2 \\mu_{ch} \\left(2 F_{mz} + V_{mz} \\mu_{s} + V_{mz}\\right) + \\mu_{k} \\left(\\mu_{ch} + 1\\right) \\left(2 F_{mz} + V_{mz} \\mu_{s} + V_{mz}\\right) + \\mu_{k} \\left(2 F_{mz} + V_{mz} \\mu_{s} + V_{mz}\\right) \\left(2 \\mu_{c} + \\mu_{ch} + 1\\right) - \\left(\\mu_{ch} + 1\\right) \\left(\\mu_{k} + 1\\right)^{2} \\left(2 F_{mz} + V_{mz} \\mu_{s} + V_{mz}\\right) \\left(2 \\mu_{c} + \\mu_{ch} + 1\\right)}, \\quad ^vd_{B} : \\frac{- V_{mz} \\left(F_{mz} - 1\\right) \\left(2 \\mu_{c} \\left(\\mu_{ch} + 1\\right) - 2 \\mu_{c} + \\mu_{ch} \\left(\\mu_{ch} + 1\\right) - \\mu_{ch} + \\mu_{k} \\left(\\mu_{ch} + 1\\right) \\left(2 \\mu_{c} + \\mu_{ch} + 1\\right) - \\mu_{k} \\left(\\mu_{ch} + 1\\right)\\right) + \\left(\\kappa_{c} l_{n} - 1\\right) \\left(V_{mz} \\mu_{ch} + V_{mz} \\mu_{k} \\left(\\mu_{ch} + 1\\right) - \\mu_{ch} \\left(2 F_{mz} + V_{mz} \\mu_{s} + V_{mz}\\right) - \\mu_{k} \\left(\\mu_{ch} + 1\\right) \\left(2 F_{mz} + V_{mz} \\mu_{s} + V_{mz}\\right)\\right) + \\frac{1}{2} \\left(\\kappa_{k} d_{A} - 1\\right) \\left(2 V_{mz} \\mu_{c} \\left(\\mu_{ch} + 1\\right) + V_{mz} \\mu_{ch} \\left(\\mu_{ch} + 1\\right) - V_{mz} \\mu_{ch} - 2 \\mu_{c} \\left(2 F_{mz} + V_{mz} \\mu_{s} + V_{mz}\\right)\\right) - \\frac{1}{2} \\left(\\kappa_{k} d_{B} - 1\\right) \\left(4 F_{mz} + 2 V_{mz} \\mu_{c} \\left(\\mu_{ch} + 1\\right) + V_{mz} \\mu_{ch} \\left(\\mu_{ch} + 1\\right) + V_{mz} \\mu_{ch} + 2 V_{mz} \\mu_{k} \\left(\\mu_{ch} + 1\\right) + 2 V_{mz} \\mu_{s} + 2 V_{mz} + 2 \\mu_{c} \\left(2 F_{mz} + V_{mz} \\mu_{s} + V_{mz}\\right) + 2 \\mu_{ch} \\left(2 F_{mz} + V_{mz} \\mu_{s} + V_{mz}\\right) - 2 \\left(\\mu_{ch} + 1\\right) \\left(\\mu_{k} + 1\\right) \\left(2 F_{mz} + V_{mz} \\mu_{s} + V_{mz}\\right) \\left(2 \\mu_{c} + \\mu_{ch} + 1\\right)\\right)}{2 F_{mz} + 2 V_{mz} \\mu_{c} \\left(\\mu_{ch} + 1\\right) - 2 V_{mz} \\mu_{c} + V_{mz} \\mu_{ch} \\left(\\mu_{ch} + 1\\right) - 2 V_{mz} \\mu_{ch} + V_{mz} \\mu_{k} \\left(\\mu_{ch} + 1\\right) \\left(2 \\mu_{c} + \\mu_{ch} + 1\\right) - 2 V_{mz} \\mu_{k} \\left(\\mu_{ch} + 1\\right) - V_{mz} \\mu_{k} + V_{mz} \\mu_{s} + V_{mz} \\left(\\mu_{ch} + 1\\right) \\left(\\mu_{k} + 1\\right)^{2} + 2 \\mu_{c} \\left(2 F_{mz} + V_{mz} \\mu_{s} + V_{mz}\\right) + 2 \\mu_{ch} \\left(2 F_{mz} + V_{mz} \\mu_{s} + V_{mz}\\right) + \\mu_{k} \\left(\\mu_{ch} + 1\\right) \\left(2 F_{mz} + V_{mz} \\mu_{s} + V_{mz}\\right) + \\mu_{k} \\left(2 F_{mz} + V_{mz} \\mu_{s} + V_{mz}\\right) \\left(2 \\mu_{c} + \\mu_{ch} + 1\\right) - \\left(\\mu_{ch} + 1\\right) \\left(\\mu_{k} + 1\\right)^{2} \\left(2 F_{mz} + V_{mz} \\mu_{s} + V_{mz}\\right) \\left(2 \\mu_{c} + \\mu_{ch} + 1\\right)}, \\quad ^vl_{n} : \\frac{2 F_{mz} V_{mz} \\mu_{k} - 4 F_{mz} \\kappa_{c} \\mu_{k} l_{n} - 4 F_{mz} \\kappa_{c} l_{n} + 2 F_{mz} \\kappa_{k} d_{A} + 2 F_{mz} \\kappa_{k} d_{B} + 4 F_{mz} \\mu_{k} - 2 V_{mz} \\kappa_{c} \\mu_{k} \\mu_{s} l_{n} - 2 V_{mz} \\kappa_{c} \\mu_{k} l_{n} - 2 V_{mz} \\kappa_{c} \\mu_{s} l_{n} + V_{mz} \\kappa_{k} \\mu_{s} d_{A} + V_{mz} \\kappa_{k} \\mu_{s} d_{B} + 2 V_{mz} \\mu_{k} \\mu_{s}}{4 F_{mz} \\mu_{c} \\mu_{k} + 4 F_{mz} \\mu_{c} + 2 F_{mz} \\mu_{ch} \\mu_{k} + 2 F_{mz} \\mu_{ch} + 2 F_{mz} \\mu_{k} + 2 V_{mz} \\mu_{c} \\mu_{k} \\mu_{s} + 2 V_{mz} \\mu_{c} \\mu_{k} + 2 V_{mz} \\mu_{c} \\mu_{s} + V_{mz} \\mu_{ch} \\mu_{k} \\mu_{s} + V_{mz} \\mu_{ch} \\mu_{k} + V_{mz} \\mu_{ch} \\mu_{s} + V_{mz} \\mu_{k} \\mu_{s}}\\right \\}$$"
       ],
       "metadata": {},
       "output_type": "pyout",
       "png": "[encoded data removed]",
       "prompt_number": 39,
       "text": [
        "\u23a7                                                                             \n",
        "\u23aa                                                                             \n",
        "\u23aa           V_mz\u22c5(4\u22c5F_mz\u22c5\u03bc_c\u22c5\u03bc_k + 4\u22c5F_mz\u22c5\u03bc_c + 2\u22c5F_mz\u22c5\u03bc_ch\u22c5\u03bc_k + 2\u22c5F_mz\u22c5\u03bc_ch \n",
        "\u23a8^vL: \u2500\u2500\u2500\u2500\u2500\u2500\u2500\u2500\u2500\u2500\u2500\u2500\u2500\u2500\u2500\u2500\u2500\u2500\u2500\u2500\u2500\u2500\u2500\u2500\u2500\u2500\u2500\u2500\u2500\u2500\u2500\u2500\u2500\u2500\u2500\u2500\u2500\u2500\u2500\u2500\u2500\u2500\u2500\u2500\u2500\u2500\u2500\u2500\u2500\u2500\u2500\u2500\u2500\u2500\u2500\u2500\u2500\u2500\u2500\u2500\u2500\u2500\u2500\u2500\u2500\u2500\u2500\u2500\u2500\u2500\u2500\u2500\n",
        "\u23aa     4\u22c5F_mz\u22c5\u03bc_c\u22c5\u03bc_k + 4\u22c5F_mz\u22c5\u03bc_c + 2\u22c5F_mz\u22c5\u03bc_ch\u22c5\u03bc_k + 2\u22c5F_mz\u22c5\u03bc_ch + 2\u22c5F_mz\u22c5\u03bc_k\n",
        "\u23aa                                                                             \n",
        "\u23a9                                                                             \n",
        "\n",
        "                                                                              \n",
        "                                                                              \n",
        "+ 2\u22c5F_mz\u22c5\u03bc_k - 2\u22c5\u03ba_c\u22c5\u03bc_k\u22c5l_n - 2\u22c5\u03ba_k\u22c5\u03bc_c\u22c5d_A - 2\u22c5\u03ba_k\u22c5\u03bc_c\u22c5d_B - \u03ba_k\u22c5\u03bc_ch\u22c5d_A - \n",
        "\u2500\u2500\u2500\u2500\u2500\u2500\u2500\u2500\u2500\u2500\u2500\u2500\u2500\u2500\u2500\u2500\u2500\u2500\u2500\u2500\u2500\u2500\u2500\u2500\u2500\u2500\u2500\u2500\u2500\u2500\u2500\u2500\u2500\u2500\u2500\u2500\u2500\u2500\u2500\u2500\u2500\u2500\u2500\u2500\u2500\u2500\u2500\u2500\u2500\u2500\u2500\u2500\u2500\u2500\u2500\u2500\u2500\u2500\u2500\u2500\u2500\u2500\u2500\u2500\u2500\u2500\u2500\u2500\u2500\u2500\u2500\u2500\u2500\u2500\u2500\u2500\u2500\u2500\n",
        " + 2\u22c5V_mz\u22c5\u03bc_c\u22c5\u03bc_k\u22c5\u03bc_s + 2\u22c5V_mz\u22c5\u03bc_c\u22c5\u03bc_k + 2\u22c5V_mz\u22c5\u03bc_c\u22c5\u03bc_s + V_mz\u22c5\u03bc_ch\u22c5\u03bc_k\u22c5\u03bc_s + \n",
        "                                                                              \n",
        "                                                                              \n",
        "\n",
        "                                                                              \n",
        "                                                                              \n",
        "\u03ba_k\u22c5\u03bc_ch\u22c5d_B - 4\u22c5\u03bc_c\u22c5\u03bc_k - 2\u22c5\u03bc_ch\u22c5\u03bc_k)                    -\u03ba_k\u22c5(d_A - d_B)    \n",
        "\u2500\u2500\u2500\u2500\u2500\u2500\u2500\u2500\u2500\u2500\u2500\u2500\u2500\u2500\u2500\u2500\u2500\u2500\u2500\u2500\u2500\u2500\u2500\u2500\u2500\u2500\u2500\u2500\u2500\u2500\u2500\u2500\u2500\u2500\u2500\u2500\u2500\u2500\u2500\u2500\u2500\u2500\u2500\u2500, ^vc_n: \u2500\u2500\u2500\u2500\u2500\u2500\u2500\u2500\u2500\u2500\u2500\u2500\u2500\u2500\u2500\u2500\u2500\u2500\u2500\u2500\u2500\u2500\u2500\u2500\u2500\n",
        "V_mz\u22c5\u03bc_ch\u22c5\u03bc_k + V_mz\u22c5\u03bc_ch\u22c5\u03bc_s + V_mz\u22c5\u03bc_k\u22c5\u03bc_s         2\u22c5\u03bc_ch\u22c5\u03bc_k + 2\u22c5\u03bc_ch + 2\u22c5\u03bc\n",
        "                                                                              \n",
        "                                                                              \n",
        "\n",
        "                                                                              \n",
        "           -V_mz\u22c5(F_mz - 1)\u22c5(2\u22c5\u03bc_c\u22c5(\u03bc_ch + 1) - 2\u22c5\u03bc_c + \u03bc_ch\u22c5(\u03bc_ch + 1) - \u03bc_ch\n",
        "                                                                              \n",
        "\u2500\u2500, ^vd_A: \u2500\u2500\u2500\u2500\u2500\u2500\u2500\u2500\u2500\u2500\u2500\u2500\u2500\u2500\u2500\u2500\u2500\u2500\u2500\u2500\u2500\u2500\u2500\u2500\u2500\u2500\u2500\u2500\u2500\u2500\u2500\u2500\u2500\u2500\u2500\u2500\u2500\u2500\u2500\u2500\u2500\u2500\u2500\u2500\u2500\u2500\u2500\u2500\u2500\u2500\u2500\u2500\u2500\u2500\u2500\u2500\u2500\u2500\u2500\u2500\u2500\u2500\u2500\u2500\u2500\u2500\u2500\n",
        "_k                                                                            \n",
        "                                                                              \n",
        "                                                                              \n",
        "\n",
        "                                                                              \n",
        " + \u03bc_k\u22c5(\u03bc_ch + 1)\u22c5(2\u22c5\u03bc_c + \u03bc_ch + 1) - \u03bc_k\u22c5(\u03bc_ch + 1)) + (\u03ba_c\u22c5l_n - 1)\u22c5(V_mz\u22c5\u03bc\n",
        "                                                                              \n",
        "\u2500\u2500\u2500\u2500\u2500\u2500\u2500\u2500\u2500\u2500\u2500\u2500\u2500\u2500\u2500\u2500\u2500\u2500\u2500\u2500\u2500\u2500\u2500\u2500\u2500\u2500\u2500\u2500\u2500\u2500\u2500\u2500\u2500\u2500\u2500\u2500\u2500\u2500\u2500\u2500\u2500\u2500\u2500\u2500\u2500\u2500\u2500\u2500\u2500\u2500\u2500\u2500\u2500\u2500\u2500\u2500\u2500\u2500\u2500\u2500\u2500\u2500\u2500\u2500\u2500\u2500\u2500\u2500\u2500\u2500\u2500\u2500\u2500\u2500\u2500\u2500\u2500\u2500\n",
        "                                                                              \n",
        "                                2\u22c5F_mz + 2\u22c5V_mz\u22c5\u03bc_c\u22c5(\u03bc_ch + 1) - 2\u22c5V_mz\u22c5\u03bc_c + \n",
        "                                                                              \n",
        "\n",
        "                                                                              \n",
        "_ch + V_mz\u22c5\u03bc_k\u22c5(\u03bc_ch + 1) - \u03bc_ch\u22c5(2\u22c5F_mz + V_mz\u22c5\u03bc_s + V_mz) - \u03bc_k\u22c5(\u03bc_ch + 1)\u22c5(\n",
        "                                                                              \n",
        "\u2500\u2500\u2500\u2500\u2500\u2500\u2500\u2500\u2500\u2500\u2500\u2500\u2500\u2500\u2500\u2500\u2500\u2500\u2500\u2500\u2500\u2500\u2500\u2500\u2500\u2500\u2500\u2500\u2500\u2500\u2500\u2500\u2500\u2500\u2500\u2500\u2500\u2500\u2500\u2500\u2500\u2500\u2500\u2500\u2500\u2500\u2500\u2500\u2500\u2500\u2500\u2500\u2500\u2500\u2500\u2500\u2500\u2500\u2500\u2500\u2500\u2500\u2500\u2500\u2500\u2500\u2500\u2500\u2500\u2500\u2500\u2500\u2500\u2500\u2500\u2500\u2500\u2500\n",
        "                                                                              \n",
        "V_mz\u22c5\u03bc_ch\u22c5(\u03bc_ch + 1) - 2\u22c5V_mz\u22c5\u03bc_ch + V_mz\u22c5\u03bc_k\u22c5(\u03bc_ch + 1)\u22c5(2\u22c5\u03bc_c + \u03bc_ch + 1) - \n",
        "                                                                              \n",
        "\n",
        "                             (\u03ba_k\u22c5d_A - 1)\u22c5(4\u22c5F_mz + 2\u22c5V_mz\u22c5\u03bc_c\u22c5(\u03bc_ch + 1) + V\n",
        "2\u22c5F_mz + V_mz\u22c5\u03bc_s + V_mz)) - \u2500\u2500\u2500\u2500\u2500\u2500\u2500\u2500\u2500\u2500\u2500\u2500\u2500\u2500\u2500\u2500\u2500\u2500\u2500\u2500\u2500\u2500\u2500\u2500\u2500\u2500\u2500\u2500\u2500\u2500\u2500\u2500\u2500\u2500\u2500\u2500\u2500\u2500\u2500\u2500\u2500\u2500\u2500\u2500\u2500\u2500\u2500\u2500\u2500\n",
        "                                                                              \n",
        "\u2500\u2500\u2500\u2500\u2500\u2500\u2500\u2500\u2500\u2500\u2500\u2500\u2500\u2500\u2500\u2500\u2500\u2500\u2500\u2500\u2500\u2500\u2500\u2500\u2500\u2500\u2500\u2500\u2500\u2500\u2500\u2500\u2500\u2500\u2500\u2500\u2500\u2500\u2500\u2500\u2500\u2500\u2500\u2500\u2500\u2500\u2500\u2500\u2500\u2500\u2500\u2500\u2500\u2500\u2500\u2500\u2500\u2500\u2500\u2500\u2500\u2500\u2500\u2500\u2500\u2500\u2500\u2500\u2500\u2500\u2500\u2500\u2500\u2500\u2500\u2500\u2500\u2500\n",
        "                                                                       2      \n",
        "2\u22c5V_mz\u22c5\u03bc_k\u22c5(\u03bc_ch + 1) - V_mz\u22c5\u03bc_k + V_mz\u22c5\u03bc_s + V_mz\u22c5(\u03bc_ch + 1)\u22c5(\u03bc_k + 1)  + 2\u22c5\u03bc\n",
        "                                                                              \n",
        "\n",
        "_mz\u22c5\u03bc_ch\u22c5(\u03bc_ch + 1) + V_mz\u22c5\u03bc_ch + 2\u22c5V_mz\u22c5\u03bc_k\u22c5(\u03bc_ch + 1) + 2\u22c5V_mz\u22c5\u03bc_s + 2\u22c5V_mz \n",
        "\u2500\u2500\u2500\u2500\u2500\u2500\u2500\u2500\u2500\u2500\u2500\u2500\u2500\u2500\u2500\u2500\u2500\u2500\u2500\u2500\u2500\u2500\u2500\u2500\u2500\u2500\u2500\u2500\u2500\u2500\u2500\u2500\u2500\u2500\u2500\u2500\u2500\u2500\u2500\u2500\u2500\u2500\u2500\u2500\u2500\u2500\u2500\u2500\u2500\u2500\u2500\u2500\u2500\u2500\u2500\u2500\u2500\u2500\u2500\u2500\u2500\u2500\u2500\u2500\u2500\u2500\u2500\u2500\u2500\u2500\u2500\u2500\u2500\u2500\u2500\u2500\u2500\u2500\n",
        "                                                                              \n",
        "\u2500\u2500\u2500\u2500\u2500\u2500\u2500\u2500\u2500\u2500\u2500\u2500\u2500\u2500\u2500\u2500\u2500\u2500\u2500\u2500\u2500\u2500\u2500\u2500\u2500\u2500\u2500\u2500\u2500\u2500\u2500\u2500\u2500\u2500\u2500\u2500\u2500\u2500\u2500\u2500\u2500\u2500\u2500\u2500\u2500\u2500\u2500\u2500\u2500\u2500\u2500\u2500\u2500\u2500\u2500\u2500\u2500\u2500\u2500\u2500\u2500\u2500\u2500\u2500\u2500\u2500\u2500\u2500\u2500\u2500\u2500\u2500\u2500\u2500\u2500\u2500\u2500\u2500\n",
        "                                                                              \n",
        "_c\u22c5(2\u22c5F_mz + V_mz\u22c5\u03bc_s + V_mz) + 2\u22c5\u03bc_ch\u22c5(2\u22c5F_mz + V_mz\u22c5\u03bc_s + V_mz) + \u03bc_k\u22c5(\u03bc_ch \n",
        "                                                                              \n",
        "\n",
        "+ 2\u22c5\u03bc_c\u22c5(2\u22c5F_mz + V_mz\u22c5\u03bc_s + V_mz) + 2\u22c5\u03bc_ch\u22c5(2\u22c5F_mz + V_mz\u22c5\u03bc_s + V_mz) - 2\u22c5(\u03bc_\n",
        "\u2500\u2500\u2500\u2500\u2500\u2500\u2500\u2500\u2500\u2500\u2500\u2500\u2500\u2500\u2500\u2500\u2500\u2500\u2500\u2500\u2500\u2500\u2500\u2500\u2500\u2500\u2500\u2500\u2500\u2500\u2500\u2500\u2500\u2500\u2500\u2500\u2500\u2500\u2500\u2500\u2500\u2500\u2500\u2500\u2500\u2500\u2500\u2500\u2500\u2500\u2500\u2500\u2500\u2500\u2500\u2500\u2500\u2500\u2500\u2500\u2500\u2500\u2500\u2500\u2500\u2500\u2500\u2500\u2500\u2500\u2500\u2500\u2500\u2500\u2500\u2500\u2500\u2500\n",
        "       2                                                                      \n",
        "\u2500\u2500\u2500\u2500\u2500\u2500\u2500\u2500\u2500\u2500\u2500\u2500\u2500\u2500\u2500\u2500\u2500\u2500\u2500\u2500\u2500\u2500\u2500\u2500\u2500\u2500\u2500\u2500\u2500\u2500\u2500\u2500\u2500\u2500\u2500\u2500\u2500\u2500\u2500\u2500\u2500\u2500\u2500\u2500\u2500\u2500\u2500\u2500\u2500\u2500\u2500\u2500\u2500\u2500\u2500\u2500\u2500\u2500\u2500\u2500\u2500\u2500\u2500\u2500\u2500\u2500\u2500\u2500\u2500\u2500\u2500\u2500\u2500\u2500\u2500\u2500\u2500\u2500\n",
        "                                                                              \n",
        "+ 1)\u22c5(2\u22c5F_mz + V_mz\u22c5\u03bc_s + V_mz) + \u03bc_k\u22c5(2\u22c5F_mz + V_mz\u22c5\u03bc_s + V_mz)\u22c5(2\u22c5\u03bc_c + \u03bc_ch\n",
        "                                                                              \n",
        "\n",
        "ch + 1)\u22c5(\u03bc_k + 1)\u22c5(2\u22c5F_mz + V_mz\u22c5\u03bc_s + V_mz)\u22c5(2\u22c5\u03bc_c + \u03bc_ch + 1))   (\u03ba_k\u22c5d_B - \n",
        "\u2500\u2500\u2500\u2500\u2500\u2500\u2500\u2500\u2500\u2500\u2500\u2500\u2500\u2500\u2500\u2500\u2500\u2500\u2500\u2500\u2500\u2500\u2500\u2500\u2500\u2500\u2500\u2500\u2500\u2500\u2500\u2500\u2500\u2500\u2500\u2500\u2500\u2500\u2500\u2500\u2500\u2500\u2500\u2500\u2500\u2500\u2500\u2500\u2500\u2500\u2500\u2500\u2500\u2500\u2500\u2500\u2500\u2500\u2500\u2500\u2500\u2500\u2500\u2500 + \u2500\u2500\u2500\u2500\u2500\u2500\u2500\u2500\u2500\u2500\u2500\n",
        "                                                                              \n",
        "\u2500\u2500\u2500\u2500\u2500\u2500\u2500\u2500\u2500\u2500\u2500\u2500\u2500\u2500\u2500\u2500\u2500\u2500\u2500\u2500\u2500\u2500\u2500\u2500\u2500\u2500\u2500\u2500\u2500\u2500\u2500\u2500\u2500\u2500\u2500\u2500\u2500\u2500\u2500\u2500\u2500\u2500\u2500\u2500\u2500\u2500\u2500\u2500\u2500\u2500\u2500\u2500\u2500\u2500\u2500\u2500\u2500\u2500\u2500\u2500\u2500\u2500\u2500\u2500\u2500\u2500\u2500\u2500\u2500\u2500\u2500\u2500\u2500\u2500\u2500\u2500\u2500\u2500\n",
        "                            2                                                 \n",
        " + 1) - (\u03bc_ch + 1)\u22c5(\u03bc_k + 1) \u22c5(2\u22c5F_mz + V_mz\u22c5\u03bc_s + V_mz)\u22c5(2\u22c5\u03bc_c + \u03bc_ch + 1)   \n",
        "                                                                              \n",
        "\n",
        "1)\u22c5(2\u22c5V_mz\u22c5\u03bc_c\u22c5(\u03bc_ch + 1) + V_mz\u22c5\u03bc_ch\u22c5(\u03bc_ch + 1) - V_mz\u22c5\u03bc_ch - 2\u22c5\u03bc_c\u22c5(2\u22c5F_mz +\n",
        "\u2500\u2500\u2500\u2500\u2500\u2500\u2500\u2500\u2500\u2500\u2500\u2500\u2500\u2500\u2500\u2500\u2500\u2500\u2500\u2500\u2500\u2500\u2500\u2500\u2500\u2500\u2500\u2500\u2500\u2500\u2500\u2500\u2500\u2500\u2500\u2500\u2500\u2500\u2500\u2500\u2500\u2500\u2500\u2500\u2500\u2500\u2500\u2500\u2500\u2500\u2500\u2500\u2500\u2500\u2500\u2500\u2500\u2500\u2500\u2500\u2500\u2500\u2500\u2500\u2500\u2500\u2500\u2500\u2500\u2500\u2500\u2500\u2500\u2500\u2500\u2500\u2500\u2500\n",
        "                                          2                                   \n",
        "\u2500\u2500\u2500\u2500\u2500\u2500\u2500\u2500\u2500\u2500\u2500\u2500\u2500\u2500\u2500\u2500\u2500\u2500\u2500\u2500\u2500\u2500\u2500\u2500\u2500\u2500\u2500\u2500\u2500\u2500\u2500\u2500\u2500\u2500\u2500\u2500\u2500\u2500\u2500\u2500\u2500\u2500\u2500\u2500\u2500\u2500\u2500\u2500\u2500\u2500\u2500\u2500\u2500\u2500\u2500\u2500\u2500\u2500\u2500\u2500\u2500\u2500\u2500\u2500\u2500\u2500\u2500\u2500\u2500\u2500\u2500\u2500\u2500\u2500\u2500\u2500\u2500\u2500\n",
        "                                                                              \n",
        "                                                                              \n",
        "                                                                              \n",
        "\n",
        " V_mz\u22c5\u03bc_s + V_mz))                                                            \n",
        "\u2500\u2500\u2500\u2500\u2500\u2500\u2500\u2500\u2500\u2500\u2500\u2500\u2500\u2500\u2500\u2500\u2500\u2500         -V_mz\u22c5(F_mz - 1)\u22c5(2\u22c5\u03bc_c\u22c5(\u03bc_ch + 1) - 2\u22c5\u03bc_c + \u03bc_ch\u22c5(\n",
        "                                                                              \n",
        "\u2500\u2500\u2500\u2500\u2500\u2500\u2500\u2500\u2500\u2500\u2500\u2500\u2500\u2500\u2500\u2500\u2500\u2500, ^vd_B: \u2500\u2500\u2500\u2500\u2500\u2500\u2500\u2500\u2500\u2500\u2500\u2500\u2500\u2500\u2500\u2500\u2500\u2500\u2500\u2500\u2500\u2500\u2500\u2500\u2500\u2500\u2500\u2500\u2500\u2500\u2500\u2500\u2500\u2500\u2500\u2500\u2500\u2500\u2500\u2500\u2500\u2500\u2500\u2500\u2500\u2500\u2500\u2500\u2500\u2500\u2500\n",
        "                                                                              \n",
        "                                                                              \n",
        "                                                                              \n",
        "\n",
        "                                                                              \n",
        "\u03bc_ch + 1) - \u03bc_ch + \u03bc_k\u22c5(\u03bc_ch + 1)\u22c5(2\u22c5\u03bc_c + \u03bc_ch + 1) - \u03bc_k\u22c5(\u03bc_ch + 1)) + (\u03ba_c\u22c5\n",
        "                                                                              \n",
        "\u2500\u2500\u2500\u2500\u2500\u2500\u2500\u2500\u2500\u2500\u2500\u2500\u2500\u2500\u2500\u2500\u2500\u2500\u2500\u2500\u2500\u2500\u2500\u2500\u2500\u2500\u2500\u2500\u2500\u2500\u2500\u2500\u2500\u2500\u2500\u2500\u2500\u2500\u2500\u2500\u2500\u2500\u2500\u2500\u2500\u2500\u2500\u2500\u2500\u2500\u2500\u2500\u2500\u2500\u2500\u2500\u2500\u2500\u2500\u2500\u2500\u2500\u2500\u2500\u2500\u2500\u2500\u2500\u2500\u2500\u2500\u2500\u2500\u2500\u2500\u2500\u2500\u2500\n",
        "                                                                              \n",
        "                                                2\u22c5F_mz + 2\u22c5V_mz\u22c5\u03bc_c\u22c5(\u03bc_ch + 1)\n",
        "                                                                              \n",
        "\n",
        "                                                                              \n",
        "l_n - 1)\u22c5(V_mz\u22c5\u03bc_ch + V_mz\u22c5\u03bc_k\u22c5(\u03bc_ch + 1) - \u03bc_ch\u22c5(2\u22c5F_mz + V_mz\u22c5\u03bc_s + V_mz) - \n",
        "                                                                              \n",
        "\u2500\u2500\u2500\u2500\u2500\u2500\u2500\u2500\u2500\u2500\u2500\u2500\u2500\u2500\u2500\u2500\u2500\u2500\u2500\u2500\u2500\u2500\u2500\u2500\u2500\u2500\u2500\u2500\u2500\u2500\u2500\u2500\u2500\u2500\u2500\u2500\u2500\u2500\u2500\u2500\u2500\u2500\u2500\u2500\u2500\u2500\u2500\u2500\u2500\u2500\u2500\u2500\u2500\u2500\u2500\u2500\u2500\u2500\u2500\u2500\u2500\u2500\u2500\u2500\u2500\u2500\u2500\u2500\u2500\u2500\u2500\u2500\u2500\u2500\u2500\u2500\u2500\u2500\n",
        "                                                                              \n",
        " - 2\u22c5V_mz\u22c5\u03bc_c + V_mz\u22c5\u03bc_ch\u22c5(\u03bc_ch + 1) - 2\u22c5V_mz\u22c5\u03bc_ch + V_mz\u22c5\u03bc_k\u22c5(\u03bc_ch + 1)\u22c5(2\u22c5\u03bc_\n",
        "                                                                              \n",
        "\n",
        "                                             (\u03ba_k\u22c5d_A - 1)\u22c5(2\u22c5V_mz\u22c5\u03bc_c\u22c5(\u03bc_ch +\n",
        "\u03bc_k\u22c5(\u03bc_ch + 1)\u22c5(2\u22c5F_mz + V_mz\u22c5\u03bc_s + V_mz)) + \u2500\u2500\u2500\u2500\u2500\u2500\u2500\u2500\u2500\u2500\u2500\u2500\u2500\u2500\u2500\u2500\u2500\u2500\u2500\u2500\u2500\u2500\u2500\u2500\u2500\u2500\u2500\u2500\u2500\u2500\u2500\u2500\u2500\n",
        "                                                                              \n",
        "\u2500\u2500\u2500\u2500\u2500\u2500\u2500\u2500\u2500\u2500\u2500\u2500\u2500\u2500\u2500\u2500\u2500\u2500\u2500\u2500\u2500\u2500\u2500\u2500\u2500\u2500\u2500\u2500\u2500\u2500\u2500\u2500\u2500\u2500\u2500\u2500\u2500\u2500\u2500\u2500\u2500\u2500\u2500\u2500\u2500\u2500\u2500\u2500\u2500\u2500\u2500\u2500\u2500\u2500\u2500\u2500\u2500\u2500\u2500\u2500\u2500\u2500\u2500\u2500\u2500\u2500\u2500\u2500\u2500\u2500\u2500\u2500\u2500\u2500\u2500\u2500\u2500\u2500\n",
        "                                                                              \n",
        "c + \u03bc_ch + 1) - 2\u22c5V_mz\u22c5\u03bc_k\u22c5(\u03bc_ch + 1) - V_mz\u22c5\u03bc_k + V_mz\u22c5\u03bc_s + V_mz\u22c5(\u03bc_ch + 1)\u22c5\n",
        "                                                                              \n",
        "\n",
        " 1) + V_mz\u22c5\u03bc_ch\u22c5(\u03bc_ch + 1) - V_mz\u22c5\u03bc_ch - 2\u22c5\u03bc_c\u22c5(2\u22c5F_mz + V_mz\u22c5\u03bc_s + V_mz))   (\n",
        "\u2500\u2500\u2500\u2500\u2500\u2500\u2500\u2500\u2500\u2500\u2500\u2500\u2500\u2500\u2500\u2500\u2500\u2500\u2500\u2500\u2500\u2500\u2500\u2500\u2500\u2500\u2500\u2500\u2500\u2500\u2500\u2500\u2500\u2500\u2500\u2500\u2500\u2500\u2500\u2500\u2500\u2500\u2500\u2500\u2500\u2500\u2500\u2500\u2500\u2500\u2500\u2500\u2500\u2500\u2500\u2500\u2500\u2500\u2500\u2500\u2500\u2500\u2500\u2500\u2500\u2500\u2500\u2500\u2500\u2500\u2500\u2500\u2500\u2500 - \u2500\n",
        "                    2                                                         \n",
        "\u2500\u2500\u2500\u2500\u2500\u2500\u2500\u2500\u2500\u2500\u2500\u2500\u2500\u2500\u2500\u2500\u2500\u2500\u2500\u2500\u2500\u2500\u2500\u2500\u2500\u2500\u2500\u2500\u2500\u2500\u2500\u2500\u2500\u2500\u2500\u2500\u2500\u2500\u2500\u2500\u2500\u2500\u2500\u2500\u2500\u2500\u2500\u2500\u2500\u2500\u2500\u2500\u2500\u2500\u2500\u2500\u2500\u2500\u2500\u2500\u2500\u2500\u2500\u2500\u2500\u2500\u2500\u2500\u2500\u2500\u2500\u2500\u2500\u2500\u2500\u2500\u2500\u2500\n",
        "         2                                                                    \n",
        "(\u03bc_k + 1)  + 2\u22c5\u03bc_c\u22c5(2\u22c5F_mz + V_mz\u22c5\u03bc_s + V_mz) + 2\u22c5\u03bc_ch\u22c5(2\u22c5F_mz + V_mz\u22c5\u03bc_s + V_\n",
        "                                                                              \n",
        "\n",
        "\u03ba_k\u22c5d_B - 1)\u22c5(4\u22c5F_mz + 2\u22c5V_mz\u22c5\u03bc_c\u22c5(\u03bc_ch + 1) + V_mz\u22c5\u03bc_ch\u22c5(\u03bc_ch + 1) + V_mz\u22c5\u03bc_c\n",
        "\u2500\u2500\u2500\u2500\u2500\u2500\u2500\u2500\u2500\u2500\u2500\u2500\u2500\u2500\u2500\u2500\u2500\u2500\u2500\u2500\u2500\u2500\u2500\u2500\u2500\u2500\u2500\u2500\u2500\u2500\u2500\u2500\u2500\u2500\u2500\u2500\u2500\u2500\u2500\u2500\u2500\u2500\u2500\u2500\u2500\u2500\u2500\u2500\u2500\u2500\u2500\u2500\u2500\u2500\u2500\u2500\u2500\u2500\u2500\u2500\u2500\u2500\u2500\u2500\u2500\u2500\u2500\u2500\u2500\u2500\u2500\u2500\u2500\u2500\u2500\u2500\u2500\u2500\n",
        "                                                                              \n",
        "\u2500\u2500\u2500\u2500\u2500\u2500\u2500\u2500\u2500\u2500\u2500\u2500\u2500\u2500\u2500\u2500\u2500\u2500\u2500\u2500\u2500\u2500\u2500\u2500\u2500\u2500\u2500\u2500\u2500\u2500\u2500\u2500\u2500\u2500\u2500\u2500\u2500\u2500\u2500\u2500\u2500\u2500\u2500\u2500\u2500\u2500\u2500\u2500\u2500\u2500\u2500\u2500\u2500\u2500\u2500\u2500\u2500\u2500\u2500\u2500\u2500\u2500\u2500\u2500\u2500\u2500\u2500\u2500\u2500\u2500\u2500\u2500\u2500\u2500\u2500\u2500\u2500\u2500\n",
        "                                                                              \n",
        "mz) + \u03bc_k\u22c5(\u03bc_ch + 1)\u22c5(2\u22c5F_mz + V_mz\u22c5\u03bc_s + V_mz) + \u03bc_k\u22c5(2\u22c5F_mz + V_mz\u22c5\u03bc_s + V_m\n",
        "                                                                              \n",
        "\n",
        "h + 2\u22c5V_mz\u22c5\u03bc_k\u22c5(\u03bc_ch + 1) + 2\u22c5V_mz\u22c5\u03bc_s + 2\u22c5V_mz + 2\u22c5\u03bc_c\u22c5(2\u22c5F_mz + V_mz\u22c5\u03bc_s + V\n",
        "\u2500\u2500\u2500\u2500\u2500\u2500\u2500\u2500\u2500\u2500\u2500\u2500\u2500\u2500\u2500\u2500\u2500\u2500\u2500\u2500\u2500\u2500\u2500\u2500\u2500\u2500\u2500\u2500\u2500\u2500\u2500\u2500\u2500\u2500\u2500\u2500\u2500\u2500\u2500\u2500\u2500\u2500\u2500\u2500\u2500\u2500\u2500\u2500\u2500\u2500\u2500\u2500\u2500\u2500\u2500\u2500\u2500\u2500\u2500\u2500\u2500\u2500\u2500\u2500\u2500\u2500\u2500\u2500\u2500\u2500\u2500\u2500\u2500\u2500\u2500\u2500\u2500\u2500\n",
        "                                                       2                      \n",
        "\u2500\u2500\u2500\u2500\u2500\u2500\u2500\u2500\u2500\u2500\u2500\u2500\u2500\u2500\u2500\u2500\u2500\u2500\u2500\u2500\u2500\u2500\u2500\u2500\u2500\u2500\u2500\u2500\u2500\u2500\u2500\u2500\u2500\u2500\u2500\u2500\u2500\u2500\u2500\u2500\u2500\u2500\u2500\u2500\u2500\u2500\u2500\u2500\u2500\u2500\u2500\u2500\u2500\u2500\u2500\u2500\u2500\u2500\u2500\u2500\u2500\u2500\u2500\u2500\u2500\u2500\u2500\u2500\u2500\u2500\u2500\u2500\u2500\u2500\u2500\u2500\u2500\u2500\n",
        "                                            2                                 \n",
        "z)\u22c5(2\u22c5\u03bc_c + \u03bc_ch + 1) - (\u03bc_ch + 1)\u22c5(\u03bc_k + 1) \u22c5(2\u22c5F_mz + V_mz\u22c5\u03bc_s + V_mz)\u22c5(2\u22c5\u03bc_\n",
        "                                                                              \n",
        "\n",
        "_mz) + 2\u22c5\u03bc_ch\u22c5(2\u22c5F_mz + V_mz\u22c5\u03bc_s + V_mz) - 2\u22c5(\u03bc_ch + 1)\u22c5(\u03bc_k + 1)\u22c5(2\u22c5F_mz + V_\n",
        "\u2500\u2500\u2500\u2500\u2500\u2500\u2500\u2500\u2500\u2500\u2500\u2500\u2500\u2500\u2500\u2500\u2500\u2500\u2500\u2500\u2500\u2500\u2500\u2500\u2500\u2500\u2500\u2500\u2500\u2500\u2500\u2500\u2500\u2500\u2500\u2500\u2500\u2500\u2500\u2500\u2500\u2500\u2500\u2500\u2500\u2500\u2500\u2500\u2500\u2500\u2500\u2500\u2500\u2500\u2500\u2500\u2500\u2500\u2500\u2500\u2500\u2500\u2500\u2500\u2500\u2500\u2500\u2500\u2500\u2500\u2500\u2500\u2500\u2500\u2500\u2500\u2500\u2500\n",
        "                                                                              \n",
        "\u2500\u2500\u2500\u2500\u2500\u2500\u2500\u2500\u2500\u2500\u2500\u2500\u2500\u2500\u2500\u2500\u2500\u2500\u2500\u2500\u2500\u2500\u2500\u2500\u2500\u2500\u2500\u2500\u2500\u2500\u2500\u2500\u2500\u2500\u2500\u2500\u2500\u2500\u2500\u2500\u2500\u2500\u2500\u2500\u2500\u2500\u2500\u2500\u2500\u2500\u2500\u2500\u2500\u2500\u2500\u2500\u2500\u2500\u2500\u2500\u2500\u2500\u2500\u2500\u2500\u2500\u2500\u2500\u2500\u2500\u2500\u2500\u2500\u2500\u2500\u2500\u2500\u2500\n",
        "                                                                              \n",
        "c + \u03bc_ch + 1)                                                                 \n",
        "                                                                              \n",
        "\n",
        "mz\u22c5\u03bc_s + V_mz)\u22c5(2\u22c5\u03bc_c + \u03bc_ch + 1))                                            \n",
        "\u2500\u2500\u2500\u2500\u2500\u2500\u2500\u2500\u2500\u2500\u2500\u2500\u2500\u2500\u2500\u2500\u2500\u2500\u2500\u2500\u2500\u2500\u2500\u2500\u2500\u2500\u2500\u2500\u2500\u2500\u2500\u2500\u2500\u2500                                            \n",
        "                                           2\u22c5F_mz\u22c5V_mz\u22c5\u03bc_k - 4\u22c5F_mz\u22c5\u03ba_c\u22c5\u03bc_k\u22c5l_\n",
        "\u2500\u2500\u2500\u2500\u2500\u2500\u2500\u2500\u2500\u2500\u2500\u2500\u2500\u2500\u2500\u2500\u2500\u2500\u2500\u2500\u2500\u2500\u2500\u2500\u2500\u2500\u2500\u2500\u2500\u2500\u2500\u2500\u2500\u2500, ^vl_n: \u2500\u2500\u2500\u2500\u2500\u2500\u2500\u2500\u2500\u2500\u2500\u2500\u2500\u2500\u2500\u2500\u2500\u2500\u2500\u2500\u2500\u2500\u2500\u2500\u2500\u2500\u2500\u2500\u2500\u2500\u2500\u2500\u2500\u2500\u2500\n",
        "                                                         4\u22c5F_mz\u22c5\u03bc_c\u22c5\u03bc_k + 4\u22c5F_\n",
        "                                                                              \n",
        "                                                                              \n",
        "\n",
        "                                                                              \n",
        "                                                                              \n",
        "n - 4\u22c5F_mz\u22c5\u03ba_c\u22c5l_n + 2\u22c5F_mz\u22c5\u03ba_k\u22c5d_A + 2\u22c5F_mz\u22c5\u03ba_k\u22c5d_B + 4\u22c5F_mz\u22c5\u03bc_k - 2\u22c5V_mz\u22c5\u03ba_c\n",
        "\u2500\u2500\u2500\u2500\u2500\u2500\u2500\u2500\u2500\u2500\u2500\u2500\u2500\u2500\u2500\u2500\u2500\u2500\u2500\u2500\u2500\u2500\u2500\u2500\u2500\u2500\u2500\u2500\u2500\u2500\u2500\u2500\u2500\u2500\u2500\u2500\u2500\u2500\u2500\u2500\u2500\u2500\u2500\u2500\u2500\u2500\u2500\u2500\u2500\u2500\u2500\u2500\u2500\u2500\u2500\u2500\u2500\u2500\u2500\u2500\u2500\u2500\u2500\u2500\u2500\u2500\u2500\u2500\u2500\u2500\u2500\u2500\u2500\u2500\u2500\u2500\u2500\u2500\n",
        "mz\u22c5\u03bc_c + 2\u22c5F_mz\u22c5\u03bc_ch\u22c5\u03bc_k + 2\u22c5F_mz\u22c5\u03bc_ch + 2\u22c5F_mz\u22c5\u03bc_k + 2\u22c5V_mz\u22c5\u03bc_c\u22c5\u03bc_k\u22c5\u03bc_s + 2\u22c5V\n",
        "                                                                              \n",
        "                                                                              \n",
        "\n",
        "                                                                              \n",
        "                                                                              \n",
        "\u22c5\u03bc_k\u22c5\u03bc_s\u22c5l_n - 2\u22c5V_mz\u22c5\u03ba_c\u22c5\u03bc_k\u22c5l_n - 2\u22c5V_mz\u22c5\u03ba_c\u22c5\u03bc_s\u22c5l_n + V_mz\u22c5\u03ba_k\u22c5\u03bc_s\u22c5d_A + V_\n",
        "\u2500\u2500\u2500\u2500\u2500\u2500\u2500\u2500\u2500\u2500\u2500\u2500\u2500\u2500\u2500\u2500\u2500\u2500\u2500\u2500\u2500\u2500\u2500\u2500\u2500\u2500\u2500\u2500\u2500\u2500\u2500\u2500\u2500\u2500\u2500\u2500\u2500\u2500\u2500\u2500\u2500\u2500\u2500\u2500\u2500\u2500\u2500\u2500\u2500\u2500\u2500\u2500\u2500\u2500\u2500\u2500\u2500\u2500\u2500\u2500\u2500\u2500\u2500\u2500\u2500\u2500\u2500\u2500\u2500\u2500\u2500\u2500\u2500\u2500\u2500\u2500\u2500\u2500\n",
        "_mz\u22c5\u03bc_c\u22c5\u03bc_k + 2\u22c5V_mz\u22c5\u03bc_c\u22c5\u03bc_s + V_mz\u22c5\u03bc_ch\u22c5\u03bc_k\u22c5\u03bc_s + V_mz\u22c5\u03bc_ch\u22c5\u03bc_k + V_mz\u22c5\u03bc_ch\u22c5\u03bc\n",
        "                                                                              \n",
        "                                                                              \n",
        "\n",
        "                               \u23ab\n",
        "                               \u23aa\n",
        "mz\u22c5\u03ba_k\u22c5\u03bc_s\u22c5d_B + 2\u22c5V_mz\u22c5\u03bc_k\u22c5\u03bc_s\u23aa\n",
        "\u2500\u2500\u2500\u2500\u2500\u2500\u2500\u2500\u2500\u2500\u2500\u2500\u2500\u2500\u2500\u2500\u2500\u2500\u2500\u2500\u2500\u2500\u2500\u2500\u2500\u2500\u2500\u2500\u2500\u2500\u2500\u23ac\n",
        "_s + V_mz\u22c5\u03bc_k\u22c5\u03bc_s              \u23aa\n",
        "                               \u23aa\n",
        "                               \u23ad"
       ]
      }
     ],
     "prompt_number": 39
    },
    {
     "cell_type": "code",
     "collapsed": false,
     "input": [
      "from sympy import lambdify"
     ],
     "language": "python",
     "metadata": {},
     "outputs": [],
     "prompt_number": 40
    }
   ],
   "metadata": {}
  }
 ]
}