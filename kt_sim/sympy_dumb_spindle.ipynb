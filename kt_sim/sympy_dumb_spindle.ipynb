{
 "metadata": {
  "name": "",
  "signature": "sha256:2395e58d1a212cadf19502a00657ac58e159a519078309111533b378769be7dc"
 },
 "nbformat": 3,
 "nbformat_minor": 0,
 "worksheets": [
  {
   "cells": [
    {
     "cell_type": "markdown",
     "metadata": {},
     "source": [
      "#### Imports and utilities"
     ]
    },
    {
     "cell_type": "code",
     "collapsed": false,
     "input": [
      "%load_ext autoreload\n",
      "%autoreload 2\n",
      "\n",
      "import sys\n",
      "# change this to suit your path\n",
      "sys.path.append('/home/guillaume/Python/kt_simul/')"
     ],
     "language": "python",
     "metadata": {},
     "outputs": [],
     "prompt_number": 1
    },
    {
     "cell_type": "code",
     "collapsed": false,
     "input": [
      "import IPython.display as disp\n",
      "\n",
      "from sympy import symbols, Matrix\n",
      "from sympy import sympify\n",
      "from sympy.physics.mechanics import dynamicsymbols\n",
      "from sympy.physics.mechanics import ReferenceFrame, Point, Particle\n",
      "from sympy.physics.mechanics import LagrangesMethod, Lagrangian, KanesMethod\n",
      "\n",
      "from sympy.physics.mechanics import mechanics_printing\n",
      "mechanics_printing(pretty_print=True) # Shinny\n",
      "\n",
      "from collections import defaultdict\n",
      "from kt_simul.smp_spindle.smp_spindle import SympySpindle, DampedSpring, LinearFV, ViscousDrag\n",
      "\n",
      "\n",
      "def indexer(name, index=None, expo=None):\n",
      "    '''Small utility to append an index  and\n",
      "    an exponent to the string `name`\n",
      "    '''\n",
      "    if index is not None:\n",
      "        name = name + '_' + index\n",
      "    if expo is not None:\n",
      "        name = name + '^' + expo\n",
      "    return name"
     ],
     "language": "python",
     "metadata": {},
     "outputs": [],
     "prompt_number": 2
    },
    {
     "cell_type": "heading",
     "level": 1,
     "metadata": {},
     "source": [
      "A dumb spindle in sympy"
     ]
    },
    {
     "cell_type": "code",
     "collapsed": false,
     "input": [
      "spindle = SympySpindle('Dumb')\n"
     ],
     "language": "python",
     "metadata": {},
     "outputs": [],
     "prompt_number": 3
    },
    {
     "cell_type": "markdown",
     "metadata": {},
     "source": [
      "### Model description\n",
      "\n",
      "We're looking at a simple mechanical system\n",
      "\n",
      "![dumb spindle](dumb_spindle.svg)\n",
      "\n",
      "\n",
      "#### Particles and positions\n",
      "\n",
      "_correct for bad order_\n",
      "We have $x_{sL}, x_{sR}, x_{kA}, x_{kB},  x_{cA}, x_{cB}$ the positions of left and right spindle pole bodies, A & B attachment sites (aka the kinetochore), A & B centromeres, respectively.\n",
      "\n",
      "\n",
      "\n"
     ]
    },
    {
     "cell_type": "code",
     "collapsed": false,
     "input": [
      "#### Spindle referential frame coordinates (1D)\n",
      "xs = x_s, x_cA, x_kA, x_cB, x_kB = dynamicsymbols(\"x_s, x_cA, x_kA, x_cB, x_kB\")\n",
      "\n",
      "## Speeds\n",
      "xds = x_sd, x_cAd, x_kAd, x_cBd, x_kBd = dynamicsymbols(\"x_sd, x_cAd, x_kAd, x_cBd, x_kBd\", 1)"
     ],
     "language": "python",
     "metadata": {},
     "outputs": [],
     "prompt_number": 4
    },
    {
     "cell_type": "markdown",
     "metadata": {},
     "source": [
      "\n",
      "## Independant generalized coordinates\n",
      "\n",
      "* $L$ - the spindle length\n",
      "* $c_n$ - position of the chromosome center \n",
      "* $l_n$ - the distance between centromere A and centromere B.\n",
      "  Note that $l_n$ is *corrected for the equilibrium distance* between the centromeres,\n",
      "   such that $l_n = x_A - x_B - d_0$, where $x_0$ is the rest length of the cohesin spring.\n",
      "* $d_A$, $d_B$ - the distance between centromere A and attachment site A (resp. B) \n",
      "\n",
      "Generalized speeds are simply the time derivatives of the above coordinates.\n",
      "\n",
      "\n",
      "We'll describe the dependant coordinates below while defining the forces\n",
      "\n"
     ]
    },
    {
     "cell_type": "code",
     "collapsed": false,
     "input": [
      "### independant generalized coordinates\n",
      "q_ind = L, c_n, l_n, d_A, d_B = dynamicsymbols('L, c_n, l_n, d_A, d_B')\n",
      "### generalized speeds (coordinates derivatives)\n",
      "qd_ind = Ld, c_nd, l_nd, d_Ad, d_Bd = dynamicsymbols('L, c_n, l_n, d_A, d_B', 1)\n",
      "\n",
      "### generalized speed - Kanes formalism\n",
      "u_ind = vL, vc_n, vl_n, vd_A, vd_B = dynamicsymbols('^vL, ^vc_n, ^vl_n, ^vd_A, ^vd_B')\n",
      "ud_ind = vLd, vc_nd, vl_nd, vd_Ad, vd_Bd = dynamicsymbols('^vL, ^vc_n, ^vl_n, ^vd_A, ^vd_B', 1)\n",
      "\n",
      "\n",
      "### Register in the container's dictionary\n",
      "spindle.q_ind = q_ind\n",
      "spindle.qd_ind = qd_ind\n",
      "\n",
      "### Kanes method\n",
      "spindle.u_ind = u_ind\n",
      "spindle.ud_ind = ud_ind\n",
      "\n",
      "### Kinematics\n",
      "spindle.kd.extend((qd - u for (qd, u) in\n",
      "                   zip(qd_ind, u_ind)))\n"
     ],
     "language": "python",
     "metadata": {},
     "outputs": [],
     "prompt_number": 5
    },
    {
     "cell_type": "code",
     "collapsed": false,
     "input": [
      "spindle.kd"
     ],
     "language": "python",
     "metadata": {},
     "outputs": [
      {
       "latex": [
        "$$\\left [ - ^vL + \\dot{L}, \\quad - ^vc_{n} + \\dot{c}_{n}, \\quad - ^vl_{n} + \\dot{l}_{n}, \\quad - ^vd_{A} + \\dot{d}_{A}, \\quad - ^vd_{B} + \\dot{d}_{B}\\right ]$$"
       ],
       "metadata": {},
       "output_type": "pyout",
       "png": "[encoded data removed]",
       "prompt_number": 6,
       "text": [
        "[-^vL + L\u0307, -^vc_n + c_\u0307n, -^vl_n + l_\u0307n, -^vd_A + d_\u0307A, -^vd_B + d_\u0307B]"
       ]
      }
     ],
     "prompt_number": 6
    },
    {
     "cell_type": "markdown",
     "metadata": {},
     "source": [
      "#### Transformation matrix from independant generalized to original coordinates\n",
      "\n",
      "\n",
      "We write matrix T such that $q = Tx$ or $T^{-1}q = x$, which we check below. "
     ]
    },
    {
     "cell_type": "code",
     "collapsed": false,
     "input": [
      "### Substitutions to come back to the original variables (assuming d_0 = 0 for simplicity)\n",
      "to_subs = [(L, 2*x_s),\n",
      "           (c_n, x_cB/2 + x_cA/2),\n",
      "           (l_n, x_cB - x_cA),\n",
      "           (d_A, x_cA - x_kA),\n",
      "           (d_B, x_kB - x_cB)]\n",
      "\n",
      "### Corresponding transition matrix (muliplied by 2 to avoid fractions)\n",
      "trans = Matrix([[4,  0,  0,  0, 0],\n",
      "                [0,  1,  0,  1, 0],\n",
      "                [0, -2,  0,  2, 0],\n",
      "                [0,  2, -2,  0, 0],\n",
      "                [0,  0,  0, -2, 2]])\n",
      "\n",
      "### Check we're back on our feets\n",
      "back_transform = trans.inv().multiply(Matrix(q_ind)).subs(to_subs) * 2\n",
      "assert Matrix(xs) == back_transform\n",
      "\n",
      "Matrix(q_ind), trans,  Matrix(xs), back_transform"
     ],
     "language": "python",
     "metadata": {},
     "outputs": [
      {
       "latex": [
        "$$\\left ( \\left[\\begin{matrix}L\\\\c_{n}\\\\l_{n}\\\\d_{A}\\\\d_{B}\\end{matrix}\\right], \\quad \\left[\\begin{matrix}4 & 0 & 0 & 0 & 0\\\\0 & 1 & 0 & 1 & 0\\\\0 & -2 & 0 & 2 & 0\\\\0 & 2 & -2 & 0 & 0\\\\0 & 0 & 0 & -2 & 2\\end{matrix}\\right], \\quad \\left[\\begin{matrix}x_{s}\\\\x_{cA}\\\\x_{kA}\\\\x_{cB}\\\\x_{kB}\\end{matrix}\\right], \\quad \\left[\\begin{matrix}x_{s}\\\\x_{cA}\\\\x_{kA}\\\\x_{cB}\\\\x_{kB}\\end{matrix}\\right]\\right )$$"
       ],
       "metadata": {},
       "output_type": "pyout",
       "png": "[encoded data removed]",
       "prompt_number": 7,
       "text": [
        "\u239b\u23a1 L \u23a4, \u23a14  0   0   0   0\u23a4, \u23a1x_s \u23a4, \u23a1x_s \u23a4\u239e\n",
        "\u239c\u23a2   \u23a5  \u23a2                \u23a5  \u23a2    \u23a5  \u23a2    \u23a5\u239f\n",
        "\u239c\u23a2c_n\u23a5  \u23a20  1   0   1   0\u23a5  \u23a2x_cA\u23a5  \u23a2x_cA\u23a5\u239f\n",
        "\u239c\u23a2   \u23a5  \u23a2                \u23a5  \u23a2    \u23a5  \u23a2    \u23a5\u239f\n",
        "\u239c\u23a2l_n\u23a5  \u23a20  -2  0   2   0\u23a5  \u23a2x_kA\u23a5  \u23a2x_kA\u23a5\u239f\n",
        "\u239c\u23a2   \u23a5  \u23a2                \u23a5  \u23a2    \u23a5  \u23a2    \u23a5\u239f\n",
        "\u239c\u23a2d_A\u23a5  \u23a20  2   -2  0   0\u23a5  \u23a2x_cB\u23a5  \u23a2x_cB\u23a5\u239f\n",
        "\u239c\u23a2   \u23a5  \u23a2                \u23a5  \u23a2    \u23a5  \u23a2    \u23a5\u239f\n",
        "\u239d\u23a3d_B\u23a6  \u23a30  0   0   -2  2\u23a6  \u23a3x_kB\u23a6  \u23a3x_kB\u23a6\u23a0"
       ]
      }
     ],
     "prompt_number": 7
    },
    {
     "cell_type": "markdown",
     "metadata": {},
     "source": [
      "### Parameters"
     ]
    },
    {
     "cell_type": "markdown",
     "metadata": {},
     "source": [
      "#### Dambed springs"
     ]
    },
    {
     "cell_type": "code",
     "collapsed": false,
     "input": [
      "### Chromatin\n",
      "kappa_c, d_0, mu_c = symbols(\"kappa_c, d_0, mu_c\")\n",
      "### Kinetochore - centromere\n",
      "kappa_k, mu_k = symbols(\"kappa_k, mu_k\")"
     ],
     "language": "python",
     "metadata": {},
     "outputs": [],
     "prompt_number": 8
    },
    {
     "cell_type": "markdown",
     "metadata": {},
     "source": [
      "#### Viscous drags"
     ]
    },
    {
     "cell_type": "code",
     "collapsed": false,
     "input": [
      "### Chromosomes\n",
      "mu_ch =  symbols(\"mu_ch\")\n",
      "### SPBs\n",
      "mu_s = symbols(\"mu_s\")"
     ],
     "language": "python",
     "metadata": {},
     "outputs": [],
     "prompt_number": 9
    },
    {
     "cell_type": "markdown",
     "metadata": {},
     "source": [
      "#### Force velocity"
     ]
    },
    {
     "cell_type": "code",
     "collapsed": false,
     "input": [
      "### Interdigitated microtubules\n",
      "F_mz, V_mz =  symbols(\"F_mz, V_mz\")\n",
      "### kinteochore microtubules\n",
      "F_k, V_k =  symbols(\"F_k, V_k\")"
     ],
     "language": "python",
     "metadata": {},
     "outputs": [],
     "prompt_number": 10
    },
    {
     "cell_type": "markdown",
     "metadata": {},
     "source": [
      "## Points and Reference frame\n",
      "\n",
      "* $S$ is a simple 1D reference frame\n",
      "* spc - spindle center - the origin\n",
      "* spb - spindle pole bodies\n",
      "* ch - chromosome centers\n",
      "* cen - centromeres\n",
      "* as - attachment sites\n",
      "\n",
      "Below we define them and set a position and a speed for each"
     ]
    },
    {
     "cell_type": "code",
     "collapsed": false,
     "input": [
      "S = ReferenceFrame('S')\n",
      "spindle.referenceframe = S\n",
      "\n",
      "## spindle center\n",
      "spc = Point('spc')\n",
      "spc.set_vel(S, 0)\n",
      "\n",
      "### Spindle pole bodies\n",
      "spbR = spc.locatenew('spbR', L * S.x / 2)\n",
      "spbR.set_vel(S, Ld * S.x / 2)\n",
      "             \n",
      "spbL = spc.locatenew('spbL', -L * S.x / 2)\n",
      "spbL.set_vel(S, -Ld * S.x / 2)\n",
      "\n",
      "### Chromosomes\n",
      "ch = spc.locatenew('ch', c_n * S.x)\n",
      "ch.set_vel(S, c_nd * S.x)\n",
      "\n",
      "### centromere and attachment site A\n",
      "cenA = ch.locatenew('cenA', -(l_n + d_0)/2 * S.x)\n",
      "cenA.set_vel(S, cenA.pos_from(spc).dt(S))\n",
      "\n",
      "as_A = cenA.locatenew('as_A', - d_A * S.x)\n",
      "as_A.set_vel(S, as_A.pos_from(spc).dt(S))\n",
      "\n",
      "### centromere and attachment site A\n",
      "cenB = ch.locatenew('cenB', (l_n + d_0)/2 * S.x)\n",
      "cenB.set_vel(S, cenB.pos_from(spc).dt(S))\n",
      "\n",
      "as_B = cenB.locatenew('as_B', d_B * S.x)\n",
      "as_B.set_vel(S, as_B.pos_from(spc).dt(S))\n",
      "\n",
      "\n",
      "spindle.forcebalance['points'] = [spbR, spbL, ch, cenA, as_A, cenB, as_B]"
     ],
     "language": "python",
     "metadata": {},
     "outputs": [],
     "prompt_number": 11
    },
    {
     "cell_type": "markdown",
     "metadata": {},
     "source": [
      "#### access a relative speed"
     ]
    },
    {
     "cell_type": "code",
     "collapsed": false,
     "input": [
      "v_AR = cenA.pos_from(spbR).dt(S)\n",
      "## uncomment to project along S.x \n",
      "#v_AR = v_AR & S.x\n",
      "v_AR"
     ],
     "language": "python",
     "metadata": {},
     "outputs": [
      {
       "latex": [
        "$$(- \\frac{\\dot{L}}{2} + \\dot{c}_{n} - \\frac{\\dot{l}_{n}}{2})\\mathbf{\\hat{s}_x}$$"
       ],
       "metadata": {},
       "output_type": "pyout",
       "png": "[encoded data removed]",
       "prompt_number": 12,
       "text": [
        "\u239b  L\u0307          l_\u0307n\u239e\n",
        "\u239c- \u2500\u2500 + c_\u0307n - \u2500\u2500\u2500\u2500\u239f\n",
        "\u239d  2            2  \u23a0 s_x"
       ]
      }
     ],
     "prompt_number": 12
    },
    {
     "cell_type": "markdown",
     "metadata": {},
     "source": [
      "## Forces and energies"
     ]
    },
    {
     "cell_type": "markdown",
     "metadata": {},
     "source": [
      "### Viscous drag\n",
      "\n",
      "* Spindle length:\n",
      "$$F^r_s = -\\mu_s \\dot{L}$$\n",
      "\n",
      "* Chromosome:\n",
      "$$F^r_{ch} = -\\mu_{ch} \\dot{c_n}$$\n"
     ]
    },
    {
     "cell_type": "markdown",
     "metadata": {},
     "source": [
      "### Damped springs\n",
      "\n",
      "* Centromere pair\n",
      "$$F^s_c = \\kappa_c l_n - \\mu_c \\dot{l_n}$$\n",
      "\n",
      "* Kinetochore (cenA)\n",
      "$$F^s_k = \\kappa_k d_A - \\mu_k \\dot{d_A}$$\n",
      "Note that all equations are identical for A and B.\n",
      "\n",
      "\n",
      "This is implemented in the class DampedSpring"
     ]
    },
    {
     "cell_type": "code",
     "collapsed": false,
     "input": [
      "print(DampedSpring.new.__doc__)\n"
     ],
     "language": "python",
     "metadata": {},
     "outputs": [
      {
       "output_type": "stream",
       "stream": "stdout",
       "text": [
        "Adds an over-damped spring in `spindle`\n",
        "\n",
        "        Parameters\n",
        "        ----------\n",
        "        spindle: a :class:`kt_simul.SympySpinde` instance\n",
        "        length : dynamicsymbol\n",
        "          the extension of the spring corrected for eq. distance.\n",
        "        lengthd : dynamicsymbol\n",
        "          the damped speed\n",
        "        kappa : Young modulus\n",
        "        mu : friction coefficient\n",
        "        poitn1, point2: extremities of the spring\n",
        "        e_F : unit vector allong the force axis\n",
        "        \n"
       ]
      }
     ],
     "prompt_number": 13
    },
    {
     "cell_type": "markdown",
     "metadata": {},
     "source": [
      "### Linear force-velocity relationship\n",
      "\n",
      "#### Definition\n",
      "\n",
      "A linear force velocity relationship is used to model the traction exerted \n",
      "by molecular motors between two objects. To do so, we consider the distance $\\ell$\n",
      "between the two objects as a generalized coordinate; $\\ell$ is a dependant generalized coordinate. The force can be\n",
      "extending ($\\gamma = 1$) or reducing ($\\gamma = -1$) this distance. It depends linearly\n",
      "on the time derivative of $\\ell$. We have:\n",
      "\n",
      "$$ F = F_{max} ( 1 - \\gamma \\frac{\\dot{\\ell}}{V_{max}}) \\mathbf{e}_F $$\n",
      "\n",
      "where $F_{max}$ is the stall force and $V_{max}$ the maximum speed (in the intended regime).\n",
      "\n",
      "In order two work with affine relations between speeds and forces (generalized friction<superscipt>*<superscipt/>), we define\n",
      "the generalized speed $v_g$ such that $v_g = V_{max} - \\gamma \\dot{\\ell}$. Then:\n",
      "\n",
      "$$ F = \\frac{F_{max}}{V_{max}}v_g \\mathbf{e}_F $$\n",
      "\n",
      "\n",
      "\n",
      "\n",
      "<hr/>\n",
      "<superscipt>*<superscipt/> See the discution here:\n",
      "+ https://en.wikipedia.org/wiki/Lagrangian_mechanics#Lagrange_equations_of_the_second_kind\n",
      "+ https://en.wikipedia.org/wiki/Rayleigh_dissipation_function\n",
      "and in more details below."
     ]
    },
    {
     "cell_type": "markdown",
     "metadata": {},
     "source": [
      "For each of the motors, we define the generalized distance and the generalized speed associated."
     ]
    },
    {
     "cell_type": "code",
     "collapsed": false,
     "input": [
      "print(LinearFV.__doc__)"
     ],
     "language": "python",
     "metadata": {},
     "outputs": [
      {
       "output_type": "stream",
       "stream": "stdout",
       "text": [
        "\n",
        "    Linear Force velocity relationship\n",
        "\n",
        "    In order to use methods such as Lagrange or Kanes, one must\n",
        "    get rid of constant terms in force expressions. This is achieved\n",
        "    through the definition of constrained generalized speeds.\n",
        "    In this class, both the generalized speed and the force vector\n",
        "    are computed.\n",
        "\n",
        "    Attributes\n",
        "    ----------\n",
        "\n",
        "    ell : dependant generalized coordinate\n",
        "    v_g : dependant generalized speed\n",
        "    coord_constraint: relation between the generalized coordinate\n",
        "      and the input positions\n",
        "    speed_constraint : relation between the generalized speed\n",
        "      and the input parameters\n",
        "    F : force vector, as a function of the generalized speed and coordinate\n",
        "\n",
        "    We have\n",
        "    ..math:\n",
        "        F = F_{max} ( 1 - \\gamma \f",
        "rac{\\dot{l}}{V_{max}})\n",
        "    and\n",
        "    ..math:\n",
        "        F = \f",
        "rac{F_{max} v_g}{V_{max}} \\mathbf{e}_F\n",
        "\n",
        "    Example\n",
        "    -------\n",
        "    >>> ### container\n",
        "    >>> expl_spindle = SympySpindle('expl')\n",
        "\n",
        "    >>> ### coordinates\n",
        "    >>> q1, q2 = dynamicsymbols(\"q1, q2\")\n",
        "    >>> q1d, q2d = dynamicsymbols(\"q1d, q2d\")\n",
        "    >>> N = ReferenceFrame('N')\n",
        "    >>> ### points\n",
        "    >>> O = Point('O')\n",
        "    >>> O.set_vel(N, 0)\n",
        "    >>> p1 = O.locatenew('p1', q1 * N.x)\n",
        "    >>> p1.set_vel(N, q1d * N.x)\n",
        "    >>> p2 = O.locatenew('p2', q2 * N.x)\n",
        "    >>> p2.set_vel(N, q2d * N.x)\n",
        "    >>> ## Motor Parameters\n",
        "    >>> F_m, V_m = symbols(\"F_m, V_m\")\n",
        "    >>> ### Add to the container\n",
        "    >>> lfv = LinearFV.new(expl_spindle,\n",
        "    ...                    p1, p2, F_m, V_m, gamma=1,\n",
        "    ...                    e_F=N.x, index='o',  expo='ex')\n",
        "    >>> print(lfv.coord_constraint,  lfv.speed_constraint)\n",
        "    >>> print(lfv.F)\n",
        "    >>> assert lfv.ell.diff() == lfv.elld\n",
        "    \n"
       ]
      }
     ],
     "prompt_number": 14
    },
    {
     "cell_type": "markdown",
     "metadata": {},
     "source": [
      "### Application to the spindle"
     ]
    },
    {
     "cell_type": "code",
     "collapsed": false,
     "input": [
      "%pdb"
     ],
     "language": "python",
     "metadata": {},
     "outputs": [
      {
       "output_type": "stream",
       "stream": "stdout",
       "text": [
        "Automatic pdb calling has been turned ON\n"
       ]
      }
     ],
     "prompt_number": 15
    },
    {
     "cell_type": "code",
     "collapsed": false,
     "input": [
      "\n",
      "### only inertial terms in there, no use for us\n",
      "#particles = {point.name: Particle('p{}'.format(point.name), point, 0) # zero mass\n",
      "#             for point in spindle.forcebalance['points']}\n",
      "\n",
      "#particles['ch'].set_potential_energy(kappa_c * l_n**2 / 2)\n",
      "#particles['as_A'].set_potential_energy(kappa_k * d_A**2 / 2)\n",
      "#particles['as_B'].set_potential_energy(kappa_k * d_B**2 / 2)\n",
      "\n",
      "spring_ch = DampedSpring.new(spindle, l_n, vl_n,\n",
      "                             kappa_c, mu_c, cenA, cenB, S.x)\n",
      "\n",
      "spring_cA = DampedSpring.new(spindle, d_A, vd_A,\n",
      "                             kappa_k, mu_k, as_A, cenA, S.x)\n",
      "\n",
      "spring_cB = DampedSpring.new(spindle, d_B, vd_B,\n",
      "                             kappa_k, mu_k, as_B, cenB, S.x)\n",
      "\n",
      "## Frictions\n",
      "viscous_spbL = ViscousDrag.new(spindle, -vL / 2, mu_s, spbL, S.x)\n",
      "viscous_spbR = ViscousDrag.new(spindle, vL/2, mu_s, spbR, S.x)\n",
      "viscous_ch = ViscousDrag.new(spindle, vc_n, mu_ch, ch, S.x)\n",
      "\n",
      "\n",
      "## Linear force velocity relationships\n",
      "lfv_mz = LinearFV.new(spindle,\n",
      "                       spbL, spbR,\n",
      "                       F_mz, V_mz,\n",
      "                       1, S.x, index='mz')\n",
      "\n",
      "lfv_ktA = LinearFV.new(spindle,\n",
      "                        spbL, as_A,\n",
      "                        F_k, V_k,\n",
      "                        -1, -S.x, index='k', expo='A')\n",
      "\n",
      "\n",
      "lfv_ktB = LinearFV.new(spindle,\n",
      "                        spbR, as_B,\n",
      "                        F_k, V_k,\n",
      "                        -1, S.x, index='k', expo='B')\n",
      "\n",
      "\n",
      "#forcelist = [(spbL, - lfv_mz.F - Fr_spb - lfv_ktA.F),\n",
      "#             (spbR, lfv_mz.F + Fr_spb - lfv_ktB.F),\n",
      "#             (as_A, lfv_ktA.F + Fr_A),\n",
      "#             (as_B, lfv_ktB.F + Fr_B),\n",
      "#             (ch, Fr_ch),# + Fr_ce),\n",
      "#             ]\n",
      "\n"
     ],
     "language": "python",
     "metadata": {},
     "outputs": [],
     "prompt_number": 16
    },
    {
     "cell_type": "code",
     "collapsed": false,
     "input": [
      "spindle.forcebalance['forces']"
     ],
     "language": "python",
     "metadata": {},
     "outputs": [
      {
       "metadata": {},
       "output_type": "pyout",
       "prompt_number": 17,
       "text": [
        "[(cenA, kappa_c*l_n*S.x),\n",
        " (cenB, - kappa_c*l_n*S.x),\n",
        " (cenA, - mu_c*^vl_n*S.x),\n",
        " (cenB, mu_c*^vl_n*S.x),\n",
        " (as_A, kappa_k*d_A*S.x),\n",
        " (cenA, - kappa_k*d_A*S.x),\n",
        " (as_A, - mu_k*^vd_A*S.x),\n",
        " (cenA, mu_k*^vd_A*S.x),\n",
        " (as_B, kappa_k*d_B*S.x),\n",
        " (cenB, - kappa_k*d_B*S.x),\n",
        " (as_B, - mu_k*^vd_B*S.x),\n",
        " (cenB, mu_k*^vd_B*S.x),\n",
        " (spbL, mu_s*^vL/2*S.x),\n",
        " (spbR, - mu_s*^vL/2*S.x),\n",
        " (ch, - mu_ch*^vc_n*S.x),\n",
        " (spbL, F_mz*(1 - ^vell_mz/V_mz)*S.x),\n",
        " (spbR, - F_mz*(1 - ^vell_mz/V_mz)*S.x),\n",
        " (spbL, - F_k*(1 + ^vell_k^A/V_k)*S.x),\n",
        " (as_A, F_k*(1 + ^vell_k^A/V_k)*S.x),\n",
        " (spbR, F_k*(1 + ^vell_k^B/V_k)*S.x),\n",
        " (as_B, - F_k*(1 + ^vell_k^B/V_k)*S.x)]"
       ]
      }
     ],
     "prompt_number": 17
    },
    {
     "cell_type": "code",
     "collapsed": false,
     "input": [
      "for key, val in spindle.forcebalance.items():\n",
      "    print(key, val)\n",
      "    print('\\n')"
     ],
     "language": "python",
     "metadata": {},
     "outputs": [
      {
       "output_type": "stream",
       "stream": "stdout",
       "text": [
        "lagrangian [kappa_c*l_n(t)**2/2, kappa_k*d_A(t)**2/2, kappa_k*d_B(t)**2/2]\n",
        "\n",
        "\n",
        "points [spbR, spbL, ch, cenA, as_A, cenB, as_B]\n",
        "\n",
        "\n",
        "forces [(cenA, kappa_c*l_n*S.x), (cenB, - kappa_c*l_n*S.x), (cenA, - mu_c*^vl_n*S.x), (cenB, mu_c*^vl_n*S.x), (as_A, kappa_k*d_A*S.x), (cenA, - kappa_k*d_A*S.x), (as_A, - mu_k*^vd_A*S.x), (cenA, mu_k*^vd_A*S.x), (as_B, kappa_k*d_B*S.x), (cenB, - kappa_k*d_B*S.x), (as_B, - mu_k*^vd_B*S.x), (cenB, mu_k*^vd_B*S.x), (spbL, mu_s*^vL/2*S.x), (spbR, - mu_s*^vL/2*S.x), (ch, - mu_ch*^vc_n*S.x), (spbL, F_mz*(1 - ^vell_mz/V_mz)*S.x), (spbR, - F_mz*(1 - ^vell_mz/V_mz)*S.x), (spbL, - F_k*(1 + ^vell_k^A/V_k)*S.x), (as_A, F_k*(1 + ^vell_k^A/V_k)*S.x), (spbR, F_k*(1 + ^vell_k^B/V_k)*S.x), (as_B, - F_k*(1 + ^vell_k^B/V_k)*S.x)]\n",
        "\n",
        "\n"
       ]
      }
     ],
     "prompt_number": 18
    },
    {
     "cell_type": "code",
     "collapsed": false,
     "input": [
      "spindle.forcebalance['lagrangian']"
     ],
     "language": "python",
     "metadata": {},
     "outputs": [
      {
       "latex": [
        "$$\\left [ \\frac{\\kappa_{c} l^{2}_{n}}{2}, \\quad \\frac{\\kappa_{k} d^{2}_{A}}{2}, \\quad \\frac{\\kappa_{k} d^{2}_{B}}{2}\\right ]$$"
       ],
       "metadata": {},
       "output_type": "pyout",
       "png": "[encoded data removed]",
       "prompt_number": 19,
       "text": [
        "\u23a1       2         2         2\u23a4\n",
        "\u23a2\u03ba_c\u22c5l_n   \u03ba_k\u22c5d_A   \u03ba_k\u22c5d_B \u23a5\n",
        "\u23a2\u2500\u2500\u2500\u2500\u2500\u2500\u2500\u2500, \u2500\u2500\u2500\u2500\u2500\u2500\u2500\u2500, \u2500\u2500\u2500\u2500\u2500\u2500\u2500\u2500\u23a5\n",
        "\u23a3   2         2         2    \u23a6"
       ]
      }
     ],
     "prompt_number": 19
    },
    {
     "cell_type": "markdown",
     "metadata": {},
     "source": [
      "### Kanes Method"
     ]
    },
    {
     "cell_type": "code",
     "collapsed": false,
     "input": [
      "spindle.q_ind, spindle.u_ind, spindle.q_dep, spindle.u_dep"
     ],
     "language": "python",
     "metadata": {},
     "outputs": [
      {
       "latex": [
        "$$\\left ( \\left [ L, \\quad c_{n}, \\quad l_{n}, \\quad d_{A}, \\quad d_{B}\\right ], \\quad \\left [ ^vL, \\quad ^vc_{n}, \\quad ^vl_{n}, \\quad ^vd_{A}, \\quad ^vd_{B}\\right ], \\quad \\left [ \\ell_{mz}, \\quad \\ell^{A}_{k}, \\quad \\ell^{B}_{k}\\right ], \\quad \\left [ \\right ]\\right )$$"
       ],
       "metadata": {},
       "output_type": "pyout",
       "png": "[encoded data removed]",
       "prompt_number": 20,
       "text": [
        "([L, c_n, l_n, d_A, d_B], [^vL, ^vc_n, ^vl_n, ^vd_A, ^vd_B], [ell_mz, ell_k__A\n",
        ", ell_k__B], [])"
       ]
      }
     ],
     "prompt_number": 20
    },
    {
     "cell_type": "code",
     "collapsed": false,
     "input": [
      "spindle.forcebalance.keys()"
     ],
     "language": "python",
     "metadata": {},
     "outputs": [
      {
       "metadata": {},
       "output_type": "pyout",
       "prompt_number": 21,
       "text": [
        "dict_keys(['lagrangian', 'points', 'forces'])"
       ]
      }
     ],
     "prompt_number": 21
    },
    {
     "cell_type": "code",
     "collapsed": false,
     "input": [
      "spindle.configuration_constraints"
     ],
     "language": "python",
     "metadata": {},
     "outputs": [
      {
       "latex": [
        "$$\\left [ - L + \\ell_{mz}, \\quad - \\frac{d_{0}}{2} + \\frac{L}{2} + c_{n} - d_{A} + \\ell^{A}_{k} - \\frac{l_{n}}{2}, \\quad - \\frac{d_{0}}{2} + \\frac{L}{2} - c_{n} - d_{B} + \\ell^{B}_{k} - \\frac{l_{n}}{2}\\right ]$$"
       ],
       "metadata": {},
       "output_type": "pyout",
       "png": "[encoded data removed]",
       "prompt_number": 22,
       "text": [
        "\u23a1               d\u2080   L                          l_n    d\u2080   L                 \n",
        "\u23a2-L + ell_mz, - \u2500\u2500 + \u2500 + c_n - d_A + ell_k__A - \u2500\u2500\u2500, - \u2500\u2500 + \u2500 - c_n - d_B + el\n",
        "\u23a3               2    2                           2     2    2                 \n",
        "\n",
        "         l_n\u23a4\n",
        "l_k__B - \u2500\u2500\u2500\u23a5\n",
        "          2 \u23a6"
       ]
      }
     ],
     "prompt_number": 22
    },
    {
     "cell_type": "code",
     "collapsed": false,
     "input": [
      "spbL.pos_from(cenA)"
     ],
     "language": "python",
     "metadata": {},
     "outputs": [
      {
       "latex": [
        "$$(\\frac{d_{0}}{2} - \\frac{L}{2} - c_{n} + \\frac{l_{n}}{2})\\mathbf{\\hat{s}_x}$$"
       ],
       "metadata": {},
       "output_type": "pyout",
       "png": "[encoded data removed]",
       "prompt_number": 23,
       "text": [
        "\u239bd\u2080   L         l_n\u239e\n",
        "\u239c\u2500\u2500 - \u2500 - c_n + \u2500\u2500\u2500\u239f\n",
        "\u239d2    2          2 \u23a0 s_x"
       ]
      }
     ],
     "prompt_number": 23
    },
    {
     "cell_type": "code",
     "collapsed": false,
     "input": [
      "spindle.velocity_constraints\n"
     ],
     "language": "python",
     "metadata": {},
     "outputs": [
      {
       "latex": [
        "$$\\left [ \\right ]$$"
       ],
       "metadata": {},
       "output_type": "pyout",
       "png": "[encoded data removed]",
       "prompt_number": 24,
       "text": [
        "[]"
       ]
      }
     ],
     "prompt_number": 24
    },
    {
     "cell_type": "code",
     "collapsed": false,
     "input": [
      "spindle.kd"
     ],
     "language": "python",
     "metadata": {},
     "outputs": [
      {
       "latex": [
        "$$\\left [ - ^vL + \\dot{L}, \\quad - ^vc_{n} + \\dot{c}_{n}, \\quad - ^vl_{n} + \\dot{l}_{n}, \\quad - ^vd_{A} + \\dot{d}_{A}, \\quad - ^vd_{B} + \\dot{d}_{B}, \\quad ^vell_{mz} - \\dot{\\ell}_{mz}, \\quad ^vell^{A}_{k} - \\dot{\\ell^{A}}_{k}, \\quad ^vell^{B}_{k} - \\dot{\\ell^{B}}_{k}\\right ]$$"
       ],
       "metadata": {},
       "output_type": "pyout",
       "png": "[encoded data removed]",
       "prompt_number": 25,
       "text": [
        "[-^vL + L\u0307, -^vc_n + c_\u0307n, -^vl_n + l_\u0307n, -^vd_A + d_\u0307A, -^vd_B + d_\u0307B, ^vell_\n",
        "mz - ell_\u0307mz, ^vell_k__A - ell_k\u0307__A, ^vell_k__B - ell_k\u0307__B]"
       ]
      }
     ],
     "prompt_number": 25
    },
    {
     "cell_type": "code",
     "collapsed": false,
     "input": [
      "KM = KanesMethod(S, spindle.q_ind, spindle.u_ind, spindle.kd,\n",
      "                 q_dependent = spindle.q_dep,\n",
      "                 configuration_constraints=spindle.configuration_constraints,\n",
      "                 u_dependent = spindle.u_dep,\n",
      "                 u_auxiliary = spindle.u_auxiliary)\n",
      "                 "
     ],
     "language": "python",
     "metadata": {},
     "outputs": [],
     "prompt_number": 26
    },
    {
     "cell_type": "code",
     "collapsed": false,
     "input": [
      "KM.kindiffdict()"
     ],
     "language": "python",
     "metadata": {},
     "outputs": [
      {
       "latex": [
        "$$\\left \\{ \\dot{L} : ^vL, \\quad \\dot{c}_{n} : ^vc_{n}, \\quad \\dot{d}_{A} : ^vd_{A}, \\quad \\dot{d}_{B} : ^vd_{B}, \\quad \\dot{\\ell^{A}}_{k} : ^vell^{A}_{k}, \\quad \\dot{\\ell^{B}}_{k} : ^vell^{B}_{k}, \\quad \\dot{\\ell}_{mz} : ^vell_{mz}, \\quad \\dot{l}_{n} : ^vl_{n}\\right \\}$$"
       ],
       "metadata": {},
       "output_type": "pyout",
       "png": "[encoded data removed]",
       "prompt_number": 27,
       "text": [
        "{L\u0307: ^vL, c_\u0307n: ^vc_n, d_\u0307A: ^vd_A, d_\u0307B: ^vd_B, ell_k\u0307__A: ^vell_k__A, ell_k\u0307\n",
        "__B: ^vell_k__B, ell_\u0307mz: ^vell_mz, l_\u0307n: ^vl_n}"
       ]
      }
     ],
     "prompt_number": 27
    },
    {
     "cell_type": "code",
     "collapsed": false,
     "input": [
      "spindle.u_auxiliary"
     ],
     "language": "python",
     "metadata": {},
     "outputs": [
      {
       "latex": [
        "$$\\left [ ^vell_{mz}, \\quad ^vell^{A}_{k}, \\quad ^vell^{B}_{k}\\right ]$$"
       ],
       "metadata": {},
       "output_type": "pyout",
       "png": "[encoded data removed]",
       "prompt_number": 28,
       "text": [
        "[^vell_mz, ^vell_k__A, ^vell_k__B]"
       ]
      }
     ],
     "prompt_number": 28
    },
    {
     "cell_type": "code",
     "collapsed": false,
     "input": [
      "KM.u"
     ],
     "language": "python",
     "metadata": {},
     "outputs": [
      {
       "latex": [
        "$$\\left[\\begin{matrix}^vL\\\\^vc_{n}\\\\^vl_{n}\\\\^vd_{A}\\\\^vd_{B}\\end{matrix}\\right]$$"
       ],
       "metadata": {},
       "output_type": "pyout",
       "png": "[encoded data removed]",
       "prompt_number": 29,
       "text": [
        "\u23a1 ^vL \u23a4\n",
        "\u23a2     \u23a5\n",
        "\u23a2^vc_n\u23a5\n",
        "\u23a2     \u23a5\n",
        "\u23a2^vl_n\u23a5\n",
        "\u23a2     \u23a5\n",
        "\u23a2^vd_A\u23a5\n",
        "\u23a2     \u23a5\n",
        "\u23a3^vd_B\u23a6"
       ]
      }
     ],
     "prompt_number": 29
    },
    {
     "cell_type": "code",
     "collapsed": false,
     "input": [
      "particles = [Particle('p{}'.format(point.name), point, 0) # zero mass\n",
      "             for point in set(spindle.forcebalance['points'])]\n",
      "\n",
      "(fr, frstar) = KM.kanes_equations(spindle.forcebalance['forces'],\n",
      "                                  particles)"
     ],
     "language": "python",
     "metadata": {},
     "outputs": [],
     "prompt_number": 30
    },
    {
     "cell_type": "code",
     "collapsed": false,
     "input": [
      "fr.subs(KM.kindiffdict())"
     ],
     "language": "python",
     "metadata": {},
     "outputs": [
      {
       "latex": [
        "$$\\left[\\begin{matrix}\\frac{F_{k}}{2} \\left(1 + \\frac{^vell^{A}_{k}}{V_{k}}\\right) + \\frac{F_{k}}{2} \\left(1 + \\frac{^vell^{B}_{k}}{V_{k}}\\right) - F_{mz} \\left(1 - \\frac{^vell_{mz}}{V_{mz}}\\right) - \\frac{\\mu_{s} ^vL}{2}\\\\F_{k} \\left(1 + \\frac{^vell^{A}_{k}}{V_{k}}\\right) - F_{k} \\left(1 + \\frac{^vell^{B}_{k}}{V_{k}}\\right) - \\mu_{ch} ^vc_{n}\\\\- \\frac{F_{k}}{2} \\left(1 + \\frac{^vell^{A}_{k}}{V_{k}}\\right) - \\frac{F_{k}}{2} \\left(1 + \\frac{^vell^{B}_{k}}{V_{k}}\\right) - \\kappa_{c} l_{n} + \\mu_{c} ^vl_{n}\\\\- F_{k} \\left(1 + \\frac{^vell^{A}_{k}}{V_{k}}\\right) - \\kappa_{k} d_{A} + \\mu_{k} ^vd_{A}\\\\- F_{k} \\left(1 + \\frac{^vell^{B}_{k}}{V_{k}}\\right) + \\kappa_{k} d_{B} - \\mu_{k} ^vd_{B}\\\\0\\\\0\\\\0\\end{matrix}\\right]$$"
       ],
       "metadata": {},
       "output_type": "pyout",
       "png": "[encoded data removed]",
       "prompt_number": 31,
       "text": [
        "\u23a1    \u239b    ^vell_k__A\u239e       \u239b    ^vell_k__B\u239e                                \u23a4\n",
        "\u23a2F_k\u22c5\u239c1 + \u2500\u2500\u2500\u2500\u2500\u2500\u2500\u2500\u2500\u2500\u239f   F_k\u22c5\u239c1 + \u2500\u2500\u2500\u2500\u2500\u2500\u2500\u2500\u2500\u2500\u239f                                \u23a5\n",
        "\u23a2    \u239d       V_k    \u23a0       \u239d       V_k    \u23a0        \u239b    ^vell_mz\u239e   \u03bc_s\u22c5^vL\u23a5\n",
        "\u23a2\u2500\u2500\u2500\u2500\u2500\u2500\u2500\u2500\u2500\u2500\u2500\u2500\u2500\u2500\u2500\u2500\u2500\u2500\u2500\u2500 + \u2500\u2500\u2500\u2500\u2500\u2500\u2500\u2500\u2500\u2500\u2500\u2500\u2500\u2500\u2500\u2500\u2500\u2500\u2500\u2500 - F_mz\u22c5\u239c1 - \u2500\u2500\u2500\u2500\u2500\u2500\u2500\u2500\u239f - \u2500\u2500\u2500\u2500\u2500\u2500\u2500\u23a5\n",
        "\u23a2         2                      2                  \u239d      V_mz  \u23a0      2   \u23a5\n",
        "\u23a2                                                                           \u23a5\n",
        "\u23a2             \u239b    ^vell_k__A\u239e       \u239b    ^vell_k__B\u239e                       \u23a5\n",
        "\u23a2         F_k\u22c5\u239c1 + \u2500\u2500\u2500\u2500\u2500\u2500\u2500\u2500\u2500\u2500\u239f - F_k\u22c5\u239c1 + \u2500\u2500\u2500\u2500\u2500\u2500\u2500\u2500\u2500\u2500\u239f - \u03bc_ch\u22c5^vc_n          \u23a5\n",
        "\u23a2             \u239d       V_k    \u23a0       \u239d       V_k    \u23a0                       \u23a5\n",
        "\u23a2                                                                           \u23a5\n",
        "\u23a2          \u239b    ^vell_k__A\u239e       \u239b    ^vell_k__B\u239e                          \u23a5\n",
        "\u23a2      F_k\u22c5\u239c1 + \u2500\u2500\u2500\u2500\u2500\u2500\u2500\u2500\u2500\u2500\u239f   F_k\u22c5\u239c1 + \u2500\u2500\u2500\u2500\u2500\u2500\u2500\u2500\u2500\u2500\u239f                          \u23a5\n",
        "\u23a2          \u239d       V_k    \u23a0       \u239d       V_k    \u23a0                          \u23a5\n",
        "\u23a2    - \u2500\u2500\u2500\u2500\u2500\u2500\u2500\u2500\u2500\u2500\u2500\u2500\u2500\u2500\u2500\u2500\u2500\u2500\u2500\u2500 - \u2500\u2500\u2500\u2500\u2500\u2500\u2500\u2500\u2500\u2500\u2500\u2500\u2500\u2500\u2500\u2500\u2500\u2500\u2500\u2500 - \u03ba_c\u22c5l_n + \u03bc_c\u22c5^vl_n    \u23a5\n",
        "\u23a2               2                      2                                    \u23a5\n",
        "\u23a2                                                                           \u23a5\n",
        "\u23a2                     \u239b    ^vell_k__A\u239e                                      \u23a5\n",
        "\u23a2               - F_k\u22c5\u239c1 + \u2500\u2500\u2500\u2500\u2500\u2500\u2500\u2500\u2500\u2500\u239f - \u03ba_k\u22c5d_A + \u03bc_k\u22c5^vd_A                \u23a5\n",
        "\u23a2                     \u239d       V_k    \u23a0                                      \u23a5\n",
        "\u23a2                                                                           \u23a5\n",
        "\u23a2                     \u239b    ^vell_k__B\u239e                                      \u23a5\n",
        "\u23a2               - F_k\u22c5\u239c1 + \u2500\u2500\u2500\u2500\u2500\u2500\u2500\u2500\u2500\u2500\u239f + \u03ba_k\u22c5d_B - \u03bc_k\u22c5^vd_B                \u23a5\n",
        "\u23a2                     \u239d       V_k    \u23a0                                      \u23a5\n",
        "\u23a2                                                                           \u23a5\n",
        "\u23a2                                     0                                     \u23a5\n",
        "\u23a2                                                                           \u23a5\n",
        "\u23a2                                     0                                     \u23a5\n",
        "\u23a2                                                                           \u23a5\n",
        "\u23a3                                     0                                     \u23a6"
       ]
      }
     ],
     "prompt_number": 31
    },
    {
     "cell_type": "code",
     "collapsed": false,
     "input": [
      "KM.forcing"
     ],
     "language": "python",
     "metadata": {},
     "outputs": [
      {
       "latex": [
        "$$\\left[\\begin{matrix}\\frac{F_{k}}{2} \\left(1 + \\frac{^vell^{A}_{k}}{V_{k}}\\right) + \\frac{F_{k}}{2} \\left(1 + \\frac{^vell^{B}_{k}}{V_{k}}\\right) - F_{mz} \\left(1 - \\frac{^vell_{mz}}{V_{mz}}\\right) - \\frac{\\mu_{s} ^vL}{2}\\\\F_{k} \\left(1 + \\frac{^vell^{A}_{k}}{V_{k}}\\right) - F_{k} \\left(1 + \\frac{^vell^{B}_{k}}{V_{k}}\\right) - \\mu_{ch} ^vc_{n}\\\\- \\frac{F_{k}}{2} \\left(1 + \\frac{^vell^{A}_{k}}{V_{k}}\\right) - \\frac{F_{k}}{2} \\left(1 + \\frac{^vell^{B}_{k}}{V_{k}}\\right) - \\kappa_{c} l_{n} + \\mu_{c} ^vl_{n}\\\\- F_{k} \\left(1 + \\frac{^vell^{A}_{k}}{V_{k}}\\right) - \\kappa_{k} d_{A} + \\mu_{k} ^vd_{A}\\\\- F_{k} \\left(1 + \\frac{^vell^{B}_{k}}{V_{k}}\\right) + \\kappa_{k} d_{B} - \\mu_{k} ^vd_{B}\\end{matrix}\\right]$$"
       ],
       "metadata": {},
       "output_type": "pyout",
       "png": "[encoded data removed]",
       "prompt_number": 32,
       "text": [
        "\u23a1    \u239b    ^vell_k__A\u239e       \u239b    ^vell_k__B\u239e                                \u23a4\n",
        "\u23a2F_k\u22c5\u239c1 + \u2500\u2500\u2500\u2500\u2500\u2500\u2500\u2500\u2500\u2500\u239f   F_k\u22c5\u239c1 + \u2500\u2500\u2500\u2500\u2500\u2500\u2500\u2500\u2500\u2500\u239f                                \u23a5\n",
        "\u23a2    \u239d       V_k    \u23a0       \u239d       V_k    \u23a0        \u239b    ^vell_mz\u239e   \u03bc_s\u22c5^vL\u23a5\n",
        "\u23a2\u2500\u2500\u2500\u2500\u2500\u2500\u2500\u2500\u2500\u2500\u2500\u2500\u2500\u2500\u2500\u2500\u2500\u2500\u2500\u2500 + \u2500\u2500\u2500\u2500\u2500\u2500\u2500\u2500\u2500\u2500\u2500\u2500\u2500\u2500\u2500\u2500\u2500\u2500\u2500\u2500 - F_mz\u22c5\u239c1 - \u2500\u2500\u2500\u2500\u2500\u2500\u2500\u2500\u239f - \u2500\u2500\u2500\u2500\u2500\u2500\u2500\u23a5\n",
        "\u23a2         2                      2                  \u239d      V_mz  \u23a0      2   \u23a5\n",
        "\u23a2                                                                           \u23a5\n",
        "\u23a2             \u239b    ^vell_k__A\u239e       \u239b    ^vell_k__B\u239e                       \u23a5\n",
        "\u23a2         F_k\u22c5\u239c1 + \u2500\u2500\u2500\u2500\u2500\u2500\u2500\u2500\u2500\u2500\u239f - F_k\u22c5\u239c1 + \u2500\u2500\u2500\u2500\u2500\u2500\u2500\u2500\u2500\u2500\u239f - \u03bc_ch\u22c5^vc_n          \u23a5\n",
        "\u23a2             \u239d       V_k    \u23a0       \u239d       V_k    \u23a0                       \u23a5\n",
        "\u23a2                                                                           \u23a5\n",
        "\u23a2          \u239b    ^vell_k__A\u239e       \u239b    ^vell_k__B\u239e                          \u23a5\n",
        "\u23a2      F_k\u22c5\u239c1 + \u2500\u2500\u2500\u2500\u2500\u2500\u2500\u2500\u2500\u2500\u239f   F_k\u22c5\u239c1 + \u2500\u2500\u2500\u2500\u2500\u2500\u2500\u2500\u2500\u2500\u239f                          \u23a5\n",
        "\u23a2          \u239d       V_k    \u23a0       \u239d       V_k    \u23a0                          \u23a5\n",
        "\u23a2    - \u2500\u2500\u2500\u2500\u2500\u2500\u2500\u2500\u2500\u2500\u2500\u2500\u2500\u2500\u2500\u2500\u2500\u2500\u2500\u2500 - \u2500\u2500\u2500\u2500\u2500\u2500\u2500\u2500\u2500\u2500\u2500\u2500\u2500\u2500\u2500\u2500\u2500\u2500\u2500\u2500 - \u03ba_c\u22c5l_n + \u03bc_c\u22c5^vl_n    \u23a5\n",
        "\u23a2               2                      2                                    \u23a5\n",
        "\u23a2                                                                           \u23a5\n",
        "\u23a2                     \u239b    ^vell_k__A\u239e                                      \u23a5\n",
        "\u23a2               - F_k\u22c5\u239c1 + \u2500\u2500\u2500\u2500\u2500\u2500\u2500\u2500\u2500\u2500\u239f - \u03ba_k\u22c5d_A + \u03bc_k\u22c5^vd_A                \u23a5\n",
        "\u23a2                     \u239d       V_k    \u23a0                                      \u23a5\n",
        "\u23a2                                                                           \u23a5\n",
        "\u23a2                     \u239b    ^vell_k__B\u239e                                      \u23a5\n",
        "\u23a2               - F_k\u22c5\u239c1 + \u2500\u2500\u2500\u2500\u2500\u2500\u2500\u2500\u2500\u2500\u239f + \u03ba_k\u22c5d_B - \u03bc_k\u22c5^vd_B                \u23a5\n",
        "\u23a3                     \u239d       V_k    \u23a0                                      \u23a6"
       ]
      }
     ],
     "prompt_number": 32
    },
    {
     "cell_type": "code",
     "collapsed": false,
     "input": [
      "linearizer = KM.to_linearizer()"
     ],
     "language": "python",
     "metadata": {},
     "outputs": [],
     "prompt_number": 33
    },
    {
     "cell_type": "code",
     "collapsed": false,
     "input": [
      "linearizer.linearize()\n"
     ],
     "language": "python",
     "metadata": {},
     "outputs": [
      {
       "ename": "ShapeError",
       "evalue": "Matrix size mismatch.",
       "output_type": "pyerr",
       "traceback": [
        "\u001b[1;31m---------------------------------------------------------------------------\u001b[0m\n\u001b[1;31mShapeError\u001b[0m                                Traceback (most recent call last)",
        "\u001b[1;32m<ipython-input-40-0c3277aba4ed>\u001b[0m in \u001b[0;36m<module>\u001b[1;34m()\u001b[0m\n\u001b[1;32m----> 1\u001b[1;33m \u001b[0mlinearizer\u001b[0m\u001b[1;33m.\u001b[0m\u001b[0mlinearize\u001b[0m\u001b[1;33m(\u001b[0m\u001b[1;33m)\u001b[0m\u001b[1;33m\u001b[0m\u001b[0m\n\u001b[0m",
        "\u001b[1;32m/home/guillaume/anaconda/envs/python3/lib/python3.4/site-packages/sympy/physics/mechanics/linearize.py\u001b[0m in \u001b[0;36mlinearize\u001b[1;34m(self, op_point, A_and_B, simplify)\u001b[0m\n\u001b[0;32m    320\u001b[0m             \u001b[0mr1c1\u001b[0m \u001b[1;33m=\u001b[0m \u001b[0mA_qq\u001b[0m\u001b[1;33m\u001b[0m\u001b[0m\n\u001b[0;32m    321\u001b[0m             \u001b[1;32mif\u001b[0m \u001b[0mo\u001b[0m \u001b[1;33m!=\u001b[0m \u001b[1;36m0\u001b[0m\u001b[1;33m:\u001b[0m\u001b[1;33m\u001b[0m\u001b[0m\n\u001b[1;32m--> 322\u001b[1;33m                 \u001b[0mr1c1\u001b[0m \u001b[1;33m+=\u001b[0m \u001b[1;33m(\u001b[0m\u001b[0mA_qu\u001b[0m \u001b[1;33m*\u001b[0m \u001b[0mC_1\u001b[0m\u001b[1;33m)\u001b[0m\u001b[1;33m\u001b[0m\u001b[0m\n\u001b[0m\u001b[0;32m    323\u001b[0m             \u001b[0mr1c1\u001b[0m \u001b[1;33m=\u001b[0m \u001b[0mr1c1\u001b[0m \u001b[1;33m*\u001b[0m \u001b[0mC_0\u001b[0m\u001b[1;33m\u001b[0m\u001b[0m\n\u001b[0;32m    324\u001b[0m             \u001b[1;32mif\u001b[0m \u001b[0mm\u001b[0m \u001b[1;33m!=\u001b[0m \u001b[1;36m0\u001b[0m\u001b[1;33m:\u001b[0m\u001b[1;33m\u001b[0m\u001b[0m\n",
        "\u001b[1;32m/home/guillaume/anaconda/envs/python3/lib/python3.4/site-packages/sympy/core/decorators.py\u001b[0m in \u001b[0;36mbinary_op_wrapper\u001b[1;34m(self, other)\u001b[0m\n\u001b[0;32m    116\u001b[0m                     \u001b[1;32melse\u001b[0m\u001b[1;33m:\u001b[0m\u001b[1;33m\u001b[0m\u001b[0m\n\u001b[0;32m    117\u001b[0m                         \u001b[1;32mreturn\u001b[0m \u001b[0mf\u001b[0m\u001b[1;33m(\u001b[0m\u001b[0mself\u001b[0m\u001b[1;33m)\u001b[0m\u001b[1;33m\u001b[0m\u001b[0m\n\u001b[1;32m--> 118\u001b[1;33m             \u001b[1;32mreturn\u001b[0m \u001b[0mfunc\u001b[0m\u001b[1;33m(\u001b[0m\u001b[0mself\u001b[0m\u001b[1;33m,\u001b[0m \u001b[0mother\u001b[0m\u001b[1;33m)\u001b[0m\u001b[1;33m\u001b[0m\u001b[0m\n\u001b[0m\u001b[0;32m    119\u001b[0m         \u001b[1;32mreturn\u001b[0m \u001b[0mbinary_op_wrapper\u001b[0m\u001b[1;33m\u001b[0m\u001b[0m\n\u001b[0;32m    120\u001b[0m     \u001b[1;32mreturn\u001b[0m \u001b[0mpriority_decorator\u001b[0m\u001b[1;33m\u001b[0m\u001b[0m\n",
        "\u001b[1;32m/home/guillaume/anaconda/envs/python3/lib/python3.4/site-packages/sympy/matrices/dense.py\u001b[0m in \u001b[0;36m__add__\u001b[1;34m(self, other)\u001b[0m\n\u001b[0;32m    529\u001b[0m     \u001b[1;33m@\u001b[0m\u001b[0mcall_highest_priority\u001b[0m\u001b[1;33m(\u001b[0m\u001b[1;34m'__radd__'\u001b[0m\u001b[1;33m)\u001b[0m\u001b[1;33m\u001b[0m\u001b[0m\n\u001b[0;32m    530\u001b[0m     \u001b[1;32mdef\u001b[0m \u001b[0m__add__\u001b[0m\u001b[1;33m(\u001b[0m\u001b[0mself\u001b[0m\u001b[1;33m,\u001b[0m \u001b[0mother\u001b[0m\u001b[1;33m)\u001b[0m\u001b[1;33m:\u001b[0m\u001b[1;33m\u001b[0m\u001b[0m\n\u001b[1;32m--> 531\u001b[1;33m         \u001b[1;32mreturn\u001b[0m \u001b[0msuper\u001b[0m\u001b[1;33m(\u001b[0m\u001b[0mDenseMatrix\u001b[0m\u001b[1;33m,\u001b[0m \u001b[0mself\u001b[0m\u001b[1;33m)\u001b[0m\u001b[1;33m.\u001b[0m\u001b[0m__add__\u001b[0m\u001b[1;33m(\u001b[0m\u001b[0m_force_mutable\u001b[0m\u001b[1;33m(\u001b[0m\u001b[0mother\u001b[0m\u001b[1;33m)\u001b[0m\u001b[1;33m)\u001b[0m\u001b[1;33m\u001b[0m\u001b[0m\n\u001b[0m\u001b[0;32m    532\u001b[0m \u001b[1;33m\u001b[0m\u001b[0m\n\u001b[0;32m    533\u001b[0m     \u001b[1;33m@\u001b[0m\u001b[0mcall_highest_priority\u001b[0m\u001b[1;33m(\u001b[0m\u001b[1;34m'__add__'\u001b[0m\u001b[1;33m)\u001b[0m\u001b[1;33m\u001b[0m\u001b[0m\n",
        "\u001b[1;32m/home/guillaume/anaconda/envs/python3/lib/python3.4/site-packages/sympy/matrices/matrices.py\u001b[0m in \u001b[0;36m__add__\u001b[1;34m(self, other)\u001b[0m\n\u001b[0;32m    568\u001b[0m             \u001b[0mB\u001b[0m \u001b[1;33m=\u001b[0m \u001b[0mother\u001b[0m\u001b[1;33m\u001b[0m\u001b[0m\n\u001b[0;32m    569\u001b[0m             \u001b[1;32mif\u001b[0m \u001b[0mA\u001b[0m\u001b[1;33m.\u001b[0m\u001b[0mshape\u001b[0m \u001b[1;33m!=\u001b[0m \u001b[0mB\u001b[0m\u001b[1;33m.\u001b[0m\u001b[0mshape\u001b[0m\u001b[1;33m:\u001b[0m\u001b[1;33m\u001b[0m\u001b[0m\n\u001b[1;32m--> 570\u001b[1;33m                 \u001b[1;32mraise\u001b[0m \u001b[0mShapeError\u001b[0m\u001b[1;33m(\u001b[0m\u001b[1;34m\"Matrix size mismatch.\"\u001b[0m\u001b[1;33m)\u001b[0m\u001b[1;33m\u001b[0m\u001b[0m\n\u001b[0m\u001b[0;32m    571\u001b[0m             \u001b[0malst\u001b[0m \u001b[1;33m=\u001b[0m \u001b[0mA\u001b[0m\u001b[1;33m.\u001b[0m\u001b[0mtolist\u001b[0m\u001b[1;33m(\u001b[0m\u001b[1;33m)\u001b[0m\u001b[1;33m\u001b[0m\u001b[0m\n\u001b[0;32m    572\u001b[0m             \u001b[0mblst\u001b[0m \u001b[1;33m=\u001b[0m \u001b[0mB\u001b[0m\u001b[1;33m.\u001b[0m\u001b[0mtolist\u001b[0m\u001b[1;33m(\u001b[0m\u001b[1;33m)\u001b[0m\u001b[1;33m\u001b[0m\u001b[0m\n",
        "\u001b[1;31mShapeError\u001b[0m: Matrix size mismatch."
       ]
      },
      {
       "output_type": "stream",
       "stream": "stdout",
       "text": [
        "> \u001b[1;32m/home/guillaume/anaconda/envs/python3/lib/python3.4/site-packages/sympy/matrices/matrices.py\u001b[0m(570)\u001b[0;36m__add__\u001b[1;34m()\u001b[0m\n",
        "\u001b[1;32m    569 \u001b[1;33m            \u001b[1;32mif\u001b[0m \u001b[0mA\u001b[0m\u001b[1;33m.\u001b[0m\u001b[0mshape\u001b[0m \u001b[1;33m!=\u001b[0m \u001b[0mB\u001b[0m\u001b[1;33m.\u001b[0m\u001b[0mshape\u001b[0m\u001b[1;33m:\u001b[0m\u001b[1;33m\u001b[0m\u001b[0m\n",
        "\u001b[0m\u001b[1;32m--> 570 \u001b[1;33m                \u001b[1;32mraise\u001b[0m \u001b[0mShapeError\u001b[0m\u001b[1;33m(\u001b[0m\u001b[1;34m\"Matrix size mismatch.\"\u001b[0m\u001b[1;33m)\u001b[0m\u001b[1;33m\u001b[0m\u001b[0m\n",
        "\u001b[0m\u001b[1;32m    571 \u001b[1;33m            \u001b[0malst\u001b[0m \u001b[1;33m=\u001b[0m \u001b[0mA\u001b[0m\u001b[1;33m.\u001b[0m\u001b[0mtolist\u001b[0m\u001b[1;33m(\u001b[0m\u001b[1;33m)\u001b[0m\u001b[1;33m\u001b[0m\u001b[0m\n",
        "\u001b[0m\n"
       ]
      },
      {
       "name": "stdout",
       "output_type": "stream",
       "stream": "stdout",
       "text": [
        "ipdb> c\n"
       ]
      }
     ],
     "prompt_number": 40
    },
    {
     "cell_type": "code",
     "collapsed": false,
     "input": [
      "%pdb"
     ],
     "language": "python",
     "metadata": {},
     "outputs": []
    },
    {
     "cell_type": "code",
     "collapsed": false,
     "input": [
      "expl_spindle.velocity_constraints\n"
     ],
     "language": "python",
     "metadata": {},
     "outputs": [
      {
       "latex": [
        "$$\\left [ - V_{m} + ^vell^{ex}_{o} + \\dot{\\ell^{ex}}_{o}\\right ]$$"
       ],
       "metadata": {},
       "output_type": "pyout",
       "png": "[encoded data removed]",
       "prompt_number": 68,
       "text": [
        "[-V_m + ^vell_o__ex + ell_o\u0307__ex]"
       ]
      }
     ],
     "prompt_number": 68
    },
    {
     "cell_type": "code",
     "collapsed": false,
     "input": [
      "u_zero = dict((i, 0) for i in KM.u)"
     ],
     "language": "python",
     "metadata": {},
     "outputs": [],
     "prompt_number": 69
    },
    {
     "cell_type": "code",
     "collapsed": false,
     "input": [
      "u_zero"
     ],
     "language": "python",
     "metadata": {},
     "outputs": [
      {
       "latex": [
        "$$\\left \\{ ^vell^{ex}_{o} : 0, \\quad u_{1} : 0, \\quad u_{2} : 0\\right \\}$$"
       ],
       "metadata": {},
       "output_type": "pyout",
       "png": "[encoded data removed]",
       "prompt_number": 70,
       "text": [
        "{^vell_o__ex: 0, u\u2081: 0, u\u2082: 0}"
       ]
      }
     ],
     "prompt_number": 70
    },
    {
     "cell_type": "code",
     "collapsed": false,
     "input": [
      "KM.u\n"
     ],
     "language": "python",
     "metadata": {},
     "outputs": [
      {
       "latex": [
        "$$\\left[\\begin{matrix}u_{1}\\\\u_{2}\\\\^vell^{ex}_{o}\\end{matrix}\\right]$$"
       ],
       "metadata": {},
       "output_type": "pyout",
       "png": "[encoded data removed]",
       "prompt_number": 71,
       "text": [
        "\u23a1    u\u2081     \u23a4\n",
        "\u23a2           \u23a5\n",
        "\u23a2    u\u2082     \u23a5\n",
        "\u23a2           \u23a5\n",
        "\u23a3^vell_o__ex\u23a6"
       ]
      }
     ],
     "prompt_number": 71
    },
    {
     "cell_type": "code",
     "collapsed": false,
     "input": [
      "KM._f_nh\n"
     ],
     "language": "python",
     "metadata": {},
     "outputs": [
      {
       "latex": [
        "$$\\left[\\begin{matrix}- V_{m} + \\dot{\\ell^{ex}}_{o}\\end{matrix}\\right]$$"
       ],
       "metadata": {},
       "output_type": "pyout",
       "png": "[encoded data removed]",
       "prompt_number": 72,
       "text": [
        "[-V_m + ell_o\u0307__ex]"
       ]
      }
     ],
     "prompt_number": 72
    },
    {
     "cell_type": "code",
     "collapsed": false,
     "input": [
      "KM._f_dnh\n"
     ],
     "language": "python",
     "metadata": {},
     "outputs": [
      {
       "latex": [
        "$$\\left[\\begin{matrix}\\ddot{\\ell^{ex}}_{o}\\end{matrix}\\right]$$"
       ],
       "metadata": {},
       "output_type": "pyout",
       "png": "[encoded data removed]",
       "prompt_number": 38,
       "text": [
        "[ell_o\u0308__ex]"
       ]
      }
     ],
     "prompt_number": 38
    },
    {
     "cell_type": "code",
     "collapsed": false,
     "input": [
      "from sympy.physics.mechanics.functions import (msubs, find_dynamicsymbols,\n",
      "                                               _f_list_parser)"
     ],
     "language": "python",
     "metadata": {},
     "outputs": []
    },
    {
     "cell_type": "code",
     "collapsed": false,
     "input": [
      "find_dynamicsymbols()"
     ],
     "language": "python",
     "metadata": {},
     "outputs": []
    },
    {
     "cell_type": "code",
     "collapsed": false,
     "input": [],
     "language": "python",
     "metadata": {},
     "outputs": [
      {
       "ename": "ValueError",
       "evalue": "Cannot have dynamicsymbols outside dynamic                              forcing vector.",
       "output_type": "pyerr",
       "traceback": [
        "\u001b[1;31m---------------------------------------------------------------------------\u001b[0m\n\u001b[1;31mValueError\u001b[0m                                Traceback (most recent call last)",
        "\u001b[1;32m<ipython-input-45-6e4ac4eebb6b>\u001b[0m in \u001b[0;36m<module>\u001b[1;34m()\u001b[0m\n\u001b[1;32m----> 1\u001b[1;33m \u001b[0mlinearize\u001b[0m \u001b[1;33m=\u001b[0m \u001b[0mKM\u001b[0m\u001b[1;33m.\u001b[0m\u001b[0mto_linearizer\u001b[0m\u001b[1;33m(\u001b[0m\u001b[1;33m)\u001b[0m\u001b[1;33m\u001b[0m\u001b[0m\n\u001b[0m",
        "\u001b[1;32m/home/guillaume/anaconda/envs/python3/lib/python3.4/site-packages/sympy/physics/mechanics/kane.py\u001b[0m in \u001b[0;36mto_linearizer\u001b[1;34m(self)\u001b[0m\n\u001b[0;32m    440\u001b[0m                 self._k_ku, self._f_k, self._k_dnh, self._f_dnh, self._k_d]):\n\u001b[0;32m    441\u001b[0m             raise ValueError('Cannot have dynamicsymbols outside dynamic \\\n\u001b[1;32m--> 442\u001b[1;33m                              forcing vector.')\n\u001b[0m\u001b[0;32m    443\u001b[0m \u001b[1;33m\u001b[0m\u001b[0m\n\u001b[0;32m    444\u001b[0m         \u001b[1;31m# Find all other dynamic symbols, forming the forcing vector r.\u001b[0m\u001b[1;33m\u001b[0m\u001b[1;33m\u001b[0m\u001b[0m\n",
        "\u001b[1;31mValueError\u001b[0m: Cannot have dynamicsymbols outside dynamic                              forcing vector."
       ]
      },
      {
       "output_type": "stream",
       "stream": "stdout",
       "text": [
        "> \u001b[1;32m/home/guillaume/anaconda/envs/python3/lib/python3.4/site-packages/sympy/physics/mechanics/kane.py\u001b[0m(442)\u001b[0;36mto_linearizer\u001b[1;34m()\u001b[0m\n",
        "\u001b[1;32m    441 \u001b[1;33m            raise ValueError('Cannot have dynamicsymbols outside dynamic \\\n",
        "\u001b[0m\u001b[1;32m--> 442 \u001b[1;33m                             forcing vector.')\n",
        "\u001b[0m\u001b[1;32m    443 \u001b[1;33m\u001b[1;33m\u001b[0m\u001b[0m\n",
        "\u001b[0m\n"
       ]
      },
      {
       "name": "stdout",
       "output_type": "stream",
       "stream": "stdout",
       "text": [
        "ipdb> p i\n"
       ]
      },
      {
       "output_type": "stream",
       "stream": "stdout",
       "text": [
        "*** NameError: name 'i' is not defined\n"
       ]
      },
      {
       "name": "stdout",
       "output_type": "stream",
       "stream": "stdout",
       "text": [
        "ipdb> p insyms\n"
       ]
      },
      {
       "output_type": "stream",
       "stream": "stdout",
       "text": [
        "*** NameError: name 'insyms' is not defined\n"
       ]
      },
      {
       "name": "stdout",
       "output_type": "stream",
       "stream": "stdout",
       "text": [
        "ipdb> p self._f_kd\n"
       ]
      },
      {
       "output_type": "stream",
       "stream": "stdout",
       "text": [
        "*** AttributeError: 'KanesMethod' object has no attribute '_f_kd'\n"
       ]
      },
      {
       "name": "stdout",
       "output_type": "stream",
       "stream": "stdout",
       "text": [
        "ipdb> p self._f_k_d\n"
       ]
      },
      {
       "output_type": "stream",
       "stream": "stdout",
       "text": [
        "*** AttributeError: 'KanesMethod' object has no attribute '_f_k_d'\n"
       ]
      },
      {
       "name": "stdout",
       "output_type": "stream",
       "stream": "stdout",
       "text": [
        "ipdb> p self._k_d\n"
       ]
      },
      {
       "output_type": "stream",
       "stream": "stdout",
       "text": [
        "Matrix([\n",
        "[0, 0, 0],\n",
        "[0, 0, 0]])\n"
       ]
      },
      {
       "name": "stdout",
       "output_type": "stream",
       "stream": "stdout",
       "text": [
        "ipdb> self._k_kqdot\n"
       ]
      },
      {
       "output_type": "stream",
       "stream": "stdout",
       "text": [
        "Matrix([\n",
        "[1, 0, 0],\n",
        "[0, 1, 0],\n",
        "[0, 0, 1]])\n"
       ]
      },
      {
       "name": "stdout",
       "output_type": "stream",
       "stream": "stdout",
       "text": [
        "ipdb> self._k_ku\n"
       ]
      },
      {
       "output_type": "stream",
       "stream": "stdout",
       "text": [
        "Matrix([\n",
        "[-1,  0,  0],\n",
        "[ 0, -1,  0],\n",
        "[ 0,  0, -1]])\n"
       ]
      },
      {
       "name": "stdout",
       "output_type": "stream",
       "stream": "stdout",
       "text": [
        "ipdb> self._f_k\n"
       ]
      },
      {
       "output_type": "stream",
       "stream": "stdout",
       "text": [
        "Matrix([\n",
        "[0],\n",
        "[0],\n",
        "[0]])\n"
       ]
      },
      {
       "name": "stdout",
       "output_type": "stream",
       "stream": "stdout",
       "text": [
        "ipdb> self._k_dnh\n"
       ]
      },
      {
       "output_type": "stream",
       "stream": "stdout",
       "text": [
        "Matrix([[0, 0, 1]])\n"
       ]
      },
      {
       "name": "stdout",
       "output_type": "stream",
       "stream": "stdout",
       "text": [
        "ipdb> self._f_dnh\n"
       ]
      },
      {
       "output_type": "stream",
       "stream": "stdout",
       "text": [
        "Matrix([[Derivative(ell_o^ex(t), t, t)]])\n"
       ]
      },
      {
       "name": "stdout",
       "output_type": "stream",
       "stream": "stdout",
       "text": [
        "ipdb> c\n"
       ]
      }
     ],
     "prompt_number": 45
    },
    {
     "cell_type": "heading",
     "level": 3,
     "metadata": {},
     "source": [
      "Lagrange Method (not working)"
     ]
    },
    {
     "cell_type": "code",
     "collapsed": false,
     "input": [
      "### Buggy\n",
      "l_method = LagrangesMethod(spindle.lagrangian, spindle.qs, frame=S,\n",
      "                           forcelist=spindle.forcebalance['forcelist'],\n",
      "                           hol_coneqs=spindle.forcebalance['hol_coneqs'],\n",
      "                           nonhol_coneqs=spindle.forcebalance['nonhol_coneqs'])\n",
      "eoms = l_method.form_lagranges_equations()\n",
      "\n",
      "linearizer = l_method.to_linearizer(q_ind=spindle.forcebalance['q_ind'],\n",
      "                                    q_dep=spindle.forcebalance['q_dep'],\n",
      "                                    qd_ind=spindle.forcebalance['qd_ind'],\n",
      "                                    qd_dep=spindle.forcebalance['qd_dep'])"
     ],
     "language": "python",
     "metadata": {},
     "outputs": []
    },
    {
     "cell_type": "code",
     "collapsed": false,
     "input": [
      "eoms.simplify()\n",
      "eoms.subs([(V_k, 1), (F_k, 1)])"
     ],
     "language": "python",
     "metadata": {},
     "outputs": []
    },
    {
     "cell_type": "code",
     "collapsed": false,
     "input": [
      "eoms_u = eoms.subs([(V_k, 1), (F_k, 1)])\n",
      "eq_spb = eoms_u[0]\n",
      "eq_spb"
     ],
     "language": "python",
     "metadata": {},
     "outputs": []
    },
    {
     "cell_type": "code",
     "collapsed": false,
     "input": [
      "eoms_u_orig = trans.inv().multiply(eoms_u.subs(to_subs))\n",
      "\n",
      "e_spb = eoms_u_orig[0]\n"
     ],
     "language": "python",
     "metadata": {},
     "outputs": []
    },
    {
     "cell_type": "code",
     "collapsed": false,
     "input": [
      "e_spb.simplify()\n",
      "e_spb"
     ],
     "language": "python",
     "metadata": {},
     "outputs": []
    },
    {
     "cell_type": "code",
     "collapsed": false,
     "input": [
      "eoms_u_orig.jacobian(qds)"
     ],
     "language": "python",
     "metadata": {},
     "outputs": []
    },
    {
     "cell_type": "code",
     "collapsed": false,
     "input": [
      "eoms_u.jacobian(qs).multiply(trans)"
     ],
     "language": "python",
     "metadata": {},
     "outputs": []
    },
    {
     "cell_type": "code",
     "collapsed": false,
     "input": [],
     "language": "python",
     "metadata": {},
     "outputs": []
    },
    {
     "cell_type": "code",
     "collapsed": false,
     "input": [
      "from sympy import diff, jacobian"
     ],
     "language": "python",
     "metadata": {},
     "outputs": []
    },
    {
     "cell_type": "code",
     "collapsed": false,
     "input": [
      "e_spb.simplify()\n"
     ],
     "language": "python",
     "metadata": {},
     "outputs": []
    },
    {
     "cell_type": "markdown",
     "metadata": {},
     "source": [
      "In [sympy's doc on linearization](http://docs.sympy.org/latest/modules/physics/mechanics/linearize.html), the equations are linearized by writing them in the form:\n",
      "$$\n",
      "\\begin{split}\n",
      "M \\begin{bmatrix}\n",
      "    \\delta \\dot{q} \\\\\n",
      "    \\delta \\dot{u} \\\\\n",
      "    \\delta \\lambda \\end{bmatrix} = A \\begin{bmatrix} \\delta q_i \\\\\n",
      "    \\delta u_i\n",
      "    \\end{bmatrix}\n",
      "        + B \\begin{bmatrix} \n",
      "            \\delta r\n",
      "        \\end{bmatrix}\n",
      "\\end{split}\n",
      "$$\n",
      "\n",
      "Problem is, we have constant terms in the linear velocity relationships, so the system of equations won't fit in this scope.\n",
      "\n",
      "\n"
     ]
    },
    {
     "cell_type": "code",
     "collapsed": false,
     "input": [
      "M, A, B = linearizer.linearize(A_and_B=False)"
     ],
     "language": "python",
     "metadata": {},
     "outputs": []
    },
    {
     "cell_type": "code",
     "collapsed": false,
     "input": [
      "linearizer.u"
     ],
     "language": "python",
     "metadata": {},
     "outputs": []
    },
    {
     "cell_type": "code",
     "collapsed": false,
     "input": [
      "M"
     ],
     "language": "python",
     "metadata": {},
     "outputs": []
    },
    {
     "cell_type": "code",
     "collapsed": false,
     "input": [
      "A "
     ],
     "language": "python",
     "metadata": {},
     "outputs": []
    },
    {
     "cell_type": "code",
     "collapsed": false,
     "input": [
      "n = len(qs)\n",
      "A[n:, n:].multiply(trans)"
     ],
     "language": "python",
     "metadata": {},
     "outputs": []
    },
    {
     "cell_type": "code",
     "collapsed": false,
     "input": [
      "prev_B = A[n:, :n].multiply(trans)/2"
     ],
     "language": "python",
     "metadata": {},
     "outputs": []
    },
    {
     "cell_type": "code",
     "collapsed": false,
     "input": [
      "prev_B"
     ],
     "language": "python",
     "metadata": {},
     "outputs": []
    },
    {
     "cell_type": "code",
     "collapsed": false,
     "input": [
      "-A[n:, :n]"
     ],
     "language": "python",
     "metadata": {},
     "outputs": []
    },
    {
     "cell_type": "code",
     "collapsed": false,
     "input": [
      "B"
     ],
     "language": "python",
     "metadata": {},
     "outputs": []
    },
    {
     "cell_type": "code",
     "collapsed": false,
     "input": [],
     "language": "python",
     "metadata": {},
     "outputs": []
    }
   ],
   "metadata": {}
  }
 ]
}