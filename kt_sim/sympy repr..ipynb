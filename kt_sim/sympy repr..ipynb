{
 "metadata": {
  "name": "",
  "signature": "sha256:f287b8b6e8803b6dc349cea0a3474e56963e90057b055b634646e888ff9159ca"
 },
 "nbformat": 3,
 "nbformat_minor": 0,
 "worksheets": [
  {
   "cells": [
    {
     "cell_type": "heading",
     "level": 1,
     "metadata": {},
     "source": [
      "Dumb spindle"
     ]
    },
    {
     "cell_type": "code",
     "collapsed": false,
     "input": [
      "from sympy.physics.mechanics import dynamicsymbols\n",
      "from sympy.physics.mechanics import ReferenceFrame, Point, Particle\n",
      "from sympy.physics.mechanics import LagrangesMethod, Lagrangian\n"
     ],
     "language": "python",
     "metadata": {},
     "outputs": [],
     "prompt_number": 31
    },
    {
     "cell_type": "code",
     "collapsed": false,
     "input": [
      "from sympy.physics.mechanics import mechanics_printing\n",
      "mechanics_printing(pretty_print=True)"
     ],
     "language": "python",
     "metadata": {},
     "outputs": [],
     "prompt_number": 85
    },
    {
     "cell_type": "code",
     "collapsed": false,
     "input": [],
     "language": "python",
     "metadata": {},
     "outputs": []
    },
    {
     "cell_type": "code",
     "collapsed": false,
     "input": [
      "from sympy import symbols"
     ],
     "language": "python",
     "metadata": {},
     "outputs": [],
     "prompt_number": 66
    },
    {
     "cell_type": "code",
     "collapsed": false,
     "input": [
      "### generalized coordinates\n",
      "qs = L, x_n, l_n, d_A, d_B = dynamicsymbols('L, x_n, l_n, d_A, d_B')\n",
      "qds = Ld, x_nd, l_nd, d_Ad, d_Bd = dynamicsymbols('L, x_n, l_n, d_A, d_B', 1)\n",
      "### generalized speeds\n",
      "V_SA, V_SB = dynamicsymbols('V_SA, V_SB')\n",
      "\n",
      "### parameter\n",
      "d_0 = symbols('d_0')\n",
      "\n",
      "S = ReferenceFrame('S')\n",
      "spc = Point('spc')\n",
      "spbR = spc.locatenew('spbR', L * S.x / 2)\n",
      "spbR.set_vel(S, Ld * S.x / 2)\n",
      "             \n",
      "             \n",
      "spbL = spc.locatenew('spbL', -L * S.x / 2)\n",
      "spbL.set_vel(S, -Ld * S.x / 2)\n",
      "\n",
      "ch = spc.locatenew('ch', x_n * S.x)\n",
      "ch.set_vel(S, x_nd  * S.x)\n",
      "\n",
      "cenA = ch.locatenew('cenA', -(l_n + d_0)/2 * S.x)\n",
      "cenA.set_vel(S, cenA.pos_from(spc).dt(S))\n",
      "\n",
      "as_A = cenA.locatenew('as_A', d_A * S.x)\n",
      "as_A.set_vel(S, cenA.pos_from(spc).dt(S))\n",
      "\n",
      "cenB = ch.locatenew('cenB', (l_n + d_0)/2 * S.x)\n",
      "cenB.set_vel(S, cenB.pos_from(spc).dt(S))\n",
      "\n",
      "as_B = cenB.locatenew('as_B', d_B * S.x)\n",
      "as_B.set_vel(S, as_B.pos_from(spc).dt(S))\n",
      "\n",
      "\n",
      "\n"
     ],
     "language": "python",
     "metadata": {},
     "outputs": [],
     "prompt_number": 86
    },
    {
     "cell_type": "code",
     "collapsed": false,
     "input": [
      "cenA.pos_from(spbR)"
     ],
     "language": "python",
     "metadata": {},
     "outputs": [
      {
       "latex": [
        "$$(- \\frac{d_{0}}{2} - \\frac{L}{2} - \\frac{l_{n}}{2} + x_{n})\\mathbf{\\hat{s}_x}$$"
       ],
       "metadata": {},
       "output_type": "pyout",
       "png": "[encoded data removed]",
       "prompt_number": 87,
       "text": [
        "\u239b  d\u2080   L   l_n      \u239e\n",
        "\u239c- \u2500\u2500 - \u2500 - \u2500\u2500\u2500 + x_n\u239f\n",
        "\u239d  2    2    2       \u23a0 s_x"
       ]
      }
     ],
     "prompt_number": 87
    },
    {
     "cell_type": "code",
     "collapsed": false,
     "input": [
      "kappa_c, kappa_k, mu_s, mu_k, mu_ch, mu_ce = symbols(\"kappa_c, kappa_k, mu_s, mu_k, mu_ch, mu_ce\")\n",
      "F_mz = symbols(\"F_mz\")\n",
      "\n",
      "\n",
      "pspbR, pspbL, pch, pcenA, pas_A, pcenB, pas_B = all_particles = [Particle('P_{}'.format(point.name), point, 0)\n",
      "                                                                 for point in (spbR, spbL, ch, cenA, as_A, cenB, as_B)]\n",
      "\n",
      "pch.set_potential_energy(kappa_c * l_n**2 / 2)\n",
      "pas_A.set_potential_energy(kappa_k * d_A**2 / 2)\n",
      "pas_B.set_potential_energy(kappa_k * d_B**2 / 2)\n",
      "\n",
      "forcelist = [(spbR, F_mz*(1 - Ld) * S.x),\n",
      "             (spbL, -F_mz*(1 - Ld) * S.x)]\n"
     ],
     "language": "python",
     "metadata": {},
     "outputs": [],
     "prompt_number": 123
    },
    {
     "cell_type": "code",
     "collapsed": false,
     "input": [
      "Lag = Lagrangian(S, *all_particles)"
     ],
     "language": "python",
     "metadata": {},
     "outputs": [],
     "prompt_number": 124
    },
    {
     "cell_type": "code",
     "collapsed": false,
     "input": [
      "Lag.simplify()"
     ],
     "language": "python",
     "metadata": {},
     "outputs": [
      {
       "latex": [
        "$$- \\frac{\\kappa_{c} l^{2}_{n}}{2} - \\frac{\\kappa_{k} d^{2}_{A}}{2} - \\frac{\\kappa_{k} d^{2}_{B}}{2}$$"
       ],
       "metadata": {},
       "output_type": "pyout",
       "png": "[encoded data removed]",
       "prompt_number": 125,
       "text": [
        "         2          2          2\n",
        "  \u03ba_c\u22c5l_n    \u03ba_k\u22c5d_A    \u03ba_k\u22c5d_B \n",
        "- \u2500\u2500\u2500\u2500\u2500\u2500\u2500\u2500 - \u2500\u2500\u2500\u2500\u2500\u2500\u2500\u2500 - \u2500\u2500\u2500\u2500\u2500\u2500\u2500\u2500\n",
        "     2          2          2    "
       ]
      }
     ],
     "prompt_number": 125
    },
    {
     "cell_type": "code",
     "collapsed": false,
     "input": [
      "qs = L, l_n, d_A, d_B\n",
      "\n",
      "l = LagrangesMethod(Lag, qs, forcelist=forcelist, frame=S)"
     ],
     "language": "python",
     "metadata": {},
     "outputs": [],
     "prompt_number": 126
    },
    {
     "cell_type": "code",
     "collapsed": false,
     "input": [
      "l.u\n"
     ],
     "language": "python",
     "metadata": {},
     "outputs": [
      {
       "latex": [
        "$$\\left[\\begin{matrix}\\dot{L}\\\\\\dot{l}_{n}\\\\\\dot{d}_{A}\\\\\\dot{d}_{B}\\end{matrix}\\right]$$"
       ],
       "metadata": {},
       "output_type": "pyout",
       "png": "[encoded data removed]",
       "prompt_number": 127,
       "text": [
        "\u23a1 L\u0307 \u23a4\n",
        "\u23a2    \u23a5\n",
        "\u23a2l_\u0307n\u23a5\n",
        "\u23a2    \u23a5\n",
        "\u23a2d_\u0307A\u23a5\n",
        "\u23a2    \u23a5\n",
        "\u23a3d_\u0307B\u23a6"
       ]
      }
     ],
     "prompt_number": 127
    },
    {
     "cell_type": "code",
     "collapsed": false,
     "input": [
      "l.form_lagranges_equations()"
     ],
     "language": "python",
     "metadata": {},
     "outputs": [
      {
       "latex": [
        "$$\\left[\\begin{matrix}0\\\\\\kappa_{c} l_{n}\\\\\\kappa_{k} d_{A}\\\\\\kappa_{k} d_{B}\\end{matrix}\\right]$$"
       ],
       "metadata": {},
       "output_type": "pyout",
       "png": "[encoded data removed]",
       "prompt_number": 128,
       "text": [
        "\u23a1   0   \u23a4\n",
        "\u23a2       \u23a5\n",
        "\u23a2\u03ba_c\u22c5l_n\u23a5\n",
        "\u23a2       \u23a5\n",
        "\u23a2\u03ba_k\u22c5d_A\u23a5\n",
        "\u23a2       \u23a5\n",
        "\u23a3\u03ba_k\u22c5d_B\u23a6"
       ]
      }
     ],
     "prompt_number": 128
    },
    {
     "cell_type": "code",
     "collapsed": false,
     "input": [
      "l.eom"
     ],
     "language": "python",
     "metadata": {},
     "outputs": [
      {
       "latex": [
        "$$\\left[\\begin{matrix}0\\\\\\kappa_{c} l_{n}\\\\\\kappa_{k} d_{A}\\\\\\kappa_{k} d_{B}\\end{matrix}\\right]$$"
       ],
       "metadata": {},
       "output_type": "pyout",
       "png": "[encoded data removed]",
       "prompt_number": 129,
       "text": [
        "\u23a1   0   \u23a4\n",
        "\u23a2       \u23a5\n",
        "\u23a2\u03ba_c\u22c5l_n\u23a5\n",
        "\u23a2       \u23a5\n",
        "\u23a2\u03ba_k\u22c5d_A\u23a5\n",
        "\u23a2       \u23a5\n",
        "\u23a3\u03ba_k\u22c5d_B\u23a6"
       ]
      }
     ],
     "prompt_number": 129
    },
    {
     "cell_type": "code",
     "collapsed": false,
     "input": [
      "l.u"
     ],
     "language": "python",
     "metadata": {},
     "outputs": [
      {
       "latex": [
        "$$\\left[\\begin{matrix}\\dot{L}\\\\\\dot{l}_{n}\\\\\\dot{d}_{A}\\\\\\dot{d}_{B}\\end{matrix}\\right]$$"
       ],
       "metadata": {},
       "output_type": "pyout",
       "png": "[encoded data removed]",
       "prompt_number": 132,
       "text": [
        "\u23a1 L\u0307 \u23a4\n",
        "\u23a2    \u23a5\n",
        "\u23a2l_\u0307n\u23a5\n",
        "\u23a2    \u23a5\n",
        "\u23a2d_\u0307A\u23a5\n",
        "\u23a2    \u23a5\n",
        "\u23a3d_\u0307B\u23a6"
       ]
      }
     ],
     "prompt_number": 132
    },
    {
     "cell_type": "code",
     "collapsed": false,
     "input": [
      "linearized = l.linearize(q_ind=l.q, qd_ind=l.u, q_dep=[], qd_dep=[])"
     ],
     "language": "python",
     "metadata": {},
     "outputs": [
      {
       "latex": [
        "$$\\left ( \\left[\\begin{matrix}1 & 0 & 0 & 0 & 0 & 0 & 0 & 0\\\\0 & 1 & 0 & 0 & 0 & 0 & 0 & 0\\\\0 & 0 & 1 & 0 & 0 & 0 & 0 & 0\\\\0 & 0 & 0 & 1 & 0 & 0 & 0 & 0\\\\0 & 0 & 0 & 0 & 0 & 0 & 0 & 0\\\\0 & 0 & 0 & 0 & 0 & 0 & 0 & 0\\\\0 & 0 & 0 & 0 & 0 & 0 & 0 & 0\\\\0 & 0 & 0 & 0 & 0 & 0 & 0 & 0\\end{matrix}\\right], \\quad \\left[\\begin{matrix}0 & 0 & 0 & 0 & 1 & 0 & 0 & 0\\\\0 & 0 & 0 & 0 & 0 & 1 & 0 & 0\\\\0 & 0 & 0 & 0 & 0 & 0 & 1 & 0\\\\0 & 0 & 0 & 0 & 0 & 0 & 0 & 1\\\\0 & 0 & 0 & 0 & 0 & 0 & 0 & 0\\\\0 & - \\kappa_{c} & 0 & 0 & 0 & 0 & 0 & 0\\\\0 & 0 & - \\kappa_{k} & 0 & 0 & 0 & 0 & 0\\\\0 & 0 & 0 & - \\kappa_{k} & 0 & 0 & 0 & 0\\end{matrix}\\right], \\quad \\left[\\begin{matrix}\\end{matrix}\\right], \\quad \\left[\\begin{matrix}\\end{matrix}\\right]\\right )$$"
       ],
       "metadata": {},
       "output_type": "pyout",
       "png": "[encoded data removed]",
       "prompt_number": 133,
       "text": [
        "\u239b\u23a11  0  0  0  0  0  0  0\u23a4, \u23a10   0     0     0    1  0  0  0\u23a4, [], []\u239e\n",
        "\u239c\u23a2                      \u23a5  \u23a2                               \u23a5        \u239f\n",
        "\u239c\u23a20  1  0  0  0  0  0  0\u23a5  \u23a20   0     0     0    0  1  0  0\u23a5        \u239f\n",
        "\u239c\u23a2                      \u23a5  \u23a2                               \u23a5        \u239f\n",
        "\u239c\u23a20  0  1  0  0  0  0  0\u23a5  \u23a20   0     0     0    0  0  1  0\u23a5        \u239f\n",
        "\u239c\u23a2                      \u23a5  \u23a2                               \u23a5        \u239f\n",
        "\u239c\u23a20  0  0  1  0  0  0  0\u23a5  \u23a20   0     0     0    0  0  0  1\u23a5        \u239f\n",
        "\u239c\u23a2                      \u23a5  \u23a2                               \u23a5        \u239f\n",
        "\u239c\u23a20  0  0  0  0  0  0  0\u23a5  \u23a20   0     0     0    0  0  0  0\u23a5        \u239f\n",
        "\u239c\u23a2                      \u23a5  \u23a2                               \u23a5        \u239f\n",
        "\u239c\u23a20  0  0  0  0  0  0  0\u23a5  \u23a20  -\u03ba_c   0     0    0  0  0  0\u23a5        \u239f\n",
        "\u239c\u23a2                      \u23a5  \u23a2                               \u23a5        \u239f\n",
        "\u239c\u23a20  0  0  0  0  0  0  0\u23a5  \u23a20   0    -\u03ba_k   0    0  0  0  0\u23a5        \u239f\n",
        "\u239c\u23a2                      \u23a5  \u23a2                               \u23a5        \u239f\n",
        "\u239d\u23a30  0  0  0  0  0  0  0\u23a6  \u23a30   0     0    -\u03ba_k  0  0  0  0\u23a6        \u23a0"
       ]
      }
     ],
     "prompt_number": 133
    },
    {
     "cell_type": "code",
     "collapsed": false,
     "input": [],
     "language": "python",
     "metadata": {},
     "outputs": []
    }
   ],
   "metadata": {}
  }
 ]
}