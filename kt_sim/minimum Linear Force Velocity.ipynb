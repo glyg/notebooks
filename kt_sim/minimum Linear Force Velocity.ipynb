{
 "metadata": {
  "name": "",
  "signature": "sha256:7caf1ae3d0b6451a7ed7bbe20c601b8c36ffab1c70383c12e7b36b4163bcbd28"
 },
 "nbformat": 3,
 "nbformat_minor": 0,
 "worksheets": [
  {
   "cells": [
    {
     "cell_type": "code",
     "collapsed": false,
     "input": [
      "import IPython.display as disp\n",
      "\n",
      "from sympy import symbols, Matrix\n",
      "from sympy import sympify\n",
      "from sympy.physics.mechanics import dynamicsymbols\n",
      "from sympy.physics.mechanics import ReferenceFrame, Point, Particle\n",
      "from sympy.physics.mechanics import KanesMethod\n",
      "\n",
      "from sympy.physics.mechanics import mechanics_printing\n",
      "mechanics_printing(pretty_print=True) # Shinny\n"
     ],
     "language": "python",
     "metadata": {},
     "outputs": [],
     "prompt_number": 44
    },
    {
     "cell_type": "markdown",
     "metadata": {},
     "source": [
      "### Linear force-velocity relationship\n",
      "\n",
      "#### Definition\n",
      "\n",
      "A linear force velocity relationship is used to model the traction exerted \n",
      "by molecular motors between two objects. To do so, we consider the distance $\\ell$\n",
      "between the two objects as a generalized coordinate; $\\ell$ is a dependant generalized coordinate. The force depends linearly\n",
      "on the time derivative of $\\ell$. We have:\n",
      "\n",
      "$$ F = F_{max} ( 1 - \\frac{\\dot{\\ell}}{V_{max}}) \\mathbf{e}_F $$\n",
      "\n",
      "where $F_{max}$ is the stall force and $V_{max}$ the maximum speed (in the intended regime).\n"
     ]
    },
    {
     "cell_type": "code",
     "collapsed": false,
     "input": [
      "\n",
      "\n",
      "### coordinates\n",
      "q1, q2 = dynamicsymbols(\"q1, q2\")\n",
      "q_ind = [q1, q2]\n",
      "q1d, q2d = dynamicsymbols(\"q1, q2\", 1)\n",
      "qd_ind = [q1d, q2d]\n",
      "u1, u2 = dynamicsymbols(\"u1, u2\")\n",
      "u_ind = [u1, u2]\n",
      "kd = [q1d - u1, q2d - u2]\n",
      "\n",
      "N = ReferenceFrame('N')\n",
      "\n",
      "### points\n",
      "O = Point('O')\n",
      "O.set_vel(N, 0)\n",
      "p1 = O.locatenew('p1', q1 * N.x)\n",
      "p1.set_vel(N, u1 * N.x)\n",
      "p2 = O.locatenew('p2', q2 * N.x)\n",
      "p2.set_vel(N, u2 * N.x)\n",
      "\n",
      "### Force\n",
      "F_max, V_max = symbols(\"F_max, V_max\")\n",
      "\n",
      "v = (p2.vel(N) - p1.vel(N)) & N.x\n",
      "\n",
      "F = F_max * (1 - v / V_max) * N.x\n",
      "forces = [(p1, -F), (p2, F)]\n",
      "\n",
      "KM = KanesMethod(N, q_ind, u_ind, kd)\n",
      "\n",
      "particles = [Particle('p{}'.format(point.name), point, 0) # zero mass\n",
      "             for point in (p1, p2)]\n",
      "\n",
      "(fr, frstar) = KM.kanes_equations(forces, particles)\n",
      "linearizer = KM.to_linearizer()\n"
     ],
     "language": "python",
     "metadata": {},
     "outputs": [],
     "prompt_number": 45
    },
    {
     "cell_type": "code",
     "collapsed": false,
     "input": [
      "M, A, B = linearizer.linearize()"
     ],
     "language": "python",
     "metadata": {},
     "outputs": [],
     "prompt_number": 46
    },
    {
     "cell_type": "code",
     "collapsed": false,
     "input": [
      "linearizer.f_v"
     ],
     "language": "python",
     "metadata": {},
     "outputs": [
      {
       "latex": [
        "$$\\left[\\begin{matrix}\\end{matrix}\\right]$$"
       ],
       "metadata": {},
       "output_type": "pyout",
       "png": "[encoded data removed]",
       "prompt_number": 47,
       "text": [
        "[]"
       ]
      }
     ],
     "prompt_number": 47
    },
    {
     "cell_type": "code",
     "collapsed": false,
     "input": [
      "linearizer.f_0 + linearizer.f_1"
     ],
     "language": "python",
     "metadata": {},
     "outputs": [
      {
       "latex": [
        "$$\\left[\\begin{matrix}- u_{1} + \\dot{q}_{1}\\\\- u_{2} + \\dot{q}_{2}\\end{matrix}\\right]$$"
       ],
       "metadata": {},
       "output_type": "pyout",
       "png": "[encoded data removed]",
       "prompt_number": 48,
       "text": [
        "\u23a1-u\u2081 + q\u2081\u0307\u23a4\n",
        "\u23a2         \u23a5\n",
        "\u23a3-u\u2082 + q\u2082\u0307\u23a6"
       ]
      }
     ],
     "prompt_number": 48
    },
    {
     "cell_type": "code",
     "collapsed": false,
     "input": [
      "linearizer.f_2 + linearizer.f_3 + linearizer.f_4"
     ],
     "language": "python",
     "metadata": {},
     "outputs": [
      {
       "latex": [
        "$$\\left[\\begin{matrix}- F_{max} \\left(1 - \\frac{1}{V_{max}} \\left(- u_{1} + u_{2}\\right)\\right)\\\\F_{max} \\left(1 - \\frac{1}{V_{max}} \\left(- u_{1} + u_{2}\\right)\\right)\\end{matrix}\\right]$$"
       ],
       "metadata": {},
       "output_type": "pyout",
       "png": "[encoded data removed]",
       "prompt_number": 49,
       "text": [
        "\u23a1       \u239b    -u\u2081 + u\u2082\u239e\u23a4\n",
        "\u23a2-F_max\u22c5\u239c1 - \u2500\u2500\u2500\u2500\u2500\u2500\u2500\u2500\u239f\u23a5\n",
        "\u23a2       \u239d     V_max  \u23a0\u23a5\n",
        "\u23a2                     \u23a5\n",
        "\u23a2      \u239b    -u\u2081 + u\u2082\u239e \u23a5\n",
        "\u23a2F_max\u22c5\u239c1 - \u2500\u2500\u2500\u2500\u2500\u2500\u2500\u2500\u239f \u23a5\n",
        "\u23a3      \u239d     V_max  \u23a0 \u23a6"
       ]
      }
     ],
     "prompt_number": 49
    },
    {
     "cell_type": "code",
     "collapsed": false,
     "input": [
      "M * Matrix([linearizer.q.diff(dynamicsymbols._t), linearizer.u.diff(dynamicsymbols._t)])"
     ],
     "language": "python",
     "metadata": {},
     "outputs": [
      {
       "latex": [
        "$$\\left[\\begin{matrix}\\dot{q}_{1}\\\\\\dot{q}_{2}\\\\0\\\\0\\end{matrix}\\right]$$"
       ],
       "metadata": {},
       "output_type": "pyout",
       "png": "[encoded data removed]",
       "prompt_number": 51,
       "text": [
        "\u23a1q\u2081\u0307\u23a4\n",
        "\u23a2   \u23a5\n",
        "\u23a2q\u2082\u0307\u23a5\n",
        "\u23a2   \u23a5\n",
        "\u23a2 0 \u23a5\n",
        "\u23a2   \u23a5\n",
        "\u23a3 0 \u23a6"
       ]
      }
     ],
     "prompt_number": 51
    },
    {
     "cell_type": "code",
     "collapsed": false,
     "input": [
      "A * Matrix([linearizer.q_i, linearizer.u_i])"
     ],
     "language": "python",
     "metadata": {},
     "outputs": [
      {
       "latex": [
        "$$\\left[\\begin{matrix}u_{1}\\\\u_{2}\\\\\\frac{F_{max} u_{1}}{V_{max}} - \\frac{F_{max} u_{2}}{V_{max}}\\\\- \\frac{F_{max} u_{1}}{V_{max}} + \\frac{F_{max} u_{2}}{V_{max}}\\end{matrix}\\right]$$"
       ],
       "metadata": {},
       "output_type": "pyout",
       "png": "[encoded data removed]",
       "prompt_number": 52,
       "text": [
        "\u23a1         u\u2081          \u23a4\n",
        "\u23a2                     \u23a5\n",
        "\u23a2         u\u2082          \u23a5\n",
        "\u23a2                     \u23a5\n",
        "\u23a2 F_max\u22c5u\u2081   F_max\u22c5u\u2082 \u23a5\n",
        "\u23a2 \u2500\u2500\u2500\u2500\u2500\u2500\u2500\u2500 - \u2500\u2500\u2500\u2500\u2500\u2500\u2500\u2500 \u23a5\n",
        "\u23a2  V_max      V_max   \u23a5\n",
        "\u23a2                     \u23a5\n",
        "\u23a2  F_max\u22c5u\u2081   F_max\u22c5u\u2082\u23a5\n",
        "\u23a2- \u2500\u2500\u2500\u2500\u2500\u2500\u2500\u2500 + \u2500\u2500\u2500\u2500\u2500\u2500\u2500\u2500\u23a5\n",
        "\u23a3   V_max      V_max  \u23a6"
       ]
      }
     ],
     "prompt_number": 52
    },
    {
     "cell_type": "code",
     "collapsed": false,
     "input": [],
     "language": "python",
     "metadata": {},
     "outputs": []
    }
   ],
   "metadata": {}
  }
 ]
}