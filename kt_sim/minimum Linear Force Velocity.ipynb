{
 "metadata": {
  "name": "",
  "signature": "sha256:b9918b69462b0840adfa3c53e0c6a61cb54165e98b87c398d5209cc21b62bad9"
 },
 "nbformat": 3,
 "nbformat_minor": 0,
 "worksheets": [
  {
   "cells": [
    {
     "cell_type": "code",
     "collapsed": false,
     "input": [
      "import IPython.display as disp\n",
      "\n",
      "from sympy import symbols, Matrix\n",
      "from sympy import sympify\n",
      "from sympy.physics.mechanics import dynamicsymbols\n",
      "from sympy.physics.mechanics import ReferenceFrame, Point, Particle\n",
      "from sympy.physics.mechanics import KanesMethod\n",
      "\n",
      "from sympy.physics.mechanics import mechanics_printing\n",
      "mechanics_printing(pretty_print=True) # Shinny\n"
     ],
     "language": "python",
     "metadata": {},
     "outputs": [],
     "prompt_number": 1
    },
    {
     "cell_type": "markdown",
     "metadata": {},
     "source": [
      "### Linear force-velocity relationship\n",
      "\n",
      "#### Definition\n",
      "\n",
      "A linear force velocity relationship is used to model the traction exerted \n",
      "by molecular motors between two objects. To do so, we consider the distance $\\ell$\n",
      "between the two objects as a generalized coordinate; $\\ell$ is a dependant generalized coordinate. The force depends linearly\n",
      "on the time derivative of $\\ell$. We have:\n",
      "\n",
      "$$ F = F_{max} ( 1 - \\frac{\\dot{\\ell}}{V_{max}}) \\mathbf{e}_F $$\n",
      "\n",
      "where $F_{max}$ is the stall force and $V_{max}$ the maximum speed (in the intended regime).\n"
     ]
    },
    {
     "cell_type": "code",
     "collapsed": false,
     "input": [
      "\n",
      "\n",
      "### coordinates\n",
      "q1, q2 = dynamicsymbols(\"q1, q2\")\n",
      "q_ind = [q1, q2]\n",
      "q1d, q2d = dynamicsymbols(\"q1, q2\", 1)\n",
      "qd_ind = [q1d, q2d]\n",
      "u1, u2 = dynamicsymbols(\"u1, u2\")\n",
      "u_ind = [u1, u2]\n",
      "kd = [q1d - u1, q2d - u2]\n",
      "N = ReferenceFrame('N')\n",
      "### points\n",
      "O = Point('O')\n",
      "O.set_vel(N, 0)\n",
      "p1 = O.locatenew('p1', q1 * N.x)\n",
      "p1.set_vel(N, u1 * N.x)\n",
      "p2 = O.locatenew('p2', q2 * N.x)\n",
      "p2.set_vel(N, u2 * N.x)\n",
      "## Motor Parameters\n",
      "F_m, V_m = symbols(\"F_m, V_m\")\n",
      "\n",
      "## generalized coordinate\n",
      "\n",
      "ell = dynamicsymbols('ell')\n",
      "elld = dynamicsymbols('ell', 1)\n",
      "vell = dynamicsymbols('^v'+'ell')\n",
      "\n",
      "u_dep = [vell]\n",
      "#q_dep  =[ell]\n",
      "#qd_dep = [elld]\n",
      "\n",
      "\n",
      "## coordinate constraint\n",
      "coord_constraint  = ell - (p2.pos_from(p1) & N.x)\n",
      "\n",
      "v = (p2.pos_from(p1) & N.x).diff(dynamicsymbols._t)\n",
      "kd.append(vell - v + V_max)\n",
      "        \n",
      "### Force\n",
      "F_max, V_max = symbols(\"F_max, V_max\")\n",
      "F = F_max * (vell / V_max) * N.x\n",
      "forces = [(p1, F), (p2, - F)]\n",
      "\n",
      "KM = KanesMethod(N, q_ind, u_ind, kd,\n",
      "                 u_dependent = q_dep,\n",
      "                 configuration_constraints=[coord_constraint,])\n",
      "particles = [Particle('p{}'.format(point.name), point, 0) # zero mass\n",
      "             for point in (p1, p2)]\n",
      "\n",
      "(fr, frstar) = KM.kanes_equations(forces,\n",
      "                                  particles)\n",
      "linearizer = KM.to_linearizer()\n"
     ],
     "language": "python",
     "metadata": {},
     "outputs": [
      {
       "ename": "ValueError",
       "evalue": "Cannot have dynamicsymbols outside dynamic                              forcing vector.",
       "output_type": "pyerr",
       "traceback": [
        "\u001b[1;31m---------------------------------------------------------------------------\u001b[0m\n\u001b[1;31mValueError\u001b[0m                                Traceback (most recent call last)",
        "\u001b[1;32m<ipython-input-7-4f3e5787d634>\u001b[0m in \u001b[0;36m<module>\u001b[1;34m()\u001b[0m\n\u001b[0;32m     48\u001b[0m (fr, frstar) = KM.kanes_equations(forces,\n\u001b[0;32m     49\u001b[0m                                   particles)\n\u001b[1;32m---> 50\u001b[1;33m \u001b[0mlinearizer\u001b[0m \u001b[1;33m=\u001b[0m \u001b[0mKM\u001b[0m\u001b[1;33m.\u001b[0m\u001b[0mto_linearizer\u001b[0m\u001b[1;33m(\u001b[0m\u001b[1;33m)\u001b[0m\u001b[1;33m\u001b[0m\u001b[0m\n\u001b[0m",
        "\u001b[1;32m/home/guillaume/anaconda/envs/python3/lib/python3.4/site-packages/sympy/physics/mechanics/kane.py\u001b[0m in \u001b[0;36mto_linearizer\u001b[1;34m(self)\u001b[0m\n\u001b[0;32m    440\u001b[0m                 self._k_ku, self._f_k, self._k_dnh, self._f_dnh, self._k_d]):\n\u001b[0;32m    441\u001b[0m             raise ValueError('Cannot have dynamicsymbols outside dynamic \\\n\u001b[1;32m--> 442\u001b[1;33m                              forcing vector.')\n\u001b[0m\u001b[0;32m    443\u001b[0m \u001b[1;33m\u001b[0m\u001b[0m\n\u001b[0;32m    444\u001b[0m         \u001b[1;31m# Find all other dynamic symbols, forming the forcing vector r.\u001b[0m\u001b[1;33m\u001b[0m\u001b[1;33m\u001b[0m\u001b[0m\n",
        "\u001b[1;31mValueError\u001b[0m: Cannot have dynamicsymbols outside dynamic                              forcing vector."
       ]
      }
     ],
     "prompt_number": 7
    },
    {
     "cell_type": "code",
     "collapsed": false,
     "input": [
      "frstar"
     ],
     "language": "python",
     "metadata": {},
     "outputs": [
      {
       "latex": [
        "$$\\left[\\begin{matrix}0\\\\0\\\\0\\end{matrix}\\right]$$"
       ],
       "metadata": {},
       "output_type": "pyout",
       "png": "[encoded data removed]",
       "prompt_number": 4,
       "text": [
        "\u23a10\u23a4\n",
        "\u23a2 \u23a5\n",
        "\u23a20\u23a5\n",
        "\u23a2 \u23a5\n",
        "\u23a30\u23a6"
       ]
      }
     ],
     "prompt_number": 4
    },
    {
     "cell_type": "code",
     "collapsed": false,
     "input": [
      "fr"
     ],
     "language": "python",
     "metadata": {},
     "outputs": [
      {
       "latex": [
        "$$\\left[\\begin{matrix}F_{max} \\left(1 - \\frac{^vell}{V_{max}}\\right)\\\\- F_{max} \\left(1 - \\frac{^vell}{V_{max}}\\right)\\\\0\\end{matrix}\\right]$$"
       ],
       "metadata": {},
       "output_type": "pyout",
       "png": "[encoded data removed]",
       "prompt_number": 5,
       "text": [
        "\u23a1      \u239b    ^vell\u239e \u23a4\n",
        "\u23a2F_max\u22c5\u239c1 - \u2500\u2500\u2500\u2500\u2500\u239f \u23a5\n",
        "\u23a2      \u239d    V_max\u23a0 \u23a5\n",
        "\u23a2                  \u23a5\n",
        "\u23a2       \u239b    ^vell\u239e\u23a5\n",
        "\u23a2-F_max\u22c5\u239c1 - \u2500\u2500\u2500\u2500\u2500\u239f\u23a5\n",
        "\u23a2       \u239d    V_max\u23a0\u23a5\n",
        "\u23a2                  \u23a5\n",
        "\u23a3        0         \u23a6"
       ]
      }
     ],
     "prompt_number": 5
    },
    {
     "cell_type": "code",
     "collapsed": false,
     "input": [
      "linearizer.f_0"
     ],
     "language": "python",
     "metadata": {},
     "outputs": [
      {
       "latex": [
        "$$\\left[\\begin{matrix}\\dot{q}_{1}\\\\\\dot{q}_{2}\\\\\\dot{\\ell}\\end{matrix}\\right]$$"
       ],
       "metadata": {},
       "output_type": "pyout",
       "png": "[encoded data removed]",
       "prompt_number": 6,
       "text": [
        "\u23a1q\u2081\u0307 \u23a4\n",
        "\u23a2    \u23a5\n",
        "\u23a2q\u2082\u0307 \u23a5\n",
        "\u23a2    \u23a5\n",
        "\u23a3el\u0307l\u23a6"
       ]
      }
     ],
     "prompt_number": 6
    },
    {
     "cell_type": "code",
     "collapsed": false,
     "input": [
      "linearizer.linearize()"
     ],
     "language": "python",
     "metadata": {},
     "outputs": [
      {
       "ename": "ShapeError",
       "evalue": "Matrix size mismatch.",
       "output_type": "pyerr",
       "traceback": [
        "\u001b[1;31m---------------------------------------------------------------------------\u001b[0m\n\u001b[1;31mShapeError\u001b[0m                                Traceback (most recent call last)",
        "\u001b[1;32m<ipython-input-3-0c3277aba4ed>\u001b[0m in \u001b[0;36m<module>\u001b[1;34m()\u001b[0m\n\u001b[1;32m----> 1\u001b[1;33m \u001b[0mlinearizer\u001b[0m\u001b[1;33m.\u001b[0m\u001b[0mlinearize\u001b[0m\u001b[1;33m(\u001b[0m\u001b[1;33m)\u001b[0m\u001b[1;33m\u001b[0m\u001b[0m\n\u001b[0m",
        "\u001b[1;32m/home/guillaume/anaconda/envs/python3/lib/python3.4/site-packages/sympy/physics/mechanics/linearize.py\u001b[0m in \u001b[0;36mlinearize\u001b[1;34m(self, op_point, A_and_B, simplify)\u001b[0m\n\u001b[0;32m    320\u001b[0m             \u001b[0mr1c1\u001b[0m \u001b[1;33m=\u001b[0m \u001b[0mA_qq\u001b[0m\u001b[1;33m\u001b[0m\u001b[0m\n\u001b[0;32m    321\u001b[0m             \u001b[1;32mif\u001b[0m \u001b[0mo\u001b[0m \u001b[1;33m!=\u001b[0m \u001b[1;36m0\u001b[0m\u001b[1;33m:\u001b[0m\u001b[1;33m\u001b[0m\u001b[0m\n\u001b[1;32m--> 322\u001b[1;33m                 \u001b[0mr1c1\u001b[0m \u001b[1;33m+=\u001b[0m \u001b[1;33m(\u001b[0m\u001b[0mA_qu\u001b[0m \u001b[1;33m*\u001b[0m \u001b[0mC_1\u001b[0m\u001b[1;33m)\u001b[0m\u001b[1;33m\u001b[0m\u001b[0m\n\u001b[0m\u001b[0;32m    323\u001b[0m             \u001b[0mr1c1\u001b[0m \u001b[1;33m=\u001b[0m \u001b[0mr1c1\u001b[0m \u001b[1;33m*\u001b[0m \u001b[0mC_0\u001b[0m\u001b[1;33m\u001b[0m\u001b[0m\n\u001b[0;32m    324\u001b[0m             \u001b[1;32mif\u001b[0m \u001b[0mm\u001b[0m \u001b[1;33m!=\u001b[0m \u001b[1;36m0\u001b[0m\u001b[1;33m:\u001b[0m\u001b[1;33m\u001b[0m\u001b[0m\n",
        "\u001b[1;32m/home/guillaume/anaconda/envs/python3/lib/python3.4/site-packages/sympy/core/decorators.py\u001b[0m in \u001b[0;36mbinary_op_wrapper\u001b[1;34m(self, other)\u001b[0m\n\u001b[0;32m    116\u001b[0m                     \u001b[1;32melse\u001b[0m\u001b[1;33m:\u001b[0m\u001b[1;33m\u001b[0m\u001b[0m\n\u001b[0;32m    117\u001b[0m                         \u001b[1;32mreturn\u001b[0m \u001b[0mf\u001b[0m\u001b[1;33m(\u001b[0m\u001b[0mself\u001b[0m\u001b[1;33m)\u001b[0m\u001b[1;33m\u001b[0m\u001b[0m\n\u001b[1;32m--> 118\u001b[1;33m             \u001b[1;32mreturn\u001b[0m \u001b[0mfunc\u001b[0m\u001b[1;33m(\u001b[0m\u001b[0mself\u001b[0m\u001b[1;33m,\u001b[0m \u001b[0mother\u001b[0m\u001b[1;33m)\u001b[0m\u001b[1;33m\u001b[0m\u001b[0m\n\u001b[0m\u001b[0;32m    119\u001b[0m         \u001b[1;32mreturn\u001b[0m \u001b[0mbinary_op_wrapper\u001b[0m\u001b[1;33m\u001b[0m\u001b[0m\n\u001b[0;32m    120\u001b[0m     \u001b[1;32mreturn\u001b[0m \u001b[0mpriority_decorator\u001b[0m\u001b[1;33m\u001b[0m\u001b[0m\n",
        "\u001b[1;32m/home/guillaume/anaconda/envs/python3/lib/python3.4/site-packages/sympy/matrices/dense.py\u001b[0m in \u001b[0;36m__add__\u001b[1;34m(self, other)\u001b[0m\n\u001b[0;32m    529\u001b[0m     \u001b[1;33m@\u001b[0m\u001b[0mcall_highest_priority\u001b[0m\u001b[1;33m(\u001b[0m\u001b[1;34m'__radd__'\u001b[0m\u001b[1;33m)\u001b[0m\u001b[1;33m\u001b[0m\u001b[0m\n\u001b[0;32m    530\u001b[0m     \u001b[1;32mdef\u001b[0m \u001b[0m__add__\u001b[0m\u001b[1;33m(\u001b[0m\u001b[0mself\u001b[0m\u001b[1;33m,\u001b[0m \u001b[0mother\u001b[0m\u001b[1;33m)\u001b[0m\u001b[1;33m:\u001b[0m\u001b[1;33m\u001b[0m\u001b[0m\n\u001b[1;32m--> 531\u001b[1;33m         \u001b[1;32mreturn\u001b[0m \u001b[0msuper\u001b[0m\u001b[1;33m(\u001b[0m\u001b[0mDenseMatrix\u001b[0m\u001b[1;33m,\u001b[0m \u001b[0mself\u001b[0m\u001b[1;33m)\u001b[0m\u001b[1;33m.\u001b[0m\u001b[0m__add__\u001b[0m\u001b[1;33m(\u001b[0m\u001b[0m_force_mutable\u001b[0m\u001b[1;33m(\u001b[0m\u001b[0mother\u001b[0m\u001b[1;33m)\u001b[0m\u001b[1;33m)\u001b[0m\u001b[1;33m\u001b[0m\u001b[0m\n\u001b[0m\u001b[0;32m    532\u001b[0m \u001b[1;33m\u001b[0m\u001b[0m\n\u001b[0;32m    533\u001b[0m     \u001b[1;33m@\u001b[0m\u001b[0mcall_highest_priority\u001b[0m\u001b[1;33m(\u001b[0m\u001b[1;34m'__add__'\u001b[0m\u001b[1;33m)\u001b[0m\u001b[1;33m\u001b[0m\u001b[0m\n",
        "\u001b[1;32m/home/guillaume/anaconda/envs/python3/lib/python3.4/site-packages/sympy/matrices/matrices.py\u001b[0m in \u001b[0;36m__add__\u001b[1;34m(self, other)\u001b[0m\n\u001b[0;32m    568\u001b[0m             \u001b[0mB\u001b[0m \u001b[1;33m=\u001b[0m \u001b[0mother\u001b[0m\u001b[1;33m\u001b[0m\u001b[0m\n\u001b[0;32m    569\u001b[0m             \u001b[1;32mif\u001b[0m \u001b[0mA\u001b[0m\u001b[1;33m.\u001b[0m\u001b[0mshape\u001b[0m \u001b[1;33m!=\u001b[0m \u001b[0mB\u001b[0m\u001b[1;33m.\u001b[0m\u001b[0mshape\u001b[0m\u001b[1;33m:\u001b[0m\u001b[1;33m\u001b[0m\u001b[0m\n\u001b[1;32m--> 570\u001b[1;33m                 \u001b[1;32mraise\u001b[0m \u001b[0mShapeError\u001b[0m\u001b[1;33m(\u001b[0m\u001b[1;34m\"Matrix size mismatch.\"\u001b[0m\u001b[1;33m)\u001b[0m\u001b[1;33m\u001b[0m\u001b[0m\n\u001b[0m\u001b[0;32m    571\u001b[0m             \u001b[0malst\u001b[0m \u001b[1;33m=\u001b[0m \u001b[0mA\u001b[0m\u001b[1;33m.\u001b[0m\u001b[0mtolist\u001b[0m\u001b[1;33m(\u001b[0m\u001b[1;33m)\u001b[0m\u001b[1;33m\u001b[0m\u001b[0m\n\u001b[0;32m    572\u001b[0m             \u001b[0mblst\u001b[0m \u001b[1;33m=\u001b[0m \u001b[0mB\u001b[0m\u001b[1;33m.\u001b[0m\u001b[0mtolist\u001b[0m\u001b[1;33m(\u001b[0m\u001b[1;33m)\u001b[0m\u001b[1;33m\u001b[0m\u001b[0m\n",
        "\u001b[1;31mShapeError\u001b[0m: Matrix size mismatch."
       ]
      }
     ],
     "prompt_number": 3
    },
    {
     "cell_type": "code",
     "collapsed": false,
     "input": [],
     "language": "python",
     "metadata": {},
     "outputs": []
    }
   ],
   "metadata": {}
  }
 ]
}