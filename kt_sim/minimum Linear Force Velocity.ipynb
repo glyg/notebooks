{
 "metadata": {
  "name": "",
  "signature": "sha256:5b1591a6776793a395e82611713bcf7e77ccf55ce7159d440bba6c0af17b0af0"
 },
 "nbformat": 3,
 "nbformat_minor": 0,
 "worksheets": [
  {
   "cells": [
    {
     "cell_type": "code",
     "collapsed": false,
     "input": [
      "import IPython.display as disp\n",
      "\n",
      "from sympy import symbols, Matrix\n",
      "from sympy import sympify\n",
      "from sympy.physics.mechanics import dynamicsymbols\n",
      "from sympy.physics.mechanics import ReferenceFrame, Point, Particle\n",
      "from sympy.physics.mechanics import KanesMethod\n",
      "\n",
      "from sympy.physics.mechanics import mechanics_printing\n",
      "mechanics_printing(pretty_print=True) # Shinny\n"
     ],
     "language": "python",
     "metadata": {},
     "outputs": [],
     "prompt_number": 1
    },
    {
     "cell_type": "markdown",
     "metadata": {},
     "source": [
      "### Linear force-velocity relationship\n",
      "\n",
      "#### Definition\n",
      "\n",
      "A linear force velocity relationship is used to model the traction exerted \n",
      "by molecular motors between two objects. To do so, we consider the distance $\\ell$\n",
      "between the two objects as a generalized coordinate; $\\ell$ is a dependant generalized coordinate. The force depends linearly\n",
      "on the time derivative of $\\ell$. We have:\n",
      "\n",
      "$$ F = F_{max} ( 1 - \\frac{\\dot{\\ell}}{V_{max}}) \\mathbf{e}_F $$\n",
      "\n",
      "where $F_{max}$ is the stall force and $V_{max}$ the maximum speed (in the intended regime).\n"
     ]
    },
    {
     "cell_type": "code",
     "collapsed": false,
     "input": [
      "\n",
      "\n",
      "### coordinates\n",
      "q1, q2 = dynamicsymbols(\"q1, q2\")\n",
      "q_ind = [q1, q2]\n",
      "q1d, q2d = dynamicsymbols(\"q1, q2\", 1)\n",
      "qd_ind = [q1d, q2d]\n",
      "u1, u2 = dynamicsymbols(\"u1, u2\")\n",
      "u_ind = [u1, u2]\n",
      "kd = [q1d - u1, q2d - u2]\n",
      "\n",
      "\n",
      "N = ReferenceFrame('N')\n",
      "\n",
      "### points\n",
      "O = Point('O')\n",
      "O.set_vel(N, 0)\n",
      "p1 = O.locatenew('p1', q1 * N.x)\n",
      "p1.set_vel(N, u1 * N.x)\n",
      "p2 = O.locatenew('p2', q2 * N.x)\n",
      "p2.set_vel(N, u2 * N.x)\n",
      "## Motor Parameters\n",
      "F_m, V_m = symbols(\"F_m, V_m\")\n",
      "\n",
      "### Dependant speed\n",
      "vell = dynamicsymbols('v_ell')\n",
      "u_dep = [vell,]\n",
      "\n",
      "### Force\n",
      "F_max, V_max = symbols(\"F_max, V_max\")\n",
      "\n",
      "v = (p2.vel(N) - p1.vel(N)) & N.x\n",
      "velocity_constraint = vell - v + V_max  \n",
      "\n",
      "F = F_max * (vell / V_max) * N.x\n",
      "forces = [(p1, F), (p2, -F)]\n",
      "\n",
      "KM = KanesMethod(N, q_ind, u_ind, kd,\n",
      "                 velocity_constraints=[velocity_constraint],\n",
      "                 u_dependent=u_dep)\n",
      "\n",
      "particles = [Particle('p{}'.format(point.name), point, 0) # zero mass\n",
      "             for point in (p1, p2)]\n",
      "\n",
      "(fr, frstar) = KM.kanes_equations(forces, particles)\n",
      "linearizer = KM.to_linearizer()\n"
     ],
     "language": "python",
     "metadata": {},
     "outputs": [],
     "prompt_number": 2
    },
    {
     "cell_type": "code",
     "collapsed": false,
     "input": [
      "M, A, B = linearizer.linearize()"
     ],
     "language": "python",
     "metadata": {},
     "outputs": [],
     "prompt_number": 3
    },
    {
     "cell_type": "code",
     "collapsed": false,
     "input": [
      "linearizer.f_v"
     ],
     "language": "python",
     "metadata": {},
     "outputs": [
      {
       "latex": [
        "$$\\left[\\begin{matrix}V_{max} + u_{1} - u_{2} + v_{\\ell}\\end{matrix}\\right]$$"
       ],
       "metadata": {},
       "output_type": "pyout",
       "png": "[encoded data removed]",
       "prompt_number": 4,
       "text": [
        "[V_max + u\u2081 - u\u2082 + v_ell]"
       ]
      }
     ],
     "prompt_number": 4
    },
    {
     "cell_type": "code",
     "collapsed": false,
     "input": [
      "linearizer.f_0 + linearizer.f_1"
     ],
     "language": "python",
     "metadata": {},
     "outputs": [
      {
       "latex": [
        "$$\\left[\\begin{matrix}- u_{1} + \\dot{q}_{1}\\\\- u_{2} + \\dot{q}_{2}\\end{matrix}\\right]$$"
       ],
       "metadata": {},
       "output_type": "pyout",
       "png": "[encoded data removed]",
       "prompt_number": 5,
       "text": [
        "\u23a1-u\u2081 + q\u2081\u0307\u23a4\n",
        "\u23a2         \u23a5\n",
        "\u23a3-u\u2082 + q\u2082\u0307\u23a6"
       ]
      }
     ],
     "prompt_number": 5
    },
    {
     "cell_type": "code",
     "collapsed": false,
     "input": [
      "linearizer.f_2 + linearizer.f_3 + linearizer.f_4"
     ],
     "language": "python",
     "metadata": {},
     "outputs": [
      {
       "latex": [
        "$$\\left[\\begin{matrix}\\frac{F_{max} v_{\\ell}}{V_{max}}\\\\- \\frac{F_{max} v_{\\ell}}{V_{max}}\\end{matrix}\\right]$$"
       ],
       "metadata": {},
       "output_type": "pyout",
       "png": "[encoded data removed]",
       "prompt_number": 6,
       "text": [
        "\u23a1 F_max\u22c5v_ell \u23a4\n",
        "\u23a2 \u2500\u2500\u2500\u2500\u2500\u2500\u2500\u2500\u2500\u2500\u2500 \u23a5\n",
        "\u23a2    V_max    \u23a5\n",
        "\u23a2             \u23a5\n",
        "\u23a2-F_max\u22c5v_ell \u23a5\n",
        "\u23a2\u2500\u2500\u2500\u2500\u2500\u2500\u2500\u2500\u2500\u2500\u2500\u2500\u2500\u23a5\n",
        "\u23a3    V_max    \u23a6"
       ]
      }
     ],
     "prompt_number": 6
    },
    {
     "cell_type": "code",
     "collapsed": false,
     "input": [
      "linearizer.f_3.subs(vell, V_max + u1 - u2)"
     ],
     "language": "python",
     "metadata": {},
     "outputs": [
      {
       "latex": [
        "$$\\left[\\begin{matrix}\\frac{F_{max}}{V_{max}} \\left(V_{max} + u_{1} - u_{2}\\right)\\\\- \\frac{F_{max}}{V_{max}} \\left(V_{max} + u_{1} - u_{2}\\right)\\end{matrix}\\right]$$"
       ],
       "metadata": {},
       "output_type": "pyout",
       "png": "[encoded data removed]",
       "prompt_number": 8,
       "text": [
        "\u23a1 F_max\u22c5(V_max + u\u2081 - u\u2082) \u23a4\n",
        "\u23a2 \u2500\u2500\u2500\u2500\u2500\u2500\u2500\u2500\u2500\u2500\u2500\u2500\u2500\u2500\u2500\u2500\u2500\u2500\u2500\u2500\u2500\u2500\u2500 \u23a5\n",
        "\u23a2          V_max          \u23a5\n",
        "\u23a2                         \u23a5\n",
        "\u23a2-F_max\u22c5(V_max + u\u2081 - u\u2082) \u23a5\n",
        "\u23a2\u2500\u2500\u2500\u2500\u2500\u2500\u2500\u2500\u2500\u2500\u2500\u2500\u2500\u2500\u2500\u2500\u2500\u2500\u2500\u2500\u2500\u2500\u2500\u2500\u2500\u23a5\n",
        "\u23a3          V_max          \u23a6"
       ]
      }
     ],
     "prompt_number": 8
    },
    {
     "cell_type": "code",
     "collapsed": false,
     "input": [
      "linearizer.f_0"
     ],
     "language": "python",
     "metadata": {},
     "outputs": [
      {
       "latex": [
        "$$\\left[\\begin{matrix}\\dot{q}_{1}\\\\\\dot{q}_{2}\\end{matrix}\\right]$$"
       ],
       "metadata": {},
       "output_type": "pyout",
       "png": "[encoded data removed]",
       "prompt_number": 9,
       "text": [
        "\u23a1q\u2081\u0307\u23a4\n",
        "\u23a2   \u23a5\n",
        "\u23a3q\u2082\u0307\u23a6"
       ]
      }
     ],
     "prompt_number": 9
    },
    {
     "cell_type": "code",
     "collapsed": false,
     "input": [
      "M * Matrix([linearizer.q.diff(dynamicsymbols._t), linearizer.u.diff(dynamicsymbols._t)])"
     ],
     "language": "python",
     "metadata": {},
     "outputs": [
      {
       "latex": [
        "$$\\left[\\begin{matrix}\\dot{q}_{1}\\\\\\dot{q}_{2}\\\\\\dot{u}_{1} - \\dot{u}_{2} + \\dot{v}_{\\ell}\\\\0\\\\0\\end{matrix}\\right]$$"
       ],
       "metadata": {},
       "output_type": "pyout",
       "png": "[encoded data removed]",
       "prompt_number": 10,
       "text": [
        "\u23a1       q\u2081\u0307        \u23a4\n",
        "\u23a2                  \u23a5\n",
        "\u23a2       q\u2082\u0307        \u23a5\n",
        "\u23a2                  \u23a5\n",
        "\u23a2u\u2081\u0307 - u\u2082\u0307 + v_e\u0307ll\u23a5\n",
        "\u23a2                  \u23a5\n",
        "\u23a2        0         \u23a5\n",
        "\u23a2                  \u23a5\n",
        "\u23a3        0         \u23a6"
       ]
      }
     ],
     "prompt_number": 10
    },
    {
     "cell_type": "code",
     "collapsed": false,
     "input": [
      "A * Matrix([linearizer.q_i, linearizer.u_i])"
     ],
     "language": "python",
     "metadata": {},
     "outputs": [
      {
       "latex": [
        "$$\\left[\\begin{matrix}u_{1}\\\\u_{2}\\\\0\\\\\\frac{F_{max} u_{1}}{V_{max}} - \\frac{F_{max} u_{2}}{V_{max}}\\\\- \\frac{F_{max} u_{1}}{V_{max}} + \\frac{F_{max} u_{2}}{V_{max}}\\end{matrix}\\right]$$"
       ],
       "metadata": {},
       "output_type": "pyout",
       "png": "[encoded data removed]",
       "prompt_number": 11,
       "text": [
        "\u23a1         u\u2081          \u23a4\n",
        "\u23a2                     \u23a5\n",
        "\u23a2         u\u2082          \u23a5\n",
        "\u23a2                     \u23a5\n",
        "\u23a2          0          \u23a5\n",
        "\u23a2                     \u23a5\n",
        "\u23a2 F_max\u22c5u\u2081   F_max\u22c5u\u2082 \u23a5\n",
        "\u23a2 \u2500\u2500\u2500\u2500\u2500\u2500\u2500\u2500 - \u2500\u2500\u2500\u2500\u2500\u2500\u2500\u2500 \u23a5\n",
        "\u23a2  V_max      V_max   \u23a5\n",
        "\u23a2                     \u23a5\n",
        "\u23a2  F_max\u22c5u\u2081   F_max\u22c5u\u2082\u23a5\n",
        "\u23a2- \u2500\u2500\u2500\u2500\u2500\u2500\u2500\u2500 + \u2500\u2500\u2500\u2500\u2500\u2500\u2500\u2500\u23a5\n",
        "\u23a3   V_max      V_max  \u23a6"
       ]
      }
     ],
     "prompt_number": 11
    },
    {
     "cell_type": "code",
     "collapsed": false,
     "input": [],
     "language": "python",
     "metadata": {},
     "outputs": []
    }
   ],
   "metadata": {}
  }
 ]
}