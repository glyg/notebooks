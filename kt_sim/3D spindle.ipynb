{
 "cells": [
  {
   "cell_type": "code",
   "execution_count": 1,
   "metadata": {
    "collapsed": false
   },
   "outputs": [],
   "source": [
    "%load_ext autoreload\n",
    "%autoreload 2\n",
    "\n",
    "import sys\n",
    "# change this to suit your path\n",
    "sys.path.append('/home/guillaume/Python/kt_simul/')\n",
    "from kt_simul.smp_spindle.smp_spindle import SympySpindle, parameters\n",
    "\n",
    "\n",
    "import IPython.display as disp\n",
    "import os"
   ]
  },
  {
   "cell_type": "markdown",
   "metadata": {
    "collapsed": false
   },
   "source": [
    "### Visualisation using openscad\n",
    "\n",
    "This has the advangtage of being simple to use\n",
    "\n",
    "```python\n",
    "import solid as solid\n",
    "import tempfile\n",
    "solid.use('spindle.scad')\n",
    "spindle_length = 4\n",
    "ch_pos = [-0.4, 0.1, 1]\n",
    "stretch = 0.3\n",
    "ch_theta = 30\n",
    "ch_phi = 10\n",
    "\n",
    "scad_spindle = (spindle_midzone(spindle_length) +\n",
    "                chromosome(ch_pos, stretch, ch_theta, ch_phi))\n",
    "def show_scad(scad_spindle, img_name='spindle_scad.png'):\n",
    "    if os.path.isfile(img_name):\n",
    "        os.remove(img_name)\n",
    "    with tempfile.NamedTemporaryFile('w', suffix='.scad') as tmp_scad:\n",
    "        solid.scad_render_to_file(scad_spindle, tmp_scad.name)\n",
    "        os.system('openscad -o {} {}'.format(img_name, tmp_scad.name))\n",
    "    return disp.Image(img_name)\n",
    "show_scad(scad_spindle)\n",
    "```"
   ]
  },
  {
   "cell_type": "code",
   "execution_count": 2,
   "metadata": {
    "collapsed": false
   },
   "outputs": [],
   "source": [
    "from sympy.physics.mechanics import mechanics_printing\n",
    "\n",
    "mechanics_printing(pretty_print=False)  # Shinny\n"
   ]
  },
  {
   "cell_type": "code",
   "execution_count": 3,
   "metadata": {
    "collapsed": false
   },
   "outputs": [
    {
     "ename": "ImportError",
     "evalue": "cannot import name 'AffineTransform'",
     "output_type": "error",
     "traceback": [
      "\u001b[1;31m---------------------------------------------------------------------------\u001b[0m",
      "\u001b[1;31mImportError\u001b[0m                               Traceback (most recent call last)",
      "\u001b[1;32m<ipython-input-3-0e4b44cbe52b>\u001b[0m in \u001b[0;36m<module>\u001b[1;34m()\u001b[0m\n\u001b[0;32m     30\u001b[0m \u001b[1;33m\u001b[0m\u001b[0m\n\u001b[0;32m     31\u001b[0m \u001b[1;32mfrom\u001b[0m \u001b[0mvispy\u001b[0m \u001b[1;32mimport\u001b[0m \u001b[0mapp\u001b[0m\u001b[1;33m,\u001b[0m \u001b[0mgloo\u001b[0m\u001b[1;33m,\u001b[0m \u001b[0mvisuals\u001b[0m\u001b[1;33m\u001b[0m\u001b[0m\n\u001b[1;32m---> 32\u001b[1;33m from vispy.visuals.transforms import (STTransform, AffineTransform,\n\u001b[0m\u001b[0;32m     33\u001b[0m                                       ChainTransform)\n\u001b[0;32m     34\u001b[0m \u001b[1;33m\u001b[0m\u001b[0m\n",
      "\u001b[1;31mImportError\u001b[0m: cannot import name 'AffineTransform'"
     ]
    }
   ],
   "source": [
    "import vispy.geometry as vp_geom\n",
    "import vispy.util as vp_util\n",
    "\n",
    "def translate(mesh, pos):\n",
    "    \n",
    "    mesh.set_vertices(mesh.get_vertices() + pos)\n",
    "    return mesh\n",
    "    \n",
    "\n",
    "def create_spb(pos, radius=0.3):\n",
    "    spb = vp_geom.create_sphere(12, 12, radius)\n",
    "    return translate(spb, pos)\n",
    "    \n",
    "    \n",
    "def create_midzone(length, r=0.2):\n",
    "    \n",
    "    mz = vp_geom.create_cylinder(12, 2, [r, r],\n",
    "                                 length, True)\n",
    "    return mz\n",
    "    \n",
    "def create_chromosome(stretch, orientation, r=0.1):\n",
    "    \n",
    "    theta, phi, omega = orientation\n",
    "    \n",
    "    ch = vp_geom.create_cylinder(12, 2, [r, r],\n",
    "                                 length, True)\n",
    "    \n",
    "### Maybe scene visuals is better suited, see:\n",
    "### http://api.vispy.org/en/latest/scene.html\n",
    "\n",
    "from vispy import app, gloo, visuals\n",
    "from vispy.visuals.transforms import (STTransform, AffineTransform,\n",
    "                                      ChainTransform)\n",
    "\n",
    "\n",
    "class Canvas(app.Canvas):\n",
    "    def __init__(self, mdatas):\n",
    "        app.Canvas.__init__(self, keys='interactive', size=(800, 550))\n",
    "\n",
    "        self.rotation = AffineTransform()\n",
    "        self.meshes = [visuals.MeshVisual(meshdata=mdata, color='r') for mdata in mdatas]\n",
    "\n",
    "        self.show()\n",
    "\n",
    "        self.timer = app.Timer(connect=self.rotate)\n",
    "        self.timer.start(0.016)\n",
    "\n",
    "    def rotate(self, event):\n",
    "        self.rotation.rotate(1, (0, 1, 0))\n",
    "        self.update()\n",
    "\n",
    "    def on_draw(self, ev):\n",
    "        gloo.set_viewport(0, 0, *self.physical_size)\n",
    "        gloo.clear(color='black', depth=True)\n",
    "        for mesh in self.meshes:\n",
    "            mesh.draw()\n",
    "\n",
    "length = 3.\n",
    "\n",
    "            \n",
    "spbL = create_spb([-length/2, 0, 0])\n",
    "spbR = create_spb([length/2, 0, 0])\n",
    "mz = create_midzone(length)\n",
    "\n",
    "#win = Canvas([spbL, spbR, mz])\n",
    "#import sys a\n",
    "#if sys.flags.interactive != 1:\n",
    "#    app.run()\n",
    "\n",
    "### Too be continued    \n",
    "\n"
   ]
  },
  {
   "cell_type": "markdown",
   "metadata": {},
   "source": [
    "### Model description\n",
    "\n",
    "We're looking at a simple mechanical system\n",
    "\n",
    "![3D spindle](3d_spindle.svg)\n",
    "\n",
    "\n",
    "\n",
    "#### Points and coordiantes\n",
    "\n",
    "Point is the physical location of an element.\n",
    "\n",
    "In the method we use to write the equations of motion of the system, we use what is caled **generalized coordinates** and **generalized speeds**. The generic letter for a gen. coordinate is **q** and **u** for the speeds. Those are the quantities marked in red on the sketch.\n",
    "\n",
    "As a starting point to a 3D description of the spindle, we assume that the chromosomes are 'aligned', thus there is a single extra reference frame, noted $\\mathbf{C}$, for each chromosome.\n",
    "\n",
    "\n"
   ]
  },
  {
   "cell_type": "markdown",
   "metadata": {},
   "source": [
    "### Parameters "
   ]
  },
  {
   "cell_type": "code",
   "execution_count": 4,
   "metadata": {
    "collapsed": false
   },
   "outputs": [
    {
     "name": "stdout",
     "output_type": "stream",
     "text": [
      "d_0\n",
      "mu_c\n",
      "F_mz\n",
      "kappa_k\n",
      "kappa_c\n",
      "mu_k\n",
      "V_k\n",
      "mu_s\n",
      "F_k\n",
      "mu_ch\n",
      "V_mz\n"
     ]
    }
   ],
   "source": [
    "## Those are simple  `sympy.symbols`\n",
    "for param in parameters.keys():\n",
    "    print(param)"
   ]
  },
  {
   "cell_type": "markdown",
   "metadata": {},
   "source": [
    "## Spindle class instanciation\n",
    "\n"
   ]
  },
  {
   "cell_type": "code",
   "execution_count": 5,
   "metadata": {
    "collapsed": false
   },
   "outputs": [],
   "source": [
    "spindle = SympySpindle('3D_1_1', N=1, Mk=1)"
   ]
  },
  {
   "cell_type": "code",
   "execution_count": 6,
   "metadata": {
    "collapsed": false
   },
   "outputs": [],
   "source": [
    "ch = spindle.chromosomes[0]"
   ]
  },
  {
   "cell_type": "code",
   "execution_count": 7,
   "metadata": {
    "collapsed": false
   },
   "outputs": [],
   "source": [
    "ps = ch.cen_A.plugsites[0]"
   ]
  },
  {
   "cell_type": "code",
   "execution_count": 8,
   "metadata": {
    "collapsed": false
   },
   "outputs": [],
   "source": [
    "cen_A00 = spindle.points[3]"
   ]
  },
  {
   "cell_type": "code",
   "execution_count": 30,
   "metadata": {
    "collapsed": false
   },
   "outputs": [],
   "source": [
    "a = np.zeros((5, 3))\n",
    "\n",
    "a[0] = (1, 1, 1)"
   ]
  },
  {
   "cell_type": "code",
   "execution_count": 31,
   "metadata": {
    "collapsed": false
   },
   "outputs": [
    {
     "data": {
      "text/plain": [
       "array([[ 1.,  1.,  1.],\n",
       "       [ 0.,  0.,  0.],\n",
       "       [ 0.,  0.,  0.],\n",
       "       [ 0.,  0.,  0.],\n",
       "       [ 0.,  0.,  0.]])"
      ]
     },
     "execution_count": 31,
     "metadata": {},
     "output_type": "execute_result"
    }
   ],
   "source": [
    "a"
   ]
  },
  {
   "cell_type": "code",
   "execution_count": 9,
   "metadata": {
    "collapsed": false
   },
   "outputs": [],
   "source": [
    "spindle.kanesmethod()"
   ]
  },
  {
   "cell_type": "code",
   "execution_count": 10,
   "metadata": {
    "collapsed": false,
    "scrolled": true
   },
   "outputs": [
    {
     "data": {
      "text/plain": [
       "Matrix([\n",
       "[lambda_00A, rho_00A],\n",
       "[lambda_00B, rho_00B]])"
      ]
     },
     "execution_count": 10,
     "metadata": {},
     "output_type": "execute_result"
    }
   ],
   "source": [
    "spindle.attach_state"
   ]
  },
  {
   "cell_type": "code",
   "execution_count": 11,
   "metadata": {
    "collapsed": true
   },
   "outputs": [],
   "source": [
    "import sympy as sy\n",
    "from sympy import sympify, lambdify\n"
   ]
  },
  {
   "cell_type": "code",
   "execution_count": 12,
   "metadata": {
    "collapsed": false
   },
   "outputs": [],
   "source": [
    "amphitelic = {astate:val for astate, val in zip(spindle.attach_state, sy.Identity(2))}"
   ]
  },
  {
   "cell_type": "code",
   "execution_count": 13,
   "metadata": {
    "collapsed": true
   },
   "outputs": [],
   "source": [
    "passive_params = ['mu_s', 'mu_ch', 'mu_c','mu_k',\n",
    "                  'kappa_c', 'kappa_k', 'd_0']\n",
    "passive_zero = {parameters[name]:0 for name in passive_params}\n",
    "\n",
    "active_params = ['F_k', 'V_k', 'F_mz', 'V_mz']\n",
    "active_zero = {parameters[name]:0 for name in active_params}\n",
    "\n",
    "adim = {parameters['F_k']:1, parameters['V_k']:1}"
   ]
  },
  {
   "cell_type": "code",
   "execution_count": 14,
   "metadata": {
    "collapsed": false
   },
   "outputs": [],
   "source": [
    "A0 = spindle.A_uu.subs(active_zero).subs(adim)\n",
    "At = spindle.A_uu.subs(passive_zero).subs(adim)\n",
    "At_args = [parameters[name] for name in active_params] + list(spindle.attach_state)\n",
    "A0_args = [parameters[name] for name in passive_params]"
   ]
  },
  {
   "cell_type": "code",
   "execution_count": 15,
   "metadata": {
    "collapsed": false
   },
   "outputs": [
    {
     "data": {
      "text/plain": [
       "Matrix([\n",
       "[-mu_s/2,                    0,                    0,                    0,     0,     0,     0,                    0,                    0,                    0,     0,     0,     0],\n",
       "[      0, -mu_c - mu_ch - mu_k,                    0,                    0,  mu_k,     0,     0,                 mu_c,                    0,                    0,     0,     0,     0],\n",
       "[      0,                    0, -mu_c - mu_ch - mu_k,                    0,     0,  mu_k,     0,                    0,                 mu_c,                    0,     0,     0,     0],\n",
       "[      0,                    0,                    0, -mu_c - mu_ch - mu_k,     0,     0,  mu_k,                    0,                    0,                 mu_c,     0,     0,     0],\n",
       "[      0,                 mu_k,                    0,                    0, -mu_k,     0,     0,                    0,                    0,                    0,     0,     0,     0],\n",
       "[      0,                    0,                 mu_k,                    0,     0, -mu_k,     0,                    0,                    0,                    0,     0,     0,     0],\n",
       "[      0,                    0,                    0,                 mu_k,     0,     0, -mu_k,                    0,                    0,                    0,     0,     0,     0],\n",
       "[      0,                 mu_c,                    0,                    0,     0,     0,     0, -mu_c - mu_ch - mu_k,                    0,                    0,  mu_k,     0,     0],\n",
       "[      0,                    0,                 mu_c,                    0,     0,     0,     0,                    0, -mu_c - mu_ch - mu_k,                    0,     0,  mu_k,     0],\n",
       "[      0,                    0,                    0,                 mu_c,     0,     0,     0,                    0,                    0, -mu_c - mu_ch - mu_k,     0,     0,  mu_k],\n",
       "[      0,                    0,                    0,                    0,     0,     0,     0,                 mu_k,                    0,                    0, -mu_k,     0,     0],\n",
       "[      0,                    0,                    0,                    0,     0,     0,     0,                    0,                 mu_k,                    0,     0, -mu_k,     0],\n",
       "[      0,                    0,                    0,                    0,     0,     0,     0,                    0,                    0,                 mu_k,     0,     0, -mu_k]])"
      ]
     },
     "execution_count": 15,
     "metadata": {},
     "output_type": "execute_result"
    }
   ],
   "source": [
    "A0"
   ]
  },
  {
   "cell_type": "code",
   "execution_count": 16,
   "metadata": {
    "collapsed": false
   },
   "outputs": [
    {
     "data": {
      "text/plain": [
       "[F_k, V_k, F_mz, V_mz, lambda_00A, rho_00A, lambda_00B, rho_00B]"
      ]
     },
     "execution_count": 16,
     "metadata": {},
     "output_type": "execute_result"
    }
   ],
   "source": [
    "At_args"
   ]
  },
  {
   "cell_type": "code",
   "execution_count": 17,
   "metadata": {
    "collapsed": false
   },
   "outputs": [
    {
     "data": {
      "text/plain": [
       "[L, x_0A, y_0A, z_0A, x_00A, y_00A, z_00A, x_0B, y_0B, z_0B, x_00B, y_00B, z_00B]"
      ]
     },
     "execution_count": 17,
     "metadata": {},
     "output_type": "execute_result"
    }
   ],
   "source": [
    "spindle.q_ind"
   ]
  },
  {
   "cell_type": "code",
   "execution_count": 18,
   "metadata": {
    "collapsed": false
   },
   "outputs": [],
   "source": [
    "At_np = lambdify(At_args, At, 'numpy', dummify=False)\n",
    "A0_np = lambdify(A0_args, A0, 'numpy', dummify=False)"
   ]
  },
  {
   "cell_type": "code",
   "execution_count": 21,
   "metadata": {
    "collapsed": true
   },
   "outputs": [],
   "source": [
    "import numpy as np"
   ]
  },
  {
   "cell_type": "code",
   "execution_count": 24,
   "metadata": {
    "collapsed": false
   },
   "outputs": [
    {
     "data": {
      "text/plain": [
       "5.19615242271"
      ]
     },
     "execution_count": 24,
     "metadata": {},
     "output_type": "execute_result"
    }
   ],
   "source": [
    "np.linalg.norm(np.array((1, 2, 3)) - np.array((4, 5, 6)))"
   ]
  },
  {
   "cell_type": "code",
   "execution_count": 44,
   "metadata": {
    "collapsed": false
   },
   "outputs": [
    {
     "data": {
      "text/plain": [
       "<function numpy.<lambda>>"
      ]
     },
     "execution_count": 44,
     "metadata": {},
     "output_type": "execute_result"
    }
   ],
   "source": [
    "A0_np()"
   ]
  },
  {
   "cell_type": "code",
   "execution_count": 28,
   "metadata": {
    "collapsed": false
   },
   "outputs": [
    {
     "data": {
      "text/plain": [
       "matrix([[-5.5,  0. ,  0. ,  0. , -0.5,  0. ,  0. ,  0. ,  0. ,  0. , -0.5,\n",
       "          0. ,  0. ],\n",
       "        [ 0. ,  0. ,  0. ,  0. ,  0. ,  0. ,  0. ,  0. ,  0. ,  0. ,  0. ,\n",
       "          0. ,  0. ],\n",
       "        [ 0. ,  0. ,  0. ,  0. ,  0. ,  0. ,  0. ,  0. ,  0. ,  0. ,  0. ,\n",
       "          0. ,  0. ],\n",
       "        [ 0. ,  0. ,  0. ,  0. ,  0. ,  0. ,  0. ,  0. ,  0. ,  0. ,  0. ,\n",
       "          0. ,  0. ],\n",
       "        [-0.5,  0. ,  0. ,  0. , -1. ,  0. ,  0. ,  0. ,  0. ,  0. ,  0. ,\n",
       "          0. ,  0. ],\n",
       "        [ 0. ,  0. ,  0. ,  0. ,  0. , -1. ,  0. ,  0. ,  0. ,  0. ,  0. ,\n",
       "          0. ,  0. ],\n",
       "        [ 0. ,  0. ,  0. ,  0. ,  0. ,  0. , -1. ,  0. ,  0. ,  0. ,  0. ,\n",
       "          0. ,  0. ],\n",
       "        [ 0. ,  0. ,  0. ,  0. ,  0. ,  0. ,  0. ,  0. ,  0. ,  0. ,  0. ,\n",
       "          0. ,  0. ],\n",
       "        [ 0. ,  0. ,  0. ,  0. ,  0. ,  0. ,  0. ,  0. ,  0. ,  0. ,  0. ,\n",
       "          0. ,  0. ],\n",
       "        [ 0. ,  0. ,  0. ,  0. ,  0. ,  0. ,  0. ,  0. ,  0. ,  0. ,  0. ,\n",
       "          0. ,  0. ],\n",
       "        [-0.5,  0. ,  0. ,  0. ,  0. ,  0. ,  0. ,  0. ,  0. ,  0. , -1. ,\n",
       "          0. ,  0. ],\n",
       "        [ 0. ,  0. ,  0. ,  0. ,  0. ,  0. ,  0. ,  0. ,  0. ,  0. ,  0. ,\n",
       "         -1. ,  0. ],\n",
       "        [ 0. ,  0. ,  0. ,  0. ,  0. ,  0. ,  0. ,  0. ,  0. ,  0. ,  0. ,\n",
       "          0. , -1. ]])"
      ]
     },
     "execution_count": 28,
     "metadata": {},
     "output_type": "execute_result"
    }
   ],
   "source": [
    "At_np(1, 1, 5, 1, 1, 0, 1, 0)"
   ]
  },
  {
   "cell_type": "code",
   "execution_count": 36,
   "metadata": {
    "collapsed": false
   },
   "outputs": [
    {
     "data": {
      "text/plain": [
       "[L, x_0A, y_0A, z_0A, x_00A, y_00A, z_00A, x_0B, y_0B, z_0B, x_00B, y_00B, z_00B]"
      ]
     },
     "execution_count": 36,
     "metadata": {},
     "output_type": "execute_result"
    }
   ],
   "source": [
    "spindle.q_ind"
   ]
  },
  {
   "cell_type": "code",
   "execution_count": 35,
   "metadata": {
    "collapsed": false
   },
   "outputs": [
    {
     "data": {
      "text/plain": [
       "- mu_c*(-vx_0A + vx_0B)*S.x - mu_c*(-vy_0A + vy_0B)*S.y - mu_c*(-vz_0A + vz_0B)*S.z"
      ]
     },
     "execution_count": 35,
     "metadata": {},
     "output_type": "execute_result"
    }
   ],
   "source": [
    "spindle.KM.forcelist[-1][1]"
   ]
  },
  {
   "cell_type": "code",
   "execution_count": 37,
   "metadata": {
    "collapsed": false
   },
   "outputs": [
    {
     "data": {
      "text/plain": [
       "Matrix([\n",
       "[-mu_s/2,                    0,                    0,                    0,     0,     0,     0,                    0,                    0,                    0,     0,     0,     0],\n",
       "[      0, -mu_c - mu_ch - mu_k,                    0,                    0,  mu_k,     0,     0,                 mu_c,                    0,                    0,     0,     0,     0],\n",
       "[      0,                    0, -mu_c - mu_ch - mu_k,                    0,     0,  mu_k,     0,                    0,                 mu_c,                    0,     0,     0,     0],\n",
       "[      0,                    0,                    0, -mu_c - mu_ch - mu_k,     0,     0,  mu_k,                    0,                    0,                 mu_c,     0,     0,     0],\n",
       "[      0,                 mu_k,                    0,                    0, -mu_k,     0,     0,                    0,                    0,                    0,     0,     0,     0],\n",
       "[      0,                    0,                 mu_k,                    0,     0, -mu_k,     0,                    0,                    0,                    0,     0,     0,     0],\n",
       "[      0,                    0,                    0,                 mu_k,     0,     0, -mu_k,                    0,                    0,                    0,     0,     0,     0],\n",
       "[      0,                 mu_c,                    0,                    0,     0,     0,     0, -mu_c - mu_ch - mu_k,                    0,                    0,  mu_k,     0,     0],\n",
       "[      0,                    0,                 mu_c,                    0,     0,     0,     0,                    0, -mu_c - mu_ch - mu_k,                    0,     0,  mu_k,     0],\n",
       "[      0,                    0,                    0,                 mu_c,     0,     0,     0,                    0,                    0, -mu_c - mu_ch - mu_k,     0,     0,  mu_k],\n",
       "[      0,                    0,                    0,                    0,     0,     0,     0,                 mu_k,                    0,                    0, -mu_k,     0,     0],\n",
       "[      0,                    0,                    0,                    0,     0,     0,     0,                    0,                 mu_k,                    0,     0, -mu_k,     0],\n",
       "[      0,                    0,                    0,                    0,     0,     0,     0,                    0,                    0,                 mu_k,     0,     0, -mu_k]])"
      ]
     },
     "execution_count": 37,
     "metadata": {},
     "output_type": "execute_result"
    }
   ],
   "source": [
    "A0"
   ]
  },
  {
   "cell_type": "code",
   "execution_count": 43,
   "metadata": {
    "collapsed": false
   },
   "outputs": [],
   "source": [
    "from kt_simul.io.parameters_io import ParamTree\n",
    "from kt_simul.core.simul_spindle import Metaphase"
   ]
  },
  {
   "cell_type": "code",
   "execution_count": null,
   "metadata": {
    "collapsed": true
   },
   "outputs": [],
   "source": []
  }
 ],
 "metadata": {
  "kernelspec": {
   "display_name": "Python 3",
   "language": "python",
   "name": "python3"
  },
  "language_info": {
   "codemirror_mode": {
    "name": "ipython",
    "version": 3
   },
   "file_extension": ".py",
   "mimetype": "text/x-python",
   "name": "python",
   "nbconvert_exporter": "python",
   "pygments_lexer": "ipython3",
   "version": "3.4.3"
  }
 },
 "nbformat": 4,
 "nbformat_minor": 0
}
