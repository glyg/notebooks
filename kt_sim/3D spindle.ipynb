{
 "cells": [
  {
   "cell_type": "code",
   "execution_count": 2,
   "metadata": {
    "collapsed": false
   },
   "outputs": [],
   "source": [
    "%load_ext autoreload\n",
    "%autoreload 2\n",
    "\n",
    "import sys\n",
    "# change this to suit your path\n",
    "sys.path.append('/home/guillaume/Python/kt_simul/')\n",
    "from kt_simul.smp_spindle.smp_spindle import SympySpindle, parameters\n",
    "\n",
    "\n",
    "import IPython.display as disp\n",
    "import os"
   ]
  },
  {
   "cell_type": "markdown",
   "metadata": {
    "collapsed": false
   },
   "source": [
    "### Visualisation using openscad\n",
    "\n",
    "This has the advangtage of being simple to use\n",
    "\n",
    "```python\n",
    "import solid as solid\n",
    "import tempfile\n",
    "solid.use('spindle.scad')\n",
    "spindle_length = 4\n",
    "ch_pos = [-0.4, 0.1, 1]\n",
    "stretch = 0.3\n",
    "ch_theta = 30\n",
    "ch_phi = 10\n",
    "\n",
    "scad_spindle = (spindle_midzone(spindle_length) +\n",
    "                chromosome(ch_pos, stretch, ch_theta, ch_phi))\n",
    "def show_scad(scad_spindle, img_name='spindle_scad.png'):\n",
    "    if os.path.isfile(img_name):\n",
    "        os.remove(img_name)\n",
    "    with tempfile.NamedTemporaryFile('w', suffix='.scad') as tmp_scad:\n",
    "        solid.scad_render_to_file(scad_spindle, tmp_scad.name)\n",
    "        os.system('openscad -o {} {}'.format(img_name, tmp_scad.name))\n",
    "    return disp.Image(img_name)\n",
    "show_scad(scad_spindle)\n",
    "```"
   ]
  },
  {
   "cell_type": "code",
   "execution_count": 7,
   "metadata": {
    "collapsed": false
   },
   "outputs": [],
   "source": [
    "import vispy.geometry as vp_geom\n",
    "import vispy.util as vp_util\n",
    "\n",
    "def translate(mesh, pos):\n",
    "    \n",
    "    mesh.set_vertices(mesh.get_vertices() + pos)\n",
    "    return mesh\n",
    "    \n",
    "\n",
    "def create_spb(pos, radius=0.3):\n",
    "    spb = vp_geom.create_sphere(12, 12, radius)\n",
    "    return translate(spb, pos)\n",
    "    \n",
    "    \n",
    "def create_midzone(length, r=0.2):\n",
    "    \n",
    "    mz = vp_geom.create_cylinder(12, 2, [r, r],\n",
    "                                 length, True)\n",
    "    return mz\n",
    "    \n",
    "def create_chromosome(stretch, orientation, r=0.1):\n",
    "    \n",
    "    theta, phi, omega = orientation\n",
    "    \n",
    "    ch = vp_geom.create_cylinder(12, 2, [r, r],\n",
    "                                 length, True)\n",
    "    \n",
    "### Maybe scene visuals is better suited, see:\n",
    "### http://api.vispy.org/en/latest/scene.html\n",
    "\n",
    "from vispy import app, gloo, visuals\n",
    "from vispy.visuals.transforms import (STTransform, AffineTransform,\n",
    "                                      ChainTransform)\n",
    "\n",
    "\n",
    "class Canvas(app.Canvas):\n",
    "    def __init__(self, mdatas):\n",
    "        app.Canvas.__init__(self, keys='interactive', size=(800, 550))\n",
    "\n",
    "        self.rotation = AffineTransform()\n",
    "        self.meshes = [visuals.MeshVisual(meshdata=mdata, color='r') for mdata in mdatas]\n",
    "\n",
    "        self.show()\n",
    "\n",
    "        self.timer = app.Timer(connect=self.rotate)\n",
    "        self.timer.start(0.016)\n",
    "\n",
    "    def rotate(self, event):\n",
    "        self.rotation.rotate(1, (0, 1, 0))\n",
    "        self.update()\n",
    "\n",
    "    def on_draw(self, ev):\n",
    "        gloo.set_viewport(0, 0, *self.physical_size)\n",
    "        gloo.clear(color='black', depth=True)\n",
    "        for mesh in self.meshes:\n",
    "            mesh.draw()\n",
    "\n",
    "length = 3.\n",
    "\n",
    "            \n",
    "spbL = create_spb([-length/2, 0, 0])\n",
    "spbR = create_spb([length/2, 0, 0])\n",
    "mz = create_midzone(length)\n",
    "\n",
    "#win = Canvas([spbL, spbR, mz])\n",
    "#import sys\n",
    "#if sys.flags.interactive != 1:\n",
    "#    app.run()\n",
    "\n",
    "### Too be continued    \n",
    "\n"
   ]
  },
  {
   "cell_type": "markdown",
   "metadata": {},
   "source": [
    "### Model description\n",
    "\n",
    "We're looking at a simple mechanical system\n",
    "\n",
    "![3D spindle](3d_spindle.svg)\n",
    "\n",
    "\n",
    "\n",
    "#### Points and coordiantes\n",
    "\n",
    "Point is the physical location of an element.\n",
    "\n",
    "In the method we use to write the equations of motion of the system, we use what is caled **generalized coordinates** and **generalized speeds**. The generic letter for a gen. coordinate is **q** and **u** for the speeds. Those are the quantities marked in red on the sketch.\n",
    "\n",
    "As a starting point to a 3D description of the spindle, \n",
    "\n",
    "\n"
   ]
  },
  {
   "cell_type": "markdown",
   "metadata": {},
   "source": [
    "### Parameters "
   ]
  },
  {
   "cell_type": "code",
   "execution_count": 34,
   "metadata": {
    "collapsed": false
   },
   "outputs": [
    {
     "name": "stdout",
     "output_type": "stream",
     "text": [
      "d_0\n",
      "mu_c\n",
      "kappa_k\n",
      "V_k\n",
      "mu_k\n",
      "F_mz\n",
      "mu_ch\n",
      "mu_s\n",
      "F_k\n",
      "kappa_c\n",
      "V_mz\n"
     ]
    }
   ],
   "source": [
    "## Those are simple  `sympy.symbols`\n",
    "for param in parameters.keys():\n",
    "    print(param)\n",
    "    "
   ]
  },
  {
   "cell_type": "markdown",
   "metadata": {},
   "source": [
    "## Spindle class instanciation\n",
    "\n"
   ]
  },
  {
   "cell_type": "code",
   "execution_count": 35,
   "metadata": {
    "collapsed": false
   },
   "outputs": [],
   "source": [
    "spindle = SympySpindle('1D_1_1', N=3, Mk=3)"
   ]
  },
  {
   "cell_type": "code",
   "execution_count": 36,
   "metadata": {
    "collapsed": false
   },
   "outputs": [
    {
     "data": {
      "image/png": "[encoded data removed]",
      "text/latex": [
       "$$\\left \\{ \\right \\}$$"
      ],
      "text/plain": [
       "{}"
      ]
     },
     "execution_count": 36,
     "metadata": {},
     "output_type": "execute_result"
    }
   ],
   "source": [
    "spindle.chromosomes[0].centromeres"
   ]
  },
  {
   "cell_type": "code",
   "execution_count": null,
   "metadata": {
    "collapsed": true
   },
   "outputs": [],
   "source": [
    "spindle.S.orientnew()"
   ]
  },
  {
   "cell_type": "code",
   "execution_count": 5,
   "metadata": {
    "collapsed": false
   },
   "outputs": [],
   "source": [
    "cen_A00 = spindle.points[3]"
   ]
  },
  {
   "cell_type": "code",
   "execution_count": 6,
   "metadata": {
    "collapsed": false
   },
   "outputs": [
    {
     "data": {
      "image/png": "[encoded data removed]",
      "text/latex": [
       "$$(^vc_{0} - \\frac{^vl_{0}}{2})\\mathbf{\\hat{s}_x}$$"
      ],
      "text/plain": [
       "⎛       ^vl₀⎞\n",
       "⎜^vc₀ - ────⎟\n",
       "⎝        2  ⎠ s_x"
      ]
     },
     "execution_count": 6,
     "metadata": {},
     "output_type": "execute_result"
    }
   ],
   "source": [
    "cen_A00.vel(spindle.S)"
   ]
  },
  {
   "cell_type": "code",
   "execution_count": 7,
   "metadata": {
    "collapsed": true
   },
   "outputs": [],
   "source": [
    "spbR = spindle.points[0]"
   ]
  },
  {
   "cell_type": "code",
   "execution_count": 8,
   "metadata": {
    "collapsed": false
   },
   "outputs": [
    {
     "data": {
      "image/png": "[encoded data removed]",
      "text/latex": [
       "$$\\frac{L}{2}\\mathbf{\\hat{s}_x}$$"
      ],
      "text/plain": [
       "L\n",
       "─\n",
       "2 s_x"
      ]
     },
     "execution_count": 8,
     "metadata": {},
     "output_type": "execute_result"
    }
   ],
   "source": [
    "spbR.pos_from(spindle.center)"
   ]
  },
  {
   "cell_type": "code",
   "execution_count": 9,
   "metadata": {
    "collapsed": false
   },
   "outputs": [
    {
     "data": {
      "image/png": "[encoded data removed]",
      "text/latex": [
       "$$\\frac{vL}{2}\\mathbf{\\hat{s}_x}$$"
      ],
      "text/plain": [
       "vL\n",
       "──\n",
       "2  s_x"
      ]
     },
     "execution_count": 9,
     "metadata": {},
     "output_type": "execute_result"
    }
   ],
   "source": [
    "spbR.vel(spindle.S)"
   ]
  },
  {
   "cell_type": "code",
   "execution_count": 10,
   "metadata": {
    "collapsed": false
   },
   "outputs": [],
   "source": [
    "spindle.kanesmethod()"
   ]
  },
  {
   "cell_type": "code",
   "execution_count": 11,
   "metadata": {
    "collapsed": false,
    "scrolled": true
   },
   "outputs": [
    {
     "data": {
      "image/png": "[encoded data removed]",
      "text/latex": [
       "$$\\left[\\begin{matrix}\\lambda^{A}_{00} & \\rho^{A}_{00}\\\\\\lambda^{B}_{00} & \\rho^{B}_{00}\\\\\\lambda^{A}_{01} & \\rho^{A}_{01}\\\\\\lambda^{B}_{01} & \\rho^{B}_{01}\\\\\\lambda^{A}_{02} & \\rho^{A}_{02}\\\\\\lambda^{B}_{02} & \\rho^{B}_{02}\\\\\\lambda^{A}_{10} & \\rho^{A}_{10}\\\\\\lambda^{B}_{10} & \\rho^{B}_{10}\\\\\\lambda^{A}_{11} & \\rho^{A}_{11}\\\\\\lambda^{B}_{11} & \\rho^{B}_{11}\\\\\\lambda^{A}_{12} & \\rho^{A}_{12}\\\\\\lambda^{B}_{12} & \\rho^{B}_{12}\\\\\\lambda^{A}_{20} & \\rho^{A}_{20}\\\\\\lambda^{B}_{20} & \\rho^{B}_{20}\\\\\\lambda^{A}_{21} & \\rho^{A}_{21}\\\\\\lambda^{B}_{21} & \\rho^{B}_{21}\\\\\\lambda^{A}_{22} & \\rho^{A}_{22}\\\\\\lambda^{B}_{22} & \\rho^{B}_{22}\\end{matrix}\\right]$$"
      ],
      "text/plain": [
       "⎡λ_00__A  ρ_00__A⎤\n",
       "⎢                ⎥\n",
       "⎢λ_00__B  ρ_00__B⎥\n",
       "⎢                ⎥\n",
       "⎢λ_01__A  ρ_01__A⎥\n",
       "⎢                ⎥\n",
       "⎢λ_01__B  ρ_01__B⎥\n",
       "⎢                ⎥\n",
       "⎢λ_02__A  ρ_02__A⎥\n",
       "⎢                ⎥\n",
       "⎢λ_02__B  ρ_02__B⎥\n",
       "⎢                ⎥\n",
       "⎢λ_10__A  ρ_10__A⎥\n",
       "⎢                ⎥\n",
       "⎢λ_10__B  ρ_10__B⎥\n",
       "⎢                ⎥\n",
       "⎢λ_11__A  ρ_11__A⎥\n",
       "⎢                ⎥\n",
       "⎢λ_11__B  ρ_11__B⎥\n",
       "⎢                ⎥\n",
       "⎢λ_12__A  ρ_12__A⎥\n",
       "⎢                ⎥\n",
       "⎢λ_12__B  ρ_12__B⎥\n",
       "⎢                ⎥\n",
       "⎢λ_20__A  ρ_20__A⎥\n",
       "⎢                ⎥\n",
       "⎢λ_20__B  ρ_20__B⎥\n",
       "⎢                ⎥\n",
       "⎢λ_21__A  ρ_21__A⎥\n",
       "⎢                ⎥\n",
       "⎢λ_21__B  ρ_21__B⎥\n",
       "⎢                ⎥\n",
       "⎢λ_22__A  ρ_22__A⎥\n",
       "⎢                ⎥\n",
       "⎣λ_22__B  ρ_22__B⎦"
      ]
     },
     "execution_count": 11,
     "metadata": {},
     "output_type": "execute_result"
    }
   ],
   "source": [
    "spindle.attach_state"
   ]
  },
  {
   "cell_type": "code",
   "execution_count": 12,
   "metadata": {
    "collapsed": true
   },
   "outputs": [],
   "source": [
    "import sympy as sy"
   ]
  },
  {
   "cell_type": "code",
   "execution_count": 15,
   "metadata": {
    "collapsed": true
   },
   "outputs": [
    {
     "ename": "ShapeError",
     "evalue": "\nThe Matrix `value` doesn't have the same dimensions as the in sub-\nMatrix given by `key`.",
     "output_type": "error",
     "traceback": [
      "\u001b[1;31m---------------------------------------------------------------------------\u001b[0m",
      "\u001b[1;31mShapeError\u001b[0m                                Traceback (most recent call last)",
      "\u001b[1;32m<ipython-input-15-e8f57f8179cf>\u001b[0m in \u001b[0;36m<module>\u001b[1;34m()\u001b[0m\n\u001b[0;32m      2\u001b[0m \u001b[0mamphitelic_state\u001b[0m \u001b[1;33m=\u001b[0m \u001b[0mnull_state\u001b[0m\u001b[1;33m.\u001b[0m\u001b[0mcopy\u001b[0m\u001b[1;33m(\u001b[0m\u001b[1;33m)\u001b[0m\u001b[1;33m\u001b[0m\u001b[0m\n\u001b[0;32m      3\u001b[0m \u001b[1;31m## Bug??\u001b[0m\u001b[1;33m\u001b[0m\u001b[1;33m\u001b[0m\u001b[0m\n\u001b[1;32m----> 4\u001b[1;33m \u001b[0mamphitelic_state\u001b[0m\u001b[1;33m[\u001b[0m\u001b[1;33m:\u001b[0m\u001b[1;33m:\u001b[0m\u001b[1;36m2\u001b[0m\u001b[1;33m,\u001b[0m \u001b[1;36m0\u001b[0m\u001b[1;33m]\u001b[0m \u001b[1;33m=\u001b[0m \u001b[0msy\u001b[0m\u001b[1;33m.\u001b[0m\u001b[0mones\u001b[0m\u001b[1;33m(\u001b[0m\u001b[0mspindle\u001b[0m\u001b[1;33m.\u001b[0m\u001b[0mN\u001b[0m \u001b[1;33m*\u001b[0m \u001b[0mspindle\u001b[0m\u001b[1;33m.\u001b[0m\u001b[0mMk\u001b[0m\u001b[1;33m,\u001b[0m \u001b[1;36m1\u001b[0m\u001b[1;33m)\u001b[0m\u001b[1;33m\u001b[0m\u001b[0m\n\u001b[0m\u001b[0;32m      5\u001b[0m \u001b[0mamphitelic_state\u001b[0m\u001b[1;33m[\u001b[0m\u001b[1;36m1\u001b[0m\u001b[1;33m:\u001b[0m\u001b[1;33m:\u001b[0m\u001b[1;36m2\u001b[0m\u001b[1;33m,\u001b[0m \u001b[1;36m1\u001b[0m\u001b[1;33m]\u001b[0m \u001b[1;33m=\u001b[0m \u001b[0msy\u001b[0m\u001b[1;33m.\u001b[0m\u001b[0mones\u001b[0m\u001b[1;33m(\u001b[0m\u001b[0mspindle\u001b[0m\u001b[1;33m.\u001b[0m\u001b[0mN\u001b[0m \u001b[1;33m*\u001b[0m \u001b[0mspindle\u001b[0m\u001b[1;33m.\u001b[0m\u001b[0mMk\u001b[0m\u001b[1;33m,\u001b[0m \u001b[1;36m1\u001b[0m\u001b[1;33m)\u001b[0m\u001b[1;33m\u001b[0m\u001b[0m\n",
      "\u001b[1;32m/home/guillaume/anaconda/envs/python3/lib/python3.4/site-packages/sympy/matrices/dense.py\u001b[0m in \u001b[0;36m__setitem__\u001b[1;34m(self, key, value)\u001b[0m\n\u001b[0;32m    638\u001b[0m         [2, 2, 4, 2]])\n\u001b[0;32m    639\u001b[0m         \"\"\"\n\u001b[1;32m--> 640\u001b[1;33m         \u001b[0mrv\u001b[0m \u001b[1;33m=\u001b[0m \u001b[0mself\u001b[0m\u001b[1;33m.\u001b[0m\u001b[0m_setitem\u001b[0m\u001b[1;33m(\u001b[0m\u001b[0mkey\u001b[0m\u001b[1;33m,\u001b[0m \u001b[0mvalue\u001b[0m\u001b[1;33m)\u001b[0m\u001b[1;33m\u001b[0m\u001b[0m\n\u001b[0m\u001b[0;32m    641\u001b[0m         \u001b[1;32mif\u001b[0m \u001b[0mrv\u001b[0m \u001b[1;32mis\u001b[0m \u001b[1;32mnot\u001b[0m \u001b[1;32mNone\u001b[0m\u001b[1;33m:\u001b[0m\u001b[1;33m\u001b[0m\u001b[0m\n\u001b[0;32m    642\u001b[0m             \u001b[0mi\u001b[0m\u001b[1;33m,\u001b[0m \u001b[0mj\u001b[0m\u001b[1;33m,\u001b[0m \u001b[0mvalue\u001b[0m \u001b[1;33m=\u001b[0m \u001b[0mrv\u001b[0m\u001b[1;33m\u001b[0m\u001b[0m\n",
      "\u001b[1;32m/home/guillaume/anaconda/envs/python3/lib/python3.4/site-packages/sympy/matrices/matrices.py\u001b[0m in \u001b[0;36m_setitem\u001b[1;34m(self, key, value)\u001b[0m\n\u001b[0;32m    271\u001b[0m         \u001b[1;32mif\u001b[0m \u001b[0mtype\u001b[0m\u001b[1;33m(\u001b[0m\u001b[0mi\u001b[0m\u001b[1;33m)\u001b[0m \u001b[1;32mis\u001b[0m \u001b[0mslice\u001b[0m \u001b[1;32mor\u001b[0m \u001b[0mtype\u001b[0m\u001b[1;33m(\u001b[0m\u001b[0mj\u001b[0m\u001b[1;33m)\u001b[0m \u001b[1;32mis\u001b[0m \u001b[0mslice\u001b[0m\u001b[1;33m:\u001b[0m\u001b[1;33m\u001b[0m\u001b[0m\n\u001b[0;32m    272\u001b[0m             \u001b[1;32mif\u001b[0m \u001b[0mis_mat\u001b[0m\u001b[1;33m:\u001b[0m\u001b[1;33m\u001b[0m\u001b[0m\n\u001b[1;32m--> 273\u001b[1;33m                 \u001b[0mself\u001b[0m\u001b[1;33m.\u001b[0m\u001b[0mcopyin_matrix\u001b[0m\u001b[1;33m(\u001b[0m\u001b[0mkey\u001b[0m\u001b[1;33m,\u001b[0m \u001b[0mvalue\u001b[0m\u001b[1;33m)\u001b[0m\u001b[1;33m\u001b[0m\u001b[0m\n\u001b[0m\u001b[0;32m    274\u001b[0m                 \u001b[1;32mreturn\u001b[0m\u001b[1;33m\u001b[0m\u001b[0m\n\u001b[0;32m    275\u001b[0m             \u001b[1;32mif\u001b[0m \u001b[1;32mnot\u001b[0m \u001b[0misinstance\u001b[0m\u001b[1;33m(\u001b[0m\u001b[0mvalue\u001b[0m\u001b[1;33m,\u001b[0m \u001b[0mExpr\u001b[0m\u001b[1;33m)\u001b[0m \u001b[1;32mand\u001b[0m \u001b[0mis_sequence\u001b[0m\u001b[1;33m(\u001b[0m\u001b[0mvalue\u001b[0m\u001b[1;33m)\u001b[0m\u001b[1;33m:\u001b[0m\u001b[1;33m\u001b[0m\u001b[0m\n",
      "\u001b[1;32m/home/guillaume/anaconda/envs/python3/lib/python3.4/site-packages/sympy/matrices/dense.py\u001b[0m in \u001b[0;36mcopyin_matrix\u001b[1;34m(self, key, value)\u001b[0m\n\u001b[0;32m    682\u001b[0m         \u001b[0mdr\u001b[0m\u001b[1;33m,\u001b[0m \u001b[0mdc\u001b[0m \u001b[1;33m=\u001b[0m \u001b[0mrhi\u001b[0m \u001b[1;33m-\u001b[0m \u001b[0mrlo\u001b[0m\u001b[1;33m,\u001b[0m \u001b[0mchi\u001b[0m \u001b[1;33m-\u001b[0m \u001b[0mclo\u001b[0m\u001b[1;33m\u001b[0m\u001b[0m\n\u001b[0;32m    683\u001b[0m         \u001b[1;32mif\u001b[0m \u001b[0mshape\u001b[0m \u001b[1;33m!=\u001b[0m \u001b[1;33m(\u001b[0m\u001b[0mdr\u001b[0m\u001b[1;33m,\u001b[0m \u001b[0mdc\u001b[0m\u001b[1;33m)\u001b[0m\u001b[1;33m:\u001b[0m\u001b[1;33m\u001b[0m\u001b[0m\n\u001b[1;32m--> 684\u001b[1;33m             raise ShapeError(filldedent(\"The Matrix `value` doesn't have the \"\n\u001b[0m\u001b[0;32m    685\u001b[0m                 \u001b[1;34m\"same dimensions \"\u001b[0m\u001b[1;33m\u001b[0m\u001b[0m\n\u001b[0;32m    686\u001b[0m                 \"as the in sub-Matrix given by `key`.\"))\n",
      "\u001b[1;31mShapeError\u001b[0m: \nThe Matrix `value` doesn't have the same dimensions as the in sub-\nMatrix given by `key`."
     ]
    }
   ],
   "source": [
    "null_state = sy.zeros(*spindle.attach_state.shape)\n",
    "amphitelic_state = null_state.copy()\n",
    "## Bug??\n",
    "amphitelic_state[::2, 0] = sy.ones(spindle.N * spindle.Mk, 1)\n",
    "amphitelic_state[1::2, 1] = sy.ones(spindle.N * spindle.Mk, 1)"
   ]
  },
  {
   "cell_type": "code",
   "execution_count": 17,
   "metadata": {
    "collapsed": false
   },
   "outputs": [
    {
     "data": {
      "image/png": "[encoded data removed]",
      "text/latex": [
       "$$\\left \\{ \\dot{L} : vL, \\quad \\dot{c}_{0} : ^vc_{0}, \\quad \\dot{c}_{1} : ^vc_{1}, \\quad \\dot{c}_{2} : ^vc_{2}, \\quad \\dot{d^{A}}_{00} : ^vd^{A}_{00}, \\quad \\dot{d^{B}}_{00} : ^vd^{B}_{00}, \\quad \\dot{d^{A}}_{01} : ^vd^{A}_{01}, \\quad \\dot{d^{B}}_{01} : ^vd^{B}_{01}, \\quad \\dot{d^{A}}_{02} : ^vd^{A}_{02}, \\quad \\dot{d^{B}}_{02} : ^vd^{B}_{02}, \\quad \\dot{d^{A}}_{10} : ^vd^{A}_{10}, \\quad \\dot{d^{B}}_{10} : ^vd^{B}_{10}, \\quad \\dot{d^{A}}_{11} : ^vd^{A}_{11}, \\quad \\dot{d^{B}}_{11} : ^vd^{B}_{11}, \\quad \\dot{d^{A}}_{12} : ^vd^{A}_{12}, \\quad \\dot{d^{B}}_{12} : ^vd^{B}_{12}, \\quad \\dot{d^{A}}_{20} : ^vd^{A}_{20}, \\quad \\dot{d^{B}}_{20} : ^vd^{B}_{20}, \\quad \\dot{d^{A}}_{21} : ^vd^{A}_{21}, \\quad \\dot{d^{B}}_{21} : ^vd^{B}_{21}, \\quad \\dot{d^{A}}_{22} : ^vd^{A}_{22}, \\quad \\dot{d^{B}}_{22} : ^vd^{B}_{22}, \\quad \\dot{l}_{0} : ^vl_{0}, \\quad \\dot{l}_{1} : ^vl_{1}, \\quad \\dot{l}_{2} : ^vl_{2}\\right \\}$$"
      ],
      "text/plain": [
       "{L̇: vL, c₀̇: ^vc₀, c₁̇: ^vc₁, c₂̇: ^vc₂, d_00̇__A: ^vd_00__A, d_00̇__B: ^vd_0\n",
       "0__B, d_01̇__A: ^vd_01__A, d_01̇__B: ^vd_01__B, d_02̇__A: ^vd_02__A, d_02̇__B:\n",
       " ^vd_02__B, d_10̇__A: ^vd_10__A, d_10̇__B: ^vd_10__B, d_11̇__A: ^vd_11__A, d_1\n",
       "1̇__B: ^vd_11__B, d_12̇__A: ^vd_12__A, d_12̇__B: ^vd_12__B, d_20̇__A: ^vd_20__\n",
       "A, d_20̇__B: ^vd_20__B, d_21̇__A: ^vd_21__A, d_21̇__B: ^vd_21__B, d_22̇__A: ^v\n",
       "d_22__A, d_22̇__B: ^vd_22__B, l₀̇: ^vl₀, l₁̇: ^vl₁, l₂̇: ^vl₂}"
      ]
     },
     "execution_count": 17,
     "metadata": {},
     "output_type": "execute_result"
    }
   ],
   "source": [
    "spindle.KM.kindiffdict()"
   ]
  },
  {
   "cell_type": "code",
   "execution_count": 19,
   "metadata": {
    "collapsed": false
   },
   "outputs": [
    {
     "data": {
      "text/plain": [
       "{'F_k': F_k,\n",
       " 'F_mz': F_mz,\n",
       " 'V_k': V_k,\n",
       " 'V_mz': V_mz,\n",
       " 'd_0': d_0,\n",
       " 'kappa_c': kappa_c,\n",
       " 'kappa_k': kappa_k,\n",
       " 'mu_c': mu_c,\n",
       " 'mu_ch': mu_ch,\n",
       " 'mu_k': mu_k,\n",
       " 'mu_s': mu_s}"
      ]
     },
     "execution_count": 19,
     "metadata": {},
     "output_type": "execute_result"
    }
   ],
   "source": [
    "parameters"
   ]
  },
  {
   "cell_type": "code",
   "execution_count": 20,
   "metadata": {
    "collapsed": true
   },
   "outputs": [],
   "source": [
    "passive_params = ['mu_s', 'mu_ch', 'mu_c','mu_k',\n",
    "                  'kappa_c', 'kappa_k', 'd_0']\n",
    "passive_zero = {parameters[name]:0 for name in passive_params}\n",
    "\n",
    "active_params = ['F_k', 'V_k', 'F_mz', 'V_mz']\n",
    "active_zero = {parameters[name]:0 for name in active_params}\n",
    "\n",
    "adim = {parameters['F_k']:1, parameters['V_k']:1}"
   ]
  },
  {
   "cell_type": "code",
   "execution_count": 25,
   "metadata": {
    "collapsed": false
   },
   "outputs": [
    {
     "data": {
      "image/png": "[encoded data removed]",
      "text/latex": [
       "$$0$$"
      ],
      "text/plain": [
       "0"
      ]
     },
     "execution_count": 25,
     "metadata": {},
     "output_type": "execute_result"
    }
   ],
   "source": [
    "ch.id"
   ]
  },
  {
   "cell_type": "code",
   "execution_count": 24,
   "metadata": {
    "collapsed": false
   },
   "outputs": [
    {
     "data": {
      "text/plain": [
       "S"
      ]
     },
     "execution_count": 24,
     "metadata": {},
     "output_type": "execute_result"
    }
   ],
   "source": [
    "ch.cen_A.ref = ch.ref.orientnew('C_{}'.format(ch.id),\n",
    "                                \n"
   ]
  },
  {
   "cell_type": "code",
   "execution_count": null,
   "metadata": {
    "collapsed": true
   },
   "outputs": [],
   "source": [
    "ch.ref = spindle.S.orientnew"
   ]
  },
  {
   "cell_type": "code",
   "execution_count": 18,
   "metadata": {
    "collapsed": true
   },
   "outputs": [],
   "source": [
    "A0 = spindle.A_uu.subs(active_zero)"
   ]
  },
  {
   "cell_type": "code",
   "execution_count": 19,
   "metadata": {
    "collapsed": true
   },
   "outputs": [],
   "source": [
    "At = spindle.A_uu.subs(passive_zero)"
   ]
  },
  {
   "cell_type": "code",
   "execution_count": 24,
   "metadata": {
    "collapsed": false
   },
   "outputs": [
    {
     "data": {
      "image/png": "[encoded data removed]",
      "text/latex": [
       "$$\\left[\\begin{matrix}- \\frac{F_{mz}}{V_{mz}} - \\frac{\\lambda^{A}_{00}}{4} - \\frac{\\lambda^{B}_{00}}{4} - \\frac{\\lambda^{A}_{01}}{4} - \\frac{\\lambda^{B}_{01}}{4} - \\frac{\\lambda^{A}_{02}}{4} - \\frac{\\lambda^{B}_{02}}{4} - \\frac{\\lambda^{A}_{10}}{4} - \\frac{\\lambda^{B}_{10}}{4} - \\frac{\\lambda^{A}_{11}}{4} - \\frac{\\lambda^{B}_{11}}{4} - \\frac{\\lambda^{A}_{12}}{4} - \\frac{\\lambda^{B}_{12}}{4} - \\frac{\\lambda^{A}_{20}}{4} - \\frac{\\lambda^{B}_{20}}{4} - \\frac{\\lambda^{A}_{21}}{4} - \\frac{\\lambda^{B}_{21}}{4} - \\frac{\\lambda^{A}_{22}}{4} - \\frac{\\lambda^{B}_{22}}{4} - \\frac{\\rho^{A}_{00}}{4} - \\frac{\\rho^{B}_{00}}{4} - \\frac{\\rho^{A}_{01}}{4} - \\frac{\\rho^{B}_{01}}{4} - \\frac{\\rho^{A}_{02}}{4} - \\frac{\\rho^{B}_{02}}{4} - \\frac{\\rho^{A}_{10}}{4} - \\frac{\\rho^{B}_{10}}{4} - \\frac{\\rho^{A}_{11}}{4} - \\frac{\\rho^{B}_{11}}{4} - \\frac{\\rho^{A}_{12}}{4} - \\frac{\\rho^{B}_{12}}{4} - \\frac{\\rho^{A}_{20}}{4} - \\frac{\\rho^{B}_{20}}{4} - \\frac{\\rho^{A}_{21}}{4} - \\frac{\\rho^{B}_{21}}{4} - \\frac{\\rho^{A}_{22}}{4} - \\frac{\\rho^{B}_{22}}{4} & - \\frac{\\lambda^{A}_{00}}{2} - \\frac{\\lambda^{B}_{00}}{2} - \\frac{\\lambda^{A}_{01}}{2} - \\frac{\\lambda^{B}_{01}}{2} - \\frac{\\lambda^{A}_{02}}{2} - \\frac{\\lambda^{B}_{02}}{2} + \\frac{\\rho^{A}_{00}}{2} + \\frac{\\rho^{B}_{00}}{2} + \\frac{\\rho^{A}_{01}}{2} + \\frac{\\rho^{B}_{01}}{2} + \\frac{\\rho^{A}_{02}}{2} + \\frac{\\rho^{B}_{02}}{2} & \\frac{\\lambda^{A}_{00}}{4} - \\frac{\\lambda^{B}_{00}}{4} + \\frac{\\lambda^{A}_{01}}{4} - \\frac{\\lambda^{B}_{01}}{4} + \\frac{\\lambda^{A}_{02}}{4} - \\frac{\\lambda^{B}_{02}}{4} - \\frac{\\rho^{A}_{00}}{4} + \\frac{\\rho^{B}_{00}}{4} - \\frac{\\rho^{A}_{01}}{4} + \\frac{\\rho^{B}_{01}}{4} - \\frac{\\rho^{A}_{02}}{4} + \\frac{\\rho^{B}_{02}}{4} & \\frac{\\lambda^{A}_{00}}{2} - \\frac{\\rho^{A}_{00}}{2}\\\\- \\frac{\\lambda^{A}_{00}}{2} - \\frac{\\lambda^{B}_{00}}{2} - \\frac{\\lambda^{A}_{01}}{2} - \\frac{\\lambda^{B}_{01}}{2} - \\frac{\\lambda^{A}_{02}}{2} - \\frac{\\lambda^{B}_{02}}{2} + \\frac{\\rho^{A}_{00}}{2} + \\frac{\\rho^{B}_{00}}{2} + \\frac{\\rho^{A}_{01}}{2} + \\frac{\\rho^{B}_{01}}{2} + \\frac{\\rho^{A}_{02}}{2} + \\frac{\\rho^{B}_{02}}{2} & - \\lambda^{A}_{00} - \\lambda^{B}_{00} - \\lambda^{A}_{01} - \\lambda^{B}_{01} - \\lambda^{A}_{02} - \\lambda^{B}_{02} - \\rho^{A}_{00} - \\rho^{B}_{00} - \\rho^{A}_{01} - \\rho^{B}_{01} - \\rho^{A}_{02} - \\rho^{B}_{02} & \\frac{\\lambda^{A}_{00}}{2} - \\frac{\\lambda^{B}_{00}}{2} + \\frac{\\lambda^{A}_{01}}{2} - \\frac{\\lambda^{B}_{01}}{2} + \\frac{\\lambda^{A}_{02}}{2} - \\frac{\\lambda^{B}_{02}}{2} + \\frac{\\rho^{A}_{00}}{2} - \\frac{\\rho^{B}_{00}}{2} + \\frac{\\rho^{A}_{01}}{2} - \\frac{\\rho^{B}_{01}}{2} + \\frac{\\rho^{A}_{02}}{2} - \\frac{\\rho^{B}_{02}}{2} & \\lambda^{A}_{00} + \\rho^{A}_{00}\\\\\\frac{\\lambda^{A}_{00}}{4} - \\frac{\\lambda^{B}_{00}}{4} + \\frac{\\lambda^{A}_{01}}{4} - \\frac{\\lambda^{B}_{01}}{4} + \\frac{\\lambda^{A}_{02}}{4} - \\frac{\\lambda^{B}_{02}}{4} - \\frac{\\rho^{A}_{00}}{4} + \\frac{\\rho^{B}_{00}}{4} - \\frac{\\rho^{A}_{01}}{4} + \\frac{\\rho^{B}_{01}}{4} - \\frac{\\rho^{A}_{02}}{4} + \\frac{\\rho^{B}_{02}}{4} & \\frac{\\lambda^{A}_{00}}{2} - \\frac{\\lambda^{B}_{00}}{2} + \\frac{\\lambda^{A}_{01}}{2} - \\frac{\\lambda^{B}_{01}}{2} + \\frac{\\lambda^{A}_{02}}{2} - \\frac{\\lambda^{B}_{02}}{2} + \\frac{\\rho^{A}_{00}}{2} - \\frac{\\rho^{B}_{00}}{2} + \\frac{\\rho^{A}_{01}}{2} - \\frac{\\rho^{B}_{01}}{2} + \\frac{\\rho^{A}_{02}}{2} - \\frac{\\rho^{B}_{02}}{2} & - \\frac{\\lambda^{A}_{00}}{4} - \\frac{\\lambda^{B}_{00}}{4} - \\frac{\\lambda^{A}_{01}}{4} - \\frac{\\lambda^{B}_{01}}{4} - \\frac{\\lambda^{A}_{02}}{4} - \\frac{\\lambda^{B}_{02}}{4} - \\frac{\\rho^{A}_{00}}{4} - \\frac{\\rho^{B}_{00}}{4} - \\frac{\\rho^{A}_{01}}{4} - \\frac{\\rho^{B}_{01}}{4} - \\frac{\\rho^{A}_{02}}{4} - \\frac{\\rho^{B}_{02}}{4} & - \\frac{\\lambda^{A}_{00}}{2} - \\frac{\\rho^{A}_{00}}{2}\\\\\\frac{\\lambda^{A}_{00}}{2} - \\frac{\\rho^{A}_{00}}{2} & \\lambda^{A}_{00} + \\rho^{A}_{00} & - \\frac{\\lambda^{A}_{00}}{2} - \\frac{\\rho^{A}_{00}}{2} & - \\lambda^{A}_{00} - \\rho^{A}_{00}\\end{matrix}\\right]$$"
      ],
      "text/plain": [
       "⎡  F_mz   λ_00__A   λ_00__B   λ_01__A   λ_01__B   λ_02__A   λ_02__B   λ_10__A \n",
       "⎢- ──── - ─────── - ─────── - ─────── - ─────── - ─────── - ─────── - ─────── \n",
       "⎢  V_mz      4         4         4         4         4         4         4    \n",
       "⎢                                                                             \n",
       "⎢                                                                             \n",
       "⎢                                                                             \n",
       "⎢                                                                             \n",
       "⎢                                                                             \n",
       "⎢                                                                             \n",
       "⎢                                                                             \n",
       "⎢                                                                             \n",
       "⎢                                                                             \n",
       "⎢                                                                             \n",
       "⎢                                                                             \n",
       "⎣                                                                             \n",
       "\n",
       "  λ_10__B   λ_11__A   λ_11__B   λ_12__A   λ_12__B   λ_20__A   λ_20__B   λ_21__\n",
       "- ─────── - ─────── - ─────── - ─────── - ─────── - ─────── - ─────── - ──────\n",
       "     4         4         4         4         4         4         4         4  \n",
       "                                                                              \n",
       "                                                λ_00__A   λ_00__B   λ_01__A   \n",
       "                                              - ─────── - ─────── - ─────── - \n",
       "                                                   2         2         2      \n",
       "                                                                              \n",
       "                                               λ_00__A   λ_00__B   λ_01__A   λ\n",
       "                                               ─────── - ─────── + ─────── - ─\n",
       "                                                  4         4         4       \n",
       "                                                                              \n",
       "                                                                              \n",
       "                                                                              \n",
       "                                                                              \n",
       "\n",
       "A   λ_21__B   λ_22__A   λ_22__B   ρ_00__A   ρ_00__B   ρ_01__A   ρ_01__B   ρ_02\n",
       "─ - ─────── - ─────── - ─────── - ─────── - ─────── - ─────── - ─────── - ────\n",
       "       4         4         4         4         4         4         4         4\n",
       "                                                                              \n",
       "λ_01__B   λ_02__A   λ_02__B   ρ_00__A   ρ_00__B   ρ_01__A   ρ_01__B   ρ_02__A \n",
       "─────── - ─────── - ─────── + ─────── + ─────── + ─────── + ─────── + ─────── \n",
       "   2         2         2         2         2         2         2         2    \n",
       "                                                                              \n",
       "_01__B   λ_02__A   λ_02__B   ρ_00__A   ρ_00__B   ρ_01__A   ρ_01__B   ρ_02__A  \n",
       "────── + ─────── - ─────── - ─────── + ─────── - ─────── + ─────── - ─────── +\n",
       "  4         4         4         4         4         4         4         4     \n",
       "                                                                              \n",
       "                   λ_00__A   ρ_00__A                                          \n",
       "                   ─────── - ───────                                          \n",
       "                      2         2                                             \n",
       "\n",
       "__A   ρ_02__B   ρ_10__A   ρ_10__B   ρ_11__A   ρ_11__B   ρ_12__A   ρ_12__B   ρ_\n",
       "─── - ─────── - ─────── - ─────── - ─────── - ─────── - ─────── - ─────── - ──\n",
       "         4         4         4         4         4         4         4        \n",
       "                                                                              \n",
       "  ρ_02__B                                                                     \n",
       "+ ───────                                                                     \n",
       "     2                                                                        \n",
       "                                                                              \n",
       " ρ_02__B                                                                      \n",
       " ───────                                                                      \n",
       "    4                                                                         \n",
       "                                                                              \n",
       "                                                                              \n",
       "                                                                              \n",
       "                                                                              \n",
       "\n",
       "20__A   ρ_20__B   ρ_21__A   ρ_21__B   ρ_22__A   ρ_22__B    λ_00__A   λ_00__B  \n",
       "───── - ─────── - ─────── - ─────── - ─────── - ───────  - ─────── - ─────── -\n",
       " 4         4         4         4         4         4          2         2     \n",
       "                                                                              \n",
       "                                                                              \n",
       "                                                         -λ_00__A - λ_00__B - \n",
       "                                                                              \n",
       "                                                                              \n",
       "                                                          λ_00__A   λ_00__B   \n",
       "                                                          ─────── - ─────── + \n",
       "                                                             2         2      \n",
       "                                                                              \n",
       "                                                                              \n",
       "                                                                              \n",
       "                                                                              \n",
       "\n",
       " λ_01__A   λ_01__B   λ_02__A   λ_02__B   ρ_00__A   ρ_00__B   ρ_01__A   ρ_01__B\n",
       " ─────── - ─────── - ─────── - ─────── + ─────── + ─────── + ─────── + ───────\n",
       "    2         2         2         2         2         2         2         2   \n",
       "                                                                              \n",
       "                                                                              \n",
       "λ_01__A - λ_01__B - λ_02__A - λ_02__B - ρ_00__A - ρ_00__B - ρ_01__A - ρ_01__B \n",
       "                                                                              \n",
       "                                                                              \n",
       "λ_01__A   λ_01__B   λ_02__A   λ_02__B   ρ_00__A   ρ_00__B   ρ_01__A   ρ_01__B \n",
       "─────── - ─────── + ─────── - ─────── + ─────── - ─────── + ─────── - ─────── \n",
       "   2         2         2         2         2         2         2         2    \n",
       "                                                                              \n",
       "                                                                              \n",
       "                              λ_00__A + ρ_00__A                               \n",
       "                                                                              \n",
       "\n",
       "   ρ_02__A   ρ_02__B   λ_00__A   λ_00__B   λ_01__A   λ_01__B   λ_02__A   λ_02_\n",
       " + ─────── + ───────   ─────── - ─────── + ─────── - ─────── + ─────── - ─────\n",
       "      2         2         4         4         4         4         4         4 \n",
       "                                                                              \n",
       "                       λ_00__A   λ_00__B   λ_01__A   λ_01__B   λ_02__A   λ_02_\n",
       "- ρ_02__A - ρ_02__B    ─────── - ─────── + ─────── - ─────── + ─────── - ─────\n",
       "                          2         2         2         2         2         2 \n",
       "                                                                              \n",
       "  ρ_02__A   ρ_02__B     λ_00__A   λ_00__B   λ_01__A   λ_01__B   λ_02__A   λ_02\n",
       "+ ─────── - ───────   - ─────── - ─────── - ─────── - ─────── - ─────── - ────\n",
       "     2         2           4         4         4         4         4         4\n",
       "                                                                              \n",
       "                                                                          λ_00\n",
       "                                                                        - ────\n",
       "                                                                             2\n",
       "\n",
       "_B   ρ_00__A   ρ_00__B   ρ_01__A   ρ_01__B   ρ_02__A   ρ_02__B    λ_00__A   ρ_\n",
       "── - ─────── + ─────── - ─────── + ─────── - ─────── + ───────    ─────── - ──\n",
       "        4         4         4         4         4         4          2        \n",
       "                                                                              \n",
       "_B   ρ_00__A   ρ_00__B   ρ_01__A   ρ_01__B   ρ_02__A   ρ_02__B                \n",
       "── + ─────── - ─────── + ─────── - ─────── + ─────── - ───────    λ_00__A + ρ_\n",
       "        2         2         2         2         2         2                   \n",
       "                                                                              \n",
       "__B   ρ_00__A   ρ_00__B   ρ_01__A   ρ_01__B   ρ_02__A   ρ_02__B    λ_00__A   ρ\n",
       "─── - ─────── - ─────── - ─────── - ─────── - ─────── - ───────  - ─────── - ─\n",
       "         4         4         4         4         4         4          2       \n",
       "                                                                              \n",
       "__A   ρ_00__A                                                                 \n",
       "─── - ───────                                                    -λ_00__A - ρ_\n",
       "         2                                                                    \n",
       "\n",
       "00__A ⎤\n",
       "───── ⎥\n",
       " 2    ⎥\n",
       "      ⎥\n",
       "      ⎥\n",
       "00__A ⎥\n",
       "      ⎥\n",
       "      ⎥\n",
       "_00__A⎥\n",
       "──────⎥\n",
       "  2   ⎥\n",
       "      ⎥\n",
       "      ⎥\n",
       "00__A ⎥\n",
       "      ⎦"
      ]
     },
     "execution_count": 24,
     "metadata": {},
     "output_type": "execute_result"
    }
   ],
   "source": [
    "At.subs(adim)[:4, :4]"
   ]
  },
  {
   "cell_type": "code",
   "execution_count": 36,
   "metadata": {
    "collapsed": false
   },
   "outputs": [
    {
     "data": {
      "image/png": "[encoded data removed]",
      "text/latex": [
       "$$\\mu_{s}$$"
      ],
      "text/plain": [
       "μ_s"
      ]
     },
     "execution_count": 36,
     "metadata": {},
     "output_type": "execute_result"
    }
   ],
   "source": [
    "parameters['mu_s']"
   ]
  },
  {
   "cell_type": "code",
   "execution_count": 51,
   "metadata": {
    "collapsed": true
   },
   "outputs": [],
   "source": [
    "0"
   ]
  },
  {
   "cell_type": "code",
   "execution_count": 11,
   "metadata": {
    "collapsed": false
   },
   "outputs": [
    {
     "data": {
      "image/png": "[encoded data removed]",
      "text/latex": [
       "$$\\left[\\begin{matrix}\\frac{1}{2 V_{mz}} \\left(2 F_{mz} \\left(V_{mz} - \\dot{L}\\right) - V_{mz} \\mu_{s} \\dot{L} + V_{mz} \\left(- 9 \\dot{L} + \\dot{d^{A}}_{00} + \\dot{d^{B}}_{00} + \\dot{d^{A}}_{01} + \\dot{d^{B}}_{01} + \\dot{d^{A}}_{02} + \\dot{d^{B}}_{02} + \\dot{d^{A}}_{10} + \\dot{d^{B}}_{10} + \\dot{d^{A}}_{11} + \\dot{d^{B}}_{11} + \\dot{d^{A}}_{12} + \\dot{d^{B}}_{12} + \\dot{d^{A}}_{20} + \\dot{d^{B}}_{20} + \\dot{d^{A}}_{21} + \\dot{d^{B}}_{21} + \\dot{d^{A}}_{22} + \\dot{d^{B}}_{22} + 3 \\dot{l}_{0} + 3 \\dot{l}_{1} + 3 \\dot{l}_{2}\\right)\\right)\\\\- 2 \\mu_{ch} \\dot{c}_{0} - 6 \\dot{c}_{0} + \\dot{d^{A}}_{00} - \\dot{d^{B}}_{00} + \\dot{d^{A}}_{01} - \\dot{d^{B}}_{01} + \\dot{d^{A}}_{02} - \\dot{d^{B}}_{02} - 6\\\\- \\kappa_{c} l_{0} - \\mu_{c} \\dot{l}_{0} - \\frac{\\mu_{ch} \\dot{l}_{0}}{2} + \\frac{3 \\dot{L}}{2} - \\frac{\\dot{d^{A}}_{00}}{2} - \\frac{\\dot{d^{B}}_{00}}{2} - \\frac{\\dot{d^{A}}_{01}}{2} - \\frac{\\dot{d^{B}}_{01}}{2} - \\frac{\\dot{d^{A}}_{02}}{2} - \\frac{\\dot{d^{B}}_{02}}{2} - \\frac{3 \\dot{l}_{0}}{2}\\\\- \\kappa_{k} d^{A}_{00} - \\mu_{k} \\dot{d^{A}}_{00} + \\frac{\\dot{L}}{2} + \\dot{c}_{0} - \\dot{d^{A}}_{00} - \\frac{\\dot{l}_{0}}{2} + 1\\\\- \\kappa_{k} d^{A}_{01} - \\mu_{k} \\dot{d^{A}}_{01} + \\frac{\\dot{L}}{2} + \\dot{c}_{0} - \\dot{d^{A}}_{01} - \\frac{\\dot{l}_{0}}{2} + 1\\\\- \\kappa_{k} d^{A}_{02} - \\mu_{k} \\dot{d^{A}}_{02} + \\frac{\\dot{L}}{2} + \\dot{c}_{0} - \\dot{d^{A}}_{02} - \\frac{\\dot{l}_{0}}{2} + 1\\\\- \\kappa_{k} d^{B}_{00} - \\mu_{k} \\dot{d^{B}}_{00} + \\frac{\\dot{L}}{2} - \\dot{c}_{0} - \\dot{d^{B}}_{00} - \\frac{\\dot{l}_{0}}{2} - 1\\\\- \\kappa_{k} d^{B}_{01} - \\mu_{k} \\dot{d^{B}}_{01} + \\frac{\\dot{L}}{2} - \\dot{c}_{0} - \\dot{d^{B}}_{01} - \\frac{\\dot{l}_{0}}{2} - 1\\\\- \\kappa_{k} d^{B}_{02} - \\mu_{k} \\dot{d^{B}}_{02} + \\frac{\\dot{L}}{2} - \\dot{c}_{0} - \\dot{d^{B}}_{02} - \\frac{\\dot{l}_{0}}{2} - 1\\\\- 2 \\mu_{ch} \\dot{c}_{1} - 6 \\dot{c}_{1} + \\dot{d^{A}}_{10} - \\dot{d^{B}}_{10} + \\dot{d^{A}}_{11} - \\dot{d^{B}}_{11} + \\dot{d^{A}}_{12} - \\dot{d^{B}}_{12} - 6\\\\- \\kappa_{c} l_{1} - \\mu_{c} \\dot{l}_{1} - \\frac{\\mu_{ch} \\dot{l}_{1}}{2} + \\frac{3 \\dot{L}}{2} - \\frac{\\dot{d^{A}}_{10}}{2} - \\frac{\\dot{d^{B}}_{10}}{2} - \\frac{\\dot{d^{A}}_{11}}{2} - \\frac{\\dot{d^{B}}_{11}}{2} - \\frac{\\dot{d^{A}}_{12}}{2} - \\frac{\\dot{d^{B}}_{12}}{2} - \\frac{3 \\dot{l}_{1}}{2}\\\\- \\kappa_{k} d^{A}_{10} - \\mu_{k} \\dot{d^{A}}_{10} + \\frac{\\dot{L}}{2} + \\dot{c}_{1} - \\dot{d^{A}}_{10} - \\frac{\\dot{l}_{1}}{2} + 1\\\\- \\kappa_{k} d^{A}_{11} - \\mu_{k} \\dot{d^{A}}_{11} + \\frac{\\dot{L}}{2} + \\dot{c}_{1} - \\dot{d^{A}}_{11} - \\frac{\\dot{l}_{1}}{2} + 1\\\\- \\kappa_{k} d^{A}_{12} - \\mu_{k} \\dot{d^{A}}_{12} + \\frac{\\dot{L}}{2} + \\dot{c}_{1} - \\dot{d^{A}}_{12} - \\frac{\\dot{l}_{1}}{2} + 1\\\\- \\kappa_{k} d^{B}_{10} - \\mu_{k} \\dot{d^{B}}_{10} + \\frac{\\dot{L}}{2} - \\dot{c}_{1} - \\dot{d^{B}}_{10} - \\frac{\\dot{l}_{1}}{2} - 1\\\\- \\kappa_{k} d^{B}_{11} - \\mu_{k} \\dot{d^{B}}_{11} + \\frac{\\dot{L}}{2} - \\dot{c}_{1} - \\dot{d^{B}}_{11} - \\frac{\\dot{l}_{1}}{2} - 1\\\\- \\kappa_{k} d^{B}_{12} - \\mu_{k} \\dot{d^{B}}_{12} + \\frac{\\dot{L}}{2} - \\dot{c}_{1} - \\dot{d^{B}}_{12} - \\frac{\\dot{l}_{1}}{2} - 1\\\\- 2 \\mu_{ch} \\dot{c}_{2} - 6 \\dot{c}_{2} + \\dot{d^{A}}_{20} - \\dot{d^{B}}_{20} + \\dot{d^{A}}_{21} - \\dot{d^{B}}_{21} + \\dot{d^{A}}_{22} - \\dot{d^{B}}_{22} - 6\\\\- \\kappa_{c} l_{2} - \\mu_{c} \\dot{l}_{2} - \\frac{\\mu_{ch} \\dot{l}_{2}}{2} + \\frac{3 \\dot{L}}{2} - \\frac{\\dot{d^{A}}_{20}}{2} - \\frac{\\dot{d^{B}}_{20}}{2} - \\frac{\\dot{d^{A}}_{21}}{2} - \\frac{\\dot{d^{B}}_{21}}{2} - \\frac{\\dot{d^{A}}_{22}}{2} - \\frac{\\dot{d^{B}}_{22}}{2} - \\frac{3 \\dot{l}_{2}}{2}\\\\- \\kappa_{k} d^{A}_{20} - \\mu_{k} \\dot{d^{A}}_{20} + \\frac{\\dot{L}}{2} + \\dot{c}_{2} - \\dot{d^{A}}_{20} - \\frac{\\dot{l}_{2}}{2} + 1\\\\- \\kappa_{k} d^{A}_{21} - \\mu_{k} \\dot{d^{A}}_{21} + \\frac{\\dot{L}}{2} + \\dot{c}_{2} - \\dot{d^{A}}_{21} - \\frac{\\dot{l}_{2}}{2} + 1\\\\- \\kappa_{k} d^{A}_{22} - \\mu_{k} \\dot{d^{A}}_{22} + \\frac{\\dot{L}}{2} + \\dot{c}_{2} - \\dot{d^{A}}_{22} - \\frac{\\dot{l}_{2}}{2} + 1\\\\- \\kappa_{k} d^{B}_{20} - \\mu_{k} \\dot{d^{B}}_{20} + \\frac{\\dot{L}}{2} - \\dot{c}_{2} - \\dot{d^{B}}_{20} - \\frac{\\dot{l}_{2}}{2} - 1\\\\- \\kappa_{k} d^{B}_{21} - \\mu_{k} \\dot{d^{B}}_{21} + \\frac{\\dot{L}}{2} - \\dot{c}_{2} - \\dot{d^{B}}_{21} - \\frac{\\dot{l}_{2}}{2} - 1\\\\- \\kappa_{k} d^{B}_{22} - \\mu_{k} \\dot{d^{B}}_{22} + \\frac{\\dot{L}}{2} - \\dot{c}_{2} - \\dot{d^{B}}_{22} - \\frac{\\dot{l}_{2}}{2} - 1\\end{matrix}\\right]$$"
      ],
      "text/plain": [
       "⎡2⋅F_mz⋅(V_mz - L̇) - V_mz⋅μ_s⋅L̇ + V_mz⋅(-9⋅L̇ + d_00̇__A + d_00̇__B + d_01̇_\n",
       "⎢─────────────────────────────────────────────────────────────────────────────\n",
       "⎢                                                                             \n",
       "⎢                                                                             \n",
       "⎢                                                                             \n",
       "⎢                                                                             \n",
       "⎢                                                                             \n",
       "⎢                                                                             \n",
       "⎢                                                                             \n",
       "⎢                                                                             \n",
       "⎢                                                                             \n",
       "⎢                                                                             \n",
       "⎢                                                                             \n",
       "⎢                                                                             \n",
       "⎢                                                                             \n",
       "⎢                                                                             \n",
       "⎢                                                                             \n",
       "⎢                                                                             \n",
       "⎢                                                                             \n",
       "⎢                                                                             \n",
       "⎢                                                                             \n",
       "⎢                                                                             \n",
       "⎢                                                                             \n",
       "⎢                                                                             \n",
       "⎢                                                                             \n",
       "⎢                                                                             \n",
       "⎢                                                                             \n",
       "⎢                                                                             \n",
       "⎢                                                                             \n",
       "⎢                                                                             \n",
       "⎢                                                                             \n",
       "⎢                                                                             \n",
       "⎢                                                                             \n",
       "⎢                                                                             \n",
       "⎢                                                                             \n",
       "⎢                                                                             \n",
       "⎢                                                                             \n",
       "⎢                                                                             \n",
       "⎢                                                                             \n",
       "⎢                                                                             \n",
       "⎢                                                                             \n",
       "⎢                                                                             \n",
       "⎢                                                                             \n",
       "⎢                                                                             \n",
       "⎢                                                                             \n",
       "⎢                                                                             \n",
       "⎢                                                                             \n",
       "⎢                                                                             \n",
       "⎢                                                                             \n",
       "⎢                                                                             \n",
       "⎢                                                                             \n",
       "⎢                                                                             \n",
       "⎢                                                                             \n",
       "⎢                                                                             \n",
       "⎢                                                                             \n",
       "⎢                                                                             \n",
       "⎢                                                                             \n",
       "⎢                                                                             \n",
       "⎢                                                                             \n",
       "⎢                                                                             \n",
       "⎢                                                                             \n",
       "⎢                                                                             \n",
       "⎢                                                                             \n",
       "⎢                                                                             \n",
       "⎢                                                                             \n",
       "⎢                                                                             \n",
       "⎢                                                                             \n",
       "⎢                                                                             \n",
       "⎢                                                                             \n",
       "⎢                                                                             \n",
       "⎢                                                                             \n",
       "⎢                                                                             \n",
       "⎢                                                                             \n",
       "⎢                                                                             \n",
       "⎢                                                                             \n",
       "⎢                                                                             \n",
       "⎢                                                                             \n",
       "⎢                                                                             \n",
       "⎢                                                                             \n",
       "⎢                                                                             \n",
       "⎢                                                                             \n",
       "⎢                                                                             \n",
       "⎢                                                                             \n",
       "⎢                                                                             \n",
       "⎢                                                                             \n",
       "⎢                                                                             \n",
       "⎢                                                                             \n",
       "⎢                                                                             \n",
       "⎢                                                                             \n",
       "⎢                                                                             \n",
       "⎢                                                                             \n",
       "⎢                                                                             \n",
       "⎣                                                                             \n",
       "\n",
       "_A + d_01̇__B + d_02̇__A + d_02̇__B + d_10̇__A + d_10̇__B + d_11̇__A + d_11̇__\n",
       "──────────────────────────────────────────────────────────────────────────────\n",
       "                                                       2⋅V_mz                 \n",
       "                                                                              \n",
       "             -2⋅μ_ch⋅c₀̇ - 6⋅c₀̇ + d_00̇__A - d_00̇__B + d_01̇__A - d_01̇__B +\n",
       "                                                                              \n",
       "                       μ_ch⋅l₀̇   3⋅L̇   d_00̇__A   d_00̇__B   d_01̇__A   d_01\n",
       "   -κ_c⋅l₀ - μ_c⋅l₀̇ - ──────── + ──── - ──────── - ──────── - ──────── - ────\n",
       "                          2        2        2          2          2          2\n",
       "                                                                              \n",
       "                                                          L̇                  \n",
       "                            -κ_k⋅d_00__A - μ_k⋅d_00̇__A + ── + c₀̇ - d_00̇__A \n",
       "                                                          2                   \n",
       "                                                                              \n",
       "                                                          L̇                  \n",
       "                            -κ_k⋅d_01__A - μ_k⋅d_01̇__A + ── + c₀̇ - d_01̇__A \n",
       "                                                          2                   \n",
       "                                                                              \n",
       "                                                          L̇                  \n",
       "                            -κ_k⋅d_02__A - μ_k⋅d_02̇__A + ── + c₀̇ - d_02̇__A \n",
       "                                                          2                   \n",
       "                                                                              \n",
       "                                                          L̇                  \n",
       "                            -κ_k⋅d_00__B - μ_k⋅d_00̇__B + ── - c₀̇ - d_00̇__B \n",
       "                                                          2                   \n",
       "                                                                              \n",
       "                                                          L̇                  \n",
       "                            -κ_k⋅d_01__B - μ_k⋅d_01̇__B + ── - c₀̇ - d_01̇__B \n",
       "                                                          2                   \n",
       "                                                                              \n",
       "                                                          L̇                  \n",
       "                            -κ_k⋅d_02__B - μ_k⋅d_02̇__B + ── - c₀̇ - d_02̇__B \n",
       "                                                          2                   \n",
       "                                                                              \n",
       "             -2⋅μ_ch⋅c₁̇ - 6⋅c₁̇ + d_10̇__A - d_10̇__B + d_11̇__A - d_11̇__B +\n",
       "                                                                              \n",
       "                       μ_ch⋅l₁̇   3⋅L̇   d_10̇__A   d_10̇__B   d_11̇__A   d_11\n",
       "   -κ_c⋅l₁ - μ_c⋅l₁̇ - ──────── + ──── - ──────── - ──────── - ──────── - ────\n",
       "                          2        2        2          2          2          2\n",
       "                                                                              \n",
       "                                                          L̇                  \n",
       "                            -κ_k⋅d_10__A - μ_k⋅d_10̇__A + ── + c₁̇ - d_10̇__A \n",
       "                                                          2                   \n",
       "                                                                              \n",
       "                                                          L̇                  \n",
       "                            -κ_k⋅d_11__A - μ_k⋅d_11̇__A + ── + c₁̇ - d_11̇__A \n",
       "                                                          2                   \n",
       "                                                                              \n",
       "                                                          L̇                  \n",
       "                            -κ_k⋅d_12__A - μ_k⋅d_12̇__A + ── + c₁̇ - d_12̇__A \n",
       "                                                          2                   \n",
       "                                                                              \n",
       "                                                          L̇                  \n",
       "                            -κ_k⋅d_10__B - μ_k⋅d_10̇__B + ── - c₁̇ - d_10̇__B \n",
       "                                                          2                   \n",
       "                                                                              \n",
       "                                                          L̇                  \n",
       "                            -κ_k⋅d_11__B - μ_k⋅d_11̇__B + ── - c₁̇ - d_11̇__B \n",
       "                                                          2                   \n",
       "                                                                              \n",
       "                                                          L̇                  \n",
       "                            -κ_k⋅d_12__B - μ_k⋅d_12̇__B + ── - c₁̇ - d_12̇__B \n",
       "                                                          2                   \n",
       "                                                                              \n",
       "             -2⋅μ_ch⋅c₂̇ - 6⋅c₂̇ + d_20̇__A - d_20̇__B + d_21̇__A - d_21̇__B +\n",
       "                                                                              \n",
       "                       μ_ch⋅l₂̇   3⋅L̇   d_20̇__A   d_20̇__B   d_21̇__A   d_21\n",
       "   -κ_c⋅l₂ - μ_c⋅l₂̇ - ──────── + ──── - ──────── - ──────── - ──────── - ────\n",
       "                          2        2        2          2          2          2\n",
       "                                                                              \n",
       "                                                          L̇                  \n",
       "                            -κ_k⋅d_20__A - μ_k⋅d_20̇__A + ── + c₂̇ - d_20̇__A \n",
       "                                                          2                   \n",
       "                                                                              \n",
       "                                                          L̇                  \n",
       "                            -κ_k⋅d_21__A - μ_k⋅d_21̇__A + ── + c₂̇ - d_21̇__A \n",
       "                                                          2                   \n",
       "                                                                              \n",
       "                                                          L̇                  \n",
       "                            -κ_k⋅d_22__A - μ_k⋅d_22̇__A + ── + c₂̇ - d_22̇__A \n",
       "                                                          2                   \n",
       "                                                                              \n",
       "                                                          L̇                  \n",
       "                            -κ_k⋅d_20__B - μ_k⋅d_20̇__B + ── - c₂̇ - d_20̇__B \n",
       "                                                          2                   \n",
       "                                                                              \n",
       "                                                          L̇                  \n",
       "                            -κ_k⋅d_21__B - μ_k⋅d_21̇__B + ── - c₂̇ - d_21̇__B \n",
       "                                                          2                   \n",
       "                                                                              \n",
       "                                                          L̇                  \n",
       "                            -κ_k⋅d_22__B - μ_k⋅d_22̇__B + ── - c₂̇ - d_22̇__B \n",
       "                                                          2                   \n",
       "\n",
       "B + d_12̇__A + d_12̇__B + d_20̇__A + d_20̇__B + d_21̇__A + d_21̇__B + d_22̇__A\n",
       "──────────────────────────────────────────────────────────────────────────────\n",
       "                                                                              \n",
       "                                                                              \n",
       " d_02̇__A - d_02̇__B - 6                                                      \n",
       "                                                                              \n",
       "̇__B   d_02̇__A   d_02̇__B   3⋅l₀̇                                            \n",
       "──── - ──────── - ──────── - ─────                                            \n",
       "          2          2         2                                              \n",
       "                                                                              \n",
       "  l₀̇                                                                         \n",
       "- ─── + 1                                                                     \n",
       "   2                                                                          \n",
       "                                                                              \n",
       "  l₀̇                                                                         \n",
       "- ─── + 1                                                                     \n",
       "   2                                                                          \n",
       "                                                                              \n",
       "  l₀̇                                                                         \n",
       "- ─── + 1                                                                     \n",
       "   2                                                                          \n",
       "                                                                              \n",
       "  l₀̇                                                                         \n",
       "- ─── - 1                                                                     \n",
       "   2                                                                          \n",
       "                                                                              \n",
       "  l₀̇                                                                         \n",
       "- ─── - 1                                                                     \n",
       "   2                                                                          \n",
       "                                                                              \n",
       "  l₀̇                                                                         \n",
       "- ─── - 1                                                                     \n",
       "   2                                                                          \n",
       "                                                                              \n",
       " d_12̇__A - d_12̇__B - 6                                                      \n",
       "                                                                              \n",
       "̇__B   d_12̇__A   d_12̇__B   3⋅l₁̇                                            \n",
       "──── - ──────── - ──────── - ─────                                            \n",
       "          2          2         2                                              \n",
       "                                                                              \n",
       "  l₁̇                                                                         \n",
       "- ─── + 1                                                                     \n",
       "   2                                                                          \n",
       "                                                                              \n",
       "  l₁̇                                                                         \n",
       "- ─── + 1                                                                     \n",
       "   2                                                                          \n",
       "                                                                              \n",
       "  l₁̇                                                                         \n",
       "- ─── + 1                                                                     \n",
       "   2                                                                          \n",
       "                                                                              \n",
       "  l₁̇                                                                         \n",
       "- ─── - 1                                                                     \n",
       "   2                                                                          \n",
       "                                                                              \n",
       "  l₁̇                                                                         \n",
       "- ─── - 1                                                                     \n",
       "   2                                                                          \n",
       "                                                                              \n",
       "  l₁̇                                                                         \n",
       "- ─── - 1                                                                     \n",
       "   2                                                                          \n",
       "                                                                              \n",
       " d_22̇__A - d_22̇__B - 6                                                      \n",
       "                                                                              \n",
       "̇__B   d_22̇__A   d_22̇__B   3⋅l₂̇                                            \n",
       "──── - ──────── - ──────── - ─────                                            \n",
       "          2          2         2                                              \n",
       "                                                                              \n",
       "  l₂̇                                                                         \n",
       "- ─── + 1                                                                     \n",
       "   2                                                                          \n",
       "                                                                              \n",
       "  l₂̇                                                                         \n",
       "- ─── + 1                                                                     \n",
       "   2                                                                          \n",
       "                                                                              \n",
       "  l₂̇                                                                         \n",
       "- ─── + 1                                                                     \n",
       "   2                                                                          \n",
       "                                                                              \n",
       "  l₂̇                                                                         \n",
       "- ─── - 1                                                                     \n",
       "   2                                                                          \n",
       "                                                                              \n",
       "  l₂̇                                                                         \n",
       "- ─── - 1                                                                     \n",
       "   2                                                                          \n",
       "                                                                              \n",
       "  l₂̇                                                                         \n",
       "- ─── - 1                                                                     \n",
       "   2                                                                          \n",
       "\n",
       " + d_22̇__B + 3⋅l₀̇ + 3⋅l₁̇ + 3⋅l₂̇)⎤\n",
       "────────────────────────────────────⎥\n",
       "                                    ⎥\n",
       "                                    ⎥\n",
       "                                    ⎥\n",
       "                                    ⎥\n",
       "                                    ⎥\n",
       "                                    ⎥\n",
       "                                    ⎥\n",
       "                                    ⎥\n",
       "                                    ⎥\n",
       "                                    ⎥\n",
       "                                    ⎥\n",
       "                                    ⎥\n",
       "                                    ⎥\n",
       "                                    ⎥\n",
       "                                    ⎥\n",
       "                                    ⎥\n",
       "                                    ⎥\n",
       "                                    ⎥\n",
       "                                    ⎥\n",
       "                                    ⎥\n",
       "                                    ⎥\n",
       "                                    ⎥\n",
       "                                    ⎥\n",
       "                                    ⎥\n",
       "                                    ⎥\n",
       "                                    ⎥\n",
       "                                    ⎥\n",
       "                                    ⎥\n",
       "                                    ⎥\n",
       "                                    ⎥\n",
       "                                    ⎥\n",
       "                                    ⎥\n",
       "                                    ⎥\n",
       "                                    ⎥\n",
       "                                    ⎥\n",
       "                                    ⎥\n",
       "                                    ⎥\n",
       "                                    ⎥\n",
       "                                    ⎥\n",
       "                                    ⎥\n",
       "                                    ⎥\n",
       "                                    ⎥\n",
       "                                    ⎥\n",
       "                                    ⎥\n",
       "                                    ⎥\n",
       "                                    ⎥\n",
       "                                    ⎥\n",
       "                                    ⎥\n",
       "                                    ⎥\n",
       "                                    ⎥\n",
       "                                    ⎥\n",
       "                                    ⎥\n",
       "                                    ⎥\n",
       "                                    ⎥\n",
       "                                    ⎥\n",
       "                                    ⎥\n",
       "                                    ⎥\n",
       "                                    ⎥\n",
       "                                    ⎥\n",
       "                                    ⎥\n",
       "                                    ⎥\n",
       "                                    ⎥\n",
       "                                    ⎥\n",
       "                                    ⎥\n",
       "                                    ⎥\n",
       "                                    ⎥\n",
       "                                    ⎥\n",
       "                                    ⎥\n",
       "                                    ⎥\n",
       "                                    ⎥\n",
       "                                    ⎥\n",
       "                                    ⎥\n",
       "                                    ⎥\n",
       "                                    ⎥\n",
       "                                    ⎥\n",
       "                                    ⎥\n",
       "                                    ⎥\n",
       "                                    ⎥\n",
       "                                    ⎥\n",
       "                                    ⎥\n",
       "                                    ⎥\n",
       "                                    ⎥\n",
       "                                    ⎥\n",
       "                                    ⎥\n",
       "                                    ⎥\n",
       "                                    ⎥\n",
       "                                    ⎥\n",
       "                                    ⎥\n",
       "                                    ⎥\n",
       "                                    ⎥\n",
       "                                    ⎦"
      ]
     },
     "execution_count": 11,
     "metadata": {},
     "output_type": "execute_result"
    }
   ],
   "source": [
    "eoms.simplify()\n",
    "rev_kddict = {v:k for k, v in spindle.KM.kindiffdict().items()}\n",
    "eoms.subs(rev_kddict).subs(adim)"
   ]
  },
  {
   "cell_type": "code",
   "execution_count": 11,
   "metadata": {
    "collapsed": false
   },
   "outputs": [
    {
     "data": {
      "text/plain": [
       "[spbR,\n",
       " spbL,\n",
       " ch_0,\n",
       " cen_0^A,\n",
       " as_00^A,\n",
       " as_01^A,\n",
       " as_02^A,\n",
       " cen_0^B,\n",
       " as_00^B,\n",
       " as_01^B,\n",
       " as_02^B,\n",
       " ch_1,\n",
       " cen_1^A,\n",
       " as_10^A,\n",
       " as_11^A,\n",
       " as_12^A,\n",
       " cen_1^B,\n",
       " as_10^B,\n",
       " as_11^B,\n",
       " as_12^B,\n",
       " ch_2,\n",
       " cen_2^A,\n",
       " as_20^A,\n",
       " as_21^A,\n",
       " as_22^A,\n",
       " cen_2^B,\n",
       " as_20^B,\n",
       " as_21^B,\n",
       " as_22^B]"
      ]
     },
     "execution_count": 11,
     "metadata": {},
     "output_type": "execute_result"
    }
   ],
   "source": [
    "spindle.points\n"
   ]
  },
  {
   "cell_type": "code",
   "execution_count": 12,
   "metadata": {
    "collapsed": false
   },
   "outputs": [
    {
     "data": {
      "image/png": "[encoded data removed]",
      "text/latex": [
       "$$\\left [ L, \\quad c_{0}, \\quad l_{0}, \\quad d^{A}_{00}, \\quad d^{A}_{01}, \\quad d^{A}_{02}, \\quad d^{B}_{00}, \\quad d^{B}_{01}, \\quad d^{B}_{02}, \\quad c_{1}, \\quad l_{1}, \\quad d^{A}_{10}, \\quad d^{A}_{11}, \\quad d^{A}_{12}, \\quad d^{B}_{10}, \\quad d^{B}_{11}, \\quad d^{B}_{12}, \\quad c_{2}, \\quad l_{2}, \\quad d^{A}_{20}, \\quad d^{A}_{21}, \\quad d^{A}_{22}, \\quad d^{B}_{20}, \\quad d^{B}_{21}, \\quad d^{B}_{22}\\right ]$$"
      ],
      "text/plain": [
       "[L, c₀, l₀, d_00__A, d_01__A, d_02__A, d_00__B, d_01__B, d_02__B, c₁, l₁, d_10\n",
       "__A, d_11__A, d_12__A, d_10__B, d_11__B, d_12__B, c₂, l₂, d_20__A, d_21__A, d_\n",
       "22__A, d_20__B, d_21__B, d_22__B]"
      ]
     },
     "execution_count": 12,
     "metadata": {},
     "output_type": "execute_result"
    }
   ],
   "source": [
    "spindle.q_ind"
   ]
  },
  {
   "cell_type": "code",
   "execution_count": 3,
   "metadata": {
    "collapsed": false
   },
   "outputs": [
    {
     "ename": "NameError",
     "evalue": "name 'spindle' is not defined",
     "output_type": "error",
     "traceback": [
      "\u001b[1;31m---------------------------------------------------------------------------\u001b[0m",
      "\u001b[1;31mNameError\u001b[0m                                 Traceback (most recent call last)",
      "\u001b[1;32m<ipython-input-3-c5697d22ccb0>\u001b[0m in \u001b[0;36m<module>\u001b[1;34m()\u001b[0m\n\u001b[1;32m----> 1\u001b[1;33m \u001b[0mA_uu_adim\u001b[0m \u001b[1;33m=\u001b[0m \u001b[0mspindle\u001b[0m\u001b[1;33m.\u001b[0m\u001b[0mA_uu\u001b[0m\u001b[1;33m.\u001b[0m\u001b[0msubs\u001b[0m\u001b[1;33m(\u001b[0m\u001b[0msubs\u001b[0m\u001b[1;33m)\u001b[0m\u001b[1;33m.\u001b[0m\u001b[0msubs\u001b[0m\u001b[1;33m(\u001b[0m\u001b[1;33m{\u001b[0m\u001b[0mparameters\u001b[0m\u001b[1;33m[\u001b[0m\u001b[1;34m'F_k'\u001b[0m\u001b[1;33m]\u001b[0m\u001b[1;33m:\u001b[0m\u001b[1;36m1\u001b[0m\u001b[1;33m,\u001b[0m \u001b[0mparameters\u001b[0m\u001b[1;33m[\u001b[0m\u001b[1;34m'V_k'\u001b[0m\u001b[1;33m]\u001b[0m\u001b[1;33m:\u001b[0m\u001b[1;36m1\u001b[0m\u001b[1;33m}\u001b[0m\u001b[1;33m)\u001b[0m\u001b[1;33m\u001b[0m\u001b[0m\n\u001b[0m",
      "\u001b[1;31mNameError\u001b[0m: name 'spindle' is not defined"
     ]
    }
   ],
   "source": [
    "A_uu_adim = spindle.A_uu.subs(subs).subs({parameters['F_k']:1, parameters['V_k']:1})"
   ]
  },
  {
   "cell_type": "code",
   "execution_count": 12,
   "metadata": {
    "collapsed": false
   },
   "outputs": [
    {
     "data": {
      "image/png": "[encoded data removed]",
      "text/latex": [
       "$$\\left [ - vL + \\dot{L}, \\quad - vc_{} + \\dot{c}_{}, \\quad - vl_{0} + \\dot{l}_{0}, \\quad - vd^{A}_{00} + \\dot{d^{A}}_{00}, \\quad - vd^{B}_{00} + \\dot{d^{B}}_{00}\\right ]$$"
      ],
      "text/plain": [
       "[-vL + L̇, -vc + ċ, -vl₀ + l₀̇, -vd_00__A + d_00̇__A, -vd_00__B + d_00̇__B]"
      ]
     },
     "execution_count": 12,
     "metadata": {},
     "output_type": "execute_result"
    }
   ],
   "source": [
    "spindle.kd"
   ]
  },
  {
   "cell_type": "code",
   "execution_count": 10,
   "metadata": {
    "collapsed": false
   },
   "outputs": [
    {
     "data": {
      "image/png": "[encoded data removed]",
      "text/latex": [
       "$$\\left [ vL, \\quad vc_{}, \\quad vl_{0}, \\quad vd^{A}_{00}, \\quad vd^{B}_{00}\\right ]$$"
      ],
      "text/plain": [
       "[vL, vc, vl₀, vd_00__A, vd_00__B]"
      ]
     },
     "execution_count": 10,
     "metadata": {},
     "output_type": "execute_result"
    }
   ],
   "source": [
    "spindle.u_ind\n"
   ]
  },
  {
   "cell_type": "code",
   "execution_count": 14,
   "metadata": {
    "collapsed": false
   },
   "outputs": [
    {
     "data": {
      "image/png": "[encoded data removed]",
      "text/latex": [
       "$$\\left [ \\dot{L}, \\quad \\dot{c}_{0}, \\quad \\dot{l}_{0}, \\quad \\dot{d^{A}}_{00}, \\quad \\dot{d^{A}}_{01}, \\quad \\dot{d^{A}}_{02}, \\quad \\dot{d^{B}}_{00}, \\quad \\dot{d^{B}}_{01}, \\quad \\dot{d^{B}}_{02}, \\quad \\dot{c}_{1}, \\quad \\dot{l}_{1}, \\quad \\dot{d^{A}}_{10}, \\quad \\dot{d^{A}}_{11}, \\quad \\dot{d^{A}}_{12}, \\quad \\dot{d^{B}}_{10}, \\quad \\dot{d^{B}}_{11}, \\quad \\dot{d^{B}}_{12}, \\quad \\dot{c}_{2}, \\quad \\dot{l}_{2}, \\quad \\dot{d^{A}}_{20}, \\quad \\dot{d^{A}}_{21}, \\quad \\dot{d^{A}}_{22}, \\quad \\dot{d^{B}}_{20}, \\quad \\dot{d^{B}}_{21}, \\quad \\dot{d^{B}}_{22}\\right ]$$"
      ],
      "text/plain": [
       "[L̇, c₀̇, l₀̇, d_00̇__A, d_01̇__A, d_02̇__A, d_00̇__B, d_01̇__B, d_02̇__B, c₁̇\n",
       ", l₁̇, d_10̇__A, d_11̇__A, d_12̇__A, d_10̇__B, d_11̇__B, d_12̇__B, c₂̇, l₂̇, d\n",
       "_20̇__A, d_21̇__A, d_22̇__A, d_20̇__B, d_21̇__B, d_22̇__B]"
      ]
     },
     "execution_count": 14,
     "metadata": {},
     "output_type": "execute_result"
    }
   ],
   "source": [
    "spindle.qd_ind"
   ]
  },
  {
   "cell_type": "code",
   "execution_count": 8,
   "metadata": {
    "collapsed": false
   },
   "outputs": [
    {
     "data": {
      "text/plain": [
       "[(spbR, - mu_s*vL/2*S.x),\n",
       " (spbL, mu_s*vL/2*S.x),\n",
       " (spbL, - F_mz*(1 - vL/V_mz)*S.x),\n",
       " (spbR, F_mz*(1 - vL/V_mz)*S.x),\n",
       " (cen_0^A, mu_ch*vl_0/2*S.x),\n",
       " (cen_0^A, - kappa_k*d_00^A*S.x),\n",
       " (as_00^A, kappa_k*d_00^A*S.x),\n",
       " (cen_0^A, - mu_k*d_00^A*S.x),\n",
       " (as_00^A, mu_k*d_00^A*S.x),\n",
       " (spbL, F_k*lambda_00^A*(1 - (d_00^A - vL/2 + vl_0/2)/V_k)*S.x),\n",
       " (as_00^A, - F_k*lambda_00^A*(1 - (d_00^A - vL/2 + vl_0/2)/V_k)*S.x),\n",
       " (as_00^A, F_k*rho_00^A*(-1 - (-d_00^A - vL/2 - vl_0/2)/V_k)*S.x),\n",
       " (spbR, - F_k*rho_00^A*(-1 - (-d_00^A - vL/2 - vl_0/2)/V_k)*S.x),\n",
       " (cen_0^B, - mu_ch*vl_0/2*S.x),\n",
       " (cen_0^B, kappa_k*d_00^B*S.x),\n",
       " (as_00^B, - kappa_k*d_00^B*S.x),\n",
       " (cen_0^B, mu_k*d_00^B*S.x),\n",
       " (as_00^B, - mu_k*d_00^B*S.x),\n",
       " (spbL, F_k*lambda_00^B*(1 - (-d_00^B - vL/2 - vl_0/2)/V_k)*S.x),\n",
       " (as_00^B, - F_k*lambda_00^B*(1 - (-d_00^B - vL/2 - vl_0/2)/V_k)*S.x),\n",
       " (as_00^B, F_k*rho_00^B*(-1 - (d_00^B - vL/2 + vl_0/2)/V_k)*S.x),\n",
       " (spbR, - F_k*rho_00^B*(-1 - (d_00^B - vL/2 + vl_0/2)/V_k)*S.x),\n",
       " (cen_0^A, kappa_c*l_0*S.x),\n",
       " (cen_0^B, - kappa_c*l_0*S.x),\n",
       " (cen_0^A, mu_c*vl_0*S.x),\n",
       " (cen_0^B, - mu_c*vl_0*S.x)]"
      ]
     },
     "execution_count": 8,
     "metadata": {},
     "output_type": "execute_result"
    }
   ],
   "source": [
    "spindle.forces"
   ]
  },
  {
   "cell_type": "code",
   "execution_count": null,
   "metadata": {
    "collapsed": false
   },
   "outputs": [],
   "source": []
  }
 ],
 "metadata": {
  "kernelspec": {
   "display_name": "Python 3",
   "language": "python",
   "name": "python3"
  },
  "language_info": {
   "codemirror_mode": {
    "name": "ipython",
    "version": 3
   },
   "file_extension": ".py",
   "mimetype": "text/x-python",
   "name": "python",
   "nbconvert_exporter": "python",
   "pygments_lexer": "ipython3",
   "version": "3.4.3"
  }
 },
 "nbformat": 4,
 "nbformat_minor": 0
}
