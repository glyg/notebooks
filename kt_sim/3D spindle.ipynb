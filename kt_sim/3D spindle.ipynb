{
 "cells": [
  {
   "cell_type": "code",
   "execution_count": 1,
   "metadata": {
    "collapsed": false
   },
   "outputs": [
    {
     "ename": "ImportError",
     "evalue": "bad magic number in 'kt_simul.smp_spindle': b'\\x03\\xf3\\r\\n'",
     "output_type": "error",
     "traceback": [
      "\u001b[1;31m---------------------------------------------------------------------------\u001b[0m",
      "\u001b[1;31mImportError\u001b[0m                               Traceback (most recent call last)",
      "\u001b[1;32m<ipython-input-1-f7c6e2ef2e54>\u001b[0m in \u001b[0;36m<module>\u001b[1;34m()\u001b[0m\n\u001b[0;32m      5\u001b[0m \u001b[1;31m# change this to suit your path\u001b[0m\u001b[1;33m\u001b[0m\u001b[1;33m\u001b[0m\u001b[0m\n\u001b[0;32m      6\u001b[0m \u001b[0msys\u001b[0m\u001b[1;33m.\u001b[0m\u001b[0mpath\u001b[0m\u001b[1;33m.\u001b[0m\u001b[0mappend\u001b[0m\u001b[1;33m(\u001b[0m\u001b[1;34m'/home/guillaume/Python/kt_simul/'\u001b[0m\u001b[1;33m)\u001b[0m\u001b[1;33m\u001b[0m\u001b[0m\n\u001b[1;32m----> 7\u001b[1;33m \u001b[1;32mfrom\u001b[0m \u001b[0mkt_simul\u001b[0m\u001b[1;33m.\u001b[0m\u001b[0msmp_spindle\u001b[0m\u001b[1;33m.\u001b[0m\u001b[0msmp_spindle\u001b[0m \u001b[1;32mimport\u001b[0m \u001b[0mSympySpindle\u001b[0m\u001b[1;33m,\u001b[0m \u001b[0mparameters\u001b[0m\u001b[1;33m\u001b[0m\u001b[0m\n\u001b[0m\u001b[0;32m      8\u001b[0m \u001b[1;33m\u001b[0m\u001b[0m\n\u001b[0;32m      9\u001b[0m \u001b[1;33m\u001b[0m\u001b[0m\n",
      "\u001b[1;31mImportError\u001b[0m: bad magic number in 'kt_simul.smp_spindle': b'\\x03\\xf3\\r\\n'"
     ]
    }
   ],
   "source": [
    "%load_ext autoreload\n",
    "%autoreload 2\n",
    "\n",
    "import sys\n",
    "# change this to suit your path\n",
    "sys.path.append('/home/guillaume/Python/kt_simul/')\n",
    "from kt_simul.smp_spindle.smp_spindle import SympySpindle, parameters\n",
    "\n",
    "\n",
    "import IPython.display as disp\n",
    "import os"
   ]
  },
  {
   "cell_type": "markdown",
   "metadata": {
    "collapsed": false
   },
   "source": [
    "### Visualisation using openscad\n",
    "\n",
    "This has the advangtage of being simple to use\n",
    "\n",
    "```python\n",
    "import solid as solid\n",
    "import tempfile\n",
    "solid.use('spindle.scad')\n",
    "spindle_length = 4\n",
    "ch_pos = [-0.4, 0.1, 1]\n",
    "stretch = 0.3\n",
    "ch_theta = 30\n",
    "ch_phi = 10\n",
    "\n",
    "scad_spindle = (spindle_midzone(spindle_length) +\n",
    "                chromosome(ch_pos, stretch, ch_theta, ch_phi))\n",
    "def show_scad(scad_spindle, img_name='spindle_scad.png'):\n",
    "    if os.path.isfile(img_name):\n",
    "        os.remove(img_name)\n",
    "    with tempfile.NamedTemporaryFile('w', suffix='.scad') as tmp_scad:\n",
    "        solid.scad_render_to_file(scad_spindle, tmp_scad.name)\n",
    "        os.system('openscad -o {} {}'.format(img_name, tmp_scad.name))\n",
    "    return disp.Image(img_name)\n",
    "show_scad(scad_spindle)\n",
    "```"
   ]
  },
  {
   "cell_type": "code",
   "execution_count": 2,
   "metadata": {
    "collapsed": false
   },
   "outputs": [],
   "source": [
    "from sympy.physics.mechanics import mechanics_printing\n",
    "\n",
    "mechanics_printing(pretty_print=True)  # Shinny\n"
   ]
  },
  {
   "cell_type": "code",
   "execution_count": 3,
   "metadata": {
    "collapsed": false
   },
   "outputs": [],
   "source": [
    "import vispy.geometry as vp_geom\n",
    "import vispy.util as vp_util\n",
    "\n",
    "def translate(mesh, pos):\n",
    "    \n",
    "    mesh.set_vertices(mesh.get_vertices() + pos)\n",
    "    return mesh\n",
    "    \n",
    "\n",
    "def create_spb(pos, radius=0.3):\n",
    "    spb = vp_geom.create_sphere(12, 12, radius)\n",
    "    return translate(spb, pos)\n",
    "    \n",
    "    \n",
    "def create_midzone(length, r=0.2):\n",
    "    \n",
    "    mz = vp_geom.create_cylinder(12, 2, [r, r],\n",
    "                                 length, True)\n",
    "    return mz\n",
    "    \n",
    "def create_chromosome(stretch, orientation, r=0.1):\n",
    "    \n",
    "    theta, phi, omega = orientation\n",
    "    \n",
    "    ch = vp_geom.create_cylinder(12, 2, [r, r],\n",
    "                                 length, True)\n",
    "    \n",
    "### Maybe scene visuals is better suited, see:\n",
    "### http://api.vispy.org/en/latest/scene.html\n",
    "\n",
    "from vispy import app, gloo, visuals\n",
    "\n",
    "class Canvas(app.Canvas):\n",
    "    def __init__(self, mdatas):\n",
    "        app.Canvas.__init__(self, keys='interactive', size=(800, 550))\n",
    "\n",
    "        self.rotation = AffineTransform()\n",
    "        self.meshes = [visuals.MeshVisual(meshdata=mdata, color='r') for mdata in mdatas]\n",
    "\n",
    "        self.show()\n",
    "\n",
    "        self.timer = app.Timer(connect=self.rotate)\n",
    "        self.timer.start(0.016)\n",
    "\n",
    "    def rotate(self, event):\n",
    "        self.rotation.rotate(1, (0, 1, 0))\n",
    "        self.update()\n",
    "\n",
    "    def on_draw(self, ev):\n",
    "        gloo.set_viewport(0, 0, *self.physical_size)\n",
    "        gloo.clear(color='black', depth=True)\n",
    "        for mesh in self.meshes:\n",
    "            mesh.draw()\n",
    "\n",
    "length = 3.\n",
    "\n",
    "            \n",
    "spbL = create_spb([-length/2, 0, 0])\n",
    "spbR = create_spb([length/2, 0, 0])\n",
    "mz = create_midzone(length)\n",
    "\n",
    "#win = Canvas([spbL, spbR, mz])\n",
    "#import sys a\n",
    "#if sys.flags.interactive != 1:\n",
    "#    app.run()\n",
    "\n",
    "### Too be continued    \n",
    "\n"
   ]
  },
  {
   "cell_type": "markdown",
   "metadata": {},
   "source": [
    "### Model description\n",
    "\n",
    "We're looking at a simple mechanical system\n",
    "\n",
    "![3D spindle](3d_spindle.svg)\n",
    "\n",
    "\n",
    "\n",
    "#### Points and coordiantes\n",
    "\n",
    "Point is the physical location of an element.\n",
    "\n",
    "In the method we use to write the equations of motion of the system, we use what is caled **generalized coordinates** and **generalized speeds**. The generic letter for a gen. coordinate is **q** and **u** for the speeds. Those are the quantities marked in red on the sketch.\n",
    "\n",
    "As a starting point to a 3D description of the spindle, we assume that the chromosomes are 'aligned', thus there is a single extra reference frame, noted $\\mathbf{C}$, for each chromosome.\n",
    "\n",
    "\n"
   ]
  },
  {
   "cell_type": "markdown",
   "metadata": {},
   "source": [
    "### Parameters "
   ]
  },
  {
   "cell_type": "code",
   "execution_count": 4,
   "metadata": {
    "collapsed": false
   },
   "outputs": [
    {
     "name": "stdout",
     "output_type": "stream",
     "text": [
      "F_k\n",
      "V_mz\n",
      "mu_ch\n",
      "mu_c\n",
      "mu_s\n",
      "kappa_k\n",
      "kappa_c\n",
      "F_mz\n",
      "V_k\n",
      "d_0\n",
      "mu_k\n"
     ]
    }
   ],
   "source": [
    "## Those are simple  `sympy.symbols`\n",
    "for param in parameters.keys():\n",
    "    print(param)"
   ]
  },
  {
   "cell_type": "markdown",
   "metadata": {},
   "source": [
    "## Spindle class instanciation\n",
    "\n"
   ]
  },
  {
   "cell_type": "code",
   "execution_count": 11,
   "metadata": {
    "collapsed": false
   },
   "outputs": [],
   "source": [
    "spindle = SympySpindle('3D_1_1', N=1, Mk=1)"
   ]
  },
  {
   "cell_type": "markdown",
   "metadata": {},
   "source": [
    "$$\\frac{d}{dt}\\left(d_{ij}\\frac{r_{ij}}{d_{ij}}\\right)$$"
   ]
  },
  {
   "cell_type": "code",
   "execution_count": null,
   "metadata": {
    "collapsed": true
   },
   "outputs": [],
   "source": []
  },
  {
   "cell_type": "code",
   "execution_count": 12,
   "metadata": {
    "collapsed": false
   },
   "outputs": [
    {
     "data": {
      "image/png": "[encoded data removed]",
      "text/latex": [
       "$$\\left [ vL, \\quad vx_{0A}, \\quad vy_{0A}, \\quad vz_{0A}, \\quad vx_{00A}, \\quad vy_{00A}, \\quad vz_{00A}, \\quad vx_{0B}, \\quad vy_{0B}, \\quad vz_{0B}, \\quad vx_{00B}, \\quad vy_{00B}, \\quad vz_{00B}\\right ]$$"
      ],
      "text/plain": [
       "[vL, vx_0A, vy_0A, vz_0A, vx_00A, vy_00A, vz_00A, vx_0B, vy_0B, vz_0B, vx_00B,\n",
       " vy_00B, vz_00B]"
      ]
     },
     "execution_count": 12,
     "metadata": {},
     "output_type": "execute_result"
    }
   ],
   "source": [
    "spindle.u_ind"
   ]
  },
  {
   "cell_type": "code",
   "execution_count": 13,
   "metadata": {
    "collapsed": false
   },
   "outputs": [
    {
     "data": {
      "image/png": "[encoded data removed]",
      "text/latex": [
       "$$\\left [ L, \\quad x_{0A}, \\quad y_{0A}, \\quad z_{0A}, \\quad x_{00A}, \\quad y_{00A}, \\quad z_{00A}, \\quad x_{0B}, \\quad y_{0B}, \\quad z_{0B}, \\quad x_{00B}, \\quad y_{00B}, \\quad z_{00B}\\right ]$$"
      ],
      "text/plain": [
       "[L, x_0A, y_0A, z_0A, x_00A, y_00A, z_00A, x_0B, y_0B, z_0B, x_00B, y_00B, z_0\n",
       "0B]"
      ]
     },
     "execution_count": 13,
     "metadata": {},
     "output_type": "execute_result"
    }
   ],
   "source": [
    "spindle.q_ind"
   ]
  },
  {
   "cell_type": "code",
   "execution_count": 14,
   "metadata": {
    "collapsed": false
   },
   "outputs": [],
   "source": [
    "ch = spindle.chromosomes[0]"
   ]
  },
  {
   "cell_type": "code",
   "execution_count": 15,
   "metadata": {
    "collapsed": false
   },
   "outputs": [],
   "source": [
    "ps = ch.cen_A.plugsites[0]"
   ]
  },
  {
   "cell_type": "code",
   "execution_count": 16,
   "metadata": {
    "collapsed": false
   },
   "outputs": [],
   "source": [
    "cen_A00 = spindle.points[3]"
   ]
  },
  {
   "cell_type": "code",
   "execution_count": 17,
   "metadata": {
    "collapsed": false
   },
   "outputs": [],
   "source": [
    "spindle.kanesmethod()"
   ]
  },
  {
   "cell_type": "code",
   "execution_count": 18,
   "metadata": {
    "collapsed": false,
    "scrolled": true
   },
   "outputs": [
    {
     "data": {
      "image/png": "[encoded data removed]",
      "text/latex": [
       "$$\\left[\\begin{matrix}\\lambda_{00A} & \\rho_{00A}\\\\\\lambda_{00B} & \\rho_{00B}\\end{matrix}\\right]$$"
      ],
      "text/plain": [
       "⎡λ_00A  ρ_00A⎤\n",
       "⎢            ⎥\n",
       "⎣λ_00B  ρ_00B⎦"
      ]
     },
     "execution_count": 18,
     "metadata": {},
     "output_type": "execute_result"
    }
   ],
   "source": [
    "spindle.attach_state"
   ]
  },
  {
   "cell_type": "code",
   "execution_count": 19,
   "metadata": {
    "collapsed": true
   },
   "outputs": [],
   "source": [
    "import sympy as sy\n",
    "from sympy import sympify, lambdify\n"
   ]
  },
  {
   "cell_type": "code",
   "execution_count": 20,
   "metadata": {
    "collapsed": false
   },
   "outputs": [],
   "source": [
    "amphitelic = {astate:val for astate, val in zip(spindle.attach_state, sy.Identity(2))}"
   ]
  },
  {
   "cell_type": "code",
   "execution_count": 21,
   "metadata": {
    "collapsed": true
   },
   "outputs": [],
   "source": [
    "passive_params = ['mu_s', 'mu_ch', 'mu_c','mu_k',\n",
    "                  'kappa_c', 'kappa_k', 'd_0']\n",
    "passive_zero = {parameters[name]:0 for name in passive_params}\n",
    "\n",
    "active_params = ['F_k', 'V_k', 'F_mz', 'V_mz']\n",
    "active_zero = {parameters[name]:0 for name in active_params}\n",
    "\n",
    "adim = {parameters['F_k']:1, parameters['V_k']:1}"
   ]
  },
  {
   "cell_type": "code",
   "execution_count": 22,
   "metadata": {
    "collapsed": false
   },
   "outputs": [],
   "source": [
    "A0 = spindle.A_uu.subs(active_zero).subs(adim)\n",
    "At = spindle.A_uu.subs(passive_zero).subs(adim)\n",
    "At_args = [parameters[name] for name in active_params] + list(spindle.attach_state)\n",
    "A0_args = [parameters[name] for name in passive_params]"
   ]
  },
  {
   "cell_type": "code",
   "execution_count": 23,
   "metadata": {
    "collapsed": true
   },
   "outputs": [],
   "source": [
    "import sympy as sy"
   ]
  },
  {
   "cell_type": "code",
   "execution_count": 24,
   "metadata": {
    "collapsed": false
   },
   "outputs": [
    {
     "data": {
      "image/png": "[encoded data removed]",
      "text/latex": [
       "$$\\left[\\begin{array}{ccccccccccccc}- \\frac{\\mu_{s}}{2} & 0 & 0 & 0 & 0 & 0 & 0 & 0 & 0 & 0 & 0 & 0 & 0\\\\0 & - \\mu_{c} u_{x0}^{2} - \\mu_{ch} - \\mu_{k} u_{x00A}^{2} & - \\mu_{c} u_{x0} u_{y0} - \\mu_{k} u_{x00A} u_{y00A} & - \\mu_{c} u_{x0} u_{z0} - \\mu_{k} u_{x00A} u_{z00A} & \\mu_{k} u_{x00A}^{2} & \\mu_{k} u_{x00A} u_{y00A} & \\mu_{k} u_{x00A} u_{z00A} & \\mu_{c} u_{x0}^{2} & \\mu_{c} u_{x0} u_{y0} & \\mu_{c} u_{x0} u_{z0} & 0 & 0 & 0\\\\0 & - \\mu_{c} u_{x0} u_{y0} - \\mu_{k} u_{x00A} u_{y00A} & - \\mu_{c} u_{y0}^{2} - \\mu_{ch} - \\mu_{k} u_{y00A}^{2} & - \\mu_{c} u_{y0} u_{z0} - \\mu_{k} u_{y00A} u_{z00A} & \\mu_{k} u_{x00A} u_{y00A} & \\mu_{k} u_{y00A}^{2} & \\mu_{k} u_{y00A} u_{z00A} & \\mu_{c} u_{x0} u_{y0} & \\mu_{c} u_{y0}^{2} & \\mu_{c} u_{y0} u_{z0} & 0 & 0 & 0\\\\0 & - \\mu_{c} u_{x0} u_{z0} - \\mu_{k} u_{x00A} u_{z00A} & - \\mu_{c} u_{y0} u_{z0} - \\mu_{k} u_{y00A} u_{z00A} & - \\mu_{c} u_{z0}^{2} - \\mu_{ch} - \\mu_{k} u_{z00A}^{2} & \\mu_{k} u_{x00A} u_{z00A} & \\mu_{k} u_{y00A} u_{z00A} & \\mu_{k} u_{z00A}^{2} & \\mu_{c} u_{x0} u_{z0} & \\mu_{c} u_{y0} u_{z0} & \\mu_{c} u_{z0}^{2} & 0 & 0 & 0\\\\0 & \\mu_{k} u_{x00A}^{2} & \\mu_{k} u_{x00A} u_{y00A} & \\mu_{k} u_{x00A} u_{z00A} & - \\mu_{k} u_{x00A}^{2} & - \\mu_{k} u_{x00A} u_{y00A} & - \\mu_{k} u_{x00A} u_{z00A} & 0 & 0 & 0 & 0 & 0 & 0\\\\0 & \\mu_{k} u_{x00A} u_{y00A} & \\mu_{k} u_{y00A}^{2} & \\mu_{k} u_{y00A} u_{z00A} & - \\mu_{k} u_{x00A} u_{y00A} & - \\mu_{k} u_{y00A}^{2} & - \\mu_{k} u_{y00A} u_{z00A} & 0 & 0 & 0 & 0 & 0 & 0\\\\0 & \\mu_{k} u_{x00A} u_{z00A} & \\mu_{k} u_{y00A} u_{z00A} & \\mu_{k} u_{z00A}^{2} & - \\mu_{k} u_{x00A} u_{z00A} & - \\mu_{k} u_{y00A} u_{z00A} & - \\mu_{k} u_{z00A}^{2} & 0 & 0 & 0 & 0 & 0 & 0\\\\0 & \\mu_{c} u_{x0}^{2} & \\mu_{c} u_{x0} u_{y0} & \\mu_{c} u_{x0} u_{z0} & 0 & 0 & 0 & - \\mu_{c} u_{x0}^{2} - \\mu_{ch} - \\mu_{k} u_{x00B}^{2} & - \\mu_{c} u_{x0} u_{y0} - \\mu_{k} u_{x00B} u_{y00B} & - \\mu_{c} u_{x0} u_{z0} - \\mu_{k} u_{x00B} u_{z00B} & \\mu_{k} u_{x00B}^{2} & \\mu_{k} u_{x00B} u_{y00B} & \\mu_{k} u_{x00B} u_{z00B}\\\\0 & \\mu_{c} u_{x0} u_{y0} & \\mu_{c} u_{y0}^{2} & \\mu_{c} u_{y0} u_{z0} & 0 & 0 & 0 & - \\mu_{c} u_{x0} u_{y0} - \\mu_{k} u_{x00B} u_{y00B} & - \\mu_{c} u_{y0}^{2} - \\mu_{ch} - \\mu_{k} u_{y00B}^{2} & - \\mu_{c} u_{y0} u_{z0} - \\mu_{k} u_{y00B} u_{z00B} & \\mu_{k} u_{x00B} u_{y00B} & \\mu_{k} u_{y00B}^{2} & \\mu_{k} u_{y00B} u_{z00B}\\\\0 & \\mu_{c} u_{x0} u_{z0} & \\mu_{c} u_{y0} u_{z0} & \\mu_{c} u_{z0}^{2} & 0 & 0 & 0 & - \\mu_{c} u_{x0} u_{z0} - \\mu_{k} u_{x00B} u_{z00B} & - \\mu_{c} u_{y0} u_{z0} - \\mu_{k} u_{y00B} u_{z00B} & - \\mu_{c} u_{z0}^{2} - \\mu_{ch} - \\mu_{k} u_{z00B}^{2} & \\mu_{k} u_{x00B} u_{z00B} & \\mu_{k} u_{y00B} u_{z00B} & \\mu_{k} u_{z00B}^{2}\\\\0 & 0 & 0 & 0 & 0 & 0 & 0 & \\mu_{k} u_{x00B}^{2} & \\mu_{k} u_{x00B} u_{y00B} & \\mu_{k} u_{x00B} u_{z00B} & - \\mu_{k} u_{x00B}^{2} & - \\mu_{k} u_{x00B} u_{y00B} & - \\mu_{k} u_{x00B} u_{z00B}\\\\0 & 0 & 0 & 0 & 0 & 0 & 0 & \\mu_{k} u_{x00B} u_{y00B} & \\mu_{k} u_{y00B}^{2} & \\mu_{k} u_{y00B} u_{z00B} & - \\mu_{k} u_{x00B} u_{y00B} & - \\mu_{k} u_{y00B}^{2} & - \\mu_{k} u_{y00B} u_{z00B}\\\\0 & 0 & 0 & 0 & 0 & 0 & 0 & \\mu_{k} u_{x00B} u_{z00B} & \\mu_{k} u_{y00B} u_{z00B} & \\mu_{k} u_{z00B}^{2} & - \\mu_{k} u_{x00B} u_{z00B} & - \\mu_{k} u_{y00B} u_{z00B} & - \\mu_{k} u_{z00B}^{2}\\end{array}\\right]$$"
      ],
      "text/plain": [
       "⎡-μ_s                                                                         \n",
       "⎢─────                  0                                  0                  \n",
       "⎢  2                                                                          \n",
       "⎢                                                                             \n",
       "⎢                 2                    2                                      \n",
       "⎢  0     - μ_c⋅uₓ₀  - μ_ch - μ_k⋅u_x00A    -μ_c⋅uₓ₀⋅u_y0 - μ_k⋅u_x00A⋅u_y00A  \n",
       "⎢                                                                             \n",
       "⎢                                                     2                    2  \n",
       "⎢  0    -μ_c⋅uₓ₀⋅u_y0 - μ_k⋅u_x00A⋅u_y00A   - μ_c⋅u_y0  - μ_ch - μ_k⋅u_y00A   \n",
       "⎢                                                                             \n",
       "⎢                                                                             \n",
       "⎢  0    -μ_c⋅uₓ₀⋅u_z0 - μ_k⋅u_x00A⋅u_z00A  -μ_c⋅u_y0⋅u_z0 - μ_k⋅u_y00A⋅u_z00A \n",
       "⎢                                                                             \n",
       "⎢                            2                                                \n",
       "⎢  0               μ_k⋅u_x00A                      μ_k⋅u_x00A⋅u_y00A          \n",
       "⎢                                                                             \n",
       "⎢                                                               2             \n",
       "⎢  0            μ_k⋅u_x00A⋅u_y00A                     μ_k⋅u_y00A              \n",
       "⎢                                                                             \n",
       "⎢                                                                             \n",
       "⎢  0            μ_k⋅u_x00A⋅u_z00A                  μ_k⋅u_y00A⋅u_z00A          \n",
       "⎢                                                                             \n",
       "⎢                          2                                                  \n",
       "⎢  0                μ_c⋅uₓ₀                           μ_c⋅uₓ₀⋅u_y0            \n",
       "⎢                                                                             \n",
       "⎢                                                              2              \n",
       "⎢  0              μ_c⋅uₓ₀⋅u_y0                         μ_c⋅u_y0               \n",
       "⎢                                                                             \n",
       "⎢                                                                             \n",
       "⎢  0              μ_c⋅uₓ₀⋅u_z0                       μ_c⋅u_y0⋅u_z0            \n",
       "⎢                                                                             \n",
       "⎢                                                                             \n",
       "⎢  0                    0                                  0                  \n",
       "⎢                                                                             \n",
       "⎢                                                                             \n",
       "⎢  0                    0                                  0                  \n",
       "⎢                                                                             \n",
       "⎢                                                                             \n",
       "⎣  0                    0                                  0                  \n",
       "\n",
       "                                                                              \n",
       "                 0                           0                   0            \n",
       "                                                                              \n",
       "                                                                              \n",
       "                                                  2                           \n",
       " -μ_c⋅uₓ₀⋅u_z0 - μ_k⋅u_x00A⋅u_z00A      μ_k⋅u_x00A       μ_k⋅u_x00A⋅u_y00A   μ\n",
       "                                                                              \n",
       "                                                                      2       \n",
       " -μ_c⋅u_y0⋅u_z0 - μ_k⋅u_y00A⋅u_z00A  μ_k⋅u_x00A⋅u_y00A      μ_k⋅u_y00A       μ\n",
       "                                                                              \n",
       "            2                    2                                            \n",
       "  - μ_c⋅u_z0  - μ_ch - μ_k⋅u_z00A    μ_k⋅u_x00A⋅u_z00A   μ_k⋅u_y00A⋅u_z00A    \n",
       "                                                                              \n",
       "                                                   2                          \n",
       "         μ_k⋅u_x00A⋅u_z00A              -μ_k⋅u_x00A      -μ_k⋅u_x00A⋅u_y00A  -\n",
       "                                                                              \n",
       "                                                                       2      \n",
       "         μ_k⋅u_y00A⋅u_z00A           -μ_k⋅u_x00A⋅u_y00A     -μ_k⋅u_y00A      -\n",
       "                                                                              \n",
       "                      2                                                       \n",
       "            μ_k⋅u_z00A               -μ_k⋅u_x00A⋅u_z00A  -μ_k⋅u_y00A⋅u_z00A   \n",
       "                                                                              \n",
       "                                                                              \n",
       "            μ_c⋅uₓ₀⋅u_z0                     0                   0            \n",
       "                                                                              \n",
       "                                                                              \n",
       "           μ_c⋅u_y0⋅u_z0                     0                   0            \n",
       "                                                                              \n",
       "                     2                                                        \n",
       "             μ_c⋅u_z0                        0                   0            \n",
       "                                                                              \n",
       "                                                                              \n",
       "                 0                           0                   0            \n",
       "                                                                              \n",
       "                                                                              \n",
       "                 0                           0                   0            \n",
       "                                                                              \n",
       "                                                                              \n",
       "                 0                           0                   0            \n",
       "\n",
       "                                                                              \n",
       "       0                           0                                  0       \n",
       "                                                                              \n",
       "                                                                              \n",
       "                                      2                                       \n",
       "_k⋅u_x00A⋅u_z00A               μ_c⋅uₓ₀                           μ_c⋅uₓ₀⋅u_y0 \n",
       "                                                                              \n",
       "                                                                          2   \n",
       "_k⋅u_y00A⋅u_z00A             μ_c⋅uₓ₀⋅u_y0                         μ_c⋅u_y0    \n",
       "                                                                              \n",
       "            2                                                                 \n",
       "  μ_k⋅u_z00A                 μ_c⋅uₓ₀⋅u_z0                       μ_c⋅u_y0⋅u_z0 \n",
       "                                                                              \n",
       "                                                                              \n",
       "μ_k⋅u_x00A⋅u_z00A                  0                                  0       \n",
       "                                                                              \n",
       "                                                                              \n",
       "μ_k⋅u_y00A⋅u_z00A                  0                                  0       \n",
       "                                                                              \n",
       "             2                                                                \n",
       "  -μ_k⋅u_z00A                      0                                  0       \n",
       "                                                                              \n",
       "                             2                    2                           \n",
       "       0            - μ_c⋅uₓ₀  - μ_ch - μ_k⋅u_x00B    -μ_c⋅uₓ₀⋅u_y0 - μ_k⋅u_x0\n",
       "                                                                              \n",
       "                                                                 2            \n",
       "       0           -μ_c⋅uₓ₀⋅u_y0 - μ_k⋅u_x00B⋅u_y00B   - μ_c⋅u_y0  - μ_ch - μ_\n",
       "                                                                              \n",
       "                                                                              \n",
       "       0           -μ_c⋅uₓ₀⋅u_z0 - μ_k⋅u_x00B⋅u_z00B  -μ_c⋅u_y0⋅u_z0 - μ_k⋅u_y\n",
       "                                                                              \n",
       "                                        2                                     \n",
       "       0                      μ_k⋅u_x00B                      μ_k⋅u_x00B⋅u_y00\n",
       "                                                                              \n",
       "                                                                           2  \n",
       "       0                   μ_k⋅u_x00B⋅u_y00B                     μ_k⋅u_y00B   \n",
       "                                                                              \n",
       "                                                                              \n",
       "       0                   μ_k⋅u_x00B⋅u_z00B                  μ_k⋅u_y00B⋅u_z00\n",
       "\n",
       "                                                                              \n",
       "                            0                           0                   0 \n",
       "                                                                              \n",
       "                                                                              \n",
       "                                                                              \n",
       "                       μ_c⋅uₓ₀⋅u_z0                     0                   0 \n",
       "                                                                              \n",
       "                                                                              \n",
       "                      μ_c⋅u_y0⋅u_z0                     0                   0 \n",
       "                                                                              \n",
       "                                2                                             \n",
       "                        μ_c⋅u_z0                        0                   0 \n",
       "                                                                              \n",
       "                                                                              \n",
       "                            0                           0                   0 \n",
       "                                                                              \n",
       "                                                                              \n",
       "                            0                           0                   0 \n",
       "                                                                              \n",
       "                                                                              \n",
       "                            0                           0                   0 \n",
       "                                                                              \n",
       "                                                             2                \n",
       "0B⋅u_y00B   -μ_c⋅uₓ₀⋅u_z0 - μ_k⋅u_x00B⋅u_z00B      μ_k⋅u_x00B       μ_k⋅u_x00B\n",
       "                                                                              \n",
       "        2                                                                     \n",
       "k⋅u_y00B    -μ_c⋅u_y0⋅u_z0 - μ_k⋅u_y00B⋅u_z00B  μ_k⋅u_x00B⋅u_y00B      μ_k⋅u_y\n",
       "                                                                              \n",
       "                       2                    2                                 \n",
       "00B⋅u_z00B   - μ_c⋅u_z0  - μ_ch - μ_k⋅u_z00B    μ_k⋅u_x00B⋅u_z00B   μ_k⋅u_y00B\n",
       "                                                                              \n",
       "                                                              2               \n",
       "B                   μ_k⋅u_x00B⋅u_z00B              -μ_k⋅u_x00B      -μ_k⋅u_x00\n",
       "                                                                              \n",
       "                                                                              \n",
       "                    μ_k⋅u_y00B⋅u_z00B           -μ_k⋅u_x00B⋅u_y00B     -μ_k⋅u_\n",
       "                                                                              \n",
       "                                 2                                            \n",
       "B                      μ_k⋅u_z00B               -μ_k⋅u_x00B⋅u_z00B  -μ_k⋅u_y00\n",
       "\n",
       "                            ⎤\n",
       "                  0         ⎥\n",
       "                            ⎥\n",
       "                            ⎥\n",
       "                            ⎥\n",
       "                  0         ⎥\n",
       "                            ⎥\n",
       "                            ⎥\n",
       "                  0         ⎥\n",
       "                            ⎥\n",
       "                            ⎥\n",
       "                  0         ⎥\n",
       "                            ⎥\n",
       "                            ⎥\n",
       "                  0         ⎥\n",
       "                            ⎥\n",
       "                            ⎥\n",
       "                  0         ⎥\n",
       "                            ⎥\n",
       "                            ⎥\n",
       "                  0         ⎥\n",
       "                            ⎥\n",
       "                            ⎥\n",
       "⋅u_y00B   μ_k⋅u_x00B⋅u_z00B ⎥\n",
       "                            ⎥\n",
       "   2                        ⎥\n",
       "00B       μ_k⋅u_y00B⋅u_z00B ⎥\n",
       "                            ⎥\n",
       "                       2    ⎥\n",
       "⋅u_z00B      μ_k⋅u_z00B     ⎥\n",
       "                            ⎥\n",
       "                            ⎥\n",
       "B⋅u_y00B  -μ_k⋅u_x00B⋅u_z00B⎥\n",
       "                            ⎥\n",
       "    2                       ⎥\n",
       "y00B      -μ_k⋅u_y00B⋅u_z00B⎥\n",
       "                            ⎥\n",
       "                        2   ⎥\n",
       "B⋅u_z00B     -μ_k⋅u_z00B    ⎦"
      ]
     },
     "execution_count": 24,
     "metadata": {},
     "output_type": "execute_result"
    }
   ],
   "source": [
    "A0"
   ]
  },
  {
   "cell_type": "code",
   "execution_count": 25,
   "metadata": {
    "collapsed": false
   },
   "outputs": [
    {
     "data": {
      "image/png": "[encoded data removed]",
      "text/latex": [
       "$$\\frac{\\lambda_{00A} uL_{x00A}}{2} uL_{y00A} - \\frac{\\rho_{00A} uR_{x00A}}{2} uR_{y00A}$$"
      ],
      "text/plain": [
       "λ_00A⋅uL_x00A⋅uL_y00A   ρ_00A⋅uR_x00A⋅uR_y00A\n",
       "───────────────────── - ─────────────────────\n",
       "          2                       2          "
      ]
     },
     "execution_count": 25,
     "metadata": {},
     "output_type": "execute_result"
    }
   ],
   "source": [
    "At[5]"
   ]
  },
  {
   "cell_type": "code",
   "execution_count": 30,
   "metadata": {
    "collapsed": false
   },
   "outputs": [],
   "source": [
    "speed_0 = {u:0 for u in spindle.u_ind}"
   ]
  },
  {
   "cell_type": "code",
   "execution_count": 31,
   "metadata": {
    "collapsed": true
   },
   "outputs": [],
   "source": [
    "B = spindle.eoms.subs(speed_0)"
   ]
  },
  {
   "cell_type": "code",
   "execution_count": 35,
   "metadata": {
    "collapsed": false
   },
   "outputs": [
    {
     "data": {
      "image/png": "[encoded data removed]",
      "text/latex": [
       "$$d_{00A} \\kappa_{k} u_{x00A} + \\mu_{c} u_{x0} \\left(u_{x0} \\left(- vx_{0A} + vx_{0B}\\right) + u_{y0} \\left(- vy_{0A} + vy_{0B}\\right) + u_{z0} \\left(- vz_{0A} + vz_{0B}\\right)\\right) - \\mu_{ch} vx_{0A} + \\mu_{k} u_{x00A} \\left(u_{x00A} \\left(vx_{00A} - vx_{0A}\\right) + u_{y00A} \\left(vy_{00A} - vy_{0A}\\right) + u_{z00A} \\left(vz_{00A} - vz_{0A}\\right)\\right)$$"
      ],
      "text/plain": [
       "d_00A⋅κ_k⋅u_x00A + μ_c⋅uₓ₀⋅(uₓ₀⋅(-vx_0A + vx_0B) + u_y0⋅(-vy_0A + vy_0B) + u_z\n",
       "0⋅(-vz_0A + vz_0B)) - μ_ch⋅vx_0A + μ_k⋅u_x00A⋅(u_x00A⋅(vx_00A - vx_0A) + u_y00\n",
       "A⋅(vy_00A - vy_0A) + u_z00A⋅(vz_00A - vz_0A))"
      ]
     },
     "execution_count": 35,
     "metadata": {},
     "output_type": "execute_result"
    }
   ],
   "source": [
    "spindle.eoms[1]"
   ]
  },
  {
   "cell_type": "code",
   "execution_count": 47,
   "metadata": {
    "collapsed": false
   },
   "outputs": [
    {
     "data": {
      "image/png": "[encoded data removed]",
      "text/latex": [
       "$$\\left [ F_{k}, \\quad V_{k}, \\quad F_{mz}, \\quad V_{mz}, \\quad \\lambda_{00A}, \\quad \\rho_{00A}, \\quad \\lambda_{00B}, \\quad \\rho_{00B}\\right ]$$"
      ],
      "text/plain": [
       "[F_k, V_k, F_mz, V_mz, λ_00A, ρ_00A, λ_00B, ρ_00B]"
      ]
     },
     "execution_count": 47,
     "metadata": {},
     "output_type": "execute_result"
    }
   ],
   "source": [
    "At_args"
   ]
  },
  {
   "cell_type": "code",
   "execution_count": 18,
   "metadata": {
    "collapsed": false
   },
   "outputs": [
    {
     "data": {
      "text/plain": [
       "[L, x_0, y_0, theta_0, l_0, d_00^A, d_00^B]"
      ]
     },
     "execution_count": 18,
     "metadata": {},
     "output_type": "execute_result"
    }
   ],
   "source": [
    "spindle.q_ind"
   ]
  },
  {
   "cell_type": "code",
   "execution_count": 39,
   "metadata": {
    "collapsed": true
   },
   "outputs": [],
   "source": [
    "import pandas as pd\n",
    "import numpy as np"
   ]
  },
  {
   "cell_type": "code",
   "execution_count": 37,
   "metadata": {
    "collapsed": false
   },
   "outputs": [
    {
     "data": {
      "text/plain": [
       "{'F_k': F_k,\n",
       " 'F_mz': F_mz,\n",
       " 'V_k': V_k,\n",
       " 'V_mz': V_mz,\n",
       " 'd_0': d_0,\n",
       " 'kappa_c': kappa_c,\n",
       " 'kappa_k': kappa_k,\n",
       " 'mu_c': mu_c,\n",
       " 'mu_ch': mu_ch,\n",
       " 'mu_k': mu_k,\n",
       " 'mu_s': mu_s}"
      ]
     },
     "execution_count": 37,
     "metadata": {},
     "output_type": "execute_result"
    }
   ],
   "source": [
    "parameters"
   ]
  },
  {
   "cell_type": "code",
   "execution_count": 56,
   "metadata": {
    "collapsed": false
   },
   "outputs": [],
   "source": [
    "coords = ['x', 'y', 'z']\n",
    "speed_coords = ['v'+c for c in coords]\n",
    "point_cols = coords + speed_coords\n",
    "\n",
    "class Structure:\n",
    "    \n",
    "    def __init__(self, name):\n",
    "        self.name = name\n",
    "        self.points = {}\n",
    "        self.point_df = pd.DataFrame(columns=point_cols)\n",
    "\n",
    "    def add_point(self, idx, pos0=None, speed0=None):\n",
    "        \n",
    "        if pos0 is None:\n",
    "            pos0 = np.zeros(len(coords))\n",
    "        if speed0 is None:\n",
    "            speed0 = np.zeros(len(coords))\n",
    "        \n",
    "        state = np.concatenate((pos0, speed0)).reshape((1, len(coords)*2))\n",
    "        self.point_df = self.point_df.append(pd.DataFrame(index=[idx,],\n",
    "                                                          data=state,\n",
    "                                                          columns=point_cols))\n",
    "        p = Point(idx, self)\n",
    "        self.points[idx] = p\n",
    "        return p\n",
    "\n",
    "class Point:\n",
    "    \n",
    "    def __init__(self, idx, structure):\n",
    "        \n",
    "        self.idx = idx\n",
    "        self.structure = structure\n",
    "        \n",
    "    @property\n",
    "    def pos(self):\n",
    "        return self.structure.point_df.loc[self.idx, coords]\n",
    "\n",
    "    @property\n",
    "    def speed(self):\n",
    "        return self.structure.point_df.loc[self.idx, speed_coords]\n",
    "    \n",
    "            \n",
    "class Link:\n",
    "    \n",
    "    def __init__(self, point_i, point_j, structure):\n",
    "        self.idx = (point_i.idx, point_j.idx)\n",
    "\n",
    "\n",
    "        \n",
    "spindle = Structure('df_spindle_1_1')\n",
    "\n",
    "        \n",
    "spbL = spindle.add_point(0, [-1, 0, 0])\n",
    "spbR = spindle.add_point(1, [1, 0, 0])\n",
    "cenA = spindle.add_point(2, [-0.2, 0, 0])\n",
    "cenB = spindle.add_point(3, [0.2, 0, 0])\n",
    "\n",
    "psA = spindle.add_point(4, [-0.3, 0, 0])\n",
    "psB = spindle.add_point(5, [0.3, 0, 0])\n",
    "\n",
    "\n"
   ]
  },
  {
   "cell_type": "code",
   "execution_count": 58,
   "metadata": {
    "collapsed": false
   },
   "outputs": [
    {
     "data": {
      "text/plain": [
       "vx    0\n",
       "vy    0\n",
       "vz    0\n",
       "Name: 0, dtype: float64"
      ]
     },
     "execution_count": 58,
     "metadata": {},
     "output_type": "execute_result"
    }
   ],
   "source": [
    "spbL.speed"
   ]
  },
  {
   "cell_type": "code",
   "execution_count": 48,
   "metadata": {
    "collapsed": false
   },
   "outputs": [
    {
     "data": {
      "text/html": [
       "<div>\n",
       "<table border=\"1\" class=\"dataframe\">\n",
       "  <thead>\n",
       "    <tr style=\"text-align: right;\">\n",
       "      <th></th>\n",
       "      <th>x</th>\n",
       "      <th>y</th>\n",
       "      <th>z</th>\n",
       "      <th>vx</th>\n",
       "      <th>vy</th>\n",
       "      <th>vz</th>\n",
       "    </tr>\n",
       "    <tr>\n",
       "      <th>idx</th>\n",
       "      <th></th>\n",
       "      <th></th>\n",
       "      <th></th>\n",
       "      <th></th>\n",
       "      <th></th>\n",
       "      <th></th>\n",
       "    </tr>\n",
       "  </thead>\n",
       "  <tbody>\n",
       "    <tr>\n",
       "      <th>0</th>\n",
       "      <td>-1</td>\n",
       "      <td>0</td>\n",
       "      <td>0</td>\n",
       "      <td>0</td>\n",
       "      <td>0</td>\n",
       "      <td>0</td>\n",
       "    </tr>\n",
       "    <tr>\n",
       "      <th>1</th>\n",
       "      <td>1</td>\n",
       "      <td>0</td>\n",
       "      <td>0</td>\n",
       "      <td>0</td>\n",
       "      <td>0</td>\n",
       "      <td>0</td>\n",
       "    </tr>\n",
       "    <tr>\n",
       "      <th>2</th>\n",
       "      <td>-0.2</td>\n",
       "      <td>0</td>\n",
       "      <td>0</td>\n",
       "      <td>0</td>\n",
       "      <td>0</td>\n",
       "      <td>0</td>\n",
       "    </tr>\n",
       "    <tr>\n",
       "      <th>3</th>\n",
       "      <td>0.2</td>\n",
       "      <td>0</td>\n",
       "      <td>0</td>\n",
       "      <td>0</td>\n",
       "      <td>0</td>\n",
       "      <td>0</td>\n",
       "    </tr>\n",
       "    <tr>\n",
       "      <th>4</th>\n",
       "      <td>-0.3</td>\n",
       "      <td>0</td>\n",
       "      <td>0</td>\n",
       "      <td>0</td>\n",
       "      <td>0</td>\n",
       "      <td>0</td>\n",
       "    </tr>\n",
       "    <tr>\n",
       "      <th>5</th>\n",
       "      <td>0.3</td>\n",
       "      <td>0</td>\n",
       "      <td>0</td>\n",
       "      <td>0</td>\n",
       "      <td>0</td>\n",
       "      <td>0</td>\n",
       "    </tr>\n",
       "    <tr>\n",
       "      <th>6</th>\n",
       "      <td>0</td>\n",
       "      <td>0</td>\n",
       "      <td>0</td>\n",
       "      <td>0</td>\n",
       "      <td>0</td>\n",
       "      <td>0</td>\n",
       "    </tr>\n",
       "  </tbody>\n",
       "</table>\n",
       "</div>"
      ],
      "text/plain": [
       "       x  y  z vx vy vz\n",
       "idx                    \n",
       "0     -1  0  0  0  0  0\n",
       "1      1  0  0  0  0  0\n",
       "2   -0.2  0  0  0  0  0\n",
       "3    0.2  0  0  0  0  0\n",
       "4   -0.3  0  0  0  0  0\n",
       "5    0.3  0  0  0  0  0\n",
       "6      0  0  0  0  0  0"
      ]
     },
     "execution_count": 48,
     "metadata": {},
     "output_type": "execute_result"
    }
   ],
   "source": [
    "\n",
    "point_df.append()"
   ]
  },
  {
   "cell_type": "code",
   "execution_count": 28,
   "metadata": {
    "collapsed": false
   },
   "outputs": [],
   "source": [
    "\n",
    "\n",
    "At_np = lambdify(At_args, At, 'numpy', dummify=False)\n",
    "A0_np = lambdify(A0_args, A0, 'numpy', dummify=False)"
   ]
  },
  {
   "cell_type": "code",
   "execution_count": 21,
   "metadata": {
    "collapsed": true
   },
   "outputs": [],
   "source": [
    "import numpy as np"
   ]
  },
  {
   "cell_type": "code",
   "execution_count": 24,
   "metadata": {
    "collapsed": false
   },
   "outputs": [
    {
     "data": {
      "text/plain": [
       "5.19615242271"
      ]
     },
     "execution_count": 24,
     "metadata": {},
     "output_type": "execute_result"
    }
   ],
   "source": [
    "np.linalg.norm(np.array((1, 2, 3)) - np.array((4, 5, 6)))"
   ]
  },
  {
   "cell_type": "code",
   "execution_count": 44,
   "metadata": {
    "collapsed": false
   },
   "outputs": [
    {
     "data": {
      "text/plain": [
       "<function numpy.<lambda>>"
      ]
     },
     "execution_count": 44,
     "metadata": {},
     "output_type": "execute_result"
    }
   ],
   "source": [
    "A0_np()"
   ]
  },
  {
   "cell_type": "code",
   "execution_count": 28,
   "metadata": {
    "collapsed": false
   },
   "outputs": [
    {
     "data": {
      "text/plain": [
       "matrix([[-5.5,  0. ,  0. ,  0. , -0.5,  0. ,  0. ,  0. ,  0. ,  0. , -0.5,\n",
       "          0. ,  0. ],\n",
       "        [ 0. ,  0. ,  0. ,  0. ,  0. ,  0. ,  0. ,  0. ,  0. ,  0. ,  0. ,\n",
       "          0. ,  0. ],\n",
       "        [ 0. ,  0. ,  0. ,  0. ,  0. ,  0. ,  0. ,  0. ,  0. ,  0. ,  0. ,\n",
       "          0. ,  0. ],\n",
       "        [ 0. ,  0. ,  0. ,  0. ,  0. ,  0. ,  0. ,  0. ,  0. ,  0. ,  0. ,\n",
       "          0. ,  0. ],\n",
       "        [-0.5,  0. ,  0. ,  0. , -1. ,  0. ,  0. ,  0. ,  0. ,  0. ,  0. ,\n",
       "          0. ,  0. ],\n",
       "        [ 0. ,  0. ,  0. ,  0. ,  0. , -1. ,  0. ,  0. ,  0. ,  0. ,  0. ,\n",
       "          0. ,  0. ],\n",
       "        [ 0. ,  0. ,  0. ,  0. ,  0. ,  0. , -1. ,  0. ,  0. ,  0. ,  0. ,\n",
       "          0. ,  0. ],\n",
       "        [ 0. ,  0. ,  0. ,  0. ,  0. ,  0. ,  0. ,  0. ,  0. ,  0. ,  0. ,\n",
       "          0. ,  0. ],\n",
       "        [ 0. ,  0. ,  0. ,  0. ,  0. ,  0. ,  0. ,  0. ,  0. ,  0. ,  0. ,\n",
       "          0. ,  0. ],\n",
       "        [ 0. ,  0. ,  0. ,  0. ,  0. ,  0. ,  0. ,  0. ,  0. ,  0. ,  0. ,\n",
       "          0. ,  0. ],\n",
       "        [-0.5,  0. ,  0. ,  0. ,  0. ,  0. ,  0. ,  0. ,  0. ,  0. , -1. ,\n",
       "          0. ,  0. ],\n",
       "        [ 0. ,  0. ,  0. ,  0. ,  0. ,  0. ,  0. ,  0. ,  0. ,  0. ,  0. ,\n",
       "         -1. ,  0. ],\n",
       "        [ 0. ,  0. ,  0. ,  0. ,  0. ,  0. ,  0. ,  0. ,  0. ,  0. ,  0. ,\n",
       "          0. , -1. ]])"
      ]
     },
     "execution_count": 28,
     "metadata": {},
     "output_type": "execute_result"
    }
   ],
   "source": [
    "At_np(1, 1, 5, 1, 1, 0, 1, 0)"
   ]
  },
  {
   "cell_type": "code",
   "execution_count": 36,
   "metadata": {
    "collapsed": false
   },
   "outputs": [
    {
     "data": {
      "text/plain": [
       "[L, x_0A, y_0A, z_0A, x_00A, y_00A, z_00A, x_0B, y_0B, z_0B, x_00B, y_00B, z_00B]"
      ]
     },
     "execution_count": 36,
     "metadata": {},
     "output_type": "execute_result"
    }
   ],
   "source": [
    "spindle.q_ind"
   ]
  },
  {
   "cell_type": "code",
   "execution_count": 35,
   "metadata": {
    "collapsed": false
   },
   "outputs": [
    {
     "data": {
      "text/plain": [
       "- mu_c*(-vx_0A + vx_0B)*S.x - mu_c*(-vy_0A + vy_0B)*S.y - mu_c*(-vz_0A + vz_0B)*S.z"
      ]
     },
     "execution_count": 35,
     "metadata": {},
     "output_type": "execute_result"
    }
   ],
   "source": [
    "spindle.KM.forcelist[-1][1]"
   ]
  },
  {
   "cell_type": "code",
   "execution_count": 37,
   "metadata": {
    "collapsed": false
   },
   "outputs": [
    {
     "data": {
      "text/plain": [
       "Matrix([\n",
       "[-mu_s/2,                    0,                    0,                    0,     0,     0,     0,                    0,                    0,                    0,     0,     0,     0],\n",
       "[      0, -mu_c - mu_ch - mu_k,                    0,                    0,  mu_k,     0,     0,                 mu_c,                    0,                    0,     0,     0,     0],\n",
       "[      0,                    0, -mu_c - mu_ch - mu_k,                    0,     0,  mu_k,     0,                    0,                 mu_c,                    0,     0,     0,     0],\n",
       "[      0,                    0,                    0, -mu_c - mu_ch - mu_k,     0,     0,  mu_k,                    0,                    0,                 mu_c,     0,     0,     0],\n",
       "[      0,                 mu_k,                    0,                    0, -mu_k,     0,     0,                    0,                    0,                    0,     0,     0,     0],\n",
       "[      0,                    0,                 mu_k,                    0,     0, -mu_k,     0,                    0,                    0,                    0,     0,     0,     0],\n",
       "[      0,                    0,                    0,                 mu_k,     0,     0, -mu_k,                    0,                    0,                    0,     0,     0,     0],\n",
       "[      0,                 mu_c,                    0,                    0,     0,     0,     0, -mu_c - mu_ch - mu_k,                    0,                    0,  mu_k,     0,     0],\n",
       "[      0,                    0,                 mu_c,                    0,     0,     0,     0,                    0, -mu_c - mu_ch - mu_k,                    0,     0,  mu_k,     0],\n",
       "[      0,                    0,                    0,                 mu_c,     0,     0,     0,                    0,                    0, -mu_c - mu_ch - mu_k,     0,     0,  mu_k],\n",
       "[      0,                    0,                    0,                    0,     0,     0,     0,                 mu_k,                    0,                    0, -mu_k,     0,     0],\n",
       "[      0,                    0,                    0,                    0,     0,     0,     0,                    0,                 mu_k,                    0,     0, -mu_k,     0],\n",
       "[      0,                    0,                    0,                    0,     0,     0,     0,                    0,                    0,                 mu_k,     0,     0, -mu_k]])"
      ]
     },
     "execution_count": 37,
     "metadata": {},
     "output_type": "execute_result"
    }
   ],
   "source": [
    "A0"
   ]
  },
  {
   "cell_type": "code",
   "execution_count": 43,
   "metadata": {
    "collapsed": false
   },
   "outputs": [],
   "source": [
    "from kt_simul.io.parameters_io import ParamTree\n",
    "from kt_simul.core.simul_spindle import Metaphase"
   ]
  },
  {
   "cell_type": "code",
   "execution_count": null,
   "metadata": {
    "collapsed": true
   },
   "outputs": [],
   "source": []
  }
 ],
 "metadata": {
  "kernelspec": {
   "display_name": "Python 3",
   "language": "python",
   "name": "python3"
  },
  "language_info": {
   "codemirror_mode": {
    "name": "ipython",
    "version": 3
   },
   "file_extension": ".py",
   "mimetype": "text/x-python",
   "name": "python",
   "nbconvert_exporter": "python",
   "pygments_lexer": "ipython3",
   "version": "3.4.3"
  }
 },
 "nbformat": 4,
 "nbformat_minor": 0
}
