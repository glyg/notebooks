{
 "metadata": {
  "name": "",
  "signature": "sha256:334e3300af00c8d9ee940dfd2635813227e2afc64a58a5f29e4c4b3c1888aacf"
 },
 "nbformat": 3,
 "nbformat_minor": 0,
 "worksheets": [
  {
   "cells": [
    {
     "cell_type": "code",
     "collapsed": false,
     "input": [
      "import numpy as np\n",
      "import pandas as pd\n",
      "import matplotlib.pyplot as plt\n",
      "import scipy as sc"
     ],
     "language": "python",
     "metadata": {},
     "outputs": [],
     "prompt_number": 1
    },
    {
     "cell_type": "code",
     "collapsed": false,
     "input": [
      "with pd.get_store('results_simulations_hadim.h5') as store:\n",
      "    results = store['data']"
     ],
     "language": "python",
     "metadata": {},
     "outputs": [],
     "prompt_number": 2
    },
    {
     "cell_type": "code",
     "collapsed": false,
     "input": [
      "results.columns"
     ],
     "language": "python",
     "metadata": {},
     "outputs": [
      {
       "metadata": {},
       "output_type": "pyout",
       "prompt_number": 3,
       "text": [
        "Index(['attachment_defect_ana_onset', 'd_alpha', 'k_cat', 'k_res', 'magn_1', 'period_1', 'spindle_elongation', 'spindle_size_ana_onset', 'spindle_size_metaphase', 'stretch_mean_ana_onset', 'stretch_mean_metaphase', 'vs'], dtype='object')"
       ]
      }
     ],
     "prompt_number": 3
    },
    {
     "cell_type": "code",
     "collapsed": false,
     "input": [
      "%matplotlib qt"
     ],
     "language": "python",
     "metadata": {},
     "outputs": [],
     "prompt_number": 4
    },
    {
     "cell_type": "code",
     "collapsed": false,
     "input": [
      "plt.figure()\n",
      "results.plot(alpha=0.5)"
     ],
     "language": "python",
     "metadata": {},
     "outputs": [
      {
       "metadata": {},
       "output_type": "pyout",
       "prompt_number": 5,
       "text": [
        "<matplotlib.axes._subplots.AxesSubplot at 0x7f96dfccf6a0>"
       ]
      }
     ],
     "prompt_number": 5
    },
    {
     "cell_type": "code",
     "collapsed": false,
     "input": [
      "normed = pd.DataFrame([(results[col]-results[col].mean())/results[col].std() for col in results.columns]).T"
     ],
     "language": "python",
     "metadata": {},
     "outputs": [],
     "prompt_number": 11
    },
    {
     "cell_type": "code",
     "collapsed": false,
     "input": [
      "normed."
     ],
     "language": "python",
     "metadata": {},
     "outputs": [
      {
       "metadata": {},
       "output_type": "pyout",
       "prompt_number": 10,
       "text": [
        "<matplotlib.axes._subplots.AxesSubplot at 0x7f96c227de10>"
       ]
      }
     ],
     "prompt_number": 10
    },
    {
     "cell_type": "code",
     "collapsed": false,
     "input": [
      "from pandas.tools.plotting import scatter_matrix"
     ],
     "language": "python",
     "metadata": {},
     "outputs": [],
     "prompt_number": 12
    },
    {
     "cell_type": "code",
     "collapsed": false,
     "input": [
      "axes = scatter_matrix(normed,  alpha=0.2, figsize=(12, 12), diagonal='kde')"
     ],
     "language": "python",
     "metadata": {},
     "outputs": [
      {
       "metadata": {},
       "output_type": "pyout",
       "prompt_number": 13,
       "text": [
        "array([[<matplotlib.axes._subplots.AxesSubplot object at 0x7f96886986a0>,\n",
        "        <matplotlib.axes._subplots.AxesSubplot object at 0x7f96883174e0>,\n",
        "        <matplotlib.axes._subplots.AxesSubplot object at 0x7f96882cacc0>,\n",
        "        <matplotlib.axes._subplots.AxesSubplot object at 0x7f96c2910d68>,\n",
        "        <matplotlib.axes._subplots.AxesSubplot object at 0x7f96c28cf7f0>,\n",
        "        <matplotlib.axes._subplots.AxesSubplot object at 0x7f96c289e390>,\n",
        "        <matplotlib.axes._subplots.AxesSubplot object at 0x7f96c28559b0>,\n",
        "        <matplotlib.axes._subplots.AxesSubplot object at 0x7f96c281ea58>,\n",
        "        <matplotlib.axes._subplots.AxesSubplot object at 0x7f96c282d0f0>,\n",
        "        <matplotlib.axes._subplots.AxesSubplot object at 0x7f96c269e198>,\n",
        "        <matplotlib.axes._subplots.AxesSubplot object at 0x7f968993a550>,\n",
        "        <matplotlib.axes._subplots.AxesSubplot object at 0x7f96898f4748>],\n",
        "       [<matplotlib.axes._subplots.AxesSubplot object at 0x7f96898be908>,\n",
        "        <matplotlib.axes._subplots.AxesSubplot object at 0x7f968987a630>,\n",
        "        <matplotlib.axes._subplots.AxesSubplot object at 0x7f9689843400>,\n",
        "        <matplotlib.axes._subplots.AxesSubplot object at 0x7f9689849c18>,\n",
        "        <matplotlib.axes._subplots.AxesSubplot object at 0x7f96897cccc0>,\n",
        "        <matplotlib.axes._subplots.AxesSubplot object at 0x7f9689795f98>,\n",
        "        <matplotlib.axes._subplots.AxesSubplot object at 0x7f96897553c8>,\n",
        "        <matplotlib.axes._subplots.AxesSubplot object at 0x7f968971f588>,\n",
        "        <matplotlib.axes._subplots.AxesSubplot object at 0x7f968942ee10>,\n",
        "        <matplotlib.axes._subplots.AxesSubplot object at 0x7f96893fc9b0>,\n",
        "        <matplotlib.axes._subplots.AxesSubplot object at 0x7f9689440208>,\n",
        "        <matplotlib.axes._subplots.AxesSubplot object at 0x7f9689380e48>],\n",
        "       [<matplotlib.axes._subplots.AxesSubplot object at 0x7f96892cbe10>,\n",
        "        <matplotlib.axes._subplots.AxesSubplot object at 0x7f9689291470>,\n",
        "        <matplotlib.axes._subplots.AxesSubplot object at 0x7f9689259dd8>,\n",
        "        <matplotlib.axes._subplots.AxesSubplot object at 0x7f96892175f8>,\n",
        "        <matplotlib.axes._subplots.AxesSubplot object at 0x7f96891de7b8>,\n",
        "        <matplotlib.axes._subplots.AxesSubplot object at 0x7f968919f358>,\n",
        "        <matplotlib.axes._subplots.AxesSubplot object at 0x7f9689167ba8>,\n",
        "        <matplotlib.axes._subplots.AxesSubplot object at 0x7f968912ff60>,\n",
        "        <matplotlib.axes._subplots.AxesSubplot object at 0x7f96890f0940>,\n",
        "        <matplotlib.axes._subplots.AxesSubplot object at 0x7f96890bb9e8>,\n",
        "        <matplotlib.axes._subplots.AxesSubplot object at 0x7f968907b3c8>,\n",
        "        <matplotlib.axes._subplots.AxesSubplot object at 0x7f9689043e10>],\n",
        "       [<matplotlib.axes._subplots.AxesSubplot object at 0x7f9689001588>,\n",
        "        <matplotlib.axes._subplots.AxesSubplot object at 0x7f9688f48550>,\n",
        "        <matplotlib.axes._subplots.AxesSubplot object at 0x7f9688f58400>,\n",
        "        <matplotlib.axes._subplots.AxesSubplot object at 0x7f9688ed0c18>,\n",
        "        <matplotlib.axes._subplots.AxesSubplot object at 0x7f9688e9afd0>,\n",
        "        <matplotlib.axes._subplots.AxesSubplot object at 0x7f9688e5d320>,\n",
        "        <matplotlib.axes._subplots.AxesSubplot object at 0x7f9688e244e0>,\n",
        "        <matplotlib.axes._subplots.AxesSubplot object at 0x7f9688de2208>,\n",
        "        <matplotlib.axes._subplots.AxesSubplot object at 0x7f9688da9d68>,\n",
        "        <matplotlib.axes._subplots.AxesSubplot object at 0x7f9688dfaf98>,\n",
        "        <matplotlib.axes._subplots.AxesSubplot object at 0x7f9688d317f0>,\n",
        "        <matplotlib.axes._subplots.AxesSubplot object at 0x7f9688cfc898>],\n",
        "       [<matplotlib.axes._subplots.AxesSubplot object at 0x7f9688cbb828>,\n",
        "        <matplotlib.axes._subplots.AxesSubplot object at 0x7f9688c0a1d0>,\n",
        "        <matplotlib.axes._subplots.AxesSubplot object at 0x7f9688c419b0>,\n",
        "        <matplotlib.axes._subplots.AxesSubplot object at 0x7f9688b89b70>,\n",
        "        <matplotlib.axes._subplots.AxesSubplot object at 0x7f9688b4b710>,\n",
        "        <matplotlib.axes._subplots.AxesSubplot object at 0x7f9688b11f60>,\n",
        "        <matplotlib.axes._subplots.AxesSubplot object at 0x7f9688ae2358>,\n",
        "        <matplotlib.axes._subplots.AxesSubplot object at 0x7f9688a9dcf8>,\n",
        "        <matplotlib.axes._subplots.AxesSubplot object at 0x7f9688a65da0>,\n",
        "        <matplotlib.axes._subplots.AxesSubplot object at 0x7f9688a26780>,\n",
        "        <matplotlib.axes._subplots.AxesSubplot object at 0x7f96889f5208>,\n",
        "        <matplotlib.axes._subplots.AxesSubplot object at 0x7f96889ab940>],\n",
        "       [<matplotlib.axes._subplots.AxesSubplot object at 0x7f9688976908>,\n",
        "        <matplotlib.axes._subplots.AxesSubplot object at 0x7f9688984208>,\n",
        "        <matplotlib.axes._subplots.AxesSubplot object at 0x7f96888fcfd0>,\n",
        "        <matplotlib.axes._subplots.AxesSubplot object at 0x7f968884c3c8>,\n",
        "        <matplotlib.axes._subplots.AxesSubplot object at 0x7f96888076d8>,\n",
        "        <matplotlib.axes._subplots.AxesSubplot object at 0x7f96887cf898>,\n",
        "        <matplotlib.axes._subplots.AxesSubplot object at 0x7f968878e5c0>,\n",
        "        <matplotlib.axes._subplots.AxesSubplot object at 0x7f968875b160>,\n",
        "        <matplotlib.axes._subplots.AxesSubplot object at 0x7f96887a5cc0>,\n",
        "        <matplotlib.axes._subplots.AxesSubplot object at 0x7f96886dfba8>,\n",
        "        <matplotlib.axes._subplots.AxesSubplot object at 0x7f9688611c50>,\n",
        "        <matplotlib.axes._subplots.AxesSubplot object at 0x7f96885d4be0>],\n",
        "       [<matplotlib.axes._subplots.AxesSubplot object at 0x7f96885a1588>,\n",
        "        <matplotlib.axes._subplots.AxesSubplot object at 0x7f9688558d68>,\n",
        "        <matplotlib.axes._subplots.AxesSubplot object at 0x7f9688521f28>,\n",
        "        <matplotlib.axes._subplots.AxesSubplot object at 0x7f96884e1ac8>,\n",
        "        <matplotlib.axes._subplots.AxesSubplot object at 0x7f96884af358>,\n",
        "        <matplotlib.axes._subplots.AxesSubplot object at 0x7f96883f9710>,\n",
        "        <matplotlib.axes._subplots.AxesSubplot object at 0x7f96883b90f0>,\n",
        "        <matplotlib.axes._subplots.AxesSubplot object at 0x7f9688383198>,\n",
        "        <matplotlib.axes._subplots.AxesSubplot object at 0x7f968833eb38>,\n",
        "        <matplotlib.axes._subplots.AxesSubplot object at 0x7f968828c5c0>,\n",
        "        <matplotlib.axes._subplots.AxesSubplot object at 0x7f9688242cf8>,\n",
        "        <matplotlib.axes._subplots.AxesSubplot object at 0x7f968820acc0>],\n",
        "       [<matplotlib.axes._subplots.AxesSubplot object at 0x7f968821bc18>,\n",
        "        <matplotlib.axes._subplots.AxesSubplot object at 0x7f968819b3c8>,\n",
        "        <matplotlib.axes._subplots.AxesSubplot object at 0x7f9688162780>,\n",
        "        <matplotlib.axes._subplots.AxesSubplot object at 0x7f968811ea90>,\n",
        "        <matplotlib.axes._subplots.AxesSubplot object at 0x7f96880e8c50>,\n",
        "        <matplotlib.axes._subplots.AxesSubplot object at 0x7f96880a2978>,\n",
        "        <matplotlib.axes._subplots.AxesSubplot object at 0x7f9688071518>,\n",
        "        <matplotlib.axes._subplots.AxesSubplot object at 0x7f968803c390>,\n",
        "        <matplotlib.axes._subplots.AxesSubplot object at 0x7f967bf43f60>,\n",
        "        <matplotlib.axes._subplots.AxesSubplot object at 0x7f967bf14048>,\n",
        "        <matplotlib.axes._subplots.AxesSubplot object at 0x7f967beccf98>,\n",
        "        <matplotlib.axes._subplots.AxesSubplot object at 0x7f967be9b940>],\n",
        "       [<matplotlib.axes._subplots.AxesSubplot object at 0x7f967be58160>,\n",
        "        <matplotlib.axes._subplots.AxesSubplot object at 0x7f967be1f320>,\n",
        "        <matplotlib.axes._subplots.AxesSubplot object at 0x7f967bddbe80>,\n",
        "        <matplotlib.axes._subplots.AxesSubplot object at 0x7f967bda9710>,\n",
        "        <matplotlib.axes._subplots.AxesSubplot object at 0x7f967bd73ac8>,\n",
        "        <matplotlib.axes._subplots.AxesSubplot object at 0x7f967bd324a8>,\n",
        "        <matplotlib.axes._subplots.AxesSubplot object at 0x7f967bcfe550>,\n",
        "        <matplotlib.axes._subplots.AxesSubplot object at 0x7f967bcb6ef0>,\n",
        "        <matplotlib.axes._subplots.AxesSubplot object at 0x7f967bc06978>,\n",
        "        <matplotlib.axes._subplots.AxesSubplot object at 0x7f967bbc20f0>,\n",
        "        <matplotlib.axes._subplots.AxesSubplot object at 0x7f967bb8b0b8>,\n",
        "        <matplotlib.axes._subplots.AxesSubplot object at 0x7f967bb95978>],\n",
        "       [<matplotlib.axes._subplots.AxesSubplot object at 0x7f967bb13780>,\n",
        "        <matplotlib.axes._subplots.AxesSubplot object at 0x7f967baddb38>,\n",
        "        <matplotlib.axes._subplots.AxesSubplot object at 0x7f967ba97e48>,\n",
        "        <matplotlib.axes._subplots.AxesSubplot object at 0x7f967ba67048>,\n",
        "        <matplotlib.axes._subplots.AxesSubplot object at 0x7f967ba1dd30>,\n",
        "        <matplotlib.axes._subplots.AxesSubplot object at 0x7f967b9ea8d0>,\n",
        "        <matplotlib.axes._subplots.AxesSubplot object at 0x7f967ba3ab00>,\n",
        "        <matplotlib.axes._subplots.AxesSubplot object at 0x7f967b975358>,\n",
        "        <matplotlib.axes._subplots.AxesSubplot object at 0x7f967b93e400>,\n",
        "        <matplotlib.axes._subplots.AxesSubplot object at 0x7f967b8fe390>,\n",
        "        <matplotlib.axes._subplots.AxesSubplot object at 0x7f967b848cf8>,\n",
        "        <matplotlib.axes._subplots.AxesSubplot object at 0x7f967b804518>],\n",
        "       [<matplotlib.axes._subplots.AxesSubplot object at 0x7f967b7cc6d8>,\n",
        "        <matplotlib.axes._subplots.AxesSubplot object at 0x7f967b78e278>,\n",
        "        <matplotlib.axes._subplots.AxesSubplot object at 0x7f967b754ac8>,\n",
        "        <matplotlib.axes._subplots.AxesSubplot object at 0x7f967b71fe80>,\n",
        "        <matplotlib.axes._subplots.AxesSubplot object at 0x7f967b6dd860>,\n",
        "        <matplotlib.axes._subplots.AxesSubplot object at 0x7f967b6a8908>,\n",
        "        <matplotlib.axes._subplots.AxesSubplot object at 0x7f967b66a2e8>,\n",
        "        <matplotlib.axes._subplots.AxesSubplot object at 0x7f967b631d30>,\n",
        "        <matplotlib.axes._subplots.AxesSubplot object at 0x7f967b5ee4a8>,\n",
        "        <matplotlib.axes._subplots.AxesSubplot object at 0x7f967b5b6470>,\n",
        "        <matplotlib.axes._subplots.AxesSubplot object at 0x7f967b545278>,\n",
        "        <matplotlib.axes._subplots.AxesSubplot object at 0x7f967b53fb38>],\n",
        "       [<matplotlib.axes._subplots.AxesSubplot object at 0x7f967b488ef0>,\n",
        "        <matplotlib.axes._subplots.AxesSubplot object at 0x7f967b44a240>,\n",
        "        <matplotlib.axes._subplots.AxesSubplot object at 0x7f967b414400>,\n",
        "        <matplotlib.axes._subplots.AxesSubplot object at 0x7f967b3d0128>,\n",
        "        <matplotlib.axes._subplots.AxesSubplot object at 0x7f967b397c88>,\n",
        "        <matplotlib.axes._subplots.AxesSubplot object at 0x7f967b3e8e10>,\n",
        "        <matplotlib.axes._subplots.AxesSubplot object at 0x7f967b320710>,\n",
        "        <matplotlib.axes._subplots.AxesSubplot object at 0x7f967b2ea7b8>,\n",
        "        <matplotlib.axes._subplots.AxesSubplot object at 0x7f967b2aa748>,\n",
        "        <matplotlib.axes._subplots.AxesSubplot object at 0x7f967b2780f0>,\n",
        "        <matplotlib.axes._subplots.AxesSubplot object at 0x7f967b2308d0>,\n",
        "        <matplotlib.axes._subplots.AxesSubplot object at 0x7f967b1f8a90>]], dtype=object)"
       ]
      }
     ],
     "prompt_number": 13
    },
    {
     "cell_type": "code",
     "collapsed": false,
     "input": [],
     "language": "python",
     "metadata": {},
     "outputs": []
    }
   ],
   "metadata": {}
  }
 ]
}