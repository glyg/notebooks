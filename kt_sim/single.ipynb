{
 "cells": [
  {
   "cell_type": "code",
   "execution_count": 1,
   "metadata": {
    "collapsed": false
   },
   "outputs": [
    {
     "ename": "ImportError",
     "evalue": "No module named 'kt_simul.io.xml_handler'",
     "output_type": "error",
     "traceback": [
      "\u001b[1;31m---------------------------------------------------------------------------\u001b[0m",
      "\u001b[1;31mImportError\u001b[0m                               Traceback (most recent call last)",
      "\u001b[1;32m<ipython-input-1-1a7cb594cf94>\u001b[0m in \u001b[0;36m<module>\u001b[1;34m()\u001b[0m\n\u001b[0;32m     17\u001b[0m \u001b[1;32mfrom\u001b[0m \u001b[0mIPython\u001b[0m\u001b[1;33m.\u001b[0m\u001b[0mcore\u001b[0m\u001b[1;33m.\u001b[0m\u001b[0mdisplay\u001b[0m \u001b[1;32mimport\u001b[0m \u001b[0mHTML\u001b[0m\u001b[1;33m\u001b[0m\u001b[0m\n\u001b[0;32m     18\u001b[0m \u001b[1;33m\u001b[0m\u001b[0m\n\u001b[1;32m---> 19\u001b[1;33m \u001b[1;32mfrom\u001b[0m \u001b[0mkt_simul\u001b[0m\u001b[1;33m.\u001b[0m\u001b[0mio\u001b[0m\u001b[1;33m.\u001b[0m\u001b[0mxml_handler\u001b[0m \u001b[1;32mimport\u001b[0m \u001b[0mParamTree\u001b[0m\u001b[1;33m\u001b[0m\u001b[0m\n\u001b[0m\u001b[0;32m     20\u001b[0m \u001b[1;32mfrom\u001b[0m \u001b[0mkt_simul\u001b[0m\u001b[1;33m.\u001b[0m\u001b[0mcore\u001b[0m\u001b[1;33m.\u001b[0m\u001b[0msimul_spindle\u001b[0m \u001b[1;32mimport\u001b[0m \u001b[0mMetaphase\u001b[0m\u001b[1;33m\u001b[0m\u001b[0m\n\u001b[0;32m     21\u001b[0m \u001b[1;32mfrom\u001b[0m \u001b[0mkt_simul\u001b[0m\u001b[1;33m.\u001b[0m\u001b[0mio\u001b[0m\u001b[1;33m.\u001b[0m\u001b[0msimuio\u001b[0m \u001b[1;32mimport\u001b[0m \u001b[0mSimuIO\u001b[0m\u001b[1;33m\u001b[0m\u001b[0m\n",
      "\u001b[1;31mImportError\u001b[0m: No module named 'kt_simul.io.xml_handler'"
     ]
    }
   ],
   "source": [
    "%matplotlib qt\n",
    "%load_ext autoreload\n",
    "%autoreload 2\n",
    "\n",
    "import sys\n",
    "sys.path.append('/home/guillaume/Python/kt_simul')\n",
    "import matplotlib.pyplot as plt\n",
    "\n",
    "\n",
    "import sys\n",
    "import os\n",
    "import glob\n",
    "\n",
    "import numpy as np\n",
    "import pandas as pd\n",
    "\n",
    "from IPython.core.display import HTML\n",
    "\n",
    "from kt_simul.io.xml_handler import ParamTree\n",
    "from kt_simul.core.simul_spindle import Metaphase\n",
    "from kt_simul.io.simuio import SimuIO\n",
    "from kt_simul.utils.progress import pprogress\n",
    "from kt_simul.core import parameters\n",
    "from kt_simul.gui.animation import Animator\n",
    "\n",
    "PARAMFILE = parameters.PARAMFILE\n",
    "MEASUREFILE = parameters.MEASUREFILE\n",
    "\n",
    "\n",
    "\n",
    "\n",
    "fig_path = \"/media/thor/data/ktsimu/ldep_study/single_simulations\""
   ]
  },
  {
   "cell_type": "code",
   "execution_count": null,
   "metadata": {
    "collapsed": false
   },
   "outputs": [],
   "source": [
    "paramtree = ParamTree(PARAMFILE)\n",
    "paramtree.change_dic('dt', 1)\n",
    "paramtree.change_dic('span', 1000)\n",
    "paramtree.change_dic('t_A', 750)\n",
    "\n",
    "paramtree.change_dic('d_alpha', 0.05)  # 0.05\n",
    "paramtree.change_dic('k_a', 0.06)  # 0.06\n",
    "paramtree.change_dic('orientation', 1)  # 1\n",
    "\n",
    "paramtree.change_dic('N', 3)  # 3\n",
    "paramtree.change_dic('Mk', 3)  # 3\n",
    "paramtree.change_dic('mus', 500)  # 500\n",
    "paramtree.change_dic('L0', 0.3)  # 0.3\n",
    "\n",
    "paramtree.change_dic('ldep', 0)  # 0.4\n",
    "paramtree.change_dic('Fk', 10)  # 10.0\n",
    "\n",
    "## Three states parameters\n",
    "paramtree.change_dic('k_res', 0.02)  # 0.06\n",
    "paramtree.change_dic('k_cat', 0.06)  # 0.06\n",
    "paramtree.change_dic('vg', 1e-4)  # 0.03\n",
    "paramtree.change_dic('vs', 1e-4)  # 0.03\n",
    "\n",
    "# Fixed parameters\n",
    "paramtree.change_dic('muco', 0)  # 1000\n",
    "paramtree.change_dic('muc', 400)  # 400\n",
    "paramtree.change_dic('muk', 500)  # 500\n",
    "\n",
    "paramtree.change_dic('Vk', 0.03)  # 0.03\n",
    "paramtree.change_dic('Fmz', 30)  # 100\n",
    "paramtree.change_dic('Vmz', 0.03)  # 0.03\n",
    "paramtree.change_dic('kappa_c', 150)  # 67\n",
    "\n",
    "measuretree = ParamTree(MEASUREFILE, adimentionalized=False)\n",
    "measuretree.change_dic('mean_metaph_k_dist', 0.3)  # 0.3\n",
    "measuretree.change_dic('max_metaph_k_dist', 1.)  # 1.\n",
    "measuretree.change_dic('obs_d0', 0.1)  # 0.1\n",
    "measuretree.change_dic('poleward_speed', 0.03)  # 0.03\n",
    "\n",
    "meta = Metaphase(verbose=True,\n",
    "                 paramtree=paramtree,\n",
    "                 measuretree=measuretree,\n",
    "                 initial_plug='random',\n",
    "                 keep_same_random_seed=False,\n",
    "                 force_parameters=[])\n",
    "meta.simul()\n",
    "\n",
    "fig = meta.show(lims=None)\n",
    "params = ('k_res', 'k_cat', 'vg', 'vs')    \n",
    "title = ', '.join('{0}: {1:.3f}'.format(p, paramtree.absolute_dic[p]) for p in params)\n",
    "\n",
    "ax = fig.gca()\n",
    "ax.set_title(title)\n",
    "\n"
   ]
  },
  {
   "cell_type": "code",
   "execution_count": 2,
   "metadata": {
    "collapsed": false
   },
   "outputs": [
    {
     "ename": "NameError",
     "evalue": "name 'meta' is not defined",
     "output_type": "error",
     "traceback": [
      "\u001b[1;31m---------------------------------------------------------------------------\u001b[0m",
      "\u001b[1;31mNameError\u001b[0m                                 Traceback (most recent call last)",
      "\u001b[1;32m<ipython-input-2-d35a4da91764>\u001b[0m in \u001b[0;36m<module>\u001b[1;34m()\u001b[0m\n\u001b[0;32m      1\u001b[0m \u001b[0mfig\u001b[0m\u001b[1;33m,\u001b[0m \u001b[0max\u001b[0m \u001b[1;33m=\u001b[0m \u001b[0mplt\u001b[0m\u001b[1;33m.\u001b[0m\u001b[0msubplots\u001b[0m\u001b[1;33m(\u001b[0m\u001b[1;33m)\u001b[0m\u001b[1;33m\u001b[0m\u001b[0m\n\u001b[1;32m----> 2\u001b[1;33m \u001b[0mps_correlations\u001b[0m \u001b[1;33m=\u001b[0m \u001b[0mnp\u001b[0m\u001b[1;33m.\u001b[0m\u001b[0mzeros\u001b[0m\u001b[1;33m(\u001b[0m\u001b[1;33m(\u001b[0m\u001b[0mmeta\u001b[0m\u001b[1;33m.\u001b[0m\u001b[0mKD\u001b[0m\u001b[1;33m.\u001b[0m\u001b[0mparams\u001b[0m\u001b[1;33m[\u001b[0m\u001b[1;34m'N'\u001b[0m\u001b[1;33m]\u001b[0m\u001b[1;33m,\u001b[0m \u001b[1;36m2\u001b[0m\u001b[1;33m,\u001b[0m\u001b[0mmeta\u001b[0m\u001b[1;33m.\u001b[0m\u001b[0mKD\u001b[0m\u001b[1;33m.\u001b[0m\u001b[0mnum_steps\u001b[0m\u001b[1;33m)\u001b[0m\u001b[1;33m)\u001b[0m\u001b[1;33m\u001b[0m\u001b[0m\n\u001b[0m\u001b[0;32m      3\u001b[0m \u001b[1;33m\u001b[0m\u001b[0m\n\u001b[0;32m      4\u001b[0m \u001b[1;32mfor\u001b[0m \u001b[0mn\u001b[0m\u001b[1;33m,\u001b[0m \u001b[1;33m(\u001b[0m\u001b[0mch\u001b[0m\u001b[1;33m,\u001b[0m \u001b[0mcolor\u001b[0m\u001b[1;33m)\u001b[0m \u001b[1;32min\u001b[0m \u001b[0menumerate\u001b[0m\u001b[1;33m(\u001b[0m\u001b[0mzip\u001b[0m\u001b[1;33m(\u001b[0m\u001b[0mmeta\u001b[0m\u001b[1;33m.\u001b[0m\u001b[0mKD\u001b[0m\u001b[1;33m.\u001b[0m\u001b[0mchromosomes\u001b[0m\u001b[1;33m,\u001b[0m \u001b[0mmeta\u001b[0m\u001b[1;33m.\u001b[0m\u001b[0mchrom_colors\u001b[0m\u001b[1;33m)\u001b[0m\u001b[1;33m)\u001b[0m\u001b[1;33m:\u001b[0m\u001b[1;33m\u001b[0m\u001b[0m\n\u001b[0;32m      5\u001b[0m \u001b[1;33m\u001b[0m\u001b[0m\n",
      "\u001b[1;31mNameError\u001b[0m: name 'meta' is not defined"
     ]
    }
   ],
   "source": [
    "fig, ax = plt.subplots()\n",
    "ps_correlations = np.zeros((meta.KD.params['N'], 2,meta.KD.num_steps))\n",
    "\n",
    "for n, (ch, color) in enumerate(zip(meta.KD.chromosomes, meta.chrom_colors)):\n",
    "    \n",
    "    for ps0 in ch.cen_A.plugsites:\n",
    "        for ps1 in ch.cen_A.plugsites:\n",
    "            if ps1 != ps0:\n",
    "                ps_correlations[n, 0, :] += (ps0.mt_state_hist == ps1.mt_state_hist)# & (ps0.state_hist == ps1.state_hist)\n",
    "    for ps0 in ch.cen_B.plugsites:\n",
    "        for ps1 in ch.cen_B.plugsites:\n",
    "            if ps1 != ps0:\n",
    "                ps_correlations[n, 1, :] += (ps0.mt_state_hist == ps1.mt_state_hist)# & (ps0.state_hist == ps1.state_hist)\n",
    "\n",
    "    ax.plot(ps_correlations[n, ...].mean(axis=0)/2., c=color, lw=2, alpha=0.3)\n",
    "ax.plot(ps_correlations.mean(axis=0).mean(axis=0)/2, 'k-')\n",
    "\n",
    "params = ('k_res', 'k_cat', 'vg', 'vs')    \n",
    "title = ', '.join('{0}: {1:.3f}'.format(p, paramtree.absolute_dic[p]) for p in params)\n",
    "ax.set_ylim(-0.1, 3.1)\n",
    "\n",
    "ax.set_title(title)"
   ]
  },
  {
   "cell_type": "code",
   "execution_count": 25,
   "metadata": {
    "collapsed": false
   },
   "outputs": [
    {
     "data": {
      "text/plain": [
       "1"
      ]
     },
     "execution_count": 25,
     "metadata": {},
     "output_type": "execute_result"
    }
   ],
   "source": [
    "meta.KD.params['dt']"
   ]
  },
  {
   "cell_type": "code",
   "execution_count": 11,
   "metadata": {
    "collapsed": false
   },
   "outputs": [
    {
     "data": {
      "text/plain": [
       "<matplotlib.text.Text at 0x7fc9707ed6d8>"
      ]
     },
     "execution_count": 11,
     "metadata": {},
     "output_type": "execute_result"
    }
   ],
   "source": [
    "fig, (ax_cat, ax_res) = plt.subplots(2, 1)\n",
    "\n",
    "\n",
    "for n, (ch, color) in enumerate(zip(meta.KD.chromosomes, meta.chrom_colors)):\n",
    "    \n",
    "    for ps in ch.cen_A.plugsites:\n",
    "        speed = ps.speed_hist[ps.state_hist != 0]\n",
    "        k_cat = - np.log(1 - ps.pcat_hist)[ps.state_hist != 0]\n",
    "        k_res = - np.log(1 - ps.pres_hist)[ps.state_hist != 0]\n",
    "        ax_cat.plot(speed, k_cat, 'o', c=color, alpha=0.2, label='cen A')\n",
    "        ax_res.plot(speed, k_res, 'o', c=color, alpha=0.2)\n",
    "    for ps in ch.cen_B.plugsites:\n",
    "        speed = ps.speed_hist[ps.state_hist != 0]\n",
    "        k_cat = - np.log(1 - ps.pcat_hist)[ps.state_hist != 0]\n",
    "        k_res = - np.log(1 - ps.pres_hist)[ps.state_hist != 0]\n",
    "        ax_cat.plot(speed, k_cat, 'v', c=color, alpha=0.2, label='cen B')\n",
    "        ax_res.plot(speed, k_res, 'v', c=color, alpha=0.2)\n",
    "ax_cat.set_ylabel('k_cat Catastrophe')\n",
    "ax_res.set_ylabel('k_res Rescue')\n"
   ]
  },
  {
   "cell_type": "code",
   "execution_count": 10,
   "metadata": {
    "collapsed": false
   },
   "outputs": [],
   "source": [
    "fig = plt.figure()\n",
    "h = plt.hist(k_cat[ps.state_hist != 0], bins=100)"
   ]
  },
  {
   "cell_type": "code",
   "execution_count": 5,
   "metadata": {
    "collapsed": false
   },
   "outputs": [
    {
     "name": "stdout",
     "output_type": "stream",
     "text": [
      "k_res: 0.600, k_cat: 0.000, vg: 100.000, vs: 100.000\n",
      "mean: 2.954, std: 0.301\n"
     ]
    }
   ],
   "source": [
    "print(title)\n",
    "print('mean: {:.3f}, std: {:.3f}'.format(ps_correlations.mean()/2, ps_correlations.std()/2))"
   ]
  },
  {
   "cell_type": "code",
   "execution_count": 6,
   "metadata": {
    "collapsed": false
   },
   "outputs": [
    {
     "data": {
      "text/plain": [
       "(0.25918105244636536, 0.0)"
      ]
     },
     "execution_count": 6,
     "metadata": {},
     "output_type": "execute_result"
    }
   ],
   "source": [
    "ps0.probas()"
   ]
  },
  {
   "cell_type": "code",
   "execution_count": 24,
   "metadata": {
    "collapsed": false
   },
   "outputs": [
    {
     "data": {
      "text/plain": [
       "[<matplotlib.lines.Line2D at 0x7f68fececba8>]"
      ]
     },
     "execution_count": 24,
     "metadata": {},
     "output_type": "execute_result"
    }
   ],
   "source": [
    "\n",
    "\n",
    "ax.plot(ps_correlations.mean(axis=0).mean(axis=0)/2)"
   ]
  }
 ],
 "metadata": {
  "kernelspec": {
   "display_name": "Python 3",
   "language": "python",
   "name": "python3"
  },
  "language_info": {
   "codemirror_mode": {
    "name": "ipython",
    "version": 3
   },
   "file_extension": ".py",
   "mimetype": "text/x-python",
   "name": "python",
   "nbconvert_exporter": "python",
   "pygments_lexer": "ipython3",
   "version": "3.4.3"
  }
 },
 "nbformat": 4,
 "nbformat_minor": 0
}
