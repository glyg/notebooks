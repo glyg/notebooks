{
 "metadata": {
  "name": "",
  "signature": "sha256:09f5c1323cbc0c7ad241a6ccf7bf1178c689703cecd710dab9093729620d4977"
 },
 "nbformat": 3,
 "nbformat_minor": 0,
 "worksheets": [
  {
   "cells": [
    {
     "cell_type": "code",
     "collapsed": false,
     "input": [
      "%load_ext autoreload\n",
      "%autoreload 2\n",
      "\n",
      "import sys\n",
      "# change this to suit your path\n",
      "sys.path.append('/home/guillaume/Python/kt_simul/')"
     ],
     "language": "python",
     "metadata": {},
     "outputs": [
      {
       "output_type": "stream",
       "stream": "stdout",
       "text": [
        "The autoreload extension is already loaded. To reload it, use:\n",
        "  %reload_ext autoreload\n"
       ]
      }
     ],
     "prompt_number": 9
    },
    {
     "cell_type": "code",
     "collapsed": false,
     "input": [
      "from kt_simul.smp_spindle.smp_spindle import SympySpindle, parameters\n",
      "\n"
     ],
     "language": "python",
     "metadata": {},
     "outputs": [],
     "prompt_number": 10
    },
    {
     "cell_type": "code",
     "collapsed": false,
     "input": [
      "parameters"
     ],
     "language": "python",
     "metadata": {},
     "outputs": [
      {
       "metadata": {},
       "output_type": "pyout",
       "prompt_number": 11,
       "text": [
        "{'F_k': F_k,\n",
        " 'kappa_k': kappa_k,\n",
        " 'kappa_c': kappa_c,\n",
        " 'd_0': d_0,\n",
        " 'mu_k': mu_k,\n",
        " 'F_mz': F_mz,\n",
        " 'mu_c': mu_c,\n",
        " 'V_mz': V_mz,\n",
        " 'mu_ch': mu_ch,\n",
        " 'V_k': V_k,\n",
        " 'mu_s': mu_s}"
       ]
      }
     ],
     "prompt_number": 11
    },
    {
     "cell_type": "code",
     "collapsed": false,
     "input": [
      "%pdb"
     ],
     "language": "python",
     "metadata": {},
     "outputs": [
      {
       "output_type": "stream",
       "stream": "stdout",
       "text": [
        "Automatic pdb calling has been turned OFF\n"
       ]
      }
     ],
     "prompt_number": 12
    },
    {
     "cell_type": "code",
     "collapsed": false,
     "input": [
      "spindle = SympySpindle('1D_1_1', N=1, Mk=1)"
     ],
     "language": "python",
     "metadata": {},
     "outputs": [],
     "prompt_number": 14
    },
    {
     "cell_type": "code",
     "collapsed": false,
     "input": [
      "spindle.kanesmethod()"
     ],
     "language": "python",
     "metadata": {},
     "outputs": [],
     "prompt_number": 15
    },
    {
     "cell_type": "code",
     "collapsed": false,
     "input": [
      "lbda_A_1 = {site.lbda: 1 for ch in spindle.chromosomes\n",
      "                   for site in ch.cen_A.plugsites}\n",
      "lbda_B_0 = {site.lbda: 0 for ch in spindle.chromosomes\n",
      "                   for site in ch.cen_B.plugsites}\n",
      "rho_A_0 = {site.rho: 0 for ch in spindle.chromosomes\n",
      "                   for site in ch.cen_A.plugsites}\n",
      "rho_B_1 = {site.rho: 1 for ch in spindle.chromosomes\n",
      "                   for site in ch.cen_B.plugsites}\n",
      "\n",
      "subs = {}\n",
      "subs.update(lbda_A_1)\n",
      "subs.update(lbda_B_0)\n",
      "subs.update(rho_A_0)\n",
      "subs.update(rho_B_1)\n"
     ],
     "language": "python",
     "metadata": {},
     "outputs": [],
     "prompt_number": 16
    },
    {
     "cell_type": "code",
     "collapsed": false,
     "input": [
      "eoms = spindle.eoms.subs(subs)"
     ],
     "language": "python",
     "metadata": {},
     "outputs": [],
     "prompt_number": 19
    },
    {
     "cell_type": "code",
     "collapsed": false,
     "input": [
      "spindle.KM.kindiffdict()"
     ],
     "language": "python",
     "metadata": {},
     "outputs": [
      {
       "latex": [
        "$$\\left \\{ \\dot{L} : vL, \\quad \\dot{c}_{0} : ^vc_{0}, \\quad \\dot{d^{A}}_{00} : ^vd^{A}_{00}, \\quad \\dot{d^{B}}_{00} : ^vd^{B}_{00}, \\quad \\dot{l}_{0} : ^vl_{0}\\right \\}$$"
       ],
       "metadata": {},
       "output_type": "pyout",
       "png": "[encoded data removed]",
       "prompt_number": 24,
       "text": [
        "{L\u0307: vL, c\u2080\u0307: ^vc\u2080, d_00\u0307__A: ^vd_00__A, d_00\u0307__B: ^vd_00__B, l\u2080\u0307: ^vl\u2080}"
       ]
      }
     ],
     "prompt_number": 24
    },
    {
     "cell_type": "code",
     "collapsed": false,
     "input": [
      "eoms.simplify()\n",
      "rev_kddict = {v:k for k, v in spindle.KM.kindiffdict().items()}\n",
      "eoms.subs(rev_kddict)"
     ],
     "language": "python",
     "metadata": {},
     "outputs": [
      {
       "latex": [
        "$$\\left[\\begin{matrix}\\frac{1}{2 V_{k} V_{mz}} \\left(F_{k} V_{mz} \\left(- \\dot{L} + \\dot{d^{A}}_{00} + \\dot{d^{B}}_{00} + \\dot{l}_{0}\\right) + 2 F_{mz} V_{k} \\left(V_{mz} - \\dot{L}\\right) - V_{k} V_{mz} \\mu_{s} \\dot{L}\\right)\\\\\\frac{1}{V_{k}} \\left(- 2 F_{k} V_{k} - 2 F_{k} \\dot{c}_{0} + F_{k} \\dot{d^{A}}_{00} - F_{k} \\dot{d^{B}}_{00} - 2 V_{k} \\mu_{ch} \\dot{c}_{0}\\right)\\\\\\frac{1}{2 V_{k}} \\left(F_{k} \\dot{L} - F_{k} \\dot{d^{A}}_{00} - F_{k} \\dot{d^{B}}_{00} - F_{k} \\dot{l}_{0} - 2 V_{k} \\kappa_{c} l_{0} - 2 V_{k} \\mu_{c} \\dot{l}_{0} - V_{k} \\mu_{ch} \\dot{l}_{0}\\right)\\\\\\frac{1}{V_{k}} \\left(\\frac{F_{k}}{2} \\left(2 V_{k} + \\dot{L} + 2 \\dot{c}_{0} - 2 \\dot{d^{A}}_{00} - \\dot{l}_{0}\\right) - V_{k} \\left(\\kappa_{k} d^{A}_{00} + \\mu_{k} \\dot{d^{A}}_{00}\\right)\\right)\\\\- \\frac{1}{V_{k}} \\left(\\frac{F_{k}}{2} \\left(2 V_{k} - \\dot{L} + 2 \\dot{c}_{0} + 2 \\dot{d^{B}}_{00} + \\dot{l}_{0}\\right) + V_{k} \\left(\\kappa_{k} d^{B}_{00} + \\mu_{k} \\dot{d^{B}}_{00}\\right)\\right)\\end{matrix}\\right]$$"
       ],
       "metadata": {},
       "output_type": "pyout",
       "png": "[encoded data removed]",
       "prompt_number": 26,
       "text": [
        "\u23a1   F_k\u22c5V_mz\u22c5(-L\u0307 + d_00\u0307__A + d_00\u0307__B + l\u2080\u0307) + 2\u22c5F_mz\u22c5V_k\u22c5(V_mz - L\u0307) - V_k\u22c5\n",
        "\u23a2   \u2500\u2500\u2500\u2500\u2500\u2500\u2500\u2500\u2500\u2500\u2500\u2500\u2500\u2500\u2500\u2500\u2500\u2500\u2500\u2500\u2500\u2500\u2500\u2500\u2500\u2500\u2500\u2500\u2500\u2500\u2500\u2500\u2500\u2500\u2500\u2500\u2500\u2500\u2500\u2500\u2500\u2500\u2500\u2500\u2500\u2500\u2500\u2500\u2500\u2500\u2500\u2500\u2500\u2500\u2500\u2500\u2500\u2500\u2500\u2500\u2500\u2500\u2500\u2500\u2500\u2500\u2500\u2500\u2500\u2500\u2500\u2500\u2500\u2500\n",
        "\u23a2                                         2\u22c5V_k\u22c5V_mz                          \n",
        "\u23a2                                                                             \n",
        "\u23a2           -2\u22c5F_k\u22c5V_k - 2\u22c5F_k\u22c5c\u2080\u0307 + F_k\u22c5d_00\u0307__A - F_k\u22c5d_00\u0307__B - 2\u22c5V_k\u22c5\u03bc_ch\u22c5\n",
        "\u23a2           \u2500\u2500\u2500\u2500\u2500\u2500\u2500\u2500\u2500\u2500\u2500\u2500\u2500\u2500\u2500\u2500\u2500\u2500\u2500\u2500\u2500\u2500\u2500\u2500\u2500\u2500\u2500\u2500\u2500\u2500\u2500\u2500\u2500\u2500\u2500\u2500\u2500\u2500\u2500\u2500\u2500\u2500\u2500\u2500\u2500\u2500\u2500\u2500\u2500\u2500\u2500\u2500\u2500\u2500\u2500\u2500\u2500\u2500\u2500\u2500\u2500\u2500\u2500\u2500\u2500\u2500\n",
        "\u23a2                                            V_k                              \n",
        "\u23a2                                                                             \n",
        "\u23a2F_k\u22c5L\u0307 - F_k\u22c5d_00\u0307__A - F_k\u22c5d_00\u0307__B - F_k\u22c5l\u2080\u0307 - 2\u22c5V_k\u22c5\u03ba_c\u22c5l\u2080 - 2\u22c5V_k\u22c5\u03bc_c\u22c5l\u2080\u0307\n",
        "\u23a2\u2500\u2500\u2500\u2500\u2500\u2500\u2500\u2500\u2500\u2500\u2500\u2500\u2500\u2500\u2500\u2500\u2500\u2500\u2500\u2500\u2500\u2500\u2500\u2500\u2500\u2500\u2500\u2500\u2500\u2500\u2500\u2500\u2500\u2500\u2500\u2500\u2500\u2500\u2500\u2500\u2500\u2500\u2500\u2500\u2500\u2500\u2500\u2500\u2500\u2500\u2500\u2500\u2500\u2500\u2500\u2500\u2500\u2500\u2500\u2500\u2500\u2500\u2500\u2500\u2500\u2500\u2500\u2500\u2500\u2500\u2500\u2500\u2500\u2500\u2500\u2500\u2500\n",
        "\u23a2                                           2\u22c5V_k                             \n",
        "\u23a2                                                                             \n",
        "\u23a2       F_k\u22c5(2\u22c5V_k + L\u0307 + 2\u22c5c\u2080\u0307 - 2\u22c5d_00\u0307__A - l\u2080\u0307)                           \n",
        "\u23a2       \u2500\u2500\u2500\u2500\u2500\u2500\u2500\u2500\u2500\u2500\u2500\u2500\u2500\u2500\u2500\u2500\u2500\u2500\u2500\u2500\u2500\u2500\u2500\u2500\u2500\u2500\u2500\u2500\u2500\u2500\u2500\u2500\u2500\u2500\u2500\u2500\u2500\u2500\u2500\u2500\u2500\u2500\u2500 - V_k\u22c5(\u03ba_k\u22c5d_00__A + \u03bc_k\u22c5d\n",
        "\u23a2                            2                                                \n",
        "\u23a2       \u2500\u2500\u2500\u2500\u2500\u2500\u2500\u2500\u2500\u2500\u2500\u2500\u2500\u2500\u2500\u2500\u2500\u2500\u2500\u2500\u2500\u2500\u2500\u2500\u2500\u2500\u2500\u2500\u2500\u2500\u2500\u2500\u2500\u2500\u2500\u2500\u2500\u2500\u2500\u2500\u2500\u2500\u2500\u2500\u2500\u2500\u2500\u2500\u2500\u2500\u2500\u2500\u2500\u2500\u2500\u2500\u2500\u2500\u2500\u2500\u2500\u2500\u2500\u2500\u2500\u2500\u2500\u2500\u2500\u2500\n",
        "\u23a2                                            V_k                              \n",
        "\u23a2                                                                             \n",
        "\u23a2      \u239bF_k\u22c5(2\u22c5V_k - L\u0307 + 2\u22c5c\u2080\u0307 + 2\u22c5d_00\u0307__B + l\u2080\u0307)                           \n",
        "\u23a2     -\u239c\u2500\u2500\u2500\u2500\u2500\u2500\u2500\u2500\u2500\u2500\u2500\u2500\u2500\u2500\u2500\u2500\u2500\u2500\u2500\u2500\u2500\u2500\u2500\u2500\u2500\u2500\u2500\u2500\u2500\u2500\u2500\u2500\u2500\u2500\u2500\u2500\u2500\u2500\u2500\u2500\u2500\u2500\u2500 + V_k\u22c5(\u03ba_k\u22c5d_00__B + \u03bc_k\u22c5d\n",
        "\u23a2      \u239d                     2                                                \n",
        "\u23a2     \u2500\u2500\u2500\u2500\u2500\u2500\u2500\u2500\u2500\u2500\u2500\u2500\u2500\u2500\u2500\u2500\u2500\u2500\u2500\u2500\u2500\u2500\u2500\u2500\u2500\u2500\u2500\u2500\u2500\u2500\u2500\u2500\u2500\u2500\u2500\u2500\u2500\u2500\u2500\u2500\u2500\u2500\u2500\u2500\u2500\u2500\u2500\u2500\u2500\u2500\u2500\u2500\u2500\u2500\u2500\u2500\u2500\u2500\u2500\u2500\u2500\u2500\u2500\u2500\u2500\u2500\u2500\u2500\u2500\u2500\u2500\u2500\n",
        "\u23a3                                            V_k                              \n",
        "\n",
        "V_mz\u22c5\u03bc_s\u22c5L\u0307    \u23a4\n",
        "\u2500\u2500\u2500\u2500\u2500\u2500\u2500\u2500\u2500\u2500\u2500    \u23a5\n",
        "               \u23a5\n",
        "               \u23a5\n",
        "c\u2080\u0307            \u23a5\n",
        "\u2500\u2500\u2500            \u23a5\n",
        "               \u23a5\n",
        "               \u23a5\n",
        " - V_k\u22c5\u03bc_ch\u22c5l\u2080\u0307\u23a5\n",
        "\u2500\u2500\u2500\u2500\u2500\u2500\u2500\u2500\u2500\u2500\u2500\u2500\u2500\u2500\u2500\u23a5\n",
        "               \u23a5\n",
        "               \u23a5\n",
        "               \u23a5\n",
        "_00\u0307__A)       \u23a5\n",
        "               \u23a5\n",
        "\u2500\u2500\u2500\u2500\u2500\u2500\u2500\u2500       \u23a5\n",
        "               \u23a5\n",
        "               \u23a5\n",
        "        \u239e      \u23a5\n",
        "_00\u0307__B)\u239f      \u23a5\n",
        "        \u23a0      \u23a5\n",
        "\u2500\u2500\u2500\u2500\u2500\u2500\u2500\u2500\u2500\u2500     \u23a5\n",
        "               \u23a6"
       ]
      }
     ],
     "prompt_number": 26
    },
    {
     "cell_type": "code",
     "collapsed": false,
     "input": [
      "spindle.points\n"
     ],
     "language": "python",
     "metadata": {},
     "outputs": [
      {
       "metadata": {},
       "output_type": "pyout",
       "prompt_number": 27,
       "text": [
        "[spbR, spbL, ch_0, cen_0^A, as_00^A, cen_0^B, as_00^B]"
       ]
      }
     ],
     "prompt_number": 27
    },
    {
     "cell_type": "code",
     "collapsed": false,
     "input": [
      "spindle.q_ind"
     ],
     "language": "python",
     "metadata": {},
     "outputs": [
      {
       "latex": [
        "$$\\left [ L, \\quad c_{0}, \\quad l_{0}, \\quad d^{A}_{00}, \\quad d^{B}_{00}\\right ]$$"
       ],
       "metadata": {},
       "output_type": "pyout",
       "png": "[encoded data removed]",
       "prompt_number": 28,
       "text": [
        "[L, c\u2080, l\u2080, d_00__A, d_00__B]"
       ]
      }
     ],
     "prompt_number": 28
    },
    {
     "cell_type": "code",
     "collapsed": false,
     "input": [
      "spindle.A_uu.subs(subs).subs({parameters['F_k']:1, parameters['V_k']:1})"
     ],
     "language": "python",
     "metadata": {},
     "outputs": [
      {
       "latex": [
        "$$\\left[\\begin{matrix}- \\frac{F_{mz}}{V_{mz}} - \\frac{\\mu_{s}}{2} - \\frac{1}{2} & 0 & \\frac{1}{2} & \\frac{1}{2} & \\frac{1}{2}\\\\0 & - 2 \\mu_{ch} - 2 & 0 & 1 & -1\\\\\\frac{1}{2} & 0 & - \\mu_{c} - \\frac{\\mu_{ch}}{2} - \\frac{1}{2} & - \\frac{1}{2} & - \\frac{1}{2}\\\\\\frac{1}{2} & 1 & - \\frac{1}{2} & - \\mu_{k} - 1 & 0\\\\\\frac{1}{2} & -1 & - \\frac{1}{2} & 0 & - \\mu_{k} - 1\\end{matrix}\\right]$$"
       ],
       "metadata": {},
       "output_type": "pyout",
       "png": "[encoded data removed]",
       "prompt_number": 32,
       "text": [
        "\u23a1  F_mz   \u03bc_s   1                                                  \u23a4\n",
        "\u23a2- \u2500\u2500\u2500\u2500 - \u2500\u2500\u2500 - \u2500       0             1/2          1/2       1/2   \u23a5\n",
        "\u23a2  V_mz    2    2                                                  \u23a5\n",
        "\u23a2                                                                  \u23a5\n",
        "\u23a2       0          -2\u22c5\u03bc_ch - 2         0            1         -1   \u23a5\n",
        "\u23a2                                                                  \u23a5\n",
        "\u23a2                                      \u03bc_ch   1                    \u23a5\n",
        "\u23a2      1/2              0       -\u03bc_c - \u2500\u2500\u2500\u2500 - \u2500    -1/2      -1/2  \u23a5\n",
        "\u23a2                                       2     2                    \u23a5\n",
        "\u23a2                                                                  \u23a5\n",
        "\u23a2      1/2              1            -1/2        -\u03bc_k - 1     0    \u23a5\n",
        "\u23a2                                                                  \u23a5\n",
        "\u23a3      1/2             -1            -1/2           0      -\u03bc_k - 1\u23a6"
       ]
      }
     ],
     "prompt_number": 32
    },
    {
     "cell_type": "code",
     "collapsed": false,
     "input": [
      "spindle.kd"
     ],
     "language": "python",
     "metadata": {},
     "outputs": [
      {
       "latex": [
        "$$\\left [ - vL + \\dot{L}, \\quad - vc_{} + \\dot{c}_{}, \\quad - vl_{0} + \\dot{l}_{0}, \\quad - vd^{A}_{00} + \\dot{d^{A}}_{00}, \\quad - vd^{B}_{00} + \\dot{d^{B}}_{00}\\right ]$$"
       ],
       "metadata": {},
       "output_type": "pyout",
       "png": "[encoded data removed]",
       "prompt_number": 12,
       "text": [
        "[-vL + L\u0307, -vc + c\u0307, -vl\u2080 + l\u2080\u0307, -vd_00__A + d_00\u0307__A, -vd_00__B + d_00\u0307__B]"
       ]
      }
     ],
     "prompt_number": 12
    },
    {
     "cell_type": "code",
     "collapsed": false,
     "input": [
      "spindle.u_ind\n"
     ],
     "language": "python",
     "metadata": {},
     "outputs": [
      {
       "latex": [
        "$$\\left [ vL, \\quad vc_{}, \\quad vl_{0}, \\quad vd^{A}_{00}, \\quad vd^{B}_{00}\\right ]$$"
       ],
       "metadata": {},
       "output_type": "pyout",
       "png": "[encoded data removed]",
       "prompt_number": 10,
       "text": [
        "[vL, vc, vl\u2080, vd_00__A, vd_00__B]"
       ]
      }
     ],
     "prompt_number": 10
    },
    {
     "cell_type": "code",
     "collapsed": false,
     "input": [
      "spindle.q_ind"
     ],
     "language": "python",
     "metadata": {},
     "outputs": [
      {
       "latex": [
        "$$\\left [ L, \\quad c_{}, \\quad l_{0}, \\quad d^{A}_{00}, \\quad d^{B}_{00}\\right ]$$"
       ],
       "metadata": {},
       "output_type": "pyout",
       "png": "[encoded data removed]",
       "prompt_number": 7,
       "text": [
        "[L, c, l\u2080, d_00__A, d_00__B]"
       ]
      }
     ],
     "prompt_number": 7
    },
    {
     "cell_type": "code",
     "collapsed": false,
     "input": [
      "spindle.forces"
     ],
     "language": "python",
     "metadata": {},
     "outputs": [
      {
       "metadata": {},
       "output_type": "pyout",
       "prompt_number": 8,
       "text": [
        "[(spbR, - mu_s*vL/2*S.x),\n",
        " (spbL, mu_s*vL/2*S.x),\n",
        " (spbL, - F_mz*(1 - vL/V_mz)*S.x),\n",
        " (spbR, F_mz*(1 - vL/V_mz)*S.x),\n",
        " (cen_0^A, mu_ch*vl_0/2*S.x),\n",
        " (cen_0^A, - kappa_k*d_00^A*S.x),\n",
        " (as_00^A, kappa_k*d_00^A*S.x),\n",
        " (cen_0^A, - mu_k*d_00^A*S.x),\n",
        " (as_00^A, mu_k*d_00^A*S.x),\n",
        " (spbL, F_k*lambda_00^A*(1 - (d_00^A - vL/2 + vl_0/2)/V_k)*S.x),\n",
        " (as_00^A, - F_k*lambda_00^A*(1 - (d_00^A - vL/2 + vl_0/2)/V_k)*S.x),\n",
        " (as_00^A, F_k*rho_00^A*(-1 - (-d_00^A - vL/2 - vl_0/2)/V_k)*S.x),\n",
        " (spbR, - F_k*rho_00^A*(-1 - (-d_00^A - vL/2 - vl_0/2)/V_k)*S.x),\n",
        " (cen_0^B, - mu_ch*vl_0/2*S.x),\n",
        " (cen_0^B, kappa_k*d_00^B*S.x),\n",
        " (as_00^B, - kappa_k*d_00^B*S.x),\n",
        " (cen_0^B, mu_k*d_00^B*S.x),\n",
        " (as_00^B, - mu_k*d_00^B*S.x),\n",
        " (spbL, F_k*lambda_00^B*(1 - (-d_00^B - vL/2 - vl_0/2)/V_k)*S.x),\n",
        " (as_00^B, - F_k*lambda_00^B*(1 - (-d_00^B - vL/2 - vl_0/2)/V_k)*S.x),\n",
        " (as_00^B, F_k*rho_00^B*(-1 - (d_00^B - vL/2 + vl_0/2)/V_k)*S.x),\n",
        " (spbR, - F_k*rho_00^B*(-1 - (d_00^B - vL/2 + vl_0/2)/V_k)*S.x),\n",
        " (cen_0^A, kappa_c*l_0*S.x),\n",
        " (cen_0^B, - kappa_c*l_0*S.x),\n",
        " (cen_0^A, mu_c*vl_0*S.x),\n",
        " (cen_0^B, - mu_c*vl_0*S.x)]"
       ]
      }
     ],
     "prompt_number": 8
    },
    {
     "cell_type": "code",
     "collapsed": false,
     "input": [],
     "language": "python",
     "metadata": {},
     "outputs": []
    }
   ],
   "metadata": {}
  }
 ]
}