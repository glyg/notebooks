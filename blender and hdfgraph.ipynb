{
 "metadata": {
  "name": "",
  "signature": "sha256:6d4ad3e1870c05ec7502e7d60c31f5d999b84ced32705d79fb7b6a9cfa21ee85"
 },
 "nbformat": 3,
 "nbformat_minor": 0,
 "worksheets": [
  {
   "cells": [
    {
     "cell_type": "code",
     "collapsed": false,
     "input": [
      "import pandas as pd\n",
      "import sys\n",
      "sys.path.append('/usr/lib/python3/dist-packages/graph_tool')\n",
      "##!ln -s /usr/lib/python3/dist-packages/graph_tool /home/guillaume/anaconda/envs/python3/lib/python3.4/site-packages/graph_tool\n",
      "import graph_tool.all as gt\n",
      "import hdfgraph"
     ],
     "language": "python",
     "metadata": {},
     "outputs": [],
     "prompt_number": 1
    },
    {
     "cell_type": "code",
     "collapsed": false,
     "input": [],
     "language": "python",
     "metadata": {},
     "outputs": [
      {
       "output_type": "stream",
       "stream": "stderr",
       "text": [
        "/home/guillaume/anaconda/envs/python3/lib/python3.4/site-packages/graph_tool/draw/cairo_draw.py:34: ImportWarning: Error importing cairo. Graph drawing will not work.\n",
        "  warnings.warn(msg, ImportWarning)\n",
        "/home/guillaume/anaconda/envs/python3/lib/python3.4/site-packages/graph_tool/draw/cairo_draw.py:34: ImportWarning: Error importing cairo. Graph drawing will not work.\n",
        "  warnings.warn(msg, ImportWarning)\n",
        "/home/guillaume/anaconda/envs/python3/lib/python3.4/site-packages/graph_tool/draw/cairo_draw.py:34: ImportWarning: Error importing cairo. Graph drawing will not work.\n",
        "  warnings.warn(msg, ImportWarning)\n"
       ]
      }
     ],
     "prompt_number": 6
    },
    {
     "cell_type": "code",
     "collapsed": false,
     "input": [
      "graph = hdfgraph.graph_from_hdf('/media/data/Simulations/0003_2014-05-24T09_04_38/eptm_0003_2014-05-24T09_04_38.h5', stamp=51524)\n"
     ],
     "language": "python",
     "metadata": {},
     "outputs": [],
     "prompt_number": 10
    },
    {
     "cell_type": "code",
     "collapsed": false,
     "input": [
      "with pd.get_store('/media/data/Simulations/0003_2014-05-24T09_04_38/eptm_0003_2014-05-24T09_04_38.h5') as store:\n",
      "    v = store.select('vertices', where=\"'vertex_index'=0\")\n",
      "    indices = store.select('vertices', where=\"columns='ages'\").index"
     ],
     "language": "python",
     "metadata": {},
     "outputs": [],
     "prompt_number": 32
    },
    {
     "cell_type": "code",
     "collapsed": false,
     "input": [
      "indices.index.get_level_values('stamp').unique()"
     ],
     "language": "python",
     "metadata": {},
     "outputs": [
      {
       "metadata": {},
       "output_type": "pyout",
       "prompt_number": 39,
       "text": [
        "array([    1,     2,     3, ..., 51522, 51523, 51524])"
       ]
      }
     ],
     "prompt_number": 39
    },
    {
     "cell_type": "code",
     "collapsed": false,
     "input": [],
     "language": "python",
     "metadata": {},
     "outputs": []
    }
   ],
   "metadata": {}
  }
 ]
}