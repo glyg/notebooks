{
 "metadata": {
  "name": "",
  "signature": "sha256:d79d86157893691b9654f833e4f3ef929fafaa42f60a368812fdb4967d5d776a"
 },
 "nbformat": 3,
 "nbformat_minor": 0,
 "worksheets": [
  {
   "cells": [
    {
     "cell_type": "code",
     "collapsed": false,
     "input": [
      "%load_ext autoreload\n",
      "%autoreload 2"
     ],
     "language": "python",
     "metadata": {},
     "outputs": [],
     "prompt_number": 1
    },
    {
     "cell_type": "code",
     "collapsed": false,
     "input": [
      "import pandas as pd\n",
      "##!ln -s /usr/lib/python3/dist-packages/graph_tool /home/guillaume/anaconda/envs/python3/lib/python3.4/site-packages/graph_tool\n",
      "import graph_tool.all as gt\n",
      "import hdfgraph"
     ],
     "language": "python",
     "metadata": {},
     "outputs": [
      {
       "output_type": "stream",
       "stream": "stderr",
       "text": [
        "/home/guillaume/anaconda/envs/python3/lib/python3.4/site-packages/graph_tool/draw/cairo_draw.py:34: ImportWarning: Error importing cairo. Graph drawing will not work.\n",
        "  warnings.warn(msg, ImportWarning)\n",
        "/home/guillaume/anaconda/envs/python3/lib/python3.4/site-packages/graph_tool/draw/cairo_draw.py:34: ImportWarning: Error importing cairo. Graph drawing will not work.\n",
        "  warnings.warn(msg, ImportWarning)\n",
        "/home/guillaume/anaconda/envs/python3/lib/python3.4/site-packages/graph_tool/draw/cairo_draw.py:34: ImportWarning: Error importing cairo. Graph drawing will not work.\n",
        "  warnings.warn(msg, ImportWarning)\n"
       ]
      }
     ],
     "prompt_number": 2
    },
    {
     "cell_type": "code",
     "collapsed": false,
     "input": [
      "with pd.get_store('/media/data/Simulations/0003_2014-05-24T09_04_38/eptm_0003_2014-05-24T09_04_38.h5') as store:\n",
      "    v = store.select('vertices', where=\"'vertex_index'=0\")\n",
      "    indices = store.select('vertices', where=\"columns='ages'\").index"
     ],
     "language": "python",
     "metadata": {},
     "outputs": [],
     "prompt_number": 3
    },
    {
     "cell_type": "code",
     "collapsed": false,
     "input": [
      "indices.get_level_values('stamp').unique()"
     ],
     "language": "python",
     "metadata": {},
     "outputs": [
      {
       "metadata": {},
       "output_type": "pyout",
       "prompt_number": 5,
       "text": [
        "array([    1,     2,     3, ..., 51522, 51523, 51524])"
       ]
      }
     ],
     "prompt_number": 5
    },
    {
     "cell_type": "code",
     "collapsed": false,
     "input": [
      "import leg_joint as lj"
     ],
     "language": "python",
     "metadata": {},
     "outputs": [
      {
       "output_type": "stream",
       "stream": "stderr",
       "text": [
        "2014-09-02 13:07:07,404 -leg_joint -INFO -successfully imported leg_joint\n"
       ]
      }
     ],
     "prompt_number": 6
    },
    {
     "cell_type": "code",
     "collapsed": false,
     "input": [
      "eptm = lj.Epithelium(identifier='small')"
     ],
     "language": "python",
     "metadata": {},
     "outputs": [
      {
       "output_type": "stream",
       "stream": "stderr",
       "text": [
        "2014-09-02 13:24:54,600 -leg_joint.epithelium -INFO -Instanciating epithelium small\n"
       ]
      },
      {
       "output_type": "stream",
       "stream": "stderr",
       "text": [
        "2014-09-02 13:24:54,601 -leg_joint.epithelium -INFO -Created new graph\n"
       ]
      },
      {
       "output_type": "stream",
       "stream": "stderr",
       "text": [
        "2014-09-02 13:24:54,607 -leg_joint.epithelium -INFO -Initial cells\n"
       ]
      },
      {
       "output_type": "stream",
       "stream": "stderr",
       "text": [
        "2014-09-02 13:24:54,608 -leg_joint.objects -INFO -Creating a 7 x 5 cells lattice\n"
       ]
      },
      {
       "output_type": "stream",
       "stream": "stderr",
       "text": [
        "2014-09-02 13:24:54,655 -leg_joint.epithelium -INFO -Initial junctions\n"
       ]
      },
      {
       "output_type": "stream",
       "stream": "stderr",
       "text": [
        "2014-09-02 13:24:54,747 -leg_joint.objects -INFO -2 triangles were dropped\n"
       ]
      },
      {
       "output_type": "stream",
       "stream": "stderr",
       "text": [
        "2014-09-02 13:24:55,135 -leg_joint.objects -INFO -2 junction edges were dropped\n"
       ]
      },
      {
       "output_type": "stream",
       "stream": "stderr",
       "text": [
        "2014-09-02 13:24:55,311 -leg_joint.epithelium -INFO -Isotropic relaxation\n"
       ]
      },
      {
       "output_type": "stream",
       "stream": "stderr",
       "text": [
        "2014-09-02 13:24:55,394 -leg_joint.epithelium -ERROR -Two edges ain't enough to compute\n",
        "                      area for cell 0\n"
       ]
      },
      {
       "output_type": "stream",
       "stream": "stderr",
       "text": [
        "2014-09-02 13:24:55,396 -leg_joint.epithelium -ERROR -Two edges ain't enough to compute\n",
        "                      area for cell 6\n"
       ]
      },
      {
       "output_type": "stream",
       "stream": "stderr",
       "text": [
        "2014-09-02 13:24:55,397 -leg_joint.epithelium -ERROR -Two edges ain't enough to compute\n",
        "                      area for cell 7\n"
       ]
      },
      {
       "output_type": "stream",
       "stream": "stderr",
       "text": [
        "2014-09-02 13:24:55,398 -leg_joint.epithelium -ERROR -Two edges ain't enough to compute\n",
        "                      area for cell 13\n"
       ]
      },
      {
       "output_type": "stream",
       "stream": "stderr",
       "text": [
        "2014-09-02 13:24:55,399 -leg_joint.epithelium -ERROR -Two edges ain't enough to compute\n",
        "                      area for cell 14\n"
       ]
      },
      {
       "output_type": "stream",
       "stream": "stderr",
       "text": [
        "2014-09-02 13:24:55,400 -leg_joint.epithelium -ERROR -Two edges ain't enough to compute\n",
        "                      area for cell 20\n"
       ]
      },
      {
       "output_type": "stream",
       "stream": "stderr",
       "text": [
        "2014-09-02 13:24:55,401 -leg_joint.epithelium -ERROR -Two edges ain't enough to compute\n",
        "                      area for cell 21\n"
       ]
      },
      {
       "output_type": "stream",
       "stream": "stderr",
       "text": [
        "2014-09-02 13:24:55,402 -leg_joint.epithelium -ERROR -Two edges ain't enough to compute\n",
        "                      area for cell 27\n"
       ]
      },
      {
       "output_type": "stream",
       "stream": "stderr",
       "text": [
        "2014-09-02 13:24:55,403 -leg_joint.epithelium -ERROR -Two edges ain't enough to compute\n",
        "                      area for cell 28\n"
       ]
      },
      {
       "output_type": "stream",
       "stream": "stderr",
       "text": [
        "2014-09-02 13:24:55,404 -leg_joint.epithelium -ERROR -Two edges ain't enough to compute\n",
        "                      area for cell 34\n"
       ]
      },
      {
       "output_type": "stream",
       "stream": "stderr",
       "text": [
        "2014-09-02 13:24:55,488 -leg_joint.epithelium -INFO -Periodic boundary\n"
       ]
      },
      {
       "output_type": "stream",
       "stream": "stderr",
       "text": [
        "2014-09-02 13:24:55,493 -leg_joint.epithelium -INFO -Update geometry\n"
       ]
      }
     ],
     "prompt_number": 17
    },
    {
     "cell_type": "code",
     "collapsed": false,
     "input": [
      "%matplotlib inline"
     ],
     "language": "python",
     "metadata": {},
     "outputs": [],
     "prompt_number": 18
    },
    {
     "cell_type": "code",
     "collapsed": false,
     "input": [
      "eptm.is_local_vert.a[:] = 1\n",
      "eptm.is_local_edge.a[:] = 1\n",
      "\n",
      "lj.graph_representation.plot_2pannels(eptm, )"
     ],
     "language": "python",
     "metadata": {},
     "outputs": [
      {
       "metadata": {},
       "output_type": "pyout",
       "prompt_number": 19,
       "text": [
        "array([<matplotlib.axes.AxesSubplot object at 0x7f6dcbd776a0>,\n",
        "       <matplotlib.axes.AxesSubplot object at 0x7f6dcbd49470>], dtype=object)"
       ]
      },
      {
       "metadata": {},
       "output_type": "display_data",
       "png": "[encoded data removed]",
       "text": [
        "<matplotlib.figure.Figure at 0x7f6dcbdece48>"
       ]
      }
     ],
     "prompt_number": 19
    },
    {
     "cell_type": "code",
     "collapsed": false,
     "input": [
      "import numpy as np"
     ],
     "language": "python",
     "metadata": {},
     "outputs": [],
     "prompt_number": 10
    },
    {
     "cell_type": "code",
     "collapsed": false,
     "input": [
      "eptm.isotropic_relax()\n",
      "growth_rate = 1.5\n",
      "\n",
      "cells = [cell for cell in eptm.cells \n",
      "         if eptm.is_alive[cell]]\n",
      "np.random.shuffle(cells)\n",
      "for mother_cell in cells:\n",
      "    print('dividing cell {}'.format(mother_cell))\n",
      "    eptm.set_local_mask(None)\n",
      "    eptm.set_local_mask(mother_cell, wider=True)\n",
      "    eptm.cells.prefered_vol[mother_cell] *= growth_rate\n",
      "    p0, p1 = lj.find_energy_min(eptm)\n",
      "    septum = lj.cell_division(eptm, mother_cell, verbose=True)\n",
      "    p0, p1 = lj.find_energy_min(eptm)\n",
      "    eptm.isotropic_relax()"
     ],
     "language": "python",
     "metadata": {},
     "outputs": [
      {
       "output_type": "stream",
       "stream": "stderr",
       "text": [
        "2014-09-02 13:25:17,748 -leg_joint.epithelium -INFO -Cell 95 is born\n"
       ]
      },
      {
       "output_type": "stream",
       "stream": "stderr",
       "text": [
        "2014-09-02 13:25:17,994 -leg_joint.epithelium -INFO -Division completed\n"
       ]
      },
      {
       "output_type": "stream",
       "stream": "stdout",
       "text": [
        "dividing cell 33\n",
        "dividing cell 16"
       ]
      },
      {
       "output_type": "stream",
       "stream": "stderr",
       "text": [
        "2014-09-02 13:25:28,762 -leg_joint.epithelium -INFO -Cell 98 is born\n"
       ]
      },
      {
       "output_type": "stream",
       "stream": "stderr",
       "text": [
        "2014-09-02 13:25:29,102 -leg_joint.epithelium -INFO -Division completed\n"
       ]
      },
      {
       "output_type": "stream",
       "stream": "stdout",
       "text": [
        "\n",
        "dividing cell 11"
       ]
      },
      {
       "output_type": "stream",
       "stream": "stderr",
       "text": [
        "2014-09-02 13:25:35,549 -leg_joint.epithelium -INFO -Cell 101 is born\n"
       ]
      },
      {
       "output_type": "stream",
       "stream": "stderr",
       "text": [
        "2014-09-02 13:25:35,899 -leg_joint.epithelium -INFO -Division completed\n"
       ]
      },
      {
       "output_type": "stream",
       "stream": "stdout",
       "text": [
        "\n",
        "dividing cell 12"
       ]
      },
      {
       "output_type": "stream",
       "stream": "stderr",
       "text": [
        "2014-09-02 13:25:41,185 -leg_joint.epithelium -INFO -Cell 104 is born\n"
       ]
      },
      {
       "output_type": "stream",
       "stream": "stderr",
       "text": [
        "2014-09-02 13:25:41,462 -leg_joint.epithelium -INFO -Division completed\n"
       ]
      },
      {
       "output_type": "stream",
       "stream": "stdout",
       "text": [
        "\n",
        "dividing cell 1"
       ]
      },
      {
       "output_type": "stream",
       "stream": "stderr",
       "text": [
        "2014-09-02 13:25:52,120 -leg_joint.epithelium -INFO -Cell 107 is born\n"
       ]
      },
      {
       "output_type": "stream",
       "stream": "stderr",
       "text": [
        "2014-09-02 13:25:52,402 -leg_joint.epithelium -INFO -Division completed\n"
       ]
      },
      {
       "output_type": "stream",
       "stream": "stdout",
       "text": [
        "\n",
        "dividing cell 24"
       ]
      },
      {
       "output_type": "stream",
       "stream": "stderr",
       "text": [
        "2014-09-02 13:26:01,309 -leg_joint.epithelium -INFO -Cell 110 is born\n"
       ]
      },
      {
       "output_type": "stream",
       "stream": "stderr",
       "text": [
        "2014-09-02 13:26:01,721 -leg_joint.epithelium -INFO -Division completed\n"
       ]
      },
      {
       "output_type": "stream",
       "stream": "stdout",
       "text": [
        "\n",
        "dividing cell 8"
       ]
      },
      {
       "output_type": "stream",
       "stream": "stderr",
       "text": [
        "2014-09-02 13:26:20,563 -leg_joint.epithelium -INFO -Cell 113 is born\n"
       ]
      },
      {
       "output_type": "stream",
       "stream": "stderr",
       "text": [
        "2014-09-02 13:26:20,872 -leg_joint.epithelium -INFO -Division completed\n"
       ]
      },
      {
       "output_type": "stream",
       "stream": "stdout",
       "text": [
        "\n",
        "dividing cell 4"
       ]
      },
      {
       "output_type": "stream",
       "stream": "stderr",
       "text": [
        "2014-09-02 13:26:38,119 -leg_joint.epithelium -INFO -Cell 116 is born\n"
       ]
      },
      {
       "output_type": "stream",
       "stream": "stderr",
       "text": [
        "2014-09-02 13:26:38,517 -leg_joint.epithelium -INFO -Division completed\n"
       ]
      },
      {
       "output_type": "stream",
       "stream": "stdout",
       "text": [
        "\n",
        "dividing cell 9"
       ]
      },
      {
       "output_type": "stream",
       "stream": "stderr",
       "text": [
        "2014-09-02 13:26:56,437 -leg_joint.epithelium -INFO -Cell 119 is born\n"
       ]
      },
      {
       "output_type": "stream",
       "stream": "stderr",
       "text": [
        "2014-09-02 13:26:56,848 -leg_joint.epithelium -INFO -Division completed\n"
       ]
      },
      {
       "output_type": "stream",
       "stream": "stdout",
       "text": [
        "\n",
        "dividing cell 18"
       ]
      },
      {
       "output_type": "stream",
       "stream": "stderr",
       "text": [
        "2014-09-02 13:27:14,205 -leg_joint.epithelium -INFO -Cell 122 is born\n"
       ]
      },
      {
       "output_type": "stream",
       "stream": "stderr",
       "text": [
        "2014-09-02 13:27:14,210 -leg_joint.epithelium -ERROR -Problem in the division of cell 18\n"
       ]
      },
      {
       "output_type": "stream",
       "stream": "stdout",
       "text": [
        "\n",
        "dividing cell 22"
       ]
      },
      {
       "output_type": "stream",
       "stream": "stderr",
       "text": [
        "2014-09-02 13:27:26,944 -leg_joint.epithelium -INFO -Cell 127 is born\n"
       ]
      },
      {
       "output_type": "stream",
       "stream": "stderr",
       "text": [
        "2014-09-02 13:27:27,226 -leg_joint.epithelium -INFO -Division completed\n"
       ]
      },
      {
       "output_type": "stream",
       "stream": "stdout",
       "text": [
        "\n",
        "dividing cell 19"
       ]
      },
      {
       "output_type": "stream",
       "stream": "stderr",
       "text": [
        "2014-09-02 13:27:45,107 -leg_joint.epithelium -INFO -Cell 130 is born\n"
       ]
      },
      {
       "output_type": "stream",
       "stream": "stderr",
       "text": [
        "2014-09-02 13:27:45,399 -leg_joint.epithelium -INFO -Division completed\n"
       ]
      },
      {
       "output_type": "stream",
       "stream": "stdout",
       "text": [
        "\n",
        "dividing cell 26"
       ]
      },
      {
       "output_type": "stream",
       "stream": "stderr",
       "text": [
        "2014-09-02 13:27:55,908 -leg_joint.epithelium -INFO -Cell 133 is born\n"
       ]
      },
      {
       "output_type": "stream",
       "stream": "stderr",
       "text": [
        "2014-09-02 13:27:55,911 -leg_joint.epithelium -ERROR -Problem in the division of cell 26\n"
       ]
      },
      {
       "output_type": "stream",
       "stream": "stdout",
       "text": [
        "\n",
        "dividing cell 30"
       ]
      },
      {
       "output_type": "stream",
       "stream": "stderr",
       "text": [
        "2014-09-02 13:28:04,661 -leg_joint.epithelium -INFO -Cell 134 is born\n"
       ]
      },
      {
       "output_type": "stream",
       "stream": "stderr",
       "text": [
        "2014-09-02 13:28:05,052 -leg_joint.epithelium -INFO -Division completed\n"
       ]
      },
      {
       "output_type": "stream",
       "stream": "stdout",
       "text": [
        "\n",
        "dividing cell 31"
       ]
      },
      {
       "output_type": "stream",
       "stream": "stderr",
       "text": [
        "2014-09-02 13:28:20,103 -leg_joint.epithelium -INFO -Cell 137 is born\n"
       ]
      },
      {
       "output_type": "stream",
       "stream": "stderr",
       "text": [
        "2014-09-02 13:28:20,522 -leg_joint.epithelium -INFO -Division completed\n"
       ]
      },
      {
       "output_type": "stream",
       "stream": "stdout",
       "text": [
        "\n",
        "dividing cell 29"
       ]
      },
      {
       "output_type": "stream",
       "stream": "stderr",
       "text": [
        "2014-09-02 13:28:29,111 -leg_joint.epithelium -INFO -Cell 140 is born\n"
       ]
      },
      {
       "output_type": "stream",
       "stream": "stderr",
       "text": [
        "2014-09-02 13:28:29,416 -leg_joint.epithelium -INFO -Division completed\n"
       ]
      },
      {
       "output_type": "stream",
       "stream": "stdout",
       "text": [
        "\n",
        "dividing cell 2"
       ]
      },
      {
       "output_type": "stream",
       "stream": "stderr",
       "text": [
        "2014-09-02 13:28:41,926 -leg_joint.epithelium -INFO -Cell 143 is born\n"
       ]
      },
      {
       "output_type": "stream",
       "stream": "stderr",
       "text": [
        "2014-09-02 13:28:42,366 -leg_joint.epithelium -INFO -Division completed\n"
       ]
      },
      {
       "output_type": "stream",
       "stream": "stdout",
       "text": [
        "\n",
        "dividing cell 15"
       ]
      },
      {
       "output_type": "stream",
       "stream": "stderr",
       "text": [
        "2014-09-02 13:28:55,996 -leg_joint.epithelium -INFO -Cell 146 is born\n"
       ]
      },
      {
       "output_type": "stream",
       "stream": "stderr",
       "text": [
        "2014-09-02 13:28:56,255 -leg_joint.epithelium -INFO -Division completed\n"
       ]
      },
      {
       "output_type": "stream",
       "stream": "stdout",
       "text": [
        "\n",
        "dividing cell 23"
       ]
      },
      {
       "output_type": "stream",
       "stream": "stderr",
       "text": [
        "2014-09-02 13:29:13,581 -leg_joint.epithelium -INFO -Cell 149 is born\n"
       ]
      },
      {
       "output_type": "stream",
       "stream": "stderr",
       "text": [
        "2014-09-02 13:29:14,050 -leg_joint.epithelium -INFO -Division completed\n"
       ]
      },
      {
       "output_type": "stream",
       "stream": "stdout",
       "text": [
        "\n",
        "dividing cell 32"
       ]
      },
      {
       "output_type": "stream",
       "stream": "stderr",
       "text": [
        "2014-09-02 13:29:24,414 -leg_joint.epithelium -INFO -Cell 152 is born\n"
       ]
      },
      {
       "output_type": "stream",
       "stream": "stderr",
       "text": [
        "2014-09-02 13:29:24,780 -leg_joint.epithelium -INFO -Division completed\n"
       ]
      },
      {
       "output_type": "stream",
       "stream": "stdout",
       "text": [
        "\n",
        "dividing cell 17"
       ]
      },
      {
       "output_type": "stream",
       "stream": "stderr",
       "text": [
        "2014-09-02 13:29:44,902 -leg_joint.epithelium -INFO -Cell 155 is born\n"
       ]
      },
      {
       "output_type": "stream",
       "stream": "stderr",
       "text": [
        "2014-09-02 13:29:45,337 -leg_joint.epithelium -INFO -Division completed\n"
       ]
      },
      {
       "output_type": "stream",
       "stream": "stdout",
       "text": [
        "\n",
        "dividing cell 5"
       ]
      },
      {
       "output_type": "stream",
       "stream": "stderr",
       "text": [
        "2014-09-02 13:29:58,805 -leg_joint.epithelium -INFO -Cell 158 is born\n"
       ]
      },
      {
       "output_type": "stream",
       "stream": "stderr",
       "text": [
        "2014-09-02 13:29:59,181 -leg_joint.epithelium -INFO -Division completed\n"
       ]
      },
      {
       "output_type": "stream",
       "stream": "stdout",
       "text": [
        "\n",
        "dividing cell 10"
       ]
      },
      {
       "output_type": "stream",
       "stream": "stderr",
       "text": [
        "2014-09-02 13:30:14,358 -leg_joint.epithelium -INFO -Cell 161 is born\n"
       ]
      },
      {
       "output_type": "stream",
       "stream": "stderr",
       "text": [
        "2014-09-02 13:30:14,820 -leg_joint.epithelium -INFO -Division completed\n"
       ]
      },
      {
       "output_type": "stream",
       "stream": "stdout",
       "text": [
        "\n",
        "dividing cell 25"
       ]
      },
      {
       "output_type": "stream",
       "stream": "stderr",
       "text": [
        "2014-09-02 13:30:31,697 -leg_joint.epithelium -INFO -Cell 164 is born\n"
       ]
      },
      {
       "output_type": "stream",
       "stream": "stderr",
       "text": [
        "2014-09-02 13:30:32,116 -leg_joint.epithelium -INFO -Division completed\n"
       ]
      },
      {
       "output_type": "stream",
       "stream": "stdout",
       "text": [
        "\n",
        "dividing cell 3"
       ]
      },
      {
       "output_type": "stream",
       "stream": "stderr",
       "text": [
        "2014-09-02 13:30:42,033 -leg_joint.epithelium -INFO -Cell 167 is born\n"
       ]
      },
      {
       "output_type": "stream",
       "stream": "stderr",
       "text": [
        "2014-09-02 13:30:42,491 -leg_joint.epithelium -INFO -Division completed\n"
       ]
      },
      {
       "output_type": "stream",
       "stream": "stdout",
       "text": [
        "\n"
       ]
      }
     ],
     "prompt_number": 20
    },
    {
     "cell_type": "code",
     "collapsed": false,
     "input": [
      "eptm.is_local_vert.a[:] = 1\n",
      "eptm.is_local_edge.a[:] = 1\n",
      "\n",
      "lj.graph_representation.plot_2pannels(eptm, )"
     ],
     "language": "python",
     "metadata": {},
     "outputs": [
      {
       "metadata": {},
       "output_type": "pyout",
       "prompt_number": 23,
       "text": [
        "array([<matplotlib.axes.AxesSubplot object at 0x7f6dcb698c88>,\n",
        "       <matplotlib.axes.AxesSubplot object at 0x7f6dcb6df940>], dtype=object)"
       ]
      },
      {
       "metadata": {},
       "output_type": "display_data",
       "png": "[encoded data removed]",
       "text": [
        "<matplotlib.figure.Figure at 0x7f6dcb73e710>"
       ]
      }
     ],
     "prompt_number": 23
    },
    {
     "cell_type": "code",
     "collapsed": false,
     "input": [
      "lj.running_local_optimum(eptm, tol=1e-6)"
     ],
     "language": "python",
     "metadata": {},
     "outputs": [],
     "prompt_number": 22
    },
    {
     "cell_type": "code",
     "collapsed": false,
     "input": [
      "eptm.paths['hdf']"
     ],
     "language": "python",
     "metadata": {},
     "outputs": [
      {
       "metadata": {},
       "output_type": "pyout",
       "prompt_number": 25,
       "text": [
        "'/home/guillaume/Notebooks/small/eptm_small_2014-09-02T11_24_54.h5'"
       ]
      }
     ],
     "prompt_number": 25
    },
    {
     "cell_type": "code",
     "collapsed": false,
     "input": [
      "%pdb"
     ],
     "language": "python",
     "metadata": {},
     "outputs": [
      {
       "output_type": "stream",
       "stream": "stdout",
       "text": [
        "Automatic pdb calling has been turned ON\n"
       ]
      }
     ],
     "prompt_number": 22
    },
    {
     "cell_type": "code",
     "collapsed": false,
     "input": [
      "graph = hdfgraph.graph_from_hdf('/home/guillaume/Notebooks/small/eptm_small_2014-09-02T11_24_54.h5', stamp=1)"
     ],
     "language": "python",
     "metadata": {},
     "outputs": [],
     "prompt_number": 25
    },
    {
     "cell_type": "code",
     "collapsed": false,
     "input": [
      "graph.vertex_index"
     ],
     "language": "python",
     "metadata": {},
     "outputs": [
      {
       "metadata": {},
       "output_type": "pyout",
       "prompt_number": 27,
       "text": [
        "<PropertyMap object with key type 'Vertex' and value type 'unsigned long', for Graph 0x7fd97d4a5cf8, at 0x7fd9757a5ef0>"
       ]
      }
     ],
     "prompt_number": 27
    },
    {
     "cell_type": "code",
     "collapsed": false,
     "input": [
      "vertices_df, edges_df = hdfgraph.frames_from_hdf('/home/guillaume/Notebooks/small/eptm_small_2014-09-02T11_24_54.h5', stamp=-1)"
     ],
     "language": "python",
     "metadata": {},
     "outputs": [
      {
       "output_type": "stream",
       "stream": "stdout",
       "text": [
        "98 (10188, 28)\n",
        "98 (97, 28)\n"
       ]
      }
     ],
     "prompt_number": 18
    },
    {
     "cell_type": "code",
     "collapsed": false,
     "input": [
      "vertices_df.index.names"
     ],
     "language": "python",
     "metadata": {},
     "outputs": [
      {
       "metadata": {},
       "output_type": "pyout",
       "prompt_number": 19,
       "text": [
        "FrozenList(['vertex_index'])"
       ]
      }
     ],
     "prompt_number": 19
    },
    {
     "cell_type": "code",
     "collapsed": false,
     "input": [
      "vertices_df.shape"
     ],
     "language": "python",
     "metadata": {},
     "outputs": [
      {
       "metadata": {},
       "output_type": "pyout",
       "prompt_number": 20,
       "text": [
        "(97, 28)"
       ]
      }
     ],
     "prompt_number": 20
    },
    {
     "cell_type": "code",
     "collapsed": false,
     "input": [
      "vertices_df, edges_df = hdfgraph.frames_from_hdf('/home/guillaume/Notebooks/small/eptm_small_2014-09-02T11_24_54.h5')"
     ],
     "language": "python",
     "metadata": {},
     "outputs": []
    }
   ],
   "metadata": {}
  }
 ]
}