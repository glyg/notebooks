{
 "cells": [
  {
   "cell_type": "markdown",
   "metadata": {},
   "source": [
    "### Rheology of a cellular vertex model\n",
    "\n",
    "Guillaume Gay, François Molino & Cyprien Gay\n",
    "\n",
    "The physics and maths for this work are detailed in the master report of Maxime Tortora, available [here](TORTORA_report.pdf).\n",
    "\n",
    "We write the equations for a generic junction in a 2D space. The geometric parameters can be defined on an agregate of 3 cells, as pictured bellow:\n",
    "\n",
    "![Geometric definitions](geometry.svg)\n",
    "\n",
    "\n",
    "#### The equations were written down on a blackboard, immortalized here:\n",
    "\n",
    "\n",
    "![tableau entier](tableau_entier.jpg)\n"
   ]
  },
  {
   "cell_type": "markdown",
   "metadata": {},
   "source": [
    "## Let's first write everything down in LateX"
   ]
  },
  {
   "cell_type": "markdown",
   "metadata": {},
   "source": [
    "## Equations\n",
    "\n",
    "- Laplace \n",
    "  $$\\Delta P_{BA} = (\\sigma_{ij} + \\sigma_{ji}) C_{ij}$$\n",
    "\n",
    "- curvature \n",
    "  $$ L_{ij}C_{ij} = 2\\alpha_{ij} $$\n",
    "\n",
    "- chord x \n",
    "  $$\\Delta x_{ij} =  2 a_{ij} \\cos{\\beta_{ji}}$$\n",
    "\n",
    "- chord y \n",
    "  $$\\Delta y_{ij} =  2 a_{ij} \\sin{\\beta_{ji}}$$\n",
    "\n",
    "- Volume : \n",
    "  $$ V_A = \\sum_{e_{ij} \\in C}\\left(\n",
    "      \\frac{\\textbf{r}_{Ai} \\times \\textbf{r}_{Aj}}{2}\n",
    "      + f_V(\\alpha_{ij})a_{ij}^2 \\right)$$\n",
    "with: $f_V(\\alpha) = \\left(\\alpha + 1/\\tan\\alpha\\right)/\\sin^2\\alpha$\n",
    "\n",
    "- plateau x: \n",
    "  $$ \\sum_i \\sum_j \\left(\n",
    "            \\sigma_{ij} \\cos(\\beta_{ij} - \\alpha_{ij})\\right)\n",
    "     - \\sum_j \\sum_i \\left(\n",
    "              \\sigma_{ji} \\cos(\\beta_{ji} + \\alpha_{ji})\\right) = 0$$\n",
    "\n",
    "- plateau y:\n",
    "  $$ \\sum_i \\sum_j \\left(\n",
    "            \\sigma_{ij} \\sin(\\beta_{ij} - \\alpha_{ij})\\right)\n",
    "     - \\sum_j \\sum_i \\left(\n",
    "              \\sigma_{ji} \\sin(\\beta_{ji} + \\alpha_{ji})\\right) = 0$$\n",
    "\n",
    "- arc length\n",
    "  $$ L_{ij} \\mbox{sinc}\\,\\alpha_{ij} = 2a_{ij}$$\n",
    "\n",
    "- rheology \n",
    "  $$ \\dot{L_{ij}} = L_{ij}\\left(\\frac{\\dot{\\sigma_{ij}}}{k_{ij}} + \n",
    "  \\frac{\\sigma_{ij}}{\\eta_{ij}} - m_{ij}\\right)\n",
    "  + v_c(e_{ij}) + v_c(e_{ji})$$\n",
    "\n",
    "- strain rate \n",
    "   $$ \\frac{\\dot{\\sigma_{ij}}}{k_{ij}}\n",
    "   + \\frac{\\sigma_{ij}}{\\eta_{ij}} - m_{ij}\n",
    "   - \\left(\\frac{\\dot{\\sigma_{ji}}}{k_{ji}}\n",
    "   + \\frac{\\sigma_{ji}}{\\eta_{ji}} - m_{ji}\\right) = 0$$\n",
    "   \n",
    "  \n",
    "Not included in the final set of equations is the definition of the sagitta:\n",
    "  $$ h_{ij} \\cos{\\frac{\\alpha_{ij}}{2}} =\n",
    "  a_{ij} \\sin{\\frac{\\alpha_{ij}}{2}}$$\n"
   ]
  },
  {
   "cell_type": "markdown",
   "metadata": {},
   "source": [
    "## Time differentials\n",
    "\n",
    "\n",
    "- Laplace\n",
    "$$\\dot{P}_A - \\dot{P}_B - (\\dot{\\sigma}_{ij} - \\dot{\\sigma}_{ji})C_{ij}\n",
    "                        - (\\sigma_{ij} - \\sigma_{ji})\\dot{C}_{ij} = 0$$\n",
    "\n",
    "- curvature\n",
    "$$\\dot{L}_{ij}C_{ij} + L_{ij}\\dot{C_{ij}} - 2\\dot{\\alpha}_{ij} = 0$$\n",
    "\n",
    "- chord (_swiched x_i and x_j here, right?_)\n",
    "$$\\dot{x}_j - \\dot{x}_i - 2 \\dot{a}_{ij} \\cos\\beta_{ij} - 2 a_{ij} \\dot{\\beta} \\sin {\\beta} = 0$$\n",
    "$$\\dot{y}_j - \\dot{y}_i - 2 \\dot{a}_{ij} \\sin\\beta_{ij} + 2 a_{ij} \\dot{\\beta} \\cos {\\beta} = 0$$\n",
    "\n",
    "- Volume\n",
    "$$ \\sum_{e_{ij} \\in A} \\dot{V}_A - 2f_V(\\alpha_{ij})\\, \\dot{a}_{ij} \n",
    "   - \\dot{f}_V(\\alpha_{ij})\\,\\dot{\\alpha}_{ij} a_{ij} \n",
    "   - \\frac{1}{2}\\left(\\dot{x}_i y_{Aj} + x_{Ai} \\dot{y}_{j}\n",
    "                      - \\dot{x}_j y_{Ai} - x_{Aj} \\dot{y}_{i}\\right) = 0\n",
    "$$\n",
    "with: $\\dot{f}_V(\\alpha) = 2\\left(1 - \\alpha / \\tan \\alpha \\right) / \\sin^2 \\alpha$\n",
    "\n",
    "\n",
    "- Plateau\n",
    "$$\n",
    "\\sum_i \\sum_j \\dot{\\sigma}_{ij}\\cos(\\beta_{ij} - \\alpha_{ij})\n",
    "               - \\sigma_{ij}\\dot{\\beta}_{ij}\\sin(\\beta_{ij} - \\alpha_{ij})\n",
    "               + \\sigma_{ij}\\dot{\\alpha}_{ij}\\sin(\\beta_{ij} - \\alpha_{ij})\\\\\n",
    "               - \\dot{\\sigma}_{ji}\\cos(\\beta_{ji} + \\alpha_{ji})\n",
    "               + \\sigma_{ji}\\dot{\\beta}_{ji}\\sin(\\beta_{ji} + \\alpha_{ji})\n",
    "               + \\sigma_{ij}\\dot{\\alpha}_{ji}\\sin(\\beta_{ij} + \\alpha_{ji}) = 0\n",
    "$$\n",
    "\n",
    "$$\n",
    "\\sum_i \\sum_j \\dot{\\sigma}_{ij}\\sin(\\beta_{ij} - \\alpha_{ij})\n",
    "               + \\sigma_{ij}\\dot{\\beta}_{ij}\\cos(\\beta_{ij} - \\alpha_{ij})\n",
    "               - \\sigma_{ij}\\dot{\\alpha}_{ij}\\cos(\\beta_{ij} - \\alpha_{ij})\\\\\n",
    "               - \\dot{\\sigma}_{ji}\\sin(\\beta_{ji} + \\alpha_{ji})\n",
    "               - \\sigma_{ji}\\dot{\\beta}_{ji}\\cos(\\beta_{ji} + \\alpha_{ji})\n",
    "               - \\sigma_{ij}\\dot{\\alpha}_{ji}\\cos(\\beta_{ij} + \\alpha_{ji}) = 0\n",
    "$$\n",
    "\n",
    "- arc length\n",
    "$$\n",
    "\\dot{L}_{ij}\\,\\mbox{sinc}\\,\\alpha_{ij}\n",
    "    + L_{ij}\\, \\frac{\\sin{\\alpha_{ij}} + \\alpha_{ij} \\cos{\\alpha_{ij}}}{\\alpha_{ij}^2} = 0\n",
    "$$\n",
    "\n",
    "- rheology\n",
    "$$\n",
    "\\dot{L}_{ij} - \\frac{L_{ij}}{k_{ij}}\\dot{\\sigma}_{ij}\n",
    "= L_{ij}\\frac{\\sigma_{ij}}{\\eta_{ij}} - m_{ij}L_{ij} + v_c(e_{ij}) + v_c(e_{ji})\n",
    "$$\n",
    "\n",
    "- Strain rate\n",
    "$$\n",
    "\\frac{\\dot{\\sigma}_{ij}}{k_{ij}} - \\frac{\\dot{\\sigma}_{ji}}{k_{ji}}\n",
    " = m_{ij} - m_{ji} - \\frac{\\sigma_{ij}}{\\eta_{ij}} + \\frac{\\sigma_{ji}}{\\eta_{ji}}\n",
    "$$\n"
   ]
  },
  {
   "cell_type": "markdown",
   "metadata": {
    "collapsed": true
   },
   "source": [
    "### Order of the equations\n",
    "\n",
    "- $B$ is the number of cell Bodies (here faces)\n",
    "- $v$ is the number of vertices\n",
    "- $N_1$ is the number of full edges internal to the agregate\n",
    "- $N_2$ is the number of half edges external to the agregate\n",
    "\n",
    "In the limit of big agregates\n",
    "\n",
    "- $N_1 \\sim 3B$\n",
    "- $N_2 \\sim 0$\n",
    "- $v \\sim 2B$\n",
    "\n",
    "#### Order of the unknowns in the columns (number of columns):\n",
    "- $ P_A \\quad (B)$\n",
    "- $ C_{ij} \\quad (N_1+N_2 \\sim 3B)$\n",
    "- $ x_i, y_i \\quad (2v \\sim 4B)$\n",
    "- $ \\beta_{ij} \\quad (N_1 + N_2 \\sim 3B)$\n",
    "- $ \\alpha_{ij} \\quad (N_1+N_2 \\sim 3B)$\n",
    "- $ a_{ij} \\quad (N_1+N_2 \\sim 3B)$\n",
    "- $ L_{ij} \\quad (N_1+N_2 \\sim 3B)$\n",
    "- $ \\sigma_{ij} \\quad (2N_1+N_2 \\sim 6B)$\n",
    "\n",
    "#### Order of the equations in the rows (number of rows) :\n",
    "\n",
    "- Laplace $(N_1+N_2 \\sim 3B)$\n",
    "- Curvature $(N_1+N_2 \\sim 3B)$ \n",
    "- Chord $(2N_1+2N_2 \\sim 6B)$\n",
    "- Volume $(B)$\n",
    "- Plateau $(2v \\sim 4B)$\n",
    "- Arclength $(N_1+N_2 \\sim 3B)$\n",
    "- Rheology $(N_1+N_2 \\sim 3B)$\n",
    "- Strain rate $(N_1 \\sim 3B)$\n",
    "\n",
    "#### Resulting matrix shape:\n",
    "\n",
    "![Photo and cutting by François and Cyprien !](matrix.svg)\n"
   ]
  },
  {
   "cell_type": "markdown",
   "metadata": {},
   "source": [
    "# Implementation"
   ]
  },
  {
   "cell_type": "markdown",
   "metadata": {},
   "source": [
    "### The basic geometry is held by a `tyssue.Sheet` object"
   ]
  },
  {
   "cell_type": "code",
   "execution_count": 53,
   "metadata": {
    "collapsed": false
   },
   "outputs": [],
   "source": [
    "import tyssue\n",
    "\n",
    "import numpy as np\n",
    "import pandas as pd\n",
    "\n",
    "import matplotlib.pylab as plt\n",
    "# import seaborn as sns\n",
    "%matplotlib inline\n",
    "\n",
    "import tyssue as ty\n",
    "\n",
    "from tyssue.core.sheet import Sheet\n",
    "from tyssue.geometry.planar_geometry import PlanarGeometry as basegeom\n",
    "from tyssue.draw.plt_draw import sheet_view\n",
    "from tyssue.config import load_default"
   ]
  },
  {
   "cell_type": "markdown",
   "metadata": {},
   "source": [
    "### Simple three cells geometry"
   ]
  },
  {
   "cell_type": "code",
   "execution_count": 54,
   "metadata": {
    "collapsed": true
   },
   "outputs": [],
   "source": [
    "datasets = {}\n",
    "\n",
    "bi_verts = [[0., 0.], [0., 0.]]\n",
    "bi_edges = [[]]\n",
    "\n",
    "tri_verts = [[0, 0],\n",
    "             [1, 0],\n",
    "             [-0.5, 3**0.5/2],\n",
    "             [-0.5, -3**0.5/2]]\n",
    "\n",
    "tri_edges = [[0, 1, 0],\n",
    "             [1, 2, 0],\n",
    "             [2, 0, 0],\n",
    "             [0, 3, 1],\n",
    "             [3, 1, 1],\n",
    "             [1, 0, 1],\n",
    "             [0, 2, 2],\n",
    "             [2, 3, 2],\n",
    "             [3, 0, 2]]\n",
    "\n",
    "datasets['edge'] = pd.DataFrame(data=np.array(tri_edges),\n",
    "                                columns=['srce', 'trgt', 'face'])\n",
    "datasets['edge'].index.name = 'edge'\n",
    "\n",
    "datasets['face'] = pd.DataFrame(data=np.zeros((3, 2)), columns=['x', 'y'])\n",
    "datasets['face'].index.name = 'face'\n",
    "\n",
    "datasets['vert'] = pd.DataFrame(data=np.array(tri_verts),\n",
    "                                columns=['x', 'y'])\n",
    "datasets['face'].index.name = 'vert'\n"
   ]
  },
  {
   "cell_type": "markdown",
   "metadata": {},
   "source": [
    "### Model specifications"
   ]
  },
  {
   "cell_type": "code",
   "execution_count": 58,
   "metadata": {
    "collapsed": false
   },
   "outputs": [],
   "source": [
    "reo_specs = {\n",
    "    \"edge\": {\n",
    "        \"arc_length\": 0.0, ## L\n",
    "        \"length\": 0.0, ## 2a that's the chord length\n",
    "        \"arc_chord_angle\": 0.0, ## alpha\n",
    "        \"sagitta\": 0.0, ## h\n",
    "        \"chord_orient\": 0.0, ## beta\n",
    "        \"curvature\": 0.0,\n",
    "        \"sigma\": 0.0, # surface tension\n",
    "        \"dx\": 0.0,\n",
    "        \"dy\": 0.0,\n",
    "        \"nz\": 0.0,\n",
    "        \"sub_area\": 0.0,\n",
    "        \"opposite\": -1,\n",
    "        \"modulus\": 0.0, # Young's\n",
    "        \"viscosity\": 0.0,\n",
    "        \"motor\": 0.0\n",
    "        },\n",
    "    \"face\": {\n",
    "        \"x\": 0.0,\n",
    "        \"y\": 0.0,\n",
    "        \"pressure\": 0.0,\n",
    "        \"area\": 0.0,\n",
    "        },\n",
    "    \"vert\": {\n",
    "        \"x\": 0.0,\n",
    "        \"y\": 0.0\n",
    "        }\n",
    "    }\n"
   ]
  },
  {
   "cell_type": "markdown",
   "metadata": {},
   "source": [
    "### The object itself"
   ]
  },
  {
   "cell_type": "code",
   "execution_count": 56,
   "metadata": {
    "collapsed": false
   },
   "outputs": [],
   "source": [
    "\n",
    "sheet = Sheet('tri_junction', datasets, reo_specs, coords=['x', 'y'])\n",
    "basegeom.update_dcoords(sheet)\n",
    "basegeom.update_length(sheet)\n",
    "basegeom.update_normals(sheet)\n",
    "\n",
    "basegeom.update_areas(sheet)\n"
   ]
  },
  {
   "cell_type": "code",
   "execution_count": 57,
   "metadata": {
    "collapsed": false
   },
   "outputs": [
    {
     "data": {
      "text/plain": [
       "(<matplotlib.figure.Figure at 0x7f8504c298d0>,\n",
       " <matplotlib.axes._subplots.AxesSubplot at 0x7f8504b9eb00>)"
      ]
     },
     "execution_count": 57,
     "metadata": {},
     "output_type": "execute_result"
    },
    {
     "data": {
      "image/png": "[encoded data removed]",
      "text/plain": [
       "<matplotlib.figure.Figure at 0x7f8504c298d0>"
      ]
     },
     "metadata": {},
     "output_type": "display_data"
    }
   ],
   "source": [
    "sheet_view(sheet)"
   ]
  },
  {
   "cell_type": "code",
   "execution_count": 52,
   "metadata": {
    "collapsed": true
   },
   "outputs": [],
   "source": [
    "def arc_area_alt(alpha): ## As defined by Maxime\n",
    "    alpha = np.asanyarray(alpha)\n",
    "    u = np.tan(alpha / 2)\n",
    "    f_v = (alpha * (1 + u**2)**2 -\n",
    "           4*u + 2*u*(1 + u**2)) / (4 * u**3)\n",
    "    f_v[u == 0.0] = 0\n",
    "    return f_v\n",
    "\n",
    "def arc_area(alpha): ## New definition, independant of sagitta\n",
    "    alpha = np.asarray(alpha)\n",
    "    f_v = (1 / np.sinc(alpha/np.pi) - \n",
    "           np.cos(alpha)) / np.sin(alpha)\n",
    "    f_v[np.sin(alpha) == 0.0] = 0\n",
    "    return f_v\n",
    "\n",
    "def dot_arc_area(alpha):\n",
    "    alpha = np.asanyarray(alpha)\n",
    "    dotf_v = (2 - 2*alpha / np.tan(alpha)) / np.sin(alpha)**2\n",
    "    dotf_v[dotf_v == 0.0] = 2/3.\n",
    "    return dotf_v\n",
    "\n",
    "\n",
    "alpha = np.linspace(-3*np.pi/4, 3*np.pi/4, 501)\n",
    "alpha = np.linspace(-3*np.pi/4, 3*np.pi/4, 501)\n",
    "\n",
    "\n",
    "fig, ax = plt.subplots()\n",
    "\n",
    "#ax.plot(alpha, np.tan(alpha/2)*arc_area_alt(alpha))\n",
    "ax.plot(alpha, arc_area(alpha))\n",
    "ax.plot(alpha[1:], np.diff(arc_area(alpha))/np.diff(alpha),\n",
    "        'g+', alpha=0.5)\n",
    "ax.plot(alpha, dot_arc_area(alpha))\n"
   ]
  },
  {
   "cell_type": "code",
   "execution_count": 51,
   "metadata": {
    "collapsed": false
   },
   "outputs": [
    {
     "name": "stdout",
     "output_type": "stream",
     "text": [
      "10000 loops, best of 3: 77.4 µs per loop\n",
      "10000 loops, best of 3: 50.9 µs per loop\n"
     ]
    }
   ],
   "source": [
    "%timeit arc_area(alpha)\n",
    "%timeit arc_area_alt(alpha)"
   ]
  },
  {
   "cell_type": "code",
   "execution_count": 14,
   "metadata": {
    "collapsed": false
   },
   "outputs": [
    {
     "name": "stdout",
     "output_type": "stream",
     "text": [
      "Automatic pdb calling has been turned ON\n"
     ]
    }
   ],
   "source": [
    "%pdb"
   ]
  },
  {
   "cell_type": "code",
   "execution_count": 71,
   "metadata": {
    "collapsed": true
   },
   "outputs": [],
   "source": [
    "free_edges = opp[opp == -1].index\n",
    "dble_edges = opp[opp != -1]\n"
   ]
  },
  {
   "cell_type": "code",
   "execution_count": 131,
   "metadata": {
    "collapsed": true
   },
   "outputs": [],
   "source": [
    "sheet.edge_df['arc_chord_angle'] = np.array([0.3, 0.8, 0.3,\n",
    "                                             0.3, 0.8, -0.3,\n",
    "                                             -0.3, 0.8, -0.3]) * np.pi / 2\n",
    "sheet.edge_df['curvature'] = 1 * np.sign(sheet.edge_df['arc_chord_angle'])\n",
    "\n",
    "sheet.edge_df['arc_length'] = 2 * (sheet.edge_df['arc_chord_angle'] /\n",
    "                                   sheet.edge_df['curvature'])\n",
    "\n",
    "sheet.edge_df['chord_orient'] = np.pi - np.arctan2(sheet.edge_df['dy'], \n",
    "                                                   sheet.edge_df['dx'])\n",
    "\n",
    "sheet.edge_df['sagitta'] = sheet.edge_df['length'] * np.tan(sheet.edge_df['arc_chord_angle']/2)\n"
   ]
  },
  {
   "cell_type": "code",
   "execution_count": 132,
   "metadata": {
    "collapsed": false
   },
   "outputs": [],
   "source": [
    "def get_arc_centers(sheet):\n",
    "    \n",
    "    srce_pos = sheet.upcast_srce(sheet.vert_df[sheet.coords])\n",
    "    trgt_pos = sheet.upcast_trgt(sheet.vert_df[sheet.coords])\n",
    "    \n",
    "    radius = 1 / sheet.edge_df['curvature']\n",
    "    \n",
    "    center_x = ((srce_pos.x + trgt_pos.x)/2 +\n",
    "                 (radius - sheet.edge_df['sagitta']) * \n",
    "                 sheet.edge_df['dy'] / sheet.edge_df['length'])\n",
    "\n",
    "    center_y = ((srce_pos.y + trgt_pos.y)/2 -\n",
    "                 (radius - sheet.edge_df['sagitta']) * \n",
    "                 sheet.edge_df['dx'] / sheet.edge_df['length'])\n",
    "    \n",
    "    alpha = sheet.edge_df['arc_chord_angle']\n",
    "    beta = sheet.edge_df['chord_orient']\n",
    "    \n",
    "    theta1 = -alpha + beta - np.pi/2\n",
    "    theta2 = alpha + beta - np.pi/2\n",
    "    \n",
    "    center_data = pd.DataFrame.from_dict({\n",
    "            'R': radius,\n",
    "            'x': center_x,\n",
    "            'y': center_y,\n",
    "            'theta1': theta1,\n",
    "            'theta2': theta2\n",
    "            })\n",
    "    return center_data"
   ]
  },
  {
   "cell_type": "code",
   "execution_count": 133,
   "metadata": {
    "collapsed": false
   },
   "outputs": [],
   "source": [
    "center_data = get_arc_centers(sheet)"
   ]
  },
  {
   "cell_type": "code",
   "execution_count": 136,
   "metadata": {
    "collapsed": false
   },
   "outputs": [
    {
     "data": {
      "image/png": "[encoded data removed]",
      "text/plain": [
       "<matplotlib.figure.Figure at 0x7fc4cc049e10>"
      ]
     },
     "metadata": {},
     "output_type": "display_data"
    }
   ],
   "source": [
    "from matplotlib.collections import PatchCollection\n",
    "\n",
    "from matplotlib.patches import Arc\n",
    "\n",
    "fig, ax = sheet_view(sheet, **{'edge': {'visible':False}})\n",
    "\n",
    "curves = []\n",
    "for idx, edge in center_data.iterrows():\n",
    "    \n",
    "    patch = Arc(edge[['x', 'y']],\n",
    "                2*np.abs(edge['R']),\n",
    "                2*np.abs(edge['R']),\n",
    "                edge['theta1']*180/np.pi,\n",
    "                edge['theta2']*180/np.pi)\n",
    "    curves.append(patch)\n",
    "    break\n",
    "ax.plot(center_data.x.loc[0], center_data.y.loc[0], 'k+')\n",
    "ax.add_collection(PatchCollection(curves, False, **{'facecolors':'none'}))\n",
    "\n",
    "ax.set_xlim(-4, 4)\n",
    "ax.set_ylim(-4, 4)\n",
    "fig.set_size_inches(6, 6)"
   ]
  },
  {
   "cell_type": "code",
   "execution_count": 35,
   "metadata": {
    "collapsed": true
   },
   "outputs": [],
   "source": [
    "import matplotlib\n",
    "matplotlib.patches.CirclePolygon?"
   ]
  },
  {
   "cell_type": "code",
   "execution_count": null,
   "metadata": {
    "collapsed": true
   },
   "outputs": [],
   "source": []
  }
 ],
 "metadata": {
  "kernelspec": {
   "display_name": "Python 3",
   "language": "python",
   "name": "python3"
  },
  "language_info": {
   "codemirror_mode": {
    "name": "ipython",
    "version": 3
   },
   "file_extension": ".py",
   "mimetype": "text/x-python",
   "name": "python",
   "nbconvert_exporter": "python",
   "pygments_lexer": "ipython3",
   "version": "3.5.1"
  }
 },
 "nbformat": 4,
 "nbformat_minor": 0
}
