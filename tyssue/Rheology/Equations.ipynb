{
 "cells": [
  {
   "cell_type": "code",
   "execution_count": 10,
   "metadata": {
    "collapsed": false
   },
   "outputs": [],
   "source": [
    "import tyssue\n",
    "\n",
    "import numpy as np\n",
    "import pandas as pd\n",
    "\n",
    "import matplotlib.pylab as plt\n",
    "# import seaborn as sns\n",
    "%matplotlib inline\n",
    "\n",
    "import tyssue as ty\n",
    "\n",
    "from tyssue.core.sheet import Sheet\n",
    "from tyssue.geometry.planar_geometry import PlanarGeometry\n",
    "from tyssue.draw.mpl_draw import sheet_view\n",
    "from tyssue.config import load_default"
   ]
  },
  {
   "cell_type": "code",
   "execution_count": 4,
   "metadata": {
    "collapsed": true
   },
   "outputs": [],
   "source": [
    "datasets = {}\n",
    "\n",
    "bi_verts = [[0., 0.], [0., 0.]]\n",
    "bi_edges = [[]]\n",
    "\n",
    "tri_verts = [[0, 0],\n",
    "             [1, 0],\n",
    "             [-0.5, 3**0.5/2],\n",
    "             [-0.5, -3**0.5/2]]\n",
    "\n",
    "tri_edges = [[0, 1, 0],\n",
    "             [1, 2, 0],\n",
    "             [2, 0, 0],\n",
    "             [0, 3, 1],\n",
    "             [3, 1, 1],\n",
    "             [1, 0, 1],\n",
    "             [0, 2, 2],\n",
    "             [2, 3, 2],\n",
    "             [3, 0, 2]]\n",
    "\n",
    "datasets['edge'] = pd.DataFrame(data=np.array(tri_edges),\n",
    "                                columns=['srce', 'trgt', 'face'])\n",
    "datasets['face'] = pd.DataFrame(data=np.zeros((3, 2)), columns=['x', 'y'])\n",
    "\n",
    "datasets['vert'] = pd.DataFrame(data=np.array(tri_verts),\n",
    "                                columns=['x', 'y'])\n",
    "\n"
   ]
  },
  {
   "cell_type": "code",
   "execution_count": 80,
   "metadata": {
    "collapsed": false
   },
   "outputs": [],
   "source": [
    "reo_specs = {\n",
    "    \"edge\": {\n",
    "        \"arc_length\": 0.0, ## L\n",
    "        \"lenght\": 0.0, ## a that's the chord length\n",
    "        \"arc_chord_angle\": 0.0, ## alpha\n",
    "        \"sagitta\": 0.0, ## h\n",
    "        \"chord_orient\": 0.0, ## beta\n",
    "        \"curvature\": 0.0,\n",
    "        \"sigma\": 0.0,\n",
    "        \"dx\": 0.0,\n",
    "        \"dy\": 0.0,\n",
    "        \"nz\": 0.0,\n",
    "        \"sub_area\": 0.0,\n",
    "        \"opposite\": -1,\n",
    "        \"modulus\": 0.0,\n",
    "        \"viscosity\": 0.0,\n",
    "        \"motor\": 0.0\n",
    "        },\n",
    "    \"face\": {\n",
    "        \"x\": 0.0,\n",
    "        \"y\": 0.0,\n",
    "        \"pressure\": 0.0,\n",
    "        \"area\": 0.0,\n",
    "        },\n",
    "    \"vert\": {\n",
    "        \"x\": 0.0,\n",
    "        \"y\": 0.0\n",
    "        }\n",
    "    }\n"
   ]
  },
  {
   "cell_type": "code",
   "execution_count": 81,
   "metadata": {
    "collapsed": false
   },
   "outputs": [],
   "source": [
    "\n",
    "sheet = Sheet('tri_junction', datasets, reo_specs, coords=['x', 'y'])\n",
    "PlanarGeometry.update_dcoords(sheet)\n",
    "PlanarGeometry.update_length(sheet)\n",
    "PlanarGeometry.update_normals(sheet)\n",
    "\n",
    "PlanarGeometry.update_areas(sheet)\n"
   ]
  },
  {
   "cell_type": "code",
   "execution_count": 58,
   "metadata": {
    "collapsed": false
   },
   "outputs": [
    {
     "data": {
      "text/html": [
       "<div>\n",
       "<table border=\"1\" class=\"dataframe\">\n",
       "  <thead>\n",
       "    <tr style=\"text-align: right;\">\n",
       "      <th></th>\n",
       "      <th>srce</th>\n",
       "      <th>trgt</th>\n",
       "      <th>face</th>\n",
       "      <th>sigma</th>\n",
       "      <th>opposite</th>\n",
       "      <th>dy</th>\n",
       "      <th>chord_orient</th>\n",
       "      <th>height</th>\n",
       "      <th>arc_length</th>\n",
       "      <th>dx</th>\n",
       "      <th>arc_chord_angle</th>\n",
       "      <th>motor</th>\n",
       "      <th>lenght</th>\n",
       "      <th>modulus</th>\n",
       "      <th>viscosity</th>\n",
       "      <th>length</th>\n",
       "      <th>sub_area</th>\n",
       "      <th>nz</th>\n",
       "    </tr>\n",
       "  </thead>\n",
       "  <tbody>\n",
       "    <tr>\n",
       "      <th>0</th>\n",
       "      <td>0</td>\n",
       "      <td>1</td>\n",
       "      <td>0</td>\n",
       "      <td>0</td>\n",
       "      <td>5</td>\n",
       "      <td>0.000000</td>\n",
       "      <td>0</td>\n",
       "      <td>0</td>\n",
       "      <td>0</td>\n",
       "      <td>1.0</td>\n",
       "      <td>0</td>\n",
       "      <td>0</td>\n",
       "      <td>0</td>\n",
       "      <td>0</td>\n",
       "      <td>0</td>\n",
       "      <td>1.000000</td>\n",
       "      <td>0.000000</td>\n",
       "      <td>0.000000</td>\n",
       "    </tr>\n",
       "    <tr>\n",
       "      <th>1</th>\n",
       "      <td>1</td>\n",
       "      <td>2</td>\n",
       "      <td>0</td>\n",
       "      <td>0</td>\n",
       "      <td>-1</td>\n",
       "      <td>0.866025</td>\n",
       "      <td>0</td>\n",
       "      <td>0</td>\n",
       "      <td>0</td>\n",
       "      <td>-1.5</td>\n",
       "      <td>0</td>\n",
       "      <td>0</td>\n",
       "      <td>0</td>\n",
       "      <td>0</td>\n",
       "      <td>0</td>\n",
       "      <td>1.732051</td>\n",
       "      <td>0.433013</td>\n",
       "      <td>0.866025</td>\n",
       "    </tr>\n",
       "    <tr>\n",
       "      <th>2</th>\n",
       "      <td>2</td>\n",
       "      <td>0</td>\n",
       "      <td>0</td>\n",
       "      <td>0</td>\n",
       "      <td>6</td>\n",
       "      <td>-0.866025</td>\n",
       "      <td>0</td>\n",
       "      <td>0</td>\n",
       "      <td>0</td>\n",
       "      <td>0.5</td>\n",
       "      <td>0</td>\n",
       "      <td>0</td>\n",
       "      <td>0</td>\n",
       "      <td>0</td>\n",
       "      <td>0</td>\n",
       "      <td>1.000000</td>\n",
       "      <td>0.000000</td>\n",
       "      <td>0.000000</td>\n",
       "    </tr>\n",
       "    <tr>\n",
       "      <th>3</th>\n",
       "      <td>0</td>\n",
       "      <td>3</td>\n",
       "      <td>1</td>\n",
       "      <td>0</td>\n",
       "      <td>8</td>\n",
       "      <td>-0.866025</td>\n",
       "      <td>0</td>\n",
       "      <td>0</td>\n",
       "      <td>0</td>\n",
       "      <td>-0.5</td>\n",
       "      <td>0</td>\n",
       "      <td>0</td>\n",
       "      <td>0</td>\n",
       "      <td>0</td>\n",
       "      <td>0</td>\n",
       "      <td>1.000000</td>\n",
       "      <td>0.000000</td>\n",
       "      <td>0.000000</td>\n",
       "    </tr>\n",
       "    <tr>\n",
       "      <th>4</th>\n",
       "      <td>3</td>\n",
       "      <td>1</td>\n",
       "      <td>1</td>\n",
       "      <td>0</td>\n",
       "      <td>-1</td>\n",
       "      <td>0.866025</td>\n",
       "      <td>0</td>\n",
       "      <td>0</td>\n",
       "      <td>0</td>\n",
       "      <td>1.5</td>\n",
       "      <td>0</td>\n",
       "      <td>0</td>\n",
       "      <td>0</td>\n",
       "      <td>0</td>\n",
       "      <td>0</td>\n",
       "      <td>1.732051</td>\n",
       "      <td>0.433013</td>\n",
       "      <td>0.866025</td>\n",
       "    </tr>\n",
       "  </tbody>\n",
       "</table>\n",
       "</div>"
      ],
      "text/plain": [
       "   srce  trgt  face  sigma  opposite        dy  chord_orient  height  \\\n",
       "0     0     1     0      0         5  0.000000             0       0   \n",
       "1     1     2     0      0        -1  0.866025             0       0   \n",
       "2     2     0     0      0         6 -0.866025             0       0   \n",
       "3     0     3     1      0         8 -0.866025             0       0   \n",
       "4     3     1     1      0        -1  0.866025             0       0   \n",
       "\n",
       "   arc_length   dx  arc_chord_angle  motor  lenght  modulus  viscosity  \\\n",
       "0           0  1.0                0      0       0        0          0   \n",
       "1           0 -1.5                0      0       0        0          0   \n",
       "2           0  0.5                0      0       0        0          0   \n",
       "3           0 -0.5                0      0       0        0          0   \n",
       "4           0  1.5                0      0       0        0          0   \n",
       "\n",
       "     length  sub_area        nz  \n",
       "0  1.000000  0.000000  0.000000  \n",
       "1  1.732051  0.433013  0.866025  \n",
       "2  1.000000  0.000000  0.000000  \n",
       "3  1.000000  0.000000  0.000000  \n",
       "4  1.732051  0.433013  0.866025  "
      ]
     },
     "execution_count": 58,
     "metadata": {},
     "output_type": "execute_result"
    }
   ],
   "source": [
    "sheet.edge_df.head()"
   ]
  },
  {
   "cell_type": "markdown",
   "metadata": {},
   "source": [
    "## Equations\n",
    "\n",
    "* By half edges\n",
    "\n",
    "\n",
    "* By full edges\n",
    "  \n",
    "  - Laplace \n",
    "      $$\\Delta P_{ab} = (\\sigma_{ij} + \\sigma_{ji}) C$$\n",
    "  - corde x $\\Delta x_{ij} =  2 a_{ij} \\cos{\\beta_{ji}}$\n",
    "  - corde y $\\Delta y_{ij} =  2 a_{ij} \\sin{\\beta_{ji}}$\n",
    "  - curvature $L_{ij}C_{ij} = 2*\\alpha_{ij}$\n",
    "  - sagitta $h \\cos{\\alpha/2} = a \\sin {\\alpha/2}$\n",
    "  - rheo $\\dot{L} = L\\left(\\dot{\\sigma_{ij}} / k_{ij} + \\sigma_{ij} / \\eta_{ij} - m_{ij}\\right) + vc(he_{ij} + vc(he_{ji}$\n",
    "   - strain rate $\\dot{\\sigma_{ij}} / k_{ij} + \\sigma_{ij} / \\eta_{ij} - m_{ij} = \\dot{\\sigma_{ji}} / k_{ji} + \\sigma_{ji} / \\eta_{ji} - m_{ji}$ \n",
    "   \n",
    "* By vertices\n",
    "  \n",
    "  - plateau x: $\\sum_i \\sum_j (\\sigma_{ij} \\cos(\\beta_{ij} - \\alpha_{ij}) - \\sum_j \\sum_i \\sigma_{ji} \\cos(\\beta_{ji} + \\alpha_{ji}) = 0$ \n",
    "  - plateau y: $\\sum_i \\sum_j (\\sigma_{ij} \\sin(\\beta_{ij} - \\alpha_{ij}) - \\sum_j \\sum_i \\sigma_{ji} \\sin(\\beta_{ji} + \\alpha_{ji}) = 0$\n",
    "  \n",
    "* By face\n",
    "  - Volume : sum_face (sub_area + f(\\alpha) for curvature (see Maxime's report) \n",
    "\n",
    "f_v(\\beta)\n"
   ]
  },
  {
   "cell_type": "code",
   "execution_count": 21,
   "metadata": {
    "collapsed": true
   },
   "outputs": [],
   "source": []
  },
  {
   "cell_type": "code",
   "execution_count": 48,
   "metadata": {
    "collapsed": true
   },
   "outputs": [],
   "source": [
    "def arc_area(alpha):\n",
    "    alpha = np.asarray(alpha)\n",
    "    u = np.tan(alpha / 2)\n",
    "    f_v = (alpha * (1 + u**2)**2 -\n",
    "           4*u + 2*u*(1 + u**2)) / (4 * u**3)\n",
    "    f_v[u == 0.0] = 0\n",
    "    return f_v\n",
    "\n",
    "def arc_area_alt(alpha):\n",
    "    alpha = np.asarray(alpha)\n",
    "    f_v = (1 / np.sinc(alpha/np.pi) - \n",
    "           np.cos(alpha)) / np.sin(alpha)\n",
    "    f_v[np.sin(alpha) == 0.0] = 0\n",
    "    return f_v"
   ]
  },
  {
   "cell_type": "code",
   "execution_count": 49,
   "metadata": {
    "collapsed": false
   },
   "outputs": [
    {
     "data": {
      "text/plain": [
       "[<matplotlib.lines.Line2D at 0x7fc4d6875f60>]"
      ]
     },
     "execution_count": 49,
     "metadata": {},
     "output_type": "execute_result"
    },
    {
     "data": {
      "image/png": "[encoded data removed]",
      "text/plain": [
       "<matplotlib.figure.Figure at 0x7fc4d6949da0>"
      ]
     },
     "metadata": {},
     "output_type": "display_data"
    }
   ],
   "source": [
    "\n",
    "\n",
    "alpha = np.linspace(0, 3*np.pi/4, 500)\n",
    "\n",
    "fig, ax = plt.subplots()\n",
    "\n",
    "ax.plot(alpha, np.tan(alpha/2)*arc_area(alpha))\n",
    "ax.plot(alpha, arc_area_alt(alpha))\n"
   ]
  },
  {
   "cell_type": "code",
   "execution_count": 50,
   "metadata": {
    "collapsed": false
   },
   "outputs": [
    {
     "data": {
      "text/plain": [
       "array([  0.00000000e+00,   1.28265254e+16])"
      ]
     },
     "execution_count": 50,
     "metadata": {},
     "output_type": "execute_result"
    }
   ],
   "source": [
    "arc_area([0, np.pi])"
   ]
  },
  {
   "cell_type": "code",
   "execution_count": 51,
   "metadata": {
    "collapsed": false
   },
   "outputs": [
    {
     "name": "stdout",
     "output_type": "stream",
     "text": [
      "10000 loops, best of 3: 77.4 µs per loop\n",
      "10000 loops, best of 3: 50.9 µs per loop\n"
     ]
    }
   ],
   "source": [
    "%timeit arc_area(alpha)\n",
    "%timeit arc_area_alt(alpha)"
   ]
  },
  {
   "cell_type": "code",
   "execution_count": 14,
   "metadata": {
    "collapsed": false
   },
   "outputs": [
    {
     "name": "stdout",
     "output_type": "stream",
     "text": [
      "Automatic pdb calling has been turned ON\n"
     ]
    }
   ],
   "source": [
    "%pdb"
   ]
  },
  {
   "cell_type": "code",
   "execution_count": 59,
   "metadata": {
    "collapsed": false
   },
   "outputs": [],
   "source": [
    "\n",
    "def get_opposites(sheet):\n",
    "    \n",
    "    for i, edge in sheet.edge_df.iterrows():\n",
    "        srce, trgt = edge[['srce', 'trgt']]\n",
    "        opp = sheet.edge_df[(sheet.edge_df['srce'] == trgt) &\n",
    "                            (sheet.edge_df['trgt'] == srce)].index.values\n",
    "        if opp.size > 0:\n",
    "            sheet.edge_df.loc[i, 'opposite'] = opp[0]\n",
    "            \n",
    "get_opposites(sheet)"
   ]
  },
  {
   "cell_type": "code",
   "execution_count": 67,
   "metadata": {
    "collapsed": false
   },
   "outputs": [],
   "source": [
    "opp = sheet.edge_df.opposite"
   ]
  },
  {
   "cell_type": "code",
   "execution_count": 71,
   "metadata": {
    "collapsed": true
   },
   "outputs": [],
   "source": [
    "free_edges = opp[opp == -1].index\n",
    "dble_edges = opp[opp != -1]\n"
   ]
  },
  {
   "cell_type": "code",
   "execution_count": 74,
   "metadata": {
    "collapsed": false
   },
   "outputs": [
    {
     "data": {
      "text/plain": [
       "0    5\n",
       "2    6\n",
       "3    8\n",
       "5    0\n",
       "6    2\n",
       "8    3\n",
       "Name: opposite, dtype: int64"
      ]
     },
     "execution_count": 74,
     "metadata": {},
     "output_type": "execute_result"
    }
   ],
   "source": [
    "dble_edges"
   ]
  },
  {
   "cell_type": "code",
   "execution_count": 75,
   "metadata": {
    "collapsed": false
   },
   "outputs": [
    {
     "data": {
      "image/png": "[encoded data removed]",
      "text/plain": [
       "<matplotlib.figure.Figure at 0x7fc4d677b5c0>"
      ]
     },
     "metadata": {},
     "output_type": "display_data"
    }
   ],
   "source": [
    "fig, ax = sheet_view(sheet, ['x', 'y'])\n",
    "srce_pos = sheet.upcast_srce(sheet.vert_df[sheet.coords])\n",
    "\n",
    "for idx, v in sheet.vert_df.iterrows():\n",
    "    ax.text(v.x+0.1, v.y+0.1, str(idx))\n",
    "    "
   ]
  },
  {
   "cell_type": "code",
   "execution_count": 88,
   "metadata": {
    "collapsed": false
   },
   "outputs": [
    {
     "data": {
      "text/html": [
       "<div>\n",
       "<table border=\"1\" class=\"dataframe\">\n",
       "  <thead>\n",
       "    <tr style=\"text-align: right;\">\n",
       "      <th></th>\n",
       "      <th>srce</th>\n",
       "      <th>trgt</th>\n",
       "      <th>opposite</th>\n",
       "    </tr>\n",
       "  </thead>\n",
       "  <tbody>\n",
       "    <tr>\n",
       "      <th>0</th>\n",
       "      <td>0</td>\n",
       "      <td>1</td>\n",
       "      <td>5</td>\n",
       "    </tr>\n",
       "    <tr>\n",
       "      <th>1</th>\n",
       "      <td>1</td>\n",
       "      <td>2</td>\n",
       "      <td>-1</td>\n",
       "    </tr>\n",
       "    <tr>\n",
       "      <th>2</th>\n",
       "      <td>2</td>\n",
       "      <td>0</td>\n",
       "      <td>6</td>\n",
       "    </tr>\n",
       "    <tr>\n",
       "      <th>3</th>\n",
       "      <td>0</td>\n",
       "      <td>3</td>\n",
       "      <td>8</td>\n",
       "    </tr>\n",
       "    <tr>\n",
       "      <th>4</th>\n",
       "      <td>3</td>\n",
       "      <td>1</td>\n",
       "      <td>-1</td>\n",
       "    </tr>\n",
       "    <tr>\n",
       "      <th>5</th>\n",
       "      <td>1</td>\n",
       "      <td>0</td>\n",
       "      <td>0</td>\n",
       "    </tr>\n",
       "    <tr>\n",
       "      <th>6</th>\n",
       "      <td>0</td>\n",
       "      <td>2</td>\n",
       "      <td>2</td>\n",
       "    </tr>\n",
       "    <tr>\n",
       "      <th>7</th>\n",
       "      <td>2</td>\n",
       "      <td>3</td>\n",
       "      <td>-1</td>\n",
       "    </tr>\n",
       "    <tr>\n",
       "      <th>8</th>\n",
       "      <td>3</td>\n",
       "      <td>0</td>\n",
       "      <td>3</td>\n",
       "    </tr>\n",
       "  </tbody>\n",
       "</table>\n",
       "</div>"
      ],
      "text/plain": [
       "   srce  trgt  opposite\n",
       "0     0     1         5\n",
       "1     1     2        -1\n",
       "2     2     0         6\n",
       "3     0     3         8\n",
       "4     3     1        -1\n",
       "5     1     0         0\n",
       "6     0     2         2\n",
       "7     2     3        -1\n",
       "8     3     0         3"
      ]
     },
     "execution_count": 88,
     "metadata": {},
     "output_type": "execute_result"
    }
   ],
   "source": [
    "sheet.edge_df[['srce', 'trgt', 'opposite']]"
   ]
  },
  {
   "cell_type": "code",
   "execution_count": 131,
   "metadata": {
    "collapsed": true
   },
   "outputs": [],
   "source": [
    "sheet.edge_df['arc_chord_angle'] = np.array([0.3, 0.8, 0.3,\n",
    "                                             0.3, 0.8, -0.3,\n",
    "                                             -0.3, 0.8, -0.3]) * np.pi / 2\n",
    "sheet.edge_df['curvature'] = 1 * np.sign(sheet.edge_df['arc_chord_angle'])\n",
    "\n",
    "sheet.edge_df['arc_length'] = 2 * (sheet.edge_df['arc_chord_angle'] /\n",
    "                                   sheet.edge_df['curvature'])\n",
    "\n",
    "sheet.edge_df['chord_orient'] = np.pi - np.arctan2(sheet.edge_df['dy'], \n",
    "                                                   sheet.edge_df['dx'])\n",
    "\n",
    "sheet.edge_df['sagitta'] = sheet.edge_df['length'] * np.tan(sheet.edge_df['arc_chord_angle']/2)\n"
   ]
  },
  {
   "cell_type": "code",
   "execution_count": 132,
   "metadata": {
    "collapsed": false
   },
   "outputs": [],
   "source": [
    "def get_arc_centers(sheet):\n",
    "    \n",
    "    srce_pos = sheet.upcast_srce(sheet.vert_df[sheet.coords])\n",
    "    trgt_pos = sheet.upcast_trgt(sheet.vert_df[sheet.coords])\n",
    "    \n",
    "    radius = 1 / sheet.edge_df['curvature']\n",
    "    \n",
    "    center_x = ((srce_pos.x + trgt_pos.x)/2 +\n",
    "                 (radius - sheet.edge_df['sagitta']) * \n",
    "                 sheet.edge_df['dy'] / sheet.edge_df['length'])\n",
    "\n",
    "    center_y = ((srce_pos.y + trgt_pos.y)/2 -\n",
    "                 (radius - sheet.edge_df['sagitta']) * \n",
    "                 sheet.edge_df['dx'] / sheet.edge_df['length'])\n",
    "    \n",
    "    alpha = sheet.edge_df['arc_chord_angle']\n",
    "    beta = sheet.edge_df['chord_orient']\n",
    "    \n",
    "    theta1 = -alpha + beta - np.pi/2\n",
    "    theta2 = alpha + beta - np.pi/2\n",
    "    \n",
    "    center_data = pd.DataFrame.from_dict({\n",
    "            'R': radius,\n",
    "            'x': center_x,\n",
    "            'y': center_y,\n",
    "            'theta1': theta1,\n",
    "            'theta2': theta2\n",
    "            })\n",
    "    return center_data"
   ]
  },
  {
   "cell_type": "code",
   "execution_count": 133,
   "metadata": {
    "collapsed": false
   },
   "outputs": [],
   "source": [
    "center_data = get_arc_centers(sheet)"
   ]
  },
  {
   "cell_type": "code",
   "execution_count": 136,
   "metadata": {
    "collapsed": false
   },
   "outputs": [
    {
     "data": {
      "image/png": "[encoded data removed]",
      "text/plain": [
       "<matplotlib.figure.Figure at 0x7fc4cc049e10>"
      ]
     },
     "metadata": {},
     "output_type": "display_data"
    }
   ],
   "source": [
    "from matplotlib.collections import PatchCollection\n",
    "\n",
    "from matplotlib.patches import Arc\n",
    "\n",
    "fig, ax = sheet_view(sheet, **{'edge': {'visible':False}})\n",
    "\n",
    "curves = []\n",
    "for idx, edge in center_data.iterrows():\n",
    "    \n",
    "    patch = Arc(edge[['x', 'y']],\n",
    "                2*np.abs(edge['R']),\n",
    "                2*np.abs(edge['R']),\n",
    "                edge['theta1']*180/np.pi,\n",
    "                edge['theta2']*180/np.pi)\n",
    "    curves.append(patch)\n",
    "    break\n",
    "ax.plot(center_data.x.loc[0], center_data.y.loc[0], 'k+')\n",
    "ax.add_collection(PatchCollection(curves, False, **{'facecolors':'none'}))\n",
    "\n",
    "ax.set_xlim(-4, 4)\n",
    "ax.set_ylim(-4, 4)\n",
    "fig.set_size_inches(6, 6)"
   ]
  },
  {
   "cell_type": "code",
   "execution_count": 35,
   "metadata": {
    "collapsed": true
   },
   "outputs": [],
   "source": [
    "import matplotlib\n",
    "matplotlib.patches.CirclePolygon?"
   ]
  },
  {
   "cell_type": "code",
   "execution_count": 11,
   "metadata": {
    "collapsed": false
   },
   "outputs": [
    {
     "data": {
      "text/html": [
       "<div>\n",
       "<table border=\"1\" class=\"dataframe\">\n",
       "  <thead>\n",
       "    <tr style=\"text-align: right;\">\n",
       "      <th></th>\n",
       "      <th>nz</th>\n",
       "      <th>ny</th>\n",
       "      <th>nx</th>\n",
       "      <th>dx</th>\n",
       "      <th>length</th>\n",
       "      <th>srce</th>\n",
       "      <th>dy</th>\n",
       "      <th>trgt</th>\n",
       "      <th>dz</th>\n",
       "      <th>face</th>\n",
       "      <th>sub_area</th>\n",
       "    </tr>\n",
       "    <tr>\n",
       "      <th>edge</th>\n",
       "      <th></th>\n",
       "      <th></th>\n",
       "      <th></th>\n",
       "      <th></th>\n",
       "      <th></th>\n",
       "      <th></th>\n",
       "      <th></th>\n",
       "      <th></th>\n",
       "      <th></th>\n",
       "      <th></th>\n",
       "      <th></th>\n",
       "    </tr>\n",
       "  </thead>\n",
       "  <tbody>\n",
       "    <tr>\n",
       "      <th>0</th>\n",
       "      <td>-0</td>\n",
       "      <td>0</td>\n",
       "      <td>0</td>\n",
       "      <td>1.0</td>\n",
       "      <td>1.000000</td>\n",
       "      <td>0</td>\n",
       "      <td>0.000</td>\n",
       "      <td>1</td>\n",
       "      <td>0</td>\n",
       "      <td>0</td>\n",
       "      <td>0</td>\n",
       "    </tr>\n",
       "    <tr>\n",
       "      <th>1</th>\n",
       "      <td>-0</td>\n",
       "      <td>0</td>\n",
       "      <td>0</td>\n",
       "      <td>0.5</td>\n",
       "      <td>0.999978</td>\n",
       "      <td>1</td>\n",
       "      <td>0.866</td>\n",
       "      <td>2</td>\n",
       "      <td>0</td>\n",
       "      <td>0</td>\n",
       "      <td>0</td>\n",
       "    </tr>\n",
       "    <tr>\n",
       "      <th>2</th>\n",
       "      <td>0</td>\n",
       "      <td>0</td>\n",
       "      <td>0</td>\n",
       "      <td>-0.5</td>\n",
       "      <td>0.999978</td>\n",
       "      <td>2</td>\n",
       "      <td>0.866</td>\n",
       "      <td>3</td>\n",
       "      <td>0</td>\n",
       "      <td>0</td>\n",
       "      <td>0</td>\n",
       "    </tr>\n",
       "    <tr>\n",
       "      <th>3</th>\n",
       "      <td>0</td>\n",
       "      <td>0</td>\n",
       "      <td>0</td>\n",
       "      <td>-1.0</td>\n",
       "      <td>1.000000</td>\n",
       "      <td>3</td>\n",
       "      <td>0.000</td>\n",
       "      <td>4</td>\n",
       "      <td>0</td>\n",
       "      <td>0</td>\n",
       "      <td>0</td>\n",
       "    </tr>\n",
       "    <tr>\n",
       "      <th>4</th>\n",
       "      <td>0</td>\n",
       "      <td>0</td>\n",
       "      <td>0</td>\n",
       "      <td>-0.5</td>\n",
       "      <td>0.999978</td>\n",
       "      <td>4</td>\n",
       "      <td>-0.866</td>\n",
       "      <td>5</td>\n",
       "      <td>0</td>\n",
       "      <td>0</td>\n",
       "      <td>0</td>\n",
       "    </tr>\n",
       "    <tr>\n",
       "      <th>5</th>\n",
       "      <td>0</td>\n",
       "      <td>0</td>\n",
       "      <td>0</td>\n",
       "      <td>0.5</td>\n",
       "      <td>0.999978</td>\n",
       "      <td>5</td>\n",
       "      <td>-0.866</td>\n",
       "      <td>0</td>\n",
       "      <td>0</td>\n",
       "      <td>0</td>\n",
       "      <td>0</td>\n",
       "    </tr>\n",
       "    <tr>\n",
       "      <th>6</th>\n",
       "      <td>0</td>\n",
       "      <td>0</td>\n",
       "      <td>0</td>\n",
       "      <td>-0.5</td>\n",
       "      <td>0.999978</td>\n",
       "      <td>0</td>\n",
       "      <td>0.866</td>\n",
       "      <td>5</td>\n",
       "      <td>0</td>\n",
       "      <td>1</td>\n",
       "      <td>0</td>\n",
       "    </tr>\n",
       "    <tr>\n",
       "      <th>7</th>\n",
       "      <td>0</td>\n",
       "      <td>0</td>\n",
       "      <td>0</td>\n",
       "      <td>-1.0</td>\n",
       "      <td>1.000000</td>\n",
       "      <td>5</td>\n",
       "      <td>0.000</td>\n",
       "      <td>6</td>\n",
       "      <td>0</td>\n",
       "      <td>1</td>\n",
       "      <td>0</td>\n",
       "    </tr>\n",
       "    <tr>\n",
       "      <th>8</th>\n",
       "      <td>0</td>\n",
       "      <td>0</td>\n",
       "      <td>0</td>\n",
       "      <td>-0.5</td>\n",
       "      <td>0.999978</td>\n",
       "      <td>6</td>\n",
       "      <td>-0.866</td>\n",
       "      <td>7</td>\n",
       "      <td>0</td>\n",
       "      <td>1</td>\n",
       "      <td>0</td>\n",
       "    </tr>\n",
       "    <tr>\n",
       "      <th>9</th>\n",
       "      <td>0</td>\n",
       "      <td>0</td>\n",
       "      <td>0</td>\n",
       "      <td>0.5</td>\n",
       "      <td>0.999978</td>\n",
       "      <td>7</td>\n",
       "      <td>-0.866</td>\n",
       "      <td>8</td>\n",
       "      <td>0</td>\n",
       "      <td>1</td>\n",
       "      <td>0</td>\n",
       "    </tr>\n",
       "    <tr>\n",
       "      <th>10</th>\n",
       "      <td>-0</td>\n",
       "      <td>0</td>\n",
       "      <td>0</td>\n",
       "      <td>1.0</td>\n",
       "      <td>1.000000</td>\n",
       "      <td>8</td>\n",
       "      <td>0.000</td>\n",
       "      <td>9</td>\n",
       "      <td>0</td>\n",
       "      <td>1</td>\n",
       "      <td>0</td>\n",
       "    </tr>\n",
       "    <tr>\n",
       "      <th>11</th>\n",
       "      <td>-0</td>\n",
       "      <td>0</td>\n",
       "      <td>0</td>\n",
       "      <td>0.5</td>\n",
       "      <td>0.999978</td>\n",
       "      <td>9</td>\n",
       "      <td>0.866</td>\n",
       "      <td>0</td>\n",
       "      <td>0</td>\n",
       "      <td>1</td>\n",
       "      <td>0</td>\n",
       "    </tr>\n",
       "    <tr>\n",
       "      <th>12</th>\n",
       "      <td>0</td>\n",
       "      <td>0</td>\n",
       "      <td>0</td>\n",
       "      <td>-0.5</td>\n",
       "      <td>0.999978</td>\n",
       "      <td>0</td>\n",
       "      <td>-0.866</td>\n",
       "      <td>9</td>\n",
       "      <td>0</td>\n",
       "      <td>2</td>\n",
       "      <td>0</td>\n",
       "    </tr>\n",
       "    <tr>\n",
       "      <th>13</th>\n",
       "      <td>0</td>\n",
       "      <td>0</td>\n",
       "      <td>0</td>\n",
       "      <td>0.5</td>\n",
       "      <td>0.999978</td>\n",
       "      <td>9</td>\n",
       "      <td>-0.866</td>\n",
       "      <td>10</td>\n",
       "      <td>0</td>\n",
       "      <td>2</td>\n",
       "      <td>0</td>\n",
       "    </tr>\n",
       "    <tr>\n",
       "      <th>14</th>\n",
       "      <td>-0</td>\n",
       "      <td>0</td>\n",
       "      <td>0</td>\n",
       "      <td>1.0</td>\n",
       "      <td>1.000000</td>\n",
       "      <td>10</td>\n",
       "      <td>0.000</td>\n",
       "      <td>11</td>\n",
       "      <td>0</td>\n",
       "      <td>2</td>\n",
       "      <td>0</td>\n",
       "    </tr>\n",
       "    <tr>\n",
       "      <th>15</th>\n",
       "      <td>-0</td>\n",
       "      <td>0</td>\n",
       "      <td>0</td>\n",
       "      <td>0.5</td>\n",
       "      <td>0.999978</td>\n",
       "      <td>11</td>\n",
       "      <td>0.866</td>\n",
       "      <td>12</td>\n",
       "      <td>0</td>\n",
       "      <td>2</td>\n",
       "      <td>0</td>\n",
       "    </tr>\n",
       "    <tr>\n",
       "      <th>16</th>\n",
       "      <td>0</td>\n",
       "      <td>0</td>\n",
       "      <td>0</td>\n",
       "      <td>-0.5</td>\n",
       "      <td>0.999978</td>\n",
       "      <td>12</td>\n",
       "      <td>0.866</td>\n",
       "      <td>1</td>\n",
       "      <td>0</td>\n",
       "      <td>2</td>\n",
       "      <td>0</td>\n",
       "    </tr>\n",
       "    <tr>\n",
       "      <th>17</th>\n",
       "      <td>0</td>\n",
       "      <td>0</td>\n",
       "      <td>0</td>\n",
       "      <td>-1.0</td>\n",
       "      <td>1.000000</td>\n",
       "      <td>1</td>\n",
       "      <td>0.000</td>\n",
       "      <td>0</td>\n",
       "      <td>0</td>\n",
       "      <td>2</td>\n",
       "      <td>0</td>\n",
       "    </tr>\n",
       "  </tbody>\n",
       "</table>\n",
       "</div>"
      ],
      "text/plain": [
       "      nz  ny  nx   dx    length  srce     dy  trgt  dz  face  sub_area\n",
       "edge                                                                  \n",
       "0     -0   0   0  1.0  1.000000     0  0.000     1   0     0         0\n",
       "1     -0   0   0  0.5  0.999978     1  0.866     2   0     0         0\n",
       "2      0   0   0 -0.5  0.999978     2  0.866     3   0     0         0\n",
       "3      0   0   0 -1.0  1.000000     3  0.000     4   0     0         0\n",
       "4      0   0   0 -0.5  0.999978     4 -0.866     5   0     0         0\n",
       "5      0   0   0  0.5  0.999978     5 -0.866     0   0     0         0\n",
       "6      0   0   0 -0.5  0.999978     0  0.866     5   0     1         0\n",
       "7      0   0   0 -1.0  1.000000     5  0.000     6   0     1         0\n",
       "8      0   0   0 -0.5  0.999978     6 -0.866     7   0     1         0\n",
       "9      0   0   0  0.5  0.999978     7 -0.866     8   0     1         0\n",
       "10    -0   0   0  1.0  1.000000     8  0.000     9   0     1         0\n",
       "11    -0   0   0  0.5  0.999978     9  0.866     0   0     1         0\n",
       "12     0   0   0 -0.5  0.999978     0 -0.866     9   0     2         0\n",
       "13     0   0   0  0.5  0.999978     9 -0.866    10   0     2         0\n",
       "14    -0   0   0  1.0  1.000000    10  0.000    11   0     2         0\n",
       "15    -0   0   0  0.5  0.999978    11  0.866    12   0     2         0\n",
       "16     0   0   0 -0.5  0.999978    12  0.866     1   0     2         0\n",
       "17     0   0   0 -1.0  1.000000     1  0.000     0   0     2         0"
      ]
     },
     "execution_count": 11,
     "metadata": {},
     "output_type": "execute_result"
    }
   ],
   "source": [
    "sheet.edge_df"
   ]
  },
  {
   "cell_type": "code",
   "execution_count": null,
   "metadata": {
    "collapsed": true
   },
   "outputs": [],
   "source": []
  }
 ],
 "metadata": {
  "kernelspec": {
   "display_name": "Python 3",
   "language": "python",
   "name": "python3"
  },
  "language_info": {
   "codemirror_mode": {
    "name": "ipython",
    "version": 3
   },
   "file_extension": ".py",
   "mimetype": "text/x-python",
   "name": "python",
   "nbconvert_exporter": "python",
   "pygments_lexer": "ipython3",
   "version": "3.5.1"
  }
 },
 "nbformat": 4,
 "nbformat_minor": 0
}
