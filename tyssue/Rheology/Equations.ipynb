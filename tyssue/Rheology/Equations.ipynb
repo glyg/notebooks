{
 "cells": [
  {
   "cell_type": "markdown",
   "metadata": {},
   "source": [
    "### Rheology of a cellular vertex model\n",
    "\n",
    "Guillaume Gay, François Molino & Cyprien Gay\n",
    "\n",
    "The physics and maths for this work are detailed in the master report of Maxime Tortora, available [here](TORTORA_report.pdf).\n",
    "\n",
    "We write the equations for a generic junction in a 2D space. The geometric parameters can be defined on an agregate of 3 cells, as pictured bellow:\n",
    "\n",
    "![Geometric definitions](geometry.svg)\n",
    "\n",
    "\n",
    "#### The equations were written down on a blackboard, immortalized here:\n",
    "\n",
    "\n",
    "![tableau entier](00_tableau_entier.jpg)\n"
   ]
  },
  {
   "cell_type": "markdown",
   "metadata": {},
   "source": [
    "## Let's first write everything down in LateX"
   ]
  },
  {
   "cell_type": "markdown",
   "metadata": {},
   "source": [
    "\n",
    "## Equations\n",
    "\n",
    "- Laplace \n",
    "  $$\\Delta P_{BA} = (\\sigma_{ij} + \\sigma_{ji}) C_{ij}$$\n",
    "\n",
    "- curvature \n",
    "  $$ L_{ij}C_{ij} = 2\\alpha_{ij} $$\n",
    "\n",
    "- chord x \n",
    "  $$\\Delta x_{ij} =  2 a_{ij} \\cos{\\beta_{ji}}$$\n",
    "\n",
    "- chord y \n",
    "  $$\\Delta y_{ij} =  2 a_{ij} \\sin{\\beta_{ji}}$$\n",
    "\n",
    "- Volume : \n",
    "  $$ V_A = \\sum_{e_{ij} \\in C}\\left(\\frac{\\textbf{r}_{Ai} \\times \\textbf{r}_{Aj}}{2} + f_V(\\alpha_{ij})a_{ij}^2 \\right)$$\n",
    "with: $f_V(\\alpha) = \\left(\\alpha + 1/\\tan\\alpha\\right)/\\sin^2\\alpha$\n",
    "\n",
    "- plateau x: \n",
    "  $$ \\sum_{e_{ij}} \\left(\\sigma_{ij} \\cos(\\beta_{ij} - \\alpha_{ij})\\right) - \\sum_{e_{ji}} \\left(\\sigma_{ji} \\cos(\\beta_{ji} + \\alpha_{ji})\\right) = 0$$\n",
    "\n",
    "- plateau y:\n",
    "  $$ \\sum_{e_{ij}} \\left(\\sigma_{ij} \\sin(\\beta_{ij} - \\alpha_{ij})\\right) - \\sum_{e_{ji}} \\left(\\sigma_{ji} \\sin(\\beta_{ji} + \\alpha_{ji})\\right) = 0$$\n",
    "\n",
    "- arc length\n",
    "  $$ L_{ij} \\mbox{sinc}\\,\\alpha_{ij} = 2a_{ij}$$\n",
    "\n",
    "- rheology \n",
    "  $$ \\dot{L_{ij}} = L_{ij}\\left(\\frac{\\dot{\\sigma_{ij}}}{k_{ij}} + \\frac{\\sigma_{ij}}{\\eta_{ij}} - m_{ij}\\right) + v_c(e_{ij}) + v_c(e_{ji})$$\n",
    "\n",
    "- strain rate \n",
    "   $$ \\frac{\\dot{\\sigma_{ij}}}{k_{ij}} + \\frac{\\sigma_{ij}}{\\eta_{ij}} - m_{ij} - \\left(\\frac{\\dot{\\sigma_{ji}}}{k_{ji}}  + \\frac{\\sigma_{ji}}{\\eta_{ji}} - m_{ji}\\right) = 0$$\n",
    "   \n",
    "  \n",
    "Not included in the final set of equations is the definition of the sagitta:\n",
    "  $$ h_{ij} \\cos{\\frac{\\alpha_{ij}}{2}} =  a_{ij} \\sin{\\frac{\\alpha_{ij}}{2}}$$\n"
   ]
  },
  {
   "cell_type": "markdown",
   "metadata": {},
   "source": [
    "## Time differentials\n",
    "\n",
    "\n",
    "- Laplace\n",
    "$$\\dot{P}_B - \\dot{P}_A + (\\dot{\\sigma}_{ij} + \\dot{\\sigma}_{ji})C_{ij} + (\\sigma_{ij} + \\sigma_{ji})\\dot{C}_{ij} = 0$$\n",
    "\n",
    "- curvature\n",
    "$$\\dot{L}_{ij}C_{ij} + L_{ij}\\dot{C_{ij}} - 2\\dot{\\alpha}_{ij} = 0$$\n",
    "\n",
    "- chord (_swiched $x_i$ and $x_j$ wrt to the blackboard here, right?_)\n",
    "$$\\dot{x}_j - \\dot{x}_i - 2 \\dot{a}_{ij} \\cos\\beta_{ij} - 2 a_{ij} \\dot{\\beta} \\sin {\\beta} = 0$$\n",
    "$$\\dot{y}_j - \\dot{y}_i - 2 \\dot{a}_{ij} \\sin\\beta_{ij} + 2 a_{ij} \\dot{\\beta} \\cos {\\beta} = 0$$\n",
    "\n",
    "- Volume\n",
    "$$ \\sum_{e_{ij} \\in A} \\left(2f_V(\\alpha_{ij})\\, \\dot{a}_{ij}\\,a_{ij} + \\dot{f}_V(\\alpha_{ij})\\,\\dot{\\alpha}_{ij} a_{ij}^2 + \\frac{1}{2}\\left(\\dot{x}_i y_{Aj} + x_{Ai} \\dot{y}_{j} - \\dot{x}_j y_{Ai} - x_{Aj} \\dot{y}_{i}\\right)\\right) = \\dot{V}_A$$\n",
    "\n",
    "with: $\\dot{f}_V(\\alpha) = 2\\left(1 - \\alpha / \\tan \\alpha \\right) / \\sin^2 \\alpha$\n",
    "\n",
    "- Plateau\n",
    "$$ \\sum_{e_{ij}} \\dot{\\sigma}_{ij}\\cos(\\beta_{ij} - \\alpha_{ij})- \\sigma_{ij}\\dot{\\beta}_{ij}\\sin(\\beta_{ij} - \\alpha_{ij}) + \\sigma_{ij}\\dot{\\alpha}_{ij}\\sin(\\beta_{ij} - \\alpha_{ij})\\\\+ \\sum_{e_{ji}} - \\dot{\\sigma}_{ji}\\cos(\\beta_{ji} + \\alpha_{ji}) + \\sigma_{ji}\\dot{\\beta}_{ji}\\sin(\\beta_{ji} + \\alpha_{ji}) + \\sigma_{ij}\\dot{\\alpha}_{ji}\\sin(\\beta_{ij} + \\alpha_{ji}) = 0 $$\n",
    "\n",
    "$$ \\sum_{e_{ij}} \\dot{\\sigma}_{ij}\\sin(\\beta_{ij} - \\alpha_{ij}) + \\sigma_{ij}\\dot{\\beta}_{ij}\\cos(\\beta_{ij} - \\alpha_{ij}) - \\sigma_{ij}\\dot{\\alpha}_{ij}\\cos(\\beta_{ij} - \\alpha_{ij})\\\\ + \\sum_{e_{ji}} - \\dot{\\sigma}_{ji}\\sin(\\beta_{ji} + \\alpha_{ji}) - \\sigma_{ji}\\dot{\\beta}_{ji}\\cos(\\beta_{ji} + \\alpha_{ji}) - \\sigma_{ij}\\dot{\\alpha}_{ji}\\cos(\\beta_{ij} + \\alpha_{ji}) = 0 $$\n",
    "\n",
    "- arc length\n",
    "$$ \\dot{L}_{ij}\\,\\mbox{sinc}\\,\\alpha_{ij} + L_{ij}\\, \\frac{\\sin{\\alpha_{ij}} + \\alpha_{ij} \\cos{\\alpha_{ij}}}{\\alpha_{ij}^2}\\dot{\\alpha_{ij}} = 0 $$\n",
    "\n",
    "- rheology\n",
    "$$ \\dot{L}_{ij} - \\frac{L_{ij}}{k_{ij}}\\dot{\\sigma}_{ij} = L_{ij}\\frac{\\sigma_{ij}}{\\eta_{ij}} - m_{ij}L_{ij} + v_c(e_{ij}) + v_c(e_{ji}) $$\n",
    "\n",
    "- Strain rate\n",
    "$$ \\frac{\\dot{\\sigma}_{ij}}{k_{ij}} - \\frac{\\dot{\\sigma}_{ji}}{k_{ji}} = m_{ij} - m_{ji} - \\frac{\\sigma_{ij}}{\\eta_{ij}} + \\frac{\\sigma_{ji}}{\\eta_{ji}}$$\n"
   ]
  },
  {
   "cell_type": "markdown",
   "metadata": {
    "collapsed": true
   },
   "source": [
    "### Order of the equations\n",
    "\n",
    "- $B$ is the number of cell Bodies (here faces)\n",
    "- $v$ is the number of vertices\n",
    "- $N_1$ is the number of full edges internal to the agregate\n",
    "- $N_2$ is the number of half edges external to the agregate\n",
    "\n",
    "In the limit of big agregates\n",
    "\n",
    "- $N_1 \\sim 3B$\n",
    "- $N_2 \\sim 0$\n",
    "- $v \\sim 2B$\n",
    "\n",
    "#### Order of the unknowns in the columns (number of columns):\n",
    "- $ P_A \\quad (B)$\n",
    "- $ C_{ij} \\quad (N_1+N_2 \\sim 3B)$\n",
    "- $ x_i, y_i \\quad (2v \\sim 4B)$\n",
    "- $ \\beta_{ij} \\quad (N_1 + N_2 \\sim 3B)$\n",
    "- $ \\alpha_{ij} \\quad (N_1+N_2 \\sim 3B)$\n",
    "- $ a_{ij} \\quad (N_1+N_2 \\sim 3B)$\n",
    "- $ L_{ij} \\quad (N_1+N_2 \\sim 3B)$\n",
    "- $ \\sigma_{ij} \\quad (2N_1+N_2 \\sim 6B)$\n",
    "\n",
    "#### Order of the equations in the rows (number of rows) :\n",
    "\n",
    "- Laplace $(N_1+N_2 \\sim 3B)$\n",
    "- Curvature $(N_1+N_2 \\sim 3B)$ \n",
    "- Chord $(2N_1+2N_2 \\sim 6B)$\n",
    "- Volume $(B)$\n",
    "- Plateau $(2v \\sim 4B)$\n",
    "- arc length $(N_1+N_2 \\sim 3B)$\n",
    "- Rheology $(N_1+N_2 \\sim 3B)$\n",
    "- Strain rate $(N_1 \\sim 3B)$\n",
    "\n",
    "#### Resulting matrix shape:\n",
    "\n",
    "![Photo and cutting by François and Cyprien !](matrix.svg)\n"
   ]
  },
  {
   "cell_type": "markdown",
   "metadata": {},
   "source": [
    "# Implementation"
   ]
  },
  {
   "cell_type": "markdown",
   "metadata": {},
   "source": [
    "### The basic geometry is held by a `tyssue.Sheet` object\n",
    "\n",
    "Not this one:\n",
    "\n",
    "<a href=\"http://reactiongifs.com/?p=17211\"><img src=\"http://www.reactiongifs.com/r/2013/11/The-Wire-SHIT-Clay-Davis.gif\"></a>"
   ]
  },
  {
   "cell_type": "code",
   "execution_count": 1,
   "metadata": {
    "collapsed": false
   },
   "outputs": [],
   "source": [
    "import tyssue\n",
    "\n",
    "import numpy as np\n",
    "import pandas as pd\n",
    "\n",
    "import matplotlib.pylab as plt\n",
    "# import seaborn as sns\n",
    "%matplotlib inline\n",
    "\n",
    "import tyssue as ty\n",
    "\n",
    "from tyssue.core.sheet import Sheet\n",
    "from tyssue.geometry.planar_geometry import PlanarGeometry\n",
    "from tyssue.draw.plt_draw import sheet_view\n",
    "from tyssue.config import load_default"
   ]
  },
  {
   "cell_type": "markdown",
   "metadata": {},
   "source": [
    "### Simple three cells geometry"
   ]
  },
  {
   "cell_type": "code",
   "execution_count": 2,
   "metadata": {
    "collapsed": true
   },
   "outputs": [],
   "source": [
    "datasets = {}\n",
    "\n",
    "bi_verts = [[0., 0.], [0., 0.]]\n",
    "bi_edges = [[]]\n",
    "\n",
    "tri_verts = [[0, 0],\n",
    "             [1, 0],\n",
    "             [-0.5, 3**0.5/2],\n",
    "             [-0.5, -3**0.5/2]]\n",
    "\n",
    "tri_edges = [[0, 1, 0],\n",
    "             [1, 2, 0],\n",
    "             [2, 0, 0],\n",
    "             [0, 3, 1],\n",
    "             [3, 1, 1],\n",
    "             [1, 0, 1],\n",
    "             [0, 2, 2],\n",
    "             [2, 3, 2],\n",
    "             [3, 0, 2]]\n",
    "\n",
    "datasets['edge'] = pd.DataFrame(data=np.array(tri_edges),\n",
    "                                columns=['srce', 'trgt', 'face'])\n",
    "datasets['edge'].index.name = 'edge'\n",
    "\n",
    "datasets['face'] = pd.DataFrame(data=np.zeros((3, 2)), columns=['x', 'y'])\n",
    "datasets['face'].index.name = 'face'\n",
    "\n",
    "datasets['vert'] = pd.DataFrame(data=np.array(tri_verts),\n",
    "                                columns=['x', 'y'])\n",
    "datasets['vert'].index.name = 'vert'\n"
   ]
  },
  {
   "cell_type": "markdown",
   "metadata": {},
   "source": [
    "### Model specifications"
   ]
  },
  {
   "cell_type": "code",
   "execution_count": 3,
   "metadata": {
    "collapsed": false
   },
   "outputs": [],
   "source": [
    "reo_specs = {\n",
    "    \"edge\": {\n",
    "        \"arc_length\": 1.0, # L\n",
    "        \"length\": 1.0, # 2a that's the chord length\n",
    "        \"arc_chord_angle\": np.pi/5, # alpha\n",
    "        \"sagitta\": 1.0, # h\n",
    "        \"chord_orient\": 1.0, # beta\n",
    "        \"curvature\": 0.1, # C\n",
    "        \"tension\": 1.0, # sigma surface tension\n",
    "        \"dx\": 0.0,\n",
    "        \"dy\": 0.0,\n",
    "        \"nz\": 0.0,\n",
    "        \"sub_area\": 0.0,\n",
    "        \"opposite\": -1,\n",
    "        \"modulus\": 0.0, # Young's\n",
    "        \"viscosity\": 1.0,\n",
    "        \"motor\": 1.0\n",
    "        },\n",
    "    \"face\": {\n",
    "        \"x\": 0.0,\n",
    "        \"y\": 0.0,\n",
    "        \"pressure\": 1.0,\n",
    "        \"area\": 0.0,\n",
    "        \"dot_area\": 0.0\n",
    "        },\n",
    "    \"vert\": {\n",
    "        \"x\": 0.0,\n",
    "        \"y\": 0.0\n",
    "        }\n",
    "    }\n"
   ]
  },
  {
   "cell_type": "markdown",
   "metadata": {},
   "source": [
    "### The object itself"
   ]
  },
  {
   "cell_type": "code",
   "execution_count": 4,
   "metadata": {
    "collapsed": false
   },
   "outputs": [],
   "source": [
    "sheet = Sheet('tri_junction', datasets,\n",
    "              reo_specs, coords=['x', 'y'])\n"
   ]
  },
  {
   "cell_type": "markdown",
   "metadata": {},
   "source": [
    "### Some usefull indexing methods for later"
   ]
  },
  {
   "cell_type": "code",
   "execution_count": 5,
   "metadata": {
    "collapsed": false
   },
   "outputs": [],
   "source": [
    "def get_extra_indices(sheet):\n",
    "\n",
    "    # TODO: This should  be done a Sheet method\n",
    "\n",
    "    sheet.dble_edges = sheet.edge_df[sheet.edge_df['opposite'] >= 0].index\n",
    "    theta = np.arctan2(sheet.edge_df.loc[sheet.dble_edges, 'dy'],\n",
    "                       sheet.edge_df.loc[sheet.dble_edges, 'dx'])\n",
    "    \n",
    "    sheet.full_edges = sheet.edge_df.loc[sheet.dble_edges][(theta <= 0) & (theta < np.pi)].index\n",
    "    sheet.opp_edges = pd.Index(sheet.edge_df.loc[sheet.full_edges,\n",
    "                                                 'opposite'].astype(np.int),\n",
    "                               name='edge')\n",
    "    \n",
    "    sheet.free_edges = sheet.edge_df[sheet.edge_df['opposite'] == -1].index\n",
    "    sheet.full_and_free = sheet.full_edges.append(sheet.free_edges)\n",
    "    \n",
    "    # Index over the full and free, then the  \n",
    "    sheet.wrapped_edges = sheet.full_and_free.append(sheet.full_edges)\n",
    "    \n",
    "    sheet.Ni = sheet.full_edges.size # number of inside (full) edges (N_1)\n",
    "    sheet.Nd = sheet.dble_edges.size # number of non free half edges (2N_1)\n",
    "    sheet.No = sheet.free_edges.size # number of boundary (free) halfedges, facing out (N_2)\n",
    "    \n",
    "\n",
    "def reorder_edges(sheet):\n",
    "    \"\"\" reorder edges such that half the double edges are first, then the free edges,\n",
    "    the the over half of the double edges, opposite order\n",
    "    \n",
    "    this way, each subset of the edges are contiguous\n",
    "    \"\"\"\n",
    "    get_extra_indices(sheet)\n",
    "    sheet.edge_df = pd.concat([sheet.edge_df.loc[sheet.full_and_free],\n",
    "                               sheet.edge_df.loc[sheet.opp_edges]])\n",
    "    sheet.reset_index()\n",
    "    sheet.reset_topo()\n",
    "    get_extra_indices(sheet)\n"
   ]
  },
  {
   "cell_type": "markdown",
   "metadata": {},
   "source": [
    "### Curved edges specific geometry"
   ]
  },
  {
   "cell_type": "code",
   "execution_count": 9,
   "metadata": {
    "collapsed": false
   },
   "outputs": [],
   "source": [
    "\n",
    "def arc_area(alpha):\n",
    "    \n",
    "    alpha = np.asarray(alpha)\n",
    "    f_v = (1 / np.sinc(alpha/np.pi) - \n",
    "           np.cos(alpha)) / np.sin(alpha)\n",
    "    f_v[np.sin(alpha) == 0.0] = 0\n",
    "    return f_v\n",
    "\n",
    "\n",
    "class CurvedSheet(PlanarGeometry):\n",
    "\n",
    "    @classmethod\n",
    "    def update_all(cls, sheet):\n",
    "\n",
    "        cls.update_centroid(sheet)\n",
    "        cls.update_dcoords(sheet)\n",
    "        cls.update_length(sheet)\n",
    "        cls.update_opposites(sheet)\n",
    "        cls.update_sagitta(sheet)\n",
    "        cls.update_normals(sheet)\n",
    "        cls.update_areas(sheet)\n",
    "    \n",
    "    @staticmethod\n",
    "    def update_areas(sheet):\n",
    "\n",
    "        fv_term = arc_area(sheet.edge_df['arc_chord_angle'])\n",
    "        sub_area = (sheet.edge_df['sub_area']\n",
    "                    + fv_term * sheet.edge_df['length']**2 / 4)\n",
    "        sheet.face_df['area'] = sheet.sum_face(sub_area)\n",
    "\n",
    "    @staticmethod\n",
    "    def update_opposites(sheet):\n",
    "\n",
    "        symmetric = ['arc_length', 'length']\n",
    "        sheet.edge_df.loc[sheet.opp_edges,\n",
    "                          symmetric] = sheet.edge_df.loc[sheet.full_edges,\n",
    "                                                         symmetric].values\n",
    "        anti_symmetric = ['curvature', 'chord_orient', 'arc_chord_angle']\n",
    "        sheet.edge_df.loc[sheet.opp_edges,\n",
    "                          anti_symmetric] = -sheet.edge_df.loc[sheet.full_edges,\n",
    "                                                               anti_symmetric].values\n",
    "    @staticmethod\n",
    "    def update_sagitta(sheet):\n",
    "        \n",
    "        sheet.edge_df['sagitta'] = (sheet.edge_df['length']\n",
    "                                    * np.tan(sheet.edge_df['arc_chord_angle']/2)/2)\n",
    "\n",
    "get_extra_indices(sheet)\n",
    "\n",
    "geom = CurvedSheet\n",
    "geom.update_all(sheet)"
   ]
  },
  {
   "cell_type": "markdown",
   "metadata": {},
   "source": [
    "### Initial conditions\n",
    "\n",
    "Here we give values to $\\alpha_{ij}$ and compute the curvature from\n",
    "those."
   ]
  },
  {
   "cell_type": "code",
   "execution_count": 10,
   "metadata": {
    "collapsed": true
   },
   "outputs": [],
   "source": [
    "sheet.edge_df.loc[sheet.free_edges, 'arc_chord_angle'] = 0.8 * np.pi / 2\n",
    "sheet.edge_df.loc[sheet.full_edges, 'arc_chord_angle'] = 0.2 * np.pi / 2\n",
    "sheet.edge_df.loc[sheet.opp_edges, 'arc_chord_angle'] = -0.2 * np.pi / 2\n",
    "\n",
    "def _update_curv(sheet):\n",
    "    sheet.edge_df['arc_length'] = (sheet.edge_df['length']\n",
    "                                   / np.sinc(sheet.edge_df['arc_chord_angle']/np.pi))\n",
    "\n",
    "    sheet.edge_df['curvature'] = 2 * (sheet.edge_df['arc_chord_angle'] \n",
    "                                      / sheet.edge_df['arc_length'])\n",
    "    sheet.edge_df['chord_orient'] = np.arctan2(sheet.edge_df['dy'], \n",
    "                                               sheet.edge_df['dx'])\n",
    "\n",
    "\n",
    "\n",
    "_update_curv(sheet)\n",
    "\n",
    "# update the geometry again\n",
    "geom.update_all(sheet)\n",
    "                                "
   ]
  },
  {
   "cell_type": "markdown",
   "metadata": {},
   "source": [
    "## Representation"
   ]
  },
  {
   "cell_type": "code",
   "execution_count": 11,
   "metadata": {
    "collapsed": false
   },
   "outputs": [
    {
     "data": {
      "image/png": "[encoded data removed]",
      "text/plain": [
       "<matplotlib.figure.Figure at 0x7f4fd2e4a400>"
      ]
     },
     "metadata": {},
     "output_type": "display_data"
    }
   ],
   "source": [
    "from matplotlib.collections import PatchCollection\n",
    "from matplotlib.patches import Arc\n",
    "\n",
    "\n",
    "def get_arc_centers(sheet):\n",
    "    \n",
    "    srce_pos = sheet.upcast_srce(sheet.vert_df[sheet.coords])\n",
    "    trgt_pos = sheet.upcast_trgt(sheet.vert_df[sheet.coords])\n",
    "    \n",
    "    radius = 1 / sheet.edge_df['curvature']\n",
    "    \n",
    "    e_x = sheet.edge_df['dx'] / sheet.edge_df['length']\n",
    "    e_y = sheet.edge_df['dy'] / sheet.edge_df['length']\n",
    "\n",
    "    center_x = ((srce_pos.x + trgt_pos.x)/2\n",
    "                - e_y #* np.sign(radius)\n",
    "                * (radius - sheet.edge_df['sagitta']))\n",
    "\n",
    "    center_y = ((srce_pos.y + trgt_pos.y)/2\n",
    "                + e_x  #* np.sign(radius)\n",
    "                * (radius - sheet.edge_df['sagitta']))\n",
    "    \n",
    "    alpha = sheet.edge_df['arc_chord_angle']\n",
    "    beta = sheet.edge_df['chord_orient']\n",
    "    \n",
    "    #theta1 = - np.abs(alpha) + beta - np.pi/2\n",
    "    #theta2 = np.abs(alpha) + beta - np.pi/2\n",
    "\n",
    "    theta1 = np.sign(alpha) * (-alpha - np.pi/2) + beta\n",
    "    theta2 = np.sign(alpha) * (alpha - np.pi/2) + beta\n",
    "\n",
    "    center_data = pd.DataFrame.from_dict({\n",
    "            'R': radius,\n",
    "            'x': center_x,\n",
    "            'y': center_y,\n",
    "            'theta1': theta1,\n",
    "            'theta2': theta2\n",
    "            })\n",
    "    return center_data\n",
    "\n",
    "\n",
    "def curved_view(sheet):\n",
    "\n",
    "    center_data = get_arc_centers(sheet)\n",
    "    fig, ax = sheet_view(sheet, **{'edge': {'visible':False}})\n",
    "\n",
    "    curves = []\n",
    "    #for idx, edge in center_data.loc[sheet.full_and_free].iterrows():\n",
    "    for idx, edge in center_data.iterrows():    \n",
    "        patch = Arc(edge[['x', 'y']],\n",
    "                    2*np.abs(edge['R']),\n",
    "                    2*np.abs(edge['R']),\n",
    "                    theta1=edge['theta1']*180/np.pi,\n",
    "                    theta2=edge['theta2']*180/np.pi)\n",
    "        curves.append(patch)\n",
    "        #break\n",
    "\n",
    "    ax.add_collection(PatchCollection(curves, False,\n",
    "                                      **{'facecolors':'none'}))\n",
    "    ax.autoscale()\n",
    "    return fig, ax\n",
    "\n",
    "fig, ax = curved_view(sheet)\n",
    "\n",
    "# add some info on the plots \n",
    "\n",
    "for (fidx, f), letter in zip(sheet.face_df.iterrows(), 'ABC'):\n",
    "    ax.text(f.x, f.y, letter)\n",
    "    \n",
    "for vidx, v in sheet.vert_df.iterrows():\n",
    "    ax.text(v.x * 1.1, v.y * 1.1, str(vidx))\n"
   ]
  },
  {
   "cell_type": "code",
   "execution_count": 5,
   "metadata": {
    "collapsed": false
   },
   "outputs": [
    {
     "data": {
      "text/plain": [
       "(-1.2, 1.2)"
      ]
     },
     "execution_count": 5,
     "metadata": {},
     "output_type": "execute_result"
    },
    {
     "data": {
      "image/png": "[encoded data removed]",
      "text/plain": [
       "<matplotlib.figure.Figure at 0x7f67994a39b0>"
      ]
     },
     "metadata": {},
     "output_type": "display_data"
    }
   ],
   "source": [
    "fig, ax = sheet_view(sheet)\n"
   ]
  },
  {
   "cell_type": "markdown",
   "metadata": {},
   "source": [
    "#### Problem matrix\n",
    "\n"
   ]
  },
  {
   "cell_type": "code",
   "execution_count": 10,
   "metadata": {
    "collapsed": false
   },
   "outputs": [],
   "source": [
    "from collections import OrderedDict\n",
    "from scipy import sparse\n",
    "\n",
    "class RheologyModel():\n",
    "    \n",
    "    variables = OrderedDict([('pressure', 'face'), ('curvature', 'edge'),\n",
    "                             ('x', 'vert'), ('y', 'vert'), \n",
    "                             ('chord_orient', 'edge'), ('arc_chord_angle', 'edge'),\n",
    "                             ('length', 'edge'), ('arc_length', 'edge'),\n",
    "                             ('tension', 'edge')])\n",
    "    equations = ['laplace', 'curvature', 'chord', 'volume',\n",
    "                 'plateau', 'arc_length', 'rheology', 'strainrate']\n",
    "        \n",
    "    @staticmethod\n",
    "    def matrix_indices(sheet):\n",
    "        \n",
    "        nface = sheet.Nf\n",
    "        nvert = sheet.Nv\n",
    "        nedge = sheet.Ne\n",
    "        \n",
    "        nfullfree = sheet.Ni + sheet.No\n",
    "        nfull = sheet.Ni\n",
    "        \n",
    "        \n",
    "        row_sizes = OrderedDict([\n",
    "                ('laplace', nfullfree),\n",
    "                ('curvature', nfullfree),\n",
    "                ('chord_x', nfullfree),\n",
    "                ('chord_y', nfullfree),\n",
    "                ('volume', nface),\n",
    "                ('plateau_x', nvert),\n",
    "                ('plateau_y', nvert),\n",
    "                ('arc_length', nfullfree),\n",
    "                ('rheology', nfullfree),\n",
    "                ('strainrate', nfull)\n",
    "                ])\n",
    "        \n",
    "        col_sizes = OrderedDict([\n",
    "                ('pressure', nface),\n",
    "                ('curvature', nfullfree),\n",
    "                ('x', nvert), ('y', nvert),\n",
    "                ('chord_orient', nfullfree),\n",
    "                ('arc_chord_angle', nfullfree),\n",
    "                ('length', nfullfree),\n",
    "                ('arc_length', nfullfree),\n",
    "                ('tension', nedge)\n",
    "                ])\n",
    "\n",
    "        row_sizes_ = [n for n in row_sizes.values()]\n",
    "        col_sizes_ = [n for n in col_sizes.values()]\n",
    "        \n",
    "        row_shifts = np.roll(np.cumsum(row_sizes_), 1)\n",
    "        row_shifts[0] = 0\n",
    "\n",
    "        col_shifts = np.roll(np.cumsum(col_sizes_), 1)\n",
    "        col_shifts[0] = 0\n",
    "\n",
    "        row_idxs = OrderedDict([(key, np.arange(shift, shift + size))\n",
    "                                for (key, size), shift in zip(row_sizes.items(),\n",
    "                                                              row_shifts)])\n",
    "        col_idxs = OrderedDict([(key, np.arange(shift, shift + size))\n",
    "                                for (key, size), shift in zip(col_sizes.items(),\n",
    "                                                              col_shifts)])\n",
    "        \n",
    "        return row_idxs, col_idxs"
   ]
  },
  {
   "cell_type": "code",
   "execution_count": 12,
   "metadata": {
    "collapsed": false
   },
   "outputs": [],
   "source": [
    "reorder_edges(sheet)\n",
    "row_idxs, col_idxs = RheologyModel.matrix_indices(sheet)"
   ]
  },
  {
   "cell_type": "code",
   "execution_count": 13,
   "metadata": {
    "collapsed": false
   },
   "outputs": [
    {
     "data": {
      "text/plain": [
       "OrderedDict([('laplace', array([0, 1, 2, 3, 4, 5])),\n",
       "             ('curvature', array([ 6,  7,  8,  9, 10, 11])),\n",
       "             ('chord_x', array([12, 13, 14, 15, 16, 17])),\n",
       "             ('chord_y', array([18, 19, 20, 21, 22, 23])),\n",
       "             ('volume', array([24, 25, 26])),\n",
       "             ('plateau_x', array([27, 28, 29, 30])),\n",
       "             ('plateau_y', array([31, 32, 33, 34])),\n",
       "             ('arc_length', array([35, 36, 37, 38, 39, 40])),\n",
       "             ('rheology', array([41, 42, 43, 44, 45, 46])),\n",
       "             ('strainrate', array([47, 48, 49]))])"
      ]
     },
     "execution_count": 13,
     "metadata": {},
     "output_type": "execute_result"
    }
   ],
   "source": [
    "row_idxs"
   ]
  },
  {
   "cell_type": "code",
   "execution_count": 14,
   "metadata": {
    "collapsed": false
   },
   "outputs": [
    {
     "data": {
      "text/plain": [
       "OrderedDict([('pressure', array([0, 1, 2])),\n",
       "             ('curvature', array([3, 4, 5, 6, 7, 8])),\n",
       "             ('x', array([ 9, 10, 11, 12])),\n",
       "             ('y', array([13, 14, 15, 16])),\n",
       "             ('chord_orient', array([17, 18, 19, 20, 21, 22])),\n",
       "             ('arc_chord_angle', array([23, 24, 25, 26, 27, 28])),\n",
       "             ('length', array([29, 30, 31, 32, 33, 34])),\n",
       "             ('arc_length', array([35, 36, 37, 38, 39, 40])),\n",
       "             ('tension', array([41, 42, 43, 44, 45, 46, 47, 48, 49]))])"
      ]
     },
     "execution_count": 14,
     "metadata": {},
     "output_type": "execute_result"
    }
   ],
   "source": [
    "col_idxs"
   ]
  },
  {
   "cell_type": "code",
   "execution_count": 15,
   "metadata": {
    "collapsed": true
   },
   "outputs": [],
   "source": [
    "# Small utilities\n",
    "\n",
    "def dot_arc_area(alpha):\n",
    "    alpha = np.asanyarray(alpha)\n",
    "    dotf_v = (2 - 2*alpha / np.tan(alpha)) / np.sin(alpha)**2\n",
    "    dotf_v[dotf_v == 0.0] = 2/3.\n",
    "    return dotf_v\n",
    "\n",
    "\n",
    "def dot_sinc(alpha):\n",
    "        \n",
    "    alpha = np.asanyarray(alpha)\n",
    "    dsinc = (np.sin(alpha) + alpha*np.cos(alpha))/alpha**2\n",
    "    dsinc[alpha==0] = 0.\n",
    "    return dsinc\n"
   ]
  },
  {
   "cell_type": "code",
   "execution_count": 16,
   "metadata": {
    "collapsed": false
   },
   "outputs": [],
   "source": [
    "\n",
    "\n",
    "# ## Setting non null values to be able to visualize \n",
    "sheet.edge_df['tension'] = 1.0\n",
    "sheet.face_df['pressure'] = 1.0\n",
    "sheet.edge_df['curvature'] = 1.0\n",
    "sheet.edge_df['arc_chord_angle'] = 1.0\n",
    "sheet.edge_df['arc_length'] = 1.0\n",
    "sheet.edge_df['modulus'] = 1.0\n",
    "\n",
    "def laplace_eq(sheet, row_idxs, col_idxs):\n",
    "    \n",
    "    \n",
    "    faces = sheet.edge_df['face'].astype(np.int)\n",
    "    row_idx = row_idxs['laplace'][sheet.wrapped_edges]\n",
    "    \n",
    "    antisym = np.concatenate([np.ones(sheet.Ni + sheet.No), # data\n",
    "                              - np.ones(sheet.Ni)])\n",
    "    \n",
    "    pressure_block = (\n",
    "        -antisym,\n",
    "        (row_idx, col_idxs['pressure'][faces])\n",
    "        )\n",
    "    \n",
    "    tension_block = (\n",
    "        sheet.edge_df.loc[sheet.wrapped_edges, 'curvature'],\n",
    "        (row_idx, col_idxs['tension'])\n",
    "        )\n",
    "    \n",
    "    curvature_block = (\n",
    "        sheet.edge_df.loc[sheet.wrapped_edges, 'tension'],\n",
    "            (row_idx, col_idxs['curvature'][sheet.wrapped_edges])\n",
    "            )\n",
    "\n",
    "    return pressure_block, tension_block, curvature_block\n",
    "\n",
    "\n",
    "def curvature_eq(sheet, row_idxs, col_idxs):\n",
    "    \n",
    "    edge_df = sheet.edge_df.loc[sheet.full_and_free]\n",
    "    \n",
    "    arc_length_block = (\n",
    "        edge_df['curvature'],\n",
    "        (\n",
    "            row_idxs['curvature'],\n",
    "            col_idxs['arc_length']\n",
    "            )\n",
    "        )\n",
    "\n",
    "    curvature_block = (\n",
    "        edge_df['arc_length'],\n",
    "        (\n",
    "            row_idxs['curvature'],\n",
    "            col_idxs['curvature']\n",
    "            )\n",
    "        )\n",
    "\n",
    "    angle_block = (\n",
    "        -2 * np.ones(sheet.Ni + sheet.No),\n",
    "        (\n",
    "            row_idxs['curvature'],\n",
    "            col_idxs['arc_chord_angle']\n",
    "            )\n",
    "        )\n",
    "    return arc_length_block, curvature_block, angle_block\n",
    "    \n",
    "\n",
    "def chord_x_eq(sheet, row_idxs, col_idxs):\n",
    "    \n",
    "    edge_df = sheet.edge_df.loc[sheet.full_and_free]\n",
    "    srces = edge_df['srce'].astype(np.int)\n",
    "    trgts = edge_df['trgt'].astype(np.int)\n",
    "    \n",
    "    x_block = (\n",
    "        np.concatenate([np.ones(sheet.Ni + sheet.No),\n",
    "                        -np.ones(sheet.Ni + sheet.No)]),\n",
    "        (\n",
    "            np.concatenate([row_idxs['chord_x'],\n",
    "                            row_idxs['chord_x']]),\n",
    "            np.concatenate([col_idxs['x'][trgts],\n",
    "                            col_idxs['x'][srces]])\n",
    "            )\n",
    "        )\n",
    "    \n",
    "    chord_block = (\n",
    "        - np.cos(edge_df['chord_orient']),\n",
    "        (\n",
    "            row_idxs['chord_x'],\n",
    "            col_idxs['length']\n",
    "            )\n",
    "        )\n",
    "    \n",
    "    orient_block = (\n",
    "        - np.sin(edge_df['chord_orient']) * edge_df['length'],\n",
    "        (\n",
    "            row_idxs['chord_x'],\n",
    "            col_idxs['chord_orient']\n",
    "            )\n",
    "        )\n",
    "    return x_block, chord_block, orient_block\n",
    "\n",
    "\n",
    "def chord_y_eq(sheet, row_idxs, col_idxs):\n",
    "    \n",
    "    edge_df = sheet.edge_df.loc[sheet.full_and_free]\n",
    "    srces = edge_df['srce'].astype(np.int)\n",
    "    trgts = edge_df['trgt'].astype(np.int)\n",
    "    \n",
    "    y_block = (\n",
    "        np.concatenate([np.ones(sheet.Ni + sheet.No),\n",
    "                        -np.ones(sheet.Ni + sheet.No)]),\n",
    "        (\n",
    "            np.concatenate([row_idxs['chord_y'],\n",
    "                            row_idxs['chord_y']]),\n",
    "            np.concatenate([col_idxs['y'][trgts],\n",
    "                            col_idxs['y'][srces]])\n",
    "            )\n",
    "        )\n",
    "    \n",
    "    chord_block = (\n",
    "        - np.sin(edge_df['chord_orient']),\n",
    "        (\n",
    "            row_idxs['chord_y'],\n",
    "            col_idxs['length']\n",
    "            )\n",
    "        )\n",
    "    \n",
    "    orient_block = (\n",
    "        (np.cos(edge_df['chord_orient']) * edge_df['length']),\n",
    "        (\n",
    "            row_idxs['chord_y'],\n",
    "            col_idxs['chord_orient']\n",
    "            )\n",
    "        )\n",
    "    return y_block, chord_block, orient_block\n",
    "\n",
    "\n",
    "def volume_eq(sheet, row_idxs, col_idxs):\n",
    "    \n",
    "    edge_df = sheet.edge_df\n",
    "\n",
    "    faces = edge_df['face'].astype(np.int)\n",
    "    srces = edge_df['srce'].astype(np.int)\n",
    "    trgts = edge_df['trgt'].astype(np.int)\n",
    "    \n",
    "    antisym = np.concatenate([np.ones(sheet.Ni + sheet.No),\n",
    "                              - np.ones(sheet.No)])\n",
    "    fv_term = (arc_area(edge_df['arc_chord_angle']) *\n",
    "               edge_df['length']/2) * antisym\n",
    "    dot_fv_term = (dot_arc_area(edge_df['arc_chord_angle']) *\n",
    "                   edge_df['length']**2 / 4) * antisym\n",
    "    \n",
    "    up_face = sheet.upcast_face(sheet.face_df[sheet.coords])\n",
    "    r_Ai = (sheet.upcast_srce(sheet.vert_df[sheet.coords]) - up_face)\n",
    "    r_Aj = (sheet.upcast_trgt(sheet.vert_df[sheet.coords]) - up_face)\n",
    "\n",
    "    wrapped_edges = sheet.wrapped_edges\n",
    "    \n",
    "    row_idx = row_idxs['volume'][faces]\n",
    "    \n",
    "    chord_block = (\n",
    "        fv_term,\n",
    "        (row_idx, col_idxs['length'][wrapped_edges])\n",
    "        )\n",
    "\n",
    "    angle_block = (\n",
    "        dot_fv_term,\n",
    "        (row_idx, col_idxs['arc_chord_angle'][wrapped_edges])\n",
    "        )\n",
    "\n",
    "    srce_x_block = (\n",
    "        r_Aj['y']/2,\n",
    "        (row_idx, col_idxs['x'][srces])\n",
    "        )\n",
    "\n",
    "    srce_y_block = (\n",
    "        - r_Aj['x']/2,\n",
    "        (row_idx, col_idxs['y'][srces])\n",
    "        )\n",
    "\n",
    "    trgt_x_block = (\n",
    "        r_Ai['y']/2,\n",
    "        (row_idx, col_idxs['x'][trgts])\n",
    "        )\n",
    "\n",
    "    trgt_y_block = (\n",
    "        - r_Ai['x']/2,\n",
    "        (row_idx, col_idxs['y'][trgts])\n",
    "        )\n",
    "    \n",
    "    return (chord_block, angle_block,\n",
    "            srce_x_block, srce_y_block,\n",
    "            trgt_x_block, trgt_y_block)\n",
    "\n",
    "def plateau_x_eq(sheet, row_idxs, col_idxs):\n",
    "    \n",
    "    wrapped_idx = sheet.wrapped_edges\n",
    "\n",
    "    srces = sheet.edge_df['srce'].astype(np.int)\n",
    "    trgts = sheet.edge_df['trgt'].astype(np.int)\n",
    "    srce_row_idx = row_idxs['plateau_x'][srces]    \n",
    "    trgt_row_idx = row_idxs['plateau_x'][trgts]\n",
    "    \n",
    "    bma = sheet.edge_df.eval('chord_orient - arc_chord_angle')\n",
    "    cos_bma = np.cos(bma)\n",
    "    sin_bma = np.sin(bma) * sheet.edge_df['tension'] \n",
    "\n",
    "    bpa = sheet.edge_df.eval('chord_orient + arc_chord_angle')\n",
    "    cos_bpa = np.cos(bpa)\n",
    "    sin_bpa = np.sin(bpa) * sheet.edge_df['tension']\n",
    "    \n",
    "    tension_srce_block = (\n",
    "        cos_bma,\n",
    "        (srce_row_idx, col_idxs['tension'])\n",
    "        )\n",
    "    \n",
    "    orient_srce_block = (\n",
    "        -sin_bma,\n",
    "        (srce_row_idx, col_idxs['chord_orient'][wrapped_idx])\n",
    "        )\n",
    "    \n",
    "    angle_srce_block = (\n",
    "        sin_bma,\n",
    "        (srce_row_idx, col_idxs['arc_chord_angle'][wrapped_idx])\n",
    "        )\n",
    "\n",
    "    tension_trgt_block = (\n",
    "        -cos_bpa,\n",
    "        (trgt_row_idx, col_idxs['tension'])\n",
    "        )\n",
    "    \n",
    "    orient_trgt_block = (\n",
    "        sin_bpa,\n",
    "        (trgt_row_idx, col_idxs['chord_orient'][wrapped_idx])\n",
    "        )\n",
    "    \n",
    "    angle_trgt_block = (\n",
    "        sin_bpa,\n",
    "        (trgt_row_idx, col_idxs['arc_chord_angle'][wrapped_idx])\n",
    "        )\n",
    "\n",
    "    return (tension_srce_block, orient_srce_block, angle_srce_block,\n",
    "            tension_trgt_block, orient_trgt_block, angle_trgt_block,)\n",
    "\n",
    "def plateau_y_eq(sheet, row_idxs, col_idxs):\n",
    "    \n",
    "    wrapped_idx = sheet.wrapped_edges\n",
    "\n",
    "    srces = sheet.edge_df['srce'].astype(np.int)\n",
    "    trgts = sheet.edge_df['trgt'].astype(np.int)\n",
    "    srce_row_idx = row_idxs['plateau_y'][srces]    \n",
    "    trgt_row_idx = row_idxs['plateau_y'][trgts]\n",
    " \n",
    "    bma = sheet.edge_df.eval('chord_orient - arc_chord_angle')\n",
    "    cos_bma = np.cos(bma) * sheet.edge_df['tension']\n",
    "    sin_bma = np.sin(bma) \n",
    "\n",
    "    bpa = sheet.edge_df.eval('chord_orient + arc_chord_angle')\n",
    "    cos_bpa = np.cos(bpa) * sheet.edge_df['tension']\n",
    "    sin_bpa = np.sin(bpa)\n",
    "    \n",
    "    tension_srce_block = (\n",
    "        sin_bma,\n",
    "        (srce_row_idx, col_idxs['tension'])\n",
    "        )\n",
    "    \n",
    "    orient_srce_block = (\n",
    "        cos_bma,\n",
    "        (srce_row_idx, col_idxs['chord_orient'][wrapped_idx])\n",
    "        )\n",
    "    \n",
    "    angle_srce_block = (\n",
    "        -cos_bma,\n",
    "        (srce_row_idx, col_idxs['arc_chord_angle'][wrapped_idx])\n",
    "        )\n",
    "\n",
    "    tension_trgt_block = (\n",
    "        -sin_bpa,\n",
    "        (trgt_row_idx, col_idxs['tension'])\n",
    "        )\n",
    "\n",
    "    orient_trgt_block = (\n",
    "        -cos_bpa,\n",
    "        (trgt_row_idx, col_idxs['chord_orient'][wrapped_idx])\n",
    "        )\n",
    "    \n",
    "    angle_trgt_block = (\n",
    "        -cos_bpa,\n",
    "        (trgt_row_idx, col_idxs['arc_chord_angle'][wrapped_idx])\n",
    "        )\n",
    "\n",
    "    return (tension_srce_block, orient_srce_block, angle_srce_block,\n",
    "            tension_trgt_block, orient_trgt_block, angle_trgt_block,)\n",
    "\n",
    "\n",
    "def arc_length_eq(sheet, row_idxs, col_idxs):\n",
    "\n",
    "    edge_df = sheet.edge_df.loc[sheet.full_and_free]\n",
    "\n",
    "    arc_length_block = (\n",
    "        np.sinc(edge_df['arc_chord_angle'] / np.pi),\n",
    "        (row_idxs['arc_length'], col_idxs['arc_length'])\n",
    "        )\n",
    "    \n",
    "    angle_block = (\n",
    "        edge_df['arc_length'] *\n",
    "        dot_sinc(edge_df['arc_chord_angle']),\n",
    "        (row_idxs['arc_length'], col_idxs['arc_chord_angle'])\n",
    "        )\n",
    "    \n",
    "    return arc_length_block, angle_block\n",
    "    \n",
    "def rheology_eq(sheet, row_idxs, col_idxs):\n",
    "    \n",
    "    edge_df = sheet.edge_df.loc[sheet.full_and_free]\n",
    "    \n",
    "    \n",
    "    wrapped_idx = sheet.wrapped_edges\n",
    "    arc_length_block = (\n",
    "        np.ones(sheet.Ni + sheet.No),\n",
    "        (row_idxs['rheology'], col_idxs['arc_length'])\n",
    "        )\n",
    "\n",
    "    tension_block = (\n",
    "        sheet.edge_df.eval('- arc_length / modulus'),\n",
    "        (row_idxs['rheology'][wrapped_idx], col_idxs['tension'])\n",
    "        )\n",
    "    \n",
    "    return arc_length_block, tension_block\n",
    "\n",
    "def strainrate_eq(sheet, row_idxs, col_idxs):\n",
    "    \n",
    "    full_edge_df = sheet.edge_df.loc[sheet.full_edges]\n",
    "    opp_edge_df = sheet.edge_df.loc[sheet.opp_edges]\n",
    "    tension_block = (\n",
    "        np.concatenate([1 / full_edge_df['modulus'],\n",
    "                        - 1 / opp_edge_df['modulus']]),\n",
    "                       \n",
    "        (\n",
    "            np.concatenate([row_idxs['strainrate'],\n",
    "                            row_idxs['strainrate']]),\n",
    "            np.concatenate([col_idxs['tension'][full_edge_df.index],\n",
    "                            col_idxs['tension'][opp_edge_df.index]])\n",
    "            )\n",
    "        )\n",
    "    return tension_block,\n",
    "\n",
    "\n",
    "def right_hand_term(sheet, row_idxs, col_idxs,\n",
    "                    cortex_velocity=None):\n",
    "    \n",
    "    rht = np.zeros(row_idxs['strainrate'][-1]+1)\n",
    "    \n",
    "    # Volume\n",
    "    rht[row_idxs['volume']] = sheet.face_df['dot_area']\n",
    "   \n",
    "    # Rheology\n",
    "    rheology_term = sheet.edge_df.loc[sheet.full_and_free].eval(\n",
    "        'arc_length * (tension / viscosity - motor)')\n",
    "    if cortex_velocity is not None:\n",
    "        rheology_term += cortex_velocity\n",
    "    rht[row_idxs['rheology']] = rheology_term\n",
    "\n",
    "    # Strain rate\n",
    "    strainrate_term = sheet.edge_df.eval('motor - tension/viscosity')\n",
    "    rht[row_idxs['strainrate']] = (strainrate_term[sheet.full_edges]\n",
    "                                   - strainrate_term[sheet.opp_edges])\n",
    "    \n",
    "    return rht\n",
    "    \n",
    "equations = {\n",
    "    'laplace': laplace_eq,\n",
    "    'curvature': curvature_eq,\n",
    "    'chord_x': chord_x_eq,\n",
    "    'chord_y': chord_y_eq,\n",
    "    'volume': volume_eq,\n",
    "    'plateau_x':plateau_x_eq,\n",
    "    'plateau_y': plateau_y_eq,\n",
    "    'arc_length':arc_length_eq,\n",
    "    'rheology': rheology_eq,\n",
    "    'strainrate': strainrate_eq\n",
    "    }\n",
    "\n",
    "def concatenate_blocks(blocks):\n",
    "\n",
    "    data = np.empty(0)\n",
    "    i, j = np.empty(0), np.empty(0)\n",
    "    for block in blocks:\n",
    "        data_, (i_, j_) = block\n",
    "        data = np.concatenate([data, data_])\n",
    "        i = np.concatenate([i, i_])\n",
    "        j = np.concatenate([j, j_])\n",
    "    return data, (i, j)\n",
    "\n",
    "\n"
   ]
  },
  {
   "cell_type": "code",
   "execution_count": 17,
   "metadata": {
    "collapsed": false
   },
   "outputs": [
    {
     "name": "stdout",
     "output_type": "stream",
     "text": [
      "plateau_x :\n",
      "(54,) (54,) (54,)\n",
      "(31, 50)\n",
      "plateau_y :\n",
      "(54,) (54,) (54,)\n",
      "(35, 50)\n",
      "rheology :\n",
      "(15,) (15,) (15,)\n",
      "(47, 50)\n",
      "arc_length :\n",
      "(12,) (12,) (12,)\n",
      "(41, 41)\n",
      "laplace :\n",
      "(27,) (27,) (27,)\n",
      "(6, 50)\n",
      "curvature :\n",
      "(18,) (18,) (18,)\n",
      "(12, 41)\n",
      "strainrate :\n",
      "(6,) (6,) (6,)\n",
      "(50, 50)\n",
      "chord_x :\n",
      "(24,) (24,) (24,)\n",
      "(18, 35)\n",
      "chord_y :\n",
      "(24,) (24,) (24,)\n",
      "(24, 35)\n",
      "volume :\n",
      "(54,) (54,) (54,)\n",
      "(27, 35)\n"
     ]
    }
   ],
   "source": [
    "\n",
    "\n",
    "for key, eq in equations.items():\n",
    "    data, (i, j) = concatenate_blocks(eq(sheet, row_idxs, col_idxs))\n",
    "    print(key+' :')\n",
    "    print(data.shape, i.shape, j.shape)\n",
    "    print(sparse.coo_matrix((data, (i, j))).shape)\n",
    "\n",
    "blocks = sum((eq(sheet, row_idxs, col_idxs) \n",
    "              for eq in equations.values()), ())\n",
    "\n",
    "mat = sparse.coo_matrix(concatenate_blocks(blocks))"
   ]
  },
  {
   "cell_type": "markdown",
   "metadata": {
    "collapsed": false
   },
   "source": [
    "### Checking our blocks structure is the expected one"
   ]
  },
  {
   "cell_type": "code",
   "execution_count": 19,
   "metadata": {
    "collapsed": false
   },
   "outputs": [
    {
     "data": {
      "image/png": "[encoded data removed]",
      "text/plain": [
       "<matplotlib.figure.Figure at 0x7f67949a39b0>"
      ]
     },
     "metadata": {},
     "output_type": "display_data"
    }
   ],
   "source": [
    "blocks = {'laplace' : ['pressure', 'curvature', 'tension'],\n",
    "          'curvature': ['curvature', 'arc_chord_angle', 'arc_length'],\n",
    "          'chord_x': ['x', 'chord_orient', 'length'],\n",
    "          'chord_y': ['y', 'chord_orient', 'length'],\n",
    "          'volume': ['x', 'y', 'length', 'arc_chord_angle'],\n",
    "          'plateau_x': ['chord_orient', 'arc_chord_angle', 'tension'],\n",
    "          'plateau_y': ['chord_orient', 'arc_chord_angle', 'tension'],\n",
    "          'arc_length': ['arc_chord_angle', 'arc_length'],\n",
    "          'rheology': ['arc_length', 'tension'],\n",
    "          'strainrate': ['tension']}\n",
    "\n",
    "block_shapes = [(row_idxs[eq].size, col_idxs[var].size)\n",
    "                for eq, variables in blocks.items()\n",
    "                for var in variables]\n",
    "block_recs = [((col_idxs[var][0]-0.5, row_idxs[eq][0]-0.5),\n",
    "              col_idxs[var].size, row_idxs[eq].size)\n",
    "              for eq, variables in blocks.items()\n",
    "              for var in variables]\n",
    "\n",
    "\n",
    "from matplotlib.patches import Rectangle\n",
    "fig, ax = plt.subplots()\n",
    "ax.imshow(np.abs(mat.toarray())>0,\n",
    "          cmap='Greys',\n",
    "          interpolation='nearest')\n",
    "for rec in block_recs:\n",
    "    ax.add_patch(Rectangle(*rec, edgecolor='k',\n",
    "                           facecolor='grey', alpha=0.5))"
   ]
  },
  {
   "cell_type": "code",
   "execution_count": 119,
   "metadata": {
    "collapsed": true
   },
   "outputs": [],
   "source": [
    "update_area(sheet)"
   ]
  },
  {
   "cell_type": "code",
   "execution_count": 120,
   "metadata": {
    "collapsed": false
   },
   "outputs": [
    {
     "data": {
      "text/plain": [
       "face\n",
       "0    1.337418\n",
       "1    1.231301\n",
       "2    1.125183\n",
       "Name: area, dtype: float64"
      ]
     },
     "execution_count": 120,
     "metadata": {},
     "output_type": "execute_result"
    }
   ],
   "source": [
    "sheet.face_df['area']"
   ]
  },
  {
   "cell_type": "code",
   "execution_count": 121,
   "metadata": {
    "collapsed": false
   },
   "outputs": [
    {
     "data": {
      "text/plain": [
       "edge\n",
       "0    0.144338\n",
       "1    0.144338\n",
       "2    0.144338\n",
       "3    0.144338\n",
       "4    0.144338\n",
       "5    0.144338\n",
       "6    0.144338\n",
       "7    0.144338\n",
       "8    0.144338\n",
       "Name: sub_area, dtype: float64"
      ]
     },
     "execution_count": 121,
     "metadata": {},
     "output_type": "execute_result"
    }
   ],
   "source": [
    "sheet.edge_df['sub_area']"
   ]
  },
  {
   "cell_type": "code",
   "execution_count": 123,
   "metadata": {
    "collapsed": false
   },
   "outputs": [
    {
     "data": {
      "text/plain": [
       "0.10611700000000002"
      ]
     },
     "execution_count": 123,
     "metadata": {},
     "output_type": "execute_result"
    }
   ],
   "source": [
    "1.337418 - 1.231301"
   ]
  },
  {
   "cell_type": "code",
   "execution_count": 124,
   "metadata": {
    "collapsed": false
   },
   "outputs": [
    {
     "data": {
      "text/plain": [
       "0.10611799999999993"
      ]
     },
     "execution_count": 124,
     "metadata": {},
     "output_type": "execute_result"
    }
   ],
   "source": [
    "1.231301 - 1.125183"
   ]
  },
  {
   "cell_type": "code",
   "execution_count": 125,
   "metadata": {
    "collapsed": true
   },
   "outputs": [],
   "source": []
  },
  {
   "cell_type": "code",
   "execution_count": null,
   "metadata": {
    "collapsed": true
   },
   "outputs": [],
   "source": [
    "def time_step(sheet):\n",
    "    \n",
    "    "
   ]
  }
 ],
 "metadata": {
  "kernelspec": {
   "display_name": "Python 3",
   "language": "python",
   "name": "python3"
  },
  "language_info": {
   "codemirror_mode": {
    "name": "ipython",
    "version": 3
   },
   "file_extension": ".py",
   "mimetype": "text/x-python",
   "name": "python",
   "nbconvert_exporter": "python",
   "pygments_lexer": "ipython3",
   "version": "3.5.1"
  }
 },
 "nbformat": 4,
 "nbformat_minor": 0
}
