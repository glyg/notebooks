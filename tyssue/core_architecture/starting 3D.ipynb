{
 "cells": [
  {
   "cell_type": "code",
   "execution_count": null,
   "metadata": {
    "collapsed": false
   },
   "outputs": [],
   "source": [
    "## \n",
    "import numpy as np\n",
    "import pandas as pd\n",
    "from scipy.spatial import Voronoi\n",
    "\n",
    "import tyssue\n",
    "\n",
    "from tyssue.core.objects import Epithelium\n",
    "from tyssue.geometry.bulk_geometry import BulkGeometry as bgeom\n",
    "from tyssue.core.generation import hexa_grid3d, from_3d_voronoi\n",
    "from tyssue.draw.vispy_draw import vp_view\n"
   ]
  },
  {
   "cell_type": "code",
   "execution_count": null,
   "metadata": {
    "collapsed": false
   },
   "outputs": [],
   "source": [
    "grid = hexa_grid3d(6, 4, 3)\n",
    "\n",
    "datasets = from_3d_voronoi(Voronoi(grid))\n",
    "eptm = Epithelium('start3D', datasets)\n",
    "\n",
    "gspecs = eptm.set_geom('sheet')\n",
    "bgeom.update_all(eptm)\n",
    "eptm.cell_df.head()"
   ]
  },
  {
   "cell_type": "code",
   "execution_count": null,
   "metadata": {
    "collapsed": false
   },
   "outputs": [],
   "source": [
    "datasets['face'].shape"
   ]
  },
  {
   "cell_type": "code",
   "execution_count": null,
   "metadata": {
    "collapsed": true
   },
   "outputs": [],
   "source": [
    "from tyssue.core import generation"
   ]
  },
  {
   "cell_type": "code",
   "execution_count": null,
   "metadata": {
    "collapsed": false
   },
   "outputs": [],
   "source": [
    "from tyssue.core.generation import hexa_grid2d, from_2d_voronoi\n",
    "grid = hexa_grid2d(6, 4, 1, 1)\n",
    "datasets = from_2d_voronoi(Voronoi(grid))\n",
    "\n",
    "\n",
    "for key, df in datasets.items():\n",
    "    print(key, df.shape)"
   ]
  },
  {
   "cell_type": "code",
   "execution_count": null,
   "metadata": {
    "collapsed": false
   },
   "outputs": [],
   "source": [
    "vp_view(eptm)"
   ]
  },
  {
   "cell_type": "code",
   "execution_count": null,
   "metadata": {
    "collapsed": true
   },
   "outputs": [],
   "source": [
    "bounds = [[-0.1, 2], [0, 2], [0, 10]]\n",
    "\n",
    "edgeout = eptm.cut_out(bounds)\n",
    "\n",
    "eptm.remove(edgeout)"
   ]
  },
  {
   "cell_type": "code",
   "execution_count": null,
   "metadata": {
    "collapsed": true
   },
   "outputs": [],
   "source": [
    "eptm.vert_df['z'] = eptm.vert_df['z'] * np.cos(eptm.vert_df['y'])\n",
    "bgeom.update_all(eptm)"
   ]
  },
  {
   "cell_type": "code",
   "execution_count": null,
   "metadata": {
    "collapsed": true
   },
   "outputs": [],
   "source": [
    "import vispy.io as io"
   ]
  },
  {
   "cell_type": "code",
   "execution_count": null,
   "metadata": {
    "collapsed": true
   },
   "outputs": [],
   "source": [
    "bgeom.update_all(eptm)"
   ]
  },
  {
   "cell_type": "code",
   "execution_count": null,
   "metadata": {
    "collapsed": false
   },
   "outputs": [],
   "source": [
    "eptm.edge_df.head()"
   ]
  },
  {
   "cell_type": "code",
   "execution_count": null,
   "metadata": {
    "collapsed": true
   },
   "outputs": [],
   "source": []
  },
  {
   "cell_type": "code",
   "execution_count": null,
   "metadata": {
    "collapsed": false
   },
   "outputs": [],
   "source": [
    "io.write_mesh('test.obj', vertices=vertices, faces=faces,\n",
    "              normals=eptm.edgedf[['nx', 'ny', 'nz']].values,\n",
    "              texcoords=None, overwrite=True)"
   ]
  },
  {
   "cell_type": "code",
   "execution_count": null,
   "metadata": {
    "collapsed": true
   },
   "outputs": [],
   "source": []
  }
 ],
 "metadata": {
  "kernelspec": {
   "display_name": "Python 3",
   "language": "python",
   "name": "python3"
  },
  "language_info": {
   "codemirror_mode": {
    "name": "ipython",
    "version": 3
   },
   "file_extension": ".py",
   "mimetype": "text/x-python",
   "name": "python",
   "nbconvert_exporter": "python",
   "pygments_lexer": "ipython3",
   "version": "3.4.4"
  }
 },
 "nbformat": 4,
 "nbformat_minor": 0
}
