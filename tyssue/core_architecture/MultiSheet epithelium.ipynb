{
 "cells": [
  {
   "cell_type": "markdown",
   "metadata": {},
   "source": [
    "# A multi layer epithelium\n",
    "\n",
    "Consisting of stacked 2D sheets"
   ]
  },
  {
   "cell_type": "code",
   "execution_count": 22,
   "metadata": {
    "collapsed": true
   },
   "outputs": [],
   "source": [
    "import numpy as np\n",
    "import pandas as pd\n",
    "\n",
    "import matplotlib.pyplot as plt\n",
    "\n",
    "import tyssue\n",
    "from tyssue.core.sheet import Sheet\n",
    "from tyssue.geometry.sheet_geometry import SheetGeometry\n",
    "from tyssue.geometry.planar_geometry import PlanarGeometry\n",
    "from tyssue.dynamics.sheet_vertex_model import SheetModel\n",
    "from tyssue.dynamics.planar_vertex_model import PlanarModel\n",
    "\n",
    "\n",
    "from scipy.interpolate import Rbf\n",
    "from tyssue.core.generation import hexa_grid2d, from_2d_voronoi\n",
    "from scipy.spatial import Voronoi"
   ]
  },
  {
   "cell_type": "code",
   "execution_count": 2,
   "metadata": {
    "collapsed": true
   },
   "outputs": [],
   "source": [
    "base_specs = tyssue.config.geometry.sheet_spec()\n",
    "\n"
   ]
  },
  {
   "cell_type": "code",
   "execution_count": 3,
   "metadata": {
    "collapsed": true
   },
   "outputs": [],
   "source": [
    "specs = base_specs.copy()\n",
    "specs['face']['layer'] = 0\n",
    "specs['vert']['layer'] = 0\n",
    "specs['vert']['depth'] = 0.0\n",
    "specs['edge']['layer'] = 0\n",
    "specs['settings']['geometry'] = 'flat'"
   ]
  },
  {
   "cell_type": "code",
   "execution_count": 5,
   "metadata": {
    "collapsed": true
   },
   "outputs": [],
   "source": [
    "layer1_centers = hexa_grid2d(24, 24, 1, 1, 0.4)\n",
    "layer2_centers = hexa_grid2d(16, 16, 2, 2, 1)\n",
    "layer1_data = from_2d_voronoi(Voronoi(layer1_centers))\n",
    "layer2_data = from_2d_voronoi(Voronoi(layer2_centers))\n"
   ]
  },
  {
   "cell_type": "code",
   "execution_count": 6,
   "metadata": {
    "collapsed": true
   },
   "outputs": [],
   "source": [
    "from tyssue.utils.utils import spec_updater"
   ]
  },
  {
   "cell_type": "code",
   "execution_count": 14,
   "metadata": {
    "collapsed": true
   },
   "outputs": [],
   "source": [
    "\n",
    "\n",
    "class MultiSheet():\n",
    "    \n",
    "    \n",
    "    def __init__(self, name, layer_datasets, specs):\n",
    "        \n",
    "        self.coords = ['x', 'y', 'z']\n",
    "        self.layers = [Sheet('{}_{}'.format(name, i),\n",
    "                             dsets, specs,\n",
    "                             coords=self.coords)\n",
    "                       for i, dsets in enumerate(layer_datasets)]\n",
    "        for i, layer in enumerate(self):\n",
    "            for dset in layer.datasets.values():\n",
    "                dset['layer'] = i\n",
    "        \n",
    "        \n",
    "\n",
    "    def __iter__(self):\n",
    "        for layer in self.layers:\n",
    "            yield layer\n",
    "    \n",
    "    def __getitem__(self, n):\n",
    "        return self.layers[n]\n",
    "    \n",
    "    def __len__(self):\n",
    "        return len(self.layers)\n",
    "    \n",
    "    @property\n",
    "    def Nes(self):\n",
    "        return [layer.Ne for i, layer in self]\n",
    "    \n",
    "    @property\n",
    "    def Nvs(self):\n",
    "        return [layer.Nv for i, layer in self]\n",
    "\n",
    "    @property\n",
    "    def Nfs(self):\n",
    "        return [layer.Nf for i, layer in self]\n",
    "    \n",
    "    def concat_datasets(self):\n",
    "        datasets = {}\n",
    "        for key in ['edge', 'face', 'vert']:\n",
    "            datasets[key] = pd.concat([layer.datasets[key]\n",
    "                                       for layer in self])\n",
    "        return datasets\n",
    "    \n",
    "    def update_interpolants(self):\n",
    "        self.interpolants = [Rbf(sheet.vert_df['x'],\n",
    "                                 sheet.vert_df['y'],\n",
    "                                 sheet.vert_df['z'])\n",
    "                             for sheet in self]\n"
   ]
  },
  {
   "cell_type": "code",
   "execution_count": 17,
   "metadata": {
    "collapsed": false
   },
   "outputs": [],
   "source": [
    "msheet = MultiSheet('two',\n",
    "                    [layer1_data,\n",
    "                     layer2_data],\n",
    "                    specs)"
   ]
  },
  {
   "cell_type": "code",
   "execution_count": 25,
   "metadata": {
    "collapsed": false
   },
   "outputs": [
    {
     "data": {
      "text/plain": [
       "{'edge': {'anchor_tension': 0.12, 'line_tension': 0.12},\n",
       " 'face': {'contractility': 0.04,\n",
       "  'prefered_area': 24.0,\n",
       "  'prefered_height': 10.0,\n",
       "  'prefered_vol': 0.0,\n",
       "  'vol_elasticity': 1.0},\n",
       " 'settings': {'grad_norm_factor': 1.0, 'nrj_norm_factor': 1.0},\n",
       " 'vert': {'radial_tension': 0.0}}"
      ]
     },
     "execution_count": 25,
     "metadata": {},
     "output_type": "execute_result"
    }
   ],
   "source": [
    "tyssue.config.dynamics.quasistatic_sheet_spec_anchors()"
   ]
  },
  {
   "cell_type": "code",
   "execution_count": 19,
   "metadata": {
    "collapsed": false
   },
   "outputs": [],
   "source": [
    "\n",
    "\n",
    "class MultiSheetGeometry():\n",
    "    \n",
    "    @classmethod\n",
    "    def update_all(cls, msheet):\n",
    "        \n",
    "        msheet.update_interpolants()\n",
    "        for sheet in msheet:\n",
    "            SheetGeometry.update_dcoords(sheet)\n",
    "            SheetGeometry.update_length(sheet)\n",
    "            SheetGeometry.update_centroid(sheet)\n",
    "            SheetGeometry.update_normals(sheet)\n",
    "            SheetGeometry.update_areas(sheet)\n",
    "            SheetGeometry.update_perimeters(sheet)\n",
    "            #SheetGeometry.update_vol(sheet)\n",
    "        cls.update_heights(msheet)\n",
    "        \n",
    "    @staticmethod\n",
    "    def update_heights(msheet):\n",
    "        \n",
    "        for lower, upper in zip(msheet.interpolants[:-1], \n",
    "                                msheet[1:]):\n",
    "            upper.vert_df['height'] = (upper.vert_df['z']\n",
    "                                       - lower(upper.vert_df['x'],\n",
    "                                               upper.vert_df['y']))\n",
    "            \n",
    "        for lower, upper in zip(msheet[:-1], \n",
    "                                msheet.interpolants[1:]):\n",
    "            lower.vert_df['depth'] = (upper(lower.vert_df['x'],\n",
    "                                            lower.vert_df['y'])\n",
    "                                      - upper.vert_df['z'])\n",
    "            \n",
    "\n",
    "        "
   ]
  },
  {
   "cell_type": "code",
   "execution_count": 20,
   "metadata": {
    "collapsed": false
   },
   "outputs": [],
   "source": [
    "MultiSheetGeometry.update_all(msheet)"
   ]
  },
  {
   "cell_type": "code",
   "execution_count": 33,
   "metadata": {
    "collapsed": false
   },
   "outputs": [],
   "source": [
    "from copy import deepcopy\n",
    "\n",
    "class MultiSheetModel():\n",
    "    \n",
    "    @staticmethod\n",
    "    def dimentionalize(mod_specs):\n",
    "        \"\"\"\n",
    "        Changes the values of the input gamma and lambda parameters\n",
    "        from the values of the prefered height and area.\n",
    "        Computes the norm factor.\n",
    "        \"\"\"\n",
    "\n",
    "        dim_mod_specs = deepcopy(mod_specs)\n",
    "\n",
    "        Kv = dim_mod_specs['face']['area_elasticity']\n",
    "        A0 = dim_mod_specs['face']['prefered_area']\n",
    "        gamma = dim_mod_specs['face']['contractility']\n",
    "        kappa_d = dim_mod_specs['vert']['d_elasticity']\n",
    "        \n",
    "        dim_mod_specs['face']['contractility'] = gamma * Kv * A0\n",
    "\n",
    "        lbda = dim_mod_specs['edge']['line_tension']\n",
    "        dim_mod_specs['edge']['line_tension'] = lbda * Kv * A0**1.5\n",
    "\n",
    "        dim_mod_specs['settings']['grad_norm_factor'] = Kv * A0**1.5\n",
    "        dim_mod_specs['settings']['nrj_norm_factor'] = Kv * A0**2\n",
    "\n",
    "        dim_mod_specs['vert']['d_elasticity'] = kappa_d * Kv * A0\n",
    "        \n",
    "        if 'anchor_tension' in dim_mod_specs['edge']:\n",
    "            t_a = dim_mod_specs['edge']['anchor_tension']\n",
    "            dim_mod_specs['edge']['anchor_tension'] = t_a * Kv * A0**1.5\n",
    "\n",
    "        \n",
    "            \n",
    "        return dim_mod_specs\n",
    "\n",
    "    @classmethod\n",
    "    def compute_energy(cls, msheet):\n",
    "        \n",
    "        E = 0\n",
    "        for sheet in msheet:\n",
    "            E += PlanarModel.compute_energy(sheet)\n",
    "        E += cls.desmosome_energy(msheet)\n",
    "        \n",
    "        \n",
    "    @staticmethod\n",
    "    def desmosome_energy(msheet):\n",
    "        \n",
    "        base_sheet = msheet[0]\n",
    "        basal = base_sheet.eval(\n",
    "            '0.5 * d_elasticity * ((z - basal_shift) - prefered_height)**2')\n",
    "        E_d = base_sheet.sum()\n",
    "        \n",
    "        for sheet in msheet[1:]:\n",
    "            upward = sheet.vert_df.eval(\n",
    "                '0.5 * d_elasticity * (height - prefered_height)**2')\n",
    "            E_d += upward.sum()\n",
    "            \n",
    "        for sheet in msheet[:-1]:\n",
    "            downward = sheet.vert_df.eval(\n",
    "                '0.5 * d_elasticity * (depth - prefered_height)**2')\n",
    "            E_d += downward.sum()\n",
    "        \n",
    "        return E_d\n",
    "    \n",
    "    \n",
    "    @staticmethod\n",
    "    def desmosome_gradient(msheet):\n",
    "        \n",
    "        grads = []\n",
    "        base_sheet = msheet[0]\n",
    "        grad0 = base_sheet.vert_df[sheet.coords].copy()\n",
    "        grad0[['x', 'y']] = 0\n",
    "        grad0['z'] = base_sheet.vert_df.eval(\n",
    "            'd_elasticity * ((z - basal_shift) - prefered_height)')\n",
    "        \n",
    "        for i, sheet in enumerate(msheet[1:]):\n",
    "            upward = sheet.vert_df.eval(\n",
    "                'd_elasticity * (height - prefered_height)**2')\n",
    "\n",
    "        for sheet in msheet[:-1]:\n",
    "            downward = sheet.vert_df.eval(\n",
    "                '- d_elasticity * (depth - prefered_height)**2')\n",
    "\n",
    "    "
   ]
  },
  {
   "cell_type": "code",
   "execution_count": 36,
   "metadata": {
    "collapsed": false
   },
   "outputs": [],
   "source": [
    "mod_specs = {\n",
    "    'edge': {\n",
    "        'anchor_tension': 0.12,\n",
    "        'line_tension': 0.12\n",
    "        },\n",
    "     'face': {\n",
    "        'contractility': 0.04,\n",
    "        'prefered_area': 1.0,\n",
    "        'prefered_vol': 0.0,\n",
    "        'area_elasticity': 1.0\n",
    "        },\n",
    "     'settings': {\n",
    "        'grad_norm_factor': 1.0,\n",
    "        'nrj_norm_factor': 1.0\n",
    "        },\n",
    "     'vert': {\n",
    "        'radial_tension': 0.0,\n",
    "        'prefered_height': 1.0,\n",
    "        'd_elasticity': 1.0}\n",
    "        }\n",
    "\n",
    "\n",
    "layers_mod_specs = [\n",
    "    {'face': {'prefered_area': 1.}},\n",
    "    {'face': {'prefered_area': 4.}}]\n",
    "\n",
    "for sheet, spec in zip(msheet, \n",
    "                       layers_mod_specs):\n",
    "    \n",
    "    spec_updater(mod_specs, spec)\n",
    "    sheet.update_specs(MultiSheetModel.dimentionalize(mod_specs),\n",
    "                       reset=True)\n"
   ]
  },
  {
   "cell_type": "code",
   "execution_count": 37,
   "metadata": {
    "collapsed": false
   },
   "outputs": [],
   "source": [
    "MultiSheetModel.compute_energy(msheet)"
   ]
  },
  {
   "cell_type": "code",
   "execution_count": null,
   "metadata": {
    "collapsed": true
   },
   "outputs": [],
   "source": []
  },
  {
   "cell_type": "code",
   "execution_count": 16,
   "metadata": {
    "collapsed": false
   },
   "outputs": [],
   "source": [
    "%matplotlib qt\n",
    "from tyssue.draw.plt_draw import sheet_view\n",
    "\n",
    "\n",
    "fig, ax = plt.subplots()\n",
    "draw_spec = {\n",
    "    'vert':{\n",
    "        'visible': False},\n",
    "    'edge':{\n",
    "        'head_width': 1e-3}\n",
    "    }\n",
    "\n",
    "for layer in msheet:\n",
    "    \n",
    "    fig, ax = sheet_view(layer, ax=ax, **draw_spec)"
   ]
  },
  {
   "cell_type": "code",
   "execution_count": 32,
   "metadata": {
    "collapsed": false
   },
   "outputs": [],
   "source": [
    "dz = 0.1\n",
    "for i, layer in enumerate(msheet):\n",
    "    layer.vert_df['z'] = dz * i\n",
    "    "
   ]
  },
  {
   "cell_type": "code",
   "execution_count": null,
   "metadata": {
    "collapsed": true
   },
   "outputs": [],
   "source": [
    "msheet"
   ]
  },
  {
   "cell_type": "code",
   "execution_count": null,
   "metadata": {
    "collapsed": true
   },
   "outputs": [],
   "source": [
    "class MultiSheetGeom(SheetGeometry):\n",
    "    \n",
    "    \n",
    "    "
   ]
  }
 ],
 "metadata": {
  "kernelspec": {
   "display_name": "Python 3",
   "language": "python",
   "name": "python3"
  },
  "language_info": {
   "codemirror_mode": {
    "name": "ipython",
    "version": 3
   },
   "file_extension": ".py",
   "mimetype": "text/x-python",
   "name": "python",
   "nbconvert_exporter": "python",
   "pygments_lexer": "ipython3",
   "version": "3.5.1"
  }
 },
 "nbformat": 4,
 "nbformat_minor": 0
}
