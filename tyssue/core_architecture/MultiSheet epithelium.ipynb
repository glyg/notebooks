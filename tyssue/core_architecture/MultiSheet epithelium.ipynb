{
 "cells": [
  {
   "cell_type": "markdown",
   "metadata": {},
   "source": [
    "# A multi layer epithelium\n",
    "\n",
    "Consisting of stacked 2D sheets"
   ]
  },
  {
   "cell_type": "code",
   "execution_count": 1,
   "metadata": {
    "collapsed": true
   },
   "outputs": [],
   "source": [
    "import numpy as np\n",
    "import pandas as pd\n",
    "\n",
    "import matplotlib.pyplot as plt\n",
    "\n",
    "import tyssue\n",
    "from tyssue.core.sheet import Sheet\n",
    "from tyssue.geometry.sheet_geometry import SheetGeometry\n",
    "from tyssue.dynamics.sheet_vertex_model import SheetModel"
   ]
  },
  {
   "cell_type": "code",
   "execution_count": 2,
   "metadata": {
    "collapsed": true
   },
   "outputs": [],
   "source": [
    "base_specs = tyssue.config.geometry.sheet_spec()\n",
    "\n"
   ]
  },
  {
   "cell_type": "code",
   "execution_count": 21,
   "metadata": {
    "collapsed": false
   },
   "outputs": [
    {
     "data": {
      "text/plain": [
       "{'edge': {'dx': 0.0,\n",
       "  'dy': 0.0,\n",
       "  'dz': 0.0,\n",
       "  'face': 0,\n",
       "  'layer': 0,\n",
       "  'length': 0.0,\n",
       "  'nx': 0.0,\n",
       "  'ny': 0.0,\n",
       "  'nz': 1.0,\n",
       "  'srce': 0,\n",
       "  'trgt': 0},\n",
       " 'face': {'area': 1.0,\n",
       "  'is_alive': True,\n",
       "  'layer': 0,\n",
       "  'num_sides': 6,\n",
       "  'perimeter': 1.0,\n",
       "  'x': 0.0,\n",
       "  'y': 0.0,\n",
       "  'z': 0.0},\n",
       " 'settings': {'geometry': 'cylindrical', 'height_axis': 'z'},\n",
       " 'vert': {'basal_shift': 4.0,\n",
       "  'height': 0.0,\n",
       "  'is_active': True,\n",
       "  'layer': 0,\n",
       "  'rho': 0.0,\n",
       "  'x': 0.0,\n",
       "  'y': 0.0,\n",
       "  'z': 0.0}}"
      ]
     },
     "execution_count": 21,
     "metadata": {},
     "output_type": "execute_result"
    }
   ],
   "source": [
    "specs"
   ]
  },
  {
   "cell_type": "code",
   "execution_count": 76,
   "metadata": {
    "collapsed": true
   },
   "outputs": [],
   "source": [
    "specs = base_specs.copy()\n",
    "specs['face']['layer'] = 0\n",
    "specs['vert']['layer'] = 0\n",
    "specs['vert']['depth'] = 0.0\n",
    "specs['edge']['layer'] = 0\n",
    "specs['settings']['geometry'] = 'flat'"
   ]
  },
  {
   "cell_type": "code",
   "execution_count": 23,
   "metadata": {
    "collapsed": true
   },
   "outputs": [],
   "source": [
    "from tyssue.core.generation import hexa_grid2d, from_2d_voronoi\n",
    "from scipy.spatial import Voronoi"
   ]
  },
  {
   "cell_type": "code",
   "execution_count": 77,
   "metadata": {
    "collapsed": true
   },
   "outputs": [],
   "source": [
    "layer1_centers = hexa_grid2d(24, 24, 1, 1, 0.4)\n",
    "layer2_centers = hexa_grid2d(16, 16, 2, 2, 1)\n",
    "layer1_data = from_2d_voronoi(Voronoi(layer1_centers))\n",
    "layer2_data = from_2d_voronoi(Voronoi(layer2_centers))\n"
   ]
  },
  {
   "cell_type": "code",
   "execution_count": 78,
   "metadata": {
    "collapsed": true
   },
   "outputs": [],
   "source": [
    "from tyssue.utils.utils import spec_updater"
   ]
  },
  {
   "cell_type": "code",
   "execution_count": 79,
   "metadata": {
    "collapsed": false
   },
   "outputs": [],
   "source": [
    "mod_specs = tyssue.config.dynamics.quasistatic_sheet_spec_anchors()\n",
    "{'face': {'prefered_height': 1.,}}\n",
    "layers_mod_specs = [\n",
    "    {'face': {'prefered_height': 1.,\n",
    "              'prefered_area': 1.},\n",
    "    'vert': {'basal_shift':0.},\n",
    "    },\n",
    "    {'face': {'prefered_height': 1.,\n",
    "              'prefered_area': 4.},\n",
    "     'vert': {'basal_shift':0.},\n",
    "    }]\n",
    "\n",
    "for sheet, spec in zip(msheet, \n",
    "                       layers_mod_specs):\n",
    "    \n",
    "    spec_updater(mod_specs, spec)\n",
    "    sheet.update_specs(SheetModel.dimentionalize(mod_specs),\n",
    "                       reset=True)\n"
   ]
  },
  {
   "cell_type": "code",
   "execution_count": 81,
   "metadata": {
    "collapsed": true
   },
   "outputs": [],
   "source": [
    "\n",
    "\n",
    "class MultiSheet():\n",
    "    \n",
    "    \n",
    "    def __init__(self, name, layer_datasets, specs):\n",
    "        \n",
    "        self.coords = ['x', 'y', 'z']\n",
    "        self.layers = [Sheet('{}_{}'.format(name, i),\n",
    "                             dsets, specs,\n",
    "                             coords=self.coords)\n",
    "                       for i, dsets in enumerate(layer_datasets)]\n",
    "        for i, layer in enumerate(self):\n",
    "            for dset in layer.datasets.values():\n",
    "                dset['layer'] = i\n",
    "\n",
    "    def __iter__(self):\n",
    "        for layer in self.layers:\n",
    "            yield layer\n",
    "    \n",
    "    def __getitem__(self, n):\n",
    "        return self.layers[n]\n",
    "    \n",
    "    def __len__(self):\n",
    "        return len(self.layers)\n",
    "    \n",
    "    @property\n",
    "    def Nes(self):\n",
    "        return [layer.Ne for i, layer in self]\n",
    "    \n",
    "    @property\n",
    "    def Nvs(self):\n",
    "        return [layer.Nv for i, layer in self]\n",
    "\n",
    "    @property\n",
    "    def Nfs(self):\n",
    "        return [layer.Nf for i, layer in self]\n",
    "    \n",
    "    def concat_datasets(self):\n",
    "        datasets = {}\n",
    "        for key in ['edge', 'face', 'vert']:\n",
    "            datasets[key] = pd.concat([layer.datasets[key]\n",
    "                                       for layer in self])\n",
    "        return datasets\n",
    "    \n",
    "    def update_interpolants(self):\n",
    "        self.interpolant = [Rbf(sheet.vert_df['x'],\n",
    "                                sheet.vert_df['y'],\n",
    "                                sheet.vert_df['z'])\n",
    "                            for sheet in self]\n"
   ]
  },
  {
   "cell_type": "code",
   "execution_count": 82,
   "metadata": {
    "collapsed": false
   },
   "outputs": [],
   "source": [
    "msheet = MultiSheet('two',\n",
    "                    [layer1_data,\n",
    "                     layer2_data],\n",
    "                    specs)"
   ]
  },
  {
   "cell_type": "code",
   "execution_count": 83,
   "metadata": {
    "collapsed": false
   },
   "outputs": [],
   "source": [
    "from scipy.interpolate import Rbf\n"
   ]
  },
  {
   "cell_type": "code",
   "execution_count": 68,
   "metadata": {
    "collapsed": true
   },
   "outputs": [],
   "source": [
    "interp = Rbf(sheet.vert_df['x'],\n",
    "             sheet.vert_df['y'],\n",
    "             sheet.vert_df['z'],)"
   ]
  },
  {
   "cell_type": "code",
   "execution_count": null,
   "metadata": {
    "collapsed": true
   },
   "outputs": [],
   "source": [
    "interp()"
   ]
  },
  {
   "cell_type": "code",
   "execution_count": 70,
   "metadata": {
    "collapsed": false
   },
   "outputs": [],
   "source": [
    "\n",
    "\n",
    "class MultiSheetGeometry():\n",
    "    \n",
    "    @classmethod\n",
    "    def update_all(cls, msheet):\n",
    "        \n",
    "        msheet.update_interpolants()\n",
    "        for sheet in msheet:\n",
    "            SheetGeometry.update_dcoords(sheet)\n",
    "            SheetGeometry.update_length(sheet)\n",
    "            SheetGeometry.update_centroid(sheet)\n",
    "            SheetGeometry.update_normals(sheet)\n",
    "            SheetGeometry.update_areas(sheet)\n",
    "            SheetGeometry.update_perimeters(sheet)\n",
    "            SheetGeometry.update_vol(sheet)\n",
    "        cls.update_heights(msheet)\n",
    "\n",
    "        \n",
    "    @staticmethod\n",
    "    def update_heights(msheet):\n",
    "        \n",
    "        for lower, upper in zip(msheet.interpolants[:-1], \n",
    "                                msheet[1:]):\n",
    "\n",
    "            upper.vert_df['height'] = lower(upper.vert_df['x'],\n",
    "                                            upper.vert_df['y'])\n",
    "            \n",
    "        for lower, upper in zip(msheet[:-1], \n",
    "                                msheet.interpolants[1:]):\n",
    "\n",
    "            lower.vert_df['depth'] = upper(lower.vert_df['x'],\n",
    "                                           lower.vert_df['y'])\n"
   ]
  },
  {
   "cell_type": "code",
   "execution_count": 72,
   "metadata": {
    "collapsed": false
   },
   "outputs": [],
   "source": [
    "MultiSheetGeometry.update_all(msheet)"
   ]
  },
  {
   "cell_type": "code",
   "execution_count": null,
   "metadata": {
    "collapsed": true
   },
   "outputs": [],
   "source": [
    "class MultiSheetModel():\n",
    "    \n",
    "    \n",
    "    @staticmethod\n",
    "    def compute_energy(msheet):\n",
    "        \n",
    "        E = 0\n",
    "        for sheet in msheet:\n",
    "            E += SheetModel.compute_energy(sheet)\n",
    "            \n",
    "    @staticmethod\n",
    "    def interaction_energy(msheet):\n",
    "        \n"
   ]
  },
  {
   "cell_type": "code",
   "execution_count": 75,
   "metadata": {
    "collapsed": false
   },
   "outputs": [
    {
     "data": {
      "text/plain": [
       "2"
      ]
     },
     "execution_count": 75,
     "metadata": {},
     "output_type": "execute_result"
    }
   ],
   "source": []
  },
  {
   "cell_type": "code",
   "execution_count": 16,
   "metadata": {
    "collapsed": false
   },
   "outputs": [],
   "source": [
    "%matplotlib qt\n",
    "from tyssue.draw.plt_draw import sheet_view\n",
    "\n",
    "\n",
    "fig, ax = plt.subplots()\n",
    "draw_spec = {\n",
    "    'vert':{\n",
    "        'visible': False},\n",
    "    'edge':{\n",
    "        'head_width': 1e-3}\n",
    "    }\n",
    "\n",
    "for layer in msheet:\n",
    "    \n",
    "    fig, ax = sheet_view(layer, ax=ax, **draw_spec)"
   ]
  },
  {
   "cell_type": "code",
   "execution_count": 32,
   "metadata": {
    "collapsed": false
   },
   "outputs": [],
   "source": [
    "dz = 0.1\n",
    "for i, layer in enumerate(msheet):\n",
    "    layer.vert_df['z'] = dz * i\n",
    "    "
   ]
  },
  {
   "cell_type": "code",
   "execution_count": null,
   "metadata": {
    "collapsed": true
   },
   "outputs": [],
   "source": [
    "msheet"
   ]
  },
  {
   "cell_type": "code",
   "execution_count": null,
   "metadata": {
    "collapsed": true
   },
   "outputs": [],
   "source": [
    "class MultiSheetGeom(SheetGeometry):\n",
    "    \n",
    "    \n",
    "    "
   ]
  }
 ],
 "metadata": {
  "kernelspec": {
   "display_name": "Python 3",
   "language": "python",
   "name": "python3"
  },
  "language_info": {
   "codemirror_mode": {
    "name": "ipython",
    "version": 3
   },
   "file_extension": ".py",
   "mimetype": "text/x-python",
   "name": "python",
   "nbconvert_exporter": "python",
   "pygments_lexer": "ipython3",
   "version": "3.5.1"
  }
 },
 "nbformat": 4,
 "nbformat_minor": 0
}
