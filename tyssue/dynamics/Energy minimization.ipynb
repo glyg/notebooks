{
 "cells": [
  {
   "cell_type": "markdown",
   "metadata": {},
   "source": [
    "# Testing energy minimization"
   ]
  },
  {
   "cell_type": "code",
   "execution_count": null,
   "metadata": {
    "collapsed": false
   },
   "outputs": [],
   "source": [
    "#import tyssue\n",
    "import sys\n",
    "#sys.path.append('/home/guillaume/Python/tyssue/src')\n",
    "import pandas as pd\n",
    "import numpy as np\n",
    "import json\n",
    "import matplotlib.pylab as plt\n",
    "%matplotlib inline\n",
    "from scipy import optimize\n",
    "\n",
    "from tyssue.core.sheet import Sheet\n",
    "\n",
    "from tyssue.utils.utils import set_data_columns\n",
    "\n",
    "from tyssue.geometry.sheet_geometry import SheetGeometry as geom\n",
    "from tyssue.dynamics.sheet_vertex_model import SheetModel as model\n",
    "from tyssue.solvers.sheet_vertex_solver import Solver as solver\n",
    "\n",
    "from tyssue.config.json_parser import load_default\n",
    "import tyssue.dynamics.sheet_isotropic_model as iso\n",
    "from tyssue.dynamics.sheet_isotropic_model import isotropic_relax\n",
    "\n",
    "\n",
    "\n",
    "from tyssue.draw.mpl_draw import sheet_view\n",
    "import tyssue.draw.mpl_draw as draw\n",
    "from tyssue.io import hdf5\n",
    "from tyssue.stores import load_datasets"
   ]
  },
  {
   "cell_type": "code",
   "execution_count": null,
   "metadata": {
    "collapsed": false
   },
   "outputs": [],
   "source": [
    "h5store = 'small_hexagonal.hf5'\n",
    "datasets = hdf5.load_datasets(h5store,\n",
    "                              data_names=['face', 'vert', 'edge'])\n",
    "sheet = Sheet('emin', datasets)\n",
    "\n",
    "sheet.set_geom('sheet')\n",
    "\n",
    "geom.update_all(sheet)\n",
    "sheet.vert_df.describe().head(3)\n"
   ]
  },
  {
   "cell_type": "markdown",
   "metadata": {},
   "source": [
    "we define the adimentional contractility $\\bar\\Gamma = \\Gamma/K_vA_0h_0^2$ and line tension\n",
    "$\\bar\\Lambda = \\Lambda /K_v (A_0^{3/2}h_0^2)$, where $h_0$ is such that $V_0 = A_0h_0$.\n"
   ]
  },
  {
   "cell_type": "code",
   "execution_count": null,
   "metadata": {
    "collapsed": false
   },
   "outputs": [],
   "source": [
    "sheet.face_df.describe().head(3)"
   ]
  },
  {
   "cell_type": "code",
   "execution_count": null,
   "metadata": {
    "collapsed": false
   },
   "outputs": [],
   "source": [
    "\n",
    "nondim_specs = load_default('dynamics', 'sheet')\n",
    "dim_model_specs = model.dimentionalize(nondim_specs)\n",
    "\n",
    "sheet.set_model('sheet', dim_model_specs)\n",
    "sheet.grad_norm_factor = sheet.specs['settings']['grad_norm_factor']\n",
    "sheet.nrj_norm_factor = sheet.specs['settings']['nrj_norm_factor']\n",
    "\n",
    "\n",
    "isotropic_relax(sheet, nondim_specs)"
   ]
  },
  {
   "cell_type": "code",
   "execution_count": null,
   "metadata": {
    "collapsed": false
   },
   "outputs": [],
   "source": [
    "sheet.nrj_norm_factor"
   ]
  },
  {
   "cell_type": "code",
   "execution_count": null,
   "metadata": {
    "collapsed": false
   },
   "outputs": [],
   "source": [
    "Et, Ec, Ev = model.compute_energy(sheet, full_output=True)\n",
    "energy = model.compute_energy(sheet, full_output=False)\n",
    "print('Total energy: {}'.format(energy))"
   ]
  },
  {
   "cell_type": "code",
   "execution_count": null,
   "metadata": {
    "collapsed": false
   },
   "outputs": [],
   "source": [
    "sheet.face_df.head()"
   ]
  },
  {
   "cell_type": "code",
   "execution_count": null,
   "metadata": {
    "collapsed": false
   },
   "outputs": [],
   "source": [
    "from tyssue.draw.mpl_draw import plot_analytical_to_numeric_comp\n",
    "fig, ax = plot_analytical_to_numeric_comp(sheet, model, geom, iso, nondim_specs)\n"
   ]
  },
  {
   "cell_type": "code",
   "execution_count": null,
   "metadata": {
    "collapsed": false
   },
   "outputs": [],
   "source": [
    "model.compute_energy(sheet) / sheet.face_df.is_alive.sum()"
   ]
  },
  {
   "cell_type": "code",
   "execution_count": null,
   "metadata": {
    "collapsed": false
   },
   "outputs": [],
   "source": [
    "isotropic_relax(sheet, nondim_specs)\n",
    "\n",
    "fig, ax = sheet_view(sheet, ['z', 'x'])"
   ]
  },
  {
   "cell_type": "code",
   "execution_count": null,
   "metadata": {
    "collapsed": false,
    "scrolled": true
   },
   "outputs": [],
   "source": [
    "grad_t, grad_c, grad_v_srce, grad_v_trgt = model.compute_gradient(sheet, components=True)\n"
   ]
  },
  {
   "cell_type": "code",
   "execution_count": null,
   "metadata": {
    "collapsed": false
   },
   "outputs": [],
   "source": [
    "np.linalg.norm(grad_v_trgt.dropna(), axis=0).sum() / sheet.nrj_norm_factor"
   ]
  },
  {
   "cell_type": "code",
   "execution_count": null,
   "metadata": {
    "collapsed": false
   },
   "outputs": [],
   "source": [
    "grad_t.head()"
   ]
  },
  {
   "cell_type": "code",
   "execution_count": null,
   "metadata": {
    "collapsed": false
   },
   "outputs": [],
   "source": [
    "grad_c.head()"
   ]
  },
  {
   "cell_type": "code",
   "execution_count": null,
   "metadata": {
    "collapsed": true
   },
   "outputs": [],
   "source": [
    "hdf5.save_datasets('small_hexagonal.hf5', sheet)"
   ]
  },
  {
   "cell_type": "code",
   "execution_count": null,
   "metadata": {
    "collapsed": false
   },
   "outputs": [],
   "source": [
    "grad_i = model.compute_gradient(sheet, components=False)\n",
    "grad_i.head()"
   ]
  },
  {
   "cell_type": "code",
   "execution_count": null,
   "metadata": {
    "collapsed": true
   },
   "outputs": [],
   "source": [
    "# geom.scale(sheet, 2, sheet.coords)\n",
    "# geom.update_all(sheet)"
   ]
  },
  {
   "cell_type": "code",
   "execution_count": null,
   "metadata": {
    "collapsed": true
   },
   "outputs": [],
   "source": [
    "bck_lt = sheet.edge_df.line_tension.copy()\n",
    "bck_ct = sheet.face_df.contractility.copy()\n",
    "bck_ve = sheet.face_df.vol_elasticity.copy()\n"
   ]
  },
  {
   "cell_type": "code",
   "execution_count": null,
   "metadata": {
    "collapsed": true
   },
   "outputs": [],
   "source": [
    "# sheet.edge_df.line_tension = 0\n",
    "# sheet.face_df.vol_elasticity = 0\n",
    "# sheet.face_df.contractility = 0"
   ]
  },
  {
   "cell_type": "code",
   "execution_count": null,
   "metadata": {
    "collapsed": false,
    "scrolled": true
   },
   "outputs": [],
   "source": [
    "scale = 10\n",
    "fig, ax = draw.plot_forces(sheet, geom, model, ['z', 'x'], scale)\n",
    "fig.set_size_inches(10, 12)\n",
    "for n, (vx, vy, vz) in sheet.vert_df[sheet.coords].iterrows():\n",
    "    shift = 0.6 * np.sign(vy)\n",
    "    ax.text(vz+shift-0.3, vx, str(n))\n",
    "\n",
    "app_grad_specs = load_default('draw', 'sheet')['grad']\n",
    "app_grad_specs.update({'color':'r'})\n",
    "    \n",
    "def draw_approx_force(ax=None):\n",
    "    fig, ax = draw.plot_forces(sheet, geom, model,\n",
    "                              ['z', 'x'], scaling=scale, ax=ax,\n",
    "                              approx_grad=solver.approx_grad, **{'grad':app_grad_specs})\n",
    "    fig.set_size_inches(10, 12)\n",
    "    return fig, ax\n",
    "\n",
    "## Uncomment bellow to recompute\n",
    "fig, ax = draw_approx_force(ax=ax)\n",
    "#fig"
   ]
  },
  {
   "cell_type": "code",
   "execution_count": null,
   "metadata": {
    "collapsed": false
   },
   "outputs": [],
   "source": [
    "sheet.edge_df.line_tension = bck_lt.copy()\n",
    "sheet.face_df.contractility = bck_ct.copy()\n",
    "sheet.face_df.vol_elasticity = bck_ve.copy()"
   ]
  },
  {
   "cell_type": "markdown",
   "metadata": {},
   "source": [
    "http://scipy.github.io/devdocs/generated/scipy.optimize.check_grad.html#scipy.optimize.check_grad"
   ]
  },
  {
   "cell_type": "code",
   "execution_count": null,
   "metadata": {
    "collapsed": false,
    "scrolled": true
   },
   "outputs": [],
   "source": [
    "\n",
    "grad_err = solver.check_grad(sheet, geom, model)\n",
    "grad_err /= sheet.vert_df.size\n",
    "\n",
    "\n",
    "print(\"Error on the gradient (non-dim, per vertex): {:.3e}\".format(grad_err))\n"
   ]
  },
  {
   "cell_type": "code",
   "execution_count": null,
   "metadata": {
    "collapsed": false
   },
   "outputs": [],
   "source": [
    "settings = {\n",
    "    'minimize': {\n",
    "        'options': {'disp':False,\n",
    "                    'ftol':1e-4,\n",
    "                    'gtol':1e-4},\n",
    "        }\n",
    "    }\n",
    "\n",
    "\n",
    "res = solver.find_energy_min(sheet, geom, model, **settings)\n",
    "print(res['success'])"
   ]
  },
  {
   "cell_type": "code",
   "execution_count": null,
   "metadata": {
    "collapsed": false
   },
   "outputs": [],
   "source": [
    "res['message']"
   ]
  },
  {
   "cell_type": "code",
   "execution_count": null,
   "metadata": {
    "collapsed": false
   },
   "outputs": [],
   "source": [
    "res['fun']/sheet.face_df.is_alive.sum()"
   ]
  },
  {
   "cell_type": "code",
   "execution_count": null,
   "metadata": {
    "collapsed": false
   },
   "outputs": [],
   "source": [
    "fig, ax = draw.plot_forces(sheet, geom, model, ['z', 'y'], 1)\n",
    "fig.set_size_inches(10, 12)\n"
   ]
  },
  {
   "cell_type": "code",
   "execution_count": null,
   "metadata": {
    "collapsed": false
   },
   "outputs": [],
   "source": [
    "fig, ax = sheet_view(sheet, ['z', 'x'])"
   ]
  }
 ],
 "metadata": {
  "kernelspec": {
   "display_name": "Python 3",
   "language": "python",
   "name": "python3"
  },
  "language_info": {
   "codemirror_mode": {
    "name": "ipython",
    "version": 3
   },
   "file_extension": ".py",
   "mimetype": "text/x-python",
   "name": "python",
   "nbconvert_exporter": "python",
   "pygments_lexer": "ipython3",
   "version": "3.5.1"
  }
 },
 "nbformat": 4,
 "nbformat_minor": 0
}
