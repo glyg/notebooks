{
 "cells": [
  {
   "cell_type": "markdown",
   "metadata": {},
   "source": [
    "# Single Cell apoptosis\n",
    "\n",
    "#### As decribed in Monier et al. 2015"
   ]
  },
  {
   "cell_type": "code",
   "execution_count": null,
   "metadata": {
    "collapsed": false
   },
   "outputs": [],
   "source": [
    "import pandas as pd\n",
    "import numpy as np\n",
    "import json\n",
    "import matplotlib.pylab as plt\n",
    "%matplotlib inline\n",
    "from scipy import optimize\n",
    "\n",
    "from tyssue.core.sheet import Sheet\n",
    "from tyssue.config.json_parser import load_default\n",
    "\n",
    "from tyssue.geometry.sheet_geometry import SheetGeometry as geom\n",
    "from tyssue.dynamics.apoptosis_model import SheetApoptosisModel as model\n",
    "from tyssue.dynamics.sheet_vertex_model import SheetModel as basemodel\n",
    "from tyssue.solvers.sheet_vertex_solver import Solver as solver\n",
    "\n",
    "#from tyssue.dynamics.sheet_isotropic_model import isotropic_relax\n",
    "\n",
    "from tyssue.draw.vispy_draw import vp_view\n",
    "from tyssue.topology.sheet_topology import type1_transition, remove_face\n",
    "\n",
    "from tyssue.draw.mpl_draw import sheet_view\n",
    "import tyssue.draw.mpl_draw as draw\n",
    "from tyssue.stores import load_datasets"
   ]
  },
  {
   "cell_type": "markdown",
   "metadata": {},
   "source": [
    "### Loading a dataset\n",
    "\n",
    "Here it is a cylindrical hexagonal mesh."
   ]
  },
  {
   "cell_type": "code",
   "execution_count": null,
   "metadata": {
    "collapsed": false
   },
   "outputs": [],
   "source": [
    "h5store = 'small_hexagonal.hf5'\n",
    "datasets = load_datasets(h5store,\n",
    "                         data_names=['face', 'vert', 'edge'])\n",
    "\n",
    "sheet = Sheet('emin', datasets)\n",
    "sheet.set_geom('sheet')\n",
    "geom.update_all(sheet)\n",
    "\n",
    "nondim_specs = load_default('dynamics', 'sheet')\n",
    "dim_model_specs = model.dimentionalize(nondim_specs)\n",
    "\n",
    "sheet.set_model('sheet', dim_model_specs)\n",
    "\n",
    "fig, ax = sheet_view(sheet, ['z', 'x'], **{'edge': {'width':1.}})"
   ]
  },
  {
   "cell_type": "code",
   "execution_count": null,
   "metadata": {
    "collapsed": true
   },
   "outputs": [],
   "source": [
    "live_edges = sheet.upcast_face(sheet.face_df.is_alive)\n",
    "dead_src = set(sheet.edge_df[live_edges==0].srce)\n",
    "\n",
    "sheet.vert_df.is_active = 1\n",
    "sheet.vert_df.loc[dead_src, 'is_active'] = 0"
   ]
  },
  {
   "cell_type": "code",
   "execution_count": null,
   "metadata": {
    "collapsed": false
   },
   "outputs": [],
   "source": [
    "settings = {\n",
    "    'minimize': {\n",
    "        'options': {\n",
    "            'disp': False,\n",
    "            'ftol': 1e-6,    \n",
    "            'gtol': 1e-5},\n",
    "        }\n",
    "    }\n",
    "\n",
    "res = solver.find_energy_min(sheet, geom, model, **settings)\n",
    "print(res['success'])"
   ]
  },
  {
   "cell_type": "code",
   "execution_count": null,
   "metadata": {
    "collapsed": false
   },
   "outputs": [],
   "source": [
    "fig, ax = sheet_view(sheet, ['z', 'x'], **{'edge': {'width':1.}})"
   ]
  },
  {
   "cell_type": "code",
   "execution_count": null,
   "metadata": {
    "collapsed": false
   },
   "outputs": [],
   "source": [
    "apoptotic_cell = 45\n",
    "\n",
    "apoptotic_edges = sheet.edge_df[sheet.edge_df['face'] == apoptotic_cell]\n",
    "apoptotic_verts = apoptotic_edges['srce'].values\n",
    "print(\"Indices of the apoptotic vertices: {}\".format(apoptotic_verts))"
   ]
  },
  {
   "cell_type": "code",
   "execution_count": null,
   "metadata": {
    "collapsed": false
   },
   "outputs": [],
   "source": [
    "\n",
    "\n",
    "n_steps = 20\n",
    "\n",
    "pref_vols = np.logspace(0, -9, n_steps, base=2) * sheet.specs['face']['prefered_vol']\n",
    "rad_tensions = np.linspace(0, 1, n_steps) * sheet.specs['edge']['line_tension']\n",
    "\n",
    "for i, (pref_v, rad_tens) in enumerate(zip(pref_vols, rad_tensions)):\n",
    "    sheet.face_df.loc[apoptotic_cell, 'prefered_vol'] = pref_v\n",
    "    sheet.vert_df.loc[apoptotic_verts, 'radial_tension'] = rad_tens\n",
    "    res = solver.find_energy_min(sheet, geom, model, **settings)\n",
    "    #fig, ax = sheet_view(sheet, ['z', 'x'])\n",
    "    #plt.savefig('test_apopto_{:03d}.png'.format(i))\n",
    "    #plt.close()\n",
    "    \n"
   ]
  },
  {
   "cell_type": "code",
   "execution_count": null,
   "metadata": {
    "collapsed": false
   },
   "outputs": [],
   "source": [
    "vp_view(sheet)"
   ]
  },
  {
   "cell_type": "code",
   "execution_count": null,
   "metadata": {
    "collapsed": false,
    "scrolled": false
   },
   "outputs": [],
   "source": [
    "j = 0\n",
    "while len(apoptotic_edges) > 3:\n",
    "    j += 1\n",
    "    shorter = apoptotic_edges.length.argmin()\n",
    "    type1_transition(sheet, shorter)\n",
    "    geom.update_all(sheet)\n",
    "    res = solver.find_energy_min(sheet, geom, \n",
    "                                 model, **settings)\n",
    "    apoptotic_edges = sheet.edge_df[sheet.edge_df['face'] ==\n",
    "                                    apoptotic_cell]\n",
    "    print(len(apoptotic_edges))\n",
    "    \n",
    "    #fig, ax = sheet_view(sheet, ['z', 'x'])\n",
    "    #plt.savefig('test_apopto_{:03d}.png'.format(i+j))\n",
    "    #plt.close()"
   ]
  },
  {
   "cell_type": "code",
   "execution_count": null,
   "metadata": {
    "collapsed": false
   },
   "outputs": [],
   "source": [
    "remove_face(sheet, apoptotic_cell)\n",
    "geom.update_all(sheet)\n"
   ]
  },
  {
   "cell_type": "code",
   "execution_count": null,
   "metadata": {
    "collapsed": false
   },
   "outputs": [],
   "source": [
    "vp_view(sheet)"
   ]
  },
  {
   "cell_type": "code",
   "execution_count": null,
   "metadata": {
    "collapsed": false
   },
   "outputs": [],
   "source": [
    "\n",
    "\n",
    "res = solver.find_energy_min(sheet, geom, model, **settings)\n",
    "print(res['success'])\n",
    "fig, ax = sheet_view(sheet, ['z', 'x'])"
   ]
  },
  {
   "cell_type": "code",
   "execution_count": null,
   "metadata": {
    "collapsed": true
   },
   "outputs": [],
   "source": []
  }
 ],
 "metadata": {
  "kernelspec": {
   "display_name": "Python 3",
   "language": "python",
   "name": "python3"
  },
  "language_info": {
   "codemirror_mode": {
    "name": "ipython",
    "version": 3
   },
   "file_extension": ".py",
   "mimetype": "text/x-python",
   "name": "python",
   "nbconvert_exporter": "python",
   "pygments_lexer": "ipython3",
   "version": "3.5.1"
  }
 },
 "nbformat": 4,
 "nbformat_minor": 0
}
