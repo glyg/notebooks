{
 "cells": [
  {
   "cell_type": "markdown",
   "metadata": {},
   "source": [
    "# Single Cell apoptosis\n",
    "\n",
    "#### As decribed in Monier et al. 2015"
   ]
  },
  {
   "cell_type": "code",
   "execution_count": 42,
   "metadata": {
    "collapsed": false
   },
   "outputs": [],
   "source": [
    "import pandas as pd\n",
    "import numpy as np\n",
    "import json\n",
    "import matplotlib.pylab as plt\n",
    "%matplotlib inline\n",
    "from scipy import optimize\n",
    "\n",
    "from tyssue.core.sheet import Sheet\n",
    "from tyssue.config.json_parser import load_default\n",
    "\n",
    "\n",
    "from tyssue.geometry.sheet_geometry import SheetGeometry as geom\n",
    "from tyssue.dynamics.apoptosis_model import SheetApoptosisModel as model\n",
    "from tyssue.dynamics.sheet_vertex_model import SheetModel as basemodel\n",
    "from tyssue.solvers.sheet_vertex_solver import Solver as solver\n",
    "\n",
    "#from tyssue.dynamics.sheet_isotropic_model import isotropic_relax\n",
    "\n",
    "from tyssue.draw.vispy_draw import vp_view\n",
    "from tyssue.topology.sheet_topology import type1_transition, remove_face\n",
    "\n",
    "from tyssue.draw.mpl_draw import sheet_view\n",
    "import tyssue.draw.mpl_draw as draw\n",
    "from tyssue.stores import load_datasets"
   ]
  },
  {
   "cell_type": "markdown",
   "metadata": {},
   "source": [
    "### Loading a dataset\n",
    "\n",
    "Here it is a cylindrical hexagonal mesh."
   ]
  },
  {
   "cell_type": "code",
   "execution_count": 43,
   "metadata": {
    "collapsed": false
   },
   "outputs": [],
   "source": [
    "#h5store = 'before_apoptosis.hf5'\n",
    "h5store = 'small_hexagonal.hf5'\n",
    "\n",
    "datasets = load_datasets(h5store,\n",
    "                         data_names=['face', 'vert', 'edge'])\n",
    "sheet = Sheet('emin', datasets)\n",
    "sheet.set_geom('sheet')\n",
    "geom.update_all(sheet)\n",
    "\n",
    "nondim_specs = load_default('dynamics', 'sheet')\n",
    "dim_model_specs = model.dimentionalize(nondim_specs)\n",
    "\n",
    "sheet.set_model('sheet', dim_model_specs)\n",
    "\n",
    "live_edges = sheet.upcast_face(sheet.face_df.is_alive)\n",
    "dead_src = set(sheet.edge_df[live_edges==0].srce)\n",
    "\n",
    "sheet.vert_df.is_active = 1\n",
    "sheet.vert_df.loc[dead_src, 'is_active'] = 0"
   ]
  },
  {
   "cell_type": "code",
   "execution_count": 44,
   "metadata": {
    "collapsed": false
   },
   "outputs": [
    {
     "name": "stdout",
     "output_type": "stream",
     "text": [
      "True\n"
     ]
    }
   ],
   "source": [
    "settings = {\n",
    "    'minimize': {\n",
    "        'options': {\n",
    "            'disp': False,\n",
    "            'ftol': 1e-6,    \n",
    "            'gtol': 1e-5},\n",
    "        }\n",
    "    }\n",
    "\n",
    "res = solver.find_energy_min(sheet, geom, model, **settings)\n",
    "print(res['success'])"
   ]
  },
  {
   "cell_type": "code",
   "execution_count": 45,
   "metadata": {
    "collapsed": false
   },
   "outputs": [],
   "source": [
    "# vp_view(sheet, coords=['z', 'x', 'y'])"
   ]
  },
  {
   "cell_type": "code",
   "execution_count": 46,
   "metadata": {
    "collapsed": false
   },
   "outputs": [
    {
     "data": {
      "text/html": [
       "<div>\n",
       "<table border=\"1\" class=\"dataframe\">\n",
       "  <thead>\n",
       "    <tr style=\"text-align: right;\">\n",
       "      <th></th>\n",
       "      <th>y</th>\n",
       "      <th>is_active</th>\n",
       "      <th>z</th>\n",
       "      <th>x</th>\n",
       "      <th>rho</th>\n",
       "      <th>old_idx</th>\n",
       "      <th>basal_shift</th>\n",
       "      <th>height</th>\n",
       "      <th>radial_tension</th>\n",
       "    </tr>\n",
       "    <tr>\n",
       "      <th>vert</th>\n",
       "      <th></th>\n",
       "      <th></th>\n",
       "      <th></th>\n",
       "      <th></th>\n",
       "      <th></th>\n",
       "      <th></th>\n",
       "      <th></th>\n",
       "      <th></th>\n",
       "      <th></th>\n",
       "    </tr>\n",
       "  </thead>\n",
       "  <tbody>\n",
       "    <tr>\n",
       "      <th>73</th>\n",
       "      <td>-5.987904e+00</td>\n",
       "      <td>0</td>\n",
       "      <td>-10.860857</td>\n",
       "      <td>-4.951674e-15</td>\n",
       "      <td>5.987904</td>\n",
       "      <td>129</td>\n",
       "      <td>-2.878023</td>\n",
       "      <td>8.865927</td>\n",
       "      <td>0.0</td>\n",
       "    </tr>\n",
       "    <tr>\n",
       "      <th>0</th>\n",
       "      <td>2.659164e-15</td>\n",
       "      <td>0</td>\n",
       "      <td>-10.860857</td>\n",
       "      <td>5.987904e+00</td>\n",
       "      <td>5.987904</td>\n",
       "      <td>56</td>\n",
       "      <td>-2.878023</td>\n",
       "      <td>8.865927</td>\n",
       "      <td>0.0</td>\n",
       "    </tr>\n",
       "    <tr>\n",
       "      <th>37</th>\n",
       "      <td>4.234088e+00</td>\n",
       "      <td>0</td>\n",
       "      <td>-10.860857</td>\n",
       "      <td>-4.234088e+00</td>\n",
       "      <td>5.987904</td>\n",
       "      <td>93</td>\n",
       "      <td>-2.878023</td>\n",
       "      <td>8.865927</td>\n",
       "      <td>0.0</td>\n",
       "    </tr>\n",
       "    <tr>\n",
       "      <th>2</th>\n",
       "      <td>4.234088e+00</td>\n",
       "      <td>0</td>\n",
       "      <td>-10.860857</td>\n",
       "      <td>4.234088e+00</td>\n",
       "      <td>5.987904</td>\n",
       "      <td>58</td>\n",
       "      <td>-2.878023</td>\n",
       "      <td>8.865927</td>\n",
       "      <td>0.0</td>\n",
       "    </tr>\n",
       "    <tr>\n",
       "      <th>61</th>\n",
       "      <td>-4.234088e+00</td>\n",
       "      <td>0</td>\n",
       "      <td>-10.860857</td>\n",
       "      <td>-4.234088e+00</td>\n",
       "      <td>5.987904</td>\n",
       "      <td>117</td>\n",
       "      <td>-2.878023</td>\n",
       "      <td>8.865927</td>\n",
       "      <td>0.0</td>\n",
       "    </tr>\n",
       "  </tbody>\n",
       "</table>\n",
       "</div>"
      ],
      "text/plain": [
       "                 y  is_active          z             x       rho  old_idx  \\\n",
       "vert                                                                        \n",
       "73   -5.987904e+00          0 -10.860857 -4.951674e-15  5.987904      129   \n",
       "0     2.659164e-15          0 -10.860857  5.987904e+00  5.987904       56   \n",
       "37    4.234088e+00          0 -10.860857 -4.234088e+00  5.987904       93   \n",
       "2     4.234088e+00          0 -10.860857  4.234088e+00  5.987904       58   \n",
       "61   -4.234088e+00          0 -10.860857 -4.234088e+00  5.987904      117   \n",
       "\n",
       "      basal_shift    height  radial_tension  \n",
       "vert                                         \n",
       "73      -2.878023  8.865927             0.0  \n",
       "0       -2.878023  8.865927             0.0  \n",
       "37      -2.878023  8.865927             0.0  \n",
       "2       -2.878023  8.865927             0.0  \n",
       "61      -2.878023  8.865927             0.0  "
      ]
     },
     "execution_count": 46,
     "metadata": {},
     "output_type": "execute_result"
    }
   ],
   "source": [
    "sheet.vert_df.sort_values('z').head()"
   ]
  },
  {
   "cell_type": "code",
   "execution_count": 47,
   "metadata": {
    "collapsed": false
   },
   "outputs": [
    {
     "data": {
      "image/png": "[encoded data removed]",
      "text/plain": [
       "<matplotlib.figure.Figure at 0x7f08b14cef60>"
      ]
     },
     "metadata": {},
     "output_type": "display_data"
    }
   ],
   "source": [
    "def leg_joint_view(sheet, coords=['z', 'y', 'x']):\n",
    "\n",
    "    x, y, z = coords\n",
    "    datasets = {}\n",
    "    \n",
    "    datasets['face'] = sheet.face_df.sort_values(z)\n",
    "    datasets['vert'] = sheet.vert_df.sort_values(z)\n",
    "    edge_z = 0.5 * (sheet.upcast_srce(sheet.vert_df[z]) +\n",
    "                    sheet.upcast_trgt(sheet.vert_df[z]))\n",
    "    datasets['edge'] = sheet.edge_df.copy()\n",
    "    datasets['edge'][z] = edge_z\n",
    "    datasets['edge'] = datasets['edge'].sort_values(z)\n",
    "    \n",
    "    tmp_sheet = Sheet('tmp', datasets,\n",
    "                      sheet.specs)\n",
    "    tmp_sheet.reset_index()\n",
    "    cmap = plt.cm.get_cmap('viridis')\n",
    "    \n",
    "    e_depth = (tmp_sheet.edge_df[z] -\n",
    "               tmp_sheet.edge_df[z].min()) / tmp_sheet.edge_df[z].ptp()\n",
    "    depth_cmap = cmap(e_depth)\n",
    "    draw_specs = {\n",
    "        'vert': {\n",
    "            'visible': False\n",
    "            },\n",
    "        'edge': {\n",
    "            'color': depth_cmap,\n",
    "            #'zorder': depth.values\n",
    "            }\n",
    "        }\n",
    "    \n",
    "    fig, ax = sheet_view(tmp_sheet, coords[:2], **draw_specs)\n",
    "    ax.set_xlim(-80, 80)\n",
    "    ax.set_ylim(-45, 45)\n",
    "    ax.set_axis_bgcolor('#404040')\n",
    "    ax.set_xticks([])\n",
    "    ax.set_yticks([])\n",
    "    fig.set_size_inches((12, 12))\n",
    "    return fig, ax\n",
    "\n",
    "fig, ax = leg_joint_view(sheet)\n"
   ]
  },
  {
   "cell_type": "code",
   "execution_count": 63,
   "metadata": {
    "collapsed": false
   },
   "outputs": [
    {
     "name": "stdout",
     "output_type": "stream",
     "text": [
      "Indices of the apoptotic vertices: [24 26 25 29 38 36]\n"
     ]
    }
   ],
   "source": [
    "apoptotic_cell = 15#1052\n",
    "\n",
    "apoptotic_edges = sheet.edge_df[sheet.edge_df['face'] == apoptotic_cell]\n",
    "apoptotic_verts = apoptotic_edges['srce'].values\n",
    "print(\"Indices of the apoptotic vertices: {}\".format(apoptotic_verts))"
   ]
  },
  {
   "cell_type": "code",
   "execution_count": 57,
   "metadata": {
    "collapsed": false
   },
   "outputs": [],
   "source": [
    "class SheetEvents():\n",
    "    \n",
    "    \n",
    "    def __init__(self, sheet, model, geom):\n",
    "        self.sheet = sheet\n",
    "        self.model = model\n",
    "        self.geom = geom\n",
    "        \n",
    "    \n",
    "    def get_events(self):\n",
    "        events = {\n",
    "            'face': {\n",
    "                'shrink': self.shrink,\n",
    "                'grow': self.grow,\n",
    "                'contract': self.contract,\n",
    "                'type1_at_shorter': self.type1_at_shorter,\n",
    "                'type3': self.type3,\n",
    "                'divide': self.type3,\n",
    "                },\n",
    "            'vert': {\n",
    "                'ab_pull': self.ab_pull,\n",
    "                }\n",
    "            }\n",
    "        return events\n",
    "\n",
    "    def shrink(self, face, *args):\n",
    "        \n",
    "        factor = args[0]\n",
    "        new_vol = self.sheet.specs['face']['prefered_vol'] * factor\n",
    "        self.sheet.face_df.loc[face, 'prefered_vol'] = new_vol\n",
    "\n",
    "    def grow(self, face, *args):\n",
    "        \n",
    "        return self.shrink(face, *args)\n",
    "    \n",
    "    def contract(self, face, *args):\n",
    "        \n",
    "        factor = args[0]\n",
    "        new_contractility = self.sheet.specs['face']['contractility'] * factor\n",
    "        self.sheet.face_df.loc[face, 'contractility'] = new_contractility\n",
    "    \n",
    "    def type1_at_shorter(self, face, *args):\n",
    "        \n",
    "        edges = self.sheet.edge_df[self.sheet.edge_df['face']==face]\n",
    "        shorter = edges.length.argmin()\n",
    "        type1_transition(self.sheet, shorter)\n",
    "        self.geom.update_all(self.sheet)\n",
    "    \n",
    "    def type3(self, face, *args):\n",
    "        \n",
    "        remove_face(sheet, face)\n",
    "        self.geom.update_all(self.sheet)\n",
    "    \n",
    "    def ab_pull(self, vert, *args):\n",
    "        \n",
    "        factor = args[0]\n",
    "        new_tension = self.sheet.specs['vert']['radial_tension'] * factor\n",
    "        self.sheet.vert_df.loc[vert, 'radial_tension'] = new_tension\n",
    "\n",
    "        \n",
    "    def divide(self, face, *args):\n",
    "        pass"
   ]
  },
  {
   "cell_type": "code",
   "execution_count": 58,
   "metadata": {
    "collapsed": false
   },
   "outputs": [
    {
     "name": "stdout",
     "output_type": "stream",
     "text": [
      "vert : \n",
      "----\n",
      "ab_pull\n",
      "\n",
      "\n",
      "face : \n",
      "----\n",
      "type1_at_shorter\n",
      "grow\n",
      "contract\n",
      "shrink\n",
      "type3\n",
      "\n",
      "\n"
     ]
    }
   ],
   "source": [
    "sheet_events = SheetEvents(sheet, model, geom)\n",
    "events = sheet_events.get_events()\n",
    "\n",
    "for elem in events:\n",
    "    print('{} : '.format(elem))\n",
    "    print('----')\n",
    "    print('\\n'.join([k for k in events[elem]]))\n",
    "    print('\\n')\n",
    "    "
   ]
  },
  {
   "cell_type": "code",
   "execution_count": 59,
   "metadata": {
    "collapsed": false
   },
   "outputs": [],
   "source": [
    "from tyssue.core.objects import get_opposite\n",
    "sheet.edge_df['opposite'] = get_opposite(sheet.edge_df)"
   ]
  },
  {
   "cell_type": "code",
   "execution_count": 60,
   "metadata": {
    "collapsed": false
   },
   "outputs": [],
   "source": [
    "def apoptosis_time_tables(sheet, apoptotic_cell,\n",
    "                          events,\n",
    "                          start_t=0, \n",
    "                          shrink_steps=20):\n",
    "    time_tables = {}\n",
    "    \n",
    "    apoptotic_edges = sheet.edge_df[sheet.edge_df['face'] == apoptotic_cell]\n",
    "    \n",
    "    \n",
    "    n_sides = apoptotic_edges.shape[0]\n",
    "    duration = shrink_steps + n_sides + 1\n",
    "    times = range(start_t, start_t + duration)\n",
    "    shrink_times = range(start_t, start_t + shrink_steps)\n",
    "    \n",
    "    cell_time_idx = pd.MultiIndex.from_tuples(\n",
    "        [(t, apoptotic_cell) for t in times],\n",
    "        names=['t', 'face'])\n",
    "    time_tables['face'] = pd.DataFrame(index=cell_time_idx,\n",
    "                                       columns=events['face'].keys())\n",
    "    \n",
    "    pref_vols = np.logspace(0, -9, shrink_steps, base=2)\n",
    "    time_tables['face'].loc[\n",
    "        start_t: start_t+shrink_steps-1, 'shrink'] = pref_vols\n",
    "    time_tables['face'].loc[\n",
    "        start_t + shrink_steps-1: start_t+duration-2, 'type1_at_shorter'] = 1\n",
    "    time_tables['face'].loc[start_t+duration-1, 'type3'] = 1\n",
    "\n",
    "    \n",
    "    apoptotic_verts = apoptotic_edges['srce']\n",
    "    vert_time_idx = pd.MultiIndex.from_tuples(\n",
    "        [(t, v) for t in times for v in apoptotic_verts],\n",
    "         names=['t', 'vert'])\n",
    "    time_tables['vert'] = pd.DataFrame(index=vert_time_idx,\n",
    "                                       columns=events['vert'].keys())\n",
    "\n",
    "    rad_tensions = (np.linspace(0, 1, shrink_steps) *\n",
    "                    sheet.specs['edge']['line_tension'])\n",
    "\n",
    "    for v in apoptotic_verts:\n",
    "        v_idx = pd.MultiIndex.from_tuples(\n",
    "            [(t, v) for t in shrink_times], names=['t', 'vert'])\n",
    "        time_tables['vert'].loc[v_idx, 'ab_pull'] = rad_tensions\n",
    "\n",
    "    return times, time_tables\n"
   ]
  },
  {
   "cell_type": "code",
   "execution_count": 64,
   "metadata": {
    "collapsed": false
   },
   "outputs": [],
   "source": [
    "times, time_tables = apoptosis_time_tables(sheet, apoptotic_cell,\n",
    "                                           events,\n",
    "                                           start_t=0, \n",
    "                                           shrink_steps=20)"
   ]
  },
  {
   "cell_type": "code",
   "execution_count": 65,
   "metadata": {
    "collapsed": false
   },
   "outputs": [],
   "source": [
    "for t in times:\n",
    "    face_events = time_tables['face'].loc[t]\n",
    "    for face, evts in face_events.iterrows():\n",
    "        for event_name, event_arg in evts.dropna().items():\n",
    "            events['face'][event_name](face, event_arg)\n",
    "            \n",
    "    vert_events = time_tables['vert'].loc[t]\n",
    "    for vert, evts in vert_events.iterrows():\n",
    "        for event_name, event_arg in evts.dropna().items():\n",
    "            events['vert'][event_name](vert, event_arg)\n",
    "    res = solver.find_energy_min(sheet, geom, model, **settings)\n",
    "    fig, ax = leg_joint_view(sheet)\n",
    "    plt.savefig('single_apopto_{:03d}.png'.format(t))\n",
    "    plt.close(fig)"
   ]
  },
  {
   "cell_type": "code",
   "execution_count": null,
   "metadata": {
    "collapsed": true
   },
   "outputs": [],
   "source": []
  }
 ],
 "metadata": {
  "kernelspec": {
   "display_name": "Python 3",
   "language": "python",
   "name": "python3"
  },
  "language_info": {
   "codemirror_mode": {
    "name": "ipython",
    "version": 3
   },
   "file_extension": ".py",
   "mimetype": "text/x-python",
   "name": "python",
   "nbconvert_exporter": "python",
   "pygments_lexer": "ipython3",
   "version": "3.5.1"
  }
 },
 "nbformat": 4,
 "nbformat_minor": 0
}
