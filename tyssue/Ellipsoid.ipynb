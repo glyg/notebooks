{
 "cells": [
  {
   "cell_type": "code",
   "execution_count": 1,
   "metadata": {
    "collapsed": false
   },
   "outputs": [],
   "source": [
    "import pandas as pd\n",
    "import numpy as np\n",
    "import json\n",
    "import matplotlib.pylab as plt\n",
    "%matplotlib inline\n",
    "\n",
    "from tyssue.core.sheet import Sheet\n",
    "\n",
    "from tyssue import config\n",
    "from tyssue.topology.sheet_topology import cell_division\n",
    "\n",
    "from tyssue.geometry.sheet_geometry import SheetGeometry as geom\n",
    "from tyssue.solvers.sheet_vertex_solver import Solver as solver\n",
    "from tyssue.dynamics.sheet_vertex_model import SheetModel as model\n",
    "\n",
    "from tyssue.core.generation import extrude\n",
    "from tyssue.core.monolayer import Monolayer, MonolayerWithLamina\n",
    "from tyssue.geometry.bulk_geometry import BulkGeometry, MonoLayerGeometry\n",
    "from tyssue.dynamics.bulk_model import BulkModel, LaminaModel, set_model\n",
    "from tyssue.solvers.sheet_vertex_solver import Solver\n",
    "\n",
    "from tyssue.draw.vispy_draw import vp_view\n",
    "\n",
    "from tyssue.draw.plt_draw import sheet_view\n",
    "\n",
    "from tyssue.topology.sheet_topology import remove_face\n",
    "from tyssue.core.objects import get_opposite\n",
    "from tyssue.io.hdf5 import save_datasets, load_datasets\n",
    "\n",
    "from tyssue.topology.sheet_topology import face_division, get_division_edges\n"
   ]
  },
  {
   "cell_type": "code",
   "execution_count": 18,
   "metadata": {
    "collapsed": false
   },
   "outputs": [
    {
     "name": "stderr",
     "output_type": "stream",
     "text": [
      "WARNING:tyssue.utils.utils:Reseting datasets values with new specs\n"
     ]
    }
   ],
   "source": [
    "datasets = load_datasets('small_ellipsoid.hf5',\n",
    "                         data_names=['vert', 'edge',\n",
    "                                     'face', 'cell'])\n",
    "specs = config.geometry.bulk_spec()\n",
    "\n",
    "mono = Monolayer('ell', datasets, specs)\n",
    "mono.reset_index()\n",
    "mono.reset_topo()\n",
    "\n",
    "\n",
    "# ## Settings for the quasi-static model\n",
    "# ### Apical layer\n",
    "apical_spec = {\n",
    "    'edge': {\n",
    "        'line_tension': 0.12,},\n",
    "    'face': {\n",
    "        'contractility': 0.04,\n",
    "        'prefered_area': 0.8,\n",
    "        'area_elasticity': 1.0},\n",
    "    'cell': {\n",
    "        'prefered_vol': 1.0,\n",
    "        'vol_elasticity': 1.0},\n",
    "    'settings': {\n",
    "        'grad_norm_factor': 1.0,\n",
    "        'nrj_norm_factor': 1.0},}\n",
    "\n",
    "# ### Modifier for each segment of the stratum\n",
    "modifiers = {\n",
    "    'sagittal': {\n",
    "        'edge': {\n",
    "            'line_tension': 0.1},\n",
    "        'face': {\n",
    "            'contractility': 0.05,\n",
    "            'prefered_area': 0.2}\n",
    "    },\n",
    "    'basal': {\n",
    "        'edge': {\n",
    "            'line_tension': 0.5},\n",
    "        'face': {\n",
    "            'contractility': 0.1,\n",
    "            'prefered_area': 0.2}},\n",
    "    }\n",
    "\n",
    "set_model(mono, BulkModel, apical_spec, modifiers)\n",
    "\n",
    "\n",
    "\n"
   ]
  },
  {
   "cell_type": "code",
   "execution_count": 19,
   "metadata": {
    "collapsed": false
   },
   "outputs": [],
   "source": [
    "draw_specs = config.draw.sheet_spec()\n",
    "canvas, view = vp_view(mono, **draw_specs)"
   ]
  },
  {
   "cell_type": "code",
   "execution_count": 20,
   "metadata": {
    "collapsed": false
   },
   "outputs": [],
   "source": [
    "res = Solver.find_energy_min(mono, BulkGeometry, BulkModel)"
   ]
  },
  {
   "cell_type": "code",
   "execution_count": 21,
   "metadata": {
    "collapsed": false
   },
   "outputs": [],
   "source": [
    "canvas, view = vp_view(mono)\n",
    "monolayer = mono"
   ]
  },
  {
   "cell_type": "code",
   "execution_count": 34,
   "metadata": {
    "collapsed": true
   },
   "outputs": [],
   "source": [
    "mother = 15\n",
    "mother_edges = monolayer.edge_df[\n",
    "    monolayer.edge_df['cell'] == mother]\n",
    "mother_faces = set(mother_edges['face'])\n",
    "\n",
    "apical_face, = mother_edges[\n",
    "    mother_edges['segment'] == 'apical']['face'].unique()\n",
    "basal_face, = mother_edges[\n",
    "    mother_edges['segment'] == 'basal']['face'].unique()\n",
    "\n",
    "\n",
    "angle = np.random.random() * np.pi\n",
    "edge_aa, edge_ab = get_division_edges(monolayer, apical_face,\n",
    "                                      BulkGeometry,\n",
    "                                      angle=angle, axis='x')\n",
    "edge_ba, edge_bb = get_division_edges(monolayer, basal_face,\n",
    "                                      BulkGeometry,\n",
    "                                      angle=angle, axis='x')\n",
    "\n",
    "srce_aa, trgt_aa = mono.edge_df.loc[edge_aa, ['srce', 'trgt']]\n",
    "srce_ab, trgt_ab = mono.edge_df.loc[edge_ab, ['srce', 'trgt']]\n",
    "\n",
    "srce_ba, trgt_ba = mono.edge_df.loc[edge_ba, ['srce', 'trgt']]\n",
    "srce_bb, trgt_bb = mono.edge_df.loc[edge_bb, ['srce', 'trgt']]\n",
    "\n",
    "\n",
    "def get_edges(edge_df, srce, trgt):\n",
    "    edges = edge_df[(edge_df['srce'] == srce) &\n",
    "                    (edge_df['trgt'] == trgt)]\n",
    "    if edges.shape[0] == 1:\n",
    "        return edges.index[0]\n",
    "    else:\n",
    "        return edges.index.values\n"
   ]
  },
  {
   "cell_type": "code",
   "execution_count": 35,
   "metadata": {
    "collapsed": false
   },
   "outputs": [
    {
     "name": "stdout",
     "output_type": "stream",
     "text": [
      "[  59  804   63  788  265 1608  264 1612  333 1458  502  782  334  698  312\n",
      "  786]\n"
     ]
    }
   ],
   "source": [
    "edges_aa = get_edges(monolayer.edge_df,\n",
    "                     srce_aa, trgt_aa)\n",
    "opp_edges_aa = get_edges(monolayer.edge_df,\n",
    "                        trgt_aa, srce_aa)\n",
    "\n",
    "edges_ab = get_edges(monolayer.edge_df,\n",
    "                     srce_ab, trgt_ab)\n",
    "opp_edges_ab = get_edges(monolayer.edge_df,\n",
    "                         trgt_ab, srce_ab)\n",
    "\n",
    "edges_ba = get_edges(monolayer.edge_df,\n",
    "                     srce_ba, trgt_ba)\n",
    "opp_edges_ba = get_edges(monolayer.edge_df,\n",
    "                        trgt_ba, srce_ba)\n",
    "\n",
    "edges_bb = get_edges(monolayer.edge_df,\n",
    "                     srce_bb, trgt_bb)\n",
    "opp_edges_bb = get_edges(monolayer.edge_df,\n",
    "                         trgt_bb, srce_bb)\n",
    "\n",
    "all_edges = np.concatenate([edges_aa, opp_edges_aa,\n",
    "                            edges_ab, opp_edges_ab,\n",
    "                            edges_ba, opp_edges_ba,\n",
    "                            edges_bb, opp_edges_bb])\n",
    "print(all_edges)"
   ]
  },
  {
   "cell_type": "code",
   "execution_count": 37,
   "metadata": {
    "collapsed": false
   },
   "outputs": [
    {
     "data": {
      "text/html": [
       "<div>\n",
       "<table border=\"1\" class=\"dataframe\">\n",
       "  <thead>\n",
       "    <tr style=\"text-align: right;\">\n",
       "      <th></th>\n",
       "      <th>srce</th>\n",
       "      <th>trgt</th>\n",
       "      <th>face</th>\n",
       "      <th>segment</th>\n",
       "      <th>cell</th>\n",
       "      <th>nz</th>\n",
       "      <th>dy</th>\n",
       "      <th>dx</th>\n",
       "      <th>ny</th>\n",
       "      <th>nx</th>\n",
       "      <th>dz</th>\n",
       "      <th>sub_area</th>\n",
       "      <th>length</th>\n",
       "      <th>sub_vol</th>\n",
       "      <th>prefered_length</th>\n",
       "      <th>length_eleasticity</th>\n",
       "      <th>line_tension</th>\n",
       "    </tr>\n",
       "    <tr>\n",
       "      <th>edge</th>\n",
       "      <th></th>\n",
       "      <th></th>\n",
       "      <th></th>\n",
       "      <th></th>\n",
       "      <th></th>\n",
       "      <th></th>\n",
       "      <th></th>\n",
       "      <th></th>\n",
       "      <th></th>\n",
       "      <th></th>\n",
       "      <th></th>\n",
       "      <th></th>\n",
       "      <th></th>\n",
       "      <th></th>\n",
       "      <th></th>\n",
       "      <th></th>\n",
       "      <th></th>\n",
       "    </tr>\n",
       "  </thead>\n",
       "  <tbody>\n",
       "    <tr>\n",
       "      <th>59</th>\n",
       "      <td>24</td>\n",
       "      <td>19</td>\n",
       "      <td>15</td>\n",
       "      <td>apical</td>\n",
       "      <td>15</td>\n",
       "      <td>-0.052023</td>\n",
       "      <td>0.133117</td>\n",
       "      <td>0.245382</td>\n",
       "      <td>0.071283</td>\n",
       "      <td>-0.004489</td>\n",
       "      <td>0.161229</td>\n",
       "      <td>0.044181</td>\n",
       "      <td>0.322377</td>\n",
       "      <td>0.003418</td>\n",
       "      <td>0.0</td>\n",
       "      <td>0.0</td>\n",
       "      <td>0.120</td>\n",
       "    </tr>\n",
       "    <tr>\n",
       "      <th>265</th>\n",
       "      <td>66</td>\n",
       "      <td>88</td>\n",
       "      <td>15</td>\n",
       "      <td>apical</td>\n",
       "      <td>15</td>\n",
       "      <td>-0.046537</td>\n",
       "      <td>-0.135455</td>\n",
       "      <td>-0.200833</td>\n",
       "      <td>0.048334</td>\n",
       "      <td>-0.010480</td>\n",
       "      <td>-0.095457</td>\n",
       "      <td>0.033955</td>\n",
       "      <td>0.260373</td>\n",
       "      <td>0.002624</td>\n",
       "      <td>0.0</td>\n",
       "      <td>0.0</td>\n",
       "      <td>0.120</td>\n",
       "    </tr>\n",
       "    <tr>\n",
       "      <th>63</th>\n",
       "      <td>19</td>\n",
       "      <td>24</td>\n",
       "      <td>16</td>\n",
       "      <td>apical</td>\n",
       "      <td>16</td>\n",
       "      <td>-0.019217</td>\n",
       "      <td>-0.133117</td>\n",
       "      <td>-0.245382</td>\n",
       "      <td>0.079843</td>\n",
       "      <td>-0.030687</td>\n",
       "      <td>-0.161229</td>\n",
       "      <td>0.043834</td>\n",
       "      <td>0.322377</td>\n",
       "      <td>0.003060</td>\n",
       "      <td>0.0</td>\n",
       "      <td>0.0</td>\n",
       "      <td>0.120</td>\n",
       "    </tr>\n",
       "    <tr>\n",
       "      <th>264</th>\n",
       "      <td>88</td>\n",
       "      <td>66</td>\n",
       "      <td>56</td>\n",
       "      <td>apical</td>\n",
       "      <td>56</td>\n",
       "      <td>-0.052075</td>\n",
       "      <td>0.135455</td>\n",
       "      <td>0.200833</td>\n",
       "      <td>0.008327</td>\n",
       "      <td>0.019136</td>\n",
       "      <td>0.095457</td>\n",
       "      <td>0.028051</td>\n",
       "      <td>0.260373</td>\n",
       "      <td>0.002396</td>\n",
       "      <td>0.0</td>\n",
       "      <td>0.0</td>\n",
       "      <td>0.120</td>\n",
       "    </tr>\n",
       "    <tr>\n",
       "      <th>312</th>\n",
       "      <td>111</td>\n",
       "      <td>108</td>\n",
       "      <td>73</td>\n",
       "      <td>basal</td>\n",
       "      <td>9</td>\n",
       "      <td>0.003853</td>\n",
       "      <td>-0.049661</td>\n",
       "      <td>0.142352</td>\n",
       "      <td>-0.020583</td>\n",
       "      <td>-0.005726</td>\n",
       "      <td>-0.053723</td>\n",
       "      <td>0.010855</td>\n",
       "      <td>0.160052</td>\n",
       "      <td>0.000789</td>\n",
       "      <td>0.0</td>\n",
       "      <td>0.0</td>\n",
       "      <td>0.060</td>\n",
       "    </tr>\n",
       "    <tr>\n",
       "      <th>333</th>\n",
       "      <td>160</td>\n",
       "      <td>180</td>\n",
       "      <td>79</td>\n",
       "      <td>basal</td>\n",
       "      <td>15</td>\n",
       "      <td>0.009469</td>\n",
       "      <td>-0.012221</td>\n",
       "      <td>0.129746</td>\n",
       "      <td>-0.010694</td>\n",
       "      <td>-0.000664</td>\n",
       "      <td>-0.004702</td>\n",
       "      <td>0.007150</td>\n",
       "      <td>0.130405</td>\n",
       "      <td>0.000565</td>\n",
       "      <td>0.0</td>\n",
       "      <td>0.0</td>\n",
       "      <td>0.060</td>\n",
       "    </tr>\n",
       "    <tr>\n",
       "      <th>334</th>\n",
       "      <td>108</td>\n",
       "      <td>111</td>\n",
       "      <td>79</td>\n",
       "      <td>basal</td>\n",
       "      <td>15</td>\n",
       "      <td>0.011476</td>\n",
       "      <td>0.049661</td>\n",
       "      <td>-0.142352</td>\n",
       "      <td>-0.013716</td>\n",
       "      <td>-0.000454</td>\n",
       "      <td>0.053723</td>\n",
       "      <td>0.008945</td>\n",
       "      <td>0.160052</td>\n",
       "      <td>0.000704</td>\n",
       "      <td>0.0</td>\n",
       "      <td>0.0</td>\n",
       "      <td>0.060</td>\n",
       "    </tr>\n",
       "    <tr>\n",
       "      <th>502</th>\n",
       "      <td>180</td>\n",
       "      <td>160</td>\n",
       "      <td>126</td>\n",
       "      <td>basal</td>\n",
       "      <td>62</td>\n",
       "      <td>0.012104</td>\n",
       "      <td>0.012221</td>\n",
       "      <td>-0.129746</td>\n",
       "      <td>-0.002331</td>\n",
       "      <td>0.000219</td>\n",
       "      <td>0.004702</td>\n",
       "      <td>0.006164</td>\n",
       "      <td>0.130405</td>\n",
       "      <td>0.000518</td>\n",
       "      <td>0.0</td>\n",
       "      <td>0.0</td>\n",
       "      <td>0.060</td>\n",
       "    </tr>\n",
       "    <tr>\n",
       "      <th>698</th>\n",
       "      <td>108</td>\n",
       "      <td>111</td>\n",
       "      <td>164</td>\n",
       "      <td>sagittal</td>\n",
       "      <td>9</td>\n",
       "      <td>-0.031955</td>\n",
       "      <td>0.049661</td>\n",
       "      <td>-0.142352</td>\n",
       "      <td>-0.014201</td>\n",
       "      <td>-0.017014</td>\n",
       "      <td>0.053723</td>\n",
       "      <td>0.019444</td>\n",
       "      <td>0.160052</td>\n",
       "      <td>0.001198</td>\n",
       "      <td>0.0</td>\n",
       "      <td>0.0</td>\n",
       "      <td>0.012</td>\n",
       "    </tr>\n",
       "    <tr>\n",
       "      <th>782</th>\n",
       "      <td>180</td>\n",
       "      <td>160</td>\n",
       "      <td>185</td>\n",
       "      <td>sagittal</td>\n",
       "      <td>15</td>\n",
       "      <td>-0.014955</td>\n",
       "      <td>0.012221</td>\n",
       "      <td>-0.129746</td>\n",
       "      <td>-0.029650</td>\n",
       "      <td>-0.003335</td>\n",
       "      <td>0.004702</td>\n",
       "      <td>0.016688</td>\n",
       "      <td>0.130405</td>\n",
       "      <td>0.000937</td>\n",
       "      <td>0.0</td>\n",
       "      <td>0.0</td>\n",
       "      <td>0.012</td>\n",
       "    </tr>\n",
       "    <tr>\n",
       "      <th>786</th>\n",
       "      <td>111</td>\n",
       "      <td>108</td>\n",
       "      <td>186</td>\n",
       "      <td>sagittal</td>\n",
       "      <td>15</td>\n",
       "      <td>0.031955</td>\n",
       "      <td>-0.049661</td>\n",
       "      <td>0.142352</td>\n",
       "      <td>0.014201</td>\n",
       "      <td>0.017014</td>\n",
       "      <td>-0.053723</td>\n",
       "      <td>0.019444</td>\n",
       "      <td>0.160052</td>\n",
       "      <td>0.001204</td>\n",
       "      <td>0.0</td>\n",
       "      <td>0.0</td>\n",
       "      <td>0.012</td>\n",
       "    </tr>\n",
       "    <tr>\n",
       "      <th>788</th>\n",
       "      <td>19</td>\n",
       "      <td>24</td>\n",
       "      <td>187</td>\n",
       "      <td>sagittal</td>\n",
       "      <td>15</td>\n",
       "      <td>0.051372</td>\n",
       "      <td>-0.133117</td>\n",
       "      <td>-0.245382</td>\n",
       "      <td>0.024124</td>\n",
       "      <td>-0.046841</td>\n",
       "      <td>-0.161229</td>\n",
       "      <td>0.036794</td>\n",
       "      <td>0.322377</td>\n",
       "      <td>0.002355</td>\n",
       "      <td>0.0</td>\n",
       "      <td>0.0</td>\n",
       "      <td>0.012</td>\n",
       "    </tr>\n",
       "    <tr>\n",
       "      <th>804</th>\n",
       "      <td>24</td>\n",
       "      <td>19</td>\n",
       "      <td>191</td>\n",
       "      <td>sagittal</td>\n",
       "      <td>16</td>\n",
       "      <td>-0.051372</td>\n",
       "      <td>0.133117</td>\n",
       "      <td>0.245382</td>\n",
       "      <td>-0.024124</td>\n",
       "      <td>0.046841</td>\n",
       "      <td>0.161229</td>\n",
       "      <td>0.036794</td>\n",
       "      <td>0.322377</td>\n",
       "      <td>0.002477</td>\n",
       "      <td>0.0</td>\n",
       "      <td>0.0</td>\n",
       "      <td>0.012</td>\n",
       "    </tr>\n",
       "    <tr>\n",
       "      <th>1458</th>\n",
       "      <td>160</td>\n",
       "      <td>180</td>\n",
       "      <td>354</td>\n",
       "      <td>sagittal</td>\n",
       "      <td>62</td>\n",
       "      <td>0.014955</td>\n",
       "      <td>-0.012221</td>\n",
       "      <td>0.129746</td>\n",
       "      <td>0.029650</td>\n",
       "      <td>0.003335</td>\n",
       "      <td>-0.004702</td>\n",
       "      <td>0.016688</td>\n",
       "      <td>0.130405</td>\n",
       "      <td>0.000942</td>\n",
       "      <td>0.0</td>\n",
       "      <td>0.0</td>\n",
       "      <td>0.012</td>\n",
       "    </tr>\n",
       "    <tr>\n",
       "      <th>1608</th>\n",
       "      <td>66</td>\n",
       "      <td>88</td>\n",
       "      <td>392</td>\n",
       "      <td>sagittal</td>\n",
       "      <td>56</td>\n",
       "      <td>0.015852</td>\n",
       "      <td>-0.135455</td>\n",
       "      <td>-0.200833</td>\n",
       "      <td>0.052612</td>\n",
       "      <td>-0.043020</td>\n",
       "      <td>-0.095457</td>\n",
       "      <td>0.034893</td>\n",
       "      <td>0.260373</td>\n",
       "      <td>0.001421</td>\n",
       "      <td>0.0</td>\n",
       "      <td>0.0</td>\n",
       "      <td>0.012</td>\n",
       "    </tr>\n",
       "    <tr>\n",
       "      <th>1612</th>\n",
       "      <td>88</td>\n",
       "      <td>66</td>\n",
       "      <td>393</td>\n",
       "      <td>sagittal</td>\n",
       "      <td>15</td>\n",
       "      <td>-0.015852</td>\n",
       "      <td>0.135455</td>\n",
       "      <td>0.200833</td>\n",
       "      <td>-0.052612</td>\n",
       "      <td>0.043020</td>\n",
       "      <td>0.095457</td>\n",
       "      <td>0.034893</td>\n",
       "      <td>0.260373</td>\n",
       "      <td>0.001841</td>\n",
       "      <td>0.0</td>\n",
       "      <td>0.0</td>\n",
       "      <td>0.012</td>\n",
       "    </tr>\n",
       "  </tbody>\n",
       "</table>\n",
       "</div>"
      ],
      "text/plain": [
       "      srce  trgt  face   segment  cell        nz        dy        dx  \\\n",
       "edge                                                                   \n",
       "59      24    19    15    apical    15 -0.052023  0.133117  0.245382   \n",
       "265     66    88    15    apical    15 -0.046537 -0.135455 -0.200833   \n",
       "63      19    24    16    apical    16 -0.019217 -0.133117 -0.245382   \n",
       "264     88    66    56    apical    56 -0.052075  0.135455  0.200833   \n",
       "312    111   108    73     basal     9  0.003853 -0.049661  0.142352   \n",
       "333    160   180    79     basal    15  0.009469 -0.012221  0.129746   \n",
       "334    108   111    79     basal    15  0.011476  0.049661 -0.142352   \n",
       "502    180   160   126     basal    62  0.012104  0.012221 -0.129746   \n",
       "698    108   111   164  sagittal     9 -0.031955  0.049661 -0.142352   \n",
       "782    180   160   185  sagittal    15 -0.014955  0.012221 -0.129746   \n",
       "786    111   108   186  sagittal    15  0.031955 -0.049661  0.142352   \n",
       "788     19    24   187  sagittal    15  0.051372 -0.133117 -0.245382   \n",
       "804     24    19   191  sagittal    16 -0.051372  0.133117  0.245382   \n",
       "1458   160   180   354  sagittal    62  0.014955 -0.012221  0.129746   \n",
       "1608    66    88   392  sagittal    56  0.015852 -0.135455 -0.200833   \n",
       "1612    88    66   393  sagittal    15 -0.015852  0.135455  0.200833   \n",
       "\n",
       "            ny        nx        dz  sub_area    length   sub_vol  \\\n",
       "edge                                                               \n",
       "59    0.071283 -0.004489  0.161229  0.044181  0.322377  0.003418   \n",
       "265   0.048334 -0.010480 -0.095457  0.033955  0.260373  0.002624   \n",
       "63    0.079843 -0.030687 -0.161229  0.043834  0.322377  0.003060   \n",
       "264   0.008327  0.019136  0.095457  0.028051  0.260373  0.002396   \n",
       "312  -0.020583 -0.005726 -0.053723  0.010855  0.160052  0.000789   \n",
       "333  -0.010694 -0.000664 -0.004702  0.007150  0.130405  0.000565   \n",
       "334  -0.013716 -0.000454  0.053723  0.008945  0.160052  0.000704   \n",
       "502  -0.002331  0.000219  0.004702  0.006164  0.130405  0.000518   \n",
       "698  -0.014201 -0.017014  0.053723  0.019444  0.160052  0.001198   \n",
       "782  -0.029650 -0.003335  0.004702  0.016688  0.130405  0.000937   \n",
       "786   0.014201  0.017014 -0.053723  0.019444  0.160052  0.001204   \n",
       "788   0.024124 -0.046841 -0.161229  0.036794  0.322377  0.002355   \n",
       "804  -0.024124  0.046841  0.161229  0.036794  0.322377  0.002477   \n",
       "1458  0.029650  0.003335 -0.004702  0.016688  0.130405  0.000942   \n",
       "1608  0.052612 -0.043020 -0.095457  0.034893  0.260373  0.001421   \n",
       "1612 -0.052612  0.043020  0.095457  0.034893  0.260373  0.001841   \n",
       "\n",
       "      prefered_length  length_eleasticity  line_tension  \n",
       "edge                                                     \n",
       "59                0.0                 0.0         0.120  \n",
       "265               0.0                 0.0         0.120  \n",
       "63                0.0                 0.0         0.120  \n",
       "264               0.0                 0.0         0.120  \n",
       "312               0.0                 0.0         0.060  \n",
       "333               0.0                 0.0         0.060  \n",
       "334               0.0                 0.0         0.060  \n",
       "502               0.0                 0.0         0.060  \n",
       "698               0.0                 0.0         0.012  \n",
       "782               0.0                 0.0         0.012  \n",
       "786               0.0                 0.0         0.012  \n",
       "788               0.0                 0.0         0.012  \n",
       "804               0.0                 0.0         0.012  \n",
       "1458              0.0                 0.0         0.012  \n",
       "1608              0.0                 0.0         0.012  \n",
       "1612              0.0                 0.0         0.012  "
      ]
     },
     "execution_count": 37,
     "metadata": {},
     "output_type": "execute_result"
    }
   ],
   "source": [
    "monolayer.edge_df.loc[all_edges].sort_values(['face'])"
   ]
  },
  {
   "cell_type": "code",
   "execution_count": null,
   "metadata": {
    "collapsed": true
   },
   "outputs": [],
   "source": []
  },
  {
   "cell_type": "code",
   "execution_count": 13,
   "metadata": {
    "collapsed": false
   },
   "outputs": [
    {
     "data": {
      "text/plain": [
       "1"
      ]
     },
     "execution_count": 13,
     "metadata": {},
     "output_type": "execute_result"
    }
   ],
   "source": [
    "sagittal_edges = mother_edges[\n",
    "    mother_edges['segment'] == 'sagittal']\n",
    "\n",
    "sagittal_edges[(sagittal_edges['trgt'] == srce_a) &\n",
    "               (sagittal_edges['srce'] == trgt_a)].shape[0]"
   ]
  },
  {
   "cell_type": "code",
   "execution_count": 15,
   "metadata": {
    "collapsed": false
   },
   "outputs": [],
   "source": [
    "sagittal_edges = mother_edges[\n",
    "    mother_edges['segment'] == 'sagittal']\n",
    "sagittal_faces = sagittal_edges['face'].unique()\n",
    "\n",
    "s_edge_aa = sagittal_edges[(sagittal_edges['trgt'] == srce_a) &\n",
    "                           (sagittal_edges['srce'] == trgt_a)].index[0]\n",
    "s_edge_ab = sagittal_edges[(sagittal_edges['trgt'] == srce_b) &\n",
    "                           (sagittal_edges['srce'] == trgt_b)].index[0]\n",
    "\n",
    "s_face_a = int(monolayer.edge_df.loc[s_edge_aa,\n",
    "                                     'face'])\n",
    "\n",
    "s_face_b = int(monolayer.edge_df.loc[s_edge_ab,\n",
    "                                     'face'])\n",
    "\n",
    "opp_s_face_a = opposite_face(monolayer, s_face_a)\n",
    "opp_s_edges_a = monolayer.edge_df[\n",
    "    monolayer.edge_df['face'] == opp_s_face_a]\n",
    "opp_s_edge_aa = \n",
    "opp_s_face_b = opposite_face(monolayer, s_face_b)\n",
    "\n"
   ]
  },
  {
   "cell_type": "code",
   "execution_count": 23,
   "metadata": {
    "collapsed": false
   },
   "outputs": [
    {
     "data": {
      "text/plain": [
       "188"
      ]
     },
     "execution_count": 23,
     "metadata": {},
     "output_type": "execute_result"
    }
   ],
   "source": [
    "sagittal_edges.loc[s_edge_a, 'face']"
   ]
  },
  {
   "cell_type": "code",
   "execution_count": 8,
   "metadata": {
    "collapsed": true
   },
   "outputs": [],
   "source": [
    "def get_basal_edge(monolayer, sagittal_edge):\n",
    "    face = int(monolayer.edge_df.loc[sagittal_edge, 'face'])\n",
    "    edges = monolayer.edge_df[\n",
    "        monolayer.edge_df['face'] == face]\n",
    "    srce_segments = monolayer.vert_df.loc[edges['srce'], 'segment']\n",
    "    srce_segments.index = edges.index\n",
    "    trgt_segments = monolayer.vert_df.loc[edges['trgt'], 'segment']\n",
    "    trgt_segments.index = edges.index\n",
    "\n",
    "    basal_edge, = edges[(srce_segments == 'basal') &\n",
    "                        (trgt_segments == 'basal')].index\n",
    "    return basal_edge\n",
    "\n",
    "\n",
    "def opposite_face(eptm, face):\n",
    "    vert_orbit = eptm.get_orbits('face', 'srce').groupby(\n",
    "        level='face').apply(lambda df: set(df))\n",
    "    print(vert_orbit.loc[face])\n",
    "    opp_faces = vert_orbit[vert_orbit == vert_orbit.loc[face]].index\n",
    "    print(opp_faces)\n",
    "    if len(opp_faces) == 2:\n",
    "        opp_face, = opp_faces[opp_faces != face]\n",
    "        return opp_face\n",
    "    else:\n",
    "        return None\n",
    "\n",
    "    \n",
    "apical_daughter = face_division(monolayer, edge_a, edge_b)"
   ]
  },
  {
   "cell_type": "code",
   "execution_count": 28,
   "metadata": {
    "collapsed": false
   },
   "outputs": [
    {
     "name": "stdout",
     "output_type": "stream",
     "text": [
      "Automatic pdb calling has been turned ON\n"
     ]
    }
   ],
   "source": [
    "%pdb"
   ]
  },
  {
   "cell_type": "code",
   "execution_count": 37,
   "metadata": {
    "collapsed": false
   },
   "outputs": [],
   "source": [
    "s_face_a = int(monolayer.edge_df.loc[])\n",
    "\n",
    "\n",
    "b_edge_a = get_basal_edge(monolayer, s_edge_a)\n",
    "b_edge_b = get_basal_edge(monolayer, s_edge_b)\n",
    "\n",
    "\n",
    "\n",
    "sagittal_daughter_a = face_division(monolayer,\n",
    "                                    s_edge_a,\n",
    "                                    b_edge_a)\n",
    "sagittal_daughter_b = face_division(monolayer,\n",
    "                                    s_edge_b,\n",
    "                                    b_edge_b)\n",
    "\n"
   ]
  },
  {
   "cell_type": "code",
   "execution_count": 38,
   "metadata": {
    "collapsed": true
   },
   "outputs": [],
   "source": [
    "canvas, view = vp_view(mono)"
   ]
  },
  {
   "cell_type": "code",
   "execution_count": 52,
   "metadata": {
    "collapsed": true
   },
   "outputs": [],
   "source": [
    "vert_orbit = monolayer.get_orbits('face', 'srce').groupby(\n",
    "    level='face').apply(lambda df: set(df))\n"
   ]
  },
  {
   "cell_type": "code",
   "execution_count": 58,
   "metadata": {
    "collapsed": false
   },
   "outputs": [
    {
     "data": {
      "text/plain": [
       "face\n",
       "132    {1, 2, 93, 94}\n",
       "133    {1, 2, 93, 94}\n",
       "Name: srce, dtype: object"
      ]
     },
     "execution_count": 58,
     "metadata": {},
     "output_type": "execute_result"
    }
   ],
   "source": [
    "vo = vert_orbit.loc[mono.sagittal_faces].head(10)\n",
    "vo[vo == vo.loc[132]]"
   ]
  },
  {
   "cell_type": "code",
   "execution_count": 59,
   "metadata": {
    "collapsed": false
   },
   "outputs": [],
   "source": []
  },
  {
   "cell_type": "code",
   "execution_count": 47,
   "metadata": {
    "collapsed": false
   },
   "outputs": [
    {
     "data": {
      "text/plain": [
       "array([184, 185, 186, 187, 188, 393])"
      ]
     },
     "execution_count": 47,
     "metadata": {},
     "output_type": "execute_result"
    }
   ],
   "source": [
    "sagittal_faces"
   ]
  },
  {
   "cell_type": "code",
   "execution_count": 60,
   "metadata": {
    "collapsed": false
   },
   "outputs": [
    {
     "name": "stdout",
     "output_type": "stream",
     "text": [
      "{16, 188, 108, 189}\n",
      "Int64Index([184], dtype='int64', name='face')\n"
     ]
    }
   ],
   "source": [
    "opposite_face(monolayer, sagittal_faces[0])"
   ]
  },
  {
   "cell_type": "code",
   "execution_count": 61,
   "metadata": {
    "collapsed": false
   },
   "outputs": [
    {
     "data": {
      "text/plain": [
       "face\n",
       "184    {16, 188, 108, 189}\n",
       "Name: srce, dtype: object"
      ]
     },
     "execution_count": 61,
     "metadata": {},
     "output_type": "execute_result"
    }
   ],
   "source": [
    "fv = {16, 188, 108, 189}\n",
    "\n",
    "vert_orbit[vert_orbit == fv]"
   ]
  },
  {
   "cell_type": "code",
   "execution_count": 51,
   "metadata": {
    "collapsed": false
   },
   "outputs": [
    {
     "data": {
      "text/plain": [
       "True"
      ]
     },
     "execution_count": 51,
     "metadata": {},
     "output_type": "execute_result"
    }
   ],
   "source": [
    "{64, 0, 2, 78, 1} == {64, 1, 2, 78, 0}"
   ]
  },
  {
   "cell_type": "code",
   "execution_count": null,
   "metadata": {
    "collapsed": true
   },
   "outputs": [],
   "source": []
  }
 ],
 "metadata": {
  "kernelspec": {
   "display_name": "Python 3",
   "language": "python",
   "name": "python3"
  },
  "language_info": {
   "codemirror_mode": {
    "name": "ipython",
    "version": 3
   },
   "file_extension": ".py",
   "mimetype": "text/x-python",
   "name": "python",
   "nbconvert_exporter": "python",
   "pygments_lexer": "ipython3",
   "version": "3.5.1"
  }
 },
 "nbformat": 4,
 "nbformat_minor": 0
}
