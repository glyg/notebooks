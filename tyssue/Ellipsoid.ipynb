{
 "cells": [
  {
   "cell_type": "code",
   "execution_count": 146,
   "metadata": {
    "collapsed": false
   },
   "outputs": [],
   "source": [
    "import pandas as pd\n",
    "import numpy as np\n",
    "import json\n",
    "import matplotlib.pylab as plt\n",
    "%matplotlib inline\n",
    "\n",
    "from tyssue.core.sheet import Sheet\n",
    "\n",
    "from tyssue import config\n",
    "from tyssue.topology.sheet_topology import cell_division\n",
    "\n",
    "from tyssue.geometry.sheet_geometry import SheetGeometry as geom\n",
    "from tyssue.solvers.sheet_vertex_solver import Solver as solver\n",
    "from tyssue.dynamics.sheet_vertex_model import SheetModel as model\n",
    "\n",
    "from tyssue.core.generation import extrude\n",
    "from tyssue.core.monolayer import Monolayer, MonolayerWithLamina\n",
    "from tyssue.geometry.bulk_geometry import BulkGeometry, MonoLayerGeometry\n",
    "from tyssue.dynamics.bulk_model import BulkModel, LaminaModel, set_model\n",
    "from tyssue.solvers.sheet_vertex_solver import Solver\n",
    "\n",
    "from tyssue.draw.vispy_draw import vp_view\n",
    "\n",
    "from tyssue.draw.plt_draw import sheet_view\n",
    "\n",
    "from tyssue.topology.sheet_topology import remove_face\n",
    "from tyssue.core.objects import get_opposite\n",
    "from tyssue.io.hdf5 import save_datasets, load_datasets\n",
    "\n",
    "from tyssue.topology.sheet_topology import face_division, get_division_edges\n"
   ]
  },
  {
   "cell_type": "code",
   "execution_count": 158,
   "metadata": {
    "collapsed": false
   },
   "outputs": [],
   "source": [
    "datasets = load_datasets('small_ellipsoid.hf5',\n",
    "                         data_names=['vert', 'edge',\n",
    "                                     'face', 'cell'])\n",
    "specs = config.geometry.bulk_spec()\n",
    "\n",
    "monolayer = Monolayer('ell', datasets, specs)\n",
    "monolayer.reset_index()\n",
    "monolayer.reset_topo()\n",
    "\n",
    "\n",
    "# ## Settings for the quasi-static model\n",
    "# ### Apical layer\n",
    "apical_spec = {\n",
    "    'edge': {\n",
    "        'line_tension': 0.12,},\n",
    "    'face': {\n",
    "        'contractility': 0.04,\n",
    "        'prefered_area': 0.8,\n",
    "        'area_elasticity': 1.0},\n",
    "    'cell': {\n",
    "        'prefered_vol': 1.0,\n",
    "        'vol_elasticity': 1.0},\n",
    "    'settings': {\n",
    "        'grad_norm_factor': 1.0,\n",
    "        'nrj_norm_factor': 1.0},}\n",
    "\n",
    "# ### Modifier for each segment of the stratum\n",
    "modifiers = {\n",
    "    'sagittal': {\n",
    "        'edge': {\n",
    "            'line_tension': 0.1},\n",
    "        'face': {\n",
    "            'contractility': 0.05,\n",
    "            'prefered_area': 0.2}\n",
    "    },\n",
    "    'basal': {\n",
    "        'edge': {\n",
    "            'line_tension': 0.5},\n",
    "        'face': {\n",
    "            'contractility': 0.1,\n",
    "            'prefered_area': 0.2}},\n",
    "    }\n",
    "\n",
    "set_model(monolayer, BulkModel, apical_spec, modifiers)\n",
    "\n",
    "\n",
    "\n"
   ]
  },
  {
   "cell_type": "code",
   "execution_count": 159,
   "metadata": {
    "collapsed": false
   },
   "outputs": [],
   "source": [
    "monolayer.face_df = monolayer.face_df.dropna()"
   ]
  },
  {
   "cell_type": "code",
   "execution_count": 160,
   "metadata": {
    "collapsed": false
   },
   "outputs": [],
   "source": [
    "monolayer.reset_index()\n",
    "monolayer.reset_topo()"
   ]
  },
  {
   "cell_type": "code",
   "execution_count": 161,
   "metadata": {
    "collapsed": false
   },
   "outputs": [],
   "source": [
    "res = Solver.find_energy_min(monolayer, BulkGeometry, BulkModel)"
   ]
  },
  {
   "cell_type": "code",
   "execution_count": 162,
   "metadata": {
    "collapsed": false
   },
   "outputs": [],
   "source": [
    "draw_specs = config.draw.sheet_spec()\n",
    "canvas, view = vp_view(monolayer, **draw_specs)"
   ]
  },
  {
   "cell_type": "code",
   "execution_count": 163,
   "metadata": {
    "collapsed": false
   },
   "outputs": [],
   "source": [
    "mother = 8\n",
    "mother_edges = monolayer.edge_df[\n",
    "    monolayer.edge_df['cell'] == mother]\n",
    "mother_faces = set(mother_edges['face'])\n",
    "\n",
    "apical_face, = mother_edges[\n",
    "    mother_edges['segment'] == 'apical']['face'].unique()\n",
    "basal_face, = mother_edges[\n",
    "    mother_edges['segment'] == 'basal']['face'].unique()\n",
    "\n",
    "\n"
   ]
  },
  {
   "cell_type": "code",
   "execution_count": 164,
   "metadata": {
    "collapsed": true
   },
   "outputs": [],
   "source": [
    "from tyssue.geometry.sheet_geometry import SheetGeometry"
   ]
  },
  {
   "cell_type": "code",
   "execution_count": 165,
   "metadata": {
    "collapsed": false
   },
   "outputs": [
    {
     "data": {
      "text/plain": [
       "[<matplotlib.lines.Line2D at 0x7f99100abd68>]"
      ]
     },
     "execution_count": 165,
     "metadata": {},
     "output_type": "execute_result"
    },
    {
     "data": {
      "image/png": "[encoded data removed]",
      "text/plain": [
       "<matplotlib.figure.Figure at 0x7f99112f5f98>"
      ]
     },
     "metadata": {},
     "output_type": "display_data"
    }
   ],
   "source": [
    "draw_specs = config.draw.sheet_spec()\n",
    "draw_specs['vert']['visible'] = False\n",
    "draw_specs['edge']['head_width'] = 0.01\n",
    "\n",
    "\n",
    "fig, ax = sheet_view(monolayer, **draw_specs)\n",
    "\n",
    "ax.plot(monolayer.face_df.loc[apical_face, 'x'],\n",
    "        monolayer.face_df.loc[apical_face, 'y'], 'ko')"
   ]
  },
  {
   "cell_type": "code",
   "execution_count": 166,
   "metadata": {
    "collapsed": false
   },
   "outputs": [],
   "source": [
    "def basal_apical_axis(eptm, cell):\n",
    "    \"\"\"\n",
    "    Returns a unit vector allong the apical-basal axis of the cell\n",
    "    \"\"\"\n",
    "    edges = eptm.edge_df[eptm.edge_df['cell'] == cell]\n",
    "    srce_segments = eptm.vert_df.loc[edges['srce'], 'segment']\n",
    "    srce_segments.index = edges.index\n",
    "    trgt_segments = eptm.vert_df.loc[edges['trgt'], 'segment']\n",
    "    trgt_segments.index = edges.index\n",
    "    ba_edges = edges[(srce_segments == 'apical') &\n",
    "                     (trgt_segments == 'basal')]\n",
    "    return ba_edges[eptm.dcoords].mean()"
   ]
  },
  {
   "cell_type": "code",
   "execution_count": 61,
   "metadata": {
    "collapsed": false
   },
   "outputs": [
    {
     "name": "stdout",
     "output_type": "stream",
     "text": [
      "Automatic pdb calling has been turned OFF\n"
     ]
    }
   ],
   "source": [
    "%pdb"
   ]
  },
  {
   "cell_type": "code",
   "execution_count": 167,
   "metadata": {
    "collapsed": false
   },
   "outputs": [
    {
     "data": {
      "text/plain": [
       "[<matplotlib.lines.Line2D at 0x7f9911299128>]"
      ]
     },
     "execution_count": 167,
     "metadata": {},
     "output_type": "execute_result"
    },
    {
     "data": {
      "image/png": "[encoded data removed]",
      "text/plain": [
       "<matplotlib.figure.Figure at 0x7f99116030b8>"
      ]
     },
     "metadata": {},
     "output_type": "display_data"
    }
   ],
   "source": [
    "from tyssue.geometry.utils import rotation_matrix\n",
    "ab_axis = basal_apical_axis(monolayer, mother)\n",
    "n_xy = np.linalg.norm(ab_axis[['dx', 'dy']])\n",
    "angle = -np.arctan2(n_xy, ab_axis.dz)\n",
    "direction = [ab_axis.dy, -ab_axis.dx, 0]\n",
    "\n",
    "rot = rotation_matrix(angle, direction)\n",
    "\n",
    "#rot = SheetGeometry.face_rotation(monolayer, apical_face, np.pi/2)\n",
    "for c in monolayer.coords:\n",
    "    monolayer.vert_df[c] -= monolayer.cell_df.loc[mother, c]\n",
    "monolayer.vert_df[monolayer.coords] = np.dot(monolayer.vert_df[monolayer.coords], rot)\n",
    "BulkGeometry.update_all(monolayer)\n",
    "\n",
    "draw_specs = config.draw.sheet_spec()\n",
    "draw_specs['vert']['visible'] = False\n",
    "draw_specs['edge']['head_width'] = 0.01\n",
    "\n",
    "\n",
    "fig, ax = sheet_view(monolayer, **draw_specs)\n",
    "\n",
    "ax.plot(monolayer.cell_df.loc[mother, 'x'],\n",
    "        monolayer.cell_df.loc[mother, 'y'], 'ko')"
   ]
  },
  {
   "cell_type": "code",
   "execution_count": 168,
   "metadata": {
    "collapsed": false
   },
   "outputs": [
    {
     "data": {
      "text/plain": [
       "dx    1.110223e-17\n",
       "dy    4.996004e-17\n",
       "dz    4.970846e-01\n",
       "dtype: float64"
      ]
     },
     "execution_count": 168,
     "metadata": {},
     "output_type": "execute_result"
    }
   ],
   "source": [
    "basal_apical_axis(monolayer, mother)"
   ]
  },
  {
   "cell_type": "code",
   "execution_count": 169,
   "metadata": {
    "collapsed": false
   },
   "outputs": [],
   "source": [
    "draw_specs = config.draw.sheet_spec()\n",
    "import matplotlib.pyplot as plt\n",
    "colors = plt.cm.viridis(monolayer.edge_df['cell']/monolayer.edge_df['cell'].max())\n",
    "\n",
    "draw_specs['edge']['color'] = colors\n",
    "\n",
    "canvas, view = vp_view(monolayer, **draw_specs)"
   ]
  },
  {
   "cell_type": "code",
   "execution_count": 170,
   "metadata": {
    "collapsed": false
   },
   "outputs": [
    {
     "name": "stderr",
     "output_type": "stream",
     "text": [
      "/home/guillaume/anaconda3/envs/py35/lib/python3.5/site-packages/ipykernel/__main__.py:5: UserWarning: Boolean Series key will be reindexed to match DataFrame index.\n"
     ]
    },
    {
     "data": {
      "text/html": [
       "<div>\n",
       "<table border=\"1\" class=\"dataframe\">\n",
       "  <thead>\n",
       "    <tr style=\"text-align: right;\">\n",
       "      <th></th>\n",
       "      <th>srce</th>\n",
       "      <th>trgt</th>\n",
       "      <th>face</th>\n",
       "      <th>segment</th>\n",
       "      <th>cell</th>\n",
       "      <th>nz</th>\n",
       "      <th>dy</th>\n",
       "      <th>dx</th>\n",
       "      <th>ny</th>\n",
       "      <th>nx</th>\n",
       "      <th>dz</th>\n",
       "      <th>sub_area</th>\n",
       "      <th>length</th>\n",
       "      <th>sub_vol</th>\n",
       "      <th>prefered_length</th>\n",
       "      <th>length_eleasticity</th>\n",
       "      <th>line_tension</th>\n",
       "    </tr>\n",
       "    <tr>\n",
       "      <th>edge</th>\n",
       "      <th></th>\n",
       "      <th></th>\n",
       "      <th></th>\n",
       "      <th></th>\n",
       "      <th></th>\n",
       "      <th></th>\n",
       "      <th></th>\n",
       "      <th></th>\n",
       "      <th></th>\n",
       "      <th></th>\n",
       "      <th></th>\n",
       "      <th></th>\n",
       "      <th></th>\n",
       "      <th></th>\n",
       "      <th></th>\n",
       "      <th></th>\n",
       "      <th></th>\n",
       "    </tr>\n",
       "  </thead>\n",
       "  <tbody>\n",
       "    <tr>\n",
       "      <th>28</th>\n",
       "      <td>2</td>\n",
       "      <td>64</td>\n",
       "      <td>5</td>\n",
       "      <td>apical</td>\n",
       "      <td>8</td>\n",
       "      <td>-0.028163</td>\n",
       "      <td>-0.043246</td>\n",
       "      <td>-0.138905</td>\n",
       "      <td>0.041296</td>\n",
       "      <td>0.039012</td>\n",
       "      <td>-0.255829</td>\n",
       "      <td>0.031704</td>\n",
       "      <td>0.294302</td>\n",
       "      <td>0.002580</td>\n",
       "      <td>0.0</td>\n",
       "      <td>0.0</td>\n",
       "      <td>0.120</td>\n",
       "    </tr>\n",
       "    <tr>\n",
       "      <th>676</th>\n",
       "      <td>6</td>\n",
       "      <td>16</td>\n",
       "      <td>127</td>\n",
       "      <td>sagittal</td>\n",
       "      <td>8</td>\n",
       "      <td>0.060300</td>\n",
       "      <td>0.081999</td>\n",
       "      <td>-0.258634</td>\n",
       "      <td>0.048418</td>\n",
       "      <td>-0.030398</td>\n",
       "      <td>-0.196222</td>\n",
       "      <td>0.041546</td>\n",
       "      <td>0.334841</td>\n",
       "      <td>0.001847</td>\n",
       "      <td>0.0</td>\n",
       "      <td>0.0</td>\n",
       "      <td>0.012</td>\n",
       "    </tr>\n",
       "    <tr>\n",
       "      <th>307</th>\n",
       "      <td>98</td>\n",
       "      <td>108</td>\n",
       "      <td>53</td>\n",
       "      <td>basal</td>\n",
       "      <td>8</td>\n",
       "      <td>0.001878</td>\n",
       "      <td>0.010538</td>\n",
       "      <td>-0.053982</td>\n",
       "      <td>-0.002219</td>\n",
       "      <td>-0.001821</td>\n",
       "      <td>-0.039895</td>\n",
       "      <td>0.001716</td>\n",
       "      <td>0.067946</td>\n",
       "      <td>0.000141</td>\n",
       "      <td>0.0</td>\n",
       "      <td>0.0</td>\n",
       "      <td>0.060</td>\n",
       "    </tr>\n",
       "    <tr>\n",
       "      <th>666</th>\n",
       "      <td>94</td>\n",
       "      <td>156</td>\n",
       "      <td>124</td>\n",
       "      <td>sagittal</td>\n",
       "      <td>8</td>\n",
       "      <td>0.000404</td>\n",
       "      <td>-0.013279</td>\n",
       "      <td>-0.032868</td>\n",
       "      <td>-0.017160</td>\n",
       "      <td>0.006230</td>\n",
       "      <td>-0.057187</td>\n",
       "      <td>0.009130</td>\n",
       "      <td>0.067283</td>\n",
       "      <td>0.000361</td>\n",
       "      <td>0.0</td>\n",
       "      <td>0.0</td>\n",
       "      <td>0.012</td>\n",
       "    </tr>\n",
       "  </tbody>\n",
       "</table>\n",
       "</div>"
      ],
      "text/plain": [
       "      srce  trgt  face   segment  cell        nz        dy        dx  \\\n",
       "edge                                                                   \n",
       "28       2    64     5    apical     8 -0.028163 -0.043246 -0.138905   \n",
       "676      6    16   127  sagittal     8  0.060300  0.081999 -0.258634   \n",
       "307     98   108    53     basal     8  0.001878  0.010538 -0.053982   \n",
       "666     94   156   124  sagittal     8  0.000404 -0.013279 -0.032868   \n",
       "\n",
       "            ny        nx        dz  sub_area    length   sub_vol  \\\n",
       "edge                                                               \n",
       "28    0.041296  0.039012 -0.255829  0.031704  0.294302  0.002580   \n",
       "676   0.048418 -0.030398 -0.196222  0.041546  0.334841  0.001847   \n",
       "307  -0.002219 -0.001821 -0.039895  0.001716  0.067946  0.000141   \n",
       "666  -0.017160  0.006230 -0.057187  0.009130  0.067283  0.000361   \n",
       "\n",
       "      prefered_length  length_eleasticity  line_tension  \n",
       "edge                                                     \n",
       "28                0.0                 0.0         0.120  \n",
       "676               0.0                 0.0         0.012  \n",
       "307               0.0                 0.0         0.060  \n",
       "666               0.0                 0.0         0.012  "
      ]
     },
     "execution_count": 170,
     "metadata": {},
     "output_type": "execute_result"
    }
   ],
   "source": [
    "srce_x = monolayer.upcast_srce(monolayer.vert_df.x)\n",
    "trgt_x = monolayer.upcast_trgt(monolayer.vert_df.x)\n",
    "\n",
    "division_edges = mother_edges[((srce_x >= 0) &\n",
    "                               (trgt_x <= 0))]\n",
    "\n",
    "srce_pos = monolayer.vert_df.loc[division_edges['srce'],\n",
    "                                 monolayer.coords].values\n",
    "trgt_pos = monolayer.vert_df.loc[division_edges['trgt'],\n",
    "                                 monolayer.coords].values\n",
    "centers = (srce_pos + trgt_pos)/2\n",
    "theta = np.arctan2(centers[:,2], centers[:, 1])\n",
    "\n",
    "division_edges = division_edges.iloc[np.argsort(theta)]\n",
    "division_edges"
   ]
  },
  {
   "cell_type": "code",
   "execution_count": 171,
   "metadata": {
    "collapsed": true
   },
   "outputs": [],
   "source": [
    "from tyssue.topology import base_topology, sheet_topology\n",
    "import itertools"
   ]
  },
  {
   "cell_type": "code",
   "execution_count": 172,
   "metadata": {
    "collapsed": true
   },
   "outputs": [],
   "source": [
    "\n",
    "'''\n",
    "a_edges = division_edges[division_edges['segment'] == 'apical'].index\n",
    "b_edges = division_edges[division_edges['segment'] == 'basal'].index\n",
    "\n",
    "vert_aa, new_aa, new_opp_aa = base_topology.add_vert(monolayer, a_edges[0])\n",
    "vert_ab, new_ab, new_opp_ab = base_topology.add_vert(monolayer, a_edges[1])\n",
    "\n",
    "vert_ba, new_ba, new_opp_ba = base_topology.add_vert(monolayer, b_edges[0])\n",
    "vert_bb, new_bb, new_opp_bb = base_topology.add_vert(monolayer, b_edges[1])\n",
    "\n",
    "vertices = [vert_aa, vert_ab, vert_ba, vert_bb]\n",
    "'''\n",
    "vertices = []\n",
    "for edge in division_edges.index:\n",
    "    new_vert, *new_edges = base_topology.add_vert(monolayer, edge)\n",
    "    vertices.append(new_vert)\n"
   ]
  },
  {
   "cell_type": "code",
   "execution_count": 173,
   "metadata": {
    "collapsed": false,
    "scrolled": true
   },
   "outputs": [],
   "source": [
    "import itertools\n",
    "\n",
    "pairs = set([frozenset([v1, v2]) for v1, v2\n",
    "             in itertools.product(vertices,\n",
    "                                  vertices)\n",
    "             if v1 != v2])\n",
    "daughter_faces = []\n",
    "for v1, v2 in pairs:\n",
    "    v1_edges = monolayer.edge_df[monolayer.edge_df['srce'] == v1]['face']\n",
    "    v2_edges = monolayer.edge_df[monolayer.edge_df['srce'] == v2]['face']\n",
    "    faces = set(v1_edges).intersection(v2_edges)\n",
    "    for face in faces:\n",
    "        daughter_faces.append(\n",
    "            sheet_topology.face_division(monolayer, face, v1, v2))\n",
    "BulkGeometry.update_all(monolayer)    "
   ]
  },
  {
   "cell_type": "code",
   "execution_count": 174,
   "metadata": {
    "collapsed": true
   },
   "outputs": [],
   "source": [
    "colors = plt.cm.viridis(monolayer.edge_df['cell']/monolayer.edge_df['cell'].max())\n",
    "draw_specs['edge']['color'] = colors\n",
    "\n",
    "canvas, view = vp_view(monolayer, **draw_specs)"
   ]
  },
  {
   "cell_type": "code",
   "execution_count": 175,
   "metadata": {
    "collapsed": false
   },
   "outputs": [
    {
     "data": {
      "text/plain": [
       "[372, 373, 374, 375, 376, 377]"
      ]
     },
     "execution_count": 175,
     "metadata": {},
     "output_type": "execute_result"
    }
   ],
   "source": [
    "daughter_faces\n"
   ]
  },
  {
   "cell_type": "code",
   "execution_count": 176,
   "metadata": {
    "collapsed": false,
    "scrolled": true
   },
   "outputs": [],
   "source": [
    "face_cols = monolayer.face_df.iloc[-2:]\n",
    "\n",
    "monolayer.face_df = monolayer.face_df.append(face_cols, ignore_index=True)\n",
    "monolayer.face_df.index.name = 'face'\n",
    "\n",
    "new_faces = monolayer.face_df.index[-2:]\n",
    "\n",
    "num_new_edges = len(vertices)*2\n",
    "\n",
    "edge_cols = monolayer.edge_df.iloc[-num_new_edges:]\n",
    "monolayer.edge_df = monolayer.edge_df.append(edge_cols,\n",
    "                                             ignore_index=True)\n",
    "monolayer.edge_df.index.name = 'edge'\n",
    "new_edges = monolayer.edge_df.index[-num_new_edges:]\n",
    "\n",
    "cell_cols = monolayer.cell_df.loc[mother]\n",
    "monolayer.cell_df = monolayer.cell_df.append(cell_cols,\n",
    "                                             ignore_index=True)\n",
    "monolayer.cell_df.index.name = 'cell'\n",
    "new_cell = monolayer.cell_df.index[-1]\n"
   ]
  },
  {
   "cell_type": "code",
   "execution_count": 177,
   "metadata": {
    "collapsed": false
   },
   "outputs": [],
   "source": [
    "monolayer.face_df.loc[new_faces, 'segment'] = 'sagittal'\n",
    "for v1, v2, edge, oppo in zip(vertices,\n",
    "                              np.roll(vertices, -1),\n",
    "                              new_edges[:4],\n",
    "                              new_edges[4:]):\n",
    "    monolayer.edge_df.loc[\n",
    "        edge, ['srce', 'trgt', 'face', 'segment']] = v1, v2, new_faces[0], 'sagittal'\n",
    "    monolayer.edge_df.loc[\n",
    "        oppo, ['srce', 'trgt', 'face', 'segment']] = v2, v1, new_faces[1], 'sagittal'\n",
    "    \n",
    "    "
   ]
  },
  {
   "cell_type": "code",
   "execution_count": 178,
   "metadata": {
    "collapsed": false
   },
   "outputs": [],
   "source": [
    "monolayer.reset_index()\n",
    "monolayer.reset_topo()\n"
   ]
  },
  {
   "cell_type": "code",
   "execution_count": 179,
   "metadata": {
    "collapsed": true
   },
   "outputs": [],
   "source": [
    "BulkGeometry.update_all(monolayer)"
   ]
  },
  {
   "cell_type": "code",
   "execution_count": 180,
   "metadata": {
    "collapsed": true
   },
   "outputs": [],
   "source": [
    "colors = plt.cm.viridis(monolayer.edge_df['cell']/monolayer.edge_df['cell'].max())\n",
    "draw_specs['edge']['color'] = colors\n",
    "\n",
    "canvas, view = vp_view(monolayer, **draw_specs)"
   ]
  },
  {
   "cell_type": "code",
   "execution_count": 181,
   "metadata": {
    "collapsed": false
   },
   "outputs": [],
   "source": [
    "f1_edges = monolayer.edge_df[\n",
    "    monolayer.edge_df['face'] == new_faces[0]]\n",
    "f2_edges = monolayer.edge_df[\n",
    "    monolayer.edge_df['face'] == new_faces[1]]\n",
    "\n",
    "monolayer.edge_df.loc[f1_edges.index, 'cell'] = mother\n",
    "monolayer.edge_df.loc[f2_edges.index, 'cell'] = new_cell\n",
    "m_septum = new_faces[0]\n"
   ]
  },
  {
   "cell_type": "code",
   "execution_count": 182,
   "metadata": {
    "collapsed": false
   },
   "outputs": [
    {
     "data": {
      "text/plain": [
       "378"
      ]
     },
     "execution_count": 182,
     "metadata": {},
     "output_type": "execute_result"
    }
   ],
   "source": [
    "m_septum"
   ]
  },
  {
   "cell_type": "code",
   "execution_count": 183,
   "metadata": {
    "collapsed": false
   },
   "outputs": [],
   "source": [
    "mother_faces = monolayer.get_orbits('cell', 'face').loc[mother].unique()\n",
    "\n",
    "m_septum_edges = monolayer.edge_df[monolayer.edge_df['face'] == m_septum]\n",
    "m_septum_norm = m_septum_edges[monolayer.ncoords].mean()\n",
    "m_septum_pos = monolayer.face_df.loc[m_septum, monolayer.coords]\n",
    "\n",
    "for face in mother_faces:\n",
    "    if face == m_septum:\n",
    "        continue\n",
    "    dr = monolayer.face_df.loc[face, monolayer.coords] - m_septum_pos\n",
    "    proj = (dr.values * m_septum_norm).sum(axis=0)\n",
    "    f_edges = monolayer.edge_df[monolayer.edge_df['face'] == face].index\n",
    "    if proj < 0:\n",
    "        monolayer.edge_df.loc[f_edges, 'cell'] = mother\n",
    "    else:\n",
    "        monolayer.edge_df.loc[f_edges, 'cell'] = new_cell\n"
   ]
  },
  {
   "cell_type": "code",
   "execution_count": 195,
   "metadata": {
    "collapsed": false
   },
   "outputs": [
    {
     "data": {
      "text/plain": [
       "64"
      ]
     },
     "execution_count": 195,
     "metadata": {},
     "output_type": "execute_result"
    }
   ],
   "source": [
    "cell"
   ]
  },
  {
   "cell_type": "code",
   "execution_count": 194,
   "metadata": {
    "collapsed": false
   },
   "outputs": [
    {
     "ename": "KeyError",
     "evalue": "False",
     "output_type": "error",
     "traceback": [
      "\u001b[1;31m---------------------------------------------------------------------------\u001b[0m",
      "\u001b[1;31mKeyError\u001b[0m                                  Traceback (most recent call last)",
      "\u001b[1;32m/home/guillaume/anaconda3/envs/py35/lib/python3.5/site-packages/pandas/indexes/base.py\u001b[0m in \u001b[0;36mget_loc\u001b[1;34m(self, key, method, tolerance)\u001b[0m\n\u001b[0;32m   1944\u001b[0m             \u001b[1;32mtry\u001b[0m\u001b[1;33m:\u001b[0m\u001b[1;33m\u001b[0m\u001b[0m\n\u001b[1;32m-> 1945\u001b[1;33m                 \u001b[1;32mreturn\u001b[0m \u001b[0mself\u001b[0m\u001b[1;33m.\u001b[0m\u001b[0m_engine\u001b[0m\u001b[1;33m.\u001b[0m\u001b[0mget_loc\u001b[0m\u001b[1;33m(\u001b[0m\u001b[0mkey\u001b[0m\u001b[1;33m)\u001b[0m\u001b[1;33m\u001b[0m\u001b[0m\n\u001b[0m\u001b[0;32m   1946\u001b[0m             \u001b[1;32mexcept\u001b[0m \u001b[0mKeyError\u001b[0m\u001b[1;33m:\u001b[0m\u001b[1;33m\u001b[0m\u001b[0m\n",
      "\u001b[1;32mpandas/index.pyx\u001b[0m in \u001b[0;36mpandas.index.IndexEngine.get_loc (pandas/index.c:4154)\u001b[1;34m()\u001b[0m\n",
      "\u001b[1;32mpandas/index.pyx\u001b[0m in \u001b[0;36mpandas.index.IndexEngine.get_loc (pandas/index.c:4018)\u001b[1;34m()\u001b[0m\n",
      "\u001b[1;32mpandas/hashtable.pyx\u001b[0m in \u001b[0;36mpandas.hashtable.PyObjectHashTable.get_item (pandas/hashtable.c:12368)\u001b[1;34m()\u001b[0m\n",
      "\u001b[1;32mpandas/hashtable.pyx\u001b[0m in \u001b[0;36mpandas.hashtable.PyObjectHashTable.get_item (pandas/hashtable.c:12322)\u001b[1;34m()\u001b[0m\n",
      "\u001b[1;31mKeyError\u001b[0m: False",
      "\nDuring handling of the above exception, another exception occurred:\n",
      "\u001b[1;31mKeyError\u001b[0m                                  Traceback (most recent call last)",
      "\u001b[1;32m<ipython-input-194-f0142539e23b>\u001b[0m in \u001b[0;36m<module>\u001b[1;34m()\u001b[0m\n\u001b[1;32m----> 1\u001b[1;33m \u001b[0mab_axis\u001b[0m \u001b[1;33m=\u001b[0m \u001b[0mMonoLayerGeometry\u001b[0m\u001b[1;33m.\u001b[0m\u001b[0mbasal_apical_axis\u001b[0m\u001b[1;33m(\u001b[0m\u001b[0mmonolayer\u001b[0m\u001b[1;33m,\u001b[0m \u001b[0mcell\u001b[0m\u001b[1;33m)\u001b[0m\u001b[1;33m\u001b[0m\u001b[0m\n\u001b[0m\u001b[0;32m      2\u001b[0m \u001b[0mcell_edges\u001b[0m \u001b[1;33m=\u001b[0m \u001b[0mmonolayer\u001b[0m\u001b[1;33m.\u001b[0m\u001b[0medge_df\u001b[0m\u001b[1;33m[\u001b[0m\u001b[0mmonolayer\u001b[0m\u001b[1;33m.\u001b[0m\u001b[0medge_df\u001b[0m\u001b[1;33m[\u001b[0m\u001b[1;34m\"cell\"\u001b[0m\u001b[1;33m]\u001b[0m \u001b[1;33m==\u001b[0m \u001b[0mcell\u001b[0m\u001b[1;33m]\u001b[0m\u001b[1;33m.\u001b[0m\u001b[0mindex\u001b[0m\u001b[1;33m\u001b[0m\u001b[0m\n\u001b[0;32m      3\u001b[0m \u001b[0mvert_pos_\u001b[0m \u001b[1;33m=\u001b[0m \u001b[0mmonolayer\u001b[0m\u001b[1;33m.\u001b[0m\u001b[0mvert_df\u001b[0m\u001b[1;33m.\u001b[0m\u001b[0mloc\u001b[0m\u001b[1;33m[\u001b[0m\u001b[0mset\u001b[0m\u001b[1;33m(\u001b[0m\u001b[0mcell_edges\u001b[0m\u001b[1;33m[\u001b[0m\u001b[1;34m'srce'\u001b[0m\u001b[1;33m]\u001b[0m\u001b[1;33m)\u001b[0m\u001b[1;33m]\u001b[0m\u001b[1;33m\u001b[0m\u001b[0m\n\u001b[0;32m      4\u001b[0m \u001b[0mvert_pos\u001b[0m \u001b[1;33m=\u001b[0m \u001b[0mvert_pos_\u001b[0m\u001b[1;33m.\u001b[0m\u001b[0mloc\u001b[0m\u001b[1;33m[\u001b[0m\u001b[0mvertices\u001b[0m\u001b[1;33m]\u001b[0m\u001b[1;33m\u001b[0m\u001b[0m\n\u001b[0;32m      5\u001b[0m \u001b[1;32mfor\u001b[0m \u001b[0mc\u001b[0m \u001b[1;32min\u001b[0m \u001b[0mmonolayer\u001b[0m\u001b[1;33m.\u001b[0m\u001b[0mcoords\u001b[0m\u001b[1;33m:\u001b[0m\u001b[1;33m\u001b[0m\u001b[0m\n",
      "\u001b[1;32m/home/guillaume/anaconda3/envs/py35/lib/python3.5/site-packages/tyssue-0.1-py3.5.egg/tyssue/geometry/bulk_geometry.py\u001b[0m in \u001b[0;36mbasal_apical_axis\u001b[1;34m(eptm, cell)\u001b[0m\n\u001b[0;32m     70\u001b[0m         \u001b[0mtrgt_segments\u001b[0m \u001b[1;33m=\u001b[0m \u001b[0meptm\u001b[0m\u001b[1;33m.\u001b[0m\u001b[0mvert_df\u001b[0m\u001b[1;33m.\u001b[0m\u001b[0mloc\u001b[0m\u001b[1;33m[\u001b[0m\u001b[0medges\u001b[0m\u001b[1;33m[\u001b[0m\u001b[1;34m'trgt'\u001b[0m\u001b[1;33m]\u001b[0m\u001b[1;33m,\u001b[0m \u001b[1;34m'segment'\u001b[0m\u001b[1;33m]\u001b[0m\u001b[1;33m.\u001b[0m\u001b[0mcopy\u001b[0m\u001b[1;33m\u001b[0m\u001b[0m\n\u001b[0;32m     71\u001b[0m         ba_edges = edges[(srce_segments == 'apical') &\n\u001b[1;32m---> 72\u001b[1;33m                          (trgt_segments == 'basal')]\n\u001b[0m\u001b[0;32m     73\u001b[0m         \u001b[1;32mreturn\u001b[0m \u001b[0mba_edges\u001b[0m\u001b[1;33m[\u001b[0m\u001b[0meptm\u001b[0m\u001b[1;33m.\u001b[0m\u001b[0mdcoords\u001b[0m\u001b[1;33m]\u001b[0m\u001b[1;33m.\u001b[0m\u001b[0mmean\u001b[0m\u001b[1;33m(\u001b[0m\u001b[1;33m)\u001b[0m\u001b[1;33m\u001b[0m\u001b[0m\n",
      "\u001b[1;32m/home/guillaume/anaconda3/envs/py35/lib/python3.5/site-packages/pandas/core/frame.py\u001b[0m in \u001b[0;36m__getitem__\u001b[1;34m(self, key)\u001b[0m\n\u001b[0;32m   1995\u001b[0m             \u001b[1;32mreturn\u001b[0m \u001b[0mself\u001b[0m\u001b[1;33m.\u001b[0m\u001b[0m_getitem_multilevel\u001b[0m\u001b[1;33m(\u001b[0m\u001b[0mkey\u001b[0m\u001b[1;33m)\u001b[0m\u001b[1;33m\u001b[0m\u001b[0m\n\u001b[0;32m   1996\u001b[0m         \u001b[1;32melse\u001b[0m\u001b[1;33m:\u001b[0m\u001b[1;33m\u001b[0m\u001b[0m\n\u001b[1;32m-> 1997\u001b[1;33m             \u001b[1;32mreturn\u001b[0m \u001b[0mself\u001b[0m\u001b[1;33m.\u001b[0m\u001b[0m_getitem_column\u001b[0m\u001b[1;33m(\u001b[0m\u001b[0mkey\u001b[0m\u001b[1;33m)\u001b[0m\u001b[1;33m\u001b[0m\u001b[0m\n\u001b[0m\u001b[0;32m   1998\u001b[0m \u001b[1;33m\u001b[0m\u001b[0m\n\u001b[0;32m   1999\u001b[0m     \u001b[1;32mdef\u001b[0m \u001b[0m_getitem_column\u001b[0m\u001b[1;33m(\u001b[0m\u001b[0mself\u001b[0m\u001b[1;33m,\u001b[0m \u001b[0mkey\u001b[0m\u001b[1;33m)\u001b[0m\u001b[1;33m:\u001b[0m\u001b[1;33m\u001b[0m\u001b[0m\n",
      "\u001b[1;32m/home/guillaume/anaconda3/envs/py35/lib/python3.5/site-packages/pandas/core/frame.py\u001b[0m in \u001b[0;36m_getitem_column\u001b[1;34m(self, key)\u001b[0m\n\u001b[0;32m   2002\u001b[0m         \u001b[1;31m# get column\u001b[0m\u001b[1;33m\u001b[0m\u001b[1;33m\u001b[0m\u001b[0m\n\u001b[0;32m   2003\u001b[0m         \u001b[1;32mif\u001b[0m \u001b[0mself\u001b[0m\u001b[1;33m.\u001b[0m\u001b[0mcolumns\u001b[0m\u001b[1;33m.\u001b[0m\u001b[0mis_unique\u001b[0m\u001b[1;33m:\u001b[0m\u001b[1;33m\u001b[0m\u001b[0m\n\u001b[1;32m-> 2004\u001b[1;33m             \u001b[1;32mreturn\u001b[0m \u001b[0mself\u001b[0m\u001b[1;33m.\u001b[0m\u001b[0m_get_item_cache\u001b[0m\u001b[1;33m(\u001b[0m\u001b[0mkey\u001b[0m\u001b[1;33m)\u001b[0m\u001b[1;33m\u001b[0m\u001b[0m\n\u001b[0m\u001b[0;32m   2005\u001b[0m \u001b[1;33m\u001b[0m\u001b[0m\n\u001b[0;32m   2006\u001b[0m         \u001b[1;31m# duplicate columns & possible reduce dimensionality\u001b[0m\u001b[1;33m\u001b[0m\u001b[1;33m\u001b[0m\u001b[0m\n",
      "\u001b[1;32m/home/guillaume/anaconda3/envs/py35/lib/python3.5/site-packages/pandas/core/generic.py\u001b[0m in \u001b[0;36m_get_item_cache\u001b[1;34m(self, item)\u001b[0m\n\u001b[0;32m   1348\u001b[0m         \u001b[0mres\u001b[0m \u001b[1;33m=\u001b[0m \u001b[0mcache\u001b[0m\u001b[1;33m.\u001b[0m\u001b[0mget\u001b[0m\u001b[1;33m(\u001b[0m\u001b[0mitem\u001b[0m\u001b[1;33m)\u001b[0m\u001b[1;33m\u001b[0m\u001b[0m\n\u001b[0;32m   1349\u001b[0m         \u001b[1;32mif\u001b[0m \u001b[0mres\u001b[0m \u001b[1;32mis\u001b[0m \u001b[1;32mNone\u001b[0m\u001b[1;33m:\u001b[0m\u001b[1;33m\u001b[0m\u001b[0m\n\u001b[1;32m-> 1350\u001b[1;33m             \u001b[0mvalues\u001b[0m \u001b[1;33m=\u001b[0m \u001b[0mself\u001b[0m\u001b[1;33m.\u001b[0m\u001b[0m_data\u001b[0m\u001b[1;33m.\u001b[0m\u001b[0mget\u001b[0m\u001b[1;33m(\u001b[0m\u001b[0mitem\u001b[0m\u001b[1;33m)\u001b[0m\u001b[1;33m\u001b[0m\u001b[0m\n\u001b[0m\u001b[0;32m   1351\u001b[0m             \u001b[0mres\u001b[0m \u001b[1;33m=\u001b[0m \u001b[0mself\u001b[0m\u001b[1;33m.\u001b[0m\u001b[0m_box_item_values\u001b[0m\u001b[1;33m(\u001b[0m\u001b[0mitem\u001b[0m\u001b[1;33m,\u001b[0m \u001b[0mvalues\u001b[0m\u001b[1;33m)\u001b[0m\u001b[1;33m\u001b[0m\u001b[0m\n\u001b[0;32m   1352\u001b[0m             \u001b[0mcache\u001b[0m\u001b[1;33m[\u001b[0m\u001b[0mitem\u001b[0m\u001b[1;33m]\u001b[0m \u001b[1;33m=\u001b[0m \u001b[0mres\u001b[0m\u001b[1;33m\u001b[0m\u001b[0m\n",
      "\u001b[1;32m/home/guillaume/anaconda3/envs/py35/lib/python3.5/site-packages/pandas/core/internals.py\u001b[0m in \u001b[0;36mget\u001b[1;34m(self, item, fastpath)\u001b[0m\n\u001b[0;32m   3288\u001b[0m \u001b[1;33m\u001b[0m\u001b[0m\n\u001b[0;32m   3289\u001b[0m             \u001b[1;32mif\u001b[0m \u001b[1;32mnot\u001b[0m \u001b[0misnull\u001b[0m\u001b[1;33m(\u001b[0m\u001b[0mitem\u001b[0m\u001b[1;33m)\u001b[0m\u001b[1;33m:\u001b[0m\u001b[1;33m\u001b[0m\u001b[0m\n\u001b[1;32m-> 3290\u001b[1;33m                 \u001b[0mloc\u001b[0m \u001b[1;33m=\u001b[0m \u001b[0mself\u001b[0m\u001b[1;33m.\u001b[0m\u001b[0mitems\u001b[0m\u001b[1;33m.\u001b[0m\u001b[0mget_loc\u001b[0m\u001b[1;33m(\u001b[0m\u001b[0mitem\u001b[0m\u001b[1;33m)\u001b[0m\u001b[1;33m\u001b[0m\u001b[0m\n\u001b[0m\u001b[0;32m   3291\u001b[0m             \u001b[1;32melse\u001b[0m\u001b[1;33m:\u001b[0m\u001b[1;33m\u001b[0m\u001b[0m\n\u001b[0;32m   3292\u001b[0m                 \u001b[0mindexer\u001b[0m \u001b[1;33m=\u001b[0m \u001b[0mnp\u001b[0m\u001b[1;33m.\u001b[0m\u001b[0marange\u001b[0m\u001b[1;33m(\u001b[0m\u001b[0mlen\u001b[0m\u001b[1;33m(\u001b[0m\u001b[0mself\u001b[0m\u001b[1;33m.\u001b[0m\u001b[0mitems\u001b[0m\u001b[1;33m)\u001b[0m\u001b[1;33m)\u001b[0m\u001b[1;33m[\u001b[0m\u001b[0misnull\u001b[0m\u001b[1;33m(\u001b[0m\u001b[0mself\u001b[0m\u001b[1;33m.\u001b[0m\u001b[0mitems\u001b[0m\u001b[1;33m)\u001b[0m\u001b[1;33m]\u001b[0m\u001b[1;33m\u001b[0m\u001b[0m\n",
      "\u001b[1;32m/home/guillaume/anaconda3/envs/py35/lib/python3.5/site-packages/pandas/indexes/base.py\u001b[0m in \u001b[0;36mget_loc\u001b[1;34m(self, key, method, tolerance)\u001b[0m\n\u001b[0;32m   1945\u001b[0m                 \u001b[1;32mreturn\u001b[0m \u001b[0mself\u001b[0m\u001b[1;33m.\u001b[0m\u001b[0m_engine\u001b[0m\u001b[1;33m.\u001b[0m\u001b[0mget_loc\u001b[0m\u001b[1;33m(\u001b[0m\u001b[0mkey\u001b[0m\u001b[1;33m)\u001b[0m\u001b[1;33m\u001b[0m\u001b[0m\n\u001b[0;32m   1946\u001b[0m             \u001b[1;32mexcept\u001b[0m \u001b[0mKeyError\u001b[0m\u001b[1;33m:\u001b[0m\u001b[1;33m\u001b[0m\u001b[0m\n\u001b[1;32m-> 1947\u001b[1;33m                 \u001b[1;32mreturn\u001b[0m \u001b[0mself\u001b[0m\u001b[1;33m.\u001b[0m\u001b[0m_engine\u001b[0m\u001b[1;33m.\u001b[0m\u001b[0mget_loc\u001b[0m\u001b[1;33m(\u001b[0m\u001b[0mself\u001b[0m\u001b[1;33m.\u001b[0m\u001b[0m_maybe_cast_indexer\u001b[0m\u001b[1;33m(\u001b[0m\u001b[0mkey\u001b[0m\u001b[1;33m)\u001b[0m\u001b[1;33m)\u001b[0m\u001b[1;33m\u001b[0m\u001b[0m\n\u001b[0m\u001b[0;32m   1948\u001b[0m \u001b[1;33m\u001b[0m\u001b[0m\n\u001b[0;32m   1949\u001b[0m         \u001b[0mindexer\u001b[0m \u001b[1;33m=\u001b[0m \u001b[0mself\u001b[0m\u001b[1;33m.\u001b[0m\u001b[0mget_indexer\u001b[0m\u001b[1;33m(\u001b[0m\u001b[1;33m[\u001b[0m\u001b[0mkey\u001b[0m\u001b[1;33m]\u001b[0m\u001b[1;33m,\u001b[0m \u001b[0mmethod\u001b[0m\u001b[1;33m=\u001b[0m\u001b[0mmethod\u001b[0m\u001b[1;33m,\u001b[0m \u001b[0mtolerance\u001b[0m\u001b[1;33m=\u001b[0m\u001b[0mtolerance\u001b[0m\u001b[1;33m)\u001b[0m\u001b[1;33m\u001b[0m\u001b[0m\n",
      "\u001b[1;32mpandas/index.pyx\u001b[0m in \u001b[0;36mpandas.index.IndexEngine.get_loc (pandas/index.c:4154)\u001b[1;34m()\u001b[0m\n",
      "\u001b[1;32mpandas/index.pyx\u001b[0m in \u001b[0;36mpandas.index.IndexEngine.get_loc (pandas/index.c:4018)\u001b[1;34m()\u001b[0m\n",
      "\u001b[1;32mpandas/hashtable.pyx\u001b[0m in \u001b[0;36mpandas.hashtable.PyObjectHashTable.get_item (pandas/hashtable.c:12368)\u001b[1;34m()\u001b[0m\n",
      "\u001b[1;32mpandas/hashtable.pyx\u001b[0m in \u001b[0;36mpandas.hashtable.PyObjectHashTable.get_item (pandas/hashtable.c:12322)\u001b[1;34m()\u001b[0m\n",
      "\u001b[1;31mKeyError\u001b[0m: False"
     ]
    }
   ],
   "source": [
    "ab_axis = MonoLayerGeometry.basal_apical_axis(monolayer, cell)\n",
    "cell_edges = monolayer.edge_df[monolayer.edge_df[\"cell\"] == cell].index\n",
    "vert_pos_ = monolayer.vert_df.loc[set(cell_edges['srce'])]\n",
    "vert_pos = vert_pos_.loc[vertices]\n",
    "for c in monolayer.coords:\n",
    "    vert_pos[c] -= monolayer.cell_df.loc[cell, c]\n"
   ]
  },
  {
   "cell_type": "code",
   "execution_count": 184,
   "metadata": {
    "collapsed": false
   },
   "outputs": [
    {
     "name": "stdout",
     "output_type": "stream",
     "text": [
      "True\n",
      "b'CONVERGENCE: REL_REDUCTION_OF_F_<=_FACTR*EPSMCH'\n"
     ]
    }
   ],
   "source": [
    "res = Solver.find_energy_min(monolayer, BulkGeometry, BulkModel)\n",
    "print(res['success'])\n",
    "print(res['message'])\n"
   ]
  },
  {
   "cell_type": "code",
   "execution_count": 185,
   "metadata": {
    "collapsed": true
   },
   "outputs": [],
   "source": [
    "\n",
    "colors = plt.cm.viridis(monolayer.edge_df['cell']/monolayer.edge_df['cell'].max())\n",
    "draw_specs['edge']['color'] = colors\n",
    "\n",
    "canvas, view = vp_view(monolayer, **draw_specs)"
   ]
  },
  {
   "cell_type": "code",
   "execution_count": 37,
   "metadata": {
    "collapsed": false
   },
   "outputs": [
    {
     "name": "stdout",
     "output_type": "stream",
     "text": [
      "Automatic pdb calling has been turned ON\n"
     ]
    }
   ],
   "source": [
    "%pdb"
   ]
  }
 ],
 "metadata": {
  "kernelspec": {
   "display_name": "Python 3",
   "language": "python",
   "name": "python3"
  },
  "language_info": {
   "codemirror_mode": {
    "name": "ipython",
    "version": 3
   },
   "file_extension": ".py",
   "mimetype": "text/x-python",
   "name": "python",
   "nbconvert_exporter": "python",
   "pygments_lexer": "ipython3",
   "version": "3.5.1"
  }
 },
 "nbformat": 4,
 "nbformat_minor": 0
}
