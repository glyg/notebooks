{
 "cells": [
  {
   "cell_type": "code",
   "execution_count": 1,
   "metadata": {
    "collapsed": false
   },
   "outputs": [],
   "source": [
    "import pandas as pd\n",
    "import numpy as np\n",
    "import json\n",
    "import matplotlib.pylab as plt\n",
    "%matplotlib inline\n",
    "\n",
    "from tyssue.core.sheet import Sheet\n",
    "\n",
    "from tyssue import config\n",
    "from tyssue.topology.sheet_topology import cell_division\n",
    "\n",
    "from tyssue.geometry.sheet_geometry import SheetGeometry as geom\n",
    "from tyssue.solvers.sheet_vertex_solver import Solver as solver\n",
    "from tyssue.dynamics.sheet_vertex_model import SheetModel as model\n",
    "\n",
    "from tyssue.core.generation import extrude\n",
    "from tyssue.core.monolayer import Monolayer, MonolayerWithLamina\n",
    "from tyssue.geometry.bulk_geometry import BulkGeometry, MonoLayerGeometry\n",
    "from tyssue.dynamics.bulk_model import BulkModel, LaminaModel, set_model\n",
    "from tyssue.solvers.sheet_vertex_solver import Solver\n",
    "\n",
    "from tyssue.draw.vispy_draw import vp_view\n",
    "\n",
    "from tyssue.draw.plt_draw import sheet_view\n",
    "\n",
    "from tyssue.topology.sheet_topology import remove_face\n",
    "from tyssue.core.objects import get_opposite\n",
    "from tyssue.io.hdf5 import save_datasets, load_datasets\n",
    "\n",
    "from tyssue.topology.sheet_topology import face_division, get_division_edges\n"
   ]
  },
  {
   "cell_type": "code",
   "execution_count": 2,
   "metadata": {
    "collapsed": false
   },
   "outputs": [],
   "source": [
    "datasets = load_datasets('small_ellipsoid.hf5',\n",
    "                         data_names=['vert', 'edge',\n",
    "                                     'face', 'cell'])\n",
    "specs = config.geometry.bulk_spec()\n",
    "\n",
    "mono = Monolayer('ell', datasets, specs)\n",
    "mono.reset_index()\n",
    "mono.reset_topo()\n",
    "\n",
    "\n",
    "# ## Settings for the quasi-static model\n",
    "# ### Apical layer\n",
    "apical_spec = {\n",
    "    'edge': {\n",
    "        'line_tension': 0.12,},\n",
    "    'face': {\n",
    "        'contractility': 0.04,\n",
    "        'prefered_area': 0.8,\n",
    "        'area_elasticity': 1.0},\n",
    "    'cell': {\n",
    "        'prefered_vol': 1.0,\n",
    "        'vol_elasticity': 1.0},\n",
    "    'settings': {\n",
    "        'grad_norm_factor': 1.0,\n",
    "        'nrj_norm_factor': 1.0},}\n",
    "\n",
    "# ### Modifier for each segment of the stratum\n",
    "modifiers = {\n",
    "    'sagittal': {\n",
    "        'edge': {\n",
    "            'line_tension': 0.1},\n",
    "        'face': {\n",
    "            'contractility': 0.05,\n",
    "            'prefered_area': 0.2}\n",
    "    },\n",
    "    'basal': {\n",
    "        'edge': {\n",
    "            'line_tension': 0.5},\n",
    "        'face': {\n",
    "            'contractility': 0.1,\n",
    "            'prefered_area': 0.2}},\n",
    "    }\n",
    "\n",
    "set_model(mono, BulkModel, apical_spec, modifiers)\n"
   ]
  },
  {
   "cell_type": "code",
   "execution_count": 3,
   "metadata": {
    "collapsed": false
   },
   "outputs": [
    {
     "data": {
      "text/plain": [
       "[<matplotlib.lines.Line2D at 0x7f584f22aa58>]"
      ]
     },
     "execution_count": 3,
     "metadata": {},
     "output_type": "execute_result"
    },
    {
     "data": {
      "image/png": "[encoded data removed]",
      "text/plain": [
       "<matplotlib.figure.Figure at 0x7f584f22a828>"
      ]
     },
     "metadata": {},
     "output_type": "display_data"
    }
   ],
   "source": [
    "energies = []\n",
    "deltas = np.linspace(0.1, 3)\n",
    "for delta in deltas:\n",
    "    BulkGeometry.scale(mono, delta,\n",
    "                       mono.coords)\n",
    "    BulkGeometry.update_all(mono)\n",
    "    energies.append(BulkModel.compute_energy(mono))\n",
    "    BulkGeometry.scale(mono, 1/delta,\n",
    "                       mono.coords)\n",
    "    BulkGeometry.update_all(mono)\n",
    "    \n",
    "\n",
    "fig, ax = plt.subplots()\n",
    "\n",
    "ax.plot(deltas, energies, 'o-')"
   ]
  },
  {
   "cell_type": "code",
   "execution_count": 4,
   "metadata": {
    "collapsed": false
   },
   "outputs": [
    {
     "name": "stderr",
     "output_type": "stream",
     "text": [
      "/home/guillaume/anaconda3/envs/py35/lib/python3.5/site-packages/IPython/config.py:13: ShimWarning: The `IPython.config` package has been deprecated. You should import from traitlets.config instead.\n",
      "  \"You should import from traitlets.config instead.\", ShimWarning)\n"
     ]
    }
   ],
   "source": [
    "draw_specs = config.draw.sheet_spec()\n",
    "canvas, view = vp_view(mono, **draw_specs)"
   ]
  },
  {
   "cell_type": "code",
   "execution_count": 5,
   "metadata": {
    "collapsed": false
   },
   "outputs": [],
   "source": [
    "res = Solver.find_energy_min(mono, BulkGeometry, BulkModel)"
   ]
  },
  {
   "cell_type": "code",
   "execution_count": 16,
   "metadata": {
    "collapsed": false
   },
   "outputs": [],
   "source": [
    "canvas, view = vp_view(mono)\n",
    "monolayer = mono"
   ]
  },
  {
   "cell_type": "code",
   "execution_count": 19,
   "metadata": {
    "collapsed": false
   },
   "outputs": [],
   "source": [
    "img = canvas.render()\n",
    "from vispy.io import imsave\n",
    "imsave('ellipsoid.png', img)"
   ]
  },
  {
   "cell_type": "code",
   "execution_count": 7,
   "metadata": {
    "collapsed": true
   },
   "outputs": [],
   "source": [
    "mother = 15\n",
    "mother_edges = monolayer.edge_df[\n",
    "    monolayer.edge_df['cell'] == mother]\n",
    "mother_faces = set(mother_edges['face'])\n",
    "\n",
    "apical_face, = mother_edges[\n",
    "    mother_edges['segment'] == 'apical']['face'].unique()\n",
    "\n",
    "edge_a, edge_b = get_division_edges(monolayer, apical_face,\n",
    "                                    BulkGeometry,\n",
    "                                    angle=None, axis='x')\n",
    "srce_a, trgt_a = mono.edge_df.loc[edge_a, ['srce', 'trgt']]\n",
    "srce_b, trgt_b = mono.edge_df.loc[edge_b, ['srce', 'trgt']]\n",
    "\n",
    "apical_daughter = face_division(monolayer, edge_a, edge_b)\n"
   ]
  },
  {
   "cell_type": "code",
   "execution_count": 15,
   "metadata": {
    "collapsed": false
   },
   "outputs": [],
   "source": [
    "sagittal_edges = mother_edges[\n",
    "    mother_edges['segment'] == 'sagittal']\n",
    "sagittal_faces = sagittal_edges['face'].unique()\n",
    "\n",
    "s_edge_aa = sagittal_edges[(sagittal_edges['trgt'] == srce_a) &\n",
    "                           (sagittal_edges['srce'] == trgt_a)].index[0]\n",
    "s_edge_ab = sagittal_edges[(sagittal_edges['trgt'] == srce_b) &\n",
    "                           (sagittal_edges['srce'] == trgt_b)].index[0]\n",
    "\n",
    "s_face_a = int(monolayer.edge_df.loc[s_edge_aa,\n",
    "                                     'face'])\n",
    "\n",
    "s_face_b = int(monolayer.edge_df.loc[s_edge_ab,\n",
    "                                     'face'])\n",
    "\n"
   ]
  },
  {
   "cell_type": "code",
   "execution_count": 23,
   "metadata": {
    "collapsed": false
   },
   "outputs": [
    {
     "data": {
      "text/plain": [
       "188"
      ]
     },
     "execution_count": 23,
     "metadata": {},
     "output_type": "execute_result"
    }
   ],
   "source": [
    "sagittal_edges.loc[s_edge_a, 'face']"
   ]
  },
  {
   "cell_type": "code",
   "execution_count": 35,
   "metadata": {
    "collapsed": true
   },
   "outputs": [],
   "source": [
    "def get_basal_edge(monolayer, sagittal_edge):\n",
    "    face = int(monolayer.edge_df.loc[sagittal_edge, 'face'])\n",
    "    edges = monolayer.edge_df[\n",
    "        monolayer.edge_df['face'] == face]\n",
    "    srce_segments = monolayer.vert_df.loc[edges['srce'], 'segment']\n",
    "    srce_segments.index = edges.index\n",
    "    trgt_segments = monolayer.vert_df.loc[edges['trgt'], 'segment']\n",
    "    trgt_segments.index = edges.index\n",
    "\n",
    "    basal_edge, = edges[(srce_segments == 'basal') &\n",
    "                        (trgt_segments == 'basal')].index\n",
    "    return basal_edge\n",
    "\n",
    "\n",
    "def opposite_face(eptm, face):\n",
    "    vert_orbit = eptm.get_orbits('face', 'srce').groupby(\n",
    "        level='face').apply(lambda df: set(df))\n",
    "    print(vert_orbit.loc[face])\n",
    "    opp_faces = vert_orbit[vert_orbit == vert_orbit.loc[face]].index\n",
    "    print(opp_faces)\n",
    "    if len(opp_faces) == 2:\n",
    "        opp_face, = opp_faces[opp_faces != face]\n",
    "        return opp_face\n",
    "    else:\n",
    "        return None\n"
   ]
  },
  {
   "cell_type": "code",
   "execution_count": 28,
   "metadata": {
    "collapsed": false
   },
   "outputs": [
    {
     "name": "stdout",
     "output_type": "stream",
     "text": [
      "Automatic pdb calling has been turned ON\n"
     ]
    }
   ],
   "source": [
    "%pdb"
   ]
  },
  {
   "cell_type": "code",
   "execution_count": 37,
   "metadata": {
    "collapsed": false
   },
   "outputs": [],
   "source": [
    "s_face_a = int(monolayer.edge_df.loc[])\n",
    "\n",
    "\n",
    "b_edge_a = get_basal_edge(monolayer, s_edge_a)\n",
    "b_edge_b = get_basal_edge(monolayer, s_edge_b)\n",
    "\n",
    "\n",
    "\n",
    "sagittal_daughter_a = face_division(monolayer,\n",
    "                                    s_edge_a,\n",
    "                                    b_edge_a)\n",
    "sagittal_daughter_b = face_division(monolayer,\n",
    "                                    s_edge_b,\n",
    "                                    b_edge_b)\n",
    "\n"
   ]
  },
  {
   "cell_type": "code",
   "execution_count": 38,
   "metadata": {
    "collapsed": true
   },
   "outputs": [],
   "source": [
    "canvas, view = vp_view(mono)"
   ]
  },
  {
   "cell_type": "code",
   "execution_count": 52,
   "metadata": {
    "collapsed": true
   },
   "outputs": [],
   "source": [
    "vert_orbit = monolayer.get_orbits('face', 'srce').groupby(\n",
    "    level='face').apply(lambda df: set(df))\n"
   ]
  },
  {
   "cell_type": "code",
   "execution_count": 58,
   "metadata": {
    "collapsed": false
   },
   "outputs": [
    {
     "data": {
      "text/plain": [
       "face\n",
       "132    {1, 2, 93, 94}\n",
       "133    {1, 2, 93, 94}\n",
       "Name: srce, dtype: object"
      ]
     },
     "execution_count": 58,
     "metadata": {},
     "output_type": "execute_result"
    }
   ],
   "source": [
    "vo = vert_orbit.loc[mono.sagittal_faces].head(10)\n",
    "vo[vo == vo.loc[132]]"
   ]
  },
  {
   "cell_type": "code",
   "execution_count": 59,
   "metadata": {
    "collapsed": false
   },
   "outputs": [],
   "source": []
  },
  {
   "cell_type": "code",
   "execution_count": 47,
   "metadata": {
    "collapsed": false
   },
   "outputs": [
    {
     "data": {
      "text/plain": [
       "array([184, 185, 186, 187, 188, 393])"
      ]
     },
     "execution_count": 47,
     "metadata": {},
     "output_type": "execute_result"
    }
   ],
   "source": [
    "sagittal_faces"
   ]
  },
  {
   "cell_type": "code",
   "execution_count": 60,
   "metadata": {
    "collapsed": false
   },
   "outputs": [
    {
     "name": "stdout",
     "output_type": "stream",
     "text": [
      "{16, 188, 108, 189}\n",
      "Int64Index([184], dtype='int64', name='face')\n"
     ]
    }
   ],
   "source": [
    "opposite_face(monolayer, sagittal_faces[0])"
   ]
  },
  {
   "cell_type": "code",
   "execution_count": 61,
   "metadata": {
    "collapsed": false
   },
   "outputs": [
    {
     "data": {
      "text/plain": [
       "face\n",
       "184    {16, 188, 108, 189}\n",
       "Name: srce, dtype: object"
      ]
     },
     "execution_count": 61,
     "metadata": {},
     "output_type": "execute_result"
    }
   ],
   "source": [
    "fv = {16, 188, 108, 189}\n",
    "\n",
    "vert_orbit[vert_orbit == fv]"
   ]
  },
  {
   "cell_type": "code",
   "execution_count": 51,
   "metadata": {
    "collapsed": false
   },
   "outputs": [
    {
     "data": {
      "text/plain": [
       "True"
      ]
     },
     "execution_count": 51,
     "metadata": {},
     "output_type": "execute_result"
    }
   ],
   "source": [
    "{64, 0, 2, 78, 1} == {64, 1, 2, 78, 0}"
   ]
  },
  {
   "cell_type": "code",
   "execution_count": null,
   "metadata": {
    "collapsed": true
   },
   "outputs": [],
   "source": []
  }
 ],
 "metadata": {
  "kernelspec": {
   "display_name": "Python 3",
   "language": "python",
   "name": "python3"
  },
  "language_info": {
   "codemirror_mode": {
    "name": "ipython",
    "version": 3
   },
   "file_extension": ".py",
   "mimetype": "text/x-python",
   "name": "python",
   "nbconvert_exporter": "python",
   "pygments_lexer": "ipython3",
   "version": "3.5.1"
  }
 },
 "nbformat": 4,
 "nbformat_minor": 0
}
