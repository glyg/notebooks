{
 "cells": [
  {
   "cell_type": "code",
   "execution_count": 1,
   "metadata": {
    "collapsed": true
   },
   "outputs": [],
   "source": [
    "import pandas as pd\n",
    "import numpy as np\n",
    "import json\n",
    "import matplotlib.pylab as plt\n",
    "%matplotlib inline\n",
    "\n",
    "from tyssue.core.sheet import Sheet\n",
    "\n",
    "from tyssue import config\n",
    "\n",
    "from tyssue.geometry.sheet_geometry import SheetGeometry as geom\n",
    "from tyssue.solvers.sheet_vertex_solver import Solver as solver\n",
    "from tyssue.dynamics.sheet_vertex_model import SheetModel as model\n",
    "\n",
    "\n",
    "from tyssue.draw.vispy_draw import vp_view\n",
    "\n",
    "from tyssue.draw.plt_draw import sheet_view\n",
    "from tyssue.stores import load_datasets\n",
    "\n",
    "from tyssue.topology.sheet_topology import remove_face\n",
    "from tyssue.core.objects import get_opposite"
   ]
  },
  {
   "cell_type": "code",
   "execution_count": 2,
   "metadata": {
    "collapsed": false
   },
   "outputs": [
    {
     "name": "stderr",
     "output_type": "stream",
     "text": [
      "/home/guillaume/anaconda3/envs/py35/lib/python3.5/site-packages/tyssue-0.1-py3.5.egg/tyssue/config/geometry/__init__.py:181: UserWarning: Deprecated, use spherical_sheet(), cylindrical_sheet() or flat_sheet() instead\n",
      "  warnings.warn(\"Deprecated, use spherical_sheet(), \"\n"
     ]
    }
   ],
   "source": [
    "datasets = load_datasets('small_hexagonal.hf5',\n",
    "                         data_names=['face', 'vert', 'edge'])\n",
    "datasets['edge'] = datasets['edge'][['srce', 'trgt', 'face']]\n",
    "datasets['face'] = datasets['face'][['x', 'y', 'z', 'is_alive']]\n",
    "datasets['vert'] = datasets['vert'][['x', 'y', 'z']]\n",
    "\n",
    "specs = config.geometry.sheet_spec()\n",
    "sheet = Sheet('emin', datasets, specs)\n",
    "geom.update_all(sheet)\n",
    "\n",
    "boundary_cells = sheet.face_df[sheet.face_df.is_alive==0].index\n",
    "for cell in boundary_cells:\n",
    "    remove_face(sheet, cell)\n",
    "\n",
    "sheet.reset_index()\n",
    "sheet.edge_df['opposite'] = get_opposite(sheet.edge_df)\n",
    "\n",
    "face_z = sheet.upcast_face(sheet.face_df['z'])\n",
    "\n",
    "left = face_z[face_z<0].index\n",
    "left_border = sheet.edge_df.loc[left][sheet.edge_df.loc[left]['opposite']==-1]\n",
    "\n",
    "right = face_z[face_z>0].index\n",
    "right_border = sheet.edge_df.loc[right][sheet.edge_df.loc[right]['opposite']==-1]\n",
    "\n",
    "\n",
    "\n",
    "left_cell_edges = left_border.copy()\n",
    "right_cell_edges = right_border.copy()\n",
    "\n",
    "left_face = sheet.face_df.index.max()+1\n",
    "right_face = sheet.face_df.index.max()+2\n",
    "\n",
    "left_cell_edges[['srce', 'trgt']] = left_cell_edges[['trgt', 'srce']]\n",
    "left_cell_edges['face'] = left_face\n",
    "\n",
    "right_cell_edges[['srce', 'trgt']] = right_cell_edges[['trgt', 'srce']]\n",
    "right_cell_edges['face'] = right_face\n",
    "\n",
    "\n",
    "left_vert = sheet.vert_df.loc[left_cell_edges['srce']]\n",
    "right_vert = sheet.vert_df.loc[right_cell_edges['srce']]\n",
    "\n",
    "new_faces = pd.DataFrame(data=0,\n",
    "                         index=[left_face, right_face],\n",
    "                         columns=sheet.face_df.columns)\n",
    "\n",
    "sheet.edge_df = sheet.edge_df.append(left_cell_edges)\n",
    "sheet.edge_df = sheet.edge_df.append(right_cell_edges)\n",
    "sheet.face_df = sheet.face_df.append(new_faces)\n",
    "sheet.face_df['is_alive'] = 1\n",
    "\n",
    "\n",
    "sheet.reset_topo()\n",
    "sheet.reset_index()\n",
    "\n",
    "\n",
    "geom.update_all(sheet)"
   ]
  },
  {
   "cell_type": "code",
   "execution_count": 5,
   "metadata": {
    "collapsed": false
   },
   "outputs": [
    {
     "data": {
      "text/plain": [
       "(<SceneCanvas (PyQt4) at 0x7f6a0828cf60>, <ViewBox at 0x7f6a08141f60>)"
      ]
     },
     "execution_count": 5,
     "metadata": {},
     "output_type": "execute_result"
    }
   ],
   "source": [
    "draw_specs = config.draw.sheet_spec()\n",
    "draw_specs['face']['visible'] = True\n",
    "vp_view(sheet, **draw_specs)"
   ]
  },
  {
   "cell_type": "code",
   "execution_count": 59,
   "metadata": {
    "collapsed": false
   },
   "outputs": [
    {
     "data": {
      "text/html": [
       "<div>\n",
       "<table border=\"1\" class=\"dataframe\">\n",
       "  <thead>\n",
       "    <tr style=\"text-align: right;\">\n",
       "      <th></th>\n",
       "      <th>x</th>\n",
       "      <th>y</th>\n",
       "      <th>z</th>\n",
       "      <th>is_alive</th>\n",
       "      <th>area</th>\n",
       "      <th>num_sides</th>\n",
       "      <th>perimeter</th>\n",
       "      <th>vol</th>\n",
       "    </tr>\n",
       "    <tr>\n",
       "      <th>face</th>\n",
       "      <th></th>\n",
       "      <th></th>\n",
       "      <th></th>\n",
       "      <th></th>\n",
       "      <th></th>\n",
       "      <th></th>\n",
       "      <th></th>\n",
       "      <th></th>\n",
       "    </tr>\n",
       "  </thead>\n",
       "  <tbody>\n",
       "    <tr>\n",
       "      <th>52</th>\n",
       "      <td>4.019221e+00</td>\n",
       "      <td>-4.019221e+00</td>\n",
       "      <td>-7.401487e-17</td>\n",
       "      <td>1</td>\n",
       "      <td>18.865118</td>\n",
       "      <td>6.0</td>\n",
       "      <td>16.239088</td>\n",
       "      <td>37.502048</td>\n",
       "    </tr>\n",
       "    <tr>\n",
       "      <th>53</th>\n",
       "      <td>5.251365e+00</td>\n",
       "      <td>-2.175186e+00</td>\n",
       "      <td>4.072821e+00</td>\n",
       "      <td>1</td>\n",
       "      <td>18.865118</td>\n",
       "      <td>6.0</td>\n",
       "      <td>16.239088</td>\n",
       "      <td>37.502048</td>\n",
       "    </tr>\n",
       "    <tr>\n",
       "      <th>54</th>\n",
       "      <td>3.617298e+00</td>\n",
       "      <td>-4.216089e+00</td>\n",
       "      <td>7.874121e+00</td>\n",
       "      <td>1</td>\n",
       "      <td>18.669681</td>\n",
       "      <td>5.0</td>\n",
       "      <td>17.078073</td>\n",
       "      <td>36.083223</td>\n",
       "    </tr>\n",
       "    <tr>\n",
       "      <th>56</th>\n",
       "      <td>-1.554312e-15</td>\n",
       "      <td>6.106227e-16</td>\n",
       "      <td>-1.018205e+01</td>\n",
       "      <td>1</td>\n",
       "      <td>97.553434</td>\n",
       "      <td>8.0</td>\n",
       "      <td>35.959068</td>\n",
       "      <td>182.702784</td>\n",
       "    </tr>\n",
       "    <tr>\n",
       "      <th>57</th>\n",
       "      <td>-1.637579e-15</td>\n",
       "      <td>4.440892e-16</td>\n",
       "      <td>1.018205e+01</td>\n",
       "      <td>1</td>\n",
       "      <td>97.553434</td>\n",
       "      <td>8.0</td>\n",
       "      <td>35.959068</td>\n",
       "      <td>182.702784</td>\n",
       "    </tr>\n",
       "  </tbody>\n",
       "</table>\n",
       "</div>"
      ],
      "text/plain": [
       "                 x             y             z  is_alive       area  \\\n",
       "face                                                                  \n",
       "52    4.019221e+00 -4.019221e+00 -7.401487e-17         1  18.865118   \n",
       "53    5.251365e+00 -2.175186e+00  4.072821e+00         1  18.865118   \n",
       "54    3.617298e+00 -4.216089e+00  7.874121e+00         1  18.669681   \n",
       "56   -1.554312e-15  6.106227e-16 -1.018205e+01         1  97.553434   \n",
       "57   -1.637579e-15  4.440892e-16  1.018205e+01         1  97.553434   \n",
       "\n",
       "      num_sides  perimeter         vol  \n",
       "face                                    \n",
       "52          6.0  16.239088   37.502048  \n",
       "53          6.0  16.239088   37.502048  \n",
       "54          5.0  17.078073   36.083223  \n",
       "56          8.0  35.959068  182.702784  \n",
       "57          8.0  35.959068  182.702784  "
      ]
     },
     "execution_count": 59,
     "metadata": {},
     "output_type": "execute_result"
    }
   ],
   "source": [
    "sheet.face_df = sheet.face_df.loc[sheet.face_df.index.delete(55)]\n",
    "\n",
    "sheet.face_df.tail()"
   ]
  },
  {
   "cell_type": "code",
   "execution_count": 6,
   "metadata": {
    "collapsed": true
   },
   "outputs": [],
   "source": [
    "from tyssue.topology.sheet_topology import cell_division"
   ]
  },
  {
   "cell_type": "code",
   "execution_count": 7,
   "metadata": {
    "collapsed": false
   },
   "outputs": [
    {
     "data": {
      "text/plain": [
       "58"
      ]
     },
     "execution_count": 7,
     "metadata": {},
     "output_type": "execute_result"
    }
   ],
   "source": [
    "cell_division(sheet, left_face, geom)"
   ]
  },
  {
   "cell_type": "code",
   "execution_count": 14,
   "metadata": {
    "collapsed": false
   },
   "outputs": [],
   "source": [
    "geom.update_all(sheet)"
   ]
  },
  {
   "cell_type": "code",
   "execution_count": 9,
   "metadata": {
    "collapsed": false
   },
   "outputs": [
    {
     "data": {
      "text/plain": [
       "59"
      ]
     },
     "execution_count": 9,
     "metadata": {},
     "output_type": "execute_result"
    }
   ],
   "source": [
    "cell_division(sheet, right_face, geom)"
   ]
  },
  {
   "cell_type": "code",
   "execution_count": 13,
   "metadata": {
    "collapsed": true
   },
   "outputs": [],
   "source": [
    "sheet.reset_index()\n",
    "sheet.reset_topo()"
   ]
  },
  {
   "cell_type": "code",
   "execution_count": 17,
   "metadata": {
    "collapsed": false
   },
   "outputs": [
    {
     "data": {
      "text/plain": [
       "(<SceneCanvas (PyQt4) at 0x7f69f7f236d8>, <ViewBox at 0x7f69f6c1d6a0>)"
      ]
     },
     "execution_count": 17,
     "metadata": {},
     "output_type": "execute_result"
    }
   ],
   "source": [
    "vp_view(sheet, **draw_specs)"
   ]
  },
  {
   "cell_type": "code",
   "execution_count": 16,
   "metadata": {
    "collapsed": true
   },
   "outputs": [],
   "source": [
    "left_daughter = 59\n",
    "right_daughter = 58\n",
    "for face in [left_daughter, \n",
    "             right_daughter,\n",
    "             left_face,\n",
    "             right_face]:\n",
    "    \n",
    "    daughter = cell_division(sheet, face, geom)\n",
    "    sheet.reset_index()\n",
    "    sheet.reset_topo()\n",
    "    geom.update_all(sheet)"
   ]
  },
  {
   "cell_type": "code",
   "execution_count": 110,
   "metadata": {
    "collapsed": false
   },
   "outputs": [],
   "source": [
    "from tyssue.core.generation import extrude\n",
    "from tyssue.core.monolayer import Monolayer, MonolayerWithLamina\n",
    "from tyssue.geometry.bulk_geometry import BulkGeometry, MonoLayerGeometry\n",
    "from tyssue.dynamics.bulk_model import BulkModel, LaminaModel, set_model\n",
    "\n",
    "sheet.datasets['edge'] = sheet.datasets['edge'][['srce', 'trgt', 'face', 'cell']]\n",
    "sheet.datasets['vert'] = sheet.datasets['vert'][['x', 'y', 'z']]\n",
    "sheet.datasets['face'] = sheet.datasets['face'][['x', 'y', 'z']]\n",
    "\n",
    "datasets = extrude(sheet.datasets,scale=0.5)\n",
    "\n",
    "specs = config.geometry.bulk_spec()\n",
    "\n",
    "mono = Monolayer('ell', datasets, specs)\n",
    "mono.reset_index()\n",
    "mono.reset_topo()\n",
    "\n",
    "BulkGeometry\n",
    "\n",
    "# ## Settings for the quasi-static model\n",
    "# ### Apical layer\n",
    "apical_spec = {\n",
    "    'edge': {\n",
    "        'line_tension': 0.12,\n",
    "        'prefered_length': 0.0,\n",
    "        'length_eleasticity': 0.0},\n",
    "    'face': {\n",
    "        'contractility': 0.04,\n",
    "        'prefered_area': 0.5,\n",
    "        'area_elasticity': 1.0},\n",
    "    'cell': {\n",
    "        'prefered_vol': 1.0,\n",
    "        'vol_elasticity': 1.0},\n",
    "    'settings': {\n",
    "        'grad_norm_factor': 1.0,\n",
    "        'nrj_norm_factor': 1.0},}\n",
    "\n",
    "# ### Modifier for each segment of the stratum\n",
    "modifiers = {\n",
    "    'sagittal': {\n",
    "        'edge': {\n",
    "            'line_tension': 0.01},\n",
    "        'face': {\n",
    "            'contractility': 0.01,\n",
    "            'prefered_area': 0.2} # increase the sagittal prefered area to obtain anisotropic cells\n",
    "    },\n",
    "    'basal': {\n",
    "        'edge': {\n",
    "            'line_tension': 0.12},\n",
    "        'face': {\n",
    "            'contractility': 0.04,\n",
    "            'prefered_area': 0.5}},\n",
    "    }\n",
    "\n",
    "set_model(mono, BulkModel, apical_spec, modifiers)\n",
    "\n",
    "\n"
   ]
  },
  {
   "cell_type": "code",
   "execution_count": 112,
   "metadata": {
    "collapsed": false
   },
   "outputs": [
    {
     "data": {
      "text/plain": [
       "[<matplotlib.lines.Line2D at 0x7f69e62c3978>]"
      ]
     },
     "execution_count": 112,
     "metadata": {},
     "output_type": "execute_result"
    },
    {
     "data": {
      "image/png": "[encoded data removed]",
      "text/plain": [
       "<matplotlib.figure.Figure at 0x7f69e638de80>"
      ]
     },
     "metadata": {},
     "output_type": "display_data"
    }
   ],
   "source": [
    "energies = []\n",
    "deltas = np.linspace(0.06, 0.2)\n",
    "for delta in deltas:\n",
    "    BulkGeometry.scale(mono, delta,\n",
    "                       mono.coords)\n",
    "    BulkGeometry.update_all(mono)\n",
    "    energies.append(BulkModel.compute_energy(mono))\n",
    "    BulkGeometry.scale(mono, 1/delta,\n",
    "                       mono.coords)\n",
    "    BulkGeometry.update_all(mono)\n",
    "    \n",
    "\n",
    "fig, ax = plt.subplots()\n",
    "\n",
    "ax.plot(deltas, energies, 'o-')\n"
   ]
  },
  {
   "cell_type": "code",
   "execution_count": 113,
   "metadata": {
    "collapsed": true
   },
   "outputs": [],
   "source": [
    "delta = deltas[np.argmin(energies)]\n",
    "\n",
    "BulkGeometry.scale(mono, delta, mono.coords)\n",
    "BulkGeometry.update_all(mono)"
   ]
  },
  {
   "cell_type": "code",
   "execution_count": 104,
   "metadata": {
    "collapsed": false
   },
   "outputs": [
    {
     "name": "stdout",
     "output_type": "stream",
     "text": [
      "0.0192420740649 0.157153018188 0.283430044337\n"
     ]
    }
   ],
   "source": [
    "print(mono.face_df.loc[mono.apical_faces, 'area'].min(),\n",
    "      mono.face_df.loc[mono.basal_faces, 'area'].min(),\n",
    "      mono.face_df.loc[mono.sagittal_faces, 'area'].min())"
   ]
  },
  {
   "cell_type": "code",
   "execution_count": 100,
   "metadata": {
    "collapsed": true
   },
   "outputs": [],
   "source": [
    "from tyssue.solvers.sheet_vertex_solver import Solver\n"
   ]
  },
  {
   "cell_type": "code",
   "execution_count": 122,
   "metadata": {
    "collapsed": false,
    "scrolled": true
   },
   "outputs": [],
   "source": [
    "res = Solver.find_energy_min(mono, BulkGeometry, BulkModel)"
   ]
  },
  {
   "cell_type": "code",
   "execution_count": 123,
   "metadata": {
    "collapsed": false
   },
   "outputs": [
    {
     "data": {
      "text/plain": [
       "(<SceneCanvas (PyQt4) at 0x7f69e3c465c0>, <ViewBox at 0x7f69e3b69780>)"
      ]
     },
     "execution_count": 123,
     "metadata": {},
     "output_type": "execute_result"
    }
   ],
   "source": [
    "vp_view(mono)\n",
    "\n",
    "\n"
   ]
  },
  {
   "cell_type": "code",
   "execution_count": 116,
   "metadata": {
    "collapsed": true
   },
   "outputs": [],
   "source": [
    "from tyssue.io.hdf5 import save_datasets"
   ]
  },
  {
   "cell_type": "code",
   "execution_count": 124,
   "metadata": {
    "collapsed": true
   },
   "outputs": [],
   "source": [
    "save_datasets('small_ellipsoid.hf5', mono)"
   ]
  },
  {
   "cell_type": "code",
   "execution_count": 118,
   "metadata": {
    "collapsed": true
   },
   "outputs": [],
   "source": [
    "mono.face_df.loc[mono.basal_faces, 'prefered_area'] *= 0.8\n",
    "mono.face_df.loc[mono.sagittal_faces, 'prefered_area'] *= 0.4\n"
   ]
  },
  {
   "cell_type": "code",
   "execution_count": 126,
   "metadata": {
    "collapsed": false
   },
   "outputs": [
    {
     "name": "stderr",
     "output_type": "stream",
     "text": [
      "WARNING: Faces doesn't appear to be triangular,\n",
      "                be advised the file cannot be read back in vispy\n"
     ]
    }
   ],
   "source": [
    "from tyssue.io.obj import save_junction_mesh\n",
    "save_junction_mesh('ellipsoid.obj', mono)"
   ]
  },
  {
   "cell_type": "code",
   "execution_count": 127,
   "metadata": {
    "collapsed": false
   },
   "outputs": [
    {
     "data": {
      "text/plain": [
       "'/home/guillaume/Notebooks/tyssue'"
      ]
     },
     "execution_count": 127,
     "metadata": {},
     "output_type": "execute_result"
    }
   ],
   "source": []
  },
  {
   "cell_type": "code",
   "execution_count": null,
   "metadata": {
    "collapsed": true
   },
   "outputs": [],
   "source": []
  }
 ],
 "metadata": {
  "kernelspec": {
   "display_name": "Python 3",
   "language": "python",
   "name": "python3"
  },
  "language_info": {
   "codemirror_mode": {
    "name": "ipython",
    "version": 3
   },
   "file_extension": ".py",
   "mimetype": "text/x-python",
   "name": "python",
   "nbconvert_exporter": "python",
   "pygments_lexer": "ipython3",
   "version": "3.5.1"
  }
 },
 "nbformat": 4,
 "nbformat_minor": 0
}
