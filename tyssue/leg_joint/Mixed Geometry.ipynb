{
 "cells": [
  {
   "cell_type": "code",
   "execution_count": 1,
   "metadata": {
    "collapsed": true
   },
   "outputs": [],
   "source": [
    "import pandas as pd\n",
    "import numpy as np\n",
    "import json\n",
    "import matplotlib.pylab as plt\n",
    "%matplotlib inline\n",
    "from scipy import optimize\n",
    "\n",
    "from tyssue.core.sheet import Sheet\n",
    "from tyssue.config.json_parser import load_default\n",
    "\n",
    "from tyssue.geometry.sheet_geometry import SheetGeometry as geom\n",
    "from tyssue.dynamics.apoptosis_model import SheetApoptosisModel as model\n",
    "from tyssue.dynamics.sheet_vertex_model import SheetModel as basemodel\n",
    "from tyssue.solvers.sheet_vertex_solver import Solver as solver\n",
    "\n",
    "#from tyssue.dynamics.sheet_isotropic_model import isotropic_relax\n",
    "\n",
    "from tyssue.draw.vispy_draw import vp_view\n",
    "from tyssue.topology.sheet_topology import type1_transition, remove_face\n",
    "\n",
    "from tyssue.draw.mpl_draw import sheet_view\n",
    "import tyssue.draw.mpl_draw as draw\n",
    "from tyssue.stores import load_datasets"
   ]
  },
  {
   "cell_type": "code",
   "execution_count": 2,
   "metadata": {
    "collapsed": false
   },
   "outputs": [],
   "source": [
    "\n",
    "specs = {\n",
    "    'edge': {\n",
    "        'dx': 0.0, 'dy': 0.0, 'dz': 0.0,\n",
    "        'length': 0.0,\n",
    "        'nx': 0.0, 'ny': 0.0, 'nz': 1.0,\n",
    "        'srce': 0, 'trgt': 0, 'face': 0, 'cell': 0,\n",
    "        'is_apical': True,\n",
    "        'is_basal': False,\n",
    "        'sub_area': 0.0,\n",
    "        'line_tension': 0.14,\n",
    "        'basal_elasticity': 0.0,\n",
    "        },\n",
    "    'face': {\n",
    "        'area': 1.0,\n",
    "        'is_alive': True,\n",
    "        'num_sides': 6,\n",
    "        'perimeter': 1.0,\n",
    "        'x': 0.0, 'y': 0.0, 'z': 0.0,\n",
    "        'contractility': 0.0,\n",
    "        },\n",
    "    'cell': {\n",
    "        'vol': 1.0,\n",
    "        'vol_elasticity': 0.0, \n",
    "        'is_alive': True,\n",
    "        'num_sides': 6,\n",
    "        'perimeter': 1.0,\n",
    "        'x': 0.0, 'y': 0.0, 'z': 0.0,\n",
    "        },\n",
    "     'settings': {\n",
    "        'geometry': 'cylindrical',\n",
    "        'height_axis': 'z'\n",
    "        },\n",
    "     'vert': {\n",
    "        'is_active': True,\n",
    "        'is_basal': False,\n",
    "        'x': 0.0, 'y': 0.0, 'z': 0.0,\n",
    "        }\n",
    "    }\n",
    "\n",
    "\n"
   ]
  },
  {
   "cell_type": "code",
   "execution_count": 3,
   "metadata": {
    "collapsed": true
   },
   "outputs": [],
   "source": [
    "def get_opposites(edge_df):\n",
    "\n",
    "    st_indexed = edge_df[['srce', 'trgt']].reset_index().set_index(\n",
    "        ['srce', 'trgt'], drop=False)\n",
    "    flipped = st_indexed.index.swaplevel(0, 1)\n",
    "    flipped.names = ['srce', 'trgt']\n",
    "    opposite = st_indexed.loc[flipped, 'edge'].values\n",
    "    return opposite"
   ]
  },
  {
   "cell_type": "code",
   "execution_count": 16,
   "metadata": {
    "collapsed": false
   },
   "outputs": [],
   "source": [
    "h5store = 'small_hexagonal.hf5'\n",
    "datasets = load_datasets(h5store,\n",
    "                         data_names=['face', 'vert', 'edge'])\n",
    "\n",
    "\n",
    "coords = ['x', 'y', 'z']\n",
    "datasets['cell'] = pd.DataFrame(index=datasets['face'].index,\n",
    "                                columns=coords)\n",
    "datasets['cell'].index.name = 'cell'\n",
    "\n",
    "datasets['cell']['z'] = datasets['face']['z']\n",
    "\n",
    "theta = np.arctan2(datasets['face']['y'],\n",
    "                   datasets['face']['x'])\n",
    "\n",
    "rho = np.hypot(datasets['face']['y'],\n",
    "               datasets['face']['x'])\n",
    "\n",
    "datasets['cell']['x'] = 2*rho/3 * np.cos(theta)\n",
    "datasets['cell']['y'] = 2*rho/3 * np.sin(theta)\n",
    "\n",
    "n_verts = datasets['vert'].shape[0]\n",
    "\n",
    "basal_idx = pd.Index(np.arange(datasets['face'].shape[0])+n_verts,\n",
    "                     name='vert')\n",
    "basal_verts = pd.DataFrame(index=basal_idx, \n",
    "                           columns=datasets['vert'].columns)\n",
    "\n",
    "datasets['vert'] = pd.concat([datasets['vert'], basal_verts])\n",
    "datasets['vert'].loc[basal_idx, 'z'] = datasets['face']['z'].values\n",
    "datasets['vert'].loc[basal_idx, 'x'] = rho.values/3 * np.cos(theta.values)\n",
    "datasets['vert'].loc[basal_idx, 'y'] = rho.values/3 * np.sin(theta.values)\n",
    "datasets['vert'].loc[basal_idx, 'is_active'] = 1\n",
    "\n",
    "\n",
    "datasets['edge']['cell'] = datasets['edge']['face']\n",
    "datasets['edge']['is_basal'] = 0\n",
    "\n",
    "opposite = get_opposites(datasets['edge'])\n",
    "opp_face = datasets['edge'].loc[opposite, 'face'].values\n",
    "opp_cell = datasets['edge'].loc[opposite, 'cell'].values\n",
    "\n",
    "basal_edge_idx = pd.Index(\n",
    "    np.arange(datasets['edge'].shape[0]) +\n",
    "    datasets['edge'].index[-1], name='edge')\n",
    "\n",
    "basal_edges = pd.DataFrame(index=basal_edge_idx,\n",
    "                           columns=['srce', 'trgt', 'is_basal'])\n",
    "\n",
    "basal_edges['srce'] = datasets['edge']['cell'].values + n_verts\n",
    "basal_edges['trgt'] = opp_cell + n_verts\n",
    "\n",
    "datasets['edge'] = pd.concat([datasets['edge'], basal_edges])\n",
    "\n",
    "\n"
   ]
  },
  {
   "cell_type": "code",
   "execution_count": 17,
   "metadata": {
    "collapsed": false
   },
   "outputs": [],
   "source": [
    "from tyssue.core.objects import Epithelium\n"
   ]
  },
  {
   "cell_type": "code",
   "execution_count": 18,
   "metadata": {
    "collapsed": true
   },
   "outputs": [],
   "source": [
    "eptm = Epithelium('mixed', datasets, specs)"
   ]
  },
  {
   "cell_type": "code",
   "execution_count": 29,
   "metadata": {
    "collapsed": false
   },
   "outputs": [],
   "source": [
    "from tyssue.geometry.sheet_geometry import SheetGeometry\n",
    "\n",
    "class MixedGeometry(SheetGeometry):\n",
    "    \n",
    "    \n",
    "    @classmethod\n",
    "    def update_all(cls, eptm):\n",
    "        '''\n",
    "        Updates the epithelium geometry by updating:\n",
    "        * the edge vector coordinates\n",
    "        * the edge lengths\n",
    "        * the normals to each edge associated face\n",
    "        * the face areas\n",
    "        * the vertices heights (depends on geometry)\n",
    "        * the face volumes (depends on geometry)\n",
    "\n",
    "        '''\n",
    "        cls.update_dcoords(eptm)\n",
    "        cls.update_length(eptm)\n",
    "        cls.update_height(eptm)\n",
    "        cls.update_normals(eptm)\n",
    "        cls.update_areas(eptm)\n",
    "        cls.update_perimeters(eptm)\n",
    "        cls.update_vol(eptm)\n",
    "    \n",
    "    @staticmethod\n",
    "    def update_vol(eptm):\n",
    "        \n",
    "        face_pos = eptm.upcast_face(\n",
    "            eptm.face_df[eptm.coords])\n",
    "        cell_pos = eptm.upcast_cell(\n",
    "            eptm.cell_df[eptm.coords])\n",
    "        \n",
    "        eptm.edge_df['sub_vol'] = np.sum(\n",
    "            (face_pos - cell_pos) *\n",
    "            eptm.edge_df[eptm.ncoords].values, axis=1) / 6\n",
    "        eptm.edge_df['sub_vol'] = eptm.edge_df['sub_vol'] * (\n",
    "            1 - eptm.edge_df['is_basal'])\n",
    "        eptm.cell_df['vol'] = eptm.sum_cell(eptm.edge_df['sub_vol'])\n"
   ]
  },
  {
   "cell_type": "code",
   "execution_count": 30,
   "metadata": {
    "collapsed": false
   },
   "outputs": [],
   "source": [
    "MixedGeometry.update_all(eptm)"
   ]
  },
  {
   "cell_type": "code",
   "execution_count": null,
   "metadata": {
    "collapsed": true
   },
   "outputs": [],
   "source": [
    "\n",
    "class MixedModel(SheetModel):\n",
    "    \n",
    "    @staticmethod\n",
    "     def dimentionalize(mod_specs):\n",
    "        \"\"\"\n",
    "        Changes the values of the input gamma and lambda parameters\n",
    "        from the values of the prefered height and area.\n",
    "        Computes the norm factor.\n",
    "        \"\"\"\n",
    "\n",
    "        dim_mod_specs = deepcopy(mod_specs)\n",
    "\n",
    "        Kv = dim_mod_specs['face']['vol_elasticity']\n",
    "        A0 = dim_mod_specs['face']['prefered_area']\n",
    "        h0 = dim_mod_specs['face']['prefered_height']\n",
    "        gamma = dim_mod_specs['face']['contractility']\n",
    "\n",
    "        dim_mod_specs['face']['contractility'] = gamma * Kv* A0 * h0**2\n",
    "         dim_mod_specs['face']['prefered_vol'] = A0 * h0\n",
    "\n",
    "        \n",
    "        lbda = dim_mod_specs['edge']['line_tension']\n",
    "        dim_mod_specs['edge']['line_tension'] = lbda * Kv * A0**1.5 * h0**2\n",
    "\n",
    "        dim_mod_specs['settings']['grad_norm_factor'] = Kv * A0**1.5 * h0**2\n",
    "        dim_mod_specs['settings']['nrj_norm_factor'] = Kv * (A0*h0)**2\n",
    "\n",
    "        return dim_mod_specs\n",
    "    "
   ]
  },
  {
   "cell_type": "code",
   "execution_count": 24,
   "metadata": {
    "collapsed": false
   },
   "outputs": [
    {
     "data": {
      "text/plain": [
       "{'edge': {'dx': 0.0,\n",
       "  'dy': 0.0,\n",
       "  'dz': 0.0,\n",
       "  'face': 0,\n",
       "  'length': 0.0,\n",
       "  'nx': 0.0,\n",
       "  'ny': 0.0,\n",
       "  'nz': 1.0,\n",
       "  'srce': 0,\n",
       "  'trgt': 0},\n",
       " 'face': {'area': 1.0,\n",
       "  'is_alive': True,\n",
       "  'num_sides': 6,\n",
       "  'perimeter': 1.0,\n",
       "  'x': 0.0,\n",
       "  'y': 0.0,\n",
       "  'z': 0.0},\n",
       " 'settings': {'geometry': 'cylindrical', 'height_axis': 'z'},\n",
       " 'vert': {'basal_shift': 4.0,\n",
       "  'is_active': True,\n",
       "  'rho': 0.0,\n",
       "  'x': 0.0,\n",
       "  'y': 0.0,\n",
       "  'z': 0.0}}"
      ]
     },
     "execution_count": 24,
     "metadata": {},
     "output_type": "execute_result"
    }
   ],
   "source": [
    "sheet_specs"
   ]
  },
  {
   "cell_type": "code",
   "execution_count": null,
   "metadata": {
    "collapsed": true
   },
   "outputs": [],
   "source": []
  }
 ],
 "metadata": {
  "kernelspec": {
   "display_name": "Python 3",
   "language": "python",
   "name": "python3"
  },
  "language_info": {
   "codemirror_mode": {
    "name": "ipython",
    "version": 3
   },
   "file_extension": ".py",
   "mimetype": "text/x-python",
   "name": "python",
   "nbconvert_exporter": "python",
   "pygments_lexer": "ipython3",
   "version": "3.5.1"
  }
 },
 "nbformat": 4,
 "nbformat_minor": 0
}
