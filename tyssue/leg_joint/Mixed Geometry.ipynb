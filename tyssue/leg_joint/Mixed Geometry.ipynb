{
 "cells": [
  {
   "cell_type": "code",
   "execution_count": 11,
   "metadata": {
    "collapsed": true
   },
   "outputs": [],
   "source": [
    "import matplotlib.pyplot as plt\n",
    "%matplotlib inline"
   ]
  },
  {
   "cell_type": "code",
   "execution_count": 18,
   "metadata": {
    "collapsed": true
   },
   "outputs": [],
   "source": [
    "import pandas as pd\n",
    "import numpy as np\n",
    "import json\n",
    "import matplotlib.pylab as plt\n",
    "%matplotlib inline\n",
    "from scipy import optimize\n",
    "\n",
    "from tyssue.core.sheet import Sheet\n",
    "from tyssue.config.json_parser import load_default\n",
    "\n",
    "from tyssue.geometry.sheet_geometry import SheetGeometry as geom\n",
    "from tyssue.dynamics.apoptosis_model import SheetApoptosisModel as model\n",
    "from tyssue.dynamics.sheet_vertex_model import SheetModel as basemodel\n",
    "from tyssue.solvers.sheet_vertex_solver import Solver as solver\n",
    "\n",
    "#from tyssue.dynamics.sheet_isotropic_model import isotropic_relax\n",
    "\n",
    "from tyssue.draw.vispy_draw import vp_view\n",
    "from tyssue.topology.sheet_topology import type1_transition, remove_face\n",
    "\n",
    "from tyssue.draw.mpl_draw import sheet_view\n",
    "import tyssue.draw.mpl_draw as draw\n",
    "from tyssue.stores import load_datasets"
   ]
  },
  {
   "cell_type": "code",
   "execution_count": 23,
   "metadata": {
    "collapsed": false
   },
   "outputs": [],
   "source": [
    "h5store = 'small_hexagonal.hf5'\n",
    "datasets = load_datasets(h5store,\n",
    "                         data_names=['face', 'vert', 'edge'])\n",
    "\n",
    "\n",
    "specs = {\n",
    "    'edge': {\n",
    "        'cell': 0,\n",
    "        'dx': 0.0,\n",
    "        'dy': 0.0,\n",
    "        'dz': 0.0,\n",
    "        'face': 0,\n",
    "        'length': 0.0,\n",
    "        'nx': 0.0,\n",
    "        'ny': 0.0,\n",
    "        'nz': 1.0,\n",
    "        'srce': 0,\n",
    "        'trgt': 0,\n",
    "        'is_apical': True,\n",
    "        'is_sagital': False,\n",
    "        'is_basal': False,\n",
    "        'sub_area': 0.0,\n",
    "        },\n",
    "    'face': {\n",
    "        'area': 1.0,\n",
    "        'is_alive': True,\n",
    "        'num_sides': 6,\n",
    "        'perimeter': 1.0,\n",
    "        'x': 0.0,\n",
    "        'y': 0.0,\n",
    "        'z': 0.0,\n",
    "        },\n",
    "    'cell': {\n",
    "        'vol': 1.0,\n",
    "        'is_alive': True,\n",
    "        'num_sides': 6,\n",
    "        'perimeter': 1.0,\n",
    "        'x': 0.0,\n",
    "        'y': 0.0,\n",
    "        'z': 0.0,\n",
    "        },\n",
    "     'settings': {\n",
    "        'geometry': 'cylindrical',\n",
    "        'height_axis': 'z'\n",
    "        },\n",
    "     'vert': {\n",
    "        'basal_shift': 4.0,\n",
    "        'is_active': True,\n",
    "        'is_basal': False,\n",
    "        'rho': 0.0,\n",
    "        'x': 0.0,\n",
    "        'y': 0.0,\n",
    "        'z': 0.0\n",
    "        }\n",
    "    }\n",
    "\n",
    "\n"
   ]
  },
  {
   "cell_type": "code",
   "execution_count": 24,
   "metadata": {
    "collapsed": false
   },
   "outputs": [
    {
     "data": {
      "text/plain": [
       "{'edge': {'dx': 0.0,\n",
       "  'dy': 0.0,\n",
       "  'dz': 0.0,\n",
       "  'face': 0,\n",
       "  'length': 0.0,\n",
       "  'nx': 0.0,\n",
       "  'ny': 0.0,\n",
       "  'nz': 1.0,\n",
       "  'srce': 0,\n",
       "  'trgt': 0},\n",
       " 'face': {'area': 1.0,\n",
       "  'is_alive': True,\n",
       "  'num_sides': 6,\n",
       "  'perimeter': 1.0,\n",
       "  'x': 0.0,\n",
       "  'y': 0.0,\n",
       "  'z': 0.0},\n",
       " 'settings': {'geometry': 'cylindrical', 'height_axis': 'z'},\n",
       " 'vert': {'basal_shift': 4.0,\n",
       "  'is_active': True,\n",
       "  'rho': 0.0,\n",
       "  'x': 0.0,\n",
       "  'y': 0.0,\n",
       "  'z': 0.0}}"
      ]
     },
     "execution_count": 24,
     "metadata": {},
     "output_type": "execute_result"
    }
   ],
   "source": [
    "sheet_specs"
   ]
  },
  {
   "cell_type": "code",
   "execution_count": null,
   "metadata": {
    "collapsed": true
   },
   "outputs": [],
   "source": []
  }
 ],
 "metadata": {
  "kernelspec": {
   "display_name": "Python 3",
   "language": "python",
   "name": "python3"
  },
  "language_info": {
   "codemirror_mode": {
    "name": "ipython",
    "version": 3
   },
   "file_extension": ".py",
   "mimetype": "text/x-python",
   "name": "python",
   "nbconvert_exporter": "python",
   "pygments_lexer": "ipython3",
   "version": "3.5.1"
  }
 },
 "nbformat": 4,
 "nbformat_minor": 0
}
