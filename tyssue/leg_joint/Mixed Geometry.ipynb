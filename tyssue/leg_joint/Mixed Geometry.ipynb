{
 "cells": [
  {
   "cell_type": "code",
   "execution_count": 1,
   "metadata": {
    "collapsed": true
   },
   "outputs": [],
   "source": [
    "import pandas as pd\n",
    "import numpy as np\n",
    "import json\n",
    "import matplotlib.pylab as plt\n",
    "%matplotlib inline\n",
    "from scipy import optimize\n",
    "\n",
    "from tyssue.core.sheet import Sheet\n",
    "from tyssue.config.json_parser import load_default\n",
    "\n",
    "from tyssue.geometry.sheet_geometry import SheetGeometry as geom\n",
    "from tyssue.dynamics.apoptosis_model import SheetApoptosisModel as model\n",
    "from tyssue.dynamics.sheet_vertex_model import SheetModel as basemodel\n",
    "from tyssue.solvers.sheet_vertex_solver import Solver as solver\n",
    "\n",
    "#from tyssue.dynamics.sheet_isotropic_model import isotropic_relax\n",
    "\n",
    "from tyssue.draw.vispy_draw import vp_view\n",
    "from tyssue.topology.sheet_topology import type1_transition, remove_face\n",
    "\n",
    "from tyssue.draw.mpl_draw import sheet_view\n",
    "import tyssue.draw.mpl_draw as draw\n",
    "from tyssue.stores import load_datasets"
   ]
  },
  {
   "cell_type": "code",
   "execution_count": 2,
   "metadata": {
    "collapsed": false
   },
   "outputs": [],
   "source": [
    "\n",
    "specs = {\n",
    "    'edge': {\n",
    "        'dx': 0.0, 'dy': 0.0, 'dz': 0.0,\n",
    "        'length': 0.0,\n",
    "        'nx': 0.0, 'ny': 0.0, 'nz': 1.0,\n",
    "        'srce': 0, 'trgt': 0, 'face': 0, 'cell': 0,\n",
    "        'is_apical': True,\n",
    "        'is_basal': False,\n",
    "        'sub_area': 0.0,\n",
    "        'line_tension': 0.14,\n",
    "        'basal_elasticity': 0.0,\n",
    "        },\n",
    "    'face': {\n",
    "        'area': 1.0,\n",
    "        'is_alive': True,\n",
    "        'num_sides': 6,\n",
    "        'perimeter': 1.0,\n",
    "        'x': 0.0, 'y': 0.0, 'z': 0.0,\n",
    "        'contractility': 0.0,\n",
    "        },\n",
    "    'cell': {\n",
    "        'vol': 1.0,\n",
    "        'vol_elasticity': 0.0, \n",
    "        'is_alive': True,\n",
    "        'num_sides': 6,\n",
    "        'perimeter': 1.0,\n",
    "        'x': 0.0, 'y': 0.0, 'z': 0.0,\n",
    "        },\n",
    "     'settings': {\n",
    "        'geometry': 'cylindrical',\n",
    "        'height_axis': 'z'\n",
    "        },\n",
    "     'vert': {\n",
    "        'is_active': True,\n",
    "        'is_basal': False,\n",
    "        'x': 0.0, 'y': 0.0, 'z': 0.0,\n",
    "        }\n",
    "    }\n",
    "\n",
    "\n"
   ]
  },
  {
   "cell_type": "code",
   "execution_count": 12,
   "metadata": {
    "collapsed": false
   },
   "outputs": [],
   "source": [
    "h5store = 'small_hexagonal.hf5'\n",
    "datasets = load_datasets(h5store,\n",
    "                         data_names=['face', 'vert', 'edge'])\n",
    "\n",
    "\n",
    "coords = ['x', 'y', 'z']\n",
    "datasets['cell'] = pd.DataFrame(index=datasets['face'].index,\n",
    "                                columns=coords)\n",
    "datasets['cell'].index.name = 'cell'\n",
    "\n",
    "datasets['cell']['z'] = datasets['face']['z']\n",
    "\n",
    "theta = np.arctan2(datasets['face']['y'],\n",
    "                   datasets['face']['x'])\n",
    "\n",
    "rho = np.hypot(datasets['face']['y'],\n",
    "               datasets['face']['x'])\n",
    "\n",
    "datasets['cell']['x'] = 2*rho/3 * np.cos(theta)\n",
    "datasets['cell']['y'] = 2*rho/3 * np.sin(theta)\n",
    "\n",
    "basal_idx = pd.Index(np.arange(datasets['face'].shape[0])+96,\n",
    "                     name='vert')\n",
    "basal_verts = pd.DataFrame(index=basal_idx, \n",
    "                           columns=datasets['vert'].columns)\n",
    "\n",
    "datasets['vert'] = pd.concat([datasets['vert'], basal_verts])\n",
    "datasets['vert'].loc[basal_idx, 'z'] = datasets['face']['z'].values\n",
    "datasets['vert'].loc[basal_idx, 'x'] = rho.values/3 * np.cos(theta.values)\n",
    "datasets['vert'].loc[basal_idx, 'y'] = rho.values/3 * np.sin(theta.values)\n",
    "datasets['vert'].loc[basal_idx, 'is_active'] = 1\n",
    "\n",
    "\n",
    "datasets['edge']['cell'] = datasets['edge']['face']\n"
   ]
  },
  {
   "cell_type": "code",
   "execution_count": null,
   "metadata": {
    "collapsed": true
   },
   "outputs": [],
   "source": []
  },
  {
   "cell_type": "code",
   "execution_count": 104,
   "metadata": {
    "collapsed": false
   },
   "outputs": [],
   "source": [
    "st_indexed = edge_df[['srce', 'trgt']].reset_index().set_index(['srce', 'trgt'], drop=False)\n",
    "flipped = st_indexed.index.swaplevel(0, 1)\n",
    "flipped.names = ['srce', 'trgt']\n",
    "\n",
    "opposite = st_indexed.loc[flipped, 'edge'].values\n",
    "edge_df['opposite'] = opposite\n",
    "edge_df['opp_face'] = edge_df.loc[opposite, 'face'].values\n",
    "edge_df['opp_cell'] = edge_df.loc[opposite, 'cell'].values\n",
    "\n"
   ]
  },
  {
   "cell_type": "code",
   "execution_count": 105,
   "metadata": {
    "collapsed": false
   },
   "outputs": [],
   "source": [
    "basal_edge_idx = pd.Index(\n",
    "    np.arange(edge_df.shape[0]) +\n",
    "    edge_df.index[-1], name='edge')\n",
    "\n",
    "basal_edges = pd.DataFrame(index=basal_edge_idx,\n",
    "                           columns=['srce', 'trgt', 'is_basal'])\n",
    "\n",
    "basal_edges['srce'] = edge_df['cell'].values\n",
    "basal_edges['trgt'] = edge_df['opp_cell'].values\n",
    "\n"
   ]
  },
  {
   "cell_type": "code",
   "execution_count": 106,
   "metadata": {
    "collapsed": false
   },
   "outputs": [
    {
     "data": {
      "text/html": [
       "<div>\n",
       "<table border=\"1\" class=\"dataframe\">\n",
       "  <thead>\n",
       "    <tr style=\"text-align: right;\">\n",
       "      <th></th>\n",
       "      <th>srce</th>\n",
       "      <th>trgt</th>\n",
       "    </tr>\n",
       "    <tr>\n",
       "      <th>edge</th>\n",
       "      <th></th>\n",
       "      <th></th>\n",
       "    </tr>\n",
       "  </thead>\n",
       "  <tbody>\n",
       "    <tr>\n",
       "      <th>538</th>\n",
       "      <td>54</td>\n",
       "      <td>46</td>\n",
       "    </tr>\n",
       "    <tr>\n",
       "      <th>539</th>\n",
       "      <td>54</td>\n",
       "      <td>47</td>\n",
       "    </tr>\n",
       "    <tr>\n",
       "      <th>540</th>\n",
       "      <td>54</td>\n",
       "      <td>48</td>\n",
       "    </tr>\n",
       "    <tr>\n",
       "      <th>541</th>\n",
       "      <td>55</td>\n",
       "      <td>5</td>\n",
       "    </tr>\n",
       "    <tr>\n",
       "      <th>542</th>\n",
       "      <td>55</td>\n",
       "      <td>54</td>\n",
       "    </tr>\n",
       "  </tbody>\n",
       "</table>\n",
       "</div>"
      ],
      "text/plain": [
       "      srce  trgt\n",
       "edge            \n",
       "538     54    46\n",
       "539     54    47\n",
       "540     54    48\n",
       "541     55     5\n",
       "542     55    54"
      ]
     },
     "execution_count": 106,
     "metadata": {},
     "output_type": "execute_result"
    }
   ],
   "source": [
    "edge_df['is_basal'] = 0\n",
    "pd.concat([edge_df, basal_edges])[['srce', 'trgt']].tail()"
   ]
  },
  {
   "cell_type": "code",
   "execution_count": 95,
   "metadata": {
    "collapsed": false
   },
   "outputs": [
    {
     "data": {
      "text/plain": [
       "271"
      ]
     },
     "execution_count": 95,
     "metadata": {},
     "output_type": "execute_result"
    }
   ],
   "source": []
  },
  {
   "cell_type": "code",
   "execution_count": 92,
   "metadata": {
    "collapsed": false
   },
   "outputs": [],
   "source": [
    "basal_edges = pd.DataFrame"
   ]
  },
  {
   "cell_type": "code",
   "execution_count": 6,
   "metadata": {
    "collapsed": false
   },
   "outputs": [
    {
     "data": {
      "text/html": [
       "<div>\n",
       "<table border=\"1\" class=\"dataframe\">\n",
       "  <thead>\n",
       "    <tr style=\"text-align: right;\">\n",
       "      <th></th>\n",
       "      <th>y</th>\n",
       "      <th>is_active</th>\n",
       "      <th>z</th>\n",
       "      <th>x</th>\n",
       "      <th>rho</th>\n",
       "      <th>old_idx</th>\n",
       "      <th>basal_shift</th>\n",
       "      <th>height</th>\n",
       "      <th>radial_tension</th>\n",
       "    </tr>\n",
       "    <tr>\n",
       "      <th>vert</th>\n",
       "      <th></th>\n",
       "      <th></th>\n",
       "      <th></th>\n",
       "      <th></th>\n",
       "      <th></th>\n",
       "      <th></th>\n",
       "      <th></th>\n",
       "      <th></th>\n",
       "      <th></th>\n",
       "    </tr>\n",
       "  </thead>\n",
       "  <tbody>\n",
       "    <tr>\n",
       "      <th>147</th>\n",
       "      <td>-0.725062</td>\n",
       "      <td>1.0</td>\n",
       "      <td>-4.072821e+00</td>\n",
       "      <td>1.750455</td>\n",
       "      <td>NaN</td>\n",
       "      <td>NaN</td>\n",
       "      <td>NaN</td>\n",
       "      <td>NaN</td>\n",
       "      <td>NaN</td>\n",
       "    </tr>\n",
       "    <tr>\n",
       "      <th>148</th>\n",
       "      <td>-1.339740</td>\n",
       "      <td>1.0</td>\n",
       "      <td>-7.401487e-17</td>\n",
       "      <td>1.339740</td>\n",
       "      <td>NaN</td>\n",
       "      <td>NaN</td>\n",
       "      <td>NaN</td>\n",
       "      <td>NaN</td>\n",
       "      <td>NaN</td>\n",
       "    </tr>\n",
       "    <tr>\n",
       "      <th>149</th>\n",
       "      <td>-0.725062</td>\n",
       "      <td>1.0</td>\n",
       "      <td>4.072821e+00</td>\n",
       "      <td>1.750455</td>\n",
       "      <td>NaN</td>\n",
       "      <td>NaN</td>\n",
       "      <td>NaN</td>\n",
       "      <td>NaN</td>\n",
       "      <td>NaN</td>\n",
       "    </tr>\n",
       "    <tr>\n",
       "      <th>150</th>\n",
       "      <td>-1.339740</td>\n",
       "      <td>1.0</td>\n",
       "      <td>8.145643e+00</td>\n",
       "      <td>1.339740</td>\n",
       "      <td>NaN</td>\n",
       "      <td>NaN</td>\n",
       "      <td>NaN</td>\n",
       "      <td>NaN</td>\n",
       "      <td>NaN</td>\n",
       "    </tr>\n",
       "    <tr>\n",
       "      <th>151</th>\n",
       "      <td>-1.087593</td>\n",
       "      <td>1.0</td>\n",
       "      <td>1.018205e+01</td>\n",
       "      <td>1.627698</td>\n",
       "      <td>NaN</td>\n",
       "      <td>NaN</td>\n",
       "      <td>NaN</td>\n",
       "      <td>NaN</td>\n",
       "      <td>NaN</td>\n",
       "    </tr>\n",
       "  </tbody>\n",
       "</table>\n",
       "</div>"
      ],
      "text/plain": [
       "             y  is_active             z         x  rho  old_idx  basal_shift  \\\n",
       "vert                                                                           \n",
       "147  -0.725062        1.0 -4.072821e+00  1.750455  NaN      NaN          NaN   \n",
       "148  -1.339740        1.0 -7.401487e-17  1.339740  NaN      NaN          NaN   \n",
       "149  -0.725062        1.0  4.072821e+00  1.750455  NaN      NaN          NaN   \n",
       "150  -1.339740        1.0  8.145643e+00  1.339740  NaN      NaN          NaN   \n",
       "151  -1.087593        1.0  1.018205e+01  1.627698  NaN      NaN          NaN   \n",
       "\n",
       "      height  radial_tension  \n",
       "vert                          \n",
       "147      NaN             NaN  \n",
       "148      NaN             NaN  \n",
       "149      NaN             NaN  \n",
       "150      NaN             NaN  \n",
       "151      NaN             NaN  "
      ]
     },
     "execution_count": 6,
     "metadata": {},
     "output_type": "execute_result"
    }
   ],
   "source": [
    "datasets['vert'].tail()"
   ]
  },
  {
   "cell_type": "code",
   "execution_count": 7,
   "metadata": {
    "collapsed": false
   },
   "outputs": [
    {
     "data": {
      "text/html": [
       "<div>\n",
       "<table border=\"1\" class=\"dataframe\">\n",
       "  <thead>\n",
       "    <tr style=\"text-align: right;\">\n",
       "      <th></th>\n",
       "      <th>x</th>\n",
       "      <th>y</th>\n",
       "      <th>z</th>\n",
       "    </tr>\n",
       "    <tr>\n",
       "      <th>cell</th>\n",
       "      <th></th>\n",
       "      <th></th>\n",
       "      <th></th>\n",
       "    </tr>\n",
       "  </thead>\n",
       "  <tbody>\n",
       "    <tr>\n",
       "      <th>0</th>\n",
       "      <td>3.255397</td>\n",
       "      <td>2.175186e+00</td>\n",
       "      <td>-1.018205e+01</td>\n",
       "    </tr>\n",
       "    <tr>\n",
       "      <th>1</th>\n",
       "      <td>3.789357</td>\n",
       "      <td>4.934325e-16</td>\n",
       "      <td>-8.145643e+00</td>\n",
       "    </tr>\n",
       "    <tr>\n",
       "      <th>2</th>\n",
       "      <td>3.500910</td>\n",
       "      <td>1.450124e+00</td>\n",
       "      <td>-4.072821e+00</td>\n",
       "    </tr>\n",
       "    <tr>\n",
       "      <th>3</th>\n",
       "      <td>3.789357</td>\n",
       "      <td>4.934325e-16</td>\n",
       "      <td>-7.401487e-17</td>\n",
       "    </tr>\n",
       "    <tr>\n",
       "      <th>4</th>\n",
       "      <td>3.500910</td>\n",
       "      <td>1.450124e+00</td>\n",
       "      <td>4.072821e+00</td>\n",
       "    </tr>\n",
       "  </tbody>\n",
       "</table>\n",
       "</div>"
      ],
      "text/plain": [
       "             x             y             z\n",
       "cell                                      \n",
       "0     3.255397  2.175186e+00 -1.018205e+01\n",
       "1     3.789357  4.934325e-16 -8.145643e+00\n",
       "2     3.500910  1.450124e+00 -4.072821e+00\n",
       "3     3.789357  4.934325e-16 -7.401487e-17\n",
       "4     3.500910  1.450124e+00  4.072821e+00"
      ]
     },
     "execution_count": 7,
     "metadata": {},
     "output_type": "execute_result"
    }
   ],
   "source": [
    "datasets['cell'].head()"
   ]
  },
  {
   "cell_type": "code",
   "execution_count": null,
   "metadata": {
    "collapsed": true
   },
   "outputs": [],
   "source": [
    "class MixedGeometry(SheetGeometry):\n",
    "        \n",
    "    @saticmethod\n",
    "    def update_vol(eptm):\n",
    "        \n",
    "        face_pos = eptm.upcast_face(eptm.face_df[eptm.coords])\n",
    "        cell_pos = eptm.upcast_cell(eptm.cell_df[eptm.coords])\n",
    "\n",
    "        eptm.edge_df['sub_vol'] = np.sum(\n",
    "            (face_pos - cell_pos) *\n",
    "            eptm.edge_df[eptm.ncoords].values, axis=1) / 6\n",
    "\n",
    "        eptm.cell_df['vol'] = eptm.sum_cell(eptm.edge_df['sub_vol'])\n"
   ]
  },
  {
   "cell_type": "code",
   "execution_count": 4,
   "metadata": {
    "collapsed": false
   },
   "outputs": [
    {
     "data": {
      "text/html": [
       "<div>\n",
       "<table border=\"1\" class=\"dataframe\">\n",
       "  <thead>\n",
       "    <tr style=\"text-align: right;\">\n",
       "      <th></th>\n",
       "      <th>dz</th>\n",
       "      <th>length</th>\n",
       "      <th>dx</th>\n",
       "      <th>dy</th>\n",
       "      <th>srce</th>\n",
       "      <th>trgt</th>\n",
       "      <th>face</th>\n",
       "      <th>old_jv0</th>\n",
       "      <th>old_jv1</th>\n",
       "      <th>old_cell</th>\n",
       "      <th>nz</th>\n",
       "      <th>nx</th>\n",
       "      <th>ny</th>\n",
       "      <th>sub_area</th>\n",
       "      <th>sub_vol</th>\n",
       "      <th>line_tension</th>\n",
       "      <th>is_alive</th>\n",
       "    </tr>\n",
       "    <tr>\n",
       "      <th>edge</th>\n",
       "      <th></th>\n",
       "      <th></th>\n",
       "      <th></th>\n",
       "      <th></th>\n",
       "      <th></th>\n",
       "      <th></th>\n",
       "      <th></th>\n",
       "      <th></th>\n",
       "      <th></th>\n",
       "      <th></th>\n",
       "      <th></th>\n",
       "      <th></th>\n",
       "      <th></th>\n",
       "      <th></th>\n",
       "      <th></th>\n",
       "      <th></th>\n",
       "      <th></th>\n",
       "    </tr>\n",
       "  </thead>\n",
       "  <tbody>\n",
       "    <tr>\n",
       "      <th>0</th>\n",
       "      <td>-1.357607</td>\n",
       "      <td>2.702165</td>\n",
       "      <td>0.455802</td>\n",
       "      <td>-2.291472</td>\n",
       "      <td>1</td>\n",
       "      <td>0</td>\n",
       "      <td>0</td>\n",
       "      <td>56</td>\n",
       "      <td>57</td>\n",
       "      <td>0</td>\n",
       "      <td>-1.044458e+00</td>\n",
       "      <td>2.874114</td>\n",
       "      <td>1.190497e+00</td>\n",
       "      <td>1.640785e+00</td>\n",
       "      <td>1.454708e+01</td>\n",
       "      <td>1410.906092</td>\n",
       "      <td>0</td>\n",
       "    </tr>\n",
       "    <tr>\n",
       "      <th>1</th>\n",
       "      <td>1.357607</td>\n",
       "      <td>2.702165</td>\n",
       "      <td>1.298014</td>\n",
       "      <td>-1.942616</td>\n",
       "      <td>2</td>\n",
       "      <td>1</td>\n",
       "      <td>0</td>\n",
       "      <td>57</td>\n",
       "      <td>58</td>\n",
       "      <td>0</td>\n",
       "      <td>-6.661338e-16</td>\n",
       "      <td>0.000000</td>\n",
       "      <td>-6.661338e-16</td>\n",
       "      <td>4.710277e-16</td>\n",
       "      <td>4.176097e-15</td>\n",
       "      <td>1410.906092</td>\n",
       "      <td>0</td>\n",
       "    </tr>\n",
       "    <tr>\n",
       "      <th>2</th>\n",
       "      <td>1.357607</td>\n",
       "      <td>2.702165</td>\n",
       "      <td>-0.455802</td>\n",
       "      <td>2.291472</td>\n",
       "      <td>0</td>\n",
       "      <td>1</td>\n",
       "      <td>1</td>\n",
       "      <td>56</td>\n",
       "      <td>57</td>\n",
       "      <td>1</td>\n",
       "      <td>6.963050e-01</td>\n",
       "      <td>6.221837</td>\n",
       "      <td>8.250668e-01</td>\n",
       "      <td>3.157405e+00</td>\n",
       "      <td>2.799332e+01</td>\n",
       "      <td>1410.906092</td>\n",
       "      <td>1</td>\n",
       "    </tr>\n",
       "    <tr>\n",
       "      <th>3</th>\n",
       "      <td>-1.357607</td>\n",
       "      <td>2.702165</td>\n",
       "      <td>0.455802</td>\n",
       "      <td>2.291472</td>\n",
       "      <td>3</td>\n",
       "      <td>0</td>\n",
       "      <td>1</td>\n",
       "      <td>56</td>\n",
       "      <td>59</td>\n",
       "      <td>1</td>\n",
       "      <td>6.963050e-01</td>\n",
       "      <td>6.221837</td>\n",
       "      <td>-8.250668e-01</td>\n",
       "      <td>3.157405e+00</td>\n",
       "      <td>2.799332e+01</td>\n",
       "      <td>1410.906092</td>\n",
       "      <td>1</td>\n",
       "    </tr>\n",
       "    <tr>\n",
       "      <th>4</th>\n",
       "      <td>2.715214</td>\n",
       "      <td>2.715214</td>\n",
       "      <td>0.000000</td>\n",
       "      <td>0.000000</td>\n",
       "      <td>1</td>\n",
       "      <td>6</td>\n",
       "      <td>1</td>\n",
       "      <td>57</td>\n",
       "      <td>62</td>\n",
       "      <td>1</td>\n",
       "      <td>-0.000000e+00</td>\n",
       "      <td>6.221837</td>\n",
       "      <td>4.125334e-01</td>\n",
       "      <td>3.117749e+00</td>\n",
       "      <td>2.764173e+01</td>\n",
       "      <td>1410.906092</td>\n",
       "      <td>1</td>\n",
       "    </tr>\n",
       "  </tbody>\n",
       "</table>\n",
       "</div>"
      ],
      "text/plain": [
       "            dz    length        dx        dy  srce  trgt  face  old_jv0  \\\n",
       "edge                                                                      \n",
       "0    -1.357607  2.702165  0.455802 -2.291472     1     0     0       56   \n",
       "1     1.357607  2.702165  1.298014 -1.942616     2     1     0       57   \n",
       "2     1.357607  2.702165 -0.455802  2.291472     0     1     1       56   \n",
       "3    -1.357607  2.702165  0.455802  2.291472     3     0     1       56   \n",
       "4     2.715214  2.715214  0.000000  0.000000     1     6     1       57   \n",
       "\n",
       "      old_jv1  old_cell            nz        nx            ny      sub_area  \\\n",
       "edge                                                                          \n",
       "0          57         0 -1.044458e+00  2.874114  1.190497e+00  1.640785e+00   \n",
       "1          58         0 -6.661338e-16  0.000000 -6.661338e-16  4.710277e-16   \n",
       "2          57         1  6.963050e-01  6.221837  8.250668e-01  3.157405e+00   \n",
       "3          59         1  6.963050e-01  6.221837 -8.250668e-01  3.157405e+00   \n",
       "4          62         1 -0.000000e+00  6.221837  4.125334e-01  3.117749e+00   \n",
       "\n",
       "           sub_vol  line_tension  is_alive  \n",
       "edge                                        \n",
       "0     1.454708e+01   1410.906092         0  \n",
       "1     4.176097e-15   1410.906092         0  \n",
       "2     2.799332e+01   1410.906092         1  \n",
       "3     2.799332e+01   1410.906092         1  \n",
       "4     2.764173e+01   1410.906092         1  "
      ]
     },
     "execution_count": 4,
     "metadata": {},
     "output_type": "execute_result"
    }
   ],
   "source": [
    "datasets['edge']['cell'] = datasets['edge']['face']\n"
   ]
  },
  {
   "cell_type": "code",
   "execution_count": null,
   "metadata": {
    "collapsed": true
   },
   "outputs": [],
   "source": []
  },
  {
   "cell_type": "code",
   "execution_count": null,
   "metadata": {
    "collapsed": true
   },
   "outputs": [],
   "source": [
    "class MixedModel(SheetModel):\n",
    "    \n",
    "    \n",
    "    "
   ]
  },
  {
   "cell_type": "code",
   "execution_count": 24,
   "metadata": {
    "collapsed": false
   },
   "outputs": [
    {
     "data": {
      "text/plain": [
       "{'edge': {'dx': 0.0,\n",
       "  'dy': 0.0,\n",
       "  'dz': 0.0,\n",
       "  'face': 0,\n",
       "  'length': 0.0,\n",
       "  'nx': 0.0,\n",
       "  'ny': 0.0,\n",
       "  'nz': 1.0,\n",
       "  'srce': 0,\n",
       "  'trgt': 0},\n",
       " 'face': {'area': 1.0,\n",
       "  'is_alive': True,\n",
       "  'num_sides': 6,\n",
       "  'perimeter': 1.0,\n",
       "  'x': 0.0,\n",
       "  'y': 0.0,\n",
       "  'z': 0.0},\n",
       " 'settings': {'geometry': 'cylindrical', 'height_axis': 'z'},\n",
       " 'vert': {'basal_shift': 4.0,\n",
       "  'is_active': True,\n",
       "  'rho': 0.0,\n",
       "  'x': 0.0,\n",
       "  'y': 0.0,\n",
       "  'z': 0.0}}"
      ]
     },
     "execution_count": 24,
     "metadata": {},
     "output_type": "execute_result"
    }
   ],
   "source": [
    "sheet_specs"
   ]
  },
  {
   "cell_type": "code",
   "execution_count": null,
   "metadata": {
    "collapsed": true
   },
   "outputs": [],
   "source": []
  }
 ],
 "metadata": {
  "kernelspec": {
   "display_name": "Python 3",
   "language": "python",
   "name": "python3"
  },
  "language_info": {
   "codemirror_mode": {
    "name": "ipython",
    "version": 3
   },
   "file_extension": ".py",
   "mimetype": "text/x-python",
   "name": "python",
   "nbconvert_exporter": "python",
   "pygments_lexer": "ipython3",
   "version": "3.5.1"
  }
 },
 "nbformat": 4,
 "nbformat_minor": 0
}
