{
 "cells": [
  {
   "cell_type": "code",
   "execution_count": null,
   "metadata": {
    "collapsed": true
   },
   "outputs": [],
   "source": [
    "import pandas as pd\n",
    "import numpy as np\n",
    "import json\n",
    "import matplotlib.pylab as plt\n",
    "%matplotlib inline\n",
    "from scipy import optimize\n",
    "\n",
    "from tyssue.core.sheet import Sheet\n",
    "from tyssue.config.json_parser import load_default\n",
    "\n",
    "\n",
    "from tyssue.geometry.sheet_geometry import SheetGeometry as geom\n",
    "from tyssue.dynamics.apoptosis_model import SheetApoptosisModel as model\n",
    "from tyssue.dynamics.sheet_vertex_model import SheetModel as basemodel\n",
    "from tyssue.solvers.sheet_vertex_solver import Solver as solver\n",
    "\n",
    "#from tyssue.dynamics.sheet_isotropic_model import isotropic_relax\n",
    "\n",
    "from tyssue.draw.vispy_draw import vp_view\n",
    "from tyssue.topology.sheet_topology import type1_transition, remove_face\n",
    "\n",
    "from tyssue.draw.mpl_draw import sheet_view\n",
    "import tyssue.draw.mpl_draw as draw\n",
    "from tyssue.stores import load_datasets"
   ]
  },
  {
   "cell_type": "code",
   "execution_count": null,
   "metadata": {
    "collapsed": false
   },
   "outputs": [],
   "source": [
    "min_settings = {\n",
    "    'minimize': {\n",
    "        'options': {\n",
    "            'disp': False,\n",
    "            'ftol': 1e-6,    \n",
    "            'gtol': 1e-6},\n",
    "        }\n",
    "    }\n",
    "\n",
    "\n",
    "def load_before_apopto():\n",
    "\n",
    "    h5store = 'before_apoptosis.hf5'\n",
    "    #h5store = 'small_hexagonal.hf5'\n",
    "\n",
    "    datasets = load_datasets(h5store,\n",
    "                             data_names=['face', 'vert', 'edge'])\n",
    "    sheet = Sheet('emin', datasets)\n",
    "    sheet.set_geom('sheet')\n",
    "    geom.update_all(sheet)\n",
    "\n",
    "    nondim_specs = load_default('dynamics', 'sheet')\n",
    "    dim_model_specs = model.dimentionalize(nondim_specs)\n",
    "\n",
    "    sheet.set_model('sheet', dim_model_specs)\n",
    "\n",
    "    live_edges = sheet.upcast_face(sheet.face_df.is_alive)\n",
    "    dead_src = set(sheet.edge_df[live_edges==0].srce)\n",
    "    sheet.vert_df.is_active = 1\n",
    "    sheet.vert_df.loc[dead_src, 'is_active'] = 0\n",
    "    return sheet\n",
    "\n",
    "sheet = load_before_apopto()\n",
    "res = solver.find_energy_min(sheet, geom, model, **min_settings)\n",
    "print(res['success'])"
   ]
  },
  {
   "cell_type": "code",
   "execution_count": null,
   "metadata": {
    "collapsed": false
   },
   "outputs": [],
   "source": [
    "def leg_joint_view(sheet, coords=['z', 'x', 'y']):\n",
    "\n",
    "    x, y, z = coords\n",
    "    datasets = {}\n",
    "    \n",
    "    datasets['face'] = sheet.face_df.sort_values(z)\n",
    "    datasets['vert'] = sheet.vert_df.sort_values(z)\n",
    "    edge_z = 0.5 * (sheet.upcast_srce(sheet.vert_df[z]) +\n",
    "                    sheet.upcast_trgt(sheet.vert_df[z]))\n",
    "    datasets['edge'] = sheet.edge_df.copy()\n",
    "    datasets['edge'][z] = edge_z\n",
    "    datasets['edge'] = datasets['edge'].sort_values(z)\n",
    "    \n",
    "    tmp_sheet = Sheet('tmp', datasets,\n",
    "                      sheet.specs)\n",
    "    tmp_sheet.reset_index()\n",
    "    cmap = plt.cm.get_cmap('viridis')\n",
    "    \n",
    "    e_depth = (tmp_sheet.edge_df[z] -\n",
    "               tmp_sheet.edge_df[z].min()) / tmp_sheet.edge_df[z].ptp()\n",
    "    depth_cmap = cmap(e_depth)\n",
    "    draw_specs = {\n",
    "        'vert': {\n",
    "            'visible': False\n",
    "            },\n",
    "        'edge': {\n",
    "            'color': depth_cmap,\n",
    "            #'zorder': depth.values\n",
    "            }\n",
    "        }\n",
    "    \n",
    "    fig, ax = sheet_view(tmp_sheet, coords[:2], **draw_specs)\n",
    "    ax.set_xlim(-80, 80)\n",
    "    ax.set_ylim(-45, 45)\n",
    "    ax.set_axis_bgcolor('#404040')\n",
    "    ax.set_xticks([])\n",
    "    ax.set_yticks([])\n",
    "    #ax.set_frame_on(False)\n",
    "    fig.set_size_inches((16, 9))\n",
    "    fig.set_frameon(False)\n",
    "    fig.set_clip_box(ax.bbox)\n",
    "    return fig, ax\n",
    "\n",
    "fig, ax = leg_joint_view(sheet)\n",
    "plt.savefig('before.png', bbox_inches='tight')"
   ]
  },
  {
   "cell_type": "code",
   "execution_count": null,
   "metadata": {
    "collapsed": false
   },
   "outputs": [],
   "source": [
    "def apopto_pdf(zed, theta, z0=0.,\n",
    "               width_apopto=2.05, amp=0.4):\n",
    "    p = (np.exp(-(zed - z0)**2 / width_apopto**2) *\n",
    "         (1 - amp*(np.cos(theta/2)**2)))\n",
    "    return p\n",
    "\n",
    "def get_apopto_cells(sheet):\n",
    "\n",
    "    np.random.seed(42)\n",
    "    sheet.face_df['theta'] = np.arctan2(sheet.face_df['y'],\n",
    "                                        sheet.face_df['x'])\n",
    "    p_apopto = apopto_pdf(sheet.face_df['z'], sheet.face_df['theta'])\n",
    "    rand_field = np.random.random(sheet.face_df.shape[0])\n",
    "    apopto_cells = p_apopto[p_apopto>rand_field].index\n",
    "    apopto_cells = np.array([c for c in sheet.face_df.loc[apopto_cells].sort_values('x').index\n",
    "                             if sheet.face_df.loc[c, 'is_alive']])\n",
    "    return apopto_cells\n",
    "\n",
    "apopto_cells = get_apopto_cells(sheet)\n",
    "print('number of apoptotic cells: {}'.format(apopto_cells.size))\n",
    "\n",
    "fig, (ax0, ax1) = plt.subplots(1, 2, sharex=True, sharey=True)\n",
    "ax0.scatter(sheet.face_df.loc[apopto_cells, 'y'], \n",
    "            sheet.face_df.loc[apopto_cells, 'x'], c='k',\n",
    "            s=100, alpha=0.4)\n",
    "ax0.set_aspect('equal')\n",
    "\n",
    "\n",
    "ax1.scatter(sheet.face_df.loc[apopto_cells, 'z'], \n",
    "            sheet.face_df.loc[apopto_cells, 'x'], c='k',\n",
    "            s=100, alpha=0.4)\n",
    "ax1.set_aspect('equal')\n",
    "ax1.set_xlim(-45, 45);"
   ]
  },
  {
   "cell_type": "code",
   "execution_count": null,
   "metadata": {
    "collapsed": false
   },
   "outputs": [],
   "source": [
    "from tyssue.behaviors.sheet_events import SheetEvents\n",
    "from tyssue.behaviors.behaviors import apoptosis_time_table\n",
    "import os\n",
    "\n",
    "\n",
    "\n",
    "def get_time_table(sheet, apopto_cells,\n",
    "                   events):\n",
    "\n",
    "    time_tables = []\n",
    "    for strat_t, cell in enumerate(apopto_cells):\n",
    "\n",
    "        times, time_table = apoptosis_time_table(sheet, cell,\n",
    "                                                 events, start_t=strat_t)\n",
    "        time_tables.append(time_table)\n",
    "    time_table = pd.concat(time_tables).sort_index()\n",
    "    times = time_table.index.levels[0]\n",
    "    return times, time_table\n",
    "\n",
    "def time_step(face_events, events,\n",
    "              sheet, geom, model, dirname):\n",
    "\n",
    "    for face, evts in face_events.iterrows():\n",
    "        for event_name, event_arg in evts.dropna().items():\n",
    "            if ((not sheet.face_df.loc[face, 'is_alive']) or\n",
    "                np.isnan(sheet.face_df.loc[face, 'is_alive'])):\n",
    "                continue\n",
    "            events[event_name](face, event_arg)\n",
    "    \n",
    "    res = solver.find_energy_min(sheet, geom, model, **settings)\n",
    "\n",
    "\n",
    "\n",
    "    \n",
    "def run_sim(sheet, apopto_cells,\n",
    "            geom, model, dirname):\n",
    "    \n",
    "    times, time_table = get_time_table(sheet, apopto_cells,\n",
    "                                       events)\n",
    "    \n",
    "    for t in times:\n",
    "        face_events = time_table.loc[t]\n",
    "        time_step(face_events, events,\n",
    "                  sheet, geom, model, dirname)\n",
    "        fig, ax = leg_joint_view(sheet)\n",
    "        figname = os.path.join(\n",
    "            dirname, 'fold_formation_{:03d}.png'.format(t))\n",
    "        plt.savefig(figname, bbox_inches='tight')\n",
    "        plt.close(fig)"
   ]
  },
  {
   "cell_type": "code",
   "execution_count": null,
   "metadata": {
    "collapsed": false
   },
   "outputs": [],
   "source": [
    "settings = {\n",
    "    'shrink_steps': 30,\n",
    "    'rad_tension': 2.0,\n",
    "    'contractile_increase': 2.0,\n",
    "    'contract_span': 3\n",
    "    }\n",
    "\n",
    "tensions = [0, 0, 2, 2]\n",
    "contracts = [0, 2, 0, 2]\n",
    "dirnames = ['{}_lambda_{}_gamma'.format(l, g)\n",
    "            for l, g in zip(tensions, contracts)]\n",
    "\n",
    "for l, g, dirname in zip(tensions, contracts, dirnames):\n",
    "    \n",
    "    sheet = load_before_apopto()\n",
    "    events = SheetEvents(sheet, model, geom).events\n",
    "    res = solver.find_energy_min(sheet, geom, model,\n",
    "                                 **min_settings)\n",
    "    print('starting {}'.format(dirname))\n",
    "    os.mkdir(dirname)\n",
    "    settings.update(\n",
    "        {'rad_tension': l,\n",
    "         'contractile_increase': g})\n",
    "    sheet.settings['apoptosis'] = settings\n",
    "    run_sim(sheet, apopto_cells, \n",
    "            geom, model, dirname)\n",
    "\n",
    "    print('{} done'.format(dirname))\n",
    "    print('~~~~~~~~~~~~~~~~~~~~~\\n')\n",
    "    "
   ]
  },
  {
   "cell_type": "code",
   "execution_count": null,
   "metadata": {
    "collapsed": false
   },
   "outputs": [],
   "source": [
    "sheet.face_df[(sheet.face_df['num_sides'] == 2) &\n",
    "              (sheet.face_df['is_alive'] == 1) ]"
   ]
  },
  {
   "cell_type": "code",
   "execution_count": null,
   "metadata": {
    "collapsed": false
   },
   "outputs": [],
   "source": [
    "sheet.edge_df[sheet.edge_df['face']==913]"
   ]
  },
  {
   "cell_type": "code",
   "execution_count": null,
   "metadata": {
    "collapsed": false
   },
   "outputs": [],
   "source": [
    "fig, ax = leg_joint_view(sheet)"
   ]
  },
  {
   "cell_type": "code",
   "execution_count": null,
   "metadata": {
    "collapsed": false
   },
   "outputs": [],
   "source": [
    "vp_view(sheet)"
   ]
  },
  {
   "cell_type": "code",
   "execution_count": null,
   "metadata": {
    "collapsed": true
   },
   "outputs": [],
   "source": []
  }
 ],
 "metadata": {
  "kernelspec": {
   "display_name": "Python 3",
   "language": "python",
   "name": "python3"
  },
  "language_info": {
   "codemirror_mode": {
    "name": "ipython",
    "version": 3
   },
   "file_extension": ".py",
   "mimetype": "text/x-python",
   "name": "python",
   "nbconvert_exporter": "python",
   "pygments_lexer": "ipython3",
   "version": "3.5.1"
  }
 },
 "nbformat": 4,
 "nbformat_minor": 0
}
