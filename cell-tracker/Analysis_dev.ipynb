{
 "cells": [
  {
   "cell_type": "markdown",
   "metadata": {},
   "source": [
    "**Github Issues** : https://github.com/bnoi/cell-tracker/issues/new"
   ]
  },
  {
   "cell_type": "markdown",
   "metadata": {},
   "source": [
    "#### Initialize everything"
   ]
  },
  {
   "cell_type": "code",
   "execution_count": 1,
   "metadata": {
    "collapsed": false
   },
   "outputs": [],
   "source": [
    "%load_ext autoreload\n",
    "%autoreload 2"
   ]
  },
  {
   "cell_type": "code",
   "execution_count": 2,
   "metadata": {
    "collapsed": false
   },
   "outputs": [
    {
     "name": "stdout",
     "output_type": "stream",
     "text": [
      "Automatic pdb calling has been turned ON\n"
     ]
    }
   ],
   "source": [
    "%pdb"
   ]
  },
  {
   "cell_type": "code",
   "execution_count": 3,
   "metadata": {
    "collapsed": false
   },
   "outputs": [
    {
     "name": "stderr",
     "output_type": "stream",
     "text": [
      "2015-03-05 07:52:59:INFO:sktracker.utils.mpl_loader: Matplotlib backend 'Qt4Agg' has been loaded.\n",
      ":0: FutureWarning: IPython widgets are experimental and may change in the future.\n"
     ]
    }
   ],
   "source": [
    "### The library used for plotting\n",
    "#%matplotlib \n",
    "import matplotlib.pyplot as plt\n",
    "\n",
    "%matplotlib qt\n",
    "#mpld3.enable_notebook()\n",
    "\n",
    "### This imports various dependencies\n",
    "%run nb_init.py\n",
    "\n",
    "#### \n",
    "import cell_tracker as ct\n"
   ]
  },
  {
   "cell_type": "markdown",
   "metadata": {},
   "source": [
    "# 1. Data loading and preparation"
   ]
  },
  {
   "cell_type": "markdown",
   "metadata": {},
   "source": [
    "## 1.1 Pick the directory and get the relevant data"
   ]
  },
  {
   "cell_type": "markdown",
   "metadata": {},
   "source": [
    "Here you can pick either a TIFF or a `.h5` file or an excel file"
   ]
  },
  {
   "cell_type": "code",
   "execution_count": 4,
   "metadata": {
    "collapsed": false
   },
   "outputs": [],
   "source": [
    "## You can set this to the common path of all your data\n",
    "default_path = '/media/data/AnneHDFStores/'\n",
    "#cluster = ct.ui.get_cluster(default_path)#, extra_sheet=2)"
   ]
  },
  {
   "cell_type": "code",
   "execution_count": null,
   "metadata": {
    "collapsed": true
   },
   "outputs": [],
   "source": []
  },
  {
   "cell_type": "code",
   "execution_count": null,
   "metadata": {
    "collapsed": true
   },
   "outputs": [],
   "source": []
  },
  {
   "cell_type": "code",
   "execution_count": 84,
   "metadata": {
    "collapsed": false,
    "scrolled": true
   },
   "outputs": [
    {
     "name": "stdout",
     "output_type": "stream",
     "text": [
      "/media/data/AnneHDFStores/20150305/140913-ROCKRNAi-1.h5\n",
      "/media/data/AnneHDFStores/20150305/140913-ROCKRNAi-2.h5\n",
      "/media/data/AnneHDFStores/20150305/130813-ROCKRNAi-1.h5\n",
      "/media/data/AnneHDFStores/20150305/130813-ROCKRNAi-2.h5\n",
      "/media/data/AnneHDFStores/20150305/140813-ROCKRNAi-1.h5\n",
      "/media/data/AnneHDFStores/20150305/140813-ROCKRNAi-2.h5\n",
      "/media/data/AnneHDFStores/20150305/160813-ROCKRNAi-2.h5\n",
      "/media/data/AnneHDFStores/20150305/190813-ROCKRNAi-2.h5\n",
      "/media/data/AnneHDFStores/20150305/190813-ROCKRNAi-2.h5\n"
     ]
    }
   ],
   "source": [
    "all_clusters = {}\n",
    "\n",
    "for i in range(0,18, 2):\n",
    "    trajs = pd.read_excel('/media/data/AnneHDFStores/20150305/ROCKinhib trajectories.xlsx', i)\n",
    "    metadata = pd.read_excel('/media/data/AnneHDFStores/20150305/ROCKinhib trajectories.xlsx', i+1)\n",
    "    metadata = {name :value for name,  value\n",
    "                in zip(metadata['Name'], metadata['Value'])}\n",
    "    store_path = ''.join(['/media/data/AnneHDFStores/20150305/', metadata['FileName'], '.h5'])\n",
    "    oio = ct.io.ObjectsIO(metadata=metadata, store_path=store_path)\n",
    "    cluster = ct.CellCluster(oio)\n",
    "    \n",
    "    trajs.t_stamp = trajs.t_stamp.astype(np.int)\n",
    "    #trajs.label = trajs.label.astype(np.int)\n",
    "    trajs.set_index(['t_stamp', 'label'],\n",
    "                    inplace=True)\n",
    "    cluster.trajs = Trajectories(trajs.dropna().sortlevel())\n",
    "    \n",
    "    #cluster.center = cluster.trajs.xs('center', level='label')\n",
    "    cluster.get_center(center_label='center') #trajs = cluster.trajs.drop('center', level='label')\n",
    "    cluster.trajs.drop('center', level='label', inplace=True)\n",
    "\n",
    "    cluster.oio['trajs'] = cluster.trajs\n",
    "    print(store_path)\n",
    "    all_clusters[metadata['FileName']] = cluster\n",
    "    try:\n",
    "        cluster.cumulative_angle()\n",
    "    except:\n",
    "        print('Failed for {}'.format(metadata['FileName']))\n",
    "    cluster.save_trajs()\n"
   ]
  },
  {
   "cell_type": "code",
   "execution_count": 85,
   "metadata": {
    "collapsed": false
   },
   "outputs": [],
   "source": [
    "cluster = all_clusters['190813-ROCKRNAi-2']"
   ]
  },
  {
   "cell_type": "code",
   "execution_count": 88,
   "metadata": {
    "collapsed": false,
    "scrolled": true
   },
   "outputs": [],
   "source": [
    "for cluster in all_clusters.values():\n",
    "    cluster.trajs['theta'].to_csv(cluster.stackio.store_path.replace('.h5', '.csv'))"
   ]
  },
  {
   "cell_type": "markdown",
   "metadata": {},
   "source": [
    "#### Set metadata"
   ]
  },
  {
   "cell_type": "code",
   "execution_count": 92,
   "metadata": {
    "collapsed": false
   },
   "outputs": [
    {
     "ename": "AttributeError",
     "evalue": "'Series' object has no attribute 'to_excel'",
     "output_type": "error",
     "traceback": [
      "\u001b[1;31m---------------------------------------------------------------------------\u001b[0m",
      "\u001b[1;31mAttributeError\u001b[0m                            Traceback (most recent call last)",
      "\u001b[1;32m<ipython-input-92-764383aa44ad>\u001b[0m in \u001b[0;36m<module>\u001b[1;34m()\u001b[0m\n\u001b[1;32m----> 1\u001b[1;33m \u001b[0mcluster\u001b[0m\u001b[1;33m.\u001b[0m\u001b[0mtrajs\u001b[0m\u001b[1;33m[\u001b[0m\u001b[1;34m'theta'\u001b[0m\u001b[1;33m]\u001b[0m\u001b[1;33m.\u001b[0m\u001b[0mto_excel\u001b[0m\u001b[1;33m(\u001b[0m\u001b[0mcluster\u001b[0m\u001b[1;33m.\u001b[0m\u001b[0mstackio\u001b[0m\u001b[1;33m.\u001b[0m\u001b[0mstore_path\u001b[0m\u001b[1;33m.\u001b[0m\u001b[0mreplace\u001b[0m\u001b[1;33m(\u001b[0m\u001b[1;34m'.h5'\u001b[0m\u001b[1;33m,\u001b[0m \u001b[1;34m'.xlsx'\u001b[0m\u001b[1;33m)\u001b[0m\u001b[1;33m)\u001b[0m\u001b[1;33m\u001b[0m\u001b[0m\n\u001b[0m",
      "\u001b[1;32m/home/guillaume/anaconda/envs/python3/lib/python3.4/site-packages/pandas/core/generic.py\u001b[0m in \u001b[0;36m__getattr__\u001b[1;34m(self, name)\u001b[0m\n\u001b[0;32m   1945\u001b[0m                 \u001b[1;32mreturn\u001b[0m \u001b[0mself\u001b[0m\u001b[1;33m[\u001b[0m\u001b[0mname\u001b[0m\u001b[1;33m]\u001b[0m\u001b[1;33m\u001b[0m\u001b[0m\n\u001b[0;32m   1946\u001b[0m             raise AttributeError(\"'%s' object has no attribute '%s'\" %\n\u001b[1;32m-> 1947\u001b[1;33m                                  (type(self).__name__, name))\n\u001b[0m\u001b[0;32m   1948\u001b[0m \u001b[1;33m\u001b[0m\u001b[0m\n\u001b[0;32m   1949\u001b[0m     \u001b[1;32mdef\u001b[0m \u001b[0m__setattr__\u001b[0m\u001b[1;33m(\u001b[0m\u001b[0mself\u001b[0m\u001b[1;33m,\u001b[0m \u001b[0mname\u001b[0m\u001b[1;33m,\u001b[0m \u001b[0mvalue\u001b[0m\u001b[1;33m)\u001b[0m\u001b[1;33m:\u001b[0m\u001b[1;33m\u001b[0m\u001b[0m\n",
      "\u001b[1;31mAttributeError\u001b[0m: 'Series' object has no attribute 'to_excel'"
     ]
    },
    {
     "name": "stdout",
     "output_type": "stream",
     "text": [
      "> \u001b[1;32m/home/guillaume/anaconda/envs/python3/lib/python3.4/site-packages/pandas/core/generic.py\u001b[0m(1947)\u001b[0;36m__getattr__\u001b[1;34m()\u001b[0m\n",
      "\u001b[1;32m   1946 \u001b[1;33m            raise AttributeError(\"'%s' object has no attribute '%s'\" %\n",
      "\u001b[0m\u001b[1;32m-> 1947 \u001b[1;33m                                 (type(self).__name__, name))\n",
      "\u001b[0m\u001b[1;32m   1948 \u001b[1;33m\u001b[1;33m\u001b[0m\u001b[0m\n",
      "\u001b[0m\n",
      "ipdb> c\n"
     ]
    }
   ],
   "source": [
    "cluster.trajs[['t', 'theta']].to_excel(cluster.stackio.store_path.replace('.h5', '.xlsx'))"
   ]
  },
  {
   "cell_type": "code",
   "execution_count": 12,
   "metadata": {
    "collapsed": false
   },
   "outputs": [],
   "source": [
    "from sktracker import data"
   ]
  },
  {
   "cell_type": "code",
   "execution_count": 5,
   "metadata": {
    "collapsed": false
   },
   "outputs": [],
   "source": [
    "smw = ct.ui.set_metadata(cluster.metadata)\n",
    "display.display(smw)"
   ]
  },
  {
   "cell_type": "markdown",
   "metadata": {},
   "source": [
    "## 1.2 Scaling and basic computations"
   ]
  },
  {
   "cell_type": "markdown",
   "metadata": {},
   "source": [
    "In the cell below, if you change `True` to `False`, the scale of the data will be changed form pixels to microns.\n",
    "\n",
    "**Change the value bellow ONLY if you haven't scaled the data before**"
   ]
  },
  {
   "cell_type": "code",
   "execution_count": 58,
   "metadata": {
    "collapsed": false
   },
   "outputs": [],
   "source": [
    "cluster.was_scaled = True ### Set this to False \n",
    "####if you need to scale the data to physical size"
   ]
  },
  {
   "cell_type": "markdown",
   "metadata": {},
   "source": [
    "#### Basic computations"
   ]
  },
  {
   "cell_type": "code",
   "execution_count": 6,
   "metadata": {
    "collapsed": false
   },
   "outputs": [],
   "source": [
    "cluster.relative_pos = cluster.oio['extra']\n"
   ]
  },
  {
   "cell_type": "code",
   "execution_count": 7,
   "metadata": {
    "collapsed": false
   },
   "outputs": [],
   "source": [
    "cluster.relative_pos.columns = ['t_stamp', 'pos_in_chamber']"
   ]
  },
  {
   "cell_type": "code",
   "execution_count": 8,
   "metadata": {
    "collapsed": false
   },
   "outputs": [
    {
     "name": "stdout",
     "output_type": "stream",
     "text": [
      "Trajectories for this experiment are stored in the file /media/data/AnneHDFStores/Guillaume_220914/WT-240812.h5\n"
     ]
    }
   ],
   "source": [
    "if not cluster.was_scaled:\n",
    "    cluster.scale_pix_to_physical()\n",
    "\n",
    "### Computes the position of the nuclei with respect to the cluster center\n",
    "cluster.get_center(smooth=10, reset=True, save_droped='bck')\n",
    "\n",
    "### Computes the angle of the nuclei with respect to the cluster center\n",
    "cluster.cumulative_angle()\n",
    "\n",
    "### Save the trajectories to the .h5 file\n",
    "cluster.save_trajs()\n",
    "print('''Trajectories for this experiment are stored in the file {}'''.format(cluster.oio.store_path))"
   ]
  },
  {
   "cell_type": "code",
   "execution_count": 13,
   "metadata": {
    "collapsed": false
   },
   "outputs": [
    {
     "data": {
      "text/html": [
       "<div style=\"max-height:1000px;max-width:1500px;overflow:auto;\">\n",
       "<table border=\"1\" class=\"dataframe\">\n",
       "  <thead>\n",
       "    <tr style=\"text-align: right;\">\n",
       "      <th></th>\n",
       "      <th></th>\n",
       "      <th>x</th>\n",
       "      <th>y</th>\n",
       "      <th>z</th>\n",
       "      <th>t</th>\n",
       "      <th>x_c</th>\n",
       "      <th>y_c</th>\n",
       "      <th>z_c</th>\n",
       "      <th>x_r</th>\n",
       "      <th>y_r</th>\n",
       "      <th>z_r</th>\n",
       "      <th>theta</th>\n",
       "      <th>rho</th>\n",
       "    </tr>\n",
       "    <tr>\n",
       "      <th>t_stamp</th>\n",
       "      <th>label</th>\n",
       "      <th></th>\n",
       "      <th></th>\n",
       "      <th></th>\n",
       "      <th></th>\n",
       "      <th></th>\n",
       "      <th></th>\n",
       "      <th></th>\n",
       "      <th></th>\n",
       "      <th></th>\n",
       "      <th></th>\n",
       "      <th></th>\n",
       "      <th></th>\n",
       "    </tr>\n",
       "  </thead>\n",
       "  <tbody>\n",
       "    <tr>\n",
       "      <th rowspan=\"5\" valign=\"top\">1 </th>\n",
       "      <th>1</th>\n",
       "      <td>  66.75750</td>\n",
       "      <td>  49.98750</td>\n",
       "      <td>  9.0</td>\n",
       "      <td>   0</td>\n",
       "      <td> 62.384554</td>\n",
       "      <td>  42.909864</td>\n",
       "      <td> 6.701917</td>\n",
       "      <td>  4.372946</td>\n",
       "      <td>  7.077636</td>\n",
       "      <td> 2.298083</td>\n",
       "      <td> 1.017352</td>\n",
       "      <td>  8.319591</td>\n",
       "    </tr>\n",
       "    <tr>\n",
       "      <th>2</th>\n",
       "      <td>  57.56625</td>\n",
       "      <td>  50.47125</td>\n",
       "      <td>  7.5</td>\n",
       "      <td>   0</td>\n",
       "      <td> 62.384554</td>\n",
       "      <td>  42.909864</td>\n",
       "      <td> 6.701917</td>\n",
       "      <td> -4.818304</td>\n",
       "      <td>  7.561386</td>\n",
       "      <td> 0.798083</td>\n",
       "      <td> 2.138138</td>\n",
       "      <td>  8.966081</td>\n",
       "    </tr>\n",
       "    <tr>\n",
       "      <th>3</th>\n",
       "      <td>  60.79125</td>\n",
       "      <td>  32.41125</td>\n",
       "      <td>  6.0</td>\n",
       "      <td>   0</td>\n",
       "      <td> 62.384554</td>\n",
       "      <td>  42.909864</td>\n",
       "      <td> 6.701917</td>\n",
       "      <td> -1.593304</td>\n",
       "      <td>-10.498614</td>\n",
       "      <td>-0.701917</td>\n",
       "      <td>-1.721410</td>\n",
       "      <td> 10.618828</td>\n",
       "    </tr>\n",
       "    <tr>\n",
       "      <th>4</th>\n",
       "      <td>  64.82250</td>\n",
       "      <td>  40.63500</td>\n",
       "      <td>  6.0</td>\n",
       "      <td>   0</td>\n",
       "      <td> 62.384554</td>\n",
       "      <td>  42.909864</td>\n",
       "      <td> 6.701917</td>\n",
       "      <td>  2.437946</td>\n",
       "      <td> -2.274864</td>\n",
       "      <td>-0.701917</td>\n",
       "      <td>-0.750808</td>\n",
       "      <td>  3.334454</td>\n",
       "    </tr>\n",
       "    <tr>\n",
       "      <th>5</th>\n",
       "      <td>  61.43625</td>\n",
       "      <td>  41.60250</td>\n",
       "      <td>  6.0</td>\n",
       "      <td>   0</td>\n",
       "      <td> 62.384554</td>\n",
       "      <td>  42.909864</td>\n",
       "      <td> 6.701917</td>\n",
       "      <td> -0.948304</td>\n",
       "      <td> -1.307364</td>\n",
       "      <td>-0.701917</td>\n",
       "      <td>-2.198338</td>\n",
       "      <td>  1.615079</td>\n",
       "    </tr>\n",
       "    <tr>\n",
       "      <th rowspan=\"5\" valign=\"top\">2 </th>\n",
       "      <th>1</th>\n",
       "      <td>  65.95125</td>\n",
       "      <td>  51.60000</td>\n",
       "      <td>  7.5</td>\n",
       "      <td>   3</td>\n",
       "      <td> 62.781796</td>\n",
       "      <td>  43.484943</td>\n",
       "      <td> 6.875542</td>\n",
       "      <td>  3.169454</td>\n",
       "      <td>  8.115057</td>\n",
       "      <td> 0.624458</td>\n",
       "      <td> 1.198450</td>\n",
       "      <td>  8.712037</td>\n",
       "    </tr>\n",
       "    <tr>\n",
       "      <th>2</th>\n",
       "      <td>  60.14625</td>\n",
       "      <td>  49.34250</td>\n",
       "      <td>  7.5</td>\n",
       "      <td>   3</td>\n",
       "      <td> 62.781796</td>\n",
       "      <td>  43.484943</td>\n",
       "      <td> 6.875542</td>\n",
       "      <td> -2.635546</td>\n",
       "      <td>  5.857557</td>\n",
       "      <td> 0.624458</td>\n",
       "      <td> 1.993600</td>\n",
       "      <td>  6.423168</td>\n",
       "    </tr>\n",
       "    <tr>\n",
       "      <th>3</th>\n",
       "      <td>  62.88750</td>\n",
       "      <td>  33.05625</td>\n",
       "      <td>  6.0</td>\n",
       "      <td>   3</td>\n",
       "      <td> 62.781796</td>\n",
       "      <td>  43.484943</td>\n",
       "      <td> 6.875542</td>\n",
       "      <td>  0.105704</td>\n",
       "      <td>-10.428693</td>\n",
       "      <td>-0.875542</td>\n",
       "      <td>-1.560661</td>\n",
       "      <td> 10.429228</td>\n",
       "    </tr>\n",
       "    <tr>\n",
       "      <th>4</th>\n",
       "      <td>  66.43500</td>\n",
       "      <td>  41.92500</td>\n",
       "      <td>  6.0</td>\n",
       "      <td>   3</td>\n",
       "      <td> 62.781796</td>\n",
       "      <td>  43.484943</td>\n",
       "      <td> 6.875542</td>\n",
       "      <td>  3.653204</td>\n",
       "      <td> -1.559943</td>\n",
       "      <td>-0.875542</td>\n",
       "      <td>-0.403569</td>\n",
       "      <td>  3.972319</td>\n",
       "    </tr>\n",
       "    <tr>\n",
       "      <th>5</th>\n",
       "      <td>  59.66250</td>\n",
       "      <td>  40.15125</td>\n",
       "      <td>  6.0</td>\n",
       "      <td>   3</td>\n",
       "      <td> 62.781796</td>\n",
       "      <td>  43.484943</td>\n",
       "      <td> 6.875542</td>\n",
       "      <td> -3.119296</td>\n",
       "      <td> -3.333693</td>\n",
       "      <td>-0.875542</td>\n",
       "      <td>-2.322982</td>\n",
       "      <td>  4.565470</td>\n",
       "    </tr>\n",
       "    <tr>\n",
       "      <th rowspan=\"5\" valign=\"top\">3 </th>\n",
       "      <th>1</th>\n",
       "      <td>  67.08000</td>\n",
       "      <td>  53.69625</td>\n",
       "      <td>  7.5</td>\n",
       "      <td>   6</td>\n",
       "      <td> 63.889423</td>\n",
       "      <td>  44.980560</td>\n",
       "      <td> 6.783766</td>\n",
       "      <td>  3.190577</td>\n",
       "      <td>  8.715690</td>\n",
       "      <td> 0.716234</td>\n",
       "      <td> 1.219875</td>\n",
       "      <td>  9.281327</td>\n",
       "    </tr>\n",
       "    <tr>\n",
       "      <th>2</th>\n",
       "      <td>  60.95250</td>\n",
       "      <td>  50.95500</td>\n",
       "      <td>  9.0</td>\n",
       "      <td>   6</td>\n",
       "      <td> 63.889423</td>\n",
       "      <td>  44.980560</td>\n",
       "      <td> 6.783766</td>\n",
       "      <td> -2.936923</td>\n",
       "      <td>  5.974440</td>\n",
       "      <td> 2.216234</td>\n",
       "      <td> 2.027686</td>\n",
       "      <td>  6.657286</td>\n",
       "    </tr>\n",
       "    <tr>\n",
       "      <th>3</th>\n",
       "      <td>  63.85500</td>\n",
       "      <td>  35.79750</td>\n",
       "      <td>  6.0</td>\n",
       "      <td>   6</td>\n",
       "      <td> 63.889423</td>\n",
       "      <td>  44.980560</td>\n",
       "      <td> 6.783766</td>\n",
       "      <td> -0.034423</td>\n",
       "      <td> -9.183060</td>\n",
       "      <td>-0.783766</td>\n",
       "      <td>-1.574545</td>\n",
       "      <td>  9.183124</td>\n",
       "    </tr>\n",
       "    <tr>\n",
       "      <th>4</th>\n",
       "      <td>  69.17625</td>\n",
       "      <td>  45.31125</td>\n",
       "      <td>  6.0</td>\n",
       "      <td>   6</td>\n",
       "      <td> 63.889423</td>\n",
       "      <td>  44.980560</td>\n",
       "      <td> 6.783766</td>\n",
       "      <td>  5.286827</td>\n",
       "      <td>  0.330690</td>\n",
       "      <td>-0.783766</td>\n",
       "      <td> 0.062468</td>\n",
       "      <td>  5.297159</td>\n",
       "    </tr>\n",
       "    <tr>\n",
       "      <th>5</th>\n",
       "      <td>  58.69500</td>\n",
       "      <td>  39.34500</td>\n",
       "      <td>  6.0</td>\n",
       "      <td>   6</td>\n",
       "      <td> 63.889423</td>\n",
       "      <td>  44.980560</td>\n",
       "      <td> 6.783766</td>\n",
       "      <td> -5.194423</td>\n",
       "      <td> -5.635560</td>\n",
       "      <td>-0.783766</td>\n",
       "      <td>-2.315484</td>\n",
       "      <td>  7.664305</td>\n",
       "    </tr>\n",
       "    <tr>\n",
       "      <th rowspan=\"5\" valign=\"top\">4 </th>\n",
       "      <th>1</th>\n",
       "      <td>  69.01500</td>\n",
       "      <td>  56.76000</td>\n",
       "      <td>  7.5</td>\n",
       "      <td>   9</td>\n",
       "      <td> 64.683935</td>\n",
       "      <td>  46.763567</td>\n",
       "      <td> 6.659101</td>\n",
       "      <td>  4.331065</td>\n",
       "      <td>  9.996433</td>\n",
       "      <td> 0.840899</td>\n",
       "      <td> 1.161949</td>\n",
       "      <td> 10.894347</td>\n",
       "    </tr>\n",
       "    <tr>\n",
       "      <th>2</th>\n",
       "      <td>  61.59750</td>\n",
       "      <td>  52.40625</td>\n",
       "      <td>  7.5</td>\n",
       "      <td>   9</td>\n",
       "      <td> 64.683935</td>\n",
       "      <td>  46.763567</td>\n",
       "      <td> 6.659101</td>\n",
       "      <td> -3.086435</td>\n",
       "      <td>  5.642683</td>\n",
       "      <td> 0.840899</td>\n",
       "      <td> 2.071318</td>\n",
       "      <td>  6.431637</td>\n",
       "    </tr>\n",
       "    <tr>\n",
       "      <th>3</th>\n",
       "      <td>  64.50000</td>\n",
       "      <td>  37.57125</td>\n",
       "      <td>  6.0</td>\n",
       "      <td>   9</td>\n",
       "      <td> 64.683935</td>\n",
       "      <td>  46.763567</td>\n",
       "      <td> 6.659101</td>\n",
       "      <td> -0.183935</td>\n",
       "      <td> -9.192317</td>\n",
       "      <td>-0.659101</td>\n",
       "      <td>-1.590803</td>\n",
       "      <td>  9.194157</td>\n",
       "    </tr>\n",
       "    <tr>\n",
       "      <th>4</th>\n",
       "      <td>  68.04750</td>\n",
       "      <td>  47.08500</td>\n",
       "      <td>  6.0</td>\n",
       "      <td>   9</td>\n",
       "      <td> 64.683935</td>\n",
       "      <td>  46.763567</td>\n",
       "      <td> 6.659101</td>\n",
       "      <td>  3.363565</td>\n",
       "      <td>  0.321433</td>\n",
       "      <td>-0.659101</td>\n",
       "      <td> 0.095274</td>\n",
       "      <td>  3.378889</td>\n",
       "    </tr>\n",
       "    <tr>\n",
       "      <th>5</th>\n",
       "      <td>  58.37250</td>\n",
       "      <td>  41.60250</td>\n",
       "      <td>  6.0</td>\n",
       "      <td>   9</td>\n",
       "      <td> 64.683935</td>\n",
       "      <td>  46.763567</td>\n",
       "      <td> 6.659101</td>\n",
       "      <td> -6.311435</td>\n",
       "      <td> -5.161067</td>\n",
       "      <td>-0.659101</td>\n",
       "      <td>-2.456132</td>\n",
       "      <td>  8.152964</td>\n",
       "    </tr>\n",
       "    <tr>\n",
       "      <th rowspan=\"5\" valign=\"top\">5 </th>\n",
       "      <th>1</th>\n",
       "      <td>  68.69250</td>\n",
       "      <td>  58.05000</td>\n",
       "      <td>  6.0</td>\n",
       "      <td>  12</td>\n",
       "      <td> 65.248033</td>\n",
       "      <td>  48.365850</td>\n",
       "      <td> 6.671737</td>\n",
       "      <td>  3.444467</td>\n",
       "      <td>  9.684150</td>\n",
       "      <td>-0.671737</td>\n",
       "      <td> 1.229070</td>\n",
       "      <td> 10.278478</td>\n",
       "    </tr>\n",
       "    <tr>\n",
       "      <th>2</th>\n",
       "      <td>  62.24250</td>\n",
       "      <td>  53.69625</td>\n",
       "      <td>  7.5</td>\n",
       "      <td>  12</td>\n",
       "      <td> 65.248033</td>\n",
       "      <td>  48.365850</td>\n",
       "      <td> 6.671737</td>\n",
       "      <td> -3.005533</td>\n",
       "      <td>  5.330400</td>\n",
       "      <td> 0.828263</td>\n",
       "      <td> 2.084209</td>\n",
       "      <td>  6.119346</td>\n",
       "    </tr>\n",
       "    <tr>\n",
       "      <th>3</th>\n",
       "      <td>  66.75750</td>\n",
       "      <td>  38.21625</td>\n",
       "      <td>  6.0</td>\n",
       "      <td>  12</td>\n",
       "      <td> 65.248033</td>\n",
       "      <td>  48.365850</td>\n",
       "      <td> 6.671737</td>\n",
       "      <td>  1.509467</td>\n",
       "      <td>-10.149600</td>\n",
       "      <td>-0.671737</td>\n",
       "      <td>-1.423157</td>\n",
       "      <td> 10.261231</td>\n",
       "    </tr>\n",
       "    <tr>\n",
       "      <th>4</th>\n",
       "      <td>  69.82125</td>\n",
       "      <td>  48.05250</td>\n",
       "      <td>  6.0</td>\n",
       "      <td>  12</td>\n",
       "      <td> 65.248033</td>\n",
       "      <td>  48.365850</td>\n",
       "      <td> 6.671737</td>\n",
       "      <td>  4.573217</td>\n",
       "      <td> -0.313350</td>\n",
       "      <td>-0.671737</td>\n",
       "      <td>-0.068412</td>\n",
       "      <td>  4.583939</td>\n",
       "    </tr>\n",
       "    <tr>\n",
       "      <th>5</th>\n",
       "      <td>  58.85625</td>\n",
       "      <td>  42.08625</td>\n",
       "      <td>  6.0</td>\n",
       "      <td>  12</td>\n",
       "      <td> 65.248033</td>\n",
       "      <td>  48.365850</td>\n",
       "      <td> 6.671737</td>\n",
       "      <td> -6.391783</td>\n",
       "      <td> -6.279600</td>\n",
       "      <td>-0.671737</td>\n",
       "      <td>-2.365048</td>\n",
       "      <td>  8.960372</td>\n",
       "    </tr>\n",
       "    <tr>\n",
       "      <th rowspan=\"5\" valign=\"top\">6 </th>\n",
       "      <th>1</th>\n",
       "      <td>  68.69250</td>\n",
       "      <td>  61.59750</td>\n",
       "      <td>  9.0</td>\n",
       "      <td>  15</td>\n",
       "      <td> 65.975786</td>\n",
       "      <td>  49.979424</td>\n",
       "      <td> 6.742575</td>\n",
       "      <td>  2.716714</td>\n",
       "      <td> 11.618076</td>\n",
       "      <td> 2.257425</td>\n",
       "      <td> 1.341089</td>\n",
       "      <td> 11.931481</td>\n",
       "    </tr>\n",
       "    <tr>\n",
       "      <th>2</th>\n",
       "      <td>  63.53250</td>\n",
       "      <td>  54.50250</td>\n",
       "      <td>  7.5</td>\n",
       "      <td>  15</td>\n",
       "      <td> 65.975786</td>\n",
       "      <td>  49.979424</td>\n",
       "      <td> 6.742575</td>\n",
       "      <td> -2.443286</td>\n",
       "      <td>  4.523076</td>\n",
       "      <td> 0.757425</td>\n",
       "      <td> 2.066071</td>\n",
       "      <td>  5.140804</td>\n",
       "    </tr>\n",
       "    <tr>\n",
       "      <th>3</th>\n",
       "      <td>  68.04750</td>\n",
       "      <td>  41.28000</td>\n",
       "      <td>  6.0</td>\n",
       "      <td>  15</td>\n",
       "      <td> 65.975786</td>\n",
       "      <td>  49.979424</td>\n",
       "      <td> 6.742575</td>\n",
       "      <td>  2.071714</td>\n",
       "      <td> -8.699424</td>\n",
       "      <td>-0.742575</td>\n",
       "      <td>-1.337007</td>\n",
       "      <td>  8.942705</td>\n",
       "    </tr>\n",
       "    <tr>\n",
       "      <th>4</th>\n",
       "      <td>  70.95000</td>\n",
       "      <td>  49.34250</td>\n",
       "      <td>  6.0</td>\n",
       "      <td>  15</td>\n",
       "      <td> 65.975786</td>\n",
       "      <td>  49.979424</td>\n",
       "      <td> 6.742575</td>\n",
       "      <td>  4.974214</td>\n",
       "      <td> -0.636924</td>\n",
       "      <td>-0.742575</td>\n",
       "      <td>-0.127352</td>\n",
       "      <td>  5.014826</td>\n",
       "    </tr>\n",
       "    <tr>\n",
       "      <th>5</th>\n",
       "      <td>  61.27500</td>\n",
       "      <td>  44.50500</td>\n",
       "      <td>  6.0</td>\n",
       "      <td>  15</td>\n",
       "      <td> 65.975786</td>\n",
       "      <td>  49.979424</td>\n",
       "      <td> 6.742575</td>\n",
       "      <td> -4.700786</td>\n",
       "      <td> -5.474424</td>\n",
       "      <td>-0.742575</td>\n",
       "      <td>-2.280309</td>\n",
       "      <td>  7.215726</td>\n",
       "    </tr>\n",
       "    <tr>\n",
       "      <th>...</th>\n",
       "      <th>...</th>\n",
       "      <td>...</td>\n",
       "      <td>...</td>\n",
       "      <td>...</td>\n",
       "      <td>...</td>\n",
       "      <td>...</td>\n",
       "      <td>...</td>\n",
       "      <td>...</td>\n",
       "      <td>...</td>\n",
       "      <td>...</td>\n",
       "      <td>...</td>\n",
       "      <td>...</td>\n",
       "      <td>...</td>\n",
       "    </tr>\n",
       "    <tr>\n",
       "      <th rowspan=\"5\" valign=\"top\">30</th>\n",
       "      <th>1</th>\n",
       "      <td>  84.81750</td>\n",
       "      <td>  85.14000</td>\n",
       "      <td>  7.5</td>\n",
       "      <td>  87</td>\n",
       "      <td> 90.129571</td>\n",
       "      <td>  93.688755</td>\n",
       "      <td> 6.844433</td>\n",
       "      <td> -5.312071</td>\n",
       "      <td> -8.548755</td>\n",
       "      <td> 0.655567</td>\n",
       "      <td>-2.126792</td>\n",
       "      <td> 10.064756</td>\n",
       "    </tr>\n",
       "    <tr>\n",
       "      <th>2</th>\n",
       "      <td>  85.14000</td>\n",
       "      <td>  84.65625</td>\n",
       "      <td>  7.5</td>\n",
       "      <td>  87</td>\n",
       "      <td> 90.129571</td>\n",
       "      <td>  93.688755</td>\n",
       "      <td> 6.844433</td>\n",
       "      <td> -4.989571</td>\n",
       "      <td> -9.032505</td>\n",
       "      <td> 0.655567</td>\n",
       "      <td>-2.075482</td>\n",
       "      <td> 10.319010</td>\n",
       "    </tr>\n",
       "    <tr>\n",
       "      <th>3</th>\n",
       "      <td>  94.17000</td>\n",
       "      <td> 100.94250</td>\n",
       "      <td>  7.5</td>\n",
       "      <td>  87</td>\n",
       "      <td> 90.129571</td>\n",
       "      <td>  93.688755</td>\n",
       "      <td> 6.844433</td>\n",
       "      <td>  4.040429</td>\n",
       "      <td>  7.253745</td>\n",
       "      <td> 0.655567</td>\n",
       "      <td>-5.220600</td>\n",
       "      <td>  8.303125</td>\n",
       "    </tr>\n",
       "    <tr>\n",
       "      <th>4</th>\n",
       "      <td>  83.20500</td>\n",
       "      <td>  92.55750</td>\n",
       "      <td>  4.5</td>\n",
       "      <td>  87</td>\n",
       "      <td> 90.129571</td>\n",
       "      <td>  93.688755</td>\n",
       "      <td> 6.844433</td>\n",
       "      <td> -6.924571</td>\n",
       "      <td> -1.131255</td>\n",
       "      <td>-2.344433</td>\n",
       "      <td>-2.979655</td>\n",
       "      <td>  7.016368</td>\n",
       "    </tr>\n",
       "    <tr>\n",
       "      <th>5</th>\n",
       "      <td> 101.42625</td>\n",
       "      <td> 102.71625</td>\n",
       "      <td>  9.0</td>\n",
       "      <td>  87</td>\n",
       "      <td> 90.129571</td>\n",
       "      <td>  93.688755</td>\n",
       "      <td> 6.844433</td>\n",
       "      <td> 11.296679</td>\n",
       "      <td>  9.027495</td>\n",
       "      <td> 2.155567</td>\n",
       "      <td>-5.608976</td>\n",
       "      <td> 14.460658</td>\n",
       "    </tr>\n",
       "    <tr>\n",
       "      <th rowspan=\"5\" valign=\"top\">31</th>\n",
       "      <th>1</th>\n",
       "      <td>  86.59125</td>\n",
       "      <td>  91.10625</td>\n",
       "      <td>  9.0</td>\n",
       "      <td>  90</td>\n",
       "      <td> 91.799867</td>\n",
       "      <td>  96.644973</td>\n",
       "      <td> 7.480260</td>\n",
       "      <td> -5.208617</td>\n",
       "      <td> -5.538723</td>\n",
       "      <td> 1.519740</td>\n",
       "      <td>-2.325489</td>\n",
       "      <td>  7.603101</td>\n",
       "    </tr>\n",
       "    <tr>\n",
       "      <th>2</th>\n",
       "      <td>  86.10750</td>\n",
       "      <td>  90.30000</td>\n",
       "      <td>  9.0</td>\n",
       "      <td>  90</td>\n",
       "      <td> 91.799867</td>\n",
       "      <td>  96.644973</td>\n",
       "      <td> 7.480260</td>\n",
       "      <td> -5.692367</td>\n",
       "      <td> -6.344973</td>\n",
       "      <td> 1.519740</td>\n",
       "      <td>-2.302032</td>\n",
       "      <td>  8.524185</td>\n",
       "    </tr>\n",
       "    <tr>\n",
       "      <th>3</th>\n",
       "      <td>  97.71750</td>\n",
       "      <td> 100.94250</td>\n",
       "      <td>  6.0</td>\n",
       "      <td>  90</td>\n",
       "      <td> 91.799867</td>\n",
       "      <td>  96.644973</td>\n",
       "      <td> 7.480260</td>\n",
       "      <td>  5.917633</td>\n",
       "      <td>  4.297527</td>\n",
       "      <td>-1.480260</td>\n",
       "      <td>-5.655075</td>\n",
       "      <td>  7.313489</td>\n",
       "    </tr>\n",
       "    <tr>\n",
       "      <th>4</th>\n",
       "      <td>  84.49500</td>\n",
       "      <td>  97.39500</td>\n",
       "      <td>  4.5</td>\n",
       "      <td>  90</td>\n",
       "      <td> 91.799867</td>\n",
       "      <td>  96.644973</td>\n",
       "      <td> 7.480260</td>\n",
       "      <td> -7.304867</td>\n",
       "      <td>  0.750027</td>\n",
       "      <td>-2.980260</td>\n",
       "      <td>-3.243909</td>\n",
       "      <td>  7.343271</td>\n",
       "    </tr>\n",
       "    <tr>\n",
       "      <th>5</th>\n",
       "      <td> 105.45750</td>\n",
       "      <td> 104.00625</td>\n",
       "      <td>  9.0</td>\n",
       "      <td>  90</td>\n",
       "      <td> 91.799867</td>\n",
       "      <td>  96.644973</td>\n",
       "      <td> 7.480260</td>\n",
       "      <td> 13.657633</td>\n",
       "      <td>  7.361277</td>\n",
       "      <td> 1.519740</td>\n",
       "      <td>-5.788837</td>\n",
       "      <td> 15.515132</td>\n",
       "    </tr>\n",
       "    <tr>\n",
       "      <th rowspan=\"5\" valign=\"top\">32</th>\n",
       "      <th>1</th>\n",
       "      <td>  87.23625</td>\n",
       "      <td>  94.49250</td>\n",
       "      <td>  9.0</td>\n",
       "      <td>  93</td>\n",
       "      <td> 93.102835</td>\n",
       "      <td>  99.853606</td>\n",
       "      <td> 7.376487</td>\n",
       "      <td> -5.866585</td>\n",
       "      <td> -5.361106</td>\n",
       "      <td> 1.623513</td>\n",
       "      <td>-2.401185</td>\n",
       "      <td>  7.947218</td>\n",
       "    </tr>\n",
       "    <tr>\n",
       "      <th>2</th>\n",
       "      <td>  86.59125</td>\n",
       "      <td>  94.81500</td>\n",
       "      <td>  6.0</td>\n",
       "      <td>  93</td>\n",
       "      <td> 93.102835</td>\n",
       "      <td>  99.853606</td>\n",
       "      <td> 7.376487</td>\n",
       "      <td> -6.511585</td>\n",
       "      <td> -5.038606</td>\n",
       "      <td>-1.376487</td>\n",
       "      <td>-2.483038</td>\n",
       "      <td>  8.233364</td>\n",
       "    </tr>\n",
       "    <tr>\n",
       "      <th>3</th>\n",
       "      <td> 100.78125</td>\n",
       "      <td> 105.29625</td>\n",
       "      <td>  7.5</td>\n",
       "      <td>  93</td>\n",
       "      <td> 93.102835</td>\n",
       "      <td>  99.853606</td>\n",
       "      <td> 7.376487</td>\n",
       "      <td>  7.678415</td>\n",
       "      <td>  5.442644</td>\n",
       "      <td> 0.123513</td>\n",
       "      <td>-5.666562</td>\n",
       "      <td>  9.411718</td>\n",
       "    </tr>\n",
       "    <tr>\n",
       "      <th>4</th>\n",
       "      <td>  87.39750</td>\n",
       "      <td> 101.26500</td>\n",
       "      <td>  4.5</td>\n",
       "      <td>  93</td>\n",
       "      <td> 93.102835</td>\n",
       "      <td>  99.853606</td>\n",
       "      <td> 7.376487</td>\n",
       "      <td> -5.705335</td>\n",
       "      <td>  1.411394</td>\n",
       "      <td>-2.876487</td>\n",
       "      <td>-3.384105</td>\n",
       "      <td>  5.877319</td>\n",
       "    </tr>\n",
       "    <tr>\n",
       "      <th>5</th>\n",
       "      <td> 105.29625</td>\n",
       "      <td> 105.78000</td>\n",
       "      <td>  9.0</td>\n",
       "      <td>  93</td>\n",
       "      <td> 93.102835</td>\n",
       "      <td>  99.853606</td>\n",
       "      <td> 7.376487</td>\n",
       "      <td> 12.193415</td>\n",
       "      <td>  5.926394</td>\n",
       "      <td> 1.623513</td>\n",
       "      <td>-5.830774</td>\n",
       "      <td> 13.557342</td>\n",
       "    </tr>\n",
       "    <tr>\n",
       "      <th rowspan=\"5\" valign=\"top\">33</th>\n",
       "      <th>1</th>\n",
       "      <td>  87.23625</td>\n",
       "      <td>  95.78250</td>\n",
       "      <td>  3.0</td>\n",
       "      <td>  96</td>\n",
       "      <td> 94.495154</td>\n",
       "      <td> 103.030645</td>\n",
       "      <td> 6.140557</td>\n",
       "      <td> -7.258904</td>\n",
       "      <td> -7.248145</td>\n",
       "      <td>-3.140557</td>\n",
       "      <td>-2.356936</td>\n",
       "      <td> 10.258035</td>\n",
       "    </tr>\n",
       "    <tr>\n",
       "      <th>2</th>\n",
       "      <td>  88.36500</td>\n",
       "      <td>  96.26625</td>\n",
       "      <td>  6.0</td>\n",
       "      <td>  96</td>\n",
       "      <td> 94.495154</td>\n",
       "      <td> 103.030645</td>\n",
       "      <td> 6.140557</td>\n",
       "      <td> -6.130154</td>\n",
       "      <td> -6.764395</td>\n",
       "      <td>-0.140557</td>\n",
       "      <td>-2.307047</td>\n",
       "      <td>  9.128846</td>\n",
       "    </tr>\n",
       "    <tr>\n",
       "      <th>3</th>\n",
       "      <td> 101.42625</td>\n",
       "      <td> 107.07000</td>\n",
       "      <td>  9.0</td>\n",
       "      <td>  96</td>\n",
       "      <td> 94.495154</td>\n",
       "      <td> 103.030645</td>\n",
       "      <td> 6.140557</td>\n",
       "      <td>  6.931096</td>\n",
       "      <td>  4.039355</td>\n",
       "      <td> 2.859443</td>\n",
       "      <td>-5.755518</td>\n",
       "      <td>  8.022249</td>\n",
       "    </tr>\n",
       "    <tr>\n",
       "      <th>4</th>\n",
       "      <td>  90.30000</td>\n",
       "      <td> 105.13500</td>\n",
       "      <td>  4.5</td>\n",
       "      <td>  96</td>\n",
       "      <td> 94.495154</td>\n",
       "      <td> 103.030645</td>\n",
       "      <td> 6.140557</td>\n",
       "      <td> -4.195154</td>\n",
       "      <td>  2.104355</td>\n",
       "      <td>-1.640557</td>\n",
       "      <td>-3.606532</td>\n",
       "      <td>  4.693360</td>\n",
       "    </tr>\n",
       "    <tr>\n",
       "      <th>5</th>\n",
       "      <td> 103.36125</td>\n",
       "      <td> 108.03750</td>\n",
       "      <td> 10.5</td>\n",
       "      <td>  96</td>\n",
       "      <td> 94.495154</td>\n",
       "      <td> 103.030645</td>\n",
       "      <td> 6.140557</td>\n",
       "      <td>  8.866096</td>\n",
       "      <td>  5.006855</td>\n",
       "      <td> 4.359443</td>\n",
       "      <td>-5.769112</td>\n",
       "      <td> 10.182154</td>\n",
       "    </tr>\n",
       "    <tr>\n",
       "      <th rowspan=\"5\" valign=\"top\">34</th>\n",
       "      <th>1</th>\n",
       "      <td>  89.33250</td>\n",
       "      <td> 100.94250</td>\n",
       "      <td>  7.5</td>\n",
       "      <td>  99</td>\n",
       "      <td> 96.497405</td>\n",
       "      <td> 106.144267</td>\n",
       "      <td> 6.760764</td>\n",
       "      <td> -7.164905</td>\n",
       "      <td> -5.201767</td>\n",
       "      <td> 0.739236</td>\n",
       "      <td>-2.513625</td>\n",
       "      <td>  8.854052</td>\n",
       "    </tr>\n",
       "    <tr>\n",
       "      <th>2</th>\n",
       "      <td>  89.81625</td>\n",
       "      <td> 100.29750</td>\n",
       "      <td>  6.0</td>\n",
       "      <td>  99</td>\n",
       "      <td> 96.497405</td>\n",
       "      <td> 106.144267</td>\n",
       "      <td> 6.760764</td>\n",
       "      <td> -6.681155</td>\n",
       "      <td> -5.846767</td>\n",
       "      <td>-0.760764</td>\n",
       "      <td>-2.422698</td>\n",
       "      <td>  8.878205</td>\n",
       "    </tr>\n",
       "    <tr>\n",
       "      <th>3</th>\n",
       "      <td> 105.45750</td>\n",
       "      <td> 110.61750</td>\n",
       "      <td>  6.0</td>\n",
       "      <td>  99</td>\n",
       "      <td> 96.497405</td>\n",
       "      <td> 106.144267</td>\n",
       "      <td> 6.760764</td>\n",
       "      <td>  8.960095</td>\n",
       "      <td>  4.473233</td>\n",
       "      <td>-0.760764</td>\n",
       "      <td>-5.820146</td>\n",
       "      <td> 10.014645</td>\n",
       "    </tr>\n",
       "    <tr>\n",
       "      <th>4</th>\n",
       "      <td>  92.23500</td>\n",
       "      <td> 108.03750</td>\n",
       "      <td>  3.0</td>\n",
       "      <td>  99</td>\n",
       "      <td> 96.497405</td>\n",
       "      <td> 106.144267</td>\n",
       "      <td> 6.760764</td>\n",
       "      <td> -4.262405</td>\n",
       "      <td>  1.893233</td>\n",
       "      <td>-3.760764</td>\n",
       "      <td>-3.559588</td>\n",
       "      <td>  4.663949</td>\n",
       "    </tr>\n",
       "    <tr>\n",
       "      <th>5</th>\n",
       "      <td> 105.78000</td>\n",
       "      <td> 112.23000</td>\n",
       "      <td>  9.0</td>\n",
       "      <td>  99</td>\n",
       "      <td> 96.497405</td>\n",
       "      <td> 106.144267</td>\n",
       "      <td> 6.760764</td>\n",
       "      <td>  9.282595</td>\n",
       "      <td>  6.085733</td>\n",
       "      <td> 2.239236</td>\n",
       "      <td>-5.702879</td>\n",
       "      <td> 11.099672</td>\n",
       "    </tr>\n",
       "    <tr>\n",
       "      <th rowspan=\"5\" valign=\"top\">35</th>\n",
       "      <th>1</th>\n",
       "      <td>  91.26750</td>\n",
       "      <td> 103.20000</td>\n",
       "      <td>  7.5</td>\n",
       "      <td> 102</td>\n",
       "      <td> 98.846473</td>\n",
       "      <td> 108.574503</td>\n",
       "      <td> 6.756161</td>\n",
       "      <td> -7.578973</td>\n",
       "      <td> -5.374503</td>\n",
       "      <td> 0.743839</td>\n",
       "      <td>-2.524763</td>\n",
       "      <td>  9.291184</td>\n",
       "    </tr>\n",
       "    <tr>\n",
       "      <th>2</th>\n",
       "      <td>  91.26750</td>\n",
       "      <td> 102.71625</td>\n",
       "      <td>  6.0</td>\n",
       "      <td> 102</td>\n",
       "      <td> 98.846473</td>\n",
       "      <td> 108.574503</td>\n",
       "      <td> 6.756161</td>\n",
       "      <td> -7.578973</td>\n",
       "      <td> -5.858253</td>\n",
       "      <td>-0.756161</td>\n",
       "      <td>-2.483557</td>\n",
       "      <td>  9.579141</td>\n",
       "    </tr>\n",
       "    <tr>\n",
       "      <th>3</th>\n",
       "      <td> 108.52125</td>\n",
       "      <td> 112.87500</td>\n",
       "      <td>  6.0</td>\n",
       "      <td> 102</td>\n",
       "      <td> 98.846473</td>\n",
       "      <td> 108.574503</td>\n",
       "      <td> 6.756161</td>\n",
       "      <td>  9.674777</td>\n",
       "      <td>  4.300497</td>\n",
       "      <td>-0.756161</td>\n",
       "      <td>-5.864910</td>\n",
       "      <td> 10.587521</td>\n",
       "    </tr>\n",
       "    <tr>\n",
       "      <th>4</th>\n",
       "      <td>  94.97625</td>\n",
       "      <td> 109.97250</td>\n",
       "      <td>  6.0</td>\n",
       "      <td> 102</td>\n",
       "      <td> 98.846473</td>\n",
       "      <td> 108.574503</td>\n",
       "      <td> 6.756161</td>\n",
       "      <td> -3.870223</td>\n",
       "      <td>  1.397997</td>\n",
       "      <td>-0.756161</td>\n",
       "      <td>-3.488227</td>\n",
       "      <td>  4.114975</td>\n",
       "    </tr>\n",
       "    <tr>\n",
       "      <th>5</th>\n",
       "      <td> 108.36000</td>\n",
       "      <td> 113.84250</td>\n",
       "      <td>  9.0</td>\n",
       "      <td> 102</td>\n",
       "      <td> 98.846473</td>\n",
       "      <td> 108.574503</td>\n",
       "      <td> 6.756161</td>\n",
       "      <td>  9.513527</td>\n",
       "      <td>  5.267997</td>\n",
       "      <td> 2.243839</td>\n",
       "      <td>-5.777477</td>\n",
       "      <td> 10.874695</td>\n",
       "    </tr>\n",
       "  </tbody>\n",
       "</table>\n",
       "<p>175 rows × 12 columns</p>\n",
       "</div>"
      ],
      "text/plain": [
       "                       x          y     z    t        x_c         y_c  \\\n",
       "t_stamp label                                                           \n",
       "1       1       66.75750   49.98750   9.0    0  62.384554   42.909864   \n",
       "        2       57.56625   50.47125   7.5    0  62.384554   42.909864   \n",
       "        3       60.79125   32.41125   6.0    0  62.384554   42.909864   \n",
       "        4       64.82250   40.63500   6.0    0  62.384554   42.909864   \n",
       "        5       61.43625   41.60250   6.0    0  62.384554   42.909864   \n",
       "2       1       65.95125   51.60000   7.5    3  62.781796   43.484943   \n",
       "        2       60.14625   49.34250   7.5    3  62.781796   43.484943   \n",
       "        3       62.88750   33.05625   6.0    3  62.781796   43.484943   \n",
       "        4       66.43500   41.92500   6.0    3  62.781796   43.484943   \n",
       "        5       59.66250   40.15125   6.0    3  62.781796   43.484943   \n",
       "3       1       67.08000   53.69625   7.5    6  63.889423   44.980560   \n",
       "        2       60.95250   50.95500   9.0    6  63.889423   44.980560   \n",
       "        3       63.85500   35.79750   6.0    6  63.889423   44.980560   \n",
       "        4       69.17625   45.31125   6.0    6  63.889423   44.980560   \n",
       "        5       58.69500   39.34500   6.0    6  63.889423   44.980560   \n",
       "4       1       69.01500   56.76000   7.5    9  64.683935   46.763567   \n",
       "        2       61.59750   52.40625   7.5    9  64.683935   46.763567   \n",
       "        3       64.50000   37.57125   6.0    9  64.683935   46.763567   \n",
       "        4       68.04750   47.08500   6.0    9  64.683935   46.763567   \n",
       "        5       58.37250   41.60250   6.0    9  64.683935   46.763567   \n",
       "5       1       68.69250   58.05000   6.0   12  65.248033   48.365850   \n",
       "        2       62.24250   53.69625   7.5   12  65.248033   48.365850   \n",
       "        3       66.75750   38.21625   6.0   12  65.248033   48.365850   \n",
       "        4       69.82125   48.05250   6.0   12  65.248033   48.365850   \n",
       "        5       58.85625   42.08625   6.0   12  65.248033   48.365850   \n",
       "6       1       68.69250   61.59750   9.0   15  65.975786   49.979424   \n",
       "        2       63.53250   54.50250   7.5   15  65.975786   49.979424   \n",
       "        3       68.04750   41.28000   6.0   15  65.975786   49.979424   \n",
       "        4       70.95000   49.34250   6.0   15  65.975786   49.979424   \n",
       "        5       61.27500   44.50500   6.0   15  65.975786   49.979424   \n",
       "...                  ...        ...   ...  ...        ...         ...   \n",
       "30      1       84.81750   85.14000   7.5   87  90.129571   93.688755   \n",
       "        2       85.14000   84.65625   7.5   87  90.129571   93.688755   \n",
       "        3       94.17000  100.94250   7.5   87  90.129571   93.688755   \n",
       "        4       83.20500   92.55750   4.5   87  90.129571   93.688755   \n",
       "        5      101.42625  102.71625   9.0   87  90.129571   93.688755   \n",
       "31      1       86.59125   91.10625   9.0   90  91.799867   96.644973   \n",
       "        2       86.10750   90.30000   9.0   90  91.799867   96.644973   \n",
       "        3       97.71750  100.94250   6.0   90  91.799867   96.644973   \n",
       "        4       84.49500   97.39500   4.5   90  91.799867   96.644973   \n",
       "        5      105.45750  104.00625   9.0   90  91.799867   96.644973   \n",
       "32      1       87.23625   94.49250   9.0   93  93.102835   99.853606   \n",
       "        2       86.59125   94.81500   6.0   93  93.102835   99.853606   \n",
       "        3      100.78125  105.29625   7.5   93  93.102835   99.853606   \n",
       "        4       87.39750  101.26500   4.5   93  93.102835   99.853606   \n",
       "        5      105.29625  105.78000   9.0   93  93.102835   99.853606   \n",
       "33      1       87.23625   95.78250   3.0   96  94.495154  103.030645   \n",
       "        2       88.36500   96.26625   6.0   96  94.495154  103.030645   \n",
       "        3      101.42625  107.07000   9.0   96  94.495154  103.030645   \n",
       "        4       90.30000  105.13500   4.5   96  94.495154  103.030645   \n",
       "        5      103.36125  108.03750  10.5   96  94.495154  103.030645   \n",
       "34      1       89.33250  100.94250   7.5   99  96.497405  106.144267   \n",
       "        2       89.81625  100.29750   6.0   99  96.497405  106.144267   \n",
       "        3      105.45750  110.61750   6.0   99  96.497405  106.144267   \n",
       "        4       92.23500  108.03750   3.0   99  96.497405  106.144267   \n",
       "        5      105.78000  112.23000   9.0   99  96.497405  106.144267   \n",
       "35      1       91.26750  103.20000   7.5  102  98.846473  108.574503   \n",
       "        2       91.26750  102.71625   6.0  102  98.846473  108.574503   \n",
       "        3      108.52125  112.87500   6.0  102  98.846473  108.574503   \n",
       "        4       94.97625  109.97250   6.0  102  98.846473  108.574503   \n",
       "        5      108.36000  113.84250   9.0  102  98.846473  108.574503   \n",
       "\n",
       "                    z_c        x_r        y_r       z_r     theta        rho  \n",
       "t_stamp label                                                                 \n",
       "1       1      6.701917   4.372946   7.077636  2.298083  1.017352   8.319591  \n",
       "        2      6.701917  -4.818304   7.561386  0.798083  2.138138   8.966081  \n",
       "        3      6.701917  -1.593304 -10.498614 -0.701917 -1.721410  10.618828  \n",
       "        4      6.701917   2.437946  -2.274864 -0.701917 -0.750808   3.334454  \n",
       "        5      6.701917  -0.948304  -1.307364 -0.701917 -2.198338   1.615079  \n",
       "2       1      6.875542   3.169454   8.115057  0.624458  1.198450   8.712037  \n",
       "        2      6.875542  -2.635546   5.857557  0.624458  1.993600   6.423168  \n",
       "        3      6.875542   0.105704 -10.428693 -0.875542 -1.560661  10.429228  \n",
       "        4      6.875542   3.653204  -1.559943 -0.875542 -0.403569   3.972319  \n",
       "        5      6.875542  -3.119296  -3.333693 -0.875542 -2.322982   4.565470  \n",
       "3       1      6.783766   3.190577   8.715690  0.716234  1.219875   9.281327  \n",
       "        2      6.783766  -2.936923   5.974440  2.216234  2.027686   6.657286  \n",
       "        3      6.783766  -0.034423  -9.183060 -0.783766 -1.574545   9.183124  \n",
       "        4      6.783766   5.286827   0.330690 -0.783766  0.062468   5.297159  \n",
       "        5      6.783766  -5.194423  -5.635560 -0.783766 -2.315484   7.664305  \n",
       "4       1      6.659101   4.331065   9.996433  0.840899  1.161949  10.894347  \n",
       "        2      6.659101  -3.086435   5.642683  0.840899  2.071318   6.431637  \n",
       "        3      6.659101  -0.183935  -9.192317 -0.659101 -1.590803   9.194157  \n",
       "        4      6.659101   3.363565   0.321433 -0.659101  0.095274   3.378889  \n",
       "        5      6.659101  -6.311435  -5.161067 -0.659101 -2.456132   8.152964  \n",
       "5       1      6.671737   3.444467   9.684150 -0.671737  1.229070  10.278478  \n",
       "        2      6.671737  -3.005533   5.330400  0.828263  2.084209   6.119346  \n",
       "        3      6.671737   1.509467 -10.149600 -0.671737 -1.423157  10.261231  \n",
       "        4      6.671737   4.573217  -0.313350 -0.671737 -0.068412   4.583939  \n",
       "        5      6.671737  -6.391783  -6.279600 -0.671737 -2.365048   8.960372  \n",
       "6       1      6.742575   2.716714  11.618076  2.257425  1.341089  11.931481  \n",
       "        2      6.742575  -2.443286   4.523076  0.757425  2.066071   5.140804  \n",
       "        3      6.742575   2.071714  -8.699424 -0.742575 -1.337007   8.942705  \n",
       "        4      6.742575   4.974214  -0.636924 -0.742575 -0.127352   5.014826  \n",
       "        5      6.742575  -4.700786  -5.474424 -0.742575 -2.280309   7.215726  \n",
       "...                 ...        ...        ...       ...       ...        ...  \n",
       "30      1      6.844433  -5.312071  -8.548755  0.655567 -2.126792  10.064756  \n",
       "        2      6.844433  -4.989571  -9.032505  0.655567 -2.075482  10.319010  \n",
       "        3      6.844433   4.040429   7.253745  0.655567 -5.220600   8.303125  \n",
       "        4      6.844433  -6.924571  -1.131255 -2.344433 -2.979655   7.016368  \n",
       "        5      6.844433  11.296679   9.027495  2.155567 -5.608976  14.460658  \n",
       "31      1      7.480260  -5.208617  -5.538723  1.519740 -2.325489   7.603101  \n",
       "        2      7.480260  -5.692367  -6.344973  1.519740 -2.302032   8.524185  \n",
       "        3      7.480260   5.917633   4.297527 -1.480260 -5.655075   7.313489  \n",
       "        4      7.480260  -7.304867   0.750027 -2.980260 -3.243909   7.343271  \n",
       "        5      7.480260  13.657633   7.361277  1.519740 -5.788837  15.515132  \n",
       "32      1      7.376487  -5.866585  -5.361106  1.623513 -2.401185   7.947218  \n",
       "        2      7.376487  -6.511585  -5.038606 -1.376487 -2.483038   8.233364  \n",
       "        3      7.376487   7.678415   5.442644  0.123513 -5.666562   9.411718  \n",
       "        4      7.376487  -5.705335   1.411394 -2.876487 -3.384105   5.877319  \n",
       "        5      7.376487  12.193415   5.926394  1.623513 -5.830774  13.557342  \n",
       "33      1      6.140557  -7.258904  -7.248145 -3.140557 -2.356936  10.258035  \n",
       "        2      6.140557  -6.130154  -6.764395 -0.140557 -2.307047   9.128846  \n",
       "        3      6.140557   6.931096   4.039355  2.859443 -5.755518   8.022249  \n",
       "        4      6.140557  -4.195154   2.104355 -1.640557 -3.606532   4.693360  \n",
       "        5      6.140557   8.866096   5.006855  4.359443 -5.769112  10.182154  \n",
       "34      1      6.760764  -7.164905  -5.201767  0.739236 -2.513625   8.854052  \n",
       "        2      6.760764  -6.681155  -5.846767 -0.760764 -2.422698   8.878205  \n",
       "        3      6.760764   8.960095   4.473233 -0.760764 -5.820146  10.014645  \n",
       "        4      6.760764  -4.262405   1.893233 -3.760764 -3.559588   4.663949  \n",
       "        5      6.760764   9.282595   6.085733  2.239236 -5.702879  11.099672  \n",
       "35      1      6.756161  -7.578973  -5.374503  0.743839 -2.524763   9.291184  \n",
       "        2      6.756161  -7.578973  -5.858253 -0.756161 -2.483557   9.579141  \n",
       "        3      6.756161   9.674777   4.300497 -0.756161 -5.864910  10.587521  \n",
       "        4      6.756161  -3.870223   1.397997 -0.756161 -3.488227   4.114975  \n",
       "        5      6.756161   9.513527   5.267997  2.243839 -5.777477  10.874695  \n",
       "\n",
       "[175 rows x 12 columns]"
      ]
     },
     "execution_count": 13,
     "metadata": {},
     "output_type": "execute_result"
    }
   ],
   "source": [
    "cluster.trajs"
   ]
  },
  {
   "cell_type": "code",
   "execution_count": 14,
   "metadata": {
    "collapsed": false
   },
   "outputs": [],
   "source": [
    "cluster.trajs.to_csv(cluster.oio.store_path.replace('.h5', '_all.csv'))"
   ]
  },
  {
   "cell_type": "markdown",
   "metadata": {},
   "source": [
    "#### Each nucleus trajectory is represented by a segment"
   ]
  },
  {
   "cell_type": "code",
   "execution_count": 93,
   "metadata": {
    "collapsed": false
   },
   "outputs": [
    {
     "name": "stdout",
     "output_type": "stream",
     "text": [
      "Segment with label 1 has 61 time points and has color code #FF00AC\n",
      "Segment with label 2 has 61 time points and has color code #FF0000\n",
      "Segment with label 3 has 61 time points and has color code #00FFA9\n"
     ]
    }
   ],
   "source": [
    "## This means that we go over all the segments\n",
    "## contained in the cluster trajectories\n",
    "colors = cluster.trajs.get_colors()\n",
    "segments = cluster.trajs.get_segments()\n",
    "for label, segment in cluster.trajs.iter_segments:\n",
    "    print('Segment with label {} has {} time points and has color code {}'\n",
    "          .format(label, segment.shape[0], colors[label]))"
   ]
  },
  {
   "cell_type": "code",
   "execution_count": 94,
   "metadata": {
    "collapsed": false
   },
   "outputs": [],
   "source": [
    "import os"
   ]
  },
  {
   "cell_type": "code",
   "execution_count": 95,
   "metadata": {
    "collapsed": false
   },
   "outputs": [
    {
     "ename": "ValueError",
     "evalue": "    Error on input data",
     "output_type": "error",
     "traceback": [
      "\u001b[1;31m---------------------------------------------------------------------------\u001b[0m",
      "\u001b[1;31mValueError\u001b[0m                                Traceback (most recent call last)",
      "\u001b[1;32m<ipython-input-95-b61bb4c388dd>\u001b[0m in \u001b[0;36m<module>\u001b[1;34m()\u001b[0m\n\u001b[0;32m      6\u001b[0m \u001b[1;33m\u001b[0m\u001b[0m\n\u001b[0;32m      7\u001b[0m \u001b[1;33m\u001b[0m\u001b[0m\n\u001b[1;32m----> 8\u001b[1;33m \u001b[0minterp\u001b[0m \u001b[1;33m=\u001b[0m \u001b[0mcluster\u001b[0m\u001b[1;33m.\u001b[0m\u001b[0mtrajs\u001b[0m\u001b[1;33m.\u001b[0m\u001b[0mtime_interpolate\u001b[0m\u001b[1;33m(\u001b[0m\u001b[0msampling\u001b[0m\u001b[1;33m=\u001b[0m\u001b[0msampling\u001b[0m\u001b[1;33m,\u001b[0m \u001b[0ms\u001b[0m\u001b[1;33m=\u001b[0m\u001b[1;36m0\u001b[0m\u001b[1;33m)\u001b[0m\u001b[1;33m\u001b[0m\u001b[0m\n\u001b[0m\u001b[0;32m      9\u001b[0m \u001b[0mmeasure_pool\u001b[0m \u001b[1;33m=\u001b[0m \u001b[0mpd\u001b[0m\u001b[1;33m.\u001b[0m\u001b[0mDataFrame\u001b[0m\u001b[1;33m(\u001b[0m\u001b[0mindex\u001b[0m\u001b[1;33m=\u001b[0m\u001b[0minterp\u001b[0m\u001b[1;33m.\u001b[0m\u001b[0mindex\u001b[0m\u001b[1;33m)\u001b[0m\u001b[1;33m\u001b[0m\u001b[0m\n\u001b[0;32m     10\u001b[0m \u001b[0mcluster\u001b[0m\u001b[1;33m.\u001b[0m\u001b[0mget_center\u001b[0m\u001b[1;33m(\u001b[0m\u001b[0mreset\u001b[0m\u001b[1;33m=\u001b[0m\u001b[1;32mTrue\u001b[0m\u001b[1;33m,\u001b[0m \u001b[0msave_droped\u001b[0m\u001b[1;33m=\u001b[0m\u001b[1;34m'interpolated'\u001b[0m\u001b[1;33m,\u001b[0m \u001b[0mtrajs\u001b[0m\u001b[1;33m=\u001b[0m\u001b[0minterp\u001b[0m\u001b[1;33m)\u001b[0m\u001b[1;33m\u001b[0m\u001b[0m\n",
      "\u001b[1;32m/home/guillaume/Python/scikit-tracker/sktracker/trajectories/trajectories.py\u001b[0m in \u001b[0;36mtime_interpolate\u001b[1;34m(self, sampling, s, k, time_step, keep_speed, keep_acceleration, coords)\u001b[0m\n\u001b[0;32m    694\u001b[0m         \u001b[1;32melse\u001b[0m\u001b[1;33m:\u001b[0m\u001b[1;33m\u001b[0m\u001b[0m\n\u001b[0;32m    695\u001b[0m \u001b[1;33m\u001b[0m\u001b[0m\n\u001b[1;32m--> 696\u001b[1;33m             \u001b[0minterpolated\u001b[0m \u001b[1;33m=\u001b[0m \u001b[0mtime_interpolate_\u001b[0m\u001b[1;33m(\u001b[0m\u001b[0mself\u001b[0m\u001b[1;33m,\u001b[0m \u001b[0msampling\u001b[0m\u001b[1;33m,\u001b[0m \u001b[0ms\u001b[0m\u001b[1;33m,\u001b[0m \u001b[0mk\u001b[0m\u001b[1;33m,\u001b[0m \u001b[0mcoords\u001b[0m\u001b[1;33m)\u001b[0m\u001b[1;33m\u001b[0m\u001b[0m\n\u001b[0m\u001b[0;32m    697\u001b[0m \u001b[1;33m\u001b[0m\u001b[0m\n\u001b[0;32m    698\u001b[0m         \u001b[1;32mif\u001b[0m \u001b[1;32mnot\u001b[0m \u001b[0mkeep_speed\u001b[0m\u001b[1;33m:\u001b[0m\u001b[1;33m\u001b[0m\u001b[0m\n",
      "\u001b[1;32m/home/guillaume/Python/scikit-tracker/sktracker/trajectories/measures/transformation.py\u001b[0m in \u001b[0;36mtime_interpolate\u001b[1;34m(trajs, sampling, s, k, coords)\u001b[0m\n\u001b[0;32m    105\u001b[0m     interpolated = trajs.groupby(level='label').apply(_segment_interpolate_,\n\u001b[0;32m    106\u001b[0m                                                       \u001b[0msampling\u001b[0m\u001b[1;33m=\u001b[0m\u001b[0msampling\u001b[0m\u001b[1;33m,\u001b[0m \u001b[0ms\u001b[0m\u001b[1;33m=\u001b[0m\u001b[0ms\u001b[0m\u001b[1;33m,\u001b[0m \u001b[0mk\u001b[0m\u001b[1;33m=\u001b[0m\u001b[0mk\u001b[0m\u001b[1;33m,\u001b[0m\u001b[1;33m\u001b[0m\u001b[0m\n\u001b[1;32m--> 107\u001b[1;33m                                                       coords=coords)\n\u001b[0m\u001b[0;32m    108\u001b[0m     interpolated = interpolated.swaplevel(\n\u001b[0;32m    109\u001b[0m         't_stamp', 'label').sortlevel(['t_stamp', 'label'])\n",
      "\u001b[1;32m/home/guillaume/anaconda/envs/python3/lib/python3.4/site-packages/pandas/core/groupby.py\u001b[0m in \u001b[0;36mapply\u001b[1;34m(self, func, *args, **kwargs)\u001b[0m\n\u001b[0;32m    660\u001b[0m         \u001b[1;31m# ignore SettingWithCopy here in case the user mutates\u001b[0m\u001b[1;33m\u001b[0m\u001b[1;33m\u001b[0m\u001b[0m\n\u001b[0;32m    661\u001b[0m         \u001b[1;32mwith\u001b[0m \u001b[0moption_context\u001b[0m\u001b[1;33m(\u001b[0m\u001b[1;34m'mode.chained_assignment'\u001b[0m\u001b[1;33m,\u001b[0m\u001b[1;32mNone\u001b[0m\u001b[1;33m)\u001b[0m\u001b[1;33m:\u001b[0m\u001b[1;33m\u001b[0m\u001b[0m\n\u001b[1;32m--> 662\u001b[1;33m             \u001b[1;32mreturn\u001b[0m \u001b[0mself\u001b[0m\u001b[1;33m.\u001b[0m\u001b[0m_python_apply_general\u001b[0m\u001b[1;33m(\u001b[0m\u001b[0mf\u001b[0m\u001b[1;33m)\u001b[0m\u001b[1;33m\u001b[0m\u001b[0m\n\u001b[0m\u001b[0;32m    663\u001b[0m \u001b[1;33m\u001b[0m\u001b[0m\n\u001b[0;32m    664\u001b[0m     \u001b[1;32mdef\u001b[0m \u001b[0m_python_apply_general\u001b[0m\u001b[1;33m(\u001b[0m\u001b[0mself\u001b[0m\u001b[1;33m,\u001b[0m \u001b[0mf\u001b[0m\u001b[1;33m)\u001b[0m\u001b[1;33m:\u001b[0m\u001b[1;33m\u001b[0m\u001b[0m\n",
      "\u001b[1;32m/home/guillaume/anaconda/envs/python3/lib/python3.4/site-packages/pandas/core/groupby.py\u001b[0m in \u001b[0;36m_python_apply_general\u001b[1;34m(self, f)\u001b[0m\n\u001b[0;32m    664\u001b[0m     \u001b[1;32mdef\u001b[0m \u001b[0m_python_apply_general\u001b[0m\u001b[1;33m(\u001b[0m\u001b[0mself\u001b[0m\u001b[1;33m,\u001b[0m \u001b[0mf\u001b[0m\u001b[1;33m)\u001b[0m\u001b[1;33m:\u001b[0m\u001b[1;33m\u001b[0m\u001b[0m\n\u001b[0;32m    665\u001b[0m         keys, values, mutated = self.grouper.apply(f, self._selected_obj,\n\u001b[1;32m--> 666\u001b[1;33m                                                    self.axis)\n\u001b[0m\u001b[0;32m    667\u001b[0m \u001b[1;33m\u001b[0m\u001b[0m\n\u001b[0;32m    668\u001b[0m         return self._wrap_applied_output(keys, values,\n",
      "\u001b[1;32m/home/guillaume/anaconda/envs/python3/lib/python3.4/site-packages/pandas/core/groupby.py\u001b[0m in \u001b[0;36mapply\u001b[1;34m(self, f, data, axis)\u001b[0m\n\u001b[0;32m   1288\u001b[0m             \u001b[1;31m# group might be modified\u001b[0m\u001b[1;33m\u001b[0m\u001b[1;33m\u001b[0m\u001b[0m\n\u001b[0;32m   1289\u001b[0m             \u001b[0mgroup_axes\u001b[0m \u001b[1;33m=\u001b[0m \u001b[0m_get_axes\u001b[0m\u001b[1;33m(\u001b[0m\u001b[0mgroup\u001b[0m\u001b[1;33m)\u001b[0m\u001b[1;33m\u001b[0m\u001b[0m\n\u001b[1;32m-> 1290\u001b[1;33m             \u001b[0mres\u001b[0m \u001b[1;33m=\u001b[0m \u001b[0mf\u001b[0m\u001b[1;33m(\u001b[0m\u001b[0mgroup\u001b[0m\u001b[1;33m)\u001b[0m\u001b[1;33m\u001b[0m\u001b[0m\n\u001b[0m\u001b[0;32m   1291\u001b[0m             \u001b[1;32mif\u001b[0m \u001b[1;32mnot\u001b[0m \u001b[0m_is_indexed_like\u001b[0m\u001b[1;33m(\u001b[0m\u001b[0mres\u001b[0m\u001b[1;33m,\u001b[0m \u001b[0mgroup_axes\u001b[0m\u001b[1;33m)\u001b[0m\u001b[1;33m:\u001b[0m\u001b[1;33m\u001b[0m\u001b[0m\n\u001b[0;32m   1292\u001b[0m                 \u001b[0mmutated\u001b[0m \u001b[1;33m=\u001b[0m \u001b[1;32mTrue\u001b[0m\u001b[1;33m\u001b[0m\u001b[0m\n",
      "\u001b[1;32m/home/guillaume/anaconda/envs/python3/lib/python3.4/site-packages/pandas/core/groupby.py\u001b[0m in \u001b[0;36mf\u001b[1;34m(g)\u001b[0m\n\u001b[0;32m    656\u001b[0m         \u001b[1;33m@\u001b[0m\u001b[0mwraps\u001b[0m\u001b[1;33m(\u001b[0m\u001b[0mfunc\u001b[0m\u001b[1;33m)\u001b[0m\u001b[1;33m\u001b[0m\u001b[0m\n\u001b[0;32m    657\u001b[0m         \u001b[1;32mdef\u001b[0m \u001b[0mf\u001b[0m\u001b[1;33m(\u001b[0m\u001b[0mg\u001b[0m\u001b[1;33m)\u001b[0m\u001b[1;33m:\u001b[0m\u001b[1;33m\u001b[0m\u001b[0m\n\u001b[1;32m--> 658\u001b[1;33m             \u001b[1;32mreturn\u001b[0m \u001b[0mfunc\u001b[0m\u001b[1;33m(\u001b[0m\u001b[0mg\u001b[0m\u001b[1;33m,\u001b[0m \u001b[1;33m*\u001b[0m\u001b[0margs\u001b[0m\u001b[1;33m,\u001b[0m \u001b[1;33m**\u001b[0m\u001b[0mkwargs\u001b[0m\u001b[1;33m)\u001b[0m\u001b[1;33m\u001b[0m\u001b[0m\n\u001b[0m\u001b[0;32m    659\u001b[0m \u001b[1;33m\u001b[0m\u001b[0m\n\u001b[0;32m    660\u001b[0m         \u001b[1;31m# ignore SettingWithCopy here in case the user mutates\u001b[0m\u001b[1;33m\u001b[0m\u001b[1;33m\u001b[0m\u001b[0m\n",
      "\u001b[1;32m/home/guillaume/Python/scikit-tracker/sktracker/trajectories/measures/transformation.py\u001b[0m in \u001b[0;36m_segment_interpolate_\u001b[1;34m(segment, sampling, s, k, coords)\u001b[0m\n\u001b[0;32m    137\u001b[0m         \u001b[1;31m#pass\u001b[0m\u001b[1;33m\u001b[0m\u001b[1;33m\u001b[0m\u001b[0m\n\u001b[0;32m    138\u001b[0m \u001b[1;33m\u001b[0m\u001b[0m\n\u001b[1;32m--> 139\u001b[1;33m     \u001b[0mtck\u001b[0m \u001b[1;33m=\u001b[0m \u001b[0m_spline_rep\u001b[0m\u001b[1;33m(\u001b[0m\u001b[0msegment\u001b[0m\u001b[1;33m,\u001b[0m \u001b[0mcoords\u001b[0m\u001b[1;33m,\u001b[0m \u001b[0ms\u001b[0m\u001b[1;33m=\u001b[0m\u001b[0ms\u001b[0m\u001b[1;33m,\u001b[0m \u001b[0mk\u001b[0m\u001b[1;33m=\u001b[0m\u001b[0mcorrected_k\u001b[0m\u001b[1;33m)\u001b[0m\u001b[1;33m\u001b[0m\u001b[0m\n\u001b[0m\u001b[0;32m    140\u001b[0m \u001b[1;33m\u001b[0m\u001b[0m\n\u001b[0;32m    141\u001b[0m     \u001b[1;32mfor\u001b[0m \u001b[0mcoord\u001b[0m \u001b[1;32min\u001b[0m \u001b[0mcoords\u001b[0m\u001b[1;33m:\u001b[0m\u001b[1;33m\u001b[0m\u001b[0m\n",
      "\u001b[1;32m/home/guillaume/Python/scikit-tracker/sktracker/trajectories/measures/transformation.py\u001b[0m in \u001b[0;36m_spline_rep\u001b[1;34m(df, coords, s, k)\u001b[0m\n\u001b[0;32m    154\u001b[0m     \u001b[0mtcks\u001b[0m \u001b[1;33m=\u001b[0m \u001b[1;33m{\u001b[0m\u001b[1;33m}\u001b[0m\u001b[1;33m\u001b[0m\u001b[0m\n\u001b[0;32m    155\u001b[0m     \u001b[1;32mfor\u001b[0m \u001b[0mcoord\u001b[0m \u001b[1;32min\u001b[0m \u001b[0mcoords\u001b[0m\u001b[1;33m:\u001b[0m\u001b[1;33m\u001b[0m\u001b[0m\n\u001b[1;32m--> 156\u001b[1;33m         \u001b[0mtcks\u001b[0m\u001b[1;33m[\u001b[0m\u001b[0mcoord\u001b[0m\u001b[1;33m]\u001b[0m \u001b[1;33m=\u001b[0m \u001b[0msplrep\u001b[0m\u001b[1;33m(\u001b[0m\u001b[0mtime\u001b[0m\u001b[1;33m,\u001b[0m \u001b[0mdf\u001b[0m\u001b[1;33m[\u001b[0m\u001b[0mcoord\u001b[0m\u001b[1;33m]\u001b[0m\u001b[1;33m.\u001b[0m\u001b[0mvalues\u001b[0m\u001b[1;33m,\u001b[0m \u001b[0ms\u001b[0m\u001b[1;33m=\u001b[0m\u001b[0ms\u001b[0m\u001b[1;33m,\u001b[0m \u001b[0mk\u001b[0m\u001b[1;33m=\u001b[0m\u001b[0mk\u001b[0m\u001b[1;33m)\u001b[0m\u001b[1;33m\u001b[0m\u001b[0m\n\u001b[0m\u001b[0;32m    157\u001b[0m     \u001b[1;32mreturn\u001b[0m \u001b[0mpd\u001b[0m\u001b[1;33m.\u001b[0m\u001b[0mDataFrame\u001b[0m\u001b[1;33m.\u001b[0m\u001b[0mfrom_dict\u001b[0m\u001b[1;33m(\u001b[0m\u001b[0mtcks\u001b[0m\u001b[1;33m)\u001b[0m\u001b[1;33m\u001b[0m\u001b[0m\n\u001b[0;32m    158\u001b[0m \u001b[1;33m\u001b[0m\u001b[0m\n",
      "\u001b[1;32m/home/guillaume/anaconda/envs/python3/lib/python3.4/site-packages/scipy/interpolate/fitpack.py\u001b[0m in \u001b[0;36msplrep\u001b[1;34m(x, y, w, xb, xe, k, task, s, t, full_output, per, quiet)\u001b[0m\n\u001b[0;32m    513\u001b[0m         \u001b[1;32melse\u001b[0m\u001b[1;33m:\u001b[0m\u001b[1;33m\u001b[0m\u001b[0m\n\u001b[0;32m    514\u001b[0m             \u001b[1;32mtry\u001b[0m\u001b[1;33m:\u001b[0m\u001b[1;33m\u001b[0m\u001b[0m\n\u001b[1;32m--> 515\u001b[1;33m                 \u001b[1;32mraise\u001b[0m \u001b[0m_iermess\u001b[0m\u001b[1;33m[\u001b[0m\u001b[0mier\u001b[0m\u001b[1;33m]\u001b[0m\u001b[1;33m[\u001b[0m\u001b[1;36m1\u001b[0m\u001b[1;33m]\u001b[0m\u001b[1;33m(\u001b[0m\u001b[0m_iermess\u001b[0m\u001b[1;33m[\u001b[0m\u001b[0mier\u001b[0m\u001b[1;33m]\u001b[0m\u001b[1;33m[\u001b[0m\u001b[1;36m0\u001b[0m\u001b[1;33m]\u001b[0m\u001b[1;33m)\u001b[0m\u001b[1;33m\u001b[0m\u001b[0m\n\u001b[0m\u001b[0;32m    516\u001b[0m             \u001b[1;32mexcept\u001b[0m \u001b[0mKeyError\u001b[0m\u001b[1;33m:\u001b[0m\u001b[1;33m\u001b[0m\u001b[0m\n\u001b[0;32m    517\u001b[0m                 \u001b[1;32mraise\u001b[0m \u001b[0m_iermess\u001b[0m\u001b[1;33m[\u001b[0m\u001b[1;34m'unknown'\u001b[0m\u001b[1;33m]\u001b[0m\u001b[1;33m[\u001b[0m\u001b[1;36m1\u001b[0m\u001b[1;33m]\u001b[0m\u001b[1;33m(\u001b[0m\u001b[0m_iermess\u001b[0m\u001b[1;33m[\u001b[0m\u001b[1;34m'unknown'\u001b[0m\u001b[1;33m]\u001b[0m\u001b[1;33m[\u001b[0m\u001b[1;36m0\u001b[0m\u001b[1;33m]\u001b[0m\u001b[1;33m)\u001b[0m\u001b[1;33m\u001b[0m\u001b[0m\n",
      "\u001b[1;31mValueError\u001b[0m:     Error on input data"
     ]
    },
    {
     "name": "stdout",
     "output_type": "stream",
     "text": [
      "> \u001b[1;32m/home/guillaume/anaconda/envs/python3/lib/python3.4/site-packages/scipy/interpolate/fitpack.py\u001b[0m(517)\u001b[0;36msplrep\u001b[1;34m()\u001b[0m\n",
      "\u001b[1;32m    516 \u001b[1;33m            \u001b[1;32mexcept\u001b[0m \u001b[0mKeyError\u001b[0m\u001b[1;33m:\u001b[0m\u001b[1;33m\u001b[0m\u001b[0m\n",
      "\u001b[0m\u001b[1;32m--> 517 \u001b[1;33m                \u001b[1;32mraise\u001b[0m \u001b[0m_iermess\u001b[0m\u001b[1;33m[\u001b[0m\u001b[1;34m'unknown'\u001b[0m\u001b[1;33m]\u001b[0m\u001b[1;33m[\u001b[0m\u001b[1;36m1\u001b[0m\u001b[1;33m]\u001b[0m\u001b[1;33m(\u001b[0m\u001b[0m_iermess\u001b[0m\u001b[1;33m[\u001b[0m\u001b[1;34m'unknown'\u001b[0m\u001b[1;33m]\u001b[0m\u001b[1;33m[\u001b[0m\u001b[1;36m0\u001b[0m\u001b[1;33m]\u001b[0m\u001b[1;33m)\u001b[0m\u001b[1;33m\u001b[0m\u001b[0m\n",
      "\u001b[0m\u001b[1;32m    518 \u001b[1;33m    \u001b[1;32mif\u001b[0m \u001b[0mfull_output\u001b[0m\u001b[1;33m:\u001b[0m\u001b[1;33m\u001b[0m\u001b[0m\n",
      "\u001b[0m\n",
      "ipdb> c\n"
     ]
    }
   ],
   "source": [
    "\n",
    "sampling = 1\n",
    "smooth = 1\n",
    "\n",
    "corr_window = 6\n",
    "\n",
    "\n",
    "interp = cluster.trajs.time_interpolate(sampling=sampling, s=0)\n",
    "measure_pool = pd.DataFrame(index=interp.index)\n",
    "cluster.get_center(reset=True, save_droped='interpolated', trajs=interp)\n",
    "\n",
    "centered = Trajectories(interp[['x_r', 'y_r', 'z_r', 't']].values,\n",
    "                        index=interp.index, columns=['x', 'y', 'z', 't'])\n",
    "\n",
    "rotated, pca = transformation.do_pca(interp, return_pca=True)\n",
    "rotated = Trajectories(rotated).time_interpolate(sampling=1, s=0)\n",
    "\n",
    "measure_pool['forward_speed'] = rotated['v_x'] * np.sign(rotated['v_x'].mean())\n",
    "sld_dir = translation.sld_dir(rotated, window=6)\n",
    "measure_pool['sld_dir'] = sld_dir.sld_dir * np.sign(rotated['v_x'].mean())\n",
    "\n",
    "corrs = correlation.crosscorel(rotated, 'x', window=corr_window)\n",
    "correlation_pool = corrs.copy()\n",
    "\n",
    "centered = centered.time_interpolate(sampling=1, s=0)\n",
    "measure_pool['dir_shift'] = rotation.dir_shift(interp, shift=3, \n",
    "                                               coords=['v_x', 'v_y', 'v_z']).dir_shift\n",
    "\n",
    "rotated_centered, pca = transformation.do_pca(centered, return_pca=True)\n",
    "rotated_centered = Trajectories(rotated_centered).time_interpolate(sampling=1, s=0)\n",
    "\n",
    "polar = rotation.get_polar_coords(rotated_centered)\n",
    "corrs = correlation.crosscorel(polar, 'theta', window=corr_window)\n",
    "for col in corrs.columns:\n",
    "    correlation_pool[col] = corrs[col]\n",
    "\n",
    "\n",
    "r_speeds = rotation.radial_speed(polar, smooth=0).sortlevel(['t_stamp', 'label'])\n",
    "r_speeds['ratio'] = np.abs(r_speeds['v_orad'])/np.hypot(r_speeds['v_rad'], r_speeds['v_orad'])\n",
    "for col in r_speeds.columns:\n",
    "    measure_pool[col] = r_speeds[col]\n",
    "measure_pool['v_theta'] = measure_pool['v_theta'] * np.sign(measure_pool['v_theta'].mean())\n",
    "\n",
    "name = os.path.basename(cluster.oio.store_path).split('.')[0]\n",
    "measure_pool['name'] = name\n",
    "correlation_pool['name'] = name\n"
   ]
  },
  {
   "cell_type": "code",
   "execution_count": 123,
   "metadata": {
    "collapsed": false
   },
   "outputs": [],
   "source": [
    "def sld_auto_cor_(segment, window, coord):\n",
    "    all_cors = []\n",
    "    t_stamps = segment.index.get_level_values('t_stamp')\n",
    "    for t_stamp in t_stamps[window//2:-window//2]:\n",
    "        data = segment.loc[t_stamp-window//2:t_stamp+window//2]\n",
    "        cor = np.correlate(data[coord], data[coord], mode='full')\n",
    "        all_cors.append(cor.mean()/ cor.max())\n",
    "    return np.array(all_cors)"
   ]
  },
  {
   "cell_type": "code",
   "execution_count": 124,
   "metadata": {
    "collapsed": false
   },
   "outputs": [],
   "source": [
    "all_cors = sld_auto_cor_(r_speeds.xs(1, level='label'), window=8, coord='v_theta')"
   ]
  },
  {
   "cell_type": "code",
   "execution_count": 125,
   "metadata": {
    "collapsed": false
   },
   "outputs": [
    {
     "data": {
      "text/plain": [
       "(27,)"
      ]
     },
     "execution_count": 125,
     "metadata": {},
     "output_type": "execute_result"
    }
   ],
   "source": [
    "all_cors.shape"
   ]
  },
  {
   "cell_type": "code",
   "execution_count": 126,
   "metadata": {
    "collapsed": false
   },
   "outputs": [
    {
     "data": {
      "text/plain": [
       "[<matplotlib.lines.Line2D at 0x7fdb4407e080>]"
      ]
     },
     "execution_count": 126,
     "metadata": {},
     "output_type": "execute_result"
    }
   ],
   "source": [
    "fig, ax = plt.subplots()\n",
    "\n",
    "ax.plot(r_speeds.xs(1, level='label')['v_theta'])\n",
    "ax.plot(all_cors)\n"
   ]
  },
  {
   "cell_type": "code",
   "execution_count": 52,
   "metadata": {
    "collapsed": false
   },
   "outputs": [],
   "source": [
    "def plot_autocor(polar, name, ax=None):\n",
    "    if ax is None:\n",
    "        fig, ax = plt.subplots()\n",
    "    cor = np.correlate(polar.xs(1, level='label')['theta'],\n",
    "                       polar.xs(1, level='label')['theta'], mode='same')\n",
    "    ax.plot(cor[cor.shape[0]//2:]/cor.max(), label=name)\n",
    "    plt.draw()\n",
    "    return cor, ax"
   ]
  },
  {
   "cell_type": "code",
   "execution_count": 66,
   "metadata": {
    "collapsed": false
   },
   "outputs": [
    {
     "data": {
      "text/plain": [
       "<matplotlib.legend.Legend at 0x7fdb4c058438>"
      ]
     },
     "execution_count": 66,
     "metadata": {},
     "output_type": "execute_result"
    }
   ],
   "source": [
    "cor, ax = plot_autocor(polar, name, ax=ax)\n",
    "ax.legend()"
   ]
  },
  {
   "cell_type": "markdown",
   "metadata": {},
   "source": [
    "# 2. Basic ploting functionalities"
   ]
  },
  {
   "cell_type": "markdown",
   "metadata": {},
   "source": [
    "## 2.1 Plot the coordinates versus time"
   ]
  },
  {
   "cell_type": "code",
   "execution_count": 16,
   "metadata": {
    "collapsed": false
   },
   "outputs": [],
   "source": [
    "axes = draw.plot_stacked_coords(cluster.trajs, coords=['x', 'y'], text=True)#, 'z'])"
   ]
  },
  {
   "cell_type": "markdown",
   "metadata": {},
   "source": [
    "It is also possible to access a single segment"
   ]
  },
  {
   "cell_type": "markdown",
   "metadata": {},
   "source": [
    "## 2.2 Plot a single segment (x versus y)"
   ]
  },
  {
   "cell_type": "code",
   "execution_count": 17,
   "metadata": {
    "collapsed": false
   },
   "outputs": [
    {
     "data": {
      "text/plain": [
       "<matplotlib.text.Text at 0x7fa18407f8d0>"
      ]
     },
     "execution_count": 17,
     "metadata": {},
     "output_type": "execute_result"
    }
   ],
   "source": [
    "segments = cluster.trajs.get_segments() \n",
    "### We access a segment by giving it's label\n",
    "seg0 = segments[2]\n",
    "\n",
    "fig, ax = plt.subplots()\n",
    "ax.plot(seg0.x_r, seg0.y_r, 'k-');\n",
    "\n",
    "ax.set_xlabel('x position')\n",
    "ax.set_xlabel('y position')"
   ]
  },
  {
   "cell_type": "markdown",
   "metadata": {},
   "source": [
    "## 2.3 Positions against time relative to the cluster center"
   ]
  },
  {
   "cell_type": "markdown",
   "metadata": {},
   "source": [
    "When we computed the center position, we created new columns in the data\n",
    "the position of the center is given by `x_c, y_c, z_c`, and the positions\n",
    "of the nuclei relative to the center by `x_r, y_r, z_r`."
   ]
  },
  {
   "cell_type": "code",
   "execution_count": 12,
   "metadata": {
    "collapsed": false
   },
   "outputs": [],
   "source": [
    "axes = draw.plot_stacked_coords(cluster.trajs,\n",
    "                                coords=['x_r', 'y_r'])#, 'z_r'])"
   ]
  },
  {
   "cell_type": "markdown",
   "metadata": {},
   "source": [
    "## 2.4 Positions in 3D (absolute positions)"
   ]
  },
  {
   "cell_type": "markdown",
   "metadata": {},
   "source": [
    "#### All in the same graph"
   ]
  },
  {
   "cell_type": "code",
   "execution_count": 13,
   "metadata": {
    "collapsed": false
   },
   "outputs": [],
   "source": [
    "\n",
    "### The coordinates to plot\n",
    "coords=['x', 'y', 'z']\n",
    "\n",
    "### Get the colors of the different trajectories\n",
    "colors = cluster.trajs.get_colors()\n",
    "\n",
    "### Get all the segments\n",
    "segments = cluster.trajs.get_segments()\n",
    "\n",
    "### The code below puts a all the trajectories on the same graph\n",
    "axes, ax_3d = None, None\n",
    "for label in cluster.trajs.labels:\n",
    "    segment = segments[label]\n",
    "    scatter_kw = {'c':segment.t.astype(np.float),\n",
    "                  'cmap':'spectral',\n",
    "                  's':40,\n",
    "                  'alpha':0.8,\n",
    "                  'edgecolors':'none'}\n",
    "    line_kw = {'c':'gray',#tracker.label_colors[label],\n",
    "               'ls':'-',\n",
    "               'alpha':0.8, 'lw':0.75}\n",
    "\n",
    "    axes, ax_3d = draw.show_4panels(cluster.trajs, label,\n",
    "                                    axes=axes, ax_3d=ax_3d,\n",
    "                                    scatter_kw=scatter_kw,\n",
    "                                    line_kw=line_kw,\n",
    "                                    coords=coords)\n"
   ]
  },
  {
   "cell_type": "markdown",
   "metadata": {},
   "source": [
    "#### A single nucleus"
   ]
  },
  {
   "cell_type": "code",
   "execution_count": 14,
   "metadata": {
    "collapsed": false
   },
   "outputs": [],
   "source": [
    "### Choose the label\n",
    "label = 1\n",
    "\n",
    "### The coordinates to plot\n",
    "coords=['x', 'y', 'z']\n",
    "\n",
    "\n",
    "segment = segments[label]\n",
    "scatter_kw = {'c':segment.t.astype(np.float),\n",
    "              'cmap':'spectral',\n",
    "              's':40,\n",
    "              'alpha':0.8,\n",
    "              'edgecolors':'none'}\n",
    "line_kw = {'c':'gray',#tracker.label_colors[label],\n",
    "           'ls':'-',\n",
    "           'alpha':0.8, 'lw':0.75}\n",
    "\n",
    "\n",
    "axes, ax_3d = draw.show_4panels(cluster.trajs, label,\n",
    "                                axes=None, ax_3d=None,\n",
    "                                scatter_kw=scatter_kw,\n",
    "                                line_kw=line_kw,\n",
    "                                coords=coords)\n"
   ]
  },
  {
   "cell_type": "markdown",
   "metadata": {},
   "source": [
    "## 2.5 Positions in 3D relative to cluster center"
   ]
  },
  {
   "cell_type": "code",
   "execution_count": 14,
   "metadata": {
    "collapsed": false
   },
   "outputs": [],
   "source": []
  },
  {
   "cell_type": "code",
   "execution_count": 15,
   "metadata": {
    "collapsed": false
   },
   "outputs": [],
   "source": [
    "### Choose the label\n",
    "label = 5\n",
    "\n",
    "### Get the colors of the different trajectories\n",
    "colors = cluster.trajs.get_colors()\n",
    "\n",
    "### The coordinates to plot\n",
    "coords=['x_r', 'y_r', 'z_r']\n",
    "\n",
    "segment = segments[label]\n",
    "scatter_kw = {'c':segment.t.astype(np.float),\n",
    "              'cmap':'spectral',\n",
    "              's':40,\n",
    "              'alpha':0.8,\n",
    "              'edgecolors':'none'}\n",
    "line_kw = {'c':'gray',#tracker.label_colors[label],\n",
    "           'ls':'-',\n",
    "           'alpha':0.8, 'lw':0.75}\n",
    "\n",
    "\n",
    "axes, ax_3d = draw.show_4panels(cluster.trajs, label,\n",
    "                                axes=None, ax_3d=None,\n",
    "                                scatter_kw=scatter_kw,\n",
    "                                line_kw=line_kw,\n",
    "                                coords=coords)\n"
   ]
  },
  {
   "cell_type": "markdown",
   "metadata": {},
   "source": [
    "# 3. Ellipses and rotation detection"
   ]
  },
  {
   "cell_type": "markdown",
   "metadata": {},
   "source": [
    "## 3.1 Fit ellipses of different sizes over the trajectories"
   ]
  },
  {
   "cell_type": "markdown",
   "metadata": {},
   "source": [
    "#### Define the sizes and the fitting method"
   ]
  },
  {
   "cell_type": "markdown",
   "metadata": {},
   "source": [
    "The sizes of the fitting windows are given in minutes"
   ]
  },
  {
   "cell_type": "code",
   "execution_count": 22,
   "metadata": {
    "collapsed": false
   },
   "outputs": [],
   "source": [
    "sizes = np.arange(24, 66, 12)\n",
    "detection_method = 'polar' ### This must be 'polar' or 'cartesian'p\n"
   ]
  },
  {
   "cell_type": "markdown",
   "metadata": {},
   "source": [
    "#### Do the computation"
   ]
  },
  {
   "cell_type": "code",
   "execution_count": 17,
   "metadata": {
    "collapsed": false
   },
   "outputs": [],
   "source": [
    "reset_ellipses = False\n",
    "\n",
    "### Fits ellipses and detect rotations\n",
    "### This might take some time\n",
    "for size in sizes:\n",
    "    if not reset_ellipses:\n",
    "        break\n",
    "    print('Computing for a window of {} min'.format(size))\n",
    "    cluster.compute_ellipticity(size, method=detection_method)"
   ]
  },
  {
   "cell_type": "markdown",
   "metadata": {},
   "source": [
    "## 3.2 Rotation detection"
   ]
  },
  {
   "cell_type": "code",
   "execution_count": 29,
   "metadata": {
    "collapsed": false
   },
   "outputs": [
    {
     "data": {
      "image/svg+xml": [
       "<svg height=\"417.14081\" id=\"svg2\" inkscape:version=\"0.48.4 r9939\" sodipodi:docname=\"ellipsis_detection.svg\" version=\"1.1\" width=\"644.5921\" xmlns=\"http://www.w3.org/2000/svg\" xmlns:cc=\"http://creativecommons.org/ns#\" xmlns:dc=\"http://purl.org/dc/elements/1.1/\" xmlns:inkscape=\"http://www.inkscape.org/namespaces/inkscape\" xmlns:rdf=\"http://www.w3.org/1999/02/22-rdf-syntax-ns#\" xmlns:sodipodi=\"http://sodipodi.sourceforge.net/DTD/sodipodi-0.dtd\" xmlns:svg=\"http://www.w3.org/2000/svg\" xmlns:xlink=\"http://www.w3.org/1999/xlink\">\n",
       "  <defs id=\"defs4\" style=\"stroke-linecap:butt;stroke-linejoin:round\">\n",
       "    <marker id=\"Arrow1Lend\" inkscape:stockid=\"Arrow1Lend\" orient=\"auto\" refX=\"0\" refY=\"0\" style=\"stroke-linecap:butt;stroke-linejoin:round;overflow:visible\">\n",
       "      <path d=\"M 0,0 5,-5 -12.5,0 5,5 0,0 z\" id=\"path101973\" inkscape:connector-curvature=\"0\" style=\"fill-rule:evenodd;stroke:#000000;stroke-width:1pt;stroke-linecap:butt;stroke-linejoin:round\" transform=\"matrix(-0.8,0,0,-0.8,-10,0)\"/>\n",
       "    </marker>\n",
       "    <marker id=\"Arrow1Mend\" inkscape:stockid=\"Arrow1Mend\" orient=\"auto\" refX=\"0\" refY=\"0\" style=\"stroke-linecap:butt;stroke-linejoin:round;overflow:visible\">\n",
       "      <path d=\"M 0,0 5,-5 -12.5,0 5,5 0,0 z\" id=\"path101979\" inkscape:connector-curvature=\"0\" style=\"fill-rule:evenodd;stroke:#000000;stroke-width:1pt;stroke-linecap:butt;stroke-linejoin:round\" transform=\"matrix(-0.4,0,0,-0.4,-4,0)\"/>\n",
       "    </marker>\n",
       "    <marker id=\"Arrow1Mstart\" inkscape:stockid=\"Arrow1Mstart\" orient=\"auto\" refX=\"0\" refY=\"0\" style=\"overflow:visible\">\n",
       "      <path d=\"M 0,0 5,-5 -12.5,0 5,5 0,0 z\" id=\"path101976\" inkscape:connector-curvature=\"0\" style=\"fill-rule:evenodd;stroke:#000000;stroke-width:1pt;stroke-linecap:butt;stroke-linejoin:round\" transform=\"matrix(0.4,0,0,0.4,4,0)\"/>\n",
       "    </marker>\n",
       "    <clipPath id=\"p69c1cc7a4f\">\n",
       "      <rect height=\"334.39856\" id=\"rect10551\" width=\"497.72437\" x=\"56.831249\" y=\"382.71393\"/>\n",
       "    </clipPath>\n",
       "    <clipPath id=\"pfc597b25c1\">\n",
       "      <rect height=\"334.39856\" id=\"rect10548\" width=\"497.72437\" x=\"574.71564\" y=\"382.71393\"/>\n",
       "    </clipPath>\n",
       "    <clipPath id=\"p64bead7903\">\n",
       "      <rect height=\"334.39856\" id=\"rect10545\" width=\"497.72437\" x=\"56.831249\" y=\"18.741621\"/>\n",
       "    </clipPath>\n",
       "    <clipPath id=\"p8ef677df68\">\n",
       "      <rect height=\"334.39856\" id=\"rect10542\" width=\"497.72437\" x=\"574.71564\" y=\"18.741621\"/>\n",
       "    </clipPath>\n",
       "    <style id=\"style6794\" type=\"text/css\">\n",
       "*{stroke-linecap:butt;stroke-linejoin:round;}\n",
       "  </style>\n",
       "    <style id=\"style16441\" type=\"text/css\">\n",
       "*{stroke-linecap:butt;stroke-linejoin:round;}\n",
       "  </style>\n",
       "    <clipPath id=\"p4219eb7cb2\">\n",
       "      <rect height=\"334.58939\" id=\"rect18746\" style=\"stroke-linecap:butt;stroke-linejoin:round\" width=\"416.64749\" x=\"478.49249\" y=\"377.12314\"/>\n",
       "    </clipPath>\n",
       "    <clipPath id=\"p907e48cb16\">\n",
       "      <rect height=\"334.58939\" id=\"rect18749\" style=\"stroke-linecap:butt;stroke-linejoin:round\" width=\"416.64749\" x=\"478.49249\" y=\"12.96\"/>\n",
       "    </clipPath>\n",
       "    <clipPath id=\"pe0ed907c9d\">\n",
       "      <rect height=\"334.58939\" id=\"rect18752\" style=\"stroke-linecap:butt;stroke-linejoin:round\" width=\"416.64749\" x=\"48.884998\" y=\"377.12314\"/>\n",
       "    </clipPath>\n",
       "    <clipPath id=\"pcbb924fb54\">\n",
       "      <rect height=\"334.58939\" id=\"rect18755\" style=\"stroke-linecap:butt;stroke-linejoin:round\" width=\"416.64749\" x=\"48.884998\" y=\"12.96\"/>\n",
       "    </clipPath>\n",
       "    <style id=\"style54521\" type=\"text/css\">\n",
       "*{stroke-linecap:butt;stroke-linejoin:round;}\n",
       "  </style>\n",
       "    <clipPath id=\"p2c54c407b2\">\n",
       "      <rect height=\"290.93936\" id=\"rect56523\" style=\"stroke-linecap:butt;stroke-linejoin:round\" width=\"349.28668\" x=\"49.32\" y=\"12.96\"/>\n",
       "    </clipPath>\n",
       "    <clipPath id=\"p769b18af4b\">\n",
       "      <rect height=\"290.93936\" id=\"rect56526\" style=\"stroke-linecap:butt;stroke-linejoin:round\" width=\"349.28668\" x=\"414.45331\" y=\"333.47311\"/>\n",
       "    </clipPath>\n",
       "    <clipPath id=\"pe00d5f48e7\">\n",
       "      <rect height=\"290.93936\" id=\"rect56529\" style=\"stroke-linecap:butt;stroke-linejoin:round\" width=\"349.28668\" x=\"49.32\" y=\"333.47311\"/>\n",
       "    </clipPath>\n",
       "    <clipPath id=\"p001c192b9f\">\n",
       "      <rect height=\"290.93936\" id=\"rect56532\" style=\"stroke-linecap:butt;stroke-linejoin:round\" width=\"349.28668\" x=\"414.45331\" y=\"12.96\"/>\n",
       "    </clipPath>\n",
       "    <style id=\"style49654\" type=\"text/css\">\n",
       "*{stroke-linecap:butt;stroke-linejoin:round;}\n",
       "  </style>\n",
       "    <clipPath id=\"p5038960075\">\n",
       "      <rect height=\"318.38937\" id=\"rect51867\" style=\"stroke-linecap:butt;stroke-linejoin:round\" width=\"418.07437\" x=\"56.831249\" y=\"12.96\"/>\n",
       "    </clipPath>\n",
       "    <clipPath id=\"p8fe1474151\">\n",
       "      <rect height=\"318.38937\" id=\"rect51870\" style=\"stroke-linecap:butt;stroke-linejoin:round\" width=\"418.07437\" x=\"56.831249\" y=\"360.92313\"/>\n",
       "    </clipPath>\n",
       "    <clipPath id=\"p4910acfd80\">\n",
       "      <rect height=\"318.38937\" id=\"rect51873\" style=\"stroke-linecap:butt;stroke-linejoin:round\" width=\"418.07437\" x=\"487.86563\" y=\"12.96\"/>\n",
       "    </clipPath>\n",
       "    <clipPath id=\"pebdad752eb\">\n",
       "      <rect height=\"318.38937\" id=\"rect51876\" style=\"stroke-linecap:butt;stroke-linejoin:round\" width=\"418.07437\" x=\"487.86563\" y=\"360.92313\"/>\n",
       "    </clipPath>\n",
       "    <style id=\"style43223\" type=\"text/css\">\n",
       "*{stroke-linecap:butt;stroke-linejoin:round;}\n",
       "  </style>\n",
       "    <clipPath id=\"p75428f1daf\">\n",
       "      <rect height=\"304.88937\" id=\"rect45569\" style=\"stroke-linecap:butt;stroke-linejoin:round\" width=\"325.98001\" x=\"388.26001\" y=\"12.96\"/>\n",
       "    </clipPath>\n",
       "    <clipPath id=\"p26efd31ea8\">\n",
       "      <rect height=\"304.88937\" id=\"rect45572\" style=\"stroke-linecap:butt;stroke-linejoin:round\" width=\"325.98001\" x=\"388.26001\" y=\"347.42313\"/>\n",
       "    </clipPath>\n",
       "    <clipPath id=\"pe5b6a3f546\">\n",
       "      <rect height=\"304.88937\" id=\"rect45575\" style=\"stroke-linecap:butt;stroke-linejoin:round\" width=\"325.98001\" x=\"49.32\" y=\"347.42313\"/>\n",
       "    </clipPath>\n",
       "    <clipPath id=\"pab32517c29\">\n",
       "      <rect height=\"304.88937\" id=\"rect45578\" style=\"stroke-linecap:butt;stroke-linejoin:round\" width=\"325.98001\" x=\"49.32\" y=\"12.96\"/>\n",
       "    </clipPath>\n",
       "    <style id=\"style38513\" type=\"text/css\">\n",
       "*{stroke-linecap:butt;stroke-linejoin:round;}\n",
       "  </style>\n",
       "    <clipPath id=\"p2d0847d783\">\n",
       "      <rect height=\"284.63937\" id=\"rect40688\" style=\"stroke-linecap:butt;stroke-linejoin:round\" width=\"290.72437\" x=\"56.831249\" y=\"12.96\"/>\n",
       "    </clipPath>\n",
       "    <clipPath id=\"p8ca75097e2\">\n",
       "      <rect height=\"284.63937\" id=\"rect40691\" style=\"stroke-linecap:butt;stroke-linejoin:round\" width=\"290.72437\" x=\"360.51562\" y=\"12.96\"/>\n",
       "    </clipPath>\n",
       "    <clipPath id=\"p25f421be1b\">\n",
       "      <rect height=\"284.63937\" id=\"rect40694\" style=\"stroke-linecap:butt;stroke-linejoin:round\" width=\"290.72437\" x=\"56.831249\" y=\"327.17313\"/>\n",
       "    </clipPath>\n",
       "    <clipPath id=\"p5ddec70d5a\">\n",
       "      <rect height=\"284.63937\" id=\"rect40697\" style=\"stroke-linecap:butt;stroke-linejoin:round\" width=\"290.72437\" x=\"360.51562\" y=\"327.17313\"/>\n",
       "    </clipPath>\n",
       "    <style id=\"style31467\" type=\"text/css\">\n",
       "*{stroke-linecap:butt;stroke-linejoin:round;}\n",
       "  </style>\n",
       "    <clipPath id=\"pbd37f28c04\">\n",
       "      <rect height=\"318.83939\" id=\"rect33615\" style=\"stroke-linecap:butt;stroke-linejoin:round\" width=\"344.24438\" x=\"48.791248\" y=\"361.37314\"/>\n",
       "    </clipPath>\n",
       "    <clipPath id=\"p18a430608f\">\n",
       "      <rect height=\"318.83939\" id=\"rect33618\" style=\"stroke-linecap:butt;stroke-linejoin:round\" width=\"344.24438\" x=\"48.791248\" y=\"12.96\"/>\n",
       "    </clipPath>\n",
       "    <clipPath id=\"p4db847229d\">\n",
       "      <rect height=\"318.83939\" id=\"rect33621\" style=\"stroke-linecap:butt;stroke-linejoin:round\" width=\"344.24438\" x=\"405.99564\" y=\"12.96\"/>\n",
       "    </clipPath>\n",
       "    <clipPath id=\"pa3c0e8ba5d\">\n",
       "      <rect height=\"318.83939\" id=\"rect33624\" style=\"stroke-linecap:butt;stroke-linejoin:round\" width=\"344.24438\" x=\"405.99564\" y=\"361.37314\"/>\n",
       "    </clipPath>\n",
       "    <style id=\"style24330\" type=\"text/css\">\n",
       "*{stroke-linecap:butt;stroke-linejoin:round;}\n",
       "  </style>\n",
       "    <clipPath id=\"p70a1477c43\">\n",
       "      <rect height=\"252.68938\" id=\"rect26617\" style=\"stroke-linecap:butt;stroke-linejoin:round\" width=\"286.82999\" x=\"349.10999\" y=\"12.96\"/>\n",
       "    </clipPath>\n",
       "    <clipPath id=\"p2f369ebd9e\">\n",
       "      <rect height=\"252.68938\" id=\"rect26620\" style=\"stroke-linecap:butt;stroke-linejoin:round\" width=\"286.82999\" x=\"49.32\" y=\"295.22311\"/>\n",
       "    </clipPath>\n",
       "    <clipPath id=\"pc52674d6b8\">\n",
       "      <rect height=\"252.68938\" id=\"rect26623\" style=\"stroke-linecap:butt;stroke-linejoin:round\" width=\"286.82999\" x=\"349.10999\" y=\"295.22311\"/>\n",
       "    </clipPath>\n",
       "    <clipPath id=\"p72990397a8\">\n",
       "      <rect height=\"252.68938\" id=\"rect26626\" style=\"stroke-linecap:butt;stroke-linejoin:round\" width=\"286.82999\" x=\"49.32\" y=\"12.96\"/>\n",
       "    </clipPath>\n",
       "    <style id=\"style14174\" type=\"text/css\">\n",
       "*{stroke-linecap:butt;stroke-linejoin:round;}\n",
       "  </style>\n",
       "    <clipPath id=\"pe86011153b\">\n",
       "      <rect height=\"303.53937\" id=\"rect16426\" style=\"stroke-linecap:butt;stroke-linejoin:round\" width=\"394.38\" x=\"456.66\" y=\"12.96\"/>\n",
       "    </clipPath>\n",
       "    <clipPath id=\"p501e9cb373\">\n",
       "      <rect height=\"303.53937\" id=\"rect16429\" style=\"stroke-linecap:butt;stroke-linejoin:round\" width=\"394.38\" x=\"49.32\" y=\"346.07312\"/>\n",
       "    </clipPath>\n",
       "    <clipPath id=\"p063b47c935\">\n",
       "      <rect height=\"303.53937\" id=\"rect16432\" style=\"stroke-linecap:butt;stroke-linejoin:round\" width=\"394.38\" x=\"456.66\" y=\"346.07312\"/>\n",
       "    </clipPath>\n",
       "    <clipPath id=\"p79137038ec\">\n",
       "      <rect height=\"303.53937\" id=\"rect16435\" style=\"stroke-linecap:butt;stroke-linejoin:round\" width=\"394.38\" x=\"49.32\" y=\"12.96\"/>\n",
       "    </clipPath>\n",
       "    <style id=\"style2989\" type=\"text/css\">\n",
       "*{stroke-linecap:butt;stroke-linejoin:round;}\n",
       "  </style>\n",
       "    <clipPath id=\"p21eb643df2\">\n",
       "      <rect height=\"169.23593\" id=\"rect5315\" style=\"stroke-linecap:butt;stroke-linejoin:round\" width=\"178.38\" x=\"240.66\" y=\"217.57657\"/>\n",
       "    </clipPath>\n",
       "    <clipPath id=\"paec92990f6\">\n",
       "      <rect height=\"169.23593\" id=\"rect5318\" style=\"stroke-linecap:butt;stroke-linejoin:round\" width=\"178.38\" x=\"49.32\" y=\"217.57657\"/>\n",
       "    </clipPath>\n",
       "    <clipPath id=\"p7e3cdd4aa9\">\n",
       "      <rect height=\"169.23593\" id=\"rect5321\" style=\"stroke-linecap:butt;stroke-linejoin:round\" width=\"178.38\" x=\"240.66\" y=\"18.766874\"/>\n",
       "    </clipPath>\n",
       "    <clipPath id=\"p4bb20e0a95\">\n",
       "      <rect height=\"169.23593\" id=\"rect5324\" style=\"stroke-linecap:butt;stroke-linejoin:round\" width=\"178.38\" x=\"49.32\" y=\"18.766874\"/>\n",
       "    </clipPath>\n",
       "    <clipPath id=\"pbaa9ab6562\">\n",
       "      <rect height=\"386.78937\" id=\"rect97508\" style=\"stroke-linecap:butt;stroke-linejoin:round\" width=\"475.10812\" x=\"542.43188\" y=\"429.32312\"/>\n",
       "    </clipPath>\n",
       "    <clipPath id=\"p509ba47b41\">\n",
       "      <rect height=\"386.78937\" id=\"rect97505\" style=\"stroke-linecap:butt;stroke-linejoin:round\" width=\"475.10812\" x=\"54.36375\" y=\"429.32312\"/>\n",
       "    </clipPath>\n",
       "    <clipPath id=\"p88f29d8050\">\n",
       "      <rect height=\"386.78937\" id=\"rect97502\" style=\"stroke-linecap:butt;stroke-linejoin:round\" width=\"475.10812\" x=\"542.43188\" y=\"12.96\"/>\n",
       "    </clipPath>\n",
       "    <clipPath id=\"pf2e575ba20\">\n",
       "      <rect height=\"386.78937\" id=\"rect97499\" style=\"stroke-linecap:butt;stroke-linejoin:round\" width=\"475.10812\" x=\"54.36375\" y=\"12.96\"/>\n",
       "    </clipPath>\n",
       "    <style id=\"style95784\" type=\"text/css\">\n",
       "*{stroke-linecap:butt;stroke-linejoin:round;}\n",
       "  </style>\n",
       "    <clipPath id=\"p887e08e8d8\">\n",
       "      <rect height=\"178.29938\" id=\"rect123296\" style=\"stroke-linecap:butt;stroke-linejoin:round\" width=\"351.81375\" x=\"56.831249\" y=\"221.64\"/>\n",
       "    </clipPath>\n",
       "    <clipPath id=\"p2820ddb51f\">\n",
       "      <rect height=\"178.29938\" id=\"rect123293\" style=\"stroke-linecap:butt;stroke-linejoin:round\" width=\"351.81375\" x=\"56.831249\" y=\"424.51312\"/>\n",
       "    </clipPath>\n",
       "    <clipPath id=\"p6d715e6433\">\n",
       "      <rect height=\"178.29938\" id=\"rect123290\" style=\"stroke-linecap:butt;stroke-linejoin:round\" width=\"351.81375\" x=\"56.831249\" y=\"18.766874\"/>\n",
       "    </clipPath>\n",
       "    <style id=\"style120043\" type=\"text/css\">\n",
       "*{stroke-linecap:butt;stroke-linejoin:round;}\n",
       "  </style>\n",
       "    <defs id=\"defs120056\">\n",
       "      <path d=\"M 0,3 C 0.795609,3 1.55874,2.6839 2.12132,2.12132 2.6839,1.55874 3,0.795609 3,0 3,-0.795609 2.6839,-1.55874 2.12132,-2.12132 1.55874,-2.6839 0.795609,-3 0,-3 -0.795609,-3 -1.55874,-2.6839 -2.12132,-2.12132 -2.6839,-1.55874 -3,-0.795609 -3,0 -3,0.795609 -2.6839,1.55874 -2.12132,2.12132 -1.55874,2.6839 -0.795609,3 0,3 z\" id=\"md21b4ff0a3\" inkscape:connector-curvature=\"0\" style=\"stroke:#000000;stroke-width:0.5;stroke-linecap:butt;stroke-linejoin:round\"/>\n",
       "    </defs>\n",
       "  </defs>\n",
       "  <sodipodi:namedview bordercolor=\"#666666\" borderopacity=\"1.0\" fit-margin-bottom=\"10\" fit-margin-left=\"10\" fit-margin-right=\"10\" fit-margin-top=\"10\" id=\"base\" inkscape:current-layer=\"g141778\" inkscape:cx=\"509.67568\" inkscape:cy=\"175.32511\" inkscape:document-units=\"px\" inkscape:pageopacity=\"0.0\" inkscape:pageshadow=\"2\" inkscape:window-height=\"987\" inkscape:window-maximized=\"0\" inkscape:window-width=\"1349\" inkscape:window-x=\"565\" inkscape:window-y=\"21\" inkscape:zoom=\"0.93981333\" pagecolor=\"#ffffff\" showgrid=\"false\"/>\n",
       "  <metadata id=\"metadata7\">\n",
       "    <rdf:RDF>\n",
       "      <cc:Work rdf:about=\"\">\n",
       "        <dc:format>image/svg+xml</dc:format>\n",
       "        <dc:type rdf:resource=\"http://purl.org/dc/dcmitype/StillImage\"/>\n",
       "      </cc:Work>\n",
       "    </rdf:RDF>\n",
       "  </metadata>\n",
       "  <g id=\"layer1\" inkscape:groupmode=\"layer\" inkscape:label=\"Calque 1\" style=\"stroke-linecap:butt;stroke-linejoin:round\" transform=\"translate(-40.027853,-530.03754)\">\n",
       "    <g id=\"patch_2\" style=\"stroke-linecap:butt;stroke-linejoin:round\" transform=\"matrix(1.25,0,0,1.25,-151.22793,-74.026073)\"/>\n",
       "    <g id=\"patch_1\" style=\"stroke-linecap:butt;stroke-linejoin:round\" transform=\"matrix(1.25,0,0,1.25,-122.14285,-271.20925)\"/>\n",
       "    <g id=\"axes_4\" style=\"stroke-linecap:butt;stroke-linejoin:round\" transform=\"matrix(1.25,0,0,1.25,-151.22793,-74.026073)\"/>\n",
       "    <rect height=\"65.210442\" id=\"rect140783\" ry=\"2.5204077\" style=\"color:#000000;fill:none;stroke:#000000;stroke-width:2.16060352;stroke-linecap:square;stroke-linejoin:round;stroke-miterlimit:4;stroke-opacity:1;stroke-dasharray:none;stroke-dashoffset:0;marker:none;visibility:visible;display:inline;overflow:visible;enable-background:accumulate\" transform=\"matrix(0.87050251,0.49216398,-0.87050251,0.49216398,0,0)\" width=\"65.210442\" x=\"746.39307\" y=\"351.43716\"/>\n",
       "    <path d=\"m 404.52802,572.40654 76.50764,1e-5\" id=\"path140803\" inkscape:connector-curvature=\"0\" sodipodi:nodetypes=\"cc\" style=\"fill:none;stroke:#000000;stroke-width:1px;stroke-linecap:butt;stroke-linejoin:miter;stroke-opacity:1;marker-end:url(#Arrow1Lend)\"/>\n",
       "    <text id=\"text141363\" sodipodi:linespacing=\"122%\" style=\"font-size:14px;font-style:normal;font-variant:normal;font-weight:normal;font-stretch:normal;text-align:end;line-height:122.00000286%;letter-spacing:0px;word-spacing:0px;writing-mode:lr-tb;text-anchor:end;fill:#000000;fill-opacity:1;stroke:none;font-family:DejaVu Sans;-inkscape-font-specification:DejaVu Sans\" x=\"382.06616\" xml:space=\"preserve\" y=\"577.50275\"><tspan id=\"tspan141365\" sodipodi:role=\"line\" x=\"382.06616\" y=\"577.50275\">GOOD FIT?</tspan></text>\n",
       "    <path d=\"m 301.42285,577.08539 c 0,10.74352 -40.88138,19.45287 -91.31113,19.45287 -50.42974,0 -91.31112,-8.70935 -91.31112,-19.45287 0,-10.74352 40.88138,-19.45287 91.31112,-19.45287 50.42975,0 91.31113,8.70935 91.31113,19.45287 z\" id=\"path141439\" sodipodi:cx=\"210.11172\" sodipodi:cy=\"577.08539\" sodipodi:rx=\"91.311127\" sodipodi:ry=\"19.452869\" sodipodi:type=\"arc\" style=\"color:#000000;fill:#55d400;fill-opacity:0.54918033;fill-rule:nonzero;stroke:#000000;stroke-width:1;stroke-linecap:square;stroke-linejoin:round;stroke-miterlimit:4;stroke-opacity:1;stroke-dasharray:none;stroke-dashoffset:0;marker:none;visibility:visible;display:inline;overflow:visible;enable-background:accumulate\" transform=\"translate(372.69712,-4.678836)\"/>\n",
       "    <text id=\"text141367\" sodipodi:linespacing=\"122%\" style=\"font-size:14px;font-style:normal;font-variant:normal;font-weight:normal;font-stretch:normal;text-align:end;line-height:122.00000286%;letter-spacing:0px;word-spacing:0px;writing-mode:lr-tb;text-anchor:end;fill:#000000;fill-opacity:1;stroke:none;font-family:DejaVu Sans;-inkscape-font-specification:DejaVu Sans\" x=\"654.73737\" xml:space=\"preserve\" y=\"576.26044\"><tspan id=\"tspan141369\" sodipodi:role=\"line\" x=\"654.73737\" y=\"576.26044\">Rotation(t<tspan id=\"tspan141419\" style=\"font-size:65.00091553%;baseline-shift:sub\">0</tspan> ... t<tspan id=\"tspan141421\" style=\"font-size:65.00091553%;baseline-shift:sub\">1</tspan>) = 1</tspan></text>\n",
       "    <g id=\"g3599\" style=\"stroke-linecap:butt;stroke-linejoin:round\" transform=\"translate(-19.79899,38.183766)\">\n",
       "      <use height=\"1\" id=\"use137957\" style=\"stroke:#000000;stroke-width:0.5;stroke-linecap:butt;stroke-linejoin:round\" transform=\"matrix(1.1970616,0.35992158,-0.35992158,1.1970616,52.68568,344.99273)\" width=\"1\" x=\"103.73975\" xlink:href=\"#md21b4ff0a3\" y=\"159.46516\"/>\n",
       "      <use height=\"1\" id=\"use137959\" style=\"stroke:#000000;stroke-width:0.5;stroke-linecap:butt;stroke-linejoin:round\" transform=\"matrix(1.1970616,0.35992158,-0.35992158,1.1970616,52.30327,337.49397)\" width=\"1\" x=\"109.60331\" xlink:href=\"#md21b4ff0a3\" y=\"154.79056\"/>\n",
       "      <use height=\"1\" id=\"use137961\" style=\"stroke:#000000;stroke-width:0.5;stroke-linecap:butt;stroke-linejoin:round\" transform=\"matrix(1.1970616,0.35992158,-0.35992158,1.1970616,62.55871,338.46783)\" width=\"1\" x=\"115.46687\" xlink:href=\"#md21b4ff0a3\" y=\"153.91493\"/>\n",
       "      <use height=\"1\" id=\"use137963\" style=\"stroke:#000000;stroke-width:0.5;stroke-linecap:butt;stroke-linejoin:round\" transform=\"matrix(1.1970616,0.35992158,-0.35992158,1.1970616,68.80248,333.48879)\" width=\"1\" x=\"121.33044\" xlink:href=\"#md21b4ff0a3\" y=\"149.37953\"/>\n",
       "      <use height=\"1\" id=\"use137965\" style=\"stroke:#000000;stroke-width:0.5;stroke-linecap:butt;stroke-linejoin:round\" transform=\"matrix(1.1970616,0.35992158,-0.35992158,1.1970616,31.24508,360.17007)\" width=\"1\" x=\"127.194\" xlink:href=\"#md21b4ff0a3\" y=\"155.14859\"/>\n",
       "      <use height=\"1\" id=\"use137967\" style=\"stroke:#000000;stroke-width:0.5;stroke-linecap:butt;stroke-linejoin:round\" transform=\"matrix(1.1970616,0.35992158,-0.35992158,1.1970616,69.77309,328.5065)\" width=\"1\" x=\"133.05756\" xlink:href=\"#md21b4ff0a3\" y=\"149.6394\"/>\n",
       "      <use height=\"1\" id=\"use137969\" style=\"stroke:#000000;stroke-width:0.5;stroke-linecap:butt;stroke-linejoin:round\" transform=\"matrix(1.1970616,0.35992158,-0.35992158,1.1970616,65.16997,340.30779)\" width=\"1\" x=\"138.92113\" xlink:href=\"#md21b4ff0a3\" y=\"155.13899\"/>\n",
       "      <use height=\"1\" id=\"use137971\" style=\"stroke:#000000;stroke-width:0.5;stroke-linecap:butt;stroke-linejoin:round\" transform=\"matrix(1.1970616,0.35992158,-0.35992158,1.1970616,69.77309,328.5065)\" width=\"1\" x=\"144.78468\" xlink:href=\"#md21b4ff0a3\" y=\"152.99017\"/>\n",
       "      <use height=\"1\" id=\"use137973\" style=\"stroke:#000000;stroke-width:0.5;stroke-linecap:butt;stroke-linejoin:round\" transform=\"matrix(1.1970616,0.35992158,-0.35992158,1.1970616,62.12242,339.9189)\" width=\"1\" x=\"150.64825\" xlink:href=\"#md21b4ff0a3\" y=\"160.60689\"/>\n",
       "      <use height=\"1\" id=\"use137975\" style=\"stroke:#000000;stroke-width:0.5;stroke-linecap:butt;stroke-linejoin:round\" transform=\"matrix(1.1970616,0.35992158,-0.35992158,1.1970616,59.83969,354.52751)\" width=\"1\" x=\"156.51181\" xlink:href=\"#md21b4ff0a3\" y=\"160.88554\"/>\n",
       "      <use height=\"1\" id=\"use137977\" style=\"stroke:#000000;stroke-width:0.5;stroke-linecap:butt;stroke-linejoin:round\" transform=\"matrix(-0.91023203,0.85672501,-0.85672501,-0.91023203,481.10663,626.81896)\" width=\"1\" x=\"162.37538\" xlink:href=\"#md21b4ff0a3\" y=\"169.70523\"/>\n",
       "      <use height=\"1\" id=\"use137979\" style=\"stroke:#000000;stroke-width:0.5;stroke-linecap:butt;stroke-linejoin:round\" transform=\"matrix(-0.91023203,0.85672501,-0.85672501,-0.91023203,466.25008,638.10939)\" width=\"1\" x=\"168.23894\" xlink:href=\"#md21b4ff0a3\" y=\"163.40457\"/>\n",
       "      <use height=\"1\" id=\"use137981\" style=\"stroke:#000000;stroke-width:0.5;stroke-linecap:butt;stroke-linejoin:round\" transform=\"matrix(-0.91023203,0.85672501,-0.85672501,-0.91023203,489.71737,625.65048)\" width=\"1\" x=\"174.10249\" xlink:href=\"#md21b4ff0a3\" y=\"159.83852\"/>\n",
       "      <use height=\"1\" id=\"use137983\" style=\"stroke:#000000;stroke-width:0.5;stroke-linecap:butt;stroke-linejoin:round\" transform=\"matrix(-0.91023203,0.85672501,-0.85672501,-0.91023203,469.58527,634.45341)\" width=\"1\" x=\"179.96606\" xlink:href=\"#md21b4ff0a3\" y=\"156.47052\"/>\n",
       "      <path d=\"m 127.54681,592.50987 -10.82418,-20.13172 11.22371,-10.56393 16.80406,5.0525 15.76365,-10.32945 14.65927,-1.39392 15.42731,8.33042 -13.8912,11.11829 6.91054,12.09864 4.48887,16.64463 1.61212,9.16729 4.88986,15.51225 -21.54846,3.63514 -1.168,14.97152\" id=\"path137985\" inkscape:connector-curvature=\"0\" sodipodi:nodetypes=\"cccccccccccccc\" style=\"fill:none;stroke:#000000;stroke-width:1px;stroke-linecap:butt;stroke-linejoin:miter;stroke-opacity:1\"/>\n",
       "      <path d=\"m 97.23866,548.54898 0,111.11678 126.26907,0\" id=\"path138001\" inkscape:connector-curvature=\"0\" style=\"fill:none;stroke:#000000;stroke-width:1px;stroke-linecap:butt;stroke-linejoin:miter;stroke-opacity:1;marker-start:url(#Arrow1Mstart);marker-end:url(#Arrow1Mend)\"/>\n",
       "      <path d=\"m 420.49579,433.5373 c 9.66117,-23.83073 34.55708,-34.2826 55.60656,-23.34491 21.04949,10.93769 30.28154,39.12306 20.62036,62.95379 -6.2656,15.45505 -19.35387,25.93606 -34.31258,27.47732\" id=\"path140733\" sodipodi:cx=\"458.60925\" sodipodi:cy=\"453.34174\" sodipodi:end=\"7.7632224\" sodipodi:open=\"true\" sodipodi:rx=\"41.936195\" sodipodi:ry=\"47.477169\" sodipodi:start=\"3.5718845\" sodipodi:type=\"arc\" style=\"color:#000000;fill:none;stroke:#ff0000;stroke-width:2;stroke-linecap:square;stroke-linejoin:round;stroke-miterlimit:4;stroke-opacity:1;stroke-dasharray:none;stroke-dashoffset:0;marker:none;visibility:visible;display:inline;overflow:visible;enable-background:accumulate\" transform=\"translate(-304.91384,148.82091)\"/>\n",
       "      <text id=\"text140746\" sodipodi:linespacing=\"122%\" style=\"font-size:14px;font-style:normal;font-variant:normal;font-weight:normal;font-stretch:normal;text-align:start;line-height:122.00000286%;letter-spacing:0px;word-spacing:0px;writing-mode:lr-tb;text-anchor:start;fill:#000000;fill-opacity:1;stroke:none;font-family:DejaVu Sans;-inkscape-font-specification:DejaVu Sans\" x=\"112.78427\" xml:space=\"preserve\" y=\"516.59259\"><tspan id=\"tspan140750\" sodipodi:role=\"line\" x=\"112.78427\" y=\"516.59259\">Ellipsis fit</tspan></text>\n",
       "      <text id=\"text3519\" sodipodi:linespacing=\"122%\" style=\"font-size:14px;font-style:normal;font-variant:normal;font-weight:normal;font-stretch:normal;text-align:start;line-height:122.00000286%;letter-spacing:0px;word-spacing:0px;writing-mode:lr-tb;text-anchor:start;fill:#000000;fill-opacity:1;stroke:none;font-family:Arial;-inkscape-font-specification:Sans\" x=\"112.79719\" xml:space=\"preserve\" y=\"605.71576\"><tspan id=\"tspan3521\" sodipodi:role=\"line\" x=\"112.79719\" y=\"605.71576\">t<tspan id=\"tspan3533\" style=\"font-size:65.00091553%;baseline-shift:sub\">0</tspan></tspan></text>\n",
       "      <text id=\"text3525\" sodipodi:linespacing=\"122%\" style=\"font-size:14px;font-style:normal;font-variant:normal;font-weight:normal;font-stretch:normal;text-align:start;line-height:122.00000286%;letter-spacing:0px;word-spacing:0px;writing-mode:lr-tb;text-anchor:start;fill:#000000;fill-opacity:1;stroke:none;font-family:Arial;-inkscape-font-specification:Sans\" x=\"151.94797\" xml:space=\"preserve\" y=\"639.34137\"><tspan id=\"tspan3527\" sodipodi:role=\"line\" x=\"151.94797\" y=\"639.34137\">t<tspan id=\"tspan3535\" style=\"font-size:65.00091553%;baseline-shift:sub\">1</tspan></tspan></text>\n",
       "    </g>\n",
       "    <g id=\"g141443\" style=\"stroke-linecap:butt;stroke-linejoin:round\" transform=\"translate(231.24705,-55.898696)\">\n",
       "      <rect height=\"20.455589\" id=\"rect141375\" ry=\"0\" style=\"color:#000000;fill:#ffffff;stroke:#000000;stroke-width:1;stroke-linecap:square;stroke-linejoin:round;stroke-miterlimit:4;stroke-opacity:1;stroke-dasharray:none;stroke-dashoffset:0;marker:none;visibility:visible;display:inline;overflow:visible;enable-background:accumulate\" width=\"37.375645\" x=\"186.87398\" y=\"618.07745\"/>\n",
       "      <text id=\"text141371\" sodipodi:linespacing=\"122%\" style=\"font-size:14px;font-style:normal;font-variant:normal;font-weight:normal;font-stretch:normal;text-align:end;line-height:122.00000286%;letter-spacing:0px;word-spacing:0px;writing-mode:lr-tb;text-anchor:end;fill:#000000;fill-opacity:1;stroke:none;font-family:DejaVu Sans;-inkscape-font-specification:DejaVu Sans\" x=\"219.11746\" xml:space=\"preserve\" y=\"633.40143\"><tspan id=\"tspan141373\" sodipodi:role=\"line\" x=\"219.11746\" y=\"633.40143\">YES</tspan></text>\n",
       "    </g>\n",
       "    <path d=\"m 343.80884,608.88468 0,50.50763\" id=\"path141423\" inkscape:connector-curvature=\"0\" style=\"fill:none;stroke:#000000;stroke-width:1px;stroke-linecap:butt;stroke-linejoin:miter;stroke-opacity:1;marker-end:url(#Arrow1Lend)\"/>\n",
       "    <g id=\"g141448\" style=\"stroke-linecap:butt;stroke-linejoin:round\" transform=\"translate(138.24705,-113.89869)\">\n",
       "      <rect height=\"20.455589\" id=\"rect141425\" ry=\"0\" style=\"color:#000000;fill:#ffffff;stroke:#000000;stroke-width:1;stroke-linecap:square;stroke-linejoin:round;stroke-miterlimit:4;stroke-opacity:1;stroke-dasharray:none;stroke-dashoffset:0;marker:none;visibility:visible;display:inline;overflow:visible;enable-background:accumulate\" width=\"37.375645\" x=\"186.87398\" y=\"730.9455\"/>\n",
       "      <text id=\"text141427\" sodipodi:linespacing=\"122%\" style=\"font-size:14px;font-style:normal;font-variant:normal;font-weight:normal;font-stretch:normal;text-align:end;line-height:122.00000286%;letter-spacing:0px;word-spacing:0px;writing-mode:lr-tb;text-anchor:end;fill:#000000;fill-opacity:1;stroke:none;font-family:DejaVu Sans;-inkscape-font-specification:DejaVu Sans\" x=\"216.01395\" xml:space=\"preserve\" y=\"746.26947\"><tspan id=\"tspan141429\" sodipodi:role=\"line\" x=\"216.01395\" y=\"746.26947\">NO</tspan></text>\n",
       "    </g>\n",
       "    <path d=\"m 301.42285,577.08539 c 0,10.74352 -40.88138,19.45287 -91.31113,19.45287 -50.42974,0 -91.31112,-8.70935 -91.31112,-19.45287 0,-10.74352 40.88138,-19.45287 91.31112,-19.45287 50.42975,0 91.31113,8.70935 91.31113,19.45287 z\" id=\"path141441\" sodipodi:cx=\"210.11172\" sodipodi:cy=\"577.08539\" sodipodi:rx=\"91.311127\" sodipodi:ry=\"19.452869\" sodipodi:type=\"arc\" style=\"color:#000000;fill:#ff0000;fill-opacity:0.54918033;fill-rule:nonzero;stroke:#000000;stroke-width:1;stroke-linecap:square;stroke-linejoin:round;stroke-miterlimit:4;stroke-opacity:1;stroke-dasharray:none;stroke-dashoffset:0;marker:none;visibility:visible;display:inline;overflow:visible;enable-background:accumulate\" transform=\"translate(133.69711,109.03753)\"/>\n",
       "    <text id=\"text141431\" sodipodi:linespacing=\"122%\" style=\"font-size:14px;font-style:normal;font-variant:normal;font-weight:normal;font-stretch:normal;text-align:end;line-height:122.00000286%;letter-spacing:0px;word-spacing:0px;writing-mode:lr-tb;text-anchor:end;fill:#000000;fill-opacity:1;stroke:none;font-family:DejaVu Sans;-inkscape-font-specification:DejaVu Sans\" x=\"415.73734\" xml:space=\"preserve\" y=\"689.97687\"><tspan id=\"tspan141433\" sodipodi:role=\"line\" x=\"415.73734\" y=\"689.97687\">Rotation(t<tspan id=\"tspan141435\" style=\"font-size:65.00091553%;baseline-shift:sub\">0</tspan> ... t<tspan id=\"tspan141437\" style=\"font-size:65.00091553%;baseline-shift:sub\">1</tspan>) = 0</tspan></text>\n",
       "    <path d=\"m 233.53621,571.41472 38.50763,2e-5\" id=\"path141573\" inkscape:connector-curvature=\"0\" sodipodi:nodetypes=\"cc\" style=\"fill:none;stroke:#000000;stroke-width:1px;stroke-linecap:butt;stroke-linejoin:miter;stroke-opacity:1;marker-end:url(#Arrow1Lend)\"/>\n",
       "    <text id=\"text141575\" sodipodi:linespacing=\"122%\" style=\"font-size:14px;font-style:normal;font-variant:normal;font-weight:normal;font-stretch:normal;text-align:start;line-height:122.00000286%;letter-spacing:0px;word-spacing:0px;writing-mode:lr-tb;text-anchor:start;fill:#000000;fill-opacity:1;stroke:none;font-family:DejaVu Sans;-inkscape-font-specification:DejaVu Sans\" x=\"227.65533\" xml:space=\"preserve\" y=\"558.19055\"><tspan id=\"tspan141579\" sodipodi:role=\"line\" x=\"227.65533\" y=\"558.19055\">Fit data</tspan></text>\n",
       "    <g id=\"g141797\" style=\"stroke-linecap:butt;stroke-linejoin:round\" transform=\"translate(336.51419,-16.697772)\">\n",
       "      <rect height=\"23.614197\" id=\"rect141602\" ry=\"0\" style=\"color:#000000;fill:#ff0000;fill-opacity:0.54918033;fill-rule:nonzero;stroke:none;stroke-width:1;marker:none;visibility:visible;display:inline;overflow:visible;enable-background:accumulate\" width=\"67.59903\" x=\"129.87819\" y=\"770.83215\"/>\n",
       "      <rect height=\"23.614197\" id=\"rect141604\" ry=\"0\" style=\"color:#000000;fill:#55d400;fill-opacity:0.54918033;fill-rule:nonzero;stroke:none;stroke-width:1;marker:none;visibility:visible;display:inline;overflow:visible;enable-background:accumulate\" width=\"99.210976\" x=\"197.4846\" y=\"770.83215\"/>\n",
       "      <rect height=\"23.614197\" id=\"rect141606\" ry=\"0\" style=\"color:#000000;fill:#ff0000;fill-opacity:0.54918033;fill-rule:nonzero;stroke:none;stroke-width:1;marker:none;visibility:visible;display:inline;overflow:visible;enable-background:accumulate\" width=\"40.190205\" x=\"296.80063\" y=\"770.83215\"/>\n",
       "      <text id=\"text141625\" sodipodi:linespacing=\"122%\" style=\"font-size:14px;font-style:normal;font-variant:normal;font-weight:normal;font-stretch:normal;text-align:start;line-height:122.00000286%;letter-spacing:0px;word-spacing:0px;writing-mode:lr-tb;text-anchor:start;fill:#000000;fill-opacity:1;stroke:none;font-family:DejaVu Sans;-inkscape-font-specification:DejaVu Sans\" x=\"215.42831\" xml:space=\"preserve\" y=\"786.50153\"><tspan id=\"tspan141627\" sodipodi:role=\"line\" x=\"215.42831\" y=\"786.50153\">ellipticity</tspan></text>\n",
       "      <text id=\"text141629\" sodipodi:linespacing=\"122%\" style=\"font-size:14px;font-style:normal;font-variant:normal;font-weight:normal;font-stretch:normal;text-align:end;line-height:122.00000286%;letter-spacing:0px;word-spacing:0px;writing-mode:lr-tb;text-anchor:end;fill:#000000;fill-opacity:1;stroke:none;font-family:DejaVu Sans;-inkscape-font-specification:DejaVu Sans\" x=\"202.93468\" xml:space=\"preserve\" y=\"767.51569\"><tspan id=\"tspan141631\" sodipodi:role=\"line\" x=\"202.93468\" y=\"767.51569\">1</tspan></text>\n",
       "      <text id=\"text141633\" sodipodi:linespacing=\"122%\" style=\"font-size:14px;font-style:normal;font-variant:normal;font-weight:normal;font-stretch:normal;text-align:end;line-height:122.00000286%;letter-spacing:0px;word-spacing:0px;writing-mode:lr-tb;text-anchor:end;fill:#000000;fill-opacity:1;stroke:none;font-family:DejaVu Sans;-inkscape-font-specification:DejaVu Sans\" x=\"298.49844\" xml:space=\"preserve\" y=\"767.51569\"><tspan id=\"tspan141635\" sodipodi:role=\"line\" x=\"298.49844\" y=\"767.51569\">3</tspan></text>\n",
       "    </g>\n",
       "    <g id=\"g141789\" style=\"stroke-linecap:butt;stroke-linejoin:round\" transform=\"translate(336.51419,-18.454639)\">\n",
       "      <rect height=\"23.614197\" id=\"rect141645\" ry=\"0\" style=\"color:#000000;fill:#55d400;fill-opacity:0.54918033;fill-rule:nonzero;stroke:none;stroke-width:1;marker:none;visibility:visible;display:inline;overflow:visible;enable-background:accumulate\" width=\"141.06667\" x=\"196.74666\" y=\"824.46747\"/>\n",
       "      <text id=\"text141637\" sodipodi:linespacing=\"122%\" style=\"font-size:14px;font-style:normal;font-variant:normal;font-weight:normal;font-stretch:normal;text-align:start;line-height:122.00000286%;letter-spacing:0px;word-spacing:0px;writing-mode:lr-tb;text-anchor:start;fill:#000000;fill-opacity:1;stroke:none;font-family:DejaVu Sans;-inkscape-font-specification:DejaVu Sans\" x=\"215.42831\" xml:space=\"preserve\" y=\"840.13342\"><tspan id=\"tspan141641\" sodipodi:role=\"line\" x=\"215.42831\" y=\"840.13342\">- log(χ²)</tspan></text>\n",
       "      <rect height=\"23.614197\" id=\"rect141643\" ry=\"0\" style=\"color:#000000;fill:#ff0000;fill-opacity:0.54918033;fill-rule:nonzero;stroke:none;stroke-width:1;marker:none;visibility:visible;display:inline;overflow:visible;enable-background:accumulate\" width=\"67.59903\" x=\"129.14024\" y=\"824.46747\"/>\n",
       "      <text id=\"text141691\" sodipodi:linespacing=\"122%\" style=\"font-size:14px;font-style:normal;font-variant:normal;font-weight:normal;font-stretch:normal;text-align:end;line-height:122.00000286%;letter-spacing:0px;word-spacing:0px;writing-mode:lr-tb;text-anchor:end;fill:#000000;fill-opacity:1;stroke:none;font-family:DejaVu Sans;-inkscape-font-specification:DejaVu Sans\" x=\"204.80634\" xml:space=\"preserve\" y=\"820.6806\"><tspan id=\"tspan141693\" sodipodi:role=\"line\" x=\"204.80634\" y=\"820.6806\">-3</tspan></text>\n",
       "    </g>\n",
       "    <g id=\"g141778\" style=\"stroke-linecap:butt;stroke-linejoin:round\" transform=\"translate(336.51419,-16.576206)\">\n",
       "      <rect height=\"23.614197\" id=\"rect141695\" ry=\"0\" style=\"color:#000000;fill:#55d400;fill-opacity:0.54918033;fill-rule:nonzero;stroke:none;stroke-width:1;marker:none;visibility:visible;display:inline;overflow:visible;enable-background:accumulate\" width=\"98.634872\" x=\"196.74666\" y=\"874.46747\"/>\n",
       "      <text id=\"text141697\" sodipodi:linespacing=\"122%\" style=\"font-size:14px;font-style:normal;font-variant:normal;font-weight:normal;font-stretch:normal;text-align:start;line-height:122.00000286%;letter-spacing:0px;word-spacing:0px;writing-mode:lr-tb;text-anchor:start;fill:#000000;fill-opacity:1;stroke:none;font-family:DejaVu Sans;-inkscape-font-specification:DejaVu Sans\" x=\"215.42831\" xml:space=\"preserve\" y=\"891.56897\"><tspan id=\"tspan141707\" sodipodi:role=\"line\" x=\"215.42831\" y=\"891.56897\">Δθ</tspan></text>\n",
       "      <rect height=\"23.614197\" id=\"rect141701\" ry=\"0\" style=\"color:#000000;fill:#ff0000;fill-opacity:0.54918033;fill-rule:nonzero;stroke:none;stroke-width:1;marker:none;visibility:visible;display:inline;overflow:visible;enable-background:accumulate\" width=\"67.59903\" x=\"129.14024\" y=\"874.46747\"/>\n",
       "      <text id=\"text141703\" sodipodi:linespacing=\"122%\" style=\"font-size:14px;font-style:normal;font-variant:normal;font-weight:normal;font-stretch:normal;text-align:end;line-height:122.00000286%;letter-spacing:0px;word-spacing:0px;writing-mode:lr-tb;text-anchor:end;fill:#000000;fill-opacity:1;stroke:none;font-family:DejaVu Sans;-inkscape-font-specification:DejaVu Sans\" x=\"204.80634\" xml:space=\"preserve\" y=\"870.6806\"><tspan id=\"tspan141709\" sodipodi:role=\"line\" x=\"204.80634\" y=\"870.6806\">60°</tspan></text>\n",
       "      <rect height=\"23.614197\" id=\"rect141711\" ry=\"0\" style=\"color:#000000;fill:#ff0000;fill-opacity:0.54918033;fill-rule:nonzero;stroke:none;stroke-width:1;marker:none;visibility:visible;display:inline;overflow:visible;enable-background:accumulate\" width=\"40.190205\" x=\"295.3248\" y=\"874.46747\"/>\n",
       "      <text id=\"text141713\" sodipodi:linespacing=\"122%\" style=\"font-size:14px;font-style:normal;font-variant:normal;font-weight:normal;font-stretch:normal;text-align:end;line-height:122.00000286%;letter-spacing:0px;word-spacing:0px;writing-mode:lr-tb;text-anchor:end;fill:#000000;fill-opacity:1;stroke:none;font-family:DejaVu Sans;-inkscape-font-specification:DejaVu Sans\" x=\"304.80634\" xml:space=\"preserve\" y=\"870.6806\"><tspan id=\"tspan141715\" sodipodi:role=\"line\" x=\"304.80634\" y=\"870.6806\">720°</tspan></text>\n",
       "    </g>\n",
       "    <g id=\"g141767\" style=\"stroke-linecap:butt;stroke-linejoin:round\" transform=\"translate(336.51419,-16.697772)\">\n",
       "      <rect height=\"23.614197\" id=\"rect141717\" ry=\"0\" style=\"color:#000000;fill:#55d400;fill-opacity:0.54918033;fill-rule:nonzero;stroke:none;stroke-width:1;marker:none;visibility:visible;display:inline;overflow:visible;enable-background:accumulate\" width=\"98.634872\" x=\"196.74666\" y=\"926.46747\"/>\n",
       "      <rect height=\"23.614197\" id=\"rect141723\" ry=\"0\" style=\"color:#000000;fill:#ff0000;fill-opacity:0.54918033;fill-rule:nonzero;stroke:none;stroke-width:1;marker:none;visibility:visible;display:inline;overflow:visible;enable-background:accumulate\" width=\"67.59903\" x=\"129.14024\" y=\"926.46747\"/>\n",
       "      <text id=\"text141725\" sodipodi:linespacing=\"122%\" style=\"font-size:14px;font-style:normal;font-variant:normal;font-weight:normal;font-stretch:normal;text-align:end;line-height:122.00000286%;letter-spacing:0px;word-spacing:0px;writing-mode:lr-tb;text-anchor:end;fill:#000000;fill-opacity:1;stroke:none;font-family:DejaVu Sans;-inkscape-font-specification:DejaVu Sans\" x=\"214.80634\" xml:space=\"preserve\" y=\"922.6806\"><tspan id=\"tspan141727\" sodipodi:role=\"line\" x=\"214.80634\" y=\"922.6806\">3 µm</tspan></text>\n",
       "      <rect height=\"23.614197\" id=\"rect141729\" ry=\"0\" style=\"color:#000000;fill:#ff0000;fill-opacity:0.54918033;fill-rule:nonzero;stroke:none;stroke-width:1;marker:none;visibility:visible;display:inline;overflow:visible;enable-background:accumulate\" width=\"40.190205\" x=\"295.3248\" y=\"926.46747\"/>\n",
       "      <text id=\"text141747\" sodipodi:linespacing=\"122%\" style=\"font-size:14px;font-style:normal;font-variant:normal;font-weight:normal;font-stretch:normal;text-align:end;line-height:122.00000286%;letter-spacing:0px;word-spacing:0px;writing-mode:lr-tb;text-anchor:end;fill:#000000;fill-opacity:1;stroke:none;font-family:DejaVu Sans;-inkscape-font-specification:DejaVu Sans\" x=\"260.02744\" xml:space=\"preserve\" y=\"942.26123\"><tspan id=\"tspan141749\" sodipodi:role=\"line\" x=\"260.02744\" y=\"942.26123\">radius</tspan></text>\n",
       "      <text id=\"text141751\" sodipodi:linespacing=\"122%\" style=\"font-size:14px;font-style:normal;font-variant:normal;font-weight:normal;font-stretch:normal;text-align:end;line-height:122.00000286%;letter-spacing:0px;word-spacing:0px;writing-mode:lr-tb;text-anchor:end;fill:#000000;fill-opacity:1;stroke:none;font-family:DejaVu Sans;-inkscape-font-specification:DejaVu Sans\" x=\"318.80634\" xml:space=\"preserve\" y=\"922.6806\"><tspan id=\"tspan141753\" sodipodi:role=\"line\" x=\"318.80634\" y=\"922.6806\">30 µm</tspan></text>\n",
       "    </g>\n",
       "    <text id=\"text142431\" sodipodi:linespacing=\"122%\" style=\"font-size:14px;font-style:normal;font-variant:normal;font-weight:normal;font-stretch:normal;text-align:start;line-height:122.00000286%;letter-spacing:0px;word-spacing:0px;writing-mode:lr-tb;text-anchor:start;fill:#000000;fill-opacity:1;stroke:none;font-family:DejaVu Sans;-inkscape-font-specification:DejaVu Sans\" x=\"264.55884\" xml:space=\"preserve\" y=\"760.97113\"><tspan id=\"tspan142433\" sodipodi:role=\"line\" x=\"264.55884\" y=\"760.97113\">ellipticity = b/a</tspan></text>\n",
       "    <text id=\"text142435\" sodipodi:linespacing=\"122%\" style=\"font-size:14px;font-style:normal;font-variant:normal;font-weight:normal;font-stretch:normal;text-align:end;line-height:122.00000286%;letter-spacing:0px;word-spacing:0px;writing-mode:lr-tb;text-anchor:end;fill:#000000;fill-opacity:1;stroke:none;font-family:DejaVu Sans;-inkscape-font-specification:DejaVu Sans\" x=\"426.83682\" xml:space=\"preserve\" y=\"795.63391\"><tspan id=\"tspan142437\" sodipodi:role=\"line\" x=\"426.83682\" y=\"795.63391\"/></text>\n",
       "    <text id=\"text142439\" sodipodi:linespacing=\"122%\" style=\"font-size:14px;font-style:normal;font-variant:normal;font-weight:normal;font-stretch:normal;text-align:start;line-height:122.00000286%;letter-spacing:0px;word-spacing:0px;writing-mode:lr-tb;text-anchor:start;fill:#000000;fill-opacity:1;stroke:none;font-family:DejaVu Sans;-inkscape-font-specification:DejaVu Sans\" x=\"264.05981\" xml:space=\"preserve\" y=\"802.91296\"><tspan id=\"tspan142441\" sodipodi:role=\"line\" x=\"264.05981\" y=\"802.91296\">radius = (b + a) / 2</tspan></text>\n",
       "    <g id=\"g142518\" style=\"stroke-linecap:butt;stroke-linejoin:round\" transform=\"matrix(1.7600222,0,0,1.7600222,-505.85034,-577.8401)\">\n",
       "      <use height=\"1\" id=\"use142455\" style=\"stroke:#000000;stroke-width:0.5;stroke-linecap:butt;stroke-linejoin:round\" transform=\"matrix(-0.91023203,0.85672501,-0.85672501,-0.91023203,720.12336,838.09872)\" width=\"1\" x=\"174.10249\" xlink:href=\"#md21b4ff0a3\" y=\"159.83852\"/>\n",
       "      <use height=\"1\" id=\"use142457\" style=\"stroke:#000000;stroke-width:0.5;stroke-linecap:butt;stroke-linejoin:round\" transform=\"matrix(-0.91023203,0.85672501,-0.85672501,-0.91023203,688.29606,823.04169)\" width=\"1\" x=\"179.96606\" xlink:href=\"#md21b4ff0a3\" y=\"156.47052\"/>\n",
       "      <path d=\"m 420.49579,433.5373 c 9.66117,-23.83073 34.55708,-34.2826 55.60656,-23.34491 21.04949,10.93769 30.28154,39.12306 20.62036,62.95379 -6.2656,15.45505 -19.35387,25.93606 -34.31258,27.47732\" id=\"path140733-6\" sodipodi:cx=\"458.60925\" sodipodi:cy=\"453.34174\" sodipodi:end=\"7.7632224\" sodipodi:open=\"true\" sodipodi:rx=\"41.936195\" sodipodi:ry=\"47.477169\" sodipodi:start=\"3.5718845\" sodipodi:type=\"arc\" style=\"color:#000000;fill:none;stroke:#ff0000;stroke-width:2;stroke-linecap:square;stroke-linejoin:round;stroke-miterlimit:4;stroke-opacity:1;stroke-dasharray:none;stroke-dashoffset:0;marker:none;visibility:visible;display:inline;overflow:visible;enable-background:accumulate\" transform=\"translate(-80.13594,344.33454)\"/>\n",
       "      <path d=\"m 419.00337,798.61643 -40.17902,0 0,-49.04971\" id=\"path141826\" inkscape:connector-curvature=\"0\" style=\"fill:none;stroke:#000000;stroke-width:1px;stroke-linecap:butt;stroke-linejoin:miter;stroke-opacity:1\"/>\n",
       "      <text id=\"text141828\" sodipodi:linespacing=\"122%\" style=\"font-size:14px;font-style:normal;font-variant:normal;font-weight:normal;font-stretch:normal;text-align:end;line-height:122.00000286%;letter-spacing:0px;word-spacing:0px;writing-mode:lr-tb;text-anchor:end;fill:#000000;fill-opacity:1;stroke:none;font-family:DejaVu Sans;-inkscape-font-specification:DejaVu Sans\" x=\"407.26273\" xml:space=\"preserve\" y=\"808.79163\"><tspan id=\"tspan141830\" sodipodi:role=\"line\" x=\"407.26273\" y=\"808.79163\">a</tspan></text>\n",
       "      <text id=\"text141832\" sodipodi:linespacing=\"122%\" style=\"font-size:14px;font-style:normal;font-variant:normal;font-weight:normal;font-stretch:normal;text-align:end;line-height:122.00000286%;letter-spacing:0px;word-spacing:0px;writing-mode:lr-tb;text-anchor:end;fill:#000000;fill-opacity:1;stroke:none;font-family:DejaVu Sans;-inkscape-font-specification:DejaVu Sans\" x=\"376.2153\" xml:space=\"preserve\" y=\"774.87433\"><tspan id=\"tspan141834\" sodipodi:role=\"line\" x=\"376.2153\" y=\"774.87433\">b</tspan></text>\n",
       "      <path d=\"m 339.80347,778.05856 38.92656,20.57019 2.5828,46.58273\" id=\"path141836\" inkscape:connector-curvature=\"0\" sodipodi:nodetypes=\"ccc\" style=\"fill:none;stroke:#b3b3b3;stroke-width:1px;stroke-linecap:butt;stroke-linejoin:miter;stroke-opacity:1\"/>\n",
       "      <path d=\"m 420.49579,433.5373 c 9.66117,-23.83073 34.55708,-34.2826 55.60656,-23.34491 21.04949,10.93769 30.28154,39.12306 20.62036,62.95379 -6.2656,15.45505 -19.35387,25.93606 -34.31258,27.47732\" id=\"path141838\" sodipodi:cx=\"458.60925\" sodipodi:cy=\"453.34174\" sodipodi:end=\"7.7632224\" sodipodi:open=\"true\" sodipodi:rx=\"41.936195\" sodipodi:ry=\"47.477169\" sodipodi:start=\"3.5718845\" sodipodi:type=\"arc\" style=\"color:#000000;fill:none;stroke:#000000;stroke-width:4.03286505;stroke-linecap:square;stroke-linejoin:round;stroke-miterlimit:4;stroke-opacity:1;stroke-dasharray:none;stroke-dashoffset:0;marker:none;marker-start:url(#Arrow1Mstart);visibility:visible;display:inline;overflow:visible;enable-background:accumulate\" transform=\"matrix(0.24796267,0,0,0.24796267,266.19658,685.18665)\"/>\n",
       "      <text id=\"text141697-0\" sodipodi:linespacing=\"122%\" style=\"font-size:14px;font-style:normal;font-variant:normal;font-weight:normal;font-stretch:normal;text-align:start;line-height:122.00000286%;letter-spacing:0px;word-spacing:0px;writing-mode:lr-tb;text-anchor:start;fill:#000000;fill-opacity:1;stroke:none;font-family:DejaVu Sans;-inkscape-font-specification:DejaVu Sans\" x=\"387.62259\" xml:space=\"preserve\" y=\"787.55585\"><tspan id=\"tspan141707-1\" sodipodi:role=\"line\" x=\"387.62259\" y=\"787.55585\">Δθ</tspan></text>\n",
       "      <path d=\"m 408.77374,830.43345 15.22976,11.12666\" id=\"path142459\" inkscape:connector-curvature=\"0\" sodipodi:nodetypes=\"cc\" style=\"fill:none;stroke:#000000;stroke-width:1px;stroke-linecap:butt;stroke-linejoin:miter;stroke-opacity:1\"/>\n",
       "      <text id=\"text142461\" sodipodi:linespacing=\"122%\" style=\"font-size:14px;font-style:normal;font-variant:normal;font-weight:normal;font-stretch:normal;text-align:start;line-height:122.00000286%;letter-spacing:0px;word-spacing:0px;writing-mode:lr-tb;text-anchor:start;fill:#000000;fill-opacity:1;stroke:none;font-family:DejaVu Sans;-inkscape-font-specification:DejaVu Sans\" x=\"416.93042\" xml:space=\"preserve\" y=\"830.57159\"><tspan id=\"tspan142465\" sodipodi:role=\"line\" x=\"416.93042\" y=\"830.57159\">ε<tspan id=\"tspan142473\" style=\"font-size:65.00091553%;baseline-shift:sub\">i</tspan></tspan></text>\n",
       "      <path d=\"m 389.78287,835.99041 2.51741,7.25245\" id=\"path142467\" inkscape:connector-curvature=\"0\" sodipodi:nodetypes=\"cc\" style=\"fill:none;stroke:#000000;stroke-width:1px;stroke-linecap:butt;stroke-linejoin:miter;stroke-opacity:1\"/>\n",
       "      <text id=\"text142469\" sodipodi:linespacing=\"122%\" style=\"font-size:14px;font-style:normal;font-variant:normal;font-weight:normal;font-stretch:normal;text-align:start;line-height:122.00000286%;letter-spacing:0px;word-spacing:0px;writing-mode:lr-tb;text-anchor:start;fill:#000000;fill-opacity:1;stroke:none;font-family:DejaVu Sans;-inkscape-font-specification:DejaVu Sans\" x=\"396.0582\" xml:space=\"preserve\" y=\"850.66113\"><tspan id=\"tspan142471\" sodipodi:role=\"line\" x=\"396.0582\" y=\"850.66113\">ε<tspan id=\"tspan142475\" style=\"font-size:65.00091553%;baseline-shift:sub\">j</tspan></tspan></text>\n",
       "    </g>\n",
       "    <text id=\"text142477\" sodipodi:linespacing=\"122%\" style=\"font-size:14px;font-style:normal;font-variant:normal;font-weight:normal;font-stretch:normal;text-align:start;line-height:122.00000286%;letter-spacing:0px;word-spacing:0px;writing-mode:lr-tb;text-anchor:start;fill:#000000;fill-opacity:1;stroke:none;font-family:DejaVu Sans;-inkscape-font-specification:DejaVu Sans\" x=\"264.92798\" xml:space=\"preserve\" y=\"844.85486\"><tspan id=\"tspan142483\" sodipodi:role=\"line\" x=\"264.92798\" y=\"844.85486\">χ² = Σε<tspan id=\"tspan3515\" style=\"font-size:14px;baseline-shift:sub\">k</tspan><tspan id=\"tspan3517\" style=\"font-size:14px;baseline-shift:super\">2</tspan></tspan></text>\n",
       "  </g>\n",
       "</svg>"
      ],
      "text/plain": [
       "<IPython.core.display.SVG at 0x7f2755201c18>"
      ]
     },
     "execution_count": 29,
     "metadata": {},
     "output_type": "execute_result"
    }
   ],
   "source": [
    "display.SVG('ellipsis_detection.svg')"
   ]
  },
  {
   "cell_type": "markdown",
   "metadata": {},
   "source": [
    "### 3.2.1 Setting rotation detection cutoffs"
   ]
  },
  {
   "cell_type": "code",
   "execution_count": 19,
   "metadata": {
    "collapsed": false
   },
   "outputs": [],
   "source": [
    "### You can change the name of the file bellow if you're using other cutoffs\n",
    "settings_json = 'ellipsis_cutoffs.json'\n",
    "\n",
    "setter_widget = ct.ui.ipy_widgets.set_ellipsis_limits(jsonfile=settings_json)\n",
    "ellipsis_cutoffs = setter_widget.settings\n",
    "display.display(setter_widget)"
   ]
  },
  {
   "cell_type": "markdown",
   "metadata": {},
   "source": [
    "### 3.2.2 Detection (redo if you change the cutoffs)"
   ]
  },
  {
   "cell_type": "code",
   "execution_count": 23,
   "metadata": {
    "collapsed": false
   },
   "outputs": [],
   "source": [
    "cluster.detect_rotations(ellipsis_cutoffs, sizes, method='binary')"
   ]
  },
  {
   "cell_type": "markdown",
   "metadata": {},
   "source": [
    "### 3.2.3 Plot rotation events"
   ]
  },
  {
   "cell_type": "code",
   "execution_count": 24,
   "metadata": {
    "collapsed": false
   },
   "outputs": [],
   "source": [
    "ct.graphics.show_ellipses_clusters(cluster, sizes, ellipsis_cutoffs)\n",
    "ax, total_rot, n_detected = ct.graphics.plot_rotation_events(cluster, ax=None,\n",
    "                                                             show_segments=True)"
   ]
  },
  {
   "cell_type": "markdown",
   "metadata": {},
   "source": [
    "### 3.2.4  Save the rotation index to a `csv` file"
   ]
  },
  {
   "cell_type": "code",
   "execution_count": 22,
   "metadata": {
    "collapsed": false
   },
   "outputs": [
    {
     "name": "stdout",
     "output_type": "stream",
     "text": [
      "Rotation index saved to /media/data/AnneHDFStores/jnk_inhib_iono_rotation_index.csv\n"
     ]
    }
   ],
   "source": [
    "csv_fname = cluster.oio.store_path.replace('.h5', '_rotation_index.csv')\n",
    "total_rot.to_csv(csv_fname)\n",
    "print('Rotation index saved to {}'.format(csv_fname))"
   ]
  },
  {
   "cell_type": "markdown",
   "metadata": {},
   "source": [
    "### 3.2.3 Basic stats on the rotation index"
   ]
  },
  {
   "cell_type": "code",
   "execution_count": 23,
   "metadata": {
    "collapsed": false
   },
   "outputs": [
    {
     "name": "stdout",
     "output_type": "stream",
     "text": [
      "Average value of the rotation index between frame 1 and 7:\n",
      "\t 0.000\n",
      "Global average of the rotation index: \n",
      "\t 0.200\n"
     ]
    }
   ],
   "source": [
    "### If you want to compute the rotation index average between\n",
    "### two stacks, set here the number of the first and last ones\n",
    "start_frame = 1\n",
    "end_frame = 7\n",
    "\n",
    "print('Average value of the rotation index between frame {} and {}:'.format(start_frame, end_frame))\n",
    "print('\\t {0:.3f}'.format(total_rot.loc[start_frame: end_frame].mean()))\n",
    "\n",
    "print('Global average of the rotation index: ')\n",
    "print('\\t {0:.3f}'.format(total_rot.mean()))"
   ]
  },
  {
   "cell_type": "markdown",
   "metadata": {},
   "source": [
    "## 3.3 Four panels views of the trajectories and the detected ellipses"
   ]
  },
  {
   "cell_type": "markdown",
   "metadata": {},
   "source": [
    "#### Single segment"
   ]
  },
  {
   "cell_type": "code",
   "execution_count": 24,
   "metadata": {
    "collapsed": false
   },
   "outputs": [
    {
     "data": {
      "text/plain": [
       "array([ 0,  1,  2,  3,  4,  5,  6,  7,  8,  9, 10, 11, 12])"
      ]
     },
     "execution_count": 24,
     "metadata": {},
     "output_type": "execute_result"
    }
   ],
   "source": [
    "cluster.trajs.labels"
   ]
  },
  {
   "cell_type": "code",
   "execution_count": 26,
   "metadata": {
    "collapsed": false
   },
   "outputs": [],
   "source": [
    "\n",
    "\n",
    "colors = cluster.trajs.get_colors()\n",
    "segments = cluster.trajs.get_segments()\n",
    "\n",
    "### Choose the label\n",
    "label =5\n",
    "\n",
    "\n",
    "### Grab the corresponding segment\n",
    "segment = segments[label]\n",
    "\n",
    "## Paramters for the scatter plot (the bullets) \n",
    "scatter_kw = {'c':segment.t.astype(np.float),\n",
    "              'cmap':'spectral',\n",
    "              's':40,\n",
    "              'alpha':0.8,\n",
    "              'edgecolors':'none'}\n",
    "\n",
    "## Paramters for the line plot \n",
    "line_kw = {'c': 'gray',\n",
    "           'ls': '-',\n",
    "           'alpha': 0.8,\n",
    "           'lw': 0.75}\n",
    "\n",
    "## Parameters for the ellipses\n",
    "ellipsis_kw = {'c':'k', 'alpha':1., 'lw':0.5}\n",
    "\n",
    "axes, ax_3d = ct.graphics.show_4panel_ellipses(cluster,\n",
    "                                               label,\n",
    "                                               sizes,\n",
    "                                               ellipsis_cutoffs,\n",
    "                                               method=detection_method,\n",
    "                                               scatter_kw=scatter_kw,\n",
    "                                               line_kw=line_kw,\n",
    "                                               show_centers=False,\n",
    "                                               ellipsis_kw=ellipsis_kw,\n",
    "                                               axes=None, ax_3d=None)\n",
    "\n",
    "axes[0, 0].set_xlim(-60, 60)\n",
    "axes[0, 0].set_ylim(-60, 60)\n",
    "fig = axes[0, 0].get_figure()\n",
    "fig.set_size_inches(10, 10)\n",
    "plt.savefig('/home/guillaume/Bureau/jvm_ctrl_lbl_{}.svg'.format(label))\n",
    "\n"
   ]
  },
  {
   "cell_type": "markdown",
   "metadata": {},
   "source": [
    "#### All the segments at once"
   ]
  },
  {
   "cell_type": "code",
   "execution_count": 84,
   "metadata": {
    "collapsed": false
   },
   "outputs": [],
   "source": [
    "axes, ax_3d = None, None\n",
    "\n",
    "### Get segments and their colors \n",
    "colors = cluster.trajs.get_colors()\n",
    "segments = cluster.trajs.get_segments()\n",
    "\n",
    "\n",
    "for label in cluster.trajs.labels:\n",
    "\n",
    "    ### Grab the corresponding segment\n",
    "    segment = segments[label]\n",
    "\n",
    "\n",
    "    ## Paramters for the scatter plot (the bullets) \n",
    "    scatter_kw = {'c':segment.t.astype(np.float),\n",
    "                  'cmap':'spectral',\n",
    "                  's':40,\n",
    "                  'alpha':0.8,\n",
    "                  'edgecolors':'none'}\n",
    "\n",
    "    ## Paramters for the line plot \n",
    "    line_kw = {'c': 'gray',\n",
    "               'ls': '-',\n",
    "               'alpha': 0.8,\n",
    "               'lw': 0.75}\n",
    "\n",
    "    ## Parameters for the ellipses\n",
    "    ellipsis_kw = {'c':'k', 'alpha':0.2, 'lw':0.5}\n",
    "\n",
    "    axes, ax_3d = ct.graphics.show_4panel_ellipses(cluster,\n",
    "                                                   label,\n",
    "                                                   sizes,\n",
    "                                                   ellipsis_cutoffs,\n",
    "                                                   scatter_kw=scatter_kw,\n",
    "                                                   line_kw=line_kw,\n",
    "                                                   show_centers=True,\n",
    "                                                   ellipsis_kw=ellipsis_kw,\n",
    "                                                   axes=axes, ax_3d=ax_3d)\n"
   ]
  },
  {
   "cell_type": "markdown",
   "metadata": {},
   "source": [
    "# 4 Rotation and translation quantifications"
   ]
  },
  {
   "cell_type": "markdown",
   "metadata": {},
   "source": [
    "## 4.1 Interpolation and smoothing"
   ]
  },
  {
   "cell_type": "markdown",
   "metadata": {},
   "source": [
    "In order to compensate for the noise in the trajectories, we can use spline interpolation to obtain"
   ]
  },
  {
   "cell_type": "code",
   "execution_count": 112,
   "metadata": {
    "collapsed": false
   },
   "outputs": [],
   "source": [
    "sampling = 1\n",
    "smooth = 20"
   ]
  },
  {
   "cell_type": "code",
   "execution_count": 113,
   "metadata": {
    "collapsed": false
   },
   "outputs": [],
   "source": [
    "centered = cluster.get_center(append=False, reset=True)"
   ]
  },
  {
   "cell_type": "markdown",
   "metadata": {},
   "source": [
    "In order to characterize the nuclear motion, we can transform the trajectories in different ways:\n",
    "\n",
    "1. Interpolation and smoothing\n",
    "\n",
    "2. Center corrected trajectory, possibly in a polar coordinate system\n",
    "\n",
    "3. For 3D trajectories, projection of the data along the principal plane, or along another relevant axis\n",
    "\n"
   ]
  },
  {
   "cell_type": "code",
   "execution_count": 114,
   "metadata": {
    "collapsed": false
   },
   "outputs": [],
   "source": [
    "interp = cluster.trajs.time_interpolate(sampling=sampling, s=smooth)\n",
    "interp_centered = cluster.get_center(trajs=interp, append=False, reset=True)\n",
    "\n",
    "#\n",
    "rotated = transformation.do_pca(interp_centered)\n",
    "rotated = Trajectories(rotated).time_interpolate(sampling=sampling, s=smooth)\n",
    "\n",
    "polar = rotation.get_polar_coords(rotated, get_dtheta=True)"
   ]
  },
  {
   "cell_type": "code",
   "execution_count": 115,
   "metadata": {
    "collapsed": false
   },
   "outputs": [],
   "source": [
    "fig, ax = plt.subplots()\n",
    "interp.show('x', 'y', ax=ax, marker='+', lw=2, alpha=0.5)\n",
    "cluster.trajs.show('x', 'y', ax=ax, marker='o')\n",
    "ax.set_aspect('equal')"
   ]
  },
  {
   "cell_type": "markdown",
   "metadata": {},
   "source": [
    "## 4.1 Rotation quantification"
   ]
  },
  {
   "cell_type": "markdown",
   "metadata": {},
   "source": [
    "Bellow are depicted the various quantities we will use to quantify the rotation"
   ]
  },
  {
   "cell_type": "code",
   "execution_count": null,
   "metadata": {
    "collapsed": false
   },
   "outputs": [],
   "source": []
  },
  {
   "cell_type": "code",
   "execution_count": 141,
   "metadata": {
    "collapsed": false
   },
   "outputs": [
    {
     "data": {
      "text/plain": [
       "[<matplotlib.lines.Line2D at 0x7fb960539710>]"
      ]
     },
     "execution_count": 141,
     "metadata": {},
     "output_type": "execute_result"
    }
   ],
   "source": [
    "fig, ax = plt.subplots()\n",
    "#ax.plot(cluster.trajs.t.mean(level='t_stamp'),\n",
    "# cluster.relative_pos.values)\n",
    "coeffs = {}\n",
    "ts = cluster.trajs.t.mean(level='t_stamp').values\n",
    "\n",
    "ax.plot(ts, cluster.relative_pos.values)\n"
   ]
  },
  {
   "cell_type": "code",
   "execution_count": null,
   "metadata": {
    "collapsed": false
   },
   "outputs": [],
   "source": []
  },
  {
   "cell_type": "code",
   "execution_count": 116,
   "metadata": {
    "collapsed": false
   },
   "outputs": [
    {
     "data": {
      "image/svg+xml": [
       "<svg height=\"210.78433\" id=\"svg8277\" inkscape:version=\"0.48.4 r9939\" sodipodi:docname=\"measure_rotation.svg\" version=\"1.1\" width=\"741.37073\" xmlns=\"http://www.w3.org/2000/svg\" xmlns:cc=\"http://creativecommons.org/ns#\" xmlns:dc=\"http://purl.org/dc/elements/1.1/\" xmlns:inkscape=\"http://www.inkscape.org/namespaces/inkscape\" xmlns:rdf=\"http://www.w3.org/1999/02/22-rdf-syntax-ns#\" xmlns:sodipodi=\"http://sodipodi.sourceforge.net/DTD/sodipodi-0.dtd\" xmlns:svg=\"http://www.w3.org/2000/svg\">\n",
       "  <defs id=\"defs8279\">\n",
       "    <marker id=\"Arrow1Mend\" inkscape:stockid=\"Arrow1Mend\" orient=\"auto\" refX=\"0\" refY=\"0\" style=\"overflow:visible\">\n",
       "      <path d=\"M 0,0 5,-5 -12.5,0 5,5 0,0 z\" id=\"path3982\" inkscape:connector-curvature=\"0\" style=\"fill-rule:evenodd;stroke:#000000;stroke-width:1pt\" transform=\"matrix(-0.4,0,0,-0.4,-4,0)\"/>\n",
       "    </marker>\n",
       "    <marker id=\"marker8297\" inkscape:stockid=\"Arrow1Mend\" orient=\"auto\" refX=\"0\" refY=\"0\" style=\"overflow:visible\">\n",
       "      <path d=\"M 0,0 5,-5 -12.5,0 5,5 0,0 z\" id=\"path8299\" inkscape:connector-curvature=\"0\" style=\"fill-rule:evenodd;stroke:#000000;stroke-width:1pt\" transform=\"matrix(-0.4,0,0,-0.4,-4,0)\"/>\n",
       "    </marker>\n",
       "    <marker id=\"marker8301\" inkscape:stockid=\"Arrow1Mend\" orient=\"auto\" refX=\"0\" refY=\"0\" style=\"overflow:visible\">\n",
       "      <path d=\"M 0,0 5,-5 -12.5,0 5,5 0,0 z\" id=\"path8303\" inkscape:connector-curvature=\"0\" style=\"fill-rule:evenodd;stroke:#000000;stroke-width:1pt\" transform=\"matrix(-0.4,0,0,-0.4,-4,0)\"/>\n",
       "    </marker>\n",
       "    <marker id=\"Arrow1Mstart\" inkscape:stockid=\"Arrow1Mstart\" orient=\"auto\" refX=\"0\" refY=\"0\" style=\"overflow:visible\">\n",
       "      <path d=\"M 0,0 5,-5 -12.5,0 5,5 0,0 z\" id=\"path3979\" inkscape:connector-curvature=\"0\" style=\"fill-rule:evenodd;stroke:#000000;stroke-width:1pt\" transform=\"matrix(0.4,0,0,0.4,4,0)\"/>\n",
       "    </marker>\n",
       "    <marker id=\"marker8307\" inkscape:stockid=\"Arrow1Mend\" orient=\"auto\" refX=\"0\" refY=\"0\" style=\"overflow:visible\">\n",
       "      <path d=\"M 0,0 5,-5 -12.5,0 5,5 0,0 z\" id=\"path8309\" inkscape:connector-curvature=\"0\" style=\"fill-rule:evenodd;stroke:#000000;stroke-width:1pt\" transform=\"matrix(-0.4,0,0,-0.4,-4,0)\"/>\n",
       "    </marker>\n",
       "    <marker id=\"Arrow1Mstart-2\" inkscape:stockid=\"Arrow1Mstart\" orient=\"auto\" refX=\"0\" refY=\"0\" style=\"overflow:visible\">\n",
       "      <path d=\"M 0,0 5,-5 -12.5,0 5,5 0,0 z\" id=\"path3979-9\" inkscape:connector-curvature=\"0\" style=\"fill-rule:evenodd;stroke:#000000;stroke-width:1pt\" transform=\"matrix(0.4,0,0,0.4,4,0)\"/>\n",
       "    </marker>\n",
       "    <marker id=\"Arrow1Mend-8\" inkscape:stockid=\"Arrow1Mend\" orient=\"auto\" refX=\"0\" refY=\"0\" style=\"overflow:visible\">\n",
       "      <path d=\"M 0,0 5,-5 -12.5,0 5,5 0,0 z\" id=\"path3982-1\" inkscape:connector-curvature=\"0\" style=\"fill-rule:evenodd;stroke:#000000;stroke-width:1pt\" transform=\"matrix(-0.4,0,0,-0.4,-4,0)\"/>\n",
       "    </marker>\n",
       "    <marker id=\"marker8437\" inkscape:stockid=\"Arrow1Mstart\" orient=\"auto\" refX=\"0\" refY=\"0\" style=\"overflow:visible\">\n",
       "      <path d=\"M 0,0 5,-5 -12.5,0 5,5 0,0 z\" id=\"path8439\" inkscape:connector-curvature=\"0\" style=\"fill-rule:evenodd;stroke:#000000;stroke-width:1pt\" transform=\"matrix(0.4,0,0,0.4,4,0)\"/>\n",
       "    </marker>\n",
       "    <marker id=\"marker8441\" inkscape:stockid=\"Arrow1Mstart\" orient=\"auto\" refX=\"0\" refY=\"0\" style=\"overflow:visible\">\n",
       "      <path d=\"M 0,0 5,-5 -12.5,0 5,5 0,0 z\" id=\"path8443\" inkscape:connector-curvature=\"0\" style=\"fill-rule:evenodd;stroke:#000000;stroke-width:1pt\" transform=\"matrix(0.4,0,0,0.4,4,0)\"/>\n",
       "    </marker>\n",
       "    <marker id=\"marker8445\" inkscape:stockid=\"Arrow1Mstart\" orient=\"auto\" refX=\"0\" refY=\"0\" style=\"overflow:visible\">\n",
       "      <path d=\"M 0,0 5,-5 -12.5,0 5,5 0,0 z\" id=\"path8447\" inkscape:connector-curvature=\"0\" style=\"fill-rule:evenodd;stroke:#000000;stroke-width:1pt\" transform=\"matrix(0.4,0,0,0.4,4,0)\"/>\n",
       "    </marker>\n",
       "    <marker id=\"marker8449\" inkscape:stockid=\"Arrow1Mend\" orient=\"auto\" refX=\"0\" refY=\"0\" style=\"overflow:visible\">\n",
       "      <path d=\"M 0,0 5,-5 -12.5,0 5,5 0,0 z\" id=\"path8451\" inkscape:connector-curvature=\"0\" style=\"fill-rule:evenodd;stroke:#000000;stroke-width:1pt\" transform=\"matrix(-0.4,0,0,-0.4,-4,0)\"/>\n",
       "    </marker>\n",
       "    <marker id=\"marker8453\" inkscape:stockid=\"Arrow1Mend\" orient=\"auto\" refX=\"0\" refY=\"0\" style=\"overflow:visible\">\n",
       "      <path d=\"M 0,0 5,-5 -12.5,0 5,5 0,0 z\" id=\"path8455\" inkscape:connector-curvature=\"0\" style=\"fill-rule:evenodd;stroke:#000000;stroke-width:1pt\" transform=\"matrix(-0.4,0,0,-0.4,-4,0)\"/>\n",
       "    </marker>\n",
       "    <marker id=\"marker8457\" inkscape:stockid=\"Arrow1Mend\" orient=\"auto\" refX=\"0\" refY=\"0\" style=\"overflow:visible\">\n",
       "      <path d=\"M 0,0 5,-5 -12.5,0 5,5 0,0 z\" id=\"path8459\" inkscape:connector-curvature=\"0\" style=\"fill-rule:evenodd;stroke:#000000;stroke-width:1pt\" transform=\"matrix(-0.4,0,0,-0.4,-4,0)\"/>\n",
       "    </marker>\n",
       "    <marker id=\"marker8461\" inkscape:stockid=\"Arrow1Mend\" orient=\"auto\" refX=\"0\" refY=\"0\" style=\"overflow:visible\">\n",
       "      <path d=\"M 0,0 5,-5 -12.5,0 5,5 0,0 z\" id=\"path8463\" inkscape:connector-curvature=\"0\" style=\"fill-rule:evenodd;stroke:#000000;stroke-width:1pt\" transform=\"matrix(-0.4,0,0,-0.4,-4,0)\"/>\n",
       "    </marker>\n",
       "    <marker id=\"marker8465\" inkscape:stockid=\"Arrow1Mstart\" orient=\"auto\" refX=\"0\" refY=\"0\" style=\"overflow:visible\">\n",
       "      <path d=\"M 0,0 5,-5 -12.5,0 5,5 0,0 z\" id=\"path8467\" inkscape:connector-curvature=\"0\" style=\"fill-rule:evenodd;stroke:#000000;stroke-width:1pt\" transform=\"matrix(0.4,0,0,0.4,4,0)\"/>\n",
       "    </marker>\n",
       "    <marker id=\"marker8469\" inkscape:stockid=\"Arrow1Mend\" orient=\"auto\" refX=\"0\" refY=\"0\" style=\"overflow:visible\">\n",
       "      <path d=\"M 0,0 5,-5 -12.5,0 5,5 0,0 z\" id=\"path8471\" inkscape:connector-curvature=\"0\" style=\"fill-rule:evenodd;stroke:#000000;stroke-width:1pt\" transform=\"matrix(-0.4,0,0,-0.4,-4,0)\"/>\n",
       "    </marker>\n",
       "    <marker id=\"marker8473\" inkscape:stockid=\"Arrow1Mstart\" orient=\"auto\" refX=\"0\" refY=\"0\" style=\"overflow:visible\">\n",
       "      <path d=\"M 0,0 5,-5 -12.5,0 5,5 0,0 z\" id=\"path8475\" inkscape:connector-curvature=\"0\" style=\"fill-rule:evenodd;stroke:#000000;stroke-width:1pt\" transform=\"matrix(0.4,0,0,0.4,4,0)\"/>\n",
       "    </marker>\n",
       "    <marker id=\"marker8477\" inkscape:stockid=\"Arrow1Mstart\" orient=\"auto\" refX=\"0\" refY=\"0\" style=\"overflow:visible\">\n",
       "      <path d=\"M 0,0 5,-5 -12.5,0 5,5 0,0 z\" id=\"path8479\" inkscape:connector-curvature=\"0\" style=\"fill-rule:evenodd;stroke:#000000;stroke-width:1pt\" transform=\"matrix(0.4,0,0,0.4,4,0)\"/>\n",
       "    </marker>\n",
       "    <marker id=\"marker8481\" inkscape:stockid=\"Arrow1Mend\" orient=\"auto\" refX=\"0\" refY=\"0\" style=\"overflow:visible\">\n",
       "      <path d=\"M 0,0 5,-5 -12.5,0 5,5 0,0 z\" id=\"path8483\" inkscape:connector-curvature=\"0\" style=\"fill-rule:evenodd;stroke:#000000;stroke-width:1pt\" transform=\"matrix(-0.4,0,0,-0.4,-4,0)\"/>\n",
       "    </marker>\n",
       "    <marker id=\"Arrow1Mstart-6\" inkscape:stockid=\"Arrow1Mstart\" orient=\"auto\" refX=\"0\" refY=\"0\" style=\"overflow:visible\">\n",
       "      <path d=\"M 0,0 5,-5 -12.5,0 5,5 0,0 z\" id=\"path3979-4\" inkscape:connector-curvature=\"0\" style=\"fill-rule:evenodd;stroke:#000000;stroke-width:1pt\" transform=\"matrix(0.4,0,0,0.4,4,0)\"/>\n",
       "    </marker>\n",
       "  </defs>\n",
       "  <sodipodi:namedview bordercolor=\"#666666\" borderopacity=\"1.0\" fit-margin-bottom=\"10\" fit-margin-left=\"10\" fit-margin-right=\"10\" fit-margin-top=\"10\" id=\"base\" inkscape:current-layer=\"layer1\" inkscape:cx=\"224.1605\" inkscape:cy=\"86.753301\" inkscape:document-units=\"px\" inkscape:guide-bbox=\"true\" inkscape:object-nodes=\"true\" inkscape:pageopacity=\"0.0\" inkscape:pageshadow=\"2\" inkscape:snap-object-midpoints=\"true\" inkscape:window-height=\"1038\" inkscape:window-maximized=\"0\" inkscape:window-width=\"1671\" inkscape:window-x=\"1934\" inkscape:window-y=\"9\" inkscape:zoom=\"2.8\" pagecolor=\"#ffffff\" showgrid=\"false\" showguides=\"true\">\n",
       "    <sodipodi:guide id=\"guide9124\" orientation=\"0,1\" position=\"207.4865,28.38939\"/>\n",
       "  </sodipodi:namedview>\n",
       "  <metadata id=\"metadata8282\">\n",
       "    <rdf:RDF>\n",
       "      <cc:Work rdf:about=\"\">\n",
       "        <dc:format>image/svg+xml</dc:format>\n",
       "        <dc:type rdf:resource=\"http://purl.org/dc/dcmitype/StillImage\"/>\n",
       "        <dc:title/>\n",
       "      </cc:Work>\n",
       "    </rdf:RDF>\n",
       "  </metadata>\n",
       "  <g id=\"layer1\" inkscape:groupmode=\"layer\" inkscape:label=\"Calque 1\" transform=\"translate(-7.6759922,-6.28681)\">\n",
       "    <path d=\"m 26.44115,71.705152 56.08614,4.21099 54.20929,-17.90997 21.70981,46.765788 37.68697,57.92263\" id=\"path7119\" inkscape:connector-curvature=\"0\" sodipodi:nodetypes=\"ccccc\" style=\"fill:none;stroke:#bc2122;stroke-width:2;stroke-linecap:butt;stroke-linejoin:miter;stroke-miterlimit:4;stroke-opacity:1;stroke-dasharray:none\"/>\n",
       "    <text id=\"text7141\" sodipodi:linespacing=\"122%\" style=\"font-size:12px;font-style:normal;font-variant:normal;font-weight:normal;font-stretch:normal;text-align:start;line-height:122.00000286%;letter-spacing:0px;word-spacing:0px;writing-mode:lr-tb;text-anchor:start;fill:#000000;fill-opacity:1;stroke:none;font-family:Arial;-inkscape-font-specification:Sans\" x=\"69.715485\" xml:space=\"preserve\" y=\"31.933596\"><tspan id=\"tspan7143\" sodipodi:role=\"line\" x=\"69.715485\" y=\"31.933596\">y'</tspan></text>\n",
       "    <path d=\"m 220,169.50504 a 10,10 0 1 1 -20,0 10,10 0 1 1 20,0 z\" id=\"path8271\" sodipodi:cx=\"210\" sodipodi:cy=\"169.50504\" sodipodi:rx=\"10\" sodipodi:ry=\"10\" sodipodi:type=\"arc\" style=\"color:#000000;fill:#dd2a2b;fill-opacity:1;fill-rule:nonzero;stroke:none;stroke-width:1;marker:none;visibility:visible;display:inline;overflow:visible;enable-background:accumulate\" transform=\"matrix(0.57560973,-0.91622496,0.99698526,0.52898273,-154.32377,160.87574)\"/>\n",
       "    <path d=\"m 220,169.50504 a 10,10 0 1 1 -20,0 10,10 0 1 1 20,0 z\" id=\"path7121\" sodipodi:cx=\"210\" sodipodi:cy=\"169.50504\" sodipodi:rx=\"10\" sodipodi:ry=\"10\" sodipodi:type=\"arc\" style=\"color:#000000;fill:#dd2a2b;fill-opacity:1;fill-rule:nonzero;stroke:none;stroke-width:1;marker:none;visibility:visible;display:inline;overflow:visible;enable-background:accumulate\" transform=\"matrix(0.57560973,-0.91622496,0.99698526,0.52898273,-263.43092,174.44716)\"/>\n",
       "    <path d=\"m 215.16249,188.68175 -158.52292,0 m 8,8 0,-169.368788\" id=\"path7139\" inkscape:connector-curvature=\"0\" sodipodi:nodetypes=\"cccc\" style=\"fill:none;stroke:#000000;stroke-width:1px;stroke-linecap:butt;stroke-linejoin:miter;stroke-opacity:1;marker-start:url(#Arrow1Mstart);marker-end:url(#Arrow1Mend)\"/>\n",
       "    <text id=\"text7145\" sodipodi:linespacing=\"122%\" style=\"font-size:12px;font-style:normal;font-variant:normal;font-weight:normal;font-stretch:normal;text-align:start;line-height:122.00000286%;letter-spacing:0px;word-spacing:0px;writing-mode:lr-tb;text-anchor:start;fill:#000000;fill-opacity:1;stroke:none;font-family:Arial;-inkscape-font-specification:Sans\" x=\"201.77182\" xml:space=\"preserve\" y=\"207.01639\"><tspan id=\"tspan7147\" sodipodi:role=\"line\" x=\"201.77182\" y=\"207.01639\">x'</tspan></text>\n",
       "    <path d=\"M 136.73658,58.006172 64.48277,188.627\" id=\"path7151\" inkscape:connector-curvature=\"0\" sodipodi:nodetypes=\"cc\" style=\"fill:#a8a8a8;stroke:#999999;stroke-width:1px;stroke-linecap:butt;stroke-linejoin:miter;stroke-opacity:1\"/>\n",
       "    <path d=\"m 136.47586,57.793242 50.42573,26.25581\" id=\"path7413\" inkscape:connector-curvature=\"0\" sodipodi:nodetypes=\"cc\" style=\"fill:#a8a8a8;stroke:#999999;stroke-width:1px;stroke-linecap:butt;stroke-linejoin:miter;stroke-opacity:1\"/>\n",
       "    <path d=\"m 136.47586,57.793242 20.63919,-39.42602\" id=\"path7415\" inkscape:connector-curvature=\"0\" sodipodi:nodetypes=\"cc\" style=\"fill:none;stroke:#000000;stroke-width:1px;stroke-linecap:butt;stroke-linejoin:miter;stroke-opacity:1;marker-end:url(#Arrow1Mend)\"/>\n",
       "    <path d=\"m 157.89192,16.732062 46.40929,24.163 -21.74791,40.40431\" id=\"path7417\" inkscape:connector-curvature=\"0\" sodipodi:nodetypes=\"ccc\" style=\"fill:none;stroke:#999999;stroke-width:1px;stroke-linecap:butt;stroke-linejoin:miter;stroke-opacity:1\"/>\n",
       "    <path d=\"m 136.47586,57.793242 44.87525,23.37165\" id=\"path7419\" inkscape:connector-curvature=\"0\" sodipodi:nodetypes=\"cc\" style=\"fill:none;stroke:#000000;stroke-width:1px;stroke-linecap:butt;stroke-linejoin:miter;stroke-opacity:1;marker-end:url(#Arrow1Mend)\"/>\n",
       "    <path d=\"m 136.47586,57.793242 66.84879,-16.63181\" id=\"path7223\" inkscape:connector-curvature=\"0\" sodipodi:nodetypes=\"cc\" style=\"fill:none;stroke:#000000;stroke-width:1px;stroke-linecap:butt;stroke-linejoin:miter;stroke-opacity:1;marker-end:url(#Arrow1Mend)\"/>\n",
       "    <text id=\"text7422\" sodipodi:linespacing=\"122%\" style=\"font-size:16.46768951px;font-style:normal;font-variant:normal;font-weight:normal;font-stretch:normal;text-align:start;line-height:122.00000286%;letter-spacing:0px;word-spacing:0px;writing-mode:lr-tb;text-anchor:start;fill:#000000;fill-opacity:1;stroke:none;font-family:Arial;-inkscape-font-specification:Sans\" transform=\"scale(1.0000618,0.99993821)\" x=\"204.2886\" xml:space=\"preserve\" y=\"40.897587\"><tspan id=\"tspan7424\" sodipodi:role=\"line\" x=\"204.2886\" y=\"40.897587\">v<tspan id=\"tspan7426\" style=\"font-size:10.70414829px;baseline-shift:sub\">t</tspan></tspan></text>\n",
       "    <text id=\"text7428\" sodipodi:linespacing=\"122%\" style=\"font-size:16.46667099px;font-style:normal;font-variant:normal;font-weight:normal;font-stretch:normal;text-align:start;line-height:122.00000286%;letter-spacing:0px;word-spacing:0px;writing-mode:lr-tb;text-anchor:start;fill:#000000;fill-opacity:1;stroke:none;font-family:Arial;-inkscape-font-specification:Sans\" x=\"129.76511\" xml:space=\"preserve\" y=\"38.642876\"><tspan id=\"tspan7430\" sodipodi:role=\"line\" x=\"129.76511\" y=\"38.642876\">v<tspan id=\"tspan7432\" style=\"font-size:10.70348644px;baseline-shift:sub\">t</tspan><tspan id=\"tspan7436\" style=\"font-size:8.23333549px;baseline-shift:super\">┴</tspan></tspan></text>\n",
       "    <text id=\"text7438\" sodipodi:linespacing=\"122%\" style=\"font-size:16.46667099px;font-style:normal;font-variant:normal;font-weight:normal;font-stretch:normal;text-align:start;line-height:122.00000286%;letter-spacing:0px;word-spacing:0px;writing-mode:lr-tb;text-anchor:start;fill:#000000;fill-opacity:1;stroke:none;font-family:Arial;-inkscape-font-specification:Sans\" x=\"151.46957\" xml:space=\"preserve\" y=\"87.460419\"><tspan id=\"tspan7440\" sodipodi:role=\"line\" x=\"151.46957\" y=\"87.460419\">v<tspan id=\"tspan7442\" style=\"font-size:10.70348644px;baseline-shift:sub\">t</tspan><tspan id=\"tspan7450\" style=\"font-size:10.70348644px;baseline-shift:super\">װ</tspan></tspan></text>\n",
       "    <path d=\"m 220,169.50504 a 10,10 0 1 1 -20,0 10,10 0 1 1 20,0 z\" id=\"path8265\" sodipodi:cx=\"210\" sodipodi:cy=\"169.50504\" sodipodi:rx=\"10\" sodipodi:ry=\"10\" sodipodi:type=\"arc\" style=\"color:#000000;fill:#dd2a2b;fill-opacity:1;fill-rule:nonzero;stroke:none;stroke-width:1;marker:none;visibility:visible;display:inline;overflow:visible;enable-background:accumulate\" transform=\"matrix(0.57560973,-0.91622496,0.99698526,0.52898273,-208.78806,178.73288)\"/>\n",
       "    <path d=\"m 220,169.50504 a 10,10 0 1 1 -20,0 10,10 0 1 1 20,0 z\" id=\"path8273\" sodipodi:cx=\"210\" sodipodi:cy=\"169.50504\" sodipodi:rx=\"10\" sodipodi:ry=\"10\" sodipodi:type=\"arc\" style=\"color:#000000;fill:#dd2a2b;fill-opacity:1;fill-rule:nonzero;stroke:none;stroke-width:1;marker:none;visibility:visible;display:inline;overflow:visible;enable-background:accumulate\" transform=\"matrix(0.57560973,-0.91622496,0.99698526,0.52898273,-131.46663,208.91146)\"/>\n",
       "    <path d=\"m 220,169.50504 a 10,10 0 1 1 -20,0 10,10 0 1 1 20,0 z\" id=\"path8275\" sodipodi:cx=\"210\" sodipodi:cy=\"169.50504\" sodipodi:rx=\"10\" sodipodi:ry=\"10\" sodipodi:type=\"arc\" style=\"color:#000000;fill:#dd2a2b;fill-opacity:1;fill-rule:nonzero;stroke:none;stroke-width:1;marker:none;visibility:visible;display:inline;overflow:visible;enable-background:accumulate\" transform=\"matrix(0.57560973,-0.91622496,0.99698526,0.52898273,-96.11129,262.95463)\"/>\n",
       "    <g id=\"g9539\" transform=\"translate(437.71429,-0.65714772)\">\n",
       "      <path d=\"m 220,169.50504 c 0,5.52284 -4.47715,10 -10,10 -5.52285,0 -10,-4.47716 -10,-10 0,-5.52285 4.47715,-10 10,-10 5.52285,0 10,4.47715 10,10 z\" id=\"path8810\" sodipodi:cx=\"210\" sodipodi:cy=\"169.50504\" sodipodi:rx=\"10\" sodipodi:ry=\"10\" sodipodi:type=\"arc\" style=\"color:#000000;fill:#dd2a2b;fill-opacity:1;fill-rule:nonzero;stroke:none;stroke-width:1;marker:none;visibility:visible;display:inline;overflow:visible;enable-background:accumulate\" transform=\"matrix(0.57560973,-0.91622496,0.99698526,0.52898273,-174.77477,233.97971)\"/>\n",
       "      <path d=\"m 220,169.50504 c 0,5.52284 -4.47715,10 -10,10 -5.52285,0 -10,-4.47716 -10,-10 0,-5.52285 4.47715,-10 10,-10 5.52285,0 10,4.47715 10,10 z\" id=\"path8812\" sodipodi:cx=\"210\" sodipodi:cy=\"169.50504\" sodipodi:rx=\"10\" sodipodi:ry=\"10\" sodipodi:type=\"arc\" style=\"color:#000000;fill:#dd2a2b;fill-opacity:1;fill-rule:nonzero;stroke:none;stroke-width:1;marker:none;visibility:visible;display:inline;overflow:visible;enable-background:accumulate\" transform=\"matrix(0.57560973,-0.91622496,0.99698526,0.52898273,-145.45406,189.92603)\"/>\n",
       "      <path d=\"m 220,169.50504 c 0,5.52284 -4.47715,10 -10,10 -5.52285,0 -10,-4.47716 -10,-10 0,-5.52285 4.47715,-10 10,-10 5.52285,0 10,4.47715 10,10 z\" id=\"path8814\" sodipodi:cx=\"210\" sodipodi:cy=\"169.50504\" sodipodi:rx=\"10\" sodipodi:ry=\"10\" sodipodi:type=\"arc\" style=\"color:#000000;fill:#dd2a2b;fill-opacity:1;fill-rule:nonzero;stroke:none;stroke-width:1;marker:none;visibility:visible;display:inline;overflow:visible;enable-background:accumulate\" transform=\"matrix(0.57560973,-0.91622496,0.99698526,0.52898273,-89.895671,158.86384)\"/>\n",
       "      <path d=\"m 220,169.50504 c 0,5.52284 -4.47715,10 -10,10 -5.52285,0 -10,-4.47716 -10,-10 0,-5.52285 4.47715,-10 10,-10 5.52285,0 10,4.47715 10,10 z\" id=\"path8816\" sodipodi:cx=\"210\" sodipodi:cy=\"169.50504\" sodipodi:rx=\"10\" sodipodi:ry=\"10\" sodipodi:type=\"arc\" style=\"color:#000000;fill:#dd2a2b;fill-opacity:1;fill-rule:nonzero;stroke:none;stroke-width:1;marker:none;visibility:visible;display:inline;overflow:visible;enable-background:accumulate\" transform=\"matrix(0.57560973,-0.91622496,0.99698526,0.52898273,-77.77384,189.79977)\"/>\n",
       "      <path d=\"m 44.891704,141.8443 69.682576,-9.32114 27.14058,-46.202661 58.71125,-30.74571 11.59778,31.4884 69.45535,81.576401\" id=\"path4900\" inkscape:connector-curvature=\"0\" sodipodi:nodetypes=\"cccccc\" style=\"fill:none;stroke:#bc2122;stroke-width:2;stroke-linecap:butt;stroke-linejoin:miter;stroke-miterlimit:4;stroke-opacity:1;stroke-dasharray:none\"/>\n",
       "      <path d=\"m 220,169.50504 c 0,5.52284 -4.47715,10 -10,10 -5.52285,0 -10,-4.47716 -10,-10 0,-5.52285 4.47715,-10 10,-10 5.52285,0 10,4.47715 10,10 z\" id=\"path4902\" sodipodi:cx=\"210\" sodipodi:cy=\"169.50504\" sodipodi:rx=\"10\" sodipodi:ry=\"10\" sodipodi:type=\"arc\" style=\"color:#000000;fill:#dd2a2b;fill-opacity:1;fill-rule:nonzero;stroke:none;stroke-width:1;marker:none;visibility:visible;display:inline;overflow:visible;enable-background:accumulate\" transform=\"matrix(0.57560973,-0.91622496,0.99698526,0.52898273,-244.98037,244.58631)\"/>\n",
       "      <path d=\"m 294.59175,189.3389 -264.522925,0 0,-131.368791\" id=\"path4976\" inkscape:connector-curvature=\"0\" sodipodi:nodetypes=\"ccc\" style=\"fill:none;stroke:#000000;stroke-width:1px;stroke-linecap:butt;stroke-linejoin:miter;stroke-opacity:1;marker-start:url(#Arrow1Mstart);marker-end:url(#Arrow1Mend)\"/>\n",
       "      <text id=\"text4978\" sodipodi:linespacing=\"122%\" style=\"font-size:12px;font-style:normal;font-variant:normal;font-weight:normal;font-stretch:normal;text-align:start;line-height:122.00000286%;letter-spacing:0px;word-spacing:0px;writing-mode:lr-tb;text-anchor:start;fill:#000000;fill-opacity:1;stroke:none;font-family:Arial;-inkscape-font-specification:Sans\" x=\"273.48264\" xml:space=\"preserve\" y=\"203.78972\"><tspan id=\"tspan4980\" sodipodi:role=\"line\" x=\"273.48264\" y=\"203.78972\">x</tspan></text>\n",
       "      <text id=\"text4982\" sodipodi:linespacing=\"122%\" style=\"font-size:12px;font-style:normal;font-variant:normal;font-weight:normal;font-stretch:normal;text-align:start;line-height:122.00000286%;letter-spacing:0px;word-spacing:0px;writing-mode:lr-tb;text-anchor:start;fill:#000000;fill-opacity:1;stroke:none;font-family:Arial;-inkscape-font-specification:Sans\" x=\"17.482634\" xml:space=\"preserve\" y=\"73.789688\"><tspan id=\"tspan4984\" sodipodi:role=\"line\" x=\"17.482634\" y=\"73.789688\">y</tspan></text>\n",
       "      <path d=\"m 44.891694,141.8443 69.810176,-9.57337\" id=\"path6124\" inkscape:connector-curvature=\"0\" style=\"fill:none;stroke:#000000;stroke-width:1px;stroke-linecap:butt;stroke-linejoin:miter;stroke-opacity:1\"/>\n",
       "      <path d=\"m 114.70187,132.27093 52.59325,-7.21234\" id=\"path5129\" inkscape:connector-curvature=\"0\" style=\"fill:none;stroke:#828282;stroke-width:1px;stroke-linecap:butt;stroke-linejoin:miter;stroke-opacity:1\"/>\n",
       "      <path d=\"M 114.57428,132.52316 141.71484,86.320469\" id=\"path5131\" inkscape:connector-curvature=\"0\" sodipodi:nodetypes=\"cc\" style=\"fill:none;stroke:#000000;stroke-width:1px;stroke-linecap:butt;stroke-linejoin:miter;stroke-opacity:1\"/>\n",
       "      <path d=\"m 135.94838,99.234199 c 15.03478,8.680361 14.00131,17.487641 14.00131,27.883491\" id=\"path5135\" inkscape:connector-curvature=\"0\" sodipodi:nodetypes=\"cc\" style=\"color:#000000;fill:none;stroke:#000000;stroke-width:1;stroke-linecap:butt;stroke-linejoin:miter;stroke-miterlimit:4;stroke-opacity:1;stroke-dashoffset:0;marker:none;marker-start:url(#Arrow1Mstart);visibility:visible;display:inline;overflow:visible;enable-background:accumulate\"/>\n",
       "      <path d=\"M 212.52894,88.073309 200.42609,55.574759\" id=\"path6116\" inkscape:connector-curvature=\"0\" sodipodi:nodetypes=\"cc\" style=\"fill:none;stroke:#000000;stroke-width:1px;stroke-linecap:butt;stroke-linejoin:miter;stroke-opacity:1\"/>\n",
       "      <path d=\"m 209.34153,74.456969 c 10.92762,-4.75179 14.44774,-10.96978 13.28703,-21.72277\" id=\"path6120\" inkscape:connector-curvature=\"0\" sodipodi:nodetypes=\"cc\" style=\"color:#000000;fill:none;stroke:#000000;stroke-width:1;stroke-linecap:butt;stroke-linejoin:miter;stroke-miterlimit:4;stroke-opacity:1;stroke-dashoffset:0;marker:none;marker-start:url(#Arrow1Mstart);visibility:visible;display:inline;overflow:visible;enable-background:accumulate\"/>\n",
       "      <path d=\"m 200.42609,55.574759 52.59325,-7.21234\" id=\"path6137\" inkscape:connector-curvature=\"0\" sodipodi:nodetypes=\"cc\" style=\"fill:none;stroke:#828282;stroke-width:1px;stroke-linecap:butt;stroke-linejoin:miter;stroke-opacity:1\"/>\n",
       "      <text id=\"text6139\" sodipodi:linespacing=\"122%\" style=\"font-size:12px;font-style:normal;font-variant:normal;font-weight:normal;font-stretch:normal;text-align:start;line-height:122.00000286%;letter-spacing:0px;word-spacing:0px;writing-mode:lr-tb;text-anchor:start;fill:#000000;fill-opacity:1;stroke:none;font-family:Arial;-inkscape-font-specification:Sans\" x=\"152.3087\" xml:space=\"preserve\" y=\"111.57909\"><tspan id=\"tspan6145\" sodipodi:role=\"line\" x=\"152.3087\" y=\"111.57909\">Δφ<tspan id=\"tspan6147\" style=\"font-size:65.00091553%;baseline-shift:sub\">t,t+1</tspan></tspan></text>\n",
       "      <text id=\"text6149\" sodipodi:linespacing=\"122%\" style=\"font-size:12px;font-style:normal;font-variant:normal;font-weight:normal;font-stretch:normal;text-align:start;line-height:122.00000286%;letter-spacing:0px;word-spacing:0px;writing-mode:lr-tb;text-anchor:start;fill:#000000;fill-opacity:1;stroke:none;font-family:Arial;-inkscape-font-specification:Sans\" x=\"228.07013\" xml:space=\"preserve\" y=\"68.900131\"><tspan id=\"tspan6151\" sodipodi:role=\"line\" x=\"228.07013\" y=\"68.900131\">Δφ<tspan id=\"tspan6153\" style=\"font-size:65.00091553%;baseline-shift:sub\">t,t+4</tspan></tspan></text>\n",
       "      <path d=\"M 137.47,122.6938 C 69.835024,29.3976 198.94041,9.244819 227.48348,43.511379\" id=\"path6522\" inkscape:connector-curvature=\"0\" sodipodi:nodetypes=\"cc\" style=\"fill:none;stroke:#000000;stroke-width:1;stroke-linecap:butt;stroke-linejoin:miter;stroke-miterlimit:4;stroke-opacity:1;stroke-dasharray:none;marker-end:url(#Arrow1Mend)\"/>\n",
       "      <path d=\"m 220,169.50504 c 0,5.52284 -4.47715,10 -10,10 -5.52285,0 -10,-4.47716 -10,-10 0,-5.52285 4.47715,-10 10,-10 5.52285,0 10,4.47715 10,10 z\" id=\"path8818\" sodipodi:cx=\"210\" sodipodi:cy=\"169.50504\" sodipodi:rx=\"10\" sodipodi:ry=\"10\" sodipodi:type=\"arc\" style=\"color:#000000;fill:#dd2a2b;fill-opacity:1;fill-rule:nonzero;stroke:none;stroke-width:1;marker:none;visibility:visible;display:inline;overflow:visible;enable-background:accumulate\" transform=\"matrix(0.57560973,-0.91622496,0.99698526,0.52898273,-8.830929,268.33913)\"/>\n",
       "    </g>\n",
       "    <g id=\"g9515\" transform=\"translate(-82,2.2753906e-6)\">\n",
       "      <path d=\"m 301.20005,92.01244 96.71747,-16.04155 51.17884,27.92571 41.16883,-4.06989 21.2584,62.92263\" id=\"path6223\" inkscape:connector-curvature=\"0\" sodipodi:nodetypes=\"ccccc\" style=\"fill:none;stroke:#bc2122;stroke-width:2;stroke-linecap:butt;stroke-linejoin:miter;stroke-miterlimit:4;stroke-opacity:1;stroke-dasharray:none\"/>\n",
       "      <path d=\"m 220,169.50504 c 0,5.52284 -4.47715,10 -10,10 -5.52285,0 -10,-4.47716 -10,-10 0,-5.52285 4.47715,-10 10,-10 5.52285,0 10,4.47715 10,10 z\" id=\"path6225\" sodipodi:cx=\"210\" sodipodi:cy=\"169.50504\" sodipodi:rx=\"10\" sodipodi:ry=\"10\" sodipodi:type=\"arc\" style=\"color:#000000;fill:#dd2a2b;fill-opacity:1;fill-rule:nonzero;stroke:none;stroke-width:1;marker:none;visibility:visible;display:inline;overflow:visible;enable-background:accumulate\" transform=\"matrix(0.57560973,-0.91622496,0.99698526,0.52898273,11.32797,194.75445)\"/>\n",
       "      <path d=\"m 530.55272,188.7365 -158.52293,0 m 8,8 0,-169.36879\" id=\"path6245\" inkscape:connector-curvature=\"0\" sodipodi:nodetypes=\"cccc\" style=\"fill:none;stroke:#000000;stroke-width:1px;stroke-linecap:butt;stroke-linejoin:miter;stroke-opacity:1;marker-start:url(#Arrow1Mstart);marker-end:url(#Arrow1Mend)\"/>\n",
       "      <text id=\"text6251\" sodipodi:linespacing=\"122%\" style=\"font-size:12px;font-style:normal;font-variant:normal;font-weight:normal;font-stretch:normal;text-align:start;line-height:122.00000286%;letter-spacing:0px;word-spacing:0px;writing-mode:lr-tb;text-anchor:start;fill:#000000;fill-opacity:1;stroke:none;font-family:Arial;-inkscape-font-specification:Sans\" x=\"361.87219\" xml:space=\"preserve\" y=\"32.825893\"><tspan id=\"tspan6253\" sodipodi:role=\"line\" x=\"361.87219\" y=\"32.825893\">y'</tspan></text>\n",
       "      <text id=\"text6251-0\" sodipodi:linespacing=\"122%\" style=\"font-size:12px;font-style:normal;font-variant:normal;font-weight:normal;font-stretch:normal;text-align:start;line-height:122.00000286%;letter-spacing:0px;word-spacing:0px;writing-mode:lr-tb;text-anchor:start;fill:#000000;fill-opacity:1;stroke:none;font-family:Arial;-inkscape-font-specification:Sans\" x=\"517.16205\" xml:space=\"preserve\" y=\"207.07114\"><tspan id=\"tspan6253-0\" sodipodi:role=\"line\" x=\"517.16205\" y=\"207.07114\">x'</tspan></text>\n",
       "      <path d=\"m 301.20004,92.01244 78.67295,96.66931\" id=\"path6478\" inkscape:connector-curvature=\"0\" sodipodi:nodetypes=\"cc\" style=\"fill:#a8a8a8;stroke:#999999;stroke-width:1px;stroke-linecap:butt;stroke-linejoin:miter;stroke-opacity:1\"/>\n",
       "      <path d=\"M 397.91752,75.97089 379.87299,188.68175\" id=\"path6480\" inkscape:connector-curvature=\"0\" sodipodi:nodetypes=\"cc\" style=\"fill:#a8a8a8;stroke:#999999;stroke-width:1px;stroke-linecap:butt;stroke-linejoin:miter;stroke-opacity:1\"/>\n",
       "      <path d=\"m 511.52359,162.74934 -131.6506,25.93241\" id=\"path6482\" inkscape:connector-curvature=\"0\" sodipodi:nodetypes=\"cc\" style=\"fill:#a8a8a8;stroke:#999999;stroke-width:1px;stroke-linecap:butt;stroke-linejoin:miter;stroke-opacity:1\"/>\n",
       "      <text id=\"text6484\" sodipodi:linespacing=\"122%\" style=\"font-size:12px;font-style:normal;font-variant:normal;font-weight:normal;font-stretch:normal;text-align:start;line-height:122.00000286%;letter-spacing:0px;word-spacing:0px;writing-mode:lr-tb;text-anchor:start;fill:#000000;fill-opacity:1;stroke:none;font-family:Arial;-inkscape-font-specification:Sans\" x=\"342.69516\" xml:space=\"preserve\" y=\"128.4026\"><tspan id=\"tspan6486\" sodipodi:role=\"line\" x=\"342.69516\" y=\"128.4026\">Δθ<tspan id=\"tspan6512\" style=\"font-size:65.00091553%;baseline-shift:sub\">t, t+1</tspan></tspan></text>\n",
       "      <path d=\"m 386.23362,140.03078 c -26.5194,-7.10581 -35.8663,10.03232 -35.8663,10.03232\" id=\"path5135-6\" inkscape:connector-curvature=\"0\" sodipodi:nodetypes=\"cc\" style=\"color:#000000;fill:none;stroke:#000000;stroke-width:1;stroke-linecap:butt;stroke-linejoin:miter;stroke-miterlimit:4;stroke-opacity:1;stroke-dashoffset:0;marker:none;marker-start:url(#Arrow1Mstart);visibility:visible;display:inline;overflow:visible;enable-background:accumulate\"/>\n",
       "      <text id=\"text6514\" sodipodi:linespacing=\"122%\" style=\"font-size:12px;font-style:normal;font-variant:normal;font-weight:normal;font-stretch:normal;text-align:start;line-height:122.00000286%;letter-spacing:0px;word-spacing:0px;writing-mode:lr-tb;text-anchor:start;fill:#000000;fill-opacity:1;stroke:none;font-family:Arial;-inkscape-font-specification:Sans\" x=\"410.39639\" xml:space=\"preserve\" y=\"155.76341\"><tspan id=\"tspan6516\" sodipodi:role=\"line\" x=\"410.39639\" y=\"155.76341\">Δθ<tspan id=\"tspan6518\" style=\"font-size:65.00091553%;baseline-shift:sub\">t, t+4</tspan></tspan></text>\n",
       "      <path d=\"m 426.23753,178.92165 c -19.76971,-27.44396 -48.4359,-29.19279 -64.65565,-11.68596\" id=\"path6520\" inkscape:connector-curvature=\"0\" sodipodi:nodetypes=\"cc\" style=\"color:#000000;fill:none;stroke:#000000;stroke-width:1;stroke-linecap:butt;stroke-linejoin:miter;stroke-miterlimit:4;stroke-opacity:1;stroke-dashoffset:0;marker:none;marker-start:url(#Arrow1Mstart);visibility:visible;display:inline;overflow:visible;enable-background:accumulate\"/>\n",
       "      <path d=\"m 220,169.50504 c 0,5.52284 -4.47715,10 -10,10 -5.52285,0 -10,-4.47716 -10,-10 0,-5.52285 4.47715,-10 10,-10 5.52285,0 10,4.47715 10,10 z\" id=\"path8828\" sodipodi:cx=\"210\" sodipodi:cy=\"169.50504\" sodipodi:rx=\"10\" sodipodi:ry=\"10\" sodipodi:type=\"arc\" style=\"color:#000000;fill:#dd2a2b;fill-opacity:1;fill-rule:nonzero;stroke:none;stroke-width:1;marker:none;visibility:visible;display:inline;overflow:visible;enable-background:accumulate\" transform=\"matrix(0.57560973,-0.91622496,0.99698526,0.52898273,108.19552,180.48402)\"/>\n",
       "      <path d=\"m 220,169.50504 c 0,5.52284 -4.47715,10 -10,10 -5.52285,0 -10,-4.47716 -10,-10 0,-5.52285 4.47715,-10 10,-10 5.52285,0 10,4.47715 10,10 z\" id=\"path8870\" sodipodi:cx=\"210\" sodipodi:cy=\"169.50504\" sodipodi:rx=\"10\" sodipodi:ry=\"10\" sodipodi:type=\"arc\" style=\"color:#000000;fill:#dd2a2b;fill-opacity:1;fill-rule:nonzero;stroke:none;stroke-width:1;marker:none;visibility:visible;display:inline;overflow:visible;enable-background:accumulate\" transform=\"matrix(0.57560973,-0.91622496,0.99698526,0.52898273,159.46076,205.99037)\"/>\n",
       "      <path d=\"m 220,169.50504 c 0,5.52284 -4.47715,10 -10,10 -5.52285,0 -10,-4.47716 -10,-10 0,-5.52285 4.47715,-10 10,-10 5.52285,0 10,4.47715 10,10 z\" id=\"path8872\" sodipodi:cx=\"210\" sodipodi:cy=\"169.50504\" sodipodi:rx=\"10\" sodipodi:ry=\"10\" sodipodi:type=\"arc\" style=\"color:#000000;fill:#dd2a2b;fill-opacity:1;fill-rule:nonzero;stroke:none;stroke-width:1;marker:none;visibility:visible;display:inline;overflow:visible;enable-background:accumulate\" transform=\"matrix(0.57560973,-0.91622496,0.99698526,0.52898273,199.36179,202.70737)\"/>\n",
       "      <path d=\"m 220,169.50504 c 0,5.52284 -4.47715,10 -10,10 -5.52285,0 -10,-4.47716 -10,-10 0,-5.52285 4.47715,-10 10,-10 5.52285,0 10,4.47715 10,10 z\" id=\"path8874\" sodipodi:cx=\"210\" sodipodi:cy=\"169.50504\" sodipodi:rx=\"10\" sodipodi:ry=\"10\" sodipodi:type=\"arc\" style=\"color:#000000;fill:#dd2a2b;fill-opacity:1;fill-rule:nonzero;stroke:none;stroke-width:1;marker:none;visibility:visible;display:inline;overflow:visible;enable-background:accumulate\" transform=\"matrix(0.57560973,-0.91622496,0.99698526,0.52898273,220.32246,263.8216)\"/>\n",
       "    </g>\n",
       "    <path d=\"m 70.670356,160.91852 a 26.769043,26.769043 0 0 1 13.674675,22.96873\" id=\"path9626\" sodipodi:cx=\"57.578693\" sodipodi:cy=\"184.26782\" sodipodi:end=\"6.2689678\" sodipodi:open=\"true\" sodipodi:rx=\"26.769043\" sodipodi:ry=\"26.769043\" sodipodi:start=\"5.2234005\" sodipodi:type=\"arc\" style=\"color:#000000;fill:none;stroke:#000000;stroke-width:1;stroke-linecap:butt;stroke-linejoin:miter;stroke-miterlimit:4;stroke-opacity:1;stroke-dasharray:none;stroke-dashoffset:0;marker:none;visibility:visible;display:inline;overflow:visible;enable-background:accumulate;marker-start:url(#Arrow1Mstart)\" transform=\"translate(6.9040766,4.35918)\"/>\n",
       "    <text id=\"text9698\" sodipodi:linespacing=\"122%\" style=\"font-size:16.97909164px;font-style:normal;font-variant:normal;font-weight:normal;font-stretch:normal;text-align:start;line-height:122.00000286%;letter-spacing:0px;word-spacing:0px;writing-mode:lr-tb;text-anchor:start;fill:#000000;fill-opacity:1;stroke:none;font-family:Arial;-inkscape-font-specification:Sans\" x=\"90.191055\" xml:space=\"preserve\" y=\"174.36742\"><tspan id=\"tspan9700\" sodipodi:role=\"line\" x=\"90.191055\" y=\"174.36742\">θ<tspan id=\"tspan9775\" style=\"font-size:11.03656483px;baseline-shift:sub\">t</tspan></tspan></text>\n",
       "    <text id=\"text9777\" sodipodi:linespacing=\"122%\" style=\"font-size:12px;font-style:normal;font-variant:normal;font-weight:normal;font-stretch:normal;text-align:start;line-height:122.00000286%;letter-spacing:0px;word-spacing:0px;writing-mode:lr-tb;text-anchor:start;fill:#000000;fill-opacity:1;stroke:none;font-family:Arial;-inkscape-font-specification:Sans\" x=\"106.24742\" xml:space=\"preserve\" y=\"129.57115\"><tspan id=\"tspan9779\" sodipodi:role=\"line\" style=\"font-size:16px\" x=\"106.24742\" y=\"129.57115\">ρ<tspan id=\"tspan9783\" style=\"font-size:65.00091553%;baseline-shift:sub\">t</tspan></tspan></text>\n",
       "  </g>\n",
       "</svg>"
      ],
      "text/plain": [
       "<IPython.core.display.SVG at 0x7fb960e7e898>"
      ]
     },
     "execution_count": 116,
     "metadata": {},
     "output_type": "execute_result"
    }
   ],
   "source": [
    "display.SVG('measure_rotation.svg')"
   ]
  },
  {
   "cell_type": "markdown",
   "metadata": {},
   "source": [
    "### 1. Polar coordiante system\n",
    "\n",
    "In the first graph, the polar coordinates $\\rho$ and $\\theta$ are represented. The radius $\\rho$ corresponds to the distance of the point to the center of the cluster, and $\\theta$ it's angle with respect to the $x'$ axis.\n",
    "\n",
    "\n",
    "\n",
    "### 2. Radial and ortho radial speeds\n",
    "\n",
    "\n",
    "### 3. Angle shifts\n",
    "\n",
    "### 4. Direction shifts\n"
   ]
  },
  {
   "cell_type": "code",
   "execution_count": 117,
   "metadata": {
    "collapsed": false
   },
   "outputs": [],
   "source": [
    "shift = 4\n",
    "dir_shift = rotation.dir_shift(rotated, shift=shift)\n",
    "rotation_speeds = rotation.radial_speed(polar)\n",
    "d_theta = polar.theta.shift(shift) - polar.theta"
   ]
  },
  {
   "cell_type": "code",
   "execution_count": 118,
   "metadata": {
    "collapsed": false
   },
   "outputs": [
    {
     "data": {
      "text/plain": [
       "<matplotlib.text.Text at 0x7fb960ccc6a0>"
      ]
     },
     "execution_count": 118,
     "metadata": {},
     "output_type": "execute_result"
    }
   ],
   "source": [
    "fig, axes = plt.subplots(4, 1, sharex=True, sharey=False)\n",
    "\n",
    "colors = cluster.trajs.get_colors()\n",
    "for label in cluster.trajs.labels:\n",
    "    c = colors[label]\n",
    "    rs = rotation_speeds.xs(label, level='label')\n",
    "    ds = dir_shift.xs(label, level='label')\n",
    "    pol = polar.xs(label, level='label')\n",
    "    dt = d_theta.xs(label, level='label')\n",
    "    axes[0].plot(rs.t, rs.v_rad, '-', c=c, alpha=0.8)\n",
    "    axes[1].plot(rs.t, rs.v_orad, '-', c=c, alpha=0.8)\n",
    "    axes[2].plot(ds.t, ds.dir_shift, '-', c=c, alpha=0.8)\n",
    "    axes[3].plot(pol.t, dt, '-', c=c, alpha=0.8)\n",
    "    \n",
    "    \n",
    "axes[0].plot(rotation_speeds.t.mean(level='t_stamp'),\n",
    "        rotation_speeds.v_rad.mean(level='t_stamp'),\n",
    "        'k-', lw=2, alpha=0.8)\n",
    "axes[0].set_ylabel('Radial speed (µm/min)')\n",
    "\n",
    "axes[1].plot(rotation_speeds.t.mean(level='t_stamp'),\n",
    "        rotation_speeds.v_orad.mean(level='t_stamp'),\n",
    "        'k-', lw=2, alpha=0.8)\n",
    "axes[1].set_ylabel('Ortho-radial speed (µm/min)')\n",
    "\n",
    "\n",
    "axes[2].plot(dir_shift.t.mean(level='t_stamp'),\n",
    "        dir_shift.dir_shift.mean(level='t_stamp'),\n",
    "        'k-', lw=2, alpha=0.8)\n",
    "axes[2].set_ylabel('Direction shift (rad)')\n",
    "\n",
    "axes[3].plot(polar.t.mean(level='t_stamp'),\n",
    "        d_theta.mean(level='t_stamp'),\n",
    "        'k-', lw=2, alpha=0.8)\n",
    "axes[3].set_ylabel('Angle shift (rad)')\n",
    "\n",
    "\n",
    "\n",
    "axes[0].set_title(cluster.metadata['FileName'])"
   ]
  },
  {
   "cell_type": "markdown",
   "metadata": {},
   "source": [
    "### Angular correlation"
   ]
  },
  {
   "cell_type": "markdown",
   "metadata": {},
   "source": [
    "We call $P^\\theta_{ij}(t_0, t_1)$ the correlation coefficient between nuclei $i$ and $j$  between time points $t_0$ and t_1$ \n",
    "\n",
    "$$\n",
    "P^\\theta_{ij} = \\frac{ C^\\theta_{ij} } { \\sqrt{ C^\\theta_{ii} * C^\\theta_{jj} } }\n",
    "$$\n",
    "\n",
    "The corresponding term $C^\\theta_{ij}(t_0, t_1)$ in the covariance matrix .\n",
    "The covariance matrix is computed as:\n",
    "\n",
    "$$\n",
    "C^\\theta_{ij} = \\frac{1}{N_t}\\sum_{t=t_0}^{t_1} (\\theta_i(t) - \\langle \\theta_i \\rangle)(\\theta_j(t) - \\langle \\theta_j \\rangle)\n",
    "$$\n",
    "\n"
   ]
  },
  {
   "cell_type": "code",
   "execution_count": 94,
   "metadata": {
    "collapsed": false
   },
   "outputs": [],
   "source": [
    "\n",
    "from sktracker.trajectories.measures import correlation\n"
   ]
  },
  {
   "cell_type": "code",
   "execution_count": 125,
   "metadata": {
    "collapsed": false
   },
   "outputs": [],
   "source": [
    "theta_corrs = correlation.crosscorel(polar, 'theta', 10)"
   ]
  },
  {
   "cell_type": "code",
   "execution_count": 131,
   "metadata": {
    "collapsed": false
   },
   "outputs": [],
   "source": [
    "dir_corr = correlation.crosscorel(interp, 'x', 10)"
   ]
  },
  {
   "cell_type": "code",
   "execution_count": 134,
   "metadata": {
    "collapsed": false
   },
   "outputs": [
    {
     "data": {
      "text/html": [
       "<div style=\"max-height:1000px;max-width:1500px;overflow:auto;\">\n",
       "<table border=\"1\" class=\"dataframe\">\n",
       "  <thead>\n",
       "    <tr style=\"text-align: right;\">\n",
       "      <th></th>\n",
       "      <th>corr_x</th>\n",
       "      <th>corr_x_stm</th>\n",
       "      <th>t</th>\n",
       "    </tr>\n",
       "    <tr>\n",
       "      <th>t_stamp</th>\n",
       "      <th></th>\n",
       "      <th></th>\n",
       "      <th></th>\n",
       "    </tr>\n",
       "  </thead>\n",
       "  <tbody>\n",
       "    <tr>\n",
       "      <th>1</th>\n",
       "      <td>NaN</td>\n",
       "      <td>NaN</td>\n",
       "      <td> 1</td>\n",
       "    </tr>\n",
       "    <tr>\n",
       "      <th>2</th>\n",
       "      <td>NaN</td>\n",
       "      <td>NaN</td>\n",
       "      <td> 2</td>\n",
       "    </tr>\n",
       "    <tr>\n",
       "      <th>3</th>\n",
       "      <td>NaN</td>\n",
       "      <td>NaN</td>\n",
       "      <td> 3</td>\n",
       "    </tr>\n",
       "    <tr>\n",
       "      <th>4</th>\n",
       "      <td>NaN</td>\n",
       "      <td>NaN</td>\n",
       "      <td> 4</td>\n",
       "    </tr>\n",
       "    <tr>\n",
       "      <th>5</th>\n",
       "      <td>NaN</td>\n",
       "      <td>NaN</td>\n",
       "      <td> 5</td>\n",
       "    </tr>\n",
       "  </tbody>\n",
       "</table>\n",
       "</div>"
      ],
      "text/plain": [
       "         corr_x  corr_x_stm  t\n",
       "t_stamp                       \n",
       "1           NaN         NaN  1\n",
       "2           NaN         NaN  2\n",
       "3           NaN         NaN  3\n",
       "4           NaN         NaN  4\n",
       "5           NaN         NaN  5"
      ]
     },
     "execution_count": 134,
     "metadata": {},
     "output_type": "execute_result"
    }
   ],
   "source": [
    "dir_corr.head()"
   ]
  },
  {
   "cell_type": "code",
   "execution_count": 133,
   "metadata": {
    "collapsed": false
   },
   "outputs": [
    {
     "data": {
      "text/plain": [
       "<Container object of 3 artists>"
      ]
     },
     "execution_count": 133,
     "metadata": {},
     "output_type": "execute_result"
    }
   ],
   "source": [
    "fig, ax = plt.subplots()\n",
    "ax.errorbar(dir_corr.t, dir_corr.corr_x, yerr=dir_corr.corr_x_stm)\n",
    "\n"
   ]
  },
  {
   "cell_type": "markdown",
   "metadata": {},
   "source": [
    "# 4. Translation detection"
   ]
  },
  {
   "cell_type": "markdown",
   "metadata": {},
   "source": [
    "## 4.1 Definitions"
   ]
  },
  {
   "cell_type": "code",
   "execution_count": 126,
   "metadata": {
    "collapsed": false
   },
   "outputs": [
    {
     "data": {
      "image/svg+xml": [
       "<svg height=\"246.04454\" id=\"svg6772\" inkscape:export-filename=\"/home/guillaume/Python/cell-tracker/notebooks/measure_translation.png\" inkscape:export-xdpi=\"300\" inkscape:export-ydpi=\"300\" inkscape:version=\"0.48.4 r9939\" sodipodi:docname=\"measure_translation.svg\" version=\"1.1\" width=\"390.87778\" xmlns=\"http://www.w3.org/2000/svg\" xmlns:cc=\"http://creativecommons.org/ns#\" xmlns:dc=\"http://purl.org/dc/elements/1.1/\" xmlns:inkscape=\"http://www.inkscape.org/namespaces/inkscape\" xmlns:rdf=\"http://www.w3.org/1999/02/22-rdf-syntax-ns#\" xmlns:sodipodi=\"http://sodipodi.sourceforge.net/DTD/sodipodi-0.dtd\" xmlns:svg=\"http://www.w3.org/2000/svg\" xmlns:xlink=\"http://www.w3.org/1999/xlink\">\n",
       "  <defs id=\"defs6774\">\n",
       "    <marker id=\"Arrow1Mend\" inkscape:stockid=\"Arrow1Mend\" orient=\"auto\" refX=\"0\" refY=\"0\" style=\"overflow:visible\">\n",
       "      <path d=\"M 0,0 5,-5 -12.5,0 5,5 0,0 z\" id=\"path3982\" inkscape:connector-curvature=\"0\" style=\"fill-rule:evenodd;stroke:#000000;stroke-width:1pt\" transform=\"matrix(-0.4,0,0,-0.4,-4,0)\"/>\n",
       "    </marker>\n",
       "    <marker id=\"marker6867\" inkscape:stockid=\"Arrow1Mend\" orient=\"auto\" refX=\"0\" refY=\"0\" style=\"overflow:visible\">\n",
       "      <path d=\"M 0,0 5,-5 -12.5,0 5,5 0,0 z\" id=\"path6869\" inkscape:connector-curvature=\"0\" style=\"fill-rule:evenodd;stroke:#000000;stroke-width:1pt\" transform=\"matrix(-0.4,0,0,-0.4,-4,0)\"/>\n",
       "    </marker>\n",
       "    <marker id=\"marker6871\" inkscape:stockid=\"Arrow1Mend\" orient=\"auto\" refX=\"0\" refY=\"0\" style=\"overflow:visible\">\n",
       "      <path d=\"M 0,0 5,-5 -12.5,0 5,5 0,0 z\" id=\"path6873\" inkscape:connector-curvature=\"0\" style=\"fill-rule:evenodd;stroke:#000000;stroke-width:1pt\" transform=\"matrix(-0.4,0,0,-0.4,-4,0)\"/>\n",
       "    </marker>\n",
       "    <marker id=\"marker6875\" inkscape:stockid=\"Arrow1Mend\" orient=\"auto\" refX=\"0\" refY=\"0\" style=\"overflow:visible\">\n",
       "      <path d=\"M 0,0 5,-5 -12.5,0 5,5 0,0 z\" id=\"path6877\" inkscape:connector-curvature=\"0\" style=\"fill-rule:evenodd;stroke:#000000;stroke-width:1pt\" transform=\"matrix(-0.4,0,0,-0.4,-4,0)\"/>\n",
       "    </marker>\n",
       "    <marker id=\"Arrow1Mstart\" inkscape:stockid=\"Arrow1Mstart\" orient=\"auto\" refX=\"0\" refY=\"0\" style=\"overflow:visible\">\n",
       "      <path d=\"M 0,0 5,-5 -12.5,0 5,5 0,0 z\" id=\"path3979\" inkscape:connector-curvature=\"0\" style=\"fill-rule:evenodd;stroke:#000000;stroke-width:1pt\" transform=\"matrix(0.4,0,0,0.4,4,0)\"/>\n",
       "    </marker>\n",
       "    <marker id=\"marker6881\" inkscape:stockid=\"Arrow1Mend\" orient=\"auto\" refX=\"0\" refY=\"0\" style=\"overflow:visible\">\n",
       "      <path d=\"M 0,0 5,-5 -12.5,0 5,5 0,0 z\" id=\"path6883\" inkscape:connector-curvature=\"0\" style=\"fill-rule:evenodd;stroke:#000000;stroke-width:1pt\" transform=\"matrix(-0.4,0,0,-0.4,-4,0)\"/>\n",
       "    </marker>\n",
       "  </defs>\n",
       "  <sodipodi:namedview bordercolor=\"#666666\" borderopacity=\"1.0\" fit-margin-bottom=\"10\" fit-margin-left=\"10\" fit-margin-right=\"10\" fit-margin-top=\"10\" id=\"base\" inkscape:current-layer=\"layer1\" inkscape:cx=\"126.77433\" inkscape:cy=\"1.5069095\" inkscape:document-units=\"px\" inkscape:pageopacity=\"0.0\" inkscape:pageshadow=\"2\" inkscape:window-height=\"569\" inkscape:window-maximized=\"0\" inkscape:window-width=\"669\" inkscape:window-x=\"87\" inkscape:window-y=\"270\" inkscape:zoom=\"0.7\" pagecolor=\"#ffffff\" showborder=\"true\" showgrid=\"false\"/>\n",
       "  <metadata id=\"metadata6777\">\n",
       "    <rdf:RDF>\n",
       "      <cc:Work rdf:about=\"\">\n",
       "        <dc:format>image/svg+xml</dc:format>\n",
       "        <dc:type rdf:resource=\"http://purl.org/dc/dcmitype/StillImage\"/>\n",
       "        <dc:title/>\n",
       "      </cc:Work>\n",
       "    </rdf:RDF>\n",
       "  </metadata>\n",
       "  <g id=\"layer1\" inkscape:groupmode=\"layer\" inkscape:label=\"Calque 1\" transform=\"translate(-47.418256,-37.91134)\">\n",
       "    <g id=\"g6799\" transform=\"translate(51.628339,46.252276)\">\n",
       "      <path d=\"m 59.005629,139.2643 69.682571,-9.32114 27.14059,-46.202657 58.71124,-30.745709 11.59778,31.488396 69.45535,81.5764 34.94428,-34.33615 31.25056,3.6962 -15.47987,-72.26111 18.84546,-14.873984\" id=\"path3077\" inkscape:connector-curvature=\"0\" sodipodi:nodetypes=\"cccccccccc\" style=\"fill:none;stroke:#bc2122;stroke-width:2;stroke-linecap:butt;stroke-linejoin:miter;stroke-miterlimit:4;stroke-opacity:1;stroke-dasharray:none\"/>\n",
       "      <path d=\"m 220,169.50504 c 0,5.52284 -4.47715,10 -10,10 -5.52285,0 -10,-4.47716 -10,-10 0,-5.52285 4.47715,-10 10,-10 5.52285,0 10,4.47715 10,10 z\" id=\"path2985\" sodipodi:cx=\"210\" sodipodi:cy=\"169.50504\" sodipodi:rx=\"10\" sodipodi:ry=\"10\" sodipodi:type=\"arc\" style=\"color:#000000;fill:#dd2a2b;fill-opacity:1;fill-rule:nonzero;stroke:none;stroke-width:1;marker:none;visibility:visible;display:inline;overflow:visible;enable-background:accumulate\" transform=\"matrix(0.57560973,-0.91622496,0.99698526,0.52898273,-230.86645,242.00631)\"/>\n",
       "      <use height=\"1052.3622\" id=\"use2987\" transform=\"translate(69.682584,-9.3211441)\" width=\"744.09448\" x=\"0\" xlink:href=\"#path2985\" y=\"0\"/>\n",
       "      <use height=\"1052.3622\" id=\"use2989\" transform=\"translate(96.823157,-55.52383)\" width=\"744.09448\" x=\"0\" xlink:href=\"#path2985\" y=\"0\"/>\n",
       "      <use height=\"1052.3622\" id=\"use3055\" transform=\"translate(155.5344,-86.269539)\" width=\"744.09448\" x=\"0\" xlink:href=\"#path2985\" y=\"0\"/>\n",
       "      <use height=\"1052.3622\" id=\"use3057\" transform=\"translate(167.13217,-54.781143)\" width=\"744.09448\" x=\"0\" xlink:href=\"#path2985\" y=\"0\"/>\n",
       "      <use height=\"1052.3622\" id=\"use3059\" transform=\"translate(236.58752,26.795264)\" width=\"744.09448\" x=\"0\" xlink:href=\"#path2985\" y=\"0\"/>\n",
       "      <use height=\"1052.3622\" id=\"use3061\" transform=\"translate(271.53181,-7.540898)\" width=\"744.09448\" x=\"0\" xlink:href=\"#path2985\" y=\"0\"/>\n",
       "      <use height=\"1052.3622\" id=\"use3063\" transform=\"translate(302.78237,-3.844695)\" width=\"744.09448\" x=\"0\" xlink:href=\"#path2985\" y=\"0\"/>\n",
       "      <use height=\"1052.3622\" id=\"use3065\" transform=\"translate(287.30249,-76.105798)\" width=\"744.09448\" x=\"0\" xlink:href=\"#path2985\" y=\"0\"/>\n",
       "      <use height=\"1052.3622\" id=\"use3067\" transform=\"translate(306.14796,-90.979787)\" width=\"744.09448\" x=\"0\" xlink:href=\"#path2985\" y=\"0\"/>\n",
       "      <path d=\"M 59.005615,139.2643 226.13779,84.483162\" id=\"path3860\" inkscape:connector-curvature=\"0\" sodipodi:nodetypes=\"cc\" style=\"fill:none;stroke:#000000;stroke-width:1px;stroke-linecap:butt;stroke-linejoin:miter;stroke-opacity:1\"/>\n",
       "      <text id=\"text3862\" sodipodi:linespacing=\"122%\" style=\"font-size:12px;font-style:normal;font-variant:normal;font-weight:bold;font-stretch:normal;text-align:start;line-height:122.00000286%;letter-spacing:0px;word-spacing:0px;writing-mode:lr-tb;text-anchor:start;fill:#000000;fill-opacity:1;stroke:none;font-family:Arial;-inkscape-font-specification:Sans Bold\" x=\"50.565605\" xml:space=\"preserve\" y=\"162.91696\"><tspan id=\"tspan3864\" sodipodi:role=\"line\" style=\"font-weight:normal;-inkscape-font-specification:Arial\" x=\"50.565605\" y=\"162.91696\">P<tspan id=\"tspan3874\" style=\"font-size:65.00091553%;baseline-shift:sub\">t</tspan></tspan></text>\n",
       "      <text id=\"text3868\" sodipodi:linespacing=\"122%\" style=\"font-size:12px;font-style:normal;font-variant:normal;font-weight:bold;font-stretch:normal;text-align:start;line-height:122.00000286%;letter-spacing:0px;word-spacing:0px;writing-mode:lr-tb;text-anchor:start;fill:#000000;fill-opacity:1;stroke:none;font-family:Arial;-inkscape-font-specification:Sans Bold\" x=\"125.44306\" xml:space=\"preserve\" y=\"162.91696\"><tspan id=\"tspan3870\" sodipodi:role=\"line\" style=\"font-weight:normal;-inkscape-font-specification:Arial\" x=\"125.44306\" y=\"162.91696\">P<tspan id=\"tspan3876\" style=\"font-size:65.00091553%;baseline-shift:sub\">t</tspan><tspan id=\"tspan3872\" style=\"font-size:65.00091553%;baseline-shift:sub\">+1</tspan></tspan></text>\n",
       "      <text id=\"text3888\" sodipodi:linespacing=\"122%\" style=\"font-size:12px;font-style:normal;font-variant:normal;font-weight:normal;font-stretch:normal;text-align:start;line-height:122.00000286%;letter-spacing:0px;word-spacing:0px;writing-mode:lr-tb;text-anchor:start;fill:#000000;fill-opacity:1;stroke:none;font-family:Arial;-inkscape-font-specification:Sans\" x=\"84.939491\" xml:space=\"preserve\" y=\"159.18826\"><tspan id=\"tspan3890\" sodipodi:role=\"line\" x=\"84.939491\" y=\"159.18826\">d<tspan id=\"tspan3892\" style=\"font-size:65.00091553%;baseline-shift:sub\">t, t+1</tspan></tspan></text>\n",
       "      <text id=\"text3868-7\" sodipodi:linespacing=\"122%\" style=\"font-size:12px;font-style:normal;font-variant:normal;font-weight:bold;font-stretch:normal;text-align:start;line-height:122.00000286%;letter-spacing:0px;word-spacing:0px;writing-mode:lr-tb;text-anchor:start;fill:#000000;fill-opacity:1;stroke:none;font-family:Arial;-inkscape-font-specification:Sans Bold\" x=\"241.23491\" xml:space=\"preserve\" y=\"84.673851\"><tspan id=\"tspan3870-1\" sodipodi:role=\"line\" style=\"font-weight:normal;-inkscape-font-specification:Arial\" x=\"241.23491\" y=\"84.673851\">P<tspan id=\"tspan3876-5\" style=\"font-size:65.00091553%;baseline-shift:sub\">t</tspan><tspan id=\"tspan3872-9\" style=\"font-size:65.00091553%;baseline-shift:sub\">+4</tspan></tspan></text>\n",
       "      <text id=\"text3888-6\" sodipodi:linespacing=\"122%\" style=\"font-size:12px;font-style:normal;font-variant:normal;font-weight:normal;font-stretch:normal;text-align:start;line-height:122.00000286%;letter-spacing:0px;word-spacing:0px;writing-mode:lr-tb;text-anchor:start;fill:#000000;fill-opacity:1;stroke:none;font-family:Arial;-inkscape-font-specification:Sans\" x=\"164.66949\" xml:space=\"preserve\" y=\"117.98836\"><tspan id=\"tspan3890-2\" sodipodi:role=\"line\" x=\"164.66949\" y=\"117.98836\">d<tspan id=\"tspan3892-4\" style=\"font-size:65.00091553%;baseline-shift:sub\">t, t+4</tspan></tspan></text>\n",
       "      <path d=\"m 29.883167,22.00434 71.825443,-0.0354 m 0,-2 60.85829,0.34275 m 0,2 66.27449,-0.0198 m 0,-2 33.55518,-0.27918\" id=\"path3963\" inkscape:connector-curvature=\"0\" sodipodi:nodetypes=\"cccccccc\" style=\"fill:none;stroke:#999999;stroke-width:2;stroke-linecap:butt;stroke-linejoin:miter;stroke-miterlimit:4;stroke-opacity:1;stroke-dasharray:none\"/>\n",
       "      <path d=\"m 229.8097,67.463451 c 12.89624,-8.397357 19.65233,-20.019942 21.47173,-41.537665\" id=\"path3967\" inkscape:connector-curvature=\"0\" sodipodi:nodetypes=\"cc\" style=\"fill:none;stroke:#000000;stroke-width:1px;stroke-linecap:butt;stroke-linejoin:miter;stroke-opacity:1;marker-end:url(#Arrow1Mend)\"/>\n",
       "      <path d=\"M 193.71829,62.412689 C 185.40132,48.459493 185.08634,45.928281 188.92605,27.946091\" id=\"path4413\" inkscape:connector-curvature=\"0\" sodipodi:nodetypes=\"cc\" style=\"fill:none;stroke:#000000;stroke-width:1px;stroke-linecap:butt;stroke-linejoin:miter;stroke-opacity:1;marker-end:url(#Arrow1Mend)\"/>\n",
       "      <path d=\"M 134.95452,102.81879 C 120.59381,87.747758 112.28294,58.790917 126.1097,24.410558\" id=\"path4415\" inkscape:connector-curvature=\"0\" sodipodi:nodetypes=\"cc\" style=\"fill:none;stroke:#000000;stroke-width:1px;stroke-linecap:butt;stroke-linejoin:miter;stroke-opacity:1;marker-end:url(#Arrow1Mend)\"/>\n",
       "      <path d=\"M 99.440325,131.35203 C 74.455846,110.83284 68.573818,57.780764 74.445033,29.966397\" id=\"path4417\" inkscape:connector-curvature=\"0\" sodipodi:nodetypes=\"cc\" style=\"fill:none;stroke:#000000;stroke-width:1px;stroke-linecap:butt;stroke-linejoin:miter;stroke-opacity:1;marker-end:url(#Arrow1Mend)\"/>\n",
       "      <text id=\"text4419\" sodipodi:linespacing=\"122%\" style=\"line-height:122.00000286%\" x=\"128.304\" xml:space=\"preserve\" y=\"10.407111\"><tspan id=\"tspan4421\" sodipodi:role=\"line\" x=\"128.304\" y=\"10.407111\">D<tspan id=\"tspan4425\" style=\"font-size:65.00091553%;baseline-shift:sub\">t, t+4</tspan></tspan></text>\n",
       "      <path d=\"m 364.66507,204.7589 -346.482324,0 0,-149.368786\" id=\"path4460\" inkscape:connector-curvature=\"0\" sodipodi:nodetypes=\"ccc\" style=\"fill:none;stroke:#000000;stroke-width:1px;stroke-linecap:butt;stroke-linejoin:miter;stroke-opacity:1;marker-start:url(#Arrow1Mstart);marker-end:url(#Arrow1Mend)\"/>\n",
       "      <text id=\"text4834\" sodipodi:linespacing=\"122%\" style=\"font-size:12px;font-style:normal;font-variant:normal;font-weight:normal;font-stretch:normal;text-align:start;line-height:122.00000286%;letter-spacing:0px;word-spacing:0px;writing-mode:lr-tb;text-anchor:start;fill:#000000;fill-opacity:1;stroke:none;font-family:Arial;-inkscape-font-specification:Sans\" x=\"347.59656\" xml:space=\"preserve\" y=\"221.20969\"><tspan id=\"tspan4836\" sodipodi:role=\"line\" x=\"347.59656\" y=\"221.20969\">x</tspan></text>\n",
       "      <text id=\"text4838\" sodipodi:linespacing=\"122%\" style=\"font-size:12px;font-style:normal;font-variant:normal;font-weight:normal;font-stretch:normal;text-align:start;line-height:122.00000286%;letter-spacing:0px;word-spacing:0px;writing-mode:lr-tb;text-anchor:start;fill:#000000;fill-opacity:1;stroke:none;font-family:Arial;-inkscape-font-specification:Sans\" x=\"5.5965576\" xml:space=\"preserve\" y=\"71.209686\"><tspan id=\"tspan4840\" sodipodi:role=\"line\" x=\"5.5965576\" y=\"71.209686\">y</tspan></text>\n",
       "      <path d=\"m 58.588848,200.50156 0,11.61676\" id=\"path4842\" inkscape:connector-curvature=\"0\" style=\"fill:none;stroke:#000000;stroke-width:1px;stroke-linecap:butt;stroke-linejoin:miter;stroke-opacity:1\"/>\n",
       "      <text id=\"text4844\" sodipodi:linespacing=\"122%\" style=\"font-size:12px;font-style:normal;font-variant:normal;font-weight:normal;font-stretch:normal;text-align:start;line-height:122.00000286%;letter-spacing:0px;word-spacing:0px;writing-mode:lr-tb;text-anchor:start;fill:#000000;fill-opacity:1;stroke:none;font-family:Arial;-inkscape-font-specification:Sans\" x=\"55.053314\" xml:space=\"preserve\" y=\"225.25029\"><tspan id=\"tspan4846\" sodipodi:role=\"line\" x=\"55.053314\" y=\"225.25029\">x<tspan id=\"tspan4848\" style=\"font-size:65.00091553%;baseline-shift:sub\">t</tspan></tspan></text>\n",
       "      <path d=\"m 226.05914,200.50156 0,11.61676\" id=\"path4856\" inkscape:connector-curvature=\"0\" style=\"fill:none;stroke:#000000;stroke-width:1px;stroke-linecap:butt;stroke-linejoin:miter;stroke-opacity:1\"/>\n",
       "      <text id=\"text4864\" sodipodi:linespacing=\"122%\" style=\"font-size:12px;font-style:normal;font-variant:normal;font-weight:normal;font-stretch:normal;text-align:start;line-height:122.00000286%;letter-spacing:0px;word-spacing:0px;writing-mode:lr-tb;text-anchor:start;fill:#000000;fill-opacity:1;stroke:none;font-family:Arial;-inkscape-font-specification:Sans\" x=\"217.75412\" xml:space=\"preserve\" y=\"225.25029\"><tspan id=\"tspan4866\" sodipodi:role=\"line\" x=\"217.75412\" y=\"225.25029\">x<tspan id=\"tspan4870\" style=\"font-size:65.00091553%;baseline-shift:sub\">t+4</tspan></tspan></text>\n",
       "      <path d=\"m 58.588848,194.30994 167.548942,0\" id=\"path4898\" inkscape:connector-curvature=\"0\" style=\"fill:none;stroke:#000000;stroke-width:1px;stroke-linecap:butt;stroke-linejoin:miter;stroke-opacity:1\"/>\n",
       "      <text id=\"text6155\" sodipodi:linespacing=\"122%\" style=\"font-size:12px;font-style:normal;font-variant:normal;font-weight:normal;font-stretch:normal;text-align:start;line-height:122.00000286%;letter-spacing:0px;word-spacing:0px;writing-mode:lr-tb;text-anchor:start;fill:#000000;fill-opacity:1;stroke:none;font-family:Arial;-inkscape-font-specification:Sans\" x=\"118.87239\" xml:space=\"preserve\" y=\"185.74231\"><tspan id=\"tspan6157\" sodipodi:role=\"line\" x=\"118.87239\" y=\"185.74231\">Δx<tspan id=\"tspan6159\" style=\"font-size:65.00091553%;baseline-shift:sub\">t, t+4</tspan></tspan></text>\n",
       "    </g>\n",
       "  </g>\n",
       "</svg>"
      ],
      "text/plain": [
       "<IPython.core.display.SVG at 0x7fb9680572e8>"
      ]
     },
     "execution_count": 126,
     "metadata": {},
     "output_type": "execute_result"
    }
   ],
   "source": [
    "display.SVG('measure_translation.svg')"
   ]
  },
  {
   "cell_type": "markdown",
   "metadata": {},
   "source": [
    "### Position\n",
    "Let $P(t) = \\left(x(t), y(t), z(t)\\right)$ be the position in space of a nuclei at time $t$\n",
    "\n",
    "### Net displacement\n",
    "\n",
    "We note $d_{t, t+w}$ the **net displacement** between two time points, that is the distance between those two points, independently of the movement between them:\n",
    "\n",
    "$$\n",
    "d_{t, t+w} = ||P_{t, t+w} - P_t||\n",
    "$$\n",
    "\n",
    "\n",
    "### Cumulated displacement\n",
    "\n",
    "For each nuclei, the **cumulated displacement**, between time $t$ and time $t + w$  noted $D(t, t+w)$ is the total distance traveled by a nucleus between $t$ and $t+w$.  It is the sum of the individual displacements between every time point and the next:\n",
    "\n",
    "$$\n",
    "D_{t, t+w} = \\sum_{i=t+1}^{t+w} ||P_i - P_{i - 1}||\n",
    "$$\n",
    "\n",
    "### Processivity\n",
    "\n",
    "We call processivity the ratio of the apparent displacement with the cumulated displacement for a given window $w$:\n",
    "$$\n",
    "\\Pi_{t, t+w} = d(t, t+w) / D(t, t+w)\n",
    "$$\n",
    "\n",
    "\n",
    "### Directionality\n",
    "\n",
    "The $x$ axis is defined as the principal axis of the displacement (defined by a principal component analysis computed on the original 3D positions for the whole trajectory).\n",
    "\n",
    "We define **directionality** as the ratio between the difference of position on the principal axis $x$ and the apparent displacement:\n",
    "\n",
    "$$\n",
    "\\mbox{dir}_{t, t+w} = \\frac{x(t+w) - x(t)}{d_{t, t+w}} = \\Delta x_{t, t+w} / d_{t, t+w}\n",
    "$$\n",
    "\n",
    "### Cumulated directionality\n",
    "\n",
    "In this measure, instead of dividing the displacement along $x$ by the apparent displacement, we devide it by the cumulated displacement:\n",
    "\n",
    "$$\n",
    "\\mbox{dir}^c_{t, t+w} = \\frac{x(t+w) - x(t)}{D_{t, t+w}}\n",
    "$$\n",
    "\n"
   ]
  },
  {
   "cell_type": "markdown",
   "metadata": {},
   "source": [
    "### 4.1.2 Do the computations"
   ]
  },
  {
   "cell_type": "code",
   "execution_count": 127,
   "metadata": {
    "collapsed": false
   },
   "outputs": [],
   "source": [
    "### Some initialisations\n",
    "measures = {}"
   ]
  },
  {
   "cell_type": "markdown",
   "metadata": {},
   "source": [
    "#### For a window of a given size"
   ]
  },
  {
   "cell_type": "code",
   "execution_count": 128,
   "metadata": {
    "collapsed": false
   },
   "outputs": [],
   "source": [
    "### Set here the width of the window (in number of frames)\n",
    "window = 4\n",
    "\n",
    "processivity =  translation.sld_processivity(interp, window)\n",
    "directionality =  translation.sld_dir(interp, window)\n",
    "cum_dir = translation.sld_cum_dir(interp, window)\n",
    "\n",
    "measures[('processivity', window)] = processivity\n",
    "measures[('directionality', window)] = directionality\n",
    "measures[('cumulated directionality', window)] = cum_dir"
   ]
  },
  {
   "cell_type": "markdown",
   "metadata": {},
   "source": [
    "#### Plotting the resulting curves"
   ]
  },
  {
   "cell_type": "code",
   "execution_count": 129,
   "metadata": {
    "collapsed": false
   },
   "outputs": [
    {
     "ename": "TypeError",
     "evalue": "zip argument #2 must support iteration",
     "output_type": "error",
     "traceback": [
      "\u001b[1;31m---------------------------------------------------------------------------\u001b[0m\n\u001b[1;31mTypeError\u001b[0m                                 Traceback (most recent call last)",
      "\u001b[1;32m<ipython-input-129-173c43ef24ea>\u001b[0m in \u001b[0;36m<module>\u001b[1;34m()\u001b[0m\n\u001b[0;32m     10\u001b[0m                               \u001b[0mshow_segments\u001b[0m\u001b[1;33m=\u001b[0m\u001b[1;32mTrue\u001b[0m\u001b[1;33m,\u001b[0m\u001b[1;33m\u001b[0m\u001b[0m\n\u001b[0;32m     11\u001b[0m                               \u001b[0mc\u001b[0m\u001b[1;33m=\u001b[0m\u001b[1;34m'k'\u001b[0m\u001b[1;33m,\u001b[0m\u001b[0mmarker\u001b[0m\u001b[1;33m=\u001b[0m\u001b[1;34m'o'\u001b[0m\u001b[1;33m,\u001b[0m\u001b[1;33m\u001b[0m\u001b[0m\n\u001b[1;32m---> 12\u001b[1;33m                               lw=2, alpha=0.6)\n\u001b[0m\u001b[0;32m     13\u001b[0m \u001b[0max\u001b[0m\u001b[1;33m.\u001b[0m\u001b[0mset_title\u001b[0m\u001b[1;33m(\u001b[0m\u001b[0mtitle\u001b[0m\u001b[1;33m)\u001b[0m\u001b[1;33m\u001b[0m\u001b[0m\n\u001b[0;32m     14\u001b[0m \u001b[0max\u001b[0m\u001b[1;33m.\u001b[0m\u001b[0mset_ylim\u001b[0m\u001b[1;33m(\u001b[0m\u001b[1;33m-\u001b[0m\u001b[1;36m1\u001b[0m\u001b[1;33m,\u001b[0m \u001b[1;36m1\u001b[0m\u001b[1;33m)\u001b[0m\u001b[1;33m\u001b[0m\u001b[0m\n",
      "\u001b[1;32m/home/guillaume/Python/cell-tracker/cell_tracker/graphics.py\u001b[0m in \u001b[0;36mshow_measure\u001b[1;34m(trajs, measure, errorbar, show_segments, axes, **kwargs)\u001b[0m\n\u001b[0;32m    849\u001b[0m         \u001b[0mfig\u001b[0m \u001b[1;33m=\u001b[0m \u001b[0maxes\u001b[0m\u001b[1;33m[\u001b[0m\u001b[1;36m0\u001b[0m\u001b[1;33m]\u001b[0m\u001b[1;33m.\u001b[0m\u001b[0mget_figure\u001b[0m\u001b[1;33m(\u001b[0m\u001b[1;33m)\u001b[0m\u001b[1;33m\u001b[0m\u001b[0m\n\u001b[0;32m    850\u001b[0m     \u001b[0mtime\u001b[0m \u001b[1;33m=\u001b[0m \u001b[0mmeasure\u001b[0m\u001b[1;33m.\u001b[0m\u001b[0mt\u001b[0m\u001b[1;33m\u001b[0m\u001b[0m\n\u001b[1;32m--> 851\u001b[1;33m     \u001b[1;32mfor\u001b[0m \u001b[0mcol\u001b[0m\u001b[1;33m,\u001b[0m \u001b[0msub_ax\u001b[0m  \u001b[1;32min\u001b[0m \u001b[0mzip\u001b[0m\u001b[1;33m(\u001b[0m\u001b[0mdata_cols\u001b[0m\u001b[1;33m,\u001b[0m \u001b[0maxes\u001b[0m\u001b[1;33m)\u001b[0m\u001b[1;33m:\u001b[0m\u001b[1;33m\u001b[0m\u001b[0m\n\u001b[0m\u001b[0;32m    852\u001b[0m         \u001b[0mdata\u001b[0m \u001b[1;33m=\u001b[0m \u001b[0mmeasure\u001b[0m\u001b[1;33m[\u001b[0m\u001b[0mcol\u001b[0m\u001b[1;33m]\u001b[0m\u001b[1;33m\u001b[0m\u001b[0m\n\u001b[0;32m    853\u001b[0m         _show_single_measure(trajs, time, data,\n",
      "\u001b[1;31mTypeError\u001b[0m: zip argument #2 must support iteration"
     ]
    }
   ],
   "source": [
    "import os\n",
    "name = 'directionality'\n",
    "\n",
    "measure = measures[(name, window)]\n",
    "title = '{} : {} \\n for a {} minutes window'.format(os.path.basename(cluster.oio.store_path.replace('.h5', '')),\n",
    "                                                    name, window * cluster.metadata['TimeIncrement'])\n",
    "\n",
    "ax = ct.graphics.show_measure(interp, measure, ax=None,\n",
    "                              errorbar=False,\n",
    "                              show_segments=True,\n",
    "                              c='k',marker='o',\n",
    "                              lw=2, alpha=0.6)\n",
    "ax.set_title(title)\n",
    "ax.set_ylim(-1, 1)"
   ]
  },
  {
   "cell_type": "code",
   "execution_count": 224,
   "metadata": {
    "collapsed": false
   },
   "outputs": [
    {
     "data": {
      "text/plain": [
       "<matplotlib.legend.Legend at 0x7fd60aa4e890>"
      ]
     },
     "execution_count": 224,
     "metadata": {},
     "output_type": "execute_result"
    }
   ],
   "source": [
    "colors = {'processivity': 'r',\n",
    "          'directionality': 'b',\n",
    "          'cumulated directionality': 'g'}\n",
    "\n",
    "fig, ax = plt.subplots()\n",
    "for (name, w), measure in measures.items():\n",
    "    if w != window:\n",
    "        continue\n",
    "    label = '{} for a {} minutes window'.format(name, w * cluster.metadata['TimeIncrement'])\n",
    "    ct.graphics.show_measure(cluster, measure, ax=ax,\n",
    "                             errorbar=False,\n",
    "                             show_segments=False,\n",
    "                             c=colors[name],\n",
    "                             label=label, lw=2, alpha=0.6)\n",
    "ax.set_ylim(-1, 1);\n",
    "ax.legend(loc='lower_left')\n"
   ]
  },
  {
   "cell_type": "markdown",
   "metadata": {},
   "source": [
    "#### Statistics"
   ]
  },
  {
   "cell_type": "code",
   "execution_count": null,
   "metadata": {
    "collapsed": false
   },
   "outputs": [],
   "source": []
  },
  {
   "cell_type": "code",
   "execution_count": null,
   "metadata": {
    "collapsed": false
   },
   "outputs": [],
   "source": [
    "### If you want to compute the rotation index average between\n",
    "### two stacks, set here the number of the first and last ones\n",
    "start_frame = 1\n",
    "end_frame = 7\n",
    "\n",
    "for (name, w), measure in measures.items():\n",
    "    if w!= window:\n",
    "        continue\n",
    "    win_size = w * cluster.metadata['TimeIncrement']\n",
    "    print('Average value of {} between frame {} and {} for a {} minutes window:'\n",
    "          .format(name, start_frame, end_frame, win_size))\n",
    "    print('\\t {0:.3f}'.format(measure.data.loc[start_frame: end_frame].mean()))\n",
    "\n",
    "    print('Global average of {} for a {} minutes window: '.format(name, win_size))\n",
    "    print('\\t {0:.3f}'.format(measure.data.mean()))"
   ]
  },
  {
   "cell_type": "markdown",
   "metadata": {},
   "source": [
    "#### Automated computation for a range of window sizes"
   ]
  },
  {
   "cell_type": "code",
   "execution_count": null,
   "metadata": {
    "collapsed": false
   },
   "outputs": [],
   "source": [
    "windows = [3, 4, 5, 6, 7]\n",
    "for window in windows:\n",
    "    processivity = translation.sld_processivity(cluster, window)\n",
    "    directionality = translation.sld_dir(cluster, window)\n",
    "    cum_dir = translation.sld_cum_dir(cluster, window)\n",
    "\n",
    "    measures[('processivity', window)] = processivity\n",
    "    measures[('directionality', window)] = directionality\n",
    "    measures[('cumulated directionality', window)] = cum_dir\n",
    "    "
   ]
  },
  {
   "cell_type": "markdown",
   "metadata": {},
   "source": [
    "#### Save the average data for each window to a `csv` file"
   ]
  },
  {
   "cell_type": "code",
   "execution_count": 226,
   "metadata": {
    "collapsed": false
   },
   "outputs": [
    {
     "data": {
      "text/html": [
       "<div style=\"max-height:1000px;max-width:1500px;overflow:auto;\">\n",
       "<table border=\"1\" class=\"dataframe\">\n",
       "  <thead>\n",
       "    <tr style=\"text-align: right;\">\n",
       "      <th></th>\n",
       "      <th></th>\n",
       "      <th>t</th>\n",
       "      <th>data</th>\n",
       "    </tr>\n",
       "    <tr>\n",
       "      <th>t_stamp</th>\n",
       "      <th>label</th>\n",
       "      <th></th>\n",
       "      <th></th>\n",
       "    </tr>\n",
       "  </thead>\n",
       "  <tbody>\n",
       "    <tr>\n",
       "      <th rowspan=\"3\" valign=\"top\">4</th>\n",
       "      <th>0</th>\n",
       "      <td> 12</td>\n",
       "      <td> 0.973633</td>\n",
       "    </tr>\n",
       "    <tr>\n",
       "      <th>1</th>\n",
       "      <td> 12</td>\n",
       "      <td> 0.950707</td>\n",
       "    </tr>\n",
       "    <tr>\n",
       "      <th>2</th>\n",
       "      <td> 12</td>\n",
       "      <td> 0.909554</td>\n",
       "    </tr>\n",
       "    <tr>\n",
       "      <th rowspan=\"2\" valign=\"top\">5</th>\n",
       "      <th>0</th>\n",
       "      <td> 15</td>\n",
       "      <td> 0.945695</td>\n",
       "    </tr>\n",
       "    <tr>\n",
       "      <th>1</th>\n",
       "      <td> 15</td>\n",
       "      <td> 0.886933</td>\n",
       "    </tr>\n",
       "  </tbody>\n",
       "</table>\n",
       "</div>"
      ],
      "text/plain": [
       "                t      data\n",
       "t_stamp label              \n",
       "4       0      12  0.973633\n",
       "        1      12  0.950707\n",
       "        2      12  0.909554\n",
       "5       0      15  0.945695\n",
       "        1      15  0.886933"
      ]
     },
     "execution_count": 226,
     "metadata": {},
     "output_type": "execute_result"
    }
   ],
   "source": [
    "processivity.dropna().head()"
   ]
  },
  {
   "cell_type": "code",
   "execution_count": 130,
   "metadata": {
    "collapsed": false
   },
   "outputs": [
    {
     "data": {
      "text/plain": [
       "dict_keys([('processivity', 4), ('cumulated directionality', 4), ('directionality', 4)])"
      ]
     },
     "execution_count": 130,
     "metadata": {},
     "output_type": "execute_result"
    }
   ],
   "source": [
    "measures.keys()"
   ]
  },
  {
   "cell_type": "code",
   "execution_count": 232,
   "metadata": {
    "collapsed": false
   },
   "outputs": [
    {
     "data": {
      "text/plain": [
       "False"
      ]
     },
     "execution_count": 232,
     "metadata": {},
     "output_type": "execute_result"
    }
   ],
   "source": [
    "np.all(np.isfinite(processivity))"
   ]
  },
  {
   "cell_type": "code",
   "execution_count": 229,
   "metadata": {
    "collapsed": false
   },
   "outputs": [
    {
     "name": "stdout",
     "output_type": "stream",
     "text": [
      "Saved measures to  /media/data/AnneHDFStores/iono_080613translation_measures.csv\n"
     ]
    }
   ],
   "source": [
    "mean_measures_df = pd.DataFrame.from_dict({key: meas.data.mean(level='t_stamp') for key, meas in measures.items()})\n",
    "csv_name = cluster.oio.store_path.replace('.h5', 'translation_measures.csv')\n",
    "mean_measures_df.to_csv(csv_name)\n",
    "print('Saved measures to ', csv_name)"
   ]
  },
  {
   "cell_type": "markdown",
   "metadata": {},
   "source": [
    "### 4.1.4 Mean Square Displacement"
   ]
  },
  {
   "cell_type": "markdown",
   "metadata": {},
   "source": [
    "The mean square displacement for a time difference $\\Delta t$ is computed as the squared distance between the position of the particle at time $t$ and its position at time $t + \\Delta t$ averaged over each successive time $t$:\n",
    "\n",
    "\n",
    "$$\n",
    "\\begin{aligned}\n",
    "\\mbox{MSD}(\\Delta t) &=  \\frac{\\sum_0^{T - \\Delta t} \\left(\\mathbf{r}(t + \\Delta t)  - \\mathbf{r}(t) \\right)^2}{(T - \\Delta t) / \\delta t}\n",
    "\\end{aligned}\n",
    "$$"
   ]
  },
  {
   "cell_type": "code",
   "execution_count": null,
   "metadata": {
    "collapsed": false
   },
   "outputs": [],
   "source": [
    "MSD = ct.translation.get_MSD(cluster)"
   ]
  },
  {
   "cell_type": "code",
   "execution_count": null,
   "metadata": {
    "collapsed": false
   },
   "outputs": [],
   "source": [
    "fig, ax = plt.subplots()\n",
    "ax.set_title('Mean Square Displacement')\n",
    "ax.set_xlabel('Time (minutes)')\n",
    "ax.set_ylabel('MSD (µm²)')\n",
    "\n",
    "for label in cluster.trajs.labels:\n",
    "        seg_msd = MSD.xs(label, level='label')\n",
    "        ax.errorbar(seg_msd.Dt, seg_msd.MSD, yerr= seg_msd.MSD_std, alpha=0.4) \n",
    "\n",
    "ax.errorbar(MSD.Dt.mean(level='Dt_stamp'),\n",
    "            MSD.MSD.mean(level='Dt_stamp'), \n",
    "            yerr=MSD.MSD_std.mean(level='Dt_stamp'), fmt='k-', lw=2);"
   ]
  },
  {
   "cell_type": "markdown",
   "metadata": {},
   "source": [
    "#### Exponent of the MSD function"
   ]
  },
  {
   "cell_type": "markdown",
   "metadata": {},
   "source": [
    "For a purely linear movement, the mean square displacement is growing like $\\Delta t^2$, wheras for a purely random walk or Brownian motion, it is growing _linearly_ with time (and the slope of the linear function is proportional to the diffusion coefficient).\n",
    "\n",
    "Here we compute the exponent $\\alpha$ of the MSD function: $\\textrm{MSD}(\\Delta t) = \\Delta t^\\alpha$.\n",
    "\n",
    "It will be 2 for a purely processive motion, and 1 for a purely Brownian motion."
   ]
  },
  {
   "cell_type": "code",
   "execution_count": null,
   "metadata": {
    "collapsed": false
   },
   "outputs": [],
   "source": [
    "log_t = np.log(MSD.Dt.mean(level='Dt_stamp'))\n",
    "log_msd = np.log(MSD.MSD.mean(level='Dt_stamp'))\n",
    "\n",
    "ps = np.polyfit(log_t[1:10], log_msd[1:10], deg=1,\n",
    "                w=1/MSD.Dt.mean(level='Dt_stamp').iloc[1:10])\n",
    "\n",
    "print('Estimated exponent of the mean square displacement:')\n",
    "print('\\t {0:.3f}'.format(ps[0]))\n"
   ]
  },
  {
   "cell_type": "code",
   "execution_count": null,
   "metadata": {
    "collapsed": false
   },
   "outputs": [],
   "source": [
    "cluster.save_trajs()\n"
   ]
  },
  {
   "cell_type": "code",
   "execution_count": null,
   "metadata": {
    "collapsed": false
   },
   "outputs": [],
   "source": []
  }
 ],
 "metadata": {
  "kernelspec": {
   "display_name": "Python 3",
   "language": "python",
   "name": "python3"
  },
  "language_info": {
   "codemirror_mode": {
    "name": "ipython",
    "version": 3
   },
   "file_extension": ".py",
   "mimetype": "text/x-python",
   "name": "python",
   "nbconvert_exporter": "python",
   "pygments_lexer": "ipython3",
   "version": "3.4.2"
  }
 },
 "nbformat": 4,
 "nbformat_minor": 0
}
