{
 "metadata": {
  "name": "",
  "signature": "sha256:8f6405236053422e01ad6ef8e8baa688e6d668444f0c174caee5bf680ae96993"
 },
 "nbformat": 3,
 "nbformat_minor": 0,
 "worksheets": [
  {
   "cells": [
    {
     "cell_type": "markdown",
     "metadata": {},
     "source": [
      "**Github Issues** : https://github.com/bnoi/cell-tracker/issues/new"
     ]
    },
    {
     "cell_type": "heading",
     "level": 4,
     "metadata": {},
     "source": [
      "Initialize everything"
     ]
    },
    {
     "cell_type": "code",
     "collapsed": false,
     "input": [
      "%load_ext autoreload\n",
      "%autoreload 2"
     ],
     "language": "python",
     "metadata": {},
     "outputs": [],
     "prompt_number": 1
    },
    {
     "cell_type": "code",
     "collapsed": false,
     "input": [
      "### The library used for plotting\n",
      "%matplotlib qt4\n",
      "\n",
      "### This imports various dependencies module\n",
      "%run nb_init.py\n",
      "\n",
      "#### \n",
      "import cell_tracker as ct\n"
     ],
     "language": "python",
     "metadata": {},
     "outputs": [
      {
       "output_type": "stream",
       "stream": "stderr",
       "text": [
        "2014-09-10 08:59:33:INFO:sktracker.utils.mpl_loader: Matplotlib backend 'Qt4Agg' has been loaded.\n"
       ]
      },
      {
       "ename": "IndentationError",
       "evalue": "expected an indented block (objects.py, line 327)",
       "output_type": "pyerr",
       "traceback": [
        "\u001b[1;36m  File \u001b[1;32m\"/home/guillaume/Python/cell-tracker/cell_tracker/objects.py\"\u001b[1;36m, line \u001b[1;32m327\u001b[0m\n\u001b[1;33m    trajs = self.trajs\u001b[0m\n\u001b[1;37m        ^\u001b[0m\n\u001b[1;31mIndentationError\u001b[0m\u001b[1;31m:\u001b[0m expected an indented block\n"
       ]
      }
     ],
     "prompt_number": 2
    },
    {
     "cell_type": "heading",
     "level": 2,
     "metadata": {},
     "source": [
      "Pick the directory and get the relevant data"
     ]
    },
    {
     "cell_type": "markdown",
     "metadata": {},
     "source": [
      "Here you can pick either a TIFF or a `.h5` file or an excel file"
     ]
    },
    {
     "cell_type": "code",
     "collapsed": false,
     "input": [
      "default_path = ''\n",
      "cluster = ct.ui.get_cluster(default_path)"
     ],
     "language": "python",
     "metadata": {},
     "outputs": [
      {
       "output_type": "stream",
       "stream": "stdout",
       "text": [
        "Choosen data path: /media/data/AnneHDFStores/wt_iono_080613.h5\n"
       ]
      }
     ],
     "prompt_number": 14
    },
    {
     "cell_type": "code",
     "collapsed": false,
     "input": [
      "smw = ct.ui.set_metadata(cluster.metadata)\n",
      "display.display(smw)\n"
     ],
     "language": "python",
     "metadata": {},
     "outputs": [],
     "prompt_number": 15
    },
    {
     "cell_type": "heading",
     "level": 3,
     "metadata": {},
     "source": [
      "Basic computations"
     ]
    },
    {
     "cell_type": "code",
     "collapsed": false,
     "input": [
      "cluster.get_center(smooth=0)\n",
      "cluster.cumulative_angle()\n",
      "cluster.save_trajs()\n"
     ],
     "language": "python",
     "metadata": {},
     "outputs": [],
     "prompt_number": 21
    },
    {
     "cell_type": "markdown",
     "metadata": {},
     "source": [
      "When we compute the center position, we create new columns in the data\n",
      "the position of the center is given by `x_c, y_c, z_c`, and the positions\n",
      "of the nuclei relative to the center by `x_r, y_r, z_r`."
     ]
    },
    {
     "cell_type": "heading",
     "level": 3,
     "metadata": {},
     "source": [
      "Fit ellipses of different sizes over the trajectories"
     ]
    },
    {
     "cell_type": "markdown",
     "metadata": {},
     "source": [
      "The choosen sizes try to cover the time span of possible rotation events. Bellow 30 minutes, it seems a bit unreasonable (with 15 minutes, we only have 5 points to make a fit, it is not enough).\n",
      "\n",
      "Feel free to add/remove or extend this selection."
     ]
    },
    {
     "cell_type": "code",
     "collapsed": false,
     "input": [
      "sizes = [30, 60, 75, 90, 120]\n"
     ],
     "language": "python",
     "metadata": {},
     "outputs": [],
     "prompt_number": 8
    },
    {
     "cell_type": "code",
     "collapsed": false,
     "input": [
      "### Fits ellipses and detect rotations\n",
      "### This might take some time\n",
      "\n",
      "\n",
      "for size in sizes:\n",
      "    print('Computing for a window of {} min'.format(size))\n",
      "    cluster.compute_ellipticity(size)\n"
     ],
     "language": "python",
     "metadata": {},
     "outputs": [
      {
       "output_type": "stream",
       "stream": "stdout",
       "text": [
        "Computing for a window of 30 min\n",
        "Computing for a window of 60 min"
       ]
      },
      {
       "output_type": "stream",
       "stream": "stdout",
       "text": [
        "\n",
        "Computing for a window of 75 min"
       ]
      },
      {
       "output_type": "stream",
       "stream": "stdout",
       "text": [
        "\n",
        "Computing for a window of 90 min"
       ]
      },
      {
       "output_type": "stream",
       "stream": "stdout",
       "text": [
        "\n",
        "Computing for a window of 120 min"
       ]
      },
      {
       "output_type": "stream",
       "stream": "stdout",
       "text": [
        "\n"
       ]
      }
     ],
     "prompt_number": 23
    },
    {
     "cell_type": "heading",
     "level": 3,
     "metadata": {},
     "source": [
      "Detect rotations"
     ]
    },
    {
     "cell_type": "code",
     "collapsed": false,
     "input": [
      "display.SVG('ellipsis_detection.svg')"
     ],
     "language": "python",
     "metadata": {},
     "outputs": []
    },
    {
     "cell_type": "markdown",
     "metadata": {},
     "source": [
      "There's a **new button** here which will overwrite the setting in the `ellipsis_cutoffs.json` in the notebook directory. You can rename this fie if you change the settings, etc."
     ]
    },
    {
     "cell_type": "code",
     "collapsed": false,
     "input": [
      "### You can change the name of the file bellow if you're using other cutoffs\n",
      "settings_json = 'ellipsis_cutoffs.json'\n",
      "\n",
      "setter_widget = ct.ui.ipy_widgets.set_ellipsis_limits(jsonfile=settings_json)\n",
      "ellipsis_cutoffs = setter_widget.settings\n",
      "display.display(setter_widget)"
     ],
     "language": "python",
     "metadata": {},
     "outputs": [
      {
       "output_type": "stream",
       "stream": "stdout",
       "text": [
        "Recorded preferences in /home/guillaume/Notebooks/cell-tracker/ellipsis_cutoffs.json\n",
        "              \n"
       ]
      },
      {
       "output_type": "stream",
       "stream": "stdout",
       "text": [
        "Recorded preferences in /home/guillaume/Notebooks/cell-tracker/ellipsis_cutoffs.json\n",
        "              \n"
       ]
      },
      {
       "output_type": "stream",
       "stream": "stdout",
       "text": [
        "Recorded preferences in /home/guillaume/Notebooks/cell-tracker/ellipsis_cutoffs.json\n",
        "              \n"
       ]
      }
     ],
     "prompt_number": 5
    },
    {
     "cell_type": "code",
     "collapsed": false,
     "input": [
      "### Apply the cutoffs we just set to the data set\n",
      "cluster.detect_rotations(ellipsis_cutoffs)\n"
     ],
     "language": "python",
     "metadata": {},
     "outputs": [],
     "prompt_number": 20
    },
    {
     "cell_type": "markdown",
     "metadata": {},
     "source": [
      "Cluster plot of all the fitted data, and the cutoffs"
     ]
    },
    {
     "cell_type": "code",
     "collapsed": false,
     "input": [
      "ct.graphics.show_ellipses_clusters(cluster, sizes, ellipsis_cutoffs)"
     ],
     "language": "python",
     "metadata": {},
     "outputs": [],
     "prompt_number": 17
    },
    {
     "cell_type": "code",
     "collapsed": false,
     "input": [
      "ax, total_rot, n_detected = ct.graphics.plot_rotation_events(cluster, ax=None,\n",
      "                                                             show_segments=True)"
     ],
     "language": "python",
     "metadata": {},
     "outputs": [],
     "prompt_number": 21
    },
    {
     "cell_type": "heading",
     "level": 3,
     "metadata": {},
     "source": [
      "Plotting the fitted ellipses for one nucleus"
     ]
    },
    {
     "cell_type": "code",
     "collapsed": false,
     "input": [
      "colors"
     ],
     "language": "python",
     "metadata": {},
     "outputs": [
      {
       "metadata": {},
       "output_type": "pyout",
       "prompt_number": 23,
       "text": [
        "{0: 'b',\n",
        " 1: 'g',\n",
        " 2: 'r',\n",
        " 3: 'c',\n",
        " 4: 'm',\n",
        " 5: 'y',\n",
        " 6: 'k',\n",
        " 7: 'b',\n",
        " 8: 'g',\n",
        " 9: 'r',\n",
        " 10: 'c',\n",
        " 11: 'm',\n",
        " 12: 'y',\n",
        " 13: 'k',\n",
        " 14: 'b',\n",
        " 15: 'g',\n",
        " 16: 'r',\n",
        " 17: 'c',\n",
        " 18: 'm',\n",
        " 19: 'y',\n",
        " 20: 'k',\n",
        " 21: 'b'}"
       ]
      }
     ],
     "prompt_number": 23
    },
    {
     "cell_type": "code",
     "collapsed": false,
     "input": [
      "axes, ax_3d = None, None\n",
      "\n",
      "colors = cluster.trajs.get_colors()\n",
      "label = 0\n",
      "\n",
      "segment = cluster.trajs.get_segments()[label]\n",
      "\n",
      "## Paramters for the scatter plot (the bullets) \n",
      "scatter_kw = {'c':segment.t.astype(np.float),\n",
      "              'cmap':'spectral',\n",
      "              's':40,\n",
      "              'alpha':0.8,\n",
      "              'edgecolors':'none'}\n",
      "\n",
      "## Paramters for the line plot \n",
      "line_kw = {'c': 'gray',\n",
      "           'ls': '-',\n",
      "           'alpha': 0.8,\n",
      "           'lw': 0.75}\n",
      "\n",
      "## Parameters for the ellipses\n",
      "ellipsis_kw = {'c':'k', 'alpha':0.5, 'lw':0.2}\n",
      "\n",
      "axes, ax_3d = ct.graphics.show_4panel_ellipses(cluster, label,\n",
      "                                               sizes,\n",
      "                                               ellipsis_cutoffs,\n",
      "                                               scatter_kw=scatter_kw,\n",
      "                                               line_kw=line_kw,\n",
      "                                               ellipsis_kw=ellipsis_kw,\n",
      "                                               axes=axes, ax_3d=ax_3d)\n"
     ],
     "language": "python",
     "metadata": {},
     "outputs": [],
     "prompt_number": 25
    },
    {
     "cell_type": "markdown",
     "metadata": {},
     "source": [
      "## Matplotlib `plot` documentation\n",
      "\n",
      "\n",
      "This applies to the `line_kw` and `ellipsis_kw` dictionnaries.\n",
      "\n",
      "\n",
      "You can replace `'-'` in the line `'ls': '-'` with any of those characters:\n",
      "\n",
      "\n",
      "|character        |    description             |\n",
      "| --------------- | -------------------------- |\n",
      "|``'-'``          |   solid line style         |\n",
      "|``'--'``         |   dashed line style        |\n",
      "|``'-.'``         |   dash-dot line style      |\n",
      "|``':'``          |   dotted line style        |\n",
      "|``'.'``          |   point marker             |\n",
      "|``','``          |   pixel marker             |\n",
      "|``'o'``          |   circle marker            |\n",
      "|``'v'``          |   triangle_down marker     |\n",
      "|``'^'``          |   triangle_up marker       |\n",
      "|``'<'``          |   triangle_left marker     |\n",
      "|``'>'``          |   triangle_right marker    |\n",
      "|``'1'``          |   tri_down marker          |\n",
      "|``'2'``          |  tri_up marker             |\n",
      "|``'3'``          |   tri_left marker          |\n",
      "|``'4'``          |   tri_right marker         |\n",
      "|``'s'``          |   square marker            |\n",
      "|``'p'``          |   pentagon marker          |\n",
      "|``'*'``          |   star marker              |\n",
      "|``'h'``          |   hexagon1 marker          |\n",
      "|``'H'``          |   hexagon2 marker          |\n",
      "|``'+'``          |   plus marker              |\n",
      "|``'x'``          |   x marker                 |\n",
      "|``'D'``          |   diamond marker           |\n",
      "|``'d'``          |   thin_diamond marker      |\n",
      "\n",
      "\n",
      "The following color abbreviations are supported:\n",
      "\n",
      "\n",
      "| character |  color |\n",
      "| --------- | -------|\n",
      "|'b'        | blue   |\n",
      "|'g'        | green  |\n",
      "|'r'        | red    |\n",
      "|'c'        | cyan   |\n",
      "|'m'        | magenta   |\n",
      "|'y'        | yellow   |\n",
      "|'k'        | black   |\n",
      "|'w'        | white   |\n",
      "\n",
      "In addition, you can specify colors in many weird and\n",
      "wonderful ways, including full names (``'green'``), hex\n",
      "strings (``'#008000'``), RGB or RGBA tuples (``(0,1,0,1)``) or\n",
      "grayscale intensities as a string (``'0.8'``).  Of these, the\n",
      "string specifications can be used in place of a ``fmt`` group,\n",
      "but the tuple forms can be used only as ``kwargs``.\n",
      "\n",
      "Line styles and colors are combined in a single format string, as in\n",
      "``'bo'`` for blue circles.\n",
      "\n",
      "### Here are all the other relevant arguments you can set\n",
      "\n",
      "Just write a line like `'argument: value,` as the others...\n",
      "\n",
      "*  alpha: float (0.0 transparent through 1.0 opaque)         \n",
      "*  antialiased or aa: [True | False]         \n",
      "*  color or c: any matplotlib color         \n",
      "*  dash_capstyle: ['butt' | 'round' | 'projecting']         \n",
      "*  dash_joinstyle: ['miter' | 'round' | 'bevel']         \n",
      "*  dashes: sequence of on/off ink in points         \n",
      "*  drawstyle: ['default' | 'steps' | 'steps-pre' | 'steps-mid' |\n",
      "      'steps-post']         \n",
      "*  fillstyle: ['full' | 'left' | 'right' | 'bottom' | 'top' | 'none']         \n",
      "*  linewidth or lw: float value in points         \n",
      "*  markeredgecolor or mec: any matplotlib color         \n",
      "*  markeredgewidth or mew: float value in points         \n",
      "*  markerfacecolor or mfc: any matplotlib color         \n",
      "*  markerfacecoloralt or mfcalt: any matplotlib color         \n",
      "*  markersize or ms: float         \n",
      "*  markevery: None | integer | (startind, stride)\n",
      "*  solid_capstyle: ['butt' | 'round' |  'projecting']         \n",
      "*  solid_joinstyle: ['miter' | 'round' | 'bevel']         \n",
      "\n"
     ]
    },
    {
     "cell_type": "code",
     "collapsed": false,
     "input": [],
     "language": "python",
     "metadata": {},
     "outputs": []
    }
   ],
   "metadata": {}
  }
 ]
}