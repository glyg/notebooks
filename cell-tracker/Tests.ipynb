{
 "metadata": {
  "name": "",
  "signature": "sha256:6993811dfba693afc8993f6eaec20a6277c80667f80c9480f68655d37d2eb9bb"
 },
 "nbformat": 3,
 "nbformat_minor": 0,
 "worksheets": [
  {
   "cells": [
    {
     "cell_type": "code",
     "collapsed": false,
     "input": [
      "%load_ext autoreload\n",
      "%autoreload 2\n",
      "\n",
      "%matplotlib"
     ],
     "language": "python",
     "metadata": {},
     "outputs": [
      {
       "output_type": "stream",
       "stream": "stdout",
       "text": [
        "Using matplotlib backend: Qt4Agg\n"
       ]
      }
     ],
     "prompt_number": 1
    },
    {
     "cell_type": "code",
     "collapsed": false,
     "input": [
      "%pdb"
     ],
     "language": "python",
     "metadata": {},
     "outputs": [
      {
       "output_type": "stream",
       "stream": "stdout",
       "text": [
        "Automatic pdb calling has been turned ON\n"
       ]
      }
     ],
     "prompt_number": 2
    },
    {
     "cell_type": "code",
     "collapsed": false,
     "input": [
      "\n",
      "import numpy as np\n",
      "import matplotlib.pyplot as plt\n",
      "import IPython.display as display\n",
      "\n",
      "from sktracker.io import StackIO, ObjectsIO\n",
      "import cell_tracker as ct\n",
      "import pandas as pd\n",
      "from sktracker.trajectories import Trajectories\n",
      "\n",
      "from numpy.testing import assert_array_almost_equal\n",
      "\n",
      "from sktracker import data\n",
      "\n"
     ],
     "language": "python",
     "metadata": {},
     "outputs": [],
     "prompt_number": 21
    },
    {
     "cell_type": "code",
     "collapsed": false,
     "input": [
      "# Author : Vincent Michel, 2010\n",
      "#          Alexandre Gramfort, 2011\n",
      "# License: BSD 3 clause\n",
      "\n",
      "print(__doc__)\n",
      "\n",
      "import time as time\n",
      "import numpy as np\n",
      "import scipy as sp\n",
      "import pylab as pl\n",
      "from sklearn.feature_extraction.image import grid_to_graph\n",
      "from sklearn.cluster import Ward\n",
      "\n",
      "###############################################################################\n",
      "# Generate data\n",
      "lena = sp.misc.lena()\n",
      "# Downsample the image by a factor of 4\n",
      "lena = lena[::2, ::2] + lena[1::2, ::2] + lena[::2, 1::2] + lena[1::2, 1::2]\n",
      "X = np.reshape(lena, (-1, 1))\n",
      "\n",
      "###############################################################################\n",
      "# Define the structure A of the data. Pixels connected to their neighbors.\n",
      "connectivity = grid_to_graph(*lena.shape)\n",
      "\n",
      "###############################################################################\n",
      "# Compute clustering\n",
      "print(\"Compute structured hierarchical clustering...\")\n",
      "st = time.time()\n",
      "n_clusters = 15  # number of regions\n",
      "ward = Ward(n_clusters=n_clusters, connectivity=connectivity).fit(X)\n",
      "label = np.reshape(ward.labels_, lena.shape)\n",
      "print(\"Elapsed time: \", time.time() - st)\n",
      "print(\"Number of pixels: \", label.size)\n",
      "print(\"Number of clusters: \", np.unique(label).size)\n",
      "\n",
      "###############################################################################\n",
      "# Plot the results on an image\n",
      "pl.figure(figsize=(5, 5))\n",
      "pl.imshow(lena, cmap=pl.cm.gray)\n",
      "for l in range(n_clusters):\n",
      "    pl.contour(label == l, contours=1,\n",
      "               colors=[pl.cm.spectral(l / float(n_clusters)), ])\n",
      "pl.xticks(())\n",
      "pl.yticks(())\n",
      "pl.show()"
     ],
     "language": "python",
     "metadata": {},
     "outputs": [
      {
       "output_type": "stream",
       "stream": "stdout",
       "text": [
        "Automatically created module for IPython interactive environment\n",
        "Compute structured hierarchical clustering..."
       ]
      },
      {
       "output_type": "stream",
       "stream": "stdout",
       "text": [
        "\n",
        "Elapsed time: "
       ]
      },
      {
       "output_type": "stream",
       "stream": "stdout",
       "text": [
        " 6.284530401229858\n",
        "Number of pixels:  65536\n",
        "Number of clusters:  15\n"
       ]
      }
     ],
     "prompt_number": 18
    },
    {
     "cell_type": "code",
     "collapsed": false,
     "input": [
      "connectivity"
     ],
     "language": "python",
     "metadata": {},
     "outputs": [
      {
       "metadata": {},
       "output_type": "pyout",
       "prompt_number": 19,
       "text": [
        "<65536x65536 sparse matrix of type '<class 'numpy.int64'>'\n",
        "\twith 326656 stored elements in COOrdinate format>"
       ]
      }
     ],
     "prompt_number": 19
    },
    {
     "cell_type": "code",
     "collapsed": false,
     "input": [
      "\n",
      "from sktracker.trajectories.measures import translation, rotation#continuous_theta, get_polar_coords, radial_speed, translation\n",
      "from sktracker.trajectories.measures import transformation\n",
      "\n"
     ],
     "language": "python",
     "metadata": {},
     "outputs": [],
     "prompt_number": 4
    },
    {
     "cell_type": "code",
     "collapsed": false,
     "input": [
      "trajs = Trajectories(data.with_gaps_df())"
     ],
     "language": "python",
     "metadata": {},
     "outputs": [],
     "prompt_number": 22
    },
    {
     "cell_type": "code",
     "collapsed": false,
     "input": [
      "trajs.index.get_values()"
     ],
     "language": "python",
     "metadata": {},
     "outputs": [
      {
       "metadata": {},
       "output_type": "pyout",
       "prompt_number": 40,
       "text": [
        "array([(0, 0), (0, 1), (0, 2), (1, 0), (1, 1), (1, 2), (2, 0), (2, 1),\n",
        "       (2, 2), (3, 0), (3, 1), (3, 2), (4, 1), (4, 2), (5, 1), (5, 2),\n",
        "       (5, 3), (6, 2), (6, 3), (7, 2), (7, 3), (7, 4), (8, 2), (8, 3),\n",
        "       (8, 4), (9, 2), (9, 3), (9, 4), (10, 2), (10, 3), (10, 4), (11, 2),\n",
        "       (11, 3), (11, 4), (12, 2), (12, 3), (12, 4), (13, 2), (13, 3),\n",
        "       (13, 4), (14, 3), (14, 4), (15, 3), (15, 4), (15, 5), (16, 3),\n",
        "       (16, 4), (16, 5), (17, 4), (17, 5), (18, 4), (18, 5), (18, 6),\n",
        "       (19, 4), (19, 5), (19, 6)], dtype=object)"
       ]
      }
     ],
     "prompt_number": 40
    },
    {
     "cell_type": "code",
     "collapsed": false,
     "input": [
      "idx_arr = trajs.index.get_values()\n",
      "flat_idx = np.arange(idx_arr.size)\n",
      "connectivity = np.zeros((idx_arr.size, idx_arr.size))\n",
      "ii, jj = np.meshgrid(flat_idx, flat_idx, sparse=False, indexing='ij')\n",
      "\n",
      "for i, j in zip(ii.ravel(), jj.ravel()):\n",
      "    \n",
      "    t_stamp_i, lbl_i = idx_arr[i]\n",
      "    t_stamp_j, lbl_j = idx_arr[j]\n",
      "    if (abs(t_stamp_i - t_stamp_j) == 1) and (lbl_i == lbl_j):\n",
      "        connectivity[i, j] = 1\n"
     ],
     "language": "python",
     "metadata": {},
     "outputs": [],
     "prompt_number": 53
    },
    {
     "cell_type": "code",
     "collapsed": false,
     "input": [
      "from scipy import sparse"
     ],
     "language": "python",
     "metadata": {},
     "outputs": [],
     "prompt_number": 54
    },
    {
     "cell_type": "code",
     "collapsed": false,
     "input": [
      "connectivity = sparse.coo.coo_matrix(connectivity)"
     ],
     "language": "python",
     "metadata": {},
     "outputs": [],
     "prompt_number": 57
    },
    {
     "cell_type": "code",
     "collapsed": false,
     "input": [
      "plt.figure()\n",
      "plt.imshow(connectivity, interpolation='nearest')"
     ],
     "language": "python",
     "metadata": {},
     "outputs": [
      {
       "metadata": {},
       "output_type": "pyout",
       "prompt_number": 52,
       "text": [
        "<matplotlib.image.AxesImage at 0x7f3dd9b20d50>"
       ]
      }
     ],
     "prompt_number": 52
    },
    {
     "cell_type": "code",
     "collapsed": false,
     "input": [
      "interpolated = transformation.time_interpolate(trajs, sampling=2, s=0)\n"
     ],
     "language": "python",
     "metadata": {},
     "outputs": [],
     "prompt_number": 7
    },
    {
     "cell_type": "code",
     "collapsed": false,
     "input": [
      "interpolated.head()"
     ],
     "language": "python",
     "metadata": {},
     "outputs": [
      {
       "html": [
        "<div style=\"max-height:1000px;max-width:1500px;overflow:auto;\">\n",
        "<table border=\"1\" class=\"dataframe\">\n",
        "  <thead>\n",
        "    <tr style=\"text-align: right;\">\n",
        "      <th></th>\n",
        "      <th></th>\n",
        "      <th>t</th>\n",
        "      <th>x</th>\n",
        "      <th>v_x</th>\n",
        "      <th>a_x</th>\n",
        "      <th>y</th>\n",
        "      <th>v_y</th>\n",
        "      <th>a_y</th>\n",
        "      <th>z</th>\n",
        "      <th>v_z</th>\n",
        "      <th>a_z</th>\n",
        "    </tr>\n",
        "    <tr>\n",
        "      <th>t_stamp</th>\n",
        "      <th>label</th>\n",
        "      <th></th>\n",
        "      <th></th>\n",
        "      <th></th>\n",
        "      <th></th>\n",
        "      <th></th>\n",
        "      <th></th>\n",
        "      <th></th>\n",
        "      <th></th>\n",
        "      <th></th>\n",
        "      <th></th>\n",
        "    </tr>\n",
        "  </thead>\n",
        "  <tbody>\n",
        "    <tr>\n",
        "      <th>0</th>\n",
        "      <th>0</th>\n",
        "      <td> 0.0</td>\n",
        "      <td>-15.425890</td>\n",
        "      <td> 3.936549</td>\n",
        "      <td>-3.793635</td>\n",
        "      <td> 3.604392</td>\n",
        "      <td>-3.212223</td>\n",
        "      <td> 4.132039</td>\n",
        "      <td>-9.723257</td>\n",
        "      <td>-0.617575</td>\n",
        "      <td> 2.630806</td>\n",
        "    </tr>\n",
        "    <tr>\n",
        "      <th>1</th>\n",
        "      <th>0</th>\n",
        "      <td> 0.5</td>\n",
        "      <td>-13.899376</td>\n",
        "      <td> 2.234390</td>\n",
        "      <td>-3.015001</td>\n",
        "      <td> 2.472801</td>\n",
        "      <td>-1.398107</td>\n",
        "      <td> 3.124423</td>\n",
        "      <td>-9.746924</td>\n",
        "      <td> 0.435448</td>\n",
        "      <td> 1.581289</td>\n",
        "    </tr>\n",
        "    <tr>\n",
        "      <th>2</th>\n",
        "      <th>0</th>\n",
        "      <td> 1.0</td>\n",
        "      <td>-13.126613</td>\n",
        "      <td> 0.921548</td>\n",
        "      <td>-2.236368</td>\n",
        "      <td> 2.122316</td>\n",
        "      <td>-0.087800</td>\n",
        "      <td> 2.116807</td>\n",
        "      <td>-9.375269</td>\n",
        "      <td> 0.963713</td>\n",
        "      <td> 0.531771</td>\n",
        "    </tr>\n",
        "    <tr>\n",
        "      <th>3</th>\n",
        "      <th>0</th>\n",
        "      <td> 1.5</td>\n",
        "      <td>-12.912942</td>\n",
        "      <td>-0.001977</td>\n",
        "      <td>-1.457734</td>\n",
        "      <td> 2.301033</td>\n",
        "      <td> 0.718700</td>\n",
        "      <td> 1.109191</td>\n",
        "      <td>-8.870670</td>\n",
        "      <td> 0.967219</td>\n",
        "      <td>-0.517747</td>\n",
        "    </tr>\n",
        "    <tr>\n",
        "      <th>4</th>\n",
        "      <th>0</th>\n",
        "      <td> 2.0</td>\n",
        "      <td>-13.063704</td>\n",
        "      <td>-0.536186</td>\n",
        "      <td>-0.679101</td>\n",
        "      <td> 2.757048</td>\n",
        "      <td> 1.021392</td>\n",
        "      <td> 0.101575</td>\n",
        "      <td>-8.495509</td>\n",
        "      <td> 0.445966</td>\n",
        "      <td>-1.567265</td>\n",
        "    </tr>\n",
        "  </tbody>\n",
        "</table>\n",
        "</div>"
       ],
       "metadata": {},
       "output_type": "pyout",
       "prompt_number": 8,
       "text": [
        "                 t          x       v_x       a_x         y       v_y  \\\n",
        "t_stamp label                                                           \n",
        "0       0      0.0 -15.425890  3.936549 -3.793635  3.604392 -3.212223   \n",
        "1       0      0.5 -13.899376  2.234390 -3.015001  2.472801 -1.398107   \n",
        "2       0      1.0 -13.126613  0.921548 -2.236368  2.122316 -0.087800   \n",
        "3       0      1.5 -12.912942 -0.001977 -1.457734  2.301033  0.718700   \n",
        "4       0      2.0 -13.063704 -0.536186 -0.679101  2.757048  1.021392   \n",
        "\n",
        "                    a_y         z       v_z       a_z  \n",
        "t_stamp label                                          \n",
        "0       0      4.132039 -9.723257 -0.617575  2.630806  \n",
        "1       0      3.124423 -9.746924  0.435448  1.581289  \n",
        "2       0      2.116807 -9.375269  0.963713  0.531771  \n",
        "3       0      1.109191 -8.870670  0.967219 -0.517747  \n",
        "4       0      0.101575 -8.495509  0.445966 -1.567265  "
       ]
      }
     ],
     "prompt_number": 8
    },
    {
     "cell_type": "code",
     "collapsed": false,
     "input": [
      "\n",
      "\n",
      "def test_back_proj_back_proj_interp():\n",
      "    trajs = Trajectories(data.with_gaps_df())\n",
      "    interpolated = transformation.time_interpolate(trajs,\n",
      "                                                   sampling=3, s=2)\n",
      "    back_proj = transformation.back_proj_interp(interpolated, trajs, 3)\n",
      "    assert_almost_equal(back_proj.iloc[0].x , trajs.iloc[0].x)"
     ],
     "language": "python",
     "metadata": {},
     "outputs": [],
     "prompt_number": 9
    },
    {
     "cell_type": "code",
     "collapsed": false,
     "input": [
      "def linear_trajs():\n",
      "\n",
      "    data = np.array([np.linspace(0, 30, 61),\n",
      "                     np.zeros(61),\n",
      "                     np.zeros(61),\n",
      "                     np.linspace(0, 120, 61)])\n",
      "\n",
      "    index = pd.MultiIndex.from_tuples([(t, i)  for i in range(2) for t in range(61)],\n",
      "                                      names=('t_stamp', 'label'))\n",
      "\n",
      "    trajs = Trajectories(np.vstack([data.T, data.T]),\n",
      "                                   index=index, columns=['x', 'y', 'z', 't']).sortlevel(['t_stamp', 'label'])\n",
      "    return trajs\n",
      "\n"
     ],
     "language": "python",
     "metadata": {},
     "outputs": [],
     "prompt_number": 16
    },
    {
     "cell_type": "code",
     "collapsed": false,
     "input": [
      "linear_trajs()"
     ],
     "language": "python",
     "metadata": {},
     "outputs": [
      {
       "html": [
        "<div style=\"max-height:1000px;max-width:1500px;overflow:auto;\">\n",
        "<table border=\"1\" class=\"dataframe\">\n",
        "  <thead>\n",
        "    <tr style=\"text-align: right;\">\n",
        "      <th></th>\n",
        "      <th></th>\n",
        "      <th>x</th>\n",
        "      <th>y</th>\n",
        "      <th>z</th>\n",
        "      <th>t</th>\n",
        "    </tr>\n",
        "    <tr>\n",
        "      <th>t_stamp</th>\n",
        "      <th>label</th>\n",
        "      <th></th>\n",
        "      <th></th>\n",
        "      <th></th>\n",
        "      <th></th>\n",
        "    </tr>\n",
        "  </thead>\n",
        "  <tbody>\n",
        "    <tr>\n",
        "      <th rowspan=\"2\" valign=\"top\">0 </th>\n",
        "      <th>0</th>\n",
        "      <td>  0.0</td>\n",
        "      <td> 0</td>\n",
        "      <td> 0</td>\n",
        "      <td>   0</td>\n",
        "    </tr>\n",
        "    <tr>\n",
        "      <th>1</th>\n",
        "      <td>  0.0</td>\n",
        "      <td> 0</td>\n",
        "      <td> 0</td>\n",
        "      <td>   0</td>\n",
        "    </tr>\n",
        "    <tr>\n",
        "      <th rowspan=\"2\" valign=\"top\">1 </th>\n",
        "      <th>0</th>\n",
        "      <td>  0.5</td>\n",
        "      <td> 0</td>\n",
        "      <td> 0</td>\n",
        "      <td>   2</td>\n",
        "    </tr>\n",
        "    <tr>\n",
        "      <th>1</th>\n",
        "      <td>  0.5</td>\n",
        "      <td> 0</td>\n",
        "      <td> 0</td>\n",
        "      <td>   2</td>\n",
        "    </tr>\n",
        "    <tr>\n",
        "      <th rowspan=\"2\" valign=\"top\">2 </th>\n",
        "      <th>0</th>\n",
        "      <td>  1.0</td>\n",
        "      <td> 0</td>\n",
        "      <td> 0</td>\n",
        "      <td>   4</td>\n",
        "    </tr>\n",
        "    <tr>\n",
        "      <th>1</th>\n",
        "      <td>  1.0</td>\n",
        "      <td> 0</td>\n",
        "      <td> 0</td>\n",
        "      <td>   4</td>\n",
        "    </tr>\n",
        "    <tr>\n",
        "      <th rowspan=\"2\" valign=\"top\">3 </th>\n",
        "      <th>0</th>\n",
        "      <td>  1.5</td>\n",
        "      <td> 0</td>\n",
        "      <td> 0</td>\n",
        "      <td>   6</td>\n",
        "    </tr>\n",
        "    <tr>\n",
        "      <th>1</th>\n",
        "      <td>  1.5</td>\n",
        "      <td> 0</td>\n",
        "      <td> 0</td>\n",
        "      <td>   6</td>\n",
        "    </tr>\n",
        "    <tr>\n",
        "      <th rowspan=\"2\" valign=\"top\">4 </th>\n",
        "      <th>0</th>\n",
        "      <td>  2.0</td>\n",
        "      <td> 0</td>\n",
        "      <td> 0</td>\n",
        "      <td>   8</td>\n",
        "    </tr>\n",
        "    <tr>\n",
        "      <th>1</th>\n",
        "      <td>  2.0</td>\n",
        "      <td> 0</td>\n",
        "      <td> 0</td>\n",
        "      <td>   8</td>\n",
        "    </tr>\n",
        "    <tr>\n",
        "      <th rowspan=\"2\" valign=\"top\">5 </th>\n",
        "      <th>0</th>\n",
        "      <td>  2.5</td>\n",
        "      <td> 0</td>\n",
        "      <td> 0</td>\n",
        "      <td>  10</td>\n",
        "    </tr>\n",
        "    <tr>\n",
        "      <th>1</th>\n",
        "      <td>  2.5</td>\n",
        "      <td> 0</td>\n",
        "      <td> 0</td>\n",
        "      <td>  10</td>\n",
        "    </tr>\n",
        "    <tr>\n",
        "      <th rowspan=\"2\" valign=\"top\">6 </th>\n",
        "      <th>0</th>\n",
        "      <td>  3.0</td>\n",
        "      <td> 0</td>\n",
        "      <td> 0</td>\n",
        "      <td>  12</td>\n",
        "    </tr>\n",
        "    <tr>\n",
        "      <th>1</th>\n",
        "      <td>  3.0</td>\n",
        "      <td> 0</td>\n",
        "      <td> 0</td>\n",
        "      <td>  12</td>\n",
        "    </tr>\n",
        "    <tr>\n",
        "      <th rowspan=\"2\" valign=\"top\">7 </th>\n",
        "      <th>0</th>\n",
        "      <td>  3.5</td>\n",
        "      <td> 0</td>\n",
        "      <td> 0</td>\n",
        "      <td>  14</td>\n",
        "    </tr>\n",
        "    <tr>\n",
        "      <th>1</th>\n",
        "      <td>  3.5</td>\n",
        "      <td> 0</td>\n",
        "      <td> 0</td>\n",
        "      <td>  14</td>\n",
        "    </tr>\n",
        "    <tr>\n",
        "      <th rowspan=\"2\" valign=\"top\">8 </th>\n",
        "      <th>0</th>\n",
        "      <td>  4.0</td>\n",
        "      <td> 0</td>\n",
        "      <td> 0</td>\n",
        "      <td>  16</td>\n",
        "    </tr>\n",
        "    <tr>\n",
        "      <th>1</th>\n",
        "      <td>  4.0</td>\n",
        "      <td> 0</td>\n",
        "      <td> 0</td>\n",
        "      <td>  16</td>\n",
        "    </tr>\n",
        "    <tr>\n",
        "      <th rowspan=\"2\" valign=\"top\">9 </th>\n",
        "      <th>0</th>\n",
        "      <td>  4.5</td>\n",
        "      <td> 0</td>\n",
        "      <td> 0</td>\n",
        "      <td>  18</td>\n",
        "    </tr>\n",
        "    <tr>\n",
        "      <th>1</th>\n",
        "      <td>  4.5</td>\n",
        "      <td> 0</td>\n",
        "      <td> 0</td>\n",
        "      <td>  18</td>\n",
        "    </tr>\n",
        "    <tr>\n",
        "      <th rowspan=\"2\" valign=\"top\">10</th>\n",
        "      <th>0</th>\n",
        "      <td>  5.0</td>\n",
        "      <td> 0</td>\n",
        "      <td> 0</td>\n",
        "      <td>  20</td>\n",
        "    </tr>\n",
        "    <tr>\n",
        "      <th>1</th>\n",
        "      <td>  5.0</td>\n",
        "      <td> 0</td>\n",
        "      <td> 0</td>\n",
        "      <td>  20</td>\n",
        "    </tr>\n",
        "    <tr>\n",
        "      <th rowspan=\"2\" valign=\"top\">11</th>\n",
        "      <th>0</th>\n",
        "      <td>  5.5</td>\n",
        "      <td> 0</td>\n",
        "      <td> 0</td>\n",
        "      <td>  22</td>\n",
        "    </tr>\n",
        "    <tr>\n",
        "      <th>1</th>\n",
        "      <td>  5.5</td>\n",
        "      <td> 0</td>\n",
        "      <td> 0</td>\n",
        "      <td>  22</td>\n",
        "    </tr>\n",
        "    <tr>\n",
        "      <th rowspan=\"2\" valign=\"top\">12</th>\n",
        "      <th>0</th>\n",
        "      <td>  6.0</td>\n",
        "      <td> 0</td>\n",
        "      <td> 0</td>\n",
        "      <td>  24</td>\n",
        "    </tr>\n",
        "    <tr>\n",
        "      <th>1</th>\n",
        "      <td>  6.0</td>\n",
        "      <td> 0</td>\n",
        "      <td> 0</td>\n",
        "      <td>  24</td>\n",
        "    </tr>\n",
        "    <tr>\n",
        "      <th rowspan=\"2\" valign=\"top\">13</th>\n",
        "      <th>0</th>\n",
        "      <td>  6.5</td>\n",
        "      <td> 0</td>\n",
        "      <td> 0</td>\n",
        "      <td>  26</td>\n",
        "    </tr>\n",
        "    <tr>\n",
        "      <th>1</th>\n",
        "      <td>  6.5</td>\n",
        "      <td> 0</td>\n",
        "      <td> 0</td>\n",
        "      <td>  26</td>\n",
        "    </tr>\n",
        "    <tr>\n",
        "      <th rowspan=\"2\" valign=\"top\">14</th>\n",
        "      <th>0</th>\n",
        "      <td>  7.0</td>\n",
        "      <td> 0</td>\n",
        "      <td> 0</td>\n",
        "      <td>  28</td>\n",
        "    </tr>\n",
        "    <tr>\n",
        "      <th>1</th>\n",
        "      <td>  7.0</td>\n",
        "      <td> 0</td>\n",
        "      <td> 0</td>\n",
        "      <td>  28</td>\n",
        "    </tr>\n",
        "    <tr>\n",
        "      <th>...</th>\n",
        "      <th>...</th>\n",
        "      <td>...</td>\n",
        "      <td>...</td>\n",
        "      <td>...</td>\n",
        "      <td>...</td>\n",
        "    </tr>\n",
        "    <tr>\n",
        "      <th rowspan=\"2\" valign=\"top\">46</th>\n",
        "      <th>0</th>\n",
        "      <td> 23.0</td>\n",
        "      <td> 0</td>\n",
        "      <td> 0</td>\n",
        "      <td>  92</td>\n",
        "    </tr>\n",
        "    <tr>\n",
        "      <th>1</th>\n",
        "      <td> 23.0</td>\n",
        "      <td> 0</td>\n",
        "      <td> 0</td>\n",
        "      <td>  92</td>\n",
        "    </tr>\n",
        "    <tr>\n",
        "      <th rowspan=\"2\" valign=\"top\">47</th>\n",
        "      <th>0</th>\n",
        "      <td> 23.5</td>\n",
        "      <td> 0</td>\n",
        "      <td> 0</td>\n",
        "      <td>  94</td>\n",
        "    </tr>\n",
        "    <tr>\n",
        "      <th>1</th>\n",
        "      <td> 23.5</td>\n",
        "      <td> 0</td>\n",
        "      <td> 0</td>\n",
        "      <td>  94</td>\n",
        "    </tr>\n",
        "    <tr>\n",
        "      <th rowspan=\"2\" valign=\"top\">48</th>\n",
        "      <th>0</th>\n",
        "      <td> 24.0</td>\n",
        "      <td> 0</td>\n",
        "      <td> 0</td>\n",
        "      <td>  96</td>\n",
        "    </tr>\n",
        "    <tr>\n",
        "      <th>1</th>\n",
        "      <td> 24.0</td>\n",
        "      <td> 0</td>\n",
        "      <td> 0</td>\n",
        "      <td>  96</td>\n",
        "    </tr>\n",
        "    <tr>\n",
        "      <th rowspan=\"2\" valign=\"top\">49</th>\n",
        "      <th>0</th>\n",
        "      <td> 24.5</td>\n",
        "      <td> 0</td>\n",
        "      <td> 0</td>\n",
        "      <td>  98</td>\n",
        "    </tr>\n",
        "    <tr>\n",
        "      <th>1</th>\n",
        "      <td> 24.5</td>\n",
        "      <td> 0</td>\n",
        "      <td> 0</td>\n",
        "      <td>  98</td>\n",
        "    </tr>\n",
        "    <tr>\n",
        "      <th rowspan=\"2\" valign=\"top\">50</th>\n",
        "      <th>0</th>\n",
        "      <td> 25.0</td>\n",
        "      <td> 0</td>\n",
        "      <td> 0</td>\n",
        "      <td> 100</td>\n",
        "    </tr>\n",
        "    <tr>\n",
        "      <th>1</th>\n",
        "      <td> 25.0</td>\n",
        "      <td> 0</td>\n",
        "      <td> 0</td>\n",
        "      <td> 100</td>\n",
        "    </tr>\n",
        "    <tr>\n",
        "      <th rowspan=\"2\" valign=\"top\">51</th>\n",
        "      <th>0</th>\n",
        "      <td> 25.5</td>\n",
        "      <td> 0</td>\n",
        "      <td> 0</td>\n",
        "      <td> 102</td>\n",
        "    </tr>\n",
        "    <tr>\n",
        "      <th>1</th>\n",
        "      <td> 25.5</td>\n",
        "      <td> 0</td>\n",
        "      <td> 0</td>\n",
        "      <td> 102</td>\n",
        "    </tr>\n",
        "    <tr>\n",
        "      <th rowspan=\"2\" valign=\"top\">52</th>\n",
        "      <th>0</th>\n",
        "      <td> 26.0</td>\n",
        "      <td> 0</td>\n",
        "      <td> 0</td>\n",
        "      <td> 104</td>\n",
        "    </tr>\n",
        "    <tr>\n",
        "      <th>1</th>\n",
        "      <td> 26.0</td>\n",
        "      <td> 0</td>\n",
        "      <td> 0</td>\n",
        "      <td> 104</td>\n",
        "    </tr>\n",
        "    <tr>\n",
        "      <th rowspan=\"2\" valign=\"top\">53</th>\n",
        "      <th>0</th>\n",
        "      <td> 26.5</td>\n",
        "      <td> 0</td>\n",
        "      <td> 0</td>\n",
        "      <td> 106</td>\n",
        "    </tr>\n",
        "    <tr>\n",
        "      <th>1</th>\n",
        "      <td> 26.5</td>\n",
        "      <td> 0</td>\n",
        "      <td> 0</td>\n",
        "      <td> 106</td>\n",
        "    </tr>\n",
        "    <tr>\n",
        "      <th rowspan=\"2\" valign=\"top\">54</th>\n",
        "      <th>0</th>\n",
        "      <td> 27.0</td>\n",
        "      <td> 0</td>\n",
        "      <td> 0</td>\n",
        "      <td> 108</td>\n",
        "    </tr>\n",
        "    <tr>\n",
        "      <th>1</th>\n",
        "      <td> 27.0</td>\n",
        "      <td> 0</td>\n",
        "      <td> 0</td>\n",
        "      <td> 108</td>\n",
        "    </tr>\n",
        "    <tr>\n",
        "      <th rowspan=\"2\" valign=\"top\">55</th>\n",
        "      <th>0</th>\n",
        "      <td> 27.5</td>\n",
        "      <td> 0</td>\n",
        "      <td> 0</td>\n",
        "      <td> 110</td>\n",
        "    </tr>\n",
        "    <tr>\n",
        "      <th>1</th>\n",
        "      <td> 27.5</td>\n",
        "      <td> 0</td>\n",
        "      <td> 0</td>\n",
        "      <td> 110</td>\n",
        "    </tr>\n",
        "    <tr>\n",
        "      <th rowspan=\"2\" valign=\"top\">56</th>\n",
        "      <th>0</th>\n",
        "      <td> 28.0</td>\n",
        "      <td> 0</td>\n",
        "      <td> 0</td>\n",
        "      <td> 112</td>\n",
        "    </tr>\n",
        "    <tr>\n",
        "      <th>1</th>\n",
        "      <td> 28.0</td>\n",
        "      <td> 0</td>\n",
        "      <td> 0</td>\n",
        "      <td> 112</td>\n",
        "    </tr>\n",
        "    <tr>\n",
        "      <th rowspan=\"2\" valign=\"top\">57</th>\n",
        "      <th>0</th>\n",
        "      <td> 28.5</td>\n",
        "      <td> 0</td>\n",
        "      <td> 0</td>\n",
        "      <td> 114</td>\n",
        "    </tr>\n",
        "    <tr>\n",
        "      <th>1</th>\n",
        "      <td> 28.5</td>\n",
        "      <td> 0</td>\n",
        "      <td> 0</td>\n",
        "      <td> 114</td>\n",
        "    </tr>\n",
        "    <tr>\n",
        "      <th rowspan=\"2\" valign=\"top\">58</th>\n",
        "      <th>0</th>\n",
        "      <td> 29.0</td>\n",
        "      <td> 0</td>\n",
        "      <td> 0</td>\n",
        "      <td> 116</td>\n",
        "    </tr>\n",
        "    <tr>\n",
        "      <th>1</th>\n",
        "      <td> 29.0</td>\n",
        "      <td> 0</td>\n",
        "      <td> 0</td>\n",
        "      <td> 116</td>\n",
        "    </tr>\n",
        "    <tr>\n",
        "      <th rowspan=\"2\" valign=\"top\">59</th>\n",
        "      <th>0</th>\n",
        "      <td> 29.5</td>\n",
        "      <td> 0</td>\n",
        "      <td> 0</td>\n",
        "      <td> 118</td>\n",
        "    </tr>\n",
        "    <tr>\n",
        "      <th>1</th>\n",
        "      <td> 29.5</td>\n",
        "      <td> 0</td>\n",
        "      <td> 0</td>\n",
        "      <td> 118</td>\n",
        "    </tr>\n",
        "    <tr>\n",
        "      <th rowspan=\"2\" valign=\"top\">60</th>\n",
        "      <th>0</th>\n",
        "      <td> 30.0</td>\n",
        "      <td> 0</td>\n",
        "      <td> 0</td>\n",
        "      <td> 120</td>\n",
        "    </tr>\n",
        "    <tr>\n",
        "      <th>1</th>\n",
        "      <td> 30.0</td>\n",
        "      <td> 0</td>\n",
        "      <td> 0</td>\n",
        "      <td> 120</td>\n",
        "    </tr>\n",
        "  </tbody>\n",
        "</table>\n",
        "<p>122 rows \u00d7 4 columns</p>\n",
        "</div>"
       ],
       "metadata": {},
       "output_type": "pyout",
       "prompt_number": 17,
       "text": [
        "                  x  y  z    t\n",
        "t_stamp label                 \n",
        "0       0       0.0  0  0    0\n",
        "        1       0.0  0  0    0\n",
        "1       0       0.5  0  0    2\n",
        "        1       0.5  0  0    2\n",
        "2       0       1.0  0  0    4\n",
        "        1       1.0  0  0    4\n",
        "3       0       1.5  0  0    6\n",
        "        1       1.5  0  0    6\n",
        "4       0       2.0  0  0    8\n",
        "        1       2.0  0  0    8\n",
        "5       0       2.5  0  0   10\n",
        "        1       2.5  0  0   10\n",
        "6       0       3.0  0  0   12\n",
        "        1       3.0  0  0   12\n",
        "7       0       3.5  0  0   14\n",
        "        1       3.5  0  0   14\n",
        "8       0       4.0  0  0   16\n",
        "        1       4.0  0  0   16\n",
        "9       0       4.5  0  0   18\n",
        "        1       4.5  0  0   18\n",
        "10      0       5.0  0  0   20\n",
        "        1       5.0  0  0   20\n",
        "11      0       5.5  0  0   22\n",
        "        1       5.5  0  0   22\n",
        "12      0       6.0  0  0   24\n",
        "        1       6.0  0  0   24\n",
        "13      0       6.5  0  0   26\n",
        "        1       6.5  0  0   26\n",
        "14      0       7.0  0  0   28\n",
        "        1       7.0  0  0   28\n",
        "...             ... .. ..  ...\n",
        "46      0      23.0  0  0   92\n",
        "        1      23.0  0  0   92\n",
        "47      0      23.5  0  0   94\n",
        "        1      23.5  0  0   94\n",
        "48      0      24.0  0  0   96\n",
        "        1      24.0  0  0   96\n",
        "49      0      24.5  0  0   98\n",
        "        1      24.5  0  0   98\n",
        "50      0      25.0  0  0  100\n",
        "        1      25.0  0  0  100\n",
        "51      0      25.5  0  0  102\n",
        "        1      25.5  0  0  102\n",
        "52      0      26.0  0  0  104\n",
        "        1      26.0  0  0  104\n",
        "53      0      26.5  0  0  106\n",
        "        1      26.5  0  0  106\n",
        "54      0      27.0  0  0  108\n",
        "        1      27.0  0  0  108\n",
        "55      0      27.5  0  0  110\n",
        "        1      27.5  0  0  110\n",
        "56      0      28.0  0  0  112\n",
        "        1      28.0  0  0  112\n",
        "57      0      28.5  0  0  114\n",
        "        1      28.5  0  0  114\n",
        "58      0      29.0  0  0  116\n",
        "        1      29.0  0  0  116\n",
        "59      0      29.5  0  0  118\n",
        "        1      29.5  0  0  118\n",
        "60      0      30.0  0  0  120\n",
        "        1      30.0  0  0  120\n",
        "\n",
        "[122 rows x 4 columns]"
       ]
      }
     ],
     "prompt_number": 17
    },
    {
     "cell_type": "code",
     "collapsed": false,
     "input": [
      "\n",
      "import pandas as pd\n",
      "from sktracker.trajectories import Trajectories\n",
      "from sktracker.trajectories.measures import transformation\n",
      "from sktracker import data\n",
      "\n",
      "\n",
      "from numpy.testing import assert_array_equal\n",
      "from numpy.testing import assert_array_almost_equal\n",
      "from numpy.testing import assert_almost_equal\n",
      "\n",
      "test_back_proj_back_proj_interp()"
     ],
     "language": "python",
     "metadata": {},
     "outputs": [],
     "prompt_number": 61
    },
    {
     "cell_type": "code",
     "collapsed": false,
     "input": [
      "transformation.back_proj_interp(interpolated, trajs, 3).shape"
     ],
     "language": "python",
     "metadata": {},
     "outputs": [
      {
       "metadata": {},
       "output_type": "pyout",
       "prompt_number": 59,
       "text": [
        "(61, 10)"
       ]
      }
     ],
     "prompt_number": 59
    },
    {
     "cell_type": "code",
     "collapsed": false,
     "input": [
      "\n",
      "rotated, pca = transformation.do_pca(interpolated, suffix='', append=False, return_pca=True)\n",
      "\n"
     ],
     "language": "python",
     "metadata": {},
     "outputs": [],
     "prompt_number": 11
    },
    {
     "cell_type": "code",
     "collapsed": false,
     "input": [
      "def test_back_proj_pca():\n",
      "\n",
      "    trajs = Trajectories(data.with_gaps_df())\n",
      "    rotated, pca = transformation.do_pca(trajs, suffix='',\n",
      "                                         append=False, return_pca=True)\n",
      "    back_proj = transformation.back_proj_pca(rotated, pca, coords=['x', 'y', 'z'])\n",
      "    assert_almost_equal(back_proj.iloc[0].x, trajs.iloc[0].x)\n",
      "\n",
      "test_back_proj_pca()"
     ],
     "language": "python",
     "metadata": {},
     "outputs": [],
     "prompt_number": 62
    },
    {
     "cell_type": "code",
     "collapsed": false,
     "input": [
      "data = np.array([np.linspace(0, 30, 61), np.zeros(61), np.zeros(61), np.linspace(0, 30, 61)])\n",
      "data.T.shape\n"
     ],
     "language": "python",
     "metadata": {},
     "outputs": [
      {
       "metadata": {},
       "output_type": "pyout",
       "prompt_number": 13,
       "text": [
        "(61, 4)"
       ]
      }
     ],
     "prompt_number": 13
    },
    {
     "cell_type": "code",
     "collapsed": false,
     "input": [
      "trajs = linear_trajs()"
     ],
     "language": "python",
     "metadata": {},
     "outputs": [],
     "prompt_number": 46
    },
    {
     "cell_type": "code",
     "collapsed": false,
     "input": [
      "trajs = linear_trajs()\n",
      "msd = translation.get_MSD(trajs)"
     ],
     "language": "python",
     "metadata": {},
     "outputs": [],
     "prompt_number": 47
    },
    {
     "cell_type": "code",
     "collapsed": false,
     "input": [
      "measure = translation.cum_disp(rotated)\n",
      "rotated['cum_disp'] = measure.cum_disp\n",
      "rotated.head()\n"
     ],
     "language": "python",
     "metadata": {},
     "outputs": [
      {
       "html": [
        "<div style=\"max-height:1000px;max-width:1500px;overflow:auto;\">\n",
        "<table border=\"1\" class=\"dataframe\">\n",
        "  <thead>\n",
        "    <tr style=\"text-align: right;\">\n",
        "      <th></th>\n",
        "      <th></th>\n",
        "      <th>x</th>\n",
        "      <th>y</th>\n",
        "      <th>z</th>\n",
        "      <th>t</th>\n",
        "      <th>cum_disp</th>\n",
        "    </tr>\n",
        "    <tr>\n",
        "      <th>t_stamp</th>\n",
        "      <th>label</th>\n",
        "      <th></th>\n",
        "      <th></th>\n",
        "      <th></th>\n",
        "      <th></th>\n",
        "      <th></th>\n",
        "    </tr>\n",
        "  </thead>\n",
        "  <tbody>\n",
        "    <tr>\n",
        "      <th rowspan=\"3\" valign=\"top\">0</th>\n",
        "      <th>0</th>\n",
        "      <td>-13.264797</td>\n",
        "      <td>-3.844068</td>\n",
        "      <td> 3.518634</td>\n",
        "      <td> 0.0</td>\n",
        "      <td> 0.000000</td>\n",
        "    </tr>\n",
        "    <tr>\n",
        "      <th>1</th>\n",
        "      <td> 15.128896</td>\n",
        "      <td>-3.546528</td>\n",
        "      <td> 2.077762</td>\n",
        "      <td> 0.0</td>\n",
        "      <td> 0.000000</td>\n",
        "    </tr>\n",
        "    <tr>\n",
        "      <th>2</th>\n",
        "      <td> -5.627224</td>\n",
        "      <td> 4.369034</td>\n",
        "      <td>-0.246924</td>\n",
        "      <td> 0.0</td>\n",
        "      <td> 0.000000</td>\n",
        "    </tr>\n",
        "    <tr>\n",
        "      <th rowspan=\"2\" valign=\"top\">1</th>\n",
        "      <th>0</th>\n",
        "      <td>-13.052598</td>\n",
        "      <td>-5.515483</td>\n",
        "      <td> 2.639633</td>\n",
        "      <td> 0.5</td>\n",
        "      <td> 1.900342</td>\n",
        "    </tr>\n",
        "    <tr>\n",
        "      <th>1</th>\n",
        "      <td> 14.762677</td>\n",
        "      <td>-3.081228</td>\n",
        "      <td> 1.271032</td>\n",
        "      <td> 0.5</td>\n",
        "      <td> 1.000716</td>\n",
        "    </tr>\n",
        "  </tbody>\n",
        "</table>\n",
        "</div>"
       ],
       "metadata": {},
       "output_type": "pyout",
       "prompt_number": 13,
       "text": [
        "                       x         y         z    t  cum_disp\n",
        "t_stamp label                                              \n",
        "0       0     -13.264797 -3.844068  3.518634  0.0  0.000000\n",
        "        1      15.128896 -3.546528  2.077762  0.0  0.000000\n",
        "        2      -5.627224  4.369034 -0.246924  0.0  0.000000\n",
        "1       0     -13.052598 -5.515483  2.639633  0.5  1.900342\n",
        "        1      14.762677 -3.081228  1.271032  0.5  1.000716"
       ]
      }
     ],
     "prompt_number": 13
    },
    {
     "cell_type": "code",
     "collapsed": false,
     "input": [
      "t_stamp0, t_stamp1 = 1, 5\n",
      "m = translation.p2p_cum_dir(rotated, t_stamp0, t_stamp1,\n",
      "                            coord='x', append=False)\n",
      "len(m)"
     ],
     "language": "python",
     "metadata": {},
     "outputs": [
      {
       "output_type": "stream",
       "stream": "stdout",
       "text": [
        "              x  cum_disp\n",
        "label                    \n",
        "0      1.494196  2.690778\n",
        "1     -1.348234  3.495064\n",
        "2      0.329973  2.293321\n",
        "3           NaN       NaN\n",
        "4           NaN       NaN\n",
        "5           NaN       NaN\n",
        "6           NaN       NaN\n"
       ]
      },
      {
       "metadata": {},
       "output_type": "pyout",
       "prompt_number": 14,
       "text": [
        "7"
       ]
      }
     ],
     "prompt_number": 14
    },
    {
     "cell_type": "code",
     "collapsed": false,
     "input": [
      "translation.p2p_directionality(rotated, t_stamp0, t_stamp1,\n",
      "                               coords=['x', 'y', 'z'])\n"
     ],
     "language": "python",
     "metadata": {},
     "outputs": [
      {
       "metadata": {},
       "output_type": "pyout",
       "prompt_number": 15,
       "text": [
        "label\n",
        "0        0.969313\n",
        "1       -0.573418\n",
        "2        0.231943\n",
        "3             NaN\n",
        "4             NaN\n",
        "5             NaN\n",
        "6             NaN\n",
        "Name: p2p_directionality, dtype: float64"
       ]
      }
     ],
     "prompt_number": 15
    },
    {
     "cell_type": "code",
     "collapsed": false,
     "input": [
      "translation.p2p_processivity(rotated, t_stamp0, t_stamp1,\n",
      "                             signed=True,\n",
      "                             coords=['x', 'y', 'z'])"
     ],
     "language": "python",
     "metadata": {},
     "outputs": [
      {
       "metadata": {},
       "output_type": "pyout",
       "prompt_number": 16,
       "text": [
        "label\n",
        "0        0.572883\n",
        "1       -0.672727\n",
        "2        0.620344\n",
        "3             NaN\n",
        "4             NaN\n",
        "5             NaN\n",
        "6             NaN\n",
        "Name: p2p_processivity, dtype: float64"
       ]
      }
     ],
     "prompt_number": 16
    },
    {
     "cell_type": "code",
     "collapsed": false,
     "input": [
      "window = 3\n",
      "translation.sld_dir(rotated, window,\n",
      "                    coords=['x', 'y', 'z'])\n",
      "translation.sld_processivity(rotated, window,\n",
      "                    coords=['x', 'y', 'z'])\n",
      "translation.sld_cum_dir(rotated, window,\n",
      "                    coords=['x', 'y', 'z']);\n"
     ],
     "language": "python",
     "metadata": {},
     "outputs": [],
     "prompt_number": 17
    },
    {
     "cell_type": "code",
     "collapsed": false,
     "input": [
      "polar = Trajectories(rotation.get_polar_coords(trajs, append=False, get_dtheta=True, periodic=False))\n"
     ],
     "language": "python",
     "metadata": {},
     "outputs": [],
     "prompt_number": 19
    },
    {
     "cell_type": "code",
     "collapsed": false,
     "input": [
      "polar.head(10)"
     ],
     "language": "python",
     "metadata": {},
     "outputs": [
      {
       "html": [
        "<div style=\"max-height:1000px;max-width:1500px;overflow:auto;\">\n",
        "<table border=\"1\" class=\"dataframe\">\n",
        "  <thead>\n",
        "    <tr style=\"text-align: right;\">\n",
        "      <th></th>\n",
        "      <th></th>\n",
        "      <th>rho</th>\n",
        "      <th>theta</th>\n",
        "      <th>t</th>\n",
        "      <th>dtheta</th>\n",
        "    </tr>\n",
        "    <tr>\n",
        "      <th>t_stamp</th>\n",
        "      <th>label</th>\n",
        "      <th></th>\n",
        "      <th></th>\n",
        "      <th></th>\n",
        "      <th></th>\n",
        "    </tr>\n",
        "  </thead>\n",
        "  <tbody>\n",
        "    <tr>\n",
        "      <th rowspan=\"3\" valign=\"top\">0</th>\n",
        "      <th>0</th>\n",
        "      <td> 15.841392</td>\n",
        "      <td> 2.912052</td>\n",
        "      <td> 0</td>\n",
        "      <td> 0.000000</td>\n",
        "    </tr>\n",
        "    <tr>\n",
        "      <th>1</th>\n",
        "      <td> 17.434130</td>\n",
        "      <td> 1.594885</td>\n",
        "      <td> 0</td>\n",
        "      <td> 0.000000</td>\n",
        "    </tr>\n",
        "    <tr>\n",
        "      <th>2</th>\n",
        "      <td> 19.666555</td>\n",
        "      <td> 2.758210</td>\n",
        "      <td> 0</td>\n",
        "      <td> 0.000000</td>\n",
        "    </tr>\n",
        "    <tr>\n",
        "      <th rowspan=\"3\" valign=\"top\">1</th>\n",
        "      <th>0</th>\n",
        "      <td> 13.297075</td>\n",
        "      <td> 2.981299</td>\n",
        "      <td> 1</td>\n",
        "      <td> 0.069247</td>\n",
        "    </tr>\n",
        "    <tr>\n",
        "      <th>1</th>\n",
        "      <td> 15.601875</td>\n",
        "      <td> 1.648928</td>\n",
        "      <td> 1</td>\n",
        "      <td> 0.054043</td>\n",
        "    </tr>\n",
        "    <tr>\n",
        "      <th>2</th>\n",
        "      <td> 20.778650</td>\n",
        "      <td> 2.681918</td>\n",
        "      <td> 1</td>\n",
        "      <td>-0.076292</td>\n",
        "    </tr>\n",
        "    <tr>\n",
        "      <th rowspan=\"3\" valign=\"top\">2</th>\n",
        "      <th>0</th>\n",
        "      <td> 13.351467</td>\n",
        "      <td> 2.933598</td>\n",
        "      <td> 2</td>\n",
        "      <td>-0.047701</td>\n",
        "    </tr>\n",
        "    <tr>\n",
        "      <th>1</th>\n",
        "      <td> 13.975136</td>\n",
        "      <td> 1.645600</td>\n",
        "      <td> 2</td>\n",
        "      <td>-0.003328</td>\n",
        "    </tr>\n",
        "    <tr>\n",
        "      <th>2</th>\n",
        "      <td> 21.372050</td>\n",
        "      <td> 2.697158</td>\n",
        "      <td> 2</td>\n",
        "      <td> 0.015240</td>\n",
        "    </tr>\n",
        "    <tr>\n",
        "      <th>3</th>\n",
        "      <th>0</th>\n",
        "      <td> 14.118891</td>\n",
        "      <td> 2.891572</td>\n",
        "      <td> 3</td>\n",
        "      <td>-0.042027</td>\n",
        "    </tr>\n",
        "  </tbody>\n",
        "</table>\n",
        "</div>"
       ],
       "metadata": {},
       "output_type": "pyout",
       "prompt_number": 20,
       "text": [
        "                     rho     theta  t    dtheta\n",
        "t_stamp label                                  \n",
        "0       0      15.841392  2.912052  0  0.000000\n",
        "        1      17.434130  1.594885  0  0.000000\n",
        "        2      19.666555  2.758210  0  0.000000\n",
        "1       0      13.297075  2.981299  1  0.069247\n",
        "        1      15.601875  1.648928  1  0.054043\n",
        "        2      20.778650  2.681918  1 -0.076292\n",
        "2       0      13.351467  2.933598  2 -0.047701\n",
        "        1      13.975136  1.645600  2 -0.003328\n",
        "        2      21.372050  2.697158  2  0.015240\n",
        "3       0      14.118891  2.891572  3 -0.042027"
       ]
      }
     ],
     "prompt_number": 20
    },
    {
     "cell_type": "code",
     "collapsed": false,
     "input": [
      "speeds = rotation.radial_speed(polar, append=True)\n"
     ],
     "language": "python",
     "metadata": {},
     "outputs": [],
     "prompt_number": 21
    },
    {
     "cell_type": "code",
     "collapsed": false,
     "input": [
      "speeds.head()"
     ],
     "language": "python",
     "metadata": {},
     "outputs": [
      {
       "html": [
        "<div style=\"max-height:1000px;max-width:1500px;overflow:auto;\">\n",
        "<table border=\"1\" class=\"dataframe\">\n",
        "  <thead>\n",
        "    <tr style=\"text-align: right;\">\n",
        "      <th></th>\n",
        "      <th></th>\n",
        "      <th>rho</th>\n",
        "      <th>theta</th>\n",
        "      <th>t</th>\n",
        "      <th>dtheta</th>\n",
        "      <th>v_orad</th>\n",
        "      <th>v_rad</th>\n",
        "    </tr>\n",
        "    <tr>\n",
        "      <th>t_stamp</th>\n",
        "      <th>label</th>\n",
        "      <th></th>\n",
        "      <th></th>\n",
        "      <th></th>\n",
        "      <th></th>\n",
        "      <th></th>\n",
        "      <th></th>\n",
        "    </tr>\n",
        "  </thead>\n",
        "  <tbody>\n",
        "    <tr>\n",
        "      <th rowspan=\"3\" valign=\"top\">0</th>\n",
        "      <th>0</th>\n",
        "      <td> 15.841392</td>\n",
        "      <td> 2.912052</td>\n",
        "      <td> 0</td>\n",
        "      <td> 0.000000</td>\n",
        "      <td> 2.670782</td>\n",
        "      <td>-4.472232</td>\n",
        "    </tr>\n",
        "    <tr>\n",
        "      <th>1</th>\n",
        "      <td> 17.434130</td>\n",
        "      <td> 1.594885</td>\n",
        "      <td> 0</td>\n",
        "      <td> 0.000000</td>\n",
        "      <td> 1.662692</td>\n",
        "      <td>-0.338779</td>\n",
        "    </tr>\n",
        "    <tr>\n",
        "      <th>2</th>\n",
        "      <td> 19.666555</td>\n",
        "      <td> 2.758210</td>\n",
        "      <td> 0</td>\n",
        "      <td> 0.000000</td>\n",
        "      <td>-3.823952</td>\n",
        "      <td> 1.398780</td>\n",
        "    </tr>\n",
        "    <tr>\n",
        "      <th rowspan=\"2\" valign=\"top\">1</th>\n",
        "      <th>0</th>\n",
        "      <td> 13.297075</td>\n",
        "      <td> 2.981299</td>\n",
        "      <td> 1</td>\n",
        "      <td> 0.069247</td>\n",
        "      <td>-0.128502</td>\n",
        "      <td>-0.930683</td>\n",
        "    </tr>\n",
        "    <tr>\n",
        "      <th>1</th>\n",
        "      <td> 15.601875</td>\n",
        "      <td> 1.648928</td>\n",
        "      <td> 1</td>\n",
        "      <td> 0.054043</td>\n",
        "      <td> 0.297001</td>\n",
        "      <td>-2.527614</td>\n",
        "    </tr>\n",
        "  </tbody>\n",
        "</table>\n",
        "</div>"
       ],
       "metadata": {},
       "output_type": "pyout",
       "prompt_number": 23,
       "text": [
        "                     rho     theta  t    dtheta    v_orad     v_rad\n",
        "t_stamp label                                                      \n",
        "0       0      15.841392  2.912052  0  0.000000  2.670782 -4.472232\n",
        "        1      17.434130  1.594885  0  0.000000  1.662692 -0.338779\n",
        "        2      19.666555  2.758210  0  0.000000 -3.823952  1.398780\n",
        "1       0      13.297075  2.981299  1  0.069247 -0.128502 -0.930683\n",
        "        1      15.601875  1.648928  1  0.054043  0.297001 -2.527614"
       ]
      }
     ],
     "prompt_number": 23
    },
    {
     "cell_type": "code",
     "collapsed": false,
     "input": [
      "fig, ax = plt.subplots()\n",
      "\n",
      "#trajs.show()\n",
      "\n",
      "polar.show('t', 'v_rad')\n"
     ],
     "language": "python",
     "metadata": {},
     "outputs": [
      {
       "metadata": {},
       "output_type": "pyout",
       "prompt_number": 24,
       "text": [
        "<matplotlib.axes._subplots.AxesSubplot at 0x7f37b85ca2d0>"
       ]
      }
     ],
     "prompt_number": 24
    },
    {
     "cell_type": "code",
     "collapsed": false,
     "input": [
      "cluster = ct.ui.get_cluster()"
     ],
     "language": "python",
     "metadata": {},
     "outputs": [
      {
       "output_type": "stream",
       "stream": "stdout",
       "text": [
        "Choosen data path: /home/guillaume/Projets/CellMigration/20140617-NLSredLifActGFP-WT-S2.h5\n"
       ]
      }
     ],
     "prompt_number": 3
    },
    {
     "cell_type": "code",
     "collapsed": false,
     "input": [
      "cluster.trajs.head()"
     ],
     "language": "python",
     "metadata": {},
     "outputs": [
      {
       "html": [
        "<div style=\"max-height:1000px;max-width:1500px;overflow:auto;\">\n",
        "<table border=\"1\" class=\"dataframe\">\n",
        "  <thead>\n",
        "    <tr style=\"text-align: right;\">\n",
        "      <th></th>\n",
        "      <th></th>\n",
        "      <th>x</th>\n",
        "      <th>y</th>\n",
        "      <th>z</th>\n",
        "      <th>t</th>\n",
        "      <th>x_c</th>\n",
        "      <th>y_c</th>\n",
        "      <th>z_c</th>\n",
        "      <th>x_r</th>\n",
        "      <th>y_r</th>\n",
        "      <th>z_r</th>\n",
        "      <th>x_r_pca</th>\n",
        "      <th>y_r_pca</th>\n",
        "      <th>z_r_pca</th>\n",
        "      <th>theta</th>\n",
        "      <th>rho</th>\n",
        "      <th>dtheta</th>\n",
        "      <th>x_pca</th>\n",
        "      <th>y_pca</th>\n",
        "      <th>z_pca</th>\n",
        "    </tr>\n",
        "    <tr>\n",
        "      <th>t_stamp</th>\n",
        "      <th>label</th>\n",
        "      <th></th>\n",
        "      <th></th>\n",
        "      <th></th>\n",
        "      <th></th>\n",
        "      <th></th>\n",
        "      <th></th>\n",
        "      <th></th>\n",
        "      <th></th>\n",
        "      <th></th>\n",
        "      <th></th>\n",
        "      <th></th>\n",
        "      <th></th>\n",
        "      <th></th>\n",
        "      <th></th>\n",
        "      <th></th>\n",
        "      <th></th>\n",
        "      <th></th>\n",
        "      <th></th>\n",
        "      <th></th>\n",
        "    </tr>\n",
        "  </thead>\n",
        "  <tbody>\n",
        "    <tr>\n",
        "      <th rowspan=\"4\" valign=\"top\">1</th>\n",
        "      <th>1</th>\n",
        "      <td> 184.667</td>\n",
        "      <td> 29.302</td>\n",
        "      <td>  7.5</td>\n",
        "      <td> 0</td>\n",
        "      <td> 179.35400</td>\n",
        "      <td> 38.157</td>\n",
        "      <td> 8.250</td>\n",
        "      <td> 5.31300</td>\n",
        "      <td> -8.855</td>\n",
        "      <td>-0.750</td>\n",
        "      <td> -8.906182</td>\n",
        "      <td>-5.278450</td>\n",
        "      <td>-0.139208</td>\n",
        "      <td>-2.606578</td>\n",
        "      <td> 10.352880</td>\n",
        "      <td> 0.000000</td>\n",
        "      <td>-65.692062</td>\n",
        "      <td>-0.573242</td>\n",
        "      <td> 0.696838</td>\n",
        "    </tr>\n",
        "    <tr>\n",
        "      <th>2</th>\n",
        "      <td> 172.431</td>\n",
        "      <td> 49.588</td>\n",
        "      <td>  7.5</td>\n",
        "      <td> 0</td>\n",
        "      <td> 179.35400</td>\n",
        "      <td> 38.157</td>\n",
        "      <td> 8.250</td>\n",
        "      <td>-6.92300</td>\n",
        "      <td> 11.431</td>\n",
        "      <td>-0.750</td>\n",
        "      <td> 11.569165</td>\n",
        "      <td> 6.468668</td>\n",
        "      <td> 1.862513</td>\n",
        "      <td> 0.509826</td>\n",
        "      <td> 13.254782</td>\n",
        "      <td> 0.000000</td>\n",
        "      <td>-43.271297</td>\n",
        "      <td> 7.073019</td>\n",
        "      <td> 0.404519</td>\n",
        "    </tr>\n",
        "    <tr>\n",
        "      <th>3</th>\n",
        "      <td> 187.565</td>\n",
        "      <td> 32.522</td>\n",
        "      <td> 10.5</td>\n",
        "      <td> 0</td>\n",
        "      <td> 179.35400</td>\n",
        "      <td> 38.157</td>\n",
        "      <td> 8.250</td>\n",
        "      <td> 8.21100</td>\n",
        "      <td> -5.635</td>\n",
        "      <td> 2.250</td>\n",
        "      <td> -9.928477</td>\n",
        "      <td>-0.585321</td>\n",
        "      <td>-2.306293</td>\n",
        "      <td>-3.082707</td>\n",
        "      <td>  9.945716</td>\n",
        "      <td> 0.000000</td>\n",
        "      <td>-65.981189</td>\n",
        "      <td> 4.086444</td>\n",
        "      <td>-1.746631</td>\n",
        "    </tr>\n",
        "    <tr>\n",
        "      <th>4</th>\n",
        "      <td> 172.753</td>\n",
        "      <td> 41.216</td>\n",
        "      <td>  7.5</td>\n",
        "      <td> 0</td>\n",
        "      <td> 179.35400</td>\n",
        "      <td> 38.157</td>\n",
        "      <td> 8.250</td>\n",
        "      <td>-6.60100</td>\n",
        "      <td>  3.059</td>\n",
        "      <td>-0.750</td>\n",
        "      <td>  7.265494</td>\n",
        "      <td>-0.604896</td>\n",
        "      <td> 0.582988</td>\n",
        "      <td>-0.083064</td>\n",
        "      <td>  7.290631</td>\n",
        "      <td> 0.000000</td>\n",
        "      <td>-48.924200</td>\n",
        "      <td> 0.905127</td>\n",
        "      <td>-0.038028</td>\n",
        "    </tr>\n",
        "    <tr>\n",
        "      <th>2</th>\n",
        "      <th>1</th>\n",
        "      <td> 180.642</td>\n",
        "      <td> 34.937</td>\n",
        "      <td>  6.0</td>\n",
        "      <td> 4</td>\n",
        "      <td> 176.81825</td>\n",
        "      <td> 40.411</td>\n",
        "      <td> 7.875</td>\n",
        "      <td> 3.82375</td>\n",
        "      <td> -5.474</td>\n",
        "      <td>-1.875</td>\n",
        "      <td> -5.965850</td>\n",
        "      <td>-3.267912</td>\n",
        "      <td> 1.353051</td>\n",
        "      <td>-2.640463</td>\n",
        "      <td>  6.802251</td>\n",
        "      <td>-0.033885</td>\n",
        "      <td>-58.906178</td>\n",
        "      <td> 0.970766</td>\n",
        "      <td> 2.027879</td>\n",
        "    </tr>\n",
        "  </tbody>\n",
        "</table>\n",
        "</div>"
       ],
       "metadata": {},
       "output_type": "pyout",
       "prompt_number": 4,
       "text": [
        "                     x       y     z  t        x_c     y_c    z_c      x_r  \\\n",
        "t_stamp label                                                                \n",
        "1       1      184.667  29.302   7.5  0  179.35400  38.157  8.250  5.31300   \n",
        "        2      172.431  49.588   7.5  0  179.35400  38.157  8.250 -6.92300   \n",
        "        3      187.565  32.522  10.5  0  179.35400  38.157  8.250  8.21100   \n",
        "        4      172.753  41.216   7.5  0  179.35400  38.157  8.250 -6.60100   \n",
        "2       1      180.642  34.937   6.0  4  176.81825  40.411  7.875  3.82375   \n",
        "\n",
        "                  y_r    z_r    x_r_pca   y_r_pca   z_r_pca     theta  \\\n",
        "t_stamp label                                                           \n",
        "1       1      -8.855 -0.750  -8.906182 -5.278450 -0.139208 -2.606578   \n",
        "        2      11.431 -0.750  11.569165  6.468668  1.862513  0.509826   \n",
        "        3      -5.635  2.250  -9.928477 -0.585321 -2.306293 -3.082707   \n",
        "        4       3.059 -0.750   7.265494 -0.604896  0.582988 -0.083064   \n",
        "2       1      -5.474 -1.875  -5.965850 -3.267912  1.353051 -2.640463   \n",
        "\n",
        "                     rho    dtheta      x_pca     y_pca     z_pca  \n",
        "t_stamp label                                                      \n",
        "1       1      10.352880  0.000000 -65.692062 -0.573242  0.696838  \n",
        "        2      13.254782  0.000000 -43.271297  7.073019  0.404519  \n",
        "        3       9.945716  0.000000 -65.981189  4.086444 -1.746631  \n",
        "        4       7.290631  0.000000 -48.924200  0.905127 -0.038028  \n",
        "2       1       6.802251 -0.033885 -58.906178  0.970766  2.027879  "
       ]
      }
     ],
     "prompt_number": 4
    },
    {
     "cell_type": "raw",
     "metadata": {},
     "source": [
      "\n",
      "cluster.trajs = ct.analysis.scale(cluster.trajs, \n",
      "                                  cluster.metadata['PhysicalSizeX'],\n",
      "                                  cluster.metadata['PhysicalSizeY'],\n",
      "                                  cluster.metadata['PhysicalSizeZ'],\n",
      "                                  inplace=True)\n"
     ]
    },
    {
     "cell_type": "code",
     "collapsed": false,
     "input": [
      "cluster.get_center()\n",
      "cluster.cumulative_angle()\n",
      "cluster.oio['trajs'] = cluster.trajs\n",
      "\n",
      "segments = cluster.trajs.get_segments()\n"
     ],
     "language": "python",
     "metadata": {},
     "outputs": [],
     "prompt_number": 52
    },
    {
     "cell_type": "code",
     "collapsed": false,
     "input": [
      "%pdb"
     ],
     "language": "python",
     "metadata": {},
     "outputs": [
      {
       "output_type": "stream",
       "stream": "stdout",
       "text": [
        "Automatic pdb calling has been turned ON\n"
       ]
      }
     ],
     "prompt_number": 8
    },
    {
     "cell_type": "code",
     "collapsed": false,
     "input": [
      "sizes = np.arange(8, 22, 4) * cluster.metadata['TimeIncrement']"
     ],
     "language": "python",
     "metadata": {},
     "outputs": [],
     "prompt_number": 6
    },
    {
     "cell_type": "code",
     "collapsed": false,
     "input": [
      "for size in sizes:\n",
      "    print(size)\n",
      "    cluster.compute_ellipticity(size, method='cartesian')"
     ],
     "language": "python",
     "metadata": {},
     "outputs": [
      {
       "output_type": "stream",
       "stream": "stdout",
       "text": [
        "24.0\n",
        "36.0"
       ]
      },
      {
       "output_type": "stream",
       "stream": "stdout",
       "text": [
        "\n",
        "48.0"
       ]
      },
      {
       "output_type": "stream",
       "stream": "stdout",
       "text": [
        "\n",
        "60.0"
       ]
      },
      {
       "output_type": "stream",
       "stream": "stdout",
       "text": [
        "\n"
       ]
      }
     ],
     "prompt_number": 8
    },
    {
     "cell_type": "code",
     "collapsed": false,
     "input": [
      "from sktracker.trajectories import draw\n"
     ],
     "language": "python",
     "metadata": {},
     "outputs": [],
     "prompt_number": 72
    },
    {
     "cell_type": "code",
     "collapsed": false,
     "input": [
      "axes = draw.plot_stacked_coords(cluster.trajs, coords=['x_pca', 'y_pca', 'z_pca'])"
     ],
     "language": "python",
     "metadata": {},
     "outputs": [],
     "prompt_number": 86
    },
    {
     "cell_type": "code",
     "collapsed": false,
     "input": [
      "settings_json = 'ellipsis_cutoffs.json'\n",
      "\n",
      "setter_widget = ct.ui.ipy_widgets.set_ellipsis_limits(jsonfile=settings_json)\n",
      "ellipsis_cutoffs = setter_widget.settings\n",
      "display.display(setter_widget)"
     ],
     "language": "python",
     "metadata": {},
     "outputs": [],
     "prompt_number": 9
    },
    {
     "cell_type": "code",
     "collapsed": false,
     "input": [
      "\n",
      "cluster.detect_rotations(ellipsis_cutoffs)\n",
      "ct.graphics.show_ellipses_clusters(cluster, sizes, ellipsis_cutoffs)\n",
      "ax, total_rot, n_detected = ct.graphics.plot_rotation_events(cluster, ax=None,\n",
      "                                                             show_segments=True)\n",
      "print(ellipsis_cutoffs)"
     ],
     "language": "python",
     "metadata": {},
     "outputs": [
      {
       "output_type": "stream",
       "stream": "stdout",
       "text": [
        "{'min_gof': 0, 'min_radius': 5, 'min_dtheta': 45.0, 'max_radius': 60, 'max_ellipticity': 3, 'max_dtheta': 720.0}\n"
       ]
      }
     ],
     "prompt_number": 54
    },
    {
     "cell_type": "code",
     "collapsed": false,
     "input": [
      "cluster.trajs.get_colors()"
     ],
     "language": "python",
     "metadata": {},
     "outputs": [
      {
       "metadata": {},
       "output_type": "pyout",
       "prompt_number": 11,
       "text": [
        "{1: 'g', 2: 'r', 3: 'c', 4: 'm', 5: 'y'}"
       ]
      }
     ],
     "prompt_number": 11
    },
    {
     "cell_type": "code",
     "collapsed": false,
     "input": [
      "segments = cluster.trajs.get_segments()"
     ],
     "language": "python",
     "metadata": {},
     "outputs": [],
     "prompt_number": 12
    },
    {
     "cell_type": "code",
     "collapsed": false,
     "input": [
      "from sktracker.trajectories import Trajectories"
     ],
     "language": "python",
     "metadata": {},
     "outputs": [],
     "prompt_number": 9
    },
    {
     "cell_type": "code",
     "collapsed": false,
     "input": [
      "ct.analysis"
     ],
     "language": "python",
     "metadata": {},
     "outputs": [
      {
       "metadata": {},
       "output_type": "pyout",
       "prompt_number": 6,
       "text": [
        "<module 'cell_tracker.analysis' from '/home/guillaume/Python/cell-tracker/cell_tracker/analysis.py'>"
       ]
      }
     ],
     "prompt_number": 6
    },
    {
     "cell_type": "code",
     "collapsed": false,
     "input": [
      "import cell_tracker.translation as translation"
     ],
     "language": "python",
     "metadata": {},
     "outputs": [],
     "prompt_number": 8
    },
    {
     "cell_type": "code",
     "collapsed": false,
     "input": [
      "window=3\n",
      "shift_frac = translation.shifted_speed(cluster, window)\n",
      "avg_frac = translation.averaged_frac(cluster, window)\n",
      "full_process = translation.processivity(cluster, window)\n",
      "x_process = translation.x_processivity(cluster, window)\n",
      "fwd_disp = translation.forward_displacement(cluster)\n"
     ],
     "language": "python",
     "metadata": {},
     "outputs": [],
     "prompt_number": 15
    },
    {
     "cell_type": "code",
     "collapsed": false,
     "input": [
      "\n",
      "def averaged_frac(cluster, window=15):\n",
      "    cluster.trajs = cluster.do_pca()\n",
      "    interpolated = cluster.trajs.time_interpolate(coords=['x_pca', 'y_pca', 'z_pca'], s=0)\n",
      "    speeds = interpolated[['v_x_pca', 'v_y_pca', 'v_z_pca', 't']]\n",
      "    speeds = speeds.sortlevel(level='t_stamp')\n",
      "    speeds['x_frac'] = speeds.v_x_pca/np.linalg.norm(speeds[['v_x_pca', 'v_y_pca', 'v_z_pca']],\n",
      "                                                     axis=1)\n",
      "    window = int(window / cluster.metadata['TimeIncrement'])\n",
      "    if window > 0:\n",
      "        speeds_ = speeds.groupby(level='label').apply(pd.rolling_mean, window, center=True)\n",
      "        speeds_['t'] = speeds['t']\n",
      "        speeds = speeds_\n",
      "    return speeds[['x_frac', 't']]\n",
      "\n",
      "def shifted_dif(df, coords, shift):\n",
      "    return df[coords].shift(-shift//2) - df[coords].shift(shift//2)\n",
      "\n",
      "def shifted_speed(cluster, window=1):\n",
      "    window = int(window / cluster.metadata['TimeIncrement'])\n",
      "    if window > 1:\n",
      "        shifted = cluster.trajs.groupby(level='label').apply(shifted_dif,\n",
      "                                                             ['x_pca', 'y_pca', 'z_pca'], window)\n",
      "\n",
      "        shifted['t'] = cluster.trajs.t\n",
      "        shifted['x_frac'] = shifted.x_pca/np.linalg.norm(shifted[['x_pca', 'y_pca', 'z_pca']],\n",
      "                                                         axis=1)\n",
      "    else:\n",
      "        return averaged_frac(cluster, window)\n",
      "    \n",
      "    return shifted[['t', 'x_frac']]\n",
      "\n",
      "def processivity(cluster, window=6):\n",
      "    window = int(window / cluster.metadata['TimeIncrement'])\n",
      "    if window < 2:\n",
      "        raise ValueError('''Time window is too small, must be at least {}'''\n",
      "                         .format(cluster.metadata['TimeIncrement']))\n",
      "    else:\n",
      "        cluster.trajs = Trajectories(\n",
      "            cluster.trajs.groupby(level='label').apply(ct.objects.compute_displacement,\n",
      "                                                       coords=['x', 'y', 'z']))\n",
      "    shifted = cluster.trajs.groupby(level='label').apply(shifted_dif,\n",
      "                                                         ['x', 'y', 'z', 'disp'], window)\n",
      "    shifted['processivity'] = np.linalg.norm(shifted[['x', 'y', 'z']], axis=1) / shifted['disp']\n",
      "    shifted['t'] = cluster.trajs.t\n",
      "    return shifted\n",
      "\n",
      "def x_processivity(cluster, window=6):\n",
      "    #window = int(window / cluster.metadata['TimeIncrement'])\n",
      "    cluster.trajs = Trajectories(\n",
      "        cluster.trajs.groupby(level='label').apply(ct.objects.compute_displacement,\n",
      "                                                   coords=['x', 'y', 'z']))\n",
      "    if not hasattr(cluster.trajs, 'x_pca'):\n",
      "        cluster.do_pca()\n",
      "    shifted = cluster.trajs.groupby(level='label').apply(shifted_dif,\n",
      "                                                         ['x_pca', 'disp'], window)\n",
      "    shifted['processivity'] = shifted['x_pca'] / shifted['disp']\n",
      "    shifted['t'] = cluster.trajs.t\n",
      "    return shifted\n",
      "\n"
     ],
     "language": "python",
     "metadata": {},
     "outputs": [],
     "prompt_number": 18
    },
    {
     "cell_type": "code",
     "collapsed": false,
     "input": [
      "shifted = x_processivity(cluster, window=5)"
     ],
     "language": "python",
     "metadata": {},
     "outputs": [],
     "prompt_number": 10
    },
    {
     "cell_type": "code",
     "collapsed": false,
     "input": [
      "def show_process(cluster, shifted, errorbar=True,\n",
      "                 show_segments=False, ax=None, **kwargs):\n",
      "    if ax is None:\n",
      "        fig, ax = plt.subplots()\n",
      "    if errorbar:\n",
      "        ax.errorbar(shifted.t.mean(level='t_stamp'), \n",
      "                    shifted.processivity.mean(level='t_stamp'),\n",
      "                    yerr=shifted.processivity.std(level='t_stamp'), **kwargs)\n",
      "    \n",
      "    else:\n",
      "        ax.plot(shifted.t.mean(level='t_stamp'), \n",
      "                shifted.processivity.mean(level='t_stamp'),  **kwargs)\n",
      "        \n",
      "    if not show_segments:\n",
      "        return ax\n",
      "    colors = cluster.trajs.get_colors()\n",
      "    for label in cluster.trajs.labels:\n",
      "        sub_data = shifted.xs(label, level='label')\n",
      "        ax.plot(sub_data.t, sub_data.processivity, '-', c=colors[label], alpha=0.2)\n",
      "    return ax"
     ],
     "language": "python",
     "metadata": {},
     "outputs": [],
     "prompt_number": 12
    },
    {
     "cell_type": "code",
     "collapsed": false,
     "input": [
      "show_process(cluster, shifted, errorbar=True,\n",
      "                 show_segments=True, ax=None, c='k', lw=2, alpha=0.8)"
     ],
     "language": "python",
     "metadata": {},
     "outputs": [
      {
       "metadata": {},
       "output_type": "pyout",
       "prompt_number": 13,
       "text": [
        "<matplotlib.axes._subplots.AxesSubplot at 0x7f7d400bf790>"
       ]
      }
     ],
     "prompt_number": 13
    },
    {
     "cell_type": "code",
     "collapsed": false,
     "input": [
      "speeds = shifted_speed(cluster, window=15)\n",
      "\n",
      "def show_x_frac(cluster, speeds, errorbar=True,\n",
      "                show_segments=False, ax=None, **kwargs):\n",
      "    if ax is None:\n",
      "        fig, ax = plt.subplots()\n",
      "    if errorbar:\n",
      "        ax.errorbar(speeds.t.mean(level='t_stamp'), \n",
      "                    speeds.x_frac.mean(level='t_stamp'),\n",
      "                    yerr=speeds.x_frac.std(level='t_stamp'), **kwargs)\n",
      "    \n",
      "    else:\n",
      "        ax.plot(speeds.t.mean(level='t_stamp'), \n",
      "                speeds.x_frac.mean(level='t_stamp'),  **kwargs)\n",
      "        \n",
      "    if not show_segments:\n",
      "        return ax\n",
      "    \n",
      "    for label in cluster.trajs.labels:\n",
      "        sub_data = speeds.xs(label, level='label')\n",
      "        ax.plot(sub_data.t, sub_data.x_frac, '-', c=colors[label], alpha=0.2)\n",
      "    return ax"
     ],
     "language": "python",
     "metadata": {},
     "outputs": [],
     "prompt_number": 20
    },
    {
     "cell_type": "code",
     "collapsed": false,
     "input": [
      "cluster.oio.store_path"
     ],
     "language": "python",
     "metadata": {},
     "outputs": [
      {
       "metadata": {},
       "output_type": "pyout",
       "prompt_number": 200,
       "text": [
        "'/home/guillaume/Projets/CellMigration/20140313-ArmGFP-NLSred-WT-S1.h5'"
       ]
      }
     ],
     "prompt_number": 200
    },
    {
     "cell_type": "code",
     "collapsed": false,
     "input": [
      "windows = np.arange(2, 10, 2)\n",
      "fig, axes = plt.subplots(len(windows), 1, sharex=True)\n",
      "import os\n",
      "for ax, window in zip(axes, windows):\n",
      "    shifted = x_processivity(cluster, window)\n",
      "    label = os.path.basename(cluster.oio.store_path).replace('.h5', '')\n",
      "    ax = show_process(cluster, shifted, errorbar=True,\n",
      "                      show_segments=True,\n",
      "                      label=label,\n",
      "                      ax=ax, c='k', lw=2, alpha=0.8)\n",
      "    ax.set_title('Window size {} min'.format(window * cluster.metadata['TimeIncrement']))\n",
      "\n",
      "    ax.set_ylim(0, 1)\n",
      "ax.legend(loc='lower_left')\n"
     ],
     "language": "python",
     "metadata": {},
     "outputs": [
      {
       "metadata": {},
       "output_type": "pyout",
       "prompt_number": 17,
       "text": [
        "<matplotlib.legend.Legend at 0x7f7d50032710>"
       ]
      }
     ],
     "prompt_number": 17
    },
    {
     "cell_type": "code",
     "collapsed": false,
     "input": [],
     "language": "python",
     "metadata": {},
     "outputs": []
    },
    {
     "cell_type": "code",
     "collapsed": false,
     "input": [
      "windows = np.arange(6, 31, 6)\n",
      "fig, axes = plt.subplots(len(windows), 1, sharex=True)\n",
      "\n",
      "for ax, window in zip(axes, windows):\n",
      "    speeds_sh = shifted_speed(cluster, window)\n",
      "    speeds_avg = averaged_frac(cluster, window)\n",
      "    ax = show_x_frac(cluster, speeds_avg, errorbar=False,\n",
      "                     show_segments=False, ax=ax, ls='-', \n",
      "                     lw=1, c='r', alpha=0.8, label='Averaged')\n",
      "    ax = show_x_frac(cluster, speeds_sh, errorbar=False,\n",
      "                     show_segments=False, ax=ax, ls='-', \n",
      "                     lw=1, c='b', alpha=0.8, label='Shifted')\n",
      "    \n",
      "    ax.set_title('Window size {} min'.format(window * cluster.metadata['TimeIncrement']))\n",
      "\n",
      "    ax.set_ylim(0, 1)\n",
      "ax.legend(loc='lower_left')"
     ],
     "language": "python",
     "metadata": {},
     "outputs": [
      {
       "metadata": {},
       "output_type": "pyout",
       "prompt_number": 21,
       "text": [
        "<matplotlib.legend.Legend at 0x7f7d38c45d90>"
       ]
      }
     ],
     "prompt_number": 21
    },
    {
     "cell_type": "code",
     "collapsed": false,
     "input": [
      "shifted.head()"
     ],
     "language": "python",
     "metadata": {},
     "outputs": [
      {
       "html": [
        "<div style=\"max-height:1000px;max-width:1500px;overflow:auto;\">\n",
        "<table border=\"1\" class=\"dataframe\">\n",
        "  <thead>\n",
        "    <tr style=\"text-align: right;\">\n",
        "      <th></th>\n",
        "      <th></th>\n",
        "      <th>x_pca</th>\n",
        "      <th>y_pca</th>\n",
        "      <th>z_pca</th>\n",
        "      <th>t</th>\n",
        "      <th>x_frac</th>\n",
        "    </tr>\n",
        "    <tr>\n",
        "      <th>t_stamp</th>\n",
        "      <th>label</th>\n",
        "      <th></th>\n",
        "      <th></th>\n",
        "      <th></th>\n",
        "      <th></th>\n",
        "      <th></th>\n",
        "    </tr>\n",
        "  </thead>\n",
        "  <tbody>\n",
        "    <tr>\n",
        "      <th rowspan=\"5\" valign=\"top\">1</th>\n",
        "      <th>1</th>\n",
        "      <td> 10.989208</td>\n",
        "      <td> 4.160015</td>\n",
        "      <td>-0.196635</td>\n",
        "      <td> 0</td>\n",
        "      <td> 0.935101</td>\n",
        "    </tr>\n",
        "    <tr>\n",
        "      <th>2</th>\n",
        "      <td>  6.476112</td>\n",
        "      <td>-3.120143</td>\n",
        "      <td> 0.105651</td>\n",
        "      <td> 0</td>\n",
        "      <td> 0.900795</td>\n",
        "    </tr>\n",
        "    <tr>\n",
        "      <th>3</th>\n",
        "      <td> 11.298032</td>\n",
        "      <td>-1.803873</td>\n",
        "      <td> 0.039612</td>\n",
        "      <td> 0</td>\n",
        "      <td> 0.987487</td>\n",
        "    </tr>\n",
        "    <tr>\n",
        "      <th>4</th>\n",
        "      <td> 10.591714</td>\n",
        "      <td>-0.911659</td>\n",
        "      <td> 0.006145</td>\n",
        "      <td> 0</td>\n",
        "      <td> 0.996316</td>\n",
        "    </tr>\n",
        "    <tr>\n",
        "      <th>5</th>\n",
        "      <td>  2.423191</td>\n",
        "      <td> 1.596096</td>\n",
        "      <td>-0.070348</td>\n",
        "      <td> 0</td>\n",
        "      <td> 0.834872</td>\n",
        "    </tr>\n",
        "  </tbody>\n",
        "</table>\n",
        "</div>"
       ],
       "metadata": {},
       "output_type": "pyout",
       "prompt_number": 129,
       "text": [
        "                   x_pca     y_pca     z_pca  t    x_frac\n",
        "t_stamp label                                            \n",
        "1       1      10.989208  4.160015 -0.196635  0  0.935101\n",
        "        2       6.476112 -3.120143  0.105651  0  0.900795\n",
        "        3      11.298032 -1.803873  0.039612  0  0.987487\n",
        "        4      10.591714 -0.911659  0.006145  0  0.996316\n",
        "        5       2.423191  1.596096 -0.070348  0  0.834872"
       ]
      }
     ],
     "prompt_number": 129
    },
    {
     "cell_type": "code",
     "collapsed": false,
     "input": [
      "\n",
      "plt.figure()\n",
      "for label in cluster.trajs.labels:\n",
      "    sub_data = shifted.xs(label, level='label')\n",
      "    plt.plot(sub_data.t, sub_data.x_frac, '-', c=colors[label], alpha=0.5)\n",
      "\n",
      "plt.plot(shifted.t.mean(level='t_stamp'), shifted.x_frac.mean(level='t_stamp'),\n",
      "         'k-', alpha=1, lw=2)"
     ],
     "language": "python",
     "metadata": {},
     "outputs": [
      {
       "metadata": {},
       "output_type": "pyout",
       "prompt_number": 130,
       "text": [
        "[<matplotlib.lines.Line2D at 0x7f1af675b2d0>]"
       ]
      }
     ],
     "prompt_number": 130
    },
    {
     "cell_type": "code",
     "collapsed": false,
     "input": [
      "label = 2\n",
      "\n",
      "segment = segments[label]\n",
      "\n",
      "\n",
      "axes, ax_3d = None, None\n",
      "colors = cluster.trajs.get_colors()\n",
      "coords = ['x', 'y', 'z']\n",
      "\n",
      "scatter_kw = {'c': segment.t.astype(np.float),\n",
      "              'cmap': 'spectral',\n",
      "              's': 40,\n",
      "              'alpha': 0.8,\n",
      "              'edgecolors': 'none'}\n",
      "line_kw = {'c': 'gray',#tracker.label_colors[label],\n",
      "           'ls': '-',\n",
      "           'alpha': 0.8,\n",
      "           'lw': 0.75}\n",
      "ellipsis_kw = {'c':'r', 'alpha': 0.5, 'lw': 0.75}\n",
      "\n",
      "#for label in cluster.trajs.labels:\n",
      "axes, ax_3d = ct.graphics.show_4panel_ellipses(cluster, label,\n",
      "                                               sizes,\n",
      "                                               ellipsis_cutoffs,\n",
      "                                               method='cartesian',\n",
      "                                               scatter_kw=scatter_kw,\n",
      "                                               line_kw=line_kw,\n",
      "                                               ellipsis_kw=ellipsis_kw,\n",
      "                                               axes=axes, ax_3d=ax_3d)"
     ],
     "language": "python",
     "metadata": {},
     "outputs": [],
     "prompt_number": 53
    },
    {
     "cell_type": "code",
     "collapsed": false,
     "input": [
      "def get_mock_ellipsis_segment(radius=30, dtheta=4*np.pi/3,\n",
      "                              ellipticity=1.5,\n",
      "                              noise=1e-4, n_points=10,\n",
      "                              t_step=3, rotation=None):\n",
      "\n",
      "    a = 2 * radius /(1 + ellipticity)\n",
      "    b = 2 * radius /(1 + 1/ellipticity)\n",
      "    t_stamps = np.arange(n_points)\n",
      "    ts = t_stamps * t_step\n",
      "    omega = dtheta / ts.max()\n",
      "    phi_y, x0, y0 = 0, 0, 0\n",
      "    xs = a * np.cos(omega * ts)\n",
      "    ys = b * np.sin(omega * ts)\n",
      "    zs = np.zeros(xs.size)\n",
      "    x_err = np.random.normal(scale=noise*radius, size=xs.size)\n",
      "    y_err = np.random.normal(scale=noise*radius, size=xs.size)\n",
      "    z_err = np.random.normal(scale=noise*radius, size=xs.size)\n",
      "\n",
      "    xs += x_err\n",
      "    ys += y_err\n",
      "    zs += z_err\n",
      "    segment = pd.DataFrame(index=pd.Index(t_stamps, name='t_stamp'),\n",
      "                           data=np.vstack([xs, ys, zs, x_err, y_err, ts]).T,\n",
      "                           columns=['x', 'y', 'z', 'x_err', 'y_err', 't'])\n",
      "    \n",
      "    print(a, b, omega)\n",
      "    return segment\n"
     ],
     "language": "python",
     "metadata": {},
     "outputs": [],
     "prompt_number": 33
    },
    {
     "cell_type": "code",
     "collapsed": false,
     "input": [
      "def test_simple_ellipis_fit():\n",
      "\n",
      "    segment =  get_mock_ellipsis_segment()\n",
      "    start = segment.index[0]\n",
      "    stop = segment.index[-1]\n",
      "    fit_data, components, rotated = ct.analysis.fit_arc_ellipse(segment,\n",
      "                                                                start, stop,\n",
      "                                                                ['x', 'y', 'z'],\n",
      "                                                                method='cartesian',\n",
      "                                                                return_rotated=True)\n",
      "\n",
      "    assert fit_data is not None\n",
      "    chi2 = np.exp(-fit_data['gof'])\n",
      "    np.testing.assert_almost_equal(chi2, 0, decimal=3)\n",
      "\n"
     ],
     "language": "python",
     "metadata": {},
     "outputs": [],
     "prompt_number": 12
    },
    {
     "cell_type": "code",
     "collapsed": false,
     "input": [
      "test_simple_ellipis_fit()\n"
     ],
     "language": "python",
     "metadata": {},
     "outputs": [
      {
       "output_type": "stream",
       "stream": "stdout",
       "text": [
        "24.0 36.0 0.155140377955\n",
        "[33.336436779285357, 23.97533741336122, 0.0, 0, 0, 0.17979998367641736, 0]\n",
        "[ 33.85903249  26.93723901  -0.91533834   7.0314056   -7.85551407\n",
        "   0.1551148    1.900087  ]"
       ]
      },
      {
       "output_type": "stream",
       "stream": "stdout",
       "text": [
        "\n"
       ]
      }
     ],
     "prompt_number": 124
    },
    {
     "cell_type": "code",
     "collapsed": false,
     "input": [
      "from scipy.optimize import leastsq"
     ],
     "language": "python",
     "metadata": {},
     "outputs": [],
     "prompt_number": 80
    },
    {
     "cell_type": "code",
     "collapsed": false,
     "input": [
      "%pdb"
     ],
     "language": "python",
     "metadata": {},
     "outputs": [
      {
       "output_type": "stream",
       "stream": "stdout",
       "text": [
        "Automatic pdb calling has been turned ON\n"
       ]
      }
     ],
     "prompt_number": 83
    },
    {
     "cell_type": "code",
     "collapsed": false,
     "input": [
      "fit_output = leastsq(residuals_cartesian, [32, 38, 0, 0, 0, 0, -0.17],\n",
      "                     [segment.x, segment.y, segment.t],\n",
      "                     full_output=1)\n"
     ],
     "language": "python",
     "metadata": {},
     "outputs": [],
     "prompt_number": 121
    },
    {
     "cell_type": "code",
     "collapsed": false,
     "input": [
      "(fit_output[2]['fvec']**2).sum()"
     ],
     "language": "python",
     "metadata": {},
     "outputs": [
      {
       "metadata": {},
       "output_type": "pyout",
       "prompt_number": 122,
       "text": [
        "0.00012516007211162378"
       ]
      }
     ],
     "prompt_number": 122
    },
    {
     "cell_type": "code",
     "collapsed": false,
     "input": [
      "segment =  get_mock_ellipsis_segment()\n"
     ],
     "language": "python",
     "metadata": {},
     "outputs": [
      {
       "output_type": "stream",
       "stream": "stdout",
       "text": [
        "24.0 36.0 0.155140377955\n"
       ]
      }
     ],
     "prompt_number": 34
    },
    {
     "cell_type": "code",
     "collapsed": false,
     "input": [
      "res = residuals_cartesian([24, 36, 0, 0, 0, 0, 0.155], [segment.x, segment.y, segment.t.values])"
     ],
     "language": "python",
     "metadata": {},
     "outputs": [],
     "prompt_number": 111
    },
    {
     "cell_type": "code",
     "collapsed": false,
     "input": [
      "np.square(res).sum()"
     ],
     "language": "python",
     "metadata": {},
     "outputs": [
      {
       "metadata": {},
       "output_type": "pyout",
       "prompt_number": 112,
       "text": [
        "0.049334628507929176"
       ]
      }
     ],
     "prompt_number": 112
    },
    {
     "cell_type": "code",
     "collapsed": false,
     "input": [
      "fit_y - y"
     ],
     "language": "python",
     "metadata": {},
     "outputs": [
      {
       "metadata": {},
       "output_type": "pyout",
       "prompt_number": 114,
       "text": [
        "t_stamp\n",
        "0         -0.001253\n",
        "1         -0.014083\n",
        "2         -0.015615\n",
        "3         -0.010631\n",
        "4          0.015735\n",
        "5          0.049364\n",
        "6          0.091320\n",
        "7          0.104932\n",
        "8          0.102114\n",
        "9          0.067933\n",
        "dtype: float64"
       ]
      }
     ],
     "prompt_number": 114
    },
    {
     "cell_type": "code",
     "collapsed": false,
     "input": [
      "plt.figure()\n",
      "plt.plot(x, y, '-ro')\n",
      "plt.plot(fit_x, fit_y, '-ko')\n",
      "\n",
      "plt.figure()\n",
      "#plt.plot(x, fit_x, '-ro')\n",
      "plt.plot(y - fit_y, '-ko')\n"
     ],
     "language": "python",
     "metadata": {},
     "outputs": [
      {
       "metadata": {},
       "output_type": "pyout",
       "prompt_number": 116,
       "text": [
        "[<matplotlib.lines.Line2D at 0x7f050b6ddbd0>]"
       ]
      }
     ],
     "prompt_number": 116
    },
    {
     "cell_type": "code",
     "collapsed": false,
     "input": [
      "\n",
      "\n",
      "x, y, t =  [segment.x, segment.y, segment.t]\n",
      "fit_x, fit_y = ellipsis_cartes(t, 24, 36, 0.155,0, 0, 0, 0)"
     ],
     "language": "python",
     "metadata": {},
     "outputs": [],
     "prompt_number": 107
    },
    {
     "cell_type": "code",
     "collapsed": false,
     "input": [
      "fit_x"
     ],
     "language": "python",
     "metadata": {},
     "outputs": [
      {
       "metadata": {},
       "output_type": "pyout",
       "prompt_number": 103,
       "text": [
        "t_stamp\n",
        "0          24.000000\n",
        "1          21.451718\n",
        "2          14.348016\n",
        "3           4.197414\n",
        "4          -6.844537\n",
        "5         -16.433004\n",
        "6         -22.531810\n",
        "7         -23.845831\n",
        "8         -20.096026\n",
        "9         -12.078692\n",
        "Name: t, dtype: float64"
       ]
      }
     ],
     "prompt_number": 103
    },
    {
     "cell_type": "code",
     "collapsed": false,
     "input": [
      "plt.figure()\n",
      "plt.plot(segment.x, segment.y, '-o')\n",
      "plt.plot(x_fit, y_fit, '-o')\n"
     ],
     "language": "python",
     "metadata": {},
     "outputs": [
      {
       "metadata": {},
       "output_type": "pyout",
       "prompt_number": 36,
       "text": [
        "[<matplotlib.lines.Line2D at 0x7f051007fd10>]"
       ]
      }
     ],
     "prompt_number": 36
    },
    {
     "cell_type": "code",
     "collapsed": false,
     "input": [
      "interp = cluster.trajs.time_interpolate(time_step=1, coords=['x', 'y', 'z'], s=1)\n",
      "interp.shape, interp.dropna().shape"
     ],
     "language": "python",
     "metadata": {},
     "outputs": [
      {
       "metadata": {},
       "output_type": "pyout",
       "prompt_number": 95,
       "text": [
        "((515, 10), (515, 10))"
       ]
      }
     ],
     "prompt_number": 95
    },
    {
     "cell_type": "code",
     "collapsed": false,
     "input": [
      "def residuals_cartesian(params, data):\n",
      "\n",
      "    #a, b, phi_y, x0, y0, omega, phi_y_x = params\n",
      "    a, b, phi_x, phi_y, x0, y0, omega = params\n",
      "    x, y, t = data\n",
      "    fit_x, fit_y = ellipsis_cartes(t, a, b, omega, phi_x, phi_y, x0, y0)\n",
      "    res_x = x - fit_x\n",
      "    res_y = y - fit_y\n",
      "    return np.hstack([res_x, res_y])#x, y, fit_x, fit_y\n"
     ],
     "language": "python",
     "metadata": {},
     "outputs": [],
     "prompt_number": 101
    },
    {
     "cell_type": "code",
     "collapsed": false,
     "input": [
      "def ellipsis_cartes(t, a, b, omega, phi_x, phi_y, x0, y0):\n",
      "\n",
      "    thetas_x = omega * t + phi_x\n",
      "    thetas_y = omega * t + phi_y\n",
      "    x = a * np.cos(thetas_x) + x0\n",
      "    y = b * np.sin(thetas_y) + y0\n",
      "    return x, y\n"
     ],
     "language": "python",
     "metadata": {},
     "outputs": [],
     "prompt_number": 96
    },
    {
     "cell_type": "code",
     "collapsed": false,
     "input": [
      "for size in sizes:\n",
      "    print(size)\n",
      "    cluster.compute_ellipticity(size=size, cutoffs=ellipsis_cutoffs,\n",
      "                                coords=['x_r', 'y_r', 'z_r'])"
     ],
     "language": "python",
     "metadata": {},
     "outputs": [
      {
       "output_type": "stream",
       "stream": "stdout",
       "text": [
        "30\n",
        "45"
       ]
      },
      {
       "output_type": "stream",
       "stream": "stdout",
       "text": [
        "\n",
        "60"
       ]
      },
      {
       "output_type": "stream",
       "stream": "stdout",
       "text": [
        "\n",
        "90"
       ]
      },
      {
       "output_type": "stream",
       "stream": "stdout",
       "text": [
        "\n",
        "120\n"
       ]
      }
     ],
     "prompt_number": 114
    },
    {
     "cell_type": "code",
     "collapsed": false,
     "input": [
      "%pdb\n"
     ],
     "language": "python",
     "metadata": {},
     "outputs": [
      {
       "output_type": "stream",
       "stream": "stdout",
       "text": [
        "Automatic pdb calling has been turned ON\n"
       ]
      }
     ],
     "prompt_number": 51
    },
    {
     "cell_type": "code",
     "collapsed": false,
     "input": [
      "ct.graphics.show_ellipses_clusters(cluster, sizes, ellipsis_cutoffs)"
     ],
     "language": "python",
     "metadata": {},
     "outputs": [],
     "prompt_number": 18
    },
    {
     "cell_type": "code",
     "collapsed": false,
     "input": [
      "plt.figure()\n",
      "\n",
      "for size in sizes:\n",
      "    ell = cluster.ellipses[size]\n",
      "\n",
      "    ell['center_dist'] = np.sqrt(ell.y_ec**2 + ell.y_ec**2 + ell.z_ec**2)\n",
      "    plt.scatter(ell.radius, ell.center_dist, c=ell.good, s=size)\n",
      "    "
     ],
     "language": "python",
     "metadata": {},
     "outputs": [],
     "prompt_number": 23
    },
    {
     "cell_type": "code",
     "collapsed": false,
     "input": [
      "cluster.detect_rotations(ellipsis_cutoffs)"
     ],
     "language": "python",
     "metadata": {},
     "outputs": [],
     "prompt_number": 20
    },
    {
     "cell_type": "code",
     "collapsed": false,
     "input": [
      "ct.graphics.plot_rotation_events(cluster, show_segments=True);"
     ],
     "language": "python",
     "metadata": {},
     "outputs": [],
     "prompt_number": 117
    },
    {
     "cell_type": "code",
     "collapsed": false,
     "input": [],
     "language": "python",
     "metadata": {},
     "outputs": [
      {
       "metadata": {},
       "output_type": "pyout",
       "prompt_number": 85,
       "text": [
        "{1: 'g', 2: 'r', 3: 'c', 4: 'm', 5: 'y', 6: 'k'}"
       ]
      }
     ],
     "prompt_number": 85
    },
    {
     "cell_type": "code",
     "collapsed": false,
     "input": [
      "cluster.detected_rotations"
     ],
     "language": "python",
     "metadata": {},
     "outputs": [
      {
       "metadata": {},
       "output_type": "pyout",
       "prompt_number": 35,
       "text": [
        "t_stamp  label\n",
        "1        1        0\n",
        "         2        0\n",
        "         3        1\n",
        "         4        1\n",
        "         5        0\n",
        "2        1        0\n",
        "         2        1\n",
        "         3        1\n",
        "         4        1\n",
        "         5        0\n",
        "3        1        0\n",
        "         2        1\n",
        "         3        1\n",
        "         4        1\n",
        "         5        0\n",
        "...\n",
        "32       1        0\n",
        "         2        0\n",
        "         3        1\n",
        "         4        0\n",
        "         5        1\n",
        "33       1        0\n",
        "         2        0\n",
        "         3        1\n",
        "         4        0\n",
        "         5        0\n",
        "34       1        0\n",
        "         2        0\n",
        "         3        1\n",
        "         4        0\n",
        "         5        0\n",
        "Length: 170, dtype: int64"
       ]
      }
     ],
     "prompt_number": 35
    },
    {
     "cell_type": "code",
     "collapsed": false,
     "input": [
      "fit_output, components, rotated = ct.analysis.fit_arc_ellipse(segment,\n",
      "                                                              1, 8, ['x_r', 'y_r', 'z_r'],\n",
      "                                                              return_rotated=True)"
     ],
     "language": "python",
     "metadata": {},
     "outputs": [],
     "prompt_number": 102
    },
    {
     "cell_type": "code",
     "collapsed": false,
     "input": [
      "rotated.shape"
     ],
     "language": "python",
     "metadata": {},
     "outputs": [
      {
       "metadata": {},
       "output_type": "pyout",
       "prompt_number": 103,
       "text": [
        "(8, 3)"
       ]
      }
     ],
     "prompt_number": 103
    },
    {
     "cell_type": "code",
     "collapsed": false,
     "input": [
      "params = fit_output[0]\n",
      "\n",
      "a, b, phi_y, x0, y0 = params\n",
      "x = rotated.x\n",
      "y =  rotated.y\n",
      "thetas = np.arctan2(y-y0, x-x0)\n",
      "rhos = np.hypot(x-x0, y-y0)\n",
      "#fit_rhos = ellipse_radius(thetas, a, b, phi_x, phi_y)\n",
      "fit_thetas = np.linspace(0, 2*np.pi, 200)\n",
      "fit_rhos_atpnt = ct.analysis.ellipse_radius(thetas, a, b, phi_y)\n",
      "fit_rhos_full = ct.analysis.ellipse_radius(fit_thetas, a, b, phi_y)\n"
     ],
     "language": "python",
     "metadata": {},
     "outputs": [],
     "prompt_number": 108
    },
    {
     "cell_type": "code",
     "collapsed": false,
     "input": [
      "fig = plt.figure()\n",
      "ax = fig.add_subplot(111, projection='polar')\n",
      "plt.plot(thetas, rhos, 'ko-')\n",
      "plt.plot(thetas, fit_rhos_atpnt, 'go')\n",
      "\n",
      "plt.plot(fit_thetas, fit_rhos_full, '-')\n"
     ],
     "language": "python",
     "metadata": {},
     "outputs": [
      {
       "metadata": {},
       "output_type": "pyout",
       "prompt_number": 113,
       "text": [
        "[<matplotlib.lines.Line2D at 0x7f1ff8e05750>]"
       ]
      }
     ],
     "prompt_number": 113
    },
    {
     "cell_type": "code",
     "collapsed": false,
     "input": [
      "segment.t"
     ],
     "language": "python",
     "metadata": {},
     "outputs": [
      {
       "metadata": {},
       "output_type": "pyout",
       "prompt_number": 95,
       "text": [
        "t_stamp  label\n",
        "1        6         4\n",
        "2        6         8\n",
        "3        6        12\n",
        "4        6        16\n",
        "5        6        20\n",
        "6        6        24\n",
        "7        6        28\n",
        "8        6        32\n",
        "9        6        36\n",
        "10       6        40\n",
        "11       6        44\n",
        "12       6        48\n",
        "13       6        52\n",
        "14       6        56\n",
        "15       6        60\n",
        "16       6        64\n",
        "Name: t, dtype: int64"
       ]
      }
     ],
     "prompt_number": 95
    },
    {
     "cell_type": "code",
     "collapsed": false,
     "input": [
      "log = logging.getLogger('cell_tracker.graphics')\n"
     ],
     "language": "python",
     "metadata": {},
     "outputs": [],
     "prompt_number": 30
    },
    {
     "cell_type": "code",
     "collapsed": false,
     "input": [
      "print(ellipsis_cutoffs)"
     ],
     "language": "python",
     "metadata": {},
     "outputs": [
      {
       "output_type": "stream",
       "stream": "stdout",
       "text": [
        "{'max_ellipticity': 3.0, 'min_dtheta': 30.0, 'min_radius': 5.0, 'min_gof': -1.0, 'max_radius': 60.0, 'max_dtheta': 720.0}\n"
       ]
      }
     ],
     "prompt_number": 40
    },
    {
     "cell_type": "code",
     "collapsed": false,
     "input": [
      "%pdb"
     ],
     "language": "python",
     "metadata": {},
     "outputs": [
      {
       "output_type": "stream",
       "stream": "stdout",
       "text": [
        "Automatic pdb calling has been turned ON\n"
       ]
      }
     ],
     "prompt_number": 45
    },
    {
     "cell_type": "code",
     "collapsed": false,
     "input": [
      "ells = {}\n",
      "for size in sizes:\n",
      "    print(size)\n",
      "    ells[size] = ct.analysis.Ellipses(size, ellipsis_cutoffs, segment,\n",
      "                                      data=cluster.ellipses[size].xs(label, level='label'))\n",
      "    idxs = ells[size].good_indices(ellipsis_cutoffs)\n",
      "    print(idxs)\n",
      "    for idx in ells[size].good_indices(ellipsis_cutoffs):\n",
      "        sub_data = ells[size].data.loc[idx]\n",
      "        print(idx)\n",
      "        print('\\t', sub_data[['chi2', 'radius', 'dtheta']], '\\n')\n",
      "        "
     ],
     "language": "python",
     "metadata": {},
     "outputs": [
      {
       "output_type": "stream",
       "stream": "stdout",
       "text": [
        "30\n",
        "Int64Index([10, 11], dtype='int64')\n",
        "10\n",
        "\t chi2      0.289294\n",
        "radius    4.644052\n",
        "dtheta    4.825541\n",
        "Name: 10, dtype: float64 \n",
        "\n",
        "11\n",
        "\t chi2      0.125782\n",
        "radius    5.918786\n",
        "dtheta    4.898181\n",
        "Name: 11, dtype: float64 \n",
        "\n",
        "45\n",
        "Int64Index([9], dtype='int64')\n",
        "9\n",
        "\t chi2      0.898584\n",
        "radius    7.101237\n",
        "dtheta    3.094863\n",
        "Name: 9, dtype: float64 \n",
        "\n",
        "60\n",
        "Int64Index([], dtype='int64')\n",
        "90\n",
        "Int64Index([], dtype='int64')\n",
        "120\n",
        "Int64Index([], dtype='int64')\n"
       ]
      }
     ],
     "prompt_number": 68
    },
    {
     "cell_type": "code",
     "collapsed": false,
     "input": [
      "size= 45\n",
      "idx = 8\n",
      "ells[size].data.loc[idx]"
     ],
     "language": "python",
     "metadata": {},
     "outputs": [
      {
       "metadata": {},
       "output_type": "pyout",
       "prompt_number": 67,
       "text": [
        "start           3.000000\n",
        "stop           14.000000\n",
        "ellipticity     2.658675\n",
        "chi2            1.651252\n",
        "dtheta          1.530083\n",
        "theta_i         1.994228\n",
        "theta_f         0.905156\n",
        "r0_x            0.483398\n",
        "r0_y           -0.874549\n",
        "r0_z            0.038615\n",
        "r1_x            0.658084\n",
        "r1_y            0.333952\n",
        "r1_z           -0.674835\n",
        "a              17.487142\n",
        "b               6.577389\n",
        "phi_y           0.409121\n",
        "x0            -10.728800\n",
        "y0              7.952583\n",
        "gof            -0.501534\n",
        "radius         12.032266\n",
        "good            1.000000\n",
        "Name: 8, dtype: float64"
       ]
      }
     ],
     "prompt_number": 67
    },
    {
     "cell_type": "code",
     "collapsed": false,
     "input": [
      "\n",
      "import numpy as np\n",
      "import pandas as pd\n",
      "from cell_tracker.analysis import fit_arc_ellipse\n",
      "\n",
      "\n",
      "def get_mock_segment(radius=30, dtheta=4*np.pi/3,\n",
      "                     ellipticity=1.5,\n",
      "                     noise=1e-4, n_points=10,\n",
      "                     t_step=3, rotation=None):\n",
      "    \n",
      "    a = 2 * radius /(1 + ellipticity)\n",
      "    b = 2 * radius /(1 + 1/ellipticity)\n",
      "    print(a, b)\n",
      "    t_stamps = np.arange(n_points)\n",
      "    ts = t_stamps * t_step\n",
      "    omega = dtheta / ts.max()\n",
      "    phi_y, x0, y0 = 0, 0, 0\n",
      "    xs = a * np.cos(omega * ts)\n",
      "    ys = b * np.sin(omega * ts)\n",
      "    zs = np.zeros(xs.size)\n",
      "    x_err = np.random.normal(scale=noise*radius, size=xs.size)\n",
      "    y_err = np.random.normal(scale=noise*radius, size=xs.size)\n",
      "    z_err = np.random.normal(scale=noise*radius, size=xs.size)\n",
      "\n",
      "    xs += x_err\n",
      "    ys += y_err\n",
      "    zs += z_err\n",
      "    segment = pd.DataFrame(index=pd.Index(t_stamps, name='t_stamp'),\n",
      "                           data=np.vstack([xs, ys, zs, x_err, y_err, ts]).T,\n",
      "                           columns=['x', 'y', 'z', 'x_err', 'y_err', 't'])\n",
      "    return segment\n",
      "\n",
      "\n",
      "\n",
      "def test_simple_ellipis_fit_polar():\n",
      "\n",
      "    segment =  get_mock_segment()\n",
      "    start = segment.index[0]\n",
      "    stop = segment.index[-1]\n",
      "    fit_data, components = fit_arc_ellipse(segment,\n",
      "                                           start, stop,\n",
      "                                           ['x', 'y', 'z'],\n",
      "                                           method='polar',\n",
      "                                           return_rotated=False)\n",
      "    assert fit_data is not None\n",
      "    \n",
      "    chi2 = np.exp(-fit_data['gof'])\n",
      "    np.testing.assert_almost_equal(chi2, 0, decimal=3)\n",
      "    return segment, fit_data, rotated\n",
      "\n",
      "    \n",
      "    \n",
      "def test_simple_ellipis_fit_cartesian():\n",
      "\n",
      "    segment =  get_mock_segment()\n",
      "    start = segment.index[0]\n",
      "    stop = segment.index[-1]\n",
      "    fit_data, components, rotated = fit_arc_ellipse(segment,\n",
      "                                                    start, stop,\n",
      "                                                    ['x', 'y', 'z'],\n",
      "                                                    method='cartesian',\n",
      "                                                    return_rotated=True)\n",
      "    assert fit_data is not None\n",
      "    \n",
      "    chi2 = np.exp(-fit_data['gof'])\n",
      "    try :\n",
      "        np.testing.assert_almost_equal(chi2, 0, decimal=3)\n",
      "    except:\n",
      "        print('Failed')\n",
      "    return segment, fit_data, rotated\n",
      "\n"
     ],
     "language": "python",
     "metadata": {},
     "outputs": [],
     "prompt_number": 3
    },
    {
     "cell_type": "code",
     "collapsed": false,
     "input": [
      "%pdb"
     ],
     "language": "python",
     "metadata": {},
     "outputs": [
      {
       "output_type": "stream",
       "stream": "stdout",
       "text": [
        "Automatic pdb calling has been turned ON\n"
       ]
      }
     ],
     "prompt_number": 29
    },
    {
     "cell_type": "code",
     "collapsed": false,
     "input": [
      "from cell_tracker.analysis import ellipsis_cartes\n",
      "ts = np.arange(0, 10) * 3\n",
      "x, y = ellipsis_cartes(ts, 24, 36, -0.16, 0, 0, 0)\n",
      "plt.plot(x, y, 'o')"
     ],
     "language": "python",
     "metadata": {},
     "outputs": [
      {
       "metadata": {},
       "output_type": "pyout",
       "prompt_number": 116,
       "text": [
        "[<matplotlib.lines.Line2D at 0x7fe0000d8610>]"
       ]
      }
     ],
     "prompt_number": 116
    },
    {
     "cell_type": "code",
     "collapsed": false,
     "input": [
      "segment, fit_data, rotated = test_simple_ellipis_fit_cartesian()\n",
      "\n",
      "#segment, fit_data, rotated = test_simple_ellipis_fit_polar()"
     ],
     "language": "python",
     "metadata": {},
     "outputs": [
      {
       "output_type": "stream",
       "stream": "stdout",
       "text": [
        "24.0 36.0\n",
        "Failed"
       ]
      },
      {
       "output_type": "stream",
       "stream": "stdout",
       "text": [
        "\n"
       ]
      }
     ],
     "prompt_number": 5
    },
    {
     "cell_type": "code",
     "collapsed": false,
     "input": [
      "fit_data.gof\n"
     ],
     "language": "python",
     "metadata": {},
     "outputs": [
      {
       "metadata": {},
       "output_type": "pyout",
       "prompt_number": 8,
       "text": [
        "-1.802894719111761"
       ]
      }
     ],
     "prompt_number": 8
    },
    {
     "cell_type": "code",
     "collapsed": false,
     "input": [
      "from cell_tracker.analysis import ellipsis_radius, ellipsis_cartes\n",
      "from sklearn.decomposition import PCA"
     ],
     "language": "python",
     "metadata": {},
     "outputs": [],
     "prompt_number": 17
    },
    {
     "cell_type": "code",
     "collapsed": false,
     "input": [
      "fit_data.b"
     ],
     "language": "python",
     "metadata": {},
     "outputs": [
      {
       "metadata": {},
       "output_type": "pyout",
       "prompt_number": 92,
       "text": [
        "20.026640881271604"
       ]
      }
     ],
     "prompt_number": 92
    },
    {
     "cell_type": "code",
     "collapsed": false,
     "input": [
      "sub_data = fit_data\n",
      "\n",
      "thetas = np.linspace(sub_data.theta_i,\n",
      "                     sub_data.theta_f,\n",
      "                     100)\n",
      "\n",
      "\n",
      "rhos = ellipsis_radius(thetas, sub_data.a, sub_data.b,\n",
      "                      sub_data.phi)\n",
      "\n",
      "xs = rhos * np.cos(thetas) + sub_data.x0\n",
      "ys = rhos * np.sin(thetas) + sub_data.y0\n",
      "zs = np.ones_like(rhos) * sub_data.z0\n",
      "segdata = segment[['x', 'y', 'z']]\n",
      "pca = PCA()\n",
      "pca.fit(segdata)\n",
      "ellipsis_fit_r = pca.inverse_transform(np.vstack((xs, ys, zs)).T)\n"
     ],
     "language": "python",
     "metadata": {},
     "outputs": [],
     "prompt_number": 20
    },
    {
     "cell_type": "code",
     "collapsed": false,
     "input": [
      " #ts = np.linspace(segment.t.iloc[0], segment.t.iloc[-1])\n",
      "ts = segment.t\n",
      "\n",
      "xs, ys = ellipsis_cartes(ts, fit_data.a, fit_data.b, fit_data.omega, fit_data.phi,\n",
      "                       fit_data.x0, fit_data.y0)\n",
      "\n",
      "zs = np.ones_like(xs) * sub_data.z0\n",
      "ellipsis_fit_c = pca.inverse_transform(np.vstack((xs, ys, zs)).T)\n",
      "\n"
     ],
     "language": "python",
     "metadata": {},
     "outputs": [],
     "prompt_number": 27
    },
    {
     "cell_type": "code",
     "collapsed": false,
     "input": [
      "plt.figure()\n",
      "plt.plot(segment.x, segment.y, 'ko')\n",
      "\n",
      "plt.plot(ellipsis_fit_c[:, 0], ellipsis_fit_c[:, 1], 'ro-')\n",
      "plt.plot(ellipsis_fit_r[:, 0], ellipsis_fit_r[:, 1], 'ro-')\n",
      "\n"
     ],
     "language": "python",
     "metadata": {},
     "outputs": [
      {
       "metadata": {},
       "output_type": "pyout",
       "prompt_number": 28,
       "text": [
        "[<matplotlib.lines.Line2D at 0x7fb5c80c13d0>]"
       ]
      }
     ],
     "prompt_number": 28
    },
    {
     "cell_type": "code",
     "collapsed": false,
     "input": [
      "plt.figure()\n",
      "plt.plot(rotated.x, rotated.y, 'ko')\n",
      "plt.plot(xs, ys, 'r-')\n"
     ],
     "language": "python",
     "metadata": {},
     "outputs": [
      {
       "metadata": {},
       "output_type": "pyout",
       "prompt_number": 131,
       "text": [
        "[<matplotlib.lines.Line2D at 0x7fdfffe89890>]"
       ]
      }
     ],
     "prompt_number": 131
    },
    {
     "cell_type": "code",
     "collapsed": false,
     "input": [
      "fit_data.omega\n"
     ],
     "language": "python",
     "metadata": {},
     "outputs": [
      {
       "metadata": {},
       "output_type": "pyout",
       "prompt_number": 68,
       "text": [
        "0.1415743541624235"
       ]
      }
     ],
     "prompt_number": 68
    },
    {
     "cell_type": "code",
     "collapsed": false,
     "input": [
      "fit_output, components, rotated = ct.analysis.fit_arc_ellipse(segment,\n",
      "                                                              1, 8, ['x', 'y', 'z'],\n",
      "                                                              return_rotated=True)"
     ],
     "language": "python",
     "metadata": {},
     "outputs": [],
     "prompt_number": 123
    },
    {
     "cell_type": "code",
     "collapsed": false,
     "input": [
      "np.testing.assert_almost_equal(chi2, 0, decimal=3)"
     ],
     "language": "python",
     "metadata": {},
     "outputs": [
      {
       "ename": "AssertionError",
       "evalue": "",
       "output_type": "pyerr",
       "traceback": [
        "\u001b[1;31m---------------------------------------------------------------------------\u001b[0m\n\u001b[1;31mAssertionError\u001b[0m                            Traceback (most recent call last)",
        "\u001b[1;32m<ipython-input-146-19cb8920205b>\u001b[0m in \u001b[0;36m<module>\u001b[1;34m()\u001b[0m\n\u001b[1;32m----> 1\u001b[1;33m \u001b[1;32massert\u001b[0m \u001b[0mnp\u001b[0m\u001b[1;33m.\u001b[0m\u001b[0mtesting\u001b[0m\u001b[1;33m.\u001b[0m\u001b[0massert_almost_equal\u001b[0m\u001b[1;33m(\u001b[0m\u001b[0mchi2\u001b[0m\u001b[1;33m,\u001b[0m \u001b[1;36m0\u001b[0m\u001b[1;33m,\u001b[0m \u001b[0mdecimal\u001b[0m\u001b[1;33m=\u001b[0m\u001b[1;36m3\u001b[0m\u001b[1;33m)\u001b[0m\u001b[1;33m\u001b[0m\u001b[0m\n\u001b[0m",
        "\u001b[1;31mAssertionError\u001b[0m: "
       ]
      },
      {
       "output_type": "stream",
       "stream": "stdout",
       "text": [
        "> \u001b[1;32m<ipython-input-146-19cb8920205b>\u001b[0m(1)\u001b[0;36m<module>\u001b[1;34m()\u001b[0m\n",
        "\u001b[1;32m----> 1 \u001b[1;33m\u001b[1;32massert\u001b[0m \u001b[0mnp\u001b[0m\u001b[1;33m.\u001b[0m\u001b[0mtesting\u001b[0m\u001b[1;33m.\u001b[0m\u001b[0massert_almost_equal\u001b[0m\u001b[1;33m(\u001b[0m\u001b[0mchi2\u001b[0m\u001b[1;33m,\u001b[0m \u001b[1;36m0\u001b[0m\u001b[1;33m,\u001b[0m \u001b[0mdecimal\u001b[0m\u001b[1;33m=\u001b[0m\u001b[1;36m3\u001b[0m\u001b[1;33m)\u001b[0m\u001b[1;33m\u001b[0m\u001b[0m\n",
        "\u001b[0m\n"
       ]
      },
      {
       "name": "stdout",
       "output_type": "stream",
       "stream": "stdout",
       "text": [
        "ipdb> c\n"
       ]
      }
     ],
     "prompt_number": 146
    },
    {
     "cell_type": "code",
     "collapsed": false,
     "input": [
      "chi2 = np.square(fit_output[2]['fvec']).sum()\n",
      "\n"
     ],
     "language": "python",
     "metadata": {},
     "outputs": [],
     "prompt_number": 142
    },
    {
     "cell_type": "code",
     "collapsed": false,
     "input": [
      "start = segment.index[0]\n"
     ],
     "language": "python",
     "metadata": {},
     "outputs": [],
     "prompt_number": 135
    },
    {
     "cell_type": "code",
     "collapsed": false,
     "input": [
      "plt.figure?"
     ],
     "language": "python",
     "metadata": {},
     "outputs": [],
     "prompt_number": 147
    },
    {
     "cell_type": "code",
     "collapsed": false,
     "input": [
      "start"
     ],
     "language": "python",
     "metadata": {},
     "outputs": [
      {
       "metadata": {},
       "output_type": "pyout",
       "prompt_number": 136,
       "text": [
        "0"
       ]
      }
     ],
     "prompt_number": 136
    },
    {
     "cell_type": "code",
     "collapsed": false,
     "input": [
      "components\n",
      "\n",
      "\n"
     ],
     "language": "python",
     "metadata": {},
     "outputs": [
      {
       "metadata": {},
       "output_type": "pyout",
       "prompt_number": 137,
       "text": [
        "array([[ -9.82951483e-01,  -1.83865112e-01,   5.24504351e-05],\n",
        "       [ -1.83865097e-01,   9.82951464e-01,   2.15772494e-04],\n",
        "       [  9.12292657e-05,  -2.02450089e-04,   9.99999975e-01]])"
       ]
      }
     ],
     "prompt_number": 137
    },
    {
     "cell_type": "code",
     "collapsed": false,
     "input": [
      "np.abs(np.round(components))"
     ],
     "language": "python",
     "metadata": {},
     "outputs": [
      {
       "metadata": {},
       "output_type": "pyout",
       "prompt_number": 141,
       "text": [
        "array([[ 1.,  0.,  0.],\n",
        "       [ 0.,  1.,  0.],\n",
        "       [ 0.,  0.,  1.]])"
       ]
      }
     ],
     "prompt_number": 141
    },
    {
     "cell_type": "code",
     "collapsed": false,
     "input": [
      "y2 = getattr('y')"
     ],
     "language": "python",
     "metadata": {},
     "outputs": [
      {
       "ename": "TypeError",
       "evalue": "getattr expected at least 2 arguments, got 1",
       "output_type": "pyerr",
       "traceback": [
        "\u001b[1;31m---------------------------------------------------------------------------\u001b[0m\n\u001b[1;31mTypeError\u001b[0m                                 Traceback (most recent call last)",
        "\u001b[1;32m<ipython-input-149-f44769be11d0>\u001b[0m in \u001b[0;36m<module>\u001b[1;34m()\u001b[0m\n\u001b[1;32m----> 1\u001b[1;33m \u001b[0my2\u001b[0m \u001b[1;33m=\u001b[0m \u001b[0mgetattr\u001b[0m\u001b[1;33m(\u001b[0m\u001b[1;34m'y'\u001b[0m\u001b[1;33m)\u001b[0m\u001b[1;33m\u001b[0m\u001b[0m\n\u001b[0m",
        "\u001b[1;31mTypeError\u001b[0m: getattr expected at least 2 arguments, got 1"
       ]
      },
      {
       "output_type": "stream",
       "stream": "stdout",
       "text": [
        "> \u001b[1;32m<ipython-input-149-f44769be11d0>\u001b[0m(1)\u001b[0;36m<module>\u001b[1;34m()\u001b[0m\n",
        "\u001b[1;32m----> 1 \u001b[1;33m\u001b[0my2\u001b[0m \u001b[1;33m=\u001b[0m \u001b[0mgetattr\u001b[0m\u001b[1;33m(\u001b[0m\u001b[1;34m'y'\u001b[0m\u001b[1;33m)\u001b[0m\u001b[1;33m\u001b[0m\u001b[0m\n",
        "\u001b[0m\n"
       ]
      },
      {
       "name": "stdout",
       "output_type": "stream",
       "stream": "stdout",
       "text": [
        "ipdb> c\n"
       ]
      }
     ],
     "prompt_number": 149
    },
    {
     "cell_type": "code",
     "collapsed": false,
     "input": [
      "from nose.tools import assert_raises\n",
      "from nose.tools import assert_dict_equal"
     ],
     "language": "python",
     "metadata": {},
     "outputs": [],
     "prompt_number": 1
    },
    {
     "cell_type": "code",
     "collapsed": false,
     "input": [
      "assert_raises?"
     ],
     "language": "python",
     "metadata": {},
     "outputs": [],
     "prompt_number": 2
    },
    {
     "cell_type": "code",
     "collapsed": false,
     "input": [],
     "language": "python",
     "metadata": {},
     "outputs": []
    },
    {
     "cell_type": "code",
     "collapsed": false,
     "input": [],
     "language": "python",
     "metadata": {},
     "outputs": []
    }
   ],
   "metadata": {}
  }
 ]
}