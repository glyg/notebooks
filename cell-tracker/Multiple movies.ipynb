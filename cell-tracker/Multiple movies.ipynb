{
 "metadata": {
  "name": "",
  "signature": "sha256:7bc57abae88df2aee3cfe961f57eb328911ceffd335d71fc0f6b427d7701a443"
 },
 "nbformat": 3,
 "nbformat_minor": 0,
 "worksheets": [
  {
   "cells": [
    {
     "cell_type": "heading",
     "level": 1,
     "metadata": {},
     "source": [
      "Working with multiple movies in the same excel file"
     ]
    },
    {
     "cell_type": "code",
     "collapsed": false,
     "input": [
      "%load_ext autoreload\n",
      "%autoreload 2"
     ],
     "language": "python",
     "metadata": {},
     "outputs": [],
     "prompt_number": 1
    },
    {
     "cell_type": "code",
     "collapsed": false,
     "input": [
      "### The library used for plotting\n",
      "%matplotlib qt\n",
      "### This imports various dependencies\n",
      "%run nb_init.py\n",
      "#### \n",
      "import cell_tracker as ct\n"
     ],
     "language": "python",
     "metadata": {},
     "outputs": [
      {
       "output_type": "stream",
       "stream": "stderr",
       "text": [
        "2014-09-18 19:12:40:INFO:sktracker.utils.mpl_loader: Matplotlib backend 'Qt4Agg' has been loaded.\n"
       ]
      }
     ],
     "prompt_number": 2
    },
    {
     "cell_type": "heading",
     "level": 1,
     "metadata": {},
     "source": [
      "1. Load data"
     ]
    },
    {
     "cell_type": "markdown",
     "metadata": {},
     "source": [
      "You can load a single excel file containing several tracking, or several `.h5` or `.xlsx` (with a single movie) files at once. "
     ]
    },
    {
     "cell_type": "heading",
     "level": 2,
     "metadata": {},
     "source": [
      "1.1 Data layout in the excel file."
     ]
    },
    {
     "cell_type": "code",
     "collapsed": false,
     "input": [
      "display.SVG('multi_excel_layout.svg')"
     ],
     "language": "python",
     "metadata": {},
     "outputs": []
    },
    {
     "cell_type": "code",
     "collapsed": false,
     "input": [
      "print('An example of multiple dataset in a single excel file can be found here:')\n",
      "print('\\t', ct.data.multiple_xlsx())"
     ],
     "language": "python",
     "metadata": {},
     "outputs": []
    },
    {
     "cell_type": "heading",
     "level": 2,
     "metadata": {},
     "source": [
      "1.2 Loading the data"
     ]
    },
    {
     "cell_type": "code",
     "collapsed": false,
     "input": [
      "clusters = ct.ui.get_multiple_clusters('/media/data/AnneHDFStores/')"
     ],
     "language": "python",
     "metadata": {},
     "outputs": [
      {
       "output_type": "stream",
       "stream": "stdout",
       "text": [
        "Choosen data paths: :\n",
        " \n",
        "/media/data/AnneHDFStores/PA_Rac_T17N_260413_after.h5\n",
        "/media/data/AnneHDFStores/PA_Rac_T17N_260413_before.h5\n",
        "/media/data/AnneHDFStores/PA_Rac_150514_after.h5\n",
        "/media/data/AnneHDFStores/PA_Rac_T17N_170413_after.h5\n",
        "/media/data/AnneHDFStores/PA_Rac_T17N_170413_before.h5\n",
        "/media/data/AnneHDFStores/PA_Rac_150514_before.h5\n"
       ]
      }
     ],
     "prompt_number": 3
    },
    {
     "cell_type": "heading",
     "level": 2,
     "metadata": {},
     "source": [
      "1.3 Information on the loaded data"
     ]
    },
    {
     "cell_type": "code",
     "collapsed": false,
     "input": [
      "print(['{}'.format(key) for key in clusters.keys()], sep=',')"
     ],
     "language": "python",
     "metadata": {},
     "outputs": [
      {
       "output_type": "stream",
       "stream": "stdout",
       "text": [
        "['PA_Rac_T17N_260413_before', 'PA_Rac_T17N_260413_after', 'PA_Rac_150514_after', 'PA_Rac_T17N_170413_before', 'PA_Rac_T17N_170413_after', 'PA_Rac_150514_before']\n"
       ]
      }
     ],
     "prompt_number": 4
    },
    {
     "cell_type": "code",
     "collapsed": false,
     "input": [
      "for name, cluster in clusters.items():\n",
      "    print('Cluster {} has {} nuclei and {} time points'.format(name,\n",
      "                                                               cluster.trajs.labels.size,\n",
      "                                                               cluster.trajs.t_stamps.size))"
     ],
     "language": "python",
     "metadata": {},
     "outputs": [
      {
       "output_type": "stream",
       "stream": "stdout",
       "text": [
        "Cluster PA_Rac_T17N_260413_before has 4 nuclei and 11 time points\n",
        "Cluster PA_Rac_T17N_260413_after has 4 nuclei and 23 time points\n",
        "Cluster PA_Rac_150514_after has 5 nuclei and 14 time points\n",
        "Cluster PA_Rac_T17N_170413_before has 4 nuclei and 11 time points\n",
        "Cluster PA_Rac_T17N_170413_after has 4 nuclei and 21 time points\n",
        "Cluster PA_Rac_150514_before has 5 nuclei and 14 time points\n"
       ]
      }
     ],
     "prompt_number": 5
    },
    {
     "cell_type": "heading",
     "level": 2,
     "metadata": {},
     "source": [
      "1.4 Selecting the data to plot"
     ]
    },
    {
     "cell_type": "code",
     "collapsed": false,
     "input": [
      "interesting = [\n",
      "               #'20130724-240812WT',\n",
      "               'PA_Rac_T17N_170413_before', 'PA_Rac_T17N_170413_after',\n",
      "               'PA_Rac_150514_before', 'PA_Rac_150514_after',\n",
      "               #'dnpvr_rock_inhib1', 'dnpvr_rock_inhib2',\n",
      "               #'jnk_inhib_iono2', 'jnk_inhib_iono',\n",
      "               #'090813-2ROCKCA', '190813-ROCKRNAi'\n",
      "               ]\n",
      "for name in interesting:\n",
      "    if not name in clusters:\n",
      "        print('{} not found'.format(name))"
     ],
     "language": "python",
     "metadata": {},
     "outputs": [],
     "prompt_number": 9
    },
    {
     "cell_type": "heading",
     "level": 1,
     "metadata": {},
     "source": [
      "2. Basic computations"
     ]
    },
    {
     "cell_type": "heading",
     "level": 2,
     "metadata": {},
     "source": [
      "\n",
      "2.1 Computing done directly on the trajectories "
     ]
    },
    {
     "cell_type": "heading",
     "level": 3,
     "metadata": {},
     "source": [
      "( Here are various directionality and angular speeds quantifications )"
     ]
    },
    {
     "cell_type": "code",
     "collapsed": false,
     "input": [
      "### It is possible to super sample the data and apply smoothing factors\n",
      "### Usefull for noise reduction\n",
      "\n",
      "sampling = 1\n",
      "smooth = 100\n",
      "\n",
      "\n",
      "rotation_speeds = {}\n",
      "directionalities = {}\n",
      "detected_rotations = {}\n",
      "\n",
      "measure_pools = {}\n",
      "#clusters = bc_clusters\n",
      "for name in interesting:\n",
      "    \n",
      "    cluster = clusters[name]\n",
      "    \n",
      "    interp = cluster.trajs.time_interpolate(sampling=sampling, s=smooth)\n",
      "    measure_pool = pd.DataFrame(index=interp.index)\n",
      "\n",
      "    cluster.get_center(reset=True, save_droped='interpolated', trajs=interp)\n",
      "    \n",
      "    centered = Trajectories(interp[['x_r', 'y_r', 'z_r', 't']].values,\n",
      "                            index=interp.index, columns=['x', 'y', 'z', 't'])\n",
      "\n",
      "    rotated, pca = transformation.do_pca(interp, return_pca=True)\n",
      "    rotated = Trajectories(rotated).time_interpolate(sampling=1, s=0)\n",
      "    \n",
      "    measure_pool['forward_speed'] = rotated['v_x']\n",
      "    sld_dir = translation.sld_dir(rotated, window=6)\n",
      "    measure_pool['sld_dir'] = sld_dir.sld_dir\n",
      "\n",
      " \n",
      "    centered = centered.time_interpolate(sampling=1, s=0)\n",
      "    measure_pool['dir_shift'] = rotation.dir_shift(interp, shift=3, \n",
      "                                                   coords=['v_x', 'v_y', 'v_z']).dir_shift\n",
      "    \n",
      "    polar = rotation.get_polar_coords(centered)\n",
      "    r_speeds = rotation.radial_speed(polar, smooth=1).sortlevel(['t_stamp', 'label'])\n",
      "    r_speeds['ratio'] = np.abs(r_speeds['v_orad'])/np.hypot(r_speeds['v_rad'], r_speeds['v_orad'])\n",
      "    for col in r_speeds.columns:\n",
      "        measure_pool[col] = r_speeds[col]\n",
      "\n",
      "    \n",
      "    measure_pool['name'] = name\n",
      "    measure_pools[name] = measure_pool\n",
      "\n",
      "    \n",
      "measure_pools = pd.concat([mp for mp in measure_pools.values()])\n",
      "measure_pools.set_index('name', append=True, inplace=True, drop=False)\n",
      "measure_pools = measure_pools.swaplevel(\n",
      "    'name', 'label').swaplevel('name', 't_stamp').sortlevel('name')"
     ],
     "language": "python",
     "metadata": {},
     "outputs": [],
     "prompt_number": 10
    },
    {
     "cell_type": "heading",
     "level": 2,
     "metadata": {},
     "source": [
      "2.2 Assign colors to all clusters"
     ]
    },
    {
     "cell_type": "code",
     "collapsed": false,
     "input": [
      "import itertools\n",
      "\n",
      "cmap = plt.cm.get_cmap(name='nipy_spectral')\n",
      "idxs = np.linspace(0, 0.9, len(clusters.keys()))\n",
      "\n",
      "def get_hex(rgba):\n",
      "    rgba = np.round(np.array(rgba) * 255).astype('int')\n",
      "    return \"#\" + \"\".join(['{:02X}'.format(a) for a in rgba[:3]])\n",
      "\n",
      "ccycle = [get_hex(cmap(i)) for i in idxs]\n",
      "cluster_colors = {name: c for name, c in zip(interesting, ccycle)}\n",
      "measure_pools['color'] = [cluster_colors[name] for name in measure_pools['name']]\n"
     ],
     "language": "python",
     "metadata": {},
     "outputs": [],
     "prompt_number": 11
    },
    {
     "cell_type": "heading",
     "level": 3,
     "metadata": {},
     "source": [
      "3.4 Rolling average"
     ]
    },
    {
     "cell_type": "code",
     "collapsed": false,
     "input": [
      "window_size = 4\n",
      "\n",
      "\n",
      "rolling_meaned = measure_pools.groupby(level=['name', 'label']).apply(pd.rolling_mean,\n",
      "                                                                      window_size,\n",
      "                                                                      center=True)\n",
      "rolling_meaned = rolling_meaned.sortlevel(['name', 't_stamp', 'label'])\n",
      "rolling_meaned['color'] = measure_pools['color'].sortlevel(['name', 't_stamp', 'label'])\n",
      "rolling_meaned['t'] = measure_pools['t'].sortlevel(['name', 't_stamp', 'label'])\n"
     ],
     "language": "python",
     "metadata": {},
     "outputs": [
      {
       "ename": "ValueError",
       "evalue": "could not convert string to float: '#00D700'",
       "output_type": "pyerr",
       "traceback": [
        "\u001b[1;31m---------------------------------------------------------------------------\u001b[0m\n\u001b[1;31mValueError\u001b[0m                                Traceback (most recent call last)",
        "\u001b[1;32m<ipython-input-13-3c3928cf7a63>\u001b[0m in \u001b[0;36m<module>\u001b[1;34m()\u001b[0m\n\u001b[0;32m      4\u001b[0m rolling_meaned = measure_pools.groupby(level=['name', 'label']).apply(pd.rolling_mean,\n\u001b[0;32m      5\u001b[0m                                                                       \u001b[0mwindow_size\u001b[0m\u001b[1;33m,\u001b[0m\u001b[1;33m\u001b[0m\u001b[0m\n\u001b[1;32m----> 6\u001b[1;33m                                                                       center=True)\n\u001b[0m\u001b[0;32m      7\u001b[0m \u001b[0mrolling_meaned\u001b[0m \u001b[1;33m=\u001b[0m \u001b[0mrolling_meaned\u001b[0m\u001b[1;33m.\u001b[0m\u001b[0msortlevel\u001b[0m\u001b[1;33m(\u001b[0m\u001b[1;33m[\u001b[0m\u001b[1;34m'name'\u001b[0m\u001b[1;33m,\u001b[0m \u001b[1;34m't_stamp'\u001b[0m\u001b[1;33m,\u001b[0m \u001b[1;34m'label'\u001b[0m\u001b[1;33m]\u001b[0m\u001b[1;33m)\u001b[0m\u001b[1;33m\u001b[0m\u001b[0m\n\u001b[0;32m      8\u001b[0m \u001b[0mrolling_meaned\u001b[0m\u001b[1;33m[\u001b[0m\u001b[1;34m'color'\u001b[0m\u001b[1;33m]\u001b[0m \u001b[1;33m=\u001b[0m \u001b[0mmeasure_pools\u001b[0m\u001b[1;33m[\u001b[0m\u001b[1;34m'color'\u001b[0m\u001b[1;33m]\u001b[0m\u001b[1;33m.\u001b[0m\u001b[0msortlevel\u001b[0m\u001b[1;33m(\u001b[0m\u001b[1;33m[\u001b[0m\u001b[1;34m'name'\u001b[0m\u001b[1;33m,\u001b[0m \u001b[1;34m't_stamp'\u001b[0m\u001b[1;33m,\u001b[0m \u001b[1;34m'label'\u001b[0m\u001b[1;33m]\u001b[0m\u001b[1;33m)\u001b[0m\u001b[1;33m\u001b[0m\u001b[0m\n",
        "\u001b[1;32m/home/guillaume/anaconda/envs/python3/lib/python3.4/site-packages/pandas/core/groupby.py\u001b[0m in \u001b[0;36mapply\u001b[1;34m(self, func, *args, **kwargs)\u001b[0m\n\u001b[0;32m    635\u001b[0m             \u001b[1;32mreturn\u001b[0m \u001b[0mfunc\u001b[0m\u001b[1;33m(\u001b[0m\u001b[0mg\u001b[0m\u001b[1;33m,\u001b[0m \u001b[1;33m*\u001b[0m\u001b[0margs\u001b[0m\u001b[1;33m,\u001b[0m \u001b[1;33m**\u001b[0m\u001b[0mkwargs\u001b[0m\u001b[1;33m)\u001b[0m\u001b[1;33m\u001b[0m\u001b[0m\n\u001b[0;32m    636\u001b[0m \u001b[1;33m\u001b[0m\u001b[0m\n\u001b[1;32m--> 637\u001b[1;33m         \u001b[1;32mreturn\u001b[0m \u001b[0mself\u001b[0m\u001b[1;33m.\u001b[0m\u001b[0m_python_apply_general\u001b[0m\u001b[1;33m(\u001b[0m\u001b[0mf\u001b[0m\u001b[1;33m)\u001b[0m\u001b[1;33m\u001b[0m\u001b[0m\n\u001b[0m\u001b[0;32m    638\u001b[0m \u001b[1;33m\u001b[0m\u001b[0m\n\u001b[0;32m    639\u001b[0m     \u001b[1;32mdef\u001b[0m \u001b[0m_python_apply_general\u001b[0m\u001b[1;33m(\u001b[0m\u001b[0mself\u001b[0m\u001b[1;33m,\u001b[0m \u001b[0mf\u001b[0m\u001b[1;33m)\u001b[0m\u001b[1;33m:\u001b[0m\u001b[1;33m\u001b[0m\u001b[0m\n",
        "\u001b[1;32m/home/guillaume/anaconda/envs/python3/lib/python3.4/site-packages/pandas/core/groupby.py\u001b[0m in \u001b[0;36m_python_apply_general\u001b[1;34m(self, f)\u001b[0m\n\u001b[0;32m    639\u001b[0m     \u001b[1;32mdef\u001b[0m \u001b[0m_python_apply_general\u001b[0m\u001b[1;33m(\u001b[0m\u001b[0mself\u001b[0m\u001b[1;33m,\u001b[0m \u001b[0mf\u001b[0m\u001b[1;33m)\u001b[0m\u001b[1;33m:\u001b[0m\u001b[1;33m\u001b[0m\u001b[0m\n\u001b[0;32m    640\u001b[0m         keys, values, mutated = self.grouper.apply(f, self._selected_obj,\n\u001b[1;32m--> 641\u001b[1;33m                                                    self.axis)\n\u001b[0m\u001b[0;32m    642\u001b[0m \u001b[1;33m\u001b[0m\u001b[0m\n\u001b[0;32m    643\u001b[0m         return self._wrap_applied_output(keys, values,\n",
        "\u001b[1;32m/home/guillaume/anaconda/envs/python3/lib/python3.4/site-packages/pandas/core/groupby.py\u001b[0m in \u001b[0;36mapply\u001b[1;34m(self, f, data, axis)\u001b[0m\n\u001b[0;32m   1236\u001b[0m             \u001b[1;31m# group might be modified\u001b[0m\u001b[1;33m\u001b[0m\u001b[1;33m\u001b[0m\u001b[0m\n\u001b[0;32m   1237\u001b[0m             \u001b[0mgroup_axes\u001b[0m \u001b[1;33m=\u001b[0m \u001b[0m_get_axes\u001b[0m\u001b[1;33m(\u001b[0m\u001b[0mgroup\u001b[0m\u001b[1;33m)\u001b[0m\u001b[1;33m\u001b[0m\u001b[0m\n\u001b[1;32m-> 1238\u001b[1;33m             \u001b[0mres\u001b[0m \u001b[1;33m=\u001b[0m \u001b[0mf\u001b[0m\u001b[1;33m(\u001b[0m\u001b[0mgroup\u001b[0m\u001b[1;33m)\u001b[0m\u001b[1;33m\u001b[0m\u001b[0m\n\u001b[0m\u001b[0;32m   1239\u001b[0m             \u001b[1;32mif\u001b[0m \u001b[1;32mnot\u001b[0m \u001b[0m_is_indexed_like\u001b[0m\u001b[1;33m(\u001b[0m\u001b[0mres\u001b[0m\u001b[1;33m,\u001b[0m \u001b[0mgroup_axes\u001b[0m\u001b[1;33m)\u001b[0m\u001b[1;33m:\u001b[0m\u001b[1;33m\u001b[0m\u001b[0m\n\u001b[0;32m   1240\u001b[0m                 \u001b[0mmutated\u001b[0m \u001b[1;33m=\u001b[0m \u001b[1;32mTrue\u001b[0m\u001b[1;33m\u001b[0m\u001b[0m\n",
        "\u001b[1;32m/home/guillaume/anaconda/envs/python3/lib/python3.4/site-packages/pandas/core/groupby.py\u001b[0m in \u001b[0;36mf\u001b[1;34m(g)\u001b[0m\n\u001b[0;32m    633\u001b[0m         \u001b[1;33m@\u001b[0m\u001b[0mwraps\u001b[0m\u001b[1;33m(\u001b[0m\u001b[0mfunc\u001b[0m\u001b[1;33m)\u001b[0m\u001b[1;33m\u001b[0m\u001b[0m\n\u001b[0;32m    634\u001b[0m         \u001b[1;32mdef\u001b[0m \u001b[0mf\u001b[0m\u001b[1;33m(\u001b[0m\u001b[0mg\u001b[0m\u001b[1;33m)\u001b[0m\u001b[1;33m:\u001b[0m\u001b[1;33m\u001b[0m\u001b[0m\n\u001b[1;32m--> 635\u001b[1;33m             \u001b[1;32mreturn\u001b[0m \u001b[0mfunc\u001b[0m\u001b[1;33m(\u001b[0m\u001b[0mg\u001b[0m\u001b[1;33m,\u001b[0m \u001b[1;33m*\u001b[0m\u001b[0margs\u001b[0m\u001b[1;33m,\u001b[0m \u001b[1;33m**\u001b[0m\u001b[0mkwargs\u001b[0m\u001b[1;33m)\u001b[0m\u001b[1;33m\u001b[0m\u001b[0m\n\u001b[0m\u001b[0;32m    636\u001b[0m \u001b[1;33m\u001b[0m\u001b[0m\n\u001b[0;32m    637\u001b[0m         \u001b[1;32mreturn\u001b[0m \u001b[0mself\u001b[0m\u001b[1;33m.\u001b[0m\u001b[0m_python_apply_general\u001b[0m\u001b[1;33m(\u001b[0m\u001b[0mf\u001b[0m\u001b[1;33m)\u001b[0m\u001b[1;33m\u001b[0m\u001b[0m\n",
        "\u001b[1;32m/home/guillaume/anaconda/envs/python3/lib/python3.4/site-packages/pandas/stats/moments.py\u001b[0m in \u001b[0;36mf\u001b[1;34m(arg, window, min_periods, freq, center, how, **kwargs)\u001b[0m\n\u001b[0;32m    593\u001b[0m             \u001b[1;32mreturn\u001b[0m \u001b[0mfunc\u001b[0m\u001b[1;33m(\u001b[0m\u001b[0marg\u001b[0m\u001b[1;33m,\u001b[0m \u001b[0mwindow\u001b[0m\u001b[1;33m,\u001b[0m \u001b[0mminp\u001b[0m\u001b[1;33m,\u001b[0m \u001b[1;33m**\u001b[0m\u001b[0mkwds\u001b[0m\u001b[1;33m)\u001b[0m\u001b[1;33m\u001b[0m\u001b[0m\n\u001b[0;32m    594\u001b[0m         return _rolling_moment(arg, window, call_cython, min_periods, freq=freq,\n\u001b[1;32m--> 595\u001b[1;33m                                center=center, how=how, **kwargs)\n\u001b[0m\u001b[0;32m    596\u001b[0m \u001b[1;33m\u001b[0m\u001b[0m\n\u001b[0;32m    597\u001b[0m     \u001b[1;32mreturn\u001b[0m \u001b[0mf\u001b[0m\u001b[1;33m\u001b[0m\u001b[0m\n",
        "\u001b[1;32m/home/guillaume/anaconda/envs/python3/lib/python3.4/site-packages/pandas/stats/moments.py\u001b[0m in \u001b[0;36m_rolling_moment\u001b[1;34m(arg, window, func, minp, axis, freq, center, how, args, kwargs, **kwds)\u001b[0m\n\u001b[0;32m    340\u001b[0m     calc = lambda x: func(x, window, minp=minp, args=args, kwargs=kwargs,\n\u001b[0;32m    341\u001b[0m                           **kwds)\n\u001b[1;32m--> 342\u001b[1;33m     \u001b[0mreturn_hook\u001b[0m\u001b[1;33m,\u001b[0m \u001b[0mvalues\u001b[0m \u001b[1;33m=\u001b[0m \u001b[0m_process_data_structure\u001b[0m\u001b[1;33m(\u001b[0m\u001b[0marg\u001b[0m\u001b[1;33m)\u001b[0m\u001b[1;33m\u001b[0m\u001b[0m\n\u001b[0m\u001b[0;32m    343\u001b[0m     \u001b[1;31m# actually calculate the moment. Faster way to do this?\u001b[0m\u001b[1;33m\u001b[0m\u001b[1;33m\u001b[0m\u001b[0m\n\u001b[0;32m    344\u001b[0m     \u001b[1;32mif\u001b[0m \u001b[0mvalues\u001b[0m\u001b[1;33m.\u001b[0m\u001b[0mndim\u001b[0m \u001b[1;33m>\u001b[0m \u001b[1;36m1\u001b[0m\u001b[1;33m:\u001b[0m\u001b[1;33m\u001b[0m\u001b[0m\n",
        "\u001b[1;32m/home/guillaume/anaconda/envs/python3/lib/python3.4/site-packages/pandas/stats/moments.py\u001b[0m in \u001b[0;36m_process_data_structure\u001b[1;34m(arg, kill_inf)\u001b[0m\n\u001b[0;32m    389\u001b[0m \u001b[1;33m\u001b[0m\u001b[0m\n\u001b[0;32m    390\u001b[0m     \u001b[1;32mif\u001b[0m \u001b[1;32mnot\u001b[0m \u001b[0missubclass\u001b[0m\u001b[1;33m(\u001b[0m\u001b[0mvalues\u001b[0m\u001b[1;33m.\u001b[0m\u001b[0mdtype\u001b[0m\u001b[1;33m.\u001b[0m\u001b[0mtype\u001b[0m\u001b[1;33m,\u001b[0m \u001b[0mfloat\u001b[0m\u001b[1;33m)\u001b[0m\u001b[1;33m:\u001b[0m\u001b[1;33m\u001b[0m\u001b[0m\n\u001b[1;32m--> 391\u001b[1;33m         \u001b[0mvalues\u001b[0m \u001b[1;33m=\u001b[0m \u001b[0mvalues\u001b[0m\u001b[1;33m.\u001b[0m\u001b[0mastype\u001b[0m\u001b[1;33m(\u001b[0m\u001b[0mfloat\u001b[0m\u001b[1;33m)\u001b[0m\u001b[1;33m\u001b[0m\u001b[0m\n\u001b[0m\u001b[0;32m    392\u001b[0m \u001b[1;33m\u001b[0m\u001b[0m\n\u001b[0;32m    393\u001b[0m     \u001b[1;32mif\u001b[0m \u001b[0mkill_inf\u001b[0m\u001b[1;33m:\u001b[0m\u001b[1;33m\u001b[0m\u001b[0m\n",
        "\u001b[1;31mValueError\u001b[0m: could not convert string to float: '#00D700'"
       ]
      }
     ],
     "prompt_number": 13
    },
    {
     "cell_type": "heading",
     "level": 1,
     "metadata": {},
     "source": [
      "3. Data representation for the basic computations"
     ]
    },
    {
     "cell_type": "heading",
     "level": 3,
     "metadata": {},
     "source": [
      "3.1 Settings for data representation"
     ]
    },
    {
     "cell_type": "code",
     "collapsed": false,
     "input": [
      "\n",
      "nbins = 20\n",
      "\n",
      "limits = {'ratio': (0, 1),\n",
      "         'sld_dir': (-1, 1),\n",
      "         'v_theta': (-0.1, 0.1),\n",
      "         'forward_speed': (-1.5, 3),\n",
      "         'dir_shift': (-0.3, 0.3)}\n",
      "\n",
      "bins = {name: np.linspace(down, high, nbins)\n",
      "        for name, (down, high) in limits.items()}\n",
      "\n",
      "labels = {'ratio': 'Ortho radial to radial speed ratio',\n",
      "          'sld_dir': 'Directionnality',\n",
      "          'v_theta': 'Rotational speed (rad/s)',\n",
      "          'forward_speed': 'Forward speed (\u00b5m/s)',\n",
      "          'dir_shift': 'Directional shift (rad)'}\n",
      "\n",
      "intersting_cols = ['sld_dir', 'v_theta', 'forward_speed']"
     ],
     "language": "python",
     "metadata": {},
     "outputs": [],
     "prompt_number": 67
    },
    {
     "cell_type": "heading",
     "level": 2,
     "metadata": {},
     "source": [
      "3.1 Histogram of one measure"
     ]
    },
    {
     "cell_type": "heading",
     "level": 4,
     "metadata": {},
     "source": [
      "3.1.1 No rolling mean"
     ]
    },
    {
     "cell_type": "code",
     "collapsed": false,
     "input": [
      "measure = 'dir_shift'\n",
      "#measure = 'v_theta'\n",
      "#measure = 'forward_speed'\n",
      "\n",
      "\n",
      "plt.figure(figsize=(12, 4))\n",
      "\n",
      "num_cl = len(interesting)\n",
      "for i, name in enumerate(interesting):\n",
      "    width = 2 / (nbins * num_cl)\n",
      "    bins = np.linspace(-1, 1, nbins) + i * width\n",
      "    measure_pools.loc[name][measure].dropna().hist(bins=bins, alpha=0.7, #kind='kde',\n",
      "                                                   color=cluster_colors[name],\n",
      "                                                   label=name, width=width, edgecolor='none')\n",
      "\n",
      "ax = plt.gca()\n",
      "ax.set_xlim(-1, 1)\n",
      "\n",
      "### legend outside\n",
      "# Shrink current axis by 30%\n",
      "box = ax.get_position()\n",
      "ax.set_position([box.x0, box.y0, box.width * 0.5, box.height])\n",
      "ax.set_title('Direction shift')\n",
      "ax.legend(loc='center left', bbox_to_anchor=(1, 0.5))"
     ],
     "language": "python",
     "metadata": {},
     "outputs": []
    },
    {
     "cell_type": "heading",
     "level": 4,
     "metadata": {},
     "source": [
      "With rolling average"
     ]
    },
    {
     "cell_type": "code",
     "collapsed": false,
     "input": [
      "measure = 'dir_shift'\n",
      "\n",
      "plt.figure(figsize=(12, 4))\n",
      "\n",
      "num_cl = len(interesting)\n",
      "for i, name in enumerate(interesting):\n",
      "    width = 2 / (nbins * num_cl)\n",
      "    bins = np.linspace(-1, 1, nbins) + i * width\n",
      "    rolling_meaned.loc[name][measure].dropna().hist(bins=bins, alpha=0.7, #kind='kde',\n",
      "                                                    color=cluster_colors[name],\n",
      "                                                    label=name, width=width, edgecolor='none')\n",
      "\n",
      "ax = plt.gca()\n",
      "ax.set_xlim(-1, 1)\n",
      "\n",
      "### legend outside\n",
      "# Shrink current axis by 30%\n",
      "box = ax.get_position()\n",
      "ax.set_position([box.x0, box.y0, box.width * 0.5, box.height])\n",
      "ax.set_title('Direction shift')\n",
      "ax.legend(loc='center left', bbox_to_anchor=(1, 0.5))"
     ],
     "language": "python",
     "metadata": {},
     "outputs": []
    },
    {
     "cell_type": "heading",
     "level": 2,
     "metadata": {},
     "source": [
      "3.2 Stacked plots of different measures"
     ]
    },
    {
     "cell_type": "code",
     "collapsed": false,
     "input": [
      "fig, axes = plt.subplots(len(interesting_cols), 1, figsize=(6, 15))\n",
      "\n",
      "for name in interesting:\n",
      "    for ax, measure in zip(axes.flat, interesting_cols):\n",
      "        rolling_meaned.loc[name].dropna()[measure].plot(kind='kde', \n",
      "                                                       c=rolling_meaned.loc[name]['color'].iloc[0],\n",
      "                                                       ax=ax)\n",
      "        ax.set_xlabel(labels[measure])\n",
      "        ax.set_xlim(*limits[measure])    "
     ],
     "language": "python",
     "metadata": {},
     "outputs": []
    },
    {
     "cell_type": "heading",
     "level": 4,
     "metadata": {},
     "source": [
      "With rolling average"
     ]
    },
    {
     "cell_type": "code",
     "collapsed": false,
     "input": [
      "fig, axes = plt.subplots(len(interesting_cols), 1, figsize=(6, 15))\n",
      "\n",
      "for name in interesting:\n",
      "    for ax, measure in zip(axes.flat, interesting_cols):\n",
      "        rolling_meaned.loc[name].dropna()[measure].plot(kind='kde', \n",
      "                                                       c=rolling_meaned.loc[name]['color'].iloc[0],\n",
      "                                                       ax=ax)\n",
      "        ax.set_xlabel(labels[measure])\n",
      "        ax.set_xlim(*limits[measure])"
     ],
     "language": "python",
     "metadata": {},
     "outputs": []
    },
    {
     "cell_type": "heading",
     "level": 2,
     "metadata": {},
     "source": [
      "3.3 Scatter matrix"
     ]
    },
    {
     "cell_type": "code",
     "collapsed": false,
     "input": [
      "from pandas.tools.plotting import scatter_matrix\n",
      "\n",
      "axes = scatter_matrix(measure_pools.loc[interesting][interesting_cols],\n",
      "                      c=measure_pools.loc[interesting]['color'], \n",
      "                      alpha=0.2, s=100, figsize=(12, 12), diagonal='kde')\n",
      "\n",
      "plt.draw()"
     ],
     "language": "python",
     "metadata": {},
     "outputs": []
    },
    {
     "cell_type": "heading",
     "level": 3,
     "metadata": {},
     "source": [
      "3.4 Scatter matrix of the rolling averaged data"
     ]
    },
    {
     "cell_type": "code",
     "collapsed": false,
     "input": [
      "axes = scatter_matrix(rolling_meaned.loc[interesting], c=rolling_meaned.loc[interesting]['color'],\n",
      "                      alpha=0.2, s=100, figsize=(12, 12), diagonal='kde')"
     ],
     "language": "python",
     "metadata": {},
     "outputs": []
    },
    {
     "cell_type": "code",
     "collapsed": false,
     "input": [
      "\n",
      "plt.figure(figsize=(12, 6))\n",
      "\n",
      "for name in interesting:\n",
      "    rolling_meaned.loc[name].dropna()['dir_shift'].plot(kind='kde',\n",
      "                                                        c=rolling_meaned.loc[name]['color'].iloc[0],\n",
      "                                                        label=name)\n",
      "plt.legend()"
     ],
     "language": "python",
     "metadata": {},
     "outputs": []
    },
    {
     "cell_type": "code",
     "collapsed": false,
     "input": [
      "fig, axes = plt.subplots(len(data_cols), figsize=(9, 15))\n",
      "for ax, col in zip(axes, data_cols):\n",
      "    \n",
      "    for name in interesting:\n",
      "        rolling_meaned.loc[name].dropna()[col].hist(color=rolling_meaned.loc[name]['color'].iloc[0],\n",
      "                                                    bins=bins[col],\n",
      "                                                    label=name, ax=ax, alpha=0.5)\n",
      "    ax.set_xlabel(labels[col])\n",
      "plt.legend()\n",
      "fig, axes = plt.subplots(len(data_cols), figsize=(9, 15))\n",
      "\n",
      "for ax, col in zip(axes, data_cols):\n",
      "    \n",
      "    for name in interesting:\n",
      "        \n",
      "        ax.plot(rolling_meaned.loc[name].dropna()['t'].mean(level='t_stamp'),\n",
      "                rolling_meaned.loc[name].dropna()[col].mean(level='t_stamp'), \n",
      "                color=rolling_meaned.loc[name]['color'].iloc[0],\n",
      "                label=name, alpha=0.5)\n",
      "        ax.set_ylabel(labels[col])\n",
      "\n",
      "ax.set_xlabel('Time (min)')\n",
      "plt.legend(loc='lower right')"
     ],
     "language": "python",
     "metadata": {},
     "outputs": []
    },
    {
     "cell_type": "markdown",
     "metadata": {},
     "source": [
      "- - -"
     ]
    },
    {
     "cell_type": "markdown",
     "metadata": {},
     "source": [
      "- - -"
     ]
    },
    {
     "cell_type": "heading",
     "level": 1,
     "metadata": {},
     "source": [
      "4. Ellipsis fitting and rotation detection"
     ]
    },
    {
     "cell_type": "heading",
     "level": 2,
     "metadata": {},
     "source": [
      "4.1 Ellipsis fitting (skip if you loaded `.h5` files where it was allready done)"
     ]
    },
    {
     "cell_type": "markdown",
     "metadata": {},
     "source": [
      "If you run the cell above, you can go grab a coffee"
     ]
    },
    {
     "cell_type": "code",
     "collapsed": false,
     "input": [
      "### Ellipsis sizes\n",
      "sizes = np.arange(24, 66, 12)\n",
      "\n",
      "## Sampling and smoothing might defer for ellipsis fitting and the other computations\n",
      "\n",
      "### Set this to True if you want to recompute ellipses \n",
      "recompute_ellipses = False\n",
      "sampling = 1\n",
      "smooth = 3\n",
      "for name, cluster in clusters.items():\n",
      "    if not recompute_ellipses:\n",
      "        break\n",
      "    print('**************************')\n",
      "    print('Starting cluster {}'.format(name))\n",
      "    \n",
      "    interp = cluster.trajs.time_interpolate(sampling=sampling, s=smooth)\n",
      "    cluster.get_center(reset=True, save_droped='interpolated', trajs=interp)\n",
      "    centered = Trajectories(interp[['x_r', 'y_r', 'z_r', 't']].values,\n",
      "                            index=interp.index, columns=['x', 'y', 'z', 't'])\n",
      "    ### Fits ellipses and detect rotations\n",
      "    ### This might take some time\n",
      "    for size in sizes:\n",
      "        cluster.compute_ellipticity(size, trajs=centered,\n",
      "                                    coords=['x', 'y', 'z'])\n",
      "    print('**************************')\n",
      "    print('Finished cluster {}'.format(name))\n",
      "print('**************************')"
     ],
     "language": "python",
     "metadata": {},
     "outputs": []
    },
    {
     "cell_type": "heading",
     "level": 2,
     "metadata": {},
     "source": [
      "4.2 Rotation detection"
     ]
    },
    {
     "cell_type": "heading",
     "level": 3,
     "metadata": {},
     "source": [
      "4.2.1 Cutoffs"
     ]
    },
    {
     "cell_type": "code",
     "collapsed": false,
     "input": [
      "import json\n",
      "### You can change the name of the file bellow if you're using other cutoffs\n",
      "settings_json = 'ellipsis_cutoffs.json'\n",
      "\n",
      "ellipsis_cutoffs = json.load(open(settings_json))\n",
      "\n",
      "#### You can use a javascript widget to modify the settings (uncomment below)\n",
      "###\n",
      "# setter_widget = ct.ui.ipy_widgets.set_ellipsis_limits(jsonfile=settings_json)\n",
      "# ellipsis_cutoffs = setter_widget.settings\n",
      "# display.display(setter_widget)"
     ],
     "language": "python",
     "metadata": {},
     "outputs": []
    },
    {
     "cell_type": "code",
     "collapsed": false,
     "input": [
      "%pdb"
     ],
     "language": "python",
     "metadata": {},
     "outputs": []
    },
    {
     "cell_type": "heading",
     "level": 2,
     "metadata": {},
     "source": [
      "4.2.2 Settings for the ellipsis plotting"
     ]
    },
    {
     "cell_type": "code",
     "collapsed": false,
     "input": [
      "\n",
      "def plot_ellipses(cluster, label, name):\n",
      "    '''\n",
      "    Create a for panel plot.\n",
      "    \n",
      "    You can tweek the settings directly\n",
      "    \n",
      "    '''\n",
      "    colors = cluster.trajs.get_colors()\n",
      "    segments = cluster.trajs.get_segments()\n",
      "\n",
      "    ### Grab the corresponding segment\n",
      "    segment = segments[label]\n",
      "\n",
      "    ## Paramters for the scatter plot (the bullets)\n",
      "    ## The color can be a property, it's time by default\n",
      "    scatter_kw = {'c':segment.t.astype(np.float), \n",
      "                  'cmap':'spectral',\n",
      "                  's':40,\n",
      "                  'alpha':0.8,\n",
      "                  'edgecolors':'none'}\n",
      "\n",
      "    ## Paramters for the line plot \n",
      "    line_kw = {'c': 'gray',\n",
      "               'ls': '-',\n",
      "               'alpha': 0.8,\n",
      "               'lw': 0.75}\n",
      "\n",
      "    ## Parameters for the ellipses\n",
      "    ellipsis_kw = {'c':'k', 'alpha':1., 'lw':0.5}\n",
      "\n",
      "    axes, ax_3d = ct.graphics.show_4panel_ellipses(cluster,\n",
      "                                                   label,\n",
      "                                                   sizes,\n",
      "                                                   ellipsis_cutoffs,\n",
      "                                                   method='polar',\n",
      "                                                   scatter_kw=scatter_kw,\n",
      "                                                   line_kw=line_kw,\n",
      "                                                   show_centers=False,\n",
      "                                                   ellipsis_kw=ellipsis_kw,\n",
      "                                                   axes=None, ax_3d=None)\n",
      "\n",
      "    \n",
      "    ### Axes limits, the axes are synchronaized\n",
      "    axes[0, 0].set_xlim(-20, 20)\n",
      "    axes[0, 0].set_ylim(-20, 20)\n",
      "    ax_3d.set_xlim(-20, 20)\n",
      "    ax_3d.set_ylim(-20, 20)\n",
      "    ax_3d.set_zlim(-20, 20)\n",
      "    \n",
      "    \n",
      "    fig = axes[0, 0].get_figure()\n",
      "    fig.set_size_inches(10, 10)\n",
      "    plt.savefig('/home/guillaume/Bureau/graphs_anne/{}_lbl_{}.svg'.format(name, label))\n",
      "    ### Comment bellow if you don't want to close the figure on exit\n",
      "    plt.close()\n"
     ],
     "language": "python",
     "metadata": {},
     "outputs": []
    },
    {
     "cell_type": "heading",
     "level": 2,
     "metadata": {},
     "source": [
      "4.2.3 Plots all ellipses in one go for all `intersting` clusters"
     ]
    },
    {
     "cell_type": "code",
     "collapsed": false,
     "input": [
      "\n",
      "for name  in interesting:\n",
      "    cluster = clusters[name]\n",
      "    \n",
      "    for label in cluster.trajs.labels:\n",
      "        plot_ellipses(cluster, label, name)"
     ],
     "language": "python",
     "metadata": {},
     "outputs": []
    },
    {
     "cell_type": "heading",
     "level": 3,
     "metadata": {},
     "source": [
      "4.2.4 Merge ellipsis data with the measures"
     ]
    },
    {
     "cell_type": "code",
     "collapsed": false,
     "input": [
      "#for name in interseting:\n",
      "    \n",
      "#    cluster = clusters[name]   # for size in sizes:\n",
      "    #    cluster.compute_ellipticity(size, trajs=interp, sampling=sampling)\n",
      "    \n",
      "    \n",
      "    # cluster.detect_rotations(ellipsis_cutoffs, sizes, method='binary', trajs=interp)\n",
      "    # measure_pool['detected_rotations'] = cluster.detected_rotations.sortlevel(['t_stamp', 'label'])\n"
     ],
     "language": "python",
     "metadata": {},
     "outputs": []
    },
    {
     "cell_type": "code",
     "collapsed": false,
     "input": [
      "%pdb"
     ],
     "language": "python",
     "metadata": {},
     "outputs": []
    },
    {
     "cell_type": "code",
     "collapsed": false,
     "input": [],
     "language": "python",
     "metadata": {},
     "outputs": []
    },
    {
     "cell_type": "code",
     "collapsed": false,
     "input": [
      "omega = 2*np.pi / 60\n",
      "ts = np.linspace(0, 30, 60)\n",
      "thetas = omega * ts\n",
      "mock_traj = pd.DataFrame(np.array([np.cos(thetas), np.sin(thetas)]).T, columns=['x', 'y'])\n",
      "mock_traj['v_x'] = - omega * np.sin(thetas)\n",
      "mock_traj['v_y'] = omega * np.cos(thetas)\n",
      "mock_traj['z'] = 0\n",
      "mock_traj['v_z'] = 0\n",
      "\n",
      "(rotation.dir_shift_(mock_traj, shift=1, coords=['v_x', 'v_y', 'v_z']) * 59).mean() / (2*np.pi)\n"
     ],
     "language": "python",
     "metadata": {},
     "outputs": []
    }
   ],
   "metadata": {}
  }
 ]
}