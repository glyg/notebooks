{
 "metadata": {
  "name": "",
  "signature": "sha256:40f45582832e524401adce1c59dd1c29df28b15045b82f622bde18749f498fd2"
 },
 "nbformat": 3,
 "nbformat_minor": 0,
 "worksheets": [
  {
   "cells": [
    {
     "cell_type": "code",
     "collapsed": false,
     "input": [
      "%load_ext autoreload\n",
      "%autoreload 2\n"
     ],
     "language": "python",
     "metadata": {},
     "outputs": [],
     "prompt_number": 1
    },
    {
     "cell_type": "code",
     "collapsed": false,
     "input": [
      "\n",
      "%matplotlib qt\n",
      "%run nb_init.py\n",
      "\n",
      "\n"
     ],
     "language": "python",
     "metadata": {},
     "outputs": [],
     "prompt_number": 2
    },
    {
     "cell_type": "code",
     "collapsed": false,
     "input": [
      "\n",
      "#### \n",
      "import cell_tracker as ct\n",
      "import os\n",
      "from sktracker.io import ObjectsIO\n"
     ],
     "language": "python",
     "metadata": {},
     "outputs": [],
     "prompt_number": 3
    },
    {
     "cell_type": "code",
     "collapsed": false,
     "input": [
      "sizes = [30, 60, 75, 90, 120]"
     ],
     "language": "python",
     "metadata": {},
     "outputs": [],
     "prompt_number": 4
    },
    {
     "cell_type": "code",
     "collapsed": false,
     "input": [
      "%pdb"
     ],
     "language": "python",
     "metadata": {},
     "outputs": [
      {
       "output_type": "stream",
       "stream": "stdout",
       "text": [
        "Automatic pdb calling has been turned ON\n"
       ]
      }
     ],
     "prompt_number": 6
    },
    {
     "cell_type": "code",
     "collapsed": false,
     "input": [
      "base_dir = '/media/data/AnneHDFStores/'\n",
      "h5s = [os.path.join(base_dir, f) for f in os.listdir(base_dir) if f.endswith('.h5')]"
     ],
     "language": "python",
     "metadata": {},
     "outputs": [],
     "prompt_number": 5
    },
    {
     "cell_type": "code",
     "collapsed": false,
     "input": [
      "for store_name in h5s:\n",
      "    print('**************\\n')\n",
      "    print('started ', store_name)\n",
      "    oio = ObjectsIO(store_path=store_name)\n",
      "    cluster = ct.CellCluster(objectsio=oio)\n",
      "    #if hasattr(cluster, 'ellipses'):\n",
      "    #    if len(cluster.ellipses.keys()):\n",
      "    #        continue\n",
      "    cluster.get_center(smooth=0)    \n",
      "    cluster.cumulative_angle()\n",
      "    cluster.save_trajs()\n",
      "    for size in sizes:\n",
      "        cluster.compute_ellipticity(size)\n",
      "    print('treated ', store_name)\n",
      "    print('**************\\n')\n",
      "    "
     ],
     "language": "python",
     "metadata": {},
     "outputs": [
      {
       "output_type": "stream",
       "stream": "stdout",
       "text": [
        "**************\n",
        "\n",
        "started  /media/data/AnneHDFStores/dnpvr_inhib2.h5\n",
        "treated "
       ]
      },
      {
       "output_type": "stream",
       "stream": "stdout",
       "text": [
        " /media/data/AnneHDFStores/dnpvr_inhib2.h5\n",
        "**************\n",
        "\n",
        "**************\n",
        "\n",
        "started  /media/data/AnneHDFStores/jnk_inhibition.h5\n",
        "treated "
       ]
      },
      {
       "output_type": "stream",
       "stream": "stdout",
       "text": [
        " /media/data/AnneHDFStores/jnk_inhibition.h5\n",
        "**************\n",
        "\n",
        "**************\n",
        "\n",
        "started  /media/data/AnneHDFStores/flipout_gfp.h5\n",
        "treated "
       ]
      },
      {
       "output_type": "stream",
       "stream": "stdout",
       "text": [
        " /media/data/AnneHDFStores/flipout_gfp.h5\n",
        "**************\n",
        "\n",
        "**************\n",
        "\n",
        "started  /media/data/AnneHDFStores/dnpvr_rock_inhib1.h5\n",
        "treated "
       ]
      },
      {
       "output_type": "stream",
       "stream": "stdout",
       "text": [
        " /media/data/AnneHDFStores/dnpvr_rock_inhib1.h5\n",
        "**************\n",
        "\n",
        "**************\n",
        "\n",
        "started  /media/data/AnneHDFStores/wt_early2_281013.h5\n",
        "treated "
       ]
      },
      {
       "output_type": "stream",
       "stream": "stdout",
       "text": [
        " /media/data/AnneHDFStores/wt_early2_281013.h5\n",
        "**************\n",
        "\n",
        "**************\n",
        "\n",
        "started  /media/data/AnneHDFStores/dnpvr_dmso_161013.h5\n",
        "treated "
       ]
      },
      {
       "output_type": "stream",
       "stream": "stdout",
       "text": [
        " /media/data/AnneHDFStores/dnpvr_dmso_161013.h5\n",
        "**************\n",
        "\n",
        "**************\n",
        "\n",
        "started  /media/data/AnneHDFStores/rock_rnai1.h5\n",
        "treated "
       ]
      },
      {
       "output_type": "stream",
       "stream": "stdout",
       "text": [
        " /media/data/AnneHDFStores/rock_rnai1.h5\n",
        "**************\n",
        "\n",
        "**************\n",
        "\n",
        "started  /media/data/AnneHDFStores/rock_rnai3.h5\n",
        "treated "
       ]
      },
      {
       "output_type": "stream",
       "stream": "stdout",
       "text": [
        " /media/data/AnneHDFStores/rock_rnai3.h5\n",
        "**************\n",
        "\n",
        "**************\n",
        "\n",
        "started  /media/data/AnneHDFStores/jnk_inhib_iono2.h5\n",
        "treated "
       ]
      },
      {
       "output_type": "stream",
       "stream": "stdout",
       "text": [
        " /media/data/AnneHDFStores/jnk_inhib_iono2.h5\n",
        "**************\n",
        "\n",
        "**************\n",
        "\n",
        "started  /media/data/AnneHDFStores/wt_early3_281013.h5\n",
        "treated "
       ]
      },
      {
       "output_type": "stream",
       "stream": "stdout",
       "text": [
        " /media/data/AnneHDFStores/wt_early3_281013.h5\n",
        "**************\n",
        "\n",
        "**************\n",
        "\n",
        "started  /media/data/AnneHDFStores/dnpvr_dnder_051013.h5\n",
        "treated "
       ]
      },
      {
       "output_type": "stream",
       "stream": "stdout",
       "text": [
        " /media/data/AnneHDFStores/dnpvr_dnder_051013.h5\n",
        "**************\n",
        "\n",
        "**************\n",
        "\n",
        "started  /media/data/AnneHDFStores/iono_080613.h5\n",
        "treated "
       ]
      },
      {
       "output_type": "stream",
       "stream": "stdout",
       "text": [
        " /media/data/AnneHDFStores/iono_080613.h5\n",
        "**************\n",
        "\n",
        "**************\n",
        "\n",
        "started  /media/data/AnneHDFStores/wt_late_101013.h5\n",
        "treated "
       ]
      },
      {
       "output_type": "stream",
       "stream": "stdout",
       "text": [
        " /media/data/AnneHDFStores/wt_late_101013.h5\n",
        "**************\n",
        "\n",
        "**************\n",
        "\n",
        "started  /media/data/AnneHDFStores/jnk_inhib.h5\n",
        "treated "
       ]
      },
      {
       "output_type": "stream",
       "stream": "stdout",
       "text": [
        " /media/data/AnneHDFStores/jnk_inhib.h5\n",
        "**************\n",
        "\n",
        "**************\n",
        "\n",
        "started  /media/data/AnneHDFStores/wt_earlytolate2.h5\n",
        "treated "
       ]
      },
      {
       "output_type": "stream",
       "stream": "stdout",
       "text": [
        " /media/data/AnneHDFStores/wt_earlytolate2.h5\n",
        "**************\n",
        "\n",
        "**************\n",
        "\n",
        "started  /media/data/AnneHDFStores/jnk_inhib_iono.h5\n",
        "treated "
       ]
      },
      {
       "output_type": "stream",
       "stream": "stdout",
       "text": [
        " /media/data/AnneHDFStores/jnk_inhib_iono.h5\n",
        "**************\n",
        "\n",
        "**************\n",
        "\n",
        "started  /media/data/AnneHDFStores/rock_chem_inhib1.h5\n",
        "treated "
       ]
      },
      {
       "output_type": "stream",
       "stream": "stdout",
       "text": [
        " /media/data/AnneHDFStores/rock_chem_inhib1.h5\n",
        "**************\n",
        "\n",
        "**************\n",
        "\n",
        "started  /media/data/AnneHDFStores/wt_early1_281013.h5\n",
        "treated "
       ]
      },
      {
       "output_type": "stream",
       "stream": "stdout",
       "text": [
        " /media/data/AnneHDFStores/wt_early1_281013.h5\n",
        "**************\n",
        "\n",
        "**************\n",
        "\n",
        "started  /media/data/AnneHDFStores/mbs.h5\n",
        "treated "
       ]
      },
      {
       "output_type": "stream",
       "stream": "stdout",
       "text": [
        " /media/data/AnneHDFStores/mbs.h5\n",
        "**************\n",
        "\n",
        "**************\n",
        "\n",
        "started  /media/data/AnneHDFStores/mbs_190913.h5\n",
        "treated "
       ]
      },
      {
       "output_type": "stream",
       "stream": "stdout",
       "text": [
        " /media/data/AnneHDFStores/mbs_190913.h5\n",
        "**************\n",
        "\n",
        "**************\n",
        "\n",
        "started  /media/data/AnneHDFStores/wt_161113.h5\n",
        "treated "
       ]
      },
      {
       "output_type": "stream",
       "stream": "stdout",
       "text": [
        " /media/data/AnneHDFStores/wt_161113.h5\n",
        "**************\n",
        "\n",
        "**************\n",
        "\n",
        "started  /media/data/AnneHDFStores/wt_early_171013.h5\n",
        "treated "
       ]
      },
      {
       "output_type": "stream",
       "stream": "stdout",
       "text": [
        " /media/data/AnneHDFStores/wt_early_171013.h5\n",
        "**************\n",
        "\n",
        "**************\n",
        "\n",
        "started  /media/data/AnneHDFStores/ionomycin_080613.h5\n",
        "treated "
       ]
      },
      {
       "output_type": "stream",
       "stream": "stdout",
       "text": [
        " /media/data/AnneHDFStores/ionomycin_080613.h5\n",
        "**************\n",
        "\n",
        "**************\n",
        "\n",
        "started  /media/data/AnneHDFStores/myosin_rnai2.h5\n",
        "treated "
       ]
      },
      {
       "output_type": "stream",
       "stream": "stdout",
       "text": [
        " /media/data/AnneHDFStores/myosin_rnai2.h5\n",
        "**************\n",
        "\n",
        "**************\n",
        "\n",
        "started  /media/data/AnneHDFStores/wt_iono_080613.h5\n",
        "treated "
       ]
      },
      {
       "output_type": "stream",
       "stream": "stdout",
       "text": [
        " /media/data/AnneHDFStores/wt_iono_080613.h5\n",
        "**************\n",
        "\n",
        "**************\n",
        "\n",
        "started  /media/data/AnneHDFStores/dnpvr_dndr290913.h5\n",
        "treated "
       ]
      },
      {
       "output_type": "stream",
       "stream": "stdout",
       "text": [
        " /media/data/AnneHDFStores/dnpvr_dndr290913.h5\n",
        "**************\n",
        "\n",
        "**************\n",
        "\n",
        "started  /media/data/AnneHDFStores/rock_cat.h5\n",
        "treated "
       ]
      },
      {
       "output_type": "stream",
       "stream": "stdout",
       "text": [
        " /media/data/AnneHDFStores/rock_cat.h5\n",
        "**************\n",
        "\n",
        "**************\n",
        "\n",
        "started  /media/data/AnneHDFStores/wt_early3.h5\n",
        "treated "
       ]
      },
      {
       "output_type": "stream",
       "stream": "stdout",
       "text": [
        " /media/data/AnneHDFStores/wt_early3.h5\n",
        "**************\n",
        "\n",
        "**************\n",
        "\n",
        "started  /media/data/AnneHDFStores/mbs_2.h5\n",
        "treated "
       ]
      },
      {
       "output_type": "stream",
       "stream": "stdout",
       "text": [
        " /media/data/AnneHDFStores/mbs_2.h5\n",
        "**************\n",
        "\n",
        "**************\n",
        "\n",
        "started  /media/data/AnneHDFStores/flipout_dsred.h5\n",
        "treated "
       ]
      },
      {
       "output_type": "stream",
       "stream": "stdout",
       "text": [
        " /media/data/AnneHDFStores/flipout_dsred.h5\n",
        "**************\n",
        "\n",
        "**************\n",
        "\n",
        "started  /media/data/AnneHDFStores/mbs_movie3_221013.h5\n",
        "treated "
       ]
      },
      {
       "output_type": "stream",
       "stream": "stdout",
       "text": [
        " /media/data/AnneHDFStores/mbs_movie3_221013.h5\n",
        "**************\n",
        "\n",
        "**************\n",
        "\n",
        "started  /media/data/AnneHDFStores/rock_cat2.h5\n",
        "treated "
       ]
      },
      {
       "output_type": "stream",
       "stream": "stdout",
       "text": [
        " /media/data/AnneHDFStores/rock_cat2.h5\n",
        "**************\n",
        "\n",
        "**************\n",
        "\n",
        "started  /media/data/AnneHDFStores/ROCK RNAi 2_DsRed.h5\n",
        "treated "
       ]
      },
      {
       "output_type": "stream",
       "stream": "stdout",
       "text": [
        " /media/data/AnneHDFStores/ROCK RNAi 2_DsRed.h5\n",
        "**************\n",
        "\n",
        "**************\n",
        "\n",
        "started  /media/data/AnneHDFStores/wt_early2.h5\n",
        "treated "
       ]
      },
      {
       "output_type": "stream",
       "stream": "stdout",
       "text": [
        " /media/data/AnneHDFStores/wt_early2.h5\n",
        "**************\n",
        "\n",
        "**************\n",
        "\n",
        "started  /media/data/AnneHDFStores/wt_sample2_171113.h5\n",
        "treated "
       ]
      },
      {
       "output_type": "stream",
       "stream": "stdout",
       "text": [
        " /media/data/AnneHDFStores/wt_sample2_171113.h5\n",
        "**************\n",
        "\n",
        "**************\n",
        "\n",
        "started  /media/data/AnneHDFStores/wt_sample1_171113.h5\n",
        "treated "
       ]
      },
      {
       "output_type": "stream",
       "stream": "stdout",
       "text": [
        " /media/data/AnneHDFStores/wt_sample1_171113.h5\n",
        "**************\n",
        "\n",
        "**************\n",
        "\n",
        "started  /media/data/AnneHDFStores/mbs_270913.h5\n",
        "treated "
       ]
      },
      {
       "output_type": "stream",
       "stream": "stdout",
       "text": [
        " /media/data/AnneHDFStores/mbs_270913.h5\n",
        "**************\n",
        "\n",
        "**************\n",
        "\n",
        "started  /media/data/AnneHDFStores/myosin_rnai.h5\n",
        "treated "
       ]
      },
      {
       "output_type": "stream",
       "stream": "stdout",
       "text": [
        " /media/data/AnneHDFStores/myosin_rnai.h5\n",
        "**************\n",
        "\n",
        "**************\n",
        "\n",
        "started  /media/data/AnneHDFStores/jnk_inhib_dmso_ctrl_121013.h5\n",
        "treated "
       ]
      },
      {
       "output_type": "stream",
       "stream": "stdout",
       "text": [
        " /media/data/AnneHDFStores/jnk_inhib_dmso_ctrl_121013.h5\n",
        "**************\n",
        "\n",
        "**************\n",
        "\n",
        "started  /media/data/AnneHDFStores/jnk_inhib2.h5\n",
        "treated "
       ]
      },
      {
       "output_type": "stream",
       "stream": "stdout",
       "text": [
        " /media/data/AnneHDFStores/jnk_inhib2.h5\n",
        "**************\n",
        "\n",
        "**************\n",
        "\n",
        "started  /media/data/AnneHDFStores/rock_chem_inhib2.h5\n",
        "treated "
       ]
      },
      {
       "output_type": "stream",
       "stream": "stdout",
       "text": [
        " /media/data/AnneHDFStores/rock_chem_inhib2.h5\n",
        "**************\n",
        "\n",
        "**************\n",
        "\n",
        "started  /media/data/AnneHDFStores/dnpvr_rock_inhib2.h5\n",
        "treated "
       ]
      },
      {
       "output_type": "stream",
       "stream": "stdout",
       "text": [
        " /media/data/AnneHDFStores/dnpvr_rock_inhib2.h5\n",
        "**************\n",
        "\n",
        "**************\n",
        "\n",
        "started  /media/data/AnneHDFStores/jnk_inhib_dmso.h5\n",
        "treated "
       ]
      },
      {
       "output_type": "stream",
       "stream": "stdout",
       "text": [
        " /media/data/AnneHDFStores/jnk_inhib_dmso.h5\n",
        "**************\n",
        "\n"
       ]
      }
     ],
     "prompt_number": 52
    },
    {
     "cell_type": "code",
     "collapsed": false,
     "input": [
      "### You can change the name of the file bellow if you're using other cutoffs\n",
      "settings_json = 'ellipsis_cutoffs.json'\n",
      "\n",
      "setter_widget = ct.ui.ipy_widgets.set_ellipsis_limits(jsonfile=settings_json)\n",
      "ellipsis_cutoffs = setter_widget.settings\n",
      "display.display(setter_widget)"
     ],
     "language": "python",
     "metadata": {},
     "outputs": [],
     "prompt_number": 6
    },
    {
     "cell_type": "code",
     "collapsed": false,
     "input": [
      "ellipsis_cutoffs"
     ],
     "language": "python",
     "metadata": {},
     "outputs": [
      {
       "metadata": {},
       "output_type": "pyout",
       "prompt_number": 25,
       "text": [
        "{'max_ellipticity': 3.0,\n",
        " 'min_dtheta': 60.0,\n",
        " 'max_radius': 60.0,\n",
        " 'min_radius': 8.0,\n",
        " 'min_gof': 0.0,\n",
        " 'max_dtheta': 720.0}"
       ]
      }
     ],
     "prompt_number": 25
    },
    {
     "cell_type": "code",
     "collapsed": false,
     "input": [
      "\n",
      "dirs = {d for d in os.listdir('/home/guillaume/Python/cell_migration/figures/') if not '.' in d}"
     ],
     "language": "python",
     "metadata": {},
     "outputs": [],
     "prompt_number": 7
    },
    {
     "cell_type": "code",
     "collapsed": false,
     "input": [
      "names = {os.path.basename(h5).split('.')[0] for h5 in h5s}"
     ],
     "language": "python",
     "metadata": {},
     "outputs": [],
     "prompt_number": 8
    },
    {
     "cell_type": "code",
     "collapsed": false,
     "input": [
      "common = names & dirs\n",
      "print('Found {} common targets'.format(len(common)))\n",
      "print('No matches found for : \\n')\n",
      "for name in (names ^ dirs):\n",
      "    print(name)"
     ],
     "language": "python",
     "metadata": {},
     "outputs": [
      {
       "output_type": "stream",
       "stream": "stdout",
       "text": [
        "Found 37 common targets\n",
        "No matches found for : \n",
        "\n",
        "jnk_inhib\n",
        "lymphocyte\n",
        "wt_sample3_171113\n",
        "wt_early1_281013\n",
        "flipout_dsred\n",
        "dnpvr_dnder_051013\n",
        "wt_161113\n",
        "mcf7\n",
        "flipout_gfp\n",
        "wt_early1\n"
       ]
      }
     ],
     "prompt_number": 9
    },
    {
     "cell_type": "code",
     "collapsed": false,
     "input": [
      "import shutil"
     ],
     "language": "python",
     "metadata": {},
     "outputs": [],
     "prompt_number": 10
    },
    {
     "cell_type": "code",
     "collapsed": false,
     "input": [
      "! mkdir {new_figs}\n"
     ],
     "language": "python",
     "metadata": {},
     "outputs": [],
     "prompt_number": 15
    },
    {
     "cell_type": "code",
     "collapsed": false,
     "input": [
      "%pdb"
     ],
     "language": "python",
     "metadata": {},
     "outputs": [
      {
       "output_type": "stream",
       "stream": "stdout",
       "text": [
        "Automatic pdb calling has been turned ON\n"
       ]
      }
     ],
     "prompt_number": 21
    },
    {
     "cell_type": "code",
     "collapsed": false,
     "input": [
      "old_figs = '/home/guillaume/Python/cell_migration/figures/'\n",
      "new_figs = '/media/data/AnneHDFStores/figures'\n",
      "\n",
      "for name in common:\n",
      "    orig = os.path.join(old_figs, name, 'rotation_index.svg')\n",
      "    new_dir = os.path.join(new_figs, name.replace(' ', '\\ '))\n",
      "    !mkdir {new_dir}\n",
      "    target = os.path.join(new_dir, 'old_rotation_index.svg')\n",
      "    try:\n",
      "        shutil.copy(orig, target)\n",
      "    except:\n",
      "        print('Failed for ', name)"
     ],
     "language": "python",
     "metadata": {},
     "outputs": [
      {
       "output_type": "stream",
       "stream": "stdout",
       "text": [
        "mkdir: impossible de cr\u00e9er le r\u00e9pertoire \u00ab/media/data/AnneHDFStores/figures/ionomycin_080613\u00bb: Le fichier existe\r\n"
       ]
      },
      {
       "output_type": "stream",
       "stream": "stdout",
       "text": [
        "Failed for  ionomycin_080613\n",
        "mkdir: impossible de cr\u00e9er le r\u00e9pertoire \u00ab/media/data/AnneHDFStores/figures/jnk_inhibition\u00bb: Le fichier existe\r\n"
       ]
      },
      {
       "output_type": "stream",
       "stream": "stdout",
       "text": [
        "mkdir: impossible de cr\u00e9er le r\u00e9pertoire \u00ab/media/data/AnneHDFStores/figures/mbs_270913\u00bb: Le fichier existe\r\n"
       ]
      },
      {
       "output_type": "stream",
       "stream": "stdout",
       "text": [
        "mkdir: impossible de cr\u00e9er le r\u00e9pertoire \u00ab/media/data/AnneHDFStores/figures/mbs_190913\u00bb: Le fichier existe\r\n"
       ]
      },
      {
       "output_type": "stream",
       "stream": "stdout",
       "text": [
        "mkdir: impossible de cr\u00e9er le r\u00e9pertoire \u00ab/media/data/AnneHDFStores/figures/rock_cat2\u00bb: Le fichier existe\r\n"
       ]
      },
      {
       "output_type": "stream",
       "stream": "stdout",
       "text": [
        "mkdir: impossible de cr\u00e9er le r\u00e9pertoire \u00ab/media/data/AnneHDFStores/figures/dnpvr_inhib2\u00bb: Le fichier existe\r\n"
       ]
      },
      {
       "output_type": "stream",
       "stream": "stdout",
       "text": [
        "mkdir: impossible de cr\u00e9er le r\u00e9pertoire \u00ab/media/data/AnneHDFStores/figures/wt_early2_281013\u00bb: Le fichier existe\r\n"
       ]
      },
      {
       "output_type": "stream",
       "stream": "stdout",
       "text": [
        "mkdir: impossible de cr\u00e9er le r\u00e9pertoire \u00ab/media/data/AnneHDFStores/figures/rock_rnai1\u00bb: Le fichier existe\r\n"
       ]
      },
      {
       "output_type": "stream",
       "stream": "stdout",
       "text": [
        "mkdir: impossible de cr\u00e9er le r\u00e9pertoire \u00ab/media/data/AnneHDFStores/figures/mbs_movie3_221013\u00bb: Le fichier existe\r\n"
       ]
      },
      {
       "output_type": "stream",
       "stream": "stdout",
       "text": [
        "mkdir: impossible de cr\u00e9er le r\u00e9pertoire \u00ab/media/data/AnneHDFStores/figures/jnk_inhib_dmso\u00bb: Le fichier existe\r\n"
       ]
      },
      {
       "output_type": "stream",
       "stream": "stdout",
       "text": [
        "mkdir: impossible de cr\u00e9er le r\u00e9pertoire \u00ab/media/data/AnneHDFStores/figures/dnpvr_dndr290913\u00bb: Le fichier existe\r\n"
       ]
      },
      {
       "output_type": "stream",
       "stream": "stdout",
       "text": [
        "mkdir: impossible de cr\u00e9er le r\u00e9pertoire \u00ab/media/data/AnneHDFStores/figures/dnpvr_rock_inhib1\u00bb: Le fichier existe\r\n"
       ]
      },
      {
       "output_type": "stream",
       "stream": "stdout",
       "text": [
        "mkdir: impossible de cr\u00e9er le r\u00e9pertoire \u00ab/media/data/AnneHDFStores/figures/dnpvr_rock_inhib2\u00bb: Le fichier existe\r\n"
       ]
      },
      {
       "output_type": "stream",
       "stream": "stdout",
       "text": [
        "mkdir: impossible de cr\u00e9er le r\u00e9pertoire \u00ab/media/data/AnneHDFStores/figures/jnk_inhib_dmso_ctrl_121013\u00bb: Le fichier existe\r\n"
       ]
      },
      {
       "output_type": "stream",
       "stream": "stdout",
       "text": [
        "mkdir: impossible de cr\u00e9er le r\u00e9pertoire \u00ab/media/data/AnneHDFStores/figures/myosin_rnai\u00bb: Le fichier existe\r\n"
       ]
      },
      {
       "output_type": "stream",
       "stream": "stdout",
       "text": [
        "mkdir: impossible de cr\u00e9er le r\u00e9pertoire \u00ab/media/data/AnneHDFStores/figures/jnk_inhib_iono2\u00bb: Le fichier existe\r\n"
       ]
      },
      {
       "output_type": "stream",
       "stream": "stdout",
       "text": [
        "mkdir: impossible de cr\u00e9er le r\u00e9pertoire \u00ab/media/data/AnneHDFStores/figures/jnk_inhib_iono\u00bb: Le fichier existe\r\n"
       ]
      },
      {
       "output_type": "stream",
       "stream": "stdout",
       "text": [
        "mkdir: impossible de cr\u00e9er le r\u00e9pertoire \u00ab/media/data/AnneHDFStores/figures/wt_early_171013\u00bb: Le fichier existe\r\n"
       ]
      },
      {
       "output_type": "stream",
       "stream": "stdout",
       "text": [
        "mkdir: impossible de cr\u00e9er le r\u00e9pertoire \u00ab/media/data/AnneHDFStores/figures/iono_080613\u00bb: Le fichier existe\r\n"
       ]
      },
      {
       "output_type": "stream",
       "stream": "stdout",
       "text": [
        "mkdir: impossible de cr\u00e9er le r\u00e9pertoire \u00ab/media/data/AnneHDFStores/figures/wt_iono_080613\u00bb: Le fichier existe\r\n"
       ]
      },
      {
       "output_type": "stream",
       "stream": "stdout",
       "text": [
        "mkdir: impossible de cr\u00e9er le r\u00e9pertoire \u00ab/media/data/AnneHDFStores/figures/mbs\u00bb: Le fichier existe\r\n"
       ]
      },
      {
       "output_type": "stream",
       "stream": "stdout",
       "text": [
        "mkdir: impossible de cr\u00e9er le r\u00e9pertoire \u00ab/media/data/AnneHDFStores/figures/wt_earlytolate2\u00bb: Le fichier existe\r\n"
       ]
      },
      {
       "output_type": "stream",
       "stream": "stdout",
       "text": [
        "mkdir: impossible de cr\u00e9er le r\u00e9pertoire \u00ab/media/data/AnneHDFStores/figures/wt_sample1_171113\u00bb: Le fichier existe\r\n"
       ]
      },
      {
       "output_type": "stream",
       "stream": "stdout",
       "text": [
        "mkdir: impossible de cr\u00e9er le r\u00e9pertoire \u00ab/media/data/AnneHDFStores/figures/rock_chem_inhib2\u00bb: Le fichier existe\r\n"
       ]
      },
      {
       "output_type": "stream",
       "stream": "stdout",
       "text": [
        "mkdir: impossible de cr\u00e9er le r\u00e9pertoire \u00ab/media/data/AnneHDFStores/figures/wt_early3_281013\u00bb: Le fichier existe\r\n"
       ]
      },
      {
       "output_type": "stream",
       "stream": "stdout",
       "text": [
        "mkdir: impossible de cr\u00e9er le r\u00e9pertoire \u00ab/media/data/AnneHDFStores/figures/rock_chem_inhib1\u00bb: Le fichier existe\r\n"
       ]
      },
      {
       "output_type": "stream",
       "stream": "stdout",
       "text": [
        "mkdir: impossible de cr\u00e9er le r\u00e9pertoire \u00ab/media/data/AnneHDFStores/figures/myosin_rnai2\u00bb: Le fichier existe\r\n"
       ]
      },
      {
       "output_type": "stream",
       "stream": "stdout",
       "text": [
        "mkdir: impossible de cr\u00e9er le r\u00e9pertoire \u00ab/media/data/AnneHDFStores/figures/dnpvr_dmso_161013\u00bb: Le fichier existe\r\n"
       ]
      },
      {
       "output_type": "stream",
       "stream": "stdout",
       "text": [
        "mkdir: impossible de cr\u00e9er le r\u00e9pertoire \u00ab/media/data/AnneHDFStores/figures/mbs_2\u00bb: Le fichier existe\r\n"
       ]
      },
      {
       "output_type": "stream",
       "stream": "stdout",
       "text": [
        "mkdir: impossible de cr\u00e9er le r\u00e9pertoire \u00ab/media/data/AnneHDFStores/figures/wt_sample2_171113\u00bb: Le fichier existe\r\n"
       ]
      },
      {
       "output_type": "stream",
       "stream": "stdout",
       "text": [
        "mkdir: impossible de cr\u00e9er le r\u00e9pertoire \u00ab/media/data/AnneHDFStores/figures/ROCK RNAi 2_DsRed\u00bb: Le fichier existe\r\n"
       ]
      },
      {
       "output_type": "stream",
       "stream": "stdout",
       "text": [
        "Failed for  ROCK RNAi 2_DsRed\n",
        "mkdir: impossible de cr\u00e9er le r\u00e9pertoire \u00ab/media/data/AnneHDFStores/figures/rock_cat\u00bb: Le fichier existe\r\n"
       ]
      },
      {
       "output_type": "stream",
       "stream": "stdout",
       "text": [
        "mkdir: impossible de cr\u00e9er le r\u00e9pertoire \u00ab/media/data/AnneHDFStores/figures/wt_late_101013\u00bb: Le fichier existe\r\n"
       ]
      },
      {
       "output_type": "stream",
       "stream": "stdout",
       "text": [
        "mkdir: impossible de cr\u00e9er le r\u00e9pertoire \u00ab/media/data/AnneHDFStores/figures/jnk_inhib2\u00bb: Le fichier existe\r\n"
       ]
      },
      {
       "output_type": "stream",
       "stream": "stdout",
       "text": [
        "mkdir: impossible de cr\u00e9er le r\u00e9pertoire \u00ab/media/data/AnneHDFStores/figures/wt_early2\u00bb: Le fichier existe\r\n"
       ]
      },
      {
       "output_type": "stream",
       "stream": "stdout",
       "text": [
        "mkdir: impossible de cr\u00e9er le r\u00e9pertoire \u00ab/media/data/AnneHDFStores/figures/wt_early3\u00bb: Le fichier existe\r\n"
       ]
      },
      {
       "output_type": "stream",
       "stream": "stdout",
       "text": [
        "mkdir: impossible de cr\u00e9er le r\u00e9pertoire \u00ab/media/data/AnneHDFStores/figures/rock_rnai3\u00bb: Le fichier existe\r\n"
       ]
      }
     ],
     "prompt_number": 22
    },
    {
     "cell_type": "code",
     "collapsed": false,
     "input": [
      "def custom_ellipsis_plot(cluster, label, save_dir, ellipsis_cutoffs):\n",
      "    '''\n",
      "    '''\n",
      "    axes, ax_3d = None, None\n",
      "    \n",
      "    colors = cluster.trajs.get_colors()\n",
      "    segment = cluster.trajs.get_segments()[label]\n",
      "\n",
      "    ## Paramters for the scatter plot (the bullets) \n",
      "    scatter_kw = {'c':segment.t.astype(np.float),\n",
      "                  'cmap':'spectral',\n",
      "                  's':40,\n",
      "                  'alpha':0.8,\n",
      "                  'edgecolors':'none'}\n",
      "\n",
      "    ## Paramters for the line plot \n",
      "    line_kw = {'c': 'gray',\n",
      "               'ls': '-',\n",
      "               'alpha': 0.8,\n",
      "               'lw': 0.75}\n",
      "\n",
      "    ## Parameters for the ellipses\n",
      "    ellipsis_kw = {'c':'k', 'alpha':0.8, 'lw':0.2}\n",
      "\n",
      "    axes, ax_3d = ct.graphics.show_4panel_ellipses(cluster, label,\n",
      "                                                   sizes,\n",
      "                                                   ellipsis_cutoffs,\n",
      "                                                   scatter_kw=scatter_kw,\n",
      "                                                   line_kw=line_kw,\n",
      "                                                   ellipsis_kw=ellipsis_kw,\n",
      "                                                   axes=axes, ax_3d=ax_3d)\n",
      "    \n",
      "    fig_name = os.path.join(save_dir, 'ellipses_{}.png'.format(label))\n",
      "    plt.savefig(fig_name)\n",
      "    plt.close()\n",
      "    "
     ],
     "language": "python",
     "metadata": {},
     "outputs": [],
     "prompt_number": 11
    },
    {
     "cell_type": "code",
     "collapsed": false,
     "input": [
      "new_figs = '/media/data/AnneHDFStores/figures'\n",
      "\n",
      "\n",
      "for name in names:\n",
      "    print(name)\n",
      "    store_name = os.path.join('/media/data/AnneHDFStores/', name+'.h5')\n",
      "    oio = ObjectsIO(store_path=store_name)\n",
      "    cluster = ct.CellCluster(objectsio=oio)\n",
      "    save_dir = os.path.join(new_figs, name, 'ellipses')\n",
      "    !mkdir {save_dir}\n",
      "    try:\n",
      "        for label in cluster.trajs.labels:\n",
      "            cluster.detect_rotations(ellipsis_cutoffs)\n",
      "            custom_ellipsis_plot(cluster, label, save_dir, ellipsis_cutoffs)\n",
      "    except:\n",
      "        print('*** Failed for ', name)\n",
      "        continue"
     ],
     "language": "python",
     "metadata": {},
     "outputs": [
      {
       "output_type": "stream",
       "stream": "stdout",
       "text": [
        "wt_sample2_171113\n"
       ]
      },
      {
       "output_type": "stream",
       "stream": "stdout",
       "text": [
        "iono_080613\n"
       ]
      },
      {
       "output_type": "stream",
       "stream": "stdout",
       "text": [
        "ROCK RNAi 2_DsRed\n",
        "mkdir: impossible de cr\u00e9er le r\u00e9pertoire \u00abRNAi\u00bb: Le fichier existe\r\n"
       ]
      },
      {
       "output_type": "stream",
       "stream": "stdout",
       "text": [
        "*** Failed for  ROCK RNAi 2_DsRed\n",
        "wt_late_101013\n"
       ]
      },
      {
       "output_type": "stream",
       "stream": "stdout",
       "text": [
        "jnk_inhib2\n"
       ]
      },
      {
       "output_type": "stream",
       "stream": "stdout",
       "text": [
        "mbs_270913\n"
       ]
      },
      {
       "output_type": "stream",
       "stream": "stdout",
       "text": [
        "jnk_inhib_dmso_ctrl_121013\n",
        "mkdir: impossible de cr\u00e9er le r\u00e9pertoire \u00ab/media/data/AnneHDFStores/figures/jnk_inhib_dmso_ctrl_121013/ellipses\u00bb: Le fichier existe\r\n"
       ]
      },
      {
       "output_type": "stream",
       "stream": "stdout",
       "text": [
        "mbs_2\n"
       ]
      },
      {
       "output_type": "stream",
       "stream": "stdout",
       "text": [
        "rock_cat\n"
       ]
      },
      {
       "output_type": "stream",
       "stream": "stdout",
       "text": [
        "wt_iono_080613\n",
        "mkdir: impossible de cr\u00e9er le r\u00e9pertoire \u00ab/media/data/AnneHDFStores/figures/wt_iono_080613/ellipses\u00bb: Le fichier existe\r\n"
       ]
      },
      {
       "output_type": "stream",
       "stream": "stdout",
       "text": [
        "mbs_190913\n",
        "mkdir: impossible de cr\u00e9er le r\u00e9pertoire \u00ab/media/data/AnneHDFStores/figures/mbs_190913/ellipses\u00bb: Le fichier existe\r\n"
       ]
      },
      {
       "output_type": "stream",
       "stream": "stdout",
       "text": [
        "rock_chem_inhib1\n"
       ]
      },
      {
       "output_type": "stream",
       "stream": "stdout",
       "text": [
        "jnk_inhib\n",
        "mkdir: impossible de cr\u00e9er le r\u00e9pertoire \u00ab/media/data/AnneHDFStores/figures/jnk_inhib/ellipses\u00bb: Aucun fichier ou dossier de ce type\r\n"
       ]
      },
      {
       "output_type": "stream",
       "stream": "stdout",
       "text": [
        "*** Failed for  jnk_inhib\n",
        "wt_early1_281013\n",
        "mkdir: impossible de cr\u00e9er le r\u00e9pertoire \u00ab/media/data/AnneHDFStores/figures/wt_early1_281013/ellipses\u00bb: Aucun fichier ou dossier de ce type\r\n"
       ]
      },
      {
       "output_type": "stream",
       "stream": "stdout",
       "text": [
        "*** Failed for  wt_early1_281013\n",
        "flipout_dsred\n",
        "mkdir: impossible de cr\u00e9er le r\u00e9pertoire \u00ab/media/data/AnneHDFStores/figures/flipout_dsred/ellipses\u00bb: Aucun fichier ou dossier de ce type\r\n"
       ]
      },
      {
       "output_type": "stream",
       "stream": "stdout",
       "text": [
        "*** Failed for  flipout_dsred\n",
        "rock_cat2\n",
        "mkdir: impossible de cr\u00e9er le r\u00e9pertoire \u00ab/media/data/AnneHDFStores/figures/rock_cat2/ellipses\u00bb: Le fichier existe\r\n"
       ]
      },
      {
       "output_type": "stream",
       "stream": "stdout",
       "text": [
        "wt_early3_281013\n"
       ]
      },
      {
       "output_type": "stream",
       "stream": "stdout",
       "text": [
        "myosin_rnai2\n"
       ]
      },
      {
       "output_type": "stream",
       "stream": "stdout",
       "text": [
        "dnpvr_dnder_051013\n",
        "mkdir: impossible de cr\u00e9er le r\u00e9pertoire \u00ab/media/data/AnneHDFStores/figures/dnpvr_dnder_051013/ellipses\u00bb: Aucun fichier ou dossier de ce type\r\n"
       ]
      },
      {
       "output_type": "stream",
       "stream": "stdout",
       "text": [
        "*** Failed for  dnpvr_dnder_051013\n",
        "rock_chem_inhib2\n"
       ]
      },
      {
       "output_type": "stream",
       "stream": "stdout",
       "text": [
        "rock_rnai3\n"
       ]
      },
      {
       "output_type": "stream",
       "stream": "stdout",
       "text": [
        "wt_161113\n",
        "mkdir: impossible de cr\u00e9er le r\u00e9pertoire \u00ab/media/data/AnneHDFStores/figures/wt_161113/ellipses\u00bb: Aucun fichier ou dossier de ce type\r\n"
       ]
      },
      {
       "output_type": "stream",
       "stream": "stdout",
       "text": [
        "*** Failed for  wt_161113\n",
        "rock_rnai1\n",
        "mkdir: impossible de cr\u00e9er le r\u00e9pertoire \u00ab/media/data/AnneHDFStores/figures/rock_rnai1/ellipses\u00bb: Le fichier existe\r\n"
       ]
      },
      {
       "output_type": "stream",
       "stream": "stdout",
       "text": [
        "mbs_movie3_221013\n"
       ]
      },
      {
       "output_type": "stream",
       "stream": "stdout",
       "text": [
        "dnpvr_inhib2\n"
       ]
      },
      {
       "output_type": "stream",
       "stream": "stdout",
       "text": [
        "flipout_gfp\n",
        "mkdir: impossible de cr\u00e9er le r\u00e9pertoire \u00ab/media/data/AnneHDFStores/figures/flipout_gfp/ellipses\u00bb: Aucun fichier ou dossier de ce type\r\n"
       ]
      },
      {
       "output_type": "stream",
       "stream": "stdout",
       "text": [
        "*** Failed for  flipout_gfp\n",
        "wt_early_171013\n"
       ]
      },
      {
       "output_type": "stream",
       "stream": "stdout",
       "text": [
        "myosin_rnai\n"
       ]
      },
      {
       "output_type": "stream",
       "stream": "stdout",
       "text": [
        "jnk_inhib_iono\n"
       ]
      },
      {
       "output_type": "stream",
       "stream": "stdout",
       "text": [
        "wt_early2\n"
       ]
      },
      {
       "output_type": "stream",
       "stream": "stdout",
       "text": [
        "wt_early3\n"
       ]
      },
      {
       "output_type": "stream",
       "stream": "stdout",
       "text": [
        "jnk_inhib_dmso\n",
        "mkdir: impossible de cr\u00e9er le r\u00e9pertoire \u00ab/media/data/AnneHDFStores/figures/jnk_inhib_dmso/ellipses\u00bb: Le fichier existe\r\n"
       ]
      },
      {
       "output_type": "stream",
       "stream": "stdout",
       "text": [
        "ionomycin_080613\n"
       ]
      },
      {
       "output_type": "stream",
       "stream": "stdout",
       "text": [
        "wt_earlytolate2\n"
       ]
      },
      {
       "output_type": "stream",
       "stream": "stdout",
       "text": [
        "jnk_inhib_iono2\n"
       ]
      },
      {
       "output_type": "stream",
       "stream": "stdout",
       "text": [
        "mkdir: impossible de cr\u00e9er le r\u00e9pertoire \u00ab/media/data/AnneHDFStores/figures/jnk_inhib_iono2/ellipses\u00bb: Le fichier existe\r\n"
       ]
      },
      {
       "output_type": "stream",
       "stream": "stdout",
       "text": [
        "wt_sample1_171113\n"
       ]
      },
      {
       "output_type": "stream",
       "stream": "stdout",
       "text": [
        "wt_early2_281013\n"
       ]
      },
      {
       "output_type": "stream",
       "stream": "stdout",
       "text": [
        "mkdir: impossible de cr\u00e9er le r\u00e9pertoire \u00ab/media/data/AnneHDFStores/figures/wt_early2_281013/ellipses\u00bb: Le fichier existe\r\n"
       ]
      },
      {
       "output_type": "stream",
       "stream": "stdout",
       "text": [
        "dnpvr_dmso_161013\n"
       ]
      },
      {
       "output_type": "stream",
       "stream": "stdout",
       "text": [
        "dnpvr_dndr290913\n"
       ]
      },
      {
       "output_type": "stream",
       "stream": "stdout",
       "text": [
        "mkdir: impossible de cr\u00e9er le r\u00e9pertoire \u00ab/media/data/AnneHDFStores/figures/dnpvr_dndr290913/ellipses\u00bb: Le fichier existe\r\n"
       ]
      },
      {
       "output_type": "stream",
       "stream": "stdout",
       "text": [
        "jnk_inhibition\n"
       ]
      },
      {
       "output_type": "stream",
       "stream": "stdout",
       "text": [
        "mkdir: impossible de cr\u00e9er le r\u00e9pertoire \u00ab/media/data/AnneHDFStores/figures/jnk_inhibition/ellipses\u00bb: Le fichier existe\r\n"
       ]
      },
      {
       "output_type": "stream",
       "stream": "stdout",
       "text": [
        "mbs\n"
       ]
      },
      {
       "output_type": "stream",
       "stream": "stdout",
       "text": [
        "dnpvr_rock_inhib2\n"
       ]
      },
      {
       "output_type": "stream",
       "stream": "stdout",
       "text": [
        "dnpvr_rock_inhib1\n"
       ]
      }
     ],
     "prompt_number": 13
    },
    {
     "cell_type": "code",
     "collapsed": false,
     "input": [
      "with open('name_movie_cooresp.csv', 'w+') as corresp: \n",
      "\n",
      "    for name in names:\n",
      "        store_name = os.path.join('/media/data/AnneHDFStores/', name+'.h5')\n",
      "        oio = ObjectsIO(store_path=store_name)\n",
      "        corresp.write(name + '; '+os.path.basename(oio.metadata['FileName'])+'\\n')\n"
     ],
     "language": "python",
     "metadata": {},
     "outputs": [],
     "prompt_number": 21
    },
    {
     "cell_type": "code",
     "collapsed": false,
     "input": [
      "!pwd\n"
     ],
     "language": "python",
     "metadata": {},
     "outputs": [
      {
       "output_type": "stream",
       "stream": "stdout",
       "text": [
        "/home/guillaume/Notebooks/cell-tracker\r\n"
       ]
      }
     ],
     "prompt_number": 22
    },
    {
     "cell_type": "code",
     "collapsed": false,
     "input": [],
     "language": "python",
     "metadata": {},
     "outputs": []
    }
   ],
   "metadata": {}
  }
 ]
}