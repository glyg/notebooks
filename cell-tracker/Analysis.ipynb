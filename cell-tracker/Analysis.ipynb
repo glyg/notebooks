{
 "metadata": {
  "name": "",
  "signature": "sha256:3564cd0aef334c2f6a0923413ca602278e47845a674566cfcca05357e8fb6030"
 },
 "nbformat": 3,
 "nbformat_minor": 0,
 "worksheets": [
  {
   "cells": [
    {
     "cell_type": "markdown",
     "metadata": {},
     "source": [
      "**Github Issues** : https://github.com/bnoi/cell-tracker/issues/new"
     ]
    },
    {
     "cell_type": "heading",
     "level": 4,
     "metadata": {},
     "source": [
      "Initialize everything"
     ]
    },
    {
     "cell_type": "code",
     "collapsed": false,
     "input": [
      "%load_ext autoreload\n",
      "%autoreload 2"
     ],
     "language": "python",
     "metadata": {},
     "outputs": [],
     "prompt_number": 1
    },
    {
     "cell_type": "code",
     "collapsed": false,
     "input": [
      "### The library used for plotting\n",
      "%matplotlib qt4\n",
      "\n",
      "### This imports various dependencies\n",
      "%run nb_init.py\n",
      "\n",
      "#### \n",
      "import cell_tracker as ct\n"
     ],
     "language": "python",
     "metadata": {},
     "outputs": [],
     "prompt_number": 2
    },
    {
     "cell_type": "heading",
     "level": 1,
     "metadata": {},
     "source": [
      "1. Data loading and preparation"
     ]
    },
    {
     "cell_type": "heading",
     "level": 2,
     "metadata": {},
     "source": [
      "1.1 Pick the directory and get the relevant data"
     ]
    },
    {
     "cell_type": "markdown",
     "metadata": {},
     "source": [
      "Here you can pick either a TIFF or a `.h5` file or an excel file"
     ]
    },
    {
     "cell_type": "code",
     "collapsed": false,
     "input": [
      "## You can set this to the common path of all your data\n",
      "default_path = '/media/data/AnneHDFStores/'\n",
      "cluster = ct.ui.get_cluster(default_path)"
     ],
     "language": "python",
     "metadata": {},
     "outputs": [
      {
       "output_type": "stream",
       "stream": "stdout",
       "text": [
        "Choosen data path: /media/data/AnneHDFStores/wt_240812.h5\n"
       ]
      }
     ],
     "prompt_number": 3
    },
    {
     "cell_type": "heading",
     "level": 4,
     "metadata": {},
     "source": [
      "Set metadata"
     ]
    },
    {
     "cell_type": "code",
     "collapsed": false,
     "input": [
      "smw = ct.ui.set_metadata(cluster.metadata)\n",
      "display.display(smw)"
     ],
     "language": "python",
     "metadata": {},
     "outputs": [],
     "prompt_number": 4
    },
    {
     "cell_type": "heading",
     "level": 2,
     "metadata": {},
     "source": [
      "1.2 Scaling and basic computations"
     ]
    },
    {
     "cell_type": "markdown",
     "metadata": {},
     "source": [
      "In the cell below, if you change `True` to `False`, the scale of the data will be changed form pixels to microns.\n",
      "\n",
      "**Change the value bellow ONLY if you haven't scaled the data before**"
     ]
    },
    {
     "cell_type": "code",
     "collapsed": false,
     "input": [
      "cluster.was_scaled = True ### Set this to False if you need to scale the data to physical size"
     ],
     "language": "python",
     "metadata": {},
     "outputs": [],
     "prompt_number": 5
    },
    {
     "cell_type": "heading",
     "level": 4,
     "metadata": {},
     "source": [
      "Basic computations"
     ]
    },
    {
     "cell_type": "code",
     "collapsed": false,
     "input": [
      "cluster.trajs.head()"
     ],
     "language": "python",
     "metadata": {},
     "outputs": [
      {
       "html": [
        "<div style=\"max-height:1000px;max-width:1500px;overflow:auto;\">\n",
        "<table border=\"1\" class=\"dataframe\">\n",
        "  <thead>\n",
        "    <tr style=\"text-align: right;\">\n",
        "      <th></th>\n",
        "      <th></th>\n",
        "      <th>x</th>\n",
        "      <th>y</th>\n",
        "      <th>z</th>\n",
        "      <th>t</th>\n",
        "      <th>x_c</th>\n",
        "      <th>y_c</th>\n",
        "      <th>z_c</th>\n",
        "      <th>x_r</th>\n",
        "      <th>y_r</th>\n",
        "      <th>z_r</th>\n",
        "      <th>x_r_pca</th>\n",
        "      <th>y_r_pca</th>\n",
        "      <th>z_r_pca</th>\n",
        "      <th>theta</th>\n",
        "      <th>rho</th>\n",
        "      <th>dtheta</th>\n",
        "      <th>cum_disp</th>\n",
        "    </tr>\n",
        "    <tr>\n",
        "      <th>t_stamp</th>\n",
        "      <th>label</th>\n",
        "      <th></th>\n",
        "      <th></th>\n",
        "      <th></th>\n",
        "      <th></th>\n",
        "      <th></th>\n",
        "      <th></th>\n",
        "      <th></th>\n",
        "      <th></th>\n",
        "      <th></th>\n",
        "      <th></th>\n",
        "      <th></th>\n",
        "      <th></th>\n",
        "      <th></th>\n",
        "      <th></th>\n",
        "      <th></th>\n",
        "      <th></th>\n",
        "      <th></th>\n",
        "    </tr>\n",
        "  </thead>\n",
        "  <tbody>\n",
        "    <tr>\n",
        "      <th rowspan=\"5\" valign=\"top\">1</th>\n",
        "      <th>1</th>\n",
        "      <td> 66.654</td>\n",
        "      <td> 49.910</td>\n",
        "      <td> 9.0</td>\n",
        "      <td> 0</td>\n",
        "      <td> 62.287623</td>\n",
        "      <td> 42.843221</td>\n",
        "      <td> 6.701917</td>\n",
        "      <td> 4.366377</td>\n",
        "      <td>  7.066779</td>\n",
        "      <td> 2.298083</td>\n",
        "      <td> -3.867995</td>\n",
        "      <td>-1.449636</td>\n",
        "      <td> 1.476316</td>\n",
        "      <td> 1.017338</td>\n",
        "      <td>  8.306901</td>\n",
        "      <td> 0</td>\n",
        "      <td> 0</td>\n",
        "    </tr>\n",
        "    <tr>\n",
        "      <th>2</th>\n",
        "      <td> 57.477</td>\n",
        "      <td> 50.393</td>\n",
        "      <td> 7.5</td>\n",
        "      <td> 0</td>\n",
        "      <td> 62.287623</td>\n",
        "      <td> 42.843221</td>\n",
        "      <td> 6.701917</td>\n",
        "      <td>-4.810623</td>\n",
        "      <td>  7.549779</td>\n",
        "      <td> 0.798083</td>\n",
        "      <td> -8.218758</td>\n",
        "      <td> 6.615880</td>\n",
        "      <td>-0.172601</td>\n",
        "      <td> 2.138112</td>\n",
        "      <td>  8.952165</td>\n",
        "      <td> 0</td>\n",
        "      <td> 0</td>\n",
        "    </tr>\n",
        "    <tr>\n",
        "      <th>3</th>\n",
        "      <td> 60.697</td>\n",
        "      <td> 32.361</td>\n",
        "      <td> 6.0</td>\n",
        "      <td> 0</td>\n",
        "      <td> 62.287623</td>\n",
        "      <td> 42.843221</td>\n",
        "      <td> 6.701917</td>\n",
        "      <td>-1.590623</td>\n",
        "      <td>-10.482221</td>\n",
        "      <td>-0.701917</td>\n",
        "      <td>-21.986221</td>\n",
        "      <td>-5.506419</td>\n",
        "      <td>-1.303194</td>\n",
        "      <td>-1.721392</td>\n",
        "      <td> 10.602219</td>\n",
        "      <td> 0</td>\n",
        "      <td> 0</td>\n",
        "    </tr>\n",
        "    <tr>\n",
        "      <th>4</th>\n",
        "      <td> 64.722</td>\n",
        "      <td> 40.572</td>\n",
        "      <td> 6.0</td>\n",
        "      <td> 0</td>\n",
        "      <td> 62.287623</td>\n",
        "      <td> 42.843221</td>\n",
        "      <td> 6.701917</td>\n",
        "      <td> 2.434377</td>\n",
        "      <td> -2.271221</td>\n",
        "      <td>-0.701917</td>\n",
        "      <td>-12.877929</td>\n",
        "      <td>-4.698246</td>\n",
        "      <td>-1.386987</td>\n",
        "      <td>-0.750739</td>\n",
        "      <td>  3.329360</td>\n",
        "      <td> 0</td>\n",
        "      <td> 0</td>\n",
        "    </tr>\n",
        "    <tr>\n",
        "      <th>5</th>\n",
        "      <td> 61.341</td>\n",
        "      <td> 41.538</td>\n",
        "      <td> 6.0</td>\n",
        "      <td> 0</td>\n",
        "      <td> 62.287623</td>\n",
        "      <td> 42.843221</td>\n",
        "      <td> 6.701917</td>\n",
        "      <td>-0.946623</td>\n",
        "      <td> -1.305221</td>\n",
        "      <td>-0.701917</td>\n",
        "      <td>-13.802760</td>\n",
        "      <td>-1.306455</td>\n",
        "      <td>-1.455970</td>\n",
        "      <td>-2.198274</td>\n",
        "      <td>  1.612358</td>\n",
        "      <td> 0</td>\n",
        "      <td> 0</td>\n",
        "    </tr>\n",
        "  </tbody>\n",
        "</table>\n",
        "</div>"
       ],
       "metadata": {},
       "output_type": "pyout",
       "prompt_number": 7,
       "text": [
        "                    x       y    z  t        x_c        y_c       z_c  \\\n",
        "t_stamp label                                                           \n",
        "1       1      66.654  49.910  9.0  0  62.287623  42.843221  6.701917   \n",
        "        2      57.477  50.393  7.5  0  62.287623  42.843221  6.701917   \n",
        "        3      60.697  32.361  6.0  0  62.287623  42.843221  6.701917   \n",
        "        4      64.722  40.572  6.0  0  62.287623  42.843221  6.701917   \n",
        "        5      61.341  41.538  6.0  0  62.287623  42.843221  6.701917   \n",
        "\n",
        "                    x_r        y_r       z_r    x_r_pca   y_r_pca   z_r_pca  \\\n",
        "t_stamp label                                                                 \n",
        "1       1      4.366377   7.066779  2.298083  -3.867995 -1.449636  1.476316   \n",
        "        2     -4.810623   7.549779  0.798083  -8.218758  6.615880 -0.172601   \n",
        "        3     -1.590623 -10.482221 -0.701917 -21.986221 -5.506419 -1.303194   \n",
        "        4      2.434377  -2.271221 -0.701917 -12.877929 -4.698246 -1.386987   \n",
        "        5     -0.946623  -1.305221 -0.701917 -13.802760 -1.306455 -1.455970   \n",
        "\n",
        "                  theta        rho  dtheta  cum_disp  \n",
        "t_stamp label                                         \n",
        "1       1      1.017338   8.306901       0         0  \n",
        "        2      2.138112   8.952165       0         0  \n",
        "        3     -1.721392  10.602219       0         0  \n",
        "        4     -0.750739   3.329360       0         0  \n",
        "        5     -2.198274   1.612358       0         0  "
       ]
      }
     ],
     "prompt_number": 7
    },
    {
     "cell_type": "code",
     "collapsed": false,
     "input": [
      "if not cluster.was_scaled:\n",
      "    cluster.scale_pix_to_physical()\n",
      "\n",
      "### Computes the position of the nuclei with respect to the cluster center\n",
      "cluster.get_center(smooth=10)\n",
      "\n",
      "### Computes the angle of the nuclei with respect to the cluster center\n",
      "cluster.cumulative_angle()\n",
      "\n",
      "### Save the trajectories to the .h5 file\n",
      "cluster.save_trajs()\n",
      "print('''Trajectories for this experiment are stored in the file {}'''.format(cluster.oio.store_path))"
     ],
     "language": "python",
     "metadata": {},
     "outputs": [
      {
       "output_type": "stream",
       "stream": "stdout",
       "text": [
        "Trajectories for this experiment are stored in the file /media/data/AnneHDFStores/wt_240812.h5\n"
       ]
      }
     ],
     "prompt_number": 8
    },
    {
     "cell_type": "heading",
     "level": 4,
     "metadata": {},
     "source": [
      "Each nucleus trajectory is represented by a segment"
     ]
    },
    {
     "cell_type": "code",
     "collapsed": false,
     "input": [
      "## This means that we go over all the segments\n",
      "## contained in the cluster trajectories\n",
      "colors = cluster.trajs.get_colors()\n",
      "\n",
      "for label, segment in cluster.trajs.iter_segments:\n",
      "    print('Segment with label {} has {} time points and has color code {}'\n",
      "          .format(label, segment.shape[0], colors[label]))"
     ],
     "language": "python",
     "metadata": {},
     "outputs": [
      {
       "output_type": "stream",
       "stream": "stdout",
       "text": [
        "Segment with label 1 has 35 time points and has color code g\n",
        "Segment with label 2 has 35 time points and has color code r\n",
        "Segment with label 3 has 35 time points and has color code c\n",
        "Segment with label 4 has 35 time points and has color code m\n",
        "Segment with label 5 has 35 time points and has color code y\n"
       ]
      }
     ],
     "prompt_number": 9
    },
    {
     "cell_type": "heading",
     "level": 1,
     "metadata": {},
     "source": [
      "2. Basic ploting functionalities"
     ]
    },
    {
     "cell_type": "heading",
     "level": 2,
     "metadata": {},
     "source": [
      "2.1 Plot the coordinates versus time"
     ]
    },
    {
     "cell_type": "code",
     "collapsed": false,
     "input": [
      "axes = draw.plot_stacked_coords(cluster.trajs, coords=['x', 'y', 'z'])"
     ],
     "language": "python",
     "metadata": {},
     "outputs": [],
     "prompt_number": 10
    },
    {
     "cell_type": "markdown",
     "metadata": {},
     "source": [
      "It is also possible to access a single segment"
     ]
    },
    {
     "cell_type": "heading",
     "level": 2,
     "metadata": {},
     "source": [
      "2.2 Plot a single segment (x versus y)"
     ]
    },
    {
     "cell_type": "code",
     "collapsed": false,
     "input": [
      "segments = cluster.trajs.get_segments() \n",
      "### We access a segment by giving it's label\n",
      "seg0 = segments[2]\n",
      "\n",
      "fig, ax = plt.subplots()\n",
      "ax.plot(seg0.x, seg0.y, 'k-');\n",
      "ax.set_xlabel('x position')\n",
      "ax.set_xlabel('y position')"
     ],
     "language": "python",
     "metadata": {},
     "outputs": [
      {
       "metadata": {},
       "output_type": "pyout",
       "prompt_number": 14,
       "text": [
        "<matplotlib.text.Text at 0x7f4ece2c4810>"
       ]
      }
     ],
     "prompt_number": 14
    },
    {
     "cell_type": "heading",
     "level": 2,
     "metadata": {},
     "source": [
      "2.3 Positions against time relative to the cluster center"
     ]
    },
    {
     "cell_type": "markdown",
     "metadata": {},
     "source": [
      "When we computed the center position, we created new columns in the data\n",
      "the position of the center is given by `x_c, y_c, z_c`, and the positions\n",
      "of the nuclei relative to the center by `x_r, y_r, z_r`."
     ]
    },
    {
     "cell_type": "code",
     "collapsed": false,
     "input": [
      "axes = draw.plot_stacked_coords(cluster.trajs,\n",
      "                                coords=['x_r', 'y_r', 'z_r'])"
     ],
     "language": "python",
     "metadata": {},
     "outputs": [],
     "prompt_number": 201
    },
    {
     "cell_type": "heading",
     "level": 2,
     "metadata": {},
     "source": [
      "2.4 Positions in 3D (absolute positions)"
     ]
    },
    {
     "cell_type": "heading",
     "level": 4,
     "metadata": {},
     "source": [
      "All in the same graph"
     ]
    },
    {
     "cell_type": "code",
     "collapsed": false,
     "input": [
      "cluster.metadata['FileName']"
     ],
     "language": "python",
     "metadata": {},
     "outputs": [
      {
       "metadata": {},
       "output_type": "pyout",
       "prompt_number": 200,
       "text": [
        "'/media/data/xiaobo/WT-IONOM-confocal_080613/dsRed/border_cell_dsRed-WTionomycin_080613-sample1__t000.tif'"
       ]
      }
     ],
     "prompt_number": 200
    },
    {
     "cell_type": "code",
     "collapsed": false,
     "input": [
      "\n",
      "### The coordinates to plot\n",
      "coords=['x', 'y', 'z']\n",
      "\n",
      "### Get the colors of the different trajectories\n",
      "colors = cluster.trajs.get_colors()\n",
      "\n",
      "### Get all the segments\n",
      "segments = cluster.trajs.get_segments()\n",
      "\n",
      "### The code below puts a all the trajectories on the same graph\n",
      "axes, ax_3d = None, None\n",
      "for label in cluster.trajs.labels:\n",
      "    segment = segments[label]\n",
      "    scatter_kw = {'c':segment.t.astype(np.float),\n",
      "                  'cmap':'spectral',\n",
      "                  's':40,\n",
      "                  'alpha':0.8,\n",
      "                  'edgecolors':'none'}\n",
      "    line_kw = {'c':'gray',#tracker.label_colors[label],\n",
      "               'ls':'-',\n",
      "               'alpha':0.8, 'lw':0.75}\n",
      "\n",
      "    axes, ax_3d = draw.show_4panels(cluster.trajs, label,\n",
      "                                    axes=axes, ax_3d=ax_3d,\n",
      "                                    scatter_kw=scatter_kw,\n",
      "                                    line_kw=line_kw,\n",
      "                                    coords=coords)\n"
     ],
     "language": "python",
     "metadata": {},
     "outputs": [],
     "prompt_number": 6
    },
    {
     "cell_type": "heading",
     "level": 4,
     "metadata": {},
     "source": [
      "A single nucleus"
     ]
    },
    {
     "cell_type": "code",
     "collapsed": false,
     "input": [
      "### Choose the label\n",
      "label = 1\n",
      "\n",
      "### The coordinates to plot\n",
      "coords=['x', 'y', 'z']\n",
      "\n",
      "\n",
      "segment = segments[label]\n",
      "scatter_kw = {'c':segment.t.astype(np.float),\n",
      "              'cmap':'spectral',\n",
      "              's':40,\n",
      "              'alpha':0.8,\n",
      "              'edgecolors':'none'}\n",
      "line_kw = {'c':'gray',#tracker.label_colors[label],\n",
      "           'ls':'-',\n",
      "           'alpha':0.8, 'lw':0.75}\n",
      "\n",
      "\n",
      "axes, ax_3d = draw.show_4panels(cluster.trajs, label,\n",
      "                                axes=None, ax_3d=None,\n",
      "                                scatter_kw=scatter_kw,\n",
      "                                line_kw=line_kw,\n",
      "                                coords=coords)\n"
     ],
     "language": "python",
     "metadata": {},
     "outputs": [],
     "prompt_number": 204
    },
    {
     "cell_type": "heading",
     "level": 2,
     "metadata": {},
     "source": [
      "2.5 Positions in 3D relative to cluster center"
     ]
    },
    {
     "cell_type": "code",
     "collapsed": false,
     "input": [
      "### Choose the label\n",
      "label = 2\n",
      "\n",
      "### Get the colors of the different trajectories\n",
      "colors = cluster.trajs.get_colors()\n",
      "\n",
      "### The coordinates to plot\n",
      "coords=['x_r', 'y_r', 'z_r']\n",
      "\n",
      "segment = segments[label]\n",
      "scatter_kw = {'c':segment.t.astype(np.float),\n",
      "              'cmap':'spectral',\n",
      "              's':40,\n",
      "              'alpha':0.8,\n",
      "              'edgecolors':'none'}\n",
      "line_kw = {'c':'gray',#tracker.label_colors[label],\n",
      "           'ls':'-',\n",
      "           'alpha':0.8, 'lw':0.75}\n",
      "\n",
      "\n",
      "axes, ax_3d = draw.show_4panels(cluster.trajs, label,\n",
      "                                axes=None, ax_3d=None,\n",
      "                                scatter_kw=scatter_kw,\n",
      "                                line_kw=line_kw,\n",
      "                                coords=coords)\n"
     ],
     "language": "python",
     "metadata": {},
     "outputs": [],
     "prompt_number": 15
    },
    {
     "cell_type": "heading",
     "level": 2,
     "metadata": {},
     "source": [
      "2.6 Polar histogram"
     ]
    },
    {
     "cell_type": "code",
     "collapsed": false,
     "input": [
      "ax = ct.graphics.polar_histogram(cluster, ax=None, alpha=0.5)"
     ],
     "language": "python",
     "metadata": {},
     "outputs": [],
     "prompt_number": 206
    },
    {
     "cell_type": "heading",
     "level": 1,
     "metadata": {},
     "source": [
      "3. Ellipses and rotation detection"
     ]
    },
    {
     "cell_type": "heading",
     "level": 2,
     "metadata": {},
     "source": [
      "3.1 Fit ellipses of different sizes over the trajectories"
     ]
    },
    {
     "cell_type": "heading",
     "level": 4,
     "metadata": {},
     "source": [
      "Define the sizes and the fitting method"
     ]
    },
    {
     "cell_type": "markdown",
     "metadata": {},
     "source": [
      "The sizes of the fitting windows are given in minutes"
     ]
    },
    {
     "cell_type": "code",
     "collapsed": false,
     "input": [
      "sizes = [24, 36, 48]#np.arange(24, 66, 12)\n",
      "detection_method = 'polar' ### This must be 'polar' or 'cartesian'\n"
     ],
     "language": "python",
     "metadata": {},
     "outputs": [],
     "prompt_number": 18
    },
    {
     "cell_type": "heading",
     "level": 4,
     "metadata": {},
     "source": [
      "Do the computation"
     ]
    },
    {
     "cell_type": "code",
     "collapsed": false,
     "input": [
      "### Fits ellipses and detect rotations\n",
      "### This might take some time\n",
      "for size in sizes:\n",
      "    print('Computing for a window of {} min'.format(size))\n",
      "    cluster.compute_ellipticity(size, method=detection_method, sampling=2, smooth=2)"
     ],
     "language": "python",
     "metadata": {},
     "outputs": [
      {
       "output_type": "stream",
       "stream": "stdout",
       "text": [
        "Computing for a window of 24 min\n",
        "Computing for a window of 36 min"
       ]
      },
      {
       "output_type": "stream",
       "stream": "stdout",
       "text": [
        "\n",
        "Computing for a window of 48 min"
       ]
      },
      {
       "output_type": "stream",
       "stream": "stdout",
       "text": [
        "\n"
       ]
      }
     ],
     "prompt_number": 19
    },
    {
     "cell_type": "heading",
     "level": 2,
     "metadata": {},
     "source": [
      "3.2 Rotation detection"
     ]
    },
    {
     "cell_type": "code",
     "collapsed": false,
     "input": [
      "display.SVG('ellipsis_detection.svg')"
     ],
     "language": "python",
     "metadata": {},
     "outputs": []
    },
    {
     "cell_type": "heading",
     "level": 3,
     "metadata": {},
     "source": [
      "3.2.1 Setting rotation detection cutoffs"
     ]
    },
    {
     "cell_type": "code",
     "collapsed": false,
     "input": [
      "### You can change the name of the file bellow if you're using other cutoffs\n",
      "settings_json = 'ellipsis_cutoffs.json'\n",
      "\n",
      "setter_widget = ct.ui.ipy_widgets.set_ellipsis_limits(jsonfile=settings_json)\n",
      "ellipsis_cutoffs = setter_widget.settings\n",
      "display.display(setter_widget)"
     ],
     "language": "python",
     "metadata": {},
     "outputs": [],
     "prompt_number": 15
    },
    {
     "cell_type": "heading",
     "level": 3,
     "metadata": {},
     "source": [
      "3.2.2 Detection (redo if you change the cutoffs)"
     ]
    },
    {
     "cell_type": "code",
     "collapsed": false,
     "input": [
      "cluster.detect_rotations(ellipsis_cutoffs, sizes, method='binary')"
     ],
     "language": "python",
     "metadata": {},
     "outputs": [],
     "prompt_number": 20
    },
    {
     "cell_type": "heading",
     "level": 3,
     "metadata": {},
     "source": [
      "3.2.3 Plot rotation events"
     ]
    },
    {
     "cell_type": "code",
     "collapsed": false,
     "input": [
      "ct.graphics.show_ellipses_clusters(cluster, sizes, ellipsis_cutoffs)\n",
      "ax, total_rot, n_detected = ct.graphics.plot_rotation_events(cluster, ax=None,\n",
      "                                                             show_segments=True)"
     ],
     "language": "python",
     "metadata": {},
     "outputs": [],
     "prompt_number": 21
    },
    {
     "cell_type": "heading",
     "level": 3,
     "metadata": {},
     "source": [
      "3.2.4  Save the rotation index to a `csv` file"
     ]
    },
    {
     "cell_type": "code",
     "collapsed": false,
     "input": [
      "csv_fname = cluster.oio.store_path.replace('.h5', '_rotation_index.csv')\n",
      "total_rot.to_csv(csv_fname)\n",
      "print('Rotation index saved to {}'.format(csv_fname))"
     ],
     "language": "python",
     "metadata": {},
     "outputs": [
      {
       "output_type": "stream",
       "stream": "stdout",
       "text": [
        "Rotation index saved to /media/data/AnneHDFStores/wt_240812_rotation_index.csv\n"
       ]
      }
     ],
     "prompt_number": 23
    },
    {
     "cell_type": "heading",
     "level": 3,
     "metadata": {},
     "source": [
      "3.2.3 Basic stats on the rotation index"
     ]
    },
    {
     "cell_type": "code",
     "collapsed": false,
     "input": [
      "%load_ext autoreload\n",
      "%autoreload 2"
     ],
     "language": "python",
     "metadata": {},
     "outputs": [],
     "prompt_number": 15
    },
    {
     "cell_type": "code",
     "collapsed": false,
     "input": [
      "### If you want to compute the rotation index average between\n",
      "### two stacks, set here the number of the first and last ones\n",
      "start_frame = 1\n",
      "end_frame = 7\n",
      "\n",
      "print('Average value of the rotation index between frame {} and {}:'.format(start_frame, end_frame))\n",
      "print('\\t {0:.3f}'.format(total_rot.loc[start_frame: end_frame].mean()))\n",
      "\n",
      "print('Global average of the rotation index: ')\n",
      "print('\\t {0:.3f}'.format(total_rot.mean()))"
     ],
     "language": "python",
     "metadata": {},
     "outputs": [
      {
       "output_type": "stream",
       "stream": "stdout",
       "text": [
        "Average value of the rotation index between frame 1 and 7:\n",
        "\t 0.171\n",
        "Global average of the rotation index: \n",
        "\t 0.321\n"
       ]
      }
     ],
     "prompt_number": 24
    },
    {
     "cell_type": "heading",
     "level": 2,
     "metadata": {},
     "source": [
      "3.3 Four panels views of the trajectories and the detected ellipses"
     ]
    },
    {
     "cell_type": "heading",
     "level": 4,
     "metadata": {},
     "source": [
      "Single segment"
     ]
    },
    {
     "cell_type": "code",
     "collapsed": false,
     "input": [
      "cluster.trajs.get_colors()"
     ],
     "language": "python",
     "metadata": {},
     "outputs": [
      {
       "metadata": {},
       "output_type": "pyout",
       "prompt_number": 26,
       "text": [
        "{1: 'g', 2: 'r', 3: 'c', 4: 'm', 5: 'y'}"
       ]
      }
     ],
     "prompt_number": 26
    },
    {
     "cell_type": "code",
     "collapsed": false,
     "input": [
      "\n",
      "\n",
      "colors = cluster.trajs.get_colors()\n",
      "segments = cluster.trajs.get_segments()\n",
      "\n",
      "### Choose the label\n",
      "label = 3\n",
      "\n",
      "\n",
      "### Grab the corresponding segment\n",
      "segment = segments[label]\n",
      "\n",
      "## Paramters for the scatter plot (the bullets) \n",
      "scatter_kw = {'c':segment.t.astype(np.float),\n",
      "              'cmap':'spectral',\n",
      "              's':40,\n",
      "              'alpha':0.8,\n",
      "              'edgecolors':'none'}\n",
      "\n",
      "## Paramters for the line plot \n",
      "line_kw = {'c': 'gray',\n",
      "           'ls': '-',\n",
      "           'alpha': 0.8,\n",
      "           'lw': 0.75}\n",
      "\n",
      "## Parameters for the ellipses\n",
      "ellipsis_kw = {'c':'k', 'alpha':1., 'lw':0.5}\n",
      "\n",
      "axes, ax_3d = ct.graphics.show_4panel_ellipses(cluster,\n",
      "                                               label,\n",
      "                                               sizes,\n",
      "                                               ellipsis_cutoffs,\n",
      "                                               method=detection_method,\n",
      "                                               scatter_kw=scatter_kw,\n",
      "                                               line_kw=line_kw,\n",
      "                                               ellipsis_kw=ellipsis_kw,\n",
      "                                               axes=None, ax_3d=None)\n"
     ],
     "language": "python",
     "metadata": {},
     "outputs": [
      {
       "ename": "KeyError",
       "evalue": "'x_r'",
       "output_type": "pyerr",
       "traceback": [
        "\u001b[1;31m---------------------------------------------------------------------------\u001b[0m\n\u001b[1;31mKeyError\u001b[0m                                  Traceback (most recent call last)",
        "\u001b[1;32m<ipython-input-25-7590ec34e481>\u001b[0m in \u001b[0;36m<module>\u001b[1;34m()\u001b[0m\n\u001b[0;32m      2\u001b[0m \u001b[0mcluster\u001b[0m\u001b[1;33m.\u001b[0m\u001b[0mtrajs_back\u001b[0m \u001b[1;33m=\u001b[0m \u001b[0mcluster\u001b[0m\u001b[1;33m.\u001b[0m\u001b[0mtrajs\u001b[0m\u001b[1;33m.\u001b[0m\u001b[0mcopy\u001b[0m\u001b[1;33m(\u001b[0m\u001b[1;33m)\u001b[0m\u001b[1;33m\u001b[0m\u001b[0m\n\u001b[0;32m      3\u001b[0m \u001b[1;33m\u001b[0m\u001b[0m\n\u001b[1;32m----> 4\u001b[1;33m \u001b[0mcluster\u001b[0m\u001b[1;33m.\u001b[0m\u001b[0mtrajs\u001b[0m \u001b[1;33m=\u001b[0m \u001b[0mcluster\u001b[0m\u001b[1;33m.\u001b[0m\u001b[0mtrajs\u001b[0m\u001b[1;33m.\u001b[0m\u001b[0mtime_interpolate\u001b[0m\u001b[1;33m(\u001b[0m\u001b[0msampling\u001b[0m\u001b[1;33m=\u001b[0m\u001b[1;36m2\u001b[0m\u001b[1;33m,\u001b[0m \u001b[0ms\u001b[0m\u001b[1;33m=\u001b[0m\u001b[1;36m2\u001b[0m\u001b[1;33m,\u001b[0m \u001b[0mcoords\u001b[0m\u001b[1;33m=\u001b[0m\u001b[1;33m[\u001b[0m\u001b[1;34m'x_r'\u001b[0m\u001b[1;33m,\u001b[0m \u001b[1;34m'y_r'\u001b[0m\u001b[1;33m,\u001b[0m \u001b[1;34m'z_r'\u001b[0m\u001b[1;33m]\u001b[0m\u001b[1;33m)\u001b[0m\u001b[1;33m\u001b[0m\u001b[0m\n\u001b[0m\u001b[0;32m      5\u001b[0m \u001b[0mcolors\u001b[0m \u001b[1;33m=\u001b[0m \u001b[0mcluster\u001b[0m\u001b[1;33m.\u001b[0m\u001b[0mtrajs\u001b[0m\u001b[1;33m.\u001b[0m\u001b[0mget_colors\u001b[0m\u001b[1;33m(\u001b[0m\u001b[1;33m)\u001b[0m\u001b[1;33m\u001b[0m\u001b[0m\n\u001b[0;32m      6\u001b[0m \u001b[0msegments\u001b[0m \u001b[1;33m=\u001b[0m \u001b[0mcluster\u001b[0m\u001b[1;33m.\u001b[0m\u001b[0mtrajs\u001b[0m\u001b[1;33m.\u001b[0m\u001b[0mget_segments\u001b[0m\u001b[1;33m(\u001b[0m\u001b[1;33m)\u001b[0m\u001b[1;33m\u001b[0m\u001b[0m\n",
        "\u001b[1;32m/home/guillaume/Python/scikit-tracker/sktracker/trajectories/trajectories.py\u001b[0m in \u001b[0;36mtime_interpolate\u001b[1;34m(self, sampling, s, k, time_step, coords)\u001b[0m\n\u001b[0;32m    405\u001b[0m             log.warning('''sampling was set to {} ({}/{})'''\n\u001b[0;32m    406\u001b[0m                         .format(sampling, dt, time_step))\n\u001b[1;32m--> 407\u001b[1;33m         \u001b[0minterpolated\u001b[0m \u001b[1;33m=\u001b[0m \u001b[0mTrajectories\u001b[0m\u001b[1;33m(\u001b[0m\u001b[0mtime_interpolate_\u001b[0m\u001b[1;33m(\u001b[0m\u001b[0mself\u001b[0m\u001b[1;33m,\u001b[0m \u001b[0msampling\u001b[0m\u001b[1;33m,\u001b[0m \u001b[0ms\u001b[0m\u001b[1;33m,\u001b[0m \u001b[0mk\u001b[0m\u001b[1;33m,\u001b[0m \u001b[0mcoords\u001b[0m\u001b[1;33m)\u001b[0m\u001b[1;33m)\u001b[0m\u001b[1;33m\u001b[0m\u001b[0m\n\u001b[0m\u001b[0;32m    408\u001b[0m         \u001b[1;32mreturn\u001b[0m \u001b[0mTrajectories\u001b[0m\u001b[1;33m(\u001b[0m\u001b[0minterpolated\u001b[0m\u001b[1;33m)\u001b[0m\u001b[1;33m\u001b[0m\u001b[0m\n\u001b[0;32m    409\u001b[0m \u001b[1;33m\u001b[0m\u001b[0m\n",
        "\u001b[1;32m/home/guillaume/Python/scikit-tracker/sktracker/trajectories/measures/transformation.py\u001b[0m in \u001b[0;36mtime_interpolate\u001b[1;34m(trajs, sampling, s, k, coords)\u001b[0m\n\u001b[0;32m    108\u001b[0m     interpolated = trajs.groupby(level='label').apply(_segment_interpolate_,\n\u001b[0;32m    109\u001b[0m                                                       \u001b[0msampling\u001b[0m\u001b[1;33m=\u001b[0m\u001b[0msampling\u001b[0m\u001b[1;33m,\u001b[0m \u001b[0ms\u001b[0m\u001b[1;33m=\u001b[0m\u001b[0ms\u001b[0m\u001b[1;33m,\u001b[0m \u001b[0mk\u001b[0m\u001b[1;33m=\u001b[0m\u001b[0mk\u001b[0m\u001b[1;33m,\u001b[0m\u001b[1;33m\u001b[0m\u001b[0m\n\u001b[1;32m--> 110\u001b[1;33m                                                       coords=coords)\n\u001b[0m\u001b[0;32m    111\u001b[0m     interpolated = interpolated.swaplevel(\n\u001b[0;32m    112\u001b[0m         't_stamp', 'label').sortlevel(['label', 't_stamp'])\n",
        "\u001b[1;32m/home/guillaume/python3/lib/python3.3/site-packages/pandas/core/groupby.py\u001b[0m in \u001b[0;36mapply\u001b[1;34m(self, func, *args, **kwargs)\u001b[0m\n\u001b[0;32m    633\u001b[0m             \u001b[1;32mreturn\u001b[0m \u001b[0mfunc\u001b[0m\u001b[1;33m(\u001b[0m\u001b[0mg\u001b[0m\u001b[1;33m,\u001b[0m \u001b[1;33m*\u001b[0m\u001b[0margs\u001b[0m\u001b[1;33m,\u001b[0m \u001b[1;33m**\u001b[0m\u001b[0mkwargs\u001b[0m\u001b[1;33m)\u001b[0m\u001b[1;33m\u001b[0m\u001b[0m\n\u001b[0;32m    634\u001b[0m \u001b[1;33m\u001b[0m\u001b[0m\n\u001b[1;32m--> 635\u001b[1;33m         \u001b[1;32mreturn\u001b[0m \u001b[0mself\u001b[0m\u001b[1;33m.\u001b[0m\u001b[0m_python_apply_general\u001b[0m\u001b[1;33m(\u001b[0m\u001b[0mf\u001b[0m\u001b[1;33m)\u001b[0m\u001b[1;33m\u001b[0m\u001b[0m\n\u001b[0m\u001b[0;32m    636\u001b[0m \u001b[1;33m\u001b[0m\u001b[0m\n\u001b[0;32m    637\u001b[0m     \u001b[1;32mdef\u001b[0m \u001b[0m_python_apply_general\u001b[0m\u001b[1;33m(\u001b[0m\u001b[0mself\u001b[0m\u001b[1;33m,\u001b[0m \u001b[0mf\u001b[0m\u001b[1;33m)\u001b[0m\u001b[1;33m:\u001b[0m\u001b[1;33m\u001b[0m\u001b[0m\n",
        "\u001b[1;32m/home/guillaume/python3/lib/python3.3/site-packages/pandas/core/groupby.py\u001b[0m in \u001b[0;36m_python_apply_general\u001b[1;34m(self, f)\u001b[0m\n\u001b[0;32m    637\u001b[0m     \u001b[1;32mdef\u001b[0m \u001b[0m_python_apply_general\u001b[0m\u001b[1;33m(\u001b[0m\u001b[0mself\u001b[0m\u001b[1;33m,\u001b[0m \u001b[0mf\u001b[0m\u001b[1;33m)\u001b[0m\u001b[1;33m:\u001b[0m\u001b[1;33m\u001b[0m\u001b[0m\n\u001b[0;32m    638\u001b[0m         keys, values, mutated = self.grouper.apply(f, self._selected_obj,\n\u001b[1;32m--> 639\u001b[1;33m                                                    self.axis)\n\u001b[0m\u001b[0;32m    640\u001b[0m \u001b[1;33m\u001b[0m\u001b[0m\n\u001b[0;32m    641\u001b[0m         return self._wrap_applied_output(keys, values,\n",
        "\u001b[1;32m/home/guillaume/python3/lib/python3.3/site-packages/pandas/core/groupby.py\u001b[0m in \u001b[0;36mapply\u001b[1;34m(self, f, data, axis)\u001b[0m\n\u001b[0;32m   1194\u001b[0m             \u001b[1;31m# group might be modified\u001b[0m\u001b[1;33m\u001b[0m\u001b[1;33m\u001b[0m\u001b[0m\n\u001b[0;32m   1195\u001b[0m             \u001b[0mgroup_axes\u001b[0m \u001b[1;33m=\u001b[0m \u001b[0m_get_axes\u001b[0m\u001b[1;33m(\u001b[0m\u001b[0mgroup\u001b[0m\u001b[1;33m)\u001b[0m\u001b[1;33m\u001b[0m\u001b[0m\n\u001b[1;32m-> 1196\u001b[1;33m             \u001b[0mres\u001b[0m \u001b[1;33m=\u001b[0m \u001b[0mf\u001b[0m\u001b[1;33m(\u001b[0m\u001b[0mgroup\u001b[0m\u001b[1;33m)\u001b[0m\u001b[1;33m\u001b[0m\u001b[0m\n\u001b[0m\u001b[0;32m   1197\u001b[0m             \u001b[1;32mif\u001b[0m \u001b[1;32mnot\u001b[0m \u001b[0m_is_indexed_like\u001b[0m\u001b[1;33m(\u001b[0m\u001b[0mres\u001b[0m\u001b[1;33m,\u001b[0m \u001b[0mgroup_axes\u001b[0m\u001b[1;33m)\u001b[0m\u001b[1;33m:\u001b[0m\u001b[1;33m\u001b[0m\u001b[0m\n\u001b[0;32m   1198\u001b[0m                 \u001b[0mmutated\u001b[0m \u001b[1;33m=\u001b[0m \u001b[1;32mTrue\u001b[0m\u001b[1;33m\u001b[0m\u001b[0m\n",
        "\u001b[1;32m/home/guillaume/python3/lib/python3.3/site-packages/pandas/core/groupby.py\u001b[0m in \u001b[0;36mf\u001b[1;34m(g)\u001b[0m\n\u001b[0;32m    631\u001b[0m         \u001b[1;33m@\u001b[0m\u001b[0mwraps\u001b[0m\u001b[1;33m(\u001b[0m\u001b[0mfunc\u001b[0m\u001b[1;33m)\u001b[0m\u001b[1;33m\u001b[0m\u001b[0m\n\u001b[0;32m    632\u001b[0m         \u001b[1;32mdef\u001b[0m \u001b[0mf\u001b[0m\u001b[1;33m(\u001b[0m\u001b[0mg\u001b[0m\u001b[1;33m)\u001b[0m\u001b[1;33m:\u001b[0m\u001b[1;33m\u001b[0m\u001b[0m\n\u001b[1;32m--> 633\u001b[1;33m             \u001b[1;32mreturn\u001b[0m \u001b[0mfunc\u001b[0m\u001b[1;33m(\u001b[0m\u001b[0mg\u001b[0m\u001b[1;33m,\u001b[0m \u001b[1;33m*\u001b[0m\u001b[0margs\u001b[0m\u001b[1;33m,\u001b[0m \u001b[1;33m**\u001b[0m\u001b[0mkwargs\u001b[0m\u001b[1;33m)\u001b[0m\u001b[1;33m\u001b[0m\u001b[0m\n\u001b[0m\u001b[0;32m    634\u001b[0m \u001b[1;33m\u001b[0m\u001b[0m\n\u001b[0;32m    635\u001b[0m         \u001b[1;32mreturn\u001b[0m \u001b[0mself\u001b[0m\u001b[1;33m.\u001b[0m\u001b[0m_python_apply_general\u001b[0m\u001b[1;33m(\u001b[0m\u001b[0mf\u001b[0m\u001b[1;33m)\u001b[0m\u001b[1;33m\u001b[0m\u001b[0m\n",
        "\u001b[1;32m/home/guillaume/Python/scikit-tracker/sktracker/trajectories/measures/transformation.py\u001b[0m in \u001b[0;36m_segment_interpolate_\u001b[1;34m(segment, sampling, s, k, coords)\u001b[0m\n\u001b[0;32m    140\u001b[0m         \u001b[1;31m#pass\u001b[0m\u001b[1;33m\u001b[0m\u001b[1;33m\u001b[0m\u001b[0m\n\u001b[0;32m    141\u001b[0m \u001b[1;33m\u001b[0m\u001b[0m\n\u001b[1;32m--> 142\u001b[1;33m     \u001b[0mtck\u001b[0m \u001b[1;33m=\u001b[0m \u001b[0m_spline_rep\u001b[0m\u001b[1;33m(\u001b[0m\u001b[0msegment\u001b[0m\u001b[1;33m,\u001b[0m \u001b[0mcoords\u001b[0m\u001b[1;33m,\u001b[0m \u001b[0ms\u001b[0m\u001b[1;33m=\u001b[0m\u001b[0ms\u001b[0m\u001b[1;33m,\u001b[0m \u001b[0mk\u001b[0m\u001b[1;33m=\u001b[0m\u001b[0mcorrected_k\u001b[0m\u001b[1;33m)\u001b[0m\u001b[1;33m\u001b[0m\u001b[0m\n\u001b[0m\u001b[0;32m    143\u001b[0m \u001b[1;33m\u001b[0m\u001b[0m\n\u001b[0;32m    144\u001b[0m     \u001b[1;32mfor\u001b[0m \u001b[0mcoord\u001b[0m \u001b[1;32min\u001b[0m \u001b[0mcoords\u001b[0m\u001b[1;33m:\u001b[0m\u001b[1;33m\u001b[0m\u001b[0m\n",
        "\u001b[1;32m/home/guillaume/Python/scikit-tracker/sktracker/trajectories/measures/transformation.py\u001b[0m in \u001b[0;36m_spline_rep\u001b[1;34m(df, coords, s, k)\u001b[0m\n\u001b[0;32m    156\u001b[0m     \u001b[0mtcks\u001b[0m \u001b[1;33m=\u001b[0m \u001b[1;33m{\u001b[0m\u001b[1;33m}\u001b[0m\u001b[1;33m\u001b[0m\u001b[0m\n\u001b[0;32m    157\u001b[0m     \u001b[1;32mfor\u001b[0m \u001b[0mcoord\u001b[0m \u001b[1;32min\u001b[0m \u001b[0mcoords\u001b[0m\u001b[1;33m:\u001b[0m\u001b[1;33m\u001b[0m\u001b[0m\n\u001b[1;32m--> 158\u001b[1;33m         \u001b[0mtcks\u001b[0m\u001b[1;33m[\u001b[0m\u001b[0mcoord\u001b[0m\u001b[1;33m]\u001b[0m \u001b[1;33m=\u001b[0m \u001b[0msplrep\u001b[0m\u001b[1;33m(\u001b[0m\u001b[0mtime\u001b[0m\u001b[1;33m,\u001b[0m \u001b[0mdf\u001b[0m\u001b[1;33m[\u001b[0m\u001b[0mcoord\u001b[0m\u001b[1;33m]\u001b[0m\u001b[1;33m.\u001b[0m\u001b[0mvalues\u001b[0m\u001b[1;33m,\u001b[0m \u001b[0ms\u001b[0m\u001b[1;33m=\u001b[0m\u001b[0ms\u001b[0m\u001b[1;33m,\u001b[0m \u001b[0mk\u001b[0m\u001b[1;33m=\u001b[0m\u001b[0mk\u001b[0m\u001b[1;33m)\u001b[0m\u001b[1;33m\u001b[0m\u001b[0m\n\u001b[0m\u001b[0;32m    159\u001b[0m     \u001b[1;32mreturn\u001b[0m \u001b[0mpd\u001b[0m\u001b[1;33m.\u001b[0m\u001b[0mDataFrame\u001b[0m\u001b[1;33m.\u001b[0m\u001b[0mfrom_dict\u001b[0m\u001b[1;33m(\u001b[0m\u001b[0mtcks\u001b[0m\u001b[1;33m)\u001b[0m\u001b[1;33m\u001b[0m\u001b[0m\n\u001b[0;32m    160\u001b[0m \u001b[1;33m\u001b[0m\u001b[0m\n",
        "\u001b[1;32m/home/guillaume/python3/lib/python3.3/site-packages/pandas/core/frame.py\u001b[0m in \u001b[0;36m__getitem__\u001b[1;34m(self, key)\u001b[0m\n\u001b[0;32m   1682\u001b[0m             \u001b[1;32mreturn\u001b[0m \u001b[0mself\u001b[0m\u001b[1;33m.\u001b[0m\u001b[0m_getitem_multilevel\u001b[0m\u001b[1;33m(\u001b[0m\u001b[0mkey\u001b[0m\u001b[1;33m)\u001b[0m\u001b[1;33m\u001b[0m\u001b[0m\n\u001b[0;32m   1683\u001b[0m         \u001b[1;32melse\u001b[0m\u001b[1;33m:\u001b[0m\u001b[1;33m\u001b[0m\u001b[0m\n\u001b[1;32m-> 1684\u001b[1;33m             \u001b[1;32mreturn\u001b[0m \u001b[0mself\u001b[0m\u001b[1;33m.\u001b[0m\u001b[0m_getitem_column\u001b[0m\u001b[1;33m(\u001b[0m\u001b[0mkey\u001b[0m\u001b[1;33m)\u001b[0m\u001b[1;33m\u001b[0m\u001b[0m\n\u001b[0m\u001b[0;32m   1685\u001b[0m \u001b[1;33m\u001b[0m\u001b[0m\n\u001b[0;32m   1686\u001b[0m     \u001b[1;32mdef\u001b[0m \u001b[0m_getitem_column\u001b[0m\u001b[1;33m(\u001b[0m\u001b[0mself\u001b[0m\u001b[1;33m,\u001b[0m \u001b[0mkey\u001b[0m\u001b[1;33m)\u001b[0m\u001b[1;33m:\u001b[0m\u001b[1;33m\u001b[0m\u001b[0m\n",
        "\u001b[1;32m/home/guillaume/python3/lib/python3.3/site-packages/pandas/core/frame.py\u001b[0m in \u001b[0;36m_getitem_column\u001b[1;34m(self, key)\u001b[0m\n\u001b[0;32m   1689\u001b[0m         \u001b[1;31m# get column\u001b[0m\u001b[1;33m\u001b[0m\u001b[1;33m\u001b[0m\u001b[0m\n\u001b[0;32m   1690\u001b[0m         \u001b[1;32mif\u001b[0m \u001b[0mself\u001b[0m\u001b[1;33m.\u001b[0m\u001b[0mcolumns\u001b[0m\u001b[1;33m.\u001b[0m\u001b[0mis_unique\u001b[0m\u001b[1;33m:\u001b[0m\u001b[1;33m\u001b[0m\u001b[0m\n\u001b[1;32m-> 1691\u001b[1;33m             \u001b[1;32mreturn\u001b[0m \u001b[0mself\u001b[0m\u001b[1;33m.\u001b[0m\u001b[0m_get_item_cache\u001b[0m\u001b[1;33m(\u001b[0m\u001b[0mkey\u001b[0m\u001b[1;33m)\u001b[0m\u001b[1;33m\u001b[0m\u001b[0m\n\u001b[0m\u001b[0;32m   1692\u001b[0m \u001b[1;33m\u001b[0m\u001b[0m\n\u001b[0;32m   1693\u001b[0m         \u001b[1;31m# duplicate columns & possible reduce dimensionaility\u001b[0m\u001b[1;33m\u001b[0m\u001b[1;33m\u001b[0m\u001b[0m\n",
        "\u001b[1;32m/home/guillaume/python3/lib/python3.3/site-packages/pandas/core/generic.py\u001b[0m in \u001b[0;36m_get_item_cache\u001b[1;34m(self, item)\u001b[0m\n\u001b[0;32m   1050\u001b[0m         \u001b[0mres\u001b[0m \u001b[1;33m=\u001b[0m \u001b[0mcache\u001b[0m\u001b[1;33m.\u001b[0m\u001b[0mget\u001b[0m\u001b[1;33m(\u001b[0m\u001b[0mitem\u001b[0m\u001b[1;33m)\u001b[0m\u001b[1;33m\u001b[0m\u001b[0m\n\u001b[0;32m   1051\u001b[0m         \u001b[1;32mif\u001b[0m \u001b[0mres\u001b[0m \u001b[1;32mis\u001b[0m \u001b[1;32mNone\u001b[0m\u001b[1;33m:\u001b[0m\u001b[1;33m\u001b[0m\u001b[0m\n\u001b[1;32m-> 1052\u001b[1;33m             \u001b[0mvalues\u001b[0m \u001b[1;33m=\u001b[0m \u001b[0mself\u001b[0m\u001b[1;33m.\u001b[0m\u001b[0m_data\u001b[0m\u001b[1;33m.\u001b[0m\u001b[0mget\u001b[0m\u001b[1;33m(\u001b[0m\u001b[0mitem\u001b[0m\u001b[1;33m)\u001b[0m\u001b[1;33m\u001b[0m\u001b[0m\n\u001b[0m\u001b[0;32m   1053\u001b[0m             \u001b[0mres\u001b[0m \u001b[1;33m=\u001b[0m \u001b[0mself\u001b[0m\u001b[1;33m.\u001b[0m\u001b[0m_box_item_values\u001b[0m\u001b[1;33m(\u001b[0m\u001b[0mitem\u001b[0m\u001b[1;33m,\u001b[0m \u001b[0mvalues\u001b[0m\u001b[1;33m)\u001b[0m\u001b[1;33m\u001b[0m\u001b[0m\n\u001b[0;32m   1054\u001b[0m             \u001b[0mcache\u001b[0m\u001b[1;33m[\u001b[0m\u001b[0mitem\u001b[0m\u001b[1;33m]\u001b[0m \u001b[1;33m=\u001b[0m \u001b[0mres\u001b[0m\u001b[1;33m\u001b[0m\u001b[0m\n",
        "\u001b[1;32m/home/guillaume/python3/lib/python3.3/site-packages/pandas/core/internals.py\u001b[0m in \u001b[0;36mget\u001b[1;34m(self, item)\u001b[0m\n\u001b[0;32m   2535\u001b[0m \u001b[1;33m\u001b[0m\u001b[0m\n\u001b[0;32m   2536\u001b[0m             \u001b[1;32mif\u001b[0m \u001b[1;32mnot\u001b[0m \u001b[0misnull\u001b[0m\u001b[1;33m(\u001b[0m\u001b[0mitem\u001b[0m\u001b[1;33m)\u001b[0m\u001b[1;33m:\u001b[0m\u001b[1;33m\u001b[0m\u001b[0m\n\u001b[1;32m-> 2537\u001b[1;33m                 \u001b[0mloc\u001b[0m \u001b[1;33m=\u001b[0m \u001b[0mself\u001b[0m\u001b[1;33m.\u001b[0m\u001b[0mitems\u001b[0m\u001b[1;33m.\u001b[0m\u001b[0mget_loc\u001b[0m\u001b[1;33m(\u001b[0m\u001b[0mitem\u001b[0m\u001b[1;33m)\u001b[0m\u001b[1;33m\u001b[0m\u001b[0m\n\u001b[0m\u001b[0;32m   2538\u001b[0m             \u001b[1;32melse\u001b[0m\u001b[1;33m:\u001b[0m\u001b[1;33m\u001b[0m\u001b[0m\n\u001b[0;32m   2539\u001b[0m                 \u001b[0mindexer\u001b[0m \u001b[1;33m=\u001b[0m \u001b[0mnp\u001b[0m\u001b[1;33m.\u001b[0m\u001b[0marange\u001b[0m\u001b[1;33m(\u001b[0m\u001b[0mlen\u001b[0m\u001b[1;33m(\u001b[0m\u001b[0mself\u001b[0m\u001b[1;33m.\u001b[0m\u001b[0mitems\u001b[0m\u001b[1;33m)\u001b[0m\u001b[1;33m)\u001b[0m\u001b[1;33m[\u001b[0m\u001b[0misnull\u001b[0m\u001b[1;33m(\u001b[0m\u001b[0mself\u001b[0m\u001b[1;33m.\u001b[0m\u001b[0mitems\u001b[0m\u001b[1;33m)\u001b[0m\u001b[1;33m]\u001b[0m\u001b[1;33m\u001b[0m\u001b[0m\n",
        "\u001b[1;32m/home/guillaume/python3/lib/python3.3/site-packages/pandas/core/index.py\u001b[0m in \u001b[0;36mget_loc\u001b[1;34m(self, key)\u001b[0m\n\u001b[0;32m   1154\u001b[0m         \u001b[0mloc\u001b[0m \u001b[1;33m:\u001b[0m \u001b[0mint\u001b[0m \u001b[1;32mif\u001b[0m \u001b[0munique\u001b[0m \u001b[0mindex\u001b[0m\u001b[1;33m,\u001b[0m \u001b[0mpossibly\u001b[0m \u001b[0mslice\u001b[0m \u001b[1;32mor\u001b[0m \u001b[0mmask\u001b[0m \u001b[1;32mif\u001b[0m \u001b[1;32mnot\u001b[0m\u001b[1;33m\u001b[0m\u001b[0m\n\u001b[0;32m   1155\u001b[0m         \"\"\"\n\u001b[1;32m-> 1156\u001b[1;33m         \u001b[1;32mreturn\u001b[0m \u001b[0mself\u001b[0m\u001b[1;33m.\u001b[0m\u001b[0m_engine\u001b[0m\u001b[1;33m.\u001b[0m\u001b[0mget_loc\u001b[0m\u001b[1;33m(\u001b[0m\u001b[0m_values_from_object\u001b[0m\u001b[1;33m(\u001b[0m\u001b[0mkey\u001b[0m\u001b[1;33m)\u001b[0m\u001b[1;33m)\u001b[0m\u001b[1;33m\u001b[0m\u001b[0m\n\u001b[0m\u001b[0;32m   1157\u001b[0m \u001b[1;33m\u001b[0m\u001b[0m\n\u001b[0;32m   1158\u001b[0m     \u001b[1;32mdef\u001b[0m \u001b[0mget_value\u001b[0m\u001b[1;33m(\u001b[0m\u001b[0mself\u001b[0m\u001b[1;33m,\u001b[0m \u001b[0mseries\u001b[0m\u001b[1;33m,\u001b[0m \u001b[0mkey\u001b[0m\u001b[1;33m)\u001b[0m\u001b[1;33m:\u001b[0m\u001b[1;33m\u001b[0m\u001b[0m\n",
        "\u001b[1;32m/home/guillaume/python3/lib/python3.3/site-packages/pandas/index.cpython-33m.so\u001b[0m in \u001b[0;36mpandas.index.IndexEngine.get_loc (pandas/index.c:3353)\u001b[1;34m()\u001b[0m\n",
        "\u001b[1;32m/home/guillaume/python3/lib/python3.3/site-packages/pandas/index.cpython-33m.so\u001b[0m in \u001b[0;36mpandas.index.IndexEngine.get_loc (pandas/index.c:3233)\u001b[1;34m()\u001b[0m\n",
        "\u001b[1;32m/home/guillaume/python3/lib/python3.3/site-packages/pandas/hashtable.cpython-33m.so\u001b[0m in \u001b[0;36mpandas.hashtable.PyObjectHashTable.get_item (pandas/hashtable.c:11148)\u001b[1;34m()\u001b[0m\n",
        "\u001b[1;32m/home/guillaume/python3/lib/python3.3/site-packages/pandas/hashtable.cpython-33m.so\u001b[0m in \u001b[0;36mpandas.hashtable.PyObjectHashTable.get_item (pandas/hashtable.c:11101)\u001b[1;34m()\u001b[0m\n",
        "\u001b[1;31mKeyError\u001b[0m: 'x_r'"
       ]
      }
     ],
     "prompt_number": 25
    },
    {
     "cell_type": "heading",
     "level": 4,
     "metadata": {},
     "source": [
      "All the segments at once"
     ]
    },
    {
     "cell_type": "code",
     "collapsed": false,
     "input": [
      "axes, ax_3d = None, None\n",
      "\n",
      "### Get segments and their colors \n",
      "colors = cluster.trajs.get_colors()\n",
      "segments = cluster.trajs.get_segments()\n",
      "\n",
      "### Choose the label\n",
      "label = 4\n",
      "\n",
      "for label in cluster.trajs.labels:\n",
      "\n",
      "    ### Grab the corresponding segment\n",
      "    segment = segments[label]\n",
      "\n",
      "\n",
      "    ## Paramters for the scatter plot (the bullets) \n",
      "    scatter_kw = {'c':segment.t.astype(np.float),\n",
      "                  'cmap':'spectral',\n",
      "                  's':40,\n",
      "                  'alpha':0.8,\n",
      "                  'edgecolors':'none'}\n",
      "\n",
      "    ## Paramters for the line plot \n",
      "    line_kw = {'c': 'gray',\n",
      "               'ls': '-',\n",
      "               'alpha': 0.8,\n",
      "               'lw': 0.75}\n",
      "\n",
      "    ## Parameters for the ellipses\n",
      "    ellipsis_kw = {'c':'r', 'alpha':0.5, 'lw':1}\n",
      "\n",
      "    axes, ax_3d = ct.graphics.show_4panel_ellipses(cluster,\n",
      "                                                   label,\n",
      "                                                   sizes,\n",
      "                                                   ellipsis_cutoffs,\n",
      "                                                   scatter_kw=scatter_kw,\n",
      "                                                   line_kw=line_kw,\n",
      "                                                   ellipsis_kw=ellipsis_kw,\n",
      "                                                   axes=axes, ax_3d=ax_3d)\n"
     ],
     "language": "python",
     "metadata": {},
     "outputs": [
      {
       "ename": "NameError",
       "evalue": "name 'sizes' is not defined",
       "output_type": "pyerr",
       "traceback": [
        "\u001b[1;31m---------------------------------------------------------------------------\u001b[0m\n\u001b[1;31mNameError\u001b[0m                                 Traceback (most recent call last)",
        "\u001b[1;32m<ipython-input-32-433da1ba1ede>\u001b[0m in \u001b[0;36m<module>\u001b[1;34m()\u001b[0m\n\u001b[0;32m     32\u001b[0m     axes, ax_3d = ct.graphics.show_4panel_ellipses(cluster,\n\u001b[0;32m     33\u001b[0m                                                    \u001b[0mlabel\u001b[0m\u001b[1;33m,\u001b[0m\u001b[1;33m\u001b[0m\u001b[0m\n\u001b[1;32m---> 34\u001b[1;33m                                                    \u001b[0msizes\u001b[0m\u001b[1;33m,\u001b[0m\u001b[1;33m\u001b[0m\u001b[0m\n\u001b[0m\u001b[0;32m     35\u001b[0m                                                    \u001b[0mellipsis_cutoffs\u001b[0m\u001b[1;33m,\u001b[0m\u001b[1;33m\u001b[0m\u001b[0m\n\u001b[0;32m     36\u001b[0m                                                    \u001b[0mscatter_kw\u001b[0m\u001b[1;33m=\u001b[0m\u001b[0mscatter_kw\u001b[0m\u001b[1;33m,\u001b[0m\u001b[1;33m\u001b[0m\u001b[0m\n",
        "\u001b[1;31mNameError\u001b[0m: name 'sizes' is not defined"
       ]
      }
     ],
     "prompt_number": 32
    },
    {
     "cell_type": "heading",
     "level": 1,
     "metadata": {},
     "source": [
      "3b. Rotation quantification"
     ]
    },
    {
     "cell_type": "code",
     "collapsed": false,
     "input": [
      "from sktracker.trajectories import measures"
     ],
     "language": "python",
     "metadata": {},
     "outputs": [],
     "prompt_number": 7
    },
    {
     "cell_type": "code",
     "collapsed": false,
     "input": [
      "cluster.metadata['FileName']"
     ],
     "language": "python",
     "metadata": {},
     "outputs": [
      {
       "metadata": {},
       "output_type": "pyout",
       "prompt_number": 8,
       "text": [
        "'wt_240812.h5'"
       ]
      }
     ],
     "prompt_number": 8
    },
    {
     "cell_type": "code",
     "collapsed": false,
     "input": [
      "cluster.cumulative_angle()\n",
      "rotation_speeds = measures.radial_speed(cluster.trajs, smooth=2)\n",
      "rotation_speeds['t'] = cluster.trajs.t\n",
      "rotation_speeds['ratio'] = np.abs(rotation_speeds['v_orad']/rotation_speeds['v_rad'])"
     ],
     "language": "python",
     "metadata": {},
     "outputs": [],
     "prompt_number": 9
    },
    {
     "cell_type": "code",
     "collapsed": false,
     "input": [
      "cluster.trajs.index"
     ],
     "language": "python",
     "metadata": {},
     "outputs": [
      {
       "metadata": {},
       "output_type": "pyout",
       "prompt_number": 12,
       "text": [
        "MultiIndex(levels=[[1.0, 2.0, 3.0, 4.0, 5.0, 6.0, 7.0, 8.0, 9.0, 10.0, 11.0, 12.0, 13.0, 14.0, 15.0, 16.0, 17.0, 18.0, 19.0, 20.0, 21.0, 22.0, 23.0, 24.0, 25.0, 26.0, 27.0, 28.0, 29.0, 30.0, 31.0, 32.0, 33.0, 34.0, 35.0], [1.0, 2.0, 3.0, 4.0, 5.0]],\n",
        "           labels=[[0, 0, 0, 0, 0, 1, 1, 1, 1, 1, 2, 2, 2, 2, 2, 3, 3, 3, 3, 3, 4, 4, 4, 4, 4, 5, 5, 5, 5, 5, 6, 6, 6, 6, 6, 7, 7, 7, 7, 7, 8, 8, 8, 8, 8, 9, 9, 9, 9, 9, 10, 10, 10, 10, 10, 11, 11, 11, 11, 11, 12, 12, 12, 12, 12, 13, 13, 13, 13, 13, 14, 14, 14, 14, 14, 15, 15, 15, 15, 15, 16, 16, 16, 16, 16, 17, 17, 17, 17, 17, 18, 18, 18, 18, 18, 19, 19, 19, 19, 19, ...], [0, 1, 2, 3, 4, 0, 1, 2, 3, 4, 0, 1, 2, 3, 4, 0, 1, 2, 3, 4, 0, 1, 2, 3, 4, 0, 1, 2, 3, 4, 0, 1, 2, 3, 4, 0, 1, 2, 3, 4, 0, 1, 2, 3, 4, 0, 1, 2, 3, 4, 0, 1, 2, 3, 4, 0, 1, 2, 3, 4, 0, 1, 2, 3, 4, 0, 1, 2, 3, 4, 0, 1, 2, 3, 4, 0, 1, 2, 3, 4, 0, 1, 2, 3, 4, 0, 1, 2, 3, 4, 0, 1, 2, 3, 4, 0, 1, 2, 3, 4, ...]],\n",
        "           names=['t_stamp', 'label'])"
       ]
      }
     ],
     "prompt_number": 12
    },
    {
     "cell_type": "code",
     "collapsed": false,
     "input": [
      "fig, axes = plt.subplots(3, 1, sharex=True, sharey=False)\n",
      "fig2, ax = plt.subplots()\n",
      "\n",
      "colors = cluster.trajs.get_colors()\n",
      "for label in cluster.trajs.labels:\n",
      "    c = colors[label]\n",
      "    rs = rotation_speeds.xs(label, level='label')\n",
      "    axes[0].plot(rs.t, rs.v_rad, c+'-', alpha=0.5)\n",
      "    axes[1].plot(rs.t, rs.v_orad, c+'-', alpha=0.5)\n",
      "    axes[2].plot(rs.t, np.log(rs.ratio), c+'-', alpha=0.5)\n",
      "    ax.scatter(np.abs(rs.v_rad), np.abs(rs.v_orad), c=rs.t, cmap='RdBu', s=50, alpha=0.5)\n",
      "    \n",
      "axes[0].plot(rotation_speeds.t.mean(level='t_stamp'),\n",
      "        rotation_speeds.v_rad.mean(level='t_stamp'),\n",
      "        'k-', lw=2, alpha=0.8)\n",
      "\n",
      "axes[1].plot(rotation_speeds.t.mean(level='t_stamp'),\n",
      "        rotation_speeds.v_orad.mean(level='t_stamp'),\n",
      "        'k-', lw=2, alpha=0.8)\n",
      "\n",
      "axes[2].plot(rotation_speeds.t.mean(level='t_stamp'),\n",
      "        np.log(rotation_speeds.ratio.mean(level='t_stamp')),\n",
      "        'k-', lw=2, alpha=0.8)\n",
      "ax.scatter(np.abs(rotation_speeds.v_rad.mean(level='t_stamp')),\n",
      "           np.abs(rotation_speeds.v_orad.mean(level='t_stamp')),\n",
      "           c=rotation_speeds.t.mean(level='t_stamp'), marker='+', cmap='RdBu', alpha=0.5,s=100)\n",
      "\n",
      "\n",
      "ax.plot([0, 1], [0, 1], 'k-')\n",
      "ax.set_aspect('equal')\n"
     ],
     "language": "python",
     "metadata": {},
     "outputs": [
      {
       "ename": "TypeError",
       "evalue": "list indices must be integers, not numpy.float64",
       "output_type": "pyerr",
       "traceback": [
        "\u001b[1;31m---------------------------------------------------------------------------\u001b[0m\n\u001b[1;31mTypeError\u001b[0m                                 Traceback (most recent call last)",
        "\u001b[1;32m<ipython-input-10-006d95679ad5>\u001b[0m in \u001b[0;36m<module>\u001b[1;34m()\u001b[0m\n\u001b[0;32m      2\u001b[0m \u001b[0mfig2\u001b[0m\u001b[1;33m,\u001b[0m \u001b[0max\u001b[0m \u001b[1;33m=\u001b[0m \u001b[0mplt\u001b[0m\u001b[1;33m.\u001b[0m\u001b[0msubplots\u001b[0m\u001b[1;33m(\u001b[0m\u001b[1;33m)\u001b[0m\u001b[1;33m\u001b[0m\u001b[0m\n\u001b[0;32m      3\u001b[0m \u001b[1;33m\u001b[0m\u001b[0m\n\u001b[1;32m----> 4\u001b[1;33m \u001b[0mcolors\u001b[0m \u001b[1;33m=\u001b[0m \u001b[0mcluster\u001b[0m\u001b[1;33m.\u001b[0m\u001b[0mtrajs\u001b[0m\u001b[1;33m.\u001b[0m\u001b[0mget_colors\u001b[0m\u001b[1;33m(\u001b[0m\u001b[1;33m)\u001b[0m\u001b[1;33m\u001b[0m\u001b[0m\n\u001b[0m\u001b[0;32m      5\u001b[0m \u001b[1;32mfor\u001b[0m \u001b[0mlabel\u001b[0m \u001b[1;32min\u001b[0m \u001b[0mcluster\u001b[0m\u001b[1;33m.\u001b[0m\u001b[0mtrajs\u001b[0m\u001b[1;33m.\u001b[0m\u001b[0mlabels\u001b[0m\u001b[1;33m:\u001b[0m\u001b[1;33m\u001b[0m\u001b[0m\n\u001b[0;32m      6\u001b[0m     \u001b[0mc\u001b[0m \u001b[1;33m=\u001b[0m \u001b[0mcolors\u001b[0m\u001b[1;33m[\u001b[0m\u001b[0mlabel\u001b[0m\u001b[1;33m]\u001b[0m\u001b[1;33m\u001b[0m\u001b[0m\n",
        "\u001b[1;32m/home/guillaume/Python/scikit-tracker/sktracker/trajectories/trajectories.py\u001b[0m in \u001b[0;36mget_colors\u001b[1;34m(self)\u001b[0m\n\u001b[0;32m    338\u001b[0m         \u001b[0mclrs\u001b[0m \u001b[1;33m=\u001b[0m \u001b[1;33m{\u001b[0m\u001b[1;33m}\u001b[0m\u001b[1;33m\u001b[0m\u001b[0m\n\u001b[0;32m    339\u001b[0m         \u001b[1;32mfor\u001b[0m \u001b[0mlabel\u001b[0m \u001b[1;32min\u001b[0m \u001b[0mself\u001b[0m\u001b[1;33m.\u001b[0m\u001b[0mlabels\u001b[0m\u001b[1;33m:\u001b[0m\u001b[1;33m\u001b[0m\u001b[0m\n\u001b[1;32m--> 340\u001b[1;33m             \u001b[0mclrs\u001b[0m\u001b[1;33m[\u001b[0m\u001b[0mlabel\u001b[0m\u001b[1;33m]\u001b[0m \u001b[1;33m=\u001b[0m \u001b[0mccycle\u001b[0m\u001b[1;33m[\u001b[0m\u001b[0mlabel\u001b[0m \u001b[1;33m%\u001b[0m \u001b[0mnum_colors\u001b[0m\u001b[1;33m]\u001b[0m\u001b[1;33m\u001b[0m\u001b[0m\n\u001b[0m\u001b[0;32m    341\u001b[0m         \u001b[1;32mreturn\u001b[0m \u001b[0mclrs\u001b[0m\u001b[1;33m\u001b[0m\u001b[0m\n\u001b[0;32m    342\u001b[0m \u001b[1;33m\u001b[0m\u001b[0m\n",
        "\u001b[1;31mTypeError\u001b[0m: list indices must be integers, not numpy.float64"
       ]
      }
     ],
     "prompt_number": 10
    },
    {
     "cell_type": "code",
     "collapsed": false,
     "input": [
      "axes = rotation_speeds.hist(['v_rad', 'v_orad'])"
     ],
     "language": "python",
     "metadata": {},
     "outputs": [
      {
       "metadata": {},
       "output_type": "pyout",
       "prompt_number": 217,
       "text": [
        "array([[<matplotlib.axes._subplots.AxesSubplot object at 0x7fd60c387990>,\n",
        "        <matplotlib.axes._subplots.AxesSubplot object at 0x7fd60e968ed0>]], dtype=object)"
       ]
      }
     ],
     "prompt_number": 217
    },
    {
     "cell_type": "heading",
     "level": 1,
     "metadata": {},
     "source": [
      "4. Translation detection\n"
     ]
    },
    {
     "cell_type": "heading",
     "level": 2,
     "metadata": {},
     "source": [
      "4.1 Definitions"
     ]
    },
    {
     "cell_type": "markdown",
     "metadata": {},
     "source": [
      "### Position\n",
      "Let $P(t) = \\left(x(t), y(t), z(t)\\right)$ be the position in space of a nuclei at time $t$\n",
      "\n",
      "### Apparent displacement\n",
      "\n",
      "We note $d(t, t+w)$ the **apparent displacement** between two time points, that is the distance between those two points, independently of the movement between them:\n",
      "\n",
      "$$\n",
      "d(t, t+w) = ||P(t+w) - P(t)||\n",
      "$$\n",
      "\n",
      "\n",
      "### Cumulated displacement\n",
      "\n",
      "For each nuclei, the **cumulated displacement**, between time $t$ and time $t + w$  noted $D(t, t+w)$ is the total distance traveled by a nucleus between $t$ and $t+w$.  It is the sum of the individual displacements between every time point and the next:\n",
      "\n",
      "$$\n",
      "D(t, t+w) = \\sum_{i=t+1}^{t+w} ||P(i) - P(i - 1)||\n",
      "$$\n",
      "\n",
      "### Processivity\n",
      "\n",
      "We call processivity the ratio of the apparent displacement with the cumulated displacement for a given window $w$:\n",
      "$$\n",
      "\\Pi(t, t+w) = d(t, t+w) / D(t, t+w)\n",
      "$$\n",
      "\n",
      "\n",
      "### Directionality\n",
      "\n",
      "The $x$ axis is defined as the principal axis of the displacement (defined by a principal component analysis computed on the original 3D positions for the whole trajectory).\n",
      "\n",
      "We define **directionality** as the ratio between the difference of position on the principal axis $x$ and the apparent displacement:\n",
      "\n",
      "$$\n",
      "\\mbox{dir}(t, t+w) = \\frac{x(t+w) - x(t)}{d(t, t+w)}\n",
      "$$\n",
      "\n",
      "### Cumulated directionality\n",
      "\n",
      "In this measure, instead of dividing the displacement along $x$ by the apparent displacement, we devide it by the cumulated displacement:\n",
      "\n",
      "$$\n",
      "\\mbox{dir}_c(t, t+w) = \\frac{x(t+w) - x(t)}{D(t, t+w)}\n",
      "$$\n",
      "\n"
     ]
    },
    {
     "cell_type": "heading",
     "level": 3,
     "metadata": {},
     "source": [
      "4.1.2 Do the computations"
     ]
    },
    {
     "cell_type": "code",
     "collapsed": false,
     "input": [
      "### Some initialisations\n",
      "cluster.do_pca()\n",
      "measures = {}"
     ],
     "language": "python",
     "metadata": {},
     "outputs": [],
     "prompt_number": 219
    },
    {
     "cell_type": "heading",
     "level": 4,
     "metadata": {},
     "source": [
      "For a window of a given size"
     ]
    },
    {
     "cell_type": "code",
     "collapsed": false,
     "input": [
      "a = set(np.arange(3))\n",
      "b = set(np.arange(1, 4))\n",
      "b-a\n"
     ],
     "language": "python",
     "metadata": {},
     "outputs": [
      {
       "metadata": {},
       "output_type": "pyout",
       "prompt_number": 236,
       "text": [
        "{3}"
       ]
      }
     ],
     "prompt_number": 236
    },
    {
     "cell_type": "code",
     "collapsed": false,
     "input": [
      "cluster.do_pca.__name__"
     ],
     "language": "python",
     "metadata": {},
     "outputs": [
      {
       "metadata": {},
       "output_type": "pyout",
       "prompt_number": 238,
       "text": [
        "'do_pca'"
       ]
      }
     ],
     "prompt_number": 238
    },
    {
     "cell_type": "code",
     "collapsed": false,
     "input": [
      "def a(method, *args, **kwargs):\n",
      "    print('a')\n",
      "    out = method(*args, **kwargs)\n",
      "    print('aa')\n",
      "    return out\n",
      "\n",
      "def b(method, *args, **kwargs):\n",
      "    print('b')\n",
      "    out = method(*args, **kwargs)\n",
      "    print('bb')\n",
      "    return out\n",
      "#@a\n",
      "@b\n",
      "def hello():\n",
      "    print('hello')"
     ],
     "language": "python",
     "metadata": {},
     "outputs": [
      {
       "output_type": "stream",
       "stream": "stdout",
       "text": [
        "b\n",
        "hello\n",
        "bb\n"
       ]
      }
     ],
     "prompt_number": 242
    },
    {
     "cell_type": "code",
     "collapsed": false,
     "input": [
      "### Set here the width of the window (in number of frames)\n",
      "window = 7\n",
      "\n",
      "processivity = ct.translation.processivity(cluster, window)\n",
      "directionality = ct.translation.directionality(cluster, window)\n",
      "cum_dir = ct.translation.cumulative_directionality(cluster, window)\n",
      "\n",
      "measures[('processivity', window)] = processivity\n",
      "measures[('directionality', window)] = directionality\n",
      "measures[('cumulated directionality', window)] = cum_dir"
     ],
     "language": "python",
     "metadata": {},
     "outputs": [],
     "prompt_number": 220
    },
    {
     "cell_type": "heading",
     "level": 4,
     "metadata": {},
     "source": [
      "Plotting the resulting curves"
     ]
    },
    {
     "cell_type": "code",
     "collapsed": false,
     "input": [
      "import os\n",
      "name = 'directionality'\n",
      "\n",
      "measure = measures[(name, window)]\n",
      "title = '{} : {} \\n for a {} minutes window'.format(os.path.basename(cluster.oio.store_path.replace('.h5', '')),\n",
      "                                                    name, window * cluster.metadata['TimeIncrement'])\n",
      "\n",
      "ax = ct.graphics.show_measure(cluster, measure, ax=None,\n",
      "                              errorbar=False,\n",
      "                              show_segments=True,\n",
      "                              c='k',marker='o',\n",
      "                              lw=2, alpha=0.6)\n",
      "ax.set_title(title)\n",
      "ax.set_ylim(-1, 1)"
     ],
     "language": "python",
     "metadata": {},
     "outputs": [
      {
       "metadata": {},
       "output_type": "pyout",
       "prompt_number": 222,
       "text": [
        "(-1, 1)"
       ]
      }
     ],
     "prompt_number": 222
    },
    {
     "cell_type": "code",
     "collapsed": false,
     "input": [
      "colors = {'processivity': 'r',\n",
      "          'directionality': 'b',\n",
      "          'cumulated directionality': 'g'}\n",
      "\n",
      "fig, ax = plt.subplots()\n",
      "for (name, w), measure in measures.items():\n",
      "    if w != window:\n",
      "        continue\n",
      "    label = '{} for a {} minutes window'.format(name, w * cluster.metadata['TimeIncrement'])\n",
      "    ct.graphics.show_measure(cluster, measure, ax=ax,\n",
      "                             errorbar=False,\n",
      "                             show_segments=False,\n",
      "                             c=colors[name],\n",
      "                             label=label, lw=2, alpha=0.6)\n",
      "ax.set_ylim(-1, 1);\n",
      "ax.legend(loc='lower_left')\n"
     ],
     "language": "python",
     "metadata": {},
     "outputs": [
      {
       "metadata": {},
       "output_type": "pyout",
       "prompt_number": 224,
       "text": [
        "<matplotlib.legend.Legend at 0x7fd60aa4e890>"
       ]
      }
     ],
     "prompt_number": 224
    },
    {
     "cell_type": "heading",
     "level": 4,
     "metadata": {},
     "source": [
      "Statistics"
     ]
    },
    {
     "cell_type": "code",
     "collapsed": false,
     "input": [],
     "language": "python",
     "metadata": {},
     "outputs": []
    },
    {
     "cell_type": "code",
     "collapsed": false,
     "input": [
      "### If you want to compute the rotation index average between\n",
      "### two stacks, set here the number of the first and last ones\n",
      "start_frame = 1\n",
      "end_frame = 7\n",
      "\n",
      "for (name, w), measure in measures.items():\n",
      "    if w!= window:\n",
      "        continue\n",
      "    win_size = w * cluster.metadata['TimeIncrement']\n",
      "    print('Average value of {} between frame {} and {} for a {} minutes window:'\n",
      "          .format(name, start_frame, end_frame, win_size))\n",
      "    print('\\t {0:.3f}'.format(measure.data.loc[start_frame: end_frame].mean()))\n",
      "\n",
      "    print('Global average of {} for a {} minutes window: '.format(name, win_size))\n",
      "    print('\\t {0:.3f}'.format(measure.data.mean()))"
     ],
     "language": "python",
     "metadata": {},
     "outputs": []
    },
    {
     "cell_type": "heading",
     "level": 4,
     "metadata": {},
     "source": [
      "Automated computation for a range of window sizes"
     ]
    },
    {
     "cell_type": "code",
     "collapsed": false,
     "input": [
      "windows = [3, 4, 5, 6, 7]\n",
      "for window in windows:\n",
      "    processivity = ct.translation.processivity(cluster, window)\n",
      "    directionality = ct.translation.directionality(cluster, window)\n",
      "    cum_dir = ct.translation.cumulative_directionality(cluster, window)\n",
      "\n",
      "    measures[('processivity', window)] = processivity\n",
      "    measures[('directionality', window)] = directionality\n",
      "    measures[('cumulated directionality', window)] = cum_dir\n",
      "    "
     ],
     "language": "python",
     "metadata": {},
     "outputs": []
    },
    {
     "cell_type": "heading",
     "level": 4,
     "metadata": {},
     "source": [
      "Save the average data for each window to a `csv` file"
     ]
    },
    {
     "cell_type": "code",
     "collapsed": false,
     "input": [
      "processivity.dropna().head()"
     ],
     "language": "python",
     "metadata": {},
     "outputs": [
      {
       "html": [
        "<div style=\"max-height:1000px;max-width:1500px;overflow:auto;\">\n",
        "<table border=\"1\" class=\"dataframe\">\n",
        "  <thead>\n",
        "    <tr style=\"text-align: right;\">\n",
        "      <th></th>\n",
        "      <th></th>\n",
        "      <th>t</th>\n",
        "      <th>data</th>\n",
        "    </tr>\n",
        "    <tr>\n",
        "      <th>t_stamp</th>\n",
        "      <th>label</th>\n",
        "      <th></th>\n",
        "      <th></th>\n",
        "    </tr>\n",
        "  </thead>\n",
        "  <tbody>\n",
        "    <tr>\n",
        "      <th rowspan=\"3\" valign=\"top\">4</th>\n",
        "      <th>0</th>\n",
        "      <td> 12</td>\n",
        "      <td> 0.973633</td>\n",
        "    </tr>\n",
        "    <tr>\n",
        "      <th>1</th>\n",
        "      <td> 12</td>\n",
        "      <td> 0.950707</td>\n",
        "    </tr>\n",
        "    <tr>\n",
        "      <th>2</th>\n",
        "      <td> 12</td>\n",
        "      <td> 0.909554</td>\n",
        "    </tr>\n",
        "    <tr>\n",
        "      <th rowspan=\"2\" valign=\"top\">5</th>\n",
        "      <th>0</th>\n",
        "      <td> 15</td>\n",
        "      <td> 0.945695</td>\n",
        "    </tr>\n",
        "    <tr>\n",
        "      <th>1</th>\n",
        "      <td> 15</td>\n",
        "      <td> 0.886933</td>\n",
        "    </tr>\n",
        "  </tbody>\n",
        "</table>\n",
        "</div>"
       ],
       "metadata": {},
       "output_type": "pyout",
       "prompt_number": 226,
       "text": [
        "                t      data\n",
        "t_stamp label              \n",
        "4       0      12  0.973633\n",
        "        1      12  0.950707\n",
        "        2      12  0.909554\n",
        "5       0      15  0.945695\n",
        "        1      15  0.886933"
       ]
      }
     ],
     "prompt_number": 226
    },
    {
     "cell_type": "code",
     "collapsed": false,
     "input": [
      "measures.keys()"
     ],
     "language": "python",
     "metadata": {},
     "outputs": [
      {
       "metadata": {},
       "output_type": "pyout",
       "prompt_number": 231,
       "text": [
        "dict_keys([('processivity', 7), ('directionality', 7), ('cumulated directionality', 7)])"
       ]
      }
     ],
     "prompt_number": 231
    },
    {
     "cell_type": "code",
     "collapsed": false,
     "input": [
      "np.all(np.isfinite(processivity))"
     ],
     "language": "python",
     "metadata": {},
     "outputs": [
      {
       "metadata": {},
       "output_type": "pyout",
       "prompt_number": 232,
       "text": [
        "False"
       ]
      }
     ],
     "prompt_number": 232
    },
    {
     "cell_type": "code",
     "collapsed": false,
     "input": [
      "mean_measures_df = pd.DataFrame.from_dict({key: meas.data.mean(level='t_stamp') for key, meas in measures.items()})\n",
      "csv_name = cluster.oio.store_path.replace('.h5', 'translation_measures.csv')\n",
      "mean_measures_df.to_csv(csv_name)\n",
      "print('Saved measures to ', csv_name)"
     ],
     "language": "python",
     "metadata": {},
     "outputs": [
      {
       "output_type": "stream",
       "stream": "stdout",
       "text": [
        "Saved measures to  /media/data/AnneHDFStores/iono_080613translation_measures.csv\n"
       ]
      }
     ],
     "prompt_number": 229
    },
    {
     "cell_type": "heading",
     "level": 3,
     "metadata": {},
     "source": [
      "4.1.4 Mean Square Displacement"
     ]
    },
    {
     "cell_type": "markdown",
     "metadata": {},
     "source": [
      "The mean square displacement for a time difference $\\Delta t$ is computed as the squared distance between the position of the particle at time $t$ and its position at time $t + \\Delta t$ averaged over each successive time $t$:\n",
      "\n",
      "\n",
      "$$\n",
      "\\begin{aligned}\n",
      "\\mbox{MSD}(\\Delta t) &=  \\frac{\\sum_0^{T - \\Delta t} \\left(\\mathbf{r}(t + \\Delta t)  - \\mathbf{r}(t) \\right)^2}{(T - \\Delta t) / \\delta t}\n",
      "\\end{aligned}\n",
      "$$"
     ]
    },
    {
     "cell_type": "code",
     "collapsed": false,
     "input": [
      "MSD = ct.translation.get_MSD(cluster)"
     ],
     "language": "python",
     "metadata": {},
     "outputs": []
    },
    {
     "cell_type": "code",
     "collapsed": false,
     "input": [
      "fig, ax = plt.subplots()\n",
      "ax.set_title('Mean Square Displacement')\n",
      "ax.set_xlabel('Time (minutes)')\n",
      "ax.set_ylabel('MSD (\u00b5m\u00b2)')\n",
      "\n",
      "for label in cluster.trajs.labels:\n",
      "        seg_msd = MSD.xs(label, level='label')\n",
      "        ax.errorbar(seg_msd.Dt, seg_msd.MSD, yerr= seg_msd.MSD_std, alpha=0.4) \n",
      "\n",
      "ax.errorbar(MSD.Dt.mean(level='Dt_stamp'),\n",
      "            MSD.MSD.mean(level='Dt_stamp'), \n",
      "            yerr=MSD.MSD_std.mean(level='Dt_stamp'), fmt='k-', lw=2);"
     ],
     "language": "python",
     "metadata": {},
     "outputs": []
    },
    {
     "cell_type": "heading",
     "level": 4,
     "metadata": {},
     "source": [
      "Exponent of the MSD function"
     ]
    },
    {
     "cell_type": "markdown",
     "metadata": {},
     "source": [
      "For a purely linear movement, the mean square displacement is growing like $\\Delta t^2$, wheras for a purely random walk or Brownian motion, it is growing _linearly_ with time (and the slope of the linear function is proportional to the diffusion coefficient).\n",
      "\n",
      "Here we compute the exponent $\\alpha$ of the MSD function: $\\textrm{MSD}(\\Delta t) = \\Delta t^\\alpha$.\n",
      "\n",
      "It will be 2 for a purely processive motion, and 1 for a purely Brownian motion."
     ]
    },
    {
     "cell_type": "code",
     "collapsed": false,
     "input": [
      "log_t = np.log(MSD.Dt.mean(level='Dt_stamp'))\n",
      "log_msd = np.log(MSD.MSD.mean(level='Dt_stamp'))\n",
      "\n",
      "ps = np.polyfit(log_t[1:10], log_msd[1:10], deg=1,\n",
      "                w=1/MSD.Dt.mean(level='Dt_stamp').iloc[1:10])\n",
      "\n",
      "print('Estimated exponent of the mean square displacement:')\n",
      "print('\\t {0:.3f}'.format(ps[0]))\n"
     ],
     "language": "python",
     "metadata": {},
     "outputs": []
    },
    {
     "cell_type": "code",
     "collapsed": false,
     "input": [
      "cluster.save_trajs()\n"
     ],
     "language": "python",
     "metadata": {},
     "outputs": []
    },
    {
     "cell_type": "code",
     "collapsed": false,
     "input": [],
     "language": "python",
     "metadata": {},
     "outputs": []
    }
   ],
   "metadata": {}
  }
 ]
}