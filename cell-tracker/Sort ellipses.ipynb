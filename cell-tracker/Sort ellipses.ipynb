{
 "metadata": {
  "name": "",
  "signature": "sha256:8a43ff1941d33f724102c736a1259991d584d9f0ddd6a736d14b7f02ad1a49bf"
 },
 "nbformat": 3,
 "nbformat_minor": 0,
 "worksheets": [
  {
   "cells": [
    {
     "cell_type": "code",
     "collapsed": false,
     "input": [
      "%load_ext autoreload\n",
      "%autoreload 2"
     ],
     "language": "python",
     "metadata": {},
     "outputs": [
      {
       "output_type": "stream",
       "stream": "stdout",
       "text": [
        "The autoreload extension is already loaded. To reload it, use:\n",
        "  %reload_ext autoreload\n"
       ]
      }
     ],
     "prompt_number": 4
    },
    {
     "cell_type": "code",
     "collapsed": false,
     "input": [
      "### The library used for plotting\n",
      "#%matplotlib \n",
      "import matplotlib.pyplot as plt\n",
      "%matplotlib qt\n",
      "#mpld3.enable_notebook()\n",
      "\n",
      "### This imports various dependencies\n",
      "%run nb_init.py\n",
      "#### \n",
      "import cell_tracker as ct\n",
      "\n",
      "sizes = [24, 36, 48, 60]"
     ],
     "language": "python",
     "metadata": {},
     "outputs": [],
     "prompt_number": 5
    },
    {
     "cell_type": "code",
     "collapsed": false,
     "input": [
      "%pdb"
     ],
     "language": "python",
     "metadata": {},
     "outputs": [
      {
       "output_type": "stream",
       "stream": "stdout",
       "text": [
        "Automatic pdb calling has been turned ON\n"
       ]
      }
     ],
     "prompt_number": 4
    },
    {
     "cell_type": "code",
     "collapsed": false,
     "input": [
      "clusters = ct.ui.get_multiple_clusters('/media/data/AnneHDFStores/')"
     ],
     "language": "python",
     "metadata": {},
     "outputs": [
      {
       "output_type": "stream",
       "stream": "stdout",
       "text": [
        "Choosen data paths: :\n",
        " \n",
        "/media/data/AnneHDFStores/Guillaume_220914/ROCKCA-051013-2.h5\n",
        "/media/data/AnneHDFStores/Guillaume_220914/ROCKRNAi-260913-2.h5\n",
        "/media/data/AnneHDFStores/Guillaume_220914/ROCKRNAi-190813.h5\n",
        "/media/data/AnneHDFStores/Guillaume_220914/JNKinhibition220913_2.h5\n",
        "/media/data/AnneHDFStores/Guillaume_220914/WT-120813-1.h5\n",
        "/media/data/AnneHDFStores/Guillaume_220914/WT-120813-2.h5\n",
        "/media/data/AnneHDFStores/Guillaume_220914/ROCKCA-090813-2.h5\n",
        "/media/data/AnneHDFStores/Guillaume_220914/JNKinhibition220913_1.h5\n",
        "/media/data/AnneHDFStores/Guillaume_220914/DNPVRDNDER060813_2.h5\n",
        "/media/data/AnneHDFStores/Guillaume_220914/ROCKCA-051013-1.h5\n",
        "/media/data/AnneHDFStores/Guillaume_220914/WTLS9010813_1.h5\n",
        "/media/data/AnneHDFStores/Guillaume_220914/ROCKCA-090813-1.h5\n",
        "/media/data/AnneHDFStores/Guillaume_220914/WT-161113-1.h5\n",
        "/media/data/AnneHDFStores/Guillaume_220914/WT-240812.h5\n",
        "/media/data/AnneHDFStores/Guillaume_220914/ROCKRNAi-260913-1.h5\n",
        "/media/data/AnneHDFStores/Guillaume_220914/DNPVRDNDER060813_1.h5\n"
       ]
      }
     ],
     "prompt_number": 6
    },
    {
     "cell_type": "code",
     "collapsed": false,
     "input": [
      "cluster_names = list(clusters.keys())\n",
      "cluster_names.sort()"
     ],
     "language": "python",
     "metadata": {},
     "outputs": [],
     "prompt_number": 16
    },
    {
     "cell_type": "code",
     "collapsed": false,
     "input": [
      "for cluster in clusters.values():\n",
      "    print(cluster.oio.keys())"
     ],
     "language": "python",
     "metadata": {},
     "outputs": [
      {
       "output_type": "stream",
       "stream": "stdout",
       "text": [
        "['/ellipses_24', '/ellipses_36', '/ellipses_48', '/ellipses_60', '/extra', '/metadata', '/trajs']\n",
        "['/ellipses_24', '/ellipses_36', '/ellipses_48', '/ellipses_60', '/extra', '/metadata', '/trajs']"
       ]
      },
      {
       "output_type": "stream",
       "stream": "stdout",
       "text": [
        "\n",
        "['/ellipses_24', '/ellipses_36', '/ellipses_48', '/ellipses_60', '/extra', '/metadata', '/trajs']"
       ]
      },
      {
       "output_type": "stream",
       "stream": "stdout",
       "text": [
        "\n",
        "['/averages', '/ellipses_24', '/ellipses_36', '/ellipses_48', '/ellipses_60', '/extra', '/metadata', '/trajs']"
       ]
      },
      {
       "output_type": "stream",
       "stream": "stdout",
       "text": [
        "\n",
        "['/averages', '/ellipses_24', '/ellipses_36', '/ellipses_48', '/ellipses_60', '/extra', '/metadata', '/trajs']"
       ]
      },
      {
       "output_type": "stream",
       "stream": "stdout",
       "text": [
        "\n",
        "['/ellipses_24', '/ellipses_36', '/ellipses_48', '/ellipses_60', '/extra', '/metadata', '/trajs']"
       ]
      },
      {
       "output_type": "stream",
       "stream": "stdout",
       "text": [
        "\n",
        "['/ellipses_24', '/ellipses_36', '/ellipses_48', '/ellipses_60', '/extra', '/metadata', '/trajs']\n",
        "['/ellipses_24', '/ellipses_36', '/ellipses_48', '/ellipses_60', '/extra', '/metadata', '/trajs']"
       ]
      },
      {
       "output_type": "stream",
       "stream": "stdout",
       "text": [
        "\n",
        "['/ellipses_24', '/ellipses_36', '/ellipses_48', '/ellipses_60', '/extra', '/metadata', '/trajs']"
       ]
      },
      {
       "output_type": "stream",
       "stream": "stdout",
       "text": [
        "\n",
        "['/ellipses_24', '/ellipses_36', '/ellipses_48', '/ellipses_60', '/extra', '/metadata', '/trajs']"
       ]
      },
      {
       "output_type": "stream",
       "stream": "stdout",
       "text": [
        "\n",
        "['/ellipses_24', '/ellipses_36', '/ellipses_48', '/ellipses_60', '/extra', '/metadata', '/trajs']"
       ]
      },
      {
       "output_type": "stream",
       "stream": "stdout",
       "text": [
        "\n",
        "['/ellipses_24', '/ellipses_36', '/ellipses_48', '/ellipses_60', '/extra', '/metadata', '/trajs']"
       ]
      },
      {
       "output_type": "stream",
       "stream": "stdout",
       "text": [
        "\n",
        "['/averages', '/ellipses_24', '/ellipses_36', '/ellipses_48', '/ellipses_60', '/extra', '/metadata', '/trajs']"
       ]
      },
      {
       "output_type": "stream",
       "stream": "stdout",
       "text": [
        "\n",
        "['/ellipses_24', '/ellipses_36', '/ellipses_48', '/ellipses_60', '/extra', '/metadata', '/trajs']"
       ]
      },
      {
       "output_type": "stream",
       "stream": "stdout",
       "text": [
        "\n",
        "['/ellipses_24', '/ellipses_36', '/ellipses_48', '/ellipses_60', '/extra', '/metadata', '/trajs']"
       ]
      },
      {
       "output_type": "stream",
       "stream": "stdout",
       "text": [
        "\n",
        "['/ellipses_24', '/ellipses_36', '/ellipses_48', '/ellipses_60', '/extra', '/metadata', '/trajs']"
       ]
      },
      {
       "output_type": "stream",
       "stream": "stdout",
       "text": [
        "\n"
       ]
      }
     ],
     "prompt_number": 8
    },
    {
     "cell_type": "code",
     "collapsed": false,
     "input": [
      "smw = ct.ui.set_metadata(cluster.metadata)\n",
      "display.display(smw)"
     ],
     "language": "python",
     "metadata": {},
     "outputs": [],
     "prompt_number": 9
    },
    {
     "cell_type": "code",
     "collapsed": false,
     "input": [
      "cluster.ellipses.dropna().head()"
     ],
     "language": "python",
     "metadata": {},
     "outputs": [
      {
       "html": [
        "<div style=\"max-height:1000px;max-width:1500px;overflow:auto;\">\n",
        "<table border=\"1\" class=\"dataframe\">\n",
        "  <thead>\n",
        "    <tr style=\"text-align: right;\">\n",
        "      <th></th>\n",
        "      <th></th>\n",
        "      <th></th>\n",
        "      <th>a</th>\n",
        "      <th>b</th>\n",
        "      <th>phi_y</th>\n",
        "      <th>x0</th>\n",
        "      <th>y0</th>\n",
        "      <th>z0</th>\n",
        "      <th>x_ec</th>\n",
        "      <th>y_ec</th>\n",
        "      <th>z_ec</th>\n",
        "      <th>ellipticity</th>\n",
        "      <th>...</th>\n",
        "      <th>r0_y</th>\n",
        "      <th>r0_z</th>\n",
        "      <th>r1_x</th>\n",
        "      <th>r1_y</th>\n",
        "      <th>r1_z</th>\n",
        "      <th>start</th>\n",
        "      <th>stop</th>\n",
        "      <th>size</th>\n",
        "      <th>phi_x</th>\n",
        "      <th>good</th>\n",
        "    </tr>\n",
        "    <tr>\n",
        "      <th>t_stamp</th>\n",
        "      <th>label</th>\n",
        "      <th>size</th>\n",
        "      <th></th>\n",
        "      <th></th>\n",
        "      <th></th>\n",
        "      <th></th>\n",
        "      <th></th>\n",
        "      <th></th>\n",
        "      <th></th>\n",
        "      <th></th>\n",
        "      <th></th>\n",
        "      <th></th>\n",
        "      <th></th>\n",
        "      <th></th>\n",
        "      <th></th>\n",
        "      <th></th>\n",
        "      <th></th>\n",
        "      <th></th>\n",
        "      <th></th>\n",
        "      <th></th>\n",
        "      <th></th>\n",
        "      <th></th>\n",
        "      <th></th>\n",
        "    </tr>\n",
        "  </thead>\n",
        "  <tbody>\n",
        "    <tr>\n",
        "      <th rowspan=\"4\" valign=\"top\">15</th>\n",
        "      <th>1</th>\n",
        "      <th>24</th>\n",
        "      <td> 4.157332</td>\n",
        "      <td> 0.962117</td>\n",
        "      <td> 0.214762</td>\n",
        "      <td>-0.699559</td>\n",
        "      <td> 0.166407</td>\n",
        "      <td>-4.440723e-18</td>\n",
        "      <td>-3.844533</td>\n",
        "      <td>-4.130292</td>\n",
        "      <td>-0.375000</td>\n",
        "      <td> 4.321025</td>\n",
        "      <td>...</td>\n",
        "      <td> 0.997551</td>\n",
        "      <td> 4.174297e-07</td>\n",
        "      <td>-0.997551</td>\n",
        "      <td>-0.069946</td>\n",
        "      <td>-0.000003</td>\n",
        "      <td> 3</td>\n",
        "      <td> 27</td>\n",
        "      <td> 24</td>\n",
        "      <td> 0.214762</td>\n",
        "      <td> 0</td>\n",
        "    </tr>\n",
        "    <tr>\n",
        "      <th>2</th>\n",
        "      <th>24</th>\n",
        "      <td> 1.990588</td>\n",
        "      <td> 0.934361</td>\n",
        "      <td>-0.164625</td>\n",
        "      <td>-0.004275</td>\n",
        "      <td>-0.100442</td>\n",
        "      <td>-1.065812e-16</td>\n",
        "      <td> 5.820745</td>\n",
        "      <td>-2.032865</td>\n",
        "      <td>-1.875000</td>\n",
        "      <td> 2.130427</td>\n",
        "      <td>...</td>\n",
        "      <td>-0.928121</td>\n",
        "      <td>-7.982229e-08</td>\n",
        "      <td> 0.928121</td>\n",
        "      <td>-0.372278</td>\n",
        "      <td> 0.000000</td>\n",
        "      <td> 3</td>\n",
        "      <td> 27</td>\n",
        "      <td> 24</td>\n",
        "      <td>-0.164625</td>\n",
        "      <td> 0</td>\n",
        "    </tr>\n",
        "    <tr>\n",
        "      <th>3</th>\n",
        "      <th>24</th>\n",
        "      <td> 3.447986</td>\n",
        "      <td> 0.578038</td>\n",
        "      <td> 0.040931</td>\n",
        "      <td>-0.963403</td>\n",
        "      <td> 0.123484</td>\n",
        "      <td> 6.394885e-16</td>\n",
        "      <td> 2.177776</td>\n",
        "      <td> 0.761372</td>\n",
        "      <td> 2.625000</td>\n",
        "      <td> 5.964984</td>\n",
        "      <td>...</td>\n",
        "      <td>-0.939486</td>\n",
        "      <td>-1.176239e-07</td>\n",
        "      <td> 0.939486</td>\n",
        "      <td> 0.342588</td>\n",
        "      <td>-0.000000</td>\n",
        "      <td> 3</td>\n",
        "      <td> 27</td>\n",
        "      <td> 24</td>\n",
        "      <td> 0.040931</td>\n",
        "      <td> 0</td>\n",
        "    </tr>\n",
        "    <tr>\n",
        "      <th>4</th>\n",
        "      <th>24</th>\n",
        "      <td> 1.663112</td>\n",
        "      <td> 0.562191</td>\n",
        "      <td> 0.022153</td>\n",
        "      <td>-0.728238</td>\n",
        "      <td>-0.006040</td>\n",
        "      <td>-8.881778e-18</td>\n",
        "      <td>-4.612587</td>\n",
        "      <td> 6.408447</td>\n",
        "      <td>-0.375000</td>\n",
        "      <td> 2.958270</td>\n",
        "      <td>...</td>\n",
        "      <td>-0.999161</td>\n",
        "      <td>-2.814734e-07</td>\n",
        "      <td> 0.999161</td>\n",
        "      <td> 0.040958</td>\n",
        "      <td> 0.000000</td>\n",
        "      <td> 3</td>\n",
        "      <td> 27</td>\n",
        "      <td> 24</td>\n",
        "      <td> 0.022153</td>\n",
        "      <td> 0</td>\n",
        "    </tr>\n",
        "    <tr>\n",
        "      <th>16</th>\n",
        "      <th>1</th>\n",
        "      <th>24</th>\n",
        "      <td> 4.509768</td>\n",
        "      <td> 1.032987</td>\n",
        "      <td> 0.228679</td>\n",
        "      <td>-0.929106</td>\n",
        "      <td> 0.167675</td>\n",
        "      <td> 2.220500e-17</td>\n",
        "      <td>-3.846036</td>\n",
        "      <td>-4.128922</td>\n",
        "      <td>-0.374999</td>\n",
        "      <td> 4.365755</td>\n",
        "      <td>...</td>\n",
        "      <td> 0.999312</td>\n",
        "      <td>-2.669363e-07</td>\n",
        "      <td>-0.999312</td>\n",
        "      <td>-0.037091</td>\n",
        "      <td> 0.000007</td>\n",
        "      <td> 4</td>\n",
        "      <td> 28</td>\n",
        "      <td> 24</td>\n",
        "      <td> 0.228679</td>\n",
        "      <td> 0</td>\n",
        "    </tr>\n",
        "  </tbody>\n",
        "</table>\n",
        "<p>5 rows \u00d7 28 columns</p>\n",
        "</div>"
       ],
       "metadata": {},
       "output_type": "pyout",
       "prompt_number": 10,
       "text": [
        "                           a         b     phi_y        x0        y0  \\\n",
        "t_stamp label size                                                     \n",
        "15      1     24    4.157332  0.962117  0.214762 -0.699559  0.166407   \n",
        "        2     24    1.990588  0.934361 -0.164625 -0.004275 -0.100442   \n",
        "        3     24    3.447986  0.578038  0.040931 -0.963403  0.123484   \n",
        "        4     24    1.663112  0.562191  0.022153 -0.728238 -0.006040   \n",
        "16      1     24    4.509768  1.032987  0.228679 -0.929106  0.167675   \n",
        "\n",
        "                              z0      x_ec      y_ec      z_ec  ellipticity  \\\n",
        "t_stamp label size                                                            \n",
        "15      1     24   -4.440723e-18 -3.844533 -4.130292 -0.375000     4.321025   \n",
        "        2     24   -1.065812e-16  5.820745 -2.032865 -1.875000     2.130427   \n",
        "        3     24    6.394885e-16  2.177776  0.761372  2.625000     5.964984   \n",
        "        4     24   -8.881778e-18 -4.612587  6.408447 -0.375000     2.958270   \n",
        "16      1     24    2.220500e-17 -3.846036 -4.128922 -0.374999     4.365755   \n",
        "\n",
        "                       ...           r0_y          r0_z      r1_x      r1_y  \\\n",
        "t_stamp label size     ...                                                    \n",
        "15      1     24       ...       0.997551  4.174297e-07 -0.997551 -0.069946   \n",
        "        2     24       ...      -0.928121 -7.982229e-08  0.928121 -0.372278   \n",
        "        3     24       ...      -0.939486 -1.176239e-07  0.939486  0.342588   \n",
        "        4     24       ...      -0.999161 -2.814734e-07  0.999161  0.040958   \n",
        "16      1     24       ...       0.999312 -2.669363e-07 -0.999312 -0.037091   \n",
        "\n",
        "                        r1_z  start  stop  size     phi_x  good  \n",
        "t_stamp label size                                               \n",
        "15      1     24   -0.000003      3    27    24  0.214762     0  \n",
        "        2     24    0.000000      3    27    24 -0.164625     0  \n",
        "        3     24   -0.000000      3    27    24  0.040931     0  \n",
        "        4     24    0.000000      3    27    24  0.022153     0  \n",
        "16      1     24    0.000007      4    28    24  0.228679     0  \n",
        "\n",
        "[5 rows x 28 columns]"
       ]
      }
     ],
     "prompt_number": 10
    },
    {
     "cell_type": "code",
     "collapsed": false,
     "input": [
      "### You can change the name of the file bellow if you're using other cutoffs\n",
      "settings_json = 'ellipsis_cutoffs_pick.json'\n",
      "\n",
      "setter_widget = ct.ui.ipy_widgets.set_ellipsis_limits(jsonfile=settings_json)\n",
      "ellipsis_cutoffs = setter_widget.settings\n",
      "display.display(setter_widget)"
     ],
     "language": "python",
     "metadata": {},
     "outputs": [],
     "prompt_number": 88
    },
    {
     "cell_type": "code",
     "collapsed": false,
     "input": [
      "for cluster in clusters.values():\n",
      "    cluster.detect_rotations(ellipsis_cutoffs, sizes, method='binary')\n",
      "#ct.graphics.show_ellipses_clusters(cluster, sizes, ellipsis_cutoffs)\n",
      "#ax, total_rot, n_detected = ct.graphics.plot_rotation_events(cluster, ax=None,\n",
      "#                                                             show_segments=True)"
     ],
     "language": "python",
     "metadata": {},
     "outputs": [],
     "prompt_number": 89
    },
    {
     "cell_type": "code",
     "collapsed": false,
     "input": [
      "if len(cluster_names) > 0:\n",
      "    name = cluster_names.pop()\n",
      "    print('{} of {} left'.format(len(cluster_names), len(clusters)))\n",
      "else:\n",
      "    print('''Looks like we're done!!''')"
     ],
     "language": "python",
     "metadata": {},
     "outputs": [
      {
       "output_type": "stream",
       "stream": "stdout",
       "text": [
        "15 of 16 left\n"
       ]
      }
     ],
     "prompt_number": 17
    },
    {
     "cell_type": "code",
     "collapsed": false,
     "input": [
      "ct.graphics.show_ellipses_clusters(cluster, sizes, ellipsis_cutoffs)"
     ],
     "language": "python",
     "metadata": {},
     "outputs": [],
     "prompt_number": 21
    },
    {
     "cell_type": "code",
     "collapsed": false,
     "input": [
      "%pdb"
     ],
     "language": "python",
     "metadata": {},
     "outputs": [
      {
       "output_type": "stream",
       "stream": "stdout",
       "text": [
        "Automatic pdb calling has been turned ON\n"
       ]
      }
     ],
     "prompt_number": 67
    },
    {
     "cell_type": "code",
     "collapsed": false,
     "input": [
      "print('Treating {}'.format(name))\n",
      "cluster = clusters[name]\n",
      "reset = True\n",
      "if '/sorted_ellipses' in cluster.oio.keys() and not reset:\n",
      "    print('Cluster {} allready treated'.format(name))\n",
      "trajs = cluster.get_center(append=True)\n",
      "ooep = ct.ui.EllipsisPicker(cluster, sizes, coords=['x_r', 'y_r', 'z_r'])\n",
      "\n"
     ],
     "language": "python",
     "metadata": {},
     "outputs": [
      {
       "output_type": "stream",
       "stream": "stdout",
       "text": [
        "Treating WTLS9010813_1\n",
        "No ellipses found"
       ]
      },
      {
       "output_type": "stream",
       "stream": "stdout",
       "text": [
        "\n"
       ]
      },
      {
       "output_type": "stream",
       "stream": "stdout",
       "text": [
        "update\n",
        "update"
       ]
      }
     ],
     "prompt_number": 19
    },
    {
     "cell_type": "code",
     "collapsed": false,
     "input": [
      "cluster.oio['sorted_ellipses'] = cluster.ellipses\n",
      "print('Done {}'.format(name))"
     ],
     "language": "python",
     "metadata": {},
     "outputs": [
      {
       "output_type": "stream",
       "stream": "stdout",
       "text": [
        "\n",
        "Done ROCKCA-051013-2"
       ]
      },
      {
       "output_type": "stream",
       "stream": "stdout",
       "text": [
        "\n"
       ]
      }
     ],
     "prompt_number": 86
    },
    {
     "cell_type": "code",
     "collapsed": false,
     "input": [
      "se = clusters['WT-161113-1'].oio['sorted_ellipses']\n",
      "se['good'].unique()"
     ],
     "language": "python",
     "metadata": {},
     "outputs": [
      {
       "metadata": {},
       "output_type": "pyout",
       "prompt_number": 71,
       "text": [
        "array([ 0., -1.,  1.])"
       ]
      }
     ],
     "prompt_number": 71
    },
    {
     "cell_type": "code",
     "collapsed": false,
     "input": [
      "fig, axes = plt.subplots(2, 2, sharex='col',\n",
      "                         sharey='row', figsize=(12, 12))\n",
      "\n",
      "for cluster in clusters.values():\n",
      "    ct.graphics.show_ellipses_clusters(cluster, sizes, ellipsis_cutoffs, axes=axes)"
     ],
     "language": "python",
     "metadata": {},
     "outputs": [],
     "prompt_number": 95
    },
    {
     "cell_type": "code",
     "collapsed": false,
     "input": [
      "for name, cluster in clusters.items():\n",
      "    cluster.ellipses['name'] = name"
     ],
     "language": "python",
     "metadata": {},
     "outputs": [],
     "prompt_number": 35
    },
    {
     "cell_type": "code",
     "collapsed": false,
     "input": [
      "for cluster in clusters.values():\n",
      "    cluster.ellipses['color'] = cluster.ellipses.good.copy()\n",
      "    cluster.ellipses['color'][cluster.ellipses['color']==0] = 'w'\n",
      "    cluster.ellipses['color'][cluster.ellipses['color']==1] = 'g'\n",
      "    cluster.ellipses['color'][cluster.ellipses['color']==-1] = 'r'\n",
      "    "
     ],
     "language": "python",
     "metadata": {},
     "outputs": [],
     "prompt_number": 71
    },
    {
     "cell_type": "code",
     "collapsed": false,
     "input": [
      "all_ellipses = pd.concat([cluster.ellipses for cluster in clusters.values()])\n",
      "all_ellipses['big_rad'] = all_ellipses[['a', 'b']].max(axis=1)\n",
      "all_ellipses['small_rad'] = all_ellipses[['a', 'b']].min(axis=1)\n",
      "all_ellipses['center_dist'] = (all_ellipses['x0']**2 + all_ellipses['y0']**2 + all_ellipses['z0']**2)**0.5\n",
      "all_ellipses['center_to_rad'] = all_ellipses['center_dist']/all_ellipses['radius']\n",
      "all_ellipses.set_index('name', drop=False, append=True, inplace=True)\n",
      "all_ellipses.index = all_ellipses.index.reorder_levels([3,0,1,2])\n",
      "all_ellipses.sortlevel(inplace=True)"
     ],
     "language": "python",
     "metadata": {},
     "outputs": [],
     "prompt_number": 90
    },
    {
     "cell_type": "code",
     "collapsed": false,
     "input": [
      "phenotype_names = ['WT', 'ROCKCA', 'ROCKRNAi', 'JNKinhibition', 'DNPVRDNDER', 'WTLS', 'WTES']\n",
      "\n",
      "phenotypes = {}\n",
      "for name in clusters.keys():\n",
      "    for phntp in phenotype_names:\n",
      "        if name.startswith(phntp):\n",
      "            phenotypes[name] = phntp #WTLS and WTLS will override WT \n",
      "\n",
      "\n",
      "all_ellipses['phenotype'] = [phenotypes[name] for name in all_ellipses['name']]\n",
      "\n",
      "\n",
      "cuts = {'WT-120813-1': 14,\n",
      "        'WT-120813-2': 21,\n",
      "        'WT-161113-1': 20,\n",
      "        'WT-240812': 10}\n",
      "\n",
      "\n",
      "for name, cut in cuts.items():\n",
      "    all_ellipses.loc[name].loc[:cut]['phenotype'] = 'WTES'\n",
      "    all_ellipses.loc[name].loc[cut+1:]['phenotype'] = 'WTLS'\n",
      "\n",
      "if 'phenotype' in all_ellipses.index:\n",
      "    measure_pools.index = measure_pools.index.drop('phenotype')\n",
      "\n",
      "all_ellipses.set_index('phenotype', append=True, inplace=True, drop=False)\n"
     ],
     "language": "python",
     "metadata": {},
     "outputs": [],
     "prompt_number": 91
    },
    {
     "cell_type": "code",
     "collapsed": false,
     "input": [
      "phenotype_colors = {'WTES':'#000000',\n",
      "                    'WTLS':'#8064a2',\n",
      "                    'ROCKCA':'#c05040',\n",
      "                    'ROCKRNAi':'#9bbb59',\n",
      "                    'JNKinhibition': '#dacf2f',\n",
      "                    'DNPVRDNDER': '#a42828'}\n",
      "\n",
      "\n",
      "            \n",
      "all_ellipses['color'] = [phenotype_colors[name] for name in all_ellipses['phenotype']]\n"
     ],
     "language": "python",
     "metadata": {},
     "outputs": [],
     "prompt_number": 97
    },
    {
     "cell_type": "code",
     "collapsed": false,
     "input": [
      "from pandas.tools.plotting import scatter_matrix\n"
     ],
     "language": "python",
     "metadata": {},
     "outputs": [],
     "prompt_number": 83
    },
    {
     "cell_type": "code",
     "collapsed": false,
     "input": [
      "all_ellipses.columns"
     ],
     "language": "python",
     "metadata": {},
     "outputs": [
      {
       "metadata": {},
       "output_type": "pyout",
       "prompt_number": 84,
       "text": [
        "Index(['a', 'b', 'color', 'dtheta', 'ellipticity', 'fit_ier', 'gof', 'good', 'name', 'omega', 'phi_x', 'phi_y', 'r0_x', 'r0_y', 'r0_z', 'r1_x', 'r1_y', 'r1_z', 'radius', 'size', 'start', 'stop', 'theta_f', 'theta_i', 'x0', 'x_ec', 'y0', 'y_ec', 'z0', 'z_ec', 'big_rad', 'small_rad', 'center_dist', 'center_to_rad', 'phenotype'], dtype='object')"
       ]
      }
     ],
     "prompt_number": 84
    },
    {
     "cell_type": "code",
     "collapsed": false,
     "input": [
      "all_ellipses['abs_omega'] = np.abs(all_ellipses['omega'])\n",
      "cols = ['abs_omega', 'gof', 'radius']#, 'center_to_rad', 'ellipticity']\n",
      "subset = all_ellipses[all_ellipses['good'] == 1]\n",
      "shindex = np.random.permutation(subset.shape[0])\n",
      "axes = scatter_matrix(subset[cols].iloc[shindex], c=subset['color'].iloc[shindex],\n",
      "                      alpha=0.5, linewidth=0, s=10)"
     ],
     "language": "python",
     "metadata": {},
     "outputs": [],
     "prompt_number": 112
    },
    {
     "cell_type": "code",
     "collapsed": false,
     "input": [
      "all_ellipses['name'].unique()"
     ],
     "language": "python",
     "metadata": {},
     "outputs": [
      {
       "metadata": {},
       "output_type": "pyout",
       "prompt_number": 45,
       "text": [
        "array(['DNPVRDNDER060813_2', 'ROCKRNAi-260913-1', 'WT-120813-1',\n",
        "       'ROCKCA-090813-2', 'ROCKCA-090813-1', 'ROCKRNAi-260913-2',\n",
        "       'ROCKRNAi-190813', 'WTLS9010813_1', 'ROCKCA-051013-1',\n",
        "       'WT-161113-1', 'JNKinhibition220913_1', 'JNKinhibition220913_2',\n",
        "       'WT-240812', 'ROCKCA-051013-2', 'DNPVRDNDER060813_1', 'WT-120813-2'], dtype=object)"
       ]
      }
     ],
     "prompt_number": 45
    },
    {
     "cell_type": "code",
     "collapsed": false,
     "input": [
      "ellipses_subset.shape"
     ],
     "language": "python",
     "metadata": {},
     "outputs": [
      {
       "metadata": {},
       "output_type": "pyout",
       "prompt_number": 192,
       "text": [
        "(6738, 5)"
       ]
      }
     ],
     "prompt_number": 192
    },
    {
     "cell_type": "code",
     "collapsed": false,
     "input": [
      "from sklearn.decomposition import FastICA"
     ],
     "language": "python",
     "metadata": {},
     "outputs": [],
     "prompt_number": 96
    },
    {
     "cell_type": "code",
     "collapsed": false,
     "input": [
      "fica = FastICA()\n",
      "\n",
      "rotated = fica.fit_transform(subset[cols])"
     ],
     "language": "python",
     "metadata": {},
     "outputs": [],
     "prompt_number": 113
    },
    {
     "cell_type": "code",
     "collapsed": false,
     "input": [
      "rotated = pd.DataFrame(rotated, columns=['ica0', 'ica1', 'ica2'], index=subset[cols].index)\n",
      "rotated['color'] = subset['color']"
     ],
     "language": "python",
     "metadata": {},
     "outputs": [],
     "prompt_number": 114
    },
    {
     "cell_type": "code",
     "collapsed": false,
     "input": [
      "axes = scatter_matrix(rotated[['ica0', 'ica1', 'ica2']].iloc[shindex],\n",
      "                      c=rotated['color'].iloc[shindex], alpha=0.5, linewidth=0, s=10)"
     ],
     "language": "python",
     "metadata": {},
     "outputs": [],
     "prompt_number": 116
    },
    {
     "cell_type": "code",
     "collapsed": false,
     "input": [
      "fica.components_"
     ],
     "language": "python",
     "metadata": {},
     "outputs": [
      {
       "metadata": {},
       "output_type": "pyout",
       "prompt_number": 109,
       "text": [
        "array([[ -6.40519582e-03,  -6.02170289e-03,   5.23201384e-04],\n",
        "       [  6.94907868e-02,  -4.81239153e-04,   3.50750137e-05],\n",
        "       [ -2.38092212e-04,   4.27390370e-03,   2.95686164e-03]])"
       ]
      }
     ],
     "prompt_number": 109
    },
    {
     "cell_type": "code",
     "collapsed": false,
     "input": [
      "from sklearn import svm\n",
      "svc = svm.LinearSVC()\n",
      "\n"
     ],
     "language": "python",
     "metadata": {},
     "outputs": [],
     "prompt_number": 193
    },
    {
     "cell_type": "code",
     "collapsed": false,
     "input": [
      "indices = np.random.permutation(ellipses_subset.shape[0])\n"
     ],
     "language": "python",
     "metadata": {},
     "outputs": [],
     "prompt_number": 194
    },
    {
     "cell_type": "code",
     "collapsed": false,
     "input": [
      "indices.shape"
     ],
     "language": "python",
     "metadata": {},
     "outputs": [
      {
       "metadata": {},
       "output_type": "pyout",
       "prompt_number": 195,
       "text": [
        "(6738,)"
       ]
      }
     ],
     "prompt_number": 195
    },
    {
     "cell_type": "code",
     "collapsed": false,
     "input": [
      "ellipses_subset_train = ellipses_subset.iloc[:6000]\n",
      "labels_train = labels_subset.iloc[:6000]\n",
      "ellipses_subset_test = ellipses_subset.iloc[6000:]\n",
      "labels_test = labels_subset.iloc[6000:]\n",
      "\n"
     ],
     "language": "python",
     "metadata": {},
     "outputs": [],
     "prompt_number": 196
    },
    {
     "cell_type": "code",
     "collapsed": false,
     "input": [
      "labels_test.shape, labels_train.shape"
     ],
     "language": "python",
     "metadata": {},
     "outputs": [
      {
       "metadata": {},
       "output_type": "pyout",
       "prompt_number": 197,
       "text": [
        "((738,), (6000,))"
       ]
      }
     ],
     "prompt_number": 197
    },
    {
     "cell_type": "code",
     "collapsed": false,
     "input": [
      "svc.fit(ellipses_subset_train, labels_train)"
     ],
     "language": "python",
     "metadata": {},
     "outputs": [
      {
       "metadata": {},
       "output_type": "pyout",
       "prompt_number": 204,
       "text": [
        "LinearSVC(C=1.0, class_weight=None, dual=True, fit_intercept=True,\n",
        "     intercept_scaling=1, loss='l2', multi_class='ovr', penalty='l2',\n",
        "     random_state=None, tol=0.0001, verbose=0)"
       ]
      }
     ],
     "prompt_number": 204
    },
    {
     "cell_type": "code",
     "collapsed": false,
     "input": [
      "test = svc.predict(ellipses_subset_test)"
     ],
     "language": "python",
     "metadata": {},
     "outputs": [],
     "prompt_number": 205
    },
    {
     "cell_type": "code",
     "collapsed": false,
     "input": [
      "plt.figure()\n",
      "plt.plot(labels_test[test == labels_test]+0.1, 'go')\n",
      "plt.plot(labels_test[test != labels_test], 'ro')\n",
      "\n"
     ],
     "language": "python",
     "metadata": {},
     "outputs": [
      {
       "metadata": {},
       "output_type": "pyout",
       "prompt_number": 214,
       "text": [
        "[<matplotlib.lines.Line2D at 0x7f86b4c28b38>]"
       ]
      }
     ],
     "prompt_number": 214
    },
    {
     "cell_type": "code",
     "collapsed": false,
     "input": [
      "def fitellipse(x, y):\n",
      "    '''Least-squares fit of ellipse to 2D points.\n",
      "\n",
      "    Parameters\n",
      "    ----------\n",
      "    x, y : array-like\n",
      "        the 2D points to fit\n",
      "\n",
      "    returns the parameters of the best-fit ellipse to 2D points (X,Y).\n",
      "    The returned vector A contains the center, radii, and orientation\n",
      "    of the ellipse, stored as (Cx, Cy, Rx, Ry, theta_radians)\n",
      "\n",
      "    This is a python version of the matplab code by Andrew Fitzgibbon, Maurizio Pilu and Bob Fisher\n",
      "    Authors: Andrew Fitzgibbon, Maurizio Pilu, Bob Fisher\n",
      "    Reference: \"Direct Least Squares Fitting of Ellipses\", IEEE T-PAMI, 1999\n",
      "    %\n",
      "     @Article{Fitzgibbon99,\n",
      "      author = \"Fitzgibbon, A.~W.and Pilu, M. and Fisher, R.~B.\",\n",
      "      title = \"Direct least-squares fitting of ellipses\",\n",
      "      journal = pami,\n",
      "      year = 1999,\n",
      "      volume = 21,\n",
      "      number = 5,\n",
      "      month = may,\n",
      "      pages = \"476--480\"\n",
      "     }\n",
      "\n",
      "    This is a more bulletproof version than that in the paper, incorporating\n",
      "    scaling to reduce roundoff error, correction of behaviour when the input\n",
      "    data are on a perfect hyperbola, and returns the geometric parameters\n",
      "    of the ellipse, rather than the coefficients of the quadratic form.\n",
      "    '''\n",
      "\n",
      "    # if nargin == 0\n",
      "    #   % Create an ellipse\n",
      "    #   t = linspace(0,2);\n",
      "\n",
      "    #   Rx = 300;\n",
      "    #   Ry = 200;\n",
      "    #   Cx = 250;\n",
      "    #   Cy = 150;\n",
      "    #   Rotation = .4; % Radians\n",
      "\n",
      "    #   NoiseLevel = .5; % Will add Gaussian noise of this std.dev. to points\n",
      "\n",
      "    #   x = Rx * cos(t);\n",
      "    #   y = Ry * sin(t);\n",
      "    #   nx = x*cos(Rotation)-y*sin(Rotation) + Cx + randn(size(t))*NoiseLevel;\n",
      "    #   ny = x*sin(Rotation)+y*cos(Rotation) + Cy + randn(size(t))*NoiseLevel;\n",
      "\n",
      "    #   % Clear figure\n",
      "    #   clf\n",
      "    #   % Draw it\n",
      "    #   plot(nx,ny,'o');\n",
      "    #   % Show the window\n",
      "    #   figure(gcf)\n",
      "    #   % Fit it\n",
      "    #   params = fitellipse(nx,ny);\n",
      "    #   % Note it may return (Rotation - pi/2) and swapped radii, this is fine.\n",
      "    #   Given = round([Cx Cy Rx Ry Rotation*180])\n",
      "    #   Returned = round(params.*[1 1 1 1 180])\n",
      "\n",
      "    #   % Draw the returned ellipse\n",
      "    #   t = linspace(0,pi*2);\n",
      "    #   x = params(3) * cos(t);\n",
      "    #   y = params(4) * sin(t);\n",
      "    #   nx = x*cos(params(5))-y*sin(params(5)) + params(1);\n",
      "    #   ny = x*sin(params(5))+y*cos(params(5)) + params(2);\n",
      "    #   hold on\n",
      "    #   plot(nx,ny,'r-')\n",
      "\n",
      "    #   return\n",
      "    # end\n",
      "\n",
      "    #normalize data\n",
      "    mx = x.mean()\n",
      "    my = y.mean()\n",
      "    sx = (x.max() - x.min()) / 2\n",
      "    sy = (y.max() - y.min()) / 2\n",
      "\n",
      "    x_ = (x - mx)/sx\n",
      "    y_ = (y - my)/sy\n",
      "\n",
      "    # # Force to column vectors\n",
      "    # x = x(:)\n",
      "    # y = y(:)\n",
      "\n",
      "    # Build design matrix\n",
      "    D = np.vstack([ x_**2,  x_*y_,  y_**2,  x_,  y_,  np.ones(x.size)])\n",
      "    # Build scatter matrix\n",
      "    S = np.dot(D, D.T)\n",
      "    # Build 6x6 constraint matrix\n",
      "    C = np.zeros((6, 6))\n",
      "    C[0, 2] = -2\n",
      "    C[1, 1] = 1\n",
      "    C[2, 0] = -2\n",
      "    \n",
      "    # Solve eigensystem\n",
      "    \n",
      "    if True:\n",
      "        geval, gevec = sp.linalg.eig(S, C)\n",
      "\n",
      "        # Find the zero eigenvalue\n",
      "\n",
      "        I, = np.where(np.logical_and(np.isfinite(geval), np.real(geval) < 1e-8))\n",
      "        if not len(I) == 1:\n",
      "            raise ValueError('''Eigen values {} doesn't have a single zero value'''.format(geval))\n",
      "        I = I[0]\n",
      "        # Extract eigenvector corresponding to negative eigenvalue\n",
      "        A = np.real(gevec[:, I])\n",
      "\n",
      "    else:\n",
      "\n",
      "        tmpA = S[:3, :3]\n",
      "        tmpB = S[:3, 3:] \n",
      "        tmpC = S[3:, 3:]\n",
      "        tmpD = C[:3, :3]\n",
      "        tmpE = np.dot(np.linalg.inv(tmpC), tmpB.T)\n",
      "        eval_x, evec_x = np.linalg.eig(np.dot(np.linalg.inv(tmpD), (tmpA - np.dot(tmpB, tmpE))))\n",
      "\n",
      "        I, = np.where(np.logical_and(np.isfinite(eval_x), np.real(eval_x) < 1e-8))\n",
      "        if not len(I) == 1:\n",
      "            raise ValueError('''Eigen values {} doesn't have a single negative value'''.format(eval_x))\n",
      "        I = I[0]\n",
      "        # Extract eigenvector corresponding to negative eigenvalue\n",
      "        A = np.real(evec_x[:, I])\n",
      "\n",
      "        # Recover the bottom half...\n",
      "        evec_y = np.dot(-tmpE, A)\n",
      "        A = np.hstack([A, evec_y])\n",
      "        \n",
      "    # unnormalize\n",
      "    par = [A[0]*sy*sy,\n",
      "           A[1]*sx*sy,\n",
      "           A[2]*sx*sx,\n",
      "           -1*A[0]*sy*sy*mx - A[1]*sx*sy*my + A[3]*sx*sy*sy,\n",
      "           -A[1]*sx*sy*mx - 2*A[2]*sx*sx*my + A[4]*sx*sx*sy,\n",
      "           A[0]*sy*sy*mx*mx + A[1]*sx*sy*mx*my + A[2]*sx*sx*my*my\n",
      "           - A[3]*sx*sy*sy*mx - A[4]*sx*sx*sy*my\n",
      "           + A[5]*sx*sx*sy*sy]\n",
      "\n",
      "    # Convert to geometric radii, and centers\n",
      "\n",
      "    thetarad = 0.5 * np.arctan2(par[1], par[0] - par[2])\n",
      "    cost = np.cos(thetarad)\n",
      "    sint = np.sin(thetarad)\n",
      "    sin_squared = sint**2\n",
      "    cos_squared = cost**2\n",
      "    cos_sin = sint * cost\n",
      "\n",
      "    Ao = par[5]\n",
      "    Au =   par[3] * cost + par[4] * sint\n",
      "    Av = - par[3] * sint + par[4] * cost\n",
      "    Auu = par[0] * cos_squared + par[2] * sin_squared + par[1] * cos_sin\n",
      "    Avv = par[0] * sin_squared + par[2] * cos_squared - par[1] * cos_sin\n",
      "\n",
      "    # ROTATED = [Ao Au Av Auu Avv]\n",
      "\n",
      "    tuCentre = - Au / (2*Auu)\n",
      "    tvCentre = - Av / (2*Avv)\n",
      "    wCentre = Ao - Auu*tuCentre*tuCentre - Avv*tvCentre*tvCentre\n",
      "\n",
      "    uCentre = tuCentre * cost - tvCentre * sint\n",
      "    vCentre = tuCentre * sint + tvCentre * cost\n",
      "\n",
      "    Ru = - wCentre / Auu\n",
      "    Rv = - wCentre / Avv\n",
      "\n",
      "    Ru = np.sqrt(np.abs(Ru))*sign(Ru)\n",
      "    Rv = np.sqrt(np.abs(Rv))*sign(Rv)\n",
      "    return (uCentre, vCentre, Ru, Rv, thetarad)\n"
     ],
     "language": "python",
     "metadata": {},
     "outputs": [],
     "prompt_number": 510
    },
    {
     "cell_type": "code",
     "collapsed": false,
     "input": [
      "\n",
      "def eval_ellipses(ts, params):\n",
      "    \n",
      "    c_x, c_y, a, b, phi = params\n",
      "    \n",
      "    xs = a * np.cos(ts)\n",
      "    ys = b * np.sin(ts)\n",
      "\n",
      "    xs, ys = (xs * np.cos(phi) - ys * np.sin(phi) + c_x,\n",
      "              xs * np.sin(phi) + ys * np.cos(phi) + c_y)\n",
      "\n",
      "    return xs, ys\n",
      "\n",
      "\n",
      "ts = np.linspace(0, 2*np.pi * 0.5, num=100)\n",
      "params_in = c_x, c_y, a, b, phi = 1, 2, 3, 4, np.pi/3\n",
      "noise = a * 1e-10\n",
      "\n",
      "xs_true, ys_true =  eval_ellipses(ts, params_in)\n",
      "xs = xs_true + np.random.normal(size=ts.size)\n",
      "ys = xs_true + np.random.normal(size=ts.size)\n",
      "\n",
      "\n",
      "fig, axes = plt.subplots(2, 1)\n",
      "axes[0].plot(xs, ys, 'o')\n",
      "axes[0].plot(xs_true, ys_true, 'k-')\n",
      "axes[0].set_aspect('equal')\n",
      "\n",
      "params = fitellipse(xs, ys)\n",
      "swap_params = [params[0], params[1], params[3], params[2], np.pi/2 + params[4]]\n",
      "\n",
      "\n",
      "\n",
      "xs_f, ys_f = eval_ellipses(ts, params)\n",
      "err = np.mean((xs_f - xs)**2 + (ys_f - ys)**2)\n",
      "axes[0].plot(xs_f, ys_f, 'r--')\n",
      "\n",
      "\n",
      "xs_fs, ys_fs = eval_ellipses(ts, swap_params)\n",
      "err_s = np.mean((ys_fs - xs)**2 + (ys_fs - ys)**2)\n",
      "axes[0].plot(xs_fs, ys_fs, 'g--')\n",
      "\n",
      "\n",
      "\n",
      "\n",
      "axes[1].plot(err)"
     ],
     "language": "python",
     "metadata": {},
     "outputs": [
      {
       "output_type": "stream",
       "stream": "stdout",
       "text": [
        "(6, 100)\n",
        "(6, 6)\n"
       ]
      },
      {
       "metadata": {},
       "output_type": "pyout",
       "prompt_number": 518,
       "text": [
        "[<matplotlib.lines.Line2D at 0x7f86b4175518>]"
       ]
      }
     ],
     "prompt_number": 518
    },
    {
     "cell_type": "code",
     "collapsed": false,
     "input": [
      "params, params_in"
     ],
     "language": "python",
     "metadata": {},
     "outputs": [
      {
       "metadata": {},
       "output_type": "pyout",
       "prompt_number": 506,
       "text": [
        "((1.3618457241439446,\n",
        "  1.9700434933063442,\n",
        "  3.9665498258820446,\n",
        "  3.1142940501080689,\n",
        "  -0.5382187718361181),\n",
        " (1, 2, 3, 4, 1.0471975511965976))"
       ]
      }
     ],
     "prompt_number": 506
    },
    {
     "cell_type": "code",
     "collapsed": false,
     "input": [
      "phi - np.pi/2"
     ],
     "language": "python",
     "metadata": {},
     "outputs": [
      {
       "metadata": {},
       "output_type": "pyout",
       "prompt_number": 485,
       "text": [
        "-0.5235987755982989"
       ]
      }
     ],
     "prompt_number": 485
    },
    {
     "cell_type": "code",
     "collapsed": false,
     "input": [
      "phi, phi_f+np.pi/2\n"
     ],
     "language": "python",
     "metadata": {},
     "outputs": [
      {
       "metadata": {},
       "output_type": "pyout",
       "prompt_number": 492,
       "text": [
        "(1.0471975511965976, 1.0394616756906063)"
       ]
      }
     ],
     "prompt_number": 492
    },
    {
     "cell_type": "code",
     "collapsed": false,
     "input": [
      "phi"
     ],
     "language": "python",
     "metadata": {},
     "outputs": [
      {
       "metadata": {},
       "output_type": "pyout",
       "prompt_number": 447,
       "text": [
        "0.5235987755982988"
       ]
      }
     ],
     "prompt_number": 447
    },
    {
     "cell_type": "code",
     "collapsed": false,
     "input": [
      "phi_f"
     ],
     "language": "python",
     "metadata": {},
     "outputs": [
      {
       "metadata": {},
       "output_type": "pyout",
       "prompt_number": 451,
       "text": [
        "-1.3675077423197459"
       ]
      }
     ],
     "prompt_number": 451
    },
    {
     "cell_type": "code",
     "collapsed": false,
     "input": [],
     "language": "python",
     "metadata": {},
     "outputs": []
    },
    {
     "cell_type": "code",
     "collapsed": false,
     "input": [
      "%pdb"
     ],
     "language": "python",
     "metadata": {},
     "outputs": [
      {
       "output_type": "stream",
       "stream": "stdout",
       "text": [
        "Automatic pdb calling has been turned ON\n"
       ]
      }
     ],
     "prompt_number": 240
    },
    {
     "cell_type": "code",
     "collapsed": false,
     "input": [
      "\n",
      "I,  = np.where(np.logical_and(np.isfinite(geval), np.real(geval) < - 1e-8))\n",
      "I = I[0]\n"
     ],
     "language": "python",
     "metadata": {},
     "outputs": [],
     "prompt_number": 278
    },
    {
     "cell_type": "code",
     "collapsed": false,
     "input": [
      "A = np.real(gevec[:, I])"
     ],
     "language": "python",
     "metadata": {},
     "outputs": [],
     "prompt_number": 279
    },
    {
     "cell_type": "code",
     "collapsed": false,
     "input": [
      "mx = xs.mean()\n",
      "my = ys.mean()\n",
      "sx = (xs.max() - xs.min()) / 2\n",
      "sy = (ys.max() - ys.min()) / 2\n"
     ],
     "language": "python",
     "metadata": {},
     "outputs": [],
     "prompt_number": 281
    },
    {
     "cell_type": "code",
     "collapsed": false,
     "input": [
      "par = [A[1]*sy*sy,\n",
      "       A[2]*sx*sy,\n",
      "       A[3]*sx*sx,\n",
      "       -2*A[1]*sy*sy*mx - A[2]*sx*sy*my + A[4]*sx*sy*sy,\n",
      "       -A[2]*sx*sy*mx - 2*A[3]*sx*sx*my + A[5]*sx*sx*sy,\n",
      "       A[1]*sy*sy*mx*mx + A[2]*sx*sy*mx*my + A[3]*sx*sx*my*my\n",
      "       - A[4]*sx*sy*sy*mx - A[5]*sx*sx*sy*my\n",
      "       + A[6]*sx*sx*sy*sy]\n"
     ],
     "language": "python",
     "metadata": {},
     "outputs": [
      {
       "ename": "IndexError",
       "evalue": "index out of bounds",
       "output_type": "pyerr",
       "traceback": [
        "\u001b[1;31m---------------------------------------------------------------------------\u001b[0m\n\u001b[1;31mIndexError\u001b[0m                                Traceback (most recent call last)",
        "\u001b[1;32m<ipython-input-282-765fa03a186d>\u001b[0m in \u001b[0;36m<module>\u001b[1;34m()\u001b[0m\n\u001b[0;32m      6\u001b[0m        \u001b[0mA\u001b[0m\u001b[1;33m[\u001b[0m\u001b[1;36m1\u001b[0m\u001b[1;33m]\u001b[0m\u001b[1;33m*\u001b[0m\u001b[0msy\u001b[0m\u001b[1;33m*\u001b[0m\u001b[0msy\u001b[0m\u001b[1;33m*\u001b[0m\u001b[0mmx\u001b[0m\u001b[1;33m*\u001b[0m\u001b[0mmx\u001b[0m \u001b[1;33m+\u001b[0m \u001b[0mA\u001b[0m\u001b[1;33m[\u001b[0m\u001b[1;36m2\u001b[0m\u001b[1;33m]\u001b[0m\u001b[1;33m*\u001b[0m\u001b[0msx\u001b[0m\u001b[1;33m*\u001b[0m\u001b[0msy\u001b[0m\u001b[1;33m*\u001b[0m\u001b[0mmx\u001b[0m\u001b[1;33m*\u001b[0m\u001b[0mmy\u001b[0m \u001b[1;33m+\u001b[0m \u001b[0mA\u001b[0m\u001b[1;33m[\u001b[0m\u001b[1;36m3\u001b[0m\u001b[1;33m]\u001b[0m\u001b[1;33m*\u001b[0m\u001b[0msx\u001b[0m\u001b[1;33m*\u001b[0m\u001b[0msx\u001b[0m\u001b[1;33m*\u001b[0m\u001b[0mmy\u001b[0m\u001b[1;33m*\u001b[0m\u001b[0mmy\u001b[0m\u001b[1;33m\u001b[0m\u001b[0m\n\u001b[0;32m      7\u001b[0m        \u001b[1;33m-\u001b[0m \u001b[0mA\u001b[0m\u001b[1;33m[\u001b[0m\u001b[1;36m4\u001b[0m\u001b[1;33m]\u001b[0m\u001b[1;33m*\u001b[0m\u001b[0msx\u001b[0m\u001b[1;33m*\u001b[0m\u001b[0msy\u001b[0m\u001b[1;33m*\u001b[0m\u001b[0msy\u001b[0m\u001b[1;33m*\u001b[0m\u001b[0mmx\u001b[0m \u001b[1;33m-\u001b[0m \u001b[0mA\u001b[0m\u001b[1;33m[\u001b[0m\u001b[1;36m5\u001b[0m\u001b[1;33m]\u001b[0m\u001b[1;33m*\u001b[0m\u001b[0msx\u001b[0m\u001b[1;33m*\u001b[0m\u001b[0msx\u001b[0m\u001b[1;33m*\u001b[0m\u001b[0msy\u001b[0m\u001b[1;33m*\u001b[0m\u001b[0mmy\u001b[0m\u001b[1;33m\u001b[0m\u001b[0m\n\u001b[1;32m----> 8\u001b[1;33m        + A[6]*sx*sx*sy*sy]\n\u001b[0m",
        "\u001b[1;31mIndexError\u001b[0m: index out of bounds"
       ]
      },
      {
       "output_type": "stream",
       "stream": "stdout",
       "text": [
        "> \u001b[1;32m<ipython-input-282-765fa03a186d>\u001b[0m(8)\u001b[0;36m<module>\u001b[1;34m()\u001b[0m\n",
        "\u001b[1;32m      6 \u001b[1;33m       \u001b[0mA\u001b[0m\u001b[1;33m[\u001b[0m\u001b[1;36m1\u001b[0m\u001b[1;33m]\u001b[0m\u001b[1;33m*\u001b[0m\u001b[0msy\u001b[0m\u001b[1;33m*\u001b[0m\u001b[0msy\u001b[0m\u001b[1;33m*\u001b[0m\u001b[0mmx\u001b[0m\u001b[1;33m*\u001b[0m\u001b[0mmx\u001b[0m \u001b[1;33m+\u001b[0m \u001b[0mA\u001b[0m\u001b[1;33m[\u001b[0m\u001b[1;36m2\u001b[0m\u001b[1;33m]\u001b[0m\u001b[1;33m*\u001b[0m\u001b[0msx\u001b[0m\u001b[1;33m*\u001b[0m\u001b[0msy\u001b[0m\u001b[1;33m*\u001b[0m\u001b[0mmx\u001b[0m\u001b[1;33m*\u001b[0m\u001b[0mmy\u001b[0m \u001b[1;33m+\u001b[0m \u001b[0mA\u001b[0m\u001b[1;33m[\u001b[0m\u001b[1;36m3\u001b[0m\u001b[1;33m]\u001b[0m\u001b[1;33m*\u001b[0m\u001b[0msx\u001b[0m\u001b[1;33m*\u001b[0m\u001b[0msx\u001b[0m\u001b[1;33m*\u001b[0m\u001b[0mmy\u001b[0m\u001b[1;33m*\u001b[0m\u001b[0mmy\u001b[0m\u001b[1;33m\u001b[0m\u001b[0m\n",
        "\u001b[0m\u001b[1;32m      7 \u001b[1;33m       \u001b[1;33m-\u001b[0m \u001b[0mA\u001b[0m\u001b[1;33m[\u001b[0m\u001b[1;36m4\u001b[0m\u001b[1;33m]\u001b[0m\u001b[1;33m*\u001b[0m\u001b[0msx\u001b[0m\u001b[1;33m*\u001b[0m\u001b[0msy\u001b[0m\u001b[1;33m*\u001b[0m\u001b[0msy\u001b[0m\u001b[1;33m*\u001b[0m\u001b[0mmx\u001b[0m \u001b[1;33m-\u001b[0m \u001b[0mA\u001b[0m\u001b[1;33m[\u001b[0m\u001b[1;36m5\u001b[0m\u001b[1;33m]\u001b[0m\u001b[1;33m*\u001b[0m\u001b[0msx\u001b[0m\u001b[1;33m*\u001b[0m\u001b[0msx\u001b[0m\u001b[1;33m*\u001b[0m\u001b[0msy\u001b[0m\u001b[1;33m*\u001b[0m\u001b[0mmy\u001b[0m\u001b[1;33m\u001b[0m\u001b[0m\n",
        "\u001b[0m\u001b[1;32m----> 8 \u001b[1;33m       + A[6]*sx*sx*sy*sy]\n",
        "\u001b[0m\n"
       ]
      },
      {
       "name": "stdout",
       "output_type": "stream",
       "stream": "stdout",
       "text": [
        "ipdb> c\n"
       ]
      }
     ],
     "prompt_number": 282
    },
    {
     "cell_type": "code",
     "collapsed": false,
     "input": [
      "np.real(gevec)\n"
     ],
     "language": "python",
     "metadata": {},
     "outputs": [
      {
       "metadata": {},
       "output_type": "pyout",
       "prompt_number": 260,
       "text": [
        "array([[  1.35364547e-01,  -6.64704161e-02,   1.50386199e-01,\n",
        "          1.42629871e-01,   9.84648655e-01,   7.08012356e-02],\n",
        "       [  0.00000000e+00,   1.54125033e-02,  -5.42597277e-02,\n",
        "          6.06770275e-02,   4.02522249e-17,   1.28710002e-17],\n",
        "       [  0.00000000e+00,  -1.23096734e-01,   7.02822611e-02,\n",
        "          1.07597973e-01,   6.70870414e-18,   0.00000000e+00],\n",
        "       [  0.00000000e+00,  -5.85959866e-03,  -3.01294250e-01,\n",
        "         -4.06613797e-01,   5.36696331e-17,   9.41191887e-17],\n",
        "       [  5.35030608e-02,   4.52847600e-01,  -2.46935145e-01,\n",
        "         -4.91068919e-01,  -9.42561023e-03,   9.96900420e-01],\n",
        "       [ -9.89350222e-01,   8.80389714e-01,  -9.04292589e-01,\n",
        "         -7.46936564e-01,   1.74293385e-01,   3.43036110e-02]])"
       ]
      }
     ],
     "prompt_number": 260
    },
    {
     "cell_type": "code",
     "collapsed": false,
     "input": [
      "gevec"
     ],
     "language": "python",
     "metadata": {},
     "outputs": [
      {
       "metadata": {},
       "output_type": "pyout",
       "prompt_number": 246,
       "text": [
        "array([             inf+nanj,   8.41690623e+02 +0.j,  -2.68341003e+02 +0.j,\n",
        "        -2.61853905e-12 +0.j,              inf+nanj,              inf+nanj])"
       ]
      }
     ],
     "prompt_number": 246
    },
    {
     "cell_type": "code",
     "collapsed": false,
     "input": [
      "labels_test[test == labels_test].shape[0]/test.shape[0]"
     ],
     "language": "python",
     "metadata": {},
     "outputs": [
      {
       "metadata": {},
       "output_type": "pyout",
       "prompt_number": 212,
       "text": [
        "0.7791327913279132"
       ]
      }
     ],
     "prompt_number": 212
    },
    {
     "cell_type": "code",
     "collapsed": false,
     "input": [
      "labels_test[test == labels_test]"
     ],
     "language": "python",
     "metadata": {},
     "outputs": []
    }
   ],
   "metadata": {}
  }
 ]
}