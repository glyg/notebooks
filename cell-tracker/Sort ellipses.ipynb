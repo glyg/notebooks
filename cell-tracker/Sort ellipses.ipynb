{
 "metadata": {
  "name": "",
  "signature": "sha256:157d384d279782485c8c99a9349deec4cfeff54a0814df28164a7ab570e52a7e"
 },
 "nbformat": 3,
 "nbformat_minor": 0,
 "worksheets": [
  {
   "cells": [
    {
     "cell_type": "code",
     "collapsed": false,
     "input": [
      "%load_ext autoreload\n",
      "%autoreload 2"
     ],
     "language": "python",
     "metadata": {},
     "outputs": [],
     "prompt_number": 1
    },
    {
     "cell_type": "code",
     "collapsed": false,
     "input": [
      "### The library used for plotting\n",
      "#%matplotlib \n",
      "import matplotlib.pyplot as plt\n",
      "%matplotlib qt\n",
      "#mpld3.enable_notebook()\n",
      "\n",
      "### This imports various dependencies\n",
      "%run nb_init.py\n",
      "#### \n",
      "import cell_tracker as ct\n",
      "\n",
      "sizes = [24, 36, 48, 60]"
     ],
     "language": "python",
     "metadata": {},
     "outputs": [
      {
       "output_type": "stream",
       "stream": "stderr",
       "text": [
        "2014-09-08 12:44:22:INFO:sktracker.utils.mpl_loader: Matplotlib backend 'Qt4Agg' has been loaded.\n"
       ]
      }
     ],
     "prompt_number": 2
    },
    {
     "cell_type": "code",
     "collapsed": false,
     "input": [
      "ct"
     ],
     "language": "python",
     "metadata": {},
     "outputs": [
      {
       "metadata": {},
       "output_type": "pyout",
       "prompt_number": 3,
       "text": [
        "<module 'cell_tracker' from '/home/guillaume/Python/cell-tracker/cell_tracker/__init__.py'>"
       ]
      }
     ],
     "prompt_number": 3
    },
    {
     "cell_type": "code",
     "collapsed": false,
     "input": [
      "## You can set this to the common path of all your data\n",
      "default_path = '/media/data/AnneHDFStores/'\n",
      "cluster = ct.ui.get_cluster(default_path)\n",
      "smw = ct.ui.set_metadata(cluster.metadata)\n",
      "display.display(smw)"
     ],
     "language": "python",
     "metadata": {},
     "outputs": [
      {
       "output_type": "stream",
       "stream": "stdout",
       "text": [
        "Choosen data path: /media/data/AnneHDFStores/JVM_control.h5\n"
       ]
      }
     ],
     "prompt_number": 4
    },
    {
     "cell_type": "code",
     "collapsed": false,
     "input": [
      "print('Ellipses are stored in a pd.Panel:\\n',\n",
      "      cluster.ellipses,\n",
      "      'Sizes of the time window:',\n",
      "       cluster.ellipses.keys(), end='\\n', sep='\\n')\n",
      "\n",
      "### Excplicit method to acces a single data point\n",
      "\n",
      "## Choose a data point\n",
      "size = 48\n",
      "t_stamp = 10\n",
      "label = 5\n",
      "column = 'good'\n",
      "\n",
      "### Get it's value here\n",
      "value = cluster.ellipses.loc[size, t_stamp, label][column]\n",
      "print('''\n",
      "The value for the major axis (the size) {},\n",
      "the minor axis (the time_stamp {} and label {})\n",
      "and the column \"{}\" is: \\n \\t\\t\\t {} '''.format(size,\n",
      "                                          t_stamp,\n",
      "                                          label,\n",
      "                                          column, value))"
     ],
     "language": "python",
     "metadata": {},
     "outputs": [
      {
       "output_type": "stream",
       "stream": "stdout",
       "text": [
        "Ellipses are stored in a pd.Panel:\n",
        "\n",
        "<class 'pandas.core.panel.Panel'>\n",
        "Dimensions: 6 (items) x 420 (major_axis) x 28 (minor_axis)\n",
        "Items axis: 24 to 120\n",
        "Major_axis axis: (0, 1) to (86, 5)\n",
        "Minor_axis axis: a to good\n",
        "Sizes of the time window:\n",
        "Int64Index([24, 36, 48, 60, 90, 120], dtype='int64')\n",
        "\n",
        "The value for the major axis (the size) 48,\n",
        "the minor axis (the time_stamp 10 and label 5)\n",
        "and the column \"good\" is: \n",
        " \t\t\t 0.0 \n"
       ]
      }
     ],
     "prompt_number": 5
    },
    {
     "cell_type": "code",
     "collapsed": false,
     "input": [
      "### You can change the name of the file bellow if you're using other cutoffs\n",
      "settings_json = 'ellipsis_cutoffs_pick.json'\n",
      "\n",
      "setter_widget = ct.ui.ipy_widgets.set_ellipsis_limits(jsonfile=settings_json)\n",
      "ellipsis_cutoffs = setter_widget.settings\n",
      "display.display(setter_widget)"
     ],
     "language": "python",
     "metadata": {},
     "outputs": [],
     "prompt_number": 6
    },
    {
     "cell_type": "code",
     "collapsed": false,
     "input": [
      "cluster.detect_rotations(ellipsis_cutoffs, sizes, method='binary')\n",
      "ct.graphics.show_ellipses_clusters(cluster, sizes, ellipsis_cutoffs)\n",
      "ax, total_rot, n_detected = ct.graphics.plot_rotation_events(cluster, ax=None,\n",
      "                                                             show_segments=True)"
     ],
     "language": "python",
     "metadata": {},
     "outputs": [],
     "prompt_number": 42
    },
    {
     "cell_type": "code",
     "collapsed": false,
     "input": [
      "ooep = ct.ui.EllipsisPicker(cluster, sizes, coords=['x_r', 'y_r', 'z_r'])"
     ],
     "language": "python",
     "metadata": {},
     "outputs": [
      {
       "output_type": "stream",
       "stream": "stdout",
       "text": [
        "pageup\n",
        "pageup"
       ]
      },
      {
       "output_type": "stream",
       "stream": "stdout",
       "text": [
        "\n",
        "pageup"
       ]
      },
      {
       "output_type": "stream",
       "stream": "stdout",
       "text": [
        "\n",
        "pageup"
       ]
      },
      {
       "output_type": "stream",
       "stream": "stdout",
       "text": [
        "\n",
        "pageup"
       ]
      }
     ],
     "prompt_number": 48
    },
    {
     "cell_type": "markdown",
     "metadata": {},
     "source": [
      "OK this is still bugg"
     ]
    },
    {
     "cell_type": "code",
     "collapsed": false,
     "input": [
      "cluster.ellipses.loc[:, :, 'good'].stack().stack().max()"
     ],
     "language": "python",
     "metadata": {},
     "outputs": [
      {
       "metadata": {},
       "output_type": "pyout",
       "prompt_number": 35,
       "text": [
        "1.0"
       ]
      }
     ],
     "prompt_number": 35
    },
    {
     "cell_type": "code",
     "collapsed": false,
     "input": [
      "if 'a' in []:\n",
      "    print('')"
     ],
     "language": "python",
     "metadata": {},
     "outputs": [],
     "prompt_number": 46
    },
    {
     "cell_type": "code",
     "collapsed": false,
     "input": [
      "ooep.bad_ellipses"
     ],
     "language": "python",
     "metadata": {},
     "outputs": [
      {
       "metadata": {},
       "output_type": "pyout",
       "prompt_number": 41,
       "text": [
        "[(60, 30, 1),\n",
        " (60, 35, 1),\n",
        " (60, 32, 1),\n",
        " (48, 34, 1),\n",
        " (60, 34, 1),\n",
        " (60, 40, 1),\n",
        " (60, 41, 1),\n",
        " (60, 43, 1),\n",
        " (60, 44, 1),\n",
        " (24, 40, 1),\n",
        " (48, 12, 1),\n",
        " (48, 10, 1),\n",
        " (48, 14, 1),\n",
        " (48, 13, 1),\n",
        " (36, 10, 1),\n",
        " (24, 76, 1),\n",
        " (36, 79, 1),\n",
        " (24, 78, 1),\n",
        " (60, 47, 1),\n",
        " (60, 48, 1),\n",
        " (36, 52, 1),\n",
        " (60, 33, 1),\n",
        " (60, 42, 1),\n",
        " (48, 35, 1),\n",
        " (60, 51, 1),\n",
        " (36, 47, 1),\n",
        " (60, 50, 1),\n",
        " (24, 49, 1),\n",
        " (36, 13, 1),\n",
        " (36, 78, 1)]"
       ]
      }
     ],
     "prompt_number": 41
    },
    {
     "cell_type": "code",
     "collapsed": false,
     "input": [
      "a = set(range(4))"
     ],
     "language": "python",
     "metadata": {},
     "outputs": [],
     "prompt_number": 30
    },
    {
     "cell_type": "code",
     "collapsed": false,
     "input": [
      "ooep.bad_ellipses"
     ],
     "language": "python",
     "metadata": {},
     "outputs": []
    },
    {
     "cell_type": "code",
     "collapsed": false,
     "input": [
      "import collections\n",
      "\n"
     ],
     "language": "python",
     "metadata": {},
     "outputs": [],
     "prompt_number": 34
    },
    {
     "cell_type": "code",
     "collapsed": false,
     "input": [],
     "language": "python",
     "metadata": {},
     "outputs": [],
     "prompt_number": 36
    },
    {
     "cell_type": "code",
     "collapsed": false,
     "input": [
      "for s, t, l in ooep.bad_ellipses:\n",
      "    cluster.ellipses.loc[s, t, l]['good'] = 100\n",
      "\n",
      "\n"
     ],
     "language": "python",
     "metadata": {},
     "outputs": [],
     "prompt_number": 39
    },
    {
     "cell_type": "code",
     "collapsed": false,
     "input": [
      "cluster.ellipses.loc[s, t, l]['good'] "
     ],
     "language": "python",
     "metadata": {},
     "outputs": [
      {
       "metadata": {},
       "output_type": "pyout",
       "prompt_number": 40,
       "text": [
        "1.0"
       ]
      }
     ],
     "prompt_number": 40
    },
    {
     "cell_type": "code",
     "collapsed": false,
     "input": [
      "serie = cluster.ellipses.loc[s, t, l]\n",
      "cluster.ellipses.loc[ep.bad_ellipses[0]]['good'] = 0"
     ],
     "language": "python",
     "metadata": {},
     "outputs": [],
     "prompt_number": 172
    },
    {
     "cell_type": "code",
     "collapsed": false,
     "input": [
      "for z in zip(*np.meshgrid(range(3), range(4))):\n",
      "    print( z)"
     ],
     "language": "python",
     "metadata": {},
     "outputs": [
      {
       "output_type": "stream",
       "stream": "stdout",
       "text": [
        "(array([0, 1, 2]), array([0, 0, 0]))\n",
        "(array([0, 1, 2]), array([1, 1, 1]))\n",
        "(array([0, 1, 2]), array([2, 2, 2]))\n",
        "(array([0, 1, 2]), array([3, 3, 3]))\n"
       ]
      }
     ],
     "prompt_number": 189
    },
    {
     "cell_type": "code",
     "collapsed": false,
     "input": [
      "np.meshgrid(range(3), range(4))"
     ],
     "language": "python",
     "metadata": {},
     "outputs": [
      {
       "metadata": {},
       "output_type": "pyout",
       "prompt_number": 184,
       "text": [
        "[array([[0, 1, 2],\n",
        "        [0, 1, 2],\n",
        "        [0, 1, 2],\n",
        "        [0, 1, 2]]), array([[0, 0, 0],\n",
        "        [1, 1, 1],\n",
        "        [2, 2, 2],\n",
        "        [3, 3, 3]])]"
       ]
      }
     ],
     "prompt_number": 184
    },
    {
     "cell_type": "code",
     "collapsed": false,
     "input": [
      "panel_ = {}\n",
      "multi_index = pd.MultiIndex.from_tuples([(t, i) for i in range(3) for t in range(4)], names=['t', 'l'])\n",
      "for i in range(3):\n",
      "    panel_[i] = pd.DataFrame(np.arange(24).reshape(12, 2), columns=['A', 'B'], index=multi_index)\n",
      "\n",
      "panel = pd.Panel.from_dict(panel_)\n",
      "print(panel.loc[0, 1, 2]['A'])\n",
      "\n",
      "panel.loc[0, 1, 2]['A'] = 1000\n",
      "print(panel.loc[0, 1, 2]['A'])"
     ],
     "language": "python",
     "metadata": {},
     "outputs": [
      {
       "output_type": "stream",
       "stream": "stdout",
       "text": [
        "18\n",
        "1000\n"
       ]
      }
     ],
     "prompt_number": 216
    },
    {
     "cell_type": "code",
     "collapsed": false,
     "input": [],
     "language": "python",
     "metadata": {},
     "outputs": []
    }
   ],
   "metadata": {}
  }
 ]
}