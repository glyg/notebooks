{
 "metadata": {
  "name": "",
  "signature": "sha256:fff6abebff3bea80dbf5ab8f9b6502a8dd4d33786ad91ae257006e9b980983e0"
 },
 "nbformat": 3,
 "nbformat_minor": 0,
 "worksheets": [
  {
   "cells": [
    {
     "cell_type": "code",
     "collapsed": false,
     "input": [
      "%load_ext autoreload\n",
      "%autoreload 2"
     ],
     "language": "python",
     "metadata": {},
     "outputs": [],
     "prompt_number": 1
    },
    {
     "cell_type": "code",
     "collapsed": false,
     "input": [
      "### The library used for plotting\n",
      "#%matplotlib \n",
      "import matplotlib.pyplot as plt\n",
      "%matplotlib qt\n",
      "#mpld3.enable_notebook()\n",
      "\n",
      "### This imports various dependencies\n",
      "%run nb_init.py\n",
      "#### \n",
      "import cell_tracker as ct\n",
      "\n",
      "sizes = [24, 36, 48, 60]"
     ],
     "language": "python",
     "metadata": {},
     "outputs": [
      {
       "output_type": "stream",
       "stream": "stderr",
       "text": [
        "2014-09-10 17:53:31:INFO:sktracker.utils.mpl_loader: Matplotlib backend 'Qt4Agg' has been loaded.\n"
       ]
      }
     ],
     "prompt_number": 2
    },
    {
     "cell_type": "code",
     "collapsed": false,
     "input": [
      "## You can set this to the common path of all your data\n",
      "default_path = '/media/data/AnneHDFStores/'\n",
      "cluster = ct.ui.get_cluster(default_path)\n",
      "smw = ct.ui.set_metadata(cluster.metadata)\n",
      "display.display(smw)"
     ],
     "language": "python",
     "metadata": {},
     "outputs": [
      {
       "output_type": "stream",
       "stream": "stdout",
       "text": [
        "Choosen data path: /media/data/AnneHDFStores/wt_240812.h5\n"
       ]
      }
     ],
     "prompt_number": 3
    },
    {
     "cell_type": "code",
     "collapsed": false,
     "input": [
      "print('Ellipses are stored in a pd.DataFrame:\\n',\n",
      "#      cluster.ellipses.head(),\n",
      "      'Sizes of the time window:',\n",
      "       cluster.ellipses.index.get_level_values(level='size').unique(), end='\\n', sep='\\n')\n",
      "\n",
      "### Excplicit method to acces a single data point\n",
      "\n",
      "## Choose a data point\n",
      "size = 48\n",
      "t_stamp = 10\n",
      "label = 5\n",
      "column = 'good'\n",
      "\n",
      "### Get it's value here\n",
      "value = cluster.ellipses.loc[t_stamp, label, size][column]\n",
      "print('''\n",
      "The value for the major axis (the size) {},\n",
      "the minor axis (the time_stamp {} and label {})\n",
      "and the column \"{}\" is: \\n \\t\\t\\t {} '''.format(size,\n",
      "                                          t_stamp,\n",
      "                                          label,\n",
      "                                          column, value))"
     ],
     "language": "python",
     "metadata": {},
     "outputs": [
      {
       "output_type": "stream",
       "stream": "stdout",
       "text": [
        "Ellipses are stored in a pd.DataFrame:\n",
        "\n",
        "Sizes of the time window:\n",
        "[24 36 48 60]\n",
        "\n",
        "The value for the major axis (the size) 48,\n",
        "the minor axis (the time_stamp 10 and label 5)\n",
        "and the column \"good\" is: \n",
        " \t\t\t 0.0 \n"
       ]
      }
     ],
     "prompt_number": 4
    },
    {
     "cell_type": "code",
     "collapsed": false,
     "input": [
      "### You can change the name of the file bellow if you're using other cutoffs\n",
      "settings_json = 'ellipsis_cutoffs_pick.json'\n",
      "\n",
      "setter_widget = ct.ui.ipy_widgets.set_ellipsis_limits(jsonfile=settings_json)\n",
      "ellipsis_cutoffs = setter_widget.settings\n",
      "display.display(setter_widget)"
     ],
     "language": "python",
     "metadata": {},
     "outputs": [],
     "prompt_number": 5
    },
    {
     "cell_type": "code",
     "collapsed": false,
     "input": [
      "cluster.detect_rotations(ellipsis_cutoffs, sizes, method='binary')\n",
      "ct.graphics.show_ellipses_clusters(cluster, sizes, ellipsis_cutoffs)\n",
      "ax, total_rot, n_detected = ct.graphics.plot_rotation_events(cluster, ax=None,\n",
      "                                                             show_segments=True)"
     ],
     "language": "python",
     "metadata": {},
     "outputs": [],
     "prompt_number": 13
    },
    {
     "cell_type": "code",
     "collapsed": false,
     "input": [
      "ct"
     ],
     "language": "python",
     "metadata": {},
     "outputs": [
      {
       "metadata": {},
       "output_type": "pyout",
       "prompt_number": 8,
       "text": [
        "<module 'cell_tracker' from '/home/guillaume/Python/cell-tracker/cell_tracker/__init__.py'>"
       ]
      }
     ],
     "prompt_number": 8
    },
    {
     "cell_type": "code",
     "collapsed": false,
     "input": [
      "ooep = ct.ui.EllipsisPicker(cluster, sizes, coords=['x_r', 'y_r', 'z_r'])"
     ],
     "language": "python",
     "metadata": {},
     "outputs": [],
     "prompt_number": 21
    },
    {
     "cell_type": "code",
     "collapsed": false,
     "input": [
      "ell_idx = ooep.ellipses_lines.iloc[0]\n",
      "\n",
      "ooep.ellipses_lines.where(ooep.ellipses_lines == ell_idx).dropna().index.get_level_values('line')"
     ],
     "language": "python",
     "metadata": {},
     "outputs": [
      {
       "metadata": {},
       "output_type": "pyout",
       "prompt_number": 47,
       "text": [
        "Index([Line2D(_line1), Line2D(_line1), Line2D(_line1), Line2D(_line1)], dtype='object')"
       ]
      }
     ],
     "prompt_number": 47
    },
    {
     "cell_type": "code",
     "collapsed": false,
     "input": [
      "ax, line = ooep.ellipses_lines.index[0]\n"
     ],
     "language": "python",
     "metadata": {},
     "outputs": [],
     "prompt_number": 49
    },
    {
     "cell_type": "code",
     "collapsed": false,
     "input": [
      "tls = ooep.ellipses_lines.loc[ax, line]\n",
      "\n",
      "where = ooep.ellipses_lines.where(ooep.ellipses_lines == tls).dropna()\n",
      "for ax, line in where.index:\n",
      "    print(ax, line)\n",
      "    if ax == ooep.ax_3d:\n",
      "        print('3D')\n",
      "    "
     ],
     "language": "python",
     "metadata": {},
     "outputs": [
      {
       "output_type": "stream",
       "stream": "stdout",
       "text": [
        "Axes(0.0660417,0.535914;0.448219x0.449086) Line2D(_line1)\n",
        "Axes(0.536781,0.535914;0.448219x0.449086) Line2D(_line1)\n",
        "Axes(0.0660417,0.0525;0.448219x0.449086) Line2D(_line1)\n",
        "Axes(0.536781,0.0525;0.448219x0.449086) Line2D(_line1)\n",
        "3D\n"
       ]
      }
     ],
     "prompt_number": 54
    },
    {
     "cell_type": "code",
     "collapsed": false,
     "input": [
      "for i in reversed(range(3)):\n",
      "    print(i)"
     ],
     "language": "python",
     "metadata": {},
     "outputs": [
      {
       "output_type": "stream",
       "stream": "stdout",
       "text": [
        "2\n",
        "1\n",
        "0\n"
       ]
      }
     ],
     "prompt_number": 56
    },
    {
     "cell_type": "code",
     "collapsed": false,
     "input": [
      "lines_df = pd.DataFrame(index=pd.MultiIndex(levels=[[], []], labels=[[], []], names=['axis', 'line']),\n",
      "                        columns=['t_stamp', 'label', 'size'])\n",
      "lines_df"
     ],
     "language": "python",
     "metadata": {},
     "outputs": [
      {
       "metadata": {},
       "output_type": "pyout",
       "prompt_number": 20,
       "text": [
        "True"
       ]
      }
     ],
     "prompt_number": 20
    },
    {
     "cell_type": "code",
     "collapsed": false,
     "input": [
      "pd.DataFrame.from_dict(ooep.ellipses_lines).T.index"
     ],
     "language": "python",
     "metadata": {},
     "outputs": [
      {
       "metadata": {},
       "output_type": "pyout",
       "prompt_number": 86,
       "text": [
        "Index([Line2D(_line1), Line2D(_line25), Line2D(_line19), Line2D(_line36), Line2D(_line41), Line2D(_line3), Line2D(_line20), Line2D(_line35), Line2D(_line20), Line2D(_line4), Line2D(_line21), Line2D(_line6), Line2D(_line15), Line2D(_line36), Line2D(_line41), Line2D(_line17), Line2D(_line24), Line2D(_line5), Line2D(_line1), Line2D(_line42), Line2D(_line40), Line2D(_line16), Line2D(_line38), Line2D(_line10), Line2D(_line5), Line2D(_line19), Line2D(_line18), Line2D(_line27), Line2D(_line12), Line2D(_line9), Line2D(_line31), Line2D(_line22), Line2D(_line31), Line2D(_line41), Line2D(_line32), Line2D(_line2), Line2D(_line32), Line2D(_line24), Line2D(_line35), Line2D(_line4), Line2D(_line28), Line2D(_line13), Line2D(_line16), Line2D(_line40), Line2D(_line14), Line2D(_line34), Line2D(_line29), Line2D(_line10), Line2D(_line8), Line2D(_line24), Line2D(_line39), Line2D(_line38), Line2D(_line8), Line2D(_line34), Line2D(_line13), Line2D(_line1), Line2D(_line14), Line2D(_line18), Line2D(_line32), Line2D(_line33), Line2D(_line2), Line2D(_line3), Line2D(_line33), Line2D(_line13), Line2D(_line21), Line2D(_line6), Line2D(_line37), Line2D(_line22), Line2D(_line37), Line2D(_line3), Line2D(_line30), Line2D(_line2), Line2D(_line39), Line2D(_line7), Line2D(_line27), Line2D(_line27), Line2D(_line25), Line2D(_line23), Line2D(_line12), Line2D(_line18), Line2D(_line23), Line2D(_line23), Line2D(_line39), Line2D(_line42), Line2D(_line36), Line2D(_line15), Line2D(_line15), Line2D(_line21), Line2D(_line16), Line2D(_line11), Line2D(_line29), Line2D(_line14), Line2D(_line11), Line2D(_line30), Line2D(_line33), Line2D(_line17), Line2D(_line28), Line2D(_line35), Line2D(_line22), Line2D(_line28), ...], dtype='object')"
       ]
      }
     ],
     "prompt_number": 86
    },
    {
     "cell_type": "code",
     "collapsed": false,
     "input": [
      "\n",
      "cluster.ellipses.loc[ooep.bad_ellipses]['good'] = 100"
     ],
     "language": "python",
     "metadata": {},
     "outputs": [],
     "prompt_number": 78
    },
    {
     "cell_type": "code",
     "collapsed": false,
     "input": [
      "for z in zip(*np.meshgrid(range(3), range(4))):\n",
      "    print( z)"
     ],
     "language": "python",
     "metadata": {},
     "outputs": [
      {
       "output_type": "stream",
       "stream": "stdout",
       "text": [
        "(array([0, 1, 2]), array([0, 0, 0]))\n",
        "(array([0, 1, 2]), array([1, 1, 1]))\n",
        "(array([0, 1, 2]), array([2, 2, 2]))\n",
        "(array([0, 1, 2]), array([3, 3, 3]))\n"
       ]
      }
     ],
     "prompt_number": 189
    },
    {
     "cell_type": "code",
     "collapsed": false,
     "input": [
      "np.meshgrid(range(3), range(4))"
     ],
     "language": "python",
     "metadata": {},
     "outputs": [
      {
       "metadata": {},
       "output_type": "pyout",
       "prompt_number": 184,
       "text": [
        "[array([[0, 1, 2],\n",
        "        [0, 1, 2],\n",
        "        [0, 1, 2],\n",
        "        [0, 1, 2]]), array([[0, 0, 0],\n",
        "        [1, 1, 1],\n",
        "        [2, 2, 2],\n",
        "        [3, 3, 3]])]"
       ]
      }
     ],
     "prompt_number": 184
    },
    {
     "cell_type": "code",
     "collapsed": false,
     "input": [
      "panel_ = {}\n",
      "multi_index = pd.MultiIndex.from_tuples([(t, i) for i in range(3) for t in range(4)], names=['t', 'l'])\n",
      "for i in range(3):\n",
      "    panel_[i] = pd.DataFrame(np.arange(24).reshape(12, 2), columns=['A', 'B'], index=multi_index)\n",
      "\n",
      "panel = pd.Panel.from_dict(panel_)\n",
      "print(panel.loc[0, 1, 2]['A'])\n",
      "\n",
      "panel.loc[0, 1, 2]['A'] = 1000\n",
      "print(panel.loc[0, 1, 2]['A'])"
     ],
     "language": "python",
     "metadata": {},
     "outputs": [
      {
       "output_type": "stream",
       "stream": "stdout",
       "text": [
        "18\n",
        "1000\n"
       ]
      }
     ],
     "prompt_number": 216
    },
    {
     "cell_type": "code",
     "collapsed": false,
     "input": [],
     "language": "python",
     "metadata": {},
     "outputs": []
    }
   ],
   "metadata": {}
  }
 ]
}