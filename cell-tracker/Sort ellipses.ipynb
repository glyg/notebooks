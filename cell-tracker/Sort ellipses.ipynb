{
 "metadata": {
  "name": "",
  "signature": "sha256:6737f830816f7a02a772c0a6f7c3f09589781c14bf693465335bc7dcf9cc7ea8"
 },
 "nbformat": 3,
 "nbformat_minor": 0,
 "worksheets": [
  {
   "cells": [
    {
     "cell_type": "code",
     "collapsed": false,
     "input": [
      "%load_ext autoreload\n",
      "%autoreload 2"
     ],
     "language": "python",
     "metadata": {},
     "outputs": [],
     "prompt_number": 1
    },
    {
     "cell_type": "code",
     "collapsed": false,
     "input": [
      "### The library used for plotting\n",
      "#%matplotlib \n",
      "import matplotlib.pyplot as plt\n",
      "%matplotlib qt\n",
      "#mpld3.enable_notebook()\n",
      "\n",
      "### This imports various dependencies\n",
      "%run nb_init.py\n",
      "#### \n",
      "import cell_tracker as ct\n",
      "\n",
      "sizes = [24, 36, 48, 60]"
     ],
     "language": "python",
     "metadata": {},
     "outputs": [
      {
       "output_type": "stream",
       "stream": "stderr",
       "text": [
        "2014-09-19 14:48:53:INFO:sktracker.utils.mpl_loader: Matplotlib backend 'Qt4Agg' has been loaded.\n"
       ]
      }
     ],
     "prompt_number": 2
    },
    {
     "cell_type": "code",
     "collapsed": false,
     "input": [
      "## You can set this to the common path of all your data\n",
      "default_path = '/media/data/AnneHDFStores/'\n",
      "cluster = ct.ui.get_cluster(default_path)\n",
      "smw = ct.ui.set_metadata(cluster.metadata)\n",
      "display.display(smw)"
     ],
     "language": "python",
     "metadata": {},
     "outputs": [
      {
       "output_type": "stream",
       "stream": "stdout",
       "text": [
        "Choosen data path: /media/data/AnneHDFStores/wt_270812.h5\n"
       ]
      }
     ],
     "prompt_number": 3
    },
    {
     "cell_type": "code",
     "collapsed": false,
     "input": [
      "cluster.ellipses.dropna().head()"
     ],
     "language": "python",
     "metadata": {},
     "outputs": [
      {
       "html": [
        "<div style=\"max-height:1000px;max-width:1500px;overflow:auto;\">\n",
        "<table border=\"1\" class=\"dataframe\">\n",
        "  <thead>\n",
        "    <tr style=\"text-align: right;\">\n",
        "      <th></th>\n",
        "      <th></th>\n",
        "      <th></th>\n",
        "      <th>a</th>\n",
        "      <th>b</th>\n",
        "      <th>phi_y</th>\n",
        "      <th>x0</th>\n",
        "      <th>y0</th>\n",
        "      <th>z0</th>\n",
        "      <th>x_ec</th>\n",
        "      <th>y_ec</th>\n",
        "      <th>z_ec</th>\n",
        "      <th>ellipticity</th>\n",
        "      <th>...</th>\n",
        "      <th>r0_y</th>\n",
        "      <th>r0_z</th>\n",
        "      <th>r1_x</th>\n",
        "      <th>r1_y</th>\n",
        "      <th>r1_z</th>\n",
        "      <th>start</th>\n",
        "      <th>stop</th>\n",
        "      <th>size</th>\n",
        "      <th>phi_x</th>\n",
        "      <th>good</th>\n",
        "    </tr>\n",
        "    <tr>\n",
        "      <th>t_stamp</th>\n",
        "      <th>label</th>\n",
        "      <th>size</th>\n",
        "      <th></th>\n",
        "      <th></th>\n",
        "      <th></th>\n",
        "      <th></th>\n",
        "      <th></th>\n",
        "      <th></th>\n",
        "      <th></th>\n",
        "      <th></th>\n",
        "      <th></th>\n",
        "      <th></th>\n",
        "      <th></th>\n",
        "      <th></th>\n",
        "      <th></th>\n",
        "      <th></th>\n",
        "      <th></th>\n",
        "      <th></th>\n",
        "      <th></th>\n",
        "      <th></th>\n",
        "      <th></th>\n",
        "      <th></th>\n",
        "      <th></th>\n",
        "    </tr>\n",
        "  </thead>\n",
        "  <tbody>\n",
        "    <tr>\n",
        "      <th rowspan=\"3\" valign=\"top\">5</th>\n",
        "      <th>1</th>\n",
        "      <th>24</th>\n",
        "      <td>  4.948664</td>\n",
        "      <td> 2.367596</td>\n",
        "      <td> 0.233003</td>\n",
        "      <td>-2.649390</td>\n",
        "      <td> 0.110671</td>\n",
        "      <td>-7.401487e-17</td>\n",
        "      <td>-4.270368</td>\n",
        "      <td>-0.728131</td>\n",
        "      <td> 2.194452</td>\n",
        "      <td> 2.090164</td>\n",
        "      <td>...</td>\n",
        "      <td> 0.130524</td>\n",
        "      <td>-0.213117</td>\n",
        "      <td> 0.186544</td>\n",
        "      <td>-0.944961</td>\n",
        "      <td> 0.268793</td>\n",
        "      <td> 1</td>\n",
        "      <td>  9</td>\n",
        "      <td> 24</td>\n",
        "      <td> 0.233003</td>\n",
        "      <td> 0</td>\n",
        "    </tr>\n",
        "    <tr>\n",
        "      <th>2</th>\n",
        "      <th>24</th>\n",
        "      <td>  6.681570</td>\n",
        "      <td> 1.795180</td>\n",
        "      <td>-0.019259</td>\n",
        "      <td> 0.335740</td>\n",
        "      <td> 1.251485</td>\n",
        "      <td> 3.500286e-16</td>\n",
        "      <td> 1.597320</td>\n",
        "      <td>-4.674454</td>\n",
        "      <td>-0.906247</td>\n",
        "      <td> 3.721951</td>\n",
        "      <td>...</td>\n",
        "      <td>-0.051450</td>\n",
        "      <td> 0.130624</td>\n",
        "      <td>-0.138074</td>\n",
        "      <td> 0.188493</td>\n",
        "      <td>-0.972320</td>\n",
        "      <td> 1</td>\n",
        "      <td>  9</td>\n",
        "      <td> 24</td>\n",
        "      <td>-0.019259</td>\n",
        "      <td> 0</td>\n",
        "    </tr>\n",
        "    <tr>\n",
        "      <th>5</th>\n",
        "      <th>24</th>\n",
        "      <td>  4.946431</td>\n",
        "      <td> 2.685410</td>\n",
        "      <td>-0.315615</td>\n",
        "      <td> 1.282158</td>\n",
        "      <td> 0.931646</td>\n",
        "      <td>-9.251859e-17</td>\n",
        "      <td>-5.726806</td>\n",
        "      <td> 4.082837</td>\n",
        "      <td>-1.649395</td>\n",
        "      <td> 1.841965</td>\n",
        "      <td>...</td>\n",
        "      <td> 0.519411</td>\n",
        "      <td> 0.087248</td>\n",
        "      <td> 0.411073</td>\n",
        "      <td>-0.757857</td>\n",
        "      <td> 0.506628</td>\n",
        "      <td> 1</td>\n",
        "      <td>  9</td>\n",
        "      <td> 24</td>\n",
        "      <td>-0.315615</td>\n",
        "      <td> 0</td>\n",
        "    </tr>\n",
        "    <tr>\n",
        "      <th rowspan=\"2\" valign=\"top\">6</th>\n",
        "      <th>1</th>\n",
        "      <th>24</th>\n",
        "      <td>  2.912197</td>\n",
        "      <td> 2.151508</td>\n",
        "      <td> 0.539395</td>\n",
        "      <td>-0.656690</td>\n",
        "      <td> 0.287603</td>\n",
        "      <td> 2.220446e-16</td>\n",
        "      <td>-2.500099</td>\n",
        "      <td> 0.237141</td>\n",
        "      <td> 1.263943</td>\n",
        "      <td> 1.353560</td>\n",
        "      <td>...</td>\n",
        "      <td>-0.321986</td>\n",
        "      <td> 0.057218</td>\n",
        "      <td>-0.318262</td>\n",
        "      <td>-0.865249</td>\n",
        "      <td> 0.387367</td>\n",
        "      <td> 2</td>\n",
        "      <td> 10</td>\n",
        "      <td> 24</td>\n",
        "      <td> 0.539395</td>\n",
        "      <td> 0</td>\n",
        "    </tr>\n",
        "    <tr>\n",
        "      <th>2</th>\n",
        "      <th>24</th>\n",
        "      <td> 10.874140</td>\n",
        "      <td> 1.863141</td>\n",
        "      <td>-0.218943</td>\n",
        "      <td> 6.897722</td>\n",
        "      <td> 2.281016</td>\n",
        "      <td> 2.467162e-16</td>\n",
        "      <td>-6.020050</td>\n",
        "      <td>-7.019981</td>\n",
        "      <td> 1.865609</td>\n",
        "      <td> 5.836456</td>\n",
        "      <td>...</td>\n",
        "      <td>-0.059676</td>\n",
        "      <td>-0.037639</td>\n",
        "      <td> 0.016085</td>\n",
        "      <td>-0.711772</td>\n",
        "      <td> 0.702226</td>\n",
        "      <td> 2</td>\n",
        "      <td> 10</td>\n",
        "      <td> 24</td>\n",
        "      <td>-0.218943</td>\n",
        "      <td> 0</td>\n",
        "    </tr>\n",
        "  </tbody>\n",
        "</table>\n",
        "<p>5 rows \u00d7 28 columns</p>\n",
        "</div>"
       ],
       "metadata": {},
       "output_type": "pyout",
       "prompt_number": 4,
       "text": [
        "                            a         b     phi_y        x0        y0  \\\n",
        "t_stamp label size                                                      \n",
        "5       1     24     4.948664  2.367596  0.233003 -2.649390  0.110671   \n",
        "        2     24     6.681570  1.795180 -0.019259  0.335740  1.251485   \n",
        "        5     24     4.946431  2.685410 -0.315615  1.282158  0.931646   \n",
        "6       1     24     2.912197  2.151508  0.539395 -0.656690  0.287603   \n",
        "        2     24    10.874140  1.863141 -0.218943  6.897722  2.281016   \n",
        "\n",
        "                              z0      x_ec      y_ec      z_ec  ellipticity  \\\n",
        "t_stamp label size                                                            \n",
        "5       1     24   -7.401487e-17 -4.270368 -0.728131  2.194452     2.090164   \n",
        "        2     24    3.500286e-16  1.597320 -4.674454 -0.906247     3.721951   \n",
        "        5     24   -9.251859e-17 -5.726806  4.082837 -1.649395     1.841965   \n",
        "6       1     24    2.220446e-16 -2.500099  0.237141  1.263943     1.353560   \n",
        "        2     24    2.467162e-16 -6.020050 -7.019981  1.865609     5.836456   \n",
        "\n",
        "                       ...           r0_y      r0_z      r1_x      r1_y  \\\n",
        "t_stamp label size     ...                                                \n",
        "5       1     24       ...       0.130524 -0.213117  0.186544 -0.944961   \n",
        "        2     24       ...      -0.051450  0.130624 -0.138074  0.188493   \n",
        "        5     24       ...       0.519411  0.087248  0.411073 -0.757857   \n",
        "6       1     24       ...      -0.321986  0.057218 -0.318262 -0.865249   \n",
        "        2     24       ...      -0.059676 -0.037639  0.016085 -0.711772   \n",
        "\n",
        "                        r1_z  start  stop  size     phi_x  good  \n",
        "t_stamp label size                                               \n",
        "5       1     24    0.268793      1     9    24  0.233003     0  \n",
        "        2     24   -0.972320      1     9    24 -0.019259     0  \n",
        "        5     24    0.506628      1     9    24 -0.315615     0  \n",
        "6       1     24    0.387367      2    10    24  0.539395     0  \n",
        "        2     24    0.702226      2    10    24 -0.218943     0  \n",
        "\n",
        "[5 rows x 28 columns]"
       ]
      }
     ],
     "prompt_number": 4
    },
    {
     "cell_type": "code",
     "collapsed": false,
     "input": [
      "print('Ellipses are stored in a pd.DataFrame:\\n',\n",
      "#      cluster.ellipses.head(),\n",
      "      'Sizes of the time window:',\n",
      "       cluster.ellipses.index.get_level_values(level='size').unique(), end='\\n', sep='\\n')\n",
      "\n",
      "### Excplicit method to acces a single data point\n",
      "\n",
      "## Choose a data point\n",
      "size = 24\n",
      "t_stamp = 5\n",
      "label = 3\n",
      "column = 'good'\n",
      "\n",
      "### Get it's value here\n",
      "value = cluster.ellipses.loc[t_stamp, label, size][column]\n",
      "print('''\n",
      "The value for the major axis (the size) {},\n",
      "the minor axis (the time_stamp {} and label {})\n",
      "and the column \"{}\" is: \\n \\t\\t\\t {} '''.format(size,\n",
      "                                          t_stamp,\n",
      "                                          label,\n",
      "                                          column, value))"
     ],
     "language": "python",
     "metadata": {},
     "outputs": [
      {
       "output_type": "stream",
       "stream": "stdout",
       "text": [
        "Ellipses are stored in a pd.DataFrame:\n",
        "\n",
        "Sizes of the time window:\n",
        "[24 36 48 60]\n",
        "\n",
        "The value for the major axis (the size) 24,\n",
        "the minor axis (the time_stamp 5 and label 3)\n",
        "and the column \"good\" is: \n",
        " \t\t\t 0.0 \n"
       ]
      }
     ],
     "prompt_number": 5
    },
    {
     "cell_type": "code",
     "collapsed": false,
     "input": [
      "### You can change the name of the file bellow if you're using other cutoffs\n",
      "settings_json = 'ellipsis_cutoffs_pick.json'\n",
      "\n",
      "setter_widget = ct.ui.ipy_widgets.set_ellipsis_limits(jsonfile=settings_json)\n",
      "ellipsis_cutoffs = setter_widget.settings\n",
      "display.display(setter_widget)"
     ],
     "language": "python",
     "metadata": {},
     "outputs": [],
     "prompt_number": 6
    },
    {
     "cell_type": "code",
     "collapsed": false,
     "input": [
      "cluster.detect_rotations(ellipsis_cutoffs, sizes, method='binary')\n",
      "#ct.graphics.show_ellipses_clusters(cluster, sizes, ellipsis_cutoffs)\n",
      "#ax, total_rot, n_detected = ct.graphics.plot_rotation_events(cluster, ax=None,\n",
      "#                                                             show_segments=True)"
     ],
     "language": "python",
     "metadata": {},
     "outputs": [],
     "prompt_number": 8
    },
    {
     "cell_type": "code",
     "collapsed": false,
     "input": [
      "ooep = ct.ui.EllipsisPicker(cluster, sizes, coords=['x_r', 'y_r', 'z_r'])"
     ],
     "language": "python",
     "metadata": {},
     "outputs": [
      {
       "output_type": "stream",
       "stream": "stdout",
       "text": [
        "\n"
       ]
      },
      {
       "output_type": "stream",
       "stream": "stdout",
       "text": [
        "pagedown\n",
        "backward + pagedown\n",
        "pageup"
       ]
      },
      {
       "output_type": "stream",
       "stream": "stdout",
       "text": [
        "\n",
        "forward + pageup\n",
        "update\n",
        "pageup"
       ]
      },
      {
       "output_type": "stream",
       "stream": "stdout",
       "text": [
        "\n",
        "forward + pageup\n",
        "update\n",
        "pageup"
       ]
      },
      {
       "output_type": "stream",
       "stream": "stdout",
       "text": [
        "\n",
        "forward + pageup\n",
        "update\n",
        "pageup"
       ]
      },
      {
       "output_type": "stream",
       "stream": "stdout",
       "text": [
        "\n",
        "forward + pageup\n",
        "update\n",
        "control"
       ]
      },
      {
       "output_type": "stream",
       "stream": "stdout",
       "text": [
        "\n",
        "ctrl+w"
       ]
      }
     ],
     "prompt_number": 39
    },
    {
     "cell_type": "code",
     "collapsed": false,
     "input": [
      "ax, total_rot, n_detected = ct.graphics.plot_rotation_events(cluster, ax=None,\n",
      "                                                             show_segments=True)"
     ],
     "language": "python",
     "metadata": {},
     "outputs": [
      {
       "output_type": "stream",
       "stream": "stdout",
       "text": [
        "\n"
       ]
      }
     ],
     "prompt_number": 40
    },
    {
     "cell_type": "code",
     "collapsed": false,
     "input": [
      "ct.graphics.show_ellipses_clusters(cluster, sizes, ellipsis_cutoffs)"
     ],
     "language": "python",
     "metadata": {},
     "outputs": [],
     "prompt_number": 45
    },
    {
     "cell_type": "code",
     "collapsed": false,
     "input": [
      "cluster.ellipses.good.unique()"
     ],
     "language": "python",
     "metadata": {},
     "outputs": [
      {
       "metadata": {},
       "output_type": "pyout",
       "prompt_number": 47,
       "text": [
        "array([ 0.,  1., -1.])"
       ]
      }
     ],
     "prompt_number": 47
    },
    {
     "cell_type": "code",
     "collapsed": false,
     "input": [
      "cluster.ellipses.columns"
     ],
     "language": "python",
     "metadata": {},
     "outputs": [
      {
       "metadata": {},
       "output_type": "pyout",
       "prompt_number": 48,
       "text": [
        "Index(['a', 'b', 'phi_y', 'x0', 'y0', 'z0', 'x_ec', 'y_ec', 'z_ec', 'ellipticity', 'radius', 'theta_i', 'theta_f', 'dtheta', 'omega', 'gof', 'fit_ier', 'r0_x', 'r0_y', 'r0_z', 'r1_x', 'r1_y', 'r1_z', 'start', 'stop', 'size', 'phi_x', 'good'], dtype='object')"
       ]
      }
     ],
     "prompt_number": 48
    },
    {
     "cell_type": "code",
     "collapsed": false,
     "input": [
      "cluster.ellipses['colors'] = '#000000'\n",
      "cluster.ellipses['colors'][cluster.ellipses.good == 1] = '#00FF00'\n",
      "cluster.ellipses['colors'][cluster.ellipses.good == -1] = '#FF0000'"
     ],
     "language": "python",
     "metadata": {},
     "outputs": [],
     "prompt_number": 80
    },
    {
     "cell_type": "code",
     "collapsed": false,
     "input": [
      "cols = ['ellipticity', 'radius', 'omega']\n",
      "from pandas.tools.plotting import scatter_matrix\n",
      "\n",
      "axes = scatter_matrix(cluster.ellipses[cols], diagonal='kde', color=cluster.ellipses['colors'], s=100)"
     ],
     "language": "python",
     "metadata": {},
     "outputs": [],
     "prompt_number": 81
    },
    {
     "cell_type": "code",
     "collapsed": false,
     "input": [
      "cluster.oio.keys()"
     ],
     "language": "python",
     "metadata": {},
     "outputs": [
      {
       "metadata": {},
       "output_type": "pyout",
       "prompt_number": 79,
       "text": [
        "['/averages',\n",
        " '/ellipses_24',\n",
        " '/ellipses_36',\n",
        " '/ellipses_48',\n",
        " '/ellipses_60',\n",
        " '/metadata',\n",
        " '/sorted_ellipses',\n",
        " '/trajs']"
       ]
      }
     ],
     "prompt_number": 79
    },
    {
     "cell_type": "code",
     "collapsed": false,
     "input": [
      "cluster.oio['sorted_ellipses'] = cluster.ellipses"
     ],
     "language": "python",
     "metadata": {},
     "outputs": [],
     "prompt_number": 78
    },
    {
     "cell_type": "code",
     "collapsed": false,
     "input": [],
     "language": "python",
     "metadata": {},
     "outputs": []
    }
   ],
   "metadata": {}
  }
 ]
}