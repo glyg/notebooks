{
 "metadata": {
  "name": "",
  "signature": "sha256:c1211592a4e954253acff5c514833af4df704fa8515ab05d6e5ac53a3dc589c3"
 },
 "nbformat": 3,
 "nbformat_minor": 0,
 "worksheets": [
  {
   "cells": [
    {
     "cell_type": "code",
     "collapsed": false,
     "input": [
      "import os\n",
      "\n",
      "import numpy as np\n",
      "import pandas as pd\n",
      "from sktracker.io import StackIO, ObjectsIO\n",
      "import json\n",
      "from sktracker.io.utils import load_img_list\n",
      "from sktracker.io.stackio import get_metadata\n",
      "from sktracker.trajectories import Trajectories\n",
      "\n",
      "\n",
      "import cell_tracker as ct\n",
      "\n"
     ],
     "language": "python",
     "metadata": {},
     "outputs": [],
     "prompt_number": 1
    },
    {
     "cell_type": "code",
     "collapsed": false,
     "input": [
      "base_path = '/home/guillaume/Python/cell_migration/saved_data/guillaume/'\n",
      "\n"
     ],
     "language": "python",
     "metadata": {},
     "outputs": [],
     "prompt_number": 2
    },
    {
     "cell_type": "code",
     "collapsed": false,
     "input": [
      "all_files = os.listdir(base_path)\n",
      "h5s = [os.path.join(base_path, f) for f in all_files if f.endswith('.h5')]\n",
      "\n"
     ],
     "language": "python",
     "metadata": {},
     "outputs": [],
     "prompt_number": 3
    },
    {
     "cell_type": "code",
     "collapsed": false,
     "input": [
      "print('Initial number of files: {}'\n",
      "      .format(len(h5s)))\n",
      "\n",
      "incomplete = []\n",
      "complete = []\n",
      "complete_jsons = []\n",
      "for h5 in h5s:\n",
      "    with pd.get_store(h5) as store:\n",
      "        json_name = h5.replace('.h5', '_metadata.json')\n",
      "        if '/sorted' in store.keys() and os.path.isfile(json_name):\n",
      "            print('++++', h5, ' has a stored DF and metadata')\n",
      "            complete_jsons.append(json_name)\n",
      "            complete.append(h5)\n",
      "        else:\n",
      "            print('----', h5, 'is incomplete')\n",
      "            incomplete.append(h5)\n",
      "print('Complete files: {}'.format(len(complete)))\n"
     ],
     "language": "python",
     "metadata": {},
     "outputs": [
      {
       "output_type": "stream",
       "stream": "stdout",
       "text": [
        "Initial number of files: 65\n",
        "++++"
       ]
      },
      {
       "output_type": "stream",
       "stream": "stdout",
       "text": [
        " /home/guillaume/Python/cell_migration/saved_data/guillaume/myosin_rnai2.h5  has a stored DF and metadata\n",
        "++++"
       ]
      },
      {
       "output_type": "stream",
       "stream": "stdout",
       "text": [
        " /home/guillaume/Python/cell_migration/saved_data/guillaume/mbs_movie3_221013.h5  has a stored DF and metadata\n",
        "++++"
       ]
      },
      {
       "output_type": "stream",
       "stream": "stdout",
       "text": [
        " /home/guillaume/Python/cell_migration/saved_data/guillaume/PA_Rac_T17N_170413_full.h5  has a stored DF and metadata\n",
        "++++"
       ]
      },
      {
       "output_type": "stream",
       "stream": "stdout",
       "text": [
        " /home/guillaume/Python/cell_migration/saved_data/guillaume/wt_early3.h5  has a stored DF and metadata\n",
        "++++"
       ]
      },
      {
       "output_type": "stream",
       "stream": "stdout",
       "text": [
        " /home/guillaume/Python/cell_migration/saved_data/guillaume/PA_Rac_T17N_170413_after.h5  has a stored DF and metadata\n",
        "----"
       ]
      },
      {
       "output_type": "stream",
       "stream": "stdout",
       "text": [
        " /home/guillaume/Python/cell_migration/saved_data/guillaume/wt_sample3_171113.h5 is incomplete\n",
        "++++ /home/guillaume/Python/cell_migration/saved_data/guillaume/wt_early1_281013.h5  has a stored DF and metadata\n",
        "++++"
       ]
      },
      {
       "output_type": "stream",
       "stream": "stdout",
       "text": [
        " /home/guillaume/Python/cell_migration/saved_data/guillaume/PA_Rac_150514_full.h5  has a stored DF and metadata\n",
        "---- /home/guillaume/Python/cell_migration/saved_data/guillaume/dnpvr_dnder051313.h5 is incomplete\n",
        "++++ /home/guillaume/Python/cell_migration/saved_data/guillaume/jnk_inhib.h5  has a stored DF and metadata\n",
        "++++"
       ]
      },
      {
       "output_type": "stream",
       "stream": "stdout",
       "text": [
        " /home/guillaume/Python/cell_migration/saved_data/guillaume/dnpvr_rock_inhib2.h5  has a stored DF and metadata\n",
        "---- /home/guillaume/Python/cell_migration/saved_data/guillaume/jnk_inhib_010313.h5 is incomplete\n",
        "++++"
       ]
      },
      {
       "output_type": "stream",
       "stream": "stdout",
       "text": [
        " /home/guillaume/Python/cell_migration/saved_data/guillaume/dnpvr_dndr290913.h5  has a stored DF and metadata\n",
        "++++"
       ]
      },
      {
       "output_type": "stream",
       "stream": "stdout",
       "text": [
        " /home/guillaume/Python/cell_migration/saved_data/guillaume/jnk_inhib_iono2.h5  has a stored DF and metadata\n",
        "++++"
       ]
      },
      {
       "output_type": "stream",
       "stream": "stdout",
       "text": [
        " /home/guillaume/Python/cell_migration/saved_data/guillaume/wt_earlytolate2.h5  has a stored DF and metadata\n",
        "++++"
       ]
      },
      {
       "output_type": "stream",
       "stream": "stdout",
       "text": [
        " /home/guillaume/Python/cell_migration/saved_data/guillaume/wt_early_171013.h5  has a stored DF and metadata\n",
        "++++"
       ]
      },
      {
       "output_type": "stream",
       "stream": "stdout",
       "text": [
        " /home/guillaume/Python/cell_migration/saved_data/guillaume/rock_chem_inhib1.h5  has a stored DF and metadata\n",
        "++++"
       ]
      },
      {
       "output_type": "stream",
       "stream": "stdout",
       "text": [
        " /home/guillaume/Python/cell_migration/saved_data/guillaume/iono_080613.h5  has a stored DF and metadata\n",
        "++++"
       ]
      },
      {
       "output_type": "stream",
       "stream": "stdout",
       "text": [
        " /home/guillaume/Python/cell_migration/saved_data/guillaume/rock_rnai3.h5  has a stored DF and metadata\n",
        "++++"
       ]
      },
      {
       "output_type": "stream",
       "stream": "stdout",
       "text": [
        " /home/guillaume/Python/cell_migration/saved_data/guillaume/wt_240812.h5  has a stored DF and metadata\n",
        "++++"
       ]
      },
      {
       "output_type": "stream",
       "stream": "stdout",
       "text": [
        " /home/guillaume/Python/cell_migration/saved_data/guillaume/wt_early2.h5  has a stored DF and metadata\n",
        "++++"
       ]
      },
      {
       "output_type": "stream",
       "stream": "stdout",
       "text": [
        " /home/guillaume/Python/cell_migration/saved_data/guillaume/wt_161113.h5  has a stored DF and metadata\n",
        "++++"
       ]
      },
      {
       "output_type": "stream",
       "stream": "stdout",
       "text": [
        " /home/guillaume/Python/cell_migration/saved_data/guillaume/PA_Rac_180413_before.h5  has a stored DF and metadata\n",
        "++++"
       ]
      },
      {
       "output_type": "stream",
       "stream": "stdout",
       "text": [
        " /home/guillaume/Python/cell_migration/saved_data/guillaume/dnpvr_inhib2.h5  has a stored DF and metadata\n",
        "++++"
       ]
      },
      {
       "output_type": "stream",
       "stream": "stdout",
       "text": [
        " /home/guillaume/Python/cell_migration/saved_data/guillaume/mbs_270913.h5  has a stored DF and metadata\n",
        "++++"
       ]
      },
      {
       "output_type": "stream",
       "stream": "stdout",
       "text": [
        " /home/guillaume/Python/cell_migration/saved_data/guillaume/dnpvr_dmso_161013.h5  has a stored DF and metadata\n",
        "++++"
       ]
      },
      {
       "output_type": "stream",
       "stream": "stdout",
       "text": [
        " /home/guillaume/Python/cell_migration/saved_data/guillaume/dnpvr_rock_inhib1.h5  has a stored DF and metadata\n",
        "++++"
       ]
      },
      {
       "output_type": "stream",
       "stream": "stdout",
       "text": [
        " /home/guillaume/Python/cell_migration/saved_data/guillaume/myosin_rnai.h5  has a stored DF and metadata\n",
        "++++"
       ]
      },
      {
       "output_type": "stream",
       "stream": "stdout",
       "text": [
        " /home/guillaume/Python/cell_migration/saved_data/guillaume/rock_rnai1.h5  has a stored DF and metadata\n",
        "++++"
       ]
      },
      {
       "output_type": "stream",
       "stream": "stdout",
       "text": [
        " /home/guillaume/Python/cell_migration/saved_data/guillaume/PA_Rac_T17N_170413_new.h5  has a stored DF and metadata\n",
        "++++"
       ]
      },
      {
       "output_type": "stream",
       "stream": "stdout",
       "text": [
        " /home/guillaume/Python/cell_migration/saved_data/guillaume/wt_300712.h5  has a stored DF and metadata\n",
        "++++"
       ]
      },
      {
       "output_type": "stream",
       "stream": "stdout",
       "text": [
        " /home/guillaume/Python/cell_migration/saved_data/guillaume/wt_sample2_171113.h5  has a stored DF and metadata\n",
        "++++"
       ]
      },
      {
       "output_type": "stream",
       "stream": "stdout",
       "text": [
        " /home/guillaume/Python/cell_migration/saved_data/guillaume/wt_early1.h5  has a stored DF and metadata\n",
        "++++"
       ]
      },
      {
       "output_type": "stream",
       "stream": "stdout",
       "text": [
        " /home/guillaume/Python/cell_migration/saved_data/guillaume/PA_Rac_180413_full.h5  has a stored DF and metadata\n",
        "---- /home/guillaume/Python/cell_migration/saved_data/guillaume/jnk_inhib_01_03_13.h5 is incomplete\n",
        "++++"
       ]
      },
      {
       "output_type": "stream",
       "stream": "stdout",
       "text": [
        " /home/guillaume/Python/cell_migration/saved_data/guillaume/PA_Rac_T17N_260413_after.h5  has a stored DF and metadata\n",
        "++++"
       ]
      },
      {
       "output_type": "stream",
       "stream": "stdout",
       "text": [
        " /home/guillaume/Python/cell_migration/saved_data/guillaume/mbs_190913.h5  has a stored DF and metadata\n",
        "++++"
       ]
      },
      {
       "output_type": "stream",
       "stream": "stdout",
       "text": [
        " /home/guillaume/Python/cell_migration/saved_data/guillaume/PA_Rac_T17N_170413_before.h5  has a stored DF and metadata\n",
        "++++"
       ]
      },
      {
       "output_type": "stream",
       "stream": "stdout",
       "text": [
        " /home/guillaume/Python/cell_migration/saved_data/guillaume/flipout_dsred.h5  has a stored DF and metadata\n",
        "++++"
       ]
      },
      {
       "output_type": "stream",
       "stream": "stdout",
       "text": [
        " /home/guillaume/Python/cell_migration/saved_data/guillaume/PA_Rac_150514_before.h5  has a stored DF and metadata\n",
        "++++"
       ]
      },
      {
       "output_type": "stream",
       "stream": "stdout",
       "text": [
        " /home/guillaume/Python/cell_migration/saved_data/guillaume/ionomycin_080613.h5  has a stored DF and metadata\n",
        "++++"
       ]
      },
      {
       "output_type": "stream",
       "stream": "stdout",
       "text": [
        " /home/guillaume/Python/cell_migration/saved_data/guillaume/rock_chem_inhib2.h5  has a stored DF and metadata\n",
        "++++"
       ]
      },
      {
       "output_type": "stream",
       "stream": "stdout",
       "text": [
        " /home/guillaume/Python/cell_migration/saved_data/guillaume/PA_Rac_180413_after.h5  has a stored DF and metadata\n",
        "++++"
       ]
      },
      {
       "output_type": "stream",
       "stream": "stdout",
       "text": [
        " /home/guillaume/Python/cell_migration/saved_data/guillaume/PA_Rac_150514_after.h5  has a stored DF and metadata\n",
        "++++"
       ]
      },
      {
       "output_type": "stream",
       "stream": "stdout",
       "text": [
        " /home/guillaume/Python/cell_migration/saved_data/guillaume/mbs.h5  has a stored DF and metadata\n",
        "++++"
       ]
      },
      {
       "output_type": "stream",
       "stream": "stdout",
       "text": [
        " /home/guillaume/Python/cell_migration/saved_data/guillaume/jnk_inhib2.h5  has a stored DF and metadata\n",
        "++++"
       ]
      },
      {
       "output_type": "stream",
       "stream": "stdout",
       "text": [
        " /home/guillaume/Python/cell_migration/saved_data/guillaume/flipout_gfp.h5  has a stored DF and metadata\n",
        "++++"
       ]
      },
      {
       "output_type": "stream",
       "stream": "stdout",
       "text": [
        " /home/guillaume/Python/cell_migration/saved_data/guillaume/mbs_2.h5  has a stored DF and metadata\n",
        "++++"
       ]
      },
      {
       "output_type": "stream",
       "stream": "stdout",
       "text": [
        " /home/guillaume/Python/cell_migration/saved_data/guillaume/jnk_inhib_iono.h5  has a stored DF and metadata\n",
        "++++"
       ]
      },
      {
       "output_type": "stream",
       "stream": "stdout",
       "text": [
        " /home/guillaume/Python/cell_migration/saved_data/guillaume/ROCK RNAi 2_DsRed.h5  has a stored DF and metadata\n",
        "++++"
       ]
      },
      {
       "output_type": "stream",
       "stream": "stdout",
       "text": [
        " /home/guillaume/Python/cell_migration/saved_data/guillaume/wt_early3_281013.h5  has a stored DF and metadata\n",
        "++++"
       ]
      },
      {
       "output_type": "stream",
       "stream": "stdout",
       "text": [
        " /home/guillaume/Python/cell_migration/saved_data/guillaume/rock_cat.h5  has a stored DF and metadata\n",
        "++++"
       ]
      },
      {
       "output_type": "stream",
       "stream": "stdout",
       "text": [
        " /home/guillaume/Python/cell_migration/saved_data/guillaume/jnk_inhib_dmso_ctrl_121013.h5  has a stored DF and metadata\n",
        "++++"
       ]
      },
      {
       "output_type": "stream",
       "stream": "stdout",
       "text": [
        " /home/guillaume/Python/cell_migration/saved_data/guillaume/wt_early2_281013.h5  has a stored DF and metadata\n",
        "++++"
       ]
      },
      {
       "output_type": "stream",
       "stream": "stdout",
       "text": [
        " /home/guillaume/Python/cell_migration/saved_data/guillaume/dnpvr_dnder_051013.h5  has a stored DF and metadata\n",
        "++++"
       ]
      },
      {
       "output_type": "stream",
       "stream": "stdout",
       "text": [
        " /home/guillaume/Python/cell_migration/saved_data/guillaume/PA_Rac_T17N_260413_before.h5  has a stored DF and metadata\n",
        "++++"
       ]
      },
      {
       "output_type": "stream",
       "stream": "stdout",
       "text": [
        " /home/guillaume/Python/cell_migration/saved_data/guillaume/wt_late_101013.h5  has a stored DF and metadata\n",
        "++++"
       ]
      },
      {
       "output_type": "stream",
       "stream": "stdout",
       "text": [
        " /home/guillaume/Python/cell_migration/saved_data/guillaume/wt_sample1_171113.h5  has a stored DF and metadata\n",
        "++++"
       ]
      },
      {
       "output_type": "stream",
       "stream": "stdout",
       "text": [
        " /home/guillaume/Python/cell_migration/saved_data/guillaume/PA_Rac_T17N_260413_full.h5  has a stored DF and metadata\n",
        "++++"
       ]
      },
      {
       "output_type": "stream",
       "stream": "stdout",
       "text": [
        " /home/guillaume/Python/cell_migration/saved_data/guillaume/wt_iono_080613.h5  has a stored DF and metadata\n",
        "++++"
       ]
      },
      {
       "output_type": "stream",
       "stream": "stdout",
       "text": [
        " /home/guillaume/Python/cell_migration/saved_data/guillaume/jnk_inhibition.h5  has a stored DF and metadata\n",
        "++++"
       ]
      },
      {
       "output_type": "stream",
       "stream": "stdout",
       "text": [
        " /home/guillaume/Python/cell_migration/saved_data/guillaume/wt_270812.h5  has a stored DF and metadata\n",
        "++++"
       ]
      },
      {
       "output_type": "stream",
       "stream": "stdout",
       "text": [
        " /home/guillaume/Python/cell_migration/saved_data/guillaume/wt_sample1_120813.h5  has a stored DF and metadata\n",
        "++++"
       ]
      },
      {
       "output_type": "stream",
       "stream": "stdout",
       "text": [
        " /home/guillaume/Python/cell_migration/saved_data/guillaume/rock_cat2.h5  has a stored DF and metadata\n",
        "++++"
       ]
      },
      {
       "output_type": "stream",
       "stream": "stdout",
       "text": [
        " /home/guillaume/Python/cell_migration/saved_data/guillaume/jnk_inhib_dmso.h5  has a stored DF and metadata\n",
        "Complete files: 61\n"
       ]
      }
     ],
     "prompt_number": 4
    },
    {
     "cell_type": "code",
     "collapsed": false,
     "input": [
      "new_basedir = '/media/data/AnneHDFStores/'\n",
      "\n",
      "correspondances = {'PhysicalSizeX' : 'xy_size',\n",
      "                   'PhysicalSizeY' : 'xy_size',\n",
      "                   'PhysicalSizeZ' : 'z_size',\n",
      "                   'TimeIncrement' : 't_size'}\n",
      "\n",
      "def import_old_stores(h5_name, json_name):\n",
      "    with open(json_name) as jsonfile:\n",
      "        orig_metadata = json.load(jsonfile)\n",
      "\n",
      "    new_metadata = {new: orig_metadata[old] for new, old in correspondances.items()}\n",
      "    try:\n",
      "        tiff_list = load_img_list(orig_metadata['data_path'])\n",
      "        tiff_md = get_metadata(tiff_list[0])\n",
      "        new_metadata.update(tiff_md)\n",
      "    except:\n",
      "        if new_metadata.get('FileName') is None:\n",
      "            new_metadata['FileName'] = os.path.basename(h5_name)\n",
      "        print('Original TIFF files not found for {}'\n",
      "              .format(h5_name))\n",
      "        \n",
      "        #return\n",
      "    new_store_path = os.path.join(new_basedir,\n",
      "                                  os.path.basename(h5_name))\n",
      "    if os.path.isfile(new_store_path):\n",
      "        print(new_store_path, 'already loaded')\n",
      "        print('overwriting')\n",
      "    \n",
      "    with pd.get_store(h5_name) as store:\n",
      "        trajs = store['sorted']\n",
      "        try:\n",
      "            trajs = trajs[['x', 'y', 'z']]#, 'I', 'w']]\n",
      "        except KeyError:\n",
      "            print('Invalid data in {}'\n",
      "                  .format(h5_name))\n",
      "            return\n",
      "    oio = ObjectsIO(metadata=new_metadata,\n",
      "                    store_path=new_store_path)\n",
      "    trajs.index.set_names(['t_stamp', 'label'], inplace=True)\n",
      "    trajs['t'] = trajs.index.get_level_values('t_stamp') * oio.metadata['TimeIncrement']\n",
      "    trajs = Trajectories(trajs)\n",
      "\n",
      "    oio['trajs'] = trajs\n",
      "    print('Saved {}'.format(new_store_path))"
     ],
     "language": "python",
     "metadata": {},
     "outputs": [],
     "prompt_number": 7
    },
    {
     "cell_type": "code",
     "collapsed": false,
     "input": [
      "for h5_name, json_name in zip(complete, complete_jsons):\n",
      "    import_old_stores(h5_name, json_name)\n",
      "\n"
     ],
     "language": "python",
     "metadata": {},
     "outputs": [
      {
       "output_type": "stream",
       "stream": "stdout",
       "text": [
        "/media/data/AnneHDFStores/myosin_rnai2.h5 already loaded\n",
        "overwriting\n",
        "Saved /media/data/AnneHDFStores/myosin_rnai2.h5"
       ]
      },
      {
       "output_type": "stream",
       "stream": "stdout",
       "text": [
        "\n",
        "/media/data/AnneHDFStores/mbs_movie3_221013.h5 already loaded\n",
        "overwriting\n",
        "Saved /media/data/AnneHDFStores/mbs_movie3_221013.h5"
       ]
      },
      {
       "output_type": "stream",
       "stream": "stdout",
       "text": [
        "\n",
        "Original TIFF files not found for /home/guillaume/Python/cell_migration/saved_data/guillaume/PA_Rac_T17N_170413_full.h5\n",
        "/media/data/AnneHDFStores/PA_Rac_T17N_170413_full.h5 already loaded\n",
        "overwriting\n",
        "Saved /media/data/AnneHDFStores/PA_Rac_T17N_170413_full.h5"
       ]
      },
      {
       "output_type": "stream",
       "stream": "stdout",
       "text": [
        "\n",
        "/media/data/AnneHDFStores/wt_early3.h5 already loaded\n",
        "overwriting\n",
        "Saved /media/data/AnneHDFStores/wt_early3.h5"
       ]
      },
      {
       "output_type": "stream",
       "stream": "stdout",
       "text": [
        "\n",
        "Original TIFF files not found for /home/guillaume/Python/cell_migration/saved_data/guillaume/PA_Rac_T17N_170413_after.h5\n",
        "/media/data/AnneHDFStores/PA_Rac_T17N_170413_after.h5 already loaded\n",
        "overwriting\n",
        "Saved /media/data/AnneHDFStores/PA_Rac_T17N_170413_after.h5"
       ]
      },
      {
       "output_type": "stream",
       "stream": "stdout",
       "text": [
        "\n",
        "/media/data/AnneHDFStores/wt_early1_281013.h5 already loaded\n",
        "overwriting\n",
        "Saved /media/data/AnneHDFStores/wt_early1_281013.h5"
       ]
      },
      {
       "output_type": "stream",
       "stream": "stdout",
       "text": [
        "\n",
        "Original TIFF files not found for /home/guillaume/Python/cell_migration/saved_data/guillaume/PA_Rac_150514_full.h5\n",
        "/media/data/AnneHDFStores/PA_Rac_150514_full.h5 already loaded\n",
        "overwriting\n",
        "Saved /media/data/AnneHDFStores/PA_Rac_150514_full.h5"
       ]
      },
      {
       "output_type": "stream",
       "stream": "stdout",
       "text": [
        "\n",
        "/media/data/AnneHDFStores/jnk_inhib.h5 already loaded\n",
        "overwriting\n",
        "Saved /media/data/AnneHDFStores/jnk_inhib.h5"
       ]
      },
      {
       "output_type": "stream",
       "stream": "stdout",
       "text": [
        "\n",
        "/media/data/AnneHDFStores/dnpvr_rock_inhib2.h5 already loaded\n",
        "overwriting\n",
        "Saved /media/data/AnneHDFStores/dnpvr_rock_inhib2.h5"
       ]
      },
      {
       "output_type": "stream",
       "stream": "stdout",
       "text": [
        "\n",
        "/media/data/AnneHDFStores/dnpvr_dndr290913.h5 already loaded\n",
        "overwriting\n",
        "Saved /media/data/AnneHDFStores/dnpvr_dndr290913.h5"
       ]
      },
      {
       "output_type": "stream",
       "stream": "stdout",
       "text": [
        "\n",
        "/media/data/AnneHDFStores/jnk_inhib_iono2.h5 already loaded\n",
        "overwriting\n",
        "Saved /media/data/AnneHDFStores/jnk_inhib_iono2.h5"
       ]
      },
      {
       "output_type": "stream",
       "stream": "stdout",
       "text": [
        "\n",
        "/media/data/AnneHDFStores/wt_earlytolate2.h5 already loaded\n",
        "overwriting\n",
        "Saved /media/data/AnneHDFStores/wt_earlytolate2.h5"
       ]
      },
      {
       "output_type": "stream",
       "stream": "stdout",
       "text": [
        "\n",
        "/media/data/AnneHDFStores/wt_early_171013.h5 already loaded\n",
        "overwriting\n",
        "Saved /media/data/AnneHDFStores/wt_early_171013.h5"
       ]
      },
      {
       "output_type": "stream",
       "stream": "stdout",
       "text": [
        "\n",
        "/media/data/AnneHDFStores/rock_chem_inhib1.h5 already loaded\n",
        "overwriting\n",
        "Saved /media/data/AnneHDFStores/rock_chem_inhib1.h5"
       ]
      },
      {
       "output_type": "stream",
       "stream": "stdout",
       "text": [
        "\n",
        "/media/data/AnneHDFStores/iono_080613.h5 already loaded\n",
        "overwriting\n",
        "Saved /media/data/AnneHDFStores/iono_080613.h5"
       ]
      },
      {
       "output_type": "stream",
       "stream": "stdout",
       "text": [
        "\n",
        "/media/data/AnneHDFStores/rock_rnai3.h5 already loaded\n",
        "overwriting\n",
        "Saved /media/data/AnneHDFStores/rock_rnai3.h5"
       ]
      },
      {
       "output_type": "stream",
       "stream": "stdout",
       "text": [
        "\n",
        "Original TIFF files not found for /home/guillaume/Python/cell_migration/saved_data/guillaume/wt_240812.h5\n",
        "/media/data/AnneHDFStores/wt_240812.h5 already loaded\n",
        "overwriting\n",
        "Saved /media/data/AnneHDFStores/wt_240812.h5"
       ]
      },
      {
       "output_type": "stream",
       "stream": "stdout",
       "text": [
        "\n",
        "/media/data/AnneHDFStores/wt_early2.h5 already loaded\n",
        "overwriting\n",
        "Saved /media/data/AnneHDFStores/wt_early2.h5"
       ]
      },
      {
       "output_type": "stream",
       "stream": "stdout",
       "text": [
        "\n",
        "/media/data/AnneHDFStores/wt_161113.h5 already loaded\n",
        "overwriting\n",
        "Saved /media/data/AnneHDFStores/wt_161113.h5"
       ]
      },
      {
       "output_type": "stream",
       "stream": "stdout",
       "text": [
        "\n",
        "Original TIFF files not found for /home/guillaume/Python/cell_migration/saved_data/guillaume/PA_Rac_180413_before.h5\n",
        "/media/data/AnneHDFStores/PA_Rac_180413_before.h5 already loaded\n",
        "overwriting\n",
        "Saved /media/data/AnneHDFStores/PA_Rac_180413_before.h5"
       ]
      },
      {
       "output_type": "stream",
       "stream": "stdout",
       "text": [
        "\n",
        "/media/data/AnneHDFStores/dnpvr_inhib2.h5 already loaded\n",
        "overwriting\n",
        "Saved /media/data/AnneHDFStores/dnpvr_inhib2.h5"
       ]
      },
      {
       "output_type": "stream",
       "stream": "stdout",
       "text": [
        "\n",
        "/media/data/AnneHDFStores/mbs_270913.h5 already loaded\n",
        "overwriting\n",
        "Saved /media/data/AnneHDFStores/mbs_270913.h5"
       ]
      },
      {
       "output_type": "stream",
       "stream": "stdout",
       "text": [
        "\n",
        "/media/data/AnneHDFStores/dnpvr_dmso_161013.h5 already loaded\n",
        "overwriting\n",
        "Saved /media/data/AnneHDFStores/dnpvr_dmso_161013.h5"
       ]
      },
      {
       "output_type": "stream",
       "stream": "stdout",
       "text": [
        "\n",
        "/media/data/AnneHDFStores/dnpvr_rock_inhib1.h5 already loaded\n",
        "overwriting\n",
        "Saved /media/data/AnneHDFStores/dnpvr_rock_inhib1.h5"
       ]
      },
      {
       "output_type": "stream",
       "stream": "stdout",
       "text": [
        "\n",
        "/media/data/AnneHDFStores/myosin_rnai.h5 already loaded\n",
        "overwriting\n",
        "Saved /media/data/AnneHDFStores/myosin_rnai.h5"
       ]
      },
      {
       "output_type": "stream",
       "stream": "stdout",
       "text": [
        "\n",
        "/media/data/AnneHDFStores/rock_rnai1.h5 already loaded\n",
        "overwriting\n",
        "Saved /media/data/AnneHDFStores/rock_rnai1.h5"
       ]
      },
      {
       "output_type": "stream",
       "stream": "stdout",
       "text": [
        "\n",
        "Original TIFF files not found for /home/guillaume/Python/cell_migration/saved_data/guillaume/PA_Rac_T17N_170413_new.h5\n",
        "/media/data/AnneHDFStores/PA_Rac_T17N_170413_new.h5 already loaded\n",
        "overwriting\n",
        "Saved /media/data/AnneHDFStores/PA_Rac_T17N_170413_new.h5"
       ]
      },
      {
       "output_type": "stream",
       "stream": "stdout",
       "text": [
        "\n",
        "Original TIFF files not found for /home/guillaume/Python/cell_migration/saved_data/guillaume/wt_300712.h5\n",
        "/media/data/AnneHDFStores/wt_300712.h5 already loaded\n",
        "overwriting\n",
        "Saved /media/data/AnneHDFStores/wt_300712.h5"
       ]
      },
      {
       "output_type": "stream",
       "stream": "stdout",
       "text": [
        "\n",
        "/media/data/AnneHDFStores/wt_sample2_171113.h5 already loaded\n",
        "overwriting\n",
        "Saved /media/data/AnneHDFStores/wt_sample2_171113.h5"
       ]
      },
      {
       "output_type": "stream",
       "stream": "stdout",
       "text": [
        "\n",
        "Original TIFF files not found for /home/guillaume/Python/cell_migration/saved_data/guillaume/wt_early1.h5\n",
        "/media/data/AnneHDFStores/wt_early1.h5 already loaded\n",
        "overwriting\n",
        "Saved /media/data/AnneHDFStores/wt_early1.h5"
       ]
      },
      {
       "output_type": "stream",
       "stream": "stdout",
       "text": [
        "\n",
        "Original TIFF files not found for /home/guillaume/Python/cell_migration/saved_data/guillaume/PA_Rac_180413_full.h5\n",
        "/media/data/AnneHDFStores/PA_Rac_180413_full.h5 already loaded\n",
        "overwriting\n",
        "Saved /media/data/AnneHDFStores/PA_Rac_180413_full.h5"
       ]
      },
      {
       "output_type": "stream",
       "stream": "stdout",
       "text": [
        "\n",
        "Original TIFF files not found for /home/guillaume/Python/cell_migration/saved_data/guillaume/PA_Rac_T17N_260413_after.h5\n",
        "/media/data/AnneHDFStores/PA_Rac_T17N_260413_after.h5 already loaded\n",
        "overwriting\n",
        "Saved /media/data/AnneHDFStores/PA_Rac_T17N_260413_after.h5"
       ]
      },
      {
       "output_type": "stream",
       "stream": "stdout",
       "text": [
        "\n",
        "/media/data/AnneHDFStores/mbs_190913.h5 already loaded\n",
        "overwriting\n",
        "Saved /media/data/AnneHDFStores/mbs_190913.h5"
       ]
      },
      {
       "output_type": "stream",
       "stream": "stdout",
       "text": [
        "\n",
        "Original TIFF files not found for /home/guillaume/Python/cell_migration/saved_data/guillaume/PA_Rac_T17N_170413_before.h5\n",
        "/media/data/AnneHDFStores/PA_Rac_T17N_170413_before.h5 already loaded\n",
        "overwriting\n",
        "Saved /media/data/AnneHDFStores/PA_Rac_T17N_170413_before.h5"
       ]
      },
      {
       "output_type": "stream",
       "stream": "stdout",
       "text": [
        "\n",
        "/media/data/AnneHDFStores/flipout_dsred.h5 already loaded\n",
        "overwriting\n",
        "Saved /media/data/AnneHDFStores/flipout_dsred.h5"
       ]
      },
      {
       "output_type": "stream",
       "stream": "stdout",
       "text": [
        "\n",
        "Original TIFF files not found for /home/guillaume/Python/cell_migration/saved_data/guillaume/PA_Rac_150514_before.h5\n",
        "/media/data/AnneHDFStores/PA_Rac_150514_before.h5 already loaded\n",
        "overwriting\n",
        "Saved /media/data/AnneHDFStores/PA_Rac_150514_before.h5"
       ]
      },
      {
       "output_type": "stream",
       "stream": "stdout",
       "text": [
        "\n",
        "/media/data/AnneHDFStores/ionomycin_080613.h5 already loaded\n",
        "overwriting\n",
        "Saved /media/data/AnneHDFStores/ionomycin_080613.h5"
       ]
      },
      {
       "output_type": "stream",
       "stream": "stdout",
       "text": [
        "\n",
        "/media/data/AnneHDFStores/rock_chem_inhib2.h5 already loaded\n",
        "overwriting\n",
        "Saved /media/data/AnneHDFStores/rock_chem_inhib2.h5"
       ]
      },
      {
       "output_type": "stream",
       "stream": "stdout",
       "text": [
        "\n",
        "Original TIFF files not found for /home/guillaume/Python/cell_migration/saved_data/guillaume/PA_Rac_180413_after.h5\n",
        "/media/data/AnneHDFStores/PA_Rac_180413_after.h5 already loaded\n",
        "overwriting\n",
        "Saved /media/data/AnneHDFStores/PA_Rac_180413_after.h5"
       ]
      },
      {
       "output_type": "stream",
       "stream": "stdout",
       "text": [
        "\n",
        "Original TIFF files not found for /home/guillaume/Python/cell_migration/saved_data/guillaume/PA_Rac_150514_after.h5\n",
        "/media/data/AnneHDFStores/PA_Rac_150514_after.h5 already loaded\n",
        "overwriting\n",
        "Saved /media/data/AnneHDFStores/PA_Rac_150514_after.h5"
       ]
      },
      {
       "output_type": "stream",
       "stream": "stdout",
       "text": [
        "\n",
        "/media/data/AnneHDFStores/mbs.h5 already loaded\n",
        "overwriting\n",
        "Saved /media/data/AnneHDFStores/mbs.h5"
       ]
      },
      {
       "output_type": "stream",
       "stream": "stdout",
       "text": [
        "\n",
        "/media/data/AnneHDFStores/jnk_inhib2.h5 already loaded\n",
        "overwriting\n",
        "Saved /media/data/AnneHDFStores/jnk_inhib2.h5"
       ]
      },
      {
       "output_type": "stream",
       "stream": "stdout",
       "text": [
        "\n",
        "/media/data/AnneHDFStores/flipout_gfp.h5 already loaded\n",
        "overwriting\n",
        "Saved /media/data/AnneHDFStores/flipout_gfp.h5"
       ]
      },
      {
       "output_type": "stream",
       "stream": "stdout",
       "text": [
        "\n",
        "/media/data/AnneHDFStores/mbs_2.h5 already loaded\n",
        "overwriting\n",
        "Saved /media/data/AnneHDFStores/mbs_2.h5"
       ]
      },
      {
       "output_type": "stream",
       "stream": "stdout",
       "text": [
        "\n",
        "/media/data/AnneHDFStores/jnk_inhib_iono.h5 already loaded\n",
        "overwriting\n",
        "Saved /media/data/AnneHDFStores/jnk_inhib_iono.h5"
       ]
      },
      {
       "output_type": "stream",
       "stream": "stdout",
       "text": [
        "\n",
        "/media/data/AnneHDFStores/ROCK RNAi 2_DsRed.h5 already loaded\n",
        "overwriting\n",
        "Saved /media/data/AnneHDFStores/ROCK RNAi 2_DsRed.h5"
       ]
      },
      {
       "output_type": "stream",
       "stream": "stdout",
       "text": [
        "\n",
        "/media/data/AnneHDFStores/wt_early3_281013.h5 already loaded\n",
        "overwriting\n",
        "Saved /media/data/AnneHDFStores/wt_early3_281013.h5"
       ]
      },
      {
       "output_type": "stream",
       "stream": "stdout",
       "text": [
        "\n",
        "/media/data/AnneHDFStores/rock_cat.h5 already loaded\n",
        "overwriting\n",
        "Saved /media/data/AnneHDFStores/rock_cat.h5"
       ]
      },
      {
       "output_type": "stream",
       "stream": "stdout",
       "text": [
        "\n",
        "/media/data/AnneHDFStores/jnk_inhib_dmso_ctrl_121013.h5 already loaded\n",
        "overwriting\n",
        "Saved /media/data/AnneHDFStores/jnk_inhib_dmso_ctrl_121013.h5"
       ]
      },
      {
       "output_type": "stream",
       "stream": "stdout",
       "text": [
        "\n",
        "/media/data/AnneHDFStores/wt_early2_281013.h5 already loaded\n",
        "overwriting\n",
        "Saved /media/data/AnneHDFStores/wt_early2_281013.h5"
       ]
      },
      {
       "output_type": "stream",
       "stream": "stdout",
       "text": [
        "\n",
        "/media/data/AnneHDFStores/dnpvr_dnder_051013.h5 already loaded\n",
        "overwriting\n",
        "Saved /media/data/AnneHDFStores/dnpvr_dnder_051013.h5"
       ]
      },
      {
       "output_type": "stream",
       "stream": "stdout",
       "text": [
        "\n",
        "Original TIFF files not found for /home/guillaume/Python/cell_migration/saved_data/guillaume/PA_Rac_T17N_260413_before.h5\n",
        "/media/data/AnneHDFStores/PA_Rac_T17N_260413_before.h5 already loaded\n",
        "overwriting\n",
        "Saved /media/data/AnneHDFStores/PA_Rac_T17N_260413_before.h5"
       ]
      },
      {
       "output_type": "stream",
       "stream": "stdout",
       "text": [
        "\n",
        "/media/data/AnneHDFStores/wt_late_101013.h5 already loaded\n",
        "overwriting\n",
        "Saved /media/data/AnneHDFStores/wt_late_101013.h5"
       ]
      },
      {
       "output_type": "stream",
       "stream": "stdout",
       "text": [
        "\n",
        "/media/data/AnneHDFStores/wt_sample1_171113.h5 already loaded\n",
        "overwriting\n",
        "Saved /media/data/AnneHDFStores/wt_sample1_171113.h5"
       ]
      },
      {
       "output_type": "stream",
       "stream": "stdout",
       "text": [
        "\n",
        "Original TIFF files not found for /home/guillaume/Python/cell_migration/saved_data/guillaume/PA_Rac_T17N_260413_full.h5\n",
        "/media/data/AnneHDFStores/PA_Rac_T17N_260413_full.h5 already loaded\n",
        "overwriting\n",
        "Saved /media/data/AnneHDFStores/PA_Rac_T17N_260413_full.h5"
       ]
      },
      {
       "output_type": "stream",
       "stream": "stdout",
       "text": [
        "\n",
        "/media/data/AnneHDFStores/wt_iono_080613.h5 already loaded\n",
        "overwriting\n",
        "Saved /media/data/AnneHDFStores/wt_iono_080613.h5"
       ]
      },
      {
       "output_type": "stream",
       "stream": "stdout",
       "text": [
        "\n",
        "/media/data/AnneHDFStores/jnk_inhibition.h5 already loaded\n",
        "overwriting\n",
        "Saved /media/data/AnneHDFStores/jnk_inhibition.h5"
       ]
      },
      {
       "output_type": "stream",
       "stream": "stdout",
       "text": [
        "\n",
        "Original TIFF files not found for /home/guillaume/Python/cell_migration/saved_data/guillaume/wt_270812.h5\n",
        "/media/data/AnneHDFStores/wt_270812.h5 already loaded\n",
        "overwriting\n",
        "Saved /media/data/AnneHDFStores/wt_270812.h5"
       ]
      },
      {
       "output_type": "stream",
       "stream": "stdout",
       "text": [
        "\n",
        "/media/data/AnneHDFStores/wt_sample1_120813.h5 already loaded\n",
        "overwriting\n",
        "Saved /media/data/AnneHDFStores/wt_sample1_120813.h5"
       ]
      },
      {
       "output_type": "stream",
       "stream": "stdout",
       "text": [
        "\n",
        "/media/data/AnneHDFStores/rock_cat2.h5 already loaded\n",
        "overwriting\n",
        "Saved /media/data/AnneHDFStores/rock_cat2.h5"
       ]
      },
      {
       "output_type": "stream",
       "stream": "stdout",
       "text": [
        "\n",
        "/media/data/AnneHDFStores/jnk_inhib_dmso.h5 already loaded\n",
        "overwriting\n",
        "Saved /media/data/AnneHDFStores/jnk_inhib_dmso.h5"
       ]
      },
      {
       "output_type": "stream",
       "stream": "stdout",
       "text": [
        "\n"
       ]
      }
     ],
     "prompt_number": 8
    },
    {
     "cell_type": "code",
     "collapsed": false,
     "input": [],
     "language": "python",
     "metadata": {},
     "outputs": [],
     "prompt_number": 43
    }
   ],
   "metadata": {}
  }
 ]
}