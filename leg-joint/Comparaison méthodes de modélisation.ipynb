{
 "cells": [
  {
   "cell_type": "markdown",
   "metadata": {},
   "source": [
    "## Comparaison des différentes classes de modèles\n",
    "\n",
    "Basé sur la revue [L.A. Davidson et al. / Journal of Biomechanics 43 (2010) 63–70](http://dx.doi.org/10.1016/j.jbiomech.2009.09.010)"
   ]
  },
  {
   "cell_type": "markdown",
   "metadata": {},
   "source": [
    "Trois grandes classes de modèles:\n",
    "\n",
    "1. Vertex\n",
    "2. Modèle de Potts cellulaire\n",
    "3. Modèle en éléments finis\n",
    "4. Cyprien et François (modèles continus)\n",
    "\n",
    "#### Vertex\n",
    "\n",
    "C'est le modèle utilisé actuellement pour les simulations de formation du pli.\n",
    "\n",
    "![Vertex model](3D_vertex_geometry.svg)\n",
    "\n",
    "\n",
    "Aspects positifs:\n",
    "\n",
    "* Facile à saisir et à implémenter (peu de paramètres)\n",
    "* Relation très directe image $\\leftrightarrow$ simulation\n",
    "* Adapté pour l'organisation appicale de cellules épithéliales jointives\n",
    "* Adapté à des topologies dynamiques\n",
    "\n",
    "Aspects négatifs:\n",
    "\n",
    "* Limité à des cellules jointives: pas d'EMT\n",
    "* Tout se passe au niveau des jonctions \n",
    "* peu adapté à la prise en compte des événements baso-latéraux\n",
    "* Difficile d'inclure des interaction hors du maillage\n",
    "* Physique peu détaillée\n",
    "\n",
    "\n",
    "\n",
    "#### Modèle de Potts cellulaire\n",
    "\n",
    "Dans cette classe de modèles, **l'espace** est divisé en cubes de taille petite devant la taille des cellules. Chaque cube est assigné à une cellule, et on minimise une énergie sur les faces des cubes, en fonction de leur voisinage (intra-cellulaire / interface). On peut l'envisager comme un système multi-agents.\n",
    "\n",
    "Aspects positifs:\n",
    "\n",
    "* De nombreuses implémentations existent déjà, facile à mettre en œuvre\n",
    "* Adapté à la modélisation de la migration cellulaire dans des approches\n",
    "  en termes de populations de cellules.\n",
    "* Grande souplesse dans la modélisation des intéractions\n",
    "\n",
    "Aspects négatifs:\n",
    "\n",
    "* Mal adapté à des géométries complexes\n",
    "* Mal adapté à la modélisation des interfaces\n",
    "* \"Loin\" des détails bio-physiques des intéractions cellule-cellule\n",
    "* Grande souplesse dans la modélisation des intéractions\n",
    "\n",
    "![Cellular Potts model](potts_model.svg)\n",
    "\n",
    "#### Méthodes par éléments finis\n",
    "\n",
    "C'est la discrétisation d'un système d'équations continues dans l'espace.\n",
    "Dans le cas de la modélisation d'une **couche**, apicale par exemple,\n",
    "la discrétisation est effectuée en découpant le tissu en faces triangulaires.\n",
    "\n",
    "Le maillage est **plus fin** que dans le modèle vertex. Contrairement au modèle de Potts, il est **adaptable**, de manière à décrire plus finement le milieu au voisinage des points de forte variations, par example aux interfaces cellule - cellule.\n",
    "\n",
    "Aspects positifs:\n",
    "\n",
    "* Adapté aux problèmes continus\n",
    "* Fidélité à la géométrie\n",
    "* Proximité avec la réalité biophysique du tissu\n",
    "\n",
    "Aspects négatifs:\n",
    "\n",
    "* Gourmant en temps de calcul (et en temps d'optimisation)\n",
    "* La segementation n'est pas triviale (maillage régulier ou adaptatif, etc.)\n",
    "\n",
    "![Finite elements](finite_elements.svg)\n",
    "\n"
   ]
  },
  {
   "cell_type": "code",
   "execution_count": null,
   "metadata": {
    "collapsed": true
   },
   "outputs": [],
   "source": []
  }
 ],
 "metadata": {
  "kernelspec": {
   "display_name": "Python 3",
   "language": "python",
   "name": "python3"
  },
  "language_info": {
   "codemirror_mode": {
    "name": "ipython",
    "version": 3
   },
   "file_extension": ".py",
   "mimetype": "text/x-python",
   "name": "python",
   "nbconvert_exporter": "python",
   "pygments_lexer": "ipython3",
   "version": "3.4.2"
  }
 },
 "nbformat": 4,
 "nbformat_minor": 0
}
