{
 "metadata": {
  "name": "",
  "signature": "sha256:d442cc1e2a91a401265b0b35f647773b71fc854f151a67f72d2e17770b697f3d"
 },
 "nbformat": 3,
 "nbformat_minor": 0,
 "worksheets": [
  {
   "cells": [
    {
     "cell_type": "code",
     "collapsed": false,
     "input": [
      "import numpy as np\n",
      "import matplotlib.pylab as plt\n",
      "%matplotlib qt4"
     ],
     "language": "python",
     "metadata": {},
     "outputs": [],
     "prompt_number": 1
    },
    {
     "cell_type": "code",
     "collapsed": false,
     "input": [
      "no_fold = np.loadtxt('/home/guillaume/Bureau/Values_nofold.txt')\n",
      "in_fold = np.loadtxt('/home/guillaume/Bureau/Values_infold.txt')\n",
      "\n",
      "no_fold[:, 0] *= 0.41\n",
      "in_fold[:, 0] *= 0.41\n",
      "no_fold[:, 1] = 256 - no_fold[:, 1]\n",
      "in_fold[:, 1] = 256 - in_fold[:, 1]\n"
     ],
     "language": "python",
     "metadata": {},
     "outputs": [],
     "prompt_number": 13
    },
    {
     "cell_type": "code",
     "collapsed": false,
     "input": [
      "fig, ax = plt.subplots()\n",
      "\n",
      "\n",
      "\n",
      "ax.plot(no_fold[:, 0], no_fold[:, 1], 'g-',\n",
      "        lw=1, alpha=0.6, label='1h APF')\n",
      "ax.plot(in_fold[:, 0], in_fold[:, 1], 'm-',\n",
      "        lw=1, alpha=0.6, label='4h APF')\n",
      "ax.legend()\n",
      "\n",
      "start0, stop0 = 0, 190\n",
      "start1, stop1 = 190, 275\n",
      "\n",
      "ax.hlines(no_fold[start0:stop0, 1].mean(),\n",
      "          start0*0.41, stop0*0.41, lw=3, color='g')\n",
      "ax.hlines(no_fold[start1:stop1, 1].mean(),\n",
      "          start1*0.41, stop1*0.41, lw=3, color='g')\n",
      "\n",
      "ax.hlines(in_fold[start0:stop0, 1].mean(),\n",
      "          start0*0.41, stop0*0.41, lw=3, color='m', alpha=0.8)\n",
      "ax.hlines(in_fold[start1:stop1, 1].mean(),\n",
      "          start1*0.41, stop1*0.41, lw=3, color='m', alpha=0.8)\n",
      "\n",
      "\n",
      "ax.set_xlabel('Position along the fold (\u00b5m)')\n",
      "ax.set_ylabel('Intensity')\n",
      "ax.set_ylim(0, 260)"
     ],
     "language": "python",
     "metadata": {},
     "outputs": [
      {
       "metadata": {},
       "output_type": "pyout",
       "prompt_number": 25,
       "text": [
        "(0, 260)"
       ]
      }
     ],
     "prompt_number": 25
    },
    {
     "cell_type": "code",
     "collapsed": false,
     "input": [
      "110/0.4"
     ],
     "language": "python",
     "metadata": {},
     "outputs": [
      {
       "metadata": {},
       "output_type": "pyout",
       "prompt_number": 22,
       "text": [
        "275.0"
       ]
      }
     ],
     "prompt_number": 22
    },
    {
     "cell_type": "code",
     "collapsed": false,
     "input": [],
     "language": "python",
     "metadata": {},
     "outputs": []
    }
   ],
   "metadata": {}
  }
 ]
}