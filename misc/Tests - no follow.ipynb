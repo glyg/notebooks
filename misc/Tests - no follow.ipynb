{
 "metadata": {
  "name": ""
 },
 "nbformat": 3,
 "nbformat_minor": 0,
 "worksheets": [
  {
   "cells": [
    {
     "cell_type": "code",
     "collapsed": false,
     "input": [
      "%load_ext autoreload\n",
      "%autoreload 2"
     ],
     "language": "python",
     "metadata": {},
     "outputs": [],
     "prompt_number": 1
    },
    {
     "cell_type": "code",
     "collapsed": false,
     "input": [
      "import sys\n",
      "sys.path.append(\"../../scikit-tracker/\")"
     ],
     "language": "python",
     "metadata": {},
     "outputs": [],
     "prompt_number": 2
    },
    {
     "cell_type": "code",
     "collapsed": false,
     "input": [
      "from sktracker import data\n",
      "from sktracker.tracker.solver import ByFrameSolver\n",
      "from sktracker.tracker.utils import get_scores_on_trajectories\n",
      "\n",
      "\n",
      "def test_by_frame_solver():\n",
      "\n",
      "    true_trajs = data.brownian_trajs_df()\n",
      "\n",
      "    solver = ByFrameSolver.for_brownian_motion(true_trajs, max_speed=5, penality=2)\n",
      "    trajs = solver.track()\n",
      "\n",
      "    min_chi_square, conserved_trajectories_number, scores = get_scores_on_trajectories(trajs)\n",
      "\n",
      "    assert min_chi_square == 0 and conserved_trajectories_number == 1\n"
     ],
     "language": "python",
     "metadata": {},
     "outputs": [
      {
       "output_type": "stream",
       "stream": "stderr",
       "text": [
        "../../scikit-tracker/sktracker/io/tifffile.py:2178: UserWarning: failed to import _tifffile.decodepackbits\n",
        "  warnings.warn(\"failed to import %s\" % module_function)\n",
        "../../scikit-tracker/sktracker/io/tifffile.py:2178: UserWarning: failed to import _tifffile.decodelzw\n",
        "  warnings.warn(\"failed to import %s\" % module_function)\n",
        "../../scikit-tracker/sktracker/io/tifffile.py:2178: UserWarning: failed to import _tifffile.unpackints\n",
        "  warnings.warn(\"failed to import %s\" % module_function)\n"
       ]
      }
     ],
     "prompt_number": 3
    },
    {
     "cell_type": "code",
     "collapsed": false,
     "input": [
      "cm = np.array([[ 0.02854188,  1.        ],\n",
      "               [ 1.        ,  2.        ]])\n"
     ],
     "language": "python",
     "metadata": {},
     "outputs": [],
     "prompt_number": 4
    },
    {
     "cell_type": "code",
     "collapsed": false,
     "input": [
      "cm[0, 0] + cm[1, 1], cm[0, 1] + cm[1, 0]"
     ],
     "language": "python",
     "metadata": {},
     "outputs": [
      {
       "metadata": {},
       "output_type": "pyout",
       "prompt_number": 6,
       "text": [
        "(2.0285418800000001, 2.0)"
       ]
      }
     ],
     "prompt_number": 6
    },
    {
     "cell_type": "code",
     "collapsed": false,
     "input": [
      "from sktracker.tracker.solver import GapCloseSolver"
     ],
     "language": "python",
     "metadata": {},
     "outputs": [],
     "prompt_number": 6
    },
    {
     "cell_type": "code",
     "collapsed": false,
     "input": [
      "def test_gap_close():\n",
      "\n",
      "    trajs = data.with_gaps_df()\n",
      "    max_speed = 10.\n",
      "    maximum_gap = 5\n",
      "    gc_solver = GapCloseSolver.for_brownian_motion(trajs,\n",
      "                                                   max_speed=max_speed,\n",
      "                                                   maximum_gap=maximum_gap)\n",
      "    gc_solver.track()\n",
      "\n",
      "    seg_shapes = [seg[1].shape for seg in gc_solver.trajs.iter_segments]\n",
      "    assert seg_shapes == [(18, 5), (19, 5), (19, 5)]\n",
      "    return gc_solver"
     ],
     "language": "python",
     "metadata": {},
     "outputs": [],
     "prompt_number": 9
    },
    {
     "cell_type": "code",
     "collapsed": false,
     "input": [
      "gc_solver = test_gap_close()"
     ],
     "language": "python",
     "metadata": {},
     "outputs": [],
     "prompt_number": 10
    },
    {
     "cell_type": "code",
     "collapsed": false,
     "input": [
      "fig, ax = plt.subplots()\n",
      "gc_solver.trajs.show(ax=ax)"
     ],
     "language": "python",
     "metadata": {},
     "outputs": [
      {
       "metadata": {},
       "output_type": "pyout",
       "prompt_number": 11,
       "text": [
        "<matplotlib.axes._subplots.AxesSubplot at 0x7fd5f16fd9d0>"
       ]
      }
     ],
     "prompt_number": 11
    },
    {
     "cell_type": "code",
     "collapsed": false,
     "input": [
      "%pdb"
     ],
     "language": "python",
     "metadata": {},
     "outputs": [
      {
       "output_type": "stream",
       "stream": "stdout",
       "text": [
        "Automatic pdb calling has been turned ON\n"
       ]
      }
     ],
     "prompt_number": 9
    },
    {
     "cell_type": "code",
     "collapsed": false,
     "input": [
      "test_gap_close()"
     ],
     "language": "python",
     "metadata": {},
     "outputs": [],
     "prompt_number": 13
    },
    {
     "cell_type": "code",
     "collapsed": false,
     "input": [],
     "language": "python",
     "metadata": {},
     "outputs": [
      {
       "output_type": "stream",
       "stream": "stdout",
       "text": [
        "Automatic pdb calling has been turned OFF\n"
       ]
      }
     ],
     "prompt_number": 9
    },
    {
     "cell_type": "code",
     "collapsed": false,
     "input": [
      "test_by_frame_solver()"
     ],
     "language": "python",
     "metadata": {},
     "outputs": [],
     "prompt_number": 10
    },
    {
     "cell_type": "code",
     "collapsed": false,
     "input": [
      "true_trajs = data.brownian_trajs_df()\n",
      "\n",
      "solver = ByFrameSolver.for_brownian_motion(true_trajs, max_speed=5, penality=2.)\n",
      "trajs = solver.track()\n",
      "solver.trajs = solver.trajs.reverse()\n",
      "trajs = solver.track()\n",
      "solver.trajs = solver.trajs.reverse()\n",
      "trajs = solver.track()\n",
      "min_chi_square, conserved_trajectories_number, scores = get_scores_on_trajectories(trajs)\n"
     ],
     "language": "python",
     "metadata": {},
     "outputs": [],
     "prompt_number": 11
    },
    {
     "cell_type": "code",
     "collapsed": false,
     "input": [
      "solver.cm.view()"
     ],
     "language": "python",
     "metadata": {},
     "outputs": [
      {
       "metadata": {},
       "output_type": "pyout",
       "prompt_number": 16,
       "text": [
        "<matplotlib.axes._subplots.AxesSubplot at 0x7f86d0412050>"
       ]
      }
     ],
     "prompt_number": 16
    },
    {
     "cell_type": "code",
     "collapsed": false,
     "input": [
      "trajs.show()"
     ],
     "language": "python",
     "metadata": {},
     "outputs": [
      {
       "metadata": {},
       "output_type": "pyout",
       "prompt_number": 12,
       "text": [
        "<matplotlib.axes._subplots.AxesSubplot at 0x7fcc29e64b90>"
       ]
      }
     ],
     "prompt_number": 12
    },
    {
     "cell_type": "code",
     "collapsed": false,
     "input": [
      "solver.max_assigned_cost"
     ],
     "language": "python",
     "metadata": {},
     "outputs": [
      {
       "metadata": {},
       "output_type": "pyout",
       "prompt_number": 7,
       "text": [
        "23.80952380952381"
       ]
      }
     ],
     "prompt_number": 7
    },
    {
     "cell_type": "code",
     "collapsed": false,
     "input": [],
     "language": "python",
     "metadata": {},
     "outputs": []
    }
   ],
   "metadata": {}
  }
 ]
}