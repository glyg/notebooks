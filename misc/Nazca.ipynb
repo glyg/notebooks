{
 "metadata": {
  "name": "",
  "signature": "sha256:f6a667a4cf0c0e837eb660438dc9741b0497231d202a0384a970115c6ca9c925"
 },
 "nbformat": 3,
 "nbformat_minor": 0,
 "worksheets": [
  {
   "cells": [
    {
     "cell_type": "code",
     "collapsed": false,
     "input": [
      "import nazca\n"
     ],
     "language": "python",
     "metadata": {},
     "outputs": [],
     "prompt_number": 1
    },
    {
     "cell_type": "code",
     "collapsed": false,
     "input": [],
     "language": "python",
     "metadata": {},
     "outputs": [
      {
       "metadata": {},
       "output_type": "pyout",
       "prompt_number": 3,
       "text": [
        "<module 'nazca' from '/home/guillaume/python3/lib/python3.3/site-packages/nazca-0.5.1-py3.3.egg/nazca/__init__.py'>"
       ]
      }
     ],
     "prompt_number": 3
    },
    {
     "cell_type": "code",
     "collapsed": false,
     "input": [],
     "language": "python",
     "metadata": {},
     "outputs": []
    }
   ],
   "metadata": {}
  }
 ]
}