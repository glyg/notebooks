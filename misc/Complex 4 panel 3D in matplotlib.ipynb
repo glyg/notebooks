{
 "metadata": {
  "name": "",
  "signature": "sha256:33fff68ae87f92f33fa97f8aef06ad38b39136aae0c9dcf04712cc61b09d7a41"
 },
 "nbformat": 3,
 "nbformat_minor": 0,
 "worksheets": [
  {
   "cells": [
    {
     "cell_type": "markdown",
     "metadata": {},
     "source": [
      "relevant matplotlib issues:\n",
      "\n",
      "* https://github.com/matplotlib/matplotlib/pull/1312\n",
      "* https://github.com/matplotlib/matplotlib/issues/1325\n"
     ]
    },
    {
     "cell_type": "code",
     "collapsed": false,
     "input": [
      "import matplotlib.pyplot as plt\n",
      "import numpy as np\n",
      "from mpl_toolkits.mplot3d import proj3d, Axes3D\n",
      "\n",
      "%matplotlib qt4\n"
     ],
     "language": "python",
     "metadata": {},
     "outputs": [],
     "prompt_number": 1
    },
    {
     "cell_type": "heading",
     "level": 1,
     "metadata": {},
     "source": [
      "Representing a 3D trajectory"
     ]
    },
    {
     "cell_type": "code",
     "collapsed": false,
     "input": [
      "### Create some data - supposed to be x, y, z coordinates\n",
      "data = np.random.normal(scale=0.2, size=(3, 100)).cumsum(axis=1)\n",
      "# put some anisotropy along z to ease orientation\n",
      "data[2, :] /= 3. \n"
     ],
     "language": "python",
     "metadata": {},
     "outputs": [],
     "prompt_number": 2
    },
    {
     "cell_type": "heading",
     "level": 2,
     "metadata": {},
     "source": [
      "The Idea"
     ]
    },
    {
     "cell_type": "markdown",
     "metadata": {},
     "source": [
      "I'm drawing a 2 by 2 plot with three 2D axes and one 3DAxes in the lower left corner like so:\n",
      "```\n",
      "        y|     y|\n",
      "         |___   |___\n",
      "           x      z\n",
      "        z|     z| y\n",
      "         |___   |/__\n",
      "           x      x\n",
      "```\n",
      "\n",
      "Coordinates need to be shared between the three 2D plots, but not with the 3D plot (that doesn't make sense). We also want an `equal` aspect ratio."
     ]
    },
    {
     "cell_type": "markdown",
     "metadata": {},
     "source": [
      "### The following doesn't work well\n",
      "\n",
      "* Zooming and panning behave erratically\n",
      "* the 3D plot aspect ratio is not 'equal'\n",
      "* the 3D plot shares axes with the others"
     ]
    },
    {
     "cell_type": "code",
     "collapsed": false,
     "input": [
      "fig, axes = plt.subplots(2, 2, sharex='col', sharey='row')\n",
      "axes[1, 1].axis('off')\n",
      "ax_3d = fig.add_subplot(224, projection='3d')\n",
      "ax_3d.set_aspect('equal')\n",
      "ax_3d.set_adjustable('box-forced')\n",
      "\n",
      "for ax in axes.ravel():\n",
      "    ax.set_aspect('equal')\n",
      "    ### This makes things worst\n",
      "    #ax.set_adjustable('box-forced')\n",
      "\n",
      "data = np.random.normal(scale=0.2, size=(3, 100)).cumsum(axis=1)\n",
      "# put some anisotropy along z to ease orientation\n",
      "data[2, :] /= 3. \n",
      "\n",
      "axes[0, 0].plot(data[0, :], data[1, :]) #x, y\n",
      "axes[0, 1].plot(data[2, :], data[1, :]) #z, y\n",
      "axes[1, 0].plot(data[0, :], data[2, :]) #x, z\n",
      "\n",
      "ax_3d.plot(data[0, :], data[1, :], data[2, :])\n",
      "#ax_3d.bbox = ax_3d.bbox.shrunk(0.8, 0.8)\n",
      "\n"
     ],
     "language": "python",
     "metadata": {},
     "outputs": [
      {
       "metadata": {},
       "output_type": "pyout",
       "prompt_number": 5,
       "text": [
        "[<mpl_toolkits.mplot3d.art3d.Line3D at 0x7f1815e54ad0>]"
       ]
      }
     ],
     "prompt_number": 5
    },
    {
     "cell_type": "heading",
     "level": 3,
     "metadata": {},
     "source": [
      "This works - except for 3D `'equal'` aspect ratio"
     ]
    },
    {
     "cell_type": "code",
     "collapsed": false,
     "input": [
      "fig = plt.figure(figsize=(6, 6))\n",
      "ax2 = fig.add_subplot(222, aspect='equal')\n",
      "ax3 = fig.add_subplot(223, aspect='equal')\n",
      "ax1 = fig.add_subplot(221, sharey=ax2, sharex=ax3)\n",
      "ax_3d = fig.add_subplot(224, projection='3d')\n",
      "\n",
      "axes = np.array([[ax1, ax2], [ax3, ax_3d]])\n",
      "\n",
      "\n",
      "ax_3d.set_aspect('equal')\n",
      "\n",
      "for ax in axes.ravel():\n",
      "    ax.set_aspect('equal')\n",
      "    ax.grid()\n",
      "    ### This is rather messing things up\n",
      "    #ax.set_adjustable('box-forced')\n",
      "\n",
      "axes[0, 0].plot(data[0, :], data[1, :]) #x, y\n",
      "axes[0, 1].plot(data[2, :], data[1, :]) #z, y\n",
      "axes[1, 0].plot(data[0, :], data[2, :]) #x, z\n",
      "\n",
      "ax_3d.plot(data[0, :], data[1, :], data[2, :])\n",
      "#ax_3d.bbox = ax_3d.bbox.shrunk(0.8, 0.8)\n"
     ],
     "language": "python",
     "metadata": {},
     "outputs": [
      {
       "metadata": {},
       "output_type": "pyout",
       "prompt_number": 8,
       "text": [
        "[<mpl_toolkits.mplot3d.art3d.Line3D at 0x7f18156609d0>]"
       ]
      }
     ],
     "prompt_number": 8
    },
    {
     "cell_type": "code",
     "collapsed": false,
     "input": [],
     "language": "python",
     "metadata": {},
     "outputs": []
    }
   ],
   "metadata": {}
  }
 ]
}