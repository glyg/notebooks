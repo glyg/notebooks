{
 "metadata": {
  "name": "",
  "signature": "sha256:1c76515b5ec32ed79265b4f516e88f45e0bbbeb26c709eaf69550a5cc1a5d3c9"
 },
 "nbformat": 3,
 "nbformat_minor": 0,
 "worksheets": [
  {
   "cells": [
    {
     "cell_type": "heading",
     "level": 1,
     "metadata": {},
     "source": [
      "Variable Inspector Widget"
     ]
    },
    {
     "cell_type": "heading",
     "level": 2,
     "metadata": {},
     "source": [
      "A short example implementation"
     ]
    },
    {
     "cell_type": "markdown",
     "metadata": {},
     "source": [
      "This notebook demonstrates how one can use the widgets already built-in to IPython to create a working variable inspector much like the ones seen in popular commercial scientific computing environments."
     ]
    },
    {
     "cell_type": "code",
     "collapsed": false,
     "input": [
      "from IPython.html import widgets # Loads the Widget framework.\n",
      "from IPython.core.magics.namespace import NamespaceMagics # Used to query namespace.\n",
      "\n",
      "# For this example, hide these names, just to avoid polluting the namespace further\n",
      "get_ipython().user_ns_hidden['widgets'] = widgets\n",
      "get_ipython().user_ns_hidden['NamespaceMagics'] = NamespaceMagics"
     ],
     "language": "python",
     "metadata": {},
     "outputs": [],
     "prompt_number": 1
    },
    {
     "cell_type": "code",
     "collapsed": false,
     "input": [
      "class VariableInspectorWindow(object):\n",
      "    instance = None\n",
      "    \n",
      "    def __init__(self, ipython):\n",
      "        \"\"\"Public constructor.\"\"\"\n",
      "        if VariableInspectorWindow.instance is not None:\n",
      "            raise Exception(\"\"\"Only one instance of the Variable Inspector can exist at a \n",
      "                time.  Call close() on the active instance before creating a new instance.\n",
      "                If you have lost the handle to the active instance, you can re-obtain it\n",
      "                via `VariableInspectorWindow.instance`.\"\"\")\n",
      "        \n",
      "        VariableInspectorWindow.instance = self\n",
      "        self.closed = False\n",
      "        self.namespace = NamespaceMagics()\n",
      "        self.namespace.shell = ipython.kernel.shell\n",
      "        \n",
      "        self._popout = widgets.PopupWidget()\n",
      "        self._popout.description = \"Variable Inspector\"\n",
      "        self._popout.button_text = self._popout.description\n",
      "\n",
      "        self._modal_body = widgets.ContainerWidget()\n",
      "        self._modal_body.set_css('overflow-y', 'scroll')\n",
      "\n",
      "        self._modal_body_label = widgets.HTMLWidget(value = 'Not hooked')\n",
      "        self._modal_body.children = [self._modal_body_label]\n",
      "\n",
      "        self._popout.children = [\n",
      "            self._modal_body, \n",
      "        ]\n",
      "        \n",
      "        self._ipython = ipython\n",
      "        self._ipython.register_post_execute(self._fill)\n",
      "\n",
      "    def close(self):\n",
      "        \"\"\"Close and remove hooks.\"\"\"\n",
      "        if not self.closed:\n",
      "            del self._ipython._post_execute[self._fill]\n",
      "            self._popout.close()\n",
      "            self.closed = True\n",
      "            VariableInspectorWindow.instance = None\n",
      "\n",
      "    def _fill(self):\n",
      "        \"\"\"Fill self with variable information.\"\"\"\n",
      "        values = self.namespace.who_ls()\n",
      "        self._modal_body_label.value = '<table class=\"table table-bordered table-striped\"><tr><th>Name</th><th>Type</th><th>Value</th></tr><tr><td>' + \\\n",
      "            '</td></tr><tr><td>'.join(['{0}</td><td>{1}</td><td>{2}'.format(v, type(eval(v)).__name__, str(eval(v))) for v in values]) + \\\n",
      "            '</td></tr></table>'\n",
      "\n",
      "    def _ipython_display_(self):\n",
      "        \"\"\"Called when display() or pyout is used to display the Variable \n",
      "        Inspector.\"\"\"\n",
      "        self._popout._ipython_display_()\n",
      "        self._popout.add_class('vbox')\n",
      "        self._modal_body.add_class('box-flex1')\n"
     ],
     "language": "python",
     "metadata": {},
     "outputs": [],
     "prompt_number": 2
    },
    {
     "cell_type": "code",
     "collapsed": false,
     "input": [
      "inspector = VariableInspectorWindow(get_ipython())\n",
      "inspector"
     ],
     "language": "python",
     "metadata": {},
     "outputs": [
      {
       "output_type": "stream",
       "stream": "stderr",
       "text": [
        "WARNING: ip.register_post_execute is deprecated, use ip.events.register('post_run_cell', func) instead.\n"
       ]
      }
     ],
     "prompt_number": 3
    },
    {
     "cell_type": "heading",
     "level": 1,
     "metadata": {},
     "source": [
      "Test"
     ]
    },
    {
     "cell_type": "code",
     "collapsed": false,
     "input": [
      "a = 5"
     ],
     "language": "python",
     "metadata": {},
     "outputs": [],
     "prompt_number": 4
    },
    {
     "cell_type": "code",
     "collapsed": false,
     "input": [
      "b = 3.0"
     ],
     "language": "python",
     "metadata": {},
     "outputs": [],
     "prompt_number": 5
    },
    {
     "cell_type": "code",
     "collapsed": false,
     "input": [
      "c = a * b"
     ],
     "language": "python",
     "metadata": {},
     "outputs": [],
     "prompt_number": 6
    },
    {
     "cell_type": "code",
     "collapsed": false,
     "input": [
      "d = \"String\""
     ],
     "language": "python",
     "metadata": {},
     "outputs": [],
     "prompt_number": 7
    },
    {
     "cell_type": "code",
     "collapsed": false,
     "input": [
      "del b"
     ],
     "language": "python",
     "metadata": {},
     "outputs": [],
     "prompt_number": 8
    }
   ],
   "metadata": {}
  }
 ]
}